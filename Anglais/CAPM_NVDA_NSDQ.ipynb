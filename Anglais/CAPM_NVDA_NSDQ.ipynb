{
 "cells": [
  {
   "cell_type": "code",
   "execution_count": 44,
   "id": "1e226e57-7a2d-4dcf-b194-d5b0b8b27edd",
   "metadata": {},
   "outputs": [],
   "source": [
    "import yfinance as yf\n",
    "import numpy as np\n",
    "import scipy as sp\n",
    "import statsmodels.tsa.api as smt\n",
    "import statsmodels.api as sm\n",
    "import matplotlib.pyplot as plt"
   ]
  },
  {
   "cell_type": "code",
   "execution_count": 4,
   "id": "2b27f65f-b139-435a-95a5-a5a73195ba36",
   "metadata": {},
   "outputs": [],
   "source": [
    "tickers = ['NVDA',\"^IXIC\"]"
   ]
  },
  {
   "cell_type": "code",
   "execution_count": 27,
   "id": "3e985704-1717-4c3b-afe6-02e4eab60a73",
   "metadata": {},
   "outputs": [
    {
     "name": "stderr",
     "output_type": "stream",
     "text": [
      "[*********************100%***********************]  2 of 2 completed\n"
     ]
    }
   ],
   "source": [
    "data = yf.download(tickers, start=\"2001-01-01\", end=\"2025-12-31\",multi_level_index=False,auto_adjust=False)"
   ]
  },
  {
   "cell_type": "code",
   "execution_count": 28,
   "id": "ddb894fa-2351-4f02-86c5-323cdc67bfed",
   "metadata": {
    "scrolled": true
   },
   "outputs": [
    {
     "data": {
      "text/plain": [
       "MultiIndex([('Adj Close',  'NVDA'),\n",
       "            ('Adj Close', '^IXIC'),\n",
       "            (    'Close',  'NVDA'),\n",
       "            (    'Close', '^IXIC'),\n",
       "            (     'High',  'NVDA'),\n",
       "            (     'High', '^IXIC'),\n",
       "            (      'Low',  'NVDA'),\n",
       "            (      'Low', '^IXIC'),\n",
       "            (     'Open',  'NVDA'),\n",
       "            (     'Open', '^IXIC'),\n",
       "            (   'Volume',  'NVDA'),\n",
       "            (   'Volume', '^IXIC')],\n",
       "           names=['Price', 'Ticker'])"
      ]
     },
     "execution_count": 28,
     "metadata": {},
     "output_type": "execute_result"
    }
   ],
   "source": [
    "data.columns"
   ]
  },
  {
   "cell_type": "code",
   "execution_count": 40,
   "id": "55525813-9456-42c6-ad65-eec1dcbdf6f6",
   "metadata": {
    "scrolled": true
   },
   "outputs": [
    {
     "data": {
      "text/plain": [
       "(Price      Adj Close\n",
       " Ticker          NVDA\n",
       " Date                \n",
       " 2001-01-02  0.114397\n",
       " 2001-01-03  0.149504\n",
       " 2001-01-04  0.166699\n",
       " 2001-01-05  0.141742\n",
       " 2001-01-08  0.155236,\n",
       " Price         Adj Close\n",
       " Ticker            ^IXIC\n",
       " Date                   \n",
       " 2001-01-02  2291.860107\n",
       " 2001-01-03  2616.689941\n",
       " 2001-01-04  2566.830078\n",
       " 2001-01-05  2407.649902\n",
       " 2001-01-08  2395.919922)"
      ]
     },
     "execution_count": 40,
     "metadata": {},
     "output_type": "execute_result"
    }
   ],
   "source": [
    "NVDA = data[[('Adj Close',  'NVDA')]]\n",
    "NVDA.head()\n",
    "\n",
    "NSDQ = data[[('Adj Close',  '^IXIC')]]\n",
    "NVDA.head(), NSDQ.head()"
   ]
  },
  {
   "cell_type": "code",
   "execution_count": 41,
   "id": "6c4f2b8e-7492-4f3f-8bae-558120833740",
   "metadata": {},
   "outputs": [
    {
     "name": "stderr",
     "output_type": "stream",
     "text": [
      "C:\\Users\\issak\\AppData\\Local\\Temp\\ipykernel_17228\\52597664.py:1: SettingWithCopyWarning: \n",
      "A value is trying to be set on a copy of a slice from a DataFrame.\n",
      "Try using .loc[row_indexer,col_indexer] = value instead\n",
      "\n",
      "See the caveats in the documentation: https://pandas.pydata.org/pandas-docs/stable/user_guide/indexing.html#returning-a-view-versus-a-copy\n",
      "  NVDA['LN_NVDA']= np.log(NVDA['Adj Close']/NVDA['Adj Close'].shift(1))*100\n"
     ]
    },
    {
     "data": {
      "text/html": [
       "<div>\n",
       "<style scoped>\n",
       "    .dataframe tbody tr th:only-of-type {\n",
       "        vertical-align: middle;\n",
       "    }\n",
       "\n",
       "    .dataframe tbody tr th {\n",
       "        vertical-align: top;\n",
       "    }\n",
       "\n",
       "    .dataframe thead tr th {\n",
       "        text-align: left;\n",
       "    }\n",
       "\n",
       "    .dataframe thead tr:last-of-type th {\n",
       "        text-align: right;\n",
       "    }\n",
       "</style>\n",
       "<table border=\"1\" class=\"dataframe\">\n",
       "  <thead>\n",
       "    <tr>\n",
       "      <th>Price</th>\n",
       "      <th>Adj Close</th>\n",
       "      <th>LN_NVDA</th>\n",
       "    </tr>\n",
       "    <tr>\n",
       "      <th>Ticker</th>\n",
       "      <th>NVDA</th>\n",
       "      <th></th>\n",
       "    </tr>\n",
       "    <tr>\n",
       "      <th>Date</th>\n",
       "      <th></th>\n",
       "      <th></th>\n",
       "    </tr>\n",
       "  </thead>\n",
       "  <tbody>\n",
       "    <tr>\n",
       "      <th>2001-01-02</th>\n",
       "      <td>0.114397</td>\n",
       "      <td>NaN</td>\n",
       "    </tr>\n",
       "    <tr>\n",
       "      <th>2001-01-03</th>\n",
       "      <td>0.149504</td>\n",
       "      <td>26.764747</td>\n",
       "    </tr>\n",
       "    <tr>\n",
       "      <th>2001-01-04</th>\n",
       "      <td>0.166699</td>\n",
       "      <td>10.886853</td>\n",
       "    </tr>\n",
       "    <tr>\n",
       "      <th>2001-01-05</th>\n",
       "      <td>0.141742</td>\n",
       "      <td>-16.218429</td>\n",
       "    </tr>\n",
       "    <tr>\n",
       "      <th>2001-01-08</th>\n",
       "      <td>0.155236</td>\n",
       "      <td>9.093767</td>\n",
       "    </tr>\n",
       "  </tbody>\n",
       "</table>\n",
       "</div>"
      ],
      "text/plain": [
       "Price      Adj Close    LN_NVDA\n",
       "Ticker          NVDA           \n",
       "Date                           \n",
       "2001-01-02  0.114397        NaN\n",
       "2001-01-03  0.149504  26.764747\n",
       "2001-01-04  0.166699  10.886853\n",
       "2001-01-05  0.141742 -16.218429\n",
       "2001-01-08  0.155236   9.093767"
      ]
     },
     "execution_count": 41,
     "metadata": {},
     "output_type": "execute_result"
    }
   ],
   "source": [
    "NVDA['LN_NVDA']= np.log(NVDA['Adj Close']/NVDA['Adj Close'].shift(1))*100\n",
    "NVDA.head()"
   ]
  },
  {
   "cell_type": "code",
   "execution_count": 42,
   "id": "ba40b7c3-8cf0-41cb-8f2f-318cfb230739",
   "metadata": {},
   "outputs": [
    {
     "name": "stderr",
     "output_type": "stream",
     "text": [
      "C:\\Users\\issak\\AppData\\Local\\Temp\\ipykernel_17228\\2716281213.py:1: SettingWithCopyWarning: \n",
      "A value is trying to be set on a copy of a slice from a DataFrame.\n",
      "Try using .loc[row_indexer,col_indexer] = value instead\n",
      "\n",
      "See the caveats in the documentation: https://pandas.pydata.org/pandas-docs/stable/user_guide/indexing.html#returning-a-view-versus-a-copy\n",
      "  NSDQ['LN_NSDQ']= np.log(NSDQ['Adj Close']/NSDQ['Adj Close'].shift(1))*100\n"
     ]
    },
    {
     "data": {
      "text/html": [
       "<div>\n",
       "<style scoped>\n",
       "    .dataframe tbody tr th:only-of-type {\n",
       "        vertical-align: middle;\n",
       "    }\n",
       "\n",
       "    .dataframe tbody tr th {\n",
       "        vertical-align: top;\n",
       "    }\n",
       "\n",
       "    .dataframe thead tr th {\n",
       "        text-align: left;\n",
       "    }\n",
       "\n",
       "    .dataframe thead tr:last-of-type th {\n",
       "        text-align: right;\n",
       "    }\n",
       "</style>\n",
       "<table border=\"1\" class=\"dataframe\">\n",
       "  <thead>\n",
       "    <tr>\n",
       "      <th>Price</th>\n",
       "      <th>Adj Close</th>\n",
       "      <th>LN_NSDQ</th>\n",
       "    </tr>\n",
       "    <tr>\n",
       "      <th>Ticker</th>\n",
       "      <th>^IXIC</th>\n",
       "      <th></th>\n",
       "    </tr>\n",
       "    <tr>\n",
       "      <th>Date</th>\n",
       "      <th></th>\n",
       "      <th></th>\n",
       "    </tr>\n",
       "  </thead>\n",
       "  <tbody>\n",
       "    <tr>\n",
       "      <th>2001-01-02</th>\n",
       "      <td>2291.860107</td>\n",
       "      <td>NaN</td>\n",
       "    </tr>\n",
       "    <tr>\n",
       "      <th>2001-01-03</th>\n",
       "      <td>2616.689941</td>\n",
       "      <td>13.254638</td>\n",
       "    </tr>\n",
       "    <tr>\n",
       "      <th>2001-01-04</th>\n",
       "      <td>2566.830078</td>\n",
       "      <td>-1.923843</td>\n",
       "    </tr>\n",
       "    <tr>\n",
       "      <th>2001-01-05</th>\n",
       "      <td>2407.649902</td>\n",
       "      <td>-6.402058</td>\n",
       "    </tr>\n",
       "    <tr>\n",
       "      <th>2001-01-08</th>\n",
       "      <td>2395.919922</td>\n",
       "      <td>-0.488387</td>\n",
       "    </tr>\n",
       "  </tbody>\n",
       "</table>\n",
       "</div>"
      ],
      "text/plain": [
       "Price         Adj Close    LN_NSDQ\n",
       "Ticker            ^IXIC           \n",
       "Date                              \n",
       "2001-01-02  2291.860107        NaN\n",
       "2001-01-03  2616.689941  13.254638\n",
       "2001-01-04  2566.830078  -1.923843\n",
       "2001-01-05  2407.649902  -6.402058\n",
       "2001-01-08  2395.919922  -0.488387"
      ]
     },
     "execution_count": 42,
     "metadata": {},
     "output_type": "execute_result"
    }
   ],
   "source": [
    "NSDQ['LN_NSDQ']= np.log(NSDQ['Adj Close']/NSDQ['Adj Close'].shift(1))*100\n",
    "NSDQ.head()"
   ]
  },
  {
   "cell_type": "code",
   "execution_count": 51,
   "id": "d8a63702-053c-45ba-9079-72181a74f788",
   "metadata": {},
   "outputs": [
    {
     "name": "stdout",
     "output_type": "stream",
     "text": [
      "                            OLS Regression Results                            \n",
      "==============================================================================\n",
      "Dep. Variable:                LN_NVDA   R-squared:                       0.442\n",
      "Model:                            OLS   Adj. R-squared:                  0.442\n",
      "Method:                 Least Squares   F-statistic:                     4802.\n",
      "Date:                Sat, 22 Feb 2025   Prob (F-statistic):               0.00\n",
      "Time:                        22:46:03   Log-Likelihood:                -14436.\n",
      "No. Observations:                6070   AIC:                         2.888e+04\n",
      "Df Residuals:                    6068   BIC:                         2.889e+04\n",
      "Df Model:                           1                                         \n",
      "Covariance Type:            nonrobust                                         \n",
      "==============================================================================\n",
      "                 coef    std err          t      P>|t|      [0.025      0.975]\n",
      "------------------------------------------------------------------------------\n",
      "const          0.0608      0.034      1.813      0.070      -0.005       0.126\n",
      "LN_NSDQ        1.5783      0.023     69.293      0.000       1.534       1.623\n",
      "==============================================================================\n",
      "Omnibus:                     2497.834   Durbin-Watson:                   2.038\n",
      "Prob(Omnibus):                  0.000   Jarque-Bera (JB):           242178.502\n",
      "Skew:                          -1.023   Prob(JB):                         0.00\n",
      "Kurtosis:                      33.877   Cond. No.                         1.47\n",
      "==============================================================================\n",
      "\n",
      "Notes:\n",
      "[1] Standard Errors assume that the covariance matrix of the errors is correctly specified.\n"
     ]
    }
   ],
   "source": [
    "X = NSDQ['LN_NSDQ']\n",
    "Y = NVDA['LN_NVDA']\n",
    "X = sm.add_constant(X)\n",
    "model = sm.OLS(Y,X)\n",
    "resultat = model.fit()\n",
    "print(resultat.summary())"
   ]
  },
  {
   "cell_type": "code",
   "execution_count": 53,
   "id": "9b8c671e-d767-49e7-a019-01c20dbf8bde",
   "metadata": {},
   "outputs": [],
   "source": [
    "beginningtex = \"\"\"\\\\documentclass{report}\n",
    "\\\\usepackage{booktabs}\n",
    "\\\\begin{document}\"\"\"\n",
    "endtex = \"\\'end{document}\"\n",
    "\n",
    "f = open('myreg.tex', 'w')\n",
    "f.write(beginningtex)\n",
    "f.write(resultat.summary().as_latex())\n",
    "f.write(endtex)\n",
    "f.close()"
   ]
  }
 ],
 "metadata": {
  "kernelspec": {
   "display_name": "Python 3 (ipykernel)",
   "language": "python",
   "name": "python3"
  },
  "language_info": {
   "codemirror_mode": {
    "name": "ipython",
    "version": 3
   },
   "file_extension": ".py",
   "mimetype": "text/x-python",
   "name": "python",
   "nbconvert_exporter": "python",
   "pygments_lexer": "ipython3",
   "version": "3.12.7"
  }
 },
 "nbformat": 4,
 "nbformat_minor": 5
}
