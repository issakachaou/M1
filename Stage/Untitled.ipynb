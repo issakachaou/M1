{
 "cells": [
  {
   "cell_type": "code",
   "execution_count": 5,
   "id": "64196068-ff0c-4674-bc94-e2948b40226a",
   "metadata": {
    "tags": []
   },
   "outputs": [
    {
     "ename": "ModuleNotFoundError",
     "evalue": "No module named 'docx'",
     "output_type": "error",
     "traceback": [
      "\u001b[1;31m---------------------------------------------------------------------------\u001b[0m",
      "\u001b[1;31mModuleNotFoundError\u001b[0m                       Traceback (most recent call last)",
      "Cell \u001b[1;32mIn[5], line 2\u001b[0m\n\u001b[0;32m      1\u001b[0m \u001b[38;5;28;01mimport\u001b[39;00m \u001b[38;5;21;01mos\u001b[39;00m\n\u001b[1;32m----> 2\u001b[0m \u001b[38;5;28;01mfrom\u001b[39;00m \u001b[38;5;21;01mdocx\u001b[39;00m \u001b[38;5;28;01mimport\u001b[39;00m Document\n\u001b[0;32m      3\u001b[0m \u001b[38;5;28;01mfrom\u001b[39;00m \u001b[38;5;21;01mdocx2pdf\u001b[39;00m \u001b[38;5;28;01mimport\u001b[39;00m convert\n\u001b[0;32m      5\u001b[0m \u001b[38;5;66;03m# Définition du dossier de sortie pour le PDF\u001b[39;00m\n",
      "\u001b[1;31mModuleNotFoundError\u001b[0m: No module named 'docx'"
     ]
    }
   ],
   "source": [
    "import os\n",
    "from docx import Document\n",
    "from docx2pdf import convert\n",
    "\n",
    "# Définition du dossier de sortie pour le PDF\n",
    "output_folder = \"output_letters\"\n",
    "if not os.path.exists(output_folder):\n",
    "    os.makedirs(output_folder)\n",
    "\n",
    "# Chemins des fichiers\n",
    "word_file_path = os.path.join(output_folder, \"lettre_motivation.docx\")\n",
    "pdf_file_path = os.path.join(output_folder, \"lettre_motivation.pdf\")\n",
    "\n",
    "# Création du modèle Word avec des données dynamiques\n",
    "def create_word_letter(nom_entreprise, adresse_entreprise, poste):\n",
    "    doc = Document()\n",
    "    \n",
    "    doc.add_paragraph(f\"Entreprise : {nom_entreprise}\")\n",
    "    doc.add_paragraph(f\"Adresse : {adresse_entreprise}\")\n",
    "    doc.add_paragraph(\"\\nMadame, Monsieur,\\n\")\n",
    "    \n",
    "    doc.add_paragraph(f\"Je me permets de vous adresser ma candidature pour le poste de {poste} au sein de votre entreprise.\")\n",
    "    \n",
    "    doc.add_paragraph(\"\\nJe me tiens à votre disposition pour convenir d’un éventuel entretien, \"\n",
    "                      \"au cours duquel je pourrais vous exposer plus en détail mes motivations ainsi que \"\n",
    "                      \"les compétences que je suis prêt à mettre à votre service.\")\n",
    "    \n",
    "    doc.add_paragraph(\"\\nCordialement,\")\n",
    "    \n",
    "    doc.save(word_file_path)\n",
    "\n",
    "# Données dynamiques pour la lettre\n",
    "data = {\n",
    "    \"nom_entreprise\": \"Entreprise XYZ\",\n",
    "    \"adresse_entreprise\": \"12 Avenue des Champs, 75000 Paris\",\n",
    "    \"poste\": \"Analyste Financier\"\n",
    "}\n",
    "\n",
    "# Générer le fichier Word avec les données\n",
    "create_word_letter(data[\"nom_entreprise\"], data[\"adresse_entreprise\"], data[\"poste\"])\n",
    "\n",
    "# Convertir le fichier Word en PDF\n",
    "convert(word_file_path)\n",
    "\n",
    "print(f\"PDF généré avec succès : {pdf_file_path}\")\n",
    "\n",
    "# Optionnel : suppression du fichier .docx après la conversion\n",
    "os.remove(word_file_path)\n"
   ]
  },
  {
   "cell_type": "code",
   "execution_count": null,
   "id": "9f53834d-4c9f-4c6b-9105-ddd451448329",
   "metadata": {},
   "outputs": [],
   "source": [
    "pip install od"
   ]
  }
 ],
 "metadata": {
  "kernelspec": {
   "display_name": "Python 3 (ipykernel)",
   "language": "python",
   "name": "python3"
  },
  "language_info": {
   "codemirror_mode": {
    "name": "ipython",
    "version": 3
   },
   "file_extension": ".py",
   "mimetype": "text/x-python",
   "name": "python",
   "nbconvert_exporter": "python",
   "pygments_lexer": "ipython3",
   "version": "3.11.4"
  }
 },
 "nbformat": 4,
 "nbformat_minor": 5
}
