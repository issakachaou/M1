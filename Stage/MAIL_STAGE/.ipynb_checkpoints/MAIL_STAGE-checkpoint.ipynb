{
 "cells": [
  {
   "cell_type": "markdown",
   "id": "f1571586",
   "metadata": {},
   "source": [
    "# Mail 1 : Réponse pour un mail d'étude de candidature"
   ]
  },
  {
   "cell_type": "code",
   "execution_count": 1,
   "id": "37d99174",
   "metadata": {},
   "outputs": [
    {
     "name": "stdout",
     "output_type": "stream",
     "text": [
      "Bonjour Monsieur De La Salle,\n",
      " \n",
      "Merci pour votre retour et pour l’attention portée à ma candidature.\n",
      " \n",
      "Je suis ravi à l’idée que mon profil puisse potentiellement contribuer aux ambitions de Mansio. Je reste à votre disposition pour toute information complémentaire ou pour échanger lors d’un éventuel entretien.\n",
      " \n",
      "Dans l’attente de votre retour, je vous remercie encore pour cette opportunité et vous souhaite une excellente journée.\n",
      " \n",
      "Respectueusement,\n",
      "Issa Kachaou\n"
     ]
    }
   ],
   "source": [
    "debut = \"Bonjour \" \n",
    "\n",
    "destinataire = \"Monsieur De La Salle\"+\",\\n \\n\"\n",
    "\n",
    "m1_1 = \"Merci pour votre retour et pour l’attention portée à ma candidature.\\n \\nJe suis ravi à l’idée que mon profil puisse potentiellement contribuer aux ambitions de \"\n",
    "\n",
    "nom_entreprise = \"Mansio\"+\". \"\n",
    "\n",
    "m1_2 = \"Je reste à votre disposition pour toute information complémentaire ou pour échanger lors d’un éventuel entretien.\\n \\nDans l’attente de votre retour, je vous remercie encore pour cette opportunité et vous souhaite une excellente journée.\"\n",
    "\n",
    "fin = \"\\n \\nRespectueusement,\\nIssa Kachaou\"\n",
    "\n",
    "print(debut + destinataire + m1_1 + nom_entreprise + m1_2 + fin)"
   ]
  },
  {
   "cell_type": "code",
   "execution_count": 2,
   "id": "09964c9c",
   "metadata": {},
   "outputs": [],
   "source": [
    "def mail_1(destinataire, nom_entreprise):\n",
    "    \n",
    "    debut = \"Bonjour \" \n",
    "    \n",
    "    #destinataire = \"Monsieur De La Salle\"+\",\\n \\n\"\n",
    "\n",
    "    m1_1 = \"Je vous remercie pour votre retour concernant ma candidature. \\n \\nJe suis ravi à l’idée que mon profil puisse potentiellement contribuer aux ambitions de \"\n",
    "\n",
    "    #nom_entreprise = \"Mansio\"+\". \"\n",
    "\n",
    "    m1_2 = \"Je reste à votre disposition pour toute information complémentaire ou pour échanger lors d’un éventuel entretien.\\n \\nDans l’attente de votre retour, je vous remercie encore pour cette opportunité et vous souhaite une excellente journée.\"\n",
    "\n",
    "    #fin = \"\\n \\nRespectueusement,\\nIssa Kachaou\"\n",
    "\n",
    "    return print(debut + destinataire +\",\\n \\n\" + m1_1 + nom_entreprise +\". \" + m1_2 + fin)\n",
    "    "
   ]
  },
  {
   "cell_type": "code",
   "execution_count": 3,
   "id": "8acec23a",
   "metadata": {
    "scrolled": true
   },
   "outputs": [
    {
     "name": "stdout",
     "output_type": "stream",
     "text": [
      "Bonjour Madame X,\n",
      " \n",
      "Je vous remercie pour votre retour concernant ma candidature. \n",
      " \n",
      "Je suis ravi à l’idée que mon profil puisse potentiellement contribuer aux ambitions de Orange. Je reste à votre disposition pour toute information complémentaire ou pour échanger lors d’un éventuel entretien.\n",
      " \n",
      "Dans l’attente de votre retour, je vous remercie encore pour cette opportunité et vous souhaite une excellente journée.\n",
      " \n",
      "Respectueusement,\n",
      "Issa Kachaou\n"
     ]
    }
   ],
   "source": [
    "des2 = \"Madame X\"\n",
    "en = \"Orange\"\n",
    "mail_1(des2,en)"
   ]
  },
  {
   "cell_type": "markdown",
   "id": "db1e0860",
   "metadata": {},
   "source": [
    "# Mail 2 : Réponse pour un demande de disponibilité"
   ]
  },
  {
   "cell_type": "markdown",
   "id": "cf569c08",
   "metadata": {},
   "source": [
    "## Confirmation échange téléphonique"
   ]
  },
  {
   "cell_type": "code",
   "execution_count": 5,
   "id": "a673664e-805c-416b-9559-86930e605f0a",
   "metadata": {},
   "outputs": [],
   "source": [
    "def mail_2(destinataire, date, heure):\n",
    "    #destinataire = \"Monsieur De La Salle\"+\",\\n \\n\"\n",
    "\n",
    "    m2_1 = \"Je vous remercie pour votre retour concernant ma candidature. \\n \\nJe vous confirme ma disponibilité pour un échange téléphonique \"\n",
    "\n",
    "    #date = \"Mecredi 15 janvier à \"\n",
    "\n",
    "    #heure = \"10h00\"\n",
    "\n",
    "    m2_2 = \"Vous pourrez me joindre au 06 95 32 45 02 à l’heure convenue.\\n \\nDans l’attente de cet entretien, je reste à votre disposition si vous avez besoin d’informations complémentaires.\"\n",
    "    \n",
    "    return print(debut + destinataire +\",\\n \\n\"  + m2_1 + date +\" \"+\"à\"+\" \" + heure +\". \" + m2_2 + fin)"
   ]
  },
  {
   "cell_type": "code",
   "execution_count": 13,
   "id": "bbcb9c27",
   "metadata": {
    "scrolled": false
   },
   "outputs": [
    {
     "name": "stdout",
     "output_type": "stream",
     "text": [
      "Bonjour Madame Guerin,\n",
      " \n",
      "Je vous remercie pour votre retour concernant ma candidature. \n",
      " \n",
      "Je vous confirme ma disponibilité pour un entretien mardi 21 janvier à 15h00. Vous pourrez me joindre au 06 95 32 45 02 à l’heure convenue.\n",
      " \n",
      "Dans l’attente de cet entretien, je reste à votre disposition si vous avez besoin d’informations complémentaires.\n",
      " \n",
      "Respectueusement,\n",
      "Issa Kachaou\n"
     ]
    }
   ],
   "source": [
    "des3 = \"Madame Guerin\"\n",
    "d1 = \"mardi 21 janvier\"\n",
    "h1 = \"15h00\"\n",
    "\n",
    "mail_2(des3,d1,h1)"
   ]
  },
  {
   "cell_type": "markdown",
   "id": "e507aa2f",
   "metadata": {},
   "source": [
    "## Confirmation entretien"
   ]
  },
  {
   "cell_type": "code",
   "execution_count": 17,
   "id": "a3d54a6f",
   "metadata": {},
   "outputs": [],
   "source": [
    "def mail_3(destinataire, date, heure):\n",
    "    #destinataire = \"Monsieur De La Salle\"+\",\\n \\n\"\n",
    "\n",
    "    m2_1 = \"Je vous remercie pour votre retour concernant ma candidature. \\n \\nJe vous confirme ma disponibilité pour un entretien \"\n",
    "\n",
    "    #date = \"Mecredi 15 janvier à \"\n",
    "\n",
    "    #heure = \"10h00\"\n",
    "\n",
    "    m2_2 = \"Vous pourrez me joindre au 06 95 32 45 02 à l’heure convenue.\\n \\nDans l’attente de cet entretien, je reste à votre disposition si vous avez besoin d’informations complémentaires.\"\n",
    "    \n",
    "    return print(debut + destinataire +\",\\n \\n\"  + m2_1 + date +\" \"+\"à\"+\" \" + heure +\". \" + m2_2 + fin)"
   ]
  },
  {
   "cell_type": "code",
   "execution_count": 19,
   "id": "cc90aa11",
   "metadata": {},
   "outputs": [
    {
     "name": "stdout",
     "output_type": "stream",
     "text": [
      "Bonjour Monsieur Durand,\n",
      " \n",
      "Je vous remercie pour votre retour concernant ma candidature. \n",
      " \n",
      "Je vous confirme ma disponibilité pour un entretien vendredi 17 janvier à 10h15. Vous pourrez me joindre au 06 95 32 45 02 à l’heure convenue.\n",
      " \n",
      "Dans l’attente de cet entretien, je reste à votre disposition si vous avez besoin d’informations complémentaires.\n",
      " \n",
      "Respectueusement,\n",
      "Issa Kachaou\n"
     ]
    }
   ],
   "source": [
    "destinataire = \"Monsieur Durand\"\n",
    "date = \"vendredi 17 janvier\"\n",
    "heure =\"10h15\"\n",
    "mail_3(destinataire,date,heure)"
   ]
  },
  {
   "cell_type": "markdown",
   "id": "7838debd",
   "metadata": {},
   "source": [
    "## Confirmation d'invitation teams"
   ]
  },
  {
   "cell_type": "code",
   "execution_count": 15,
   "id": "196fc7b8",
   "metadata": {},
   "outputs": [],
   "source": [
    "def mail_4(destinataire):\n",
    "    m3_1 = \"Je vous confirme avoir bien reçu l’invitation Teams.\"\n",
    "\n",
    "    m1_2 = \"Je reste à votre disposition pour toute information complémentaire.\"\n",
    "    fin = \"\\n \\nRespectueusement,\\nIssa Kachaou\"\n",
    "\n",
    "    return print(debut +destinataire +',\\n \\n'+ m3_1 + '\\n \\n' + m1_2 + fin)    "
   ]
  },
  {
   "cell_type": "code",
   "execution_count": 16,
   "id": "441919bd",
   "metadata": {
    "scrolled": true,
    "tags": []
   },
   "outputs": [
    {
     "name": "stdout",
     "output_type": "stream",
     "text": [
      "Bonjour Monsieur YEs,\n",
      " \n",
      "Je vous confirme avoir bien reçu l’invitation Teams.\n",
      " \n",
      "Je reste à votre disposition pour toute information complémentaire.\n",
      " \n",
      "Respectueusement,\n",
      "Issa Kachaou\n"
     ]
    }
   ],
   "source": [
    "des4 = \"Monsieur YEs\"\n",
    "mail_4(des4)"
   ]
  },
  {
   "cell_type": "markdown",
   "id": "9100c83a",
   "metadata": {},
   "source": [
    "# Mail 3 : Avoir une justification pour un refus"
   ]
  },
  {
   "cell_type": "code",
   "execution_count": 25,
   "id": "9def8d4a",
   "metadata": {},
   "outputs": [],
   "source": [
    "def mail_5(destinataire):\n",
    "\n",
    "    m5_1 = \"Je vous remercie pour votre retour concernant ma candidature.\" \n",
    "    \n",
    "    m5_2 = \"Afin de m’améliorer dans mes futures démarches, je serais très reconnaissant si vous pouviez m’apporter quelques précisions sur les raisons de ce refus. Cela me permettrait de mieux comprendre les attentes de votre entreprise et de travailler sur les points nécessaires.\"\n",
    "\n",
    "    m5_3 = \"Je reste à votre disposition pour toute information complémentaire.\"\n",
    "    fin = \"\\n \\nRespectueusement,\\nIssa Kachaou\"\n",
    "\n",
    "    return print(debut +destinataire +',\\n \\n'+ m5_1 + '\\n \\n' + m5_2 + '\\n \\n' + m5_3 +fin)    "
   ]
  },
  {
   "cell_type": "code",
   "execution_count": 27,
   "id": "275762a3",
   "metadata": {
    "scrolled": true
   },
   "outputs": [
    {
     "name": "stdout",
     "output_type": "stream",
     "text": [
      "Bonjour Madame Azizi-Bouaziani,\n",
      " \n",
      "Je vous remercie pour votre retour concernant ma candidature.\n",
      " \n",
      "Afin de m’améliorer dans mes futures démarches, je serais très reconnaissant si vous pouviez m’apporter quelques précisions sur les raisons de ce refus. Cela me permettrait de mieux comprendre les attentes de votre entreprise et de travailler sur les points nécessaires.\n",
      " \n",
      "Je reste à votre disposition pour toute information complémentaire.\n",
      " \n",
      "Respectueusement,\n",
      "Issa Kachaou\n"
     ]
    }
   ],
   "source": [
    "destinataire_1 = \"Madame Azizi-Bouaziani\"\n",
    "\n",
    "mail_5(destinataire_1)"
   ]
  },
  {
   "cell_type": "code",
   "execution_count": 45,
   "id": "877eef58",
   "metadata": {},
   "outputs": [],
   "source": [
    "import tkinter as tk\n",
    "from tkinter import messagebox\n",
    "import pyperclip\n",
    "\n",
    "def generate_email(mail_type, destinataire, entreprise=None, date=None, heure=None):\n",
    "    debut = \"Bonjour \"\n",
    "    fin = \"\\n\\nRespectueusement,\\nIssa Kachaou\"\n",
    "\n",
    "    if mail_type == \"Réponse pour un mail d'étude de candidature\":\n",
    "        m1_1 = \"Merci pour votre retour et pour l’attention portée à ma candidature.\\n\\nJe suis ravi à l’idée que mon profil puisse potentiellement contribuer aux ambitions de \"\n",
    "        m1_2 = \"Je reste à votre disposition pour toute information complémentaire ou pour échanger lors d’un éventuel entretien.\\n\\nDans l’attente de votre retour, je vous remercie encore pour cette opportunité et vous souhaite une excellente journée.\"\n",
    "        email_content = debut + destinataire + \",\\n\\n\" + m1_1 + entreprise + \". \" + m1_2 + fin\n",
    "\n",
    "    elif mail_type == \"Confirmation échange téléphonique\":\n",
    "        m2_1 = \"Je vous remercie pour votre retour concernant ma candidature.\\n\\nJe vous confirme ma disponibilité pour un échange téléphonique \"\n",
    "        m2_2 = \"Vous pourrez me joindre au 06 95 32 45 02 à l’heure convenue.\\n\\nDans l’attente de cet entretien, je reste à votre disposition si vous avez besoin d’informations complémentaires.\"\n",
    "        email_content = debut + destinataire + \",\\n\\n\" + m2_1 + date + \" à \" + heure + \". \" + m2_2 + fin\n",
    "\n",
    "    elif mail_type == \"Confirmation entretien\":\n",
    "        m2_1 = \"Je vous remercie pour votre retour concernant ma candidature.\\n\\nJe vous confirme ma disponibilité pour un entretien \"\n",
    "        m2_2 = \"Vous pourrez me joindre au 06 95 32 45 02 à l’heure convenue.\\n\\nDans l’attente de cet entretien, je reste à votre disposition si vous avez besoin d’informations complémentaires.\"\n",
    "        email_content = debut + destinataire + \",\\n\\n\" + m2_1 + date + \" à \" + heure + \". \" + m2_2 + fin\n",
    "\n",
    "    elif mail_type == \"Confirmation d'invitation teams\":\n",
    "        m3_1 = \"Je vous confirme avoir bien reçu l’invitation Teams.\"\n",
    "        m1_2 = \"Je reste à votre disposition pour toute information complémentaire.\"\n",
    "        email_content = debut + destinataire + ',\\n\\n' + m3_1 + '\\n\\n' + m1_2 + fin\n",
    "\n",
    "    elif mail_type == \"Avoir une justification pour un refus\":\n",
    "        m5_1 = \"Je vous remercie pour votre retour concernant ma candidature.\"\n",
    "        m5_2 = \"Afin de m’améliorer dans mes futures démarches, je serais très reconnaissant si vous pouviez m’apporter quelques précisions sur les raisons de ce refus. Cela me permettrait de mieux comprendre les attentes de votre entreprise et de travailler sur les points nécessaires.\"\n",
    "        m5_3 = \"Je reste à votre disposition pour toute information complémentaire.\"\n",
    "        email_content = debut + destinataire + ',\\n\\n' + m5_1 + '\\n\\n' + m5_2 + '\\n\\n' + m5_3 + fin\n",
    "\n",
    "    # Afficher le contenu dans le cadre de sortie\n",
    "    output_text.delete(1.0, tk.END)  # Effacer le texte précédent\n",
    "    output_text.insert(tk.END, email_content)  # Insérer le nouveau contenu\n",
    "    #pyperclip.copy(email_content)  # Copier le contenu dans le presse-papiers\n",
    "    messagebox.showinfo(\"Email généré\", \"L'email a été copié dans le presse-papiers.\")\n",
    "\n",
    "# Création de la fenêtre principale\n",
    "root = tk.Tk()\n",
    "root.title(\"Générateur d'Email\")\n",
    "\n",
    "# Ajout des champs d'entrée\n",
    "tk.Label(root, text=\"Type de mail:\").grid(row=0, column=0)\n",
    "mail_type_var = tk.StringVar(value=\"Type de Mail\")\n",
    "tk.OptionMenu(root, mail_type_var, \"Réponse pour un mail d'étude de candidature\", \"Confirmation échange téléphonique\", \"Confirmation entretien\", \"Confirmation d'invitation teams\", \"Avoir une justification pour un refus\").grid(row=0, column=1)\n",
    "\n",
    "tk.Label(root, text=\"Destinataire:\").grid(row=1, column=0)\n",
    "destinataire_entry = tk.Entry(root)\n",
    "destinataire_entry.grid(row=1, column=1)\n",
    "\n",
    "tk.Label(root, text=\"Nom de l'entreprise:\").grid(row=2, column=0)\n",
    "entreprise_entry = tk.Entry(root)\n",
    "entreprise_entry.grid(row=2, column=1)\n",
    "\n",
    "tk.Label(root, text=\"Date:\").grid(row=3, column=0)\n",
    "date_entry = tk.Entry(root)\n",
    "date_entry.grid(row=3, column=1)\n",
    "\n",
    "tk.Label(root, text=\"Heure:\").grid(row=4, column=0)\n",
    "heure_entry = tk.Entry(root)\n",
    "heure_entry.grid(row=4, column=1)\n",
    "\n",
    "# Cadre de sortie pour afficher l'email\n",
    "output_text = tk.Text(root, width=60, height=15) #60,15\n",
    "output_text.grid(row=6, columnspan=2, padx=10, pady=10)\n",
    "\n",
    "# Bouton pour générer l'email\n",
    "generate_button = tk.Button(root, text=\"Générer Email\", command=lambda: generate_email(\n",
    "    mail_type_var.get(),\n",
    "    destinataire_entry.get(),\n",
    "    entreprise_entry.get(),\n",
    "    date_entry.get(),\n",
    "    heure_entry.get()\n",
    "))\n",
    "generate_button.grid(row=5, columnspan=2)\n",
    "\n",
    "# Lancement de la boucle principale\n",
    "root.mainloop()\n"
   ]
  }
 ],
 "metadata": {
  "kernelspec": {
   "display_name": "Python 3 (ipykernel)",
   "language": "python",
   "name": "python3"
  },
  "language_info": {
   "codemirror_mode": {
    "name": "ipython",
    "version": 3
   },
   "file_extension": ".py",
   "mimetype": "text/x-python",
   "name": "python",
   "nbconvert_exporter": "python",
   "pygments_lexer": "ipython3",
   "version": "3.11.4"
  },
  "toc": {
   "base_numbering": 1,
   "nav_menu": {},
   "number_sections": true,
   "sideBar": true,
   "skip_h1_title": false,
   "title_cell": "Table of Contents",
   "title_sidebar": "Contents",
   "toc_cell": false,
   "toc_position": {
    "height": "calc(100% - 180px)",
    "left": "10px",
    "top": "150px",
    "width": "363.6px"
   },
   "toc_section_display": true,
   "toc_window_display": true
  }
 },
 "nbformat": 4,
 "nbformat_minor": 5
}
