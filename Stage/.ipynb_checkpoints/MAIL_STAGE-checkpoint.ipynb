{
 "cells": [
  {
   "cell_type": "markdown",
   "id": "f1571586",
   "metadata": {},
   "source": [
    "# Mail 1 : Réponse pour un mail d'étude de candidature"
   ]
  },
  {
   "cell_type": "code",
   "execution_count": 4,
   "id": "37d99174",
   "metadata": {
    "scrolled": false
   },
   "outputs": [
    {
     "name": "stdout",
     "output_type": "stream",
     "text": [
      "Bonjour Monsieur De La Salle,\n",
      " \n",
      "Merci pour votre retour et pour l’attention portée à ma candidature.\n",
      " \n",
      "Je suis ravi à l’idée que mon profil puisse potentiellement contribuer aux ambitions de Mansio. Je reste à votre disposition pour toute information complémentaire ou pour échanger lors d’un éventuel entretien.\n",
      " \n",
      "Dans l’attente de votre retour, je vous remercie encore pour cette opportunité et vous souhaite une excellente journée.\n",
      " \n",
      "Respectueusment,\n",
      "Issa Kachaou\n"
     ]
    }
   ],
   "source": [
    "debut = \"Bonjour \" \n",
    "\n",
    "destinataire = \"Monsieur De La Salle\"+\",\\n \\n\"\n",
    "\n",
    "m1_1 = \"Merci pour votre retour et pour l’attention portée à ma candidature.\\n \\nJe suis ravi à l’idée que mon profil puisse potentiellement contribuer aux ambitions de \"\n",
    "\n",
    "nom_entreprise = \"Mansio\"+\". \"\n",
    "\n",
    "m1_2 = \"Je reste à votre disposition pour toute information complémentaire ou pour échanger lors d’un éventuel entretien.\\n \\nDans l’attente de votre retour, je vous remercie encore pour cette opportunité et vous souhaite une excellente journée.\"\n",
    "\n",
    "fin = \"\\n \\nRespectueusment,\\nIssa Kachaou\"\n",
    "\n",
    "print(debut + destinataire + m1_1 + nom_entreprise + m1_2 + fin)"
   ]
  },
  {
   "cell_type": "code",
   "execution_count": 5,
   "id": "09964c9c",
   "metadata": {},
   "outputs": [],
   "source": [
    "def mail_1(destinataire, nom_entreprise):\n",
    "    \n",
    "    debut = \"Bonjour \" \n",
    "    \n",
    "    #destinataire = \"Monsieur De La Salle\"+\",\\n \\n\"\n",
    "\n",
    "    m1_1 = \"Je vous remercie pour votre retour concernant ma candidature. \\n \\nJe suis ravi à l’idée que mon profil puisse potentiellement contribuer aux ambitions de \"\n",
    "\n",
    "    #nom_entreprise = \"Mansio\"+\". \"\n",
    "\n",
    "    m1_2 = \"Je reste à votre disposition pour toute information complémentaire ou pour échanger lors d’un éventuel entretien.\\n \\nDans l’attente de votre retour, je vous remercie encore pour cette opportunité et vous souhaite une excellente journée.\"\n",
    "\n",
    "    fin = \"\\n \\nRespectueusment,\\nIssa Kachaou\"\n",
    "\n",
    "    return print(debut + destinataire +\",\\n \\n\" + m1_1 + nom_entreprise +\". \" + m1_2 + fin)\n",
    "    "
   ]
  },
  {
   "cell_type": "code",
   "execution_count": 6,
   "id": "8acec23a",
   "metadata": {
    "scrolled": true
   },
   "outputs": [
    {
     "name": "stdout",
     "output_type": "stream",
     "text": [
      "Bonjour Madame X,\n",
      " \n",
      "Je vous remercie pour votre retour concernant ma candidature. \n",
      " \n",
      "Je suis ravi à l’idée que mon profil puisse potentiellement contribuer aux ambitions de Orange. Je reste à votre disposition pour toute information complémentaire ou pour échanger lors d’un éventuel entretien.\n",
      " \n",
      "Dans l’attente de votre retour, je vous remercie encore pour cette opportunité et vous souhaite une excellente journée.\n",
      " \n",
      "Respectueusment,\n",
      "Issa Kachaou\n"
     ]
    }
   ],
   "source": [
    "des2 = \"Madame X\"\n",
    "en = \"Orange\"\n",
    "mail_1(des2,en)"
   ]
  },
  {
   "cell_type": "markdown",
   "id": "db1e0860",
   "metadata": {},
   "source": [
    "# Mail 2 : Réponse pour un demande de disponibilité"
   ]
  },
  {
   "cell_type": "markdown",
   "id": "9fee49ff",
   "metadata": {},
   "source": [
    "Je vous remercie pour votre retour concernant ma candidature.\n",
    "Je vous confirme ma disponibilité pour un échange téléphonique ce mercredi à 10h00. Vous pourrez me joindre au 06 95 32 45 02 à l’heure convenue.\n",
    "Dans l’attente de cet entretien, je reste à votre disposition si vous avez besoin d’informations complémentaires."
   ]
  },
  {
   "cell_type": "markdown",
   "id": "cf569c08",
   "metadata": {},
   "source": [
    "## Confirmation téléphonique"
   ]
  },
  {
   "cell_type": "code",
   "execution_count": 16,
   "id": "ca8ec6d2",
   "metadata": {},
   "outputs": [],
   "source": [
    "def mail_2(destinataire, date, heure):\n",
    "    #destinataire = \"Monsieur De La Salle\"+\",\\n \\n\"\n",
    "\n",
    "    m2_1 = \"Je vous remercie pour votre retour concernant ma candidature. \\n \\nJe vous confirme ma disponibilité pour un échange téléphonique \"\n",
    "\n",
    "    #date = \"Mecredi 15 janvier à \"\n",
    "\n",
    "    #heure = \"10h00\"\n",
    "\n",
    "    m2_2 = \"Vous pourrez me joindre au 06 95 32 45 02 à l’heure convenue.\\n \\nDans l’attente de cet entretien, je reste à votre disposition si vous avez besoin d’informations complémentaires.\"\n",
    "    \n",
    "    return print(debut + destinataire +\",\\n \\n\"  + m2_1 + date +\" \"+\"à\"+\" \" + heure +\". \" + m2_2 + fin)"
   ]
  },
  {
   "cell_type": "code",
   "execution_count": 17,
   "id": "bbcb9c27",
   "metadata": {
    "scrolled": true
   },
   "outputs": [
    {
     "name": "stdout",
     "output_type": "stream",
     "text": [
      "Bonjour Madame Guerin,\n",
      " \n",
      "Je vous remercie pour votre retour concernant ma candidature. \n",
      " \n",
      "Je vous confirme ma disponibilité pour un échange téléphonique mardi 21 janvier à 15h00. Vous pourrez me joindre au 06 95 32 45 02 à l’heure convenue.\n",
      " \n",
      "Dans l’attente de cet entretien, je reste à votre disposition si vous avez besoin d’informations complémentaires.\n",
      " \n",
      "Respectueusment,\n",
      "Issa Kachaou\n"
     ]
    }
   ],
   "source": [
    "des3 = \"Madame Guerin\"\n",
    "d1 = \"mardi 21 janvier\"\n",
    "h1 = \"15h00\"\n",
    "\n",
    "mail_2(des3,d1,h1)"
   ]
  },
  {
   "cell_type": "code",
   "execution_count": null,
   "id": "743da3c7",
   "metadata": {},
   "outputs": [],
   "source": []
  },
  {
   "cell_type": "code",
   "execution_count": null,
   "id": "714a13df",
   "metadata": {},
   "outputs": [],
   "source": []
  }
 ],
 "metadata": {
  "kernelspec": {
   "display_name": "Python 3 (ipykernel)",
   "language": "python",
   "name": "python3"
  },
  "language_info": {
   "codemirror_mode": {
    "name": "ipython",
    "version": 3
   },
   "file_extension": ".py",
   "mimetype": "text/x-python",
   "name": "python",
   "nbconvert_exporter": "python",
   "pygments_lexer": "ipython3",
   "version": "3.11.4"
  },
  "toc": {
   "base_numbering": 1,
   "nav_menu": {},
   "number_sections": true,
   "sideBar": true,
   "skip_h1_title": false,
   "title_cell": "Table of Contents",
   "title_sidebar": "Contents",
   "toc_cell": false,
   "toc_position": {},
   "toc_section_display": true,
   "toc_window_display": false
  }
 },
 "nbformat": 4,
 "nbformat_minor": 5
}
