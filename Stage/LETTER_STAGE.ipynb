{
 "cells": [
  {
   "cell_type": "code",
   "execution_count": 1,
   "id": "3762256d-7399-4afd-990b-dd0dd34f05d2",
   "metadata": {
    "tags": []
   },
   "outputs": [],
   "source": [
    "from docx import Document\n",
    "from docx.shared import Inches\n",
    "from docx.enum.text import WD_ALIGN_PARAGRAPH\n",
    "\n",
    "def mail_stage_word(destinataire, nom_entreprise, adresse_entreprise, date, nom_fichier=\"lettre_motivation.docx\"):\n",
    "    \"\"\"Génère une lettre de motivation au format Word.\n",
    "\n",
    "    Args:\n",
    "        destinataire: Le destinataire de la lettre.\n",
    "        nom_entreprise: Le nom de l'entreprise.\n",
    "        adresse_entreprise: L'adresse de l'entreprise.\n",
    "        date: La date de la lettre.\n",
    "        nom_fichier: Le nom du fichier Word à créer.\n",
    "    \"\"\"\n",
    "\n",
    "    document = Document()\n",
    "\n",
    "    style = document.styles['Normal']\n",
    "    font = style.font\n",
    "    font.name = 'Times New Roman'\n",
    "    # En-tête\n",
    "    #document.add_paragraph('Issa Kachaou')\n",
    "    paragraph = document.add_paragraph()\n",
    "    paragraph.alignment = WD_ALIGN_PARAGRAPH.LEFT\n",
    "    document.add_paragraph(f\"Issa Kachaou\\n94000, Créteil\\nMOBILE-ALT 06 95 32 45 02\\n issakachaou@outlook.fr\")\n",
    "    document.add_paragraph(f\"{nom_entreprise}\\n{adresse_entreprise}\")\n",
    "    document.add_paragraph(f\"A Créteil, le {date}\")\n",
    "\n",
    "\n",
    "    # Objet\n",
    "    document.add_heading('Objet : Candidature pour un stage en immobilier d’entreprise', level=2)\n",
    "\n",
    "    # Corps\n",
    "    document.add_paragraph(f\"Madame, Monsieur,\\n\\n\" +\n",
    "                            \"Actuellement étudiant en Master 1 MBFA, parcours Ingénierie Immobilière à l’Université Paris-Est Créteil, \" +\n",
    "                            \"je suis à la recherche d’un stage de 6 mois, à partir d’avril 2025, dans le domaine de l’immobilier d’entreprise. \" +\n",
    "                            \"Passionné par l’immobilier et les enjeux financiers associés, je souhaite mettre mes compétences académiques et professionnelles \" +\n",
    "                            f\"au service de {nom_entreprise}.\\n\\n\" \n",
    "                            # ... le reste du corps de la lettr \n",
    "                          )\n",
    "\n",
    "    # Fin\n",
    "    document.add_paragraph(\"Je vous prie d’agréer, Madame, Monsieur, l’expression de mes sentiments distingués.\")\n",
    "    document.add_paragraph(\"Issa Kachaou\")\n",
    "\n",
    "    document.save(nom_fichier)"
   ]
  },
  {
   "cell_type": "code",
   "execution_count": null,
   "id": "2d04796d-7985-43cb-a5f6-67f99b9eb3e7",
   "metadata": {},
   "outputs": [],
   "source": [
    "\n",
    "destinataire = \"Monsieur De La Salle\"\n",
    "nom_entreprise = \"CBRE France\"\n",
    "adresse_entreprise = \"76 Rue de Prony\\n75017, Paris\"\n",
    "date = \"23 décembre 2024\"\n",
    "\n",
    "mail_stage_word(destinataire, nom_entreprise, adresse_entreprise, date)"
   ]
  }
 ],
 "metadata": {
  "kernelspec": {
   "display_name": "Python 3 (ipykernel)",
   "language": "python",
   "name": "python3"
  },
  "language_info": {
   "codemirror_mode": {
    "name": "ipython",
    "version": 3
   },
   "file_extension": ".py",
   "mimetype": "text/x-python",
   "name": "python",
   "nbconvert_exporter": "python",
   "pygments_lexer": "ipython3",
   "version": "3.11.4"
  }
 },
 "nbformat": 4,
 "nbformat_minor": 5
}
