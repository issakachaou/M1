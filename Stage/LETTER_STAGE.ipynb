{
 "cells": [
  {
   "cell_type": "code",
   "execution_count": 124,
   "id": "3762256d-7399-4afd-990b-dd0dd34f05d2",
   "metadata": {
    "tags": []
   },
   "outputs": [],
   "source": [
    "from docx import Document\n",
    "from docx.shared import Inches\n",
    "from docx.enum.text import WD_ALIGN_PARAGRAPH\n",
    "import random as rd\n",
    "\n",
    "def mail_stage_word(destinataire, nom_entreprise, adresse_entreprise, date, nom_fichier=\"LM\"+\"_\"+(nom_entreprise.upper()).replace(\" \",\"_\")+\"_\"+str(rd.randint(1000,9999)) +\".docx\"):\n",
    "    \"\"\"Génère une lettre de motivation au format Word.\n",
    "\n",
    "    Args:\n",
    "        destinataire: Le destinataire de la lettre.\n",
    "        nom_entreprise: Le nom de l'entreprise.\n",
    "        adresse_entreprise: L'adresse de l'entreprise.\n",
    "        date: La date de la lettre.\n",
    "        nom_fichier: Le nom du fichier Word à créer.\n",
    "    \"\"\"\n",
    "\n",
    "    document = Document()\n",
    "\n",
    "    style = document.styles['Normal']\n",
    "    font = style.font\n",
    "    font.name = 'Times New Roman'\n",
    "    # En-tête\n",
    "    #document.add_paragraph('Issa Kachaou')\n",
    "    paragraph = document.add_paragraph()\n",
    "    paragraph.alignment = WD_ALIGN_PARAGRAPH.LEFT\n",
    "    document.add_paragraph(f\"Issa Kachaou\\n94000, Créteil\\n06 95 32 45 02\\n issakachaou@outlook.fr\")\n",
    "    \n",
    "    paragraph.add_paragraph(f\"{nom_entreprise}\\n{adresse_entreprise}\")\n",
    "    paragraph.add_paragraph(f\"A Créteil, le {date}\")\n",
    "    paragraph.alignment = WD_ALIGN_PARAGRAPH.RIGHT\n",
    "\n",
    "\n",
    "    # Objet\n",
    "    document.add_heading('Objet : Candidature pour un stage en immobilier d’entreprise', level=2)\n",
    "\n",
    "    # Corps\n",
    "    document.add_paragraph(f\"Madame, Monsieur,\\n\\n\" +\n",
    "                            \"Actuellement étudiant en Master 1 MBFA, parcours Ingénierie Immobilière à l’Université Paris-Est Créteil, \" +\n",
    "                            \"je suis à la recherche d’un stage de 6 mois, à partir d’avril 2025, dans le domaine de l’immobilier d’entreprise. \" +\n",
    "                            \"Passionné par l’immobilier et les enjeux financiers associés, je souhaite mettre mes compétences académiques et professionnelles \" +\n",
    "                            f\"au service de {nom_entreprise}.\\n\\n\" \n",
    "                            # ... le reste du corps de la lettr \n",
    "                          )\n",
    "\n",
    "    # Fin\n",
    "    document.add_paragraph(\"Je vous prie d’agréer, Madame, Monsieur, l’expression de mes sentiments distingués.\")\n",
    "    document.add_paragraph(\"Issa Kachaou\")\n",
    "\n",
    "    document.save(nom_fichier)"
   ]
  },
  {
   "cell_type": "code",
   "execution_count": 130,
   "id": "2d04796d-7985-43cb-a5f6-67f99b9eb3e7",
   "metadata": {},
   "outputs": [
    {
     "ename": "AttributeError",
     "evalue": "'Paragraph' object has no attribute 'add_paragraph'",
     "output_type": "error",
     "traceback": [
      "\u001b[1;31m---------------------------------------------------------------------------\u001b[0m",
      "\u001b[1;31mAttributeError\u001b[0m                            Traceback (most recent call last)",
      "Cell \u001b[1;32mIn[130], line 6\u001b[0m\n\u001b[0;32m      3\u001b[0m adresse_entreprise \u001b[38;5;241m=\u001b[39m \u001b[38;5;124m\"\u001b[39m\u001b[38;5;124m76 Rue de Prony\u001b[39m\u001b[38;5;130;01m\\n\u001b[39;00m\u001b[38;5;124m75017, Paris\u001b[39m\u001b[38;5;124m\"\u001b[39m\n\u001b[0;32m      4\u001b[0m date \u001b[38;5;241m=\u001b[39m \u001b[38;5;124m\"\u001b[39m\u001b[38;5;124m23 décembre 204\u001b[39m\u001b[38;5;124m\"\u001b[39m\n\u001b[1;32m----> 6\u001b[0m mail_stage_word(destinataire, nom_entreprise, adresse_entreprise, date)\n",
      "Cell \u001b[1;32mIn[128], line 28\u001b[0m, in \u001b[0;36mmail_stage_word\u001b[1;34m(destinataire, nom_entreprise, adresse_entreprise, date, nom_fichier)\u001b[0m\n\u001b[0;32m     25\u001b[0m paragraph\u001b[38;5;241m.\u001b[39malignment \u001b[38;5;241m=\u001b[39m WD_ALIGN_PARAGRAPH\u001b[38;5;241m.\u001b[39mLEFT\n\u001b[0;32m     26\u001b[0m document\u001b[38;5;241m.\u001b[39madd_paragraph(\u001b[38;5;124mf\u001b[39m\u001b[38;5;124m\"\u001b[39m\u001b[38;5;124mIssa Kachaou\u001b[39m\u001b[38;5;130;01m\\n\u001b[39;00m\u001b[38;5;124m94000, Créteil\u001b[39m\u001b[38;5;130;01m\\n\u001b[39;00m\u001b[38;5;124m06 95 32 45 02\u001b[39m\u001b[38;5;130;01m\\n\u001b[39;00m\u001b[38;5;124m issakachaou@outlook.fr\u001b[39m\u001b[38;5;124m\"\u001b[39m)\n\u001b[1;32m---> 28\u001b[0m paragraph\u001b[38;5;241m.\u001b[39madd_paragraph(\u001b[38;5;124mf\u001b[39m\u001b[38;5;124m\"\u001b[39m\u001b[38;5;132;01m{\u001b[39;00mnom_entreprise\u001b[38;5;132;01m}\u001b[39;00m\u001b[38;5;130;01m\\n\u001b[39;00m\u001b[38;5;132;01m{\u001b[39;00madresse_entreprise\u001b[38;5;132;01m}\u001b[39;00m\u001b[38;5;124m\"\u001b[39m)\n\u001b[0;32m     29\u001b[0m paragraph\u001b[38;5;241m.\u001b[39madd_paragraph(\u001b[38;5;124mf\u001b[39m\u001b[38;5;124m\"\u001b[39m\u001b[38;5;124mA Créteil, le \u001b[39m\u001b[38;5;132;01m{\u001b[39;00mdate\u001b[38;5;132;01m}\u001b[39;00m\u001b[38;5;124m\"\u001b[39m)\n\u001b[0;32m     30\u001b[0m paragraph\u001b[38;5;241m.\u001b[39malignment \u001b[38;5;241m=\u001b[39m WD_ALIGN_PARAGRAPH\u001b[38;5;241m.\u001b[39mRIGHT\n",
      "\u001b[1;31mAttributeError\u001b[0m: 'Paragraph' object has no attribute 'add_paragraph'"
     ]
    }
   ],
   "source": [
    "destinataire = \"Monsieur De La Salle\"\n",
    "nom_entreprise = \"CBRE France\"\n",
    "adresse_entreprise = \"76 Rue de Prony\\n75017, Paris\"\n",
    "date = \"23 décembre 204\"\n",
    "\n",
    "mail_stage_word(destinataire, nom_entreprise, adresse_entreprise, date)"
   ]
  },
  {
   "cell_type": "code",
   "execution_count": 19,
   "id": "f6a59046-bc9b-41ac-a64b-6bfbdd17f5dd",
   "metadata": {
    "scrolled": true
   },
   "outputs": [
    {
     "data": {
      "text/plain": [
       "'CBRE_FRANCE'"
      ]
     },
     "execution_count": 19,
     "metadata": {},
     "output_type": "execute_result"
    }
   ],
   "source": [
    "(nom_entreprise.upper()).replace(\" \",\"_\")"
   ]
  },
  {
   "cell_type": "code",
   "execution_count": 36,
   "id": "8ffce7a3-c37b-4c3c-aeb0-b31df36d594a",
   "metadata": {},
   "outputs": [
    {
     "data": {
      "text/plain": [
       "7247"
      ]
     },
     "execution_count": 36,
     "metadata": {},
     "output_type": "execute_result"
    }
   ],
   "source": [
    "rd.randint(1000,9999) "
   ]
  },
  {
   "cell_type": "code",
   "execution_count": 4,
   "id": "bfb59942-9e1d-4980-8125-875b9aa7a4dc",
   "metadata": {},
   "outputs": [
    {
     "ename": "NameError",
     "evalue": "name 'nom_entreprise' is not defined",
     "output_type": "error",
     "traceback": [
      "\u001b[1;31m---------------------------------------------------------------------------\u001b[0m",
      "\u001b[1;31mNameError\u001b[0m                                 Traceback (most recent call last)",
      "Cell \u001b[1;32mIn[4], line 6\u001b[0m\n\u001b[0;32m      3\u001b[0m \u001b[38;5;28;01mfrom\u001b[39;00m \u001b[38;5;21;01mdocx\u001b[39;00m\u001b[38;5;21;01m.\u001b[39;00m\u001b[38;5;21;01menum\u001b[39;00m\u001b[38;5;21;01m.\u001b[39;00m\u001b[38;5;21;01mtext\u001b[39;00m \u001b[38;5;28;01mimport\u001b[39;00m WD_ALIGN_PARAGRAPH\n\u001b[0;32m      4\u001b[0m \u001b[38;5;28;01mimport\u001b[39;00m \u001b[38;5;21;01mrandom\u001b[39;00m \u001b[38;5;28;01mas\u001b[39;00m \u001b[38;5;21;01mrd\u001b[39;00m\n\u001b[1;32m----> 6\u001b[0m \u001b[38;5;28;01mdef\u001b[39;00m \u001b[38;5;21mmail_stage_word\u001b[39m(destinataire, nom_entreprise, adresse_entreprise, date, nom_fichier\u001b[38;5;241m=\u001b[39m\u001b[38;5;124m\"\u001b[39m\u001b[38;5;124mLM\u001b[39m\u001b[38;5;124m\"\u001b[39m\u001b[38;5;241m+\u001b[39m\u001b[38;5;124m\"\u001b[39m\u001b[38;5;124m_\u001b[39m\u001b[38;5;124m\"\u001b[39m\u001b[38;5;241m+\u001b[39m(nom_entreprise\u001b[38;5;241m.\u001b[39mupper())\u001b[38;5;241m.\u001b[39mreplace(\u001b[38;5;124m\"\u001b[39m\u001b[38;5;124m \u001b[39m\u001b[38;5;124m\"\u001b[39m,\u001b[38;5;124m\"\u001b[39m\u001b[38;5;124m_\u001b[39m\u001b[38;5;124m\"\u001b[39m)\u001b[38;5;241m+\u001b[39m\u001b[38;5;124m\"\u001b[39m\u001b[38;5;124m_\u001b[39m\u001b[38;5;124m\"\u001b[39m\u001b[38;5;241m+\u001b[39m\u001b[38;5;28mstr\u001b[39m(rd\u001b[38;5;241m.\u001b[39mrandint(\u001b[38;5;241m1000\u001b[39m,\u001b[38;5;241m9999\u001b[39m)) \u001b[38;5;241m+\u001b[39m\u001b[38;5;124m\"\u001b[39m\u001b[38;5;124m.docx\u001b[39m\u001b[38;5;124m\"\u001b[39m):\n\u001b[0;32m      7\u001b[0m \u001b[38;5;250m    \u001b[39m\u001b[38;5;124;03m\"\"\"Génère une lettre de motivation au format Word.\u001b[39;00m\n\u001b[0;32m      8\u001b[0m \n\u001b[0;32m      9\u001b[0m \u001b[38;5;124;03m    Args:\u001b[39;00m\n\u001b[1;32m   (...)\u001b[0m\n\u001b[0;32m     14\u001b[0m \u001b[38;5;124;03m        nom_fichier: Le nom du fichier Word à créer.\u001b[39;00m\n\u001b[0;32m     15\u001b[0m \u001b[38;5;124;03m    \"\"\"\u001b[39;00m\n\u001b[0;32m     17\u001b[0m     document \u001b[38;5;241m=\u001b[39m Document()\n",
      "\u001b[1;31mNameError\u001b[0m: name 'nom_entreprise' is not defined"
     ]
    }
   ],
   "source": [
    "from docx import Document\n",
    "from docx.shared import Inches\n",
    "from docx.enum.text import WD_ALIGN_PARAGRAPH\n",
    "import random as rd\n",
    "\n",
    "def mail_stage_word(destinataire, nom_entreprise, adresse_entreprise, date, nom_fichier=\"LM\"+\"_\"+(nom_entreprise.upper()).replace(\" \",\"_\")+\"_\"+str(rd.randint(1000,9999)) +\".docx\"):\n",
    "    \"\"\"Génère une lettre de motivation au format Word.\n",
    "\n",
    "    Args:\n",
    "        destinataire: Le destinataire de la lettre.\n",
    "        nom_entreprise: Le nom de l'entreprise.\n",
    "        adresse_entreprise: L'adresse de l'entreprise.\n",
    "        date: La date de la lettre.\n",
    "        nom_fichier: Le nom du fichier Word à créer.\n",
    "    \"\"\"\n",
    "\n",
    "    document = Document()\n",
    "\n",
    "    style = document.styles['Normal']\n",
    "    font = style.font\n",
    "    font.name = 'Times New Roman'\n",
    "\n",
    "    # En-tête\n",
    "    paragraph = document.add_paragraph()\n",
    "    paragraph.alignment = WD_ALIGN_PARAGRAPH.LEFT\n",
    "    document.add_paragraph(f\"Issa Kachaou\\n94000, Créteil\\n06 95 32 45 02\\n issakachaou@outlook.fr\")\n",
    "    \n",
    "    paragraph.add_paragraph(f\"{nom_entreprise}\\n{adresse_entreprise}\")\n",
    "    paragraph.add_paragraph(f\"A Créteil, le {date}\")\n",
    "    paragraph.alignment = WD_ALIGN_PARAGRAPH.RIGHT\n",
    "\n",
    "    # Objet\n",
    "    document.add_heading('Objet : Candidature pour un stage en immobilier d’entreprise', level=2)\n",
    "\n",
    "    # Corps\n",
    "    document.add_paragraph(f\"Madame, Monsieur,\\n\\n\" +\n",
    "                         \"Actuellement étudiant en Master 1 MBFA, parcours Ingénierie Immobilière à l’Université Paris-Est Créteil, \" +\n",
    "                         \"je suis à la recherche d’un stage de 6 mois, à partir d’avril 2025, dans le domaine de l’immobilier d'entreprise. \" +\n",
    "                         \"Passionné par l’immobilier et les enjeux financiers associés, je souhaite mettre mes compétences académiques et professionnelles \" +\n",
    "                         f\"au service de votre cabinet.\\n\\n\" +\n",
    "                         \"Au cours de mon cursus, j’ai développé une expertise solide en analyse financière, évaluation d’actifs immobiliers et gestion de données, \" +\n",
    "                         \"avec une maîtrise avancée des outils comme Excel-VBA et Python. Ces compétences me permettent d’analyser des portefeuilles immobiliers, \" +\n",
    "                         \"d’évaluer leur rentabilité et de proposer des solutions d’optimisation adaptées. De plus, mes cours spécialisés en économie immobilière et en finance d'entreprise \" +\n",
    "                         \"m’offrent une compréhension globale des enjeux stratégiques de l’investissement résidentiel.\\n\\n\" +\n",
    "                         \"Mon expérience en tant que moniteur étudiant m’a permis de perfectionner mes qualités organisationnelles et relationnelles, \" +\n",
    "                         \"en apprenant à communiquer efficacement et à gérer des projets dans des environnements exigeants. Rigoureux et motivé, je suis convaincu que mon sérieux et ma \" +\n",
    "                         \"capacité à travailler en équipe me permettront de contribuer activement à vos projets d’investissement et de conseil.\\n\\n\" +\n",
    "                         \"Intégrer votre structure constituerait une véritable opportunité pour approfondir mes connaissances et contribuer activement au développement de vos projets stratégiques. \" +\n",
    "                         \"Je suis persuadé que mon sérieux, ma rigueur et ma capacité à m’investir pleinement seront des atouts précieux pour répondre aux exigences de votre entreprise.\\n\\n\" +\n",
    "                         \"Je me tiens à votre disposition pour convenir d’un éventuel entretien, au cours duquel je pourrais vous exposer plus en détail mes motivations ainsi que les compétences \" +\n",
    "                         \"que je suis prêt à mettre à votre service.\")\n",
    "\n",
    "    # Fin\n",
    "    document.add_paragraph(\"Je vous prie d’agréer, Madame, Monsieur, l’expression de mes sentiments distingués.\")\n",
    "    document.add_paragraph(\"Issa Kachaou\")\n",
    "\n",
    "    document.save(nom_fichier)"
   ]
  },
  {
   "cell_type": "code",
   "execution_count": 5,
   "id": "7733301b-0b20-4d98-bfa9-bb6d26abee61",
   "metadata": {},
   "outputs": [
    {
     "ename": "IndentationError",
     "evalue": "unexpected indent (1173676921.py, line 80)",
     "output_type": "error",
     "traceback": [
      "\u001b[1;36m  Cell \u001b[1;32mIn[5], line 80\u001b[1;36m\u001b[0m\n\u001b[1;33m    document.add_paragraph(\"Je vous prie d’agréer, Madame, Monsieur, l’expression de mes sentiments distingués.\")\u001b[0m\n\u001b[1;37m    ^\u001b[0m\n\u001b[1;31mIndentationError\u001b[0m\u001b[1;31m:\u001b[0m unexpected indent\n"
     ]
    }
   ],
   "source": [
    "from docx import Document\n",
    "from docx.shared import Inches\n",
    "from docx.enum.text import WD_ALIGN_PARAGRAPH\n",
    "import random as rd\n",
    "\n",
    "def mail_stage_word(destinataire, nom_entreprise, adresse_entreprise, date, nom_fichier=\"LM\"+\"_\"+(nom_entreprise.upper()).replace(\" \",\"_\")+\"_\"+str(rd.randint(1000,9999)) +\".docx\"):\n",
    "    \"\"\"Génère une lettre de motivation au format Word.\"\"\"\n",
    "\n",
    "    document = Document()\n",
    "\n",
    "    style = document.styles['Normal']\n",
    "    font = style.font\n",
    "    font.name = 'Times New Roman'\n",
    "\n",
    "    # En-tête\n",
    "    document.add_paragraph(\"Issa Kachaou\\n94000, Créteil\\n06 95 32 45 02\\n issakachaou@outlook.fr\").alignment = WD_ALIGN_PARAGRAPH.LEFT  # Combined creation and alignment\n",
    "    document.add_paragraph(f\"{nom_entreprise}\\n{adresse_entreprise}\").alignment = WD_ALIGN_PARAGRAPH.LEFT # Corrected: add_paragraph to document\n",
    "    document.add_paragraph(f\"A Créteil, le {date}\").alignment = WD_ALIGN_PARAGRAPH.RIGHT # Corrected: add_paragraph to document\n",
    "\n",
    "    # Objet\n",
    "    document.add_heading('Objet : Candidature pour un stage en immobilier d’entreprise', level=2)\n",
    "\n",
    "    # Corps (rest of the code remains the same)\n",
    "from docx import Document\n",
    "from docx.shared import Inches\n",
    "from docx.enum.text import WD_ALIGN_PARAGRAPH\n",
    "import random as rd\n",
    "\n",
    "def mail_stage_word(destinataire, nom_entreprise, adresse_entreprise, date, nom_fichier=\"LM\"+\"_\"+(nom_entreprise.upper()).replace(\" \",\"_\")+\"_\"+str(rd.randint(1000,9999)) +\".docx\"):\n",
    "    \"\"\"Génère une lettre de motivation au format Word.\"\"\"\n",
    "\n",
    "    document = Document()\n",
    "\n",
    "    style = document.styles['Normal']\n",
    "    font = style.font\n",
    "    font.name = 'Times New Roman'\n",
    "\n",
    "    # En-tête\n",
    "    document.add_paragraph(\"Issa Kachaou\\n94000, Créteil\\n06 95 32 45 02\\n issakachaou@outlook.fr\").alignment = WD_ALIGN_PARAGRAPH.LEFT  # Combined creation and alignment\n",
    "    document.add_paragraph(f\"{nom_entreprise}\\n{adresse_entreprise}\").alignment = WD_ALIGN_PARAGRAPH.LEFT # Corrected: add_paragraph to document\n",
    "    document.add_paragraph(f\"A Créteil, le {date}\").alignment = WD_ALIGN_PARAGRAPH.RIGHT # Corrected: add_paragraph to document\n",
    "\n",
    "    # Objet\n",
    "    document.add_heading('Objet : Candidature pour un stage en immobilier d’entreprise', level=2)\n",
    "\n",
    "    # Corps (rest of the code remains the same)\n",
    "    document.add_paragraph(f\"Madame, Monsieur,\\n\\n\" +\n",
    "                         \"Actuellement étudiant en Master 1 MBFA, parcours Ingénierie Immobilière à l’Université Paris-Est Créteil, \" +\n",
    "                         \"je suis à la recherche d’un stage de 6 mois, à partir d’avril 2025, dans le domaine de l’immobilier d'entreprise. \" +\n",
    "                         \"Passionné par l’immobilier et les enjeux financiers associés, je souhaite mettre mes compétences académiques et professionnelles \" +\n",
    "                         f\"au service de votre cabinet.\\n\\n\" +\n",
    "                         \"Au cours de mon cursus, j’ai développé une expertise solide en analyse financière, évaluation d’actifs immobiliers et gestion de données, \" +\n",
    "                         \"avec une maîtrise avancée des outils comme Excel-VBA et Python. Ces compétences me permettent d’analyser des portefeuilles immobiliers, \" +\n",
    "                         \"d’évaluer leur rentabilité et de proposer des solutions d’optimisation adaptées. De plus, mes cours spécialisés en économie immobilière et en finance d'entreprise \" +\n",
    "                         \"m’offrent une compréhension globale des enjeux stratégiques de l’investissement résidentiel.\\n\\n\" +\n",
    "                         \"Mon expérience en tant que moniteur étudiant m’a permis de perfectionner mes qualités organisationnelles et relationnelles, \" +\n",
    "                         \"en apprenant à communiquer efficacement et à gérer des projets dans des environnements exigeants. Rigoureux et motivé, je suis convaincu que mon sérieux et ma \" +\n",
    "                         \"capacité à travailler en équipe me permettront de contribuer activement à vos projets d’investissement et de conseil.\\n\\n\" +\n",
    "                         \"Intégrer votre structure constituerait une véritable opportunité pour approfondir mes connaissances et contribuer activement au développement de vos projets stratégiques. \" +\n",
    "                         \"Je suis persuadé que mon sérieux, ma rigueur et ma capacité à m’investir pleinement seront des atouts précieux pour répondre aux exigences de votre entreprise.\\n\\n\" +\n",
    "                         \"Je me tiens à votre disposition pour convenir d’un éventuel entretien, au cours duquel je pourrais vous exposer plus en détail mes motivations ainsi que les compétences \" +\n",
    "                         \"que je suis prêt à mettre à votre service.\")\n",
    "\n",
    "    # Fin\n",
    "    document.add_paragraph(\"Je vous prie d’agréer, Madame, Monsieur, l’expression de mes sentiments distingués.\")\n",
    "    document.add_paragraph(\"Issa Kachaou\")\n",
    "\n",
    "    document.save(nom_fichier)\n",
    "\n",
    "\n",
    "# Example usage (replace with your actual data)\n",
    "destinataire = \"M. Dupont\"\n",
    "nom_entreprise = \"Immo Entreprise\"\n",
    "adresse_entreprise = \"76 Rue de Prony\\n75017, Paris\"\n",
    "date = \"23 décembre 2024\"\n",
    "\n",
    "mail_stage_word(destinataire, nom_entreprise, adresse_entreprise, date)\n",
    "\n",
    "    # Fin\n",
    "    document.add_paragraph(\"Je vous prie d’agréer, Madame, Monsieur, l’expression de mes sentiments distingués.\")\n",
    "    document.add_paragraph(\"Issa Kachaou\")\n",
    "\n",
    "    document.save(nom_fichier)"
   ]
  },
  {
   "cell_type": "code",
   "execution_count": 2,
   "id": "f756b77d-8e39-4995-b9a4-a798a8a9b752",
   "metadata": {},
   "outputs": [
    {
     "ename": "NameError",
     "evalue": "name 'nom_entreprise' is not defined",
     "output_type": "error",
     "traceback": [
      "\u001b[1;31m---------------------------------------------------------------------------\u001b[0m",
      "\u001b[1;31mNameError\u001b[0m                                 Traceback (most recent call last)",
      "Cell \u001b[1;32mIn[2], line 6\u001b[0m\n\u001b[0;32m      3\u001b[0m \u001b[38;5;28;01mfrom\u001b[39;00m \u001b[38;5;21;01mdocx\u001b[39;00m\u001b[38;5;21;01m.\u001b[39;00m\u001b[38;5;21;01menum\u001b[39;00m\u001b[38;5;21;01m.\u001b[39;00m\u001b[38;5;21;01mtext\u001b[39;00m \u001b[38;5;28;01mimport\u001b[39;00m WD_ALIGN_PARAGRAPH\n\u001b[0;32m      4\u001b[0m \u001b[38;5;28;01mimport\u001b[39;00m \u001b[38;5;21;01mrandom\u001b[39;00m \u001b[38;5;28;01mas\u001b[39;00m \u001b[38;5;21;01mrd\u001b[39;00m\n\u001b[1;32m----> 6\u001b[0m \u001b[38;5;28;01mdef\u001b[39;00m \u001b[38;5;21mmail_stage_word\u001b[39m(destinataire, nom_entreprise, adresse_entreprise, date, nom_fichier\u001b[38;5;241m=\u001b[39m\u001b[38;5;124m\"\u001b[39m\u001b[38;5;124mLM\u001b[39m\u001b[38;5;124m\"\u001b[39m\u001b[38;5;241m+\u001b[39m\u001b[38;5;124m\"\u001b[39m\u001b[38;5;124m_\u001b[39m\u001b[38;5;124m\"\u001b[39m\u001b[38;5;241m+\u001b[39m(nom_entreprise\u001b[38;5;241m.\u001b[39mupper())\u001b[38;5;241m.\u001b[39mreplace(\u001b[38;5;124m\"\u001b[39m\u001b[38;5;124m \u001b[39m\u001b[38;5;124m\"\u001b[39m,\u001b[38;5;124m\"\u001b[39m\u001b[38;5;124m_\u001b[39m\u001b[38;5;124m\"\u001b[39m)\u001b[38;5;241m+\u001b[39m\u001b[38;5;124m\"\u001b[39m\u001b[38;5;124m_\u001b[39m\u001b[38;5;124m\"\u001b[39m\u001b[38;5;241m+\u001b[39m\u001b[38;5;28mstr\u001b[39m(rd\u001b[38;5;241m.\u001b[39mrandint(\u001b[38;5;241m1000\u001b[39m,\u001b[38;5;241m9999\u001b[39m)) \u001b[38;5;241m+\u001b[39m\u001b[38;5;124m\"\u001b[39m\u001b[38;5;124m.docx\u001b[39m\u001b[38;5;124m\"\u001b[39m):\n\u001b[0;32m      7\u001b[0m \u001b[38;5;250m    \u001b[39m\u001b[38;5;124;03m\"\"\"Génère une lettre de motivation au format Word.\u001b[39;00m\n\u001b[0;32m      8\u001b[0m \n\u001b[0;32m      9\u001b[0m \u001b[38;5;124;03m    Args:\u001b[39;00m\n\u001b[1;32m   (...)\u001b[0m\n\u001b[0;32m     14\u001b[0m \u001b[38;5;124;03m        nom_fichier: Le nom du fichier Word à créer.\u001b[39;00m\n\u001b[0;32m     15\u001b[0m \u001b[38;5;124;03m    \"\"\"\u001b[39;00m\n\u001b[0;32m     17\u001b[0m     document \u001b[38;5;241m=\u001b[39m Document()\n",
      "\u001b[1;31mNameError\u001b[0m: name 'nom_entreprise' is not defined"
     ]
    }
   ],
   "source": [
    "from docx import Document\n",
    "from docx.shared import Inches\n",
    "from docx.enum.text import WD_ALIGN_PARAGRAPH\n",
    "import random as rd\n",
    "\n",
    "def mail_stage_word(destinataire, nom_entreprise, adresse_entreprise, date, nom_fichier=\"LM\"+\"_\"+(nom_entreprise.upper()).replace(\" \",\"_\")+\"_\"+str(rd.randint(1000,9999)) +\".docx\"):\n",
    "    \"\"\"Génère une lettre de motivation au format Word.\n",
    "\n",
    "    Args:\n",
    "        destinataire: Le destinataire de la lettre.\n",
    "        nom_entreprise: Le nom de l'entreprise.\n",
    "        adresse_entreprise: L'adresse de l'entreprise.\n",
    "        date: La date de la lettre.\n",
    "        nom_fichier: Le nom du fichier Word à créer.\n",
    "    \"\"\"\n",
    "\n",
    "    document = Document()\n",
    "\n",
    "    style = document.styles['Normal']\n",
    "    font = style.font\n",
    "    font.name = 'Times New Roman'\n",
    "\n",
    "    # En-tête\n",
    "    paragraph = document.add_paragraph()\n",
    "    paragraph.alignment = WD_ALIGN_PARAGRAPH.LEFT\n",
    "    document.add_paragraph(f\"Issa Kachaou\\n94000, Créteil\\n06 95 32 45 02\\n issakachaou@outlook.fr\")\n",
    "    \n",
    "    paragraph.add_paragraph(f\"{nom_entreprise}\\n{adresse_entreprise}\")\n",
    "    paragraph.add_paragraph(f\"A Créteil, le {date}\")\n",
    "    paragraph.alignment = WD_ALIGN_PARAGRAPH.RIGHT\n",
    "\n",
    "    # Objet\n",
    "    document.add_heading('Objet : Candidature pour un stage en immobilier d’entreprise', level=2)\n",
    "\n",
    "    # Corps\n",
    "    document.add_paragraph(f\"Madame, Monsieur,\\n\\n\" +\n",
    "                         \"Actuellement étudiant en Master 1 MBFA, parcours Ingénierie Immobilière à l’Université Paris-Est Créteil, \" +\n",
    "                         \"je suis à la recherche d’un stage de 6 mois, à partir d’avril 2025, dans le domaine de l’immobilier d'entreprise. \" +\n",
    "                         \"Passionné par l’immobilier et les enjeux financiers associés, je souhaite mettre mes compétences académiques et professionnelles \" +\n",
    "                         f\"au service de votre cabinet.\\n\\n\" +\n",
    "                         \"Au cours de mon cursus, j’ai développé une expertise solide en analyse financière, évaluation d’actifs immobiliers et gestion de données, \" +\n",
    "                         \"avec une maîtrise avancée des outils comme Excel-VBA et Python. Ces compétences me permettent d’analyser des portefeuilles immobiliers, \" +\n",
    "                         \"d’évaluer leur rentabilité et de proposer des solutions d’optimisation adaptées. De plus, mes cours spécialisés en économie immobilière et en finance d'entreprise \" +\n",
    "                         \"m’offrent une compréhension globale des enjeux stratégiques de l’investissement résidentiel.\\n\\n\" +\n",
    "                         \"Mon expérience en tant que moniteur étudiant m’a permis de perfectionner mes qualités organisationnelles et relationnelles, \" +\n",
    "                         \"en apprenant à communiquer efficacement et à gérer des projets dans des environnements exigeants. Rigoureux et motivé, je suis convaincu que mon sérieux et ma \" +\n",
    "                         \"capacité à travailler en équipe me permettront de contribuer activement à vos projets d’investissement et de conseil.\\n\\n\" +\n",
    "                         \"Intégrer votre structure constituerait une véritable opportunité pour approfondir mes connaissances et contribuer activement au développement de vos projets stratégiques. \" +\n",
    "                         \"Je suis persuadé que mon sérieux, ma rigueur et ma capacité à m’investir pleinement seront des atouts précieux pour répondre aux exigences de votre entreprise.\\n\\n\" +\n",
    "                         \"Je me tiens à votre disposition pour convenir d’un éventuel entretien, au cours duquel je pourrais vous exposer plus en détail mes motivations ainsi que les compétences \" +\n",
    "                         \"que je suis prêt à mettre à votre service.\")\n",
    "\n",
    "    # Fin\n",
    "    document.add_paragraph(\"Je vous prie d’agréer, Madame, Monsieur, l’expression de mes sentiments distingués.\")\n",
    "    document.add_paragraph(\"Issa Kachaou\")\n",
    "\n",
    "    document.save(nom_fichier)"
   ]
  },
  {
   "cell_type": "code",
   "execution_count": 140,
   "id": "c1b63a54-ff79-4108-9398-bc3ff7e6c874",
   "metadata": {},
   "outputs": [
    {
     "ename": "AttributeError",
     "evalue": "'Paragraph' object has no attribute 'add_paragraph'",
     "output_type": "error",
     "traceback": [
      "\u001b[1;31m---------------------------------------------------------------------------\u001b[0m",
      "\u001b[1;31mAttributeError\u001b[0m                            Traceback (most recent call last)",
      "Cell \u001b[1;32mIn[140], line 6\u001b[0m\n\u001b[0;32m      3\u001b[0m adresse_entreprise \u001b[38;5;241m=\u001b[39m \u001b[38;5;124m\"\u001b[39m\u001b[38;5;124m76 Rue de Prony\u001b[39m\u001b[38;5;130;01m\\n\u001b[39;00m\u001b[38;5;124m75017, Paris\u001b[39m\u001b[38;5;124m\"\u001b[39m\n\u001b[0;32m      4\u001b[0m date \u001b[38;5;241m=\u001b[39m \u001b[38;5;124m\"\u001b[39m\u001b[38;5;124m23 décembre 204\u001b[39m\u001b[38;5;124m\"\u001b[39m\n\u001b[1;32m----> 6\u001b[0m mail_stage_word(destinataire, nom_entreprise, adresse_entreprise, date)\n",
      "Cell \u001b[1;32mIn[139], line 28\u001b[0m, in \u001b[0;36mmail_stage_word\u001b[1;34m(destinataire, nom_entreprise, adresse_entreprise, date, nom_fichier)\u001b[0m\n\u001b[0;32m     25\u001b[0m paragraph\u001b[38;5;241m.\u001b[39malignment \u001b[38;5;241m=\u001b[39m WD_ALIGN_PARAGRAPH\u001b[38;5;241m.\u001b[39mLEFT\n\u001b[0;32m     26\u001b[0m document\u001b[38;5;241m.\u001b[39madd_paragraph(\u001b[38;5;124mf\u001b[39m\u001b[38;5;124m\"\u001b[39m\u001b[38;5;124mIssa Kachaou\u001b[39m\u001b[38;5;130;01m\\n\u001b[39;00m\u001b[38;5;124m94000, Créteil\u001b[39m\u001b[38;5;130;01m\\n\u001b[39;00m\u001b[38;5;124m06 95 32 45 02\u001b[39m\u001b[38;5;130;01m\\n\u001b[39;00m\u001b[38;5;124m issakachaou@outlook.fr\u001b[39m\u001b[38;5;124m\"\u001b[39m)\n\u001b[1;32m---> 28\u001b[0m paragraph\u001b[38;5;241m.\u001b[39madd_paragraph(\u001b[38;5;124mf\u001b[39m\u001b[38;5;124m\"\u001b[39m\u001b[38;5;132;01m{\u001b[39;00mnom_entreprise\u001b[38;5;132;01m}\u001b[39;00m\u001b[38;5;130;01m\\n\u001b[39;00m\u001b[38;5;132;01m{\u001b[39;00madresse_entreprise\u001b[38;5;132;01m}\u001b[39;00m\u001b[38;5;124m\"\u001b[39m)\n\u001b[0;32m     29\u001b[0m paragraph\u001b[38;5;241m.\u001b[39madd_paragraph(\u001b[38;5;124mf\u001b[39m\u001b[38;5;124m\"\u001b[39m\u001b[38;5;124mA Créteil, le \u001b[39m\u001b[38;5;132;01m{\u001b[39;00mdate\u001b[38;5;132;01m}\u001b[39;00m\u001b[38;5;124m\"\u001b[39m)\n\u001b[0;32m     30\u001b[0m paragraph\u001b[38;5;241m.\u001b[39malignment \u001b[38;5;241m=\u001b[39m WD_ALIGN_PARAGRAPH\u001b[38;5;241m.\u001b[39mRIGHT\n",
      "\u001b[1;31mAttributeError\u001b[0m: 'Paragraph' object has no attribute 'add_paragraph'"
     ]
    }
   ],
   "source": [
    "destinataire = \"Monsieur De La Salle\"\n",
    "nom_entreprise = \"CBRE France\"\n",
    "adresse_entreprise = \"76 Rue de Prony\\n75017, Paris\"\n",
    "date = \"23 décembre 204\"\n",
    "\n",
    "mail_stage_word(destinataire, nom_entreprise, adresse_entreprise, date)"
   ]
  }
 ],
 "metadata": {
  "kernelspec": {
   "display_name": "Python 3 (ipykernel)",
   "language": "python",
   "name": "python3"
  },
  "language_info": {
   "codemirror_mode": {
    "name": "ipython",
    "version": 3
   },
   "file_extension": ".py",
   "mimetype": "text/x-python",
   "name": "python",
   "nbconvert_exporter": "python",
   "pygments_lexer": "ipython3",
   "version": "3.11.4"
  }
 },
 "nbformat": 4,
 "nbformat_minor": 5
}
