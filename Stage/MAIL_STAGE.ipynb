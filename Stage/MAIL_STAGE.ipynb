{
 "cells": [
  {
   "cell_type": "markdown",
   "id": "f1571586",
   "metadata": {},
   "source": [
    "# Mail_1 : Réponse pour un mail d'étude de candidature"
   ]
  },
  {
   "cell_type": "markdown",
   "id": "a9862760-3ad6-48f5-9068-2185f78325fe",
   "metadata": {},
   "source": [
    "Bonjour Monsieur De La Salle,\n",
    " \n",
    "Merci pour votre retour et pour l’attention portée à ma candidature.\n",
    " \n",
    "Je suis ravi à l’idée que mon profil puisse potentiellement contribuer aux ambitions de Mansio. Je reste à votre disposition pour toute information complémentaire ou pour échanger lors d’un éventuel entretien.\n",
    " \n",
    "Dans l’attente de votre retour, je vous remercie encore pour cette opportunité et vous souhaite une excellente journée.\n",
    " \n",
    "Respectueusement,\n",
    "Issa Kachaou"
   ]
  },
  {
   "cell_type": "code",
   "execution_count": 1,
   "id": "3230b14b-a2a5-4e80-bda6-bb070d88c578",
   "metadata": {},
   "outputs": [],
   "source": [
    "debut = \"Bonjour \" \n",
    "fin = \"\\n \\nRespectueusement,\\nIssa Kachaou\""
   ]
  },
  {
   "cell_type": "code",
   "execution_count": 2,
   "id": "09964c9c",
   "metadata": {},
   "outputs": [],
   "source": [
    "def mail_1(destinataire, nom_entreprise):\n",
    "    \n",
    "    debut = \"Bonjour \" \n",
    "    \n",
    "    #destinataire = \"Monsieur De La Salle\"+\",\\n \\n\"\n",
    "\n",
    "    m1_1 = \"Je vous remercie pour votre retour concernant ma candidature. \\n \\nJe suis ravi à l’idée que mon profil puisse potentiellement contribuer aux ambitions de \"\n",
    "\n",
    "    #nom_entreprise = \"Mansio\"+\". \"\n",
    "\n",
    "    m1_2 = \"Je reste à votre disposition pour toute information complémentaire ou pour échanger lors d’un éventuel entretien.\\n \\nDans l’attente de votre retour, je vous remercie encore pour cette opportunité et vous souhaite une excellente journée.\"\n",
    "\n",
    "    #fin = \"\\n \\nRespectueusement,\\nIssa Kachaou\"\n",
    "\n",
    "    return print(debut + destinataire +\",\\n \\n\" + m1_1 + nom_entreprise +\". \" + m1_2 + fin)\n",
    "    "
   ]
  },
  {
   "cell_type": "code",
   "execution_count": 3,
   "id": "8acec23a",
   "metadata": {},
   "outputs": [
    {
     "name": "stdout",
     "output_type": "stream",
     "text": [
      "Bonjour Madame X,\n",
      " \n",
      "Je vous remercie pour votre retour concernant ma candidature. \n",
      " \n",
      "Je suis ravi à l’idée que mon profil puisse potentiellement contribuer aux ambitions de PAF industrie. Je reste à votre disposition pour toute information complémentaire ou pour échanger lors d’un éventuel entretien.\n",
      " \n",
      "Dans l’attente de votre retour, je vous remercie encore pour cette opportunité et vous souhaite une excellente journée.\n",
      " \n",
      "Respectueusement,\n",
      "Issa Kachaou\n"
     ]
    }
   ],
   "source": [
    "des2 = \"Madame X\"\n",
    "en = \"PAF industrie\"\n",
    "mail_1(des2,en)"
   ]
  },
  {
   "cell_type": "markdown",
   "id": "db1e0860",
   "metadata": {},
   "source": [
    "# Mail 2 - 4 : Réponse pour un demande de disponibilité"
   ]
  },
  {
   "cell_type": "markdown",
   "id": "cf569c08",
   "metadata": {},
   "source": [
    "## Mail_2 : Confirmation échange téléphonique"
   ]
  },
  {
   "cell_type": "markdown",
   "id": "39ecd1b4-1247-4e08-8a4f-49543d37a3c4",
   "metadata": {},
   "source": [
    "Bonjour Madame Guerin,\n",
    " \n",
    "Je vous remercie pour votre retour concernant ma candidature. \n",
    " \n",
    "Je vous confirme ma disponibilité pour un échange téléphonique mardi 21 janvier à 15h00. Vous pourrez me joindre au 06 95 32 45 02 à l’heure convenue.\n",
    " \n",
    "Dans l’attente de cet entretien, je reste à votre disposition si vous avez besoin d’informations complémentaires.\n",
    " \n",
    "Respectueusement,\n",
    "Issa Kachaou"
   ]
  },
  {
   "cell_type": "code",
   "execution_count": 4,
   "id": "a673664e-805c-416b-9559-86930e605f0a",
   "metadata": {},
   "outputs": [],
   "source": [
    "def mail_2(destinataire, date, heure):\n",
    "    #destinataire = \"Monsieur De La Salle\"+\",\\n \\n\"\n",
    "\n",
    "    m2_1 = \"Je vous remercie pour votre retour concernant ma candidature. \\n \\nJe vous confirme ma disponibilité pour un échange téléphonique \"\n",
    "\n",
    "    #date = \"Mecredi 15 janvier à \"\n",
    "\n",
    "    #heure = \"10h00\"\n",
    "\n",
    "    m2_2 = \"Vous pourrez me joindre au 06 95 32 45 02 à l’heure convenue.\\n \\nDans l’attente de cet entretien, je reste à votre disposition si vous avez besoin d’informations complémentaires.\"\n",
    "    \n",
    "    return print(debut + destinataire +\",\\n \\n\"  + m2_1 + date +\" \"+\"à\"+\" \" + heure +\". \" + m2_2 + fin)"
   ]
  },
  {
   "cell_type": "code",
   "execution_count": 5,
   "id": "bbcb9c27",
   "metadata": {
    "scrolled": true
   },
   "outputs": [
    {
     "name": "stdin",
     "output_type": "stream",
     "text": [
      "Nom du destinataire : gyyh\n",
      "Date : k,k\n",
      "Heure : km,\n"
     ]
    },
    {
     "name": "stdout",
     "output_type": "stream",
     "text": [
      "\n",
      "\n",
      "Bonjour gyyh,\n",
      " \n",
      "Je vous remercie pour votre retour concernant ma candidature. \n",
      " \n",
      "Je vous confirme ma disponibilité pour un échange téléphonique k,k à km,. Vous pourrez me joindre au 06 95 32 45 02 à l’heure convenue.\n",
      " \n",
      "Dans l’attente de cet entretien, je reste à votre disposition si vous avez besoin d’informations complémentaires.\n",
      " \n",
      "Respectueusement,\n",
      "Issa Kachaou\n"
     ]
    }
   ],
   "source": [
    "destinataire = input(\"Nom du destinataire :\")\n",
    "date = input(\"Date :\")\n",
    "heure = input(\"Heure :\")\n",
    "print('\\n')\n",
    "mail_2(destinataire,date,heure)"
   ]
  },
  {
   "cell_type": "markdown",
   "id": "e507aa2f",
   "metadata": {},
   "source": [
    "## mail_3 : Confirmation entretien"
   ]
  },
  {
   "cell_type": "markdown",
   "id": "fa4b002a-a9f0-498e-a582-fcf5d5e6e4ef",
   "metadata": {},
   "source": [
    "Bonjour Monsieur Durand,\n",
    " \n",
    "Je vous remercie pour votre retour concernant ma candidature. \n",
    " \n",
    "Je vous confirme ma disponibilité pour un entretien vendredi 17 janvier à 10h15. Vous pourrez me joindre au 06 95 32 45 02 à l’heure convenue.\n",
    " \n",
    "Dans l’attente de cet entretien, je reste à votre disposition si vous avez besoin d’informations complémentaires.\n",
    " \n",
    "Respectueusement,\n",
    "Issa Kachaou"
   ]
  },
  {
   "cell_type": "code",
   "execution_count": 6,
   "id": "a3d54a6f",
   "metadata": {},
   "outputs": [],
   "source": [
    "def mail_3(destinataire, date, heure):\n",
    "    #destinataire = \"Monsieur De La Salle\"+\",\\n \\n\"\n",
    "\n",
    "    m3_1 = \"Je vous remercie pour votre retour concernant ma candidature. \\n \\nJe vous confirme ma disponibilité pour un entretien \"\n",
    "\n",
    "    #date = \"Mecredi 15 janvier à \"\n",
    "\n",
    "    #heure = \"10h00\"\n",
    "\n",
    "    m3_2 = \"Vous pourrez me joindre au 06 95 32 45 02 à l’heure convenue.\\n \\nDans l’attente de cet entretien, je reste à votre disposition si vous avez besoin d’informations complémentaires.\"\n",
    "    \n",
    "    return print(debut + destinataire +\",\\n \\n\"  + m3_1 + date +\" \"+\"à\"+\" \" + heure +\". \" + m3_2 + fin)"
   ]
  },
  {
   "cell_type": "code",
   "execution_count": 7,
   "id": "e9bdd350-609c-4fbe-b8e4-f00d3af81b28",
   "metadata": {},
   "outputs": [
    {
     "name": "stdin",
     "output_type": "stream",
     "text": [
      "Nom du destinataire : knln\n",
      "Date : jln\n",
      "Heure : nkln\n"
     ]
    },
    {
     "name": "stdout",
     "output_type": "stream",
     "text": [
      "\n",
      "\n",
      "Bonjour knln,\n",
      " \n",
      "Je vous remercie pour votre retour concernant ma candidature. \n",
      " \n",
      "Je vous confirme ma disponibilité pour un entretien jln à nkln. Vous pourrez me joindre au 06 95 32 45 02 à l’heure convenue.\n",
      " \n",
      "Dans l’attente de cet entretien, je reste à votre disposition si vous avez besoin d’informations complémentaires.\n",
      " \n",
      "Respectueusement,\n",
      "Issa Kachaou\n"
     ]
    }
   ],
   "source": [
    "destinataire = input(\"Nom du destinataire :\")\n",
    "date = input(\"Date :\")\n",
    "heure = input(\"Heure :\")\n",
    "print('\\n')\n",
    "mail_3(destinataire,date,heure)"
   ]
  },
  {
   "cell_type": "markdown",
   "id": "7838debd",
   "metadata": {},
   "source": [
    "## mail_4 : Confirmation d'invitation teams"
   ]
  },
  {
   "cell_type": "markdown",
   "id": "d56f5dc9-ef35-47ce-b3c1-c5e4c76ec5af",
   "metadata": {},
   "source": [
    "Bonjour méduse,\n",
    " \n",
    "Je vous confirme avoir bien reçu l’invitation Teams.\n",
    " \n",
    "Je reste à votre disposition pour toute information complémentaire.\n",
    " \n",
    "Respectueusement,\n",
    "Issa Kachaou"
   ]
  },
  {
   "cell_type": "code",
   "execution_count": 8,
   "id": "196fc7b8",
   "metadata": {},
   "outputs": [],
   "source": [
    "def mail_4(destinataire):\n",
    "    m3_1 = \"Je vous confirme avoir bien reçu l’invitation Teams.\"\n",
    "\n",
    "    m1_2 = \"Je reste à votre disposition pour toute information complémentaire.\"\n",
    "    fin = \"\\n \\nRespectueusement,\\nIssa Kachaou\"\n",
    "\n",
    "    return print(debut +destinataire +',\\n \\n'+ m3_1 + '\\n \\n' + m1_2 + fin)    "
   ]
  },
  {
   "cell_type": "code",
   "execution_count": 9,
   "id": "441919bd",
   "metadata": {
    "tags": []
   },
   "outputs": [
    {
     "name": "stdin",
     "output_type": "stream",
     "text": [
      "Destinataire : knln\n"
     ]
    },
    {
     "name": "stdout",
     "output_type": "stream",
     "text": [
      "Bonjour knln,\n",
      " \n",
      "Je vous confirme avoir bien reçu l’invitation Teams.\n",
      " \n",
      "Je reste à votre disposition pour toute information complémentaire.\n",
      " \n",
      "Respectueusement,\n",
      "Issa Kachaou\n"
     ]
    }
   ],
   "source": [
    "destinataire = input(\"Destinataire :\")\n",
    "mail_4(destinataire)"
   ]
  },
  {
   "cell_type": "markdown",
   "id": "9100c83a",
   "metadata": {},
   "source": [
    "# Mail_5 : Avoir une justification pour un refus"
   ]
  },
  {
   "cell_type": "markdown",
   "id": "68dc0708-ccd2-4981-a786-d27a60dd2c07",
   "metadata": {},
   "source": [
    "Bonjour Monsieur Mehdi,\n",
    " \n",
    "Je vous remercie pour votre retour concernant ma candidature.\n",
    " \n",
    "Afin de m’améliorer dans mes futures démarches, je serais très reconnaissant si vous pouviez m’apporter quelques précisions sur les raisons de ce refus. Cela me permettrait de mieux comprendre les attentes de votre entreprise et de travailler sur les points nécessaires.\n",
    " \n",
    "Je reste à votre disposition pour toute information complémentaire.\n",
    " \n",
    "Respectueusement,\n",
    "Issa Kachaou"
   ]
  },
  {
   "cell_type": "code",
   "execution_count": 3,
   "id": "9def8d4a",
   "metadata": {},
   "outputs": [],
   "source": [
    "def mail_5(destinataire):\n",
    "\n",
    "    m5_1 = \"Je vous remercie pour votre retour concernant ma candidature.\" \n",
    "    \n",
    "    m5_2 = \"Afin de m’améliorer dans mes futures démarches, je serais très reconnaissant si vous pouviez m’apporter quelques précisions sur les raisons de ce refus. Cela me permettrait de mieux comprendre les attentes de votre entreprise et de travailler sur les points nécessaires.\"\n",
    "\n",
    "    m5_3 = \"Je reste à votre disposition pour toute information complémentaire.\"\n",
    "    fin = \"\\n \\nRespectueusement,\\nIssa Kachaou\"\n",
    "\n",
    "    return print(debut +destinataire +',\\n \\n'+ m5_1 + '\\n \\n' + m5_2 + '\\n \\n' + m5_3 +fin)    "
   ]
  },
  {
   "cell_type": "code",
   "execution_count": 4,
   "id": "275762a3",
   "metadata": {
    "scrolled": true
   },
   "outputs": [
    {
     "name": "stdin",
     "output_type": "stream",
     "text": [
      "Destinataire : Madame Solenn\n"
     ]
    },
    {
     "name": "stdout",
     "output_type": "stream",
     "text": [
      "Bonjour Madame Solenn,\n",
      " \n",
      "Je vous remercie pour votre retour concernant ma candidature.\n",
      " \n",
      "Afin de m’améliorer dans mes futures démarches, je serais très reconnaissant si vous pouviez m’apporter quelques précisions sur les raisons de ce refus. Cela me permettrait de mieux comprendre les attentes de votre entreprise et de travailler sur les points nécessaires.\n",
      " \n",
      "Je reste à votre disposition pour toute information complémentaire.\n",
      " \n",
      "Respectueusement,\n",
      "Issa Kachaou\n"
     ]
    }
   ],
   "source": [
    "destinataire = input('Destinataire :')\n",
    "\n",
    "mail_5(destinataire)"
   ]
  },
  {
   "cell_type": "markdown",
   "id": "a619ff15-ce00-481f-b985-ac71e6f6f8c0",
   "metadata": {},
   "source": [
    "# Message linkedin : demande de conseil pour entretien"
   ]
  },
  {
   "cell_type": "markdown",
   "id": "4ab2f0b8-db07-4db1-be55-d1248a9437e9",
   "metadata": {},
   "source": [
    "Bonjour Monsieur Mehdi,\n",
    " \n",
    "J'espère que vous allez bien. Je me permets de vous contacter car je suis actuellement en préparation d'un entretien pour un stage en tant que chargé d'étude au sein de l'entreprise dans laquelle vous travaillez.\n",
    " \n",
    "Je serais très reconnaissant si vous pouviez partager quelques conseils ou insights sur le processus de recrutement et sur la culture de l'entreprise. Votre expérience serait d'une grande aide pour moi afin de mieux me préparer.\n",
    " \n",
    "Respectueusement,\n",
    "Issa Kachaou"
   ]
  },
  {
   "cell_type": "code",
   "execution_count": 2,
   "id": "aa334ff1-c660-43ba-8c4e-d0c4e66ca9e5",
   "metadata": {},
   "outputs": [],
   "source": [
    "def linkedin(destinaire, nom_poste):\n",
    "    m6_1 = \"J'espère que vous allez bien. Je me permets de vous contacter car je suis actuellement en préparation d'un entretien pour un stage en tant que\" \n",
    "\n",
    "    #nom_poste = \"chargé d'étude\"\n",
    "    \n",
    "    m6_2 = \"au sein de l'entreprise dans laquelle vous travaillez.\"\n",
    "    \n",
    "    \n",
    "    m6_3 = \"Je serais très reconnaissant si vous pouviez partager quelques conseils ou insights sur le processus de recrutement et sur la culture de l'entreprise. Votre expérience serait d'une grande aide pour moi afin de mieux me préparer.\"\n",
    "    \n",
    "    m6_4 = \"Je vous remercie d'avance pour votre temps et votre aide précieuse.\"\n",
    "    \n",
    "    return print(debut +destinataire +',\\n \\n'+ m6_1 +' '+ nom_poste +' '+ m6_2 + '\\n \\n' + m6_3 +fin)"
   ]
  },
  {
   "cell_type": "code",
   "execution_count": 3,
   "id": "21dbc30e-6bd9-43ea-8f69-9b67065fa22d",
   "metadata": {},
   "outputs": [
    {
     "name": "stdin",
     "output_type": "stream",
     "text": [
      "Destinaire : Monsieur Jolain\n",
      "Nom du poste : chargé d'étude\n"
     ]
    },
    {
     "name": "stdout",
     "output_type": "stream",
     "text": [
      "\n",
      "\n",
      "Bonjour Monsieur Jolain,\n",
      " \n",
      "J'espère que vous allez bien. Je me permets de vous contacter car je suis actuellement en préparation d'un entretien pour un stage en tant que chargé d'étude au sein de l'entreprise dans laquelle vous travaillez.\n",
      " \n",
      "Je serais très reconnaissant si vous pouviez partager quelques conseils ou insights sur le processus de recrutement et sur la culture de l'entreprise. Votre expérience serait d'une grande aide pour moi afin de mieux me préparer.\n",
      " \n",
      "Respectueusement,\n",
      "Issa Kachaou\n"
     ]
    }
   ],
   "source": [
    "destinataire = input(\"Destinaire :\")\n",
    "nom_poste = input(\"Nom du poste :\")\n",
    "print('\\n')\n",
    "linkedin(destinataire,nom_poste)"
   ]
  }
 ],
 "metadata": {
  "kernelspec": {
   "display_name": "Python 3 (ipykernel)",
   "language": "python",
   "name": "python3"
  },
  "language_info": {
   "codemirror_mode": {
    "name": "ipython",
    "version": 3
   },
   "file_extension": ".py",
   "mimetype": "text/x-python",
   "name": "python",
   "nbconvert_exporter": "python",
   "pygments_lexer": "ipython3",
   "version": "3.11.4"
  },
  "toc": {
   "base_numbering": 1,
   "nav_menu": {},
   "number_sections": true,
   "sideBar": true,
   "skip_h1_title": false,
   "title_cell": "Table of Contents",
   "title_sidebar": "Contents",
   "toc_cell": false,
   "toc_position": {
    "height": "calc(100% - 180px)",
    "left": "10px",
    "top": "150px",
    "width": "363.6px"
   },
   "toc_section_display": true,
   "toc_window_display": true
  }
 },
 "nbformat": 4,
 "nbformat_minor": 5
}
