{
 "cells": [
  {
   "cell_type": "code",
   "execution_count": 2,
   "id": "9e941303-f1b5-4ee6-9942-15f7083bd592",
   "metadata": {
    "scrolled": true,
    "tags": []
   },
   "outputs": [],
   "source": [
    "# pip install --upgrade notebook jupyterlab"
   ]
  },
  {
   "cell_type": "markdown",
   "id": "f1571586",
   "metadata": {
    "tags": []
   },
   "source": [
    "# Mail_1 : Réponse pour un mail d'étude de candidature"
   ]
  },
  {
   "cell_type": "markdown",
   "id": "a9862760-3ad6-48f5-9068-2185f78325fe",
   "metadata": {},
   "source": [
    "Bonjour Monsieur De La Salle,\n",
    " \n",
    "Merci pour votre retour et pour l’attention portée à ma candidature.\n",
    " \n",
    "Je suis ravi à l’idée que mon profil puisse potentiellement contribuer aux ambitions de Mansio. Je reste à votre disposition pour toute information complémentaire ou pour échanger lors d’un éventuel entretien.\n",
    " \n",
    "Dans l’attente de votre retour, je vous remercie encore pour cette opportunité et vous souhaite une excellente journée.\n",
    " \n",
    "Respectueusement,\n",
    "Issa Kachaou"
   ]
  },
  {
   "cell_type": "code",
   "execution_count": 14,
   "id": "8cf2fc79-523b-4dd9-a0bf-e350f24f0f54",
   "metadata": {},
   "outputs": [],
   "source": [
    "def mail_1(destinataire, nom_entreprise):\n",
    "    \n",
    "    debut = \"Bonjour\" \n",
    "    fin = \"\\n \\nRespectueusement,\\nIssa Kachaou\"\n",
    "    #destinataire = \"Monsieur De La Salle\"+\",\\n \\n\"\n",
    "\n",
    "    m1_1 = \"Je vous remercie pour votre retour concernant ma candidature. \\n \\nJe suis ravi à l’idée que mon profil puisse potentiellement contribuer aux ambitions de\"\n",
    "\n",
    "    #nom_entreprise = \"Mansio\"+\". \"\n",
    "\n",
    "    m1_2 = \"Je reste à votre disposition pour toute information complémentaire ou pour échanger lors d’un éventuel entretien.\\n \\nDans l’attente de votre retour, je vous remercie encore pour cette opportunité et vous souhaite une excellente journée.\"\n",
    "\n",
    "    #fin = \"\\n \\nRespectueusement,\\nIssa Kachaou\"\n",
    "\n",
    "    return print(f\"{debut} {destinataire},\\n\\n{m1_1} {nom_entreprise}. {m1_2}{fin}\")\n",
    "    "
   ]
  },
  {
   "cell_type": "code",
   "execution_count": 16,
   "id": "8acec23a",
   "metadata": {},
   "outputs": [
    {
     "name": "stdin",
     "output_type": "stream",
     "text": [
      "Nom du destinataire : Total\n",
      "Nom de l'entreprise : Total\n"
     ]
    },
    {
     "name": "stdout",
     "output_type": "stream",
     "text": [
      "\n",
      "\n",
      "Bonjour Total,\n",
      "\n",
      "Je vous remercie pour votre retour concernant ma candidature. \n",
      " \n",
      "Je suis ravi à l’idée que mon profil puisse potentiellement contribuer aux ambitions de Total. Je reste à votre disposition pour toute information complémentaire ou pour échanger lors d’un éventuel entretien.\n",
      " \n",
      "Dans l’attente de votre retour, je vous remercie encore pour cette opportunité et vous souhaite une excellente journée.\n",
      " \n",
      "Respectueusement,\n",
      "Issa Kachaou\n"
     ]
    }
   ],
   "source": [
    "destinataire = input(\"Nom du destinataire :\")\n",
    "nom_entreprise = input(\"Nom de l'entreprise :\")\n",
    "print('\\n')\n",
    "mail_1(destinataire,nom_entreprise)"
   ]
  },
  {
   "cell_type": "markdown",
   "id": "db1e0860",
   "metadata": {},
   "source": [
    "# Mail 2 - 4 : Réponse pour un demande de disponibilité"
   ]
  },
  {
   "cell_type": "markdown",
   "id": "cf569c08",
   "metadata": {},
   "source": [
    "## Mail_2 : Confirmation échange téléphonique"
   ]
  },
  {
   "cell_type": "markdown",
   "id": "39ecd1b4-1247-4e08-8a4f-49543d37a3c4",
   "metadata": {},
   "source": [
    "Bonjour Madame Guerin,\n",
    " \n",
    "Je vous remercie pour votre retour concernant ma candidature. \n",
    " \n",
    "Je vous confirme ma disponibilité pour un échange téléphonique mardi 21 janvier à 15h00. Vous pourrez me joindre au 06 95 32 45 02 à l’heure convenue.\n",
    " \n",
    "Dans l’attente de cet entretien, je reste à votre disposition si vous avez besoin d’informations complémentaires.\n",
    " \n",
    "Respectueusement,\n",
    "Issa Kachaou"
   ]
  },
  {
   "cell_type": "code",
   "execution_count": 1,
   "id": "a673664e-805c-416b-9559-86930e605f0a",
   "metadata": {},
   "outputs": [],
   "source": [
    "def mail_2(destinataire, date, heure):\n",
    "    #destinataire = \"Monsieur De La Salle\"+\",\\n \\n\"\n",
    "    debut = \"Bonjour\"\n",
    "    fin = \"\\n \\nRespectueusement,\\nIssa Kachaou\"\n",
    "\n",
    "    m2_1 = \"Je vous remercie pour votre retour concernant ma candidature. \\n \\nJe vous confirme ma disponibilité pour un échange téléphonique\"\n",
    "\n",
    "    #date = \"Mecredi 15 janvier à \"\n",
    "\n",
    "    #heure = \"10h00\"\n",
    "\n",
    "    m2_2 = \"Vous pourrez me joindre au 06 95 32 45 02 à l’heure convenue.\\n \\nDans l’attente de cet entretien, je reste à votre disposition si vous avez besoin d’informations complémentaires.\"\n",
    "    \n",
    "    return print(f\"{debut} {destinataire},\\n\\n{m2_1} {date} à {heure}. {m2_2}{fin}\")"
   ]
  },
  {
   "cell_type": "code",
   "execution_count": 2,
   "id": "bbcb9c27",
   "metadata": {
    "scrolled": true
   },
   "outputs": [
    {
     "name": "stdin",
     "output_type": "stream",
     "text": [
      "Nom du destinataire : Madame Aldhuy\n",
      "Date : aujourd'hui\n",
      "Heure : 14h\n"
     ]
    },
    {
     "name": "stdout",
     "output_type": "stream",
     "text": [
      "\n",
      "\n",
      "Bonjour Madame Aldhuy,\n",
      "\n",
      "Je vous remercie pour votre retour concernant ma candidature. \n",
      " \n",
      "Je vous confirme ma disponibilité pour un échange téléphonique aujourd'hui à 14h. Vous pourrez me joindre au 06 95 32 45 02 à l’heure convenue.\n",
      " \n",
      "Dans l’attente de cet entretien, je reste à votre disposition si vous avez besoin d’informations complémentaires.\n",
      " \n",
      "Respectueusement,\n",
      "Issa Kachaou\n"
     ]
    }
   ],
   "source": [
    "destinataire = input(\"Nom du destinataire :\")\n",
    "date = input(\"Date :\")\n",
    "heure = input(\"Heure :\")\n",
    "print('\\n')\n",
    "mail_2(destinataire,date,heure)"
   ]
  },
  {
   "cell_type": "markdown",
   "id": "e507aa2f",
   "metadata": {},
   "source": [
    "## mail_3 : Confirmation entretien"
   ]
  },
  {
   "cell_type": "markdown",
   "id": "fa4b002a-a9f0-498e-a582-fcf5d5e6e4ef",
   "metadata": {},
   "source": [
    "Bonjour Monsieur Durand,\n",
    " \n",
    "Je vous remercie pour votre retour concernant ma candidature. \n",
    " \n",
    "Je vous confirme ma disponibilité pour un entretien vendredi 17 janvier à 10h15. Vous pourrez me joindre au 06 95 32 45 02 à l’heure convenue.\n",
    " \n",
    "Dans l’attente de cet entretien, je reste à votre disposition si vous avez besoin d’informations complémentaires.\n",
    " \n",
    "Respectueusement,\n",
    "Issa Kachaou"
   ]
  },
  {
   "cell_type": "code",
   "execution_count": 22,
   "id": "a3d54a6f",
   "metadata": {},
   "outputs": [],
   "source": [
    "def mail_3(destinataire, date, heure):\n",
    "    #destinataire = \"Monsieur De La Salle\"+\",\\n \\n\"\n",
    "    debut = \"Bonjour\" \n",
    "    fin = \"\\n \\nRespectueusement,\\nIssa Kachaou\"\n",
    "\n",
    "    m3_1 = \"Je vous remercie pour votre retour concernant ma candidature. \\n \\nJe vous confirme ma disponibilité pour un entretien\"\n",
    "\n",
    "    #date = \"Mecredi 15 janvier à \"\n",
    "\n",
    "    #heure = \"10h00\"\n",
    "\n",
    "    m3_2 = \"Vous pourrez me joindre au 06 95 32 45 02 à l’heure convenue.\\n \\nDans l’attente de cet entretien, je reste à votre disposition si vous avez besoin d’informations complémentaires.\"\n",
    "    \n",
    "    return print(f\"{debut} {destinataire},\\n\\n{m3_1} {date} à {heure}. {m3_2}{fin}\")"
   ]
  },
  {
   "cell_type": "code",
   "execution_count": 23,
   "id": "e9bdd350-609c-4fbe-b8e4-f00d3af81b28",
   "metadata": {},
   "outputs": [
    {
     "name": "stdin",
     "output_type": "stream",
     "text": [
      "Nom du destinataire : M. Z\n",
      "Date : jeudi 30 janvier\n",
      "Heure : 15h00\n"
     ]
    },
    {
     "name": "stdout",
     "output_type": "stream",
     "text": [
      "\n",
      "\n",
      "Bonjour M. Z,\n",
      "\n",
      "Je vous remercie pour votre retour concernant ma candidature. \n",
      " \n",
      "Je vous confirme ma disponibilité pour un entretien jeudi 30 janvier à 15h00. Vous pourrez me joindre au 06 95 32 45 02 à l’heure convenue.\n",
      " \n",
      "Dans l’attente de cet entretien, je reste à votre disposition si vous avez besoin d’informations complémentaires.\n",
      " \n",
      "Respectueusement,\n",
      "Issa Kachaou\n"
     ]
    }
   ],
   "source": [
    "destinataire = input(\"Nom du destinataire :\")\n",
    "date = input(\"Date :\")\n",
    "heure = input(\"Heure :\")\n",
    "print('\\n')\n",
    "mail_3(destinataire,date,heure)"
   ]
  },
  {
   "cell_type": "markdown",
   "id": "7838debd",
   "metadata": {},
   "source": [
    "## mail_4 : Confirmation d'invitation teams"
   ]
  },
  {
   "cell_type": "markdown",
   "id": "d56f5dc9-ef35-47ce-b3c1-c5e4c76ec5af",
   "metadata": {},
   "source": [
    "Bonjour méduse,\n",
    " \n",
    "Je vous confirme avoir bien reçu l’invitation Teams.\n",
    " \n",
    "Je reste à votre disposition pour toute information complémentaire.\n",
    " \n",
    "Respectueusement,\n",
    "Issa Kachaou"
   ]
  },
  {
   "cell_type": "code",
   "execution_count": 1,
   "id": "196fc7b8",
   "metadata": {},
   "outputs": [],
   "source": [
    "def mail_4(destinataire):\n",
    "    debut = \"Bonjour\" \n",
    "    fin = \"\\n \\nRespectueusement,\\nIssa Kachaou\"\n",
    "    m4_1 = \"Je vous confirme avoir bien reçu l’invitation Teams.\"\n",
    "\n",
    "    m4_2 = \"Je reste à votre disposition pour toute information complémentaire.\"\n",
    "    fin = \"\\n \\nRespectueusement,\\nIssa Kachaou\"\n",
    "\n",
    "    return print(f\"{debut} {destinataire},\\n\\n{m4_1}\\n\\n{m4_2}{fin}\")  "
   ]
  },
  {
   "cell_type": "code",
   "execution_count": 2,
   "id": "441919bd",
   "metadata": {
    "tags": []
   },
   "outputs": [
    {
     "name": "stdin",
     "output_type": "stream",
     "text": [
      "Destinataire : Madame Aldhuy\n"
     ]
    },
    {
     "name": "stdout",
     "output_type": "stream",
     "text": [
      "\n",
      "\n",
      "Bonjour Madame Aldhuy,\n",
      "\n",
      "Je vous confirme avoir bien reçu l’invitation Teams.\n",
      "\n",
      "Je reste à votre disposition pour toute information complémentaire.\n",
      " \n",
      "Respectueusement,\n",
      "Issa Kachaou\n"
     ]
    }
   ],
   "source": [
    "destinataire = input(\"Destinataire :\")\n",
    "print('\\n')\n",
    "mail_4(destinataire)"
   ]
  },
  {
   "cell_type": "markdown",
   "id": "bc95d019-bf0d-4d80-a0ef-2c545bb473a1",
   "metadata": {},
   "source": [
    "## mail_6 Confirmation de disponibilité teams "
   ]
  },
  {
   "cell_type": "markdown",
   "id": "72550d72-7892-43b4-9577-08be33e7b9c5",
   "metadata": {},
   "source": [
    "Bonjour Madame Guerin,\n",
    " \n",
    "Je vous remercie pour votre retour concernant ma candidature. \n",
    " \n",
    "Je vous confirme ma disponibilité pour un entretien vendredi 24 janvier à 15h00 via teams\n",
    " \n",
    "Dans l’attente de cet entretien, je reste à votre disposition si vous avez besoin d’informations complémentaires.\n",
    " \n",
    "Respectueusement,\n",
    "Issa Kachaou"
   ]
  },
  {
   "cell_type": "code",
   "execution_count": 33,
   "id": "7b634642-c0e3-47c8-8686-53b352417448",
   "metadata": {},
   "outputs": [],
   "source": [
    "def mail_6(destinataire, date, heure):\n",
    "    debut = \"Bonjour\"\n",
    "    fin = \"\\n\\nRespectueusement,\\nIssa Kachaou\"\n",
    "\n",
    "    message = (\n",
    "        \"Je vous remercie pour votre retour concernant ma candidature.\\n\\n\"\n",
    "        f\"Je vous confirme ma disponibilité pour un entretien {date} à {heure} via Teams.\\n\\n\"\n",
    "        \"Dans l’attente de cet entretien, je reste à votre disposition si vous avez besoin d’informations complémentaires.\"\n",
    "    )\n",
    "\n",
    "    return print(f\"{debut} {destinataire},\\n\\n{message}{fin}\")"
   ]
  },
  {
   "cell_type": "code",
   "execution_count": 34,
   "id": "35a215e9-ec45-424c-acfb-66a2df8e5a19",
   "metadata": {
    "tags": []
   },
   "outputs": [
    {
     "name": "stdin",
     "output_type": "stream",
     "text": [
      "Nom du destinataire : M. Z\n",
      "Date : jeudi 30 janvier\n",
      "Heure : 15h00\n"
     ]
    },
    {
     "name": "stdout",
     "output_type": "stream",
     "text": [
      "\n",
      "\n",
      "Bonjour M. Z,\n",
      "\n",
      "Je vous remercie pour votre retour concernant ma candidature.\n",
      "\n",
      "Je vous confirme ma disponibilité pour un entretien jeudi 30 janvier à 15h00 via Teams.\n",
      "\n",
      "Dans l’attente de cet entretien, je reste à votre disposition si vous avez besoin d’informations complémentaires.\n",
      "\n",
      "Respectueusement,\n",
      "Issa Kachaou\n"
     ]
    }
   ],
   "source": [
    "destinataire = input(\"Nom du destinataire :\")\n",
    "date = input(\"Date :\")\n",
    "heure = input(\"Heure :\")\n",
    "print('\\n')\n",
    "mail_6(destinataire,date,heure)"
   ]
  },
  {
   "cell_type": "markdown",
   "id": "9100c83a",
   "metadata": {},
   "source": [
    "# Mail_5 : Avoir une justification pour un refus"
   ]
  },
  {
   "cell_type": "markdown",
   "id": "68dc0708-ccd2-4981-a786-d27a60dd2c07",
   "metadata": {},
   "source": [
    "Bonjour Monsieur Mehdi,\n",
    " \n",
    "Je vous remercie pour votre retour concernant ma candidature.\n",
    " \n",
    "Afin de m’améliorer dans mes futures démarches, je serais très reconnaissant si vous pouviez m’apporter quelques précisions sur les raisons de ce refus. Cela me permettrait de mieux comprendre les attentes de votre entreprise et de travailler sur les points nécessaires.\n",
    " \n",
    "Je reste à votre disposition pour toute information complémentaire.\n",
    " \n",
    "Respectueusement,\n",
    "Issa Kachaou"
   ]
  },
  {
   "cell_type": "code",
   "execution_count": 35,
   "id": "9def8d4a",
   "metadata": {},
   "outputs": [],
   "source": [
    "def mail_5(destinataire):\n",
    "    debut = \"Bonjour\" \n",
    "    fin = \"\\n \\nRespectueusement,\\nIssa Kachaou\"\n",
    "\n",
    "    m5_1 = \"Je vous remercie pour votre retour concernant ma candidature.\" \n",
    "    \n",
    "    m5_2 = \"Afin de m’améliorer dans mes futures démarches, je serais très reconnaissant si vous pouviez m’apporter quelques précisions sur les raisons de ce refus. Cela me permettrait de mieux comprendre les attentes de votre entreprise et de travailler sur les points nécessaires.\"\n",
    "\n",
    "    m5_3 = \"Je reste à votre disposition pour toute information complémentaire.\"\n",
    "    fin = \"\\n \\nRespectueusement,\\nIssa Kachaou\"\n",
    "\n",
    "    return print(f\"{debut} {destinataire},\\n\\n{m5_1}\\n\\n{m5_2}\\n\\n{m5_3}{fin}\")    "
   ]
  },
  {
   "cell_type": "code",
   "execution_count": 36,
   "id": "275762a3",
   "metadata": {
    "scrolled": true
   },
   "outputs": [
    {
     "name": "stdin",
     "output_type": "stream",
     "text": [
      "Destinataire : M. Z\n"
     ]
    },
    {
     "name": "stdout",
     "output_type": "stream",
     "text": [
      "Bonjour M. Z,\n",
      "\n",
      "Je vous remercie pour votre retour concernant ma candidature.\n",
      "\n",
      "Afin de m’améliorer dans mes futures démarches, je serais très reconnaissant si vous pouviez m’apporter quelques précisions sur les raisons de ce refus. Cela me permettrait de mieux comprendre les attentes de votre entreprise et de travailler sur les points nécessaires.\n",
      "\n",
      "Je reste à votre disposition pour toute information complémentaire.\n",
      " \n",
      "Respectueusement,\n",
      "Issa Kachaou\n"
     ]
    }
   ],
   "source": [
    "destinataire = input('Destinataire :')\n",
    "\n",
    "mail_5(destinataire)"
   ]
  },
  {
   "cell_type": "markdown",
   "id": "a619ff15-ce00-481f-b985-ac71e6f6f8c0",
   "metadata": {},
   "source": [
    "# Message linkedin : demande de conseil pour entretien"
   ]
  },
  {
   "cell_type": "markdown",
   "id": "4ab2f0b8-db07-4db1-be55-d1248a9437e9",
   "metadata": {},
   "source": [
    "Bonjour Monsieur Mehdi,\n",
    " \n",
    "J'espère que vous allez bien. Je me permets de vous contacter car je suis actuellement en préparation d'un entretien pour un stage en tant que chargé d'étude au sein de l'entreprise dans laquelle vous travaillez.\n",
    " \n",
    "Je serais très reconnaissant si vous pouviez partager quelques conseils ou insights sur le processus de recrutement et sur la culture de l'entreprise. Votre expérience serait d'une grande aide pour moi afin de mieux me préparer.\n",
    " \n",
    "Respectueusement,\n",
    "Issa Kachaou"
   ]
  },
  {
   "cell_type": "code",
   "execution_count": 37,
   "id": "aa334ff1-c660-43ba-8c4e-d0c4e66ca9e5",
   "metadata": {},
   "outputs": [],
   "source": [
    "def linkedin(destinaire, nom_poste):\n",
    "    debut = \"Bonjour\" \n",
    "    fin = \"\\n \\nRespectueusement,\\nIssa Kachaou\"\n",
    "    m6_1 = \"J'espère que vous allez bien. Je me permets de vous contacter car je suis actuellement en préparation d'un entretien pour un stage en tant que\" \n",
    "\n",
    "    #nom_poste = \"chargé d'étude\"\n",
    "    \n",
    "    m6_2 = \"au sein de l'entreprise dans laquelle vous travaillez.\"\n",
    "    \n",
    "    \n",
    "    m6_3 = \"Je serais très reconnaissant si vous pouviez partager quelques conseils ou insights sur le processus de recrutement et sur la culture de l'entreprise. Votre expérience serait d'une grande aide pour moi afin de mieux me préparer.\"\n",
    "    \n",
    "    m6_4 = \"Je vous remercie d'avance pour votre temps et votre aide précieuse.\"\n",
    "    \n",
    "    return print(f\"{debut} {destinataire},\\n\\n{m6_1} {nom_poste} {m6_2}\\n\\n{m6_3}\\n\\n{m6_4}{fin}\")"
   ]
  },
  {
   "cell_type": "code",
   "execution_count": 38,
   "id": "21dbc30e-6bd9-43ea-8f69-9b67065fa22d",
   "metadata": {},
   "outputs": [
    {
     "name": "stdin",
     "output_type": "stream",
     "text": [
      "Destinaire : M. Z\n",
      "Nom du poste : Bariste\n"
     ]
    },
    {
     "name": "stdout",
     "output_type": "stream",
     "text": [
      "\n",
      "\n",
      "Bonjour M. Z,\n",
      "\n",
      "J'espère que vous allez bien. Je me permets de vous contacter car je suis actuellement en préparation d'un entretien pour un stage en tant que Bariste au sein de l'entreprise dans laquelle vous travaillez.\n",
      "\n",
      "Je serais très reconnaissant si vous pouviez partager quelques conseils ou insights sur le processus de recrutement et sur la culture de l'entreprise. Votre expérience serait d'une grande aide pour moi afin de mieux me préparer.\n",
      "\n",
      "Je vous remercie d'avance pour votre temps et votre aide précieuse.\n",
      " \n",
      "Respectueusement,\n",
      "Issa Kachaou\n"
     ]
    }
   ],
   "source": [
    "destinataire = input(\"Destinaire :\")\n",
    "nom_poste = input(\"Nom du poste :\")\n",
    "print('\\n')\n",
    "linkedin(destinataire,nom_poste)"
   ]
  },
  {
   "cell_type": "markdown",
   "id": "ab7a77ff-3107-42e4-a90f-c83a7e06809f",
   "metadata": {},
   "source": [
    "# Mail_7 : Remerciement pour un entretient"
   ]
  },
  {
   "cell_type": "code",
   "execution_count": 1,
   "id": "d7007f4d-a0af-420e-9889-824cbb633bac",
   "metadata": {
    "scrolled": true
   },
   "outputs": [],
   "source": [
    "def mail_remerciement(destinataire, nom_entreprise, details_entretien):\n",
    "    \"\"\"\n",
    "    Génère un mail de remerciement personnalisé après un entretien.\n",
    "    \n",
    "    :param destinataire: Nom du recruteur (ex: \"Monsieur Dupont\")\n",
    "    :param nom_entreprise: Nom de l'entreprise\n",
    "    :param details_entretien: Élément marquant de l’entretien pour montrer son intérêt\n",
    "    :return: Texte du mail\n",
    "    \"\"\"\n",
    "    \n",
    "    debut = f\"Bonjour {destinataire},\\n\\n\"\n",
    "    \n",
    "    corps = (\n",
    "        f\"Je tiens à vous remercier sincèrement pour l’entretien que nous avons eu récemment. \"\n",
    "        f\"J’ai particulièrement apprécié notre échange, notamment sur {details_entretien}. \\n\\n\"\n",
    "        f\"Cet entretien a renforcé mon enthousiasme à l'idée de rejoindre {nom_entreprise} et de contribuer à ses projets. \"\n",
    "        f\"J’ai été séduit par la vision et les défis que vous avez partagés, et je serais ravi de mettre mes compétences au service de votre équipe. \\n\\n\"\n",
    "        f\"Je reste bien entendu à votre disposition pour toute information complémentaire. \"\n",
    "        f\"Dans l’attente de votre retour, je vous remercie encore pour cette opportunité et vous souhaite une excellente journée.\"\n",
    "    )\n",
    "    \n",
    "    fin = \"\\n\\nRespectueusement,\\nIssa Kachaou\"\n",
    "    \n",
    "    return print(debut + corps + fin)"
   ]
  },
  {
   "cell_type": "code",
   "execution_count": 2,
   "id": "08f4b589-3ff5-4f18-a028-ff948deb981a",
   "metadata": {
    "scrolled": true
   },
   "outputs": [
    {
     "name": "stdin",
     "output_type": "stream",
     "text": [
      "Destinaire : Madame Cardoso\n",
      "Nom de l'entreprise : Fitness Park\n",
      "Détails notable de l'entretien : la dimension hybride de stage\n"
     ]
    },
    {
     "name": "stdout",
     "output_type": "stream",
     "text": [
      "\n",
      "\n",
      "OBJET : Remerciements pour notre entretien et intérêt pour le stage\n",
      "\n",
      "\n",
      "Bonjour Madame Cardoso,\n",
      "\n",
      "Je tiens à vous remercier sincèrement pour l’entretien que nous avons eu récemment. J’ai particulièrement apprécié notre échange, notamment sur la dimension hybride de stage. \n",
      "\n",
      "Cet entretien a renforcé mon enthousiasme à l'idée de rejoindre Fitness Park et de contribuer à ses projets. J’ai été séduit par la vision et les défis que vous avez partagés, et je serais ravi de mettre mes compétences au service de votre équipe. \n",
      "\n",
      "Je reste bien entendu à votre disposition pour toute information complémentaire. Dans l’attente de votre retour, je vous remercie encore pour cette opportunité et vous souhaite une excellente journée.\n",
      "\n",
      "Respectueusement,\n",
      "Issa Kachaou\n"
     ]
    }
   ],
   "source": [
    "destinataire = input(\"Destinaire :\")\n",
    "nom_entreprise = input(\"Nom de l'entreprise :\")\n",
    "details_entretien = input(\"Détails notable de l'entretien :\")\n",
    "print('\\n')\n",
    "print('OBJET : Remerciements pour notre entretien et intérêt pour le stage')\n",
    "print('\\n')\n",
    "mail_remerciement(destinataire,nom_entreprise,details_entretien)"
   ]
  },
  {
   "cell_type": "markdown",
   "id": "f4f81b3d-8175-43ce-830d-7051cefa7b9f",
   "metadata": {},
   "source": [
    "# Mail_8 : Suivis de candidature après entretient "
   ]
  },
  {
   "cell_type": "code",
   "execution_count": 1,
   "id": "016d11dc-214c-419f-a734-dc580268a70e",
   "metadata": {},
   "outputs": [],
   "source": [
    "def mail_relance_rh(destinataire, nom_entreprise, details_entretien):\n",
    "    \"\"\"\n",
    "    Génère un mail de relance personnalisé après un entretien, destiné aux RH.\n",
    "    \n",
    "    :param destinataire: Nom du RH (ex: \"Madame Dupont\")\n",
    "    :param nom_entreprise: Nom de l'entreprise\n",
    "    :param details_entretien: Élément marquant de l’entretien pour montrer son intérêt\n",
    "    :return: Texte du mail\n",
    "    \"\"\"\n",
    "    \n",
    "    debut = f\"Bonjour {destinataire},\\n\\n\"\n",
    "    \n",
    "    corps = (\n",
    "        f\"Je me permets de revenir vers vous suite à l’entretien que j’ai eu récemment dans le cadre du processus de recrutement chez {nom_entreprise}. \"\n",
    "        f\"J’ai particulièrement apprécié l’échange sur {details_entretien}, ce qui a renforcé mon intérêt pour le poste. \\n\\n\"\n",
    "        f\"Je souhaitais savoir où en était le processus de recrutement et s’il était possible d’avoir un retour sur l’avancement de ma candidature. \"\n",
    "        f\"Je reste très enthousiaste à l'idée de rejoindre {nom_entreprise} et de contribuer à ses projets. \\n\\n\"\n",
    "        f\"Je me tiens bien entendu à votre disposition pour tout complément d'information. \"\n",
    "        f\"Dans l'attente de votre retour, je vous remercie pour votre temps et vous souhaite une excellente journée.\"\n",
    "    )\n",
    "    \n",
    "    fin = \"\\n\\nRespectueusement,\\nIssa Kachaou\"\n",
    "    \n",
    "    return print(debut + corps + fin)"
   ]
  },
  {
   "cell_type": "code",
   "execution_count": 2,
   "id": "b3a084fd-7a43-4efa-a9c2-c3b212f50536",
   "metadata": {},
   "outputs": [
    {
     "name": "stdin",
     "output_type": "stream",
     "text": [
      "Destinaire : Madame Aldhuy\n",
      "Nom de l'entreprise : Fitness Park\n",
      "Détails notable de l'entretien : la dimension transversale du stage\n"
     ]
    },
    {
     "name": "stdout",
     "output_type": "stream",
     "text": [
      "\n",
      "\n",
      "OBJET : Suivi de candidature et intérêt pour le poste\n",
      "\n",
      "\n",
      "Bonjour Madame Aldhuy,\n",
      "\n",
      "Je me permets de revenir vers vous suite à l’entretien que j’ai eu récemment dans le cadre du processus de recrutement chez Fitness Park. J’ai particulièrement apprécié l’échange sur la dimension transversale du stage, ce qui a renforcé mon intérêt pour le poste. \n",
      "\n",
      "Je souhaitais savoir où en était le processus de recrutement et s’il était possible d’avoir un retour sur l’avancement de ma candidature. Je reste très enthousiaste à l'idée de rejoindre Fitness Park et de contribuer à ses projets. \n",
      "\n",
      "Je me tiens bien entendu à votre disposition pour tout complément d'information. Dans l'attente de votre retour, je vous remercie pour votre temps et vous souhaite une excellente journée.\n",
      "\n",
      "Respectueusement,\n",
      "Issa Kachaou\n"
     ]
    }
   ],
   "source": [
    "destinataire = input(\"Destinaire :\")\n",
    "nom_entreprise = input(\"Nom de l'entreprise :\")\n",
    "details_entretien = input(\"Détails notable de l'entretien :\")\n",
    "print('\\n')\n",
    "print('OBJET : Suivi de candidature et intérêt pour le poste')\n",
    "print('\\n')\n",
    "mail_relance_rh(destinataire,nom_entreprise,details_entretien)"
   ]
  }
 ],
 "metadata": {
  "kernelspec": {
   "display_name": "Python 3 (ipykernel)",
   "language": "python",
   "name": "python3"
  },
  "language_info": {
   "codemirror_mode": {
    "name": "ipython",
    "version": 3
   },
   "file_extension": ".py",
   "mimetype": "text/x-python",
   "name": "python",
   "nbconvert_exporter": "python",
   "pygments_lexer": "ipython3",
   "version": "3.12.7"
  },
  "toc": {
   "base_numbering": 1,
   "nav_menu": {},
   "number_sections": true,
   "sideBar": true,
   "skip_h1_title": false,
   "title_cell": "Table of Contents",
   "title_sidebar": "Contents",
   "toc_cell": false,
   "toc_position": {
    "height": "calc(100% - 180px)",
    "left": "10px",
    "top": "150px",
    "width": "363.6px"
   },
   "toc_section_display": true,
   "toc_window_display": true
  },
  "toc-autonumbering": true,
  "toc-showcode": false,
  "toc-showmarkdowntxt": false
 },
 "nbformat": 4,
 "nbformat_minor": 5
}
