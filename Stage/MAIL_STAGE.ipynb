{
 "cells": [
  {
   "cell_type": "markdown",
   "id": "f1571586",
   "metadata": {},
   "source": [
    "# Mail_1 : Réponse pour un mail d'étude de candidature"
   ]
  },
  {
   "cell_type": "markdown",
   "id": "a9862760-3ad6-48f5-9068-2185f78325fe",
   "metadata": {},
   "source": [
    "Bonjour Monsieur De La Salle,\n",
    " \n",
    "Merci pour votre retour et pour l’attention portée à ma candidature.\n",
    " \n",
    "Je suis ravi à l’idée que mon profil puisse potentiellement contribuer aux ambitions de Mansio. Je reste à votre disposition pour toute information complémentaire ou pour échanger lors d’un éventuel entretien.\n",
    " \n",
    "Dans l’attente de votre retour, je vous remercie encore pour cette opportunité et vous souhaite une excellente journée.\n",
    " \n",
    "Respectueusement,\n",
    "Issa Kachaou"
   ]
  },
  {
   "cell_type": "code",
   "execution_count": 1,
   "id": "3230b14b-a2a5-4e80-bda6-bb070d88c578",
   "metadata": {},
   "outputs": [],
   "source": [
    "debut = \"Bonjour \" \n",
    "fin = \"\\n \\nRespectueusement,\\nIssa Kachaou\""
   ]
  },
  {
   "cell_type": "code",
   "execution_count": 2,
   "id": "09964c9c",
   "metadata": {},
   "outputs": [],
   "source": [
    "def mail_1(destinataire, nom_entreprise):\n",
    "    \n",
    "    debut = \"Bonjour \" \n",
    "    \n",
    "    #destinataire = \"Monsieur De La Salle\"+\",\\n \\n\"\n",
    "\n",
    "    m1_1 = \"Je vous remercie pour votre retour concernant ma candidature. \\n \\nJe suis ravi à l’idée que mon profil puisse potentiellement contribuer aux ambitions de \"\n",
    "\n",
    "    #nom_entreprise = \"Mansio\"+\". \"\n",
    "\n",
    "    m1_2 = \"Je reste à votre disposition pour toute information complémentaire ou pour échanger lors d’un éventuel entretien.\\n \\nDans l’attente de votre retour, je vous remercie encore pour cette opportunité et vous souhaite une excellente journée.\"\n",
    "\n",
    "    #fin = \"\\n \\nRespectueusement,\\nIssa Kachaou\"\n",
    "\n",
    "    return print(debut + destinataire +\",\\n \\n\" + m1_1 + nom_entreprise +\". \" + m1_2 + fin)\n",
    "    "
   ]
  },
  {
   "cell_type": "code",
   "execution_count": 3,
   "id": "8acec23a",
   "metadata": {},
   "outputs": [
    {
     "name": "stdout",
     "output_type": "stream",
     "text": [
      "Bonjour Madame X,\n",
      " \n",
      "Je vous remercie pour votre retour concernant ma candidature. \n",
      " \n",
      "Je suis ravi à l’idée que mon profil puisse potentiellement contribuer aux ambitions de PAF industrie. Je reste à votre disposition pour toute information complémentaire ou pour échanger lors d’un éventuel entretien.\n",
      " \n",
      "Dans l’attente de votre retour, je vous remercie encore pour cette opportunité et vous souhaite une excellente journée.\n",
      " \n",
      "Respectueusement,\n",
      "Issa Kachaou\n"
     ]
    }
   ],
   "source": [
    "des2 = \"Madame X\"\n",
    "en = \"PAF industrie\"\n",
    "mail_1(des2,en)"
   ]
  },
  {
   "cell_type": "markdown",
   "id": "db1e0860",
   "metadata": {},
   "source": [
    "# Mail 2 - 4 : Réponse pour un demande de disponibilité"
   ]
  },
  {
   "cell_type": "markdown",
   "id": "cf569c08",
   "metadata": {},
   "source": [
    "## Mail_2 : Confirmation échange téléphonique"
   ]
  },
  {
   "cell_type": "markdown",
   "id": "39ecd1b4-1247-4e08-8a4f-49543d37a3c4",
   "metadata": {},
   "source": [
    "Bonjour Madame Guerin,\n",
    " \n",
    "Je vous remercie pour votre retour concernant ma candidature. \n",
    " \n",
    "Je vous confirme ma disponibilité pour un échange téléphonique mardi 21 janvier à 15h00. Vous pourrez me joindre au 06 95 32 45 02 à l’heure convenue.\n",
    " \n",
    "Dans l’attente de cet entretien, je reste à votre disposition si vous avez besoin d’informations complémentaires.\n",
    " \n",
    "Respectueusement,\n",
    "Issa Kachaou"
   ]
  },
  {
   "cell_type": "code",
   "execution_count": 4,
   "id": "a673664e-805c-416b-9559-86930e605f0a",
   "metadata": {},
   "outputs": [],
   "source": [
    "def mail_2(destinataire, date, heure):\n",
    "    #destinataire = \"Monsieur De La Salle\"+\",\\n \\n\"\n",
    "\n",
    "    m2_1 = \"Je vous remercie pour votre retour concernant ma candidature. \\n \\nJe vous confirme ma disponibilité pour un échange téléphonique \"\n",
    "\n",
    "    #date = \"Mecredi 15 janvier à \"\n",
    "\n",
    "    #heure = \"10h00\"\n",
    "\n",
    "    m2_2 = \"Vous pourrez me joindre au 06 95 32 45 02 à l’heure convenue.\\n \\nDans l’attente de cet entretien, je reste à votre disposition si vous avez besoin d’informations complémentaires.\"\n",
    "    \n",
    "    return print(debut + destinataire +\",\\n \\n\"  + m2_1 + date +\" \"+\"à\"+\" \" + heure +\". \" + m2_2 + fin)"
   ]
  },
  {
   "cell_type": "code",
   "execution_count": 5,
   "id": "bbcb9c27",
   "metadata": {
    "scrolled": true
   },
   "outputs": [
    {
     "name": "stdin",
     "output_type": "stream",
     "text": [
      "Nom du destinataire : gyyh\n",
      "Date : k,k\n",
      "Heure : km,\n"
     ]
    },
    {
     "name": "stdout",
     "output_type": "stream",
     "text": [
      "\n",
      "\n",
      "Bonjour gyyh,\n",
      " \n",
      "Je vous remercie pour votre retour concernant ma candidature. \n",
      " \n",
      "Je vous confirme ma disponibilité pour un échange téléphonique k,k à km,. Vous pourrez me joindre au 06 95 32 45 02 à l’heure convenue.\n",
      " \n",
      "Dans l’attente de cet entretien, je reste à votre disposition si vous avez besoin d’informations complémentaires.\n",
      " \n",
      "Respectueusement,\n",
      "Issa Kachaou\n"
     ]
    }
   ],
   "source": [
    "destinataire = input(\"Nom du destinataire :\")\n",
    "date = input(\"Date :\")\n",
    "heure = input(\"Heure :\")\n",
    "print('\\n')\n",
    "mail_2(destinataire,date,heure)"
   ]
  },
  {
   "cell_type": "markdown",
   "id": "e507aa2f",
   "metadata": {},
   "source": [
    "## mail_3 : Confirmation entretien"
   ]
  },
  {
   "cell_type": "markdown",
   "id": "fa4b002a-a9f0-498e-a582-fcf5d5e6e4ef",
   "metadata": {},
   "source": [
    "Bonjour Monsieur Durand,\n",
    " \n",
    "Je vous remercie pour votre retour concernant ma candidature. \n",
    " \n",
    "Je vous confirme ma disponibilité pour un entretien vendredi 17 janvier à 10h15. Vous pourrez me joindre au 06 95 32 45 02 à l’heure convenue.\n",
    " \n",
    "Dans l’attente de cet entretien, je reste à votre disposition si vous avez besoin d’informations complémentaires.\n",
    " \n",
    "Respectueusement,\n",
    "Issa Kachaou"
   ]
  },
  {
   "cell_type": "code",
   "execution_count": 6,
   "id": "a3d54a6f",
   "metadata": {},
   "outputs": [],
   "source": [
    "def mail_3(destinataire, date, heure):\n",
    "    #destinataire = \"Monsieur De La Salle\"+\",\\n \\n\"\n",
    "\n",
    "    m3_1 = \"Je vous remercie pour votre retour concernant ma candidature. \\n \\nJe vous confirme ma disponibilité pour un entretien \"\n",
    "\n",
    "    #date = \"Mecredi 15 janvier à \"\n",
    "\n",
    "    #heure = \"10h00\"\n",
    "\n",
    "    m3_2 = \"Vous pourrez me joindre au 06 95 32 45 02 à l’heure convenue.\\n \\nDans l’attente de cet entretien, je reste à votre disposition si vous avez besoin d’informations complémentaires.\"\n",
    "    \n",
    "    return print(debut + destinataire +\",\\n \\n\"  + m3_1 + date +\" \"+\"à\"+\" \" + heure +\". \" + m3_2 + fin)"
   ]
  },
  {
   "cell_type": "code",
   "execution_count": 7,
   "id": "e9bdd350-609c-4fbe-b8e4-f00d3af81b28",
   "metadata": {},
   "outputs": [
    {
     "name": "stdin",
     "output_type": "stream",
     "text": [
      "Nom du destinataire : knln\n",
      "Date : jln\n",
      "Heure : nkln\n"
     ]
    },
    {
     "name": "stdout",
     "output_type": "stream",
     "text": [
      "\n",
      "\n",
      "Bonjour knln,\n",
      " \n",
      "Je vous remercie pour votre retour concernant ma candidature. \n",
      " \n",
      "Je vous confirme ma disponibilité pour un entretien jln à nkln. Vous pourrez me joindre au 06 95 32 45 02 à l’heure convenue.\n",
      " \n",
      "Dans l’attente de cet entretien, je reste à votre disposition si vous avez besoin d’informations complémentaires.\n",
      " \n",
      "Respectueusement,\n",
      "Issa Kachaou\n"
     ]
    }
   ],
   "source": [
    "destinataire = input(\"Nom du destinataire :\")\n",
    "date = input(\"Date :\")\n",
    "heure = input(\"Heure :\")\n",
    "print('\\n')\n",
    "mail_3(destinataire,date,heure)"
   ]
  },
  {
   "cell_type": "markdown",
   "id": "7838debd",
   "metadata": {},
   "source": [
    "## mail_4 : Confirmation d'invitation teams"
   ]
  },
  {
   "cell_type": "markdown",
   "id": "d56f5dc9-ef35-47ce-b3c1-c5e4c76ec5af",
   "metadata": {},
   "source": [
    "Bonjour méduse,\n",
    " \n",
    "Je vous confirme avoir bien reçu l’invitation Teams.\n",
    " \n",
    "Je reste à votre disposition pour toute information complémentaire.\n",
    " \n",
    "Respectueusement,\n",
    "Issa Kachaou"
   ]
  },
  {
   "cell_type": "code",
   "execution_count": 8,
   "id": "196fc7b8",
   "metadata": {},
   "outputs": [],
   "source": [
    "def mail_4(destinataire):\n",
    "    m3_1 = \"Je vous confirme avoir bien reçu l’invitation Teams.\"\n",
    "\n",
    "    m1_2 = \"Je reste à votre disposition pour toute information complémentaire.\"\n",
    "    fin = \"\\n \\nRespectueusement,\\nIssa Kachaou\"\n",
    "\n",
    "    return print(debut +destinataire +',\\n \\n'+ m3_1 + '\\n \\n' + m1_2 + fin)    "
   ]
  },
  {
   "cell_type": "code",
   "execution_count": 9,
   "id": "441919bd",
   "metadata": {
    "tags": []
   },
   "outputs": [
    {
     "name": "stdin",
     "output_type": "stream",
     "text": [
      "Destinataire : knln\n"
     ]
    },
    {
     "name": "stdout",
     "output_type": "stream",
     "text": [
      "Bonjour knln,\n",
      " \n",
      "Je vous confirme avoir bien reçu l’invitation Teams.\n",
      " \n",
      "Je reste à votre disposition pour toute information complémentaire.\n",
      " \n",
      "Respectueusement,\n",
      "Issa Kachaou\n"
     ]
    }
   ],
   "source": [
    "destinataire = input(\"Destinataire :\")\n",
    "mail_4(destinataire)"
   ]
  },
  {
   "cell_type": "markdown",
   "id": "9100c83a",
   "metadata": {},
   "source": [
    "# Mail_5 : Avoir une justification pour un refus"
   ]
  },
  {
   "cell_type": "markdown",
   "id": "68dc0708-ccd2-4981-a786-d27a60dd2c07",
   "metadata": {},
   "source": [
    "Bonjour Monsieur Mehdi,\n",
    " \n",
    "Je vous remercie pour votre retour concernant ma candidature.\n",
    " \n",
    "Afin de m’améliorer dans mes futures démarches, je serais très reconnaissant si vous pouviez m’apporter quelques précisions sur les raisons de ce refus. Cela me permettrait de mieux comprendre les attentes de votre entreprise et de travailler sur les points nécessaires.\n",
    " \n",
    "Je reste à votre disposition pour toute information complémentaire.\n",
    " \n",
    "Respectueusement,\n",
    "Issa Kachaou"
   ]
  },
  {
   "cell_type": "code",
   "execution_count": 3,
   "id": "9def8d4a",
   "metadata": {},
   "outputs": [],
   "source": [
    "def mail_5(destinataire):\n",
    "\n",
    "    m5_1 = \"Je vous remercie pour votre retour concernant ma candidature.\" \n",
    "    \n",
    "    m5_2 = \"Afin de m’améliorer dans mes futures démarches, je serais très reconnaissant si vous pouviez m’apporter quelques précisions sur les raisons de ce refus. Cela me permettrait de mieux comprendre les attentes de votre entreprise et de travailler sur les points nécessaires.\"\n",
    "\n",
    "    m5_3 = \"Je reste à votre disposition pour toute information complémentaire.\"\n",
    "    fin = \"\\n \\nRespectueusement,\\nIssa Kachaou\"\n",
    "\n",
    "    return print(debut +destinataire +',\\n \\n'+ m5_1 + '\\n \\n' + m5_2 + '\\n \\n' + m5_3 +fin)    "
   ]
  },
  {
   "cell_type": "code",
   "execution_count": 4,
   "id": "275762a3",
   "metadata": {
    "scrolled": true
   },
   "outputs": [
    {
     "name": "stdin",
     "output_type": "stream",
     "text": [
      "Destinataire : Madame Solenn\n"
     ]
    },
    {
     "name": "stdout",
     "output_type": "stream",
     "text": [
      "Bonjour Madame Solenn,\n",
      " \n",
      "Je vous remercie pour votre retour concernant ma candidature.\n",
      " \n",
      "Afin de m’améliorer dans mes futures démarches, je serais très reconnaissant si vous pouviez m’apporter quelques précisions sur les raisons de ce refus. Cela me permettrait de mieux comprendre les attentes de votre entreprise et de travailler sur les points nécessaires.\n",
      " \n",
      "Je reste à votre disposition pour toute information complémentaire.\n",
      " \n",
      "Respectueusement,\n",
      "Issa Kachaou\n"
     ]
    }
   ],
   "source": [
    "destinataire = input('Destinataire :')\n",
    "\n",
    "mail_5(destinataire)"
   ]
  },
  {
   "cell_type": "markdown",
   "id": "a619ff15-ce00-481f-b985-ac71e6f6f8c0",
   "metadata": {},
   "source": [
    "# Message linkedin : demande de conseil pour entretien"
   ]
  },
  {
   "cell_type": "markdown",
   "id": "4ab2f0b8-db07-4db1-be55-d1248a9437e9",
   "metadata": {},
   "source": [
    "Bonjour Monsieur Mehdi,\n",
    " \n",
    "J'espère que vous allez bien. Je me permets de vous contacter car je suis actuellement en préparation d'un entretien pour un stage en tant que chargé d'étude au sein de l'entreprise dans laquelle vous travaillez.\n",
    " \n",
    "Je serais très reconnaissant si vous pouviez partager quelques conseils ou insights sur le processus de recrutement et sur la culture de l'entreprise. Votre expérience serait d'une grande aide pour moi afin de mieux me préparer.\n",
    " \n",
    "Respectueusement,\n",
    "Issa Kachaou"
   ]
  },
  {
   "cell_type": "code",
   "execution_count": 2,
   "id": "aa334ff1-c660-43ba-8c4e-d0c4e66ca9e5",
   "metadata": {},
   "outputs": [],
   "source": [
    "def linkedin(destinaire, nom_poste):\n",
    "    m6_1 = \"J'espère que vous allez bien. Je me permets de vous contacter car je suis actuellement en préparation d'un entretien pour un stage en tant que\" \n",
    "\n",
    "    #nom_poste = \"chargé d'étude\"\n",
    "    \n",
    "    m6_2 = \"au sein de l'entreprise dans laquelle vous travaillez.\"\n",
    "    \n",
    "    \n",
    "    m6_3 = \"Je serais très reconnaissant si vous pouviez partager quelques conseils ou insights sur le processus de recrutement et sur la culture de l'entreprise. Votre expérience serait d'une grande aide pour moi afin de mieux me préparer.\"\n",
    "    \n",
    "    m6_4 = \"Je vous remercie d'avance pour votre temps et votre aide précieuse.\"\n",
    "    \n",
    "    return print(debut +destinataire +',\\n \\n'+ m6_1 +' '+ nom_poste +' '+ m6_2 + '\\n \\n' + m6_3 +fin)"
   ]
  },
  {
   "cell_type": "code",
   "execution_count": 3,
   "id": "21dbc30e-6bd9-43ea-8f69-9b67065fa22d",
   "metadata": {},
   "outputs": [
    {
     "name": "stdin",
     "output_type": "stream",
     "text": [
      "Destinaire : Monsieur Jolain\n",
      "Nom du poste : chargé d'étude\n"
     ]
    },
    {
     "name": "stdout",
     "output_type": "stream",
     "text": [
      "\n",
      "\n",
      "Bonjour Monsieur Jolain,\n",
      " \n",
      "J'espère que vous allez bien. Je me permets de vous contacter car je suis actuellement en préparation d'un entretien pour un stage en tant que chargé d'étude au sein de l'entreprise dans laquelle vous travaillez.\n",
      " \n",
      "Je serais très reconnaissant si vous pouviez partager quelques conseils ou insights sur le processus de recrutement et sur la culture de l'entreprise. Votre expérience serait d'une grande aide pour moi afin de mieux me préparer.\n",
      " \n",
      "Respectueusement,\n",
      "Issa Kachaou\n"
     ]
    }
   ],
   "source": [
    "destinataire = input(\"Destinaire :\")\n",
    "nom_poste = input(\"Nom du poste :\")\n",
    "print('\\n')\n",
    "linkedin(destinataire,nom_poste)"
   ]
  },
  {
   "cell_type": "code",
   "execution_count": 1,
   "id": "58ada553-71cf-4a50-90af-b99122263b5c",
   "metadata": {
    "tags": []
   },
   "outputs": [
    {
     "name": "stdout",
     "output_type": "stream",
     "text": [
      "Bonjour Monsieur De La Salle,\n",
      "\n",
      "Actuellement étudiant en Master 1 MBFA, parcours Ingénierie Immobilière à l’Université Paris-Est Créteil, je suis à la recherche d’un stage de 6 mois, à partir d’avril 2025, dans le domaine de l’immobilier d'entreprise. Passionné par l’immobilier et les enjeux financiers associés, je souhaite mettre mes compétences académiques et professionnelles au service de Mansio. Au cours de mon cursus, j’ai développé une expertise solide en analyse financière, évaluation d’actifs immobiliers et gestion de données, avec une maîtrise avancée des outils comme Excel-VBA et Python. Ces compétences me permettent d’analyser des portefeuilles immobiliers, d’évaluer leur rentabilité et de proposer des solutions d’optimisation adaptées. De plus, mes cours spécialisés en économie immobilière et en finance d'entreprise m’offrent une compréhension globale des enjeux stratégiques de l’investissement résidentiel.\n",
      "\n",
      "Mon expérience en tant que moniteur étudiant m’a permis de perfectionner mes qualités organisationnelles et relationnelles, en apprenant à communiquer efficacement et à gérer des projets dans des environnements exigeants. Rigoureux et motivé, je suis convaincu que mon sérieux et ma capacité à travailler en équipe me permettront de contribuer activement à vos projets d’investissement et de conseil.\n",
      "\n",
      "Intégrer votre structure constituerait une véritable opportunité pour approfondir mes connaissances et contribuer activement au développement de vos projets stratégiques. Je suis persuadé que mon sérieux, ma rigueur et ma capacité à m’investir pleinement seront des atouts précieux pour répondre aux exigences de votre entreprise.\n",
      "\n",
      "Je me tiens à votre disposition pour convenir d’un éventuel entretien, au cours duquel je pourrais vous exposer plus en détail mes motivations ainsi que les compétences que je suis prêt à mettre à votre service.\n",
      "\n",
      "Dans l’attente de votre retour, je vous prie d’agréer, Madame, Monsieur, l’expression de mes salutations distinguées.\n",
      "\n",
      "Respectueusement,\n",
      "Issa Kachaou\n"
     ]
    }
   ],
   "source": [
    "def mail_stage(destinataire, nom_entreprise):\n",
    "    debut = \"Bonjour \"\n",
    "    \n",
    "    m1_1 = (\n",
    "        \"Actuellement étudiant en Master 1 MBFA, parcours Ingénierie Immobilière à l’Université Paris-Est Créteil, \"\n",
    "        \"je suis à la recherche d’un stage de 6 mois, à partir d’avril 2025, dans le domaine de l’immobilier d'entreprise. \"\n",
    "        \"Passionné par l’immobilier et les enjeux financiers associés, je souhaite mettre mes compétences académiques \"\n",
    "        f\"et professionnelles au service de {nom_entreprise}. \"\n",
    "    )\n",
    "\n",
    "    m1_2 = (\n",
    "        \"Au cours de mon cursus, j’ai développé une expertise solide en analyse financière, évaluation d’actifs immobiliers \"\n",
    "        \"et gestion de données, avec une maîtrise avancée des outils comme Excel-VBA et Python. Ces compétences me permettent \"\n",
    "        \"d’analyser des portefeuilles immobiliers, d’évaluer leur rentabilité et de proposer des solutions d’optimisation adaptées. \"\n",
    "        \"De plus, mes cours spécialisés en économie immobilière et en finance d'entreprise m’offrent une compréhension globale \"\n",
    "        \"des enjeux stratégiques de l’investissement résidentiel.\\n\\n\"\n",
    "        \"Mon expérience en tant que moniteur étudiant m’a permis de perfectionner mes qualités organisationnelles et relationnelles, \"\n",
    "        \"en apprenant à communiquer efficacement et à gérer des projets dans des environnements exigeants. Rigoureux et motivé, \"\n",
    "        \"je suis convaincu que mon sérieux et ma capacité à travailler en équipe me permettront de contribuer activement à vos \"\n",
    "        \"projets d’investissement et de conseil.\\n\\n\"\n",
    "        \"Intégrer votre structure constituerait une véritable opportunité pour approfondir mes connaissances et contribuer activement \"\n",
    "        \"au développement de vos projets stratégiques. Je suis persuadé que mon sérieux, ma rigueur et ma capacité à m’investir \"\n",
    "        \"pleinement seront des atouts précieux pour répondre aux exigences de votre entreprise.\\n\\n\"\n",
    "        \"Je me tiens à votre disposition pour convenir d’un éventuel entretien, au cours duquel je pourrais vous exposer plus en détail \"\n",
    "        \"mes motivations ainsi que les compétences que je suis prêt à mettre à votre service.\\n\\n\"\n",
    "        \"Dans l’attente de votre retour, je vous prie d’agréer, Madame, Monsieur, l’expression de mes salutations distinguées.\"\n",
    "    )\n",
    "\n",
    "    fin = \"\\n\\nRespectueusement,\\nIssa Kachaou\"\n",
    "\n",
    "    return debut + destinataire + \",\\n\\n\" + m1_1 + m1_2 + fin\n",
    "\n",
    "# Exemple d'utilisation :\n",
    "destinataire = \"Monsieur De La Salle\"\n",
    "nom_entreprise = \"Mansio\"\n",
    "\n",
    "print(mail_stage(destinataire, nom_entreprise))\n"
   ]
  },
  {
   "cell_type": "code",
   "execution_count": 2,
   "id": "edd2ac1e-3a7e-4454-9815-1f79b7beb304",
   "metadata": {
    "tags": []
   },
   "outputs": [
    {
     "name": "stdout",
     "output_type": "stream",
     "text": [
      "                                        Mansio\n",
      "12 Avenue des Champs, 75000 Paris\n",
      "\n",
      "Bonjour Monsieur De La Salle,\n",
      "Actuellement étudiant en Master 1 MBFA, parcours Ingénierie Immobilière à l’Université Paris-Est Créteil, je suis à la recherche d’un stage de 6 mois, à partir d’avril 2025, dans le domaine de l’immobilier d'entreprise. Passionné par l’immobilier et les enjeux financiers associés, je souhaite mettre mes compétences académiques et professionnelles au service de Mansio. Au cours de mon cursus, j’ai développé une expertise solide en analyse financière, évaluation d’actifs immobiliers et gestion de données, avec une maîtrise avancée des outils comme Excel-VBA et Python. Ces compétences me permettent d’analyser des portefeuilles immobiliers, d’évaluer leur rentabilité et de proposer des solutions d’optimisation adaptées. De plus, mes cours spécialisés en économie immobilière et en finance d'entreprise m’offrent une compréhension globale des enjeux stratégiques de l’investissement résidentiel.\n",
      "Mon expérience en tant que moniteur étudiant m’a permis de perfectionner mes qualités organisationnelles et relationnelles, en apprenant à communiquer efficacement et à gérer des projets dans des environnements exigeants. Rigoureux et motivé, je suis convaincu que mon sérieux et ma capacité à travailler en équipe me permettront de contribuer activement à vos projets d’investissement et de conseil.\n",
      "Intégrer votre structure constituerait une véritable opportunité pour approfondir mes connaissances et contribuer activement au développement de vos projets stratégiques. Je suis persuadé que mon sérieux, ma rigueur et ma capacité à m’investir pleinement seront des atouts précieux pour répondre aux exigences de votre entreprise.\n",
      "Je me tiens à votre disposition pour convenir d’un éventuel entretien, au cours duquel je pourrais vous exposer plus en détail mes motivations ainsi que les compétences que je suis prêt à mettre à votre service.\n",
      "Dans l’attente de votre retour, je vous prie d’agréer, Madame, Monsieur, l’expression de mes salutations distinguées.\n",
      "Respectueusement,\n",
      "Issa Kachaou\n"
     ]
    }
   ],
   "source": [
    "def mail_stage(destinataire, nom_entreprise, adresse_entreprise):\n",
    "    # Création de l'en-tête justifiée à droite\n",
    "    entete = f\"{nom_entreprise}\\n{adresse_entreprise}\".rjust(80)\n",
    "\n",
    "    debut = \"Bonjour \"\n",
    "    \n",
    "    m1_1 = (\n",
    "        \"Actuellement étudiant en Master 1 MBFA, parcours Ingénierie Immobilière à l’Université Paris-Est Créteil, \"\n",
    "        \"je suis à la recherche d’un stage de 6 mois, à partir d’avril 2025, dans le domaine de l’immobilier d'entreprise. \"\n",
    "        \"Passionné par l’immobilier et les enjeux financiers associés, je souhaite mettre mes compétences académiques \"\n",
    "        f\"et professionnelles au service de {nom_entreprise}. \"\n",
    "    )\n",
    "\n",
    "    m1_2 = (\n",
    "        \"Au cours de mon cursus, j’ai développé une expertise solide en analyse financière, évaluation d’actifs immobiliers \"\n",
    "        \"et gestion de données, avec une maîtrise avancée des outils comme Excel-VBA et Python. Ces compétences me permettent \"\n",
    "        \"d’analyser des portefeuilles immobiliers, d’évaluer leur rentabilité et de proposer des solutions d’optimisation adaptées. \"\n",
    "        \"De plus, mes cours spécialisés en économie immobilière et en finance d'entreprise m’offrent une compréhension globale \"\n",
    "        \"des enjeux stratégiques de l’investissement résidentiel.\\n\"\n",
    "        \"Mon expérience en tant que moniteur étudiant m’a permis de perfectionner mes qualités organisationnelles et relationnelles, \"\n",
    "        \"en apprenant à communiquer efficacement et à gérer des projets dans des environnements exigeants. Rigoureux et motivé, \"\n",
    "        \"je suis convaincu que mon sérieux et ma capacité à travailler en équipe me permettront de contribuer activement à vos \"\n",
    "        \"projets d’investissement et de conseil.\\n\"\n",
    "        \"Intégrer votre structure constituerait une véritable opportunité pour approfondir mes connaissances et contribuer activement \"\n",
    "        \"au développement de vos projets stratégiques. Je suis persuadé que mon sérieux, ma rigueur et ma capacité à m’investir \"\n",
    "        \"pleinement seront des atouts précieux pour répondre aux exigences de votre entreprise.\\n\"\n",
    "        \"Je me tiens à votre disposition pour convenir d’un éventuel entretien, au cours duquel je pourrais vous exposer plus en détail \"\n",
    "        \"mes motivations ainsi que les compétences que je suis prêt à mettre à votre service.\\n\"\n",
    "        \"Dans l’attente de votre retour, je vous prie d’agréer, Madame, Monsieur, l’expression de mes salutations distinguées.\"\n",
    "    )\n",
    "\n",
    "    fin = \"\\nRespectueusement,\\nIssa Kachaou\"\n",
    "\n",
    "    return entete + \"\\n\\n\" + debut + destinataire + \",\\n\" + m1_1 + m1_2 + fin\n",
    "\n",
    "# Exemple d'utilisation :\n",
    "destinataire = \"Monsieur De La Salle\"\n",
    "nom_entreprise = \"Mansio\"\n",
    "adresse_entreprise = \"12 Avenue des Champs, 75000 Paris\"\n",
    "\n",
    "print(mail_stage(destinataire, nom_entreprise, adresse_entreprise))\n"
   ]
  },
  {
   "cell_type": "code",
   "execution_count": 8,
   "id": "a8d1163c-3efa-40fa-ba38-3a472e1201fc",
   "metadata": {
    "tags": []
   },
   "outputs": [
    {
     "name": "stdout",
     "output_type": "stream",
     "text": [
      "Issa Kachaou\n",
      "94000, Créteil\n",
      "\n",
      "MOBILE-ALT 06 95 32 45 02\n",
      "Envelope issakachaou@outlook.fr\n",
      "\n",
      "23 ans\n",
      "\n",
      "CBRE France\n",
      "76 Rue de Prony\n",
      "75017, Paris\n",
      "\n",
      "A Créteil, le 23 décembre 2024\n",
      "\n",
      "Objet : Candidature pour un stage en immobilier d’entreprise\n",
      "\n",
      "Madame, Monsieur,\n",
      "\n",
      "Actuellement étudiant en Master 1 MBFA, parcours Ingénierie Immobilière à l’Université Paris-Est Créteil, je suis à la recherche d’un stage de 6 mois, à partir d’avril 2025, dans le domaine de l’immobilier d’entreprise. Passionné par l’immobilier et les enjeux financiers associés, je souhaite mettre mes compétences académiques et professionnelles au service de CBRE France.\n",
      "\n",
      "Au cours de mon cursus, j’ai développé une expertise solide en analyse financière, évaluation d’actifs immobiliers et gestion de données, avec une maîtrise avancée des outils comme Excel-VBA et Python. Ces compétences me permettent d’analyser des portefeuilles immobiliers, d’évaluer leur rentabilité et de proposer des solutions d’optimisation adaptées. De plus, mes cours spécialisés en économie immobilière et en finance d’entreprise m’offrent une compréhension globale des enjeux stratégiques de l’investissement résidentiel.\n",
      "\n",
      "Mon expérience en tant que moniteur étudiant m’a permis de perfectionner mes qualités organisationnelles et relationnelles, en apprenant à communiquer efficacement et à gérer des projets dans des environnements exigeants. Rigoureux et motivé, je suis convaincu que mon sérieux et ma capacité à travailler en équipe me permettront de contribuer activement à vos projets d’investissement et de conseil.\n",
      "\n",
      "Rejoindre votre cabinet serait une opportunité exceptionnelle pour approfondir mes compétences dans un environnement stimulant et participer à des projets d’envergure. Je serais ravi d’échanger avec vous lors d’un entretien pour discuter plus en détail de ma candidature et de l’apport que je pourrais avoir au sein de votre structure.\n",
      "\n",
      "Je vous prie d’agréer, Madame, Monsieur, l’expression de mes sentiments distingués.\n",
      "\n",
      "Issa Kachaou\n"
     ]
    }
   ],
   "source": [
    "def mail_stage(destinataire, nom_entreprise, adresse_entreprise, date):\n",
    "    entete = (\n",
    "        \"Issa Kachaou\\n\"\n",
    "        \"94000, Créteil\\n\\n\"\n",
    "        \"MOBILE-ALT 06 95 32 45 02\\n\"\n",
    "        \"Envelope issakachaou@outlook.fr\\n\\n\"\n",
    "        \"23 ans\\n\\n\"\n",
    "        f\"{nom_entreprise}\\n{adresse_entreprise}\\n\\n\"\n",
    "        f\"A Créteil, le {date}\\n\\n\"\n",
    "    )\n",
    "\n",
    "    objet = \"Objet : Candidature pour un stage en immobilier d’entreprise\\n\\n\"\n",
    "\n",
    "    corps = (\n",
    "        f\"Madame, Monsieur,\\n\\n\"\n",
    "        \"Actuellement étudiant en Master 1 MBFA, parcours Ingénierie Immobilière à l’Université Paris-Est Créteil, \"\n",
    "        \"je suis à la recherche d’un stage de 6 mois, à partir d’avril 2025, dans le domaine de l’immobilier d’entreprise. \"\n",
    "        \"Passionné par l’immobilier et les enjeux financiers associés, je souhaite mettre mes compétences académiques et professionnelles \"\n",
    "        f\"au service de {nom_entreprise}.\\n\\n\"\n",
    "        \n",
    "        \"Au cours de mon cursus, j’ai développé une expertise solide en analyse financière, évaluation d’actifs immobiliers \"\n",
    "        \"et gestion de données, avec une maîtrise avancée des outils comme Excel-VBA et Python. Ces compétences me permettent \"\n",
    "        \"d’analyser des portefeuilles immobiliers, d’évaluer leur rentabilité et de proposer des solutions d’optimisation adaptées. \"\n",
    "        \"De plus, mes cours spécialisés en économie immobilière et en finance d’entreprise m’offrent une compréhension globale \"\n",
    "        \"des enjeux stratégiques de l’investissement résidentiel.\\n\\n\"\n",
    "        \n",
    "        \"Mon expérience en tant que moniteur étudiant m’a permis de perfectionner mes qualités organisationnelles et relationnelles, \"\n",
    "        \"en apprenant à communiquer efficacement et à gérer des projets dans des environnements exigeants. Rigoureux et motivé, \"\n",
    "        \"je suis convaincu que mon sérieux et ma capacité à travailler en équipe me permettront de contribuer activement à vos \"\n",
    "        \"projets d’investissement et de conseil.\\n\\n\"\n",
    "        \n",
    "        \"Rejoindre votre cabinet serait une opportunité exceptionnelle pour approfondir mes compétences dans un environnement \"\n",
    "        \"stimulant et participer à des projets d’envergure. Je serais ravi d’échanger avec vous lors d’un entretien pour discuter \"\n",
    "        \"plus en détail de ma candidature et de l’apport que je pourrais avoir au sein de votre structure.\\n\\n\"\n",
    "    )\n",
    "\n",
    "    fin = (\n",
    "        \"Je vous prie d’agréer, Madame, Monsieur, l’expression de mes sentiments distingués.\\n\\n\"\n",
    "        \"Issa Kachaou\"\n",
    "    )\n",
    "\n",
    "    return entete + objet + corps + fin\n",
    "\n",
    "# Exemple d'utilisation :\n",
    "destinataire = \"Monsieur De La Salle\"\n",
    "nom_entreprise = \"CBRE France\"\n",
    "adresse_entreprise = \"76 Rue de Prony\\n75017, Paris\"\n",
    "date = \"23 décembre 2024\"\n",
    "\n",
    "print(mail_stage(destinataire, nom_entreprise, adresse_entreprise, date))\n"
   ]
  },
  {
   "cell_type": "code",
   "execution_count": 42,
   "id": "5e8b868e-315f-4480-a22a-21f1bf4efc59",
   "metadata": {
    "tags": []
   },
   "outputs": [],
   "source": [
    "from docx import Document\n",
    "from docx.shared import Inches\n",
    "from docx.enum.text import WD_ALIGN_PARAGRAPH\n",
    "\n",
    "def mail_stage_word(destinataire, nom_entreprise, adresse_entreprise, date, nom_fichier=\"lettre_motivation.docx\"):\n",
    "    \"\"\"Génère une lettre de motivation au format Word.\n",
    "\n",
    "    Args:\n",
    "        destinataire: Le destinataire de la lettre.\n",
    "        nom_entreprise: Le nom de l'entreprise.\n",
    "        adresse_entreprise: L'adresse de l'entreprise.\n",
    "        date: La date de la lettre.\n",
    "        nom_fichier: Le nom du fichier Word à créer.\n",
    "    \"\"\"\n",
    "\n",
    "    document = Document()\n",
    "\n",
    "    style = document.styles['Normal']\n",
    "    font = style.font\n",
    "    font.name = 'Times New Roman'\n",
    "    # En-tête\n",
    "    #document.add_paragraph('Issa Kachaou')\n",
    "    paragraph = document.add_paragraph()\n",
    "    paragraph.alignment = WD_ALIGN_PARAGRAPH.LEFT\n",
    "    document.add_paragraph(f\"Issa Kachaou\\n94000, Créteil\\nMOBILE-ALT 06 95 32 45 02\\n issakachaou@outlook.fr\")\n",
    "    document.add_paragraph(f\"{nom_entreprise}\\n{adresse_entreprise}\")\n",
    "    document.add_paragraph(f\"A Créteil, le {date}\")\n",
    "\n",
    "\n",
    "    # Objet\n",
    "    document.add_heading('Objet : Candidature pour un stage en immobilier d’entreprise', level=2)\n",
    "\n",
    "    # Corps\n",
    "    document.add_paragraph(f\"Madame, Monsieur,\\n\\n\" +\n",
    "                            \"Actuellement étudiant en Master 1 MBFA, parcours Ingénierie Immobilière à l’Université Paris-Est Créteil, \" +\n",
    "                            \"je suis à la recherche d’un stage de 6 mois, à partir d’avril 2025, dans le domaine de l’immobilier d’entreprise. \" +\n",
    "                            \"Passionné par l’immobilier et les enjeux financiers associés, je souhaite mettre mes compétences académiques et professionnelles \" +\n",
    "                            f\"au service de {nom_entreprise}.\\n\\n\" \n",
    "                            # ... le reste du corps de la lettr \n",
    "                          )\n",
    "\n",
    "    # Fin\n",
    "    document.add_paragraph(\"Je vous prie d’agréer, Madame, Monsieur, l’expression de mes sentiments distingués.\")\n",
    "    document.add_paragraph(\"Issa Kachaou\")\n",
    "\n",
    "    document.save(nom_fichier)"
   ]
  },
  {
   "cell_type": "code",
   "execution_count": 43,
   "id": "53b38d13-53d6-4b38-b973-a37550cc9a70",
   "metadata": {
    "tags": []
   },
   "outputs": [],
   "source": [
    "\n",
    "\n",
    "destinataire = \"Monsieur De La Salle\"\n",
    "nom_entreprise = \"CBRE France\"\n",
    "adresse_entreprise = \"76 Rue de Prony\\n75017, Paris\"\n",
    "date = \"23 décembre 2024\"\n",
    "\n",
    "mail_stage_word(destinataire, nom_entreprise, adresse_entreprise, date)"
   ]
  }
 ],
 "metadata": {
  "kernelspec": {
   "display_name": "Python 3 (ipykernel)",
   "language": "python",
   "name": "python3"
  },
  "language_info": {
   "codemirror_mode": {
    "name": "ipython",
    "version": 3
   },
   "file_extension": ".py",
   "mimetype": "text/x-python",
   "name": "python",
   "nbconvert_exporter": "python",
   "pygments_lexer": "ipython3",
   "version": "3.11.4"
  },
  "toc": {
   "base_numbering": 1,
   "nav_menu": {},
   "number_sections": true,
   "sideBar": true,
   "skip_h1_title": false,
   "title_cell": "Table of Contents",
   "title_sidebar": "Contents",
   "toc_cell": false,
   "toc_position": {
    "height": "calc(100% - 180px)",
    "left": "10px",
    "top": "150px",
    "width": "363.6px"
   },
   "toc_section_display": true,
   "toc_window_display": true
  }
 },
 "nbformat": 4,
 "nbformat_minor": 5
}
