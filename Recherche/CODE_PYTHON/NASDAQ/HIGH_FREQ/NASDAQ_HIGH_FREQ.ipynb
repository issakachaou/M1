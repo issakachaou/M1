{
 "cells": [
  {
   "cell_type": "markdown",
   "id": "47731c90-ba84-414e-a236-6c57113ff76e",
   "metadata": {},
   "source": [
    "# Importing the packages"
   ]
  },
  {
   "cell_type": "code",
   "execution_count": 1,
   "id": "2c02b237-e6d4-4240-aae4-6915967d56e0",
   "metadata": {},
   "outputs": [
    {
     "name": "stdout",
     "output_type": "stream",
     "text": [
      "Requirement already satisfied: yfinance in c:\\programdata\\anaconda3\\lib\\site-packages (0.2.54)\n",
      "Requirement already satisfied: pandas>=1.3.0 in c:\\programdata\\anaconda3\\lib\\site-packages (from yfinance) (2.2.2)\n",
      "Requirement already satisfied: numpy>=1.16.5 in c:\\programdata\\anaconda3\\lib\\site-packages (from yfinance) (1.26.4)\n",
      "Requirement already satisfied: requests>=2.31 in c:\\programdata\\anaconda3\\lib\\site-packages (from yfinance) (2.32.3)\n",
      "Requirement already satisfied: multitasking>=0.0.7 in c:\\programdata\\anaconda3\\lib\\site-packages (from yfinance) (0.0.11)\n",
      "Requirement already satisfied: platformdirs>=2.0.0 in c:\\programdata\\anaconda3\\lib\\site-packages (from yfinance) (3.10.0)\n",
      "Requirement already satisfied: pytz>=2022.5 in c:\\programdata\\anaconda3\\lib\\site-packages (from yfinance) (2024.1)\n",
      "Requirement already satisfied: frozendict>=2.3.4 in c:\\programdata\\anaconda3\\lib\\site-packages (from yfinance) (2.4.2)\n",
      "Requirement already satisfied: peewee>=3.16.2 in c:\\programdata\\anaconda3\\lib\\site-packages (from yfinance) (3.17.8)\n",
      "Requirement already satisfied: beautifulsoup4>=4.11.1 in c:\\programdata\\anaconda3\\lib\\site-packages (from yfinance) (4.12.3)\n",
      "Requirement already satisfied: soupsieve>1.2 in c:\\programdata\\anaconda3\\lib\\site-packages (from beautifulsoup4>=4.11.1->yfinance) (2.5)\n",
      "Requirement already satisfied: python-dateutil>=2.8.2 in c:\\programdata\\anaconda3\\lib\\site-packages (from pandas>=1.3.0->yfinance) (2.9.0.post0)\n",
      "Requirement already satisfied: tzdata>=2022.7 in c:\\programdata\\anaconda3\\lib\\site-packages (from pandas>=1.3.0->yfinance) (2023.3)\n",
      "Requirement already satisfied: charset-normalizer<4,>=2 in c:\\programdata\\anaconda3\\lib\\site-packages (from requests>=2.31->yfinance) (3.3.2)\n",
      "Requirement already satisfied: idna<4,>=2.5 in c:\\programdata\\anaconda3\\lib\\site-packages (from requests>=2.31->yfinance) (3.7)\n",
      "Requirement already satisfied: urllib3<3,>=1.21.1 in c:\\programdata\\anaconda3\\lib\\site-packages (from requests>=2.31->yfinance) (2.2.3)\n",
      "Requirement already satisfied: certifi>=2017.4.17 in c:\\programdata\\anaconda3\\lib\\site-packages (from requests>=2.31->yfinance) (2024.12.14)\n",
      "Requirement already satisfied: six>=1.5 in c:\\programdata\\anaconda3\\lib\\site-packages (from python-dateutil>=2.8.2->pandas>=1.3.0->yfinance) (1.16.0)\n",
      "Note: you may need to restart the kernel to use updated packages.\n"
     ]
    }
   ],
   "source": [
    "pip install yfinance --upgrade --no-cache-dir "
   ]
  },
  {
   "cell_type": "code",
   "execution_count": 2,
   "id": "a2fee962-dc9e-4cc4-aaf3-7c1d31c3c5f0",
   "metadata": {},
   "outputs": [],
   "source": [
    "import yfinance as yf\n",
    "import pandas as pd\n",
    "import numpy as np\n",
    "import matplotlib.pyplot as plt\n",
    "import statsmodels.api as sm\n",
    "from scipy import stats\n",
    "from statsmodels.tsa.arima.model import ARIMA\n",
    "from statsmodels.tsa.arima_process import ArmaProcess\n",
    "from statsmodels.graphics.tsaplots import plot_acf, plot_pacf\n",
    "\n",
    "from statsmodels.tsa.stattools import adfuller, kpss, acf, acovf, pacf\n",
    "import datetime as dt\n",
    "\n",
    "from statsmodels.stats.diagnostic import acorr_ljungbox, het_arch\n",
    "from statsmodels.tools.eval_measures import rmse, meanabs\n",
    "\n",
    "import seaborn as sns\n",
    "from statsmodels.stats.diagnostic import het_arch"
   ]
  },
  {
   "cell_type": "code",
   "execution_count": 13,
   "id": "9bb7db4d-61e2-44ac-9aed-411fdda59ff8",
   "metadata": {},
   "outputs": [
    {
     "name": "stderr",
     "output_type": "stream",
     "text": [
      "[*********************100%***********************]  1 of 1 completed\n"
     ]
    }
   ],
   "source": [
    "NASDAQ = yf.download(\"^IXIC\", interval='5m', start=\"2025-01-01\", end=\"2025-02-19\")"
   ]
  },
  {
   "cell_type": "code",
   "execution_count": 14,
   "id": "27cc9bf1-d36f-4155-ae5c-390825db37d7",
   "metadata": {},
   "outputs": [
    {
     "data": {
      "text/html": [
       "<div>\n",
       "<style scoped>\n",
       "    .dataframe tbody tr th:only-of-type {\n",
       "        vertical-align: middle;\n",
       "    }\n",
       "\n",
       "    .dataframe tbody tr th {\n",
       "        vertical-align: top;\n",
       "    }\n",
       "\n",
       "    .dataframe thead tr th {\n",
       "        text-align: left;\n",
       "    }\n",
       "\n",
       "    .dataframe thead tr:last-of-type th {\n",
       "        text-align: right;\n",
       "    }\n",
       "</style>\n",
       "<table border=\"1\" class=\"dataframe\">\n",
       "  <thead>\n",
       "    <tr>\n",
       "      <th>Price</th>\n",
       "      <th>Close</th>\n",
       "      <th>High</th>\n",
       "      <th>Low</th>\n",
       "      <th>Open</th>\n",
       "      <th>Volume</th>\n",
       "    </tr>\n",
       "    <tr>\n",
       "      <th>Ticker</th>\n",
       "      <th>^IXIC</th>\n",
       "      <th>^IXIC</th>\n",
       "      <th>^IXIC</th>\n",
       "      <th>^IXIC</th>\n",
       "      <th>^IXIC</th>\n",
       "    </tr>\n",
       "    <tr>\n",
       "      <th>Datetime</th>\n",
       "      <th></th>\n",
       "      <th></th>\n",
       "      <th></th>\n",
       "      <th></th>\n",
       "      <th></th>\n",
       "    </tr>\n",
       "  </thead>\n",
       "  <tbody>\n",
       "    <tr>\n",
       "      <th>2025-01-02 14:30:00+00:00</th>\n",
       "      <td>19357.183594</td>\n",
       "      <td>19446.115234</td>\n",
       "      <td>19357.183594</td>\n",
       "      <td>19401.283203</td>\n",
       "      <td>0</td>\n",
       "    </tr>\n",
       "    <tr>\n",
       "      <th>2025-01-02 14:35:00+00:00</th>\n",
       "      <td>19281.269531</td>\n",
       "      <td>19354.326172</td>\n",
       "      <td>19280.431641</td>\n",
       "      <td>19354.326172</td>\n",
       "      <td>193156000</td>\n",
       "    </tr>\n",
       "    <tr>\n",
       "      <th>2025-01-02 14:40:00+00:00</th>\n",
       "      <td>19307.628906</td>\n",
       "      <td>19323.042969</td>\n",
       "      <td>19270.119141</td>\n",
       "      <td>19270.119141</td>\n",
       "      <td>173848000</td>\n",
       "    </tr>\n",
       "    <tr>\n",
       "      <th>2025-01-02 14:45:00+00:00</th>\n",
       "      <td>19388.388672</td>\n",
       "      <td>19388.388672</td>\n",
       "      <td>19310.218750</td>\n",
       "      <td>19310.218750</td>\n",
       "      <td>169021000</td>\n",
       "    </tr>\n",
       "    <tr>\n",
       "      <th>2025-01-02 14:50:00+00:00</th>\n",
       "      <td>19452.576172</td>\n",
       "      <td>19452.576172</td>\n",
       "      <td>19385.427734</td>\n",
       "      <td>19388.869141</td>\n",
       "      <td>152123000</td>\n",
       "    </tr>\n",
       "  </tbody>\n",
       "</table>\n",
       "</div>"
      ],
      "text/plain": [
       "Price                             Close          High           Low  \\\n",
       "Ticker                            ^IXIC         ^IXIC         ^IXIC   \n",
       "Datetime                                                              \n",
       "2025-01-02 14:30:00+00:00  19357.183594  19446.115234  19357.183594   \n",
       "2025-01-02 14:35:00+00:00  19281.269531  19354.326172  19280.431641   \n",
       "2025-01-02 14:40:00+00:00  19307.628906  19323.042969  19270.119141   \n",
       "2025-01-02 14:45:00+00:00  19388.388672  19388.388672  19310.218750   \n",
       "2025-01-02 14:50:00+00:00  19452.576172  19452.576172  19385.427734   \n",
       "\n",
       "Price                              Open     Volume  \n",
       "Ticker                            ^IXIC      ^IXIC  \n",
       "Datetime                                            \n",
       "2025-01-02 14:30:00+00:00  19401.283203          0  \n",
       "2025-01-02 14:35:00+00:00  19354.326172  193156000  \n",
       "2025-01-02 14:40:00+00:00  19270.119141  173848000  \n",
       "2025-01-02 14:45:00+00:00  19310.218750  169021000  \n",
       "2025-01-02 14:50:00+00:00  19388.869141  152123000  "
      ]
     },
     "execution_count": 14,
     "metadata": {},
     "output_type": "execute_result"
    }
   ],
   "source": [
    "NASDAQ.head()"
   ]
  },
  {
   "cell_type": "code",
   "execution_count": 15,
   "id": "b7da0602-31bf-4083-8a74-ade64f1f6553",
   "metadata": {},
   "outputs": [
    {
     "data": {
      "text/plain": [
       "(2418, 5)"
      ]
     },
     "execution_count": 15,
     "metadata": {},
     "output_type": "execute_result"
    }
   ],
   "source": [
    "NASDAQ.shape"
   ]
  },
  {
   "cell_type": "code",
   "execution_count": 54,
   "id": "a4934ccd-505e-4ac4-a574-de3be200016e",
   "metadata": {
    "scrolled": true
   },
   "outputs": [
    {
     "data": {
      "text/plain": [
       "pandas.core.series.Series"
      ]
     },
     "execution_count": 54,
     "metadata": {},
     "output_type": "execute_result"
    }
   ],
   "source": [
    "type(NASDAQ['Adj Close'])"
   ]
  },
  {
   "cell_type": "code",
   "execution_count": 16,
   "id": "026adab4-34d3-48f8-ae29-2d988e0792d2",
   "metadata": {},
   "outputs": [],
   "source": [
    "NASDAQ.to_csv(\"NASDAQ_5m_2418obs.csv\", sep=\",\")"
   ]
  },
  {
   "cell_type": "code",
   "execution_count": 17,
   "id": "2c3c27f3-f914-4621-97f4-c2bf00ce91dc",
   "metadata": {},
   "outputs": [
    {
     "data": {
      "text/html": [
       "<div>\n",
       "<style scoped>\n",
       "    .dataframe tbody tr th:only-of-type {\n",
       "        vertical-align: middle;\n",
       "    }\n",
       "\n",
       "    .dataframe tbody tr th {\n",
       "        vertical-align: top;\n",
       "    }\n",
       "\n",
       "    .dataframe thead th {\n",
       "        text-align: right;\n",
       "    }\n",
       "</style>\n",
       "<table border=\"1\" class=\"dataframe\">\n",
       "  <thead>\n",
       "    <tr style=\"text-align: right;\">\n",
       "      <th></th>\n",
       "      <th>Close</th>\n",
       "    </tr>\n",
       "  </thead>\n",
       "  <tbody>\n",
       "    <tr>\n",
       "      <th>0</th>\n",
       "      <td>19357.183594</td>\n",
       "    </tr>\n",
       "    <tr>\n",
       "      <th>1</th>\n",
       "      <td>19281.269531</td>\n",
       "    </tr>\n",
       "    <tr>\n",
       "      <th>2</th>\n",
       "      <td>19307.628906</td>\n",
       "    </tr>\n",
       "    <tr>\n",
       "      <th>3</th>\n",
       "      <td>19388.388672</td>\n",
       "    </tr>\n",
       "    <tr>\n",
       "      <th>4</th>\n",
       "      <td>19452.576172</td>\n",
       "    </tr>\n",
       "  </tbody>\n",
       "</table>\n",
       "</div>"
      ],
      "text/plain": [
       "          Close\n",
       "0  19357.183594\n",
       "1  19281.269531\n",
       "2  19307.628906\n",
       "3  19388.388672\n",
       "4  19452.576172"
      ]
     },
     "execution_count": 17,
     "metadata": {},
     "output_type": "execute_result"
    }
   ],
   "source": [
    "NASDAQ = pd.read_csv(\"NASDAQ_5m_2418obs.csv\", sep=\",\")\n",
    "NASDAQ.head()"
   ]
  },
  {
   "cell_type": "code",
   "execution_count": 18,
   "id": "99276d91-7d2a-41d3-a6e5-185b15c75332",
   "metadata": {
    "scrolled": true
   },
   "outputs": [
    {
     "data": {
      "text/plain": [
       "Index(['Close'], dtype='object')"
      ]
     },
     "execution_count": 18,
     "metadata": {},
     "output_type": "execute_result"
    }
   ],
   "source": [
    "NASDAQ.head(10)\n",
    "NASDAQ.columns"
   ]
  },
  {
   "cell_type": "code",
   "execution_count": 20,
   "id": "9991ac7c-1541-4caf-b1d3-3c208d92459b",
   "metadata": {},
   "outputs": [
    {
     "data": {
      "text/html": [
       "<div>\n",
       "<style scoped>\n",
       "    .dataframe tbody tr th:only-of-type {\n",
       "        vertical-align: middle;\n",
       "    }\n",
       "\n",
       "    .dataframe tbody tr th {\n",
       "        vertical-align: top;\n",
       "    }\n",
       "\n",
       "    .dataframe thead th {\n",
       "        text-align: right;\n",
       "    }\n",
       "</style>\n",
       "<table border=\"1\" class=\"dataframe\">\n",
       "  <thead>\n",
       "    <tr style=\"text-align: right;\">\n",
       "      <th></th>\n",
       "      <th>Close</th>\n",
       "    </tr>\n",
       "  </thead>\n",
       "  <tbody>\n",
       "    <tr>\n",
       "      <th>2025-01-02 14:30:00+00:00</th>\n",
       "      <td>19357.183594</td>\n",
       "    </tr>\n",
       "    <tr>\n",
       "      <th>2025-01-02 14:35:00+00:00</th>\n",
       "      <td>19281.269531</td>\n",
       "    </tr>\n",
       "    <tr>\n",
       "      <th>2025-01-02 14:40:00+00:00</th>\n",
       "      <td>19307.628906</td>\n",
       "    </tr>\n",
       "    <tr>\n",
       "      <th>2025-01-02 14:45:00+00:00</th>\n",
       "      <td>19388.388672</td>\n",
       "    </tr>\n",
       "    <tr>\n",
       "      <th>2025-01-02 14:50:00+00:00</th>\n",
       "      <td>19452.576172</td>\n",
       "    </tr>\n",
       "    <tr>\n",
       "      <th>2025-01-02 14:55:00+00:00</th>\n",
       "      <td>19465.230469</td>\n",
       "    </tr>\n",
       "    <tr>\n",
       "      <th>2025-01-02 15:00:00+00:00</th>\n",
       "      <td>19485.447266</td>\n",
       "    </tr>\n",
       "    <tr>\n",
       "      <th>2025-01-02 15:05:00+00:00</th>\n",
       "      <td>19502.697266</td>\n",
       "    </tr>\n",
       "    <tr>\n",
       "      <th>2025-01-02 15:10:00+00:00</th>\n",
       "      <td>19507.923828</td>\n",
       "    </tr>\n",
       "    <tr>\n",
       "      <th>2025-01-02 15:15:00+00:00</th>\n",
       "      <td>19452.986328</td>\n",
       "    </tr>\n",
       "  </tbody>\n",
       "</table>\n",
       "</div>"
      ],
      "text/plain": [
       "                                  Close\n",
       "2025-01-02 14:30:00+00:00  19357.183594\n",
       "2025-01-02 14:35:00+00:00  19281.269531\n",
       "2025-01-02 14:40:00+00:00  19307.628906\n",
       "2025-01-02 14:45:00+00:00  19388.388672\n",
       "2025-01-02 14:50:00+00:00  19452.576172\n",
       "2025-01-02 14:55:00+00:00  19465.230469\n",
       "2025-01-02 15:00:00+00:00  19485.447266\n",
       "2025-01-02 15:05:00+00:00  19502.697266\n",
       "2025-01-02 15:10:00+00:00  19507.923828\n",
       "2025-01-02 15:15:00+00:00  19452.986328"
      ]
     },
     "execution_count": 20,
     "metadata": {},
     "output_type": "execute_result"
    }
   ],
   "source": [
    "NASDAQ.index = pd.date_range(start=\"2025-01-02 14:30:00+00:00\", periods=len(NASDAQ), freq=\"5min\")\n",
    "NASDAQ.head(10)"
   ]
  },
  {
   "cell_type": "code",
   "execution_count": 22,
   "id": "ea33c2cd-9ddf-4448-a524-c8ecb27fe8aa",
   "metadata": {
    "scrolled": true
   },
   "outputs": [
    {
     "data": {
      "text/html": [
       "<div>\n",
       "<style scoped>\n",
       "    .dataframe tbody tr th:only-of-type {\n",
       "        vertical-align: middle;\n",
       "    }\n",
       "\n",
       "    .dataframe tbody tr th {\n",
       "        vertical-align: top;\n",
       "    }\n",
       "\n",
       "    .dataframe thead th {\n",
       "        text-align: right;\n",
       "    }\n",
       "</style>\n",
       "<table border=\"1\" class=\"dataframe\">\n",
       "  <thead>\n",
       "    <tr style=\"text-align: right;\">\n",
       "      <th></th>\n",
       "      <th>Close</th>\n",
       "      <th>return_NASDAQ</th>\n",
       "    </tr>\n",
       "  </thead>\n",
       "  <tbody>\n",
       "    <tr>\n",
       "      <th>2025-01-02 14:30:00+00:00</th>\n",
       "      <td>19357.183594</td>\n",
       "      <td>NaN</td>\n",
       "    </tr>\n",
       "    <tr>\n",
       "      <th>2025-01-02 14:35:00+00:00</th>\n",
       "      <td>19281.269531</td>\n",
       "      <td>-0.392946</td>\n",
       "    </tr>\n",
       "    <tr>\n",
       "      <th>2025-01-02 14:40:00+00:00</th>\n",
       "      <td>19307.628906</td>\n",
       "      <td>0.136616</td>\n",
       "    </tr>\n",
       "    <tr>\n",
       "      <th>2025-01-02 14:45:00+00:00</th>\n",
       "      <td>19388.388672</td>\n",
       "      <td>0.417407</td>\n",
       "    </tr>\n",
       "    <tr>\n",
       "      <th>2025-01-02 14:50:00+00:00</th>\n",
       "      <td>19452.576172</td>\n",
       "      <td>0.330515</td>\n",
       "    </tr>\n",
       "    <tr>\n",
       "      <th>2025-01-02 14:55:00+00:00</th>\n",
       "      <td>19465.230469</td>\n",
       "      <td>0.065031</td>\n",
       "    </tr>\n",
       "    <tr>\n",
       "      <th>2025-01-02 15:00:00+00:00</th>\n",
       "      <td>19485.447266</td>\n",
       "      <td>0.103807</td>\n",
       "    </tr>\n",
       "    <tr>\n",
       "      <th>2025-01-02 15:05:00+00:00</th>\n",
       "      <td>19502.697266</td>\n",
       "      <td>0.088488</td>\n",
       "    </tr>\n",
       "    <tr>\n",
       "      <th>2025-01-02 15:10:00+00:00</th>\n",
       "      <td>19507.923828</td>\n",
       "      <td>0.026796</td>\n",
       "    </tr>\n",
       "    <tr>\n",
       "      <th>2025-01-02 15:15:00+00:00</th>\n",
       "      <td>19452.986328</td>\n",
       "      <td>-0.282014</td>\n",
       "    </tr>\n",
       "  </tbody>\n",
       "</table>\n",
       "</div>"
      ],
      "text/plain": [
       "                                  Close  return_NASDAQ\n",
       "2025-01-02 14:30:00+00:00  19357.183594            NaN\n",
       "2025-01-02 14:35:00+00:00  19281.269531      -0.392946\n",
       "2025-01-02 14:40:00+00:00  19307.628906       0.136616\n",
       "2025-01-02 14:45:00+00:00  19388.388672       0.417407\n",
       "2025-01-02 14:50:00+00:00  19452.576172       0.330515\n",
       "2025-01-02 14:55:00+00:00  19465.230469       0.065031\n",
       "2025-01-02 15:00:00+00:00  19485.447266       0.103807\n",
       "2025-01-02 15:05:00+00:00  19502.697266       0.088488\n",
       "2025-01-02 15:10:00+00:00  19507.923828       0.026796\n",
       "2025-01-02 15:15:00+00:00  19452.986328      -0.282014"
      ]
     },
     "execution_count": 22,
     "metadata": {},
     "output_type": "execute_result"
    }
   ],
   "source": [
    "NASDAQ['return_NASDAQ'] = (np.log(NASDAQ['Close'])-np.log(NASDAQ['Close'].shift(1)))*100\n",
    "NASDAQ.head(10)"
   ]
  },
  {
   "cell_type": "code",
   "execution_count": 27,
   "id": "734cc9fa-f9c6-4e5e-a310-a8584cda352a",
   "metadata": {
    "scrolled": true
   },
   "outputs": [
    {
     "data": {
      "text/plain": [
       "<Axes: >"
      ]
     },
     "execution_count": 27,
     "metadata": {},
     "output_type": "execute_result"
    },
    {
     "data": {
      "image/png": "[encoded data removed]",
      "text/plain": [
       "<Figure size 640x480 with 1 Axes>"
      ]
     },
     "metadata": {},
     "output_type": "display_data"
    }
   ],
   "source": [
    "NASDAQ['Close'].plot()"
   ]
  },
  {
   "cell_type": "code",
   "execution_count": 28,
   "id": "4e41c10f-ee79-43fe-8aca-0b5da77cc078",
   "metadata": {},
   "outputs": [
    {
     "data": {
      "text/plain": [
       "<Axes: >"
      ]
     },
     "execution_count": 28,
     "metadata": {},
     "output_type": "execute_result"
    },
    {
     "data": {
      "image/png": "[encoded data removed]",
      "text/plain": [
       "<Figure size 640x480 with 1 Axes>"
      ]
     },
     "metadata": {},
     "output_type": "display_data"
    }
   ],
   "source": [
    "NASDAQ['return_NASDAQ'].plot()"
   ]
  },
  {
   "cell_type": "code",
   "execution_count": 41,
   "id": "c2ad5f38-1c7e-4a49-886a-e5869374ebbe",
   "metadata": {},
   "outputs": [
    {
     "data": {
      "image/png": "[encoded data removed]",
      "text/plain": [
       "<Figure size 640x480 with 1 Axes>"
      ]
     },
     "metadata": {},
     "output_type": "display_data"
    }
   ],
   "source": [
    "NDX= NASDAQ['Close'].dropna()\n",
    "plot_acf(NDX,  alpha=.05, lags=150)\n",
    "plt.show()"
   ]
  },
  {
   "cell_type": "code",
   "execution_count": 42,
   "id": "b2f70e3d-ed3c-4918-ab31-a68a856430cd",
   "metadata": {},
   "outputs": [
    {
     "data": {
      "text/plain": [
       "array([[1.        , 1.        ],\n",
       "       [0.95340682, 1.03312363],\n",
       "       [0.91823288, 1.05568723],\n",
       "       [0.89220794, 1.06905232],\n",
       "       [0.87006953, 1.07862619],\n",
       "       [0.85050329, 1.08621865],\n",
       "       [0.83286646, 1.09263512],\n",
       "       [0.81593342, 1.09746512],\n",
       "       [0.79973246, 1.10121679],\n",
       "       [0.78435002, 1.10431037],\n",
       "       [0.76912856, 1.10633544],\n",
       "       [0.75513876, 1.10852878],\n",
       "       [0.7416261 , 1.11029991],\n",
       "       [0.72876598, 1.11193387],\n",
       "       [0.71647073, 1.1134382 ],\n",
       "       [0.70474495, 1.11489476],\n",
       "       [0.69369057, 1.1164712 ],\n",
       "       [0.68278105, 1.11770031],\n",
       "       [0.67148801, 1.11809186],\n",
       "       [0.66017173, 1.11802638],\n",
       "       [0.64911927, 1.11781719],\n",
       "       [0.63849727, 1.11766085],\n",
       "       [0.62796619, 1.11724839],\n",
       "       [0.61773586, 1.11680968],\n",
       "       [0.60717237, 1.11573339],\n",
       "       [0.59674823, 1.11449921],\n",
       "       [0.58614452, 1.1128044 ],\n",
       "       [0.57597536, 1.11127146],\n",
       "       [0.56613083, 1.10981025],\n",
       "       [0.55612272, 1.10794868],\n",
       "       [0.54608447, 1.10582592]])"
      ]
     },
     "execution_count": 42,
     "metadata": {},
     "output_type": "execute_result"
    }
   ],
   "source": [
    "coef_ac, confid_int = acf(NDX, nlags=30, alpha=.05)\n",
    "confid_int"
   ]
  },
  {
   "cell_type": "code",
   "execution_count": 43,
   "id": "b0a6c968-1f1b-4998-99f7-dc44e5552fdb",
   "metadata": {},
   "outputs": [],
   "source": [
    "for q, element in enumerate(coef_ac):\n",
    "    if confid_int[q, 0] <= 0 <= confid_int[q, 1]:\n",
    "        print(q-1)\n",
    "        break"
   ]
  },
  {
   "cell_type": "code",
   "execution_count": 34,
   "id": "78918d08-5a55-4803-b7f6-01e2ace15f61",
   "metadata": {},
   "outputs": [
    {
     "data": {
      "image/png": "[encoded data removed]",
      "text/plain": [
       "<Figure size 640x480 with 1 Axes>"
      ]
     },
     "metadata": {},
     "output_type": "display_data"
    }
   ],
   "source": [
    "plot_pacf(NASDAQ['Close'],  alpha=.05)\n",
    "plt.show()"
   ]
  },
  {
   "cell_type": "code",
   "execution_count": 42,
   "id": "7ea0587f-6a98-4d3c-bb6c-9afd0864d396",
   "metadata": {
    "scrolled": true
   },
   "outputs": [
    {
     "name": "stdout",
     "output_type": "stream",
     "text": [
      "0\n"
     ]
    }
   ],
   "source": [
    "coef_pac, confid_int_pac = pacf(NDX, nlags=10, alpha=.05)\n",
    "\n",
    "for p, element in enumerate(coef_pac):\n",
    "    if confid_int_pac[p, 0] <= 0 <= confid_int_pac[p, 1]:\n",
    "        print(p-1)\n",
    "        break"
   ]
  },
  {
   "cell_type": "code",
   "execution_count": 15,
   "id": "1b5d760f-a377-4e03-afaa-b630e084a27f",
   "metadata": {
    "scrolled": true
   },
   "outputs": [
    {
     "data": {
      "text/plain": [
       "pandas.core.series.Series"
      ]
     },
     "execution_count": 15,
     "metadata": {},
     "output_type": "execute_result"
    }
   ],
   "source": [
    "type(NDX)"
   ]
  },
  {
   "cell_type": "code",
   "execution_count": 16,
   "id": "6e838d96-4de2-432d-bcba-e072e8d4779b",
   "metadata": {},
   "outputs": [
    {
     "ename": "KeyError",
     "evalue": "'date_column'",
     "output_type": "error",
     "traceback": [
      "\u001b[1;31m---------------------------------------------------------------------------\u001b[0m",
      "\u001b[1;31mKeyError\u001b[0m                                  Traceback (most recent call last)",
      "File \u001b[1;32mC:\\ProgramData\\anaconda3\\Lib\\site-packages\\pandas\\core\\indexes\\base.py:3805\u001b[0m, in \u001b[0;36mIndex.get_loc\u001b[1;34m(self, key)\u001b[0m\n\u001b[0;32m   3804\u001b[0m \u001b[38;5;28;01mtry\u001b[39;00m:\n\u001b[1;32m-> 3805\u001b[0m     \u001b[38;5;28;01mreturn\u001b[39;00m \u001b[38;5;28mself\u001b[39m\u001b[38;5;241m.\u001b[39m_engine\u001b[38;5;241m.\u001b[39mget_loc(casted_key)\n\u001b[0;32m   3806\u001b[0m \u001b[38;5;28;01mexcept\u001b[39;00m \u001b[38;5;167;01mKeyError\u001b[39;00m \u001b[38;5;28;01mas\u001b[39;00m err:\n",
      "File \u001b[1;32mindex.pyx:167\u001b[0m, in \u001b[0;36mpandas._libs.index.IndexEngine.get_loc\u001b[1;34m()\u001b[0m\n",
      "File \u001b[1;32mindex.pyx:196\u001b[0m, in \u001b[0;36mpandas._libs.index.IndexEngine.get_loc\u001b[1;34m()\u001b[0m\n",
      "File \u001b[1;32mpandas\\\\_libs\\\\hashtable_class_helper.pxi:7081\u001b[0m, in \u001b[0;36mpandas._libs.hashtable.PyObjectHashTable.get_item\u001b[1;34m()\u001b[0m\n",
      "File \u001b[1;32mpandas\\\\_libs\\\\hashtable_class_helper.pxi:7089\u001b[0m, in \u001b[0;36mpandas._libs.hashtable.PyObjectHashTable.get_item\u001b[1;34m()\u001b[0m\n",
      "\u001b[1;31mKeyError\u001b[0m: 'date_column'",
      "\nThe above exception was the direct cause of the following exception:\n",
      "\u001b[1;31mKeyError\u001b[0m                                  Traceback (most recent call last)",
      "Cell \u001b[1;32mIn[16], line 1\u001b[0m\n\u001b[1;32m----> 1\u001b[0m NASDAQ[\u001b[38;5;124m'\u001b[39m\u001b[38;5;124mdate_column\u001b[39m\u001b[38;5;124m'\u001b[39m] \u001b[38;5;241m=\u001b[39m pd\u001b[38;5;241m.\u001b[39mto_datetime(NASDAQ[\u001b[38;5;124m'\u001b[39m\u001b[38;5;124mdate_column\u001b[39m\u001b[38;5;124m'\u001b[39m])  \u001b[38;5;66;03m# Convertir en datetime\u001b[39;00m\n\u001b[0;32m      2\u001b[0m NASDAQ\u001b[38;5;241m.\u001b[39mset_index(\u001b[38;5;124m'\u001b[39m\u001b[38;5;124mdate_column\u001b[39m\u001b[38;5;124m'\u001b[39m, inplace\u001b[38;5;241m=\u001b[39m\u001b[38;5;28;01mTrue\u001b[39;00m)\n\u001b[0;32m      3\u001b[0m NASDAQ \u001b[38;5;241m=\u001b[39m NASDAQ\u001b[38;5;241m.\u001b[39masfreq(\u001b[38;5;124m'\u001b[39m\u001b[38;5;124mD\u001b[39m\u001b[38;5;124m'\u001b[39m)\n",
      "File \u001b[1;32mC:\\ProgramData\\anaconda3\\Lib\\site-packages\\pandas\\core\\frame.py:4102\u001b[0m, in \u001b[0;36mDataFrame.__getitem__\u001b[1;34m(self, key)\u001b[0m\n\u001b[0;32m   4100\u001b[0m \u001b[38;5;28;01mif\u001b[39;00m \u001b[38;5;28mself\u001b[39m\u001b[38;5;241m.\u001b[39mcolumns\u001b[38;5;241m.\u001b[39mnlevels \u001b[38;5;241m>\u001b[39m \u001b[38;5;241m1\u001b[39m:\n\u001b[0;32m   4101\u001b[0m     \u001b[38;5;28;01mreturn\u001b[39;00m \u001b[38;5;28mself\u001b[39m\u001b[38;5;241m.\u001b[39m_getitem_multilevel(key)\n\u001b[1;32m-> 4102\u001b[0m indexer \u001b[38;5;241m=\u001b[39m \u001b[38;5;28mself\u001b[39m\u001b[38;5;241m.\u001b[39mcolumns\u001b[38;5;241m.\u001b[39mget_loc(key)\n\u001b[0;32m   4103\u001b[0m \u001b[38;5;28;01mif\u001b[39;00m is_integer(indexer):\n\u001b[0;32m   4104\u001b[0m     indexer \u001b[38;5;241m=\u001b[39m [indexer]\n",
      "File \u001b[1;32mC:\\ProgramData\\anaconda3\\Lib\\site-packages\\pandas\\core\\indexes\\base.py:3812\u001b[0m, in \u001b[0;36mIndex.get_loc\u001b[1;34m(self, key)\u001b[0m\n\u001b[0;32m   3807\u001b[0m     \u001b[38;5;28;01mif\u001b[39;00m \u001b[38;5;28misinstance\u001b[39m(casted_key, \u001b[38;5;28mslice\u001b[39m) \u001b[38;5;129;01mor\u001b[39;00m (\n\u001b[0;32m   3808\u001b[0m         \u001b[38;5;28misinstance\u001b[39m(casted_key, abc\u001b[38;5;241m.\u001b[39mIterable)\n\u001b[0;32m   3809\u001b[0m         \u001b[38;5;129;01mand\u001b[39;00m \u001b[38;5;28many\u001b[39m(\u001b[38;5;28misinstance\u001b[39m(x, \u001b[38;5;28mslice\u001b[39m) \u001b[38;5;28;01mfor\u001b[39;00m x \u001b[38;5;129;01min\u001b[39;00m casted_key)\n\u001b[0;32m   3810\u001b[0m     ):\n\u001b[0;32m   3811\u001b[0m         \u001b[38;5;28;01mraise\u001b[39;00m InvalidIndexError(key)\n\u001b[1;32m-> 3812\u001b[0m     \u001b[38;5;28;01mraise\u001b[39;00m \u001b[38;5;167;01mKeyError\u001b[39;00m(key) \u001b[38;5;28;01mfrom\u001b[39;00m \u001b[38;5;21;01merr\u001b[39;00m\n\u001b[0;32m   3813\u001b[0m \u001b[38;5;28;01mexcept\u001b[39;00m \u001b[38;5;167;01mTypeError\u001b[39;00m:\n\u001b[0;32m   3814\u001b[0m     \u001b[38;5;66;03m# If we have a listlike key, _check_indexing_error will raise\u001b[39;00m\n\u001b[0;32m   3815\u001b[0m     \u001b[38;5;66;03m#  InvalidIndexError. Otherwise we fall through and re-raise\u001b[39;00m\n\u001b[0;32m   3816\u001b[0m     \u001b[38;5;66;03m#  the TypeError.\u001b[39;00m\n\u001b[0;32m   3817\u001b[0m     \u001b[38;5;28mself\u001b[39m\u001b[38;5;241m.\u001b[39m_check_indexing_error(key)\n",
      "\u001b[1;31mKeyError\u001b[0m: 'date_column'"
     ]
    }
   ],
   "source": [
    "NASDAQ['date_column'] = pd.to_datetime(NASDAQ['date_column'])  # Convertir en datetime\n",
    "NASDAQ.set_index('date_column', inplace=True)\n",
    "NASDAQ = NASDAQ.asfreq('D')  # Assurer une fréquence journalière"
   ]
  },
  {
   "cell_type": "code",
   "execution_count": 266,
   "id": "5bda2e46-f6ec-430c-98c8-0e8dfb0ffe91",
   "metadata": {},
   "outputs": [
    {
     "ename": "AttributeError",
     "evalue": "'Series' object has no attribute 'colums'",
     "output_type": "error",
     "traceback": [
      "\u001b[1;31m---------------------------------------------------------------------------\u001b[0m",
      "\u001b[1;31mAttributeError\u001b[0m                            Traceback (most recent call last)",
      "\u001b[1;32m~\\AppData\\Local\\Temp\\ipykernel_10656\\1765911396.py\u001b[0m in \u001b[0;36m?\u001b[1;34m()\u001b[0m\n\u001b[1;32m----> 1\u001b[1;33m \u001b[0mNASDAQ\u001b[0m\u001b[1;33m.\u001b[0m\u001b[0mcolums\u001b[0m\u001b[1;33m(\u001b[0m\u001b[1;33m)\u001b[0m\u001b[1;33m\u001b[0m\u001b[1;33m\u001b[0m\u001b[0m\n\u001b[0m",
      "\u001b[1;32mC:\\ProgramData\\anaconda3\\Lib\\site-packages\\pandas\\core\\generic.py\u001b[0m in \u001b[0;36m?\u001b[1;34m(self, name)\u001b[0m\n\u001b[0;32m   6295\u001b[0m             \u001b[1;32mand\u001b[0m \u001b[0mname\u001b[0m \u001b[1;32mnot\u001b[0m \u001b[1;32min\u001b[0m \u001b[0mself\u001b[0m\u001b[1;33m.\u001b[0m\u001b[0m_accessors\u001b[0m\u001b[1;33m\u001b[0m\u001b[1;33m\u001b[0m\u001b[0m\n\u001b[0;32m   6296\u001b[0m             \u001b[1;32mand\u001b[0m \u001b[0mself\u001b[0m\u001b[1;33m.\u001b[0m\u001b[0m_info_axis\u001b[0m\u001b[1;33m.\u001b[0m\u001b[0m_can_hold_identifiers_and_holds_name\u001b[0m\u001b[1;33m(\u001b[0m\u001b[0mname\u001b[0m\u001b[1;33m)\u001b[0m\u001b[1;33m\u001b[0m\u001b[1;33m\u001b[0m\u001b[0m\n\u001b[0;32m   6297\u001b[0m         \u001b[1;33m)\u001b[0m\u001b[1;33m:\u001b[0m\u001b[1;33m\u001b[0m\u001b[1;33m\u001b[0m\u001b[0m\n\u001b[0;32m   6298\u001b[0m             \u001b[1;32mreturn\u001b[0m \u001b[0mself\u001b[0m\u001b[1;33m[\u001b[0m\u001b[0mname\u001b[0m\u001b[1;33m]\u001b[0m\u001b[1;33m\u001b[0m\u001b[1;33m\u001b[0m\u001b[0m\n\u001b[1;32m-> 6299\u001b[1;33m         \u001b[1;32mreturn\u001b[0m \u001b[0mobject\u001b[0m\u001b[1;33m.\u001b[0m\u001b[0m__getattribute__\u001b[0m\u001b[1;33m(\u001b[0m\u001b[0mself\u001b[0m\u001b[1;33m,\u001b[0m \u001b[0mname\u001b[0m\u001b[1;33m)\u001b[0m\u001b[1;33m\u001b[0m\u001b[1;33m\u001b[0m\u001b[0m\n\u001b[0m",
      "\u001b[1;31mAttributeError\u001b[0m: 'Series' object has no attribute 'colums'"
     ]
    }
   ],
   "source": [
    "NASDAQ.colums()"
   ]
  },
  {
   "cell_type": "code",
   "execution_count": 45,
   "id": "7ad5a90f-7552-45d5-b883-9a6b39dd459e",
   "metadata": {},
   "outputs": [
    {
     "ename": "SyntaxError",
     "evalue": "unmatched ')' (2527050104.py, line 1)",
     "output_type": "error",
     "traceback": [
      "\u001b[1;36m  Cell \u001b[1;32mIn[45], line 1\u001b[1;36m\u001b[0m\n\u001b[1;33m    NASD['date_column'])\u001b[0m\n\u001b[1;37m                       ^\u001b[0m\n\u001b[1;31mSyntaxError\u001b[0m\u001b[1;31m:\u001b[0m unmatched ')'\n"
     ]
    }
   ],
   "source": [
    "NASD['date_column'])\n",
    "NA.set_index('date_column', inplace=True)\n",
    "NA = NA.asfreq('D') "
   ]
  },
  {
   "cell_type": "code",
   "execution_count": 74,
   "id": "a32c8aec-2bf8-492e-8fa0-32fdee370cb8",
   "metadata": {
    "scrolled": true
   },
   "outputs": [
    {
     "name": "stderr",
     "output_type": "stream",
     "text": [
      "C:\\ProgramData\\anaconda3\\Lib\\site-packages\\statsmodels\\base\\model.py:607: ConvergenceWarning: Maximum Likelihood optimization failed to converge. Check mle_retvals\n",
      "  warnings.warn(\"Maximum Likelihood optimization failed to \"\n",
      "C:\\ProgramData\\anaconda3\\Lib\\site-packages\\statsmodels\\base\\model.py:607: ConvergenceWarning: Maximum Likelihood optimization failed to converge. Check mle_retvals\n",
      "  warnings.warn(\"Maximum Likelihood optimization failed to \"\n"
     ]
    }
   ],
   "source": [
    "#NASDAQ[('Adj Close', '^IXIC')] = NASDAQ\n",
    "result_dict = {}\n",
    "for p in [0,1]:\n",
    "    for q in [0,1,2,3,4]:\n",
    "        if (p != 0 or q != 0):\n",
    "            arma_mod = ARIMA(endog=NDX, order=(p,0, q))\n",
    "            fitx = arma_mod.fit()\n",
    "            result_dict[\"ARMA_%s%s\" % (p, q)] = fitx"
   ]
  },
  {
   "cell_type": "code",
   "execution_count": null,
   "id": "c3e97dcb-08b7-4703-a1f4-a5a4e0c3e8f4",
   "metadata": {},
   "outputs": [],
   "source": []
  },
  {
   "cell_type": "code",
   "execution_count": 45,
   "id": "f3f4df63-2e0d-4079-9a74-de080b9210df",
   "metadata": {},
   "outputs": [
    {
     "name": "stdout",
     "output_type": "stream",
     "text": [
      "Statistique ADF : -2.432381322418812\n",
      "P-value : 0.13280478107746563\n",
      "❌ La série n'est pas stationnaire, il faut peut-être différencier encore.\n"
     ]
    }
   ],
   "source": [
    "adf_test = adfuller(NDX.dropna())  # On enlève les NaN\n",
    "print(f\"Statistique ADF : {adf_test[0]}\")\n",
    "print(f\"P-value : {adf_test[1]}\")\n",
    "\n",
    "if adf_test[1] < 0.05:\n",
    "    print(\"✅ La série est stationnaire.\")\n",
    "else:\n",
    "    print(\"❌ La série n'est pas stationnaire, il faut peut-être différencier encore.\")"
   ]
  },
  {
   "cell_type": "code",
   "execution_count": 17,
   "id": "c6c46510-022f-46ba-a7df-ce04cfbe4136",
   "metadata": {},
   "outputs": [
    {
     "ename": "NameError",
     "evalue": "name 'X' is not defined",
     "output_type": "error",
     "traceback": [
      "\u001b[1;31m---------------------------------------------------------------------------\u001b[0m",
      "\u001b[1;31mNameError\u001b[0m                                 Traceback (most recent call last)",
      "Cell \u001b[1;32mIn[17], line 2\u001b[0m\n\u001b[0;32m      1\u001b[0m fig, ax \u001b[38;5;241m=\u001b[39m plt\u001b[38;5;241m.\u001b[39msubplots(\u001b[38;5;241m2\u001b[39m, \u001b[38;5;241m1\u001b[39m, figsize\u001b[38;5;241m=\u001b[39m(\u001b[38;5;241m8\u001b[39m, \u001b[38;5;241m6\u001b[39m))\n\u001b[1;32m----> 2\u001b[0m plot_acf(X, ax\u001b[38;5;241m=\u001b[39max[\u001b[38;5;241m0\u001b[39m])\n\u001b[0;32m      3\u001b[0m plot_pacf(X, ax\u001b[38;5;241m=\u001b[39max[\u001b[38;5;241m1\u001b[39m])\n\u001b[0;32m      4\u001b[0m plt\u001b[38;5;241m.\u001b[39mshow()\n",
      "\u001b[1;31mNameError\u001b[0m: name 'X' is not defined"
     ]
    },
    {
     "data": {
      "image/png": "[encoded data removed]",
      "text/plain": [
       "<Figure size 800x600 with 2 Axes>"
      ]
     },
     "metadata": {},
     "output_type": "display_data"
    }
   ],
   "source": [
    "fig, ax = plt.subplots(2, 1, figsize=(8, 6))\n",
    "plot_acf(X, ax=ax[0])\n",
    "plot_pacf(X, ax=ax[1])\n",
    "plt.show()"
   ]
  },
  {
   "cell_type": "code",
   "execution_count": 18,
   "id": "f697081e-3a4b-4f4f-b30e-b447cebb320c",
   "metadata": {},
   "outputs": [
    {
     "data": {
      "text/plain": [
       "2025-01-23 00:01:00     7.375000\n",
       "2025-01-23 00:02:00    -3.171875\n",
       "2025-01-23 00:03:00    16.250000\n",
       "2025-01-23 00:04:00     7.349609\n",
       "2025-01-23 00:05:00    10.906250\n",
       "Freq: min, Name: Adj Close, dtype: float64"
      ]
     },
     "execution_count": 18,
     "metadata": {},
     "output_type": "execute_result"
    }
   ],
   "source": [
    "X = NASDAQ['Adj Close'].diff().dropna()\n",
    "X.head()"
   ]
  },
  {
   "cell_type": "code",
   "execution_count": 47,
   "id": "ede10222-54d2-4edd-95e7-756305b0d396",
   "metadata": {},
   "outputs": [
    {
     "name": "stderr",
     "output_type": "stream",
     "text": [
      "C:\\ProgramData\\anaconda3\\Lib\\site-packages\\statsmodels\\tsa\\statespace\\sarimax.py:978: UserWarning: Non-invertible starting MA parameters found. Using zeros as starting parameters.\n",
      "  warn('Non-invertible starting MA parameters found.'\n"
     ]
    },
    {
     "name": "stdout",
     "output_type": "stream",
     "text": [
      "                               SARIMAX Results                                \n",
      "==============================================================================\n",
      "Dep. Variable:              Adj Close   No. Observations:                  358\n",
      "Model:                 ARIMA(1, 1, 1)   Log Likelihood               -1075.303\n",
      "Date:                Wed, 19 Feb 2025   AIC                           2156.605\n",
      "Time:                        17:24:24   BIC                           2168.238\n",
      "Sample:                    01-23-2025   HQIC                          2161.232\n",
      "                         - 01-23-2025                                         \n",
      "Covariance Type:                  opg                                         \n",
      "==============================================================================\n",
      "                 coef    std err          z      P>|z|      [0.025      0.975]\n",
      "------------------------------------------------------------------------------\n",
      "ar.L1          0.0898      0.042      2.119      0.034       0.007       0.173\n",
      "ma.L1         -0.9999      1.870     -0.535      0.593      -4.666       2.666\n",
      "sigma2        23.8146     44.372      0.537      0.591     -63.154     110.783\n",
      "===================================================================================\n",
      "Ljung-Box (L1) (Q):                   0.08   Jarque-Bera (JB):                82.55\n",
      "Prob(Q):                              0.78   Prob(JB):                         0.00\n",
      "Heteroskedasticity (H):               0.22   Skew:                            -0.55\n",
      "Prob(H) (two-sided):                  0.00   Kurtosis:                         5.08\n",
      "===================================================================================\n",
      "\n",
      "Warnings:\n",
      "[1] Covariance matrix calculated using the outer product of gradients (complex-step).\n"
     ]
    }
   ],
   "source": [
    "model = sm.tsa.ARIMA(X, order=(1, 1, 1))  \n",
    "fit_model = model.fit()\n",
    "print(fit_model.summary())"
   ]
  },
  {
   "cell_type": "code",
   "execution_count": 47,
   "id": "08058e84-cfad-4590-8902-c72e1061d8ea",
   "metadata": {},
   "outputs": [
    {
     "name": "stdout",
     "output_type": "stream",
     "text": [
      "Iteration:      1,   Func. Count:      6,   Neg. LLF: 71500.01419734907\n",
      "Iteration:      2,   Func. Count:     12,   Neg. LLF: 15482.205767133446\n",
      "Iteration:      3,   Func. Count:     17,   Neg. LLF: 15463.700031516157\n",
      "Iteration:      4,   Func. Count:     22,   Neg. LLF: 15461.912230587779\n",
      "Iteration:      5,   Func. Count:     27,   Neg. LLF: 15460.828873134571\n",
      "Iteration:      6,   Func. Count:     32,   Neg. LLF: 15459.902094007943\n",
      "Iteration:      7,   Func. Count:     37,   Neg. LLF: 15459.887181039536\n",
      "Iteration:      8,   Func. Count:     42,   Neg. LLF: 15459.884114903885\n",
      "Iteration:      9,   Func. Count:     47,   Neg. LLF: 15459.867565921502\n",
      "Iteration:     10,   Func. Count:     52,   Neg. LLF: 15459.784413275225\n",
      "Iteration:     11,   Func. Count:     57,   Neg. LLF: 15459.370058198027\n",
      "Iteration:     12,   Func. Count:     62,   Neg. LLF: 15457.321526181764\n",
      "Iteration:     13,   Func. Count:     67,   Neg. LLF: 15447.766229577192\n",
      "Iteration:     14,   Func. Count:     72,   Neg. LLF: 16470.45599846875\n",
      "Iteration:     15,   Func. Count:     78,   Neg. LLF: 42020.513562185995\n",
      "Iteration:     16,   Func. Count:     84,   Neg. LLF: 15487.403736284414\n",
      "Iteration:     17,   Func. Count:     90,   Neg. LLF: 15440.187425635948\n",
      "Iteration:     18,   Func. Count:     96,   Neg. LLF: 15429.473867849449\n",
      "Iteration:     19,   Func. Count:    101,   Neg. LLF: 15429.338058308067\n",
      "Iteration:     20,   Func. Count:    106,   Neg. LLF: 15429.331080256594\n",
      "Iteration:     21,   Func. Count:    111,   Neg. LLF: 15429.329372498689\n",
      "Iteration:     22,   Func. Count:    116,   Neg. LLF: 15429.329133048795\n",
      "Iteration:     23,   Func. Count:    121,   Neg. LLF: 15429.329120920678\n",
      "Iteration:     24,   Func. Count:    125,   Neg. LLF: 15429.329120767718\n",
      "Optimization terminated successfully    (Exit mode 0)\n",
      "            Current function value: 15429.329120920678\n",
      "            Iterations: 24\n",
      "            Function evaluations: 125\n",
      "            Gradient evaluations: 24\n",
      "                     Constant Mean - GARCH Model Results                      \n",
      "==============================================================================\n",
      "Dep. Variable:                  Close   R-squared:                       0.000\n",
      "Mean Model:             Constant Mean   Adj. R-squared:                  0.000\n",
      "Vol Model:                      GARCH   Log-Likelihood:               -15429.3\n",
      "Distribution:                  Normal   AIC:                           30866.7\n",
      "Method:            Maximum Likelihood   BIC:                           30889.8\n",
      "                                        No. Observations:                 2418\n",
      "Date:                Wed, Feb 19 2025   Df Residuals:                     2417\n",
      "Time:                        18:17:51   Df Model:                            1\n",
      "                                 Mean Model                                 \n",
      "============================================================================\n",
      "                 coef    std err          t      P>|t|      95.0% Conf. Int.\n",
      "----------------------------------------------------------------------------\n",
      "mu         1.9653e+04      9.017   2179.443      0.000 [1.964e+04,1.967e+04]\n",
      "                              Volatility Model                             \n",
      "===========================================================================\n",
      "                 coef    std err          t      P>|t|     95.0% Conf. Int.\n",
      "---------------------------------------------------------------------------\n",
      "omega        580.6885    276.353      2.101  3.562e-02  [ 39.047,1.122e+03]\n",
      "alpha[1]       0.9570  6.321e-02     15.139  8.956e-52    [  0.833,  1.081]\n",
      "beta[1]        0.0430  4.888e-02      0.881      0.378 [-5.276e-02,  0.139]\n",
      "===========================================================================\n",
      "\n",
      "Covariance estimator: robust\n"
     ]
    },
    {
     "name": "stderr",
     "output_type": "stream",
     "text": [
      "C:\\ProgramData\\anaconda3\\Lib\\site-packages\\arch\\univariate\\base.py:309: DataScaleWarning: y is poorly scaled, which may affect convergence of the optimizer when\n",
      "estimating the model parameters. The scale of y is 7.364e+04. Parameter\n",
      "estimation work better when this value is between 1 and 1000. The recommended\n",
      "rescaling is 0.1 * y.\n",
      "\n",
      "This warning can be disabled by either rescaling y before initializing the\n",
      "model or by setting rescale=False.\n",
      "\n",
      "  warnings.warn(\n"
     ]
    }
   ],
   "source": [
    "from arch import arch_model\n",
    "\n",
    "# Modèle GARCH(1,1)\n",
    "garch_model = arch_model(NDX, vol='Garch', p=1, q=1)\n",
    "garch_fit = garch_model.fit()\n",
    "print(garch_fit.summary())"
   ]
  },
  {
   "cell_type": "code",
   "execution_count": 46,
   "id": "9222761f-a130-4d2a-93b6-e555c040a4ce",
   "metadata": {},
   "outputs": [
    {
     "ename": "NameError",
     "evalue": "name 'arch_model' is not defined",
     "output_type": "error",
     "traceback": [
      "\u001b[1;31m---------------------------------------------------------------------------\u001b[0m",
      "\u001b[1;31mNameError\u001b[0m                                 Traceback (most recent call last)",
      "Cell \u001b[1;32mIn[46], line 2\u001b[0m\n\u001b[0;32m      1\u001b[0m returns_scaled \u001b[38;5;241m=\u001b[39m NDX \u001b[38;5;241m*\u001b[39m \u001b[38;5;241m10\u001b[39m  \u001b[38;5;66;03m# ou * 100\u001b[39;00m\n\u001b[1;32m----> 2\u001b[0m garch_model_scaled \u001b[38;5;241m=\u001b[39m arch_model(returns_scaled, vol\u001b[38;5;241m=\u001b[39m\u001b[38;5;124m'\u001b[39m\u001b[38;5;124mGarch\u001b[39m\u001b[38;5;124m'\u001b[39m, p\u001b[38;5;241m=\u001b[39m\u001b[38;5;241m1\u001b[39m, q\u001b[38;5;241m=\u001b[39m\u001b[38;5;241m2\u001b[39m,dist\u001b[38;5;241m=\u001b[39m\u001b[38;5;124m'\u001b[39m\u001b[38;5;124mt\u001b[39m\u001b[38;5;124m'\u001b[39m)\n\u001b[0;32m      3\u001b[0m garch_fit_scaled \u001b[38;5;241m=\u001b[39m garch_model_scaled\u001b[38;5;241m.\u001b[39mfit()\n\u001b[0;32m      4\u001b[0m \u001b[38;5;28mprint\u001b[39m(garch_fit_scaled\u001b[38;5;241m.\u001b[39msummary())\n",
      "\u001b[1;31mNameError\u001b[0m: name 'arch_model' is not defined"
     ]
    }
   ],
   "source": [
    "returns_scaled = NDX * 10  # ou * 100\n",
    "garch_model_scaled = arch_model(returns_scaled, vol='Garch', p=1, q=2,dist='t')\n",
    "garch_fit_scaled = garch_model_scaled.fit()\n",
    "print(garch_fit_scaled.summary())"
   ]
  },
  {
   "cell_type": "code",
   "execution_count": 48,
   "id": "88ef5ce3-5d1c-443e-9ef0-f03723dac026",
   "metadata": {},
   "outputs": [
    {
     "name": "stdout",
     "output_type": "stream",
     "text": [
      "Iteration:      1,   Func. Count:      7,   Neg. LLF: 43026.85457732303\n",
      "Iteration:      2,   Func. Count:     14,   Neg. LLF: 43026.854576326004\n",
      "Iteration:      3,   Func. Count:     21,   Neg. LLF: 43839.466076665645\n",
      "Iteration:      4,   Func. Count:     28,   Neg. LLF: 46044.41254662542\n",
      "Iteration:      5,   Func. Count:     35,   Neg. LLF: 51371.960752917745\n",
      "Iteration:      6,   Func. Count:     48,   Neg. LLF: 51367.52570389659\n",
      "Iteration:      7,   Func. Count:     63,   Neg. LLF: 28844.838791448346\n",
      "Inequality constraints incompatible    (Exit mode 4)\n",
      "            Current function value: 28844.838791226422\n",
      "            Iterations: 8\n",
      "            Function evaluations: 63\n",
      "            Gradient evaluations: 7\n",
      "                        Constant Mean - EGARCH Model Results                        \n",
      "====================================================================================\n",
      "Dep. Variable:                        Close   R-squared:                       0.000\n",
      "Mean Model:                   Constant Mean   Adj. R-squared:                  0.000\n",
      "Vol Model:                           EGARCH   Log-Likelihood:               -28844.8\n",
      "Distribution:      Standardized Student's t   AIC:                           57699.7\n",
      "Method:                  Maximum Likelihood   BIC:                           57728.6\n",
      "                                              No. Observations:                 2418\n",
      "Date:                      Wed, Feb 19 2025   Df Residuals:                     2417\n",
      "Time:                              18:18:30   Df Model:                            1\n",
      "                                  Mean Model                                 \n",
      "=============================================================================\n",
      "                 coef    std err          t      P>|t|       95.0% Conf. Int.\n",
      "-----------------------------------------------------------------------------\n",
      "mu         1.9614e+06  1.573e+07      0.125      0.901 [-2.886e+07,3.279e+07]\n",
      "                               Volatility Model                              \n",
      "=============================================================================\n",
      "                 coef    std err          t      P>|t|       95.0% Conf. Int.\n",
      "-----------------------------------------------------------------------------\n",
      "omega         11.2070     91.141      0.123      0.902 [-1.674e+02,1.898e+02]\n",
      "alpha[1]      10.1650     44.238      0.230      0.818      [-76.540, 96.870]\n",
      "beta[1]        0.6407      5.493      0.117      0.907      [-10.125, 11.407]\n",
      "                                 Distribution                                \n",
      "=============================================================================\n",
      "                 coef    std err          t      P>|t|       95.0% Conf. Int.\n",
      "-----------------------------------------------------------------------------\n",
      "nu             8.2904  1.640e+04  5.055e-04      1.000 [-3.214e+04,3.215e+04]\n",
      "=============================================================================\n",
      "\n",
      "Covariance estimator: robust\n",
      "WARNING: The optimizer did not indicate successful convergence. The message was Inequality constraints incompatible.\n",
      "See convergence_flag.\n",
      "\n"
     ]
    },
    {
     "name": "stderr",
     "output_type": "stream",
     "text": [
      "C:\\ProgramData\\anaconda3\\Lib\\site-packages\\arch\\univariate\\base.py:309: DataScaleWarning: y is poorly scaled, which may affect convergence of the optimizer when\n",
      "estimating the model parameters. The scale of y is 7.364e+08. Parameter\n",
      "estimation work better when this value is between 1 and 1000. The recommended\n",
      "rescaling is 0.001 * y.\n",
      "\n",
      "This warning can be disabled by either rescaling y before initializing the\n",
      "model or by setting rescale=False.\n",
      "\n",
      "  warnings.warn(\n",
      "C:\\ProgramData\\anaconda3\\Lib\\site-packages\\arch\\univariate\\base.py:768: ConvergenceWarning: The optimizer returned code 4. The message is:\n",
      "Inequality constraints incompatible\n",
      "See scipy.optimize.fmin_slsqp for code meaning.\n",
      "\n",
      "  warnings.warn(\n"
     ]
    }
   ],
   "source": [
    "NDX_S = NDX * 100\n",
    "egarch_model = arch_model(NDX_S, vol='EGARCH', p=1, q=1, dist='t')\n",
    "egarch_fit = egarch_model.fit()\n",
    "print(egarch_fit.summary())"
   ]
  },
  {
   "cell_type": "code",
   "execution_count": null,
   "id": "f24c3cca-4101-405b-98ba-63db7012ebc2",
   "metadata": {},
   "outputs": [],
   "source": [
    "pd.read"
   ]
  }
 ],
 "metadata": {
  "kernelspec": {
   "display_name": "Python 3 (ipykernel)",
   "language": "python",
   "name": "python3"
  },
  "language_info": {
   "codemirror_mode": {
    "name": "ipython",
    "version": 3
   },
   "file_extension": ".py",
   "mimetype": "text/x-python",
   "name": "python",
   "nbconvert_exporter": "python",
   "pygments_lexer": "ipython3",
   "version": "3.12.7"
  }
 },
 "nbformat": 4,
 "nbformat_minor": 5
}
