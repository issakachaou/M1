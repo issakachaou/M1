{
 "cells": [
  {
   "cell_type": "code",
   "execution_count": 1,
   "id": "a2fee962-dc9e-4cc4-aaf3-7c1d31c3c5f0",
   "metadata": {},
   "outputs": [],
   "source": [
    "import yfinance as yf\n",
    "import pandas as pd\n",
    "import matplotlib.pyplot as plt\n",
    "import statsmodels.api as sm\n",
    "from scipy import stats\n",
    "from statsmodels.tsa.arima.model import ARIMA\n",
    "from statsmodels.tsa.arima_process import ArmaProcess\n",
    "from statsmodels.graphics.tsaplots import plot_acf, plot_pacf\n",
    "\n",
    "from statsmodels.tsa.stattools import adfuller, kpss, acf, acovf, pacf\n",
    "import datetime as dt\n",
    "\n",
    "from statsmodels.stats.diagnostic import acorr_ljungbox, het_arch\n",
    "from statsmodels.tools.eval_measures import rmse, meanabs\n",
    "\n",
    "import seaborn as sns\n",
    "from statsmodels.stats.diagnostic import het_arch"
   ]
  },
  {
   "cell_type": "code",
   "execution_count": 120,
   "id": "59ac02ea-b306-4e35-b684-267c1fd9c961",
   "metadata": {},
   "outputs": [
    {
     "name": "stderr",
     "output_type": "stream",
     "text": [
      "[*********************100%***********************]  1 of 1 completed\n"
     ]
    }
   ],
   "source": [
    "NASDAQ = yf.download(\"^IXIC\", interval='1m', start=\"2025-01-23\", end=\"2025-01-31\",auto_adjust=False,multi_level_index=False)"
   ]
  },
  {
   "cell_type": "code",
   "execution_count": 121,
   "id": "27cc9bf1-d36f-4155-ae5c-390825db37d7",
   "metadata": {},
   "outputs": [
    {
     "data": {
      "text/html": [
       "<div>\n",
       "<style scoped>\n",
       "    .dataframe tbody tr th:only-of-type {\n",
       "        vertical-align: middle;\n",
       "    }\n",
       "\n",
       "    .dataframe tbody tr th {\n",
       "        vertical-align: top;\n",
       "    }\n",
       "\n",
       "    .dataframe thead th {\n",
       "        text-align: right;\n",
       "    }\n",
       "</style>\n",
       "<table border=\"1\" class=\"dataframe\">\n",
       "  <thead>\n",
       "    <tr style=\"text-align: right;\">\n",
       "      <th></th>\n",
       "      <th>Adj Close</th>\n",
       "      <th>Close</th>\n",
       "      <th>High</th>\n",
       "      <th>Low</th>\n",
       "      <th>Open</th>\n",
       "      <th>Volume</th>\n",
       "    </tr>\n",
       "    <tr>\n",
       "      <th>Datetime</th>\n",
       "      <th></th>\n",
       "      <th></th>\n",
       "      <th></th>\n",
       "      <th></th>\n",
       "      <th></th>\n",
       "      <th></th>\n",
       "    </tr>\n",
       "  </thead>\n",
       "  <tbody>\n",
       "    <tr>\n",
       "      <th>2025-01-23 14:30:00+00:00</th>\n",
       "      <td>19896.875000</td>\n",
       "      <td>19896.875000</td>\n",
       "      <td>19913.585938</td>\n",
       "      <td>19896.875000</td>\n",
       "      <td>19909.755859</td>\n",
       "      <td>0</td>\n",
       "    </tr>\n",
       "    <tr>\n",
       "      <th>2025-01-23 14:31:00+00:00</th>\n",
       "      <td>19904.250000</td>\n",
       "      <td>19904.250000</td>\n",
       "      <td>19913.515625</td>\n",
       "      <td>19901.736328</td>\n",
       "      <td>19904.447266</td>\n",
       "      <td>46294360</td>\n",
       "    </tr>\n",
       "    <tr>\n",
       "      <th>2025-01-23 14:32:00+00:00</th>\n",
       "      <td>19901.078125</td>\n",
       "      <td>19901.078125</td>\n",
       "      <td>19905.906250</td>\n",
       "      <td>19894.414062</td>\n",
       "      <td>19896.449219</td>\n",
       "      <td>55436607</td>\n",
       "    </tr>\n",
       "    <tr>\n",
       "      <th>2025-01-23 14:33:00+00:00</th>\n",
       "      <td>19917.328125</td>\n",
       "      <td>19917.328125</td>\n",
       "      <td>19917.328125</td>\n",
       "      <td>19899.080078</td>\n",
       "      <td>19905.759766</td>\n",
       "      <td>32730068</td>\n",
       "    </tr>\n",
       "    <tr>\n",
       "      <th>2025-01-23 14:34:00+00:00</th>\n",
       "      <td>19924.677734</td>\n",
       "      <td>19924.677734</td>\n",
       "      <td>19926.388672</td>\n",
       "      <td>19908.804688</td>\n",
       "      <td>19911.781250</td>\n",
       "      <td>34688694</td>\n",
       "    </tr>\n",
       "  </tbody>\n",
       "</table>\n",
       "</div>"
      ],
      "text/plain": [
       "                              Adj Close         Close          High  \\\n",
       "Datetime                                                              \n",
       "2025-01-23 14:30:00+00:00  19896.875000  19896.875000  19913.585938   \n",
       "2025-01-23 14:31:00+00:00  19904.250000  19904.250000  19913.515625   \n",
       "2025-01-23 14:32:00+00:00  19901.078125  19901.078125  19905.906250   \n",
       "2025-01-23 14:33:00+00:00  19917.328125  19917.328125  19917.328125   \n",
       "2025-01-23 14:34:00+00:00  19924.677734  19924.677734  19926.388672   \n",
       "\n",
       "                                    Low          Open    Volume  \n",
       "Datetime                                                         \n",
       "2025-01-23 14:30:00+00:00  19896.875000  19909.755859         0  \n",
       "2025-01-23 14:31:00+00:00  19901.736328  19904.447266  46294360  \n",
       "2025-01-23 14:32:00+00:00  19894.414062  19896.449219  55436607  \n",
       "2025-01-23 14:33:00+00:00  19899.080078  19905.759766  32730068  \n",
       "2025-01-23 14:34:00+00:00  19908.804688  19911.781250  34688694  "
      ]
     },
     "execution_count": 121,
     "metadata": {},
     "output_type": "execute_result"
    }
   ],
   "source": [
    "NASDAQ.head()"
   ]
  },
  {
   "cell_type": "code",
   "execution_count": 122,
   "id": "b7da0602-31bf-4083-8a74-ade64f1f6553",
   "metadata": {},
   "outputs": [
    {
     "data": {
      "text/plain": [
       "(2325, 6)"
      ]
     },
     "execution_count": 122,
     "metadata": {},
     "output_type": "execute_result"
    }
   ],
   "source": [
    "NASDAQ.shape"
   ]
  },
  {
   "cell_type": "code",
   "execution_count": 54,
   "id": "a4934ccd-505e-4ac4-a574-de3be200016e",
   "metadata": {
    "scrolled": true
   },
   "outputs": [
    {
     "data": {
      "text/plain": [
       "pandas.core.series.Series"
      ]
     },
     "execution_count": 54,
     "metadata": {},
     "output_type": "execute_result"
    }
   ],
   "source": [
    "type(NASDAQ['Adj Close'])"
   ]
  },
  {
   "cell_type": "code",
   "execution_count": 123,
   "id": "026adab4-34d3-48f8-ae29-2d988e0792d2",
   "metadata": {},
   "outputs": [],
   "source": [
    "NASDAQ.to_csv(\"NASDAQ_1m_7d.csv\", sep=\",\")"
   ]
  },
  {
   "cell_type": "code",
   "execution_count": 2,
   "id": "2c3c27f3-f914-4621-97f4-c2bf00ce91dc",
   "metadata": {},
   "outputs": [
    {
     "data": {
      "text/html": [
       "<div>\n",
       "<style scoped>\n",
       "    .dataframe tbody tr th:only-of-type {\n",
       "        vertical-align: middle;\n",
       "    }\n",
       "\n",
       "    .dataframe tbody tr th {\n",
       "        vertical-align: top;\n",
       "    }\n",
       "\n",
       "    .dataframe thead th {\n",
       "        text-align: right;\n",
       "    }\n",
       "</style>\n",
       "<table border=\"1\" class=\"dataframe\">\n",
       "  <thead>\n",
       "    <tr style=\"text-align: right;\">\n",
       "      <th></th>\n",
       "      <th>Adj Close</th>\n",
       "    </tr>\n",
       "  </thead>\n",
       "  <tbody>\n",
       "    <tr>\n",
       "      <th>0</th>\n",
       "      <td>19896.875000</td>\n",
       "    </tr>\n",
       "    <tr>\n",
       "      <th>1</th>\n",
       "      <td>19904.250000</td>\n",
       "    </tr>\n",
       "    <tr>\n",
       "      <th>2</th>\n",
       "      <td>19901.078125</td>\n",
       "    </tr>\n",
       "    <tr>\n",
       "      <th>3</th>\n",
       "      <td>19917.328125</td>\n",
       "    </tr>\n",
       "    <tr>\n",
       "      <th>4</th>\n",
       "      <td>19924.677734</td>\n",
       "    </tr>\n",
       "  </tbody>\n",
       "</table>\n",
       "</div>"
      ],
      "text/plain": [
       "      Adj Close\n",
       "0  19896.875000\n",
       "1  19904.250000\n",
       "2  19901.078125\n",
       "3  19917.328125\n",
       "4  19924.677734"
      ]
     },
     "execution_count": 2,
     "metadata": {},
     "output_type": "execute_result"
    }
   ],
   "source": [
    "NASDAQ = pd.read_csv(\"NASDAQ_1m_7d.csv\", sep=\",\")\n",
    "NASDAQ.head()"
   ]
  },
  {
   "cell_type": "code",
   "execution_count": 3,
   "id": "99276d91-7d2a-41d3-a6e5-185b15c75332",
   "metadata": {
    "scrolled": true
   },
   "outputs": [
    {
     "data": {
      "text/plain": [
       "Index(['Adj Close'], dtype='object')"
      ]
     },
     "execution_count": 3,
     "metadata": {},
     "output_type": "execute_result"
    }
   ],
   "source": [
    "NASDAQ.head(10)\n",
    "NASDAQ.columns"
   ]
  },
  {
   "cell_type": "code",
   "execution_count": 4,
   "id": "9991ac7c-1541-4caf-b1d3-3c208d92459b",
   "metadata": {},
   "outputs": [
    {
     "data": {
      "text/html": [
       "<div>\n",
       "<style scoped>\n",
       "    .dataframe tbody tr th:only-of-type {\n",
       "        vertical-align: middle;\n",
       "    }\n",
       "\n",
       "    .dataframe tbody tr th {\n",
       "        vertical-align: top;\n",
       "    }\n",
       "\n",
       "    .dataframe thead th {\n",
       "        text-align: right;\n",
       "    }\n",
       "</style>\n",
       "<table border=\"1\" class=\"dataframe\">\n",
       "  <thead>\n",
       "    <tr style=\"text-align: right;\">\n",
       "      <th></th>\n",
       "      <th>Adj Close</th>\n",
       "    </tr>\n",
       "  </thead>\n",
       "  <tbody>\n",
       "    <tr>\n",
       "      <th>2025-01-23 00:00:00</th>\n",
       "      <td>19896.875000</td>\n",
       "    </tr>\n",
       "    <tr>\n",
       "      <th>2025-01-23 00:01:00</th>\n",
       "      <td>19904.250000</td>\n",
       "    </tr>\n",
       "    <tr>\n",
       "      <th>2025-01-23 00:02:00</th>\n",
       "      <td>19901.078125</td>\n",
       "    </tr>\n",
       "    <tr>\n",
       "      <th>2025-01-23 00:03:00</th>\n",
       "      <td>19917.328125</td>\n",
       "    </tr>\n",
       "    <tr>\n",
       "      <th>2025-01-23 00:04:00</th>\n",
       "      <td>19924.677734</td>\n",
       "    </tr>\n",
       "    <tr>\n",
       "      <th>2025-01-23 00:05:00</th>\n",
       "      <td>19935.583984</td>\n",
       "    </tr>\n",
       "    <tr>\n",
       "      <th>2025-01-23 00:06:00</th>\n",
       "      <td>19929.367188</td>\n",
       "    </tr>\n",
       "    <tr>\n",
       "      <th>2025-01-23 00:07:00</th>\n",
       "      <td>19915.785156</td>\n",
       "    </tr>\n",
       "    <tr>\n",
       "      <th>2025-01-23 00:08:00</th>\n",
       "      <td>19922.304688</td>\n",
       "    </tr>\n",
       "    <tr>\n",
       "      <th>2025-01-23 00:09:00</th>\n",
       "      <td>19938.320312</td>\n",
       "    </tr>\n",
       "  </tbody>\n",
       "</table>\n",
       "</div>"
      ],
      "text/plain": [
       "                        Adj Close\n",
       "2025-01-23 00:00:00  19896.875000\n",
       "2025-01-23 00:01:00  19904.250000\n",
       "2025-01-23 00:02:00  19901.078125\n",
       "2025-01-23 00:03:00  19917.328125\n",
       "2025-01-23 00:04:00  19924.677734\n",
       "2025-01-23 00:05:00  19935.583984\n",
       "2025-01-23 00:06:00  19929.367188\n",
       "2025-01-23 00:07:00  19915.785156\n",
       "2025-01-23 00:08:00  19922.304688\n",
       "2025-01-23 00:09:00  19938.320312"
      ]
     },
     "execution_count": 4,
     "metadata": {},
     "output_type": "execute_result"
    }
   ],
   "source": [
    "NASDAQ.index = pd.date_range(start=\"2025-01-23\", periods=len(NASDAQ), freq=\"min\")\n",
    "NASDAQ.head(10)"
   ]
  },
  {
   "cell_type": "code",
   "execution_count": 5,
   "id": "ea33c2cd-9ddf-4448-a524-c8ecb27fe8aa",
   "metadata": {
    "scrolled": true
   },
   "outputs": [
    {
     "data": {
      "text/html": [
       "<div>\n",
       "<style scoped>\n",
       "    .dataframe tbody tr th:only-of-type {\n",
       "        vertical-align: middle;\n",
       "    }\n",
       "\n",
       "    .dataframe tbody tr th {\n",
       "        vertical-align: top;\n",
       "    }\n",
       "\n",
       "    .dataframe thead th {\n",
       "        text-align: right;\n",
       "    }\n",
       "</style>\n",
       "<table border=\"1\" class=\"dataframe\">\n",
       "  <thead>\n",
       "    <tr style=\"text-align: right;\">\n",
       "      <th></th>\n",
       "      <th>Adj Close</th>\n",
       "      <th>return_NASDAQ</th>\n",
       "    </tr>\n",
       "  </thead>\n",
       "  <tbody>\n",
       "    <tr>\n",
       "      <th>2025-01-23 00:00:00</th>\n",
       "      <td>19896.875000</td>\n",
       "      <td>NaN</td>\n",
       "    </tr>\n",
       "    <tr>\n",
       "      <th>2025-01-23 00:01:00</th>\n",
       "      <td>19904.250000</td>\n",
       "      <td>0.037066</td>\n",
       "    </tr>\n",
       "    <tr>\n",
       "      <th>2025-01-23 00:02:00</th>\n",
       "      <td>19901.078125</td>\n",
       "      <td>-0.015936</td>\n",
       "    </tr>\n",
       "    <tr>\n",
       "      <th>2025-01-23 00:03:00</th>\n",
       "      <td>19917.328125</td>\n",
       "      <td>0.081654</td>\n",
       "    </tr>\n",
       "    <tr>\n",
       "      <th>2025-01-23 00:04:00</th>\n",
       "      <td>19924.677734</td>\n",
       "      <td>0.036901</td>\n",
       "    </tr>\n",
       "    <tr>\n",
       "      <th>2025-01-23 00:05:00</th>\n",
       "      <td>19935.583984</td>\n",
       "      <td>0.054737</td>\n",
       "    </tr>\n",
       "    <tr>\n",
       "      <th>2025-01-23 00:06:00</th>\n",
       "      <td>19929.367188</td>\n",
       "      <td>-0.031184</td>\n",
       "    </tr>\n",
       "    <tr>\n",
       "      <th>2025-01-23 00:07:00</th>\n",
       "      <td>19915.785156</td>\n",
       "      <td>-0.068151</td>\n",
       "    </tr>\n",
       "    <tr>\n",
       "      <th>2025-01-23 00:08:00</th>\n",
       "      <td>19922.304688</td>\n",
       "      <td>0.032735</td>\n",
       "    </tr>\n",
       "    <tr>\n",
       "      <th>2025-01-23 00:09:00</th>\n",
       "      <td>19938.320312</td>\n",
       "      <td>0.080390</td>\n",
       "    </tr>\n",
       "  </tbody>\n",
       "</table>\n",
       "</div>"
      ],
      "text/plain": [
       "                        Adj Close  return_NASDAQ\n",
       "2025-01-23 00:00:00  19896.875000            NaN\n",
       "2025-01-23 00:01:00  19904.250000       0.037066\n",
       "2025-01-23 00:02:00  19901.078125      -0.015936\n",
       "2025-01-23 00:03:00  19917.328125       0.081654\n",
       "2025-01-23 00:04:00  19924.677734       0.036901\n",
       "2025-01-23 00:05:00  19935.583984       0.054737\n",
       "2025-01-23 00:06:00  19929.367188      -0.031184\n",
       "2025-01-23 00:07:00  19915.785156      -0.068151\n",
       "2025-01-23 00:08:00  19922.304688       0.032735\n",
       "2025-01-23 00:09:00  19938.320312       0.080390"
      ]
     },
     "execution_count": 5,
     "metadata": {},
     "output_type": "execute_result"
    }
   ],
   "source": [
    "NASDAQ['return_NASDAQ'] = (NASDAQ['Adj Close']/NASDAQ['Adj Close'].shift(1)-1)*100\n",
    "NASDAQ.head(10)"
   ]
  },
  {
   "cell_type": "code",
   "execution_count": 6,
   "id": "734cc9fa-f9c6-4e5e-a310-a8584cda352a",
   "metadata": {},
   "outputs": [
    {
     "data": {
      "text/plain": [
       "<Axes: >"
      ]
     },
     "execution_count": 6,
     "metadata": {},
     "output_type": "execute_result"
    },
    {
     "data": {
      "image/png": "[encoded data removed]",
      "text/plain": [
       "<Figure size 2000x1000 with 1 Axes>"
      ]
     },
     "metadata": {},
     "output_type": "display_data"
    }
   ],
   "source": [
    "NASDAQ['Adj Close'].plot(figsize=(20,10))"
   ]
  },
  {
   "cell_type": "code",
   "execution_count": 11,
   "id": "c2ad5f38-1c7e-4a49-886a-e5869374ebbe",
   "metadata": {},
   "outputs": [
    {
     "data": {
      "image/png": "[encoded data removed]",
      "text/plain": [
       "<Figure size 640x480 with 1 Axes>"
      ]
     },
     "metadata": {},
     "output_type": "display_data"
    }
   ],
   "source": [
    "NDX= NASDAQ['return_NASDAQ'].dropna()\n",
    "plot_acf(NDX,  alpha=.05, lags=30)\n",
    "plt.show()"
   ]
  },
  {
   "cell_type": "code",
   "execution_count": 12,
   "id": "b2f70e3d-ed3c-4918-ab31-a68a856430cd",
   "metadata": {},
   "outputs": [
    {
     "data": {
      "text/plain": [
       "array([[ 1.        ,  1.        ],\n",
       "       [-0.03072605,  0.05058696],\n",
       "       [-0.02805734,  0.05326368],\n",
       "       [-0.04878277,  0.03255117],\n",
       "       [-0.02448552,  0.05685378],\n",
       "       [-0.0716246 ,  0.00973598],\n",
       "       [-0.01609851,  0.06533985],\n",
       "       [-0.07842066,  0.0030669 ],\n",
       "       [-0.07475512,  0.00684754],\n",
       "       [-0.02075331,  0.06094271],\n",
       "       [-0.03145617,  0.05027252],\n",
       "       [-0.04190355,  0.0398323 ],\n",
       "       [-0.05762233,  0.0241136 ],\n",
       "       [-0.03540598,  0.04635266],\n",
       "       [-0.06100314,  0.02075792],\n",
       "       [-0.06492805,  0.01686575],\n",
       "       [-0.06886356,  0.01297691],\n",
       "       [-0.05585601,  0.02604752],\n",
       "       [-0.02836488,  0.05355658],\n",
       "       [-0.02124709,  0.06068717],\n",
       "       [-0.05761887,  0.02434677],\n",
       "       [-0.05078428,  0.03120368],\n",
       "       [-0.04452761,  0.03746808],\n",
       "       [-0.06448565,  0.01751104],\n",
       "       [-0.03303081,  0.04901035],\n",
       "       [-0.05046289,  0.03158342],\n",
       "       [-0.04830654,  0.03374694],\n",
       "       [-0.03488836,  0.0471694 ],\n",
       "       [-0.04951565,  0.03254515],\n",
       "       [-0.05755015,  0.02451644],\n",
       "       [-0.02786213,  0.05422645]])"
      ]
     },
     "execution_count": 12,
     "metadata": {},
     "output_type": "execute_result"
    }
   ],
   "source": [
    "coef_ac, confid_int = acf(NDX, nlags=30, alpha=.05)\n",
    "confid_int"
   ]
  },
  {
   "cell_type": "code",
   "execution_count": 13,
   "id": "b0a6c968-1f1b-4998-99f7-dc44e5552fdb",
   "metadata": {},
   "outputs": [
    {
     "name": "stdout",
     "output_type": "stream",
     "text": [
      "0\n"
     ]
    }
   ],
   "source": [
    "for q, element in enumerate(coef_ac):\n",
    "    if confid_int[q, 0] <= 0 <= confid_int[q, 1]:\n",
    "        print(q-1)\n",
    "        break"
   ]
  },
  {
   "cell_type": "code",
   "execution_count": 14,
   "id": "78918d08-5a55-4803-b7f6-01e2ace15f61",
   "metadata": {},
   "outputs": [
    {
     "data": {
      "image/png": "[encoded data removed]",
      "text/plain": [
       "<Figure size 640x480 with 1 Axes>"
      ]
     },
     "metadata": {},
     "output_type": "display_data"
    }
   ],
   "source": [
    "plot_pacf(NASDAQ['Adj Close'],  alpha=.05)\n",
    "plt.show()"
   ]
  },
  {
   "cell_type": "code",
   "execution_count": 15,
   "id": "7ea0587f-6a98-4d3c-bb6c-9afd0864d396",
   "metadata": {
    "scrolled": true
   },
   "outputs": [
    {
     "name": "stdout",
     "output_type": "stream",
     "text": [
      "0\n"
     ]
    }
   ],
   "source": [
    "coef_pac, confid_int_pac = pacf(NDX, nlags=10, alpha=.05)\n",
    "\n",
    "for p, element in enumerate(coef_pac):\n",
    "    if confid_int_pac[p, 0] <= 0 <= confid_int_pac[p, 1]:\n",
    "        print(p-1)\n",
    "        break"
   ]
  },
  {
   "cell_type": "markdown",
   "id": "c8caf29b-39f4-43f2-9969-2a940851d7b4",
   "metadata": {},
   "source": [
    "# $ q = 24$ et $ p = 2$"
   ]
  },
  {
   "cell_type": "code",
   "execution_count": 73,
   "id": "1b5d760f-a377-4e03-afaa-b630e084a27f",
   "metadata": {
    "scrolled": true
   },
   "outputs": [
    {
     "data": {
      "text/plain": [
       "pandas.core.series.Series"
      ]
     },
     "execution_count": 73,
     "metadata": {},
     "output_type": "execute_result"
    }
   ],
   "source": [
    "type(NDX)"
   ]
  },
  {
   "cell_type": "code",
   "execution_count": 16,
   "id": "6e838d96-4de2-432d-bcba-e072e8d4779b",
   "metadata": {},
   "outputs": [
    {
     "ename": "KeyError",
     "evalue": "'date_column'",
     "output_type": "error",
     "traceback": [
      "\u001b[1;31m---------------------------------------------------------------------------\u001b[0m",
      "\u001b[1;31mKeyError\u001b[0m                                  Traceback (most recent call last)",
      "File \u001b[1;32mC:\\ProgramData\\anaconda3\\Lib\\site-packages\\pandas\\core\\indexes\\base.py:3805\u001b[0m, in \u001b[0;36mIndex.get_loc\u001b[1;34m(self, key)\u001b[0m\n\u001b[0;32m   3804\u001b[0m \u001b[38;5;28;01mtry\u001b[39;00m:\n\u001b[1;32m-> 3805\u001b[0m     \u001b[38;5;28;01mreturn\u001b[39;00m \u001b[38;5;28mself\u001b[39m\u001b[38;5;241m.\u001b[39m_engine\u001b[38;5;241m.\u001b[39mget_loc(casted_key)\n\u001b[0;32m   3806\u001b[0m \u001b[38;5;28;01mexcept\u001b[39;00m \u001b[38;5;167;01mKeyError\u001b[39;00m \u001b[38;5;28;01mas\u001b[39;00m err:\n",
      "File \u001b[1;32mindex.pyx:167\u001b[0m, in \u001b[0;36mpandas._libs.index.IndexEngine.get_loc\u001b[1;34m()\u001b[0m\n",
      "File \u001b[1;32mindex.pyx:196\u001b[0m, in \u001b[0;36mpandas._libs.index.IndexEngine.get_loc\u001b[1;34m()\u001b[0m\n",
      "File \u001b[1;32mpandas\\\\_libs\\\\hashtable_class_helper.pxi:7081\u001b[0m, in \u001b[0;36mpandas._libs.hashtable.PyObjectHashTable.get_item\u001b[1;34m()\u001b[0m\n",
      "File \u001b[1;32mpandas\\\\_libs\\\\hashtable_class_helper.pxi:7089\u001b[0m, in \u001b[0;36mpandas._libs.hashtable.PyObjectHashTable.get_item\u001b[1;34m()\u001b[0m\n",
      "\u001b[1;31mKeyError\u001b[0m: 'date_column'",
      "\nThe above exception was the direct cause of the following exception:\n",
      "\u001b[1;31mKeyError\u001b[0m                                  Traceback (most recent call last)",
      "Cell \u001b[1;32mIn[16], line 1\u001b[0m\n\u001b[1;32m----> 1\u001b[0m NASDAQ[\u001b[38;5;124m'\u001b[39m\u001b[38;5;124mdate_column\u001b[39m\u001b[38;5;124m'\u001b[39m] \u001b[38;5;241m=\u001b[39m pd\u001b[38;5;241m.\u001b[39mto_datetime(NASDAQ[\u001b[38;5;124m'\u001b[39m\u001b[38;5;124mdate_column\u001b[39m\u001b[38;5;124m'\u001b[39m])  \u001b[38;5;66;03m# Convertir en datetime\u001b[39;00m\n\u001b[0;32m      2\u001b[0m NASDAQ\u001b[38;5;241m.\u001b[39mset_index(\u001b[38;5;124m'\u001b[39m\u001b[38;5;124mdate_column\u001b[39m\u001b[38;5;124m'\u001b[39m, inplace\u001b[38;5;241m=\u001b[39m\u001b[38;5;28;01mTrue\u001b[39;00m)\n\u001b[0;32m      3\u001b[0m NASDAQ \u001b[38;5;241m=\u001b[39m NASDAQ\u001b[38;5;241m.\u001b[39masfreq(\u001b[38;5;124m'\u001b[39m\u001b[38;5;124mD\u001b[39m\u001b[38;5;124m'\u001b[39m)\n",
      "File \u001b[1;32mC:\\ProgramData\\anaconda3\\Lib\\site-packages\\pandas\\core\\frame.py:4102\u001b[0m, in \u001b[0;36mDataFrame.__getitem__\u001b[1;34m(self, key)\u001b[0m\n\u001b[0;32m   4100\u001b[0m \u001b[38;5;28;01mif\u001b[39;00m \u001b[38;5;28mself\u001b[39m\u001b[38;5;241m.\u001b[39mcolumns\u001b[38;5;241m.\u001b[39mnlevels \u001b[38;5;241m>\u001b[39m \u001b[38;5;241m1\u001b[39m:\n\u001b[0;32m   4101\u001b[0m     \u001b[38;5;28;01mreturn\u001b[39;00m \u001b[38;5;28mself\u001b[39m\u001b[38;5;241m.\u001b[39m_getitem_multilevel(key)\n\u001b[1;32m-> 4102\u001b[0m indexer \u001b[38;5;241m=\u001b[39m \u001b[38;5;28mself\u001b[39m\u001b[38;5;241m.\u001b[39mcolumns\u001b[38;5;241m.\u001b[39mget_loc(key)\n\u001b[0;32m   4103\u001b[0m \u001b[38;5;28;01mif\u001b[39;00m is_integer(indexer):\n\u001b[0;32m   4104\u001b[0m     indexer \u001b[38;5;241m=\u001b[39m [indexer]\n",
      "File \u001b[1;32mC:\\ProgramData\\anaconda3\\Lib\\site-packages\\pandas\\core\\indexes\\base.py:3812\u001b[0m, in \u001b[0;36mIndex.get_loc\u001b[1;34m(self, key)\u001b[0m\n\u001b[0;32m   3807\u001b[0m     \u001b[38;5;28;01mif\u001b[39;00m \u001b[38;5;28misinstance\u001b[39m(casted_key, \u001b[38;5;28mslice\u001b[39m) \u001b[38;5;129;01mor\u001b[39;00m (\n\u001b[0;32m   3808\u001b[0m         \u001b[38;5;28misinstance\u001b[39m(casted_key, abc\u001b[38;5;241m.\u001b[39mIterable)\n\u001b[0;32m   3809\u001b[0m         \u001b[38;5;129;01mand\u001b[39;00m \u001b[38;5;28many\u001b[39m(\u001b[38;5;28misinstance\u001b[39m(x, \u001b[38;5;28mslice\u001b[39m) \u001b[38;5;28;01mfor\u001b[39;00m x \u001b[38;5;129;01min\u001b[39;00m casted_key)\n\u001b[0;32m   3810\u001b[0m     ):\n\u001b[0;32m   3811\u001b[0m         \u001b[38;5;28;01mraise\u001b[39;00m InvalidIndexError(key)\n\u001b[1;32m-> 3812\u001b[0m     \u001b[38;5;28;01mraise\u001b[39;00m \u001b[38;5;167;01mKeyError\u001b[39;00m(key) \u001b[38;5;28;01mfrom\u001b[39;00m \u001b[38;5;21;01merr\u001b[39;00m\n\u001b[0;32m   3813\u001b[0m \u001b[38;5;28;01mexcept\u001b[39;00m \u001b[38;5;167;01mTypeError\u001b[39;00m:\n\u001b[0;32m   3814\u001b[0m     \u001b[38;5;66;03m# If we have a listlike key, _check_indexing_error will raise\u001b[39;00m\n\u001b[0;32m   3815\u001b[0m     \u001b[38;5;66;03m#  InvalidIndexError. Otherwise we fall through and re-raise\u001b[39;00m\n\u001b[0;32m   3816\u001b[0m     \u001b[38;5;66;03m#  the TypeError.\u001b[39;00m\n\u001b[0;32m   3817\u001b[0m     \u001b[38;5;28mself\u001b[39m\u001b[38;5;241m.\u001b[39m_check_indexing_error(key)\n",
      "\u001b[1;31mKeyError\u001b[0m: 'date_column'"
     ]
    }
   ],
   "source": [
    "NASDAQ['date_column'] = pd.to_datetime(NASDAQ['date_column'])  # Convertir en datetime\n",
    "NASDAQ.set_index('date_column', inplace=True)\n",
    "NASDAQ = NASDAQ.asfreq('D')  # Assurer une fréquence journalière"
   ]
  },
  {
   "cell_type": "code",
   "execution_count": 266,
   "id": "5bda2e46-f6ec-430c-98c8-0e8dfb0ffe91",
   "metadata": {},
   "outputs": [
    {
     "ename": "AttributeError",
     "evalue": "'Series' object has no attribute 'colums'",
     "output_type": "error",
     "traceback": [
      "\u001b[1;31m---------------------------------------------------------------------------\u001b[0m",
      "\u001b[1;31mAttributeError\u001b[0m                            Traceback (most recent call last)",
      "\u001b[1;32m~\\AppData\\Local\\Temp\\ipykernel_10656\\1765911396.py\u001b[0m in \u001b[0;36m?\u001b[1;34m()\u001b[0m\n\u001b[1;32m----> 1\u001b[1;33m \u001b[0mNASDAQ\u001b[0m\u001b[1;33m.\u001b[0m\u001b[0mcolums\u001b[0m\u001b[1;33m(\u001b[0m\u001b[1;33m)\u001b[0m\u001b[1;33m\u001b[0m\u001b[1;33m\u001b[0m\u001b[0m\n\u001b[0m",
      "\u001b[1;32mC:\\ProgramData\\anaconda3\\Lib\\site-packages\\pandas\\core\\generic.py\u001b[0m in \u001b[0;36m?\u001b[1;34m(self, name)\u001b[0m\n\u001b[0;32m   6295\u001b[0m             \u001b[1;32mand\u001b[0m \u001b[0mname\u001b[0m \u001b[1;32mnot\u001b[0m \u001b[1;32min\u001b[0m \u001b[0mself\u001b[0m\u001b[1;33m.\u001b[0m\u001b[0m_accessors\u001b[0m\u001b[1;33m\u001b[0m\u001b[1;33m\u001b[0m\u001b[0m\n\u001b[0;32m   6296\u001b[0m             \u001b[1;32mand\u001b[0m \u001b[0mself\u001b[0m\u001b[1;33m.\u001b[0m\u001b[0m_info_axis\u001b[0m\u001b[1;33m.\u001b[0m\u001b[0m_can_hold_identifiers_and_holds_name\u001b[0m\u001b[1;33m(\u001b[0m\u001b[0mname\u001b[0m\u001b[1;33m)\u001b[0m\u001b[1;33m\u001b[0m\u001b[1;33m\u001b[0m\u001b[0m\n\u001b[0;32m   6297\u001b[0m         \u001b[1;33m)\u001b[0m\u001b[1;33m:\u001b[0m\u001b[1;33m\u001b[0m\u001b[1;33m\u001b[0m\u001b[0m\n\u001b[0;32m   6298\u001b[0m             \u001b[1;32mreturn\u001b[0m \u001b[0mself\u001b[0m\u001b[1;33m[\u001b[0m\u001b[0mname\u001b[0m\u001b[1;33m]\u001b[0m\u001b[1;33m\u001b[0m\u001b[1;33m\u001b[0m\u001b[0m\n\u001b[1;32m-> 6299\u001b[1;33m         \u001b[1;32mreturn\u001b[0m \u001b[0mobject\u001b[0m\u001b[1;33m.\u001b[0m\u001b[0m__getattribute__\u001b[0m\u001b[1;33m(\u001b[0m\u001b[0mself\u001b[0m\u001b[1;33m,\u001b[0m \u001b[0mname\u001b[0m\u001b[1;33m)\u001b[0m\u001b[1;33m\u001b[0m\u001b[1;33m\u001b[0m\u001b[0m\n\u001b[0m",
      "\u001b[1;31mAttributeError\u001b[0m: 'Series' object has no attribute 'colums'"
     ]
    }
   ],
   "source": [
    "NASDAQ.colums()"
   ]
  },
  {
   "cell_type": "code",
   "execution_count": 202,
   "id": "7ad5a90f-7552-45d5-b883-9a6b39dd459e",
   "metadata": {},
   "outputs": [
    {
     "ename": "SyntaxError",
     "evalue": "unmatched ')' (2527050104.py, line 1)",
     "output_type": "error",
     "traceback": [
      "\u001b[1;36m  Cell \u001b[1;32mIn[202], line 1\u001b[1;36m\u001b[0m\n\u001b[1;33m    NASD['date_column'])\u001b[0m\n\u001b[1;37m                       ^\u001b[0m\n\u001b[1;31mSyntaxError\u001b[0m\u001b[1;31m:\u001b[0m unmatched ')'\n"
     ]
    }
   ],
   "source": [
    "NASD['date_column'])\n",
    "NA.set_index('date_column', inplace=True)\n",
    "NA = NA.asfreq('D') "
   ]
  },
  {
   "cell_type": "code",
   "execution_count": 74,
   "id": "a32c8aec-2bf8-492e-8fa0-32fdee370cb8",
   "metadata": {
    "scrolled": true
   },
   "outputs": [
    {
     "name": "stderr",
     "output_type": "stream",
     "text": [
      "C:\\ProgramData\\anaconda3\\Lib\\site-packages\\statsmodels\\base\\model.py:607: ConvergenceWarning: Maximum Likelihood optimization failed to converge. Check mle_retvals\n",
      "  warnings.warn(\"Maximum Likelihood optimization failed to \"\n",
      "C:\\ProgramData\\anaconda3\\Lib\\site-packages\\statsmodels\\base\\model.py:607: ConvergenceWarning: Maximum Likelihood optimization failed to converge. Check mle_retvals\n",
      "  warnings.warn(\"Maximum Likelihood optimization failed to \"\n"
     ]
    }
   ],
   "source": [
    "#NASDAQ[('Adj Close', '^IXIC')] = NASDAQ\n",
    "result_dict = {}\n",
    "for p in [0,1]:\n",
    "    for q in [0,1,2,3,4]:\n",
    "        if (p != 0 or q != 0):\n",
    "            arma_mod = ARIMA(endog=NDX, order=(p,0, q))\n",
    "            fitx = arma_mod.fit()\n",
    "            result_dict[\"ARMA_%s%s\" % (p, q)] = fitx"
   ]
  },
  {
   "cell_type": "code",
   "execution_count": null,
   "id": "c3e97dcb-08b7-4703-a1f4-a5a4e0c3e8f4",
   "metadata": {},
   "outputs": [],
   "source": []
  },
  {
   "cell_type": "code",
   "execution_count": 18,
   "id": "f3f4df63-2e0d-4079-9a74-de080b9210df",
   "metadata": {},
   "outputs": [
    {
     "name": "stdout",
     "output_type": "stream",
     "text": [
      "Statistique ADF : -47.70292085534687\n",
      "P-value : 0.0\n",
      "✅ La série est stationnaire.\n"
     ]
    }
   ],
   "source": [
    "adf_test = adfuller(NDX.dropna())  # On enlève les NaN\n",
    "print(f\"Statistique ADF : {adf_test[0]}\")\n",
    "print(f\"P-value : {adf_test[1]}\")\n",
    "\n",
    "if adf_test[1] < 0.05:\n",
    "    print(\"✅ La série est stationnaire.\")\n",
    "else:\n",
    "    print(\"❌ La série n'est pas stationnaire, il faut peut-être différencier encore.\")"
   ]
  },
  {
   "cell_type": "code",
   "execution_count": 152,
   "id": "c6c46510-022f-46ba-a7df-ce04cfbe4136",
   "metadata": {},
   "outputs": [
    {
     "data": {
      "image/png": "[encoded data removed]",
      "text/plain": [
       "<Figure size 800x600 with 2 Axes>"
      ]
     },
     "metadata": {},
     "output_type": "display_data"
    }
   ],
   "source": [
    "fig, ax = plt.subplots(2, 1, figsize=(8, 6))\n",
    "plot_acf(X, ax=ax[0])\n",
    "plot_pacf(X, ax=ax[1])\n",
    "plt.show()"
   ]
  },
  {
   "cell_type": "code",
   "execution_count": 158,
   "id": "f697081e-3a4b-4f4f-b30e-b447cebb320c",
   "metadata": {},
   "outputs": [
    {
     "data": {
      "text/plain": [
       "2025-01-23 00:01:00     7.375000\n",
       "2025-01-23 00:02:00    -3.171875\n",
       "2025-01-23 00:03:00    16.250000\n",
       "2025-01-23 00:04:00     7.349609\n",
       "2025-01-23 00:05:00    10.906250\n",
       "Freq: min, Name: Adj Close, dtype: float64"
      ]
     },
     "execution_count": 158,
     "metadata": {},
     "output_type": "execute_result"
    }
   ],
   "source": [
    "X = NASDAQ['Adj Close'].diff().dropna()\n",
    "X.head()"
   ]
  },
  {
   "cell_type": "code",
   "execution_count": 154,
   "id": "ede10222-54d2-4edd-95e7-756305b0d396",
   "metadata": {},
   "outputs": [
    {
     "name": "stdout",
     "output_type": "stream",
     "text": [
      "                               SARIMAX Results                                \n",
      "==============================================================================\n",
      "Dep. Variable:              Adj Close   No. Observations:                 2324\n",
      "Model:                 ARIMA(1, 0, 1)   Log Likelihood               -9709.874\n",
      "Date:                Sun, 02 Feb 2025   AIC                          19427.748\n",
      "Time:                        00:11:08   BIC                          19450.752\n",
      "Sample:                    01-23-2025   HQIC                         19436.130\n",
      "                         - 01-24-2025                                         \n",
      "Covariance Type:                  opg                                         \n",
      "==============================================================================\n",
      "                 coef    std err          z      P>|z|      [0.025      0.975]\n",
      "------------------------------------------------------------------------------\n",
      "const         -0.0942      0.554     -0.170      0.865      -1.180       0.992\n",
      "ar.L1          0.0884      2.552      0.035      0.972      -4.914       5.090\n",
      "ma.L1         -0.0778      2.554     -0.030      0.976      -5.084       4.929\n",
      "sigma2       249.4749      0.562    443.665      0.000     248.373     250.577\n",
      "===================================================================================\n",
      "Ljung-Box (L1) (Q):                   0.00   Jarque-Bera (JB):          90755478.44\n",
      "Prob(Q):                              0.96   Prob(JB):                         0.00\n",
      "Heteroskedasticity (H):               0.23   Skew:                           -24.93\n",
      "Prob(H) (two-sided):                  0.00   Kurtosis:                       969.82\n",
      "===================================================================================\n",
      "\n",
      "Warnings:\n",
      "[1] Covariance matrix calculated using the outer product of gradients (complex-step).\n"
     ]
    }
   ],
   "source": [
    "model = sm.tsa.ARIMA(X, order=(1, 0, 1))  \n",
    "fit_model = model.fit()\n",
    "print(fit_model.summary())"
   ]
  },
  {
   "cell_type": "code",
   "execution_count": 139,
   "id": "08058e84-cfad-4590-8902-c72e1061d8ea",
   "metadata": {},
   "outputs": [
    {
     "name": "stdout",
     "output_type": "stream",
     "text": [
      "Iteration:      1,   Func. Count:      6,   Neg. LLF: 8951.24879753552\n",
      "Iteration:      2,   Func. Count:     15,   Neg. LLF: 6798.027761602907\n",
      "Iteration:      3,   Func. Count:     24,   Neg. LLF: -2581.277770191268\n",
      "Iteration:      4,   Func. Count:     29,   Neg. LLF: -2581.115534538937\n",
      "Iteration:      5,   Func. Count:     35,   Neg. LLF: -2581.4812692441546\n",
      "Iteration:      6,   Func. Count:     40,   Neg. LLF: -2581.651059061749\n",
      "Iteration:      7,   Func. Count:     45,   Neg. LLF: -811.9922951544936\n",
      "Iteration:      8,   Func. Count:     51,   Neg. LLF: -1576.1410023059905\n",
      "Iteration:      9,   Func. Count:     57,   Neg. LLF: 29407197100608.68\n",
      "Iteration:     10,   Func. Count:     68,   Neg. LLF: 2424542536.8798466\n",
      "Iteration:     11,   Func. Count:     76,   Neg. LLF: 46755.94183347108\n",
      "Iteration:     12,   Func. Count:     82,   Neg. LLF: 28779.399457845604\n",
      "Iteration:     13,   Func. Count:     88,   Neg. LLF: 6787.936945118705\n",
      "Iteration:     14,   Func. Count:     98,   Neg. LLF: 260361.5705577868\n",
      "Iteration:     15,   Func. Count:    109,   Neg. LLF: -2458.9267141704904\n",
      "Iteration:     16,   Func. Count:    115,   Neg. LLF: -1289.8684061158858\n",
      "Iteration:     17,   Func. Count:    121,   Neg. LLF: -1314.6214681821539\n",
      "Iteration:     18,   Func. Count:    127,   Neg. LLF: 204353014.30670702\n",
      "Iteration:     19,   Func. Count:    138,   Neg. LLF: -1271.9981036751897\n",
      "Iteration:     20,   Func. Count:    144,   Neg. LLF: -2595.5956311788987\n",
      "Iteration:     21,   Func. Count:    149,   Neg. LLF: 2039000354821.7588\n",
      "Iteration:     22,   Func. Count:    162,   Neg. LLF: -2595.596128218317\n",
      "Optimization terminated successfully    (Exit mode 0)\n",
      "            Current function value: -2595.5960544347026\n",
      "            Iterations: 26\n",
      "            Function evaluations: 162\n",
      "            Gradient evaluations: 22\n",
      "                     Constant Mean - GARCH Model Results                      \n",
      "==============================================================================\n",
      "Dep. Variable:          return_NASDAQ   R-squared:                       0.000\n",
      "Mean Model:             Constant Mean   Adj. R-squared:                  0.000\n",
      "Vol Model:                      GARCH   Log-Likelihood:                2595.60\n",
      "Distribution:                  Normal   AIC:                          -5183.19\n",
      "Method:            Maximum Likelihood   BIC:                          -5160.19\n",
      "                                        No. Observations:                 2324\n",
      "Date:                Sat, Feb 01 2025   Df Residuals:                     2323\n",
      "Time:                        23:56:45   Df Model:                            1\n",
      "                                  Mean Model                                  \n",
      "==============================================================================\n",
      "                  coef    std err          t      P>|t|       95.0% Conf. Int.\n",
      "------------------------------------------------------------------------------\n",
      "mu         -2.6942e-04  1.929e-03     -0.140      0.889 [-4.050e-03,3.511e-03]\n",
      "                               Volatility Model                              \n",
      "=============================================================================\n",
      "                 coef    std err          t      P>|t|       95.0% Conf. Int.\n",
      "-----------------------------------------------------------------------------\n",
      "omega      7.0320e-05  6.030e-05      1.166      0.244 [-4.787e-05,1.885e-04]\n",
      "alpha[1]   3.9020e-04  4.425e-03  8.818e-02      0.930 [-8.282e-03,9.063e-03]\n",
      "beta[1]        0.9886  5.468e-03    180.821      0.000      [  0.978,  0.999]\n",
      "=============================================================================\n",
      "\n",
      "Covariance estimator: robust\n"
     ]
    },
    {
     "name": "stderr",
     "output_type": "stream",
     "text": [
      "C:\\ProgramData\\anaconda3\\Lib\\site-packages\\arch\\univariate\\base.py:309: DataScaleWarning: y is poorly scaled, which may affect convergence of the optimizer when\n",
      "estimating the model parameters. The scale of y is 0.006349. Parameter\n",
      "estimation work better when this value is between 1 and 1000. The recommended\n",
      "rescaling is 10 * y.\n",
      "\n",
      "This warning can be disabled by either rescaling y before initializing the\n",
      "model or by setting rescale=False.\n",
      "\n",
      "  warnings.warn(\n"
     ]
    }
   ],
   "source": [
    "from arch import arch_model\n",
    "\n",
    "# Modèle GARCH(1,1)\n",
    "garch_model = arch_model(NDX, vol='Garch', p=1, q=1)\n",
    "garch_fit = garch_model.fit()\n",
    "print(garch_fit.summary())"
   ]
  },
  {
   "cell_type": "code",
   "execution_count": 140,
   "id": "9222761f-a130-4d2a-93b6-e555c040a4ce",
   "metadata": {},
   "outputs": [
    {
     "name": "stdout",
     "output_type": "stream",
     "text": [
      "Iteration:      1,   Func. Count:      8,   Neg. LLF: 78115.1043603494\n",
      "Iteration:      2,   Func. Count:     19,   Neg. LLF: 33596.592983111725\n",
      "Iteration:      3,   Func. Count:     27,   Neg. LLF: 6308.9615559276735\n",
      "Iteration:      4,   Func. Count:     35,   Neg. LLF: 32226.42000168446\n",
      "Iteration:      5,   Func. Count:     43,   Neg. LLF: 5028.2616042431655\n",
      "Iteration:      6,   Func. Count:     51,   Neg. LLF: 4445.793579712017\n",
      "Iteration:      7,   Func. Count:     59,   Neg. LLF: 4088.850942820556\n",
      "Iteration:      8,   Func. Count:     67,   Neg. LLF: 3990.945335134054\n",
      "Iteration:      9,   Func. Count:     75,   Neg. LLF: 4059.816749190205\n",
      "Iteration:     10,   Func. Count:     83,   Neg. LLF: 1651.8526059708026\n",
      "Iteration:     11,   Func. Count:     91,   Neg. LLF: 1689.5093232410181\n",
      "Iteration:     12,   Func. Count:     99,   Neg. LLF: 1647.654982831392\n",
      "Iteration:     13,   Func. Count:    107,   Neg. LLF: 1580.598361424858\n",
      "Iteration:     14,   Func. Count:    115,   Neg. LLF: 1474.0593919661032\n",
      "Iteration:     15,   Func. Count:    123,   Neg. LLF: 1445.1979337688201\n",
      "Iteration:     16,   Func. Count:    131,   Neg. LLF: 1431.816350433058\n",
      "Iteration:     17,   Func. Count:    139,   Neg. LLF: 1282.2956462277816\n",
      "Iteration:     18,   Func. Count:    147,   Neg. LLF: 1211.819157971792\n",
      "Iteration:     19,   Func. Count:    154,   Neg. LLF: 1204.7023516554775\n",
      "Iteration:     20,   Func. Count:    161,   Neg. LLF: 1198.648547710541\n",
      "Iteration:     21,   Func. Count:    168,   Neg. LLF: 1184.181798021727\n",
      "Iteration:     22,   Func. Count:    175,   Neg. LLF: 1167.3161373273713\n",
      "Iteration:     23,   Func. Count:    182,   Neg. LLF: 1181.3309506142489\n",
      "Iteration:     24,   Func. Count:    190,   Neg. LLF: 1181.1924431699654\n",
      "Iteration:     25,   Func. Count:    198,   Neg. LLF: 1168.9822237330586\n",
      "Iteration:     26,   Func. Count:    206,   Neg. LLF: 1164.370580470563\n",
      "Iteration:     27,   Func. Count:    214,   Neg. LLF: 1159.0055370729392\n",
      "Iteration:     28,   Func. Count:    222,   Neg. LLF: 1137.1298212768606\n",
      "Iteration:     29,   Func. Count:    229,   Neg. LLF: 1137.3764943326023\n",
      "Iteration:     30,   Func. Count:    237,   Neg. LLF: 1135.9728364797236\n",
      "Iteration:     31,   Func. Count:    244,   Neg. LLF: 1135.769215909933\n",
      "Iteration:     32,   Func. Count:    251,   Neg. LLF: 1135.745974190852\n",
      "Iteration:     33,   Func. Count:    258,   Neg. LLF: 1135.734726264457\n",
      "Iteration:     34,   Func. Count:    265,   Neg. LLF: 1135.7186025813633\n",
      "Iteration:     35,   Func. Count:    272,   Neg. LLF: 1135.706997838821\n",
      "Iteration:     36,   Func. Count:    279,   Neg. LLF: 1135.7037085708143\n",
      "Iteration:     37,   Func. Count:    286,   Neg. LLF: 1135.7033103673402\n",
      "Iteration:     38,   Func. Count:    293,   Neg. LLF: 1135.7032955686404\n",
      "Iteration:     39,   Func. Count:    299,   Neg. LLF: 1135.7032955686507\n",
      "Optimization terminated successfully    (Exit mode 0)\n",
      "            Current function value: 1135.7032955686404\n",
      "            Iterations: 39\n",
      "            Function evaluations: 299\n",
      "            Gradient evaluations: 39\n",
      "                        Constant Mean - GARCH Model Results                         \n",
      "====================================================================================\n",
      "Dep. Variable:                return_NASDAQ   R-squared:                       0.000\n",
      "Mean Model:                   Constant Mean   Adj. R-squared:                  0.000\n",
      "Vol Model:                            GARCH   Log-Likelihood:               -1135.70\n",
      "Distribution:      Standardized Student's t   AIC:                           2283.41\n",
      "Method:                  Maximum Likelihood   BIC:                           2317.91\n",
      "                                              No. Observations:                 2324\n",
      "Date:                      Sat, Feb 01 2025   Df Residuals:                     2323\n",
      "Time:                              23:57:03   Df Model:                            1\n",
      "                                 Mean Model                                 \n",
      "============================================================================\n",
      "                 coef    std err          t      P>|t|      95.0% Conf. Int.\n",
      "----------------------------------------------------------------------------\n",
      "mu             0.0133  6.289e-03      2.116  3.435e-02 [9.808e-04,2.563e-02]\n",
      "                              Volatility Model                              \n",
      "============================================================================\n",
      "                 coef    std err          t      P>|t|      95.0% Conf. Int.\n",
      "----------------------------------------------------------------------------\n",
      "omega      2.6904e-03  1.028e-03      2.616  8.893e-03 [6.748e-04,4.706e-03]\n",
      "alpha[1]       0.1387  3.303e-02      4.198  2.687e-05   [7.394e-02,  0.203]\n",
      "beta[1]        0.7624      0.136      5.625  1.854e-08     [  0.497,  1.028]\n",
      "beta[2]        0.0989      0.129      0.769      0.442     [ -0.153,  0.351]\n",
      "                              Distribution                              \n",
      "========================================================================\n",
      "                 coef    std err          t      P>|t|  95.0% Conf. Int.\n",
      "------------------------------------------------------------------------\n",
      "nu             4.9403      0.800      6.173  6.684e-10 [  3.372,  6.509]\n",
      "========================================================================\n",
      "\n",
      "Covariance estimator: robust\n"
     ]
    }
   ],
   "source": [
    "returns_scaled = NDX * 10  # ou * 100\n",
    "garch_model_scaled = arch_model(returns_scaled, vol='Garch', p=1, q=2,dist='t')\n",
    "garch_fit_scaled = garch_model_scaled.fit()\n",
    "print(garch_fit_scaled.summary())"
   ]
  },
  {
   "cell_type": "code",
   "execution_count": 93,
   "id": "88ef5ce3-5d1c-443e-9ef0-f03723dac026",
   "metadata": {
    "scrolled": true
   },
   "outputs": [
    {
     "name": "stdout",
     "output_type": "stream",
     "text": [
      "Iteration:      1,   Func. Count:      7,   Neg. LLF: 8591.007686182007\n",
      "Iteration:      2,   Func. Count:     17,   Neg. LLF: 18794.206513695193\n",
      "Iteration:      3,   Func. Count:     27,   Neg. LLF: 2415.228688546522\n",
      "Iteration:      4,   Func. Count:     35,   Neg. LLF: 1102.7608116271704\n",
      "Iteration:      5,   Func. Count:     42,   Neg. LLF: 95543.06318517415\n",
      "Iteration:      6,   Func. Count:     50,   Neg. LLF: 1101.7874907833793\n",
      "Iteration:      7,   Func. Count:     57,   Neg. LLF: 1101.0228869585908\n",
      "Iteration:      8,   Func. Count:     63,   Neg. LLF: 1100.9783324365828\n",
      "Iteration:      9,   Func. Count:     69,   Neg. LLF: 1100.9562615682637\n",
      "Iteration:     10,   Func. Count:     75,   Neg. LLF: 1100.9541744578246\n",
      "Iteration:     11,   Func. Count:     81,   Neg. LLF: 1100.9540649378312\n",
      "Iteration:     12,   Func. Count:     87,   Neg. LLF: 1100.9540628865188\n",
      "Iteration:     13,   Func. Count:     92,   Neg. LLF: 1100.9540628865188\n",
      "Optimization terminated successfully    (Exit mode 0)\n",
      "            Current function value: 1100.9540628865188\n",
      "            Iterations: 13\n",
      "            Function evaluations: 92\n",
      "            Gradient evaluations: 13\n",
      "                        Constant Mean - EGARCH Model Results                        \n",
      "====================================================================================\n",
      "Dep. Variable:                return_NASDAQ   R-squared:                       0.000\n",
      "Mean Model:                   Constant Mean   Adj. R-squared:                  0.000\n",
      "Vol Model:                           EGARCH   Log-Likelihood:               -1100.95\n",
      "Distribution:      Standardized Student's t   AIC:                           2211.91\n",
      "Method:                  Maximum Likelihood   BIC:                           2231.70\n",
      "                                              No. Observations:                  387\n",
      "Date:                      Sat, Feb 01 2025   Df Residuals:                      386\n",
      "Time:                              23:27:55   Df Model:                            1\n",
      "                                Mean Model                                \n",
      "==========================================================================\n",
      "                 coef    std err          t      P>|t|    95.0% Conf. Int.\n",
      "--------------------------------------------------------------------------\n",
      "mu             0.3378      0.152      2.226  2.601e-02 [4.038e-02,  0.635]\n",
      "                              Volatility Model                             \n",
      "===========================================================================\n",
      "                 coef    std err          t      P>|t|     95.0% Conf. Int.\n",
      "---------------------------------------------------------------------------\n",
      "omega          0.0447  4.053e-02      1.104      0.270 [-3.469e-02,  0.124]\n",
      "alpha[1]       0.2455  8.814e-02      2.785  5.352e-03  [7.273e-02,  0.418]\n",
      "beta[1]        0.9855  1.274e-02     77.378      0.000    [  0.961,  1.010]\n",
      "                              Distribution                              \n",
      "========================================================================\n",
      "                 coef    std err          t      P>|t|  95.0% Conf. Int.\n",
      "------------------------------------------------------------------------\n",
      "nu             9.4786      4.497      2.108  3.506e-02 [  0.664, 18.293]\n",
      "========================================================================\n",
      "\n",
      "Covariance estimator: robust\n"
     ]
    }
   ],
   "source": [
    "NDX_S = NDX * 100\n",
    "egarch_model = arch_model(NDX_S, vol='EGARCH', p=1, q=1, dist='t')\n",
    "egarch_fit = egarch_model.fit()\n",
    "print(egarch_fit.summary())"
   ]
  },
  {
   "cell_type": "code",
   "execution_count": null,
   "id": "f24c3cca-4101-405b-98ba-63db7012ebc2",
   "metadata": {},
   "outputs": [],
   "source": [
    "pd.read"
   ]
  }
 ],
 "metadata": {
  "kernelspec": {
   "display_name": "Python 3 (ipykernel)",
   "language": "python",
   "name": "python3"
  },
  "language_info": {
   "codemirror_mode": {
    "name": "ipython",
    "version": 3
   },
   "file_extension": ".py",
   "mimetype": "text/x-python",
   "name": "python",
   "nbconvert_exporter": "python",
   "pygments_lexer": "ipython3",
   "version": "3.12.7"
  }
 },
 "nbformat": 4,
 "nbformat_minor": 5
}
