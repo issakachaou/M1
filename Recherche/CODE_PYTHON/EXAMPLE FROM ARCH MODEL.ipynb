{
 "cells": [
  {
   "cell_type": "code",
   "execution_count": 1,
   "id": "fa42ce3a-02e4-4c42-acfc-6c1cc25a0e3a",
   "metadata": {},
   "outputs": [],
   "source": [
    "%matplotlib inline\n",
    "import matplotlib.pyplot as plt\n",
    "import numpy as np\n",
    "import pandas as pd\n",
    "import seaborn as sns\n",
    "\n",
    "from arch.univariate import GARCH, ConstantMean, Normal\n",
    "\n",
    "sns.set_style(\"darkgrid\")\n",
    "plt.rc(\"figure\", figsize=(16, 6))\n",
    "plt.rc(\"savefig\", dpi=90)\n",
    "plt.rc(\"font\", family=\"sans-serif\")\n",
    "plt.rc(\"font\", size=14)"
   ]
  },
  {
   "cell_type": "code",
   "execution_count": 2,
   "id": "6655c859-a2c4-47a5-a000-9bc8dfb1333c",
   "metadata": {
    "scrolled": true
   },
   "outputs": [
    {
     "name": "stdout",
     "output_type": "stream",
     "text": [
      "Date\n",
      "1999-01-04    2208.050049\n",
      "1999-01-05    2251.270020\n",
      "1999-01-06    2320.860107\n",
      "1999-01-07    2326.090088\n",
      "1999-01-08    2344.409912\n",
      "Name: Adj Close, dtype: float64\n"
     ]
    }
   ],
   "source": [
    "import arch.data.nasdaq\n",
    "from arch import arch_model\n",
    "data = arch.data.nasdaq.load()\n",
    "nasdaq = data[\"Adj Close\"]\n",
    "print(nasdaq.head())"
   ]
  },
  {
   "cell_type": "code",
   "execution_count": 5,
   "id": "a4ae0e8f-28eb-49c7-8739-965d37e87947",
   "metadata": {},
   "outputs": [
    {
     "data": {
      "text/plain": [
       "<Axes: xlabel='Date'>"
      ]
     },
     "execution_count": 5,
     "metadata": {},
     "output_type": "execute_result"
    }
   ],
   "source": []
  },
  {
   "cell_type": "code",
   "execution_count": 15,
   "id": "2351691f-cbc0-4829-8fb5-4c62a9c5ed29",
   "metadata": {},
   "outputs": [
    {
     "data": {
      "text/plain": [
       "                   Constant Mean - GJR-GARCH Model Results                    \n",
       "==============================================================================\n",
       "Dep. Variable:              Adj Close   R-squared:                       0.000\n",
       "Mean Model:             Constant Mean   Adj. R-squared:                  0.000\n",
       "Vol Model:                  GJR-GARCH   Log-Likelihood:               -8196.75\n",
       "Distribution:                  Normal   AIC:                           16403.5\n",
       "Method:            Maximum Likelihood   BIC:                           16436.1\n",
       "                                        No. Observations:                 5030\n",
       "Date:                Wed, Feb 26 2025   Df Residuals:                     5029\n",
       "Time:                        00:00:36   Df Model:                            1\n",
       "                                 Mean Model                                 \n",
       "============================================================================\n",
       "                 coef    std err          t      P>|t|      95.0% Conf. Int.\n",
       "----------------------------------------------------------------------------\n",
       "mu             0.0376  1.476e-02      2.549  1.081e-02 [8.693e-03,6.656e-02]\n",
       "                               Volatility Model                              \n",
       "=============================================================================\n",
       "                 coef    std err          t      P>|t|       95.0% Conf. Int.\n",
       "-----------------------------------------------------------------------------\n",
       "omega          0.0214  5.001e-03      4.281  1.861e-05  [1.161e-02,3.121e-02]\n",
       "alpha[1]       0.0152  8.442e-03      1.802  7.148e-02 [-1.330e-03,3.176e-02]\n",
       "gamma[1]       0.1265  2.024e-02      6.250  4.109e-10    [8.684e-02,  0.166]\n",
       "beta[1]        0.9100  1.107e-02     82.232      0.000      [  0.888,  0.932]\n",
       "=============================================================================\n",
       "\n",
       "Covariance estimator: robust\n",
       "ARCHModelResult, id: 0x22fe2d371a0"
      ]
     },
     "execution_count": 15,
     "metadata": {},
     "output_type": "execute_result"
    }
   ],
   "source": [
    "mod = arch_model(rets, mean='constant', p=1, o=1, q=1)\n",
    "res = mod.fit(disp=\"off\")\n",
    "res"
   ]
  },
  {
   "cell_type": "code",
   "execution_count": 25,
   "id": "eb736010-8cce-40df-a6c3-03f7063df698",
   "metadata": {},
   "outputs": [
    {
     "name": "stdout",
     "output_type": "stream",
     "text": [
      "                h.01      h.02      h.03      h.04      h.05      h.06  \\\n",
      "Date                                                                     \n",
      "2017-01-03  0.623295  0.676081  0.734322  0.779325  0.828189  0.898202   \n",
      "2017-01-04  0.599455  0.645237  0.697133  0.750169  0.816280  0.888417   \n",
      "2017-01-05  0.567297  0.610493  0.665995  0.722954  0.777860  0.840369   \n",
      "2017-01-06  0.542506  0.597387  0.644534  0.691387  0.741206  0.783319   \n",
      "2017-01-09  0.515452  0.561312  0.611026  0.647824  0.700559  0.757398   \n",
      "\n",
      "                h.07      h.08      h.09      h.10  \n",
      "Date                                                \n",
      "2017-01-03  0.958215  1.043704  1.124684  1.203893  \n",
      "2017-01-04  0.945120  1.013400  1.084042  1.158148  \n",
      "2017-01-05  0.889032  0.961424  1.022412  1.097192  \n",
      "2017-01-06  0.840667  0.895559  0.957266  1.019497  \n",
      "2017-01-09  0.820788  0.887791  0.938708  1.028614  \n"
     ]
    }
   ],
   "source": [
    "class ScenarioBootstrapRNG(object):\n",
    "    def __init__(self, shocks, random_state):\n",
    "        self._shocks = np.asarray(shocks)  # 1d\n",
    "        self._rs = random_state\n",
    "        self.n = shocks.shape[0]\n",
    "\n",
    "    def rng(self, size):\n",
    "        idx = self._rs.randint(0, self.n, size=size)\n",
    "        return self._shocks[idx]\n",
    "\n",
    "\n",
    "random_state = np.random.RandomState(1)\n",
    "std_shocks = res.resid / res.conditional_volatility\n",
    "shocks = std_shocks[\"2008-08-01\":\"2008-11-10\"]\n",
    "scenario_bootstrap = ScenarioBootstrapRNG(shocks, random_state)\n",
    "bs_forecasts = res.forecast(\n",
    "    start=\"1-1-2017\", method=\"simulation\", horizon=10, rng=scenario_bootstrap.rng\n",
    ")\n",
    "print(bs_forecasts.residual_variance.dropna().head())"
   ]
  },
  {
   "cell_type": "code",
   "execution_count": 26,
   "id": "4834a8b9-e9ef-4ca8-a443-fc4203d76777",
   "metadata": {},
   "outputs": [
    {
     "name": "stdout",
     "output_type": "stream",
     "text": [
      "                h.01      h.02      h.03      h.04      h.05      h.06  \\\n",
      "Date                                                                     \n",
      "2017-01-03  0.623295  0.637504  0.651549  0.665431  0.679154  0.692717   \n",
      "2017-01-04  0.599455  0.613940  0.628257  0.642408  0.656397  0.670223   \n",
      "2017-01-05  0.567297  0.582153  0.596837  0.611352  0.625699  0.639880   \n",
      "2017-01-06  0.542506  0.557649  0.572616  0.587410  0.602034  0.616488   \n",
      "2017-01-09  0.515452  0.530906  0.546183  0.561282  0.576208  0.590961   \n",
      "\n",
      "                h.07      h.08      h.09      h.10  \n",
      "Date                                                \n",
      "2017-01-03  0.706124  0.719376  0.732475  0.745423  \n",
      "2017-01-04  0.683890  0.697399  0.710752  0.723950  \n",
      "2017-01-05  0.653897  0.667753  0.681448  0.694985  \n",
      "2017-01-06  0.630776  0.644899  0.658858  0.672656  \n",
      "2017-01-09  0.605543  0.619957  0.634205  0.648288  \n"
     ]
    }
   ],
   "source": [
    "forecasts = res.forecast(start=\"1-1-2017\", horizon=10)\n",
    "print(forecasts.residual_variance.dropna().head())"
   ]
  },
  {
   "cell_type": "code",
   "execution_count": 29,
   "id": "547ed031-db57-4b83-add5-3f8d7563ba53",
   "metadata": {},
   "outputs": [
    {
     "name": "stdout",
     "output_type": "stream",
     "text": [
      "                h.01      h.02      h.03      h.04      h.05      h.06  \\\n",
      "Date                                                                     \n",
      "2017-01-03  0.623295  0.632241  0.643776  0.656672  0.666954  0.685788   \n",
      "2017-01-04  0.599455  0.614732  0.627833  0.641635  0.660119  0.673133   \n",
      "2017-01-05  0.567297  0.580060  0.596387  0.611111  0.625573  0.642829   \n",
      "2017-01-06  0.542506  0.558387  0.571548  0.586721  0.597646  0.609741   \n",
      "2017-01-09  0.515452  0.526772  0.538204  0.554115  0.572644  0.586008   \n",
      "\n",
      "                h.07      h.08      h.09      h.10  \n",
      "Date                                                \n",
      "2017-01-03  0.692380  0.704271  0.720579  0.731049  \n",
      "2017-01-04  0.691355  0.703867  0.715444  0.720587  \n",
      "2017-01-05  0.657339  0.669877  0.680275  0.693756  \n",
      "2017-01-06  0.616056  0.632923  0.650148  0.660345  \n",
      "2017-01-09  0.597205  0.616717  0.631336  0.646467  \n"
     ]
    }
   ],
   "source": [
    "sim_forecasts = res.forecast(start=\"1-1-2017\", method=\"simulation\", horizon=10)\n",
    "print(sim_forecasts.residual_variance.dropna().head())"
   ]
  },
  {
   "cell_type": "code",
   "execution_count": 30,
   "id": "6065e8ae-5796-480d-a042-af8937aeccf0",
   "metadata": {},
   "outputs": [
    {
     "ename": "NameError",
     "evalue": "name 'scenario_forecasts' is not defined",
     "output_type": "error",
     "traceback": [
      "\u001b[1;31m---------------------------------------------------------------------------\u001b[0m",
      "\u001b[1;31mNameError\u001b[0m                                 Traceback (most recent call last)",
      "Cell \u001b[1;32mIn[30], line 5\u001b[0m\n\u001b[0;32m      1\u001b[0m df \u001b[38;5;241m=\u001b[39m pd\u001b[38;5;241m.\u001b[39mconcat(\n\u001b[0;32m      2\u001b[0m     [\n\u001b[0;32m      3\u001b[0m         forecasts\u001b[38;5;241m.\u001b[39mresidual_variance\u001b[38;5;241m.\u001b[39miloc[\u001b[38;5;241m-\u001b[39m\u001b[38;5;241m1\u001b[39m],\n\u001b[0;32m      4\u001b[0m         sim_forecasts\u001b[38;5;241m.\u001b[39mresidual_variance\u001b[38;5;241m.\u001b[39miloc[\u001b[38;5;241m-\u001b[39m\u001b[38;5;241m1\u001b[39m],\n\u001b[1;32m----> 5\u001b[0m         scenario_forecasts\u001b[38;5;241m.\u001b[39mresidual_variance\u001b[38;5;241m.\u001b[39miloc[\u001b[38;5;241m-\u001b[39m\u001b[38;5;241m1\u001b[39m],\n\u001b[0;32m      6\u001b[0m         bs_forecasts\u001b[38;5;241m.\u001b[39mresidual_variance\u001b[38;5;241m.\u001b[39miloc[\u001b[38;5;241m-\u001b[39m\u001b[38;5;241m1\u001b[39m],\n\u001b[0;32m      7\u001b[0m     ],\n\u001b[0;32m      8\u001b[0m     axis\u001b[38;5;241m=\u001b[39m\u001b[38;5;241m1\u001b[39m,\n\u001b[0;32m      9\u001b[0m )\n\u001b[0;32m     10\u001b[0m df\u001b[38;5;241m.\u001b[39mcolumns \u001b[38;5;241m=\u001b[39m [\u001b[38;5;124m\"\u001b[39m\u001b[38;5;124mAnalytic\u001b[39m\u001b[38;5;124m\"\u001b[39m, \u001b[38;5;124m\"\u001b[39m\u001b[38;5;124mSimulation\u001b[39m\u001b[38;5;124m\"\u001b[39m, \u001b[38;5;124m\"\u001b[39m\u001b[38;5;124mScenario Sim\u001b[39m\u001b[38;5;124m\"\u001b[39m, \u001b[38;5;124m\"\u001b[39m\u001b[38;5;124mBootstrp Scenario\u001b[39m\u001b[38;5;124m\"\u001b[39m]\n\u001b[0;32m     11\u001b[0m \u001b[38;5;66;03m# Plot annualized vol\u001b[39;00m\n",
      "\u001b[1;31mNameError\u001b[0m: name 'scenario_forecasts' is not defined"
     ]
    }
   ],
   "source": [
    "df = pd.concat(\n",
    "    [\n",
    "        forecasts.residual_variance.iloc[-1],\n",
    "        sim_forecasts.residual_variance.iloc[-1],\n",
    "        scenario_forecasts.residual_variance.iloc[-1],\n",
    "        bs_forecasts.residual_variance.iloc[-1],\n",
    "    ],\n",
    "    axis=1,\n",
    ")\n",
    "df.columns = [\"Analytic\", \"Simulation\", \"Scenario Sim\", \"Bootstrp Scenario\"]\n",
    "# Plot annualized vol\n",
    "subplot = np.sqrt(252 * df).plot(legend=False)\n",
    "legend = subplot.legend(frameon=False)\n"
   ]
  },
  {
   "cell_type": "code",
   "execution_count": 28,
   "id": "70d2e11c-ca17-4aa8-a93f-e3f3242eb228",
   "metadata": {},
   "outputs": [
    {
     "ename": "NameError",
     "evalue": "name 'sim_forecasts' is not defined",
     "output_type": "error",
     "traceback": [
      "\u001b[1;31m---------------------------------------------------------------------------\u001b[0m",
      "\u001b[1;31mNameError\u001b[0m                                 Traceback (most recent call last)",
      "Cell \u001b[1;32mIn[28], line 4\u001b[0m\n\u001b[0;32m      2\u001b[0m colors \u001b[38;5;241m=\u001b[39m sns\u001b[38;5;241m.\u001b[39mcolor_palette(\u001b[38;5;124m\"\u001b[39m\u001b[38;5;124mdark\u001b[39m\u001b[38;5;124m\"\u001b[39m)\n\u001b[0;32m      3\u001b[0m \u001b[38;5;66;03m# The paths for the final observation\u001b[39;00m\n\u001b[1;32m----> 4\u001b[0m sim_paths \u001b[38;5;241m=\u001b[39m sim_forecasts\u001b[38;5;241m.\u001b[39msimulations\u001b[38;5;241m.\u001b[39mresidual_variances[\u001b[38;5;241m-\u001b[39m\u001b[38;5;241m1\u001b[39m]\u001b[38;5;241m.\u001b[39mT\n\u001b[0;32m      5\u001b[0m bs_paths \u001b[38;5;241m=\u001b[39m bs_forecasts\u001b[38;5;241m.\u001b[39msimulations\u001b[38;5;241m.\u001b[39mresidual_variances[\u001b[38;5;241m-\u001b[39m\u001b[38;5;241m1\u001b[39m]\u001b[38;5;241m.\u001b[39mT\n\u001b[0;32m      7\u001b[0m x \u001b[38;5;241m=\u001b[39m np\u001b[38;5;241m.\u001b[39marange(\u001b[38;5;241m1\u001b[39m, \u001b[38;5;241m11\u001b[39m)\n",
      "\u001b[1;31mNameError\u001b[0m: name 'sim_forecasts' is not defined"
     ]
    }
   ],
   "source": [
    "fig, axes = plt.subplots(1, 2)\n",
    "colors = sns.color_palette(\"dark\")\n",
    "# The paths for the final observation\n",
    "sim_paths = sim_forecasts.simulations.residual_variances[-1].T\n",
    "bs_paths = bs_forecasts.simulations.residual_variances[-1].T\n",
    "\n",
    "x = np.arange(1, 11)\n",
    "# Plot the paths and the mean, set the axis to have the same limit\n",
    "axes[0].plot(x, np.sqrt(252 * sim_paths), color=colors[1], alpha=0.05)\n",
    "axes[0].plot(\n",
    "    x, np.sqrt(252 * sim_forecasts.residual_variance.iloc[-1]), color=\"k\", alpha=1\n",
    ")\n",
    "axes[0].set_title(\"Model-based Simulation\")\n",
    "axes[0].set_xticks(np.arange(1, 11))\n",
    "axes[0].set_xlim(1, 10)\n",
    "axes[0].set_ylim(20, 100)\n",
    "\n",
    "axes[1].plot(x, np.sqrt(252 * bs_paths), color=colors[2], alpha=0.05)\n",
    "axes[1].plot(\n",
    "    x, np.sqrt(252 * bs_forecasts.residual_variance.iloc[-1]), color=\"k\", alpha=1\n",
    ")\n",
    "axes[1].set_xticks(np.arange(1, 11))\n",
    "axes[1].set_xlim(1, 10)\n",
    "axes[1].set_ylim(20, 100)\n",
    "title = axes[1].set_title(\"Bootstrap Scenario\")"
   ]
  }
 ],
 "metadata": {
  "kernelspec": {
   "display_name": "Python 3 (ipykernel)",
   "language": "python",
   "name": "python3"
  },
  "language_info": {
   "codemirror_mode": {
    "name": "ipython",
    "version": 3
   },
   "file_extension": ".py",
   "mimetype": "text/x-python",
   "name": "python",
   "nbconvert_exporter": "python",
   "pygments_lexer": "ipython3",
   "version": "3.12.7"
  }
 },
 "nbformat": 4,
 "nbformat_minor": 5
}
