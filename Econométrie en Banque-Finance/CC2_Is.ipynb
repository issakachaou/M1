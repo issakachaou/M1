{
 "cells": [
  {
   "cell_type": "markdown",
   "id": "e5dcf937",
   "metadata": {},
   "source": [
    "\n",
    "<span style='line-height:1.5;font-size: 17px;font-family:\"Times New Roman\"'>\n",
    "\n",
    "\n",
    "<b><center><font size=\"6\">Contrôle continu 2 - Econométrie en finance</font></center></b>\n",
    "    \n",
    "<b><center><font size=\"5\"> Durée : 1h20 </font></center></b>\n",
    "<b><center><font size=\"5\"> Tous les notebooks doivent être envoyés avant la fin de l'heure. Chaque minute de retard entraîne une pénalité de -1 point. </font></center></b>\n",
    "    \n",
    "<g><h7><center> CM - P. Durand  - pierre.durand@u-pec.fr </center></h7></g>\n",
    "\n",
    "<g><h7><center> TD - R.Birem  - abderraouf.birem@u-pec.fr </center></h7></g>\n",
    "\n",
    "\n",
    "<b><center><font size=\"5\">M1 - 2024-2025</font></center></b> \n",
    "\n",
    "\n",
    "\n",
    "</span>"
   ]
  },
  {
   "cell_type": "code",
   "execution_count": 1,
   "id": "ddd90647",
   "metadata": {},
   "outputs": [],
   "source": [
    "#Nom : KACHAOU\n",
    "#Prénom : Issa\n",
    "#Numéro Etd: 21905943"
   ]
  },
  {
   "cell_type": "markdown",
   "id": "b79a11c5",
   "metadata": {},
   "source": [
    "## Questions théoriques"
   ]
  },
  {
   "cell_type": "markdown",
   "id": "0589a5ee",
   "metadata": {},
   "source": [
    "### Quelle est la différence fondamentale entre les modèles autorégressifs (AR) et les modèles à moyenne mobile (MA) lorsqu'ils estiment la valeur d'une variable en fonction de ses valeurs passées ?"
   ]
  },
  {
   "cell_type": "markdown",
   "id": "98edecac",
   "metadata": {},
   "source": [
    "Les modèles AR (Auto Regressive) tente de fait des prédictions sur la valeur d'une variable en fonction de ses propres valeurs passées, tandis que les modèles MA (Moving Average) tente prédire la valeur d'une variable en fonction des erreurs passées (chocs aléatoires)."
   ]
  },
  {
   "cell_type": "markdown",
   "id": "3182b1ab",
   "metadata": {},
   "source": [
    "### Pourquoi la transformation d'une série de prix non stationnaire, due à la présence d'une racine unitaire, en rendements (ou taux de croissance) permet-elle d'éliminer cette non-stationnarité ?"
   ]
  },
  {
   "cell_type": "code",
   "execution_count": null,
   "id": "31b4bd18",
   "metadata": {},
   "outputs": [],
   "source": []
  },
  {
   "cell_type": "markdown",
   "id": "41c134f6",
   "metadata": {},
   "source": [
    "## Partie Empirique"
   ]
  },
  {
   "cell_type": "markdown",
   "id": "913bb9f7",
   "metadata": {},
   "source": [
    "<p> A l'aide de la bibliothèque <code>yfinance</code>, récupérez les prix correspondants aux tickets suivants :</p>\n",
    "\n",
    "<ul>\n",
    "    <li><strong>Indice Industriel Américain Dow Jones (USA)</strong> : Ticker <code>^DJI</code></li>\n",
    "    <li><strong>Prix Du BITCOIN (BTC)</strong> : Ticker <code>BTC-USD</code></li>\n",
    "    <li><strong>Prix du pétrole Brent (en USD)</strong> : Ticker <code>BZ=F</code></li>\n",
    "</ul>\n"
   ]
  },
  {
   "cell_type": "code",
   "execution_count": 1,
   "id": "3c795ea2",
   "metadata": {},
   "outputs": [],
   "source": [
    "tickers = [\n",
    "    \"^DJI\",        # Dow Jones Industrial Average (USA)\n",
    "    \"BTC-USD\",     # Prix du BTC en $\n",
    "    \"BZ=F\"         # Brent Crude Oil Price (in USD)\n",
    "]"
   ]
  },
  {
   "cell_type": "code",
   "execution_count": 2,
   "id": "e4da72ad",
   "metadata": {},
   "outputs": [
    {
     "name": "stderr",
     "output_type": "stream",
     "text": [
      "[*********************100%***********************]  3 of 3 completed\n"
     ]
    }
   ],
   "source": [
    "# Start = Date du début , end = Date de fin \n",
    "import yfinance as yf\n",
    "df = yf.download(tickers, start=\"2019-01-01\", end=\"2024-01-01\")['Adj Close'].dropna()"
   ]
  },
  {
   "cell_type": "markdown",
   "id": "a0c364e2",
   "metadata": {},
   "source": [
    "##### Penez a renommer vos variables en DJ, BTC, Oil (Faire attention à l'ordre)"
   ]
  },
  {
   "cell_type": "code",
   "execution_count": 5,
   "id": "6e89723e",
   "metadata": {},
   "outputs": [],
   "source": [
    "df.to_csv(\"base CC2.csv\",sep=\";\")"
   ]
  },
  {
   "cell_type": "markdown",
   "id": "743ec040",
   "metadata": {},
   "source": [
    "#### Créez la Dummy variable Rep\n",
    "#### Cette variable indique si le gouvernement américain en cours est républicain ou démocrate\n"
   ]
  },
  {
   "cell_type": "code",
   "execution_count": 30,
   "id": "2480b2c3",
   "metadata": {},
   "outputs": [],
   "source": [
    "df['Rep'] = ((df.index.year >= 2017) & (df.index.year <= 2020)).astype(int)"
   ]
  },
  {
   "cell_type": "markdown",
   "id": "ecc06e76",
   "metadata": {},
   "source": [
    "### Nous visons à réaliser une étude économétrique afin d'évaluer l'impact de la croissance industrielle sur les prix des cryptomonnaies, notamment le Bitcoin. Cette analyse impliquera une présentation graphique approfondie, une transformation des données en rendements, ainsi que la réalisation des tests statistiques nécessaires pour vérifier la stationnarité des séries temporelles. De plus, nous appliquerons les méthodes économétriques les plus appropriées pour établir les relations entre les variables. L'objectif est de mener une étude rigoureuse et valorisante, offrant des insights significatifs sur les interactions entre la croissance industrielle et l'évolution des prix du Bitcoin"
   ]
  },
  {
   "cell_type": "code",
   "execution_count": null,
   "id": "b1f9e2b3",
   "metadata": {},
   "outputs": [],
   "source": []
  },
  {
   "cell_type": "code",
   "execution_count": null,
   "id": "9c7b9831",
   "metadata": {},
   "outputs": [],
   "source": []
  },
  {
   "cell_type": "code",
   "execution_count": null,
   "id": "43b1d279",
   "metadata": {},
   "outputs": [],
   "source": []
  },
  {
   "cell_type": "code",
   "execution_count": null,
   "id": "d6130e65",
   "metadata": {},
   "outputs": [],
   "source": []
  },
  {
   "cell_type": "code",
   "execution_count": null,
   "id": "9941fc25",
   "metadata": {},
   "outputs": [],
   "source": []
  },
  {
   "cell_type": "code",
   "execution_count": null,
   "id": "42238072",
   "metadata": {},
   "outputs": [],
   "source": []
  },
  {
   "cell_type": "code",
   "execution_count": null,
   "id": "8e7de854",
   "metadata": {},
   "outputs": [],
   "source": []
  },
  {
   "cell_type": "code",
   "execution_count": null,
   "id": "8da9d522",
   "metadata": {},
   "outputs": [],
   "source": []
  },
  {
   "cell_type": "code",
   "execution_count": null,
   "id": "e74bbb7b",
   "metadata": {},
   "outputs": [],
   "source": []
  },
  {
   "cell_type": "code",
   "execution_count": null,
   "id": "a9f7af45",
   "metadata": {},
   "outputs": [],
   "source": []
  },
  {
   "cell_type": "code",
   "execution_count": null,
   "id": "369cfb0d",
   "metadata": {},
   "outputs": [],
   "source": []
  },
  {
   "cell_type": "code",
   "execution_count": null,
   "id": "ba0ca451",
   "metadata": {},
   "outputs": [],
   "source": []
  },
  {
   "cell_type": "code",
   "execution_count": null,
   "id": "e28e6b99",
   "metadata": {},
   "outputs": [],
   "source": []
  },
  {
   "cell_type": "code",
   "execution_count": null,
   "id": "ec5c4aa8",
   "metadata": {},
   "outputs": [],
   "source": []
  },
  {
   "cell_type": "code",
   "execution_count": null,
   "id": "7b3a401e",
   "metadata": {},
   "outputs": [],
   "source": []
  },
  {
   "cell_type": "code",
   "execution_count": null,
   "id": "bd2713ba",
   "metadata": {},
   "outputs": [],
   "source": []
  },
  {
   "cell_type": "code",
   "execution_count": null,
   "id": "5de13c7f",
   "metadata": {},
   "outputs": [],
   "source": []
  },
  {
   "cell_type": "code",
   "execution_count": null,
   "id": "0fb4f6b0",
   "metadata": {},
   "outputs": [],
   "source": []
  },
  {
   "cell_type": "code",
   "execution_count": null,
   "id": "a5ae3817",
   "metadata": {},
   "outputs": [],
   "source": []
  },
  {
   "cell_type": "code",
   "execution_count": null,
   "id": "2b0043d3",
   "metadata": {},
   "outputs": [],
   "source": []
  },
  {
   "cell_type": "code",
   "execution_count": null,
   "id": "92f75033",
   "metadata": {},
   "outputs": [],
   "source": []
  },
  {
   "cell_type": "code",
   "execution_count": null,
   "id": "9a3dfeb9",
   "metadata": {},
   "outputs": [],
   "source": []
  },
  {
   "cell_type": "code",
   "execution_count": null,
   "id": "1ca4e510",
   "metadata": {},
   "outputs": [],
   "source": []
  },
  {
   "cell_type": "code",
   "execution_count": null,
   "id": "16e14a99",
   "metadata": {},
   "outputs": [],
   "source": []
  },
  {
   "cell_type": "code",
   "execution_count": null,
   "id": "a503dd8f",
   "metadata": {},
   "outputs": [],
   "source": []
  },
  {
   "cell_type": "code",
   "execution_count": null,
   "id": "9363dcf2",
   "metadata": {},
   "outputs": [],
   "source": []
  },
  {
   "cell_type": "code",
   "execution_count": null,
   "id": "5bc229a8",
   "metadata": {},
   "outputs": [],
   "source": []
  },
  {
   "cell_type": "code",
   "execution_count": null,
   "id": "ec7687cc",
   "metadata": {},
   "outputs": [],
   "source": []
  },
  {
   "cell_type": "code",
   "execution_count": null,
   "id": "97b4daf2",
   "metadata": {},
   "outputs": [],
   "source": []
  },
  {
   "cell_type": "code",
   "execution_count": null,
   "id": "1d061ac5",
   "metadata": {},
   "outputs": [],
   "source": []
  },
  {
   "cell_type": "code",
   "execution_count": null,
   "id": "883e8d4e",
   "metadata": {},
   "outputs": [],
   "source": []
  },
  {
   "cell_type": "code",
   "execution_count": null,
   "id": "76dd18e9",
   "metadata": {},
   "outputs": [],
   "source": []
  },
  {
   "cell_type": "code",
   "execution_count": null,
   "id": "9b7f1656",
   "metadata": {},
   "outputs": [],
   "source": []
  },
  {
   "cell_type": "code",
   "execution_count": null,
   "id": "38a3b3f0",
   "metadata": {},
   "outputs": [],
   "source": []
  },
  {
   "cell_type": "code",
   "execution_count": null,
   "id": "53250b5a",
   "metadata": {},
   "outputs": [],
   "source": []
  },
  {
   "cell_type": "code",
   "execution_count": null,
   "id": "511d8849",
   "metadata": {},
   "outputs": [],
   "source": []
  },
  {
   "cell_type": "code",
   "execution_count": null,
   "id": "e3a4f11b",
   "metadata": {},
   "outputs": [],
   "source": []
  },
  {
   "cell_type": "code",
   "execution_count": null,
   "id": "9ff516da",
   "metadata": {},
   "outputs": [],
   "source": []
  },
  {
   "cell_type": "code",
   "execution_count": null,
   "id": "d6350497",
   "metadata": {},
   "outputs": [],
   "source": []
  },
  {
   "cell_type": "code",
   "execution_count": null,
   "id": "0abdad40",
   "metadata": {},
   "outputs": [],
   "source": []
  },
  {
   "cell_type": "code",
   "execution_count": null,
   "id": "d2ef1bba",
   "metadata": {},
   "outputs": [],
   "source": []
  },
  {
   "cell_type": "code",
   "execution_count": null,
   "id": "fa3927fe",
   "metadata": {},
   "outputs": [],
   "source": []
  },
  {
   "cell_type": "code",
   "execution_count": null,
   "id": "3d773198",
   "metadata": {},
   "outputs": [],
   "source": []
  },
  {
   "cell_type": "code",
   "execution_count": null,
   "id": "8ad04058",
   "metadata": {},
   "outputs": [],
   "source": []
  },
  {
   "cell_type": "code",
   "execution_count": null,
   "id": "0873bf93",
   "metadata": {},
   "outputs": [],
   "source": []
  },
  {
   "cell_type": "code",
   "execution_count": null,
   "id": "9aa6d1a3",
   "metadata": {},
   "outputs": [],
   "source": []
  },
  {
   "cell_type": "code",
   "execution_count": null,
   "id": "85dfa7b6",
   "metadata": {},
   "outputs": [],
   "source": []
  }
 ],
 "metadata": {
  "kernelspec": {
   "display_name": "Python 3 (ipykernel)",
   "language": "python",
   "name": "python3"
  },
  "language_info": {
   "codemirror_mode": {
    "name": "ipython",
    "version": 3
   },
   "file_extension": ".py",
   "mimetype": "text/x-python",
   "name": "python",
   "nbconvert_exporter": "python",
   "pygments_lexer": "ipython3",
   "version": "3.11.4"
  }
 },
 "nbformat": 4,
 "nbformat_minor": 5
}
