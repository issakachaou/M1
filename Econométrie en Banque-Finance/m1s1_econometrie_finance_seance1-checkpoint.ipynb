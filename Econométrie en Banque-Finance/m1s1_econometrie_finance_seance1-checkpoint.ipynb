{
 "cells": [
  {
   "cell_type": "markdown",
   "metadata": {},
   "source": [
    "<span style='line-height:1.5;font-size: 17px;font-family:\"Times New Roman\"'>\n",
    "\n",
    "\n",
    "<b><center><font size=\"6\">Travaux Dirigés - Econométrie en finance - séance 1</font></center></b>\n",
    "    \n",
    "\n",
    "    \n",
    "<g><h7><center> CM - P. Durand  - pierre.durand@u-pec.fr </center></h7></g>\n",
    "\n",
    "<g><h7><center> TD - A. Birem  - abderraouf.birem@etu.u-pec.fr </center></h7></g>\n",
    "\n",
    "\n",
    "<b><center><font size=\"5\">M1 - 2024-2025</font></center></b> \n",
    "\n",
    "\n",
    "\n",
    "</span>"
   ]
  },
  {
   "cell_type": "markdown",
   "metadata": {},
   "source": [
    "<span style='line-height:1.5;font-size: 17px;font-family:\"Times New Roman\"'>\n",
    "\n",
    "<hr style=\" border: 2.5px solid black;\">\n",
    "\n",
    "\n",
    "<b>Objectifs du TD : </b>\n",
    "\n",
    "- Prise en main de python :\n",
    "    - Manipulation de différents types de variable\n",
    "    - Importation des données\n",
    "    - Manipulation des données\n",
    "    - Importation des packages utiles\n",
    "- Aborder les modèles linéaire et multiple sous python\n",
    "    - Estimation d'un modèle linéaire simple\n",
    "    - Estimation d'un modèle linéaire multiple\n",
    "    - Interprétation statistique et économique des résultats\n",
    "\n",
    "\n",
    "\n",
    "</span>"
   ]
  },
  {
   "cell_type": "markdown",
   "metadata": {},
   "source": [
    "<span style='line-height:1.5;font-size: 17px;font-family:\"Times New Roman\"'>\n",
    "<hr style=\" border: .5px solid black;\">\n",
    "\n",
    "<br>\n",
    "<b>Quelques petits rappels : </b>\n",
    "\n",
    "- Plusieurs types de variables \"basiques\" :\n",
    "    - Les entiers ou \"integer\" : $[-\\infty,...-3,-1,-2,-1,0,1,2,3,...,+\\infty]$\n",
    "    - Les nombres à virgule ou \"float\". Par exemple : $2.1$, $-601.77$, $3.0$\n",
    "    - Les chaînes de caractères, c'est à dire du texte (toujours entre guillemets). On les appeles des \"string\". Par exemple : \n",
    "``` python \n",
    "\"Hello world\"\n",
    "\"1,2,3\"\n",
    "\"1+1 = 2 est faux\"\n",
    "\"on#ceec8\\k,ce\"\n",
    "```\n",
    "    - Les listes qui sont toujours construites comme suit : entre crochets, les éléments sont séparés par des virgules.\n",
    "``` python \n",
    "[ ... , ... , ... ]\n",
    "```\n",
    "Par exemple : \n",
    "\n",
    "``` python \n",
    "[ 2 , 3 , 18, -15 ]\n",
    "[ \"un mot\", 12, \"un autre mot\"]\n",
    "[ [1,2,3]  , [\"des liste dans une liste\"] , 1, 2, 5 ]\n",
    "```\n",
    "\n",
    "\n",
    "- Attribution d'une <b>valeur</b> à une <b>variable</b> : on utilise le signe égal. Par exemple :\n",
    "``` python \n",
    "x = 1\n",
    "```\n",
    "alors la variable nommée \"$x$\" contient la valeur $1$. On peut appeler les variables comme bon nous semble\n",
    "``` python \n",
    "une_variable_avec_un_très_long_nom = \"Hello\"\n",
    "```\n",
    "\n",
    "Et l'on peut attribuer la plupart des types de variables que l'on connait : \n",
    "``` python \n",
    "une_liste = [1,2,3,4]\n",
    "s = \"une variable avec du texte\"\n",
    "i = 26\n",
    "f = 2.3\n",
    "```\n",
    "\n",
    "\n",
    "</span>"
   ]
  },
  {
   "cell_type": "markdown",
   "metadata": {},
   "source": [
    "<hr style=\" border: .5px solid black;\">\n",
    "<br>\n",
    "\n",
    "\n",
    "<span style='line-height:1.5;font-size: 17px;font-family:\"Times New Roman\"'>\n",
    "    \n",
    "<b>Exercice 1 -  Manipulation et création de variable  </b>\n",
    "\n",
    "1. A l'aide de la fonction `print`, affichez un message contenant le message que vous souhaitez (comme dans l'exemple ci-dessous) :\n",
    "\n",
    "Aide : si vous ne vous souvenez pas comment faire, exécuter simplement la cellule d'exemple et tentez de reproduire ce code en changeant le contenu du message dans la cellule en dessous.\n",
    "\n",
    "</span>"
   ]
  },
  {
   "cell_type": "code",
   "execution_count": 1,
   "metadata": {},
   "outputs": [
    {
     "name": "stdout",
     "output_type": "stream",
     "text": [
      "Hello World\n"
     ]
    }
   ],
   "source": [
    "# Exemple\n",
    "print(\"Hello World\")"
   ]
  },
  {
   "cell_type": "code",
   "execution_count": 1,
   "metadata": {},
   "outputs": [],
   "source": [
    "# Ecrivez votre code ici :\n",
    "\n"
   ]
  },
  {
   "cell_type": "markdown",
   "metadata": {},
   "source": [
    "<span style='line-height:1.5;font-size: 17px;font-family:\"Times New Roman\"'>\n",
    "    \n",
    "2. Créer des variables :\n",
    "    - 2.1 créez une variable contenant un entier (15 par exemple). Cette variable doit s'appeler `i` (\"i\" comme integer).\n",
    "    - 2.2 créez une variable contenant une liste (`[4,-6,12,-500]` par exemple), et appelez la `l` (\"l\" comme list).\n",
    "    - 2.3 créez une variable contenant une chaîne de caractère (`\"bonjour\"` par exemple) et appelez la `s` (\"s\" comme string).\n",
    "\n",
    "__Note__ : vous pouvez utiliser une ou plusieurs cellules.\n",
    "\n",
    "</span>"
   ]
  },
  {
   "cell_type": "code",
   "execution_count": null,
   "metadata": {},
   "outputs": [],
   "source": []
  },
  {
   "cell_type": "code",
   "execution_count": null,
   "metadata": {},
   "outputs": [],
   "source": []
  },
  {
   "cell_type": "code",
   "execution_count": null,
   "metadata": {},
   "outputs": [],
   "source": []
  },
  {
   "cell_type": "markdown",
   "metadata": {},
   "source": [
    "<span style='line-height:1.5;font-size: 17px;font-family:\"Times New Roman\"'>\n",
    "    \n",
    "3. Créer et manipuler des variables :\n",
    "    - 3.1 créez une variable `a` prenant en comme valeur `1` \n",
    "    - 3.2 créez une variable `b` prenant en comme valeur `2` \n",
    "    - 3.1 créez une variable `c` prenant en comme valeur `a + b`\n",
    "    - à l'aide de la fonction `print`, afficher la valeur de `c`\n",
    "\n",
    "__Note__ : vous pouvez utiliser une ou plusieurs cellules.\n",
    "\n",
    "</span>"
   ]
  },
  {
   "cell_type": "code",
   "execution_count": null,
   "metadata": {},
   "outputs": [],
   "source": []
  },
  {
   "cell_type": "code",
   "execution_count": null,
   "metadata": {},
   "outputs": [],
   "source": []
  },
  {
   "cell_type": "code",
   "execution_count": null,
   "metadata": {},
   "outputs": [],
   "source": []
  },
  {
   "cell_type": "markdown",
   "metadata": {},
   "source": [
    "<hr style=\" border: .5px solid black;\">\n",
    "<br>\n",
    "\n",
    "\n",
    "<span style='line-height:1.5;font-size: 17px;font-family:\"Times New Roman\"'>\n",
    "    \n",
    "<b>Exercice 2 -  Utilisation de quelques fonctions  </b>\n",
    "\n",
    "Il existe un certain nombre de fonctions déjà intégrées dans le langage python. Nous en avons déjà vu une :  la fonction `print()` permet d'afficher quelque chose. Le code :\n",
    "\n",
    "``` python \n",
    "a = \"bonjour\"\n",
    "b = 15\n",
    "\n",
    "print(a , b)\n",
    "```\n",
    "\n",
    "affiche\n",
    "\n",
    "\n",
    "``` python \n",
    "bonjour  15\n",
    "```\n",
    "\n",
    "Il existe plein d'autres fonctions, parfois plus complexes et auxquelles nous ferons appel _via_ des pakages (ce sera le cas des outils économétriques, statistiques ou graphiques par exemple). \n",
    "\n",
    "1. Faites tourner les codes ci-dessous et commentez le résultat\n",
    "\n",
    "</span>"
   ]
  },
  {
   "cell_type": "code",
   "execution_count": null,
   "metadata": {},
   "outputs": [],
   "source": [
    "l = [1,2,3,4,5,6]\n",
    "print( len(l) )"
   ]
  },
  {
   "cell_type": "code",
   "execution_count": null,
   "metadata": {},
   "outputs": [],
   "source": [
    "a = len(l)\n",
    "print(a)"
   ]
  },
  {
   "cell_type": "code",
   "execution_count": null,
   "metadata": {},
   "outputs": [],
   "source": [
    "print( type(l) )\n",
    "print( type(a) )"
   ]
  },
  {
   "cell_type": "code",
   "execution_count": null,
   "metadata": {},
   "outputs": [],
   "source": [
    "une_liste = [5,20,10,30,35,96,84,2]\n",
    "\n",
    "print( sorted(une_liste))"
   ]
  },
  {
   "cell_type": "code",
   "execution_count": null,
   "metadata": {},
   "outputs": [],
   "source": [
    "l = [1]\n",
    "\n",
    "print(l)\n",
    "\n",
    "l.append(2)\n",
    "\n",
    "print(l)\n",
    "\n",
    "l.append(3)\n",
    "\n",
    "print(l)"
   ]
  },
  {
   "cell_type": "markdown",
   "metadata": {},
   "source": [
    "<span style='line-height:1.5;font-size: 17px;font-family:\"Times New Roman\"'>\n",
    "    \n",
    "2. Créez une variable appelée `mot` qui prend comme valeur `\"L'actualité n'est pas toujours bonne.\"`. En utilisant les fonctions vu plus avant, affichez la taille de cette variable et son type. \n",
    "\n",
    "</span>"
   ]
  },
  {
   "cell_type": "code",
   "execution_count": null,
   "metadata": {},
   "outputs": [],
   "source": []
  },
  {
   "cell_type": "markdown",
   "metadata": {},
   "source": [
    "\n",
    "\n",
    "<span style='line-height:1.5;font-size: 17px;font-family:\"Times New Roman\"'>\n",
    "    \n",
    "\n",
    "\n",
    "3. Longueur d'une liste : On défini une liste dans le code suivant. Complétez le code pour afficher la longueur de cette liste.\n",
    "\n",
    "</span>"
   ]
  },
  {
   "cell_type": "code",
   "execution_count": 5,
   "metadata": {},
   "outputs": [],
   "source": [
    "liste = [i for i in range(44,118,3)]\n",
    "\n",
    "# Complétez à la ligne suivante pour afficher la longueur de la liste\n"
   ]
  },
  {
   "cell_type": "markdown",
   "metadata": {},
   "source": [
    "<span style='line-height:1.5;font-size: 17px;font-family:\"Times New Roman\"'>\n",
    "\n",
    "4. Chaines de caractères, longueur et opérateurs\n",
    "\n",
    "Créez deux variables : \n",
    "- Une variable appelée _str1_ prenant comme valeur \"Je m'appelle Albert Einstein.\"\n",
    "- Une variable appelée _str2_ prenant comme valeur \"Oui, et moi je suis le pape !\"\n",
    "\n",
    "Affichez :\n",
    "- La longeur de chacune des variables\n",
    "- La somme et le produit des longueurs de ces variables\n",
    "</span>"
   ]
  },
  {
   "cell_type": "code",
   "execution_count": null,
   "metadata": {},
   "outputs": [],
   "source": []
  },
  {
   "cell_type": "markdown",
   "metadata": {},
   "source": [
    "<hr style=\" border: .5px solid black;\">\n",
    "<br>\n",
    "\n",
    "<span style='line-height:1.5;font-size: 17px;font-family:\"Times New Roman\"'>\n",
    "\n",
    "__Exercice 3 - Erratum__\n",
    "\n",
    "Une erreur s'est glissée dans le code suivant! Repéres la et modifier le code pour qu'il fonctionne correctement.\n",
    "\n",
    "</span>"
   ]
  },
  {
   "cell_type": "code",
   "execution_count": 6,
   "metadata": {},
   "outputs": [
    {
     "name": "stdout",
     "output_type": "stream",
     "text": [
      "159\n"
     ]
    },
    {
     "ename": "NameError",
     "evalue": "name 'c' is not defined",
     "output_type": "error",
     "traceback": [
      "\u001b[1;31m---------------------------------------------------------------------------\u001b[0m",
      "\u001b[1;31mNameError\u001b[0m                                 Traceback (most recent call last)",
      "\u001b[1;32m<ipython-input-6-15824b982951>\u001b[0m in \u001b[0;36m<module>\u001b[1;34m\u001b[0m\n\u001b[0;32m      3\u001b[0m \u001b[0mprint\u001b[0m\u001b[1;33m(\u001b[0m\u001b[0mint1\u001b[0m \u001b[1;33m+\u001b[0m \u001b[0mint2\u001b[0m\u001b[1;33m)\u001b[0m\u001b[1;33m\u001b[0m\u001b[1;33m\u001b[0m\u001b[0m\n\u001b[0;32m      4\u001b[0m \u001b[1;33m\u001b[0m\u001b[0m\n\u001b[1;32m----> 5\u001b[1;33m \u001b[0mprint\u001b[0m\u001b[1;33m(\u001b[0m\u001b[0mc\u001b[0m\u001b[1;33m)\u001b[0m \u001b[1;31m# Définir c ou imprimer a\u001b[0m\u001b[1;33m\u001b[0m\u001b[1;33m\u001b[0m\u001b[0m\n\u001b[0m\u001b[0;32m      6\u001b[0m \u001b[1;33m\u001b[0m\u001b[0m\n\u001b[0;32m      7\u001b[0m \u001b[0mprint\u001b[0m\u001b[1;33m(\u001b[0m\u001b[0mstr1\u001b[0m\u001b[1;33m)\u001b[0m\u001b[1;33m\u001b[0m\u001b[1;33m\u001b[0m\u001b[0m\n",
      "\u001b[1;31mNameError\u001b[0m: name 'c' is not defined"
     ]
    }
   ],
   "source": [
    "int1, int2, str1, a, b = 157, 2, \"Python\", \"c\", (56,601)\n",
    "\n",
    "print(int1 + int2)\n",
    "\n",
    "print(c) # Définir c ou imprimer a\n",
    "\n",
    "print(str1)\n"
   ]
  },
  {
   "cell_type": "markdown",
   "metadata": {},
   "source": [
    "<hr style=\" border: .5px solid black;\">\n",
    "<br>\n",
    "\n",
    "<span style='line-height:1.5;font-size: 17px;font-family:\"Times New Roman\"'>\n",
    "\n",
    "__Exercice 4 - Boucle for__\n",
    "\n",
    "Quelques petits rappels sur les boucles.\n",
    "\n",
    "Deux type de boucles existent : la boucle FOR et la boucle WHILE. \n",
    "C'est l'occasion de présenter le concept d'identation, central en Python ! Autrement votre code vous retournera des erreurs !!\n",
    "\n",
    "La boucle For permet d'itérer à travers une variable le permettant (des \"itérables\") : str, list, tuple, dict.\n",
    "\n",
    "<b>IMPORTANT</b> : Vous l'aurez remarqué, une tabulation/alinéa sépare \"print(element)\" du bord gauche de la cellule. C'est cette tabulation qui permet au code de fonctionner (et par là de le rendre lisible).\n",
    "\n",
    "Dans l'exemple suivant, nous créons une liste (avec les entiers de 1 à 5, puis nous créons une boucle qui permet d'aller chercher chaque élément de cette liste et de les afficher un part un :\n",
    "\n",
    "</span>"
   ]
  },
  {
   "cell_type": "code",
   "execution_count": null,
   "metadata": {},
   "outputs": [],
   "source": []
  },
  {
   "cell_type": "markdown",
   "metadata": {},
   "source": [
    "<span style='line-height:1.5;font-size: 17px;font-family:\"Times New Roman\"'>\n",
    "\n",
    "On en profite pour introduire une fonction intégrée au langage python (comme `print()`, ou `len()`) et qui est la fonction `range(début, fin, pas)`. Cette fonction prend trois arguments (trois paramètres) entre parenthèses et permet d'afficher les nombres entiers de `début` jusqu'à `fin - 1` avec un pas de `pas`.\n",
    "\n",
    "Par exemple, si l'on écrit la boucle suivante : \n",
    "\n",
    "</span>"
   ]
  },
  {
   "cell_type": "code",
   "execution_count": 16,
   "metadata": {},
   "outputs": [
    {
     "name": "stdout",
     "output_type": "stream",
     "text": [
      "1\n",
      "2\n",
      "3\n",
      "4\n",
      "5\n",
      "6\n",
      "7\n",
      "8\n",
      "9\n",
      "10\n"
     ]
    }
   ],
   "source": [
    "# On écrit 11 car la la fonction range s'arrête à \"fin\" - 1\n",
    "# Ici, on va donc de 1 en 1, depuis 1 jusqu'à 11-1 = 10\n",
    "for i in range(1,11,1) :\n",
    "    print(i)"
   ]
  },
  {
   "cell_type": "code",
   "execution_count": 17,
   "metadata": {},
   "outputs": [
    {
     "name": "stdout",
     "output_type": "stream",
     "text": [
      "1\n",
      "3\n",
      "5\n",
      "7\n",
      "9\n"
     ]
    }
   ],
   "source": [
    "# Si je change le pas, 2 par exemple, j'irai de 2 en 2 :\n",
    "for i in range(1,11,2):\n",
    "    print( i )"
   ]
  },
  {
   "cell_type": "code",
   "execution_count": 18,
   "metadata": {},
   "outputs": [
    {
     "name": "stdout",
     "output_type": "stream",
     "text": [
      "2\n",
      "4\n",
      "6\n",
      "8\n",
      "10\n"
     ]
    }
   ],
   "source": [
    "# Enfin pour avoir les nombres pairs, je garde un pas de 2 mais je commence ma boucle range à 2 :\n",
    "for i in range(2,11,2):\n",
    "    print(i)"
   ]
  },
  {
   "cell_type": "markdown",
   "metadata": {},
   "source": [
    "<span style='line-height:1.5;font-size: 17px;font-family:\"Times New Roman\"'>\n",
    "\n",
    "4.1 Ecrivez une boucle permettant d'afficher les entiers de 10 à 20\n",
    "\n",
    "4.2 Ecrivez une boucle permettant d'afficher les entiers impairs de 35 à 48\n",
    "\n",
    "</span>"
   ]
  },
  {
   "cell_type": "code",
   "execution_count": null,
   "metadata": {},
   "outputs": [],
   "source": []
  },
  {
   "cell_type": "code",
   "execution_count": null,
   "metadata": {},
   "outputs": [],
   "source": []
  },
  {
   "cell_type": "markdown",
   "metadata": {},
   "source": [
    "<hr style=\" border: .5px solid black;\">\n",
    "<br>\n",
    "\n",
    "<span style='line-height:1.5;font-size: 17px;font-family:\"Times New Roman\"'>\n",
    "\n",
    "__Exercice 5 - Ecrire une somme__\n",
    "\n",
    "On rappelle que l'on peut changer la valeur d'une variable comme suit :\n",
    "\n",
    "Soit la variable `x` égale à 1 :\n",
    "\n",
    "```python\n",
    "x = 1\n",
    "```\n",
    "\n",
    "On peut altérer la valeur de `x` en agissant directement dessus :\n",
    "\n",
    "```python\n",
    "x = x + 1\n",
    "```\n",
    "\n",
    "Nous avons ajouter 1 à `x` qui vaut désormais 2. On peut recommencer autant de fois que l'on veut et en utilisant la somme, la soustraction, la multiplication, etc...\n",
    "\n",
    "5.1 A l'aide d'une boucle, ecrire un code permettant de sommer les entiers de 1 à 10.\n",
    "\n",
    "</span>"
   ]
  },
  {
   "cell_type": "code",
   "execution_count": null,
   "metadata": {},
   "outputs": [],
   "source": []
  },
  {
   "cell_type": "markdown",
   "metadata": {},
   "source": [
    "<hr style=\" border: .5px solid black;\">\n",
    "<br>\n",
    "\n",
    "<span style='line-height:1.5;font-size: 17px;font-family:\"Times New Roman\"'>\n",
    "\n",
    "__Exercice 6 - Erratum dans une boucle__\n",
    "\n",
    "Une erreur est présente dans le code suivant! Corrigez là pour que le code fonctionne normalement. Vous pouvez lire la partie du chapitre 1 sur les structures conditionnelles pour vous aider.\n",
    "\n",
    "</span>"
   ]
  },
  {
   "cell_type": "code",
   "execution_count": 7,
   "metadata": {},
   "outputs": [
    {
     "ename": "IndentationError",
     "evalue": "expected an indented block (<ipython-input-7-f22fd30ea0b4>, line 4)",
     "output_type": "error",
     "traceback": [
      "\u001b[1;36m  File \u001b[1;32m\"<ipython-input-7-f22fd30ea0b4>\"\u001b[1;36m, line \u001b[1;32m4\u001b[0m\n\u001b[1;33m    if len(carac) < 2:\u001b[0m\n\u001b[1;37m     ^\u001b[0m\n\u001b[1;31mIndentationError\u001b[0m\u001b[1;31m:\u001b[0m expected an indented block\n"
     ]
    }
   ],
   "source": [
    "l = ['B','zr','i','rf','e','dfg','n',' ','j','roui','o','df','u','qsd','é','!']\n",
    "\n",
    "for carac in l :\n",
    "if len(carac) < 2: \n",
    "        print(carac)"
   ]
  },
  {
   "cell_type": "markdown",
   "metadata": {},
   "source": [
    "<hr style=\" border: .5px solid black;\">\n",
    "<br>\n",
    "\n",
    "<span style='line-height:1.5;font-size: 17px;font-family:\"Times New Roman\"'>\n",
    "\n",
    "__Exercice 7 - Structure conditionnelle__\n",
    "\n",
    "Nous utiliserons souvent les boucles (en particulier les boucle `for`), mais également la structure conditionnelle. L'idée, pour rappel, est ici de dire :\n",
    "\n",
    "- Si telle _condition_ est vérifiée, alors on fait :\n",
    "    - donner une instruction\n",
    "- Sinon, alors on fait :\n",
    "    - donner une autre instruction\n",
    "\n",
    "</span>"
   ]
  },
  {
   "cell_type": "code",
   "execution_count": 25,
   "metadata": {},
   "outputs": [
    {
     "name": "stdout",
     "output_type": "stream",
     "text": [
      "0  est bien paire\n",
      "2  est bien paire\n",
      "4  est bien paire\n",
      "6  est bien paire\n",
      "8  est bien paire\n",
      "10  est bien paire\n"
     ]
    }
   ],
   "source": [
    "# on créé une liste de nombre paires\n",
    "liste_paires = [i for i in range(0,11,2)]\n",
    "\n",
    "# Cette boucle permet de vérifier que tous les éléments de cette liste sont bien des nombres paires\n",
    "\n",
    "for i in liste_paires :\n",
    "    if i%2 == 1 :\n",
    "        print(i , \" n'est pas paire\")\n",
    "    else :\n",
    "        print(i , \" est bien paire\")\n",
    "        \n",
    "        "
   ]
  },
  {
   "cell_type": "markdown",
   "metadata": {},
   "source": [
    "<span style='line-height:1.5;font-size: 17px;font-family:\"Times New Roman\"'>\n",
    "\n",
    "7.1 Ecrire une boucle permettant de compter les éléments impaires d'une liste.\n",
    "- Une liste est données\n",
    "- Créer une variable \"compteur\" égale à 0.\n",
    "- Ecrire une boucle allant chercher (qui itère) dans cette liste.\n",
    "- Créer, dans la boucle, une condition : \n",
    "    - Si le nombre est impaire : on ajoute 1 à la variable \"compteur\"\n",
    "    - Sinon, on ne touche pas à \"compteur\" (on peut ne pas mettre cette instruction)\n",
    "\n",
    "\n",
    "</span>"
   ]
  },
  {
   "cell_type": "code",
   "execution_count": 28,
   "metadata": {},
   "outputs": [
    {
     "name": "stdout",
     "output_type": "stream",
     "text": [
      "56\n"
     ]
    }
   ],
   "source": [
    "liste_de_nombre = [i for i in range(37,149,2)]\n",
    "\n",
    "# complétez le code, étape par étape ci-dessous\n",
    "\n",
    "\n"
   ]
  },
  {
   "cell_type": "markdown",
   "metadata": {},
   "source": [
    "<hr style=\" border: .5px solid black;\">\n",
    "<br>\n",
    "\n",
    "<span style='line-height:1.5;font-size: 17px;font-family:\"Times New Roman\"'>\n",
    "\n",
    "__Exercice 8 - Itérer dans une liste__\n",
    "\n",
    "On vous donne une liste de $10$ éléments. À l'aide des indices, affichez les éléments suivants :\n",
    "- le premier\n",
    "- le dernier (de deux façons différentes)\n",
    "- le 5ème\n",
    "- l'avant dernier (de deux façons différentes).\n",
    "- du premier au 6ème\n",
    "- du 7ème à la fin \n",
    "- du 3ème au 7ème\n",
    "\n",
    "</span>"
   ]
  },
  {
   "cell_type": "code",
   "execution_count": null,
   "metadata": {},
   "outputs": [],
   "source": []
  },
  {
   "cell_type": "markdown",
   "metadata": {},
   "source": [
    "<hr style=\" border: .5px solid black;\">\n",
    "<br>\n",
    "\n",
    "<span style='line-height:1.5;font-size: 17px;font-family:\"Times New Roman\"'>\n",
    "\n",
    "__Exercice 9 - Fonction append__\n",
    "\n",
    "Nous introduisons ici une nouvelle fonction _built-in_ de python : la fonction `.append()`. Cette fonction permet d'ajouter un élément en dernière position d'une liste. \n",
    "\n",
    "Ainsi, si nous avons une liste : \n",
    "```python\n",
    "l = [2,5,9,-10]\n",
    "```\n",
    "et que nous appliquons la fonction `.append()` de la façon suivante : \n",
    "```python\n",
    "l.append(15)\n",
    "```\n",
    "nous obtenons que `l` est désormais égale à :\n",
    "```python\n",
    "[2,5,9,-10,15]\n",
    "```\n",
    "\n",
    "1. En vous servant de cette fonction (et de la fonction range), écrivez une boucle permettant de créer une liste de avec les entiers de 1 à 10.\n",
    "\n",
    "</span>"
   ]
  },
  {
   "cell_type": "code",
   "execution_count": null,
   "metadata": {},
   "outputs": [],
   "source": []
  },
  {
   "cell_type": "markdown",
   "metadata": {},
   "source": [
    "<span style='line-height:1.5;font-size: 17px;font-family:\"Times New Roman\"'>\n",
    "\n",
    "\n",
    "2. Un peu plus dur : écrivez une boucle permettant de remplir une liste avec les entiers de 1 à 10 (comme pour la question 1). Ajoutez une condition pour afficher le dernier élément de la liste lorsque la taille de la liste est paire. Lorsque la taille de liste est impaire, nous souhaitons afficher le message `\"la taille de la liste est impaire\"`.\n",
    "\n",
    "_Note_ : on utilisera les fonctions : \n",
    "- `range()`\n",
    "- `.append()`\n",
    "- `len()`\n",
    "- et l'opérateur `%`\n",
    "\n",
    "</span>"
   ]
  },
  {
   "cell_type": "markdown",
   "metadata": {},
   "source": [
    "<hr style=\" border: .5px solid black;\">\n",
    "<br>\n",
    "\n",
    "<span style='line-height:1.5;font-size: 17px;font-family:\"Times New Roman\"'>\n",
    "\n",
    "__Exercice 10 - Condition sur un mot__\n",
    "\n",
    "1. On définit une variable contenant une chaine de caractères. Ecrire une boucle permettant de compter le nombre de `e`, de `z` et de `,` présents dans cette variable.  \n",
    "\n",
    "</span>"
   ]
  },
  {
   "cell_type": "code",
   "execution_count": null,
   "metadata": {},
   "outputs": [],
   "source": []
  },
  {
   "cell_type": "markdown",
   "metadata": {},
   "source": [
    "<span style='line-height:1.5;font-size: 17px;font-family:\"Times New Roman\"'>\n",
    "\n",
    "2. On fait la même chose, sauf que cette fois-ci, nous aimerions également savoir combien d'autres caractère il y a (tout type confondus) mais qui ne sont ni des \"e\", ni des \"z\" ni des virgules.\n",
    "\n",
    "</span>"
   ]
  },
  {
   "cell_type": "code",
   "execution_count": null,
   "metadata": {},
   "outputs": [],
   "source": []
  }
 ],
 "metadata": {
  "kernelspec": {
   "display_name": "Python 3 (ipykernel)",
   "language": "python",
   "name": "python3"
  },
  "language_info": {
   "codemirror_mode": {
    "name": "ipython",
    "version": 3
   },
   "file_extension": ".py",
   "mimetype": "text/x-python",
   "name": "python",
   "nbconvert_exporter": "python",
   "pygments_lexer": "ipython3",
   "version": "3.11.4"
  },
  "toc": {
   "base_numbering": 1,
   "nav_menu": {},
   "number_sections": true,
   "sideBar": true,
   "skip_h1_title": false,
   "title_cell": "Table of Contents",
   "title_sidebar": "Contents",
   "toc_cell": false,
   "toc_position": {},
   "toc_section_display": true,
   "toc_window_display": false
  },
  "varInspector": {
   "cols": {
    "lenName": 16,
    "lenType": 16,
    "lenVar": 40
   },
   "kernels_config": {
    "python": {
     "delete_cmd_postfix": "",
     "delete_cmd_prefix": "del ",
     "library": "var_list.py",
     "varRefreshCmd": "print(var_dic_list())"
    },
    "r": {
     "delete_cmd_postfix": ") ",
     "delete_cmd_prefix": "rm(",
     "library": "var_list.r",
     "varRefreshCmd": "cat(var_dic_list()) "
    }
   },
   "types_to_exclude": [
    "module",
    "function",
    "builtin_function_or_method",
    "instance",
    "_Feature"
   ],
   "window_display": false
  }
 },
 "nbformat": 4,
 "nbformat_minor": 2
}
