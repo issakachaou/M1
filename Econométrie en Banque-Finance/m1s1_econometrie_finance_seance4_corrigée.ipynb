{
 "cells": [
  {
   "cell_type": "markdown",
   "metadata": {},
   "source": [
    "<span style='line-height:1.5;font-size: 17px;font-family:\"Times New Roman\"'>\n",
    "\n",
    "\n",
    "<b><center><font size=\"6\">Travaux Dirigés - Econométrie en finance - séance 4 - corrigé</font></center></b>\n",
    "    \n",
    "\n",
    "    \n",
    "<g><h7><center> CM - P. Durand  - pierre.durand@u-pec.fr </center></h7></g>\n",
    "\n",
    "<g><h7><center> TD - R. Birem  - abderRaouf.birem@u-pec.fr </center></h7></g>\n",
    "\n",
    "\n",
    "<b><center><font size=\"5\">M1 - 2024-2025</font></center></b> \n",
    "\n",
    "\n",
    "\n",
    "</span>"
   ]
  },
  {
   "cell_type": "markdown",
   "metadata": {},
   "source": [
    "<span style='line-height:1.5;font-size: 17px;font-family:\"Times New Roman\"'>\n",
    "\n",
    "<hr style=\" border: 2.5px solid black;\">\n",
    "\n",
    "\n",
    "<b>Objectifs de la séance : </b>\n",
    "\n",
    "- Commentaire de code\n",
    "- Application économétrique\n",
    "- Exercices types CC\n",
    "\n",
    "\n",
    "\n",
    "</span>"
   ]
  },
  {
   "cell_type": "markdown",
   "metadata": {},
   "source": [
    "<span style='line-height:1.5;font-size: 17px;font-family:\"Times New Roman\"'>\n",
    "\n",
    "<hr style=\" border: .5px solid black;\">\n",
    "\n",
    "\n",
    "<b>Exercice 1 : commenter des codes</b>\n",
    "    \n",
    "- Commentez les différentes cellules de code suivant : \n",
    "    - que vont-ils produire ? \n",
    "    - quelles variables sont-elles créées ?\n",
    "    - des erreurs sont-elles inscrites ? \n",
    "    - ...\n",
    "\n",
    "\n",
    "</span>"
   ]
  },
  {
   "cell_type": "code",
   "execution_count": 4,
   "metadata": {},
   "outputs": [],
   "source": [
    "# 1\n",
    "import pandas as pd"
   ]
  },
  {
   "cell_type": "code",
   "execution_count": 5,
   "metadata": {},
   "outputs": [],
   "source": [
    "# 2\n",
    "path = \"C:/Users/Pierre/Desktop/cours/creteil/2021_2022/econometrie_banque_finance_m1s1/td/data/\""
   ]
  },
  {
   "cell_type": "code",
   "execution_count": 6,
   "metadata": {},
   "outputs": [
    {
     "name": "stdout",
     "output_type": "stream",
     "text": [
      "1\n"
     ]
    }
   ],
   "source": [
    "# 3\n",
    "a = 1 #Declaration d'une variable num\n",
    "print(a)"
   ]
  },
  {
   "cell_type": "code",
   "execution_count": 7,
   "metadata": {},
   "outputs": [
    {
     "ename": "NameError",
     "evalue": "name 'df' is not defined",
     "output_type": "error",
     "traceback": [
      "\u001b[1;31m---------------------------------------------------------------------------\u001b[0m",
      "\u001b[1;31mNameError\u001b[0m                                 Traceback (most recent call last)",
      "Cell \u001b[1;32mIn[7], line 3\u001b[0m\n\u001b[0;32m      1\u001b[0m \u001b[38;5;66;03m# 4\u001b[39;00m\n\u001b[0;32m      2\u001b[0m \u001b[38;5;66;03m# nous supposons que df est un dataframe\u001b[39;00m\n\u001b[1;32m----> 3\u001b[0m df\u001b[38;5;241m.\u001b[39mhead()\n",
      "\u001b[1;31mNameError\u001b[0m: name 'df' is not defined"
     ]
    }
   ],
   "source": [
    "# 4\n",
    "# nous supposons que df est un dataframe\n",
    "df.head()"
   ]
  },
  {
   "cell_type": "code",
   "execution_count": 8,
   "metadata": {},
   "outputs": [
    {
     "name": "stdout",
     "output_type": "stream",
     "text": [
      "6\n",
      "7\n",
      "8\n",
      "9\n"
     ]
    }
   ],
   "source": [
    "# 5\n",
    "une_liste = [1,2,3,4]\n",
    "\n",
    "for i in une_liste :\n",
    "    print(i + 5)"
   ]
  },
  {
   "cell_type": "code",
   "execution_count": 9,
   "metadata": {},
   "outputs": [
    {
     "name": "stdout",
     "output_type": "stream",
     "text": [
      "3\n",
      "4\n"
     ]
    }
   ],
   "source": [
    "# 6\n",
    "for i in une_liste :\n",
    "    if i > 2 :\n",
    "        print(i)"
   ]
  },
  {
   "cell_type": "code",
   "execution_count": 10,
   "metadata": {},
   "outputs": [
    {
     "ename": "NameError",
     "evalue": "name 'df' is not defined",
     "output_type": "error",
     "traceback": [
      "\u001b[1;31m---------------------------------------------------------------------------\u001b[0m",
      "\u001b[1;31mNameError\u001b[0m                                 Traceback (most recent call last)",
      "Cell \u001b[1;32mIn[10], line 3\u001b[0m\n\u001b[0;32m      1\u001b[0m \u001b[38;5;66;03m# 7\u001b[39;00m\n\u001b[0;32m      2\u001b[0m \u001b[38;5;66;03m# df est un dataframe avec 3 variable : \"date\", \"X1\" et \"X2\"\u001b[39;00m\n\u001b[1;32m----> 3\u001b[0m df[\u001b[38;5;124m\"\u001b[39m\u001b[38;5;124mX1_gr\u001b[39m\u001b[38;5;124m\"\u001b[39m] \u001b[38;5;241m=\u001b[39m \u001b[38;5;241m100\u001b[39m \u001b[38;5;241m*\u001b[39m ( df[\u001b[38;5;124m\"\u001b[39m\u001b[38;5;124mX1\u001b[39m\u001b[38;5;124m\"\u001b[39m]\u001b[38;5;241m/\u001b[39mdf[\u001b[38;5;124m\"\u001b[39m\u001b[38;5;124mX1\u001b[39m\u001b[38;5;124m\"\u001b[39m]\u001b[38;5;241m.\u001b[39mshift(\u001b[38;5;241m1\u001b[39m) \u001b[38;5;241m-\u001b[39m \u001b[38;5;241m1\u001b[39m )\n",
      "\u001b[1;31mNameError\u001b[0m: name 'df' is not defined"
     ]
    }
   ],
   "source": [
    "# 7\n",
    "# df est un dataframe avec 3 variable : \"date\", \"X1\" et \"X2\"\n",
    "df[\"X1_gr\"] = 100 * ( df[\"X1\"]/df[\"X1\"].shift(1) - 1 )"
   ]
  },
  {
   "cell_type": "code",
   "execution_count": 11,
   "metadata": {},
   "outputs": [
    {
     "ename": "NameError",
     "evalue": "name 'df' is not defined",
     "output_type": "error",
     "traceback": [
      "\u001b[1;31m---------------------------------------------------------------------------\u001b[0m",
      "\u001b[1;31mNameError\u001b[0m                                 Traceback (most recent call last)",
      "Cell \u001b[1;32mIn[11], line 3\u001b[0m\n\u001b[0;32m      1\u001b[0m \u001b[38;5;66;03m# 8\u001b[39;00m\n\u001b[0;32m      2\u001b[0m \u001b[38;5;66;03m# df est un dataframe avec 3 variable : \"date\", \"X1\" et \"X2\"\u001b[39;00m\n\u001b[1;32m----> 3\u001b[0m df\u001b[38;5;241m.\u001b[39mplot(x \u001b[38;5;241m=\u001b[39m \u001b[38;5;124m\"\u001b[39m\u001b[38;5;124mdate\u001b[39m\u001b[38;5;124m\"\u001b[39m,y\u001b[38;5;241m=\u001b[39m\u001b[38;5;124m\"\u001b[39m\u001b[38;5;124mX2\u001b[39m\u001b[38;5;124m\"\u001b[39m, title\u001b[38;5;241m=\u001b[39m\u001b[38;5;124m\"\u001b[39m\u001b[38;5;124mX2\u001b[39m\u001b[38;5;124m\"\u001b[39m, legend\u001b[38;5;241m=\u001b[39m\u001b[38;5;28;01mTrue\u001b[39;00m)\n",
      "\u001b[1;31mNameError\u001b[0m: name 'df' is not defined"
     ]
    }
   ],
   "source": [
    "# 8\n",
    "# df est un dataframe avec 3 variable : \"date\", \"X1\" et \"X2\"\n",
    "df.plot(x = \"date\",y=\"X2\", title=\"X2\", legend=True)"
   ]
  },
  {
   "cell_type": "code",
   "execution_count": 12,
   "metadata": {},
   "outputs": [
    {
     "ename": "NameError",
     "evalue": "name 'df' is not defined",
     "output_type": "error",
     "traceback": [
      "\u001b[1;31m---------------------------------------------------------------------------\u001b[0m",
      "\u001b[1;31mNameError\u001b[0m                                 Traceback (most recent call last)",
      "Cell \u001b[1;32mIn[12], line 5\u001b[0m\n\u001b[0;32m      1\u001b[0m \u001b[38;5;66;03m# 9\u001b[39;00m\n\u001b[0;32m      2\u001b[0m \u001b[38;5;28;01mimport\u001b[39;00m \u001b[38;5;21;01mstatsmodels\u001b[39;00m\u001b[38;5;21;01m.\u001b[39;00m\u001b[38;5;21;01mapi\u001b[39;00m \u001b[38;5;28;01mas\u001b[39;00m \u001b[38;5;21;01msm\u001b[39;00m\n\u001b[1;32m----> 5\u001b[0m X \u001b[38;5;241m=\u001b[39m df[\u001b[38;5;124m\"\u001b[39m\u001b[38;5;124mX1\u001b[39m\u001b[38;5;124m\"\u001b[39m]\u001b[38;5;241m.\u001b[39mdropna()\n\u001b[0;32m      8\u001b[0m y \u001b[38;5;241m=\u001b[39m df[\u001b[38;5;124m\"\u001b[39m\u001b[38;5;124mX2\u001b[39m\u001b[38;5;124m\"\u001b[39m]\u001b[38;5;241m.\u001b[39mdropna()\n\u001b[0;32m     10\u001b[0m modele \u001b[38;5;241m=\u001b[39m sm\u001b[38;5;241m.\u001b[39mOLS(y,X)\n",
      "\u001b[1;31mNameError\u001b[0m: name 'df' is not defined"
     ]
    }
   ],
   "source": [
    "# 9\n",
    "import statsmodels.api as sm\n",
    "\n",
    "\n",
    "X = df[\"X1\"].dropna()\n",
    "\n",
    "\n",
    "y = df[\"X2\"].dropna()\n",
    "\n",
    "modele = sm.OLS(y,X)\n",
    "\n",
    "resultats = modele.fit()\n",
    "\n",
    "print(resultats.summary())"
   ]
  },
  {
   "cell_type": "markdown",
   "metadata": {},
   "source": [
    "<span style='line-height:1.5;font-size: 17px;font-family:\"Times New Roman\"'>\n",
    "\n",
    "L'idée ici est de décrire les codes sans trop s'éparpiller mais sans rien oublier (variables, type, output, erreurs etc...)\n",
    "\n",
    "Commentaires : \n",
    "1 - Nous importons le package pandas sous le nom \"pd\". Cette librairie sert à la manipulation de données sous python.\n",
    "    \n",
    "2 - Nous créons une variable de type chaine de caractères. La variable s'appelle path et contient un chemin d'accès vers un dossier.\n",
    "    \n",
    "3 - Nous créons une variable de type integer appelée a et elle contient l'entier 1. Nous utilisons ensuite la fonction préintégrée de python permettant de l'afficher. L'output de cette cellule de code sera donc d'imprimer 1\n",
    "    \n",
    "4 - La fonction .head() de pandas, appliquée à un dataframe permet d'afficher l'en-tête du dataframe (les 5 premières lignes).\n",
    "    \n",
    "5 - Nous créons une variable appelée une_liste et contenant une liste de 4 integer. Puis nous utilisons une boucle for permettant d'afficher les éléments de cette liste +5 (6, 7, 8, 9) un à un. \n",
    "    \n",
    "6 - Cette boucle semble permettre d'afficher les élements de la liste une_liste qui sont supérieurs à 2 strictement. Cela étant, il manque les \":\" après l'instruction if. Un message d'erreur va donc apparaître.\n",
    "    \n",
    "7 - Cette cellule permet de créer une nouvelle variable dans le dataframe df. Cette variable est égale au taux de croissance de X1. La fonction .shift(1) de pandas permet de décaler d'une ligne (donc d'une période) les éléments de df[\"X1\"].\n",
    "    \n",
    "8 - Cette cellule de code permet d'afficher le graphique ligne de X2 en ordonnée en fonction des dates en abscisses. Le graphique aura un titre \"X2\" et affichera une légende.\n",
    "    \n",
    "9 - Dans cette cellule, le package statsmodels.api est importé. C'est le package que nous utilisons pour mener des estimations et tests économétriques. Nous créons ensuite une matrice X (contenant la variable X1) et une autre matrice y (contenant la variable X2). Nous définissons ensuite un modèle MCO (X2 = \\beta X1 + \\epsilon). On remarque que la constante a été oubliée. Nous estimons ensuite le modèle par les MCO et stockons les résultats dans une variable appelée resultats. Enfin, nous utilisons la fonction print pour afficher un résumé des résultats d'estimation MCO. \n",
    "\n",
    "\n",
    "</span>"
   ]
  },
  {
   "cell_type": "markdown",
   "metadata": {},
   "source": [
    "<hr style=\" border: .5px solid black;\">\n",
    "<br>\n",
    "\n",
    "<span style='line-height:1.5;font-size: 17px;font-family:\"Times New Roman\"'>\n",
    "\n",
    "\n",
    "Nous reprenons dans ce TD les données utilisées la séance dernière, portant sur le CAPM. Pour rappelle, nous cherchions à estimer la dépendance entre l'actif de l'entreprise Ford et la rentabilité du marché. Avec un coefficient associé au rendement du marché significatif, nous avions néanmoins un modèle relativement peu performant (exlicatif de moins de 30\\% des variations du titre de Ford). Nous allons essayé d'améliorer ce modèle en introduisant de nouvelle variables explicatives : \n",
    "    \n",
    "- le cours du prix du pétrole : matière première influante de bon nombre de titre, beaucoup d'études tentent de capter les effets de la variation des prix du pétrole sur la volatilité des marché boursier. Dans la mesure où Ford est une entreprise automobile, nous avons d'autant plus de raisons de penser que les prix du pétrole auront un rôle à jouer ici.\n",
    "- nous introduirons également des dummy temporelles afin de capter les effets de perturbations macroéconomiques. \n",
    "\n",
    "<br>\n",
    "\n",
    "Le modèle initial est donné par : \n",
    "\n",
    "$$E(R_i) - r =  \\alpha + \\beta_1 \\times (E(R_m) - r) + \\epsilon$$\n",
    "    \n",
    "<br>\n",
    "    \n",
    "Nous allons donc estimer les modèles suivant : \n",
    "    \n",
    "$$E(R_i) - r =  \\alpha + \\beta_1 \\times (E(R_m) - r) + \\beta_2 \\times (E(R_{oil} - r) + \\epsilon$$\n",
    "    \n",
    "et \n",
    "    \n",
    "$$E(R_i) - r =  \\alpha + \\beta_1 \\times (E(R_m) - r) + \\beta_2 \\times R_{oil} + \\beta_3 D_{crise} + \\beta_4 D_{covid} + \\epsilon$$\n",
    "\n",
    "<br>\n",
    "    \n",
    "où $E(R_i)$ renvoie à la rentabilité espérée pour l'actif $i$, $E(R_m)$ est la rentabilité espérée du marché, r désigne le taux d'intérêt sans risque (généralement approximé par le taux d'intérêt directeur), $E(R_{oil}$ renvoie aux rendements des prix du pétrole, $D_{crise}$ est une dummy valant $1$ au moment de la crise et $0$ sinon, D_{covid} est une dummy pour la crise sanitaire, $\\alpha$ et $\\beta$ sont les coefficients à estimer et $\\epsilon$ désigne le terme d'erreur. \n",
    "\n",
    "\n",
    "\n",
    "<br>\n",
    "\n",
    "<hr style=\" border: .5px solid black;\">\n",
    "\n",
    "1. Importez la base de données \"capm2.txt\".\n",
    "\n",
    "\n",
    "_Note_ :\n",
    "- attention de bien connaître l'emplacement où vous mettez la base sur votre ordinateur\n",
    "- remplacer les \"\\\" par des \"/\" dans le chemin d'accès\n",
    "- ajouter un \"/\" à la fin du chemin\n",
    "- utiliser le package `pandas` (sous le nom `pd`)\n",
    "- le fichier est au format texte `.txt` (équivalent de csv) : utilisez la fonction `.read_csv()` en spécifiant le séparateur (`sep = \";\"`)\n",
    "\n",
    "</span> "
   ]
  },
  {
   "cell_type": "code",
   "execution_count": null,
   "metadata": {},
   "outputs": [],
   "source": [
    "import pandas as pd"
   ]
  },
  {
   "cell_type": "code",
   "execution_count": 41,
   "metadata": {},
   "outputs": [],
   "source": [
    "chemin = \"C:\\\\Users\\\\issak\\\\Documents\\\\M1\\\\Econométrie en Banque-Finance\\\\data_2\\\\\"\n",
    "\n",
    "df = pd.read_csv(chemin + \"capm2.txt\", sep=\";\")"
   ]
  },
  {
   "cell_type": "markdown",
   "metadata": {},
   "source": [
    "<span style='line-height:1.5;font-size: 17px;font-family:\"Times New Roman\"'>\n",
    "\n",
    "\n",
    "<hr style=\" border: .5px solid black;\">\n",
    "\n",
    "2. Vérifiez que la base de données à bien été importée en affichant l'entête du dataframe\n",
    "\n",
    "_Note_ : fonction `.head()`\n",
    "\n",
    "</span> "
   ]
  },
  {
   "cell_type": "code",
   "execution_count": 42,
   "metadata": {},
   "outputs": [
    {
     "data": {
      "text/html": [
       "<div>\n",
       "<style scoped>\n",
       "    .dataframe tbody tr th:only-of-type {\n",
       "        vertical-align: middle;\n",
       "    }\n",
       "\n",
       "    .dataframe tbody tr th {\n",
       "        vertical-align: top;\n",
       "    }\n",
       "\n",
       "    .dataframe thead th {\n",
       "        text-align: right;\n",
       "    }\n",
       "</style>\n",
       "<table border=\"1\" class=\"dataframe\">\n",
       "  <thead>\n",
       "    <tr style=\"text-align: right;\">\n",
       "      <th></th>\n",
       "      <th>date</th>\n",
       "      <th>ford</th>\n",
       "      <th>sandp</th>\n",
       "      <th>ustb3m</th>\n",
       "      <th>oil</th>\n",
       "    </tr>\n",
       "  </thead>\n",
       "  <tbody>\n",
       "    <tr>\n",
       "      <th>0</th>\n",
       "      <td>2001-01-01</td>\n",
       "      <td>15.454666</td>\n",
       "      <td>1366.010010</td>\n",
       "      <td>4.84</td>\n",
       "      <td>28.700001</td>\n",
       "    </tr>\n",
       "    <tr>\n",
       "      <th>1</th>\n",
       "      <td>2001-02-01</td>\n",
       "      <td>15.411097</td>\n",
       "      <td>1239.939941</td>\n",
       "      <td>4.72</td>\n",
       "      <td>27.420000</td>\n",
       "    </tr>\n",
       "    <tr>\n",
       "      <th>2</th>\n",
       "      <td>2001-03-01</td>\n",
       "      <td>15.582887</td>\n",
       "      <td>1160.329956</td>\n",
       "      <td>4.18</td>\n",
       "      <td>26.400000</td>\n",
       "    </tr>\n",
       "    <tr>\n",
       "      <th>3</th>\n",
       "      <td>2001-04-01</td>\n",
       "      <td>16.336536</td>\n",
       "      <td>1249.459961</td>\n",
       "      <td>3.83</td>\n",
       "      <td>26.400000</td>\n",
       "    </tr>\n",
       "    <tr>\n",
       "      <th>4</th>\n",
       "      <td>2001-05-01</td>\n",
       "      <td>13.631827</td>\n",
       "      <td>1255.819946</td>\n",
       "      <td>3.54</td>\n",
       "      <td>28.370001</td>\n",
       "    </tr>\n",
       "  </tbody>\n",
       "</table>\n",
       "</div>"
      ],
      "text/plain": [
       "         date       ford        sandp  ustb3m        oil\n",
       "0  2001-01-01  15.454666  1366.010010    4.84  28.700001\n",
       "1  2001-02-01  15.411097  1239.939941    4.72  27.420000\n",
       "2  2001-03-01  15.582887  1160.329956    4.18  26.400000\n",
       "3  2001-04-01  16.336536  1249.459961    3.83  26.400000\n",
       "4  2001-05-01  13.631827  1255.819946    3.54  28.370001"
      ]
     },
     "execution_count": 42,
     "metadata": {},
     "output_type": "execute_result"
    }
   ],
   "source": [
    "df.head()"
   ]
  },
  {
   "cell_type": "markdown",
   "metadata": {},
   "source": [
    "<span style='line-height:1.5;font-size: 17px;font-family:\"Times New Roman\"'>\n",
    "\n",
    "\n",
    "La base de données contient 5 variables à fréquence mensuelle, de janvier 2001 à mai 2021 (245 observations) :\n",
    "- `date` qui contient les dates\n",
    "- `ford` qui contient l'indice des prix de l'actif de l'entreprise Ford\n",
    "- `sandp` qui contient l'indice des prix du marché (indice S&P 500)\n",
    "- `ustb3m` qui contient l'indice des bons du trésor américain à 3 mois (proxy pour le taux d'intérêt sans risque)\n",
    "- `oil` contient l'indice des prix du pétrole \n",
    "\n",
    "<hr style=\" border: .5px solid black;\">\n",
    "\n",
    "3. Calculer les différentes variables suivantes :\n",
    "    - $rsandp_t = 100 \\times (sandp_t / sandp_{t-1} - 1)$\n",
    "    - $rford_t = 100 \\times (ford_t / ford_{t-1} - 1)$\n",
    "    - $roil = 100 \\times (oil_t / oil_{t-1} - 1)$\n",
    "    - $ersandp = rsandp - ustb3m$\n",
    "    - $erford = rford - ustb3m$\n",
    "\n",
    "\n",
    "\n",
    "Affichez l'entête du dataframe pour vérifier que les variables ont bien été créées. Donnez une interprétation économique de ces variables. \n",
    "\n",
    "<br>\n",
    "\n",
    "_Note_ : \n",
    "- pour rappel, créer une nouvelle variable dans un dataframe à partir d'une variable déjà contenue par ce dataframe se fait comme suit (par exemple la différence entre deux var `X_1` et `X_2`),\n",
    "\n",
    "`df[ \" nom_de_la_nouvelle_var \" ] = df[ \" X_1 \" ] - df[ \" X_2 \" ]`\n",
    "\n",
    "- pour avoir une variable décalée d'une période (en `t-1`, on utilise la fonction `.shft(-1)`) :\n",
    "\n",
    "`df[ \"X\" ].shift(1)`\n",
    "\n",
    "\n",
    "</span> "
   ]
  },
  {
   "cell_type": "code",
   "execution_count": 43,
   "metadata": {},
   "outputs": [],
   "source": [
    "df[\"rsandp\"] = 100 * ( df[\"sandp\"]/df[\"sandp\"].shift(1) - 1 )\n",
    "df[\"rford\"] = 100 * ( df[\"ford\"]/df[\"ford\"].shift(1) - 1 )\n",
    "\n",
    "\n",
    "df[\"roil\"] = 100 * ( df[\"oil\"]/df[\"oil\"].shift(1) - 1 )\n",
    "\n",
    "\n",
    "df[\"ersandp\"] = df[\"rsandp\"] - df[\"ustb3m\"]\n",
    "df[\"erford\"] = df[\"rford\"] - df[\"ustb3m\"]"
   ]
  },
  {
   "cell_type": "code",
   "execution_count": 44,
   "metadata": {},
   "outputs": [
    {
     "data": {
      "text/html": [
       "<div>\n",
       "<style scoped>\n",
       "    .dataframe tbody tr th:only-of-type {\n",
       "        vertical-align: middle;\n",
       "    }\n",
       "\n",
       "    .dataframe tbody tr th {\n",
       "        vertical-align: top;\n",
       "    }\n",
       "\n",
       "    .dataframe thead th {\n",
       "        text-align: right;\n",
       "    }\n",
       "</style>\n",
       "<table border=\"1\" class=\"dataframe\">\n",
       "  <thead>\n",
       "    <tr style=\"text-align: right;\">\n",
       "      <th></th>\n",
       "      <th>date</th>\n",
       "      <th>ford</th>\n",
       "      <th>sandp</th>\n",
       "      <th>ustb3m</th>\n",
       "      <th>oil</th>\n",
       "      <th>rsandp</th>\n",
       "      <th>rford</th>\n",
       "      <th>roil</th>\n",
       "      <th>ersandp</th>\n",
       "      <th>erford</th>\n",
       "    </tr>\n",
       "  </thead>\n",
       "  <tbody>\n",
       "    <tr>\n",
       "      <th>0</th>\n",
       "      <td>2001-01-01</td>\n",
       "      <td>15.454666</td>\n",
       "      <td>1366.010010</td>\n",
       "      <td>4.84</td>\n",
       "      <td>28.700001</td>\n",
       "      <td>NaN</td>\n",
       "      <td>NaN</td>\n",
       "      <td>NaN</td>\n",
       "      <td>NaN</td>\n",
       "      <td>NaN</td>\n",
       "    </tr>\n",
       "    <tr>\n",
       "      <th>1</th>\n",
       "      <td>2001-02-01</td>\n",
       "      <td>15.411097</td>\n",
       "      <td>1239.939941</td>\n",
       "      <td>4.72</td>\n",
       "      <td>27.420000</td>\n",
       "      <td>-9.229074</td>\n",
       "      <td>-0.281915</td>\n",
       "      <td>-4.459934</td>\n",
       "      <td>-13.949074</td>\n",
       "      <td>-5.001915</td>\n",
       "    </tr>\n",
       "    <tr>\n",
       "      <th>2</th>\n",
       "      <td>2001-03-01</td>\n",
       "      <td>15.582887</td>\n",
       "      <td>1160.329956</td>\n",
       "      <td>4.18</td>\n",
       "      <td>26.400000</td>\n",
       "      <td>-6.420471</td>\n",
       "      <td>1.114716</td>\n",
       "      <td>-3.719912</td>\n",
       "      <td>-10.600471</td>\n",
       "      <td>-3.065284</td>\n",
       "    </tr>\n",
       "    <tr>\n",
       "      <th>3</th>\n",
       "      <td>2001-04-01</td>\n",
       "      <td>16.336536</td>\n",
       "      <td>1249.459961</td>\n",
       "      <td>3.83</td>\n",
       "      <td>26.400000</td>\n",
       "      <td>7.681436</td>\n",
       "      <td>4.836389</td>\n",
       "      <td>0.000000</td>\n",
       "      <td>3.851436</td>\n",
       "      <td>1.006389</td>\n",
       "    </tr>\n",
       "    <tr>\n",
       "      <th>4</th>\n",
       "      <td>2001-05-01</td>\n",
       "      <td>13.631827</td>\n",
       "      <td>1255.819946</td>\n",
       "      <td>3.54</td>\n",
       "      <td>28.370001</td>\n",
       "      <td>0.509019</td>\n",
       "      <td>-16.556196</td>\n",
       "      <td>7.462125</td>\n",
       "      <td>-3.030981</td>\n",
       "      <td>-20.096196</td>\n",
       "    </tr>\n",
       "  </tbody>\n",
       "</table>\n",
       "</div>"
      ],
      "text/plain": [
       "         date       ford        sandp  ustb3m        oil    rsandp      rford  \\\n",
       "0  2001-01-01  15.454666  1366.010010    4.84  28.700001       NaN        NaN   \n",
       "1  2001-02-01  15.411097  1239.939941    4.72  27.420000 -9.229074  -0.281915   \n",
       "2  2001-03-01  15.582887  1160.329956    4.18  26.400000 -6.420471   1.114716   \n",
       "3  2001-04-01  16.336536  1249.459961    3.83  26.400000  7.681436   4.836389   \n",
       "4  2001-05-01  13.631827  1255.819946    3.54  28.370001  0.509019 -16.556196   \n",
       "\n",
       "       roil    ersandp     erford  \n",
       "0       NaN        NaN        NaN  \n",
       "1 -4.459934 -13.949074  -5.001915  \n",
       "2 -3.719912 -10.600471  -3.065284  \n",
       "3  0.000000   3.851436   1.006389  \n",
       "4  7.462125  -3.030981 -20.096196  "
      ]
     },
     "execution_count": 44,
     "metadata": {},
     "output_type": "execute_result"
    }
   ],
   "source": [
    "df.head()"
   ]
  },
  {
   "cell_type": "markdown",
   "metadata": {},
   "source": [
    "<span style='line-height:1.5;font-size: 17px;font-family:\"Times New Roman\"'>\n",
    "\n",
    "\n",
    "\n",
    "Interprétation des variables crées : voir séance 2, nous avons créé les taux de croissance (rendements) et purgé du taux sans risque. \n",
    "\n",
    "\n",
    "\n",
    "\n",
    "</span> "
   ]
  },
  {
   "cell_type": "markdown",
   "metadata": {},
   "source": [
    "<span style='line-height:1.5;font-size: 17px;font-family:\"Times New Roman\"'>\n",
    "\n",
    "<hr style=\" border: .5px solid black;\">\n",
    "\n",
    "4. Exécutez la cellule suivante, puis affichez l'entête du dataframe. Commentez.\n",
    "\n",
    "\n",
    "\n",
    "\n",
    "</span> "
   ]
  },
  {
   "cell_type": "code",
   "execution_count": 45,
   "metadata": {},
   "outputs": [],
   "source": [
    "l_crisis = []\n",
    "date_crisis = [\"2007-07-01\",\"2007-08-01\",\"2007-09-01\",\"2007-10-01\",\"2007-11-01\",\"2007-12-01\"]\n",
    "for i in df.date : \n",
    "    if i in date_crisis :\n",
    "        l_crisis.append(1)\n",
    "    else : \n",
    "        l_crisis.append(0)\n",
    "\n",
    "        \n",
    "        \n",
    "l_covid = []\n",
    "date_covid = [\"2020-01-01\",\"2020-02-01\",\"2020-03-01\",\"2020-04-01\",\"2020-05-01\",\"2020-06-01\"]\n",
    "for i in df.date : \n",
    "    if i in date_covid :\n",
    "        l_covid.append(1)\n",
    "    else : \n",
    "        l_covid.append(0) \n",
    "        \n",
    "df[\"d_crisis\"] = l_crisis\n",
    "df[\"d_covid\"] = l_covid"
   ]
  },
  {
   "cell_type": "code",
   "execution_count": 46,
   "metadata": {},
   "outputs": [
    {
     "data": {
      "text/html": [
       "<div>\n",
       "<style scoped>\n",
       "    .dataframe tbody tr th:only-of-type {\n",
       "        vertical-align: middle;\n",
       "    }\n",
       "\n",
       "    .dataframe tbody tr th {\n",
       "        vertical-align: top;\n",
       "    }\n",
       "\n",
       "    .dataframe thead th {\n",
       "        text-align: right;\n",
       "    }\n",
       "</style>\n",
       "<table border=\"1\" class=\"dataframe\">\n",
       "  <thead>\n",
       "    <tr style=\"text-align: right;\">\n",
       "      <th></th>\n",
       "      <th>date</th>\n",
       "      <th>ford</th>\n",
       "      <th>sandp</th>\n",
       "      <th>ustb3m</th>\n",
       "      <th>oil</th>\n",
       "      <th>rsandp</th>\n",
       "      <th>rford</th>\n",
       "      <th>roil</th>\n",
       "      <th>ersandp</th>\n",
       "      <th>erford</th>\n",
       "      <th>d_crisis</th>\n",
       "      <th>d_covid</th>\n",
       "    </tr>\n",
       "  </thead>\n",
       "  <tbody>\n",
       "    <tr>\n",
       "      <th>0</th>\n",
       "      <td>2001-01-01</td>\n",
       "      <td>15.454666</td>\n",
       "      <td>1366.010010</td>\n",
       "      <td>4.84</td>\n",
       "      <td>28.700001</td>\n",
       "      <td>NaN</td>\n",
       "      <td>NaN</td>\n",
       "      <td>NaN</td>\n",
       "      <td>NaN</td>\n",
       "      <td>NaN</td>\n",
       "      <td>0</td>\n",
       "      <td>0</td>\n",
       "    </tr>\n",
       "    <tr>\n",
       "      <th>1</th>\n",
       "      <td>2001-02-01</td>\n",
       "      <td>15.411097</td>\n",
       "      <td>1239.939941</td>\n",
       "      <td>4.72</td>\n",
       "      <td>27.420000</td>\n",
       "      <td>-9.229074</td>\n",
       "      <td>-0.281915</td>\n",
       "      <td>-4.459934</td>\n",
       "      <td>-13.949074</td>\n",
       "      <td>-5.001915</td>\n",
       "      <td>0</td>\n",
       "      <td>0</td>\n",
       "    </tr>\n",
       "    <tr>\n",
       "      <th>2</th>\n",
       "      <td>2001-03-01</td>\n",
       "      <td>15.582887</td>\n",
       "      <td>1160.329956</td>\n",
       "      <td>4.18</td>\n",
       "      <td>26.400000</td>\n",
       "      <td>-6.420471</td>\n",
       "      <td>1.114716</td>\n",
       "      <td>-3.719912</td>\n",
       "      <td>-10.600471</td>\n",
       "      <td>-3.065284</td>\n",
       "      <td>0</td>\n",
       "      <td>0</td>\n",
       "    </tr>\n",
       "    <tr>\n",
       "      <th>3</th>\n",
       "      <td>2001-04-01</td>\n",
       "      <td>16.336536</td>\n",
       "      <td>1249.459961</td>\n",
       "      <td>3.83</td>\n",
       "      <td>26.400000</td>\n",
       "      <td>7.681436</td>\n",
       "      <td>4.836389</td>\n",
       "      <td>0.000000</td>\n",
       "      <td>3.851436</td>\n",
       "      <td>1.006389</td>\n",
       "      <td>0</td>\n",
       "      <td>0</td>\n",
       "    </tr>\n",
       "    <tr>\n",
       "      <th>4</th>\n",
       "      <td>2001-05-01</td>\n",
       "      <td>13.631827</td>\n",
       "      <td>1255.819946</td>\n",
       "      <td>3.54</td>\n",
       "      <td>28.370001</td>\n",
       "      <td>0.509019</td>\n",
       "      <td>-16.556196</td>\n",
       "      <td>7.462125</td>\n",
       "      <td>-3.030981</td>\n",
       "      <td>-20.096196</td>\n",
       "      <td>0</td>\n",
       "      <td>0</td>\n",
       "    </tr>\n",
       "  </tbody>\n",
       "</table>\n",
       "</div>"
      ],
      "text/plain": [
       "         date       ford        sandp  ustb3m        oil    rsandp      rford  \\\n",
       "0  2001-01-01  15.454666  1366.010010    4.84  28.700001       NaN        NaN   \n",
       "1  2001-02-01  15.411097  1239.939941    4.72  27.420000 -9.229074  -0.281915   \n",
       "2  2001-03-01  15.582887  1160.329956    4.18  26.400000 -6.420471   1.114716   \n",
       "3  2001-04-01  16.336536  1249.459961    3.83  26.400000  7.681436   4.836389   \n",
       "4  2001-05-01  13.631827  1255.819946    3.54  28.370001  0.509019 -16.556196   \n",
       "\n",
       "       roil    ersandp     erford  d_crisis  d_covid  \n",
       "0       NaN        NaN        NaN         0        0  \n",
       "1 -4.459934 -13.949074  -5.001915         0        0  \n",
       "2 -3.719912 -10.600471  -3.065284         0        0  \n",
       "3  0.000000   3.851436   1.006389         0        0  \n",
       "4  7.462125  -3.030981 -20.096196         0        0  "
      ]
     },
     "execution_count": 46,
     "metadata": {},
     "output_type": "execute_result"
    }
   ],
   "source": [
    "df.head()"
   ]
  },
  {
   "cell_type": "markdown",
   "metadata": {},
   "source": [
    "<span style='line-height:1.5;font-size: 17px;font-family:\"Times New Roman\"'>\n",
    "\n",
    "Nous remarquons que deux colonnes ont été créées : \n",
    "    \n",
    "- `d_crisis` qui contient une variable indicatrice pour la crise (de juillet 2007 à janvier 2008). Elle vaut donc 0 à toutes les périodes sauf pendant la crise.\n",
    "- `d_covid`, également une dummy : elle vaut 0 pour toutes les périodes sauf pour le début de la pandémie (de janvier à juin 2020).\n",
    "    \n",
    "On pourra remarquer que le choix des dates est plus ou moins \"arbitraire\". On essaye de se caler sur un moment où le marché à été impacté de façon importante. \n",
    "    \n",
    "    \n",
    "    \n",
    "<hr style=\" border: .5px solid black;\">\n",
    "\n",
    "5. Nous avons déjà étudier un certain nombre de statistiques descriptives à la séance précédente. Nous complétons cette analyse en étudiant les graphiques associés à la variable `oil`: \n",
    "- Faites un graphique ligne de la variable `oil` (en niveau et en taux de croissance).\n",
    "- Faites un graphique en nuage de points entre `oil` et la variable expliquée (en rendement)\n",
    "\n",
    "</span> "
   ]
  },
  {
   "cell_type": "code",
   "execution_count": 47,
   "metadata": {},
   "outputs": [
    {
     "data": {
      "text/plain": [
       "<Axes: title={'center': 'Evolution du prix du pétrole'}, xlabel='date'>"
      ]
     },
     "execution_count": 47,
     "metadata": {},
     "output_type": "execute_result"
    },
    {
     "data": {
      "image/png": "[encoded data removed]",
      "text/plain": [
       "<Figure size 640x480 with 1 Axes>"
      ]
     },
     "metadata": {},
     "output_type": "display_data"
    }
   ],
   "source": [
    "# en niveau\n",
    "# ustb3m avec les options\n",
    "df.plot(x = \"date\",y=\"oil\", title=\"Evolution du prix du pétrole\", legend=True)"
   ]
  },
  {
   "cell_type": "code",
   "execution_count": 48,
   "metadata": {},
   "outputs": [
    {
     "data": {
      "text/plain": [
       "<Axes: title={'center': 'Evolution du rendement du pétrole'}, xlabel='date'>"
      ]
     },
     "execution_count": 48,
     "metadata": {},
     "output_type": "execute_result"
    },
    {
     "data": {
      "image/png": "[encoded data removed]",
      "text/plain": [
       "<Figure size 640x480 with 1 Axes>"
      ]
     },
     "metadata": {},
     "output_type": "display_data"
    }
   ],
   "source": [
    "# en niveau\n",
    "# ustb3m avec les options\n",
    "df.plot(x = \"date\",y=\"roil\", title=\"Evolution du rendement du pétrole\", legend=True)"
   ]
  },
  {
   "cell_type": "code",
   "execution_count": 49,
   "metadata": {},
   "outputs": [
    {
     "data": {
      "text/plain": [
       "<Axes: title={'center': 'erford en fonction de eroil'}, xlabel='roil', ylabel='erford'>"
      ]
     },
     "execution_count": 49,
     "metadata": {},
     "output_type": "execute_result"
    },
    {
     "data": {
      "image/png": "[encoded data removed]",
      "text/plain": [
       "<Figure size 1000x800 with 1 Axes>"
      ]
     },
     "metadata": {},
     "output_type": "display_data"
    }
   ],
   "source": [
    "# Nuage de points avec options \n",
    "df.plot.scatter(x=\"roil\",y=\"erford\", title=\"erford en fonction de eroil\", s=5, figsize=(10,8))\n",
    "#OUTLIER"
   ]
  },
  {
   "cell_type": "markdown",
   "metadata": {},
   "source": [
    "<span style='line-height:1.5;font-size: 17px;font-family:\"Times New Roman\"'>\n",
    "\n",
    "Commentaires :\n",
    "- on remarque que les prix du pétrole ont fortement variés sur la période.\n",
    "\n",
    "<br>\n",
    "\n",
    "- on peut remarquer la présence des crises (fin des années 2000 et covid) sont très visibles. Les variations du pétrole sont particulièrement touchées par la crise du covid (même si \n",
    "\n",
    "<br>\n",
    "\n",
    "- il n'y a pas de relation visible directe entre les rendements sur le marché du pétrole et le rendement de l'actif de Ford. Déjà, ce graphique peut laisser présager d'une faible dépendance de la variable expliquée au pétrole. \n",
    "\n",
    "</span> "
   ]
  },
  {
   "cell_type": "markdown",
   "metadata": {},
   "source": [
    "<span style='line-height:1.5;font-size: 17px;font-family:\"Times New Roman\"'>\n",
    "\n",
    "<hr style=\" border: .5px solid black;\">\n",
    "\n",
    "5. Affichez la matrice des coefficients de corrélation entre les variables. N'incluez dans cette matrice, que la liste des variables du modèle. Commentez.\n",
    "    \n",
    "\n",
    "\n",
    "\n",
    "\n",
    "</span> "
   ]
  },
  {
   "cell_type": "code",
   "execution_count": 50,
   "metadata": {},
   "outputs": [
    {
     "data": {
      "text/html": [
       "<div>\n",
       "<style scoped>\n",
       "    .dataframe tbody tr th:only-of-type {\n",
       "        vertical-align: middle;\n",
       "    }\n",
       "\n",
       "    .dataframe tbody tr th {\n",
       "        vertical-align: top;\n",
       "    }\n",
       "\n",
       "    .dataframe thead th {\n",
       "        text-align: right;\n",
       "    }\n",
       "</style>\n",
       "<table border=\"1\" class=\"dataframe\">\n",
       "  <thead>\n",
       "    <tr style=\"text-align: right;\">\n",
       "      <th></th>\n",
       "      <th>erford</th>\n",
       "      <th>ersandp</th>\n",
       "      <th>roil</th>\n",
       "      <th>d_crisis</th>\n",
       "      <th>d_covid</th>\n",
       "    </tr>\n",
       "  </thead>\n",
       "  <tbody>\n",
       "    <tr>\n",
       "      <th>erford</th>\n",
       "      <td>1.000000</td>\n",
       "      <td>0.548571</td>\n",
       "      <td>0.132862</td>\n",
       "      <td>-0.093048</td>\n",
       "      <td>-0.059061</td>\n",
       "    </tr>\n",
       "    <tr>\n",
       "      <th>ersandp</th>\n",
       "      <td>0.548571</td>\n",
       "      <td>1.000000</td>\n",
       "      <td>0.195503</td>\n",
       "      <td>-0.114105</td>\n",
       "      <td>-0.004164</td>\n",
       "    </tr>\n",
       "    <tr>\n",
       "      <th>roil</th>\n",
       "      <td>0.132862</td>\n",
       "      <td>0.195503</td>\n",
       "      <td>1.000000</td>\n",
       "      <td>0.063149</td>\n",
       "      <td>0.036325</td>\n",
       "    </tr>\n",
       "    <tr>\n",
       "      <th>d_crisis</th>\n",
       "      <td>-0.093048</td>\n",
       "      <td>-0.114105</td>\n",
       "      <td>0.063149</td>\n",
       "      <td>1.000000</td>\n",
       "      <td>-0.025105</td>\n",
       "    </tr>\n",
       "    <tr>\n",
       "      <th>d_covid</th>\n",
       "      <td>-0.059061</td>\n",
       "      <td>-0.004164</td>\n",
       "      <td>0.036325</td>\n",
       "      <td>-0.025105</td>\n",
       "      <td>1.000000</td>\n",
       "    </tr>\n",
       "  </tbody>\n",
       "</table>\n",
       "</div>"
      ],
      "text/plain": [
       "            erford   ersandp      roil  d_crisis   d_covid\n",
       "erford    1.000000  0.548571  0.132862 -0.093048 -0.059061\n",
       "ersandp   0.548571  1.000000  0.195503 -0.114105 -0.004164\n",
       "roil      0.132862  0.195503  1.000000  0.063149  0.036325\n",
       "d_crisis -0.093048 -0.114105  0.063149  1.000000 -0.025105\n",
       "d_covid  -0.059061 -0.004164  0.036325 -0.025105  1.000000"
      ]
     },
     "execution_count": 50,
     "metadata": {},
     "output_type": "execute_result"
    }
   ],
   "source": [
    "# rford simple\n",
    "df[[\"erford\",\"ersandp\",\"roil\",\"d_crisis\",\"d_covid\"]].corr()"
   ]
  },
  {
   "cell_type": "markdown",
   "metadata": {},
   "source": [
    "<span style='line-height:1.5;font-size: 17px;font-family:\"Times New Roman\"'>\n",
    "\n",
    "Commentaires :\n",
    "- On regarde d'une part les corrélations linéaires entre les variables explicatives et la variable expliquée.\n",
    "    - positif et fort pour le rendement espéré de SP500\n",
    "    - positif mais plus faible pour le pétrole (consistent avec le commentaire sur le nuage de points)\n",
    "    - négatif pour les deux dummy : normalement, on évite de regarder une corrélation linéaire entre une dummy et une variable mais là, nous pouvons voir qu'il semblerait y avoir une relation négative ce qui n'est pas inintéressant : pendant les périodes de crise et de covid, l'indice de ford semble avoir eu des taux de croissance négatifs. \n",
    "    \n",
    "- On peut ensuite regarder les coefficients entre les variables explicatives : l'idée ici est de se faire une idée quant à la potentielle présence de multicolinéarité. S'il en est, elle devrait être entre le rendement du SP500 et celui du prix du pétrole. \n",
    "\n",
    "</span> "
   ]
  },
  {
   "cell_type": "markdown",
   "metadata": {},
   "source": [
    "<span style='line-height:1.5;font-size: 17px;font-family:\"Times New Roman\"'>\n",
    "\n",
    "<hr style=\" border: .5px solid black;\">\n",
    "\n",
    "6. Pour savoir si l'introduction de nouvelles variables dans le modèle l'a amélioré, il nous faut les résultats du modèle sans ces nouvelles variables. Estimez le modèle initial : \n",
    "    \n",
    "    \n",
    "$$E(R_i) - r =  \\alpha + \\beta_1 \\times (E(R_m) - r) + \\epsilon$$\n",
    "    \n",
    "    \n",
    "Dans la mesure où nous avions repéré la semaine dernière, la présence d'hétéroscédasticité et d'autocorrélation, nous procèderons directement à une estimation corrigée pour ces deux problèmes. \n",
    "\n",
    "_Note_:\n",
    "    \n",
    "- importez le package adéquat\n",
    "- n'oubliez pas d'ajouter une constante dans le modèle\n",
    "- utilisez la fonction suivante pour obtenir les résultats robustes aux problèmes identifiés : `.get_robustcov_results(cov_type='HAC', maxlags=10)`\n",
    "    \n",
    "</span> "
   ]
  },
  {
   "cell_type": "code",
   "execution_count": 51,
   "metadata": {},
   "outputs": [],
   "source": [
    "import statsmodels.api as sm"
   ]
  },
  {
   "cell_type": "code",
   "execution_count": 52,
   "metadata": {},
   "outputs": [
    {
     "name": "stdout",
     "output_type": "stream",
     "text": [
      "                            OLS Regression Results                            \n",
      "==============================================================================\n",
      "Dep. Variable:                 erford   R-squared:                       0.301\n",
      "Model:                            OLS   Adj. R-squared:                  0.298\n",
      "Method:                 Least Squares   F-statistic:                     104.2\n",
      "Date:                Thu, 17 Oct 2024   Prob (F-statistic):           1.42e-20\n",
      "Time:                        00:25:10   Log-Likelihood:                -951.59\n",
      "No. Observations:                 244   AIC:                             1907.\n",
      "Df Residuals:                     242   BIC:                             1914.\n",
      "Df Model:                           1                                         \n",
      "Covariance Type:            nonrobust                                         \n",
      "==============================================================================\n",
      "                 coef    std err          t      P>|t|      [0.025      0.975]\n",
      "------------------------------------------------------------------------------\n",
      "const          0.7841      0.778      1.008      0.314      -0.748       2.316\n",
      "ersandp        1.6718      0.164     10.207      0.000       1.349       1.994\n",
      "==============================================================================\n",
      "Omnibus:                      234.681   Durbin-Watson:                   2.214\n",
      "Prob(Omnibus):                  0.000   Jarque-Bera (JB):             9390.427\n",
      "Skew:                           3.610   Prob(JB):                         0.00\n",
      "Kurtosis:                      32.521   Cond. No.                         4.81\n",
      "==============================================================================\n",
      "\n",
      "Notes:\n",
      "[1] Standard Errors assume that the covariance matrix of the errors is correctly specified.\n"
     ]
    }
   ],
   "source": [
    "X = df[\"ersandp\"].dropna()\n",
    "X = sm.add_constant(X)\n",
    "\n",
    "y = df[\"erford\"].dropna()\n",
    "\n",
    "modele = sm.OLS(y,X)\n",
    "\n",
    "resultats = modele.fit()\n",
    "\n",
    "print(resultats.summary())"
   ]
  },
  {
   "cell_type": "code",
   "execution_count": 53,
   "metadata": {},
   "outputs": [
    {
     "name": "stdout",
     "output_type": "stream",
     "text": [
      "                            OLS Regression Results                            \n",
      "==============================================================================\n",
      "Dep. Variable:                 erford   R-squared:                       0.301\n",
      "Model:                            OLS   Adj. R-squared:                  0.298\n",
      "Method:                 Least Squares   F-statistic:                     48.72\n",
      "Date:                Thu, 17 Oct 2024   Prob (F-statistic):           2.82e-11\n",
      "Time:                        00:25:11   Log-Likelihood:                -951.59\n",
      "No. Observations:                 244   AIC:                             1907.\n",
      "Df Residuals:                     242   BIC:                             1914.\n",
      "Df Model:                           1                                         \n",
      "Covariance Type:                  HAC                                         \n",
      "==============================================================================\n",
      "                 coef    std err          t      P>|t|      [0.025      0.975]\n",
      "------------------------------------------------------------------------------\n",
      "const          0.7841      0.897      0.874      0.383      -0.982       2.551\n",
      "ersandp        1.6718      0.240      6.980      0.000       1.200       2.144\n",
      "==============================================================================\n",
      "Omnibus:                      234.681   Durbin-Watson:                   2.214\n",
      "Prob(Omnibus):                  0.000   Jarque-Bera (JB):             9390.427\n",
      "Skew:                           3.610   Prob(JB):                         0.00\n",
      "Kurtosis:                      32.521   Cond. No.                         4.81\n",
      "==============================================================================\n",
      "\n",
      "Notes:\n",
      "[1] Standard Errors are heteroscedasticity and autocorrelation robust (HAC) using 10 lags and without small sample correction\n"
     ]
    }
   ],
   "source": [
    "resultat_robust = resultats.get_robustcov_results(cov_type='HAC', maxlags=10)\n",
    "print(resultat_robust.summary())"
   ]
  },
  {
   "cell_type": "markdown",
   "metadata": {},
   "source": [
    "<span style='line-height:1.5;font-size: 17px;font-family:\"Times New Roman\"'>\n",
    "\n",
    "Commentaires :\n",
    "- on remarque que l'option \"HAC\" permet de mener une correction de la matrice de variance-covariance de l'erreur à la Newey-West\n",
    "- cette correction semble avoir modifié les écarts-types des estimateurs (à la hausse ce qui est normal puisque l'hétéroscédasticité et l'autocorrélation ont tendance à mener à sous-estimer la variance des estimateurs). \n",
    "- on pourra rappeler que ces deux problèmes sont un soucis dans la mesure où ils entrainent un estimateur erroné de la matrice de variance-covariance des erreurs, ce qui fausse l'inférence statistique (c a d les tests de significativité). \n",
    "</span> "
   ]
  },
  {
   "cell_type": "markdown",
   "metadata": {},
   "source": [
    "<span style='line-height:1.5;font-size: 17px;font-family:\"Times New Roman\"'>\n",
    "\n",
    "<hr style=\" border: .5px solid black;\">\n",
    "\n",
    "7. Estimez désormais le modèle étdendu (avec toutes les variables explicatives). Comparez les modèles. \n",
    "\n",
    "\n",
    "\n",
    "</span> "
   ]
  },
  {
   "cell_type": "code",
   "execution_count": 54,
   "metadata": {},
   "outputs": [
    {
     "name": "stdout",
     "output_type": "stream",
     "text": [
      "                            OLS Regression Results                            \n",
      "==============================================================================\n",
      "Dep. Variable:                 erford   R-squared:                       0.306\n",
      "Model:                            OLS   Adj. R-squared:                  0.295\n",
      "Method:                 Least Squares   F-statistic:                     26.37\n",
      "Date:                Thu, 17 Oct 2024   Prob (F-statistic):           4.03e-18\n",
      "Time:                        00:25:11   Log-Likelihood:                -950.67\n",
      "No. Observations:                 244   AIC:                             1911.\n",
      "Df Residuals:                     239   BIC:                             1929.\n",
      "Df Model:                           4                                         \n",
      "Covariance Type:            nonrobust                                         \n",
      "==============================================================================\n",
      "                 coef    std err          t      P>|t|      [0.025      0.975]\n",
      "------------------------------------------------------------------------------\n",
      "const          0.9343      0.801      1.167      0.245      -0.643       2.512\n",
      "ersandp        1.6397      0.169      9.710      0.000       1.307       1.972\n",
      "roil           0.0405      0.070      0.580      0.562      -0.097       0.178\n",
      "d_crisis      -3.2457      5.028     -0.646      0.519     -13.150       6.659\n",
      "d_covid       -5.4344      4.979     -1.091      0.276     -15.244       4.375\n",
      "==============================================================================\n",
      "Omnibus:                      237.294   Durbin-Watson:                   2.237\n",
      "Prob(Omnibus):                  0.000   Jarque-Bera (JB):             9781.267\n",
      "Skew:                           3.664   Prob(JB):                         0.00\n",
      "Kurtosis:                      33.139   Cond. No.                         75.1\n",
      "==============================================================================\n",
      "\n",
      "Notes:\n",
      "[1] Standard Errors assume that the covariance matrix of the errors is correctly specified.\n"
     ]
    }
   ],
   "source": [
    "X = df[[\"ersandp\",\"roil\",\"d_crisis\",\"d_covid\"]].dropna()\n",
    "X = sm.add_constant(X)\n",
    "\n",
    "y = df[\"erford\"].dropna()\n",
    "\n",
    "modele2 = sm.OLS(y,X)\n",
    "\n",
    "resultats2 = modele2.fit()\n",
    "\n",
    "print(resultats2.summary())"
   ]
  },
  {
   "cell_type": "markdown",
   "metadata": {},
   "source": [
    "<span style='line-height:1.5;font-size: 17px;font-family:\"Times New Roman\"'>\n",
    "\n",
    "Commentaires : \n",
    "- Sur le modèle seul : \n",
    "    - on remarque que seul la variable associée au rendement du marché est significative (ce à quoi on pouvait s'attendre pour `oil` toujours en nous basant sur le nuage de point). L'absence d'effet pour les crise est plus étonnant.\n",
    "    - le modèle est globalement significatif\n",
    "- En comparant avec le premier modèle :\n",
    "    - $R^2$ du même ordre. Pour comparer on regarde le coefficient de détermination ajusté (on peut d'ailleurs remarquer que l'introduction de nouvelles variables dans le modèle a naturellement fait grimper le $R^2$ non ajusté).\n",
    "    - les critères d'information AIC et BIC suggèrent aussi que le premier modèle est le meilleur (même s'ils sont très proche).\n",
    "    \n",
    "- Ainsi, si aucun coefficient aujouté n'est significatif et que le modèle n'est pas amélioré en termes de pouvoir explicatif, il n'y a pas de raison de le préserver. Regardons tout de même la présence d'autocorrélation / hétéroscédasticité dans le second modèle.\n",
    "\n",
    "\n",
    "\n",
    "</span> "
   ]
  },
  {
   "cell_type": "markdown",
   "metadata": {},
   "source": [
    "<span style='line-height:1.5;font-size: 17px;font-family:\"Times New Roman\"'>\n",
    "\n",
    "<hr style=\" border: .5px solid black;\">\n",
    "\n",
    "8. Certaines statistiques de test sont données ci-dessous. Interprétez les à partir des liens de tables qui vous sont donnés et concluez. \n",
    "\n",
    "- <a href=\"http://www.sthda.com/french/wiki/table-de-student-ou-table-t\">Tables de Stduent</a>\n",
    "- <a href=\"https://archimede.mat.ulaval.ca/stt1920/STT-1920-Loi-de-Fisher.pdf\">Tables de Fisher</a>\n",
    "- <a href=\"https://who.rocq.inria.fr/Jean-Marc.Lasgouttes/ana-donnees/chi-deux.pdf\">Tables du Chi 2</a>\n",
    "- <a href=\"https://www3.nd.edu/~wevans1/econ30331/Durbin_Watson_tables.pdf\">Tables de Durbin Watson</a>\n",
    "\n",
    "    \n",
    "\n",
    "</span> "
   ]
  },
  {
   "cell_type": "code",
   "execution_count": 55,
   "metadata": {},
   "outputs": [],
   "source": [
    "from statsmodels.stats.diagnostic import het_breuschpagan, het_white\n",
    "from statsmodels.stats.diagnostic import acorr_breusch_godfrey"
   ]
  },
  {
   "cell_type": "code",
   "execution_count": 56,
   "metadata": {},
   "outputs": [],
   "source": [
    "# on récupère le résidu du deuxième modèle\n",
    "residus2 = resultats2.resid"
   ]
  },
  {
   "cell_type": "code",
   "execution_count": 61,
   "metadata": {},
   "outputs": [
    {
     "name": "stdout",
     "output_type": "stream",
     "text": [
      "(4.360177333532576, 0.3594502177621543, 1.0871339862455436, 0.3635046705491478)\n"
     ]
    }
   ],
   "source": [
    "# hétéroscedasticité\n",
    "stat1 = het_breuschpagan(residus2, X)\n",
    "print(stat1)"
   ]
  },
  {
   "cell_type": "code",
   "execution_count": 58,
   "metadata": {},
   "outputs": [
    {
     "name": "stdout",
     "output_type": "stream",
     "text": [
      "(21.899740084724378, 0.025161576899813128, 2.079625784398697, 0.02261425029402803)\n"
     ]
    }
   ],
   "source": [
    "stat2 = het_white(residus2, X)\n",
    "print(stat2)"
   ]
  },
  {
   "cell_type": "code",
   "execution_count": 59,
   "metadata": {},
   "outputs": [
    {
     "name": "stdout",
     "output_type": "stream",
     "text": [
      "(32.15055656033291, 0.0003779461753214761, 3.520863213464839, 0.00023913942966798977)\n"
     ]
    }
   ],
   "source": [
    "stat3 = acorr_breusch_godfrey(resultats, nlags=10)\n",
    "print(stat3)\n",
    "#dihzadhqzjxqj"
   ]
  },
  {
   "cell_type": "code",
   "execution_count": 60,
   "metadata": {},
   "outputs": [
    {
     "ename": "SyntaxError",
     "evalue": "invalid syntax (589756497.py, line 1)",
     "output_type": "error",
     "traceback": [
      "\u001b[1;36m  Cell \u001b[1;32mIn[60], line 1\u001b[1;36m\u001b[0m\n\u001b[1;33m    hjgeqfjkgzeihgsx hsefsdlh\u001b[0m\n\u001b[1;37m                     ^\u001b[0m\n\u001b[1;31mSyntaxError\u001b[0m\u001b[1;31m:\u001b[0m invalid syntax\n"
     ]
    }
   ],
   "source": [
    "hjgeqfjkgzeihgsx hsefsdlh"
   ]
  },
  {
   "cell_type": "markdown",
   "metadata": {},
   "source": [
    "<span style='line-height:1.5;font-size: 17px;font-family:\"Times New Roman\"'>\n",
    "\n",
    "Commentaires : \n",
    "- La première statistique est celle associée au test de Breusch Pagan ($H_0$ : homoscédasticité). Sous l'hypothèse nulle, la statistique suit une loi du Chi2 à $k$ (le nombre de variables explicatives) degré de liberté. La statistiques est donc de $9.48$ pour $4$ variables explicatives et un seuil critique de $5\\%$. Notre statisqitue est donc inférieure à la valeur tabulée et nous ne rejetons pas l'hypothèse nulle d'homoscédasticité.\n",
    "- La deuxième stat : \n",
    "    - test de White\n",
    "    - hypothèse nulle d'homoscédasticité\n",
    "    - stat qui suit une loi du chi 2 à $2k$ degrés de liberté\n",
    "    - la valeur tabulée est de $15.507$\n",
    "    - notre statistique est donc au dessus et nous rejetons cette fois l'hypothèse nulle d'homoscédasticité \n",
    "    \n",
    "- Lorsque deux tests se contredisent, nous retenons le résultats le plus \"pessimiste\" : nous aurons donc présomption d'hétéroscédasticité dans notre modèle.\n",
    "    \n",
    "- La troisième stat :\n",
    "    - test de breusch-godfrey\n",
    "    - hypothèse nulle : absence d'autocorrélation\n",
    "    - nous avons pris un nombre de retards égal à $10$ donc sous l'hypotèse nulle, la statistique suit un chi 2 à $10$ degrés de liberté\n",
    "    - au seuil critique de 5\\%, la valeur tabulée est de $18.307$\n",
    "    - notre statistique est donc au dessus et nous rejetons l'hypothèse nulle d'absence d'autocorrélation.\n",
    "    \n",
    "    \n",
    "<br>\n",
    "    \n",
    "- Conclusion : nous devons procéder à une correction de Newey-West\n",
    "\n",
    "\n",
    "\n",
    "</span> "
   ]
  },
  {
   "cell_type": "markdown",
   "metadata": {},
   "source": [
    "<span style='line-height:1.5;font-size: 17px;font-family:\"Times New Roman\"'>\n",
    "\n",
    "<hr style=\" border: .5px solid black;\">\n",
    "\n",
    "9. Au regard de ce qui vient d'être dit, commentez les deux graphiques ci-dessous :\n",
    "    \n",
    "\n",
    "</span> "
   ]
  },
  {
   "cell_type": "code",
   "execution_count": 31,
   "metadata": {},
   "outputs": [],
   "source": [
    "import matplotlib.pyplot as plt"
   ]
  },
  {
   "cell_type": "code",
   "execution_count": 32,
   "metadata": {},
   "outputs": [
    {
     "ename": "NameError",
     "evalue": "name 'residus2' is not defined",
     "output_type": "error",
     "traceback": [
      "\u001b[1;31m---------------------------------------------------------------------------\u001b[0m",
      "\u001b[1;31mNameError\u001b[0m                                 Traceback (most recent call last)",
      "Cell \u001b[1;32mIn[32], line 1\u001b[0m\n\u001b[1;32m----> 1\u001b[0m plt\u001b[38;5;241m.\u001b[39mplot(residus2)\n",
      "\u001b[1;31mNameError\u001b[0m: name 'residus2' is not defined"
     ]
    }
   ],
   "source": [
    "plt.plot(residus2)"
   ]
  },
  {
   "cell_type": "code",
   "execution_count": 33,
   "metadata": {},
   "outputs": [
    {
     "ename": "NameError",
     "evalue": "name 'resultats2' is not defined",
     "output_type": "error",
     "traceback": [
      "\u001b[1;31m---------------------------------------------------------------------------\u001b[0m",
      "\u001b[1;31mNameError\u001b[0m                                 Traceback (most recent call last)",
      "Cell \u001b[1;32mIn[33], line 1\u001b[0m\n\u001b[1;32m----> 1\u001b[0m ford_chapeau \u001b[38;5;241m=\u001b[39m resultats2\u001b[38;5;241m.\u001b[39mpredict()\n\u001b[0;32m      4\u001b[0m plt\u001b[38;5;241m.\u001b[39mscatter(x\u001b[38;5;241m=\u001b[39mford_chapeau, y\u001b[38;5;241m=\u001b[39mresidus2, s\u001b[38;5;241m=\u001b[39m\u001b[38;5;241m5\u001b[39m )\n",
      "\u001b[1;31mNameError\u001b[0m: name 'resultats2' is not defined"
     ]
    }
   ],
   "source": [
    "ford_chapeau = resultats2.predict()\n",
    "\n",
    "\n",
    "plt.scatter(x=ford_chapeau, y=residus2, s=5 )"
   ]
  },
  {
   "cell_type": "markdown",
   "metadata": {},
   "source": [
    "<span style='line-height:1.5;font-size: 17px;font-family:\"Times New Roman\"'>\n",
    "\n",
    "Commentaires :\n",
    "- l'idée est de repérer ici quelles sont les variables dont on fait le graphique et de comprendre pourquoi.\n",
    "- le premier graphique montre l'évolution dans le temps du résidu issu du deuxième modèle : on peut constater que la variance n'apparait pas constante. Nous avons donc raison d'avoir présomption d'hétéroscédasticité\n",
    "- nou pouvons également constater qu'il y a des \"cluster\" / regroupements dans la volatilité du résidu : cela peut dénoter la présence d'autocorrélation\n",
    "- le second graphique montre un nuage de points entre les valeurs prédites par le modèle pour la variable expliquée et le résidu. Une légère relation décroissante apparait entre les deux. Elle n'est cela étant pas assez forte pour que cela puisse confirmer ni infirmer ce que nous avons précédemment établi.\n",
    "    \n",
    "\n",
    "</span> "
   ]
  },
  {
   "cell_type": "markdown",
   "metadata": {},
   "source": [
    "<span style='line-height:1.5;font-size: 17px;font-family:\"Times New Roman\"'>\n",
    "\n",
    "<hr style=\" border: .5px solid black;\">\n",
    "\n",
    "10. Menez l'estimation appropriée et interprétez.\n",
    "    \n",
    "\n",
    "</span> "
   ]
  },
  {
   "cell_type": "code",
   "execution_count": 34,
   "metadata": {},
   "outputs": [
    {
     "ename": "NameError",
     "evalue": "name 'resultats2' is not defined",
     "output_type": "error",
     "traceback": [
      "\u001b[1;31m---------------------------------------------------------------------------\u001b[0m",
      "\u001b[1;31mNameError\u001b[0m                                 Traceback (most recent call last)",
      "Cell \u001b[1;32mIn[34], line 1\u001b[0m\n\u001b[1;32m----> 1\u001b[0m resultat_robust2 \u001b[38;5;241m=\u001b[39m resultats2\u001b[38;5;241m.\u001b[39mget_robustcov_results(cov_type\u001b[38;5;241m=\u001b[39m\u001b[38;5;124m'\u001b[39m\u001b[38;5;124mHAC\u001b[39m\u001b[38;5;124m'\u001b[39m, maxlags\u001b[38;5;241m=\u001b[39m\u001b[38;5;241m10\u001b[39m)\n\u001b[0;32m      2\u001b[0m \u001b[38;5;28mprint\u001b[39m(resultat_robust2\u001b[38;5;241m.\u001b[39msummary())\n",
      "\u001b[1;31mNameError\u001b[0m: name 'resultats2' is not defined"
     ]
    }
   ],
   "source": [
    "resultat_robust2 = resultats2.get_robustcov_results(cov_type='HAC', maxlags=10)\n",
    "print(resultat_robust2.summary())"
   ]
  },
  {
   "cell_type": "markdown",
   "metadata": {},
   "source": [
    "<span style='line-height:1.5;font-size: 17px;font-family:\"Times New Roman\"'>\n",
    "\n",
    "Commentaires :\n",
    "- Cette fois, les variables dummy sont significatives\n",
    "- La variable du pétrole reste non significative (même si la p-valeur qui lui est associée a diminué).\n",
    "- Il semblerait que les moments de crise ont eu un impact négatif sur la rentabilité espérée de Ford. \n",
    "- Ce modèle apparait donc comme intéressant dans la mesure où il n'est que très peu moins précis que le modèle initial. \n",
    "</span> "
   ]
  },
  {
   "cell_type": "markdown",
   "metadata": {},
   "source": [
    "<span style='line-height:1.5;font-size: 17px;font-family:\"Times New Roman\"'>\n",
    "\n",
    "<hr style=\" border: .5px solid black;\">\n",
    "\n",
    "11. Comentez l'utilité et le résultat du code ci-dessous. \n",
    "\n",
    "</span> "
   ]
  },
  {
   "cell_type": "code",
   "execution_count": 35,
   "metadata": {},
   "outputs": [
    {
     "ename": "NameError",
     "evalue": "name 'X' is not defined",
     "output_type": "error",
     "traceback": [
      "\u001b[1;31m---------------------------------------------------------------------------\u001b[0m",
      "\u001b[1;31mNameError\u001b[0m                                 Traceback (most recent call last)",
      "Cell \u001b[1;32mIn[35], line 1\u001b[0m\n\u001b[1;32m----> 1\u001b[0m df_endo \u001b[38;5;241m=\u001b[39m X[\u001b[38;5;28mlist\u001b[39m(X)[\u001b[38;5;241m1\u001b[39m::]]\n\u001b[0;32m      2\u001b[0m df_endo[\u001b[38;5;124m\"\u001b[39m\u001b[38;5;124mresidus\u001b[39m\u001b[38;5;124m\"\u001b[39m] \u001b[38;5;241m=\u001b[39m residus2\n\u001b[0;32m      5\u001b[0m df_endo\u001b[38;5;241m.\u001b[39mcorr()\n",
      "\u001b[1;31mNameError\u001b[0m: name 'X' is not defined"
     ]
    }
   ],
   "source": [
    "df_endo = X[list(X)[1::]]\n",
    "df_endo[\"residus\"] = residus2\n",
    "\n",
    "\n",
    "df_endo.corr()"
   ]
  },
  {
   "cell_type": "markdown",
   "metadata": {},
   "source": [
    "<span style='line-height:1.5;font-size: 17px;font-family:\"Times New Roman\"'>\n",
    "\n",
    "Commentaires :\n",
    "- On a créé un sous dataframe contenant les varibales explicatives et le résidu.\n",
    "- Nous avons ensuite afficher la table de corrélation de ce dataframe.\n",
    "- Nous nous intéressons donc à la dernière colonne qui établie la corrélation entre les variables explicatives et le résidu.\n",
    "- Nous constatons que ces corrélations sont faibles (très proches de $0$). Cela vient conforter l'une des hypothèses du modèle MCO : \n",
    "    - $X$ est non aléatoire : $E(\\epsilon_t \\vert X) = 0$\n",
    "    - on rappelle que cette hypothèse assure la convergence de l'estimateur.\n",
    "    \n",
    "    \n",
    "</span> "
   ]
  },
  {
   "cell_type": "markdown",
   "metadata": {},
   "source": [
    "<span style='line-height:1.5;font-size: 17px;font-family:\"Times New Roman\"'>\n",
    "\n",
    "<hr style=\" border: .5px solid black;\">\n",
    "\n",
    "12. Interprétez les statistiques suivantes.\n",
    "\n",
    "\n",
    "\n",
    "</span> "
   ]
  },
  {
   "cell_type": "code",
   "execution_count": 36,
   "metadata": {},
   "outputs": [],
   "source": [
    "from statsmodels.stats.outliers_influence import variance_inflation_factor as VIF"
   ]
  },
  {
   "cell_type": "code",
   "execution_count": 37,
   "metadata": {},
   "outputs": [
    {
     "ename": "NameError",
     "evalue": "name 'df' is not defined",
     "output_type": "error",
     "traceback": [
      "\u001b[1;31m---------------------------------------------------------------------------\u001b[0m",
      "\u001b[1;31mNameError\u001b[0m                                 Traceback (most recent call last)",
      "Cell \u001b[1;32mIn[37], line 5\u001b[0m\n\u001b[0;32m      1\u001b[0m l_explicatives \u001b[38;5;241m=\u001b[39m  [\u001b[38;5;124m'\u001b[39m\u001b[38;5;124mersandp\u001b[39m\u001b[38;5;124m'\u001b[39m,\u001b[38;5;124m'\u001b[39m\u001b[38;5;124mroil\u001b[39m\u001b[38;5;124m'\u001b[39m,\u001b[38;5;124m'\u001b[39m\u001b[38;5;124md_crisis\u001b[39m\u001b[38;5;124m'\u001b[39m,\u001b[38;5;124m'\u001b[39m\u001b[38;5;124md_covid\u001b[39m\u001b[38;5;124m'\u001b[39m]\n\u001b[0;32m      4\u001b[0m \u001b[38;5;28;01mfor\u001b[39;00m n,var \u001b[38;5;129;01min\u001b[39;00m \u001b[38;5;28menumerate\u001b[39m(l_explicatives):\n\u001b[1;32m----> 5\u001b[0m     \u001b[38;5;28mprint\u001b[39m(\u001b[38;5;124m'\u001b[39m\u001b[38;5;124mle VIF de la variable\u001b[39m\u001b[38;5;124m'\u001b[39m, var, \u001b[38;5;124m'\u001b[39m\u001b[38;5;124m est : \u001b[39m\u001b[38;5;124m'\u001b[39m,VIF(df[l_explicatives]\u001b[38;5;241m.\u001b[39mdropna()\u001b[38;5;241m.\u001b[39mvalues,n))\n",
      "\u001b[1;31mNameError\u001b[0m: name 'df' is not defined"
     ]
    }
   ],
   "source": [
    "l_explicatives =  ['ersandp','roil','d_crisis','d_covid']\n",
    "\n",
    "\n",
    "for n,var in enumerate(l_explicatives):\n",
    "    print('le VIF de la variable', var, ' est : ',VIF(df[l_explicatives].dropna().values,n))"
   ]
  },
  {
   "cell_type": "markdown",
   "metadata": {},
   "source": [
    "<span style='line-height:1.5;font-size: 17px;font-family:\"Times New Roman\"'>\n",
    "\n",
    "Commentaires :\n",
    "- Nous avons calculé les Variance Inflation Factor de toutes les variables explicatives.\n",
    "- Sans avoir de règle de décision précise, nous pouvons dire qu'avec des VIF inférieur à 2 pour toutes les variables, la présence de multicolinéarité est faible.\n",
    "- L'hypothèse MCO selon laquelle la matrice des variables explicatives $X$ est de plein rang, semble remplie (hypothèse qui assure de pouvoir estimer les paramètres). \n",
    "    \n",
    "    \n",
    "</span> "
   ]
  },
  {
   "cell_type": "markdown",
   "metadata": {},
   "source": [
    "<span style='line-height:1.5;font-size: 17px;font-family:\"Times New Roman\"'>\n",
    "\n",
    "<hr style=\" border: .5px solid black;\">\n",
    "\n",
    "13. La statistique suivante confirme-t-elle ces commentaires ? \n",
    "\n",
    "\n",
    "\n",
    "</span> "
   ]
  },
  {
   "cell_type": "code",
   "execution_count": 38,
   "metadata": {},
   "outputs": [],
   "source": [
    "import numpy as np\n",
    "from numpy.linalg import det"
   ]
  },
  {
   "cell_type": "code",
   "execution_count": 39,
   "metadata": {},
   "outputs": [
    {
     "ename": "NameError",
     "evalue": "name 'df' is not defined",
     "output_type": "error",
     "traceback": [
      "\u001b[1;31m---------------------------------------------------------------------------\u001b[0m",
      "\u001b[1;31mNameError\u001b[0m                                 Traceback (most recent call last)",
      "Cell \u001b[1;32mIn[39], line 1\u001b[0m\n\u001b[1;32m----> 1\u001b[0m D \u001b[38;5;241m=\u001b[39m det(df[l_explicatives]\u001b[38;5;241m.\u001b[39mcorr())\n\u001b[0;32m      4\u001b[0m     \u001b[38;5;66;03m# calcul de la stat : T=244 et k=4\u001b[39;00m\n\u001b[0;32m      5\u001b[0m FG \u001b[38;5;241m=\u001b[39m \u001b[38;5;241m-\u001b[39m(\u001b[38;5;241m244\u001b[39m \u001b[38;5;241m-\u001b[39m (\u001b[38;5;241m1\u001b[39m\u001b[38;5;241m/\u001b[39m\u001b[38;5;241m6\u001b[39m) \u001b[38;5;241m*\u001b[39m (\u001b[38;5;241m2\u001b[39m\u001b[38;5;241m*\u001b[39m(\u001b[38;5;241m4\u001b[39m\u001b[38;5;241m+\u001b[39m\u001b[38;5;241m1\u001b[39m))\u001b[38;5;241m+\u001b[39m\u001b[38;5;241m5\u001b[39m)\u001b[38;5;241m*\u001b[39mnp\u001b[38;5;241m.\u001b[39mlog(D)\n",
      "\u001b[1;31mNameError\u001b[0m: name 'df' is not defined"
     ]
    }
   ],
   "source": [
    "D = det(df[l_explicatives].corr())\n",
    "\n",
    "\n",
    "    # calcul de la stat : T=244 et k=4\n",
    "FG = -(244 - (1/6) * (2*(4+1))+5)*np.log(D)\n",
    "print(FG)"
   ]
  },
  {
   "cell_type": "markdown",
   "metadata": {},
   "source": [
    "<span style='line-height:1.5;font-size: 17px;font-family:\"Times New Roman\"'>\n",
    "\n",
    "Commentaires :\n",
    "- Nous menons ici un test de multicolinéarité de Farrar Glober\n",
    "- Avec une valeur tabulée pour le chi2(1/2 k(k+1)) de 18.307 à 5%, l'hypothèse nulle d'absence de multicolinéarité est rejetée.\n",
    "- Ce test confirme donc nos commentaires précédents. \n",
    "    \n",
    "    \n",
    "</span> "
   ]
  },
  {
   "cell_type": "code",
   "execution_count": null,
   "metadata": {},
   "outputs": [],
   "source": []
  },
  {
   "cell_type": "code",
   "execution_count": null,
   "metadata": {},
   "outputs": [],
   "source": []
  },
  {
   "cell_type": "code",
   "execution_count": null,
   "metadata": {},
   "outputs": [],
   "source": []
  }
 ],
 "metadata": {
  "kernelspec": {
   "display_name": "Python 3 (ipykernel)",
   "language": "python",
   "name": "python3"
  },
  "language_info": {
   "codemirror_mode": {
    "name": "ipython",
    "version": 3
   },
   "file_extension": ".py",
   "mimetype": "text/x-python",
   "name": "python",
   "nbconvert_exporter": "python",
   "pygments_lexer": "ipython3",
   "version": "3.11.4"
  },
  "toc": {
   "base_numbering": 1,
   "nav_menu": {},
   "number_sections": true,
   "sideBar": true,
   "skip_h1_title": false,
   "title_cell": "Table of Contents",
   "title_sidebar": "Contents",
   "toc_cell": false,
   "toc_position": {},
   "toc_section_display": true,
   "toc_window_display": false
  },
  "varInspector": {
   "cols": {
    "lenName": 16,
    "lenType": 16,
    "lenVar": 40
   },
   "kernels_config": {
    "python": {
     "delete_cmd_postfix": "",
     "delete_cmd_prefix": "del ",
     "library": "var_list.py",
     "varRefreshCmd": "print(var_dic_list())"
    },
    "r": {
     "delete_cmd_postfix": ") ",
     "delete_cmd_prefix": "rm(",
     "library": "var_list.r",
     "varRefreshCmd": "cat(var_dic_list()) "
    }
   },
   "types_to_exclude": [
    "module",
    "function",
    "builtin_function_or_method",
    "instance",
    "_Feature"
   ],
   "window_display": false
  }
 },
 "nbformat": 4,
 "nbformat_minor": 4
}
