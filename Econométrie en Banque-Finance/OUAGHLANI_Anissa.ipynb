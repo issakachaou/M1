{
 "cells": [
  {
   "cell_type": "markdown",
   "id": "a5613dbb",
   "metadata": {},
   "source": [
    "<span style='line-height:1.5;font-size: 17px;font-family:\"Times New Roman\"'>\n",
    "\n",
    "\n",
    "<b><center><font size=\"6\">Contrôle continu 2 - Econométrie en finance</font></center></b>\n",
    "    \n",
    "<b><center><font size=\"5\"> Sujet 1</font></center></b>\n",
    "    \n",
    "<g><h7><center> CM - P. Durand  - pierre.durand@u-pec.fr </center></h7></g>\n",
    "\n",
    "<g><h7><center> TD - R.Birem  - abderraouf.birem@u-pec.fr </center></h7></g>\n",
    "\n",
    "\n",
    "<b><center><font size=\"5\">M1 MBFA - 2023/2024</font></center></b> \n",
    "\n",
    "\n",
    "\n",
    "</span>"
   ]
  },
  {
   "cell_type": "markdown",
   "id": "acf0e302",
   "metadata": {},
   "source": [
    "<span style='line-height:1.5;font-size: 17px;font-family:\"Times New Roman\"'>\n",
    "\n",
    "<b><center><font size=\"5\">Veuillez insérer votre Nom, Prénom et Numéro d`étudiant</font></center></b> \n",
    "\n",
    "</span>"
   ]
  },
  {
   "cell_type": "code",
   "execution_count": 1,
   "id": "20f78c57",
   "metadata": {},
   "outputs": [],
   "source": [
    "#Nom : KACHAOU\n",
    "#Prénom : Issa"
   ]
  },
  {
   "cell_type": "code",
   "execution_count": 2,
   "id": "2c5e859c",
   "metadata": {},
   "outputs": [],
   "source": [
    "Num_Etudiant=21905943"
   ]
  },
  {
   "cell_type": "markdown",
   "id": "6dce92d0",
   "metadata": {},
   "source": [
    "<span style='line-height:1.5;font-size: 17px;font-family:\"Times New Roman\"'>\n",
    "\n",
    "\n",
    "\n",
    "Epreuves : \n",
    "    \n",
    "- Le sujet dépendra du numéro que vous insérerez ci-dessous.\n",
    "- Les copies doivent être envoyées par courrier électronique cinq minutes avant la fin du cours à l'adresse abderraouf.birem@u-pec.fr. Chaque minute de retard entraînera une pénalité d'un point.\n",
    "   \n",
    "\n",
    "    \n",
    "    \n",
    "<br>\n",
    "    \n",
    "    \n",
    "\n",
    "\n",
    "</span>"
   ]
  },
  {
   "cell_type": "markdown",
   "id": "4cabb915",
   "metadata": {},
   "source": [
    "<span style='line-height:1.5;font-size: 17px;font-family:\"Times New Roman\"'>\n",
    "\n",
    "<b><center><font size=\"5\">l'exécution des cellules suivantes est obligatoire pour la suite</font></center></b> \n",
    "\n",
    "</span>"
   ]
  },
  {
   "cell_type": "code",
   "execution_count": null,
   "id": "b07f1ee7",
   "metadata": {},
   "outputs": [],
   "source": []
  },
  {
   "cell_type": "code",
   "execution_count": 3,
   "id": "e2795005",
   "metadata": {},
   "outputs": [],
   "source": [
    "Vars = ['Accor', 'Airbus', 'AirLiquide', 'URWestfield', 'Atos', 'BNP',\n",
    "       'Carrefour', 'Capgemini', 'AXA', 'Vinci', 'Dassault', 'Loreal', 'Engie'\n",
    "        , 'SocieteGenerale', 'Thales', 'Kering']"
   ]
  },
  {
   "cell_type": "code",
   "execution_count": 6,
   "id": "02cd1cb2",
   "metadata": {},
   "outputs": [],
   "source": [
    "import random\n",
    "def convert_to_range(number):\n",
    "    if len(str(number)) != 8:\n",
    "        return \n",
    "    random.seed(number)\n",
    "    result = random.randint(0, 15)\n",
    "    return result\n",
    "code = convert_to_range(Num_Etudiant)"
   ]
  },
  {
   "cell_type": "markdown",
   "id": "fc72c969",
   "metadata": {},
   "source": [
    "<span style='line-height:1.5;font-size: 17px;font-family:\"Times New Roman\"'>\n",
    "\n",
    "<b><center><font size=\"5\">Importation des packages</font></center></b> \n",
    "\n",
    "</span>"
   ]
  },
  {
   "cell_type": "code",
   "execution_count": 5,
   "id": "4cc2f406",
   "metadata": {},
   "outputs": [],
   "source": [
    "import pandas as pd"
   ]
  },
  {
   "cell_type": "markdown",
   "id": "0191515f",
   "metadata": {},
   "source": [
    "<span style='line-height:1.5;font-size: 17px;font-family:\"Times New Roman\"'>\n",
    "\n",
    "<b><center><font size=\"5\">Importation des données</font></center></b> \n",
    "\n",
    "</span>"
   ]
  },
  {
   "cell_type": "code",
   "execution_count": 7,
   "id": "964d5e6d",
   "metadata": {},
   "outputs": [],
   "source": [
    "chemin = \"/Users/anissaouaghlani/Desktop/M1 MBFA II/Econométrie/\"\n",
    "df_temp = pd.read_csv(chemin + \"base_cc2.csv\" , sep=';')"
   ]
  },
  {
   "cell_type": "markdown",
   "id": "7119589f",
   "metadata": {},
   "source": [
    "<span style='line-height:1.5;font-size: 17px;font-family:\"Times New Roman\"'>\n",
    "\n",
    "<b><center><font size=\"5\">Générez la base finale pour l'étude en exécutant la prochaine cellule</font></center></b> \n",
    "\n",
    "</span>"
   ]
  },
  {
   "cell_type": "code",
   "execution_count": 9,
   "id": "ff3efa9e",
   "metadata": {},
   "outputs": [
    {
     "data": {
      "text/html": [
       "<div>\n",
       "<style scoped>\n",
       "    .dataframe tbody tr th:only-of-type {\n",
       "        vertical-align: middle;\n",
       "    }\n",
       "\n",
       "    .dataframe tbody tr th {\n",
       "        vertical-align: top;\n",
       "    }\n",
       "\n",
       "    .dataframe thead th {\n",
       "        text-align: right;\n",
       "    }\n",
       "</style>\n",
       "<table border=\"1\" class=\"dataframe\">\n",
       "  <thead>\n",
       "    <tr style=\"text-align: right;\">\n",
       "      <th></th>\n",
       "      <th>Date</th>\n",
       "      <th>CAC40</th>\n",
       "      <th>TxChange</th>\n",
       "      <th>SocieteGenerale</th>\n",
       "    </tr>\n",
       "  </thead>\n",
       "  <tbody>\n",
       "    <tr>\n",
       "      <th>0</th>\n",
       "      <td>2010-01-01</td>\n",
       "      <td>3739.459961</td>\n",
       "      <td>1.387694</td>\n",
       "      <td>20.472494</td>\n",
       "    </tr>\n",
       "    <tr>\n",
       "      <th>1</th>\n",
       "      <td>2010-02-01</td>\n",
       "      <td>3708.800049</td>\n",
       "      <td>1.363791</td>\n",
       "      <td>19.596941</td>\n",
       "    </tr>\n",
       "    <tr>\n",
       "      <th>2</th>\n",
       "      <td>2010-03-01</td>\n",
       "      <td>3974.010010</td>\n",
       "      <td>1.350804</td>\n",
       "      <td>22.587410</td>\n",
       "    </tr>\n",
       "    <tr>\n",
       "      <th>3</th>\n",
       "      <td>2010-04-01</td>\n",
       "      <td>3816.989990</td>\n",
       "      <td>1.329805</td>\n",
       "      <td>19.596941</td>\n",
       "    </tr>\n",
       "    <tr>\n",
       "      <th>4</th>\n",
       "      <td>2010-05-01</td>\n",
       "      <td>3507.560059</td>\n",
       "      <td>1.228788</td>\n",
       "      <td>17.001795</td>\n",
       "    </tr>\n",
       "    <tr>\n",
       "      <th>...</th>\n",
       "      <td>...</td>\n",
       "      <td>...</td>\n",
       "      <td>...</td>\n",
       "      <td>...</td>\n",
       "    </tr>\n",
       "    <tr>\n",
       "      <th>161</th>\n",
       "      <td>2023-06-01</td>\n",
       "      <td>7400.060059</td>\n",
       "      <td>1.086803</td>\n",
       "      <td>23.799999</td>\n",
       "    </tr>\n",
       "    <tr>\n",
       "      <th>162</th>\n",
       "      <td>2023-07-01</td>\n",
       "      <td>7497.779785</td>\n",
       "      <td>1.102426</td>\n",
       "      <td>24.715000</td>\n",
       "    </tr>\n",
       "    <tr>\n",
       "      <th>163</th>\n",
       "      <td>2023-08-01</td>\n",
       "      <td>7316.700195</td>\n",
       "      <td>1.093255</td>\n",
       "      <td>26.215000</td>\n",
       "    </tr>\n",
       "    <tr>\n",
       "      <th>164</th>\n",
       "      <td>2023-09-01</td>\n",
       "      <td>7135.060059</td>\n",
       "      <td>1.058761</td>\n",
       "      <td>23.045000</td>\n",
       "    </tr>\n",
       "    <tr>\n",
       "      <th>165</th>\n",
       "      <td>2023-10-01</td>\n",
       "      <td>6885.649902</td>\n",
       "      <td>1.061504</td>\n",
       "      <td>21.145000</td>\n",
       "    </tr>\n",
       "  </tbody>\n",
       "</table>\n",
       "<p>166 rows × 4 columns</p>\n",
       "</div>"
      ],
      "text/plain": [
       "           Date        CAC40  TxChange  SocieteGenerale\n",
       "0    2010-01-01  3739.459961  1.387694        20.472494\n",
       "1    2010-02-01  3708.800049  1.363791        19.596941\n",
       "2    2010-03-01  3974.010010  1.350804        22.587410\n",
       "3    2010-04-01  3816.989990  1.329805        19.596941\n",
       "4    2010-05-01  3507.560059  1.228788        17.001795\n",
       "..          ...          ...       ...              ...\n",
       "161  2023-06-01  7400.060059  1.086803        23.799999\n",
       "162  2023-07-01  7497.779785  1.102426        24.715000\n",
       "163  2023-08-01  7316.700195  1.093255        26.215000\n",
       "164  2023-09-01  7135.060059  1.058761        23.045000\n",
       "165  2023-10-01  6885.649902  1.061504        21.145000\n",
       "\n",
       "[166 rows x 4 columns]"
      ]
     },
     "execution_count": 9,
     "metadata": {},
     "output_type": "execute_result"
    }
   ],
   "source": [
    "df = df_temp[['Date', 'CAC40', 'TxChange', Vars[code]]]\n",
    "df"
   ]
  },
  {
   "cell_type": "markdown",
   "id": "cac8acad",
   "metadata": {},
   "source": [
    "<span style='line-height:1.5;font-size: 26px;font-family:\"Times New Roman\"'>\n",
    "<hr style=\" border: 2.5px solid black;\">\n",
    "En utilisant la base de données \"df\", effectuez une étude économétrique complète visant à évaluer la rentabilité d'une entreprise française en fonction des fluctuations du taux de change Euro/dollar et de l'évolution de l'indice CAC 40. Mettez en œuvre l'ensemble de vos connaissances acquises durant le semestre. \n",
    "    \n",
    "                                                    Bonne chance\n",
    "\n",
    "<hr style=\" border: 2.5px solid black;\">   \n",
    "    \n",
    "<br>\n",
    "    \n",
    "</span>"
   ]
  },
  {
   "cell_type": "markdown",
   "id": "fa1fc5aa",
   "metadata": {},
   "source": [
    "## Statistiques decriptves "
   ]
  },
  {
   "cell_type": "code",
   "execution_count": 10,
   "id": "4b9c6e71",
   "metadata": {},
   "outputs": [
    {
     "data": {
      "text/html": [
       "<div>\n",
       "<style scoped>\n",
       "    .dataframe tbody tr th:only-of-type {\n",
       "        vertical-align: middle;\n",
       "    }\n",
       "\n",
       "    .dataframe tbody tr th {\n",
       "        vertical-align: top;\n",
       "    }\n",
       "\n",
       "    .dataframe thead th {\n",
       "        text-align: right;\n",
       "    }\n",
       "</style>\n",
       "<table border=\"1\" class=\"dataframe\">\n",
       "  <thead>\n",
       "    <tr style=\"text-align: right;\">\n",
       "      <th></th>\n",
       "      <th>CAC40</th>\n",
       "      <th>TxChange</th>\n",
       "      <th>SocieteGenerale</th>\n",
       "    </tr>\n",
       "  </thead>\n",
       "  <tbody>\n",
       "    <tr>\n",
       "      <th>count</th>\n",
       "      <td>166.000000</td>\n",
       "      <td>166.000000</td>\n",
       "      <td>166.000000</td>\n",
       "    </tr>\n",
       "    <tr>\n",
       "      <th>mean</th>\n",
       "      <td>4928.521876</td>\n",
       "      <td>1.199356</td>\n",
       "      <td>19.646374</td>\n",
       "    </tr>\n",
       "    <tr>\n",
       "      <th>std</th>\n",
       "      <td>1132.559930</td>\n",
       "      <td>0.114769</td>\n",
       "      <td>5.148377</td>\n",
       "    </tr>\n",
       "    <tr>\n",
       "      <th>min</th>\n",
       "      <td>2981.959961</td>\n",
       "      <td>0.982956</td>\n",
       "      <td>8.187415</td>\n",
       "    </tr>\n",
       "    <tr>\n",
       "      <th>25%</th>\n",
       "      <td>4031.934937</td>\n",
       "      <td>1.111775</td>\n",
       "      <td>16.973186</td>\n",
       "    </tr>\n",
       "    <tr>\n",
       "      <th>50%</th>\n",
       "      <td>4796.820068</td>\n",
       "      <td>1.170618</td>\n",
       "      <td>20.427595</td>\n",
       "    </tr>\n",
       "    <tr>\n",
       "      <th>75%</th>\n",
       "      <td>5520.099976</td>\n",
       "      <td>1.304295</td>\n",
       "      <td>23.069016</td>\n",
       "    </tr>\n",
       "    <tr>\n",
       "      <th>max</th>\n",
       "      <td>7497.779785</td>\n",
       "      <td>1.482096</td>\n",
       "      <td>29.882158</td>\n",
       "    </tr>\n",
       "  </tbody>\n",
       "</table>\n",
       "</div>"
      ],
      "text/plain": [
       "             CAC40    TxChange  SocieteGenerale\n",
       "count   166.000000  166.000000       166.000000\n",
       "mean   4928.521876    1.199356        19.646374\n",
       "std    1132.559930    0.114769         5.148377\n",
       "min    2981.959961    0.982956         8.187415\n",
       "25%    4031.934937    1.111775        16.973186\n",
       "50%    4796.820068    1.170618        20.427595\n",
       "75%    5520.099976    1.304295        23.069016\n",
       "max    7497.779785    1.482096        29.882158"
      ]
     },
     "execution_count": 10,
     "metadata": {},
     "output_type": "execute_result"
    }
   ],
   "source": [
    "df.describe()"
   ]
  },
  {
   "cell_type": "markdown",
   "id": "facb4354",
   "metadata": {},
   "source": [
    "- Nous pouvons voir que la moyenne du CAC40 est de 4928,52, ce qui indique le cours moyen de l'indice boursier. La volatilité, reflétée par l'écart type, est de 1132,55, suggérant  une certaine variabilité des 40 actions les plus importantes. \n",
    "- Concernant le taux de change, la moyenne est de 1,19 avec un ecart type de 0,11 ce qui nous informe sur une très faible volatilité\n",
    "- La variable Société Générale, qui est la variable expliquée, a une rentabilité en moyenne de 19,64 avec un écart type de 5,14. Cette volatilité s'explique par la forte volatilité du CAC 40. \n",
    "- Les valeurs minimales (min) et maximales (max) nous donne des informations sur les bornes pour chaque variable. Pour le CAC 40 [7497,7; 2981] alors que pour le taux de change [1,48 ; 0,98]"
   ]
  },
  {
   "cell_type": "code",
   "execution_count": 11,
   "id": "6aaad659",
   "metadata": {},
   "outputs": [
    {
     "name": "stderr",
     "output_type": "stream",
     "text": [
      "/var/folders/sg/frcwz3bs4nqf585cn0brfmjw0000gn/T/ipykernel_1012/1134722465.py:1: FutureWarning: The default value of numeric_only in DataFrame.corr is deprecated. In a future version, it will default to False. Select only valid columns or specify the value of numeric_only to silence this warning.\n",
      "  df.corr()\n"
     ]
    },
    {
     "data": {
      "text/html": [
       "<div>\n",
       "<style scoped>\n",
       "    .dataframe tbody tr th:only-of-type {\n",
       "        vertical-align: middle;\n",
       "    }\n",
       "\n",
       "    .dataframe tbody tr th {\n",
       "        vertical-align: top;\n",
       "    }\n",
       "\n",
       "    .dataframe thead th {\n",
       "        text-align: right;\n",
       "    }\n",
       "</style>\n",
       "<table border=\"1\" class=\"dataframe\">\n",
       "  <thead>\n",
       "    <tr style=\"text-align: right;\">\n",
       "      <th></th>\n",
       "      <th>CAC40</th>\n",
       "      <th>TxChange</th>\n",
       "      <th>SocieteGenerale</th>\n",
       "    </tr>\n",
       "  </thead>\n",
       "  <tbody>\n",
       "    <tr>\n",
       "      <th>CAC40</th>\n",
       "      <td>1.000000</td>\n",
       "      <td>-0.671789</td>\n",
       "      <td>0.503349</td>\n",
       "    </tr>\n",
       "    <tr>\n",
       "      <th>TxChange</th>\n",
       "      <td>-0.671789</td>\n",
       "      <td>1.000000</td>\n",
       "      <td>-0.246643</td>\n",
       "    </tr>\n",
       "    <tr>\n",
       "      <th>SocieteGenerale</th>\n",
       "      <td>0.503349</td>\n",
       "      <td>-0.246643</td>\n",
       "      <td>1.000000</td>\n",
       "    </tr>\n",
       "  </tbody>\n",
       "</table>\n",
       "</div>"
      ],
      "text/plain": [
       "                    CAC40  TxChange  SocieteGenerale\n",
       "CAC40            1.000000 -0.671789         0.503349\n",
       "TxChange        -0.671789  1.000000        -0.246643\n",
       "SocieteGenerale  0.503349 -0.246643         1.000000"
      ]
     },
     "execution_count": 11,
     "metadata": {},
     "output_type": "execute_result"
    }
   ],
   "source": [
    "df.corr()"
   ]
  },
  {
   "cell_type": "markdown",
   "id": "00beec6c",
   "metadata": {},
   "source": [
    "- Le coefficient de corrélation entre le CAC 40 et le taux de change est de -0,671. Cette corrélation négative suggère une relation inverse modérée. Lorsque le cours de l'indice boursier du CAC40 augmente, le taux de change a tendance à diminuer, et vice versa.\n",
    "- Le coefficient entre le CAC40 et l'entreprise financière Societe Generale est de 0,503. Cela suggère une corrélation positive modérée entre ces deux variables, indiquant que, en général, ils ont tendance à évoluer dans la même direction.\n",
    "- Pour finir, le coefficient de corrélation entre le taux de change et societe generale est de -0,246. Encore une fois nous avons une correlation négative entre les 2 variables ce qui nous indiques que lorsque ce que le taux de change augmente, la rentabilité de societe generale baisse. "
   ]
  },
  {
   "cell_type": "markdown",
   "id": "a4d2f79f",
   "metadata": {},
   "source": [
    "## Graphiques"
   ]
  },
  {
   "cell_type": "code",
   "execution_count": 13,
   "id": "44d42d80",
   "metadata": {},
   "outputs": [],
   "source": [
    "from statsmodels.graphics.tsaplots import plot_acf\n",
    "from statsmodels.graphics.tsaplots import plot_pacf\n",
    "\n",
    "import matplotlib.pyplot as plt "
   ]
  },
  {
   "cell_type": "markdown",
   "id": "22b387fc",
   "metadata": {},
   "source": [
    "## Analyse de le stationnarité "
   ]
  },
  {
   "cell_type": "markdown",
   "id": "5061b8c6",
   "metadata": {},
   "source": [
    "Pourquoi faut-il que les séries soient stationnaires ?\n",
    "- Pas de stationnarité ⇒ propriétés asymptotiques non valables (estimateurs à forte variance)\n",
    "- Pas de stationnarité ⇒ possibilité de régressions fallacieuses (cas extrême des : corrélations fallacieuses"
   ]
  },
  {
   "cell_type": "code",
   "execution_count": 15,
   "id": "764d79f3",
   "metadata": {},
   "outputs": [],
   "source": [
    "from statsmodels.tsa.stattools import adfuller"
   ]
  },
  {
   "cell_type": "markdown",
   "id": "2a2093aa",
   "metadata": {},
   "source": [
    "<span style='line-height:1.5;font-size: 17px;font-family:\"Times New Roman\"'>\n",
    "\n",
    "\n",
    "\n",
    "- Valeurs critiques de la constante et de la tendance dans le test de Dickey-Fuller\n",
    "\n",
    "<table>\n",
    "    <col width=\"50\">\n",
    "    <col width=\"70\">\n",
    "    <col width=\"70\">\n",
    "    <col width=\"70\">\n",
    "    <col width=\"70\">\n",
    "    <col width=\"70\">\n",
    "    <col width=\"70\">\n",
    "    <col width=\"70\">\n",
    "    <col width=\"70\">\n",
    "    <col width=\"70\">\n",
    "    <tr>\n",
    "        <td colspan=\"1\" style=\"text-align: center;border-right: 2px solid black\"></td>\n",
    "        <td colspan=\"3\" style=\"text-align: center;border-right: 2px solid black\"><i>Modèle [2]</i></td>\n",
    "        <td colspan=\"6\" style=\"text-align: center;border-right: 2px solid black\"><i>Modèle [1]</i></td>\n",
    "    </tr>\n",
    "    <tr>\n",
    "        <td colspan=\"1\" style=\"text-align: center;border-right: 2px solid black\"></td>\n",
    "        <td colspan=\"3\" style=\"text-align: center;border-right: 2px solid black\">Constante</td>\n",
    "        <td colspan=\"3\" style=\"text-align: center;border-right: 2px solid black\">Constante</td>\n",
    "        <td colspan=\"3\" style=\"text-align: center;border-right: 2px solid black\">Trend</td>\n",
    "    </tr>\n",
    "    <tr style=\"text-align: center;border-bottom: 2px solid black\">\n",
    "        <td style=\"text-align: center;border-right: 2px solid black\">T</td>\n",
    "        <td style=\"text-align: center;border-right: 2px dotted black\">1%</td>\n",
    "        <td style=\"text-align: center;border-right: 2px dotted black\">5%</td>\n",
    "        <td style=\"text-align: center;border-right: 2px solid black\">10%</td>\n",
    "        <td style=\"text-align: center;border-right: 2px dotted black\">1%</td>\n",
    "        <td style=\"text-align: center;border-right: 2px dotted black\">5%</td>\n",
    "        <td style=\"text-align: center;border-right: 2px solid black\">10%</td>\n",
    "        <td style=\"text-align: center;border-right: 2px dotted black\">1%</td>\n",
    "        <td style=\"text-align: center;border-right: 2px dotted black\">5%</td>\n",
    "        <td style=\"text-align: center;border-right: 2px solid black\">10%</td>\n",
    "    </tr>\n",
    "    <tr>\n",
    "        <td style=\"text-align: center;border-right: 2px solid black\">100</td>\n",
    "        <td style=\"text-align: center;border-right: 2px dotted black\">3.22</td>\n",
    "        <td style=\"text-align: center;border-right: 2px dotted black\">2.54</td>\n",
    "        <td style=\"text-align: center;border-right: 2px solid black\">2.17</td>\n",
    "        <td style=\"text-align: center;border-right: 2px dotted black\">3.78</td>\n",
    "        <td style=\"text-align: center;border-right: 2px dotted black\">3.11</td>\n",
    "        <td style=\"text-align: center;border-right: 2px solid black\">2.73</td>\n",
    "        <td style=\"text-align: center;border-right: 2px dotted black\">3.53</td>\n",
    "        <td style=\"text-align: center;border-right: 2px dotted black\">2.79</td>\n",
    "        <td style=\"text-align: center;border-right: 2px solid black\">2.38</td>\n",
    "    </tr>\n",
    "    <tr>\n",
    "        <td style=\"text-align: center;border-right: 2px solid black\">250</td>\n",
    "        <td style=\"text-align: center;border-right: 2px dotted black\">3.19</td>\n",
    "        <td style=\"text-align: center;border-right: 2px dotted black\">2.53</td>\n",
    "        <td style=\"text-align: center;border-right: 2px solid black\">2.16</td>\n",
    "        <td style=\"text-align: center;border-right: 2px dotted black\">3.74</td>\n",
    "        <td style=\"text-align: center;border-right: 2px dotted black\">3.09</td>\n",
    "        <td style=\"text-align: center;border-right: 2px solid black\">2.73</td>\n",
    "        <td style=\"text-align: center;border-right: 2px dotted black\">3.49</td>\n",
    "        <td style=\"text-align: center;border-right: 2px dotted black\">2.79</td>\n",
    "        <td style=\"text-align: center;border-right: 2px solid black\">2.38</td>\n",
    "    </tr>\n",
    "    <tr>\n",
    "        <td style=\"text-align: center;border-right: 2px solid black\">500</td>\n",
    "        <td style=\"text-align: center;border-right: 2px dotted black\">3.18</td>\n",
    "        <td style=\"text-align: center;border-right: 2px dotted black\">2.52</td>\n",
    "        <td style=\"text-align: center;border-right: 2px solid black\">2.16</td>\n",
    "        <td style=\"text-align: center;border-right: 2px dotted black\">3.72</td>\n",
    "        <td style=\"text-align: center;border-right: 2px dotted black\">3.08</td>\n",
    "        <td style=\"text-align: center;border-right: 2px solid black\">2.72</td>\n",
    "        <td style=\"text-align: center;border-right: 2px dotted black\">3.48</td>\n",
    "        <td style=\"text-align: center;border-right: 2px dotted black\">2.78</td>\n",
    "        <td style=\"text-align: center;border-right: 2px solid black\">2.38</td>\n",
    "    </tr>\n",
    "    <tr>\n",
    "        <td style=\"text-align: center;border-right: 2px solid black\">$\\infty$</td>\n",
    "        <td style=\"text-align: center;border-right: 2px dotted black\">3.18</td>\n",
    "        <td style=\"text-align: center;border-right: 2px dotted black\">2.52</td>\n",
    "        <td style=\"text-align: center;border-right: 2px solid black\">2.16</td>\n",
    "        <td style=\"text-align: center;border-right: 2px dotted black\">3.71</td>\n",
    "        <td style=\"text-align: center;border-right: 2px dotted black\">3.08</td>\n",
    "        <td style=\"text-align: center;border-right: 2px solid black\">2.72</td>\n",
    "        <td style=\"text-align: center;border-right: 2px dotted black\">3.46</td>\n",
    "        <td style=\"text-align: center;border-right: 2px dotted black\">2.78</td>\n",
    "        <td style=\"text-align: center;border-right: 2px solid black\">2.38</td>\n",
    "    </tr>\n",
    "</table>\n",
    "</span>"
   ]
  },
  {
   "cell_type": "markdown",
   "id": "d51eb2b5",
   "metadata": {},
   "source": [
    "<span style='line-height:1.5;font-size: 17px;font-family:\"Times New Roman\"'>\n",
    "    \n",
    "- Valeurs critiques du test Dickey-Fuller $\\rho = 1 \\Leftrightarrow \\phi = 0$\n",
    "\n",
    "<table>\n",
    "    <col width=\"50\">\n",
    "    <col width=\"70\">\n",
    "    <col width=\"70\">\n",
    "    <col width=\"70\">\n",
    "    <col width=\"70\">\n",
    "    <col width=\"70\">\n",
    "    <col width=\"70\">\n",
    "    <col width=\"70\">\n",
    "    <col width=\"70\">\n",
    "    <col width=\"70\">\n",
    "    <tr>\n",
    "        <td style=\"text-align: center;border-right: 2px solid black\"></td>\n",
    "        <td colspan=\"3\" style=\"text-align: center;border-right: 2px solid black\"><i>Modèle [1]</i></td>\n",
    "        <td colspan=\"3\" style=\"text-align: center;border-right: 2px solid black\"><i>Modèle [2]</i></td>\n",
    "        <td colspan=\"3\" style=\"text-align: center;border-right: 2px solid black\"><i>Modèle [3]</i></td>\n",
    "    </tr>\n",
    "    <tr style=\"text-align: center;border-bottom: 2px solid black\">\n",
    "        <td style=\"text-align: center;border-right: 2px solid black\">T</td>\n",
    "        <td style=\"text-align: center;border-right: 2px dotted black\">1%</td>\n",
    "        <td style=\"text-align: center;border-right: 2px dotted black\">5%</td>\n",
    "        <td style=\"text-align: center;border-right: 2px solid black\"> 10%</td>\n",
    "        <td style=\"text-align: center;border-right: 2px dotted black\">1%</td>\n",
    "        <td style=\"text-align: center;border-right: 2px dotted black\">5%</td>\n",
    "        <td style=\"text-align: center;border-right: 2px solid black\">10%</td>\n",
    "        <td style=\"text-align: center;border-right: 2px dotted black\">1%</td>\n",
    "        <td style=\"text-align: center;border-right: 2px dotted black\">5%</td>\n",
    "        <td style=\"text-align: center;border-right: 2px solid black\">10%</td>\n",
    "    </tr>\n",
    "    <tr>\n",
    "        <td style=\"text-align: center;border-right: 2px solid black\">100</td>\n",
    "        <td style=\"text-align: center;border-right: 2px dotted black\">-2.60</td>\n",
    "        <td style=\"text-align: center;border-right: 2px dotted black\">-1.95</td>\n",
    "        <td style=\"text-align: center;border-right: 2px solid black\">-1.61</td>\n",
    "        <td style=\"text-align: center;border-right: 2px dotted black\">-3.51</td>\n",
    "        <td style=\"text-align: center;border-right: 2px dotted black\">-2.89</td>\n",
    "        <td style=\"text-align: center;border-right: 2px solid black\">-2.58</td>\n",
    "        <td style=\"text-align: center;border-right: 2px dotted black\">-4.04</td>\n",
    "        <td style=\"text-align: center;border-right: 2px dotted black\">-3.45</td>\n",
    "        <td style=\"text-align: center;border-right: 2px solid black\">-3.15</td>\n",
    "    </tr>\n",
    "    <tr>\n",
    "        <td style=\"text-align: center;border-right: 2px solid black\">250</td>\n",
    "        <td style=\"text-align: center;border-right: 2px dotted black\">-2.58</td>\n",
    "        <td style=\"text-align: center;border-right: 2px dotted black\">-1.95</td>\n",
    "        <td style=\"text-align: center;border-right: 2px solid black\">-1.62</td>\n",
    "        <td style=\"text-align: center;border-right: 2px dotted black\">-3.46</td>\n",
    "        <td style=\"text-align: center;border-right: 2px dotted black\">-2.88</td>\n",
    "        <td style=\"text-align: center;border-right: 2px solid black\">-2.57</td>\n",
    "        <td style=\"text-align: center;border-right: 2px dotted black\">-3.99</td>\n",
    "        <td style=\"text-align: center;border-right: 2px dotted black\">-3.43</td>\n",
    "        <td style=\"text-align: center;border-right: 2px solid black\">-3.13</td>\n",
    "    </tr>\n",
    "    <tr>\n",
    "        <td style=\"text-align: center;border-right: 2px solid black\">500</td>\n",
    "        <td style=\"text-align: center;border-right: 2px dotted black\">-2.58</td>\n",
    "        <td style=\"text-align: center;border-right: 2px dotted black\">-1.95</td>\n",
    "        <td style=\"text-align: center;border-right: 2px solid black\">-1.62</td>\n",
    "        <td style=\"text-align: center;border-right: 2px dotted black\">-3.44</td>\n",
    "        <td style=\"text-align: center;border-right: 2px dotted black\">-2.87</td>\n",
    "        <td style=\"text-align: center;border-right: 2px solid black\">-2.57</td>\n",
    "        <td style=\"text-align: center;border-right: 2px dotted black\">-3.98</td>\n",
    "        <td style=\"text-align: center;border-right: 2px dotted black\">-3.42</td>\n",
    "        <td style=\"text-align: center;border-right: 2px solid black\">-3.13</td>\n",
    "    </tr>\n",
    "    <tr>\n",
    "        <td style=\"text-align: center;border-right: 2px solid black\">$\\infty$</td>\n",
    "        <td style=\"text-align: center;border-right: 2px dotted black\">-2.58</td>\n",
    "        <td style=\"text-align: center;border-right: 2px dotted black\">-1.95</td>\n",
    "        <td style=\"text-align: center;border-right: 2px solid black\">-1.62</td>\n",
    "        <td style=\"text-align: center;border-right: 2px dotted black\">-3.43</td>\n",
    "        <td style=\"text-align: center;border-right: 2px dotted black\">-2.86</td>\n",
    "        <td style=\"text-align: center;border-right: 2px solid black\">-2.57</td>\n",
    "        <td style=\"text-align: center;border-right: 2px dotted black\">-3.96</td>\n",
    "        <td style=\"text-align: center;border-right: 2px dotted black\">-3.41</td>\n",
    "        <td style=\"text-align: center;border-right: 2px solid black\">-3.12</td>\n",
    "    </tr>\n",
    "</table>    \n",
    "    \n",
    "    \n",
    "    \n",
    "    \n",
    "</span>"
   ]
  },
  {
   "cell_type": "markdown",
   "id": "bd538aef",
   "metadata": {},
   "source": [
    "Pour analyser la stationnarité d'une serie temporelle, il faut effectuer le test d'ADF pour chaque variable. "
   ]
  },
  {
   "cell_type": "markdown",
   "id": "e2b72aec",
   "metadata": {},
   "source": [
    "### ADF - CAC40 en niveau"
   ]
  },
  {
   "cell_type": "code",
   "execution_count": 16,
   "id": "1121af6c",
   "metadata": {},
   "outputs": [],
   "source": [
    "# On commence par le modèle avec tendance et constante :\n",
    "\"\"\"On stock les résultats du test dans une variable ici nommée adf1:\n",
    "    - On appelle la fonction de test adf\n",
    "    - On spécifie la variable pour laquelle on veut faire le test. Ici : ford\n",
    "    - On donne en option le modèle. Ici on commence par constante et tendance, donc : \"ct\"\n",
    "    - Le nombre de LAG est choisi via automatiquement sous le critère d'information AIC\n",
    "    - On demande à stocker les résultats pour pouvoir regarder la significativité de la tendance\n",
    "\"\"\"\n",
    "\n",
    "adf1 = adfuller(df['CAC40'], regression='ct', autolag='AIC', regresults=True)"
   ]
  },
  {
   "cell_type": "code",
   "execution_count": 17,
   "id": "eb74fe3c",
   "metadata": {},
   "outputs": [
    {
     "data": {
      "text/html": [
       "<table class=\"simpletable\">\n",
       "<caption>OLS Regression Results</caption>\n",
       "<tr>\n",
       "  <th>Dep. Variable:</th>            <td>y</td>        <th>  R-squared:         </th> <td>   0.073</td>\n",
       "</tr>\n",
       "<tr>\n",
       "  <th>Model:</th>                   <td>OLS</td>       <th>  Adj. R-squared:    </th> <td>   0.061</td>\n",
       "</tr>\n",
       "<tr>\n",
       "  <th>Method:</th>             <td>Least Squares</td>  <th>  F-statistic:       </th> <td>   6.358</td>\n",
       "</tr>\n",
       "<tr>\n",
       "  <th>Date:</th>             <td>Thu, 30 Nov 2023</td> <th>  Prob (F-statistic):</th>  <td>0.00220</td>\n",
       "</tr>\n",
       "<tr>\n",
       "  <th>Time:</th>                 <td>10:36:55</td>     <th>  Log-Likelihood:    </th> <td> -1129.1</td>\n",
       "</tr>\n",
       "<tr>\n",
       "  <th>No. Observations:</th>      <td>   165</td>      <th>  AIC:               </th> <td>   2264.</td>\n",
       "</tr>\n",
       "<tr>\n",
       "  <th>Df Residuals:</th>          <td>   162</td>      <th>  BIC:               </th> <td>   2274.</td>\n",
       "</tr>\n",
       "<tr>\n",
       "  <th>Df Model:</th>              <td>     2</td>      <th>                     </th>     <td> </td>   \n",
       "</tr>\n",
       "<tr>\n",
       "  <th>Covariance Type:</th>      <td>nonrobust</td>    <th>                     </th>     <td> </td>   \n",
       "</tr>\n",
       "</table>\n",
       "<table class=\"simpletable\">\n",
       "<tr>\n",
       "    <td></td>       <th>coef</th>     <th>std err</th>      <th>t</th>      <th>P>|t|</th>  <th>[0.025</th>    <th>0.975]</th>  \n",
       "</tr>\n",
       "<tr>\n",
       "  <th>x1</th>    <td>   -0.1384</td> <td>    0.039</td> <td>   -3.537</td> <td> 0.001</td> <td>   -0.216</td> <td>   -0.061</td>\n",
       "</tr>\n",
       "<tr>\n",
       "  <th>const</th> <td>  438.1519</td> <td>  127.612</td> <td>    3.433</td> <td> 0.001</td> <td>  186.155</td> <td>  690.148</td>\n",
       "</tr>\n",
       "<tr>\n",
       "  <th>x2</th>    <td>    3.1516</td> <td>    0.922</td> <td>    3.417</td> <td> 0.001</td> <td>    1.330</td> <td>    4.973</td>\n",
       "</tr>\n",
       "</table>\n",
       "<table class=\"simpletable\">\n",
       "<tr>\n",
       "  <th>Omnibus:</th>       <td>14.507</td> <th>  Durbin-Watson:     </th> <td>   1.987</td>\n",
       "</tr>\n",
       "<tr>\n",
       "  <th>Prob(Omnibus):</th> <td> 0.001</td> <th>  Jarque-Bera (JB):  </th> <td>  28.544</td>\n",
       "</tr>\n",
       "<tr>\n",
       "  <th>Skew:</th>          <td>-0.381</td> <th>  Prob(JB):          </th> <td>6.34e-07</td>\n",
       "</tr>\n",
       "<tr>\n",
       "  <th>Kurtosis:</th>      <td> 4.890</td> <th>  Cond. No.          </th> <td>3.61e+04</td>\n",
       "</tr>\n",
       "</table><br/><br/>Notes:<br/>[1] Standard Errors assume that the covariance matrix of the errors is correctly specified.<br/>[2] The condition number is large, 3.61e+04. This might indicate that there are<br/>strong multicollinearity or other numerical problems."
      ],
      "text/latex": [
       "\\begin{center}\n",
       "\\begin{tabular}{lclc}\n",
       "\\toprule\n",
       "\\textbf{Dep. Variable:}    &        y         & \\textbf{  R-squared:         } &     0.073   \\\\\n",
       "\\textbf{Model:}            &       OLS        & \\textbf{  Adj. R-squared:    } &     0.061   \\\\\n",
       "\\textbf{Method:}           &  Least Squares   & \\textbf{  F-statistic:       } &     6.358   \\\\\n",
       "\\textbf{Date:}             & Thu, 30 Nov 2023 & \\textbf{  Prob (F-statistic):} &  0.00220    \\\\\n",
       "\\textbf{Time:}             &     10:36:55     & \\textbf{  Log-Likelihood:    } &   -1129.1   \\\\\n",
       "\\textbf{No. Observations:} &         165      & \\textbf{  AIC:               } &     2264.   \\\\\n",
       "\\textbf{Df Residuals:}     &         162      & \\textbf{  BIC:               } &     2274.   \\\\\n",
       "\\textbf{Df Model:}         &           2      & \\textbf{                     } &             \\\\\n",
       "\\textbf{Covariance Type:}  &    nonrobust     & \\textbf{                     } &             \\\\\n",
       "\\bottomrule\n",
       "\\end{tabular}\n",
       "\\begin{tabular}{lcccccc}\n",
       "               & \\textbf{coef} & \\textbf{std err} & \\textbf{t} & \\textbf{P$> |$t$|$} & \\textbf{[0.025} & \\textbf{0.975]}  \\\\\n",
       "\\midrule\n",
       "\\textbf{x1}    &      -0.1384  &        0.039     &    -3.537  &         0.001        &       -0.216    &       -0.061     \\\\\n",
       "\\textbf{const} &     438.1519  &      127.612     &     3.433  &         0.001        &      186.155    &      690.148     \\\\\n",
       "\\textbf{x2}    &       3.1516  &        0.922     &     3.417  &         0.001        &        1.330    &        4.973     \\\\\n",
       "\\bottomrule\n",
       "\\end{tabular}\n",
       "\\begin{tabular}{lclc}\n",
       "\\textbf{Omnibus:}       & 14.507 & \\textbf{  Durbin-Watson:     } &    1.987  \\\\\n",
       "\\textbf{Prob(Omnibus):} &  0.001 & \\textbf{  Jarque-Bera (JB):  } &   28.544  \\\\\n",
       "\\textbf{Skew:}          & -0.381 & \\textbf{  Prob(JB):          } & 6.34e-07  \\\\\n",
       "\\textbf{Kurtosis:}      &  4.890 & \\textbf{  Cond. No.          } & 3.61e+04  \\\\\n",
       "\\bottomrule\n",
       "\\end{tabular}\n",
       "%\\caption{OLS Regression Results}\n",
       "\\end{center}\n",
       "\n",
       "Notes: \\newline\n",
       " [1] Standard Errors assume that the covariance matrix of the errors is correctly specified. \\newline\n",
       " [2] The condition number is large, 3.61e+04. This might indicate that there are \\newline\n",
       " strong multicollinearity or other numerical problems."
      ],
      "text/plain": [
       "<class 'statsmodels.iolib.summary.Summary'>\n",
       "\"\"\"\n",
       "                            OLS Regression Results                            \n",
       "==============================================================================\n",
       "Dep. Variable:                      y   R-squared:                       0.073\n",
       "Model:                            OLS   Adj. R-squared:                  0.061\n",
       "Method:                 Least Squares   F-statistic:                     6.358\n",
       "Date:                Thu, 30 Nov 2023   Prob (F-statistic):            0.00220\n",
       "Time:                        10:36:55   Log-Likelihood:                -1129.1\n",
       "No. Observations:                 165   AIC:                             2264.\n",
       "Df Residuals:                     162   BIC:                             2274.\n",
       "Df Model:                           2                                         \n",
       "Covariance Type:            nonrobust                                         \n",
       "==============================================================================\n",
       "                 coef    std err          t      P>|t|      [0.025      0.975]\n",
       "------------------------------------------------------------------------------\n",
       "x1            -0.1384      0.039     -3.537      0.001      -0.216      -0.061\n",
       "const        438.1519    127.612      3.433      0.001     186.155     690.148\n",
       "x2             3.1516      0.922      3.417      0.001       1.330       4.973\n",
       "==============================================================================\n",
       "Omnibus:                       14.507   Durbin-Watson:                   1.987\n",
       "Prob(Omnibus):                  0.001   Jarque-Bera (JB):               28.544\n",
       "Skew:                          -0.381   Prob(JB):                     6.34e-07\n",
       "Kurtosis:                       4.890   Cond. No.                     3.61e+04\n",
       "==============================================================================\n",
       "\n",
       "Notes:\n",
       "[1] Standard Errors assume that the covariance matrix of the errors is correctly specified.\n",
       "[2] The condition number is large, 3.61e+04. This might indicate that there are\n",
       "strong multicollinearity or other numerical problems.\n",
       "\"\"\""
      ]
     },
     "execution_count": 17,
     "metadata": {},
     "output_type": "execute_result"
    }
   ],
   "source": [
    "adf1[3].resols.summary()"
   ]
  },
  {
   "cell_type": "markdown",
   "id": "d4988bff",
   "metadata": {},
   "source": [
    "- On commence par tester la variable X2 avec le modèle 3 (contante et tendance)\n",
    "- La statistique de test associé à la variable X2 est de 3,417. La valeur tabulée de la tendnace du test d'ADF pour le modèle 3 est de 2,79 (pour 165 observations)\n",
    "- 3,417 > 2,79 => tendance significative car t stat > valeure tabulée\n",
    "- On ne rejete donc pas le modèle 3 avec tendance et constante. "
   ]
  },
  {
   "cell_type": "markdown",
   "id": "e016c9bc",
   "metadata": {},
   "source": [
    "La variable est non stationnaire en tendance "
   ]
  },
  {
   "cell_type": "markdown",
   "id": "9f3f7ef9",
   "metadata": {},
   "source": [
    "=> Pour la variable du CAC 40, la tendance est bien significative. Nous allons donc maintenant voir si nous avons une racine unitaire"
   ]
  },
  {
   "cell_type": "code",
   "execution_count": 22,
   "id": "f3943f85",
   "metadata": {},
   "outputs": [],
   "source": [
    "adf1 = adfuller(df['CAC40'], regression='n', autolag='AIC', regresults=True)"
   ]
  },
  {
   "cell_type": "code",
   "execution_count": 23,
   "id": "4a39d5b9",
   "metadata": {},
   "outputs": [
    {
     "data": {
      "text/plain": [
       "(0.789999477104676,\n",
       " 0.8832560010507973,\n",
       " {'1%': -2.5794235261707987,\n",
       "  '5%': -1.942744527812561,\n",
       "  '10%': -1.6153043444917494},\n",
       " <statsmodels.stats.diagnostic.ResultsStore at 0x12bc39250>)"
      ]
     },
     "execution_count": 23,
     "metadata": {},
     "output_type": "execute_result"
    }
   ],
   "source": [
    "adf1"
   ]
  },
  {
   "cell_type": "markdown",
   "id": "41f2fe6c",
   "metadata": {},
   "source": [
    "- Nous pouvons voir que 0,789 > -1,95, 𝑡𝜑>𝑡𝐷𝐹  on ne rejette pas 𝐻0 : Racine unitaire\n",
    "- Donc la série est non stationnaire, il faut la stationnariser en faisant les taux de croissance "
   ]
  },
  {
   "cell_type": "code",
   "execution_count": 24,
   "id": "bd8779f1",
   "metadata": {},
   "outputs": [
    {
     "name": "stderr",
     "output_type": "stream",
     "text": [
      "/var/folders/sg/frcwz3bs4nqf585cn0brfmjw0000gn/T/ipykernel_1012/4123414217.py:1: SettingWithCopyWarning: \n",
      "A value is trying to be set on a copy of a slice from a DataFrame.\n",
      "Try using .loc[row_indexer,col_indexer] = value instead\n",
      "\n",
      "See the caveats in the documentation: https://pandas.pydata.org/pandas-docs/stable/user_guide/indexing.html#returning-a-view-versus-a-copy\n",
      "  df[\"rCAC40\"] = 100 * ( df[\"CAC40\"]/df[\"CAC40\"].shift(1) - 1 )\n",
      "/var/folders/sg/frcwz3bs4nqf585cn0brfmjw0000gn/T/ipykernel_1012/4123414217.py:2: SettingWithCopyWarning: \n",
      "A value is trying to be set on a copy of a slice from a DataFrame.\n",
      "Try using .loc[row_indexer,col_indexer] = value instead\n",
      "\n",
      "See the caveats in the documentation: https://pandas.pydata.org/pandas-docs/stable/user_guide/indexing.html#returning-a-view-versus-a-copy\n",
      "  df[\"TxChange\"] = 100 * ( df[\"TxChange\"]/df[\"TxChange\"].shift(1) - 1 )\n",
      "/var/folders/sg/frcwz3bs4nqf585cn0brfmjw0000gn/T/ipykernel_1012/4123414217.py:3: SettingWithCopyWarning: \n",
      "A value is trying to be set on a copy of a slice from a DataFrame.\n",
      "Try using .loc[row_indexer,col_indexer] = value instead\n",
      "\n",
      "See the caveats in the documentation: https://pandas.pydata.org/pandas-docs/stable/user_guide/indexing.html#returning-a-view-versus-a-copy\n",
      "  df[\"rSocieteGenerale\"] = 100 * ( df[\"SocieteGenerale\"]/df[\"SocieteGenerale\"].shift(1) - 1 )\n"
     ]
    },
    {
     "data": {
      "text/html": [
       "<div>\n",
       "<style scoped>\n",
       "    .dataframe tbody tr th:only-of-type {\n",
       "        vertical-align: middle;\n",
       "    }\n",
       "\n",
       "    .dataframe tbody tr th {\n",
       "        vertical-align: top;\n",
       "    }\n",
       "\n",
       "    .dataframe thead th {\n",
       "        text-align: right;\n",
       "    }\n",
       "</style>\n",
       "<table border=\"1\" class=\"dataframe\">\n",
       "  <thead>\n",
       "    <tr style=\"text-align: right;\">\n",
       "      <th></th>\n",
       "      <th>Date</th>\n",
       "      <th>CAC40</th>\n",
       "      <th>TxChange</th>\n",
       "      <th>SocieteGenerale</th>\n",
       "      <th>rCAC40</th>\n",
       "      <th>rSocieteGenerale</th>\n",
       "    </tr>\n",
       "  </thead>\n",
       "  <tbody>\n",
       "    <tr>\n",
       "      <th>0</th>\n",
       "      <td>2010-01-01</td>\n",
       "      <td>3739.459961</td>\n",
       "      <td>NaN</td>\n",
       "      <td>20.472494</td>\n",
       "      <td>NaN</td>\n",
       "      <td>NaN</td>\n",
       "    </tr>\n",
       "    <tr>\n",
       "      <th>1</th>\n",
       "      <td>2010-02-01</td>\n",
       "      <td>3708.800049</td>\n",
       "      <td>-1.722473</td>\n",
       "      <td>19.596941</td>\n",
       "      <td>-0.819902</td>\n",
       "      <td>-4.276729</td>\n",
       "    </tr>\n",
       "    <tr>\n",
       "      <th>2</th>\n",
       "      <td>2010-03-01</td>\n",
       "      <td>3974.010010</td>\n",
       "      <td>-0.952317</td>\n",
       "      <td>22.587410</td>\n",
       "      <td>7.150829</td>\n",
       "      <td>15.259876</td>\n",
       "    </tr>\n",
       "    <tr>\n",
       "      <th>3</th>\n",
       "      <td>2010-04-01</td>\n",
       "      <td>3816.989990</td>\n",
       "      <td>-1.554544</td>\n",
       "      <td>19.596941</td>\n",
       "      <td>-3.951173</td>\n",
       "      <td>-13.239539</td>\n",
       "    </tr>\n",
       "    <tr>\n",
       "      <th>4</th>\n",
       "      <td>2010-05-01</td>\n",
       "      <td>3507.560059</td>\n",
       "      <td>-7.596368</td>\n",
       "      <td>17.001795</td>\n",
       "      <td>-8.106648</td>\n",
       "      <td>-13.242609</td>\n",
       "    </tr>\n",
       "  </tbody>\n",
       "</table>\n",
       "</div>"
      ],
      "text/plain": [
       "         Date        CAC40  TxChange  SocieteGenerale    rCAC40  \\\n",
       "0  2010-01-01  3739.459961       NaN        20.472494       NaN   \n",
       "1  2010-02-01  3708.800049 -1.722473        19.596941 -0.819902   \n",
       "2  2010-03-01  3974.010010 -0.952317        22.587410  7.150829   \n",
       "3  2010-04-01  3816.989990 -1.554544        19.596941 -3.951173   \n",
       "4  2010-05-01  3507.560059 -7.596368        17.001795 -8.106648   \n",
       "\n",
       "   rSocieteGenerale  \n",
       "0               NaN  \n",
       "1         -4.276729  \n",
       "2         15.259876  \n",
       "3        -13.239539  \n",
       "4        -13.242609  "
      ]
     },
     "execution_count": 24,
     "metadata": {},
     "output_type": "execute_result"
    }
   ],
   "source": [
    "df[\"rCAC40\"] = 100 * ( df[\"CAC40\"]/df[\"CAC40\"].shift(1) - 1 )\n",
    "df[\"TxChange\"] = 100 * ( df[\"TxChange\"]/df[\"TxChange\"].shift(1) - 1 )\n",
    "df[\"rSocieteGenerale\"] = 100 * ( df[\"SocieteGenerale\"]/df[\"SocieteGenerale\"].shift(1) - 1 )\n",
    "\n",
    "df.head()"
   ]
  },
  {
   "cell_type": "code",
   "execution_count": 27,
   "id": "4d107666",
   "metadata": {},
   "outputs": [
    {
     "data": {
      "text/html": [
       "<div>\n",
       "<style scoped>\n",
       "    .dataframe tbody tr th:only-of-type {\n",
       "        vertical-align: middle;\n",
       "    }\n",
       "\n",
       "    .dataframe tbody tr th {\n",
       "        vertical-align: top;\n",
       "    }\n",
       "\n",
       "    .dataframe thead th {\n",
       "        text-align: right;\n",
       "    }\n",
       "</style>\n",
       "<table border=\"1\" class=\"dataframe\">\n",
       "  <thead>\n",
       "    <tr style=\"text-align: right;\">\n",
       "      <th></th>\n",
       "      <th>Date</th>\n",
       "      <th>CAC40</th>\n",
       "      <th>TxChange</th>\n",
       "      <th>SocieteGenerale</th>\n",
       "      <th>rCAC40</th>\n",
       "      <th>rSocieteGenerale</th>\n",
       "    </tr>\n",
       "  </thead>\n",
       "  <tbody>\n",
       "    <tr>\n",
       "      <th>1</th>\n",
       "      <td>2010-02-01</td>\n",
       "      <td>3708.800049</td>\n",
       "      <td>-1.722473</td>\n",
       "      <td>19.596941</td>\n",
       "      <td>-0.819902</td>\n",
       "      <td>-4.276729</td>\n",
       "    </tr>\n",
       "    <tr>\n",
       "      <th>2</th>\n",
       "      <td>2010-03-01</td>\n",
       "      <td>3974.010010</td>\n",
       "      <td>-0.952317</td>\n",
       "      <td>22.587410</td>\n",
       "      <td>7.150829</td>\n",
       "      <td>15.259876</td>\n",
       "    </tr>\n",
       "    <tr>\n",
       "      <th>3</th>\n",
       "      <td>2010-04-01</td>\n",
       "      <td>3816.989990</td>\n",
       "      <td>-1.554544</td>\n",
       "      <td>19.596941</td>\n",
       "      <td>-3.951173</td>\n",
       "      <td>-13.239539</td>\n",
       "    </tr>\n",
       "    <tr>\n",
       "      <th>4</th>\n",
       "      <td>2010-05-01</td>\n",
       "      <td>3507.560059</td>\n",
       "      <td>-7.596368</td>\n",
       "      <td>17.001795</td>\n",
       "      <td>-8.106648</td>\n",
       "      <td>-13.242609</td>\n",
       "    </tr>\n",
       "    <tr>\n",
       "      <th>5</th>\n",
       "      <td>2010-06-01</td>\n",
       "      <td>3442.889893</td>\n",
       "      <td>-0.470846</td>\n",
       "      <td>16.637993</td>\n",
       "      <td>-1.843737</td>\n",
       "      <td>-2.139786</td>\n",
       "    </tr>\n",
       "  </tbody>\n",
       "</table>\n",
       "</div>"
      ],
      "text/plain": [
       "         Date        CAC40  TxChange  SocieteGenerale    rCAC40  \\\n",
       "1  2010-02-01  3708.800049 -1.722473        19.596941 -0.819902   \n",
       "2  2010-03-01  3974.010010 -0.952317        22.587410  7.150829   \n",
       "3  2010-04-01  3816.989990 -1.554544        19.596941 -3.951173   \n",
       "4  2010-05-01  3507.560059 -7.596368        17.001795 -8.106648   \n",
       "5  2010-06-01  3442.889893 -0.470846        16.637993 -1.843737   \n",
       "\n",
       "   rSocieteGenerale  \n",
       "1         -4.276729  \n",
       "2         15.259876  \n",
       "3        -13.239539  \n",
       "4        -13.242609  \n",
       "5         -2.139786  "
      ]
     },
     "execution_count": 27,
     "metadata": {},
     "output_type": "execute_result"
    }
   ],
   "source": [
    "df = df.dropna()\n",
    "df.head()"
   ]
  },
  {
   "cell_type": "markdown",
   "id": "9fd5956a",
   "metadata": {},
   "source": [
    "### ADF - CAC40 en taux de croissance"
   ]
  },
  {
   "cell_type": "code",
   "execution_count": 75,
   "id": "a79a53ae",
   "metadata": {},
   "outputs": [],
   "source": [
    "adf1 = adfuller(df['rCAC40'], regression='ct', autolag='AIC', regresults=True)"
   ]
  },
  {
   "cell_type": "markdown",
   "id": "2d9cd8f1",
   "metadata": {},
   "source": [
    "On recommence le test ADF\n",
    "\n",
    "- La statistique de test associée à la variable X2 est de 0,330. La valeur tabulée de la tendnace du test d'ADF pour le modèle 3 est de 2,79 (pour 165 observations)\n",
    "- T stat < T DF=> Tendance non significative, on passe donc au modèle 2\n"
   ]
  },
  {
   "cell_type": "code",
   "execution_count": 74,
   "id": "6a26145b",
   "metadata": {},
   "outputs": [
    {
     "data": {
      "text/html": [
       "<table class=\"simpletable\">\n",
       "<caption>OLS Regression Results</caption>\n",
       "<tr>\n",
       "  <th>Dep. Variable:</th>            <td>y</td>        <th>  R-squared:         </th> <td>   0.525</td>\n",
       "</tr>\n",
       "<tr>\n",
       "  <th>Model:</th>                   <td>OLS</td>       <th>  Adj. R-squared:    </th> <td>   0.522</td>\n",
       "</tr>\n",
       "<tr>\n",
       "  <th>Method:</th>             <td>Least Squares</td>  <th>  F-statistic:       </th> <td>   179.2</td>\n",
       "</tr>\n",
       "<tr>\n",
       "  <th>Date:</th>             <td>Thu, 30 Nov 2023</td> <th>  Prob (F-statistic):</th> <td>5.44e-28</td>\n",
       "</tr>\n",
       "<tr>\n",
       "  <th>Time:</th>                 <td>12:09:23</td>     <th>  Log-Likelihood:    </th> <td> -489.34</td>\n",
       "</tr>\n",
       "<tr>\n",
       "  <th>No. Observations:</th>      <td>   164</td>      <th>  AIC:               </th> <td>   982.7</td>\n",
       "</tr>\n",
       "<tr>\n",
       "  <th>Df Residuals:</th>          <td>   162</td>      <th>  BIC:               </th> <td>   988.9</td>\n",
       "</tr>\n",
       "<tr>\n",
       "  <th>Df Model:</th>              <td>     1</td>      <th>                     </th>     <td> </td>   \n",
       "</tr>\n",
       "<tr>\n",
       "  <th>Covariance Type:</th>      <td>nonrobust</td>    <th>                     </th>     <td> </td>   \n",
       "</tr>\n",
       "</table>\n",
       "<table class=\"simpletable\">\n",
       "<tr>\n",
       "    <td></td>       <th>coef</th>     <th>std err</th>      <th>t</th>      <th>P>|t|</th>  <th>[0.025</th>    <th>0.975]</th>  \n",
       "</tr>\n",
       "<tr>\n",
       "  <th>x1</th>    <td>   -1.0522</td> <td>    0.079</td> <td>  -13.385</td> <td> 0.000</td> <td>   -1.207</td> <td>   -0.897</td>\n",
       "</tr>\n",
       "<tr>\n",
       "  <th>const</th> <td>    0.5192</td> <td>    0.378</td> <td>    1.374</td> <td> 0.171</td> <td>   -0.227</td> <td>    1.265</td>\n",
       "</tr>\n",
       "</table>\n",
       "<table class=\"simpletable\">\n",
       "<tr>\n",
       "  <th>Omnibus:</th>       <td> 8.966</td> <th>  Durbin-Watson:     </th> <td>   1.991</td>\n",
       "</tr>\n",
       "<tr>\n",
       "  <th>Prob(Omnibus):</th> <td> 0.011</td> <th>  Jarque-Bera (JB):  </th> <td>  17.939</td>\n",
       "</tr>\n",
       "<tr>\n",
       "  <th>Skew:</th>          <td>-0.101</td> <th>  Prob(JB):          </th> <td>0.000127</td>\n",
       "</tr>\n",
       "<tr>\n",
       "  <th>Kurtosis:</th>      <td> 4.608</td> <th>  Cond. No.          </th> <td>    4.84</td>\n",
       "</tr>\n",
       "</table><br/><br/>Notes:<br/>[1] Standard Errors assume that the covariance matrix of the errors is correctly specified."
      ],
      "text/latex": [
       "\\begin{center}\n",
       "\\begin{tabular}{lclc}\n",
       "\\toprule\n",
       "\\textbf{Dep. Variable:}    &        y         & \\textbf{  R-squared:         } &     0.525   \\\\\n",
       "\\textbf{Model:}            &       OLS        & \\textbf{  Adj. R-squared:    } &     0.522   \\\\\n",
       "\\textbf{Method:}           &  Least Squares   & \\textbf{  F-statistic:       } &     179.2   \\\\\n",
       "\\textbf{Date:}             & Thu, 30 Nov 2023 & \\textbf{  Prob (F-statistic):} &  5.44e-28   \\\\\n",
       "\\textbf{Time:}             &     12:09:23     & \\textbf{  Log-Likelihood:    } &   -489.34   \\\\\n",
       "\\textbf{No. Observations:} &         164      & \\textbf{  AIC:               } &     982.7   \\\\\n",
       "\\textbf{Df Residuals:}     &         162      & \\textbf{  BIC:               } &     988.9   \\\\\n",
       "\\textbf{Df Model:}         &           1      & \\textbf{                     } &             \\\\\n",
       "\\textbf{Covariance Type:}  &    nonrobust     & \\textbf{                     } &             \\\\\n",
       "\\bottomrule\n",
       "\\end{tabular}\n",
       "\\begin{tabular}{lcccccc}\n",
       "               & \\textbf{coef} & \\textbf{std err} & \\textbf{t} & \\textbf{P$> |$t$|$} & \\textbf{[0.025} & \\textbf{0.975]}  \\\\\n",
       "\\midrule\n",
       "\\textbf{x1}    &      -1.0522  &        0.079     &   -13.385  &         0.000        &       -1.207    &       -0.897     \\\\\n",
       "\\textbf{const} &       0.5192  &        0.378     &     1.374  &         0.171        &       -0.227    &        1.265     \\\\\n",
       "\\bottomrule\n",
       "\\end{tabular}\n",
       "\\begin{tabular}{lclc}\n",
       "\\textbf{Omnibus:}       &  8.966 & \\textbf{  Durbin-Watson:     } &    1.991  \\\\\n",
       "\\textbf{Prob(Omnibus):} &  0.011 & \\textbf{  Jarque-Bera (JB):  } &   17.939  \\\\\n",
       "\\textbf{Skew:}          & -0.101 & \\textbf{  Prob(JB):          } & 0.000127  \\\\\n",
       "\\textbf{Kurtosis:}      &  4.608 & \\textbf{  Cond. No.          } &     4.84  \\\\\n",
       "\\bottomrule\n",
       "\\end{tabular}\n",
       "%\\caption{OLS Regression Results}\n",
       "\\end{center}\n",
       "\n",
       "Notes: \\newline\n",
       " [1] Standard Errors assume that the covariance matrix of the errors is correctly specified."
      ],
      "text/plain": [
       "<class 'statsmodels.iolib.summary.Summary'>\n",
       "\"\"\"\n",
       "                            OLS Regression Results                            \n",
       "==============================================================================\n",
       "Dep. Variable:                      y   R-squared:                       0.525\n",
       "Model:                            OLS   Adj. R-squared:                  0.522\n",
       "Method:                 Least Squares   F-statistic:                     179.2\n",
       "Date:                Thu, 30 Nov 2023   Prob (F-statistic):           5.44e-28\n",
       "Time:                        12:09:23   Log-Likelihood:                -489.34\n",
       "No. Observations:                 164   AIC:                             982.7\n",
       "Df Residuals:                     162   BIC:                             988.9\n",
       "Df Model:                           1                                         \n",
       "Covariance Type:            nonrobust                                         \n",
       "==============================================================================\n",
       "                 coef    std err          t      P>|t|      [0.025      0.975]\n",
       "------------------------------------------------------------------------------\n",
       "x1            -1.0522      0.079    -13.385      0.000      -1.207      -0.897\n",
       "const          0.5192      0.378      1.374      0.171      -0.227       1.265\n",
       "==============================================================================\n",
       "Omnibus:                        8.966   Durbin-Watson:                   1.991\n",
       "Prob(Omnibus):                  0.011   Jarque-Bera (JB):               17.939\n",
       "Skew:                          -0.101   Prob(JB):                     0.000127\n",
       "Kurtosis:                       4.608   Cond. No.                         4.84\n",
       "==============================================================================\n",
       "\n",
       "Notes:\n",
       "[1] Standard Errors assume that the covariance matrix of the errors is correctly specified.\n",
       "\"\"\""
      ]
     },
     "execution_count": 74,
     "metadata": {},
     "output_type": "execute_result"
    }
   ],
   "source": [
    "adf1 = adfuller(df['rCAC40'], regression='c', autolag='AIC', regresults=True)\n",
    "\n",
    "adf1[3].resols.summary()"
   ]
  },
  {
   "cell_type": "markdown",
   "id": "17e5046e",
   "metadata": {},
   "source": [
    "On test maintenant la significativité de la constante:\n",
    "\n",
    "- T stat de la constance = 1,374 et valeur tabulée de la constance dans modèle 2 = 2,54\n",
    "- T stat < T DF => Constante non significative, on passe au modèle 1 sans constante ni tendance"
   ]
  },
  {
   "cell_type": "code",
   "execution_count": 73,
   "id": "2ecc40eb",
   "metadata": {},
   "outputs": [
    {
     "data": {
      "text/plain": [
       "(-13.278014861359509,\n",
       " 3.677265811037128e-24,\n",
       " {'1%': -2.579507779595479,\n",
       "  '5%': -1.9427558378886698,\n",
       "  '10%': -1.6152956447599425},\n",
       " <statsmodels.stats.diagnostic.ResultsStore at 0x12fdf5550>)"
      ]
     },
     "execution_count": 73,
     "metadata": {},
     "output_type": "execute_result"
    }
   ],
   "source": [
    "adf1 = adfuller(df['rCAC40'], regression='n', autolag='AIC', regresults=True)\n",
    "\n",
    "adf1"
   ]
  },
  {
   "cell_type": "markdown",
   "id": "96426d39",
   "metadata": {},
   "source": [
    "- T stat = -13,27 et valeur tabulée = -1,94\n",
    "- T stat < T DF => On rejette H0 => notre serie est enfin stationnaire et la série CAC40 est dite intégrée d'odre 1 puisqu'il a fallu la différencier une fois pour la stationnariser."
   ]
  },
  {
   "cell_type": "markdown",
   "id": "84fe5fa3",
   "metadata": {},
   "source": [
    "### ADF - TxChange en niveau"
   ]
  },
  {
   "cell_type": "code",
   "execution_count": 18,
   "id": "a458e31d",
   "metadata": {},
   "outputs": [],
   "source": [
    "# On commence par le modèle avec tendance et constante :\n",
    "\"\"\"On stock les résultats du test dans une variable ici nommée adf1:\n",
    "    - On appelle la fonction de test adf\n",
    "    - On spécifie la variable pour laquelle on veut faire le test. Ici : ford\n",
    "    - On donne en option le modèle. Ici on commence par constante et tendance, donc : \"ct\"\n",
    "    - Le nombre de LAG est choisi via automatiquement sous le critère d'information AIC\n",
    "    - On demande à stocker les résultats pour pouvoir regarder la significativité de la tendance\n",
    "\"\"\"\n",
    "\n",
    "adf1 = adfuller(df['TxChange'], regression='ct', autolag='AIC', regresults=True)"
   ]
  },
  {
   "cell_type": "code",
   "execution_count": 19,
   "id": "4e7b1508",
   "metadata": {},
   "outputs": [
    {
     "data": {
      "text/html": [
       "<table class=\"simpletable\">\n",
       "<caption>OLS Regression Results</caption>\n",
       "<tr>\n",
       "  <th>Dep. Variable:</th>            <td>y</td>        <th>  R-squared:         </th> <td>   0.136</td>\n",
       "</tr>\n",
       "<tr>\n",
       "  <th>Model:</th>                   <td>OLS</td>       <th>  Adj. R-squared:    </th> <td>   0.090</td>\n",
       "</tr>\n",
       "<tr>\n",
       "  <th>Method:</th>             <td>Least Squares</td>  <th>  F-statistic:       </th> <td>   2.946</td>\n",
       "</tr>\n",
       "<tr>\n",
       "  <th>Date:</th>             <td>Thu, 30 Nov 2023</td> <th>  Prob (F-statistic):</th>  <td>0.00436</td>\n",
       "</tr>\n",
       "<tr>\n",
       "  <th>Time:</th>                 <td>10:42:53</td>     <th>  Log-Likelihood:    </th> <td>  349.02</td>\n",
       "</tr>\n",
       "<tr>\n",
       "  <th>No. Observations:</th>      <td>   159</td>      <th>  AIC:               </th> <td>  -680.0</td>\n",
       "</tr>\n",
       "<tr>\n",
       "  <th>Df Residuals:</th>          <td>   150</td>      <th>  BIC:               </th> <td>  -652.4</td>\n",
       "</tr>\n",
       "<tr>\n",
       "  <th>Df Model:</th>              <td>     8</td>      <th>                     </th>     <td> </td>   \n",
       "</tr>\n",
       "<tr>\n",
       "  <th>Covariance Type:</th>      <td>nonrobust</td>    <th>                     </th>     <td> </td>   \n",
       "</tr>\n",
       "</table>\n",
       "<table class=\"simpletable\">\n",
       "<tr>\n",
       "    <td></td>       <th>coef</th>     <th>std err</th>      <th>t</th>      <th>P>|t|</th>  <th>[0.025</th>    <th>0.975]</th>  \n",
       "</tr>\n",
       "<tr>\n",
       "  <th>x1</th>    <td>   -0.1111</td> <td>    0.034</td> <td>   -3.275</td> <td> 0.001</td> <td>   -0.178</td> <td>   -0.044</td>\n",
       "</tr>\n",
       "<tr>\n",
       "  <th>x2</th>    <td>   -0.0083</td> <td>    0.077</td> <td>   -0.108</td> <td> 0.914</td> <td>   -0.161</td> <td>    0.144</td>\n",
       "</tr>\n",
       "<tr>\n",
       "  <th>x3</th>    <td>    0.1518</td> <td>    0.077</td> <td>    1.984</td> <td> 0.049</td> <td>    0.001</td> <td>    0.303</td>\n",
       "</tr>\n",
       "<tr>\n",
       "  <th>x4</th>    <td>    0.0964</td> <td>    0.074</td> <td>    1.297</td> <td> 0.196</td> <td>   -0.050</td> <td>    0.243</td>\n",
       "</tr>\n",
       "<tr>\n",
       "  <th>x5</th>    <td>    0.0413</td> <td>    0.075</td> <td>    0.554</td> <td> 0.581</td> <td>   -0.106</td> <td>    0.189</td>\n",
       "</tr>\n",
       "<tr>\n",
       "  <th>x6</th>    <td>   -0.0402</td> <td>    0.075</td> <td>   -0.539</td> <td> 0.591</td> <td>   -0.188</td> <td>    0.107</td>\n",
       "</tr>\n",
       "<tr>\n",
       "  <th>x7</th>    <td>    0.2394</td> <td>    0.075</td> <td>    3.203</td> <td> 0.002</td> <td>    0.092</td> <td>    0.387</td>\n",
       "</tr>\n",
       "<tr>\n",
       "  <th>const</th> <td>    0.1495</td> <td>    0.046</td> <td>    3.248</td> <td> 0.001</td> <td>    0.059</td> <td>    0.240</td>\n",
       "</tr>\n",
       "<tr>\n",
       "  <th>x8</th>    <td>   -0.0002</td> <td>    8e-05</td> <td>   -2.737</td> <td> 0.007</td> <td>   -0.000</td> <td>-6.09e-05</td>\n",
       "</tr>\n",
       "</table>\n",
       "<table class=\"simpletable\">\n",
       "<tr>\n",
       "  <th>Omnibus:</th>       <td> 2.572</td> <th>  Durbin-Watson:     </th> <td>   1.984</td>\n",
       "</tr>\n",
       "<tr>\n",
       "  <th>Prob(Omnibus):</th> <td> 0.276</td> <th>  Jarque-Bera (JB):  </th> <td>   2.259</td>\n",
       "</tr>\n",
       "<tr>\n",
       "  <th>Skew:</th>          <td>-0.153</td> <th>  Prob(JB):          </th> <td>   0.323</td>\n",
       "</tr>\n",
       "<tr>\n",
       "  <th>Kurtosis:</th>      <td> 3.497</td> <th>  Cond. No.          </th> <td>3.88e+03</td>\n",
       "</tr>\n",
       "</table><br/><br/>Notes:<br/>[1] Standard Errors assume that the covariance matrix of the errors is correctly specified.<br/>[2] The condition number is large, 3.88e+03. This might indicate that there are<br/>strong multicollinearity or other numerical problems."
      ],
      "text/latex": [
       "\\begin{center}\n",
       "\\begin{tabular}{lclc}\n",
       "\\toprule\n",
       "\\textbf{Dep. Variable:}    &        y         & \\textbf{  R-squared:         } &     0.136   \\\\\n",
       "\\textbf{Model:}            &       OLS        & \\textbf{  Adj. R-squared:    } &     0.090   \\\\\n",
       "\\textbf{Method:}           &  Least Squares   & \\textbf{  F-statistic:       } &     2.946   \\\\\n",
       "\\textbf{Date:}             & Thu, 30 Nov 2023 & \\textbf{  Prob (F-statistic):} &  0.00436    \\\\\n",
       "\\textbf{Time:}             &     10:42:53     & \\textbf{  Log-Likelihood:    } &    349.02   \\\\\n",
       "\\textbf{No. Observations:} &         159      & \\textbf{  AIC:               } &    -680.0   \\\\\n",
       "\\textbf{Df Residuals:}     &         150      & \\textbf{  BIC:               } &    -652.4   \\\\\n",
       "\\textbf{Df Model:}         &           8      & \\textbf{                     } &             \\\\\n",
       "\\textbf{Covariance Type:}  &    nonrobust     & \\textbf{                     } &             \\\\\n",
       "\\bottomrule\n",
       "\\end{tabular}\n",
       "\\begin{tabular}{lcccccc}\n",
       "               & \\textbf{coef} & \\textbf{std err} & \\textbf{t} & \\textbf{P$> |$t$|$} & \\textbf{[0.025} & \\textbf{0.975]}  \\\\\n",
       "\\midrule\n",
       "\\textbf{x1}    &      -0.1111  &        0.034     &    -3.275  &         0.001        &       -0.178    &       -0.044     \\\\\n",
       "\\textbf{x2}    &      -0.0083  &        0.077     &    -0.108  &         0.914        &       -0.161    &        0.144     \\\\\n",
       "\\textbf{x3}    &       0.1518  &        0.077     &     1.984  &         0.049        &        0.001    &        0.303     \\\\\n",
       "\\textbf{x4}    &       0.0964  &        0.074     &     1.297  &         0.196        &       -0.050    &        0.243     \\\\\n",
       "\\textbf{x5}    &       0.0413  &        0.075     &     0.554  &         0.581        &       -0.106    &        0.189     \\\\\n",
       "\\textbf{x6}    &      -0.0402  &        0.075     &    -0.539  &         0.591        &       -0.188    &        0.107     \\\\\n",
       "\\textbf{x7}    &       0.2394  &        0.075     &     3.203  &         0.002        &        0.092    &        0.387     \\\\\n",
       "\\textbf{const} &       0.1495  &        0.046     &     3.248  &         0.001        &        0.059    &        0.240     \\\\\n",
       "\\textbf{x8}    &      -0.0002  &        8e-05     &    -2.737  &         0.007        &       -0.000    &    -6.09e-05     \\\\\n",
       "\\bottomrule\n",
       "\\end{tabular}\n",
       "\\begin{tabular}{lclc}\n",
       "\\textbf{Omnibus:}       &  2.572 & \\textbf{  Durbin-Watson:     } &    1.984  \\\\\n",
       "\\textbf{Prob(Omnibus):} &  0.276 & \\textbf{  Jarque-Bera (JB):  } &    2.259  \\\\\n",
       "\\textbf{Skew:}          & -0.153 & \\textbf{  Prob(JB):          } &    0.323  \\\\\n",
       "\\textbf{Kurtosis:}      &  3.497 & \\textbf{  Cond. No.          } & 3.88e+03  \\\\\n",
       "\\bottomrule\n",
       "\\end{tabular}\n",
       "%\\caption{OLS Regression Results}\n",
       "\\end{center}\n",
       "\n",
       "Notes: \\newline\n",
       " [1] Standard Errors assume that the covariance matrix of the errors is correctly specified. \\newline\n",
       " [2] The condition number is large, 3.88e+03. This might indicate that there are \\newline\n",
       " strong multicollinearity or other numerical problems."
      ],
      "text/plain": [
       "<class 'statsmodels.iolib.summary.Summary'>\n",
       "\"\"\"\n",
       "                            OLS Regression Results                            \n",
       "==============================================================================\n",
       "Dep. Variable:                      y   R-squared:                       0.136\n",
       "Model:                            OLS   Adj. R-squared:                  0.090\n",
       "Method:                 Least Squares   F-statistic:                     2.946\n",
       "Date:                Thu, 30 Nov 2023   Prob (F-statistic):            0.00436\n",
       "Time:                        10:42:53   Log-Likelihood:                 349.02\n",
       "No. Observations:                 159   AIC:                            -680.0\n",
       "Df Residuals:                     150   BIC:                            -652.4\n",
       "Df Model:                           8                                         \n",
       "Covariance Type:            nonrobust                                         \n",
       "==============================================================================\n",
       "                 coef    std err          t      P>|t|      [0.025      0.975]\n",
       "------------------------------------------------------------------------------\n",
       "x1            -0.1111      0.034     -3.275      0.001      -0.178      -0.044\n",
       "x2            -0.0083      0.077     -0.108      0.914      -0.161       0.144\n",
       "x3             0.1518      0.077      1.984      0.049       0.001       0.303\n",
       "x4             0.0964      0.074      1.297      0.196      -0.050       0.243\n",
       "x5             0.0413      0.075      0.554      0.581      -0.106       0.189\n",
       "x6            -0.0402      0.075     -0.539      0.591      -0.188       0.107\n",
       "x7             0.2394      0.075      3.203      0.002       0.092       0.387\n",
       "const          0.1495      0.046      3.248      0.001       0.059       0.240\n",
       "x8            -0.0002      8e-05     -2.737      0.007      -0.000   -6.09e-05\n",
       "==============================================================================\n",
       "Omnibus:                        2.572   Durbin-Watson:                   1.984\n",
       "Prob(Omnibus):                  0.276   Jarque-Bera (JB):                2.259\n",
       "Skew:                          -0.153   Prob(JB):                        0.323\n",
       "Kurtosis:                       3.497   Cond. No.                     3.88e+03\n",
       "==============================================================================\n",
       "\n",
       "Notes:\n",
       "[1] Standard Errors assume that the covariance matrix of the errors is correctly specified.\n",
       "[2] The condition number is large, 3.88e+03. This might indicate that there are\n",
       "strong multicollinearity or other numerical problems.\n",
       "\"\"\""
      ]
     },
     "execution_count": 19,
     "metadata": {},
     "output_type": "execute_result"
    }
   ],
   "source": [
    "adf1[3].resols.summary()"
   ]
  },
  {
   "cell_type": "markdown",
   "id": "854cb864",
   "metadata": {},
   "source": [
    "On recommence et on tester la variable X8 avec le modèle 3 (contante et tendance)\n",
    "- La statistique de test associé à la variable X8 est de -2,737. La valeur tabulée de la tendnace du test d'ADF pour le modèle 3 est de 2,79 (164 observations)\n",
    "- -2,737 < 2,79 => tendance non significative car t stat < valeure tabulée \n",
    "- On rejete donc le modèle 3 avec tendance et constante et on passe donc au modèle 2 sans tendance avec constante."
   ]
  },
  {
   "cell_type": "markdown",
   "id": "7022cc72",
   "metadata": {},
   "source": [
    "On test maintenant la significativité de la constante: "
   ]
  },
  {
   "cell_type": "code",
   "execution_count": 33,
   "id": "c8c2427e",
   "metadata": {},
   "outputs": [
    {
     "data": {
      "text/html": [
       "<table class=\"simpletable\">\n",
       "<caption>OLS Regression Results</caption>\n",
       "<tr>\n",
       "  <th>Dep. Variable:</th>            <td>y</td>        <th>  R-squared:         </th> <td>   0.528</td>\n",
       "</tr>\n",
       "<tr>\n",
       "  <th>Model:</th>                   <td>OLS</td>       <th>  Adj. R-squared:    </th> <td>   0.525</td>\n",
       "</tr>\n",
       "<tr>\n",
       "  <th>Method:</th>             <td>Least Squares</td>  <th>  F-statistic:       </th> <td>   181.1</td>\n",
       "</tr>\n",
       "<tr>\n",
       "  <th>Date:</th>             <td>Thu, 30 Nov 2023</td> <th>  Prob (F-statistic):</th> <td>3.39e-28</td>\n",
       "</tr>\n",
       "<tr>\n",
       "  <th>Time:</th>                 <td>11:03:38</td>     <th>  Log-Likelihood:    </th> <td> -379.65</td>\n",
       "</tr>\n",
       "<tr>\n",
       "  <th>No. Observations:</th>      <td>   164</td>      <th>  AIC:               </th> <td>   763.3</td>\n",
       "</tr>\n",
       "<tr>\n",
       "  <th>Df Residuals:</th>          <td>   162</td>      <th>  BIC:               </th> <td>   769.5</td>\n",
       "</tr>\n",
       "<tr>\n",
       "  <th>Df Model:</th>              <td>     1</td>      <th>                     </th>     <td> </td>   \n",
       "</tr>\n",
       "<tr>\n",
       "  <th>Covariance Type:</th>      <td>nonrobust</td>    <th>                     </th>     <td> </td>   \n",
       "</tr>\n",
       "</table>\n",
       "<table class=\"simpletable\">\n",
       "<tr>\n",
       "    <td></td>       <th>coef</th>     <th>std err</th>      <th>t</th>      <th>P>|t|</th>  <th>[0.025</th>    <th>0.975]</th>  \n",
       "</tr>\n",
       "<tr>\n",
       "  <th>x1</th>    <td>   -1.0546</td> <td>    0.078</td> <td>  -13.459</td> <td> 0.000</td> <td>   -1.209</td> <td>   -0.900</td>\n",
       "</tr>\n",
       "<tr>\n",
       "  <th>const</th> <td>   -0.1298</td> <td>    0.193</td> <td>   -0.673</td> <td> 0.502</td> <td>   -0.510</td> <td>    0.251</td>\n",
       "</tr>\n",
       "</table>\n",
       "<table class=\"simpletable\">\n",
       "<tr>\n",
       "  <th>Omnibus:</th>       <td> 4.382</td> <th>  Durbin-Watson:     </th> <td>   1.997</td>\n",
       "</tr>\n",
       "<tr>\n",
       "  <th>Prob(Omnibus):</th> <td> 0.112</td> <th>  Jarque-Bera (JB):  </th> <td>   5.074</td>\n",
       "</tr>\n",
       "<tr>\n",
       "  <th>Skew:</th>          <td>-0.155</td> <th>  Prob(JB):          </th> <td>  0.0791</td>\n",
       "</tr>\n",
       "<tr>\n",
       "  <th>Kurtosis:</th>      <td> 3.804</td> <th>  Cond. No.          </th> <td>    2.47</td>\n",
       "</tr>\n",
       "</table><br/><br/>Notes:<br/>[1] Standard Errors assume that the covariance matrix of the errors is correctly specified."
      ],
      "text/latex": [
       "\\begin{center}\n",
       "\\begin{tabular}{lclc}\n",
       "\\toprule\n",
       "\\textbf{Dep. Variable:}    &        y         & \\textbf{  R-squared:         } &     0.528   \\\\\n",
       "\\textbf{Model:}            &       OLS        & \\textbf{  Adj. R-squared:    } &     0.525   \\\\\n",
       "\\textbf{Method:}           &  Least Squares   & \\textbf{  F-statistic:       } &     181.1   \\\\\n",
       "\\textbf{Date:}             & Thu, 30 Nov 2023 & \\textbf{  Prob (F-statistic):} &  3.39e-28   \\\\\n",
       "\\textbf{Time:}             &     11:03:38     & \\textbf{  Log-Likelihood:    } &   -379.65   \\\\\n",
       "\\textbf{No. Observations:} &         164      & \\textbf{  AIC:               } &     763.3   \\\\\n",
       "\\textbf{Df Residuals:}     &         162      & \\textbf{  BIC:               } &     769.5   \\\\\n",
       "\\textbf{Df Model:}         &           1      & \\textbf{                     } &             \\\\\n",
       "\\textbf{Covariance Type:}  &    nonrobust     & \\textbf{                     } &             \\\\\n",
       "\\bottomrule\n",
       "\\end{tabular}\n",
       "\\begin{tabular}{lcccccc}\n",
       "               & \\textbf{coef} & \\textbf{std err} & \\textbf{t} & \\textbf{P$> |$t$|$} & \\textbf{[0.025} & \\textbf{0.975]}  \\\\\n",
       "\\midrule\n",
       "\\textbf{x1}    &      -1.0546  &        0.078     &   -13.459  &         0.000        &       -1.209    &       -0.900     \\\\\n",
       "\\textbf{const} &      -0.1298  &        0.193     &    -0.673  &         0.502        &       -0.510    &        0.251     \\\\\n",
       "\\bottomrule\n",
       "\\end{tabular}\n",
       "\\begin{tabular}{lclc}\n",
       "\\textbf{Omnibus:}       &  4.382 & \\textbf{  Durbin-Watson:     } &    1.997  \\\\\n",
       "\\textbf{Prob(Omnibus):} &  0.112 & \\textbf{  Jarque-Bera (JB):  } &    5.074  \\\\\n",
       "\\textbf{Skew:}          & -0.155 & \\textbf{  Prob(JB):          } &   0.0791  \\\\\n",
       "\\textbf{Kurtosis:}      &  3.804 & \\textbf{  Cond. No.          } &     2.47  \\\\\n",
       "\\bottomrule\n",
       "\\end{tabular}\n",
       "%\\caption{OLS Regression Results}\n",
       "\\end{center}\n",
       "\n",
       "Notes: \\newline\n",
       " [1] Standard Errors assume that the covariance matrix of the errors is correctly specified."
      ],
      "text/plain": [
       "<class 'statsmodels.iolib.summary.Summary'>\n",
       "\"\"\"\n",
       "                            OLS Regression Results                            \n",
       "==============================================================================\n",
       "Dep. Variable:                      y   R-squared:                       0.528\n",
       "Model:                            OLS   Adj. R-squared:                  0.525\n",
       "Method:                 Least Squares   F-statistic:                     181.1\n",
       "Date:                Thu, 30 Nov 2023   Prob (F-statistic):           3.39e-28\n",
       "Time:                        11:03:38   Log-Likelihood:                -379.65\n",
       "No. Observations:                 164   AIC:                             763.3\n",
       "Df Residuals:                     162   BIC:                             769.5\n",
       "Df Model:                           1                                         \n",
       "Covariance Type:            nonrobust                                         \n",
       "==============================================================================\n",
       "                 coef    std err          t      P>|t|      [0.025      0.975]\n",
       "------------------------------------------------------------------------------\n",
       "x1            -1.0546      0.078    -13.459      0.000      -1.209      -0.900\n",
       "const         -0.1298      0.193     -0.673      0.502      -0.510       0.251\n",
       "==============================================================================\n",
       "Omnibus:                        4.382   Durbin-Watson:                   1.997\n",
       "Prob(Omnibus):                  0.112   Jarque-Bera (JB):                5.074\n",
       "Skew:                          -0.155   Prob(JB):                       0.0791\n",
       "Kurtosis:                       3.804   Cond. No.                         2.47\n",
       "==============================================================================\n",
       "\n",
       "Notes:\n",
       "[1] Standard Errors assume that the covariance matrix of the errors is correctly specified.\n",
       "\"\"\""
      ]
     },
     "execution_count": 33,
     "metadata": {},
     "output_type": "execute_result"
    }
   ],
   "source": [
    "adf1 = adfuller(df['TxChange'], regression='c', autolag='AIC', regresults=True)\n",
    "adf1[3].resols.summary()"
   ]
  },
  {
   "cell_type": "markdown",
   "id": "00ad9a02",
   "metadata": {},
   "source": [
    "\n",
    "- T stat de la constance = -0,673 et valeur tabulée de la constance dans modèle 2 = 2,54\n",
    "- T stat < T DF => Constante non significative, on passe au modèle 1 sans constante ni tendance"
   ]
  },
  {
   "cell_type": "code",
   "execution_count": 35,
   "id": "b83c634d",
   "metadata": {},
   "outputs": [
    {
     "data": {
      "text/plain": [
       "(-13.464835114201934,\n",
       " 1.8207113626160667e-24,\n",
       " {'1%': -2.579507779595479,\n",
       "  '5%': -1.9427558378886698,\n",
       "  '10%': -1.6152956447599425},\n",
       " <statsmodels.stats.diagnostic.ResultsStore at 0x12ed29350>)"
      ]
     },
     "execution_count": 35,
     "metadata": {},
     "output_type": "execute_result"
    }
   ],
   "source": [
    "adf1 = adfuller(df['TxChange'], regression='n', autolag='AIC', regresults=True)\n",
    "adf1"
   ]
  },
  {
   "cell_type": "markdown",
   "id": "564fd717",
   "metadata": {},
   "source": [
    "- T stat = -13,46 et valeur tabulée = -1,94\n",
    "- 𝑡𝜑<𝑡𝐷𝐹 on rejette 𝐻0 : la série est stationnaire"
   ]
  },
  {
   "cell_type": "markdown",
   "id": "c5f4c5d4",
   "metadata": {},
   "source": [
    "=> Pas besoin de la stationnariser "
   ]
  },
  {
   "cell_type": "markdown",
   "id": "2be35a9a",
   "metadata": {},
   "source": [
    "### ADF - SocieteGenerale en niveau"
   ]
  },
  {
   "cell_type": "code",
   "execution_count": 49,
   "id": "94ba0b02",
   "metadata": {},
   "outputs": [],
   "source": [
    "# On commence par le modèle avec tendance et constante :\n",
    "\"\"\"On stock les résultats du test dans une variable ici nommée adf1:\n",
    "    - On appelle la fonction de test adf\n",
    "    - On spécifie la variable pour laquelle on veut faire le test. Ici : ford\n",
    "    - On donne en option le modèle. Ici on commence par constante et tendance, donc : \"ct\"\n",
    "    - Le nombre de LAG est choisi via automatiquement sous le critère d'information AIC\n",
    "    - On demande à stocker les résultats pour pouvoir regarder la significativité de la tendance\n",
    "\"\"\"\n",
    "\n",
    "ad1 = adfuller(df['SocieteGenerale'], regression='ct', autolag='AIC', regresults=True)"
   ]
  },
  {
   "cell_type": "code",
   "execution_count": 50,
   "id": "bcadc2e4",
   "metadata": {},
   "outputs": [
    {
     "data": {
      "text/html": [
       "<table class=\"simpletable\">\n",
       "<caption>OLS Regression Results</caption>\n",
       "<tr>\n",
       "  <th>Dep. Variable:</th>            <td>y</td>        <th>  R-squared:         </th> <td>   0.046</td>\n",
       "</tr>\n",
       "<tr>\n",
       "  <th>Model:</th>                   <td>OLS</td>       <th>  Adj. R-squared:    </th> <td>   0.034</td>\n",
       "</tr>\n",
       "<tr>\n",
       "  <th>Method:</th>             <td>Least Squares</td>  <th>  F-statistic:       </th> <td>   3.878</td>\n",
       "</tr>\n",
       "<tr>\n",
       "  <th>Date:</th>             <td>Thu, 30 Nov 2023</td> <th>  Prob (F-statistic):</th>  <td>0.0227</td> \n",
       "</tr>\n",
       "<tr>\n",
       "  <th>Time:</th>                 <td>11:19:53</td>     <th>  Log-Likelihood:    </th> <td> -353.00</td>\n",
       "</tr>\n",
       "<tr>\n",
       "  <th>No. Observations:</th>      <td>   164</td>      <th>  AIC:               </th> <td>   712.0</td>\n",
       "</tr>\n",
       "<tr>\n",
       "  <th>Df Residuals:</th>          <td>   161</td>      <th>  BIC:               </th> <td>   721.3</td>\n",
       "</tr>\n",
       "<tr>\n",
       "  <th>Df Model:</th>              <td>     2</td>      <th>                     </th>     <td> </td>   \n",
       "</tr>\n",
       "<tr>\n",
       "  <th>Covariance Type:</th>      <td>nonrobust</td>    <th>                     </th>     <td> </td>   \n",
       "</tr>\n",
       "</table>\n",
       "<table class=\"simpletable\">\n",
       "<tr>\n",
       "    <td></td>       <th>coef</th>     <th>std err</th>      <th>t</th>      <th>P>|t|</th>  <th>[0.025</th>    <th>0.975]</th>  \n",
       "</tr>\n",
       "<tr>\n",
       "  <th>x1</th>    <td>   -0.0913</td> <td>    0.033</td> <td>   -2.783</td> <td> 0.006</td> <td>   -0.156</td> <td>   -0.027</td>\n",
       "</tr>\n",
       "<tr>\n",
       "  <th>const</th> <td>    1.5724</td> <td>    0.660</td> <td>    2.384</td> <td> 0.018</td> <td>    0.270</td> <td>    2.875</td>\n",
       "</tr>\n",
       "<tr>\n",
       "  <th>x2</th>    <td>    0.0028</td> <td>    0.004</td> <td>    0.777</td> <td> 0.438</td> <td>   -0.004</td> <td>    0.010</td>\n",
       "</tr>\n",
       "</table>\n",
       "<table class=\"simpletable\">\n",
       "<tr>\n",
       "  <th>Omnibus:</th>       <td> 9.439</td> <th>  Durbin-Watson:     </th> <td>   1.879</td>\n",
       "</tr>\n",
       "<tr>\n",
       "  <th>Prob(Omnibus):</th> <td> 0.009</td> <th>  Jarque-Bera (JB):  </th> <td>   9.526</td>\n",
       "</tr>\n",
       "<tr>\n",
       "  <th>Skew:</th>          <td>-0.512</td> <th>  Prob(JB):          </th> <td> 0.00854</td>\n",
       "</tr>\n",
       "<tr>\n",
       "  <th>Kurtosis:</th>      <td> 3.588</td> <th>  Cond. No.          </th> <td>    389.</td>\n",
       "</tr>\n",
       "</table><br/><br/>Notes:<br/>[1] Standard Errors assume that the covariance matrix of the errors is correctly specified."
      ],
      "text/latex": [
       "\\begin{center}\n",
       "\\begin{tabular}{lclc}\n",
       "\\toprule\n",
       "\\textbf{Dep. Variable:}    &        y         & \\textbf{  R-squared:         } &     0.046   \\\\\n",
       "\\textbf{Model:}            &       OLS        & \\textbf{  Adj. R-squared:    } &     0.034   \\\\\n",
       "\\textbf{Method:}           &  Least Squares   & \\textbf{  F-statistic:       } &     3.878   \\\\\n",
       "\\textbf{Date:}             & Thu, 30 Nov 2023 & \\textbf{  Prob (F-statistic):} &   0.0227    \\\\\n",
       "\\textbf{Time:}             &     11:19:53     & \\textbf{  Log-Likelihood:    } &   -353.00   \\\\\n",
       "\\textbf{No. Observations:} &         164      & \\textbf{  AIC:               } &     712.0   \\\\\n",
       "\\textbf{Df Residuals:}     &         161      & \\textbf{  BIC:               } &     721.3   \\\\\n",
       "\\textbf{Df Model:}         &           2      & \\textbf{                     } &             \\\\\n",
       "\\textbf{Covariance Type:}  &    nonrobust     & \\textbf{                     } &             \\\\\n",
       "\\bottomrule\n",
       "\\end{tabular}\n",
       "\\begin{tabular}{lcccccc}\n",
       "               & \\textbf{coef} & \\textbf{std err} & \\textbf{t} & \\textbf{P$> |$t$|$} & \\textbf{[0.025} & \\textbf{0.975]}  \\\\\n",
       "\\midrule\n",
       "\\textbf{x1}    &      -0.0913  &        0.033     &    -2.783  &         0.006        &       -0.156    &       -0.027     \\\\\n",
       "\\textbf{const} &       1.5724  &        0.660     &     2.384  &         0.018        &        0.270    &        2.875     \\\\\n",
       "\\textbf{x2}    &       0.0028  &        0.004     &     0.777  &         0.438        &       -0.004    &        0.010     \\\\\n",
       "\\bottomrule\n",
       "\\end{tabular}\n",
       "\\begin{tabular}{lclc}\n",
       "\\textbf{Omnibus:}       &  9.439 & \\textbf{  Durbin-Watson:     } &    1.879  \\\\\n",
       "\\textbf{Prob(Omnibus):} &  0.009 & \\textbf{  Jarque-Bera (JB):  } &    9.526  \\\\\n",
       "\\textbf{Skew:}          & -0.512 & \\textbf{  Prob(JB):          } &  0.00854  \\\\\n",
       "\\textbf{Kurtosis:}      &  3.588 & \\textbf{  Cond. No.          } &     389.  \\\\\n",
       "\\bottomrule\n",
       "\\end{tabular}\n",
       "%\\caption{OLS Regression Results}\n",
       "\\end{center}\n",
       "\n",
       "Notes: \\newline\n",
       " [1] Standard Errors assume that the covariance matrix of the errors is correctly specified."
      ],
      "text/plain": [
       "<class 'statsmodels.iolib.summary.Summary'>\n",
       "\"\"\"\n",
       "                            OLS Regression Results                            \n",
       "==============================================================================\n",
       "Dep. Variable:                      y   R-squared:                       0.046\n",
       "Model:                            OLS   Adj. R-squared:                  0.034\n",
       "Method:                 Least Squares   F-statistic:                     3.878\n",
       "Date:                Thu, 30 Nov 2023   Prob (F-statistic):             0.0227\n",
       "Time:                        11:19:53   Log-Likelihood:                -353.00\n",
       "No. Observations:                 164   AIC:                             712.0\n",
       "Df Residuals:                     161   BIC:                             721.3\n",
       "Df Model:                           2                                         \n",
       "Covariance Type:            nonrobust                                         \n",
       "==============================================================================\n",
       "                 coef    std err          t      P>|t|      [0.025      0.975]\n",
       "------------------------------------------------------------------------------\n",
       "x1            -0.0913      0.033     -2.783      0.006      -0.156      -0.027\n",
       "const          1.5724      0.660      2.384      0.018       0.270       2.875\n",
       "x2             0.0028      0.004      0.777      0.438      -0.004       0.010\n",
       "==============================================================================\n",
       "Omnibus:                        9.439   Durbin-Watson:                   1.879\n",
       "Prob(Omnibus):                  0.009   Jarque-Bera (JB):                9.526\n",
       "Skew:                          -0.512   Prob(JB):                      0.00854\n",
       "Kurtosis:                       3.588   Cond. No.                         389.\n",
       "==============================================================================\n",
       "\n",
       "Notes:\n",
       "[1] Standard Errors assume that the covariance matrix of the errors is correctly specified.\n",
       "\"\"\""
      ]
     },
     "execution_count": 50,
     "metadata": {},
     "output_type": "execute_result"
    }
   ],
   "source": [
    "ad1[3].resols.summary()"
   ]
  },
  {
   "cell_type": "markdown",
   "id": "e2263b9a",
   "metadata": {},
   "source": [
    "- La statistique de test associé à la variable X1 est de 0,777. La valeur tabulée de la tendnace du test d'ADF pour le modèle 3 est de 2,79 (164 observations)\n",
    "- 0,777 < 2,79 => tendance non significative car t stat < valeure tabulée \n",
    "- On rejete donc le modèle 3 avec tendance et constante et on passe donc au modèle 2 sans tendance avec constante."
   ]
  },
  {
   "cell_type": "code",
   "execution_count": 39,
   "id": "2164d7c2",
   "metadata": {},
   "outputs": [
    {
     "data": {
      "text/html": [
       "<table class=\"simpletable\">\n",
       "<caption>OLS Regression Results</caption>\n",
       "<tr>\n",
       "  <th>Dep. Variable:</th>            <td>y</td>        <th>  R-squared:         </th> <td>   0.042</td>\n",
       "</tr>\n",
       "<tr>\n",
       "  <th>Model:</th>                   <td>OLS</td>       <th>  Adj. R-squared:    </th> <td>   0.036</td>\n",
       "</tr>\n",
       "<tr>\n",
       "  <th>Method:</th>             <td>Least Squares</td>  <th>  F-statistic:       </th> <td>   7.169</td>\n",
       "</tr>\n",
       "<tr>\n",
       "  <th>Date:</th>             <td>Thu, 30 Nov 2023</td> <th>  Prob (F-statistic):</th>  <td>0.00818</td>\n",
       "</tr>\n",
       "<tr>\n",
       "  <th>Time:</th>                 <td>11:11:28</td>     <th>  Log-Likelihood:    </th> <td> -353.30</td>\n",
       "</tr>\n",
       "<tr>\n",
       "  <th>No. Observations:</th>      <td>   164</td>      <th>  AIC:               </th> <td>   710.6</td>\n",
       "</tr>\n",
       "<tr>\n",
       "  <th>Df Residuals:</th>          <td>   162</td>      <th>  BIC:               </th> <td>   716.8</td>\n",
       "</tr>\n",
       "<tr>\n",
       "  <th>Df Model:</th>              <td>     1</td>      <th>                     </th>     <td> </td>   \n",
       "</tr>\n",
       "<tr>\n",
       "  <th>Covariance Type:</th>      <td>nonrobust</td>    <th>                     </th>     <td> </td>   \n",
       "</tr>\n",
       "</table>\n",
       "<table class=\"simpletable\">\n",
       "<tr>\n",
       "    <td></td>       <th>coef</th>     <th>std err</th>      <th>t</th>      <th>P>|t|</th>  <th>[0.025</th>    <th>0.975]</th>  \n",
       "</tr>\n",
       "<tr>\n",
       "  <th>x1</th>    <td>   -0.0850</td> <td>    0.032</td> <td>   -2.677</td> <td> 0.008</td> <td>   -0.148</td> <td>   -0.022</td>\n",
       "</tr>\n",
       "<tr>\n",
       "  <th>const</th> <td>    1.6784</td> <td>    0.645</td> <td>    2.604</td> <td> 0.010</td> <td>    0.406</td> <td>    2.951</td>\n",
       "</tr>\n",
       "</table>\n",
       "<table class=\"simpletable\">\n",
       "<tr>\n",
       "  <th>Omnibus:</th>       <td> 8.672</td> <th>  Durbin-Watson:     </th> <td>   1.884</td>\n",
       "</tr>\n",
       "<tr>\n",
       "  <th>Prob(Omnibus):</th> <td> 0.013</td> <th>  Jarque-Bera (JB):  </th> <td>   8.541</td>\n",
       "</tr>\n",
       "<tr>\n",
       "  <th>Skew:</th>          <td>-0.501</td> <th>  Prob(JB):          </th> <td>  0.0140</td>\n",
       "</tr>\n",
       "<tr>\n",
       "  <th>Kurtosis:</th>      <td> 3.494</td> <th>  Cond. No.          </th> <td>    80.0</td>\n",
       "</tr>\n",
       "</table><br/><br/>Notes:<br/>[1] Standard Errors assume that the covariance matrix of the errors is correctly specified."
      ],
      "text/latex": [
       "\\begin{center}\n",
       "\\begin{tabular}{lclc}\n",
       "\\toprule\n",
       "\\textbf{Dep. Variable:}    &        y         & \\textbf{  R-squared:         } &     0.042   \\\\\n",
       "\\textbf{Model:}            &       OLS        & \\textbf{  Adj. R-squared:    } &     0.036   \\\\\n",
       "\\textbf{Method:}           &  Least Squares   & \\textbf{  F-statistic:       } &     7.169   \\\\\n",
       "\\textbf{Date:}             & Thu, 30 Nov 2023 & \\textbf{  Prob (F-statistic):} &  0.00818    \\\\\n",
       "\\textbf{Time:}             &     11:11:28     & \\textbf{  Log-Likelihood:    } &   -353.30   \\\\\n",
       "\\textbf{No. Observations:} &         164      & \\textbf{  AIC:               } &     710.6   \\\\\n",
       "\\textbf{Df Residuals:}     &         162      & \\textbf{  BIC:               } &     716.8   \\\\\n",
       "\\textbf{Df Model:}         &           1      & \\textbf{                     } &             \\\\\n",
       "\\textbf{Covariance Type:}  &    nonrobust     & \\textbf{                     } &             \\\\\n",
       "\\bottomrule\n",
       "\\end{tabular}\n",
       "\\begin{tabular}{lcccccc}\n",
       "               & \\textbf{coef} & \\textbf{std err} & \\textbf{t} & \\textbf{P$> |$t$|$} & \\textbf{[0.025} & \\textbf{0.975]}  \\\\\n",
       "\\midrule\n",
       "\\textbf{x1}    &      -0.0850  &        0.032     &    -2.677  &         0.008        &       -0.148    &       -0.022     \\\\\n",
       "\\textbf{const} &       1.6784  &        0.645     &     2.604  &         0.010        &        0.406    &        2.951     \\\\\n",
       "\\bottomrule\n",
       "\\end{tabular}\n",
       "\\begin{tabular}{lclc}\n",
       "\\textbf{Omnibus:}       &  8.672 & \\textbf{  Durbin-Watson:     } &    1.884  \\\\\n",
       "\\textbf{Prob(Omnibus):} &  0.013 & \\textbf{  Jarque-Bera (JB):  } &    8.541  \\\\\n",
       "\\textbf{Skew:}          & -0.501 & \\textbf{  Prob(JB):          } &   0.0140  \\\\\n",
       "\\textbf{Kurtosis:}      &  3.494 & \\textbf{  Cond. No.          } &     80.0  \\\\\n",
       "\\bottomrule\n",
       "\\end{tabular}\n",
       "%\\caption{OLS Regression Results}\n",
       "\\end{center}\n",
       "\n",
       "Notes: \\newline\n",
       " [1] Standard Errors assume that the covariance matrix of the errors is correctly specified."
      ],
      "text/plain": [
       "<class 'statsmodels.iolib.summary.Summary'>\n",
       "\"\"\"\n",
       "                            OLS Regression Results                            \n",
       "==============================================================================\n",
       "Dep. Variable:                      y   R-squared:                       0.042\n",
       "Model:                            OLS   Adj. R-squared:                  0.036\n",
       "Method:                 Least Squares   F-statistic:                     7.169\n",
       "Date:                Thu, 30 Nov 2023   Prob (F-statistic):            0.00818\n",
       "Time:                        11:11:28   Log-Likelihood:                -353.30\n",
       "No. Observations:                 164   AIC:                             710.6\n",
       "Df Residuals:                     162   BIC:                             716.8\n",
       "Df Model:                           1                                         \n",
       "Covariance Type:            nonrobust                                         \n",
       "==============================================================================\n",
       "                 coef    std err          t      P>|t|      [0.025      0.975]\n",
       "------------------------------------------------------------------------------\n",
       "x1            -0.0850      0.032     -2.677      0.008      -0.148      -0.022\n",
       "const          1.6784      0.645      2.604      0.010       0.406       2.951\n",
       "==============================================================================\n",
       "Omnibus:                        8.672   Durbin-Watson:                   1.884\n",
       "Prob(Omnibus):                  0.013   Jarque-Bera (JB):                8.541\n",
       "Skew:                          -0.501   Prob(JB):                       0.0140\n",
       "Kurtosis:                       3.494   Cond. No.                         80.0\n",
       "==============================================================================\n",
       "\n",
       "Notes:\n",
       "[1] Standard Errors assume that the covariance matrix of the errors is correctly specified.\n",
       "\"\"\""
      ]
     },
     "execution_count": 39,
     "metadata": {},
     "output_type": "execute_result"
    }
   ],
   "source": [
    "adf1 = adfuller(df['SocieteGenerale'], regression='c', autolag='AIC', regresults=True)\n",
    "adf1[3].resols.summary()"
   ]
  },
  {
   "cell_type": "markdown",
   "id": "c62d2705",
   "metadata": {},
   "source": [
    "- T stat de la constance = 2,604 et valeur tabulée de la constance dans modèle 2 = 2,54\n",
    "- T stat > T DF => Constante significative\n",
    "- On regarde si on a une racine unitaire"
   ]
  },
  {
   "cell_type": "code",
   "execution_count": 41,
   "id": "24752d50",
   "metadata": {},
   "outputs": [
    {
     "data": {
      "text/plain": [
       "(-0.6143981350200205,\n",
       " 0.44859909981481105,\n",
       " {'1%': -2.579507779595479,\n",
       "  '5%': -1.9427558378886698,\n",
       "  '10%': -1.6152956447599425},\n",
       " <statsmodels.stats.diagnostic.ResultsStore at 0x12ed4f850>)"
      ]
     },
     "execution_count": 41,
     "metadata": {},
     "output_type": "execute_result"
    }
   ],
   "source": [
    "adf1 = adfuller(df['SocieteGenerale'], regression='n', autolag='AIC', regresults=True)\n",
    "adf1"
   ]
  },
  {
   "cell_type": "markdown",
   "id": "3ce98368",
   "metadata": {},
   "source": [
    "- 𝑡𝜑 > 𝑡𝐷𝐹 on rejette 𝐻0 : la série est non stationnaire, il faut la stationnariser avec les taux de croissance"
   ]
  },
  {
   "cell_type": "markdown",
   "id": "92aaa6a5",
   "metadata": {},
   "source": [
    "### ADF - SocieteGenerale en taux de croissance"
   ]
  },
  {
   "cell_type": "code",
   "execution_count": 51,
   "id": "304ea9e0",
   "metadata": {},
   "outputs": [],
   "source": [
    "# On commence par le modèle avec tendance et constante :\n",
    "\"\"\"On stock les résultats du test dans une variable ici nommée adf1:\n",
    "    - On appelle la fonction de test adf\n",
    "    - On spécifie la variable pour laquelle on veut faire le test. Ici : ford\n",
    "    - On donne en option le modèle. Ici on commence par constante et tendance, donc : \"ct\"\n",
    "    - Le nombre de LAG est choisi via automatiquement sous le critère d'information AIC\n",
    "    - On demande à stocker les résultats pour pouvoir regarder la significativité de la tendance\n",
    "\"\"\"\n",
    "\n",
    "adf1 = adfuller(df['rSocieteGenerale'], regression='ct', autolag='AIC', regresults=True)"
   ]
  },
  {
   "cell_type": "code",
   "execution_count": 52,
   "id": "abe73e2c",
   "metadata": {
    "scrolled": true
   },
   "outputs": [
    {
     "data": {
      "text/html": [
       "<table class=\"simpletable\">\n",
       "<caption>OLS Regression Results</caption>\n",
       "<tr>\n",
       "  <th>Dep. Variable:</th>            <td>y</td>        <th>  R-squared:         </th> <td>   0.490</td>\n",
       "</tr>\n",
       "<tr>\n",
       "  <th>Model:</th>                   <td>OLS</td>       <th>  Adj. R-squared:    </th> <td>   0.483</td>\n",
       "</tr>\n",
       "<tr>\n",
       "  <th>Method:</th>             <td>Least Squares</td>  <th>  F-statistic:       </th> <td>   77.28</td>\n",
       "</tr>\n",
       "<tr>\n",
       "  <th>Date:</th>             <td>Thu, 30 Nov 2023</td> <th>  Prob (F-statistic):</th> <td>2.97e-24</td>\n",
       "</tr>\n",
       "<tr>\n",
       "  <th>Time:</th>                 <td>11:20:30</td>     <th>  Log-Likelihood:    </th> <td> -637.66</td>\n",
       "</tr>\n",
       "<tr>\n",
       "  <th>No. Observations:</th>      <td>   164</td>      <th>  AIC:               </th> <td>   1281.</td>\n",
       "</tr>\n",
       "<tr>\n",
       "  <th>Df Residuals:</th>          <td>   161</td>      <th>  BIC:               </th> <td>   1291.</td>\n",
       "</tr>\n",
       "<tr>\n",
       "  <th>Df Model:</th>              <td>     2</td>      <th>                     </th>     <td> </td>   \n",
       "</tr>\n",
       "<tr>\n",
       "  <th>Covariance Type:</th>      <td>nonrobust</td>    <th>                     </th>     <td> </td>   \n",
       "</tr>\n",
       "</table>\n",
       "<table class=\"simpletable\">\n",
       "<tr>\n",
       "    <td></td>       <th>coef</th>     <th>std err</th>      <th>t</th>      <th>P>|t|</th>  <th>[0.025</th>    <th>0.975]</th>  \n",
       "</tr>\n",
       "<tr>\n",
       "  <th>x1</th>    <td>   -0.9810</td> <td>    0.079</td> <td>  -12.431</td> <td> 0.000</td> <td>   -1.137</td> <td>   -0.825</td>\n",
       "</tr>\n",
       "<tr>\n",
       "  <th>const</th> <td>    0.4636</td> <td>    1.871</td> <td>    0.248</td> <td> 0.805</td> <td>   -3.231</td> <td>    4.158</td>\n",
       "</tr>\n",
       "<tr>\n",
       "  <th>x2</th>    <td>    0.0033</td> <td>    0.020</td> <td>    0.170</td> <td> 0.865</td> <td>   -0.036</td> <td>    0.042</td>\n",
       "</tr>\n",
       "</table>\n",
       "<table class=\"simpletable\">\n",
       "<tr>\n",
       "  <th>Omnibus:</th>       <td> 7.490</td> <th>  Durbin-Watson:     </th> <td>   1.977</td>\n",
       "</tr>\n",
       "<tr>\n",
       "  <th>Prob(Omnibus):</th> <td> 0.024</td> <th>  Jarque-Bera (JB):  </th> <td>  13.170</td>\n",
       "</tr>\n",
       "<tr>\n",
       "  <th>Skew:</th>          <td> 0.097</td> <th>  Prob(JB):          </th> <td> 0.00138</td>\n",
       "</tr>\n",
       "<tr>\n",
       "  <th>Kurtosis:</th>      <td> 4.375</td> <th>  Cond. No.          </th> <td>    191.</td>\n",
       "</tr>\n",
       "</table><br/><br/>Notes:<br/>[1] Standard Errors assume that the covariance matrix of the errors is correctly specified."
      ],
      "text/latex": [
       "\\begin{center}\n",
       "\\begin{tabular}{lclc}\n",
       "\\toprule\n",
       "\\textbf{Dep. Variable:}    &        y         & \\textbf{  R-squared:         } &     0.490   \\\\\n",
       "\\textbf{Model:}            &       OLS        & \\textbf{  Adj. R-squared:    } &     0.483   \\\\\n",
       "\\textbf{Method:}           &  Least Squares   & \\textbf{  F-statistic:       } &     77.28   \\\\\n",
       "\\textbf{Date:}             & Thu, 30 Nov 2023 & \\textbf{  Prob (F-statistic):} &  2.97e-24   \\\\\n",
       "\\textbf{Time:}             &     11:20:30     & \\textbf{  Log-Likelihood:    } &   -637.66   \\\\\n",
       "\\textbf{No. Observations:} &         164      & \\textbf{  AIC:               } &     1281.   \\\\\n",
       "\\textbf{Df Residuals:}     &         161      & \\textbf{  BIC:               } &     1291.   \\\\\n",
       "\\textbf{Df Model:}         &           2      & \\textbf{                     } &             \\\\\n",
       "\\textbf{Covariance Type:}  &    nonrobust     & \\textbf{                     } &             \\\\\n",
       "\\bottomrule\n",
       "\\end{tabular}\n",
       "\\begin{tabular}{lcccccc}\n",
       "               & \\textbf{coef} & \\textbf{std err} & \\textbf{t} & \\textbf{P$> |$t$|$} & \\textbf{[0.025} & \\textbf{0.975]}  \\\\\n",
       "\\midrule\n",
       "\\textbf{x1}    &      -0.9810  &        0.079     &   -12.431  &         0.000        &       -1.137    &       -0.825     \\\\\n",
       "\\textbf{const} &       0.4636  &        1.871     &     0.248  &         0.805        &       -3.231    &        4.158     \\\\\n",
       "\\textbf{x2}    &       0.0033  &        0.020     &     0.170  &         0.865        &       -0.036    &        0.042     \\\\\n",
       "\\bottomrule\n",
       "\\end{tabular}\n",
       "\\begin{tabular}{lclc}\n",
       "\\textbf{Omnibus:}       &  7.490 & \\textbf{  Durbin-Watson:     } &    1.977  \\\\\n",
       "\\textbf{Prob(Omnibus):} &  0.024 & \\textbf{  Jarque-Bera (JB):  } &   13.170  \\\\\n",
       "\\textbf{Skew:}          &  0.097 & \\textbf{  Prob(JB):          } &  0.00138  \\\\\n",
       "\\textbf{Kurtosis:}      &  4.375 & \\textbf{  Cond. No.          } &     191.  \\\\\n",
       "\\bottomrule\n",
       "\\end{tabular}\n",
       "%\\caption{OLS Regression Results}\n",
       "\\end{center}\n",
       "\n",
       "Notes: \\newline\n",
       " [1] Standard Errors assume that the covariance matrix of the errors is correctly specified."
      ],
      "text/plain": [
       "<class 'statsmodels.iolib.summary.Summary'>\n",
       "\"\"\"\n",
       "                            OLS Regression Results                            \n",
       "==============================================================================\n",
       "Dep. Variable:                      y   R-squared:                       0.490\n",
       "Model:                            OLS   Adj. R-squared:                  0.483\n",
       "Method:                 Least Squares   F-statistic:                     77.28\n",
       "Date:                Thu, 30 Nov 2023   Prob (F-statistic):           2.97e-24\n",
       "Time:                        11:20:30   Log-Likelihood:                -637.66\n",
       "No. Observations:                 164   AIC:                             1281.\n",
       "Df Residuals:                     161   BIC:                             1291.\n",
       "Df Model:                           2                                         \n",
       "Covariance Type:            nonrobust                                         \n",
       "==============================================================================\n",
       "                 coef    std err          t      P>|t|      [0.025      0.975]\n",
       "------------------------------------------------------------------------------\n",
       "x1            -0.9810      0.079    -12.431      0.000      -1.137      -0.825\n",
       "const          0.4636      1.871      0.248      0.805      -3.231       4.158\n",
       "x2             0.0033      0.020      0.170      0.865      -0.036       0.042\n",
       "==============================================================================\n",
       "Omnibus:                        7.490   Durbin-Watson:                   1.977\n",
       "Prob(Omnibus):                  0.024   Jarque-Bera (JB):               13.170\n",
       "Skew:                           0.097   Prob(JB):                      0.00138\n",
       "Kurtosis:                       4.375   Cond. No.                         191.\n",
       "==============================================================================\n",
       "\n",
       "Notes:\n",
       "[1] Standard Errors assume that the covariance matrix of the errors is correctly specified.\n",
       "\"\"\""
      ]
     },
     "execution_count": 52,
     "metadata": {},
     "output_type": "execute_result"
    }
   ],
   "source": [
    "adf1[3].resols.summary()"
   ]
  },
  {
   "cell_type": "markdown",
   "id": "cf65be4a",
   "metadata": {},
   "source": [
    "- La statistique de test associé à la variable X2 est de 0,170. La valeur tabulée de la tendnace du test d'ADF pour le modèle 3 est de 2,79 (164 observations)\n",
    "- 0,170 < 2,79 => tendance non significative car t stat < valeure tabulée \n",
    "- On rejete donc le modèle 3 avec tendance et constante et on passe donc au modèle 2 sans tendance avec constante."
   ]
  },
  {
   "cell_type": "code",
   "execution_count": 53,
   "id": "151f72bf",
   "metadata": {},
   "outputs": [
    {
     "data": {
      "text/html": [
       "<table class=\"simpletable\">\n",
       "<caption>OLS Regression Results</caption>\n",
       "<tr>\n",
       "  <th>Dep. Variable:</th>            <td>y</td>        <th>  R-squared:         </th> <td>   0.490</td>\n",
       "</tr>\n",
       "<tr>\n",
       "  <th>Model:</th>                   <td>OLS</td>       <th>  Adj. R-squared:    </th> <td>   0.487</td>\n",
       "</tr>\n",
       "<tr>\n",
       "  <th>Method:</th>             <td>Least Squares</td>  <th>  F-statistic:       </th> <td>   155.5</td>\n",
       "</tr>\n",
       "<tr>\n",
       "  <th>Date:</th>             <td>Thu, 30 Nov 2023</td> <th>  Prob (F-statistic):</th> <td>1.91e-25</td>\n",
       "</tr>\n",
       "<tr>\n",
       "  <th>Time:</th>                 <td>11:21:46</td>     <th>  Log-Likelihood:    </th> <td> -637.68</td>\n",
       "</tr>\n",
       "<tr>\n",
       "  <th>No. Observations:</th>      <td>   164</td>      <th>  AIC:               </th> <td>   1279.</td>\n",
       "</tr>\n",
       "<tr>\n",
       "  <th>Df Residuals:</th>          <td>   162</td>      <th>  BIC:               </th> <td>   1286.</td>\n",
       "</tr>\n",
       "<tr>\n",
       "  <th>Df Model:</th>              <td>     1</td>      <th>                     </th>     <td> </td>   \n",
       "</tr>\n",
       "<tr>\n",
       "  <th>Covariance Type:</th>      <td>nonrobust</td>    <th>                     </th>     <td> </td>   \n",
       "</tr>\n",
       "</table>\n",
       "<table class=\"simpletable\">\n",
       "<tr>\n",
       "    <td></td>       <th>coef</th>     <th>std err</th>      <th>t</th>      <th>P>|t|</th>  <th>[0.025</th>    <th>0.975]</th>  \n",
       "</tr>\n",
       "<tr>\n",
       "  <th>x1</th>    <td>   -0.9806</td> <td>    0.079</td> <td>  -12.469</td> <td> 0.000</td> <td>   -1.136</td> <td>   -0.825</td>\n",
       "</tr>\n",
       "<tr>\n",
       "  <th>const</th> <td>    0.7389</td> <td>    0.930</td> <td>    0.794</td> <td> 0.428</td> <td>   -1.098</td> <td>    2.576</td>\n",
       "</tr>\n",
       "</table>\n",
       "<table class=\"simpletable\">\n",
       "<tr>\n",
       "  <th>Omnibus:</th>       <td> 7.554</td> <th>  Durbin-Watson:     </th> <td>   1.978</td>\n",
       "</tr>\n",
       "<tr>\n",
       "  <th>Prob(Omnibus):</th> <td> 0.023</td> <th>  Jarque-Bera (JB):  </th> <td>  13.353</td>\n",
       "</tr>\n",
       "<tr>\n",
       "  <th>Skew:</th>          <td> 0.097</td> <th>  Prob(JB):          </th> <td> 0.00126</td>\n",
       "</tr>\n",
       "<tr>\n",
       "  <th>Kurtosis:</th>      <td> 4.384</td> <th>  Cond. No.          </th> <td>    11.9</td>\n",
       "</tr>\n",
       "</table><br/><br/>Notes:<br/>[1] Standard Errors assume that the covariance matrix of the errors is correctly specified."
      ],
      "text/latex": [
       "\\begin{center}\n",
       "\\begin{tabular}{lclc}\n",
       "\\toprule\n",
       "\\textbf{Dep. Variable:}    &        y         & \\textbf{  R-squared:         } &     0.490   \\\\\n",
       "\\textbf{Model:}            &       OLS        & \\textbf{  Adj. R-squared:    } &     0.487   \\\\\n",
       "\\textbf{Method:}           &  Least Squares   & \\textbf{  F-statistic:       } &     155.5   \\\\\n",
       "\\textbf{Date:}             & Thu, 30 Nov 2023 & \\textbf{  Prob (F-statistic):} &  1.91e-25   \\\\\n",
       "\\textbf{Time:}             &     11:21:46     & \\textbf{  Log-Likelihood:    } &   -637.68   \\\\\n",
       "\\textbf{No. Observations:} &         164      & \\textbf{  AIC:               } &     1279.   \\\\\n",
       "\\textbf{Df Residuals:}     &         162      & \\textbf{  BIC:               } &     1286.   \\\\\n",
       "\\textbf{Df Model:}         &           1      & \\textbf{                     } &             \\\\\n",
       "\\textbf{Covariance Type:}  &    nonrobust     & \\textbf{                     } &             \\\\\n",
       "\\bottomrule\n",
       "\\end{tabular}\n",
       "\\begin{tabular}{lcccccc}\n",
       "               & \\textbf{coef} & \\textbf{std err} & \\textbf{t} & \\textbf{P$> |$t$|$} & \\textbf{[0.025} & \\textbf{0.975]}  \\\\\n",
       "\\midrule\n",
       "\\textbf{x1}    &      -0.9806  &        0.079     &   -12.469  &         0.000        &       -1.136    &       -0.825     \\\\\n",
       "\\textbf{const} &       0.7389  &        0.930     &     0.794  &         0.428        &       -1.098    &        2.576     \\\\\n",
       "\\bottomrule\n",
       "\\end{tabular}\n",
       "\\begin{tabular}{lclc}\n",
       "\\textbf{Omnibus:}       &  7.554 & \\textbf{  Durbin-Watson:     } &    1.978  \\\\\n",
       "\\textbf{Prob(Omnibus):} &  0.023 & \\textbf{  Jarque-Bera (JB):  } &   13.353  \\\\\n",
       "\\textbf{Skew:}          &  0.097 & \\textbf{  Prob(JB):          } &  0.00126  \\\\\n",
       "\\textbf{Kurtosis:}      &  4.384 & \\textbf{  Cond. No.          } &     11.9  \\\\\n",
       "\\bottomrule\n",
       "\\end{tabular}\n",
       "%\\caption{OLS Regression Results}\n",
       "\\end{center}\n",
       "\n",
       "Notes: \\newline\n",
       " [1] Standard Errors assume that the covariance matrix of the errors is correctly specified."
      ],
      "text/plain": [
       "<class 'statsmodels.iolib.summary.Summary'>\n",
       "\"\"\"\n",
       "                            OLS Regression Results                            \n",
       "==============================================================================\n",
       "Dep. Variable:                      y   R-squared:                       0.490\n",
       "Model:                            OLS   Adj. R-squared:                  0.487\n",
       "Method:                 Least Squares   F-statistic:                     155.5\n",
       "Date:                Thu, 30 Nov 2023   Prob (F-statistic):           1.91e-25\n",
       "Time:                        11:21:46   Log-Likelihood:                -637.68\n",
       "No. Observations:                 164   AIC:                             1279.\n",
       "Df Residuals:                     162   BIC:                             1286.\n",
       "Df Model:                           1                                         \n",
       "Covariance Type:            nonrobust                                         \n",
       "==============================================================================\n",
       "                 coef    std err          t      P>|t|      [0.025      0.975]\n",
       "------------------------------------------------------------------------------\n",
       "x1            -0.9806      0.079    -12.469      0.000      -1.136      -0.825\n",
       "const          0.7389      0.930      0.794      0.428      -1.098       2.576\n",
       "==============================================================================\n",
       "Omnibus:                        7.554   Durbin-Watson:                   1.978\n",
       "Prob(Omnibus):                  0.023   Jarque-Bera (JB):               13.353\n",
       "Skew:                           0.097   Prob(JB):                      0.00126\n",
       "Kurtosis:                       4.384   Cond. No.                         11.9\n",
       "==============================================================================\n",
       "\n",
       "Notes:\n",
       "[1] Standard Errors assume that the covariance matrix of the errors is correctly specified.\n",
       "\"\"\""
      ]
     },
     "execution_count": 53,
     "metadata": {},
     "output_type": "execute_result"
    }
   ],
   "source": [
    "adf1 = adfuller(df['rSocieteGenerale'], regression='c', autolag='AIC', regresults=True)\n",
    "adf1[3].resols.summary()"
   ]
  },
  {
   "cell_type": "markdown",
   "id": "e9f61f09",
   "metadata": {},
   "source": [
    "- T stat de la constance = 0,794 et valeur tabulée de la constance dans modèle 2 = 2,54\n",
    "- T stat < T DF => Constante non significative\n",
    "- On passe au modèle 1 sans tendance ni constante "
   ]
  },
  {
   "cell_type": "code",
   "execution_count": 54,
   "id": "8760def6",
   "metadata": {},
   "outputs": [
    {
     "data": {
      "text/plain": [
       "(-12.457538492571107,\n",
       " 9.932477392117726e-23,\n",
       " {'1%': -2.579507779595479,\n",
       "  '5%': -1.9427558378886698,\n",
       "  '10%': -1.6152956447599425},\n",
       " <statsmodels.stats.diagnostic.ResultsStore at 0x12ee5f490>)"
      ]
     },
     "execution_count": 54,
     "metadata": {},
     "output_type": "execute_result"
    }
   ],
   "source": [
    "adf1 = adfuller(df['rSocieteGenerale'], regression='n', autolag='AIC', regresults=True)\n",
    "adf1"
   ]
  },
  {
   "cell_type": "markdown",
   "id": "9453f8e1",
   "metadata": {},
   "source": [
    "- 𝑡𝜑 (-12,45) < 𝑡𝐷𝐹 (-1,94) on rejette 𝐻0 : la série est non stationnaire"
   ]
  },
  {
   "cell_type": "markdown",
   "id": "2a0f1a51",
   "metadata": {},
   "source": [
    "## Analyse de la multicolinéarité "
   ]
  },
  {
   "cell_type": "markdown",
   "id": "ebd342f6",
   "metadata": {},
   "source": [
    "Nous allons maintenant examiner la présence de multicolinéarité dans notre modèle. La multicolinéarité est une situation dans laquelle deux ou plusieurs variables indépendantes dans un modèle de régression sont fortement corrélées entre elles. Cela peut entraîner plusieurs problèmes lors de l'ajustement d'un modèle de régression. "
   ]
  },
  {
   "cell_type": "code",
   "execution_count": 56,
   "id": "522ae42d",
   "metadata": {},
   "outputs": [],
   "source": [
    "from statsmodels.stats.outliers_influence import variance_inflation_factor as VIF"
   ]
  },
  {
   "cell_type": "code",
   "execution_count": 59,
   "id": "922f1e1e",
   "metadata": {},
   "outputs": [
    {
     "name": "stdout",
     "output_type": "stream",
     "text": [
      "le VIF de la variable TxChange  est :  1.0635943443557883\n",
      "le VIF de la variable rCAC40  est :  1.0635943443557885\n"
     ]
    }
   ],
   "source": [
    "l_explicatives =  ['TxChange','rCAC40'] \n",
    "for n,var in enumerate(l_explicatives):\n",
    "    print('le VIF de la variable', var, ' est : ',VIF(df[l_explicatives].dropna().values,n))"
   ]
  },
  {
   "cell_type": "markdown",
   "id": "b2c66ece",
   "metadata": {},
   "source": [
    "On peut voir que pour les 2 varibales, la VIF est inférieur à 2 ce qui montre qu'il y a une multicolinéarité très faible voire inexistante "
   ]
  },
  {
   "cell_type": "markdown",
   "id": "1b8f70da",
   "metadata": {},
   "source": [
    "## Estimation par les  MCO "
   ]
  },
  {
   "cell_type": "code",
   "execution_count": 60,
   "id": "f02a2768",
   "metadata": {},
   "outputs": [
    {
     "name": "stdout",
     "output_type": "stream",
     "text": [
      "                            OLS Regression Results                            \n",
      "==============================================================================\n",
      "Dep. Variable:        SocieteGenerale   R-squared:                       0.019\n",
      "Model:                            OLS   Adj. R-squared:                  0.007\n",
      "Method:                 Least Squares   F-statistic:                     1.552\n",
      "Date:                Thu, 30 Nov 2023   Prob (F-statistic):              0.215\n",
      "Time:                        11:28:40   Log-Likelihood:                -502.93\n",
      "No. Observations:                 165   AIC:                             1012.\n",
      "Df Residuals:                     162   BIC:                             1021.\n",
      "Df Model:                           2                                         \n",
      "Covariance Type:            nonrobust                                         \n",
      "==============================================================================\n",
      "                 coef    std err          t      P>|t|      [0.025      0.975]\n",
      "------------------------------------------------------------------------------\n",
      "const         19.6034      0.404     48.518      0.000      18.806      20.401\n",
      "TxChange       0.1339      0.169      0.792      0.429      -0.200       0.468\n",
      "rCAC40         0.1148      0.087      1.324      0.187      -0.056       0.286\n",
      "==============================================================================\n",
      "Omnibus:                        6.544   Durbin-Watson:                   0.136\n",
      "Prob(Omnibus):                  0.038   Jarque-Bera (JB):                5.992\n",
      "Skew:                          -0.400   Prob(JB):                       0.0500\n",
      "Kurtosis:                       2.520   Cond. No.                         4.90\n",
      "==============================================================================\n",
      "\n",
      "Notes:\n",
      "[1] Standard Errors assume that the covariance matrix of the errors is correctly specified.\n"
     ]
    }
   ],
   "source": [
    "import statsmodels.api as sm\n",
    "X = df[[\"TxChange\",\"rCAC40\"]].dropna()\n",
    "X = sm.add_constant(X)\n",
    "y = df[\"SocieteGenerale\"].dropna()\n",
    "modele2 = sm.OLS(y,X)\n",
    "resultats2 = modele2.fit()\n",
    "print(resultats2.summary())"
   ]
  },
  {
   "cell_type": "code",
   "execution_count": 1,
   "id": "74ab6ffb",
   "metadata": {},
   "outputs": [
    {
     "ename": "NameError",
     "evalue": "name 'resultats2' is not defined",
     "output_type": "error",
     "traceback": [
      "\u001b[0;31m---------------------------------------------------------------------------\u001b[0m",
      "\u001b[0;31mNameError\u001b[0m                                 Traceback (most recent call last)",
      "Cell \u001b[0;32mIn[1], line 1\u001b[0m\n\u001b[0;32m----> 1\u001b[0m residus2\u001b[38;5;241m=\u001b[39mresultats2\u001b[38;5;241m.\u001b[39mresid\n\u001b[1;32m      2\u001b[0m plt\u001b[38;5;241m.\u001b[39mplot(residus2)\n",
      "\u001b[0;31mNameError\u001b[0m: name 'resultats2' is not defined"
     ]
    }
   ],
   "source": [
    "residus2=resultats2.resid\n",
    "plt.plot(residus2)"
   ]
  },
  {
   "cell_type": "markdown",
   "id": "cb23bdbb",
   "metadata": {},
   "source": [
    "Commentaires :\n",
    "- Les résidus semble être de moyenne constante et égale à 0\n",
    "- En revanche leur variance n'est pas constante du tout \n"
   ]
  },
  {
   "cell_type": "markdown",
   "id": "169326e8",
   "metadata": {},
   "source": [
    "## Analyse de l'hétéroscédasticité"
   ]
  },
  {
   "cell_type": "markdown",
   "id": "a37b8a80",
   "metadata": {},
   "source": [
    "- Homoscédasticité : pour tous les individus, la variance est la même\n",
    "- Hétéroscédasticité : pour au moins un individu, la variance est différente \n",
    "\n",
    "Faut tester s’il y a hétéro ou pas : Test de Breuch Pagan : \n",
    "\n",
    "- S’il n’y a pas hétéro des perturbations : MCO sont BLUE. On garde donc les estimations des MCO pour les tests, IDC…\n",
    "- S’il y a hétéro des perturbations : MCO sont pas BLUE et l’estimation des écarts types des coeff sont biaisés. Faut corriger le modèle avec White \n",
    "\n",
    "=> Tester la présence d’hétéro avant de faire les IDC, test de student, fisher… \n"
   ]
  },
  {
   "cell_type": "code",
   "execution_count": 62,
   "id": "3eb780e0",
   "metadata": {},
   "outputs": [],
   "source": [
    "from statsmodels.stats.diagnostic import het_breuschpagan, het_white"
   ]
  },
  {
   "cell_type": "code",
   "execution_count": 63,
   "id": "74de47ef",
   "metadata": {},
   "outputs": [
    {
     "name": "stdout",
     "output_type": "stream",
     "text": [
      "(1.2021203511795648, 0.5482301077096183, 0.5944628138917782, 0.5530582031905857)\n"
     ]
    }
   ],
   "source": [
    "bp = het_breuschpagan(residus2, X)\n",
    "print(bp)"
   ]
  },
  {
   "cell_type": "markdown",
   "id": "f1c1efe8",
   "metadata": {},
   "source": [
    "Commentaires: \n",
    "- Avec une p-valeur de 0.55, qui est supérieure à 0.05, on ne rejete pas l'hypothèse nulle d'homoscédasticité.\n",
    "- Ici, il n’y a pas hétéroscédasticité des perturbations : MCO sont BLUE. On garde donc les estimations des MCO "
   ]
  },
  {
   "cell_type": "markdown",
   "id": "8e91d6ed",
   "metadata": {},
   "source": [
    "## Analyse de l'autocorrélation des perturbations "
   ]
  },
  {
   "cell_type": "markdown",
   "id": "e7d8de07",
   "metadata": {},
   "source": [
    "Une corrélation entre les résidus suggère qu'il y a une sorte de relation entre les erreurs et cela peut avoir des mauvaises implications sur la façon dont le modèle fonctionne et sur la fiabilité des prédictions."
   ]
  },
  {
   "cell_type": "markdown",
   "id": "2dbc7771",
   "metadata": {},
   "source": [
    "Pour vérifier la présence d'autocorrélation des perturbations, on doit effectuer le test de Breuch Godfrey"
   ]
  },
  {
   "cell_type": "code",
   "execution_count": 64,
   "id": "f06ca74a",
   "metadata": {},
   "outputs": [],
   "source": [
    "from statsmodels.stats.diagnostic import acorr_breusch_godfrey"
   ]
  },
  {
   "cell_type": "code",
   "execution_count": 66,
   "id": "c121d0bc",
   "metadata": {
    "scrolled": true
   },
   "outputs": [
    {
     "name": "stdout",
     "output_type": "stream",
     "text": [
      "(148.97896428675924, 6.045450854435855e-27, 141.3441863366722, 1.126651428072943e-71)\n"
     ]
    }
   ],
   "source": [
    "bg = acorr_breusch_godfrey(resultats2) \n",
    "print(bg)"
   ]
  },
  {
   "cell_type": "markdown",
   "id": "8eec5c7b",
   "metadata": {},
   "source": [
    "- La statistique de test de 148,97 indique une autocorrélation significative des résidus.\n",
    "- La p-valeur associée à cette statistique est importante (6,045) ce qui est supérieure au seuil significatif de 0,05, ce qui suggère que l'on ne rejete pas l'hypothèse nulle d'absence d'autocorrélation des résidus.\n",
    "- Il n'y a donc pas d'autocorrélation "
   ]
  },
  {
   "cell_type": "markdown",
   "id": "875b5fb0",
   "metadata": {},
   "source": [
    "##### Il n'y a donc pas besoins de corriger ni l'autoccorrélation, ni l'hétéroscédasticité pour ce modèle, nous pouvons donc directement estimer notre modèle"
   ]
  },
  {
   "cell_type": "code",
   "execution_count": 67,
   "id": "471d8a0c",
   "metadata": {},
   "outputs": [
    {
     "name": "stdout",
     "output_type": "stream",
     "text": [
      "                            OLS Regression Results                            \n",
      "==============================================================================\n",
      "Dep. Variable:        SocieteGenerale   R-squared:                       0.019\n",
      "Model:                            OLS   Adj. R-squared:                  0.007\n",
      "Method:                 Least Squares   F-statistic:                     1.552\n",
      "Date:                Thu, 30 Nov 2023   Prob (F-statistic):              0.215\n",
      "Time:                        11:45:57   Log-Likelihood:                -502.93\n",
      "No. Observations:                 165   AIC:                             1012.\n",
      "Df Residuals:                     162   BIC:                             1021.\n",
      "Df Model:                           2                                         \n",
      "Covariance Type:            nonrobust                                         \n",
      "==============================================================================\n",
      "                 coef    std err          t      P>|t|      [0.025      0.975]\n",
      "------------------------------------------------------------------------------\n",
      "const         19.6034      0.404     48.518      0.000      18.806      20.401\n",
      "TxChange       0.1339      0.169      0.792      0.429      -0.200       0.468\n",
      "rCAC40         0.1148      0.087      1.324      0.187      -0.056       0.286\n",
      "==============================================================================\n",
      "Omnibus:                        6.544   Durbin-Watson:                   0.136\n",
      "Prob(Omnibus):                  0.038   Jarque-Bera (JB):                5.992\n",
      "Skew:                          -0.400   Prob(JB):                       0.0500\n",
      "Kurtosis:                       2.520   Cond. No.                         4.90\n",
      "==============================================================================\n",
      "\n",
      "Notes:\n",
      "[1] Standard Errors assume that the covariance matrix of the errors is correctly specified.\n"
     ]
    }
   ],
   "source": [
    "import statsmodels.api as sm\n",
    "X = df[[\"TxChange\",\"rCAC40\"]].dropna()\n",
    "X = sm.add_constant(X)\n",
    "y = df[\"SocieteGenerale\"].dropna()\n",
    "modele2 = sm.OLS(y,X)\n",
    "resultats2 = modele2.fit()\n",
    "print(resultats2.summary())"
   ]
  },
  {
   "cell_type": "markdown",
   "id": "8b97f455",
   "metadata": {},
   "source": [
    "##### Commentaires:"
   ]
  },
  {
   "cell_type": "markdown",
   "id": "9d478791",
   "metadata": {},
   "source": [
    "\n",
    "\n",
    "- R-squared : On voit que le R squared est très très faible (0,019) ce qui signifie que le modèle explique 1,9% de la variabilité de la variable dépendante.\n",
    "\n",
    "Test de significativité de Student: \n",
    "- La constante (const) est statistiquement différente de zéro, car sa p-valeur est très nulle (0.000).\n",
    "- La variable du Taux de change a un coefficient de 0,1339 avec une p-valeur moyenne (0.429), il est donc difficile de juger sa significativité  \n",
    "- La variable du CAC40 a un coefficient de 0.1148 avec une p-valeur faible (0.187), indiquant qu'elle est statistiquement significative.\n",
    "\n",
    "Test de significativité globale du modèle avec Fisher: \n",
    "- La statistique F de 1,552 indique que le modèle dans son ensemble n'est pas statistiquement significatif. \n",
    "- La p-valeur associée à la statistique F est de 0,215. Elle n'est pas très proche de 0 ce qui signifie que le modèle n'est pas vraiment globalement significatif  "
   ]
  },
  {
   "cell_type": "code",
   "execution_count": null,
   "id": "9394b4fd",
   "metadata": {},
   "outputs": [],
   "source": []
  }
 ],
 "metadata": {
  "kernelspec": {
   "display_name": "Python 3 (ipykernel)",
   "language": "python",
   "name": "python3"
  },
  "language_info": {
   "codemirror_mode": {
    "name": "ipython",
    "version": 3
   },
   "file_extension": ".py",
   "mimetype": "text/x-python",
   "name": "python",
   "nbconvert_exporter": "python",
   "pygments_lexer": "ipython3",
   "version": "3.11.4"
  }
 },
 "nbformat": 4,
 "nbformat_minor": 5
}
