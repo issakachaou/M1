{
 "cells": [
  {
   "cell_type": "markdown",
   "metadata": {},
   "source": [
    "<span style='line-height:1.5;font-size: 17px;font-family:\"Times New Roman\"'>\n",
    "\n",
    "\n",
    "<b><center><font size=\"6\">Cours - Econométrie en finance - Séance 1</font></center></b>\n",
    "    \n",
    "<g><h7><center> CM - P. Durand  - pierre.durand@u-pec.fr </center></h7></g>\n",
    "\n",
    "<g><h7><center> TD - A. Birem  - abderraouf.birem@etu.u-pec.fr </center></h7></g>\n",
    "\n",
    "\n",
    "<b><center><font size=\"5\">M1 - 2024-2025</font></center></b> \n",
    "\n",
    "\n",
    "\n",
    "</span>"
   ]
  },
  {
   "cell_type": "markdown",
   "metadata": {},
   "source": [
    "<span style='line-height:1.5;font-size: 17px;font-family:\"Times New Roman\"'>\n",
    "\n",
    "<hr style=\" border: 2.5px solid black;\">\n",
    "\n",
    "\n",
    "<b>Objectifs et contenu du cours :</b>\n",
    "\n",
    "- Rappeler et approfondir les enseignements en économétrie en ayant recours à des exemples d’application en banque et finance. Ces exemples feront d’ailleurs l’objet de manipulations sous le langage de programmation python. \n",
    "- Ce cours s’inscrit donc dans la continuité d’autres enseignements : cours d’économétrie et de statistiques, cours de modélisation des risques financiers, et les cours d’applications informatiques. \n",
    "\n",
    "<b>N.B</b> : L’articulation entre le cours et les travaux dirigés est donc centrale dans la mesure où un certain nombre de concepts d’économétrie vus en cours seront réimplémentés sous python avant de les réutiliser dans le cadre de problématiques financières.\n",
    "\n",
    "\n",
    "\n",
    "\n",
    "</span>"
   ]
  },
  {
   "cell_type": "markdown",
   "metadata": {},
   "source": [
    "<span style='line-height:1.5;font-size: 17px;font-family:\"Times New Roman\"'>\n",
    "<hr style=\" border: .5px solid black;\">\n",
    "\n",
    "<br>\n",
    "<b>Organisation du cours : </b>\n",
    "\n",
    "- Année 2024-2025 : 11 séances de COURS de 3 heures et 10 séances de TD. \n",
    "- Les supports de cours sont accessibles à l'adresse DropBox : <a href=\"https://www.dropbox.com/scl/fo/hjwjy2gst7j6ggxi49nk7/ADQwzbRvtrMhY8GxGhxeI-c?rlkey=p6vhcc68ud6n495lkl6bqn22a&dl=0\"> Econométrie en finance</a>.\n",
    "- Un lien à retenir : <a href=\"https://sites.google.com/view/pierredurandeconomics/accueil\"> pierre durand economics</a>, où vous retrouverez dans l'onglet \"teaching\", les liens vers les documents de cours. \n",
    "- Contenu de la Dropbox :\n",
    "    - Documents de cours <b>\"à trou\"</b> (sauf pour cette introduction)\n",
    "    - Bases de données\n",
    "    - TD\n",
    "    \n",
    "\n",
    "<b>Evaluation : </b> \n",
    "- Date et modalité du partiel seront communiqué dans le semestre :\n",
    "    - évaluation des connaissances en économétrie\n",
    "    - évaluation de la capacité d'analyse d'une étude économétrique (étude de cas)\n",
    "- Contrôle continu : modalités à préciser (devoir à rendre, note de participation, contrôle sur table)\n",
    "    - même critères d'évaluation\n",
    "\n",
    "$\\Rightarrow$ Vous pourrez être interrogés à la fois sur l'économétrie et la programmation python. \n",
    "\n",
    "\n",
    "<br>\n",
    "<hr style=\" border: .5px solid black;\">\n",
    "\n",
    "\n",
    "<br>\n",
    "<b>Plan du cours : </b>\n",
    "\n",
    "- <b>Séance 1 – Introduction générale & Introduction à Python</b>\n",
    "- Séance 2 – Rappels économétriques et bases de données sous python\n",
    "- Séance 3 – Modèle de régression simple\n",
    "- Séance 4 - Modèle de régression multiple\n",
    "- Séance 5 – Violation des hypothèses (1)\n",
    "- Séance 6 – Violation des hypothèses (2)\n",
    "- Séance 7 – Caractéristiques des séries temporelles\n",
    "- Séance 8 – Stationnarité et conséquences, tests de racine unitaire\n",
    "- Séance 9 – Modélisation en série temporelles : ARMA-ARCH\n",
    "- Séance 10 - Modèles VAR et correction d'erreur\n",
    "- Séance 11 – Introduction aux modèles de classification : logit\n",
    "\n",
    "\n",
    "\n",
    "\n",
    "<b>Références en Econométrie</b> :\n",
    "\n",
    "- Pesaran, M. H. (2015). Time series and panel data econometrics. Oxford University Press.\n",
    "\n",
    "- Bourbonnais, R. (2008), Econométrie, Dunod, 7e édition.\n",
    "\n",
    "- Mignon, V. (2008), Econométrie : Théorie et applications.\n",
    "\n",
    "- Lardic, S. & Mignon, V. (2002), Econométrie des séries temporelles macroéconomiques et financières.\n",
    "\n",
    "\n",
    "<b>Références pour la finance</b>  :\n",
    "\n",
    "-\tFinance de marché (Portait – Poncet)\n",
    "-\tRecent advances in linear models and related areas (Shalabh – Heumann)\n",
    "\n",
    "<b>Références pour python</b>  :\n",
    "\n",
    "- Presque tout est gratuit et en open source sur internet\n",
    "- Liste non exhaustive de livres : <a href=\"https://python.developpez.com/livres/\"> python.developper</a>\n",
    "\n",
    "\n",
    "\n",
    "<br>\n",
    "<hr style=\" border: .5px solid black;\">\n",
    "\n",
    "<a id='plan'></a>\n",
    "<br>\n",
    "<b>Séance 1 : </b>\n",
    "\n",
    "- [Introduction - Présentation du cours : contenu et objectifs](#p0)\n",
    "- [1. (Ré)Introduction à l’économétrie](#p1)\n",
    "    - [1.1 Définitions](#p1.1)\n",
    "    - [1.2 Quelques exemples](#p1.2)\n",
    "- [2. Introduction à python - jupyter notebook](#p2)\n",
    "    - [2.1 Python c’est quoi ? Que peut-on faire avec ? Pourquoi l’enseigner ?](#p2.1)\n",
    "    - [2.2 Jupyter notebook c’est quoi ? Explication de l’installation et du fonctionnement de l’éditeur](#p2.2)\n",
    "    - [2.3 Syntaxe, types de variables et opérateurs basiques ](#p2.3)\n",
    "    - [2.4 Les boucles](#p2.4)\n",
    "    - [2.5 Les conditions](#p2.5)\n",
    "    - [2.6 Itérer dans une variable](#p2.6)\n",
    "    - [2.7 Aperçu sur les fonctions](#p2.7)\n",
    "    - [2.8 Aperçu sur les packages](#p2.8)\n",
    "- [3. Conclusion](#p3)\n",
    "\n",
    "\n",
    "\n",
    "\n",
    "\n",
    "</span>"
   ]
  },
  {
   "cell_type": "markdown",
   "metadata": {},
   "source": [
    "<span style='line-height:1.5;font-size: 17px;font-family:\"Times New Roman\"'>\n",
    "<hr style=\" border: 2.5px solid black;\">\n",
    "\n",
    "\n",
    "\n",
    "\n",
    "# Introduction - Présentation du cours : contenu et objectifs <font color='blue' size=\"1.5\"><i>[Plan du cours](#plan)</i></font><a id='p0'></a>\n",
    "\n",
    "<b>Format du cours</b> : \n",
    "- sous forme de \"py-conf\"\n",
    "- support : jupyter notebook (nous sommes dessus)\n",
    "\n",
    "$\\Rightarrow$ Il vous faudra télécharger <b>Anaconda Navigator</b> pour pouvoir lire les documents de cours (voir ci-après).\n",
    "\n",
    "- De nombreux exemples déjà codés dans le cours :\n",
    "    - Plus dynamique\n",
    "    - Codes réutilisables\n",
    "    - Voir les applications et commentaire de codes en direct\n",
    "    \n",
    "<b>Contenu du cours</b> :\n",
    "- Cours d'économétrie : rappels sur les modèles de régression de base et introduction aux séries temporelles (vous serez amenés à rencontrer de la modélisation dans la plupart de vos futurs métiers).\n",
    "- Pratique de cette économétrie sous python : présente de nombreux avantages et vous permet d'avoir un baggage diversifié en termes de programmation informatique (avec VBA, SAS et Eviews en plus).\n",
    "\n",
    "$\\Rightarrow$ En cours, nous verrons donc la théorie économétrique, mais aussi comment l'appliquer sous python. \n",
    "\n",
    "$\\Rightarrow$ En TD, vous verrez comment manipuler vous-mêmes les outils économétriques vus en cours. Il n'y aura pas de rappels exhaustifs sur ce qui aura été vu en cours : les deux se complètent !\n",
    "\n",
    "<b>Les objectifs du cours</b> :\n",
    "- Savoir lire et interpréter des résultats d'analyse statistique.\n",
    "- Être capable de gérer les outils de base de l'économétrie utilisée en finance.\n",
    "- Préparer les cours du deuxième semestre en lien plus direct avec les activités de scoring, d'indicateurs, de gestion de données client, etc...\n",
    "- Avoir des notions de programmation sous python, un langage en plein essort en entreprise.\n",
    "\n",
    "Dans le déroulé des séances, ça donne quoi ? \n",
    "\n",
    "- Introduction et rappels\n",
    "    - Séance 1 – Introduction générale \n",
    "    - Séance 2 – Rappels économétriques \n",
    "- Notions fondamentales de l'économétrie\n",
    "    - Séance 3 – Modèle de régression simple\n",
    "    - Séance 4 - Modèle de régression multiple\n",
    "    - Séance 5 – Violation des hypothèses (1)\n",
    "    - Séance 6 – Violation des hypothèses (2)\n",
    "- Introduction aux séries temporelles en finance\n",
    "    - Séance 7 – Caractéristiques des séries temporelles\n",
    "    - Séance 8 – Stationnarité et conséquences, tests de racine unitaire\n",
    "    - Séance 9 – ARMA-ARCH\n",
    "    - Séance 10 - VAR et VECM\n",
    "- Introduction à la classification\n",
    "    - Séance 11 – Modèle logit\n",
    "\n",
    "\n",
    "\n",
    "</span>"
   ]
  },
  {
   "cell_type": "markdown",
   "metadata": {},
   "source": [
    "<span style='line-height:1.5;font-size: 17px;font-family:\"Times New Roman\"'>\n",
    "<hr style=\" border: 2.5px solid black;\">\n",
    "\n",
    "\n",
    "\n",
    "# (Ré)Introduction à l’économétrie <font color='blue' size=\"1.5\"><i>[Plan du cours](#plan)</i></font><a id='p1'></a>\n",
    "\n",
    "Un bref exemple concret pour se donner une idée...\n",
    "    \n",
    "## Définitions <font color='blue' size=\"1.5\"><i>[Plan du cours](#plan)</i></font><a id='p1.1'></a>\n",
    "\n",
    "\n",
    "Il est toujours très important de bien définir ce que l'on étudie pour pouvoir le comprendre. Qu'est ce donc que l'économétrie ? En quoi est-ce différent de l'économie ? de la théorie économique ? de la statistique ? \n",
    "\n",
    "<b>L'économétrie</b>\n",
    "\n",
    "L'économétrie est la science de la mesure de l'économie. C'est donc une branche des sciences économiques qui fait appel à quatre disciplines : \n",
    "   - la théorie économique\n",
    "   - la statistique\n",
    "   - les mathématiques\n",
    "   - l'informatique\n",
    "   \n",
    "L'économétrie date des années 1930 mais ses domaines d'application se sont particulièrement étendus avec la montée en puissance de l'informatique et des bases de données. L'analyse financière a particulièrement profiter de l'essor de l'économétrie. \n",
    "\n",
    "<b>Articulation multidisciplinaire</b> :\n",
    "\n",
    "Une étude économétrique consiste à suivre les étapes suivante :\n",
    "1. On dégage un problème et on établie une théorie économique permettant de l'expliquer de façon simplifiée (modèle théorique).\n",
    "2. On extrait des données sur ce problème.\n",
    "3. Après une étude statistique (i.e. descriptive) des données, on fait appel à un modèle mathématique approprié permettant de valider ou non la théorie économique.\n",
    "4. Pour mener cette analyse, il convient de faire appel à certains outils informatiques.\n",
    "\n",
    "\n",
    "\n",
    "\n",
    "</span>"
   ]
  },
  {
   "cell_type": "markdown",
   "metadata": {},
   "source": [
    "<span style='line-height:1.5;font-size: 17px;font-family:\"Times New Roman\"'>\n",
    "<hr style=\" border: .5px solid black;\">\n",
    "\n",
    "\n",
    "\n",
    "## Quelques exemples <font color='blue' size=\"1.5\"><i>[Plan du cours](#plan)</i></font><a id='p1.2'></a>\n",
    "\n",
    "\n",
    "<b>Exemple macroéconomique : la loi d'Okun</b>\n",
    "\n",
    "1. Problématique \n",
    "\n",
    "Quelle relation y a-t-il entre le chômage et la croissance économique ? \n",
    "\n",
    "Lorsque la croissance est faible, les entreprises produisent peu et anticipent une faible production à venir. Il y a alors peu d'embauche et le taux de chômage tend à augmenter. Inversement, lorsque le chômage augmente, il est probable que les entreprises produisent moins et donc que la croissance baisse. \n",
    "\n",
    "2. Théorie économique\n",
    "\n",
    "$\\Rightarrow$ Autrement dit, on pourrait penser qu'il existe une relation négative entre les variations du taux de chômage et celles de la croissance : \n",
    "\n",
    "$$ \\Delta U_t = a + b  \\times G_{t} + \\epsilon_t $$ \n",
    "\n",
    "où $U$ est le taux de chômage, $G$ le taux de croissance du PIB, $a$,$b$ et $\\epsilon$ sont les paramètres à estimer.\n",
    "\n",
    "Selon la théorie économique, nous devrions, à partir de données obersvées (pour un pays par exemple), obtenir un $b$ négatif.\n",
    "\n",
    "Voici ce que ça donne pour les Etats-Unis :\n",
    "\n",
    "3. Modélisation\n",
    "\n",
    "</span>"
   ]
  },
  {
   "cell_type": "code",
   "execution_count": 12,
   "metadata": {
    "ExecuteTime": {
     "end_time": "2022-09-06T19:48:52.080734Z",
     "start_time": "2022-09-06T19:48:51.933303Z"
    }
   },
   "outputs": [],
   "source": [
    "# importation des packages utiles\n",
    "import pandas as pd\n",
    "import matplotlib.pyplot as plt\n",
    "import statsmodels.api as sm\n",
    "\n",
    "from statsmodels.stats.diagnostic import het_white, het_breuschpagan, het_goldfeldquandt\n",
    "from statsmodels.stats.diagnostic import acorr_ljungbox, acorr_breusch_godfrey\n",
    "import numpy as np\n",
    "import scipy as sp\n",
    "import seaborn as sns"
   ]
  },
  {
   "cell_type": "code",
   "execution_count": 10,
   "metadata": {
    "ExecuteTime": {
     "end_time": "2022-09-06T19:48:26.796280Z",
     "start_time": "2022-09-06T19:48:26.750228Z"
    },
    "scrolled": true
   },
   "outputs": [
    {
     "data": {
      "text/html": [
       "<div>\n",
       "<style scoped>\n",
       "    .dataframe tbody tr th:only-of-type {\n",
       "        vertical-align: middle;\n",
       "    }\n",
       "\n",
       "    .dataframe tbody tr th {\n",
       "        vertical-align: top;\n",
       "    }\n",
       "\n",
       "    .dataframe thead th {\n",
       "        text-align: right;\n",
       "    }\n",
       "</style>\n",
       "<table border=\"1\" class=\"dataframe\">\n",
       "  <thead>\n",
       "    <tr style=\"text-align: right;\">\n",
       "      <th></th>\n",
       "      <th>dates</th>\n",
       "      <th>gdp_gap</th>\n",
       "      <th>un_gap</th>\n",
       "      <th>gdp_pot</th>\n",
       "      <th>un_nat</th>\n",
       "      <th>gdp_real</th>\n",
       "      <th>un</th>\n",
       "      <th>inv</th>\n",
       "      <th>gdp_growth</th>\n",
       "      <th>un_change</th>\n",
       "    </tr>\n",
       "  </thead>\n",
       "  <tbody>\n",
       "    <tr>\n",
       "      <th>0</th>\n",
       "      <td>1955-02-15</td>\n",
       "      <td>1.637963</td>\n",
       "      <td>1.293333</td>\n",
       "      <td>2762</td>\n",
       "      <td>5.381</td>\n",
       "      <td>2813.212</td>\n",
       "      <td>4.6</td>\n",
       "      <td>312,337</td>\n",
       "      <td>NaN</td>\n",
       "      <td>NaN</td>\n",
       "    </tr>\n",
       "    <tr>\n",
       "      <th>1</th>\n",
       "      <td>1955-05-15</td>\n",
       "      <td>2.630620</td>\n",
       "      <td>1.960000</td>\n",
       "      <td>2779</td>\n",
       "      <td>5.383</td>\n",
       "      <td>2858.988</td>\n",
       "      <td>4.2</td>\n",
       "      <td>331,333</td>\n",
       "      <td>1.627179</td>\n",
       "      <td>-0.4</td>\n",
       "    </tr>\n",
       "    <tr>\n",
       "      <th>2</th>\n",
       "      <td>1955-08-15</td>\n",
       "      <td>3.366125</td>\n",
       "      <td>2.580000</td>\n",
       "      <td>2796</td>\n",
       "      <td>5.386</td>\n",
       "      <td>2897.598</td>\n",
       "      <td>4.1</td>\n",
       "      <td>336,418</td>\n",
       "      <td>1.350478</td>\n",
       "      <td>-0.1</td>\n",
       "    </tr>\n",
       "    <tr>\n",
       "      <th>3</th>\n",
       "      <td>1955-11-15</td>\n",
       "      <td>3.314704</td>\n",
       "      <td>2.313333</td>\n",
       "      <td>2813</td>\n",
       "      <td>5.388</td>\n",
       "      <td>2914.993</td>\n",
       "      <td>4.2</td>\n",
       "      <td>344,218</td>\n",
       "      <td>0.600325</td>\n",
       "      <td>0.1</td>\n",
       "    </tr>\n",
       "    <tr>\n",
       "      <th>4</th>\n",
       "      <td>1956-02-15</td>\n",
       "      <td>2.241855</td>\n",
       "      <td>2.713333</td>\n",
       "      <td>2831</td>\n",
       "      <td>5.390</td>\n",
       "      <td>2903.671</td>\n",
       "      <td>4.2</td>\n",
       "      <td>334,390</td>\n",
       "      <td>-0.388406</td>\n",
       "      <td>0.0</td>\n",
       "    </tr>\n",
       "    <tr>\n",
       "      <th>...</th>\n",
       "      <td>...</td>\n",
       "      <td>...</td>\n",
       "      <td>...</td>\n",
       "      <td>...</td>\n",
       "      <td>...</td>\n",
       "      <td>...</td>\n",
       "      <td>...</td>\n",
       "      <td>...</td>\n",
       "      <td>...</td>\n",
       "      <td>...</td>\n",
       "    </tr>\n",
       "    <tr>\n",
       "      <th>247</th>\n",
       "      <td>2016-11-15</td>\n",
       "      <td>-1.150581</td>\n",
       "      <td>-0.453333</td>\n",
       "      <td>18006</td>\n",
       "      <td>4.621</td>\n",
       "      <td>17876.179</td>\n",
       "      <td>4.7</td>\n",
       "      <td>3147,576</td>\n",
       "      <td>0.629298</td>\n",
       "      <td>-0.3</td>\n",
       "    </tr>\n",
       "    <tr>\n",
       "      <th>248</th>\n",
       "      <td>2017-02-15</td>\n",
       "      <td>-0.983594</td>\n",
       "      <td>-0.053333</td>\n",
       "      <td>18081</td>\n",
       "      <td>4.616</td>\n",
       "      <td>17977.299</td>\n",
       "      <td>4.4</td>\n",
       "      <td>3137,735</td>\n",
       "      <td>0.565669</td>\n",
       "      <td>-0.3</td>\n",
       "    </tr>\n",
       "    <tr>\n",
       "      <th>249</th>\n",
       "      <td>2017-05-15</td>\n",
       "      <td>-0.959766</td>\n",
       "      <td>0.260000</td>\n",
       "      <td>18158</td>\n",
       "      <td>4.611</td>\n",
       "      <td>18054.052</td>\n",
       "      <td>4.3</td>\n",
       "      <td>3192,776</td>\n",
       "      <td>0.426944</td>\n",
       "      <td>-0.1</td>\n",
       "    </tr>\n",
       "    <tr>\n",
       "      <th>250</th>\n",
       "      <td>2017-08-15</td>\n",
       "      <td>-0.651224</td>\n",
       "      <td>0.440000</td>\n",
       "      <td>18236</td>\n",
       "      <td>4.607</td>\n",
       "      <td>18185.636</td>\n",
       "      <td>4.2</td>\n",
       "      <td>3240,998</td>\n",
       "      <td>0.728834</td>\n",
       "      <td>-0.1</td>\n",
       "    </tr>\n",
       "    <tr>\n",
       "      <th>251</th>\n",
       "      <td>2017-11-15</td>\n",
       "      <td>-0.127548</td>\n",
       "      <td>0.753333</td>\n",
       "      <td>18316</td>\n",
       "      <td>4.602</td>\n",
       "      <td>18359.432</td>\n",
       "      <td>4.1</td>\n",
       "      <td>3278,391</td>\n",
       "      <td>0.955677</td>\n",
       "      <td>-0.1</td>\n",
       "    </tr>\n",
       "  </tbody>\n",
       "</table>\n",
       "<p>252 rows × 10 columns</p>\n",
       "</div>"
      ],
      "text/plain": [
       "         dates   gdp_gap    un_gap  gdp_pot  un_nat   gdp_real   un       inv  \\\n",
       "0   1955-02-15  1.637963  1.293333     2762   5.381   2813.212  4.6   312,337   \n",
       "1   1955-05-15  2.630620  1.960000     2779   5.383   2858.988  4.2   331,333   \n",
       "2   1955-08-15  3.366125  2.580000     2796   5.386   2897.598  4.1   336,418   \n",
       "3   1955-11-15  3.314704  2.313333     2813   5.388   2914.993  4.2   344,218   \n",
       "4   1956-02-15  2.241855  2.713333     2831   5.390   2903.671  4.2   334,390   \n",
       "..         ...       ...       ...      ...     ...        ...  ...       ...   \n",
       "247 2016-11-15 -1.150581 -0.453333    18006   4.621  17876.179  4.7  3147,576   \n",
       "248 2017-02-15 -0.983594 -0.053333    18081   4.616  17977.299  4.4  3137,735   \n",
       "249 2017-05-15 -0.959766  0.260000    18158   4.611  18054.052  4.3  3192,776   \n",
       "250 2017-08-15 -0.651224  0.440000    18236   4.607  18185.636  4.2  3240,998   \n",
       "251 2017-11-15 -0.127548  0.753333    18316   4.602  18359.432  4.1  3278,391   \n",
       "\n",
       "     gdp_growth  un_change  \n",
       "0           NaN        NaN  \n",
       "1      1.627179       -0.4  \n",
       "2      1.350478       -0.1  \n",
       "3      0.600325        0.1  \n",
       "4     -0.388406        0.0  \n",
       "..          ...        ...  \n",
       "247    0.629298       -0.3  \n",
       "248    0.565669       -0.3  \n",
       "249    0.426944       -0.1  \n",
       "250    0.728834       -0.1  \n",
       "251    0.955677       -0.1  \n",
       "\n",
       "[252 rows x 10 columns]"
      ]
     },
     "execution_count": 10,
     "metadata": {},
     "output_type": "execute_result"
    }
   ],
   "source": [
    "# importation et traitement des données\n",
    "df = pd.read_csv(\"data/fred_okun1.csv\", sep=\"\\t\")\n",
    "\n",
    "df.columns = [\"dates\", \"gdp_gap\", \"un_gap\", \"gdp_pot\", \"un_nat\", \"gdp_real\", \"un\", \"inv\"] # on renomme les variables\n",
    "df[\"dates\"] = pd.to_datetime(df[\"dates\"], infer_datetime_format = True)  \n",
    "\n",
    "\n",
    "# ajout de variables transformées\n",
    "    # taux de croissance du pib\n",
    "df[\"gdp_growth\"] =  ((df[\"gdp_real\"] / df[\"gdp_real\"].shift(1)) - 1)*100\n",
    "#df[\"gdp_growth_change\"] = (df[\"gdp_growth\"] - df[\"gdp_growth\"].shift(1))\n",
    "    # variation du taux de chômage (taux de croissance du chômage)\n",
    "df[\"un_change\"] = (df[\"un\"] - df[\"un\"].shift(1))\n",
    "\n",
    "df"
   ]
  },
  {
   "cell_type": "code",
   "execution_count": 13,
   "metadata": {
    "ExecuteTime": {
     "end_time": "2022-09-06T19:48:54.925078Z",
     "start_time": "2022-09-06T19:48:54.429963Z"
    }
   },
   "outputs": [
    {
     "data": {
      "image/png": "[encoded data removed]",
      "text/plain": [
       "<Figure size 360x360 with 1 Axes>"
      ]
     },
     "metadata": {
      "needs_background": "light"
     },
     "output_type": "display_data"
    }
   ],
   "source": [
    "# Show the results of a linear regression within dataset\n",
    "sns.lmplot(x=\"gdp_growth\", y=\"un_change\", data=df)\n",
    "plt.xlim(-1.5, 3)\n",
    "plt.ylim(-2, 2)\n",
    "plt.show()"
   ]
  },
  {
   "cell_type": "code",
   "execution_count": 14,
   "metadata": {
    "ExecuteTime": {
     "end_time": "2022-09-06T19:49:00.241788Z",
     "start_time": "2022-09-06T19:49:00.166223Z"
    }
   },
   "outputs": [
    {
     "name": "stdout",
     "output_type": "stream",
     "text": [
      "                            OLS Regression Results                            \n",
      "==============================================================================\n",
      "Dep. Variable:              un_change   R-squared:                       0.435\n",
      "Model:                            OLS   Adj. R-squared:                  0.433\n",
      "Method:                 Least Squares   F-statistic:                     191.8\n",
      "Date:                Tue, 06 Sep 2022   Prob (F-statistic):           1.01e-32\n",
      "Time:                        21:49:00   Log-Likelihood:                -38.337\n",
      "No. Observations:                 251   AIC:                             80.67\n",
      "Df Residuals:                     249   BIC:                             87.72\n",
      "Df Model:                           1                                         \n",
      "Covariance Type:            nonrobust                                         \n",
      "==============================================================================\n",
      "                 coef    std err          t      P>|t|      [0.025      0.975]\n",
      "------------------------------------------------------------------------------\n",
      "const          0.2133      0.024      9.007      0.000       0.167       0.260\n",
      "gdp_growth    -0.2856      0.021    -13.848      0.000      -0.326      -0.245\n",
      "==============================================================================\n",
      "Omnibus:                        7.774   Durbin-Watson:                   1.765\n",
      "Prob(Omnibus):                  0.021   Jarque-Bera (JB):                7.599\n",
      "Skew:                           0.387   Prob(JB):                       0.0224\n",
      "Kurtosis:                       3.355   Cond. No.                         2.23\n",
      "==============================================================================\n",
      "\n",
      "Notes:\n",
      "[1] Standard Errors assume that the covariance matrix of the errors is correctly specified.\n"
     ]
    },
    {
     "name": "stderr",
     "output_type": "stream",
     "text": [
      "C:\\Users\\pipsou\\anaconda3\\lib\\site-packages\\statsmodels\\tsa\\tsatools.py:142: FutureWarning: In a future version of pandas all arguments of concat except for the argument 'objs' will be keyword-only\n",
      "  x = pd.concat(x[::order], 1)\n"
     ]
    }
   ],
   "source": [
    "# Régression MCO\n",
    "y = df[\"un_change\"].iloc[1:] # \n",
    "X = df[\"gdp_growth\"].iloc[1:]\n",
    "X = sm.add_constant(X)\n",
    "results = sm.OLS(y, X).fit()\n",
    "print(results.summary())"
   ]
  },
  {
   "cell_type": "markdown",
   "metadata": {},
   "source": [
    "<span style='line-height:1.5;font-size: 17px;font-family:\"Times New Roman\"'>\n",
    "\n",
    "\n",
    "<b>Exemple en finance : la relation de long termes entre deux séries financière.</b>\n",
    "\n",
    "C'est un thème qui a été beaucoup étudié notamment à partir des années 1990 avec le développement des bases de données à haute fréquence sur l'évolution des indices boursiers. L'idée ici est d'estimer à quel point certaines actions ou indices peuvent évoluer ensemble (sur courte ou longue période).\n",
    "\n",
    "Si l'on prend deux indices tels que le SP 500 et le DJ industrial, nous pouvons raisonner de sorte à ce que l'on conclue à une relation positive entre les deux : \n",
    "- ils dépendent tous deux de la même manière de l aconjoncture économique\n",
    "- ils sont proches de secteurs économiques proches\n",
    "- certains titres peuvent leur être commun\n",
    "- etc...\n",
    "\n",
    "Nous pourrions, de façon simplifiée avoir une relation du type : \n",
    "\n",
    "$$DJI = a + b \\times SP500 + \\epsilon$$\n",
    "\n",
    "Nous allons donner une intuition graphique de ce modèle.\n",
    "\n",
    "</span>"
   ]
  },
  {
   "cell_type": "code",
   "execution_count": 15,
   "metadata": {
    "ExecuteTime": {
     "end_time": "2022-09-06T19:49:06.757504Z",
     "start_time": "2022-09-06T19:49:06.526141Z"
    }
   },
   "outputs": [],
   "source": [
    "# Chargement des packages utiles au scrapping\n",
    "import requests as rq\n",
    "from bs4 import BeautifulSoup as bs\n",
    "import json\n",
    "import datetime as dt\n",
    "from io import StringIO\n",
    "import matplotlib.pyplot as plt"
   ]
  },
  {
   "cell_type": "code",
   "execution_count": 17,
   "metadata": {
    "ExecuteTime": {
     "end_time": "2022-09-06T19:49:29.789486Z",
     "start_time": "2022-09-06T19:49:29.486256Z"
    }
   },
   "outputs": [
    {
     "data": {
      "image/png": "[encoded data removed]",
      "text/plain": [
       "<Figure size 720x576 with 1 Axes>"
      ]
     },
     "metadata": {
      "needs_background": "light"
     },
     "output_type": "display_data"
    }
   ],
   "source": [
    "# Données pour le SP 500\n",
    "headers = {\"User-Agent\" : \"Mozilla/5.0 (Windows NT 10.0; Win64; x64; rv:81.0) Gecko/20100101 Firefox/81.0\"}\n",
    "\n",
    "url_base = \"https://query1.finance.yahoo.com\"\n",
    "\n",
    "# unix timestamp : le nombre de seconde passée de puis le 1 Janvier 1970 00:00:00\n",
    "symbol = \"^GSPC\"\n",
    "period1 = int(dt.datetime(2000,6,1).timestamp())\n",
    "period2 = int(dt.datetime(2019,6,1).timestamp())\n",
    "interval = \"1d\"\n",
    "\n",
    "url_suite = \"/v7/finance/download/%s?period1=%s&period2=%s&interval=%s\" % (symbol, period1, period2, interval)\n",
    "\n",
    "full_url = url_base + url_suite\n",
    "\n",
    "resp = rq.get(full_url, headers=headers).text\n",
    "\n",
    "str_io = StringIO(resp)\n",
    "\n",
    "data_sp = pd.read_csv(str_io, sep=\",\")\n",
    "\n",
    "plt.figure(figsize=(10, 8))\n",
    "plt.plot(data_sp[\"Close\"])\n",
    "plt.show()"
   ]
  },
  {
   "cell_type": "code",
   "execution_count": 18,
   "metadata": {
    "ExecuteTime": {
     "end_time": "2022-09-06T19:49:36.092428Z",
     "start_time": "2022-09-06T19:49:35.781634Z"
    }
   },
   "outputs": [
    {
     "data": {
      "image/png": "[encoded data removed]",
      "text/plain": [
       "<Figure size 720x576 with 1 Axes>"
      ]
     },
     "metadata": {
      "needs_background": "light"
     },
     "output_type": "display_data"
    }
   ],
   "source": [
    "# Données pour le DJ industrial\n",
    "headers = {\"User-Agent\" : \"Mozilla/5.0 (Windows NT 10.0; Win64; x64; rv:81.0) Gecko/20100101 Firefox/81.0\"}\n",
    "\n",
    "url_base = \"https://query1.finance.yahoo.com\"\n",
    "\n",
    "# unix timestamp : le nombre de seconde passée de puis le 1 Janvier 1970 00:00:00\n",
    "symbol = \"^DJI\"\n",
    "period1 = int(dt.datetime(2000,6,1).timestamp())\n",
    "period2 = int(dt.datetime(2019,6,1).timestamp())\n",
    "interval = \"1d\"\n",
    "\n",
    "url_suite = \"/v7/finance/download/%s?period1=%s&period2=%s&interval=%s\" % (symbol, period1, period2, interval)\n",
    "\n",
    "full_url = url_base + url_suite\n",
    "\n",
    "\n",
    "resp = rq.get(full_url, headers=headers).text\n",
    "\n",
    "str_io = StringIO(resp)\n",
    "\n",
    "data_dj = pd.read_csv(str_io, sep=\",\")\n",
    "\n",
    "plt.figure(figsize=(10, 8))\n",
    "plt.plot(data_dj[\"Close\"])\n",
    "plt.show()"
   ]
  },
  {
   "cell_type": "code",
   "execution_count": 20,
   "metadata": {
    "ExecuteTime": {
     "end_time": "2022-09-06T19:49:43.220528Z",
     "start_time": "2022-09-06T19:49:43.046135Z"
    }
   },
   "outputs": [
    {
     "data": {
      "image/png": "[encoded data removed]",
      "text/plain": [
       "<Figure size 720x576 with 1 Axes>"
      ]
     },
     "metadata": {
      "needs_background": "light"
     },
     "output_type": "display_data"
    }
   ],
   "source": [
    "plt.figure(figsize=(10, 8))\n",
    "plt.scatter(data_dj[\"Close\"],data_sp[\"Close\"],s=0.5)\n",
    "plt.show()"
   ]
  },
  {
   "cell_type": "code",
   "execution_count": 21,
   "metadata": {
    "ExecuteTime": {
     "end_time": "2022-09-06T19:50:30.110617Z",
     "start_time": "2022-09-06T19:50:30.079253Z"
    }
   },
   "outputs": [
    {
     "name": "stdout",
     "output_type": "stream",
     "text": [
      "                            OLS Regression Results                            \n",
      "==============================================================================\n",
      "Dep. Variable:                  Close   R-squared:                       0.983\n",
      "Model:                            OLS   Adj. R-squared:                  0.983\n",
      "Method:                 Least Squares   F-statistic:                 2.813e+05\n",
      "Date:                Tue, 06 Sep 2022   Prob (F-statistic):               0.00\n",
      "Time:                        21:50:30   Log-Likelihood:                -37495.\n",
      "No. Observations:                4779   AIC:                         7.499e+04\n",
      "Df Residuals:                    4777   BIC:                         7.501e+04\n",
      "Df Model:                           1                                         \n",
      "Covariance Type:            nonrobust                                         \n",
      "==============================================================================\n",
      "                 coef    std err          t      P>|t|      [0.025      0.975]\n",
      "------------------------------------------------------------------------------\n",
      "const        328.2072     26.774     12.259      0.000     275.719     380.696\n",
      "Close          8.7244      0.016    530.350      0.000       8.692       8.757\n",
      "==============================================================================\n",
      "Omnibus:                     1044.627   Durbin-Watson:                   0.004\n",
      "Prob(Omnibus):                  0.000   Jarque-Bera (JB):             2715.247\n",
      "Skew:                          -1.177   Prob(JB):                         0.00\n",
      "Kurtosis:                       5.845   Cond. No.                     4.87e+03\n",
      "==============================================================================\n",
      "\n",
      "Notes:\n",
      "[1] Standard Errors assume that the covariance matrix of the errors is correctly specified.\n",
      "[2] The condition number is large, 4.87e+03. This might indicate that there are\n",
      "strong multicollinearity or other numerical problems.\n"
     ]
    },
    {
     "name": "stderr",
     "output_type": "stream",
     "text": [
      "C:\\Users\\pipsou\\anaconda3\\lib\\site-packages\\statsmodels\\tsa\\tsatools.py:142: FutureWarning: In a future version of pandas all arguments of concat except for the argument 'objs' will be keyword-only\n",
      "  x = pd.concat(x[::order], 1)\n"
     ]
    }
   ],
   "source": [
    "# Régression MCO\n",
    "y = data_dj[\"Close\"].iloc[1:] # \n",
    "X = data_sp[\"Close\"].iloc[1:]\n",
    "X = sm.add_constant(X)\n",
    "results = sm.OLS(y, X).fit()\n",
    "print(results.summary())"
   ]
  },
  {
   "cell_type": "markdown",
   "metadata": {},
   "source": [
    "<span style='line-height:1.5;font-size: 17px;font-family:\"Times New Roman\"'>\n",
    "    \n",
    "    \n",
    "Avant de rentrer dans l'apprentissage des modèles économétriques permettant de mener ces estimations, nous allons d'abord nous intéresser à un outils de première utilité : l'informatique, et en l'occurence, l'informatique avec python. \n",
    "    \n",
    "    \n",
    "<hr style=\" border: 2.5px solid black;\">\n",
    "\n",
    "\n",
    "# Introduction à python <font color='blue' size=\"1.5\"><i>[Plan du cours](#plan)</i></font><a id='p2'></a>\n",
    "\n",
    "\n",
    "\n",
    "\n",
    "## Python c’est quoi ? Que peut-on faire avec ? Pourquoi l’enseigner ? <font color='blue' size=\"1.5\"><i>[Plan du cours](#plan)</i></font><a id='p2.1'></a>\n",
    "\n",
    "\n",
    "\n",
    "<b> À quoi python sert ? </b>\n",
    "\n",
    "Python est LE language du moment ! Pour énumérer les quelques raisons à son succès :\n",
    "- Complètement Open-Source\n",
    "- Multi-Plateforme (Disponible gratuitement sur Windows, Mac, Linux, IOS, Android ...)\n",
    "- Multi-tâche (AI, ML, Automation, Traitement de données, Statistiques, Modélisation, Scrapping, Création de Site Web, de jeux videos, ...)\n",
    "- Gestionnaire de Package mature (nous reviendrons plus loin à la notion de package)\n",
    "- Moins de lignes de code pour un même résultat (comparativement à d'autres langages)\n",
    "- Documentation très fournie, communauté très active\n",
    "- Très simple à apprendre !\n",
    "- ...\n",
    "\n",
    "Quelques liens à ce propos : \n",
    "\n",
    "https://hackernoon.com/8-top-programming-languages-frameworks-of-2019-2f08d2d21a1\n",
    "\n",
    "https://jaxenter.com/stack-overflow-dev-survey-2019-157815.html\n",
    "\n",
    "\n",
    "<b> D'autres langages existent ? Pourquoi python ? </b>\n",
    "\n",
    "Il existe d'autres langages se prêtant parfaitement aux travaux d'économistes/statisticiens.\n",
    "Parmi les plus connus : R, Matlab, Stata, SAS, Eviews...\n",
    "\n",
    "Parmi ces langages, certains sont propriétaires (Matlab, Stata, SAS, Eviews) et spécialisés (Stata, Eviews). \n",
    "Pour notre usage en économétrie, R est d'une très grande qualité, mais ici notre parti pris est de vous présenter un langage réellement généraliste.\n",
    "\n",
    "\n",
    "Suivant les entreprises, différents langages sont utilisés (d'où le fait que vous ayez autant de cours d'informatique dans des langages différents) :\n",
    "- Le plus de langages vous maîtrisez (ou dans lesquels vous avez des notions), le plus vous vous démarquez sur le marché\n",
    "- Plus vous avez de notions dans des langages différents, plus le nombre d'entreprises dans lesquelles postuller est grand\n",
    "\n",
    "\n",
    "\n",
    "\n",
    "</span>"
   ]
  },
  {
   "cell_type": "markdown",
   "metadata": {},
   "source": [
    "<span style='line-height:1.5;font-size: 17px;font-family:\"Times New Roman\"'>\n",
    "<hr style=\" border: .5px solid black;\">\n",
    "\n",
    "\n",
    "\n",
    "## Jupyter notebook c’est quoi ? Explication de l’installation et du fonctionnement de l’éditeur <font color='blue' size=\"1.5\"><i>[Plan du cours](#plan)</i></font><a id='p2.2'></a>\n",
    "\n",
    "\n",
    "\n",
    "Python est un langage informatique, donc un grand dictionnaire de commandes que l'on combine entre elles pour former des \"phrases\" permettant de produire un résultat. Il faut donc un support pour écrire ces \"phrases\", que l'on appelle des éditeurs (un peu comme pour l'écriture, on utilise des feuilles, un carnet, word, bloc-notes, etc...). \n",
    "\n",
    "Pour ce cours, nous utiliserons <b>jupyter notebook</b>. C'est un éditeur sous forme de cellules :\n",
    "\n",
    "<img style=\"width:150px;height:120px\" src=\"data/jupyter.jpg\">\n",
    "\n",
    "\n",
    "</span>"
   ]
  },
  {
   "cell_type": "code",
   "execution_count": null,
   "metadata": {},
   "outputs": [],
   "source": [
    "# on a donc des cellules dites \"markdown\" comme au dessus, qui servent à écrire du texte\n",
    "# et des cellules de code, permettant de.... coder\n",
    "\n",
    "print( 1+1 )"
   ]
  },
  {
   "cell_type": "markdown",
   "metadata": {},
   "source": [
    "<span style='line-height:1.5;font-size: 17px;font-family:\"Times New Roman\"'>\n",
    "\n",
    "Nous allons utiliser jupyter notebook _via_ <b>Anaconda Navigator</b>.  On va regarder ça ensemble...\n",
    "\n",
    "<img style=\"width:150px;height:120px\" src=\"data/anaconda.jpg\">\n",
    "\n",
    "\n",
    "\n",
    "<hr style=\" border: .5px solid black;\">\n",
    "\n",
    "\n",
    "\n",
    "## Syntaxe, types de variables et opérateurs basiques  <font color='blue' size=\"1.5\"><i>[Plan du cours](#plan)</i></font><a id='p2.3'></a>\n",
    "\n",
    "La tradition impose l'exécution du code suivant : \n",
    "\n",
    "</span>"
   ]
  },
  {
   "cell_type": "code",
   "execution_count": 5,
   "metadata": {
    "ExecuteTime": {
     "end_time": "2023-09-14T15:48:59.586185Z",
     "start_time": "2023-09-14T15:48:59.579890Z"
    }
   },
   "outputs": [
    {
     "name": "stdout",
     "output_type": "stream",
     "text": [
      "Hello World!\n"
     ]
    }
   ],
   "source": [
    "print( \"Hello World!\" )"
   ]
  },
  {
   "cell_type": "markdown",
   "metadata": {},
   "source": [
    "<span style='line-height:1.5;font-size: 17px;font-family:\"Times New Roman\"'>\n",
    "\n",
    "La fonction \"print()\" est une fonction intégrée de Python (en anglais \"Built-in\"). Vous l'utiliserez souvent pour afficher le contenu d'une variable !<br>\n",
    "\n",
    "<i>Note : Vous l'aurez peut-être remarqué, sur la gauche de chaque cellule de code, un compteur est présent \"Entrée [1]\", par exemple. Il énumère le nombre d'exécutions de cellules depuis l'ouverture du notebook ! </i>\n",
    "\n",
    "__Exercice__ : dans la cellule vide suivante, écrire une ligne de code pour afficher \"Mon premier bout de code\"\n",
    "\n",
    "\n",
    "\n",
    "</span>"
   ]
  },
  {
   "cell_type": "code",
   "execution_count": null,
   "metadata": {},
   "outputs": [],
   "source": []
  },
  {
   "cell_type": "markdown",
   "metadata": {},
   "source": [
    "<span style='line-height:1.5;font-size: 17px;font-family:\"Times New Roman\"'>\n",
    "\n",
    "\n",
    "### Quelques exemples pour se faire une idée\n",
    "\n",
    "\n",
    "</span>"
   ]
  },
  {
   "cell_type": "code",
   "execution_count": 6,
   "metadata": {
    "ExecuteTime": {
     "end_time": "2023-09-14T15:51:39.268913Z",
     "start_time": "2023-09-14T15:51:39.253134Z"
    }
   },
   "outputs": [
    {
     "data": {
      "text/plain": [
       "2"
      ]
     },
     "execution_count": 6,
     "metadata": {},
     "output_type": "execute_result"
    }
   ],
   "source": [
    "1+1"
   ]
  },
  {
   "cell_type": "code",
   "execution_count": 9,
   "metadata": {
    "ExecuteTime": {
     "end_time": "2023-09-14T15:52:48.991994Z",
     "start_time": "2023-09-14T15:52:48.968654Z"
    }
   },
   "outputs": [
    {
     "name": "stdout",
     "output_type": "stream",
     "text": [
      "4\n"
     ]
    },
    {
     "data": {
      "text/plain": [
       "6"
      ]
     },
     "execution_count": 9,
     "metadata": {},
     "output_type": "execute_result"
    }
   ],
   "source": [
    "1+1\n",
    "\n",
    "print(2+2)\n",
    "\n",
    "3+3"
   ]
  },
  {
   "cell_type": "code",
   "execution_count": 10,
   "metadata": {
    "ExecuteTime": {
     "end_time": "2023-09-14T15:52:54.859005Z",
     "start_time": "2023-09-14T15:52:54.842738Z"
    }
   },
   "outputs": [
    {
     "name": "stdout",
     "output_type": "stream",
     "text": [
      "2\n",
      "4\n"
     ]
    }
   ],
   "source": [
    "print(1+1)\n",
    "\n",
    "print(2+2)"
   ]
  },
  {
   "cell_type": "code",
   "execution_count": 11,
   "metadata": {
    "ExecuteTime": {
     "end_time": "2023-09-14T15:53:01.596704Z",
     "start_time": "2023-09-14T15:53:01.582906Z"
    }
   },
   "outputs": [
    {
     "name": "stdout",
     "output_type": "stream",
     "text": [
      "6\n",
      "9\n"
     ]
    }
   ],
   "source": [
    "print(3*2)\n",
    "\n",
    "print(3**2)"
   ]
  },
  {
   "cell_type": "code",
   "execution_count": 12,
   "metadata": {
    "ExecuteTime": {
     "end_time": "2023-09-14T15:53:43.675928Z",
     "start_time": "2023-09-14T15:53:43.656791Z"
    }
   },
   "outputs": [
    {
     "name": "stdout",
     "output_type": "stream",
     "text": [
      "bonjour 2\n"
     ]
    }
   ],
   "source": [
    "print(\"bonjour\", 1+1)"
   ]
  },
  {
   "cell_type": "code",
   "execution_count": 13,
   "metadata": {
    "ExecuteTime": {
     "end_time": "2023-09-14T15:53:57.488434Z",
     "start_time": "2023-09-14T15:53:57.471441Z"
    }
   },
   "outputs": [
    {
     "name": "stdout",
     "output_type": "stream",
     "text": [
      "[2, 4, 9, 3, 5]\n"
     ]
    }
   ],
   "source": [
    "ma_liste = [2,4,9,3,5]\n",
    "\n",
    "print(ma_liste)"
   ]
  },
  {
   "cell_type": "code",
   "execution_count": 14,
   "metadata": {
    "ExecuteTime": {
     "end_time": "2023-09-14T15:55:35.372315Z",
     "start_time": "2023-09-14T15:55:35.362527Z"
    }
   },
   "outputs": [
    {
     "name": "stdout",
     "output_type": "stream",
     "text": [
      "5\n"
     ]
    }
   ],
   "source": [
    "entier1 = 1\n",
    "entier2 = 4\n",
    "\n",
    "print(entier1 + entier2)"
   ]
  },
  {
   "cell_type": "code",
   "execution_count": 17,
   "metadata": {
    "ExecuteTime": {
     "end_time": "2023-09-14T15:56:39.060443Z",
     "start_time": "2023-09-14T15:56:39.051624Z"
    }
   },
   "outputs": [
    {
     "name": "stdout",
     "output_type": "stream",
     "text": [
      "[2, 4, 9, 3, 5]\n"
     ]
    }
   ],
   "source": [
    "print(ma_liste)"
   ]
  },
  {
   "cell_type": "code",
   "execution_count": 20,
   "metadata": {
    "ExecuteTime": {
     "end_time": "2023-09-14T15:58:01.247510Z",
     "start_time": "2023-09-14T15:58:01.232610Z"
    }
   },
   "outputs": [
    {
     "name": "stdout",
     "output_type": "stream",
     "text": [
      "2\n",
      "4\n",
      "9\n",
      "3\n",
      "5\n"
     ]
    }
   ],
   "source": [
    "for i in ma_liste :\n",
    "    print(i)"
   ]
  },
  {
   "cell_type": "code",
   "execution_count": 21,
   "metadata": {
    "ExecuteTime": {
     "end_time": "2023-09-14T15:58:38.840163Z",
     "start_time": "2023-09-14T15:58:38.820202Z"
    }
   },
   "outputs": [
    {
     "name": "stdout",
     "output_type": "stream",
     "text": [
      "ab\n"
     ]
    }
   ],
   "source": [
    "lettre1 = \"a\"\n",
    "lettre2 = \"b\"\n",
    "\n",
    "print(lettre1 + lettre2)"
   ]
  },
  {
   "cell_type": "markdown",
   "metadata": {},
   "source": [
    "<span style='line-height:1.5;font-size: 17px;font-family:\"Times New Roman\"'>\n",
    "\n",
    "\n",
    "### Les Variables\n",
    "\n",
    "\n",
    "</span>"
   ]
  },
  {
   "cell_type": "code",
   "execution_count": null,
   "metadata": {},
   "outputs": [],
   "source": [
    "# on stock/attribue une valeur à une variable (on choisie soi-même le nom de cette variable)\n",
    "ma_variable = \"Hello, Python 3\"\n",
    "\n",
    "# on affiche le contenu de la variable comme suit\n",
    "print( ma_variable )"
   ]
  },
  {
   "cell_type": "markdown",
   "metadata": {},
   "source": [
    "<span style='line-height:1.5;font-size: 17px;font-family:\"Times New Roman\"'>\n",
    "\n",
    "\n",
    "On remarque que pour donner une valeur à une variable, on utilise le signe `=` : ce qui est à droite est attribué comme valeur à ce qui est à gauche (le nom que l'on a choisi pour la variable).\n",
    "\n",
    "Il existe plusieurs <b>type</b> de variables. Exemples :\n",
    "\n",
    "\n",
    "</span>"
   ]
  },
  {
   "cell_type": "code",
   "execution_count": null,
   "metadata": {},
   "outputs": [],
   "source": [
    "compteur = 100          # Un entier (\"Integer\")\n",
    "kms = 10000.0         # Un décimal (\"Float\")\n",
    "nom = \"économétrie\"      # Une chaine de caractère (\"String\")\n",
    "\n",
    "ma_liste = [1, 4, 48, 9, 7] # Une liste (\"List\")\n",
    "mon_tuple = ('économétrie', 14.5, [2, 8, 10, 15])\n",
    "mon_dico = {'clé1': 'valeur1' , 'clé2': 'valeur2'}\n",
    "\n",
    "print(ma_liste)\n",
    "print(mon_tuple)\n",
    "print(mon_dico)"
   ]
  },
  {
   "cell_type": "markdown",
   "metadata": {},
   "source": [
    "<span style='line-height:1.5;font-size: 17px;font-family:\"Times New Roman\"'>\n",
    "\n",
    "\n",
    "__Exercice__ : dans la cellule vide ci-dessous, créer une variable nommée un_nom_long_pour_une_liste, et lui assigner une liste de 3 tuples contenant chacun 2 éléments (une chaîne de caractères - donc entre guillemets - et un integer)\n",
    "\n",
    "\n",
    "\n",
    "</span>"
   ]
  },
  {
   "cell_type": "code",
   "execution_count": null,
   "metadata": {},
   "outputs": [],
   "source": []
  },
  {
   "cell_type": "markdown",
   "metadata": {},
   "source": [
    "<span style='line-height:1.5;font-size: 17px;font-family:\"Times New Roman\"'>\n",
    "\n",
    "\n",
    "### Quelques fonctions \"buit-in\" de python\n",
    "\n",
    "\n",
    "</span>"
   ]
  },
  {
   "cell_type": "code",
   "execution_count": null,
   "metadata": {},
   "outputs": [],
   "source": [
    "#### On connait déjà la fonction print() ####\n",
    "\n",
    "print( 1+1 )\n",
    "\n",
    "\n",
    "#### La fonction len() ####\n",
    "\n",
    "nbcar = len(\"Choubi\") # len() Permet de compter de nombre de caractères \n",
    "print('Le nombre de caractère dans Choubi est : ',nbcar)\n",
    "\n",
    "nbelem = len([1, 4, 48, 9, 7]) # len() Permet aussi de compter le nombre d'éléments dans une liste, tuple, dicos\n",
    "print(nbelem)\n",
    "\n",
    "# Ne fonctionne pas directement pour les nombres, il faut d'abord les convertirs en String grace a str()\n",
    "my_num = len(str(157))\n",
    "print(my_num)\n",
    "\n",
    "\n",
    "\n",
    "#### La fonction type() ####\n",
    "\n",
    "# Utile pour connaitre (ou se rappeler) du type d'une variable :\n",
    "type1 = type(\"économétrie\")\n",
    "type2 = type([1, 4, 48, 9, 7])\n",
    "print(type1)\n",
    "print(type2)"
   ]
  },
  {
   "cell_type": "markdown",
   "metadata": {},
   "source": [
    "<span style='line-height:1.5;font-size: 17px;font-family:\"Times New Roman\"'>\n",
    "\n",
    "_Note_ : les commentaires\n",
    "\n",
    "La rédaction de commentaires est très utile pour la clarté de votre code, elle constitue une bonne pratique à adopter.\n",
    "\n",
    "Faites en sorte de rendre agréable la lecture de votre code pour un lecteur externe. Normalement, avec une bonne pratique, peu de commentaires sont nécessaires pour détecter d'un coup d'oeil ce que votre code effectue. Néanmoins, dans une phase d'élaboration, des commentaires pour vous même sont toujours utiles.\n",
    "\n",
    "\n",
    "</span>"
   ]
  },
  {
   "cell_type": "code",
   "execution_count": null,
   "metadata": {},
   "outputs": [],
   "source": [
    "# Ceci est un commentaire sur une seule ligne. \n",
    "\n",
    "\"\"\"\n",
    "Ceci est un commentaire\n",
    "sur plusieurs \n",
    "lignes.\n",
    "\"\"\""
   ]
  },
  {
   "cell_type": "markdown",
   "metadata": {},
   "source": [
    "<span style='line-height:1.5;font-size: 17px;font-family:\"Times New Roman\"'>\n",
    "\n",
    "\n",
    "###  Opérateurs basiques\n",
    "\n",
    "Il existe plusieurs grandes familles d'opérateurs en python :\n",
    "- Opérateurs arithmétiques \n",
    "- Opérateurs de comparaisons\n",
    "- Opérateurs d'assignations\n",
    "- Opérateurs logiques\n",
    "- Opérateurs d'adhésions\n",
    "- Opérateurs d'identités\n",
    "- ...\n",
    "\n",
    "<b>Opérateurs arithmétiques</b>\n",
    "\n",
    "</span>"
   ]
  },
  {
   "cell_type": "code",
   "execution_count": null,
   "metadata": {},
   "outputs": [],
   "source": [
    "a, b = 25, 10\n",
    "\n",
    "c = a + b  # addition\n",
    "c = a - b  # soustraction\n",
    "c = a * b  # multiplication\n",
    "c = a / b  # division\n",
    "c = a % b  # modulus ; affiche le reste d'une division non-entière\n",
    "c = a ** b # puissance\n",
    "c = a // b # floor division, retourne 2 ; 2 de l'operation 2*10 + 5\n"
   ]
  },
  {
   "cell_type": "markdown",
   "metadata": {},
   "source": [
    "<span style='line-height:1.5;font-size: 17px;font-family:\"Times New Roman\"'>\n",
    "\n",
    "<b>Opérateurs de Comparaisons</b>\n",
    "\n",
    "</span>"
   ]
  },
  {
   "cell_type": "code",
   "execution_count": null,
   "metadata": {},
   "outputs": [],
   "source": [
    "a, b = 25, 10\n",
    "\n",
    "print(a == b) # et non pas simplement a = b (qui sert à une assignation)\n",
    "print(a != b) # différent de \n",
    "print(a > b)\n",
    "print(a < b)\n",
    "print(a >= b)\n",
    "print(a <= b)"
   ]
  },
  {
   "cell_type": "markdown",
   "metadata": {},
   "source": [
    "<span style='line-height:1.5;font-size: 17px;font-family:\"Times New Roman\"'>\n",
    "\n",
    "<b>Opérateurs d'Assignation</b>\n",
    "\n",
    "</span>"
   ]
  },
  {
   "cell_type": "code",
   "execution_count": null,
   "metadata": {},
   "outputs": [],
   "source": [
    "b = 15     # Attribuer une valeur à une variable\n",
    "\n",
    "b+=6       # Ajoute 6 à la variable b, equivalent à    b = b + 6 \n",
    "print(b)   \n",
    "b -= 6     # Soustrait 6 à la variable b\n",
    "print(b)\n",
    "b *= 6     # Multiplie b par 6\n",
    "print(b)\n",
    "b /= 6     # Divise b par 6\n",
    "print(b)\n",
    "b %= 6     # Renvoie la partie décimale (reste) du quotient b/6\n",
    "print(b)\n",
    "b **= 6    # Renvoie b puissance 6\n",
    "print(b)\n",
    "b //= 6    # Renvoi la partie entiere de la division b / 6\n",
    "print(b)"
   ]
  },
  {
   "cell_type": "markdown",
   "metadata": {},
   "source": [
    "<span style='line-height:1.5;font-size: 17px;font-family:\"Times New Roman\"'>\n",
    "\n",
    "<b>Opérateurs d'Adhésions</b>\n",
    "\n",
    "</span>"
   ]
  },
  {
   "cell_type": "code",
   "execution_count": null,
   "metadata": {},
   "outputs": [],
   "source": [
    "a = [1, 2, 3, 4, 5]\n",
    "print(1 in a)  # renvoi True\n",
    "print(6 in a)  # renvoi False\n",
    "print(5 not in a) # renvoi False"
   ]
  },
  {
   "cell_type": "markdown",
   "metadata": {},
   "source": [
    "<span style='line-height:1.5;font-size: 17px;font-family:\"Times New Roman\"'>\n",
    "\n",
    "\n",
    "<hr style=\" border: .5px solid black;\">\n",
    "\n",
    "\n",
    "\n",
    "## Les boucles  <font color='blue' size=\"1.5\"><i>[Plan du cours](#plan)</i></font><a id='p2.4'></a>\n",
    "\n",
    "\n",
    "Deux type de boucles existent : la boucle FOR et la boucle WHILE. <br>\n",
    "C'est l'occasion de présenter le concept d'identation, central en Python ! Autrement votre code vous retournera des erreurs !!\n",
    "\n",
    "On ne verra ici que la boucle `for` qui nous sera beaucoup plus utile.\n",
    "\n",
    "###  La boucle For <font color='blue' size=\"1.5\"><i>[Plan du cours](#plan)</i></font>\n",
    "<a id='p131'></a>\n",
    "\n",
    "La boucle `for` permet d'itérer/de parcourir à travers une variable qui le permet (des \"itérables\") : str, list, tuple, dict.\n",
    "\n",
    "<b>IMPORTANT</b> : Vous l'aurez remarqué, une tabulation sépare \"print(element)\" du bord gauche de la cellule. C'est cette tabulation qui permet au code de fonctionner (et par là de le rendre lisible).\n",
    "\n",
    "\n",
    "</span>"
   ]
  },
  {
   "cell_type": "code",
   "execution_count": 19,
   "metadata": {
    "ExecuteTime": {
     "end_time": "2023-09-21T11:58:14.610874Z",
     "start_time": "2023-09-21T11:58:14.597038Z"
    }
   },
   "outputs": [
    {
     "name": "stdout",
     "output_type": "stream",
     "text": [
      "3\n",
      "à\n",
      "1\n",
      "pour la France\n",
      "[3, 'à', 1, 'pour la France']\n"
     ]
    }
   ],
   "source": [
    "ma_liste = [3, \"à\", 1, \"pour la France\"]\n",
    "\n",
    "for element in ma_liste :  # affiche 1 à 1 tous les élements de la liste \n",
    "    print( element )       # La variable \"element\" est créer dans le contexte de la boucle\n",
    "\n",
    "print(ma_liste)"
   ]
  },
  {
   "cell_type": "code",
   "execution_count": 21,
   "metadata": {
    "ExecuteTime": {
     "end_time": "2023-09-21T12:00:25.499221Z",
     "start_time": "2023-09-21T12:00:25.478916Z"
    }
   },
   "outputs": [
    {
     "name": "stdout",
     "output_type": "stream",
     "text": [
      "a\n",
      "b\n",
      "e\n",
      "i\n",
      "l\n",
      "l\n",
      "e\n"
     ]
    }
   ],
   "source": [
    "mot = \"abeille\"\n",
    "\n",
    "for l in mot : \n",
    "    print( l )       "
   ]
  },
  {
   "cell_type": "code",
   "execution_count": 22,
   "metadata": {
    "ExecuteTime": {
     "end_time": "2023-09-21T12:00:55.113134Z",
     "start_time": "2023-09-21T12:00:54.732364Z"
    }
   },
   "outputs": [
    {
     "ename": "TypeError",
     "evalue": "'int' object is not iterable",
     "output_type": "error",
     "traceback": [
      "\u001b[1;31m---------------------------------------------------------------------------\u001b[0m",
      "\u001b[1;31mTypeError\u001b[0m                                 Traceback (most recent call last)",
      "\u001b[1;32m~\\AppData\\Local\\Temp/ipykernel_16936/2113663185.py\u001b[0m in \u001b[0;36m<module>\u001b[1;34m\u001b[0m\n\u001b[0;32m      1\u001b[0m \u001b[1;31m# quand un objet n'est pas \"itérable\" (on ne peut pas le parcourir)\u001b[0m\u001b[1;33m\u001b[0m\u001b[1;33m\u001b[0m\u001b[0m\n\u001b[0;32m      2\u001b[0m \u001b[1;33m\u001b[0m\u001b[0m\n\u001b[1;32m----> 3\u001b[1;33m \u001b[1;32mfor\u001b[0m \u001b[0mi\u001b[0m \u001b[1;32min\u001b[0m \u001b[1;36m12\u001b[0m \u001b[1;33m:\u001b[0m\u001b[1;33m\u001b[0m\u001b[1;33m\u001b[0m\u001b[0m\n\u001b[0m\u001b[0;32m      4\u001b[0m     \u001b[0mprint\u001b[0m\u001b[1;33m(\u001b[0m\u001b[0mi\u001b[0m\u001b[1;33m)\u001b[0m\u001b[1;33m\u001b[0m\u001b[1;33m\u001b[0m\u001b[0m\n",
      "\u001b[1;31mTypeError\u001b[0m: 'int' object is not iterable"
     ]
    }
   ],
   "source": [
    "# quand un objet n'est pas \"itérable\" (on ne peut pas le parcourir)\n",
    "\n",
    "for i in 12 :\n",
    "    print(i)"
   ]
  },
  {
   "cell_type": "markdown",
   "metadata": {},
   "source": [
    "<span style='line-height:1.5;font-size: 17px;font-family:\"Times New Roman\"'>\n",
    "\n",
    "\n",
    "Comment ça marche ? \n",
    "\n",
    "```python\n",
    "for i in [1,2,3,4] :\n",
    "    print( i )\n",
    "```\n",
    "La boucle démarre après le `for` et tourne tant que tous les éléments de l'objet que l'on parcours ne sont pas tous lus. Donc dans un premier temps : \n",
    "\n",
    "```python\n",
    "for i in [1,2,3,4] : # première étape : i = 1  => puis la boucle continue et entre dans l'instruction\n",
    "    # l'instruction demande d'afficher i, donc python affiche 1\n",
    "    print( i )\n",
    "    # il n'y a pas d'autre instruction et donc la boucle revient au départ pour aller chercher le deuxième élément\n",
    "```  \n",
    "`1`\n",
    "\n",
    "```python\n",
    "for i in [1,2,3,4] : # deuxième étape étape : i = 2  => puis la boucle continue et entre dans l'instruction\n",
    "    # l'instruction demande d'afficher i, donc python affiche 2\n",
    "    print( i )\n",
    "```  \n",
    "`1`\n",
    "\n",
    "`2`\n",
    "\n",
    "Et ainsi de suite, jusqu'à avoir parcouru toute la liste. À la fin, on obtient donc :\n",
    "\n",
    "```python\n",
    "for i in [1,2,3,4] : \n",
    "    print( i )\n",
    "```  \n",
    "`1`\n",
    "\n",
    "`2`\n",
    "\n",
    "`3`\n",
    "\n",
    "`4`\n",
    "\n",
    "\n",
    "Vérifions :\n",
    "\n",
    "</span>"
   ]
  },
  {
   "cell_type": "code",
   "execution_count": 1,
   "metadata": {
    "ExecuteTime": {
     "end_time": "2023-09-21T09:24:33.019239Z",
     "start_time": "2023-09-21T09:24:33.001794Z"
    }
   },
   "outputs": [
    {
     "name": "stdout",
     "output_type": "stream",
     "text": [
      "1\n",
      "2\n",
      "3\n",
      "4\n"
     ]
    }
   ],
   "source": [
    "for i in [1,2,3,4] : \n",
    "    print( i )"
   ]
  },
  {
   "cell_type": "markdown",
   "metadata": {},
   "source": [
    "<span style='line-height:1.5;font-size: 17px;font-family:\"Times New Roman\"'>\n",
    "\n",
    "Les boucle vont nous permettre d'introduire la fonction `range( )` qui permet de parcourir les entiers avec un certain pas !\n",
    "\n",
    "\n",
    "</span>"
   ]
  },
  {
   "cell_type": "code",
   "execution_count": 23,
   "metadata": {
    "ExecuteTime": {
     "end_time": "2023-09-21T12:04:11.712959Z",
     "start_time": "2023-09-21T12:04:11.694389Z"
    }
   },
   "outputs": [
    {
     "name": "stdout",
     "output_type": "stream",
     "text": [
      "0\n",
      "1\n",
      "2\n",
      "3\n",
      "4\n",
      "5\n",
      "6\n",
      "7\n",
      "8\n",
      "9\n"
     ]
    }
   ],
   "source": [
    "pas = 1\n",
    "start = 0\n",
    "end = 10\n",
    "\n",
    "for i in range(start, end, pas): \n",
    "    print(i)"
   ]
  },
  {
   "cell_type": "markdown",
   "metadata": {},
   "source": [
    "<span style='line-height:1.5;font-size: 17px;font-family:\"Times New Roman\"'>\n",
    "\n",
    "On remarque qu'avec la fonction `range()`, la boucle s'arrête à `end - 1` (donc ici 9). \n",
    "\n",
    "On peut bien entendu écrire une boucle au sein d'une autre :\n",
    "\n",
    "\n",
    "</span>"
   ]
  },
  {
   "cell_type": "code",
   "execution_count": 35,
   "metadata": {
    "ExecuteTime": {
     "end_time": "2023-09-21T12:20:08.085004Z",
     "start_time": "2023-09-21T12:20:08.068911Z"
    }
   },
   "outputs": [
    {
     "name": "stdout",
     "output_type": "stream",
     "text": [
      "A 1\n",
      "A 2\n",
      "A 3\n",
      "B 1\n",
      "B 2\n",
      "B 3\n",
      "C 1\n",
      "C 2\n",
      "C 3\n"
     ]
    }
   ],
   "source": [
    "l_chap = [1,2,3]\n",
    "l_sc = ['A','B','C']\n",
    "\n",
    "for sc in l_sc :\n",
    "    for chap in l_chap :\n",
    "        print(sc,chap)"
   ]
  },
  {
   "cell_type": "markdown",
   "metadata": {},
   "source": [
    "<span style='line-height:1.5;font-size: 17px;font-family:\"Times New Roman\"'>\n",
    "\n",
    "__Exercice__ : écrire une boucle premettant de créer un compteur.\n",
    "- initialisation : créez une variable \"compteur\" égale à 0\n",
    "- écrire une boucle permettant de parcourir la chaine de caractères\n",
    "- \"comptez\" le nombre de lettres dans cette chaine de caractères\n",
    "- affichez votre \"compteur\" et vérifiez qu'il a bien compté le nombre de caractères\n",
    "\n",
    "\n",
    "\n",
    "</span>"
   ]
  },
  {
   "cell_type": "code",
   "execution_count": 1,
   "metadata": {
    "ExecuteTime": {
     "end_time": "2024-09-11T21:28:44.347217Z",
     "start_time": "2024-09-11T21:28:44.337143Z"
    }
   },
   "outputs": [],
   "source": [
    "mot = \"blablabla biloubilou\"\n",
    "\n"
   ]
  },
  {
   "cell_type": "markdown",
   "metadata": {},
   "source": [
    "<span style='line-height:1.5;font-size: 17px;font-family:\"Times New Roman\"'>\n",
    "\n",
    "\n",
    "<hr style=\" border: .5px solid black;\">\n",
    "\n",
    "\n",
    "## Ecriture conditionnelle <font color='blue' size=\"1.5\"><i>[Plan du cours](#plan)</i></font><a id='p2.5'></a>\n",
    "\n",
    "L'écriture conditionnelle est très importante en informatique de manière générale. En gros, l'idée est la suivante :\n",
    "\n",
    "```\n",
    "SI une condition est vérifiée, alors :\n",
    "    le code excécute l'instruction 1\n",
    "SINON, alors :\n",
    "    le code exécute une autre instruction\n",
    "```\n",
    "\n",
    "Par exemple :\n",
    "\n",
    "_Note_ : on rappelle que l'opérateur \"%\" sert à obtenir le reste d'une divison, donc  : <br>\n",
    "- $x$ est paire si `x%2` est égal à $0$\n",
    "- $x$ est impaire si `x%2` est égal à $1$\n",
    "\n",
    "\n",
    "\n",
    "</span>"
   ]
  },
  {
   "cell_type": "code",
   "execution_count": 104,
   "metadata": {
    "ExecuteTime": {
     "end_time": "2023-09-21T13:48:19.463817Z",
     "start_time": "2023-09-21T13:48:19.443814Z"
    }
   },
   "outputs": [
    {
     "name": "stdout",
     "output_type": "stream",
     "text": [
      "c est un nombre paire\n"
     ]
    }
   ],
   "source": [
    "# on créé une variable int.\n",
    "c = 40\n",
    "\n",
    "if c%2 == 0 :\n",
    "    print( \"c est un nombre paire\" )\n",
    "    \n",
    "else : \n",
    "    print( \"c est un nombre impaire\" )"
   ]
  },
  {
   "cell_type": "markdown",
   "metadata": {},
   "source": [
    "<span style='line-height:1.5;font-size: 17px;font-family:\"Times New Roman\"'>\n",
    "\n",
    "On peut ajouter plus d'une condition en disant \"`SINON SI`\" :\n",
    "\n",
    "</span>"
   ]
  },
  {
   "cell_type": "code",
   "execution_count": 31,
   "metadata": {},
   "outputs": [
    {
     "name": "stdout",
     "output_type": "stream",
     "text": [
      "c est un nombre paire\n"
     ]
    }
   ],
   "source": [
    "c = 30\n",
    "\n",
    "if c%2 == 0 :\n",
    "    print( \"c est un nombre paire\" )\n",
    "\n",
    "elif c%3 == 0 :\n",
    "    print( \"c est divisible par 3\")\n",
    "    \n",
    "else : \n",
    "    print( \"c est un nombre impaire\" )"
   ]
  },
  {
   "cell_type": "code",
   "execution_count": 114,
   "metadata": {
    "ExecuteTime": {
     "end_time": "2023-09-21T13:59:58.402994Z",
     "start_time": "2023-09-21T13:59:58.394185Z"
    }
   },
   "outputs": [
    {
     "name": "stdout",
     "output_type": "stream",
     "text": [
      "nul\n"
     ]
    }
   ],
   "source": [
    "c = 0\n",
    "if c > 0 :\n",
    "    print(\"positif\")\n",
    "elif c < 0 :\n",
    "    print(\"negatif\")\n",
    "else : \n",
    "    print(\"nul\")"
   ]
  },
  {
   "cell_type": "markdown",
   "metadata": {},
   "source": [
    "<span style='line-height:1.5;font-size: 17px;font-family:\"Times New Roman\"'>\n",
    "\n",
    "\n",
    "__Attention__ : dés qu'une condition est respectée, les autres sont oubliées (ici par exemple, 30 est divisible par 2 ET 3, mais comme la première condition est respectée, pas besoin de lire la suivante...).\n",
    "\n",
    "$\\Rightarrow$ attention à prendre toutes les possibilités en compte lorsque l'on écrit une condition !\n",
    "\n",
    "Voici un exemple de trois conditions qui fonctionne (c a d, tous les possibles sont pris en compte) :\n",
    "</span>"
   ]
  },
  {
   "cell_type": "code",
   "execution_count": 121,
   "metadata": {
    "ExecuteTime": {
     "end_time": "2023-09-21T14:03:03.950272Z",
     "start_time": "2023-09-21T14:03:03.944450Z"
    }
   },
   "outputs": [
    {
     "name": "stdout",
     "output_type": "stream",
     "text": [
      "a est égal à b\n"
     ]
    }
   ],
   "source": [
    "# Modifiez les valeurs de a et b pour voir comment réagit la fonction.\n",
    "a = 2\n",
    "b = 2\n",
    "\n",
    "if a == b:\n",
    "    print('a est égal à b')\n",
    "    \n",
    "if a > b:\n",
    "    print('a est supérieur à b')\n",
    "    \n",
    "if a < b:\n",
    "    print('a est inférieur à b')"
   ]
  },
  {
   "cell_type": "code",
   "execution_count": 120,
   "metadata": {
    "ExecuteTime": {
     "end_time": "2023-09-21T14:01:44.975221Z",
     "start_time": "2023-09-21T14:01:44.960140Z"
    }
   },
   "outputs": [
    {
     "name": "stdout",
     "output_type": "stream",
     "text": [
      "a est égal à b\n"
     ]
    }
   ],
   "source": [
    "# Modifiez les valeurs de a et b pour voir comment réagit la fonction.\n",
    "a = 3\n",
    "b = 3\n",
    "\n",
    "if a == b:\n",
    "    print('a est égal à b')\n",
    "    \n",
    "elif a >= b:\n",
    "    print('a est supérieur à b')\n",
    "    \n",
    "else :\n",
    "    print('a est inférieur à b')"
   ]
  },
  {
   "cell_type": "markdown",
   "metadata": {},
   "source": [
    "<span style='line-height:1.5;font-size: 17px;font-family:\"Times New Roman\"'>\n",
    "\n",
    "__Exercice__ : écrire une boucle qui permet de parcourir une liste d'entier (qui est donnée) et qui dit si chaque élément est divisible par $7$ ou non.\n",
    "\n",
    "\n",
    "\n",
    "</span>"
   ]
  },
  {
   "cell_type": "code",
   "execution_count": 2,
   "metadata": {
    "ExecuteTime": {
     "end_time": "2024-09-11T21:30:27.287707Z",
     "start_time": "2024-09-11T21:30:27.271502Z"
    }
   },
   "outputs": [],
   "source": [
    "# On donne la liste :\n",
    "l = [1,15,21,965,1000,-441,-538,42]\n",
    "\n"
   ]
  },
  {
   "cell_type": "markdown",
   "metadata": {},
   "source": [
    "<span style='line-height:1.5;font-size: 17px;font-family:\"Times New Roman\"'>\n",
    "\n",
    "\n",
    "<hr style=\" border: .5px solid black;\">\n",
    "\n",
    "\n",
    "##  Itérer dans une variable  <font color='blue' size=\"1.5\"><i>[Plan du cours](#plan)</i></font><a id='p2.6'></a>\n",
    "\n",
    "\n",
    "Nous avons vu avec les boucles que certaines variables sont \"itérables\". Cela veut aussi dire que l'on peut sélectionner une sous-partie de ces variables. C'est le cas des listes (c'est assez logique), mais également des chaînes de caractères. \n",
    "\n",
    "Par exemple, nous avons une liste de 5 éléments et nous voulons sélectionner le premier :\n",
    "\n",
    "\n",
    "</span>"
   ]
  },
  {
   "cell_type": "code",
   "execution_count": 3,
   "metadata": {
    "ExecuteTime": {
     "end_time": "2024-09-11T21:31:11.986823Z",
     "start_time": "2024-09-11T21:31:11.967686Z"
    }
   },
   "outputs": [
    {
     "data": {
      "text/plain": [
       "15"
      ]
     },
     "execution_count": 3,
     "metadata": {},
     "output_type": "execute_result"
    }
   ],
   "source": [
    "# On écrit une liste (on met ce que l'on veut dedans)\n",
    "une_liste = [15,208,-601,\"ab\",18.5]\n",
    "\n",
    "# pour appeler le premier élément j'utilise son indice : 0\n",
    "une_liste[0]"
   ]
  },
  {
   "cell_type": "markdown",
   "metadata": {},
   "source": [
    "<span style='line-height:1.5;font-size: 17px;font-family:\"Times New Roman\"'>\n",
    "\n",
    "On remarque ici que l'on appelle un élément d'un objet (une variable) \"itérable\" en utilisant des `[]` crochets et en mettant, entre ces crochets, l'indice de l'élément qui nous intéresse :\n",
    "- $0$ pour le premier élément\n",
    "- $1$ pour le deuxième \n",
    "- $2$ pour le troisième\n",
    "- $n$ pour le $n-1$ème\n",
    "- ...\n",
    "- $-1$ pour le dernier\n",
    "\n",
    "Le moins sert à partir de la fin : \n",
    "\n",
    "- $-1$ pour le dernier\n",
    "- $-2$ pour l'avant dernier\n",
    "- ...\n",
    "\n",
    "\n",
    "__Exercice__ : nous avons une liste de nombre, affichez le\n",
    "- premier élément\n",
    "- le 4ème\n",
    "- le 17ème\n",
    "- le 120ème\n",
    "- le dernier\n",
    "\n",
    "\n",
    "\n",
    "</span>"
   ]
  },
  {
   "cell_type": "code",
   "execution_count": 131,
   "metadata": {
    "ExecuteTime": {
     "end_time": "2023-09-21T14:26:00.861763Z",
     "start_time": "2023-09-21T14:26:00.846969Z"
    }
   },
   "outputs": [],
   "source": [
    "l = [i for i in range(1,121,7)]\n",
    "\n"
   ]
  },
  {
   "cell_type": "markdown",
   "metadata": {},
   "source": [
    "<span style='line-height:1.5;font-size: 17px;font-family:\"Times New Roman\"'>\n",
    "\n",
    "On peut également aller chercher une portion de plusieurs éléments de la liste. Toujours entre crochets, on va mettre, pour aller du $n$ème élément au $n+k$ élément : \n",
    "\n",
    "```python\n",
    "une_liste[n : n+k +1]\n",
    "```\n",
    "\n",
    "\n",
    "__Exercice__ : nous avons une liste de nombre, affichez le\n",
    "- du premier élément au 50ème\n",
    "- du 4ème au 18ème\n",
    "- du 17ème au 21ème\n",
    "- du 3ème avant le dernier jusqu'au dernier\n",
    "\n",
    "\n",
    "\n",
    "</span>"
   ]
  },
  {
   "cell_type": "code",
   "execution_count": 144,
   "metadata": {
    "ExecuteTime": {
     "end_time": "2023-09-21T14:35:46.942666Z",
     "start_time": "2023-09-21T14:35:46.924023Z"
    }
   },
   "outputs": [],
   "source": [
    "l = [i for i in range(1,121,1)]\n"
   ]
  },
  {
   "cell_type": "markdown",
   "metadata": {},
   "source": [
    "<span style='line-height:1.5;font-size: 17px;font-family:\"Times New Roman\"'>\n",
    "\n",
    "\n",
    "<hr style=\" border: .5px solid black;\">\n",
    "\n",
    "##  Aperçu sur les fonctions  <font color='blue' size=\"1.5\"><i>[Plan du cours](#plan)</i></font><a id='p2.7'></a>\n",
    "\n",
    "Nous avons déjà rencontrer plusieurs fonctions (`print()`, `range()`, `len()` etc...). Une fonction est un objet qui permet d'exécuter une série de commandes sur un ou plusieurs paramètres. Ces paramètres sont mis entre parenthèses. \n",
    "\n",
    "La fonction `len()` calcul la longueur du paramètre qu'on lui donne : \n",
    "\n",
    "</span>"
   ]
  },
  {
   "cell_type": "code",
   "execution_count": null,
   "metadata": {},
   "outputs": [],
   "source": [
    "liste = [1,2]\n",
    "len(liste)"
   ]
  },
  {
   "cell_type": "markdown",
   "metadata": {},
   "source": [
    "<span style='line-height:1.5;font-size: 17px;font-family:\"Times New Roman\"'>\n",
    "\n",
    "La fonction `range()` prend plusieurs paramètres : le `start`, le `end` et le `step`\n",
    "\n",
    "</span>"
   ]
  },
  {
   "cell_type": "code",
   "execution_count": null,
   "metadata": {},
   "outputs": [],
   "source": [
    "[i for i in range(1,11,1)]"
   ]
  },
  {
   "cell_type": "markdown",
   "metadata": {},
   "source": [
    "<span style='line-height:1.5;font-size: 17px;font-family:\"Times New Roman\"'>\n",
    "\n",
    "Nous verrons qu'avec les packages, de très nombreuses fonctions nous serons accessibles (notamment pour manipuler des données, faire des graphiques, estimer des modèles). \n",
    "\n",
    "Il est également possible de créer ses propres fonctions en suivant toujours la même logique :\n",
    "\n",
    "```python\n",
    "def nom_de_la_fonction ( liste des paramètres, séparés par une virgule ) :\n",
    "    \n",
    "    instruction1\n",
    "    instruction2\n",
    "    ...\n",
    "    \n",
    "    return le résultat\n",
    "```\n",
    "\n",
    "Par exemple, créons une fonction très simple qui permet de faire une somme entre deux nombres que l'on appelle \"a\" et \"b\" :\n",
    "\n",
    "</span>"
   ]
  },
  {
   "cell_type": "code",
   "execution_count": 145,
   "metadata": {
    "ExecuteTime": {
     "end_time": "2023-09-21T14:40:05.127389Z",
     "start_time": "2023-09-21T14:40:05.118034Z"
    }
   },
   "outputs": [],
   "source": [
    "def somme(a,b) :\n",
    "    # a et b doivent être des int ou des float\n",
    "    return a + b"
   ]
  },
  {
   "cell_type": "markdown",
   "metadata": {},
   "source": [
    "<span style='line-height:1.5;font-size: 17px;font-family:\"Times New Roman\"'>\n",
    "\n",
    "\n",
    "Et nous pouvons donc réutiliser cette fonction autant de fois que l'on veut avec des paramètres différents à chaque fois :\n",
    "\n",
    "\n",
    "</span>"
   ]
  },
  {
   "cell_type": "code",
   "execution_count": 146,
   "metadata": {
    "ExecuteTime": {
     "end_time": "2023-09-21T14:40:47.267670Z",
     "start_time": "2023-09-21T14:40:47.252986Z"
    }
   },
   "outputs": [
    {
     "name": "stdout",
     "output_type": "stream",
     "text": [
      "3\n",
      "10\n"
     ]
    }
   ],
   "source": [
    "print( somme(1,2) )\n",
    "\n",
    "print( somme(4,6) )"
   ]
  },
  {
   "cell_type": "markdown",
   "metadata": {},
   "source": [
    "<span style='line-height:1.5;font-size: 17px;font-family:\"Times New Roman\"'>\n",
    "\n",
    "\n",
    "<hr style=\" border: .5px solid black;\">\n",
    "\n",
    "\n",
    "##  Aperçu sur les packages  <font color='blue' size=\"1.5\"><i>[Plan du cours](#plan)</i></font><a id='p2.8'></a>\n",
    "\n",
    "Un package (ou un module, ou encore une librairie) est un fichier .py dans lequel réside une/plusieurs fonctions et/ou classes que nous souhaitons utiliser dans notre travail.\n",
    "\n",
    "Dans notre cours, nous utiliserons quelques packages utiles pour la gestion de données et pour la modélisation économétrique (voir plus bas). De plus, Python vient avec un certains nombres de modules de bases appellés modules \"built-in\". En voici la liste : https://docs.python.org/3/library/\n",
    "\n",
    "\n",
    "Le mot clé réservé pour importer un module est <b>\"import\"</b>. Il est une bonne pratique d'importer tout les modules en début de fichier dans une même cellule. \n",
    "\n",
    "Exemple : \n",
    "\n",
    "\n",
    "</span>"
   ]
  },
  {
   "cell_type": "code",
   "execution_count": 26,
   "metadata": {
    "ExecuteTime": {
     "end_time": "2022-09-14T08:47:42.928753Z",
     "start_time": "2022-09-14T08:47:42.913314Z"
    }
   },
   "outputs": [],
   "source": [
    "import math"
   ]
  },
  {
   "cell_type": "code",
   "execution_count": 27,
   "metadata": {
    "ExecuteTime": {
     "end_time": "2022-09-14T08:47:53.664984Z",
     "start_time": "2022-09-14T08:47:53.650882Z"
    }
   },
   "outputs": [
    {
     "name": "stdout",
     "output_type": "stream",
     "text": [
      "2\n"
     ]
    }
   ],
   "source": [
    "a = math.floor(2.35) # fonction retournant l'entier le plus proche en dessous de 2.35\n",
    "print(a)"
   ]
  },
  {
   "cell_type": "markdown",
   "metadata": {},
   "source": [
    "<span style='line-height:1.5;font-size: 17px;font-family:\"Times New Roman\"'>\n",
    "\n",
    "\n",
    "En important le module \"math\" comme ci-dessus, on est obligé de respécifier le module math pour appeler la fonction \"floor\" : <b>\"math.floor\"</b>.\n",
    "\n",
    "Pour eviter cela, on utilise la formulation suivante :\n",
    "\n",
    "\n",
    "</span>"
   ]
  },
  {
   "cell_type": "code",
   "execution_count": null,
   "metadata": {},
   "outputs": [],
   "source": [
    "from math import floor\n",
    "\n",
    "a = floor(2.35)\n",
    "print(a)"
   ]
  },
  {
   "cell_type": "markdown",
   "metadata": {},
   "source": [
    "<span style='line-height:1.5;font-size: 17px;font-family:\"Times New Roman\"'>\n",
    "\n",
    "Si l'on souhaite charger toutes les fonctions du module \"math\", on utile l'étoile \"*\" (all).\n",
    "\n",
    "</span>"
   ]
  },
  {
   "cell_type": "code",
   "execution_count": null,
   "metadata": {},
   "outputs": [],
   "source": [
    "from math import *"
   ]
  },
  {
   "cell_type": "markdown",
   "metadata": {},
   "source": [
    "<span style='line-height:1.5;font-size: 17px;font-family:\"Times New Roman\"'>\n",
    "\n",
    "Parfois, plusieurs packages différents contiennent des fonctions qui portent le même nom. Si on importe deux packages qui ont la même fonction <i><b>my_func()</b></i> en utilisant les méthodes précédentes, alors comment les distinguer ? Suis-je en train d'utiliser la fonction <i><b>my_func()</b></i> du premier package ou du second ?\n",
    "\n",
    "Pour éviter cette confusion, on défini un label grâce au mot-clé <i><b>as</b></i>. Le label utilisé doit être court (2,3 lettres) pour éviter d'avoir à réécrire le nom du module complet :\n",
    "\n",
    "</span>"
   ]
  },
  {
   "cell_type": "code",
   "execution_count": null,
   "metadata": {},
   "outputs": [],
   "source": [
    "\"\"\" Les packages numpy et math ont tous les deux une fonction floor.\n",
    "Ici la fonction produit le même résultat (au type près), donc ce n'est pas très grave. \n",
    "Mais deux fonctions portant le meme nom peuvent avoir un contenu différent et donc des résultats différents.\n",
    "\"\"\"\n",
    "import numpy as np\n",
    "import math as ma\n",
    "\n",
    "print(np.floor(2.356))   #On utilise ici la fonction floor de numpy (np)\n",
    "print(ma.floor(2.356))   #Et ici on fait appelle à celle de math (ma)"
   ]
  },
  {
   "cell_type": "markdown",
   "metadata": {},
   "source": [
    "<span style='line-height:1.5;font-size: 17px;font-family:\"Times New Roman\"'>\n",
    "\n",
    "Les principaux packages utilisés tout au long de ce cours sont les suivants :\n",
    "\n",
    "- Numpy : pour faire des calucls\n",
    "- Pandas : pour manipuler les bases de données (très important)\n",
    "- StatsModels : pour les modèles d'économétrie\n",
    "- ScikitLearn : pour le machine learning\n",
    "- Matplotlib et Seaborn : pour les graphiques\n",
    "- Arch : pour mener des estimations de modèles ARCH\n",
    "\n",
    "\n",
    "\n",
    "</span>"
   ]
  },
  {
   "cell_type": "markdown",
   "metadata": {},
   "source": [
    "<span style='line-height:1.5;font-size: 17px;font-family:\"Times New Roman\"'>\n",
    "<hr style=\" border: 2.5px solid black;\">\n",
    "\n",
    "\n",
    "\n",
    "\n",
    "# Conclusion <font color='blue' size=\"1.5\"><i>[Plan du cours](#plan)</i></font><a id='p0'></a>\n",
    "\n",
    "- Bon aperçu des bases du langage python : on fera peu de python comme à cette séance dans les autres. Les éléments seront appris en application de cours et en TD.\n",
    "\n",
    "- Il est très important de comprendre que rien ne s'apprend par coeur en informatique, il faut :\n",
    "    - comprendre les concepts\n",
    "    - pratiquer le code le plus souvent possible ! (https://www.codewars.com/dashboard)\n",
    "\n",
    "\n",
    "\n",
    "</span>"
   ]
  }
 ],
 "metadata": {
  "kernelspec": {
   "display_name": "Python 3 (ipykernel)",
   "language": "python",
   "name": "python3"
  },
  "language_info": {
   "codemirror_mode": {
    "name": "ipython",
    "version": 3
   },
   "file_extension": ".py",
   "mimetype": "text/x-python",
   "name": "python",
   "nbconvert_exporter": "python",
   "pygments_lexer": "ipython3",
   "version": "3.9.13"
  },
  "toc": {
   "base_numbering": 1,
   "nav_menu": {},
   "number_sections": true,
   "sideBar": true,
   "skip_h1_title": false,
   "title_cell": "Table of Contents",
   "title_sidebar": "Contents",
   "toc_cell": false,
   "toc_position": {
    "height": "calc(100% - 180px)",
    "left": "10px",
    "top": "150px",
    "width": "229.667px"
   },
   "toc_section_display": true,
   "toc_window_display": true
  },
  "varInspector": {
   "cols": {
    "lenName": 16,
    "lenType": 16,
    "lenVar": 40
   },
   "kernels_config": {
    "python": {
     "delete_cmd_postfix": "",
     "delete_cmd_prefix": "del ",
     "library": "var_list.py",
     "varRefreshCmd": "print(var_dic_list())"
    },
    "r": {
     "delete_cmd_postfix": ") ",
     "delete_cmd_prefix": "rm(",
     "library": "var_list.r",
     "varRefreshCmd": "cat(var_dic_list()) "
    }
   },
   "types_to_exclude": [
    "module",
    "function",
    "builtin_function_or_method",
    "instance",
    "_Feature"
   ],
   "window_display": false
  }
 },
 "nbformat": 4,
 "nbformat_minor": 2
}
