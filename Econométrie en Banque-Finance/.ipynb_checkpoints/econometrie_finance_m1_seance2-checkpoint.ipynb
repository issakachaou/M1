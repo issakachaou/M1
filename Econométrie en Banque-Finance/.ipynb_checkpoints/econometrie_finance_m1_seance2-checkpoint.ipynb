{
 "cells": [
  {
   "cell_type": "markdown",
   "metadata": {},
   "source": [
    "<span style='line-height:1.5;font-size: 17px;font-family:\"Times New Roman\"'>\n",
    "\n",
    "\n",
    "<b><center><font size=\"6\">Cours - Econométrie en finance - Séance 2</font></center></b>\n",
    "    \n",
    "<g><h7><center> CM - P. Durand  - pierre.durand@u-pec.fr </center></h7></g>\n",
    "\n",
    "<g><h7><center> TD - A. Birem  - abderraouf.birem@etu.u-pec.fr </center></h7></g>\n",
    "\n",
    "\n",
    "<b><center><font size=\"5\">M1 - 2024-2025</font></center></b> \n",
    "\n",
    "\n",
    "\n",
    "</span>"
   ]
  },
  {
   "cell_type": "markdown",
   "metadata": {},
   "source": [
    "<span style='line-height:1.5;font-size: 17px;font-family:\"Times New Roman\"'>\n",
    "<hr style=\" border: .5px solid black;\">\n",
    "\n",
    "\n",
    "\n",
    "\n",
    "\n",
    "<br>\n",
    "<b>Plan du cours : </b>\n",
    "\n",
    "- Séance 1 – Introduction générale & Introduction avancée à Python\n",
    "- <b>Séance 2 – Rappels économétriques et bases de données sous python</b>\n",
    "- Séance 3 – Modèle de régression simple\n",
    "- Séance 4 - Modèle de régression multiple\n",
    "- Séance 5 – Violation des hypothèses (1)\n",
    "- Séance 6 – Violation des hypothèses (2)\n",
    "- Séance 7 – Caractéristiques des séries temporelles\n",
    "- Séance 8 – Stationnarité et conséquences, tests de racine unitaire\n",
    "- Séance 9 – Modélisation en série temporelles : ARMA-ARCH\n",
    "- Séance 10 - Modèles VAR et correction d'erreur\n",
    "- Séance 11 – Introduction aux modèles de classification : logit\n",
    "\n",
    "\n",
    "\n",
    "<b>Références en Econométrie</b> :\n",
    "\n",
    "- Pesaran, M. H. (2015). Time series and panel data econometrics. Oxford University Press.\n",
    "\n",
    "- Bourbonnais, R. (2008), Econométrie, Dunod, 7e édition.\n",
    "\n",
    "- Mignon, V. (2008), Econométrie : Théorie et applications.\n",
    "\n",
    "- Lardic, S. & Mignon, V. (2002), Econométrie des séries temporelles macroéconomiques et financières.\n",
    "\n",
    "\n",
    "<b>Références pour la finance</b>  :\n",
    "\n",
    "-\tFinance de marché (Portait – Poncet)\n",
    "-\tRecent advances in linear models and related areas (Shalabh – Heumann)\n",
    "\n",
    "<b>Références pour python</b>  :\n",
    "\n",
    "- Presque tout est gratuit et en open source sur internet\n",
    "- Liste non exhaustive de livres : <a href=\"https://python.developpez.com/livres/\"> python.developper</a>\n",
    "\n",
    "\n",
    "\n",
    "<br>\n",
    "<hr style=\" border: .5px solid black;\">\n",
    "\n",
    "<a id='plan'></a>\n",
    "<br>\n",
    "<b>Séance 2 : </b>\n",
    "\n",
    "- [1. Introduction aux bases de données sous pandas](#p1)\n",
    "    - [1.1 Présentation du package](#p1.1)\n",
    "    - [1.2 Importer une base de données](#p1.2)\n",
    "    - [1.3 Manipuler les données sous pandas](#p1.3)\n",
    "    - [1.4 Quelques statistiques descriptives](#p1.4)\n",
    "- [2. La démarche économétrique](#p2)\n",
    "- [3. Exemple introductif : la loi d’Okhun](#p3)\n",
    "    - [3.1 Intuition économique](#p3.1)\n",
    "    - [3.2 Formalisation](#p3.2)\n",
    "    - [3.3 Récolte des données](#p3.3)\n",
    "    - [3.4 Application économétrique](#p3.4)\n",
    "- [4. Les besoins en mathématiques/algèbre/proba](#p4)\n",
    "    - [4.1 Quelques rappels en algèbre](#p4.1)\n",
    "    - [4.2 Quelques rappels en statistiques](#p4.2)\n",
    "\n",
    "\n",
    "\n",
    "\n",
    "</span>"
   ]
  },
  {
   "cell_type": "markdown",
   "metadata": {},
   "source": [
    "<span style='line-height:1.5;font-size: 17px;font-family:\"Times New Roman\"'>\n",
    "\n",
    "Installation 'nbextensions' (explication pip install).\n",
    "\n"
   ]
  },
  {
   "cell_type": "code",
   "execution_count": null,
   "metadata": {},
   "outputs": [],
   "source": [
    "pip install jupyter_contrib_nbextensions && jupyter contrib nbextension install"
   ]
  },
  {
   "cell_type": "markdown",
   "metadata": {},
   "source": [
    "<span style='line-height:1.5;font-size: 17px;font-family:\"Times New Roman\"'>\n",
    "<hr style=\" border: 2.5px solid black;\">\n",
    "\n",
    "    \n",
    "\n",
    "\n",
    "\n",
    "\n",
    "# Introduction aux bases de données sous Pandas <font color='blue' size=\"1.5\"><i>[Plan du cours](#plan)</i></font><a id='p1'></a>\n",
    "\n",
    "## Présentation du package <font color='blue' size=\"1.5\"><i>[Plan du cours](#plan)</i></font><a id='p1.1'></a>\n",
    "\n",
    "A la séance précédente, nous avons entrevu la notion de \"packages\" (appelés aussi \"librairies\"). Nous allons nous intéresser de plus prêt à l'un d'entre eux : Pandas. \n",
    "\n",
    "Pandas est donc une librairie très largement utilisée pour la gestion de données. Ce package offre de très nombreuses possibilités de <b>manipulation de données</b> : création de variables, classement, visualisation de certaine statistiques descriptives, etc...\n",
    "\n",
    "Un certain nombres de packages de modélisation (pour l'économétrie, le machine learning,...) font appels aux <b>dataframes</b> de pandas.\n",
    "\n",
    "Nous présentons ici quelques utilisations de base liées à pandas, mais il est impératif de se documenter (en demandant simplement à internet !!) pour chercher les réponses à vos questions.\n",
    "\n",
    "\n",
    "\n",
    "</span>"
   ]
  },
  {
   "cell_type": "code",
   "execution_count": 1,
   "metadata": {
    "ExecuteTime": {
     "end_time": "2024-09-25T11:41:22.757808Z",
     "start_time": "2024-09-25T11:41:22.091528Z"
    }
   },
   "outputs": [],
   "source": [
    "# on compense par importer le package dans le notebook :\n",
    "\n",
    "import pandas as pd"
   ]
  },
  {
   "cell_type": "markdown",
   "metadata": {},
   "source": [
    "<span style='line-height:1.5;font-size: 17px;font-family:\"Times New Roman\"'>\n",
    "<hr style=\" border: .5px solid black;\">\n",
    "\n",
    "##  Importer les données <font color='blue' size=\"1.5\"><i>[Plan du cours](#plan)</i></font><a id='p1.2'></a>\n",
    "\n",
    "Regardons dans un premier temps comment importer et afficher les données avant de les manipuler :\n",
    "\n",
    "</span>"
   ]
  },
  {
   "cell_type": "code",
   "execution_count": 2,
   "metadata": {
    "ExecuteTime": {
     "end_time": "2024-09-25T11:41:24.254846Z",
     "start_time": "2024-09-25T11:41:24.247381Z"
    }
   },
   "outputs": [],
   "source": [
    "\"\"\" Télécharger une base de données\n",
    "    On commence par spécifier un chemin\n",
    "    Attention à ce qu'il y ait bien des slash et non back-slash dans votre chemin d'accès\"\"\"\n",
    "\n",
    "path = \"C:/Users/204363/Desktop/cours/2022_2023/s1/m1_mbfa/econometrie/data/\""
   ]
  },
  {
   "cell_type": "code",
   "execution_count": 3,
   "metadata": {
    "ExecuteTime": {
     "end_time": "2024-09-25T11:41:25.423126Z",
     "start_time": "2024-09-25T11:41:25.398272Z"
    }
   },
   "outputs": [
    {
     "data": {
      "text/plain": [
       "'C:/Users/204363/Desktop/cours/2022_2023/s1/m1_mbfa/econometrie/data/performance.xlsx'"
      ]
     },
     "execution_count": 3,
     "metadata": {},
     "output_type": "execute_result"
    }
   ],
   "source": [
    "path + 'performance.xlsx'"
   ]
  },
  {
   "cell_type": "code",
   "execution_count": 4,
   "metadata": {
    "ExecuteTime": {
     "end_time": "2024-09-25T11:41:26.808209Z",
     "start_time": "2024-09-25T11:41:26.213957Z"
    }
   },
   "outputs": [],
   "source": [
    "#On créé un dataframe (appelé df) qui va prendre les données de la BDD 'performance.xlsx' située dans\n",
    "    #le dossier du chemin spécifié\n",
    "    #Attention à ne pas se tromper dans l'extension : .csv, .xsl, .xlsx...\n",
    "df = pd.read_excel(path + \"performance.xlsx\")"
   ]
  },
  {
   "cell_type": "code",
   "execution_count": 5,
   "metadata": {
    "ExecuteTime": {
     "end_time": "2024-09-25T11:41:27.598491Z",
     "start_time": "2024-09-25T11:41:27.576288Z"
    }
   },
   "outputs": [
    {
     "data": {
      "text/html": [
       "<div>\n",
       "<style scoped>\n",
       "    .dataframe tbody tr th:only-of-type {\n",
       "        vertical-align: middle;\n",
       "    }\n",
       "\n",
       "    .dataframe tbody tr th {\n",
       "        vertical-align: top;\n",
       "    }\n",
       "\n",
       "    .dataframe thead th {\n",
       "        text-align: right;\n",
       "    }\n",
       "</style>\n",
       "<table border=\"1\" class=\"dataframe\">\n",
       "  <thead>\n",
       "    <tr style=\"text-align: right;\">\n",
       "      <th></th>\n",
       "      <th>ident</th>\n",
       "      <th>perf</th>\n",
       "      <th>subv</th>\n",
       "      <th>etrg</th>\n",
       "      <th>nouveau</th>\n",
       "      <th>titu</th>\n",
       "      <th>nbr</th>\n",
       "    </tr>\n",
       "  </thead>\n",
       "  <tbody>\n",
       "    <tr>\n",
       "      <th>0</th>\n",
       "      <td>906</td>\n",
       "      <td>693</td>\n",
       "      <td>67</td>\n",
       "      <td>9</td>\n",
       "      <td>11</td>\n",
       "      <td>76</td>\n",
       "      <td>247</td>\n",
       "    </tr>\n",
       "    <tr>\n",
       "      <th>1</th>\n",
       "      <td>889</td>\n",
       "      <td>570</td>\n",
       "      <td>92</td>\n",
       "      <td>21</td>\n",
       "      <td>33</td>\n",
       "      <td>79</td>\n",
       "      <td>463</td>\n",
       "    </tr>\n",
       "    <tr>\n",
       "      <th>2</th>\n",
       "      <td>887</td>\n",
       "      <td>546</td>\n",
       "      <td>97</td>\n",
       "      <td>29</td>\n",
       "      <td>36</td>\n",
       "      <td>68</td>\n",
       "      <td>395</td>\n",
       "    </tr>\n",
       "    <tr>\n",
       "      <th>3</th>\n",
       "      <td>876</td>\n",
       "      <td>571</td>\n",
       "      <td>90</td>\n",
       "      <td>27</td>\n",
       "      <td>27</td>\n",
       "      <td>87</td>\n",
       "      <td>418</td>\n",
       "    </tr>\n",
       "    <tr>\n",
       "      <th>4</th>\n",
       "      <td>888</td>\n",
       "      <td>478</td>\n",
       "      <td>89</td>\n",
       "      <td>30</td>\n",
       "      <td>44</td>\n",
       "      <td>87</td>\n",
       "      <td>520</td>\n",
       "    </tr>\n",
       "    <tr>\n",
       "      <th>...</th>\n",
       "      <td>...</td>\n",
       "      <td>...</td>\n",
       "      <td>...</td>\n",
       "      <td>...</td>\n",
       "      <td>...</td>\n",
       "      <td>...</td>\n",
       "      <td>...</td>\n",
       "    </tr>\n",
       "    <tr>\n",
       "      <th>394</th>\n",
       "      <td>482</td>\n",
       "      <td>745</td>\n",
       "      <td>27</td>\n",
       "      <td>12</td>\n",
       "      <td>11</td>\n",
       "      <td>95</td>\n",
       "      <td>266</td>\n",
       "    </tr>\n",
       "    <tr>\n",
       "      <th>395</th>\n",
       "      <td>489</td>\n",
       "      <td>720</td>\n",
       "      <td>34</td>\n",
       "      <td>8</td>\n",
       "      <td>20</td>\n",
       "      <td>85</td>\n",
       "      <td>461</td>\n",
       "    </tr>\n",
       "    <tr>\n",
       "      <th>396</th>\n",
       "      <td>504</td>\n",
       "      <td>802</td>\n",
       "      <td>26</td>\n",
       "      <td>10</td>\n",
       "      <td>21</td>\n",
       "      <td>91</td>\n",
       "      <td>360</td>\n",
       "    </tr>\n",
       "    <tr>\n",
       "      <th>397</th>\n",
       "      <td>488</td>\n",
       "      <td>539</td>\n",
       "      <td>98</td>\n",
       "      <td>12</td>\n",
       "      <td>18</td>\n",
       "      <td>93</td>\n",
       "      <td>301</td>\n",
       "    </tr>\n",
       "    <tr>\n",
       "      <th>398</th>\n",
       "      <td>479</td>\n",
       "      <td>512</td>\n",
       "      <td>98</td>\n",
       "      <td>34</td>\n",
       "      <td>31</td>\n",
       "      <td>83</td>\n",
       "      <td>269</td>\n",
       "    </tr>\n",
       "  </tbody>\n",
       "</table>\n",
       "<p>399 rows × 7 columns</p>\n",
       "</div>"
      ],
      "text/plain": [
       "     ident  perf  subv  etrg  nouveau  titu  nbr\n",
       "0      906   693    67     9       11    76  247\n",
       "1      889   570    92    21       33    79  463\n",
       "2      887   546    97    29       36    68  395\n",
       "3      876   571    90    27       27    87  418\n",
       "4      888   478    89    30       44    87  520\n",
       "..     ...   ...   ...   ...      ...   ...  ...\n",
       "394    482   745    27    12       11    95  266\n",
       "395    489   720    34     8       20    85  461\n",
       "396    504   802    26    10       21    91  360\n",
       "397    488   539    98    12       18    93  301\n",
       "398    479   512    98    34       31    83  269\n",
       "\n",
       "[399 rows x 7 columns]"
      ]
     },
     "execution_count": 5,
     "metadata": {},
     "output_type": "execute_result"
    }
   ],
   "source": [
    "df "
   ]
  },
  {
   "cell_type": "markdown",
   "metadata": {},
   "source": [
    "<span style='line-height:1.5;font-size: 17px;font-family:\"Times New Roman\"'>\n",
    "\n",
    "Ici, nous avons importé un fichier au format classique excel. Il existe d'autres formats. Il est rare que nous ayons nous même à créer nos propres données/dataframes. En effet, la plupart du temps, nos données sont enregistrées aux formats <b><i>.xlsx</i></b>, <b><i>.csv</i></b>, <b><i>.txt</i></b> ou encore <b><i>.pkl</i></b>. \n",
    "\n",
    "Nous avons vu comment importé un fichier <b><i>.xlsx</i></b> (ou <b><i>.xls</i></b> selon les version d'excel) avec la fonction `pd.read_excel`. Regardons comment importer des données stockées aux formats <b><i>.csv</i></b> et <b><i>.txt</i></b>.\n",
    " \n",
    "</span>"
   ]
  },
  {
   "cell_type": "code",
   "execution_count": 6,
   "metadata": {
    "ExecuteTime": {
     "end_time": "2024-09-25T11:41:35.436157Z",
     "start_time": "2024-09-25T11:41:35.422420Z"
    }
   },
   "outputs": [],
   "source": [
    "# toujours pareil, on commence par spécifier le chemin : \n",
    "new_path = \"C:/Users/204363/Desktop/cours/2022_2023/s1/m1_mbfa/econometrie/data/\""
   ]
  },
  {
   "cell_type": "code",
   "execution_count": 7,
   "metadata": {
    "ExecuteTime": {
     "end_time": "2024-09-25T11:41:35.871622Z",
     "start_time": "2024-09-25T11:41:35.838592Z"
    }
   },
   "outputs": [],
   "source": [
    "# importation des données\n",
    "df = pd.read_csv(new_path + \"fred_okun.csv\" , sep=\"\\t\")"
   ]
  },
  {
   "cell_type": "markdown",
   "metadata": {},
   "source": [
    "<span style='line-height:1.5;font-size: 17px;font-family:\"Times New Roman\"'>\n",
    "L'intérêt de ces différents formats réside dans la place qu'ils peuvent prendre sur votre disque dur, mais aussi et surtout la rapidité avec laquelle python peut les lire : à notre niveau, le mieux est le format <b><i>.txt</i></b> qui prend peu de place et se lit très vite.\n",
    "\n",
    "<hr style=\" border: .5px solid black;\">\n",
    "\n",
    "## Manipulation des données <font color='blue' size=\"1.5\"><i>[Plan du cours](#plan)</i></font><a id='p1.3'></a>\n",
    "\n",
    "Regardons dans un premier temps comment importer et afficher les données avant de les manipuler :\n",
    "\n",
    "</span>"
   ]
  },
  {
   "cell_type": "code",
   "execution_count": 8,
   "metadata": {
    "ExecuteTime": {
     "end_time": "2024-09-25T11:41:38.062736Z",
     "start_time": "2024-09-25T11:41:38.046060Z"
    }
   },
   "outputs": [
    {
     "data": {
      "text/html": [
       "<div>\n",
       "<style scoped>\n",
       "    .dataframe tbody tr th:only-of-type {\n",
       "        vertical-align: middle;\n",
       "    }\n",
       "\n",
       "    .dataframe tbody tr th {\n",
       "        vertical-align: top;\n",
       "    }\n",
       "\n",
       "    .dataframe thead th {\n",
       "        text-align: right;\n",
       "    }\n",
       "</style>\n",
       "<table border=\"1\" class=\"dataframe\">\n",
       "  <thead>\n",
       "    <tr style=\"text-align: right;\">\n",
       "      <th></th>\n",
       "      <th>dates</th>\n",
       "      <th>CBOGDPgap</th>\n",
       "      <th>U3gapCBO</th>\n",
       "      <th>GDPpoReal2012CBO</th>\n",
       "      <th>NaturalRateUn</th>\n",
       "      <th>realGDP2012</th>\n",
       "      <th>unemployementRate</th>\n",
       "      <th>investment</th>\n",
       "    </tr>\n",
       "  </thead>\n",
       "  <tbody>\n",
       "    <tr>\n",
       "      <th>0</th>\n",
       "      <td>15/02/1955</td>\n",
       "      <td>1.637963</td>\n",
       "      <td>1.293333</td>\n",
       "      <td>2762</td>\n",
       "      <td>5.381</td>\n",
       "      <td>2813.212</td>\n",
       "      <td>4.6</td>\n",
       "      <td>312.337</td>\n",
       "    </tr>\n",
       "    <tr>\n",
       "      <th>1</th>\n",
       "      <td>15/05/1955</td>\n",
       "      <td>2.630620</td>\n",
       "      <td>1.960000</td>\n",
       "      <td>2779</td>\n",
       "      <td>5.383</td>\n",
       "      <td>2858.988</td>\n",
       "      <td>4.2</td>\n",
       "      <td>331.333</td>\n",
       "    </tr>\n",
       "    <tr>\n",
       "      <th>2</th>\n",
       "      <td>15/08/1955</td>\n",
       "      <td>3.366125</td>\n",
       "      <td>2.580000</td>\n",
       "      <td>2796</td>\n",
       "      <td>5.386</td>\n",
       "      <td>2897.598</td>\n",
       "      <td>4.1</td>\n",
       "      <td>336.418</td>\n",
       "    </tr>\n",
       "    <tr>\n",
       "      <th>3</th>\n",
       "      <td>15/11/1955</td>\n",
       "      <td>3.314704</td>\n",
       "      <td>2.313333</td>\n",
       "      <td>2813</td>\n",
       "      <td>5.388</td>\n",
       "      <td>2914.993</td>\n",
       "      <td>4.2</td>\n",
       "      <td>344.218</td>\n",
       "    </tr>\n",
       "    <tr>\n",
       "      <th>4</th>\n",
       "      <td>15/02/1956</td>\n",
       "      <td>2.241855</td>\n",
       "      <td>2.713333</td>\n",
       "      <td>2831</td>\n",
       "      <td>5.390</td>\n",
       "      <td>2903.671</td>\n",
       "      <td>4.2</td>\n",
       "      <td>334.390</td>\n",
       "    </tr>\n",
       "  </tbody>\n",
       "</table>\n",
       "</div>"
      ],
      "text/plain": [
       "        dates  CBOGDPgap  U3gapCBO  GDPpoReal2012CBO  NaturalRateUn  \\\n",
       "0  15/02/1955   1.637963  1.293333              2762          5.381   \n",
       "1  15/05/1955   2.630620  1.960000              2779          5.383   \n",
       "2  15/08/1955   3.366125  2.580000              2796          5.386   \n",
       "3  15/11/1955   3.314704  2.313333              2813          5.388   \n",
       "4  15/02/1956   2.241855  2.713333              2831          5.390   \n",
       "\n",
       "   realGDP2012  unemployementRate  investment  \n",
       "0     2813.212                4.6     312.337  \n",
       "1     2858.988                4.2     331.333  \n",
       "2     2897.598                4.1     336.418  \n",
       "3     2914.993                4.2     344.218  \n",
       "4     2903.671                4.2     334.390  "
      ]
     },
     "execution_count": 8,
     "metadata": {},
     "output_type": "execute_result"
    }
   ],
   "source": [
    "#Affichons les 5 premières lignes du dataframe\n",
    "    #Rmq : les indices dans la colonne tout à gauche sont générés automatiquement\n",
    "df.head(5) "
   ]
  },
  {
   "cell_type": "code",
   "execution_count": 9,
   "metadata": {
    "ExecuteTime": {
     "end_time": "2024-09-25T11:41:44.204967Z",
     "start_time": "2024-09-25T11:41:44.189700Z"
    }
   },
   "outputs": [
    {
     "data": {
      "text/plain": [
       "Index(['dates', 'CBOGDPgap', 'U3gapCBO', 'GDPpoReal2012CBO', 'NaturalRateUn',\n",
       "       'realGDP2012', 'unemployementRate', 'investment'],\n",
       "      dtype='object')"
      ]
     },
     "execution_count": 9,
     "metadata": {},
     "output_type": "execute_result"
    }
   ],
   "source": [
    "#Ou alors, on peut aussi retrouver cette liste en procédant ainsi :\n",
    "df.columns"
   ]
  },
  {
   "cell_type": "code",
   "execution_count": 10,
   "metadata": {
    "ExecuteTime": {
     "end_time": "2024-09-25T11:41:47.458626Z",
     "start_time": "2024-09-25T11:41:47.440188Z"
    }
   },
   "outputs": [
    {
     "data": {
      "text/plain": [
       "(252, 8)"
      ]
     },
     "execution_count": 10,
     "metadata": {},
     "output_type": "execute_result"
    }
   ],
   "source": [
    "#Quelles sont les dimensions du dataframe?\n",
    "df.shape\n",
    "    # Note : df.shape donne un tuple aux dimensions de la BDD"
   ]
  },
  {
   "cell_type": "code",
   "execution_count": 11,
   "metadata": {
    "ExecuteTime": {
     "end_time": "2024-09-25T11:41:56.801374Z",
     "start_time": "2024-09-25T11:41:56.781756Z"
    }
   },
   "outputs": [],
   "source": [
    "#Il est aussi possible de n'afficher que la variable 'perf'\n",
    "df2 = df[['investment']] "
   ]
  },
  {
   "cell_type": "code",
   "execution_count": 12,
   "metadata": {
    "ExecuteTime": {
     "end_time": "2024-09-25T11:42:00.772352Z",
     "start_time": "2024-09-25T11:42:00.751414Z"
    }
   },
   "outputs": [
    {
     "data": {
      "text/html": [
       "<div>\n",
       "<style scoped>\n",
       "    .dataframe tbody tr th:only-of-type {\n",
       "        vertical-align: middle;\n",
       "    }\n",
       "\n",
       "    .dataframe tbody tr th {\n",
       "        vertical-align: top;\n",
       "    }\n",
       "\n",
       "    .dataframe thead th {\n",
       "        text-align: right;\n",
       "    }\n",
       "</style>\n",
       "<table border=\"1\" class=\"dataframe\">\n",
       "  <thead>\n",
       "    <tr style=\"text-align: right;\">\n",
       "      <th></th>\n",
       "      <th>unemployementRate</th>\n",
       "      <th>investment</th>\n",
       "    </tr>\n",
       "  </thead>\n",
       "  <tbody>\n",
       "    <tr>\n",
       "      <th>0</th>\n",
       "      <td>4.6</td>\n",
       "      <td>312.337</td>\n",
       "    </tr>\n",
       "    <tr>\n",
       "      <th>1</th>\n",
       "      <td>4.2</td>\n",
       "      <td>331.333</td>\n",
       "    </tr>\n",
       "    <tr>\n",
       "      <th>2</th>\n",
       "      <td>4.1</td>\n",
       "      <td>336.418</td>\n",
       "    </tr>\n",
       "    <tr>\n",
       "      <th>3</th>\n",
       "      <td>4.2</td>\n",
       "      <td>344.218</td>\n",
       "    </tr>\n",
       "    <tr>\n",
       "      <th>4</th>\n",
       "      <td>4.2</td>\n",
       "      <td>334.390</td>\n",
       "    </tr>\n",
       "    <tr>\n",
       "      <th>...</th>\n",
       "      <td>...</td>\n",
       "      <td>...</td>\n",
       "    </tr>\n",
       "    <tr>\n",
       "      <th>247</th>\n",
       "      <td>4.7</td>\n",
       "      <td>3147.576</td>\n",
       "    </tr>\n",
       "    <tr>\n",
       "      <th>248</th>\n",
       "      <td>4.4</td>\n",
       "      <td>3137.735</td>\n",
       "    </tr>\n",
       "    <tr>\n",
       "      <th>249</th>\n",
       "      <td>4.3</td>\n",
       "      <td>3192.776</td>\n",
       "    </tr>\n",
       "    <tr>\n",
       "      <th>250</th>\n",
       "      <td>4.2</td>\n",
       "      <td>3240.998</td>\n",
       "    </tr>\n",
       "    <tr>\n",
       "      <th>251</th>\n",
       "      <td>4.1</td>\n",
       "      <td>3278.391</td>\n",
       "    </tr>\n",
       "  </tbody>\n",
       "</table>\n",
       "<p>252 rows × 2 columns</p>\n",
       "</div>"
      ],
      "text/plain": [
       "     unemployementRate  investment\n",
       "0                  4.6     312.337\n",
       "1                  4.2     331.333\n",
       "2                  4.1     336.418\n",
       "3                  4.2     344.218\n",
       "4                  4.2     334.390\n",
       "..                 ...         ...\n",
       "247                4.7    3147.576\n",
       "248                4.4    3137.735\n",
       "249                4.3    3192.776\n",
       "250                4.2    3240.998\n",
       "251                4.1    3278.391\n",
       "\n",
       "[252 rows x 2 columns]"
      ]
     },
     "execution_count": 12,
     "metadata": {},
     "output_type": "execute_result"
    }
   ],
   "source": [
    "#Nous souhaitons n'afficher que les deux dernières variables\n",
    "df[df.columns[-2:]]\n",
    "\n",
    "    # On peut utiliser list(df) comme vu plus haut"
   ]
  },
  {
   "cell_type": "code",
   "execution_count": 23,
   "metadata": {
    "ExecuteTime": {
     "end_time": "2022-09-14T09:59:04.279463Z",
     "start_time": "2022-09-14T09:59:04.264163Z"
    }
   },
   "outputs": [],
   "source": [
    "save_path = \"C:/Users/204363/Desktop/cours/2022_2023/s1/m1_mbfa/econometrie/data2/\""
   ]
  },
  {
   "cell_type": "code",
   "execution_count": 25,
   "metadata": {
    "ExecuteTime": {
     "end_time": "2022-09-14T10:00:13.895636Z",
     "start_time": "2022-09-14T10:00:13.843450Z"
    }
   },
   "outputs": [],
   "source": [
    "# Sauvegarder un dataframe sous excel :\n",
    "    #Après avoir manipulé vos données sous pandas, vous pouvez les enregistrer :\n",
    "df2.to_excel(save_path + 'Mon_Nom_De_Dataframe.xlsx', index=False)"
   ]
  },
  {
   "cell_type": "code",
   "execution_count": 30,
   "metadata": {
    "ExecuteTime": {
     "end_time": "2022-09-14T10:02:15.515252Z",
     "start_time": "2022-09-14T10:02:15.449135Z"
    }
   },
   "outputs": [
    {
     "data": {
      "text/html": [
       "<div>\n",
       "<style scoped>\n",
       "    .dataframe tbody tr th:only-of-type {\n",
       "        vertical-align: middle;\n",
       "    }\n",
       "\n",
       "    .dataframe tbody tr th {\n",
       "        vertical-align: top;\n",
       "    }\n",
       "\n",
       "    .dataframe thead th {\n",
       "        text-align: right;\n",
       "    }\n",
       "</style>\n",
       "<table border=\"1\" class=\"dataframe\">\n",
       "  <thead>\n",
       "    <tr style=\"text-align: right;\">\n",
       "      <th></th>\n",
       "      <th>ident</th>\n",
       "      <th>perf</th>\n",
       "      <th>subv</th>\n",
       "      <th>etrg</th>\n",
       "      <th>nouveau</th>\n",
       "      <th>titu</th>\n",
       "      <th>nbr</th>\n",
       "    </tr>\n",
       "  </thead>\n",
       "  <tbody>\n",
       "    <tr>\n",
       "      <th>5</th>\n",
       "      <td>4284</td>\n",
       "      <td>858</td>\n",
       "      <td>10</td>\n",
       "      <td>3</td>\n",
       "      <td>10</td>\n",
       "      <td>100</td>\n",
       "      <td>343</td>\n",
       "    </tr>\n",
       "    <tr>\n",
       "      <th>6</th>\n",
       "      <td>4271</td>\n",
       "      <td>918</td>\n",
       "      <td>5</td>\n",
       "      <td>2</td>\n",
       "      <td>16</td>\n",
       "      <td>100</td>\n",
       "      <td>303</td>\n",
       "    </tr>\n",
       "    <tr>\n",
       "      <th>7</th>\n",
       "      <td>2910</td>\n",
       "      <td>831</td>\n",
       "      <td>2</td>\n",
       "      <td>3</td>\n",
       "      <td>44</td>\n",
       "      <td>96</td>\n",
       "      <td>1513</td>\n",
       "    </tr>\n",
       "    <tr>\n",
       "      <th>8</th>\n",
       "      <td>2899</td>\n",
       "      <td>860</td>\n",
       "      <td>5</td>\n",
       "      <td>6</td>\n",
       "      <td>10</td>\n",
       "      <td>100</td>\n",
       "      <td>660</td>\n",
       "    </tr>\n",
       "    <tr>\n",
       "      <th>10</th>\n",
       "      <td>2911</td>\n",
       "      <td>851</td>\n",
       "      <td>1</td>\n",
       "      <td>2</td>\n",
       "      <td>16</td>\n",
       "      <td>100</td>\n",
       "      <td>768</td>\n",
       "    </tr>\n",
       "    <tr>\n",
       "      <th>...</th>\n",
       "      <td>...</td>\n",
       "      <td>...</td>\n",
       "      <td>...</td>\n",
       "      <td>...</td>\n",
       "      <td>...</td>\n",
       "      <td>...</td>\n",
       "      <td>...</td>\n",
       "    </tr>\n",
       "    <tr>\n",
       "      <th>359</th>\n",
       "      <td>3824</td>\n",
       "      <td>876</td>\n",
       "      <td>23</td>\n",
       "      <td>1</td>\n",
       "      <td>21</td>\n",
       "      <td>95</td>\n",
       "      <td>399</td>\n",
       "    </tr>\n",
       "    <tr>\n",
       "      <th>361</th>\n",
       "      <td>3865</td>\n",
       "      <td>847</td>\n",
       "      <td>9</td>\n",
       "      <td>0</td>\n",
       "      <td>8</td>\n",
       "      <td>95</td>\n",
       "      <td>312</td>\n",
       "    </tr>\n",
       "    <tr>\n",
       "      <th>367</th>\n",
       "      <td>3145</td>\n",
       "      <td>806</td>\n",
       "      <td>32</td>\n",
       "      <td>14</td>\n",
       "      <td>20</td>\n",
       "      <td>91</td>\n",
       "      <td>695</td>\n",
       "    </tr>\n",
       "    <tr>\n",
       "      <th>371</th>\n",
       "      <td>6072</td>\n",
       "      <td>865</td>\n",
       "      <td>5</td>\n",
       "      <td>0</td>\n",
       "      <td>4</td>\n",
       "      <td>100</td>\n",
       "      <td>451</td>\n",
       "    </tr>\n",
       "    <tr>\n",
       "      <th>396</th>\n",
       "      <td>504</td>\n",
       "      <td>802</td>\n",
       "      <td>26</td>\n",
       "      <td>10</td>\n",
       "      <td>21</td>\n",
       "      <td>91</td>\n",
       "      <td>360</td>\n",
       "    </tr>\n",
       "  </tbody>\n",
       "</table>\n",
       "<p>77 rows × 7 columns</p>\n",
       "</div>"
      ],
      "text/plain": [
       "     ident  perf  subv  etrg  nouveau  titu   nbr\n",
       "5     4284   858    10     3       10   100   343\n",
       "6     4271   918     5     2       16   100   303\n",
       "7     2910   831     2     3       44    96  1513\n",
       "8     2899   860     5     6       10   100   660\n",
       "10    2911   851     1     2       16   100   768\n",
       "..     ...   ...   ...   ...      ...   ...   ...\n",
       "359   3824   876    23     1       21    95   399\n",
       "361   3865   847     9     0        8    95   312\n",
       "367   3145   806    32    14       20    91   695\n",
       "371   6072   865     5     0        4   100   451\n",
       "396    504   802    26    10       21    91   360\n",
       "\n",
       "[77 rows x 7 columns]"
      ]
     },
     "execution_count": 30,
     "metadata": {},
     "output_type": "execute_result"
    }
   ],
   "source": [
    "# On peut établir une condition (pour n'afficher que certaines valeurs)\n",
    "df[df['perf']>800]"
   ]
  },
  {
   "cell_type": "code",
   "execution_count": 31,
   "metadata": {
    "ExecuteTime": {
     "end_time": "2022-09-14T10:02:45.953298Z",
     "start_time": "2022-09-14T10:02:45.937879Z"
    }
   },
   "outputs": [
    {
     "data": {
      "text/html": [
       "<div>\n",
       "<style scoped>\n",
       "    .dataframe tbody tr th:only-of-type {\n",
       "        vertical-align: middle;\n",
       "    }\n",
       "\n",
       "    .dataframe tbody tr th {\n",
       "        vertical-align: top;\n",
       "    }\n",
       "\n",
       "    .dataframe thead th {\n",
       "        text-align: right;\n",
       "    }\n",
       "</style>\n",
       "<table border=\"1\" class=\"dataframe\">\n",
       "  <thead>\n",
       "    <tr style=\"text-align: right;\">\n",
       "      <th></th>\n",
       "      <th>perf</th>\n",
       "    </tr>\n",
       "  </thead>\n",
       "  <tbody>\n",
       "    <tr>\n",
       "      <th>5</th>\n",
       "      <td>858</td>\n",
       "    </tr>\n",
       "    <tr>\n",
       "      <th>6</th>\n",
       "      <td>918</td>\n",
       "    </tr>\n",
       "    <tr>\n",
       "      <th>7</th>\n",
       "      <td>831</td>\n",
       "    </tr>\n",
       "    <tr>\n",
       "      <th>8</th>\n",
       "      <td>860</td>\n",
       "    </tr>\n",
       "    <tr>\n",
       "      <th>10</th>\n",
       "      <td>851</td>\n",
       "    </tr>\n",
       "    <tr>\n",
       "      <th>...</th>\n",
       "      <td>...</td>\n",
       "    </tr>\n",
       "    <tr>\n",
       "      <th>359</th>\n",
       "      <td>876</td>\n",
       "    </tr>\n",
       "    <tr>\n",
       "      <th>361</th>\n",
       "      <td>847</td>\n",
       "    </tr>\n",
       "    <tr>\n",
       "      <th>367</th>\n",
       "      <td>806</td>\n",
       "    </tr>\n",
       "    <tr>\n",
       "      <th>371</th>\n",
       "      <td>865</td>\n",
       "    </tr>\n",
       "    <tr>\n",
       "      <th>396</th>\n",
       "      <td>802</td>\n",
       "    </tr>\n",
       "  </tbody>\n",
       "</table>\n",
       "<p>77 rows × 1 columns</p>\n",
       "</div>"
      ],
      "text/plain": [
       "     perf\n",
       "5     858\n",
       "6     918\n",
       "7     831\n",
       "8     860\n",
       "10    851\n",
       "..    ...\n",
       "359   876\n",
       "361   847\n",
       "367   806\n",
       "371   865\n",
       "396   802\n",
       "\n",
       "[77 rows x 1 columns]"
      ]
     },
     "execution_count": 31,
     "metadata": {},
     "output_type": "execute_result"
    }
   ],
   "source": [
    "#On peut aussi afficher une variable du dataframe contraint\n",
    "df[df['perf']>800][['perf']]"
   ]
  },
  {
   "cell_type": "code",
   "execution_count": 32,
   "metadata": {
    "ExecuteTime": {
     "end_time": "2022-09-14T10:03:18.201199Z",
     "start_time": "2022-09-14T10:03:18.183507Z"
    }
   },
   "outputs": [
    {
     "data": {
      "text/html": [
       "<div>\n",
       "<style scoped>\n",
       "    .dataframe tbody tr th:only-of-type {\n",
       "        vertical-align: middle;\n",
       "    }\n",
       "\n",
       "    .dataframe tbody tr th {\n",
       "        vertical-align: top;\n",
       "    }\n",
       "\n",
       "    .dataframe thead th {\n",
       "        text-align: right;\n",
       "    }\n",
       "</style>\n",
       "<table border=\"1\" class=\"dataframe\">\n",
       "  <thead>\n",
       "    <tr style=\"text-align: right;\">\n",
       "      <th></th>\n",
       "      <th>ident</th>\n",
       "      <th>perf</th>\n",
       "      <th>subv</th>\n",
       "      <th>etrg</th>\n",
       "      <th>nouveau</th>\n",
       "      <th>titu</th>\n",
       "      <th>nbr</th>\n",
       "    </tr>\n",
       "  </thead>\n",
       "  <tbody>\n",
       "    <tr>\n",
       "      <th>5</th>\n",
       "      <td>4284</td>\n",
       "      <td>858</td>\n",
       "      <td>10</td>\n",
       "      <td>3</td>\n",
       "      <td>10</td>\n",
       "      <td>100</td>\n",
       "      <td>343</td>\n",
       "    </tr>\n",
       "  </tbody>\n",
       "</table>\n",
       "</div>"
      ],
      "text/plain": [
       "   ident  perf  subv  etrg  nouveau  titu  nbr\n",
       "5   4284   858    10     3       10   100  343"
      ]
     },
     "execution_count": 32,
     "metadata": {},
     "output_type": "execute_result"
    }
   ],
   "source": [
    "#On peut également poser plusieurs conditions\n",
    "df[(df['perf']>800)&(df['ident']==4284)]"
   ]
  },
  {
   "cell_type": "markdown",
   "metadata": {},
   "source": [
    "<span style='line-height:1.5;font-size: 17px;font-family:\"Times New Roman\"'>\n",
    "<hr style=\" border: .5px solid black;\">\n",
    "\n",
    "## Quelques stat des avec pandas <font color='blue' size=\"1.5\"><i>[Plan du cours](#plan)</i></font><a id='p1.4'></a>\n",
    "\n",
    "Pandas présente de très nombreuses fonctions pour manipuler les données. Nous présentons ici simplement quelques commandes, utiles pour quelques statistiques descriptives.\n",
    "\n",
    "</span>"
   ]
  },
  {
   "cell_type": "code",
   "execution_count": 33,
   "metadata": {
    "ExecuteTime": {
     "end_time": "2022-09-14T10:03:55.426804Z",
     "start_time": "2022-09-14T10:03:55.350502Z"
    }
   },
   "outputs": [
    {
     "data": {
      "text/html": [
       "<div>\n",
       "<style scoped>\n",
       "    .dataframe tbody tr th:only-of-type {\n",
       "        vertical-align: middle;\n",
       "    }\n",
       "\n",
       "    .dataframe tbody tr th {\n",
       "        vertical-align: top;\n",
       "    }\n",
       "\n",
       "    .dataframe thead th {\n",
       "        text-align: right;\n",
       "    }\n",
       "</style>\n",
       "<table border=\"1\" class=\"dataframe\">\n",
       "  <thead>\n",
       "    <tr style=\"text-align: right;\">\n",
       "      <th></th>\n",
       "      <th>ident</th>\n",
       "      <th>perf</th>\n",
       "      <th>subv</th>\n",
       "      <th>etrg</th>\n",
       "      <th>nouveau</th>\n",
       "      <th>titu</th>\n",
       "      <th>nbr</th>\n",
       "    </tr>\n",
       "  </thead>\n",
       "  <tbody>\n",
       "    <tr>\n",
       "      <th>count</th>\n",
       "      <td>399.000000</td>\n",
       "      <td>399.000000</td>\n",
       "      <td>399.000000</td>\n",
       "      <td>399.000000</td>\n",
       "      <td>399.000000</td>\n",
       "      <td>399.000000</td>\n",
       "      <td>399.000000</td>\n",
       "    </tr>\n",
       "    <tr>\n",
       "      <th>mean</th>\n",
       "      <td>2862.631579</td>\n",
       "      <td>648.130326</td>\n",
       "      <td>60.215539</td>\n",
       "      <td>31.355890</td>\n",
       "      <td>18.253133</td>\n",
       "      <td>84.536341</td>\n",
       "      <td>483.393484</td>\n",
       "    </tr>\n",
       "    <tr>\n",
       "      <th>std</th>\n",
       "      <td>1543.483011</td>\n",
       "      <td>142.064049</td>\n",
       "      <td>31.889628</td>\n",
       "      <td>24.795012</td>\n",
       "      <td>7.484563</td>\n",
       "      <td>14.966061</td>\n",
       "      <td>226.728166</td>\n",
       "    </tr>\n",
       "    <tr>\n",
       "      <th>min</th>\n",
       "      <td>58.000000</td>\n",
       "      <td>369.000000</td>\n",
       "      <td>0.000000</td>\n",
       "      <td>0.000000</td>\n",
       "      <td>2.000000</td>\n",
       "      <td>37.000000</td>\n",
       "      <td>130.000000</td>\n",
       "    </tr>\n",
       "    <tr>\n",
       "      <th>25%</th>\n",
       "      <td>1716.000000</td>\n",
       "      <td>524.500000</td>\n",
       "      <td>31.000000</td>\n",
       "      <td>9.500000</td>\n",
       "      <td>13.000000</td>\n",
       "      <td>76.000000</td>\n",
       "      <td>320.000000</td>\n",
       "    </tr>\n",
       "    <tr>\n",
       "      <th>50%</th>\n",
       "      <td>3005.000000</td>\n",
       "      <td>643.000000</td>\n",
       "      <td>67.000000</td>\n",
       "      <td>25.000000</td>\n",
       "      <td>17.000000</td>\n",
       "      <td>88.000000</td>\n",
       "      <td>434.000000</td>\n",
       "    </tr>\n",
       "    <tr>\n",
       "      <th>75%</th>\n",
       "      <td>4170.000000</td>\n",
       "      <td>762.500000</td>\n",
       "      <td>89.500000</td>\n",
       "      <td>50.000000</td>\n",
       "      <td>22.000000</td>\n",
       "      <td>97.000000</td>\n",
       "      <td>609.000000</td>\n",
       "    </tr>\n",
       "    <tr>\n",
       "      <th>max</th>\n",
       "      <td>6072.000000</td>\n",
       "      <td>940.000000</td>\n",
       "      <td>100.000000</td>\n",
       "      <td>91.000000</td>\n",
       "      <td>47.000000</td>\n",
       "      <td>100.000000</td>\n",
       "      <td>1570.000000</td>\n",
       "    </tr>\n",
       "  </tbody>\n",
       "</table>\n",
       "</div>"
      ],
      "text/plain": [
       "             ident        perf        subv        etrg     nouveau  \\\n",
       "count   399.000000  399.000000  399.000000  399.000000  399.000000   \n",
       "mean   2862.631579  648.130326   60.215539   31.355890   18.253133   \n",
       "std    1543.483011  142.064049   31.889628   24.795012    7.484563   \n",
       "min      58.000000  369.000000    0.000000    0.000000    2.000000   \n",
       "25%    1716.000000  524.500000   31.000000    9.500000   13.000000   \n",
       "50%    3005.000000  643.000000   67.000000   25.000000   17.000000   \n",
       "75%    4170.000000  762.500000   89.500000   50.000000   22.000000   \n",
       "max    6072.000000  940.000000  100.000000   91.000000   47.000000   \n",
       "\n",
       "             titu          nbr  \n",
       "count  399.000000   399.000000  \n",
       "mean    84.536341   483.393484  \n",
       "std     14.966061   226.728166  \n",
       "min     37.000000   130.000000  \n",
       "25%     76.000000   320.000000  \n",
       "50%     88.000000   434.000000  \n",
       "75%     97.000000   609.000000  \n",
       "max    100.000000  1570.000000  "
      ]
     },
     "execution_count": 33,
     "metadata": {},
     "output_type": "execute_result"
    }
   ],
   "source": [
    "# Les statistiques descriptives basiques\n",
    "df.describe()"
   ]
  },
  {
   "cell_type": "code",
   "execution_count": 34,
   "metadata": {
    "ExecuteTime": {
     "end_time": "2022-09-14T10:04:34.188681Z",
     "start_time": "2022-09-14T10:04:34.145164Z"
    }
   },
   "outputs": [
    {
     "data": {
      "text/html": [
       "<div>\n",
       "<style scoped>\n",
       "    .dataframe tbody tr th:only-of-type {\n",
       "        vertical-align: middle;\n",
       "    }\n",
       "\n",
       "    .dataframe tbody tr th {\n",
       "        vertical-align: top;\n",
       "    }\n",
       "\n",
       "    .dataframe thead th {\n",
       "        text-align: right;\n",
       "    }\n",
       "</style>\n",
       "<table border=\"1\" class=\"dataframe\">\n",
       "  <thead>\n",
       "    <tr style=\"text-align: right;\">\n",
       "      <th></th>\n",
       "      <th>ident</th>\n",
       "      <th>perf</th>\n",
       "      <th>subv</th>\n",
       "      <th>etrg</th>\n",
       "      <th>nouveau</th>\n",
       "      <th>titu</th>\n",
       "      <th>nbr</th>\n",
       "    </tr>\n",
       "  </thead>\n",
       "  <tbody>\n",
       "    <tr>\n",
       "      <th>ident</th>\n",
       "      <td>1.000000</td>\n",
       "      <td>0.221210</td>\n",
       "      <td>-0.221465</td>\n",
       "      <td>-0.202714</td>\n",
       "      <td>-0.008318</td>\n",
       "      <td>0.354081</td>\n",
       "      <td>-0.156022</td>\n",
       "    </tr>\n",
       "    <tr>\n",
       "      <th>perf</th>\n",
       "      <td>0.221210</td>\n",
       "      <td>1.000000</td>\n",
       "      <td>-0.900292</td>\n",
       "      <td>-0.766352</td>\n",
       "      <td>-0.206410</td>\n",
       "      <td>0.577288</td>\n",
       "      <td>-0.318541</td>\n",
       "    </tr>\n",
       "    <tr>\n",
       "      <th>subv</th>\n",
       "      <td>-0.221465</td>\n",
       "      <td>-0.900292</td>\n",
       "      <td>1.000000</td>\n",
       "      <td>0.771361</td>\n",
       "      <td>0.216646</td>\n",
       "      <td>-0.529818</td>\n",
       "      <td>0.241113</td>\n",
       "    </tr>\n",
       "    <tr>\n",
       "      <th>etrg</th>\n",
       "      <td>-0.202714</td>\n",
       "      <td>-0.766352</td>\n",
       "      <td>0.771361</td>\n",
       "      <td>1.000000</td>\n",
       "      <td>-0.020457</td>\n",
       "      <td>-0.487741</td>\n",
       "      <td>0.403763</td>\n",
       "    </tr>\n",
       "    <tr>\n",
       "      <th>nouveau</th>\n",
       "      <td>-0.008318</td>\n",
       "      <td>-0.206410</td>\n",
       "      <td>0.216646</td>\n",
       "      <td>-0.020457</td>\n",
       "      <td>1.000000</td>\n",
       "      <td>0.025208</td>\n",
       "      <td>0.105024</td>\n",
       "    </tr>\n",
       "    <tr>\n",
       "      <th>titu</th>\n",
       "      <td>0.354081</td>\n",
       "      <td>0.577288</td>\n",
       "      <td>-0.529818</td>\n",
       "      <td>-0.487741</td>\n",
       "      <td>0.025208</td>\n",
       "      <td>1.000000</td>\n",
       "      <td>-0.337864</td>\n",
       "    </tr>\n",
       "    <tr>\n",
       "      <th>nbr</th>\n",
       "      <td>-0.156022</td>\n",
       "      <td>-0.318541</td>\n",
       "      <td>0.241113</td>\n",
       "      <td>0.403763</td>\n",
       "      <td>0.105024</td>\n",
       "      <td>-0.337864</td>\n",
       "      <td>1.000000</td>\n",
       "    </tr>\n",
       "  </tbody>\n",
       "</table>\n",
       "</div>"
      ],
      "text/plain": [
       "            ident      perf      subv      etrg   nouveau      titu       nbr\n",
       "ident    1.000000  0.221210 -0.221465 -0.202714 -0.008318  0.354081 -0.156022\n",
       "perf     0.221210  1.000000 -0.900292 -0.766352 -0.206410  0.577288 -0.318541\n",
       "subv    -0.221465 -0.900292  1.000000  0.771361  0.216646 -0.529818  0.241113\n",
       "etrg    -0.202714 -0.766352  0.771361  1.000000 -0.020457 -0.487741  0.403763\n",
       "nouveau -0.008318 -0.206410  0.216646 -0.020457  1.000000  0.025208  0.105024\n",
       "titu     0.354081  0.577288 -0.529818 -0.487741  0.025208  1.000000 -0.337864\n",
       "nbr     -0.156022 -0.318541  0.241113  0.403763  0.105024 -0.337864  1.000000"
      ]
     },
     "execution_count": 34,
     "metadata": {},
     "output_type": "execute_result"
    }
   ],
   "source": [
    "# La table des corrélations\n",
    "df.corr()"
   ]
  },
  {
   "cell_type": "code",
   "execution_count": 36,
   "metadata": {
    "ExecuteTime": {
     "end_time": "2022-09-14T10:05:14.369405Z",
     "start_time": "2022-09-14T10:05:13.275861Z"
    }
   },
   "outputs": [
    {
     "data": {
      "text/plain": [
       "<AxesSubplot:>"
      ]
     },
     "execution_count": 36,
     "metadata": {},
     "output_type": "execute_result"
    },
    {
     "data": {
      "image/png": "[encoded data removed]",
      "text/plain": [
       "<Figure size 432x288 with 1 Axes>"
      ]
     },
     "metadata": {
      "needs_background": "light"
     },
     "output_type": "display_data"
    }
   ],
   "source": [
    "# On peut également faire le graphique d'une variable depuis pandas directement\n",
    "df['perf'].plot()"
   ]
  },
  {
   "cell_type": "markdown",
   "metadata": {},
   "source": [
    "<span style='line-height:1.5;font-size: 17px;font-family:\"Times New Roman\"'>\n",
    "<hr style=\" border: 2.5px solid black;\">\n",
    "\n",
    "\n",
    "\n",
    "\n",
    "# Introduction - La démarche économétrique <font color='blue' size=\"1.5\"><i>[Plan du cours](#plan)</i></font><a id='p2'></a>\n",
    "\n",
    "Comme évoqué à la première séance, la démarche économétrique s'inscrit en un certain nombre d'étapes que l'on a résumé comme suit :\n",
    "\n",
    "1. On dégage un problème et on établie une théorie économique permettant de l'expliquer de façon simplifiée.\n",
    "2. On extrait des données sur ce problème.\n",
    "3. Après une étude statistique (i.e. descriptive) des données, on fait appel à un modèle mathématique approprié permettant de valider ou non la théorie économique.\n",
    "4. Pour mener cette analyse, il convient de faire appel à certains outils informatiques.\n",
    " \n",
    "\n",
    "Comme nous l'évoquions également, l'économétrie a d'abord été appliquée à des problématiques généralement d'ordre macroéconomiques. Avec les développement des bases de données et l'essor des outils informatiques, toujours plus puissant, il a été possible d'étendre très largement les domaines d'application. En outre, la banque et la finance.  \n",
    "\n",
    "Cela étant, quel que soit le sujet, la démarche reste souvent plus ou moins ce que l'on a évoqué. Reprenons nos étapes :\n",
    "\n",
    "<b>1. Dégager un problème et le formaliser</b>\n",
    "\n",
    "Imaginons-nous travailler dans le pôle financier d'une grande entreprise automobile. Nous pourrions imaginer la demande d'une étude sur les relations entre le prix de vente des voirtures sur le marché et le prix du pétrole. On peut même aller plus loin : quelle est la relation entre le prix du pétrole et le prix des voitures hybrides ? \n",
    "\n",
    "En s'intéressant au sujet, et avant de le formaliser, nous pouvons commencer par voir dans quel sens il semblerait y avoir une relation : _a priori_, le prix du pétrole impact celui des hybrides.\n",
    "\n",
    "On commence à entrevoir un début de modèle :\n",
    "\n",
    "$$p_{hybride} = a + b \\times p_{oil} + \\epsilon$$\n",
    "\n",
    "On peut étayer un peu notre modèle en prenant en compte d'autres déterminants du prix des hybrides : prix de l'électricité, prix des voitures non hybrides, etc... On peut regrouper ces autres variables dans les colonnes d'une matrice $X$, et on a alors :\n",
    "\n",
    "$$p_{hybride} = a + b \\times p_{oil} + c\\times X + \\epsilon$$\n",
    "\n",
    "<b>2. Récolte des données </b>\n",
    "\n",
    "C'est simple ici, il faut trouver des données sur l'historique des différentes variables identifiées. Bien souvent vous pourrez accéder directement aux données de l'entreprise. Sinon, il faudra les rechercher et éventuellement en acheter. \n",
    "    \n",
    "Il existe un certain nombre de base de données gratuites ou accessible en ligne. Parmis les plus connues :\n",
    "    \n",
    "- en macroéconomie : \n",
    "    - https://data.oecd.org/fr/\n",
    "    - https://www.imf.org/en/Data\n",
    "    - INSEE (site en maintenance au 13/09/22)\n",
    "    - https://fred.stlouisfed.org/\n",
    "    - https://databank.worldbank.org/\n",
    "    \n",
    "- en finance :\n",
    "    - https://fr.finance.yahoo.com/quote/%5EFCHI?p=%5EFCHI\n",
    "    - https://www.worldbank.org/en/publication/gfdr/data/global-financial-development-database\n",
    "    - https://data.imf.org/?sk=51B096FA-2CD2-40C2-8D09-0699CC1764DA\n",
    "    \n",
    "- données micro : généralement des bases de données privées\n",
    "    \n",
    "\n",
    "\n",
    "<b>3. Statistiques descriptives </b>\n",
    "\n",
    "Avant d'estimer les paramètres du modèle, on procède généralement à une analyse graphique et en statisitque descriptive des données. Cela permet :\n",
    "- de comprendre comment se comportent les variables (comment elles évoluent, simultanément, en décalé,si elles sont corrélées...).\n",
    "- de mieux choisir la méthode d'estimation associée (on verra qu'il existe plus façon d'estimer un modèle).\n",
    "\n",
    "<b>4. Estimation du modèle </b>\n",
    "\n",
    "Ici, on applique la méthode que l'on a identifiée comme adaptée. On étudie les satistiques permettant de contrôler la qualité du modèle. Certains tests peuvent être menés pour vérifier que les résultats sont fiables (il serait dommage d'envoyer des résultats erronés à la direction...). Enfin, on conclut en fonction de la valeur de $b$.\n",
    "\n",
    "\n",
    "\n",
    "Quoi de mieux qu'un exemple en live pour comprendre tout ça ? \n",
    "\n",
    "</span>"
   ]
  },
  {
   "cell_type": "markdown",
   "metadata": {},
   "source": [
    "<span style='line-height:1.5;font-size: 17px;font-family:\"Times New Roman\"'>\n",
    "<hr style=\" border: 2.5px solid black;\">\n",
    "\n",
    "\n",
    "\n",
    "\n",
    "# Exemple introductif : la loi d'Okun <font color='blue' size=\"1.5\"><i>[Plan du cours](#plan)</i></font><a id='p3'></a>\n",
    "\n",
    "C'est un exemple que nous avons pris en première séance. Bien qu'il ne soit pas tiré de la banque ou de la finance, il a l'avantage d'être simple à aborder, et à comprendre !\n",
    "\n",
    "\n",
    "## L'intuition économique <font color='blue' size=\"1.5\"><i>[Plan du cours](#plan)</i></font><a id='p3.1'></a>\n",
    "\n",
    "\n",
    "\n",
    "Au début des années 60, Arthur Okun est le premier à documenter la corrélation négative observée entre la croissance du PIB $g$, et le taux de chômage $u$. Depuis ses travaux, cette relation est désignée comme la \"loi\" d'Okun.\n",
    "\n",
    "Observation : davantage de travail est généralement nécessaire pour produire plus de biens et de services au sein d'une économie. \n",
    "\n",
    "Qu’est-ce que signifie plus de travail: \n",
    "* plus d'heure travaillées\n",
    "* plus de salariés\n",
    "* travail plus efficace\n",
    "* ...\n",
    "\n",
    "Par simplification, Okun considère que le taux de chômage résume correctement l'utilisation du facteur travail dans l'appareil productif de l'économie. Le taux de chômage est, au mieux, à considérer une variable \"proxy\" pour toutes les façons dont la production est affectée par des ressources inutilisées.\n",
    "\n",
    "\n",
    "Cette relation a comme avantage sa simplicité. Elle implique principalement deux agrégats majeurs : le PIB et le taux de chômage. Cette relation négative jouie notamment d'un fort support empirique (vérifiable dans les données).\n",
    "\n",
    "Les décideurs économiques l'utilisent souvent comme une règle empirique permettant d'effectuer des prévisions simples (simplistes), à l'image de la célèbre règle de Taylor.\n",
    "\n",
    "Cependant, en réalité, ce qu'on appelle ici \"loi\" est davantage une relation statistique qu'une caractéristique structurelle de l'économie. Cela signifie que cette relation est amenée à évoluer dans l'espace et au cours du temps dans un contexte macro-économique changeant.\n",
    "\n",
    "\n",
    "\n",
    "Néanmoins, certaines études pointent que l'instabilité de la relation dans le temps (notamment lorsque la règle est évaluée avec des données trimestrielles) peut être un frein à l'utilisation des versions simples de la loi d'Okun dans un objectif de prévision.\n",
    "\n",
    "Si les économistes tiennent compte dans ces dynamiques temporelles (voir infra le modèle dynamique), les prévisions engendrées sont plus précises et reste donc d'intérêt pour les décideurs économiques. \n",
    "\n",
    "$\\Rightarrow$ Tout ça pour dire qu'il existe plusieurs version de cette loi. On va s'intéresser à sa version la plus simple.\n",
    "\n",
    "\n",
    "</span>"
   ]
  },
  {
   "cell_type": "markdown",
   "metadata": {},
   "source": [
    "<span style='line-height:1.5;font-size: 17px;font-family:\"Times New Roman\"'>\n",
    "<hr style=\" border: .5px solid black;\">\n",
    "\n",
    "\n",
    "\n",
    "## La formalisation<font color='blue' size=\"1.5\"><i>[Plan du cours](#plan)</i></font><a id='p3.2'></a>\n",
    "\n",
    "\n",
    "- Version en _différence_\n",
    "    * $\\Delta u_t = a + b  g_{t} + \\epsilon_t$ <br> où $g_t$ : Croissance du PIB\n",
    "    * Capture la corrélation comtemporaine entre la croissance du PIB et les variations du taux de chômage.\n",
    "    * La valeur du coefficient $\\beta$ attendue est négative : une augmentation du taux de croissance rapide serait associée à une chute du taux de chômage. Une croissance molle ou négative serait, à l'inverse, associée  avec un taux de chômage s'accroit.\n",
    "    * La relation $-\\frac{a}{b}$ donne le taux de croissance associé a un taux de chômage stable. Ou, autrement dit, quel rythme de croissance est nécessaire pour maintenir un certain taux de chômage.\n",
    "\n",
    "\n",
    "</span>"
   ]
  },
  {
   "cell_type": "markdown",
   "metadata": {},
   "source": [
    "<span style='line-height:1.5;font-size: 17px;font-family:\"Times New Roman\"'>\n",
    "<hr style=\" border: .5px solid black;\">\n",
    "\n",
    "\n",
    "\n",
    "## Récolte et traitement des données <font color='blue' size=\"1.5\"><i>[Plan du cours](#plan)</i></font><a id='p3.3'></a>\n",
    "\n",
    "\n",
    "Les séries de données utilisées sont disponibles sur le site <a href=https://fred.stlouisfed.org/>FRED</a> (Federal Reserve Economic Data) maintenu par la division recherche de la Fed de Saint-louis (correspondant a l'une des 12 Feds régionales). Elles sont également disponibles sur le site de la Fed d'atlanta, sur la <a href=https://www.frbatlanta.org/cqer/research/taylor-rule>page</a> présentant un outil interactif pour découvrir la règle de Taylor.\n",
    "\n",
    "Les donnés récupérées sont mises en forme dans le fichier __\"fred_okun.csv\"__ mis à votre disposition dans le dossier __\"data\"__ de la dropbox du cours.\n",
    "Le fichier comprend sept séries (7 colonnes), dont les libéllés (et les descriptions) sont les suivants :\n",
    "\n",
    "* dates\t: contiens les dates au format (dd/mm/yyyy). Les données sont trimestrielles. Par exemple 15/08/2017 se lit \"3ème trimestre 2017\"; 15/02/2013 se lit \"1er semestre 2013\"\n",
    "* CBOGDPgap\t: correspond à $y - y^p$\n",
    "* U3gapCBO : correspond à $u - u^p$\n",
    "* GDPpoReal2012CBO :  Le _Congressional Budget Office (CBO)_ dérive une mesure du PIB réel potentiel.\n",
    "* NaturalRateUn\t: Le _Congressional Budget Office (CBO)_ dérive une mesure du taux de chômage naturel* : le taux de chômage qui existerait dans une économie saine et en croissance.\n",
    "* realGDP2012 : Le pib réel (corrigé de l'inflation) corrigé du niveau général des prix de 2012\n",
    "* unemployementRate : taux de chômage mesuré.\n",
    "\n",
    "\n",
    "</span>"
   ]
  },
  {
   "cell_type": "code",
   "execution_count": 1,
   "metadata": {
    "ExecuteTime": {
     "end_time": "2024-09-24T14:15:17.225119Z",
     "start_time": "2024-09-24T14:15:14.064005Z"
    }
   },
   "outputs": [],
   "source": [
    "# importation des packages utiles\n",
    "\n",
    "# pour le traitement des données\n",
    "import pandas as pd \n",
    "import numpy as np\n",
    "\n",
    "# pour les graphiques\n",
    "import matplotlib.pyplot as plt\n",
    "import scipy as sp\n",
    "import seaborn as sns\n",
    "\n",
    "# pour l'estimation du modèle\n",
    "import statsmodels.api as sm\n"
   ]
  },
  {
   "cell_type": "code",
   "execution_count": 8,
   "metadata": {
    "ExecuteTime": {
     "end_time": "2024-09-24T14:16:36.984804Z",
     "start_time": "2024-09-24T14:16:36.958839Z"
    }
   },
   "outputs": [
    {
     "data": {
      "text/html": [
       "<div>\n",
       "<style scoped>\n",
       "    .dataframe tbody tr th:only-of-type {\n",
       "        vertical-align: middle;\n",
       "    }\n",
       "\n",
       "    .dataframe tbody tr th {\n",
       "        vertical-align: top;\n",
       "    }\n",
       "\n",
       "    .dataframe thead th {\n",
       "        text-align: right;\n",
       "    }\n",
       "</style>\n",
       "<table border=\"1\" class=\"dataframe\">\n",
       "  <thead>\n",
       "    <tr style=\"text-align: right;\">\n",
       "      <th></th>\n",
       "      <th>dates</th>\n",
       "      <th>CBOGDPgap</th>\n",
       "      <th>U3gapCBO</th>\n",
       "      <th>GDPpoReal2012CBO</th>\n",
       "      <th>NaturalRateUn</th>\n",
       "      <th>realGDP2012</th>\n",
       "      <th>unemployementRate</th>\n",
       "      <th>investment</th>\n",
       "    </tr>\n",
       "  </thead>\n",
       "  <tbody>\n",
       "    <tr>\n",
       "      <th>0</th>\n",
       "      <td>15/02/1955</td>\n",
       "      <td>1.637963</td>\n",
       "      <td>1.293333</td>\n",
       "      <td>2762</td>\n",
       "      <td>5.381</td>\n",
       "      <td>2813.212</td>\n",
       "      <td>4.6</td>\n",
       "      <td>312.337</td>\n",
       "    </tr>\n",
       "    <tr>\n",
       "      <th>1</th>\n",
       "      <td>15/05/1955</td>\n",
       "      <td>2.630620</td>\n",
       "      <td>1.960000</td>\n",
       "      <td>2779</td>\n",
       "      <td>5.383</td>\n",
       "      <td>2858.988</td>\n",
       "      <td>4.2</td>\n",
       "      <td>331.333</td>\n",
       "    </tr>\n",
       "    <tr>\n",
       "      <th>2</th>\n",
       "      <td>15/08/1955</td>\n",
       "      <td>3.366125</td>\n",
       "      <td>2.580000</td>\n",
       "      <td>2796</td>\n",
       "      <td>5.386</td>\n",
       "      <td>2897.598</td>\n",
       "      <td>4.1</td>\n",
       "      <td>336.418</td>\n",
       "    </tr>\n",
       "    <tr>\n",
       "      <th>3</th>\n",
       "      <td>15/11/1955</td>\n",
       "      <td>3.314704</td>\n",
       "      <td>2.313333</td>\n",
       "      <td>2813</td>\n",
       "      <td>5.388</td>\n",
       "      <td>2914.993</td>\n",
       "      <td>4.2</td>\n",
       "      <td>344.218</td>\n",
       "    </tr>\n",
       "    <tr>\n",
       "      <th>4</th>\n",
       "      <td>15/02/1956</td>\n",
       "      <td>2.241855</td>\n",
       "      <td>2.713333</td>\n",
       "      <td>2831</td>\n",
       "      <td>5.390</td>\n",
       "      <td>2903.671</td>\n",
       "      <td>4.2</td>\n",
       "      <td>334.390</td>\n",
       "    </tr>\n",
       "    <tr>\n",
       "      <th>...</th>\n",
       "      <td>...</td>\n",
       "      <td>...</td>\n",
       "      <td>...</td>\n",
       "      <td>...</td>\n",
       "      <td>...</td>\n",
       "      <td>...</td>\n",
       "      <td>...</td>\n",
       "      <td>...</td>\n",
       "    </tr>\n",
       "    <tr>\n",
       "      <th>247</th>\n",
       "      <td>15/11/2016</td>\n",
       "      <td>-1.150581</td>\n",
       "      <td>-0.453333</td>\n",
       "      <td>18006</td>\n",
       "      <td>4.621</td>\n",
       "      <td>17876.179</td>\n",
       "      <td>4.7</td>\n",
       "      <td>3147.576</td>\n",
       "    </tr>\n",
       "    <tr>\n",
       "      <th>248</th>\n",
       "      <td>15/02/2017</td>\n",
       "      <td>-0.983594</td>\n",
       "      <td>-0.053333</td>\n",
       "      <td>18081</td>\n",
       "      <td>4.616</td>\n",
       "      <td>17977.299</td>\n",
       "      <td>4.4</td>\n",
       "      <td>3137.735</td>\n",
       "    </tr>\n",
       "    <tr>\n",
       "      <th>249</th>\n",
       "      <td>15/05/2017</td>\n",
       "      <td>-0.959766</td>\n",
       "      <td>0.260000</td>\n",
       "      <td>18158</td>\n",
       "      <td>4.611</td>\n",
       "      <td>18054.052</td>\n",
       "      <td>4.3</td>\n",
       "      <td>3192.776</td>\n",
       "    </tr>\n",
       "    <tr>\n",
       "      <th>250</th>\n",
       "      <td>15/08/2017</td>\n",
       "      <td>-0.651224</td>\n",
       "      <td>0.440000</td>\n",
       "      <td>18236</td>\n",
       "      <td>4.607</td>\n",
       "      <td>18185.636</td>\n",
       "      <td>4.2</td>\n",
       "      <td>3240.998</td>\n",
       "    </tr>\n",
       "    <tr>\n",
       "      <th>251</th>\n",
       "      <td>15/11/2017</td>\n",
       "      <td>-0.127548</td>\n",
       "      <td>0.753333</td>\n",
       "      <td>18316</td>\n",
       "      <td>4.602</td>\n",
       "      <td>18359.432</td>\n",
       "      <td>4.1</td>\n",
       "      <td>3278.391</td>\n",
       "    </tr>\n",
       "  </tbody>\n",
       "</table>\n",
       "<p>252 rows × 8 columns</p>\n",
       "</div>"
      ],
      "text/plain": [
       "          dates  CBOGDPgap  U3gapCBO  GDPpoReal2012CBO  NaturalRateUn  \\\n",
       "0    15/02/1955   1.637963  1.293333              2762          5.381   \n",
       "1    15/05/1955   2.630620  1.960000              2779          5.383   \n",
       "2    15/08/1955   3.366125  2.580000              2796          5.386   \n",
       "3    15/11/1955   3.314704  2.313333              2813          5.388   \n",
       "4    15/02/1956   2.241855  2.713333              2831          5.390   \n",
       "..          ...        ...       ...               ...            ...   \n",
       "247  15/11/2016  -1.150581 -0.453333             18006          4.621   \n",
       "248  15/02/2017  -0.983594 -0.053333             18081          4.616   \n",
       "249  15/05/2017  -0.959766  0.260000             18158          4.611   \n",
       "250  15/08/2017  -0.651224  0.440000             18236          4.607   \n",
       "251  15/11/2017  -0.127548  0.753333             18316          4.602   \n",
       "\n",
       "     realGDP2012  unemployementRate  investment  \n",
       "0       2813.212                4.6     312.337  \n",
       "1       2858.988                4.2     331.333  \n",
       "2       2897.598                4.1     336.418  \n",
       "3       2914.993                4.2     344.218  \n",
       "4       2903.671                4.2     334.390  \n",
       "..           ...                ...         ...  \n",
       "247    17876.179                4.7    3147.576  \n",
       "248    17977.299                4.4    3137.735  \n",
       "249    18054.052                4.3    3192.776  \n",
       "250    18185.636                4.2    3240.998  \n",
       "251    18359.432                4.1    3278.391  \n",
       "\n",
       "[252 rows x 8 columns]"
      ]
     },
     "execution_count": 8,
     "metadata": {},
     "output_type": "execute_result"
    }
   ],
   "source": [
    "df"
   ]
  },
  {
   "cell_type": "code",
   "execution_count": 11,
   "metadata": {
    "ExecuteTime": {
     "end_time": "2024-09-24T14:17:31.508636Z",
     "start_time": "2024-09-24T14:17:31.487386Z"
    }
   },
   "outputs": [],
   "source": [
    "# importer les données\n",
    "df = pd.read_csv(\"./data/fred_okun.csv\", sep=\"\\t\")\n",
    "\n",
    "# redéfinition des colonnes\n",
    "df.columns = [\"dates\", \"gdp_gap\", \"un_gap\", \"gdp_pot\", \"un_nat\", \"gdp_real\", \"un\", \"inv\"] # on renomme les variables\n",
    "df[\"dates\"] = pd.to_datetime(df[\"dates\"], infer_datetime_format = True)  \n",
    "\n",
    "# ajout de variables transformées\n",
    "df[\"gdp_growth\"] =  ((df[\"gdp_real\"] / df[\"gdp_real\"].shift(1)) - 1)*100\n",
    "df[\"un_change\"] = (df[\"un\"] - df[\"un\"].shift(1))"
   ]
  },
  {
   "cell_type": "code",
   "execution_count": 12,
   "metadata": {
    "ExecuteTime": {
     "end_time": "2024-09-24T14:17:34.503671Z",
     "start_time": "2024-09-24T14:17:34.486427Z"
    },
    "scrolled": true
   },
   "outputs": [
    {
     "data": {
      "text/html": [
       "<div>\n",
       "<style scoped>\n",
       "    .dataframe tbody tr th:only-of-type {\n",
       "        vertical-align: middle;\n",
       "    }\n",
       "\n",
       "    .dataframe tbody tr th {\n",
       "        vertical-align: top;\n",
       "    }\n",
       "\n",
       "    .dataframe thead th {\n",
       "        text-align: right;\n",
       "    }\n",
       "</style>\n",
       "<table border=\"1\" class=\"dataframe\">\n",
       "  <thead>\n",
       "    <tr style=\"text-align: right;\">\n",
       "      <th></th>\n",
       "      <th>dates</th>\n",
       "      <th>gdp_gap</th>\n",
       "      <th>un_gap</th>\n",
       "      <th>gdp_pot</th>\n",
       "      <th>un_nat</th>\n",
       "      <th>gdp_real</th>\n",
       "      <th>un</th>\n",
       "      <th>inv</th>\n",
       "      <th>gdp_growth</th>\n",
       "      <th>un_change</th>\n",
       "    </tr>\n",
       "  </thead>\n",
       "  <tbody>\n",
       "    <tr>\n",
       "      <th>0</th>\n",
       "      <td>1955-02-15</td>\n",
       "      <td>1.637963</td>\n",
       "      <td>1.293333</td>\n",
       "      <td>2762</td>\n",
       "      <td>5.381</td>\n",
       "      <td>2813.212</td>\n",
       "      <td>4.6</td>\n",
       "      <td>312.337</td>\n",
       "      <td>NaN</td>\n",
       "      <td>NaN</td>\n",
       "    </tr>\n",
       "    <tr>\n",
       "      <th>1</th>\n",
       "      <td>1955-05-15</td>\n",
       "      <td>2.630620</td>\n",
       "      <td>1.960000</td>\n",
       "      <td>2779</td>\n",
       "      <td>5.383</td>\n",
       "      <td>2858.988</td>\n",
       "      <td>4.2</td>\n",
       "      <td>331.333</td>\n",
       "      <td>1.627179</td>\n",
       "      <td>-0.4</td>\n",
       "    </tr>\n",
       "    <tr>\n",
       "      <th>2</th>\n",
       "      <td>1955-08-15</td>\n",
       "      <td>3.366125</td>\n",
       "      <td>2.580000</td>\n",
       "      <td>2796</td>\n",
       "      <td>5.386</td>\n",
       "      <td>2897.598</td>\n",
       "      <td>4.1</td>\n",
       "      <td>336.418</td>\n",
       "      <td>1.350478</td>\n",
       "      <td>-0.1</td>\n",
       "    </tr>\n",
       "    <tr>\n",
       "      <th>3</th>\n",
       "      <td>1955-11-15</td>\n",
       "      <td>3.314704</td>\n",
       "      <td>2.313333</td>\n",
       "      <td>2813</td>\n",
       "      <td>5.388</td>\n",
       "      <td>2914.993</td>\n",
       "      <td>4.2</td>\n",
       "      <td>344.218</td>\n",
       "      <td>0.600325</td>\n",
       "      <td>0.1</td>\n",
       "    </tr>\n",
       "    <tr>\n",
       "      <th>4</th>\n",
       "      <td>1956-02-15</td>\n",
       "      <td>2.241855</td>\n",
       "      <td>2.713333</td>\n",
       "      <td>2831</td>\n",
       "      <td>5.390</td>\n",
       "      <td>2903.671</td>\n",
       "      <td>4.2</td>\n",
       "      <td>334.390</td>\n",
       "      <td>-0.388406</td>\n",
       "      <td>0.0</td>\n",
       "    </tr>\n",
       "    <tr>\n",
       "      <th>...</th>\n",
       "      <td>...</td>\n",
       "      <td>...</td>\n",
       "      <td>...</td>\n",
       "      <td>...</td>\n",
       "      <td>...</td>\n",
       "      <td>...</td>\n",
       "      <td>...</td>\n",
       "      <td>...</td>\n",
       "      <td>...</td>\n",
       "      <td>...</td>\n",
       "    </tr>\n",
       "    <tr>\n",
       "      <th>247</th>\n",
       "      <td>2016-11-15</td>\n",
       "      <td>-1.150581</td>\n",
       "      <td>-0.453333</td>\n",
       "      <td>18006</td>\n",
       "      <td>4.621</td>\n",
       "      <td>17876.179</td>\n",
       "      <td>4.7</td>\n",
       "      <td>3147.576</td>\n",
       "      <td>0.629298</td>\n",
       "      <td>-0.3</td>\n",
       "    </tr>\n",
       "    <tr>\n",
       "      <th>248</th>\n",
       "      <td>2017-02-15</td>\n",
       "      <td>-0.983594</td>\n",
       "      <td>-0.053333</td>\n",
       "      <td>18081</td>\n",
       "      <td>4.616</td>\n",
       "      <td>17977.299</td>\n",
       "      <td>4.4</td>\n",
       "      <td>3137.735</td>\n",
       "      <td>0.565669</td>\n",
       "      <td>-0.3</td>\n",
       "    </tr>\n",
       "    <tr>\n",
       "      <th>249</th>\n",
       "      <td>2017-05-15</td>\n",
       "      <td>-0.959766</td>\n",
       "      <td>0.260000</td>\n",
       "      <td>18158</td>\n",
       "      <td>4.611</td>\n",
       "      <td>18054.052</td>\n",
       "      <td>4.3</td>\n",
       "      <td>3192.776</td>\n",
       "      <td>0.426944</td>\n",
       "      <td>-0.1</td>\n",
       "    </tr>\n",
       "    <tr>\n",
       "      <th>250</th>\n",
       "      <td>2017-08-15</td>\n",
       "      <td>-0.651224</td>\n",
       "      <td>0.440000</td>\n",
       "      <td>18236</td>\n",
       "      <td>4.607</td>\n",
       "      <td>18185.636</td>\n",
       "      <td>4.2</td>\n",
       "      <td>3240.998</td>\n",
       "      <td>0.728834</td>\n",
       "      <td>-0.1</td>\n",
       "    </tr>\n",
       "    <tr>\n",
       "      <th>251</th>\n",
       "      <td>2017-11-15</td>\n",
       "      <td>-0.127548</td>\n",
       "      <td>0.753333</td>\n",
       "      <td>18316</td>\n",
       "      <td>4.602</td>\n",
       "      <td>18359.432</td>\n",
       "      <td>4.1</td>\n",
       "      <td>3278.391</td>\n",
       "      <td>0.955677</td>\n",
       "      <td>-0.1</td>\n",
       "    </tr>\n",
       "  </tbody>\n",
       "</table>\n",
       "<p>252 rows × 10 columns</p>\n",
       "</div>"
      ],
      "text/plain": [
       "         dates   gdp_gap    un_gap  gdp_pot  un_nat   gdp_real   un       inv  \\\n",
       "0   1955-02-15  1.637963  1.293333     2762   5.381   2813.212  4.6   312.337   \n",
       "1   1955-05-15  2.630620  1.960000     2779   5.383   2858.988  4.2   331.333   \n",
       "2   1955-08-15  3.366125  2.580000     2796   5.386   2897.598  4.1   336.418   \n",
       "3   1955-11-15  3.314704  2.313333     2813   5.388   2914.993  4.2   344.218   \n",
       "4   1956-02-15  2.241855  2.713333     2831   5.390   2903.671  4.2   334.390   \n",
       "..         ...       ...       ...      ...     ...        ...  ...       ...   \n",
       "247 2016-11-15 -1.150581 -0.453333    18006   4.621  17876.179  4.7  3147.576   \n",
       "248 2017-02-15 -0.983594 -0.053333    18081   4.616  17977.299  4.4  3137.735   \n",
       "249 2017-05-15 -0.959766  0.260000    18158   4.611  18054.052  4.3  3192.776   \n",
       "250 2017-08-15 -0.651224  0.440000    18236   4.607  18185.636  4.2  3240.998   \n",
       "251 2017-11-15 -0.127548  0.753333    18316   4.602  18359.432  4.1  3278.391   \n",
       "\n",
       "     gdp_growth  un_change  \n",
       "0           NaN        NaN  \n",
       "1      1.627179       -0.4  \n",
       "2      1.350478       -0.1  \n",
       "3      0.600325        0.1  \n",
       "4     -0.388406        0.0  \n",
       "..          ...        ...  \n",
       "247    0.629298       -0.3  \n",
       "248    0.565669       -0.3  \n",
       "249    0.426944       -0.1  \n",
       "250    0.728834       -0.1  \n",
       "251    0.955677       -0.1  \n",
       "\n",
       "[252 rows x 10 columns]"
      ]
     },
     "execution_count": 12,
     "metadata": {},
     "output_type": "execute_result"
    }
   ],
   "source": [
    "# afficher le dataframe\n",
    "df"
   ]
  },
  {
   "cell_type": "markdown",
   "metadata": {},
   "source": [
    "<span style='line-height:1.5;font-size: 17px;font-family:\"Times New Roman\"'>\n",
    "\n",
    "Une fois les données récoltées et traitées, on peut passer à une analyse par statistiques descriptives pour se donner une idée du comportement des variables. En voici quelques exemples.\n",
    "\n",
    "<b>Graphique</b>\n",
    "\n",
    "Un graphique souvent intéressant en série temporelle peut être de regarder l'évolution des séries :\n",
    "\n",
    "</span>"
   ]
  },
  {
   "cell_type": "code",
   "execution_count": 13,
   "metadata": {
    "ExecuteTime": {
     "end_time": "2024-09-24T14:17:39.337426Z",
     "start_time": "2024-09-24T14:17:39.180858Z"
    }
   },
   "outputs": [
    {
     "data": {
      "image/png": "[encoded data removed]",
      "text/plain": [
       "<Figure size 1000x800 with 1 Axes>"
      ]
     },
     "metadata": {},
     "output_type": "display_data"
    }
   ],
   "source": [
    "plt.figure(figsize=(10, 8))\n",
    "\n",
    "plt.plot(df[\"dates\"], df[\"gdp_growth\"])\n",
    "plt.plot(df[\"dates\"], df[\"un_change\"])\n",
    "plt.legend(['GDP growth', 'Unemployment var'])\n",
    "plt.show()"
   ]
  },
  {
   "cell_type": "markdown",
   "metadata": {},
   "source": [
    "<span style='line-height:1.5;font-size: 17px;font-family:\"Times New Roman\"'>\n",
    "\n",
    "Ce graphique n'est peut-être pas le meilleur : il ne nous donne pas beaucoup d'information.\n",
    "\n",
    "Essayons le nuage de points qui peut donner une idée de comment les variables évoluent l'une par rapport à l'autre.\n",
    "\n",
    "</span>"
   ]
  },
  {
   "cell_type": "code",
   "execution_count": 14,
   "metadata": {
    "ExecuteTime": {
     "end_time": "2024-09-24T14:17:44.850080Z",
     "start_time": "2024-09-24T14:17:44.775005Z"
    }
   },
   "outputs": [
    {
     "data": {
      "image/png": "[encoded data removed]",
      "text/plain": [
       "<Figure size 1000x800 with 1 Axes>"
      ]
     },
     "metadata": {},
     "output_type": "display_data"
    }
   ],
   "source": [
    "plt.figure(figsize=(10, 8))\n",
    "\n",
    "plt.scatter(df[\"gdp_growth\"], df[\"un_change\"],s=7)\n",
    "\n",
    "plt.show()"
   ]
  },
  {
   "cell_type": "markdown",
   "metadata": {},
   "source": [
    "<span style='line-height:1.5;font-size: 17px;font-family:\"Times New Roman\"'>\n",
    "\n",
    "Ici, on voit se déssiner une relation linéaire décroissante (ce qui est attendu !!). Le but est donc d'éstimer une relation linéaire entre chômage et PIB, on va donc se diriger dans un premier temps, vers des MCO. \n",
    "\n",
    "$\\Rightarrow$ le but est de trouver la meilleure droite pour résumer le nuage de points.\n",
    "\n",
    "_Note_ : meilleure = celle dont l'écart avec les \"vrais\" points est le plus petit (on reverra ça avec les MCO).\n",
    "\n",
    "</span>"
   ]
  },
  {
   "cell_type": "code",
   "execution_count": 15,
   "metadata": {
    "ExecuteTime": {
     "end_time": "2024-09-24T14:17:48.163211Z",
     "start_time": "2024-09-24T14:17:48.094407Z"
    }
   },
   "outputs": [
    {
     "data": {
      "image/png": "[encoded data removed]",
      "text/plain": [
       "<Figure size 1000x800 with 1 Axes>"
      ]
     },
     "metadata": {},
     "output_type": "display_data"
    }
   ],
   "source": [
    "plt.figure(figsize=(10, 8))\n",
    "\n",
    "plt.scatter(df[\"gdp_growth\"], df[\"un_change\"],s=7)\n",
    "plt.plot([-2, 3.5], [1.4, -0.7], 'r-', lw=2)\n",
    "plt.plot([-2, 3.5], [1, -0.3], 'y-', lw=2)\n",
    "plt.plot([-2, 2.6], [1.2, -0.99], 'g-', lw=2)\n",
    "\n",
    "\n",
    "plt.show()"
   ]
  },
  {
   "cell_type": "markdown",
   "metadata": {},
   "source": [
    "<span style='line-height:1.5;font-size: 17px;font-family:\"Times New Roman\"'>\n",
    "\n",
    "<b>Corrélation linéaire</b>\n",
    "\n",
    "Il est toujours intéressant de s'intéresser aux corrélation entre les variables :\n",
    "\n",
    "</span>"
   ]
  },
  {
   "cell_type": "code",
   "execution_count": 16,
   "metadata": {
    "ExecuteTime": {
     "end_time": "2024-09-24T14:17:51.351986Z",
     "start_time": "2024-09-24T14:17:51.334775Z"
    }
   },
   "outputs": [
    {
     "data": {
      "text/html": [
       "<div>\n",
       "<style scoped>\n",
       "    .dataframe tbody tr th:only-of-type {\n",
       "        vertical-align: middle;\n",
       "    }\n",
       "\n",
       "    .dataframe tbody tr th {\n",
       "        vertical-align: top;\n",
       "    }\n",
       "\n",
       "    .dataframe thead th {\n",
       "        text-align: right;\n",
       "    }\n",
       "</style>\n",
       "<table border=\"1\" class=\"dataframe\">\n",
       "  <thead>\n",
       "    <tr style=\"text-align: right;\">\n",
       "      <th></th>\n",
       "      <th>gdp_growth</th>\n",
       "      <th>un_change</th>\n",
       "    </tr>\n",
       "  </thead>\n",
       "  <tbody>\n",
       "    <tr>\n",
       "      <th>gdp_growth</th>\n",
       "      <td>1.000000</td>\n",
       "      <td>-0.659615</td>\n",
       "    </tr>\n",
       "    <tr>\n",
       "      <th>un_change</th>\n",
       "      <td>-0.659615</td>\n",
       "      <td>1.000000</td>\n",
       "    </tr>\n",
       "  </tbody>\n",
       "</table>\n",
       "</div>"
      ],
      "text/plain": [
       "            gdp_growth  un_change\n",
       "gdp_growth    1.000000  -0.659615\n",
       "un_change    -0.659615   1.000000"
      ]
     },
     "execution_count": 16,
     "metadata": {},
     "output_type": "execute_result"
    }
   ],
   "source": [
    "df[[\"gdp_growth\",\"un_change\"]].corr()"
   ]
  },
  {
   "cell_type": "markdown",
   "metadata": {},
   "source": [
    "<span style='line-height:1.5;font-size: 17px;font-family:\"Times New Roman\"'>\n",
    "<hr style=\" border: .5px solid black;\">\n",
    "\n",
    "\n",
    "\n",
    "## Application économétrique <font color='blue' size=\"1.5\"><i>[Plan du cours](#plan)</i></font><a id='p3.4'></a>\n",
    "\n",
    "Après avoir conforté l'idée qu'un modèle linéaire simple peut convenir à expliquer la relation entre nos variables (ce qui renforce la théorie énoncée plus haut), nous pouvons estimer le modèle (c a d, estimer la valeur des paramètres $a$ et $b$ qui minimise les écart entre la doite et les points). \n",
    "\n",
    "On procède par MCO, ce qui revient à écrire simplement :\n",
    "</span>"
   ]
  },
  {
   "cell_type": "code",
   "execution_count": 17,
   "metadata": {
    "ExecuteTime": {
     "end_time": "2024-09-24T14:17:56.663317Z",
     "start_time": "2024-09-24T14:17:56.622079Z"
    }
   },
   "outputs": [
    {
     "name": "stdout",
     "output_type": "stream",
     "text": [
      "                            OLS Regression Results                            \n",
      "==============================================================================\n",
      "Dep. Variable:              un_change   R-squared:                       0.435\n",
      "Model:                            OLS   Adj. R-squared:                  0.433\n",
      "Method:                 Least Squares   F-statistic:                     191.8\n",
      "Date:                Tue, 24 Sep 2024   Prob (F-statistic):           1.01e-32\n",
      "Time:                        16:17:56   Log-Likelihood:                -38.337\n",
      "No. Observations:                 251   AIC:                             80.67\n",
      "Df Residuals:                     249   BIC:                             87.72\n",
      "Df Model:                           1                                         \n",
      "Covariance Type:            nonrobust                                         \n",
      "==============================================================================\n",
      "                 coef    std err          t      P>|t|      [0.025      0.975]\n",
      "------------------------------------------------------------------------------\n",
      "const          0.2133      0.024      9.007      0.000       0.167       0.260\n",
      "gdp_growth    -0.2856      0.021    -13.848      0.000      -0.326      -0.245\n",
      "==============================================================================\n",
      "Omnibus:                        7.774   Durbin-Watson:                   1.765\n",
      "Prob(Omnibus):                  0.021   Jarque-Bera (JB):                7.599\n",
      "Skew:                           0.387   Prob(JB):                       0.0224\n",
      "Kurtosis:                       3.355   Cond. No.                         2.23\n",
      "==============================================================================\n",
      "\n",
      "Notes:\n",
      "[1] Standard Errors assume that the covariance matrix of the errors is correctly specified.\n"
     ]
    }
   ],
   "source": [
    "# Régression MCO\n",
    "\n",
    "# on défini les variables du modèle\n",
    "y = df[\"un_change\"].iloc[1:] \n",
    "X = df[\"gdp_growth\"].iloc[1:]\n",
    "\n",
    "# on ajoute la constante\n",
    "X = sm.add_constant(X)\n",
    "\n",
    "# on estime le modèle\n",
    "results = sm.OLS(y, X).fit()\n",
    "\n",
    "# on affiche les résultats\n",
    "print(results.summary())"
   ]
  },
  {
   "cell_type": "markdown",
   "metadata": {},
   "source": [
    "<span style='line-height:1.5;font-size: 17px;font-family:\"Times New Roman\"'>\n",
    "\n",
    "Nous verrons les tests de validation du modèle plus tard. Déjà ici, nous avons quelques informations intéressantes. \n",
    "\n",
    "Avant de passer à l'étude des modèles d'estimation en économétrie, nous finissons cette séance avec quelques rappels en algèbre et en statistiques. \n",
    "\n",
    "\n",
    "\n",
    "<hr style=\" border: 2.5px solid black;\">\n",
    "\n",
    "\n",
    "\n",
    "\n",
    "# Les besoins en mathématiques/algèbre/proba <font color='blue' size=\"1.5\"><i>[Plan du cours](#plan)</i></font><a id='p4'></a>\n",
    "\n",
    "## Quelques rappels en algèbre <font color='blue' size=\"1.5\"><i>[Plan du cours](#plan)</i></font><a id='p4.1'></a>\n",
    "\n",
    "- Une matrice de taille $(n,p)$ est un tableau d'éléments ordonnés : \n",
    "\n",
    "$$A = (a_{ij}) =\n",
    "\\begin{pmatrix}\n",
    "a_{11} & a_{12} & ... & a_{1p}\\\\\n",
    "a_{21} & a_{22} & ... & a_{2p}\\\\\n",
    " & & & \\\\\n",
    "a_{n1} & a_{n2} & ... & a_{np}\\\\\n",
    "\\end{pmatrix}\n",
    "$$\n",
    "\n",
    "On note $A \\in M_{n,p}(\\mathbb{R})$\n",
    "\n",
    "- Une matrice est carrée lorsque $n = p$, (on note alors $A \\in M_{n}(\\mathbb{R})$)\n",
    "\n",
    "- Une matrice est diagonale lorsqu'elle est carrée et que les éléments hors de la diagonale sont nuls :\n",
    "\n",
    "$$A = \n",
    "\\begin{pmatrix}\n",
    "a_{11} & 0 & 0 & ... & 0\\\\\n",
    "0      & a_{22} & 0 & ... & 0\\\\\n",
    "0      & 0 & a_{33} & ... & 0\\\\\n",
    " & & & & \\\\\n",
    "0 & 0 & 0 & ... & a_{nn}\\\\\n",
    "\\end{pmatrix}\n",
    "$$\n",
    "\n",
    "- La matrice identité de taille $n$ est la matrice diagonale pour laquelle tous les termes diagonaux vallent $1$. On la note $I_n$ \n",
    "\n",
    "- La matrice identité vérifie : \n",
    "    - $A \\times I_n = A$ et $I_n \\times A = A$, (pour $A \\in M_{n}(\\mathbb{R})$)\n",
    "    - $A \\times A^{-1} = A^{-1} \\times A = I_n$\n",
    "\n",
    "- Une matrice est symétrique lorsqu'elle est carrée et que $\\forall (i,j)$, on a $a_{ij} = a_{ji}$.\n",
    "    \n",
    "- Matrice invere\n",
    "    \n",
    "- Transposée\n",
    "\n",
    "</span>"
   ]
  },
  {
   "cell_type": "markdown",
   "metadata": {},
   "source": [
    "<span style='line-height:1.5;font-size: 17px;font-family:\"Times New Roman\"'>\n",
    "\n",
    "<hr style=\" border: .5px solid black;\">\n",
    "\n",
    "## Quelques rappels en statistiques <font color='blue' size=\"1.5\"><i>[Plan du cours](#plan)</i></font><a id='p4.2'></a>\n",
    "\n",
    "- La moyenne arithmétique :\n",
    "\n",
    "$$ \\bar{X} = \\frac{1}{T}(X_1 + X_2 + ... + X_T) = \\sum_{t=1}^T X_t $$\n",
    "\n",
    "- La variance :\n",
    "\n",
    "$$V(X) = \\frac{1}{T}( (X_1 - \\bar{X})^2 + (X_2 - \\bar{X})^2 + ... + (X_T - \\bar{X})^2 ) = \\sum_{t=1}^T (X_t - \\bar{X})^2 $$\n",
    "$$ = \\sum_{t=1}^T X_t^2 - \\bar{X}^2$$\n",
    "$$ = E(X^2) - E(X)^2$$\n",
    "\n",
    "- L'écart type : c'est la racine de la variance. On le note $\\sigma_X$\n",
    "\n",
    "- La covariance : \n",
    "\n",
    "$$ Cov(X,Y) = \\sum_{t=1}^T X_t Y_t - \\bar{X}\\bar{Y}$$\n",
    "\n",
    "- Le coéfficient de corrélation linéaire : \n",
    "\n",
    "$$r_{XY} = \\frac{Cov(XY)}{\\sigma_X \\sigma_Y}$$\n",
    "$$r_{XY} \\in [-1,1]$$\n",
    " \n",
    "</span>"
   ]
  },
  {
   "cell_type": "code",
   "execution_count": 45,
   "metadata": {
    "ExecuteTime": {
     "end_time": "2022-09-13T08:59:28.810108Z",
     "start_time": "2022-09-13T08:59:28.597433Z"
    }
   },
   "outputs": [
    {
     "name": "stderr",
     "output_type": "stream",
     "text": [
      "C:\\Users\\pipsou\\anaconda3\\lib\\site-packages\\seaborn\\_decorators.py:36: FutureWarning: Pass the following variables as keyword args: x, y. From version 0.12, the only valid positional argument will be `data`, and passing other arguments without an explicit keyword will result in an error or misinterpretation.\n",
      "  warnings.warn(\n"
     ]
    },
    {
     "data": {
      "image/png": "[encoded data removed]",
      "text/plain": [
       "<Figure size 360x360 with 1 Axes>"
      ]
     },
     "metadata": {
      "needs_background": "light"
     },
     "output_type": "display_data"
    }
   ],
   "source": [
    "# data creation with random residual: y = 0.8*x + 1 + epsilon\n",
    "x = [i for i in range(0,10,1)]\n",
    "residual = np.random.normal(0, 1, size=(1, 10))[0]\n",
    "y = [0.8*i+1 +j for i,j in zip(x,residual)]\n",
    "df = pd.DataFrame(data={\"x\":x,\"y\":y})\n",
    "\n",
    "# Plot with MCO regression line\n",
    "sns.lmplot(\"x\", \"y\", data=df)\n",
    "plt.title('Corrélation linéaire positive')\n",
    "plt.show()"
   ]
  },
  {
   "cell_type": "code",
   "execution_count": 46,
   "metadata": {
    "ExecuteTime": {
     "end_time": "2022-09-13T09:01:46.048582Z",
     "start_time": "2022-09-13T09:01:45.820312Z"
    }
   },
   "outputs": [
    {
     "name": "stderr",
     "output_type": "stream",
     "text": [
      "C:\\Users\\pipsou\\anaconda3\\lib\\site-packages\\seaborn\\_decorators.py:36: FutureWarning: Pass the following variables as keyword args: x, y. From version 0.12, the only valid positional argument will be `data`, and passing other arguments without an explicit keyword will result in an error or misinterpretation.\n",
      "  warnings.warn(\n"
     ]
    },
    {
     "data": {
      "image/png": "[encoded data removed]",
      "text/plain": [
       "<Figure size 360x360 with 1 Axes>"
      ]
     },
     "metadata": {
      "needs_background": "light"
     },
     "output_type": "display_data"
    }
   ],
   "source": [
    "# data creation with random residual: y = -0.8*x + 1 + epsilon\n",
    "x = [i for i in range(0,10,1)]\n",
    "residual = np.random.normal(0, 1, size=(1, 10))[0]\n",
    "y = [-0.8*i+1 +j for i,j in zip(x,residual)]\n",
    "df = pd.DataFrame(data={\"x\":x,\"y\":y})\n",
    "\n",
    "# Plot with MCO regression line\n",
    "sns.lmplot(\"x\", \"y\", data=df)\n",
    "plt.title('Corrélation linéaire négative')\n",
    "plt.show()"
   ]
  },
  {
   "cell_type": "code",
   "execution_count": 84,
   "metadata": {
    "ExecuteTime": {
     "end_time": "2022-09-13T14:41:25.226742Z",
     "start_time": "2022-09-13T14:41:25.133186Z"
    }
   },
   "outputs": [
    {
     "data": {
      "image/png": "[encoded data removed]",
      "text/plain": [
       "<Figure size 432x288 with 1 Axes>"
      ]
     },
     "metadata": {
      "needs_background": "light"
     },
     "output_type": "display_data"
    }
   ],
   "source": [
    "# data creation with random residual: y = -0.8*x + 1 + epsilon\n",
    "x = [i for i in range(0,10,1)]\n",
    "y = np.random.normal(0, 5, size=(1, 10))[0]\n",
    "\n",
    "df = pd.DataFrame(data={\"x\":x,\"y\":y})\n",
    "\n",
    "# Plot with MCO regression line\n",
    "plt.scatter(x,y)\n",
    "plt.title('Corrélation linéaire nulle')\n",
    "plt.show()"
   ]
  },
  {
   "cell_type": "code",
   "execution_count": 82,
   "metadata": {
    "ExecuteTime": {
     "end_time": "2022-09-13T14:41:04.173826Z",
     "start_time": "2022-09-13T14:41:04.068936Z"
    }
   },
   "outputs": [
    {
     "data": {
      "image/png": "[encoded data removed]",
      "text/plain": [
       "<Figure size 432x288 with 1 Axes>"
      ]
     },
     "metadata": {
      "needs_background": "light"
     },
     "output_type": "display_data"
    }
   ],
   "source": [
    "# data creation with random residual: y = -0.8*x + 1 + epsilon\n",
    "x = [i for i in range(0,20,1)]\n",
    "residual = np.random.normal(1, 5, size=(1, 20))[0]\n",
    "y = [0.8*i**2+1 +j for i,j in zip(x,residual)]\n",
    "z = [0.8*i**2+1 for i in x]\n",
    "\n",
    "\n",
    "# Plot with MCO regression line\n",
    "plt.scatter(x,y)\n",
    "plt.plot(z)\n",
    "plt.title('Corrélation non linéaire positive')\n",
    "plt.show()"
   ]
  },
  {
   "cell_type": "code",
   "execution_count": 83,
   "metadata": {
    "ExecuteTime": {
     "end_time": "2022-09-13T14:41:06.750170Z",
     "start_time": "2022-09-13T14:41:06.635656Z"
    }
   },
   "outputs": [
    {
     "data": {
      "image/png": "[encoded data removed]",
      "text/plain": [
       "<Figure size 432x288 with 1 Axes>"
      ]
     },
     "metadata": {
      "needs_background": "light"
     },
     "output_type": "display_data"
    }
   ],
   "source": [
    "# data creation with random residual: y = -0.8*x + 1 + epsilon\n",
    "x = [i for i in range(1,21,1)]\n",
    "residual = np.random.normal(0, 0.05, size=(1, 20))[0]\n",
    "y = [(1/i)+j for i,j in zip(x,residual)]\n",
    "z = [(1/i) for i in x]\n",
    "\n",
    "\n",
    "# Plot with MCO regression line\n",
    "plt.scatter(x,y)\n",
    "plt.plot(z)\n",
    "plt.title('Corrélation non linéaire négative')\n",
    "plt.show()"
   ]
  },
  {
   "cell_type": "code",
   "execution_count": null,
   "metadata": {},
   "outputs": [],
   "source": []
  }
 ],
 "metadata": {
  "kernelspec": {
   "display_name": "Python 3 (ipykernel)",
   "language": "python",
   "name": "python3"
  },
  "language_info": {
   "codemirror_mode": {
    "name": "ipython",
    "version": 3
   },
   "file_extension": ".py",
   "mimetype": "text/x-python",
   "name": "python",
   "nbconvert_exporter": "python",
   "pygments_lexer": "ipython3",
   "version": "3.11.4"
  },
  "toc": {
   "base_numbering": 1,
   "nav_menu": {},
   "number_sections": true,
   "sideBar": true,
   "skip_h1_title": false,
   "title_cell": "Table of Contents",
   "title_sidebar": "Contents",
   "toc_cell": false,
   "toc_position": {
    "height": "calc(100% - 180px)",
    "left": "10px",
    "top": "150px",
    "width": "165px"
   },
   "toc_section_display": true,
   "toc_window_display": true
  },
  "varInspector": {
   "cols": {
    "lenName": 16,
    "lenType": 16,
    "lenVar": 40
   },
   "kernels_config": {
    "python": {
     "delete_cmd_postfix": "",
     "delete_cmd_prefix": "del ",
     "library": "var_list.py",
     "varRefreshCmd": "print(var_dic_list())"
    },
    "r": {
     "delete_cmd_postfix": ") ",
     "delete_cmd_prefix": "rm(",
     "library": "var_list.r",
     "varRefreshCmd": "cat(var_dic_list()) "
    }
   },
   "types_to_exclude": [
    "module",
    "function",
    "builtin_function_or_method",
    "instance",
    "_Feature"
   ],
   "window_display": false
  }
 },
 "nbformat": 4,
 "nbformat_minor": 2
}
