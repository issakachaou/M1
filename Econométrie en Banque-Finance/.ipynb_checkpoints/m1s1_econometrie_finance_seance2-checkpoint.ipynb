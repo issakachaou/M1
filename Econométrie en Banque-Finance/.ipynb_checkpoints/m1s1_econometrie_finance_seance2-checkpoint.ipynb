{
 "cells": [
  {
   "cell_type": "markdown",
   "metadata": {},
   "source": [
    "<span style='line-height:1.5;font-size: 17px;font-family:\"Times New Roman\"'>\n",
    "\n",
    "\n",
    "<b><center><font size=\"6\">Travaux Dirigés - Econométrie en finance - séance 2 </font></center></b>\n",
    "    \n",
    "\n",
    "    \n",
    "<g><h7><center> CM - P. Durand  - pierre.durand@u-pec.fr </center></h7></g>\n",
    "\n",
    "<g><h7><center> TD - A. Birem  - abderraouf.birem@etu.u-pec.fr </center></h7></g>\n",
    "\n",
    "\n",
    "<b><center><font size=\"5\">M1 - 2023-2024</font></center></b> \n",
    "\n",
    "\n",
    "\n",
    "</span>"
   ]
  },
  {
   "cell_type": "markdown",
   "metadata": {},
   "source": [
    "<span style='line-height:1.5;font-size: 17px;font-family:\"Times New Roman\"'>\n",
    "\n",
    "<hr style=\" border: 2.5px solid black;\">\n",
    "\n",
    "\n",
    "<b>Objectifs de la séance : </b>\n",
    "\n",
    "- Révision des outils de bases vus en première séance\n",
    "- Bases de données sous python :\n",
    "    - importation et sauvegarde\n",
    "    - manipulation de variables (création, suppréssion, compbinaison,...)\n",
    "    - statistiques descriptives\n",
    "\n",
    "\n",
    "\n",
    "</span>"
   ]
  },
  {
   "cell_type": "markdown",
   "metadata": {},
   "source": [
    "<hr style=\" border: .5px solid black;\">\n",
    "<br>\n",
    "\n",
    "\n",
    "<span style='line-height:1.5;font-size: 17px;font-family:\"Times New Roman\"'>\n",
    "    \n",
    "<b>Exercice 1 - Révision sur les bases  </b>\n",
    "\n",
    "On fait un premier exercice pour se remémorer ce qui a été vu en première séance.\n",
    "\n",
    "1. Créez des variables en donnant un nom logique pour :\n",
    "    - un `int`\n",
    "    - un `str`\n",
    "    - un `float`\n",
    "    - une `list` (avec quelques `int` ou `float`)\n",
    "\n",
    "</span>"
   ]
  },
  {
   "cell_type": "code",
   "execution_count": null,
   "metadata": {},
   "outputs": [],
   "source": []
  },
  {
   "cell_type": "markdown",
   "metadata": {},
   "source": [
    "<span style='line-height:1.5;font-size: 17px;font-family:\"Times New Roman\"'>\n",
    "    \n",
    "2. Une liste est créée dans la cellule suivante. Elle contient des `int` et des `str`. Créez une boucle permettant de compter le nombre d'éléments qui sont des `int` et le nombre d'éléments qui sont des `str`.\n",
    "\n",
    "\n",
    "</span>"
   ]
  },
  {
   "cell_type": "code",
   "execution_count": null,
   "metadata": {},
   "outputs": [],
   "source": []
  },
  {
   "cell_type": "markdown",
   "metadata": {},
   "source": [
    "<span style='line-height:1.5;font-size: 17px;font-family:\"Times New Roman\"'>\n",
    "    \n",
    "2. Deux listes sont données : \n",
    "- `l1` qui contient des chaînes de caractère  \n",
    "- `l2` qui contient des entiers\n",
    "\n",
    "Créez une boucle permettant de stocker dans une nouvelle liste (`l3` par exemple) les éléments de `l1`, en respectant les consignes suivantes :\n",
    "- dans la boucle, parcourrez `l2`\n",
    "- si l'élément `n` de `l2` est paire, ajoutez le $n$ème élément de `l1` à `l3`\n",
    "- sinon rien\n",
    "\n",
    "Enfin, affichez `l3`.\n",
    "\n",
    "_Note_ : Rappelez de `.append()` et de `%`.\n",
    "\n",
    "</span>"
   ]
  },
  {
   "cell_type": "code",
   "execution_count": null,
   "metadata": {},
   "outputs": [],
   "source": []
  },
  {
   "cell_type": "markdown",
   "metadata": {},
   "source": [
    "<hr style=\" border: .5px solid black;\">\n",
    "<br>\n",
    "\n",
    "\n",
    "<span style='line-height:1.5;font-size: 17px;font-family:\"Times New Roman\"'>\n",
    "    \n",
    "<b>Exercice 2 - Importer une base de données : .xlsx et .txt  </b>\n",
    "\n",
    "Vous trouverez dans la DropBox, deux bases de données : \n",
    "- salaireprod.txt \n",
    "- cointegration.xlsx\n",
    "\n",
    "\n",
    "1. Téléchargez les deux bases et mettez les dans un dossier dont vous connaissez l'emplacement \n",
    "\n",
    "<br>\n",
    "\n",
    "2. Importez le package permettant de manipuler des données sous python\n",
    "\n",
    "<br>\n",
    "\n",
    "3. À l'aide des fonctions adéquates, téléchargez les deux bases sous python :\n",
    " - salaireprod.txt doit être téléchargée avec `.read_csv()` (attention au séparateur), sous le nom `df1`\n",
    " - cointegration.xlsx doit être téléchargée avec `.read_excel()`,  sous le nom `df2`\n",
    "\n",
    "</span> "
   ]
  },
  {
   "cell_type": "code",
   "execution_count": 1,
   "metadata": {},
   "outputs": [],
   "source": [
    "import pandas as pd "
   ]
  },
  {
   "cell_type": "code",
   "execution_count": 2,
   "metadata": {},
   "outputs": [],
   "source": [
    "chemin = \"C:\\\\Users\\\\issak\\\\Documents\\M1\\Econométrie en Banque-Finance\\data\""
   ]
  },
  {
   "cell_type": "code",
   "execution_count": null,
   "metadata": {
    "scrolled": true
   },
   "outputs": [],
   "source": []
  },
  {
   "cell_type": "code",
   "execution_count": null,
   "metadata": {},
   "outputs": [],
   "source": []
  },
  {
   "cell_type": "code",
   "execution_count": null,
   "metadata": {},
   "outputs": [],
   "source": []
  },
  {
   "cell_type": "markdown",
   "metadata": {},
   "source": [
    "<hr style=\" border: .5px solid black;\">\n",
    "<br>\n",
    "\n",
    "\n",
    "<span style='line-height:1.5;font-size: 17px;font-family:\"Times New Roman\"'>\n",
    "   \n",
    "<b>Exercice 3 - Manipulation des données  </b>\n",
    "\n",
    "1. Pour chacune des bases de données (`df1` et `df2`), et à l'aide des fonctions vues en cours : \n",
    "    \n",
    "    a. Affichez les 8 premières lignes\n",
    "    \n",
    "    b. Affichez les dimansions des bases \n",
    "    \n",
    "    c. Affichez la liste des colonnes\n",
    "    \n",
    "    d. On remarque que cette liste est de type `list`. À l'aide des inices, afficher les noms des deuxièmes colonnes.\n",
    "    \n",
    "    e. Affichez les deuxièmes colonnes des dataframes\n",
    "    \n",
    "    f. Affichez les deuxièmes colonnes pour des valeurs supérieurs à $60$\n",
    "\n",
    "</span> "
   ]
  },
  {
   "cell_type": "code",
   "execution_count": null,
   "metadata": {},
   "outputs": [],
   "source": []
  },
  {
   "cell_type": "code",
   "execution_count": null,
   "metadata": {},
   "outputs": [],
   "source": []
  },
  {
   "cell_type": "code",
   "execution_count": null,
   "metadata": {},
   "outputs": [],
   "source": []
  },
  {
   "cell_type": "code",
   "execution_count": null,
   "metadata": {},
   "outputs": [],
   "source": []
  },
  {
   "cell_type": "code",
   "execution_count": null,
   "metadata": {
    "scrolled": true
   },
   "outputs": [],
   "source": []
  },
  {
   "cell_type": "code",
   "execution_count": null,
   "metadata": {
    "scrolled": true
   },
   "outputs": [],
   "source": []
  },
  {
   "cell_type": "markdown",
   "metadata": {},
   "source": [
    "<span style='line-height:1.5;font-size: 17px;font-family:\"Times New Roman\"'>\n",
    "\n",
    "2. Nous rappelons les éléments suivant : \n",
    "\n",
    "    - la fonction `.shift(1)` appliquée à un dataframe permet de décaler une colonne d'une période\n",
    "    - un taux de croissance se calcul comme suit : soit $X_t$ une variable qui évolue dans le temps, alors\n",
    "\n",
    "$$\\frac{X_t - X_{t-1}}{X_{t-1}} *100 = (\\frac{X_t}{X_{t-1}} - 1) *100$$ \n",
    "est son taux de croissance.\n",
    "\n",
    "Créez une nouvelle colonne avec le taux de croissance de chaque variable pour df1. Les noms des nouvelles colonnes sera celui des anciennes auxquels on ajoute `\"_gr\"` (pour growth rate).\n",
    "</span> "
   ]
  },
  {
   "cell_type": "code",
   "execution_count": null,
   "metadata": {},
   "outputs": [],
   "source": []
  },
  {
   "cell_type": "code",
   "execution_count": null,
   "metadata": {},
   "outputs": [],
   "source": []
  },
  {
   "cell_type": "code",
   "execution_count": null,
   "metadata": {},
   "outputs": [],
   "source": []
  },
  {
   "cell_type": "markdown",
   "metadata": {},
   "source": [
    "<span style='line-height:1.5;font-size: 17px;font-family:\"Times New Roman\"'>\n",
    "\n",
    "3. Oups ! Le taux de croissance de la variable `\"Years\"` ne sert à rien... Retirons cette variable avant d'enregistrer la nouvelle base de données. \n",
    "\n",
    "_Note_ : on utilisera la fonction `.drop()`.\n",
    "</span> "
   ]
  },
  {
   "cell_type": "code",
   "execution_count": null,
   "metadata": {
    "scrolled": true
   },
   "outputs": [],
   "source": []
  },
  {
   "cell_type": "code",
   "execution_count": null,
   "metadata": {},
   "outputs": [],
   "source": []
  },
  {
   "cell_type": "code",
   "execution_count": null,
   "metadata": {},
   "outputs": [],
   "source": []
  },
  {
   "cell_type": "code",
   "execution_count": null,
   "metadata": {},
   "outputs": [],
   "source": []
  },
  {
   "cell_type": "markdown",
   "metadata": {},
   "source": [
    "<span style='line-height:1.5;font-size: 17px;font-family:\"Times New Roman\"'>\n",
    "\n",
    "4. Cette fois-ci, on est bon. On peut désormais enregistrer notre travail ! \n",
    "</span> "
   ]
  },
  {
   "cell_type": "code",
   "execution_count": null,
   "metadata": {},
   "outputs": [],
   "source": []
  },
  {
   "cell_type": "markdown",
   "metadata": {},
   "source": [
    "<hr style=\" border: .5px solid black;\">\n",
    "<br>\n",
    "\n",
    "\n",
    "<span style='line-height:1.5;font-size: 17px;font-family:\"Times New Roman\"'>\n",
    "   \n",
    "<b>Exercice 4 - Statistiques descriptives  </b>\n",
    "\n",
    "1. En faisant la recherche sur internet `axis label scatter matplotlib`, inspirez-vous du forum stack overflow pour faire les nuages de points (avec noms sur les axes et un titre) pour les couples de variables suivants :  \n",
    "    - df1 : \"wages\" et \"productivity\"\n",
    "    - df2 : \"Lconso\" et \"Lrev\"\n",
    "\n",
    "Commentez les nuages de points\n",
    "\n",
    "</span> "
   ]
  },
  {
   "cell_type": "code",
   "execution_count": null,
   "metadata": {},
   "outputs": [],
   "source": []
  },
  {
   "cell_type": "code",
   "execution_count": null,
   "metadata": {},
   "outputs": [],
   "source": []
  },
  {
   "cell_type": "code",
   "execution_count": null,
   "metadata": {},
   "outputs": [],
   "source": []
  },
  {
   "cell_type": "code",
   "execution_count": null,
   "metadata": {},
   "outputs": [],
   "source": []
  },
  {
   "cell_type": "markdown",
   "metadata": {},
   "source": [
    "<span style='line-height:1.5;font-size: 17px;font-family:\"Times New Roman\"'>\n",
    "   \n",
    "\n",
    "\n",
    "</span> "
   ]
  },
  {
   "cell_type": "markdown",
   "metadata": {},
   "source": [
    "<span style='line-height:1.5;font-size: 17px;font-family:\"Times New Roman\"'>\n",
    "   \n",
    "2. En vous inspirant des commandes utilisées pour le nuage de points, proposez un graphique pour les 4 variables, permettant de voir leur évolution dans le temps. En utilisant la commande `plt.savefig()`, vous sauvegarderez vos graphiques (et en mettant en argument le nom que vous voulez donner au graphique).\n",
    "\n",
    "\n",
    "_Note_ : la fonction à utiliser n'est pas `.scatter()` mais `.plot()`.\n",
    "\n",
    "</span> "
   ]
  },
  {
   "cell_type": "code",
   "execution_count": null,
   "metadata": {},
   "outputs": [],
   "source": []
  },
  {
   "cell_type": "code",
   "execution_count": null,
   "metadata": {},
   "outputs": [],
   "source": []
  },
  {
   "cell_type": "code",
   "execution_count": null,
   "metadata": {},
   "outputs": [],
   "source": []
  },
  {
   "cell_type": "code",
   "execution_count": null,
   "metadata": {},
   "outputs": [],
   "source": []
  },
  {
   "cell_type": "markdown",
   "metadata": {},
   "source": [
    "<span style='line-height:1.5;font-size: 17px;font-family:\"Times New Roman\"'>\n",
    "   \n",
    "3. Affichez le tableau de corrélations entre \"wages\" et \"productivity\" de df1. Puis le tableau des corrélations avec les taux de croissances de ces deux variables. Commentez.\n",
    "\n",
    "</span> "
   ]
  },
  {
   "cell_type": "code",
   "execution_count": null,
   "metadata": {},
   "outputs": [],
   "source": []
  },
  {
   "cell_type": "code",
   "execution_count": null,
   "metadata": {},
   "outputs": [],
   "source": []
  },
  {
   "cell_type": "code",
   "execution_count": null,
   "metadata": {},
   "outputs": [],
   "source": []
  },
  {
   "cell_type": "markdown",
   "metadata": {},
   "source": [
    "<span style='line-height:1.5;font-size: 17px;font-family:\"Times New Roman\"'>\n",
    "   \n",
    "4. Une commande vue en cours permet d'afficher les principales statistiques descriptives des variables d'un dataframe. Affichez les pour df1 puis Commentez.\n",
    "\n",
    "</span> "
   ]
  },
  {
   "cell_type": "code",
   "execution_count": null,
   "metadata": {},
   "outputs": [],
   "source": []
  },
  {
   "cell_type": "markdown",
   "metadata": {},
   "source": [
    "<hr style=\" border: .5px solid black;\">\n",
    "<br>\n",
    "\n",
    "\n",
    "<span style='line-height:1.5;font-size: 17px;font-family:\"Times New Roman\"'>\n",
    "   \n",
    "<b>Exercice 5 - Tout de A à Z  </b>\n",
    "\n",
    "Nous souhaiterions étudier l'évolution de l'indice boursier CAC40. À l'aide des différents outils mobilisés dans ce TD, rendez-vous sur le site de <a href=\"https://fr.finance.yahoo.com/?guccounter=1&guce_referrer=aHR0cHM6Ly93d3cuZ29vZ2xlLmNvbS8&guce_referrer_sig=AQAAABp6_pkXMwulsm0y4B8Pr3Haq_-44HDvLzhUsxELsbq59fqItG8VLMRNdQJL2xsiw9jDKfGIohuho5X2VYyXFhNi05a6fLNfPH5rMg6bDLEiK8rOJf4qBMJHgVs41hmZFcwrFP-mVHWXUXrg2CN72jfFJBh6JZ_8O6yIJXODD5eo\">Yahoo Finance</a> afin de télécharger l'historique des données du CAC40 en fréqeunce mensuelle depuis octobre 2000. \n",
    "\n",
    "Importez ensuite ces données sous python (attention de bien vérifier le format des données) et menez une courte étude graphique et statisitque appropriée.\n",
    "\n",
    "\n",
    "</span> "
   ]
  },
  {
   "cell_type": "code",
   "execution_count": null,
   "metadata": {},
   "outputs": [],
   "source": []
  },
  {
   "cell_type": "code",
   "execution_count": null,
   "metadata": {},
   "outputs": [],
   "source": []
  },
  {
   "cell_type": "code",
   "execution_count": null,
   "metadata": {},
   "outputs": [],
   "source": []
  },
  {
   "cell_type": "code",
   "execution_count": null,
   "metadata": {},
   "outputs": [],
   "source": []
  },
  {
   "cell_type": "code",
   "execution_count": null,
   "metadata": {},
   "outputs": [],
   "source": []
  },
  {
   "cell_type": "code",
   "execution_count": null,
   "metadata": {},
   "outputs": [],
   "source": []
  },
  {
   "cell_type": "code",
   "execution_count": null,
   "metadata": {},
   "outputs": [],
   "source": []
  },
  {
   "cell_type": "code",
   "execution_count": null,
   "metadata": {},
   "outputs": [],
   "source": []
  }
 ],
 "metadata": {
  "kernelspec": {
   "display_name": "Python 3 (ipykernel)",
   "language": "python",
   "name": "python3"
  },
  "language_info": {
   "codemirror_mode": {
    "name": "ipython",
    "version": 3
   },
   "file_extension": ".py",
   "mimetype": "text/x-python",
   "name": "python",
   "nbconvert_exporter": "python",
   "pygments_lexer": "ipython3",
   "version": "3.11.4"
  },
  "toc": {
   "base_numbering": 1,
   "nav_menu": {},
   "number_sections": true,
   "sideBar": true,
   "skip_h1_title": false,
   "title_cell": "Table of Contents",
   "title_sidebar": "Contents",
   "toc_cell": false,
   "toc_position": {},
   "toc_section_display": true,
   "toc_window_display": false
  },
  "varInspector": {
   "cols": {
    "lenName": 16,
    "lenType": 16,
    "lenVar": 40
   },
   "kernels_config": {
    "python": {
     "delete_cmd_postfix": "",
     "delete_cmd_prefix": "del ",
     "library": "var_list.py",
     "varRefreshCmd": "print(var_dic_list())"
    },
    "r": {
     "delete_cmd_postfix": ") ",
     "delete_cmd_prefix": "rm(",
     "library": "var_list.r",
     "varRefreshCmd": "cat(var_dic_list()) "
    }
   },
   "types_to_exclude": [
    "module",
    "function",
    "builtin_function_or_method",
    "instance",
    "_Feature"
   ],
   "window_display": false
  }
 },
 "nbformat": 4,
 "nbformat_minor": 2
}
