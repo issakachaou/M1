{
 "cells": [
  {
   "cell_type": "code",
   "execution_count": 1,
   "id": "ee932323",
   "metadata": {},
   "outputs": [],
   "source": [
    "import pandas as pd "
   ]
  },
  {
   "cell_type": "markdown",
   "id": "1df88b4f",
   "metadata": {},
   "source": [
    "path = "
   ]
  },
  {
   "cell_type": "code",
   "execution_count": 3,
   "id": "18f367b3",
   "metadata": {},
   "outputs": [
    {
     "name": "stdout",
     "output_type": "stream",
     "text": [
      "1\n"
     ]
    }
   ],
   "source": [
    "a = 1 #Déclaration de variable\n",
    "print (a) # Affichage de la valeur de la variable a"
   ]
  },
  {
   "cell_type": "code",
   "execution_count": null,
   "id": "eb9b6c69",
   "metadata": {},
   "outputs": [],
   "source": [
    "df.head() #Affichage de l'entête de la base de donnée"
   ]
  },
  {
   "cell_type": "code",
   "execution_count": 5,
   "id": "90a4f703",
   "metadata": {},
   "outputs": [
    {
     "name": "stdout",
     "output_type": "stream",
     "text": [
      "6\n",
      "7\n",
      "8\n",
      "9\n"
     ]
    }
   ],
   "source": [
    "une_liste = {1,2,3,4}\n",
    "\n",
    "for i in une_liste : \n",
    "    print(i+5)"
   ]
  },
  {
   "cell_type": "code",
   "execution_count": 8,
   "id": "d2fa3f94",
   "metadata": {
    "scrolled": true
   },
   "outputs": [
    {
     "name": "stdout",
     "output_type": "stream",
     "text": [
      "3\n",
      "4\n"
     ]
    }
   ],
   "source": [
    "for i in une_liste :\n",
    "    if i > 2 :\n",
    "        print(i) #Intération des entier supérieur à 2"
   ]
  },
  {
   "cell_type": "code",
   "execution_count": 7,
   "id": "5ea7bc6b",
   "metadata": {},
   "outputs": [],
   "source": [
    "# Création d'une variable de taux de croissance shift 1 pour retarder la variable a été décalé d'une période"
   ]
  },
  {
   "cell_type": "code",
   "execution_count": null,
   "id": "106f1e81",
   "metadata": {},
   "outputs": [],
   "source": [
    "#On essaye d'afficher un graphique d'évolution temporel"
   ]
  },
  {
   "cell_type": "code",
   "execution_count": null,
   "id": "b9e7baf8",
   "metadata": {},
   "outputs": [],
   "source": [
    "# Il faut toujours ajouter une constante à un OLS"
   ]
  },
  {
   "cell_type": "code",
   "execution_count": null,
   "id": "d5866921",
   "metadata": {},
   "outputs": [],
   "source": [
    "# matrice de corrélation : a partir de 40 forte\n",
    "# Pour les binaires interpreter juste le signe "
   ]
  },
  {
   "cell_type": "code",
   "execution_count": null,
   "id": "79a3d154",
   "metadata": {},
   "outputs": [],
   "source": [
    "# Proba de significativité \n",
    "# p value (f-statistique) < 0.05\n",
    "# R² ajusté si modèle linéaire multiple \n",
    "\n",
    "# mettre [1] pour avoir la p-valeur des test\n",
    "\n",
    "#p value < 0.05 on rejete pas donc heterosked (pagan)\n",
    "\n",
    "#breusch godfrey autocorrelation \n",
    "\n",
    "#H0 : ce qu'on veut avoir \n",
    "\n",
    "# en cas de présence de covid en moyenne la rentabilité de ford baisse en moyenne de 5% \n",
    "# ceci est plus important que la crise de l'immobilier"
   ]
  },
  {
   "cell_type": "code",
   "execution_count": null,
   "id": "a3369b5c",
   "metadata": {},
   "outputs": [],
   "source": []
  },
  {
   "cell_type": "code",
   "execution_count": null,
   "id": "423f3460",
   "metadata": {},
   "outputs": [],
   "source": []
  }
 ],
 "metadata": {
  "kernelspec": {
   "display_name": "Python 3 (ipykernel)",
   "language": "python",
   "name": "python3"
  },
  "language_info": {
   "codemirror_mode": {
    "name": "ipython",
    "version": 3
   },
   "file_extension": ".py",
   "mimetype": "text/x-python",
   "name": "python",
   "nbconvert_exporter": "python",
   "pygments_lexer": "ipython3",
   "version": "3.11.4"
  }
 },
 "nbformat": 4,
 "nbformat_minor": 5
}
