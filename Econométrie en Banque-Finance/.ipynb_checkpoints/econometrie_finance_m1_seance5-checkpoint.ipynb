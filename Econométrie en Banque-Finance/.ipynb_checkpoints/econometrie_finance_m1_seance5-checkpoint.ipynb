{
 "cells": [
  {
   "cell_type": "markdown",
   "metadata": {},
   "source": [
    "<span style='line-height:1.5;font-size: 17px;font-family:\"Times New Roman\"'>\n",
    "\n",
    "\n",
    "<b><center><font size=\"6\">Cours - Econométrie en finance - Séance 5</font></center></b>\n",
    "    \n",
    "<g><h7><center> CM - P. Durand  - pierre.durand@u-pec.fr </center></h7></g>\n",
    "\n",
    "<g><h7><center> TD - A. Birem  - abderraouf.birem@etu.u-pec.fr </center></h7></g>\n",
    "\n",
    "\n",
    "<b><center><font size=\"5\">M1 - 2024-2025</font></center></b> \n",
    "\n",
    "\n",
    "\n",
    "</span>"
   ]
  },
  {
   "cell_type": "markdown",
   "metadata": {},
   "source": [
    "<span style='line-height:1.5;font-size: 17px;font-family:\"Times New Roman\"'>\n",
    "<hr style=\" border: .5px solid black;\">\n",
    "\n",
    "\n",
    " \n",
    "\n",
    "\n",
    "<br>\n",
    "<b>Plan du cours : </b>\n",
    "\n",
    "- Séance 1 – Introduction générale & Introduction avancée à Python\n",
    "- Séance 2 – Rappels économétriques et bases de données sous python\n",
    "- Séance 3 – Modèle de régression simple\n",
    "- Séance 4 - Modèle de régression multiple\n",
    "- <b>Séance 5 – Violation des hypothèses</b> (1)\n",
    "- Séance 6 – Violation des hypothèses (2)\n",
    "- Séance 7 – Caractéristiques des séries temporelles\n",
    "- Séance 8 – Stationnarité et conséquences, tests de racine unitaire\n",
    "- Séance 9 – Modélisation en série temporelles : ARMA-ARCH\n",
    "- Séance 10 - Modèles VAR et correction d'erreur\n",
    "- Séance 11 – Introduction aux modèles de classification : logit\n",
    "\n",
    "\n",
    "<b>Références en Econométrie</b> :\n",
    "\n",
    "- Pesaran, M. H. (2015). Time series and panel data econometrics. Oxford University Press.\n",
    "\n",
    "- Bourbonnais, R. (2008), Econométrie, Dunod, 7e édition.\n",
    "\n",
    "- Mignon, V. (2008), Econométrie : Théorie et applications.\n",
    "\n",
    "- Lardic, S. & Mignon, V. (2002), Econométrie des séries temporelles macroéconomiques et financières.\n",
    "\n",
    "\n",
    "<b>Références pour la finance  :</b>\n",
    "\n",
    "    \n",
    "    \n",
    "-\tFinance de marché (Portait – Poncet)\n",
    "-\tRecent advances in linear models and related areas (Shalabh – Heumann)\n",
    "\n",
    "<b>Références pour python</b>  :\n",
    "\n",
    "- Presque tout est gratuit et en open source sur internet\n",
    "- Liste non exhaustive de livres : <a href=\"https://python.developpez.com/livres/\"> python.developper</a>\n",
    "\n",
    "\n",
    "\n",
    "<br>\n",
    "<hr style=\" border: .5px solid black;\">\n",
    "\n",
    "<a id='plan'></a>\n",
    "<br>\n",
    "<b>Séance 5 : </b>\n",
    "\n",
    "\n",
    "- [1. Introduction : rappels sur le modèle de régression multiple](#p1)\n",
    "- [2. Les estimateurs des moindres carrés généralisés](#p2)\n",
    "    - [2.1 Propriété des estimateurs en présence d'autocorrélation et/ou hétéroscedasticité](#p2.1)\n",
    "    - [2.2 La méthode des moindres carrés généralisés](#p2.2)\n",
    "- [3. Hétéroscedasticité des erreurs](#p3)\n",
    "    - [3.1 Sources potentielles d'hétéroscedasticité](#p3.1)\n",
    "    - [3.2 Tests d'hétéroscedasticité](#p3.2) \n",
    "    - [3.3 Procédure d'estimation en présence d'hétéroscedasticité](#p3.3)\n",
    "    - [3.4 Application](#p3.4)\n",
    "- [4. Autocorrélation des erreurs](#p4)\n",
    "    - [3.1 Sources potentielles d'autocorrélation](#p3.1)\n",
    "    - [3.2 Tests d'autocorrélation](#p3.2) \n",
    "    - [3.3 Procédure d'estimation en présence d'autocorrélation](#p3.3)\n",
    "    - [3.4 Application](#p3.4)\n",
    "\n",
    "\n",
    "    \n",
    "    \n",
    "\n",
    "\n",
    "\n",
    "</span>"
   ]
  },
  {
   "cell_type": "markdown",
   "metadata": {},
   "source": [
    "<span style='line-height:1.5;font-size: 17px;font-family:\"Times New Roman\"'>\n",
    "<hr style=\" border: 2.5px solid black;\">\n",
    "  \n",
    "    \n",
    "***\n",
    "    \n",
    "# Rappels sur le modèle de régression multiple <font color='blue' size=\"1.5\"><i>[Plan du cours](#plan)</i></font><a id='p1'></a>\n",
    "\n",
    "- Modèle de régression multiple :\n",
    "    \n",
    "$$ Y = X \\beta + \\epsilon $$ \n",
    "  \n",
    "<br>\n",
    "    \n",
    "- Matrices  :\n",
    "    - Le vecteur colonne de la variable expliquée : $ Y \\in \\mathcal{M}_{(T,1)}(\\mathbb{R})$\n",
    "    - La matrice des variables explicatives, dont la première colonne est composée de $1$ pour la constante : $ X \\in \\mathcal{M}_{(T,k+1)}(\\mathbb{R})$\n",
    "    - Le vecteur colonne des paramètres à estimer : $ \\beta \\in \\mathcal{M}_{(k+1,1)}(\\mathbb{R})$\n",
    "    - Le vecteur colonne des termes d'erreur: $ \\epsilon \\in \\mathcal{M}_{(T,1)}(\\mathbb{R})$\n",
    "    \n",
    "<br>\n",
    "    \n",
    "- Hypothèses :\n",
    "    - $X$ est non aléatoire : $E(\\epsilon_t \\vert X) = 0$\n",
    "    - $X$ est de plein rang : $Rang(X) = k+1$\n",
    "    - L'erreur est nulle en moyenne : $E(\\epsilon) = 0$\n",
    "    - Non autocorrélation et homoscédasticité des erreurs : $E(\\epsilon \\epsilon') = \\sigma_{\\epsilon}^2 I$\n",
    "    - Normalité des erreurs : $\\epsilon \\sim N(0,\\sigma_{\\epsilon}^2I)$\n",
    "    \n",
    "<br>\n",
    "    \n",
    "- Résiuds : $e = Y - X\\hat{\\beta}$\n",
    "    \n",
    "<br>\n",
    "    \n",
    "- Estimateurs MCO : \n",
    "    - $\\hat{\\beta} = (X'X)^{-1}X'Y$\n",
    "    - $\\hat{\\sigma}_{\\epsilon}^2 = \\frac{e'e}{T-k-1}$\n",
    "   \n",
    "<br>\n",
    "    \n",
    "- Propriétés : les estimateurs sont BLUE\n",
    "\n",
    "<br>\n",
    "    \n",
    "- Significativité :\n",
    "    - d'un coefficient seul : $t_{\\hat{\\beta}_i } = \\frac{\\hat{\\beta}_i}{\\hat{\\sigma}_{\\hat{\\beta}_i }} \\sim t(T-k-1)$\n",
    "        - $H_0$, l'hypothèse nulle : $\\beta_i = 0$\n",
    "        - $H_1$, l'hypothèse alternative : $\\beta_i \\neq 0$\n",
    "    - de tous les coefficients en même temps : $F = \\frac{R^2/k}{(1-R^2)/(T-k-1)} \\sim F(k,T-k-1)$\n",
    "        - $H_0$, l'hypothèse nulle : $\\beta_1 = \\beta_2 = ... = \\beta_k = 0$\n",
    "        - $H_1$, l'hypothèse alternative : $ \\exists i \\in \\{1,...,k\\} \\vert \\hat{\\beta}_i \\neq 0$\n",
    "\n",
    "<br>    \n",
    "    \n",
    "- Coefficient de détermination : $R^2 = \\frac{SCE}{SCT} = 1 - \\frac{SCR}{SCT}$\n",
    "    \n",
    "- Coefficient de détermination ajusté : $\\bar{R}^2 = 1 - \\frac{T-1}{T-k-1}(1-R^2)$\n",
    "\n",
    "    \n",
    "Nous allons nous intéresser dans cette séance à l'hypothèse de sphéricité des erreurs sans laquelle l'inférence statistique (tests de significativité) sont nuls. \n",
    "    \n",
    "\n",
    "</span>"
   ]
  },
  {
   "cell_type": "markdown",
   "metadata": {},
   "source": [
    "<span style='line-height:1.5;font-size: 17px;font-family:\"Times New Roman\"'>\n",
    "<hr style=\" border: 2.5px solid black;\">\n",
    "\n",
    "***\n",
    " \n",
    "# Les estimateurs des moindres carrés généralisés <font color='blue' size=\"1.5\"><i>[Plan du cours](#plan)</i></font><a id='p2'></a>\n",
    "\n",
    "<br>\n",
    "    \n",
    "On rappelle que la matrice de variance-covariance du terme d'erreur s'écrit : \n",
    "    \n",
    "$$E(\\epsilon \\epsilon') = \n",
    "\\begin{pmatrix}\n",
    "V(\\epsilon_1) & Cov(\\epsilon_1,\\epsilon_2) & Cov(\\epsilon_1,\\epsilon_3) & ... & Cov(\\epsilon_1,\\epsilon_T)\\\\\n",
    "Cov(\\epsilon_2,\\epsilon_1) & V(\\epsilon_2)  & Cov(\\epsilon_2,\\epsilon_3) & ... & Cov(\\epsilon_2,\\epsilon_T)\\\\\n",
    "\\vdots & \\vdots & \\vdots & ... & \\vdots\\\\\n",
    "Cov(\\epsilon_T,\\epsilon_1) & Cov(\\epsilon_T,\\epsilon_2) & Cov(\\epsilon_T,\\epsilon_3) & ... & V(\\epsilon_T) \\\\\n",
    "\\end{pmatrix}\n",
    "$$\n",
    "\n",
    "- autocorrélation : les termes en dehors de la diagonale ne sont pas nuls\n",
    "    \n",
    "- hétéroscedasticité : les termes de la diagonale ne sont pas tous égaux entre eux\n",
    "    \n",
    "<br>\n",
    " \n",
    "    \n",
    "</span>"
   ]
  },
  {
   "cell_type": "markdown",
   "metadata": {},
   "source": [
    "<span style='line-height:1.5;font-size: 17px;font-family:\"Times New Roman\"'>\n",
    "<hr style=\" border: .5px solid black;\">\n",
    "\n",
    "\n",
    "<br>\n",
    "\n",
    "    \n",
    "## Propriété des estimateurs en présence d'autocorrélation et/ou hétéroscedasticité <font color='blue' size=\"1.5\"><i>[Plan du cours](#plan)</i></font><a id='p2.1'></a>\n",
    "\n",
    "<br>\n",
    "    \n",
    "Considérons le modèle suivant :\n",
    "    \n",
    "$$Y = X \\beta + \\epsilon $$\n",
    "    \n",
    "où $X$ est non aléatoire de plein rang et :\n",
    "    \n",
    "- $E(\\epsilon) = 0$\n",
    "- $E(\\epsilon \\epsilon') = \\Omega_{\\epsilon} \\neq \\sigma_{\\epsilon}^2 I$\n",
    "    \n",
    "$\\Omega_{\\epsilon} \\neq \\sigma_{\\epsilon}^2 I$ $\\Rightarrow$ hétéroscédasticité ou autocorrélation.\n",
    "    \n",
    "<br>\n",
    "    \n",
    "L'estimateur des MCO donne : \n",
    "    \n",
    "$$\\hat{\\beta} = (X'X)^{-1}X'Y$$\n",
    "    \n",
    "Etant donné $E(\\epsilon) = 0$, on a :\n",
    "    \n",
    "$$E(\\hat{\\beta}) = \\beta$$\n",
    "    \n",
    "<br>\n",
    "    \n",
    "$\\Rightarrow$ en présence d'hétéroscédasticité ou d'autocorrélation, l'estimateur des MCO reste sans biais.\n",
    "\n",
    "<br>\n",
    "    \n",
    "En revanche : \n",
    "    \n",
    "$$\\Omega_{\\hat{\\beta}} = E [ (\\hat{\\beta} - \\beta)(\\hat{\\beta} - \\beta)'] \\\\\n",
    "= (X'X)^{-1}X'E(\\epsilon \\epsilon')X(X'X)^{-1}\\\\\n",
    "= (X'X)^{-1}X'\\Omega_{\\epsilon}X(X'X)^{-1} $$\n",
    "    \n",
    "<br>\n",
    "    \n",
    "Ainsi nous avons $\\Omega_{\\hat{\\beta}} \\neq \\sigma_{\\epsilon}^2(X'X)^{-1}$, la variance de l'estimateur MCO en absence d'autocorrélation ni d'hétéroscédasticité. Autrement dit : <b> en présence d'hétéroscédasticité ou d'autocorrélation, la variance de l'estimateur MCO n'est plus minimale.</b> Les MCO ne sont alors plus \"<i>Best\"</i>.\n",
    "    \n",
    "\n",
    "    \n",
    "</span>"
   ]
  },
  {
   "cell_type": "markdown",
   "metadata": {},
   "source": [
    "<span style='line-height:1.5;font-size: 17px;font-family:\"Times New Roman\"'>\n",
    "<hr style=\" border: .5px solid black;\">\n",
    "    \n",
    "## La méthode des moindres carrés généralisés <font color='blue' size=\"1.5\"><i>[Plan du cours](#plan)</i></font><a id='p2.2'></a>\n",
    "    \n",
    "<br>\n",
    "    \n",
    "    \n",
    "Nous proposons dans la méthode des moindres carrés généralisés, un procédure permettant d'estimer le paramètres $\\beta$ de façon efficace, malgré la présence d'hétéroscédasticité ou d'autocorrélation. \n",
    "    \n",
    "<br>\n",
    "    \n",
    "On considère le modèle de régression multiple donné par :\n",
    "    \n",
    "$$Y = X \\beta + \\epsilon $$ \n",
    "    \n",
    "et multiplions chaque terme par un matrice de transformation non singulière (inversible) $M$ et de taille $(T,T)$. Nous obtenons : \n",
    "\n",
    "<br>\n",
    "    \n",
    "$$MY = MX \\beta + M\\epsilon $$ \n",
    "    \n",
    "    \n",
    "<br>\n",
    "    \n",
    "Nous obtenons alors pour la matrice de variance-covariance du nouveau terme d'erreur ($M\\epsilon$) : \n",
    "    \n",
    "<br>\n",
    "    \n",
    "    \n",
    "$$E(\\epsilon \\epsilon') = M\\Omega_{\\epsilon}M' \\\\\n",
    "=  \\sigma_{\\epsilon}^2 M \\Gamma_{\\epsilon} M'$$\n",
    "    \n",
    "<br>\n",
    "    \n",
    "où $\\sigma_{\\epsilon}^2\\Gamma_{\\epsilon} = \\Omega_{\\epsilon}$. Alors si l'on trouve une matrice $M$ telle que :\n",
    "    \n",
    "<br>\n",
    "    \n",
    "$$M\\Gamma_{\\epsilon}M' = I$$\n",
    "    \n",
    "<br>\n",
    "    \n",
    "nous pourrons dés lors appliquer les MCO au modèle transformé. Les estimateurs obtenus auraient alors les même propriétés que les estimateurs habituels. \n",
    "    \n",
    "Par propriété de la matrice $\\Gamma_{\\epsilon}$ (positivité et symétrique), nous montrons que :\n",
    "    \n",
    "- il existe une matrice $P$ telle que $\\Gamma_{\\epsilon} = PP'$\n",
    "- donc $P^{-1}\\Gamma_{\\epsilon}(P')^{-1} = I$\n",
    "- d'où en prenant $M=P^{-1}$, il est possible d'estimer $\\beta$ et d'obtenir un estimateur BLUE\n",
    "    \n",
    "   \n",
    "<br>\n",
    "    \n",
    "Cet estimateur sera alors donné par : \n",
    "    \n",
    "    \n",
    "$$\\tilde{\\beta} = (X'\\Gamma_{\\epsilon}X)^{-1}X'\\Gamma_{\\epsilon}Y$$\n",
    "    \n",
    "    \n",
    "<br>\n",
    "    \n",
    "    \n",
    "On appelle alors $\\tilde{\\beta}$ l'estimateur des Moindres Carrés Généralisés (MCG). \n",
    "    \n",
    "<br>\n",
    "    \n",
    "    \n",
    "En pratique, cela étant, il est rarement possible de mener une telle procédure...\n",
    "    \n",
    "\n",
    "\n",
    "\n",
    "</span>"
   ]
  },
  {
   "cell_type": "markdown",
   "metadata": {},
   "source": [
    "<span style='line-height:1.5;font-size: 17px;font-family:\"Times New Roman\"'>\n",
    "<hr style=\" border: 2.5px solid black;\">\n",
    "\n",
    "***\n",
    "     \n",
    "# Hétéroscedasticité des erreurs <font color='blue' size=\"1.5\"><i>[Plan du cours](#plan)</i></font><a id='p3'></a>\n",
    "\n",
    "## Sources potentielles d'hétéroscedasticité <font color='blue' size=\"1.5\"><i>[Plan du cours](#plan)</i></font><a id='p3.1'></a>\n",
    "    \n",
    "- On rappelle que l'hétéroscédasticité renvoie au fait que les termes situés sur la diagonale de la matrice de variance-covariance des erreurs sont non-égaux entre eux. \n",
    "    \n",
    "- En série temporelle : la variance des erreurs est non constante dans le temps. \n",
    "    \n",
    "    \n",
    "$$ E(\\epsilon\\epsilon')= \n",
    "\\begin{pmatrix}\n",
    "\\sigma_{\\epsilon_1}^2 &0 & 0 & ... & 0\\\\\n",
    "0 & \\sigma_{\\epsilon_2}^2  &0 & ... & 0\\\\\n",
    "\\vdots & \\vdots & \\vdots & ... & \\vdots\\\\\n",
    "0 & 0 & 0 & ... & \\sigma_{\\epsilon_T}^2 \\\\\n",
    "\\end{pmatrix}\n",
    "$$\n",
    "  \n",
    "On a alors $E(\\epsilon \\epsilon') = \\Omega_{\\epsilon} \\neq \\sigma_{\\epsilon}^2 I$, ce que l'on peut encore écrire :\n",
    "    \n",
    "    \n",
    "$$E(\\epsilon_t^2) = \\sigma_{\\epsilon_t}^2 $$\n",
    "    \n",
    "où l'on remarque que l'on a indicé l'expression de la variance par $t$ : la variance évolue avec $t$.\n",
    "    \n",
    "D'où peut venir l'hétéroscédasticité ? \n",
    "- hétérogénéité de l'échantillon (pays différents ou époques différentes)\n",
    "- oubli d'une variable explicative dans le modèle\n",
    "- asymétrie dans la distribution des certaines variables\n",
    "- une mauvaise transformation des variables (par exemple : prendre le modèle linaire alors que le bon modèle aurait été le modèle log-linéaire).\n",
    "- ...\n",
    "\n",
    "   \n",
    "    \n",
    "</span>"
   ]
  },
  {
   "cell_type": "markdown",
   "metadata": {},
   "source": [
    "<span style='line-height:1.5;font-size: 17px;font-family:\"Times New Roman\"'>\n",
    "<hr style=\" border: .5px solid black;\">\n",
    "\n",
    "\n",
    "    \n",
    "## Tests d'hétéroscedasticité <font color='blue' size=\"1.5\"><i>[Plan du cours](#plan)</i></font><a id='p3.2'></a>\n",
    "\n",
    "<b> 3.2.1 Test graphique </b>\n",
    "\n",
    "    \n",
    "<br> \n",
    "    \n",
    "Comment détecter l'hétéroscédasticité ?\n",
    "    \n",
    "- il existe divers tests permettant de la détecter \n",
    "- une première intuition graphique est toujours utile :\n",
    "    - estimation du modèle comme s'il n'y avait pas d'hétéroscédasticité\n",
    "    - graphique (nuage de points) de la variable expliquée estimée ($\\hat{Y}$) en fonction des résidus au carré\n",
    "    - s'il existe une relation apparente entre les deux séries, nous pouvons avoir présomption de présence d'hétéroscédasticité\n",
    "- il est aussi possible de faire le nuage de points entre les résidus et une variable explicative : de même si une relation apparaît, nous avons présomption d'hétéroscédasticité.\n",
    "- une autre analyse graphique consiste à faire le graphique de l'évolution des résidus selon les observations : la variance doit apparaître constante.\n",
    "    \n",
    "<br>\n",
    "\n",
    "Voici quelques exemples : \n",
    "    \n",
    "<br>\n",
    "\n",
    "</span>"
   ]
  },
  {
   "cell_type": "markdown",
   "metadata": {},
   "source": [
    "<img style=\"width:600px;height:400px\" src=\"data/heteroscedasticite2.png\">"
   ]
  },
  {
   "cell_type": "markdown",
   "metadata": {},
   "source": [
    "***\n",
    "\n",
    "<span style='line-height:1.5;font-size: 17px;font-family:\"Times New Roman\"'>\n",
    "<hr style=\" border: .5px solid black;\">\n",
    "\n",
    " \n",
    "    \n",
    "\n",
    "\n",
    "<br>\n",
    "\n",
    "<b> 3.2.2 Quelques tests d'hétéroscédasticité connus</b>\n",
    "\n",
    "Avant de détailler les tests que nous utiliserons dans le cadre de ce cours, voici quelques citations honorables : \n",
    "\n",
    "- Test de Goldeld-Quandt (1965) : s'applique lorsque l'hétéroscédasticité provient de l'une des variables explicative. L'idée la suivante :\n",
    "    - on classe les valeurs de la variable à l'origine de l'hétéroscédasticité par ordre croissant\n",
    "    - on supprime les valeurs centrales\n",
    "    - on mène une estimation par les MCO de la relation sur les deux sous-échantillons\n",
    "    - on compare les SCR (sommes des carrés des résidus) pour chaque sous-régression \n",
    "    - si elles sont significativement différentes l'une de l'autre, il y a hétéroscédasticité\n",
    "\n",
    "<br>\n",
    "\n",
    "- Test de Glesjer (1969) : a pour but de détecter la présence ET la forme de l'hétéroscédasticité. Le test procède en 3 étapes :\n",
    "    - on procède à une estimation MCO du modèle et on en déduit la série de résidus\n",
    "    - on mène ensuite une estimation par les MCO les modèles ayant pour variable explicative le résidu et plusieurs formes sur la variable expliquée à l'origine de l'hétéroscédasticité ($e_t = a_0 + b_1 X_{j,t} + u_t$, ou encore $e_t = a_0 + b_1 \\sqrt{X_{j,t}} + u_t$, etc...)\n",
    "    - on regarde pour chacun de ces modèles si le coefficient $b_1$ est significativement différent de $0$. S'il l'est, il y a alors hétéroscédasticité.\n",
    "    \n",
    "<br>\n",
    "\n",
    "</span>"
   ]
  },
  {
   "cell_type": "markdown",
   "metadata": {},
   "source": [
    "***\n",
    "<span style='line-height:1.5;font-size: 17px;font-family:\"Times New Roman\"'>\n",
    "<hr style=\" border: .5px solid black;\">\n",
    "<b> 3.2.3 Test de Breusch-Pagan (1979)</b>\n",
    "\n",
    "- test général couvrant un grand nombre de cas d'hétéroscédasticité\n",
    "- valable que pour des échantillons assez grands (beaucoup d'observation) : test asymptotique\n",
    "- n'implique pas de savoir quelle variable explicative est à l'origine de l'hétéroscédasticité\n",
    "- test simple : ne se base que sur les résidus issus de la régression MCO du modèle\n",
    "\n",
    "\n",
    "<br>\n",
    "\n",
    "\n",
    "On considère le modèle de régression multiple suivant : \n",
    "\n",
    "\n",
    "$$ Y_t = \\alpha + \\beta_1 X_{1,t} + \\beta_2 X_{2,t} + ... + \\beta_k X_{k,t} + \\epsilon_t $$\n",
    "\n",
    "\n",
    "et on suppose que le terme d'erreur suit une loi normale de variance : \n",
    "\n",
    "$$\\sigma_{\\epsilon_t}^2  = f(a_0 + a_1 Z_{1,t} + ... + a_p Z_{p,t})$$\n",
    "\n",
    "où $f$ est une fonction quelconque, les $(a_i)$ sont des coefficients non liés aux $(\\beta_i)$ du modèle et les $(Z_i)$ sont des variables potentiellement source de l'hétéroscédasticité (on prendra généralement les variables explicatives du modèle). \n",
    "\n",
    "<br>\n",
    "\n",
    "Tester l'hypothèse nulle d'homoscédasticité revient à tester l'hypothèse : \n",
    "\n",
    "$$H_0 : a_1 = a_2 = ... = a_p = 0$$\n",
    "\n",
    "<br>\n",
    "\n",
    "Voici comment le test procède, en 5 étapes : \n",
    "\n",
    "1. on estime le modèle par les MCO et on récupère la série des résidus $e_t$ pour $t = 1,...,T$\n",
    "2. on calcule l'estimateur du maximum de vraissemblance de la variance du terme d'erreur : \n",
    "$$\\hat{\\sigma}_{MV}^2 = 1/T\\sum_{t=1}^T e_t^2$$\n",
    "3. on calcule la quantité :\n",
    "$$h_t = \\frac{e_t^2}{\\hat{\\sigma}_{MV}^2}$$\n",
    "4. on spécifie les variables $(Z_i)$. Généralement, on prendra la matrice des varibales explicatives, puis on régresse $h_t$ sur ces variables : \n",
    "$$h_t = a_0 + a_1 Z_{1,t} + ... + a_p Z_{p,t} + u_t$$\n",
    "5. on calcule enfin la statistique de test :\n",
    "$$BP = 1/2 SCE$$\n",
    "\n",
    "<br>\n",
    "\n",
    "où SCE est la Somme des Carrés Expliqués. Et sous l'hypothèse nulle d'homoscédasticité, nous avons :\n",
    "\n",
    "$$BP \\sim \\chi_p^2$$\n",
    "\n",
    "<br>\n",
    "La règle de décision est donc la suivante : \n",
    "\n",
    "- $BP<\\chi_p^2$, l'hypothèse nulle d'homoscédasticité n'est pas rejetée\n",
    "- $BP>\\chi_p^2$, l'hypothèse nulle d'homoscédasticité est rejetée\n",
    "\n",
    "</span>"
   ]
  },
  {
   "cell_type": "markdown",
   "metadata": {},
   "source": [
    "<span style='line-height:1.5;font-size: 17px;font-family:\"Times New Roman\"'>\n",
    "<hr style=\" border: .5px solid black;\">\n",
    "\n",
    "<b> 3.2.4 Test de White (1980)</b>\n",
    "\n",
    "- test général également\n",
    "- ne repose pas sur l'hypothèse de normalité des erreurs\n",
    "- ne s'intéresse pas à la forme de l'hétéroscédasticité\n",
    "\n",
    "<br>\n",
    "\n",
    "Voici la procédure en 3 étapes de ce test :\n",
    "\n",
    "1. on estime le modèle de régression multiple par les MCO et on récupère la série des résidus ($e_t$)\n",
    "2. on mène une estimation de la régression auxiliaire : \n",
    "\n",
    "$$ e_t^2 = a_0 + a_1 X_{1,t} + a_2 X_{2,t} + ... + a_k X_{k,t} + \\\\\n",
    "        b_1 X_{1,t}^2 + b_2 X_{2,t}^2 + ... + b_k X_{k,t}^2 +u_t $$\n",
    "3. on fait un test de Fisher sur les coefficients de ce modèle avec l'hypothèse nulle : \n",
    "$$H_0: a_1 = b_1 = a_2 = b_2 = ... = a_k = b_k = 0$$\n",
    "\n",
    "<br>\n",
    "\n",
    "Dés lors si l'un des coefficients de la régression auxiliaire est significativement différent de $0$, l'hypothèse nulle sera rejetée. Pour le savoir, nous calculons la statistique de test de White :\n",
    "\n",
    "$$TR^2 \\sim \\chi_{2k}^2$$\n",
    "\n",
    "Attention ici, le nombre de dégré de liberté du test est $2k$. La règle de décision est la suivante :\n",
    "- si $TR^2 < \\chi_{2k}^2$, on ne rejette pas l'hypothèse nulle d'homoscédasticité\n",
    "- si $TR^2 > \\chi_{2k}^2$, on rejette l'hypothèse nulle d'homoscédasticité\n",
    "    \n",
    "    \n",
    "</span>"
   ]
  },
  {
   "cell_type": "markdown",
   "metadata": {},
   "source": [
    "<span style='line-height:1.5;font-size: 17px;font-family:\"Times New Roman\"'>\n",
    "<hr style=\" border: 2.5px solid black;\">\n",
    "\n",
    "## Procédure d'estimation en présence d'hétéroscedasticité <font color='blue' size=\"1.5\"><i>[Plan du cours](#plan)</i></font><a id='p3.3'></a>\n",
    "    \n",
    "<br>\n",
    "    \n",
    "- Rappel : l'hétéroscédasticité implique que les estimateurs MCO sont sans biais mais plus de variance minimale\n",
    "- <b>Problème</b> : cette variance est utilisée dans le calcul des tests de significativité.\n",
    "\n",
    "$\\Rightarrow$ les tests de significativité ne sont plus valides lorsque l'on est en présence d'hétéroscédasticité. Le modèle ne vaut donc plus rien !!\n",
    "\n",
    "- Solutions : \n",
    "    - estimation du modèle par les MCG : il faut connaître la matrice de variance covariance du terme d'erreur\n",
    "    - correction des MCO par l'utilisation d'un estimateur de la matrice de var-cov\n",
    "    \n",
    "</span>"
   ]
  },
  {
   "cell_type": "markdown",
   "metadata": {},
   "source": [
    "<span style='line-height:1.5;font-size: 17px;font-family:\"Times New Roman\"'>\n",
    "<hr style=\" border: .5px solid black;\">\n",
    "<b> 3.3.1 Estimateur de la matrice de variance-covariance de White</b>\n",
    "\n",
    "<br>\n",
    "\n",
    "Considérons le modèle : \n",
    "\n",
    "$$Y = X\\beta + \\epsilon$$\n",
    "\n",
    "que l'on peut réécrire pour une obervation $t$ :\n",
    "\n",
    "$$Y_t = X'_t\\beta + \\epsilon_t$$\n",
    "\n",
    "où $X'_t$ désigne donc un vecteur colonne égal à la transposée de la t-ième ligne de la matrice $X$. On aura alors l'estimateur de la matrice de variance-covariance proposé par White (1980) :\n",
    "\n",
    "$$ \\hat{\\Omega}^W_{\\epsilon} = \\frac{T}{T-k-1}(X'X)^{-1}\\left( \\sum_t e_t^2X_tX_t' \\right) (X'X)^{-1} $$ \n",
    "    \n",
    "</span>"
   ]
  },
  {
   "cell_type": "markdown",
   "metadata": {},
   "source": [
    "<span style='line-height:1.5;font-size: 17px;font-family:\"Times New Roman\"'>\n",
    "<hr style=\" border: .5px solid black;\">\n",
    "<br>\n",
    "\n",
    "<b>3.3.2 Esimateur de la matrice de variance-covariance de Newey-West</b>\n",
    "\n",
    "<br>\n",
    "\n",
    "- La proposition de correction de White repose sur l'hypothèse de non-autocorrélation des résidus.\n",
    "- La proposition faite par Newey et West (1987) non\n",
    "- Leur estimateur de la matrice de variance-covariance est donné par :\n",
    "\n",
    "<br>\n",
    "\n",
    "$$ \\hat{\\Omega}^{NW}_{\\epsilon} = \\frac{T}{T-k-1}(X'X)^{-1}\\hat{\\Sigma}^{NW} (X'X)^{-1} $$ \n",
    "\n",
    "où \n",
    "\n",
    "$$\\hat{\\Sigma}^{NW} = \\frac{T}{T-k-1} \\times \\left[ \\sum_{t=1}^T e_t^2X_tX_t' + \\sum_{l=1}^q \\left( \\left(1-\\frac{l}{q+1}\\right) \\sum_{t=l+1}^T (X_te_te_{t-l}X'_{t-l} + X_{t-l}e_{t-l}e_tX'_t \\right)\\right] $$\n",
    "\n",
    "où $q$ est la partie entière de :\n",
    "\n",
    "$$q = int \\left[ 4 \\left(\\frac{T}{100}\\right)^{2/9}\\right]$$\n",
    "\n",
    "<br>\n",
    "\n",
    "***\n",
    "\n",
    "Bien entendu, tout ça est calculé par python...\n",
    "    \n",
    "</span>"
   ]
  },
  {
   "cell_type": "markdown",
   "metadata": {},
   "source": [
    "<span style='line-height:1.5;font-size: 17px;font-family:\"Times New Roman\"'>\n",
    "<hr style=\" border: 2.5px solid black;\">\n",
    "    \n",
    "## Application <font color='blue' size=\"1.5\"><i>[Plan du cours](#plan)</i></font><a id='p3.4'></a>\n",
    "\n",
    "\n",
    "- On s'intéresse ici à la relation entre certaines variables du bilan des banques et la rentabilité bancaire.\n",
    "- Les variables explicatives sont :\n",
    "    - le ratio de levier (fonds propres sur actif) : variable règlementaire\n",
    "    - le ratio de liquidité (actifs liquides sur actif) : variable règlementaire\n",
    "    - le ratio des prêts sur les actifs : variable représentative de l'activité des banques\n",
    "- Nous avons plus de 1100 banques pour l'année 2017\n",
    "    \n",
    "<br>\n",
    "\n",
    "- Enjeux : les variables règlementaires (prévenir d'une nouvelle cirse) ont-elles un impact sur la rentabilité des banques ? \n",
    "    \n",
    "</span>"
   ]
  },
  {
   "cell_type": "code",
   "execution_count": 1,
   "metadata": {},
   "outputs": [],
   "source": [
    "# importation du package pandas\n",
    "import pandas as pd"
   ]
  },
  {
   "cell_type": "code",
   "execution_count": 5,
   "metadata": {},
   "outputs": [],
   "source": [
    "# chemin d'accès pour la base de données\n",
    "chemin = \"C:/Users/204363/Desktop/cours/2021-2022/econometrie/data/\"\n",
    "\n",
    "# importation de la base de données\n",
    "df = pd.read_csv (chemin + \"profitabily.txt\", sep=\";\")"
   ]
  },
  {
   "cell_type": "code",
   "execution_count": 6,
   "metadata": {},
   "outputs": [
    {
     "data": {
      "text/html": [
       "<div>\n",
       "<style scoped>\n",
       "    .dataframe tbody tr th:only-of-type {\n",
       "        vertical-align: middle;\n",
       "    }\n",
       "\n",
       "    .dataframe tbody tr th {\n",
       "        vertical-align: top;\n",
       "    }\n",
       "\n",
       "    .dataframe thead th {\n",
       "        text-align: right;\n",
       "    }\n",
       "</style>\n",
       "<table border=\"1\" class=\"dataframe\">\n",
       "  <thead>\n",
       "    <tr style=\"text-align: right;\">\n",
       "      <th></th>\n",
       "      <th>FitchEntityID</th>\n",
       "      <th>OPERATING_ROAA</th>\n",
       "      <th>TOTAL_EQUITY_TOTAL_ASSETS</th>\n",
       "      <th>LA_to_TA</th>\n",
       "      <th>NET_LOANS_TOTAL_ASSETS</th>\n",
       "    </tr>\n",
       "  </thead>\n",
       "  <tbody>\n",
       "    <tr>\n",
       "      <th>0</th>\n",
       "      <td>1024701</td>\n",
       "      <td>0.62</td>\n",
       "      <td>6.26</td>\n",
       "      <td>7.408046</td>\n",
       "      <td>65.08</td>\n",
       "    </tr>\n",
       "    <tr>\n",
       "      <th>1</th>\n",
       "      <td>1003167</td>\n",
       "      <td>1.45</td>\n",
       "      <td>11.38</td>\n",
       "      <td>17.342588</td>\n",
       "      <td>23.21</td>\n",
       "    </tr>\n",
       "    <tr>\n",
       "      <th>2</th>\n",
       "      <td>1006220</td>\n",
       "      <td>1.08</td>\n",
       "      <td>9.93</td>\n",
       "      <td>7.384876</td>\n",
       "      <td>83.48</td>\n",
       "    </tr>\n",
       "    <tr>\n",
       "      <th>3</th>\n",
       "      <td>1003918</td>\n",
       "      <td>2.05</td>\n",
       "      <td>9.48</td>\n",
       "      <td>5.514464</td>\n",
       "      <td>73.06</td>\n",
       "    </tr>\n",
       "    <tr>\n",
       "      <th>4</th>\n",
       "      <td>105357</td>\n",
       "      <td>1.11</td>\n",
       "      <td>10.20</td>\n",
       "      <td>12.825685</td>\n",
       "      <td>63.18</td>\n",
       "    </tr>\n",
       "  </tbody>\n",
       "</table>\n",
       "</div>"
      ],
      "text/plain": [
       "   FitchEntityID  OPERATING_ROAA  TOTAL_EQUITY_TOTAL_ASSETS   LA_to_TA  \\\n",
       "0        1024701            0.62                       6.26   7.408046   \n",
       "1        1003167            1.45                      11.38  17.342588   \n",
       "2        1006220            1.08                       9.93   7.384876   \n",
       "3        1003918            2.05                       9.48   5.514464   \n",
       "4         105357            1.11                      10.20  12.825685   \n",
       "\n",
       "   NET_LOANS_TOTAL_ASSETS  \n",
       "0                   65.08  \n",
       "1                   23.21  \n",
       "2                   83.48  \n",
       "3                   73.06  \n",
       "4                   63.18  "
      ]
     },
     "execution_count": 6,
     "metadata": {},
     "output_type": "execute_result"
    }
   ],
   "source": [
    "# la base est elle bien importée ? \n",
    "df.head()"
   ]
  },
  {
   "cell_type": "code",
   "execution_count": 19,
   "metadata": {},
   "outputs": [
    {
     "data": {
      "text/html": [
       "<div>\n",
       "<style scoped>\n",
       "    .dataframe tbody tr th:only-of-type {\n",
       "        vertical-align: middle;\n",
       "    }\n",
       "\n",
       "    .dataframe tbody tr th {\n",
       "        vertical-align: top;\n",
       "    }\n",
       "\n",
       "    .dataframe thead th {\n",
       "        text-align: right;\n",
       "    }\n",
       "</style>\n",
       "<table border=\"1\" class=\"dataframe\">\n",
       "  <thead>\n",
       "    <tr style=\"text-align: right;\">\n",
       "      <th></th>\n",
       "      <th>OPERATING_ROAA</th>\n",
       "      <th>TOTAL_EQUITY_TOTAL_ASSETS</th>\n",
       "      <th>LA_to_TA</th>\n",
       "      <th>NET_LOANS_TOTAL_ASSETS</th>\n",
       "    </tr>\n",
       "  </thead>\n",
       "  <tbody>\n",
       "    <tr>\n",
       "      <th>OPERATING_ROAA</th>\n",
       "      <td>1.000000</td>\n",
       "      <td>0.256412</td>\n",
       "      <td>-0.147122</td>\n",
       "      <td>0.102217</td>\n",
       "    </tr>\n",
       "    <tr>\n",
       "      <th>TOTAL_EQUITY_TOTAL_ASSETS</th>\n",
       "      <td>0.256412</td>\n",
       "      <td>1.000000</td>\n",
       "      <td>0.157049</td>\n",
       "      <td>-0.047945</td>\n",
       "    </tr>\n",
       "    <tr>\n",
       "      <th>LA_to_TA</th>\n",
       "      <td>-0.147122</td>\n",
       "      <td>0.157049</td>\n",
       "      <td>1.000000</td>\n",
       "      <td>-0.653209</td>\n",
       "    </tr>\n",
       "    <tr>\n",
       "      <th>NET_LOANS_TOTAL_ASSETS</th>\n",
       "      <td>0.102217</td>\n",
       "      <td>-0.047945</td>\n",
       "      <td>-0.653209</td>\n",
       "      <td>1.000000</td>\n",
       "    </tr>\n",
       "  </tbody>\n",
       "</table>\n",
       "</div>"
      ],
      "text/plain": [
       "                           OPERATING_ROAA  TOTAL_EQUITY_TOTAL_ASSETS  \\\n",
       "OPERATING_ROAA                   1.000000                   0.256412   \n",
       "TOTAL_EQUITY_TOTAL_ASSETS        0.256412                   1.000000   \n",
       "LA_to_TA                        -0.147122                   0.157049   \n",
       "NET_LOANS_TOTAL_ASSETS           0.102217                  -0.047945   \n",
       "\n",
       "                           LA_to_TA  NET_LOANS_TOTAL_ASSETS  \n",
       "OPERATING_ROAA            -0.147122                0.102217  \n",
       "TOTAL_EQUITY_TOTAL_ASSETS  0.157049               -0.047945  \n",
       "LA_to_TA                   1.000000               -0.653209  \n",
       "NET_LOANS_TOTAL_ASSETS    -0.653209                1.000000  "
      ]
     },
     "execution_count": 19,
     "metadata": {},
     "output_type": "execute_result"
    }
   ],
   "source": [
    "# première stat des : les corrélations\n",
    "df[['OPERATING_ROAA','TOTAL_EQUITY_TOTAL_ASSETS','LA_to_TA','NET_LOANS_TOTAL_ASSETS']].corr()"
   ]
  },
  {
   "cell_type": "code",
   "execution_count": 10,
   "metadata": {},
   "outputs": [
    {
     "data": {
      "text/plain": [
       "<AxesSubplot:title={'center':'relation entre ROAA et le levier'}, xlabel='TOTAL_EQUITY_TOTAL_ASSETS', ylabel='OPERATING_ROAA'>"
      ]
     },
     "execution_count": 10,
     "metadata": {},
     "output_type": "execute_result"
    },
    {
     "data": {
      "image/png": "[encoded data removed]",
      "text/plain": [
       "<Figure size 720x576 with 1 Axes>"
      ]
     },
     "metadata": {
      "needs_background": "light"
     },
     "output_type": "display_data"
    }
   ],
   "source": [
    "# analyse graphique : nuage de points entre les variables explicatives et la variable expliquée\n",
    "df.plot.scatter(x='TOTAL_EQUITY_TOTAL_ASSETS', y='OPERATING_ROAA',\n",
    "                title=\"relation entre ROAA et le levier\",s=5, figsize=(10,8))"
   ]
  },
  {
   "cell_type": "code",
   "execution_count": 27,
   "metadata": {},
   "outputs": [
    {
     "data": {
      "text/plain": [
       "<AxesSubplot:title={'center':'relation entre ROAA et le ratio de liquidité'}, xlabel='LA_to_TA', ylabel='OPERATING_ROAA'>"
      ]
     },
     "execution_count": 27,
     "metadata": {},
     "output_type": "execute_result"
    },
    {
     "data": {
      "image/png": "[encoded data removed]",
      "text/plain": [
       "<Figure size 720x576 with 1 Axes>"
      ]
     },
     "metadata": {
      "needs_background": "light"
     },
     "output_type": "display_data"
    }
   ],
   "source": [
    "df.plot.scatter(x='LA_to_TA', y='OPERATING_ROAA',\n",
    "                title=\"relation entre ROAA et le ratio de liquidité\",s=5, figsize=(10,8))"
   ]
  },
  {
   "cell_type": "code",
   "execution_count": 28,
   "metadata": {},
   "outputs": [
    {
     "data": {
      "text/plain": [
       "<AxesSubplot:title={'center':'relation entre ROAA et le ratio de prêt'}, xlabel='NET_LOANS_TOTAL_ASSETS', ylabel='OPERATING_ROAA'>"
      ]
     },
     "execution_count": 28,
     "metadata": {},
     "output_type": "execute_result"
    },
    {
     "data": {
      "image/png": "[encoded data removed]",
      "text/plain": [
       "<Figure size 720x576 with 1 Axes>"
      ]
     },
     "metadata": {
      "needs_background": "light"
     },
     "output_type": "display_data"
    }
   ],
   "source": [
    "df.plot.scatter(x='NET_LOANS_TOTAL_ASSETS', y='OPERATING_ROAA',\n",
    "                title=\"relation entre ROAA et le ratio de prêt\",s=5, figsize=(10,8))"
   ]
  },
  {
   "cell_type": "markdown",
   "metadata": {},
   "source": [
    "***\n",
    "\n",
    "<br>\n",
    "\n",
    "Estimation du modèle :\n",
    "\n",
    "$$ROAA_t = \\alpha + \\beta_1 Levier_t + \\beta_2 Liq_t + \\beta_3 Pret_t + \\epsilon_t$$\n",
    "\n",
    "<br>"
   ]
  },
  {
   "cell_type": "code",
   "execution_count": 13,
   "metadata": {},
   "outputs": [],
   "source": [
    "# package pour l'estimation des MCO\n",
    "import statsmodels.api as sm"
   ]
  },
  {
   "cell_type": "code",
   "execution_count": 31,
   "metadata": {},
   "outputs": [
    {
     "name": "stdout",
     "output_type": "stream",
     "text": [
      "                            OLS Regression Results                            \n",
      "==============================================================================\n",
      "Dep. Variable:         OPERATING_ROAA   R-squared:                       0.102\n",
      "Model:                            OLS   Adj. R-squared:                  0.100\n",
      "Method:                 Least Squares   F-statistic:                     43.84\n",
      "Date:                Thu, 07 Oct 2021   Prob (F-statistic):           7.77e-27\n",
      "Time:                        02:00:17   Log-Likelihood:                -1607.0\n",
      "No. Observations:                1163   AIC:                             3222.\n",
      "Df Residuals:                    1159   BIC:                             3242.\n",
      "Df Model:                           3                                         \n",
      "Covariance Type:            nonrobust                                         \n",
      "=============================================================================================\n",
      "                                coef    std err          t      P>|t|      [0.025      0.975]\n",
      "---------------------------------------------------------------------------------------------\n",
      "const                         0.7342      0.137      5.368      0.000       0.466       1.003\n",
      "TOTAL_EQUITY_TOTAL_ASSETS     0.0409      0.004     10.173      0.000       0.033       0.049\n",
      "LA_to_TA                     -0.0115      0.002     -5.451      0.000      -0.016      -0.007\n",
      "NET_LOANS_TOTAL_ASSETS       -0.0008      0.002     -0.454      0.650      -0.004       0.003\n",
      "==============================================================================\n",
      "Omnibus:                      552.883   Durbin-Watson:                   1.730\n",
      "Prob(Omnibus):                  0.000   Jarque-Bera (JB):            18422.111\n",
      "Skew:                          -1.550   Prob(JB):                         0.00\n",
      "Kurtosis:                      22.250   Cond. No.                         306.\n",
      "==============================================================================\n",
      "\n",
      "Notes:\n",
      "[1] Standard Errors assume that the covariance matrix of the errors is correctly specified.\n"
     ]
    },
    {
     "name": "stderr",
     "output_type": "stream",
     "text": [
      "C:\\Anaconda3\\lib\\site-packages\\statsmodels\\tsa\\tsatools.py:142: FutureWarning: In a future version of pandas all arguments of concat except for the argument 'objs' will be keyword-only\n",
      "  x = pd.concat(x[::order], 1)\n"
     ]
    }
   ],
   "source": [
    "# on défini les matrices du modèle\n",
    "    # variables explicatives\n",
    "X = df[   ['TOTAL_EQUITY_TOTAL_ASSETS','LA_to_TA','NET_LOANS_TOTAL_ASSETS']    ]\n",
    "    # ajout de la constante\n",
    "X = sm.add_constant(X)\n",
    "\n",
    "# X[\"const\"] = 1 \n",
    "\n",
    "    # variable explicative\n",
    "y = df['OPERATING_ROAA']\n",
    "\n",
    "\n",
    "# on défini  le modèle \n",
    "modele = sm.OLS(y,X)\n",
    "\n",
    "# on estime les paramètres du modèle\n",
    "resultats = modele.fit()\n",
    "\n",
    "# on affiche les résultats\n",
    "print(resultats.summary())"
   ]
  },
  {
   "cell_type": "markdown",
   "metadata": {},
   "source": [
    "<br>\n",
    "\n",
    "On commence par mener une analyse graphique sur les résidus pour éventuellement détecter la présence d'hétéroscédasticité :\n",
    "\n",
    "<br>"
   ]
  },
  {
   "cell_type": "code",
   "execution_count": 32,
   "metadata": {},
   "outputs": [],
   "source": [
    "# analyse graphique du résidu\n",
    "    # nous devons faire appel à un autre package pour les faire le graphique des résidus\n",
    "import matplotlib.pyplot as plt"
   ]
  },
  {
   "cell_type": "code",
   "execution_count": 37,
   "metadata": {},
   "outputs": [],
   "source": [
    "# on récupère les résidus\n",
    "residus = resultats.resid\n",
    "\n",
    "# on récupère les valeurs estimées de ROAA (Y chapeau)\n",
    "roaa_chapeau = resultats.predict()\n"
   ]
  },
  {
   "cell_type": "code",
   "execution_count": 38,
   "metadata": {},
   "outputs": [
    {
     "data": {
      "text/plain": [
       "<matplotlib.collections.PathCollection at 0x18fb349db08>"
      ]
     },
     "execution_count": 38,
     "metadata": {},
     "output_type": "execute_result"
    },
    {
     "data": {
      "image/png": "[encoded data removed]",
      "text/plain": [
       "<Figure size 432x288 with 1 Axes>"
      ]
     },
     "metadata": {
      "needs_background": "light"
     },
     "output_type": "display_data"
    }
   ],
   "source": [
    "# nuage de points entre le résidu et les prédictions\n",
    "plt.scatter(x=roaa_chapeau, y=residus, s=5 )"
   ]
  },
  {
   "cell_type": "code",
   "execution_count": 39,
   "metadata": {},
   "outputs": [
    {
     "data": {
      "text/plain": [
       "[<matplotlib.lines.Line2D at 0x18fb421a9c8>]"
      ]
     },
     "execution_count": 39,
     "metadata": {},
     "output_type": "execute_result"
    },
    {
     "data": {
      "image/png": "[encoded data removed]",
      "text/plain": [
       "<Figure size 432x288 with 1 Axes>"
      ]
     },
     "metadata": {
      "needs_background": "light"
     },
     "output_type": "display_data"
    }
   ],
   "source": [
    "# évolution du résidu entre les banques\n",
    "plt.plot(residus)"
   ]
  },
  {
   "cell_type": "markdown",
   "metadata": {},
   "source": [
    "<br>\n",
    "<span style='line-height:1.5;font-size: 17px;font-family:\"Times New Roman\"'>\n",
    "    \n",
    "Pour confirmer notre présomption d'hétéroscédastcité, nous menons les différents tests pour la détecter statistiquement :\n",
    "\n",
    "<br>"
   ]
  },
  {
   "cell_type": "code",
   "execution_count": 40,
   "metadata": {},
   "outputs": [],
   "source": [
    "# importation des fonctions de calcul des tests\n",
    "from statsmodels.stats.diagnostic import het_breuschpagan, het_white "
   ]
  },
  {
   "cell_type": "code",
   "execution_count": 41,
   "metadata": {},
   "outputs": [
    {
     "name": "stdout",
     "output_type": "stream",
     "text": [
      "(27.356448682274717, 4.956520447938373e-06, 9.306360253023275, 4.40646872909407e-06)\n"
     ]
    }
   ],
   "source": [
    "# hétéroscedasticité : test de Breusch et Pagan\n",
    "bp = het_breuschpagan(residus, X)\n",
    "print(bp)"
   ]
  },
  {
   "cell_type": "code",
   "execution_count": 42,
   "metadata": {
    "scrolled": true
   },
   "outputs": [
    {
     "name": "stdout",
     "output_type": "stream",
     "text": [
      "(31.922726898868426, 0.0002053463044365006, 3.6157176083096174, 0.00018477614738007786)\n"
     ]
    }
   ],
   "source": [
    "# hétéroscedasticité : test de White\n",
    "white = het_white(residus, X)\n",
    "print(white)"
   ]
  },
  {
   "cell_type": "markdown",
   "metadata": {},
   "source": [
    "<span style='line-height:1.5;font-size: 17px;font-family:\"Times New Roman\"'>\n",
    "\n",
    "<br>\n",
    "\n",
    "Correction de l'hétéroscédasticté par la correction de Newey et West (puisqu'elle prend également en compte l'autocorrélation) :\n",
    "\n",
    "<br>"
   ]
  },
  {
   "cell_type": "code",
   "execution_count": 46,
   "metadata": {},
   "outputs": [
    {
     "name": "stdout",
     "output_type": "stream",
     "text": [
      "                            OLS Regression Results                            \n",
      "==============================================================================\n",
      "Dep. Variable:         OPERATING_ROAA   R-squared:                       0.102\n",
      "Model:                            OLS   Adj. R-squared:                  0.100\n",
      "Method:                 Least Squares   F-statistic:                     16.43\n",
      "Date:                Thu, 07 Oct 2021   Prob (F-statistic):           1.86e-10\n",
      "Time:                        02:13:37   Log-Likelihood:                -1607.0\n",
      "No. Observations:                1163   AIC:                             3222.\n",
      "Df Residuals:                    1159   BIC:                             3242.\n",
      "Df Model:                           3                                         \n",
      "Covariance Type:                  HAC                                         \n",
      "=============================================================================================\n",
      "                                coef    std err          t      P>|t|      [0.025      0.975]\n",
      "---------------------------------------------------------------------------------------------\n",
      "const                         0.7342      0.145      5.064      0.000       0.450       1.019\n",
      "TOTAL_EQUITY_TOTAL_ASSETS     0.0409      0.008      5.361      0.000       0.026       0.056\n",
      "LA_to_TA                     -0.0115      0.003     -4.511      0.000      -0.016      -0.006\n",
      "NET_LOANS_TOTAL_ASSETS       -0.0008      0.002     -0.440      0.660      -0.005       0.003\n",
      "==============================================================================\n",
      "Omnibus:                      552.883   Durbin-Watson:                   1.730\n",
      "Prob(Omnibus):                  0.000   Jarque-Bera (JB):            18422.111\n",
      "Skew:                          -1.550   Prob(JB):                         0.00\n",
      "Kurtosis:                      22.250   Cond. No.                         306.\n",
      "==============================================================================\n",
      "\n",
      "Notes:\n",
      "[1] Standard Errors are heteroscedasticity and autocorrelation robust (HAC) using 1 lags and without small sample correction\n"
     ]
    }
   ],
   "source": [
    "resultat_robust = resultats.get_robustcov_results(cov_type='HAC', maxlags=1)\n",
    "print(resultat_robust.summary())"
   ]
  },
  {
   "cell_type": "markdown",
   "metadata": {},
   "source": [
    "<span style='line-height:1.5;font-size: 17px;font-family:\"Times New Roman\"'>\n",
    "\n",
    "<br>\n",
    "\n",
    "Après avoir commenté les résultats de l'estimation robuste à l'hétéroscédasticité, nous pouvons vérifier s'il reste de l'hétéroscédasticité dans les résidus.\n",
    "\n",
    "<br>"
   ]
  },
  {
   "cell_type": "code",
   "execution_count": 47,
   "metadata": {},
   "outputs": [],
   "source": [
    "residu2 = resultat_robust.resid"
   ]
  },
  {
   "cell_type": "code",
   "execution_count": 48,
   "metadata": {},
   "outputs": [
    {
     "name": "stdout",
     "output_type": "stream",
     "text": [
      "(31.922726898868426, 0.0002053463044365006, 3.6157176083096174, 0.00018477614738007786)\n"
     ]
    }
   ],
   "source": [
    "white2 = het_white(res2, X)\n",
    "print(white2)"
   ]
  },
  {
   "cell_type": "markdown",
   "metadata": {},
   "source": [
    "\n",
    "<span style='line-height:1.5;font-size: 17px;font-family:\"Times New Roman\"'>\n",
    "    \n",
    "\n",
    "<br>\n",
    "\n",
    "\n",
    "\n",
    "Il reste donc de l'hétéroscédasticité malgré notre correction. Plusieurs choses peuvent l'expliquer :\n",
    "- certaines variables explicatives sont manquantes\n",
    "- le modèle est mal spécifié :\n",
    "    - non-linéarité\n",
    "    - variables en log (qui comprime les échelles et diminue ainsi le risque)\n",
    "    - manque d'une dynamique\n",
    "    \n",
    "<br>"
   ]
  },
  {
   "cell_type": "markdown",
   "metadata": {},
   "source": [
    "***\n",
    "\n",
    "***\n",
    "<span style='line-height:1.5;font-size: 17px;font-family:\"Times New Roman\"'>\n",
    "\n",
    "\n",
    "<br>\n",
    "\n",
    "    \n",
    "#  Autocorrélation des erreurs <font color='blue' size=\"1.5\"><i>[Plan du cours](#plan)</i></font><a id='p4'></a>\n",
    "\n",
    "\n",
    "\n",
    "    \n",
    "- On rappelle que l'autocorrélation renvoie au fait que les termes situés en dehors de la diagonale de la matrice de variance-covariance des erreurs sont non nuls : \n",
    "    \n",
    "    \n",
    "$$ E(\\epsilon\\epsilon') = \n",
    "\\begin{pmatrix}\n",
    "\\sigma_{\\epsilon}^2 & \\rho_{1} & \\rho_{2} & ... & \\rho_{h-1}\\\\\n",
    "\\rho_{1} & \\sigma_{\\epsilon}^2  &\\rho_{3} & ... & \\rho_{h-2}\\\\\n",
    "\\vdots & \\vdots & \\vdots & ... & \\vdots\\\\\n",
    "\\rho_{h-1} &\\rho_{h-2} &\\rho_{h-3} & ... & \\sigma_{\\epsilon}^2 \\\\\n",
    "\\end{pmatrix}\n",
    "$$\n",
    "\n",
    "avec \n",
    "\n",
    "$$\\rho_h = \\frac{\\gamma_h}{\\gamma_0} = \\frac{cov(\\epsilon_t,\\epsilon{t-h})}{\\sigma_{\\epsilon}^2}$$\n",
    "\n",
    "d'où :\n",
    "\n",
    "$$ E(\\epsilon\\epsilon') = \\sigma_{\\epsilon}^2 \n",
    "\\begin{pmatrix}\n",
    "1 & \\rho_{1} & \\rho_{2} & ... & \\rho_{h-1}\\\\\n",
    "\\rho_{1} & 1  &\\rho_{3} & ... & \\rho_{h-2}\\\\\n",
    "\\vdots & \\vdots & \\vdots & ... & \\vdots\\\\\n",
    "\\rho_{h-1} &\\rho_{h-2} &\\rho_{h-3} & ... & 1 \\\\\n",
    "\\end{pmatrix}\n",
    "$$\n",
    "\n",
    "<br>\n",
    "  \n",
    "- Nous travaillerons sur l'autocorrélation en série temporelle : le terme d'erreur à un instant, dépend du même terme d'erreur à un autre instant\n",
    "- En coupe instantanée : autocorrélation spatiale (pas l'objet de ce cours)\n",
    "\n",
    "<br>"
   ]
  },
  {
   "cell_type": "markdown",
   "metadata": {},
   "source": [
    "<span style='line-height:1.5;font-size: 17px;font-family:\"Times New Roman\"'>\n",
    "\n",
    "\n",
    "## Sources potentielles d'autocorrélation <font color='blue' size=\"1.5\"><i>[Plan du cours](#plan)</i></font><a id='p4.1'></a>\n",
    "\n",
    "\n",
    "<br>\n",
    "\n",
    "Plusieurs sources potentielles : \n",
    "- omission d'une ou plusieurs variables explicatives (qui se retrouvent donc dans le terme d'erreur)\n",
    "- mauvaise spécification\n",
    "- erreur de mesure dans la variable expliquée (créé un break dans la série qui génère une relation de dépendance temporelle dans l'érreur)\n",
    "- saisonnalité dans les séries temporelle\n",
    "- problèmes de stationnarité en séries temporelles (voir chapitres sur les séries temporelles)."
   ]
  },
  {
   "cell_type": "markdown",
   "metadata": {},
   "source": [
    "<span style='line-height:1.5;font-size: 17px;font-family:\"Times New Roman\"'>\n",
    "<br>\n",
    "\n",
    "\n",
    "## Tests d'autocorrélation <font color='blue' size=\"1.5\"><i>[Plan du cours](#plan)</i></font><a id='p4.2'></a>\n",
    "\n",
    "<br>\n",
    "\n",
    "<b> 4.2.1 Détection graphique de la présence d'autocorrélation</b>\n",
    "\n",
    "De la même manière que pour l'hétéroscédasticité, il est possible de repérer la présence d'autocorrélation dans les erreurs en nous intéressant à la structure des résidus, de manière graphique.\n",
    "\n",
    "<br>\n"
   ]
  },
  {
   "cell_type": "markdown",
   "metadata": {},
   "source": [
    "<img style=\"width:800px;height:500px\" src=\"data/autocorrelation.png\">\n"
   ]
  },
  {
   "cell_type": "markdown",
   "metadata": {},
   "source": [
    "<span style='line-height:1.5;font-size: 17px;font-family:\"Times New Roman\"'>\n",
    "\n",
    "<b>4.2.2 Test de Durbin-Watson (1950)</b>\n",
    "\n",
    "- Permet de tester l'autocorrélation à l'ordre 1 (en série temporelle, cela l'autocorrélation à l'ordre 1 renvoie à une autocorrélation du terme d'erreur entre 2 périodes)\n",
    "- Test basé sur une hypothèse de distribution des résidus\n",
    "\n",
    "<br>\n",
    "\n",
    "\n",
    "- Dans le modèle de régression multiple : \n",
    "$$Y_t = X_t'\\beta + \\epsilon_t \\quad t=1,...,n $$\n",
    "\n",
    "- si l'on a autocorrélation à l'ordre 1, alors\n",
    "\n",
    "$$\\epsilon_t = \\rho \\epsilon_{t-1} + u_t \\quad |\\rho| < 1 $$ \n",
    "\n",
    "où $u_t$ désigne un bruit blanc, l'hypothèse nulle du test de Durbin-Watson s'écrit $H_0 : \\rho = 0$. La statistique de test correspond à :\n",
    "\n",
    "$$ DW = \\frac{\\sum_{t=2}^{n}(e_t - e_{t-1})^2}{\\sum_{t=1}^{n}e^2_t}$$\n",
    "\n",
    "où les $e_t$ sont les résidus du modèle estimé par les MCO.\n",
    "\n",
    "Pour $T$ suffisament grand, on obtient une formulation simplifiée :\n",
    "\n",
    "$$ DW \\simeq 2(1-\\hat{\\rho})$$\n",
    "\n",
    "- La distribution de la statistique de test n'est pas connue car dépendante de $X$ (matrice des variables explicatives). Il existe néanmoins une règle de décision établie qui permet de rejeter ou non $H_0$. \n",
    "\n",
    "<br>  \n",
    "\n",
    "- La table ci-dessous synthétise la règle de décision. Les valeurs des bornes inférieures et supérieures, respectivement $d_1$ et $d_2$, ont été tubulées par Durbin et Watson en tenant compte du nombre d'observations et de variables explicatives, pour un niveau de significativité donné (<a href=\"https://www3.nd.edu/~wevans1/econ30331/Durbin_Watson_tables.pdf\">Tables de Durbin-Watson</a>).\n",
    "\n",
    "<br>\n",
    "\n",
    "\n",
    "- Lorsque la statistique $DW$ appartient aux intervalles où la décision est incertaine, on a tendance à rejeter l'hypothèse nulle d'absence d'autocorrélation des erreurs.\n"
   ]
  },
  {
   "cell_type": "markdown",
   "metadata": {},
   "source": [
    "<table style=\"border-left: 2px solid black;border-right: 2px solid black\"> \n",
    "    <col width=\"130\">\n",
    "    <col width=\"130\">\n",
    "    <col width=\"65\">\n",
    "    <col width=\"65\">\n",
    "    <col width=\"130\">\n",
    "    <col width=\"130\">\n",
    "    <tr style=\"border-bottom: 2px solid black\">\n",
    "        <td colspan=\"1\" style=\"text-align: center;border-right: 2px dotted black\">[ 0 ; <i>d1</i> ]</td>\n",
    "        <td colspan=\"1\" style=\"text-align: center;border-right: 2px dotted black\">[ <i>d1</i> ; <i>d2</i> ]</td>\n",
    "        <td colspan=\"2\" style=\"text-align: center;border-right: 2px dotted black\">[ <i>d2</i> ; 4 - <i>d2</i>]</td>\n",
    "        <td colspan=\"1\" style=\"text-align: center;border-right: 2px dotted black\">[ 4 - <i>d2</i> ; 4 - <i>d1</i> ]</td>\n",
    "        <td colspan=\"1\" style=\"text-align: center;border-right: 2px dotted black\">[ 4 - <i>d1</i> ; 4 ]</td>\n",
    "    </tr>\n",
    "    <tr>\n",
    "        <td style=\"text-align: center ;border-right: 2px dotted black\">$\\rho > 0$</td>\n",
    "        <td rowspan=\"2\" style=\"text-align: center;border-right: 2px dotted black\">?</td>\n",
    "        <td colspan=\"2\" style=\"text-align: center;border-right: 2px dotted black\">$\\rho = 0$</td>\n",
    "        <td rowspan=\"2\" style=\"text-align: center;border-right: 2px dotted black\">?</td>\n",
    "        <td style=\"text-align: center\">$\\rho < 0$</td>\n",
    "    </tr>\n",
    "    <tr>\n",
    "        <td style=\"text-align: center ;border-right: 2px dotted black\">Rejet de $H_0$</td>\n",
    "        <td colspan=\"2\" style=\"text-align: center;border-right: 2px dotted black\">Non rejet de $H_0$</td>\n",
    "        <td style=\"text-align: center;border-right: 2px dotted black\">Rejet de $H_0$</td>\n",
    "    </tr>\n",
    "</table>"
   ]
  },
  {
   "cell_type": "markdown",
   "metadata": {},
   "source": [
    "<span style='line-height:1.5;font-size: 17px;font-family:\"Times New Roman\"'>\n",
    "\n",
    "<b>4.2.3 Test de Breusch-Godfrey </b>\n",
    "\n",
    "- Permet de déceler l'autocorrélation à des ordres supérieurs à 1\n",
    "- Le test se base sur le processus autorégressif d'ordre p (AR(p)) :\n",
    "\n",
    "$$ \\epsilon_t = \\phi_1\\epsilon_{t-1} + ... + \\phi_p\\epsilon_{t-p} + u_t$$ \n",
    "\n",
    "avec $v_t$ un bruit blanc. Le jeu d'hypothèses correspondant s'écrit :\n",
    "\n",
    "$$\\left\\{\n",
    "    \\begin{array}{ll}\n",
    "        H_0 : & \\phi_1 = ... = \\phi_p = 0 \\\\\n",
    "        H_1 : & \\phi_1 \\neq 0 \\quad ou \\quad ... \\quad ou \\quad \\phi_p \\neq 0\n",
    "    \\end{array}\n",
    "\\right.$$\n",
    "\n",
    "- La statistique de test est de type LM et égale à $BG=(T-p)R^2$, où $R^2$ est le coefficient de détermination de la régression auxiliaire : \n",
    "\n",
    "$$e_t = \\phi_1e_{t-1} + ... + \\phi_pe_{t-p} + \\\\\n",
    "\\alpha + \\beta_1X_{1,t}+ ... + \\beta_kX_{k,t} + u_t$$\n",
    "\n",
    "\n",
    "avec $e$ le résidu de la régression MCO sur le modèle initial. On a alors :\n",
    "\n",
    "$$BG \\sim \\chi^2_p$$\n",
    "\n",
    "Et enfin la règle de décision est donnée par :\n",
    "\n",
    "- $BG<\\chi_p^2$, l'hypothèse nulle d'absence d'autocorrélation n'est pas rejetée\n",
    "- $BG>\\chi_p^2$, l'hypothèse nulle d'absence d'autocorrélation est rejetée\n"
   ]
  },
  {
   "cell_type": "markdown",
   "metadata": {},
   "source": [
    "<span style='line-height:1.5;font-size: 17px;font-family:\"Times New Roman\"'>\n",
    "\n",
    "<br>\n",
    "\n",
    "## Procédure d'estimation en présence d'autocorrélation <font color='blue' size=\"1.5\"><i>[Plan du cours](#plan)</i></font><a id='p4.3'></a>\n",
    "\n",
    "<br>\n",
    "\n",
    "- Même remarques que pour l'hétéroscédasticité : \n",
    "    - autocorrélation $\\Rightarrow$ variance de l'estimateur non minimale\n",
    "    - variance non minimale $\\Rightarrow$ tests de significativité biaisé\n",
    "    - modèle non interprétable.\n",
    "- Il est donc important de corriger de l'autocorrélation\n",
    "\n",
    "<br>\n",
    "\n",
    "- Pour effectuer cette correction : même problème que pour l'homoscédasticité concernant les MCG\n",
    "- On préfèrera donc procéder à une correction du modèle en utilisant un estimateur de la matrice de variance-covariance des erreurs.\n",
    "- Nous avons vu que la correction de Newey-West permettait est aussi adaptée à la correction de modèles en présence d'autocorrélation : c'est donc la correction que nous utiliserons. \n"
   ]
  },
  {
   "cell_type": "markdown",
   "metadata": {},
   "source": [
    "<span style='line-height:1.5;font-size: 17px;font-family:\"Times New Roman\"'>\n",
    "\n",
    "<br>\n",
    "\n",
    "## Application <font color='blue' size=\"1.5\"><i>[Plan du cours](#plan)</i></font><a id='p4.4'></a>\n",
    "    \n",
    "<br>\n",
    "\n",
    "- On continue avec la même base de données.\n",
    "- Attention, normalement, l'étude de l'autocorrélation telles que nous en avons parlé ici : série temporelle (non coups instantanée)\n",
    "- Rappelons les résultats obtenus sans correction :"
   ]
  },
  {
   "cell_type": "code",
   "execution_count": 50,
   "metadata": {},
   "outputs": [
    {
     "name": "stdout",
     "output_type": "stream",
     "text": [
      "                            OLS Regression Results                            \n",
      "==============================================================================\n",
      "Dep. Variable:         OPERATING_ROAA   R-squared:                       0.102\n",
      "Model:                            OLS   Adj. R-squared:                  0.100\n",
      "Method:                 Least Squares   F-statistic:                     43.84\n",
      "Date:                Thu, 07 Oct 2021   Prob (F-statistic):           7.77e-27\n",
      "Time:                        03:22:39   Log-Likelihood:                -1607.0\n",
      "No. Observations:                1163   AIC:                             3222.\n",
      "Df Residuals:                    1159   BIC:                             3242.\n",
      "Df Model:                           3                                         \n",
      "Covariance Type:            nonrobust                                         \n",
      "=============================================================================================\n",
      "                                coef    std err          t      P>|t|      [0.025      0.975]\n",
      "---------------------------------------------------------------------------------------------\n",
      "const                         0.7342      0.137      5.368      0.000       0.466       1.003\n",
      "TOTAL_EQUITY_TOTAL_ASSETS     0.0409      0.004     10.173      0.000       0.033       0.049\n",
      "LA_to_TA                     -0.0115      0.002     -5.451      0.000      -0.016      -0.007\n",
      "NET_LOANS_TOTAL_ASSETS       -0.0008      0.002     -0.454      0.650      -0.004       0.003\n",
      "==============================================================================\n",
      "Omnibus:                      552.883   Durbin-Watson:                   1.730\n",
      "Prob(Omnibus):                  0.000   Jarque-Bera (JB):            18422.111\n",
      "Skew:                          -1.550   Prob(JB):                         0.00\n",
      "Kurtosis:                      22.250   Cond. No.                         306.\n",
      "==============================================================================\n",
      "\n",
      "Notes:\n",
      "[1] Standard Errors assume that the covariance matrix of the errors is correctly specified.\n"
     ]
    },
    {
     "name": "stderr",
     "output_type": "stream",
     "text": [
      "C:\\Anaconda3\\lib\\site-packages\\statsmodels\\tsa\\tsatools.py:142: FutureWarning: In a future version of pandas all arguments of concat except for the argument 'objs' will be keyword-only\n",
      "  x = pd.concat(x[::order], 1)\n"
     ]
    }
   ],
   "source": [
    "# on défini les matrices du modèle\n",
    "    # variables explicatives\n",
    "X = df[['TOTAL_EQUITY_TOTAL_ASSETS','LA_to_TA','NET_LOANS_TOTAL_ASSETS']]\n",
    "    # ajout de la constante\n",
    "X = sm.add_constant(X)\n",
    "\n",
    "    # variable explicative\n",
    "y = df['OPERATING_ROAA']\n",
    "\n",
    "\n",
    "# on défini  le modèle \n",
    "modele = sm.OLS(y,X)\n",
    "\n",
    "# on estime les paramètres du modèle\n",
    "resultats = modele.fit()\n",
    "\n",
    "# on affiche les résultats\n",
    "\n",
    "print(resultats.summary())"
   ]
  },
  {
   "cell_type": "code",
   "execution_count": 54,
   "metadata": {},
   "outputs": [
    {
     "data": {
      "text/plain": [
       "<matplotlib.collections.PathCollection at 0x18fb46218c8>"
      ]
     },
     "execution_count": 54,
     "metadata": {},
     "output_type": "execute_result"
    },
    {
     "data": {
      "image/png": "[encoded data removed]",
      "text/plain": [
       "<Figure size 432x288 with 1 Axes>"
      ]
     },
     "metadata": {
      "needs_background": "light"
     },
     "output_type": "display_data"
    }
   ],
   "source": [
    "residus = resultats.resid\n",
    "\n",
    "# évolution du résidu entre les banques\n",
    "plt.scatter(df.index,residus, s = 5)"
   ]
  },
  {
   "cell_type": "markdown",
   "metadata": {},
   "source": [
    "<span style='line-height:1.5;font-size: 17px;font-family:\"Times New Roman\"'>\n",
    "\n",
    "Nous menons les tests d'autocorréltion pour en vérifier la présence ou non :\n",
    "\n",
    "<br>"
   ]
  },
  {
   "cell_type": "code",
   "execution_count": null,
   "metadata": {},
   "outputs": [],
   "source": [
    "# test de Durbin Watson : DW = 1.730, observation = 1163 , d1 = 1.643, d2 = 1.704, 4-d2 = 2.3"
   ]
  },
  {
   "cell_type": "code",
   "execution_count": 57,
   "metadata": {},
   "outputs": [],
   "source": [
    "# fonction permettant de mener le test de Breusch-Godfrey\n",
    "from statsmodels.stats.diagnostic import acorr_breusch_godfrey "
   ]
  },
  {
   "cell_type": "code",
   "execution_count": 58,
   "metadata": {},
   "outputs": [
    {
     "name": "stdout",
     "output_type": "stream",
     "text": [
      "(107.28295414287791, 3.361172392794296e-13, 5.251954727622123, 7.312621823085942e-14)\n"
     ]
    },
    {
     "name": "stderr",
     "output_type": "stream",
     "text": [
      "C:\\Anaconda3\\lib\\site-packages\\statsmodels\\stats\\diagnostic.py:829: FutureWarning: The default value of nlags is changing.  After 0.12, this value will become min(10, nobs//5). Directly setnlags or period to silence this warning.\n",
      "  FutureWarning)\n"
     ]
    }
   ],
   "source": [
    "# on utilisa la fonction sur les resultst d'estimation\n",
    "bg = acorr_breusch_godfrey(resultats) \n",
    "print(bg)"
   ]
  },
  {
   "cell_type": "markdown",
   "metadata": {},
   "source": [
    "<span style='line-height:1.5;font-size: 17px;font-family:\"Times New Roman\"'>\n",
    "\n",
    "Dans la mesure où ce test est plus général que celui de DW, nous devons privilégier ces résultats de test. Nous considérons donc la présence d'autocorrélation et procédons à une correction de NW pour unes estimation robuste à la fois à l'autocorrélation, mais aussi à l'hétéroscédasticité.\n",
    "\n",
    "<br>"
   ]
  },
  {
   "cell_type": "code",
   "execution_count": null,
   "metadata": {},
   "outputs": [],
   "source": [
    "resultat_robust = resultats.get_robustcov_results(cov_type='HAC', maxlags=10)\n",
    "\n",
    "print(resultat_robust.summary())"
   ]
  }
 ],
 "metadata": {
  "kernelspec": {
   "display_name": "Python 3 (ipykernel)",
   "language": "python",
   "name": "python3"
  },
  "language_info": {
   "codemirror_mode": {
    "name": "ipython",
    "version": 3
   },
   "file_extension": ".py",
   "mimetype": "text/x-python",
   "name": "python",
   "nbconvert_exporter": "python",
   "pygments_lexer": "ipython3",
   "version": "3.11.4"
  },
  "toc": {
   "base_numbering": 1,
   "nav_menu": {},
   "number_sections": true,
   "sideBar": true,
   "skip_h1_title": false,
   "title_cell": "Table of Contents",
   "title_sidebar": "Contents",
   "toc_cell": false,
   "toc_position": {
    "height": "calc(100% - 180px)",
    "left": "10px",
    "top": "150px",
    "width": "384px"
   },
   "toc_section_display": true,
   "toc_window_display": true
  },
  "varInspector": {
   "cols": {
    "lenName": 16,
    "lenType": 16,
    "lenVar": 40
   },
   "kernels_config": {
    "python": {
     "delete_cmd_postfix": "",
     "delete_cmd_prefix": "del ",
     "library": "var_list.py",
     "varRefreshCmd": "print(var_dic_list())"
    },
    "r": {
     "delete_cmd_postfix": ") ",
     "delete_cmd_prefix": "rm(",
     "library": "var_list.r",
     "varRefreshCmd": "cat(var_dic_list()) "
    }
   },
   "types_to_exclude": [
    "module",
    "function",
    "builtin_function_or_method",
    "instance",
    "_Feature"
   ],
   "window_display": false
  }
 },
 "nbformat": 4,
 "nbformat_minor": 2
}
