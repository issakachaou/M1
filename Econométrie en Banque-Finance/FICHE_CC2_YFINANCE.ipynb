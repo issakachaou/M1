{
 "cells": [
  {
   "cell_type": "markdown",
   "id": "d7f90bc7",
   "metadata": {},
   "source": [
    "<span style='line-height:1.5;font-size: 17px;font-family:\"Times New Roman\"'>\n",
    "\n",
    "# Fiche CC2 : Application du principe de stationnarité à des bases Yahoo Finance\n",
    "\n",
    "## Importation de packages"
   ]
  },
  {
   "cell_type": "code",
   "execution_count": 1,
   "id": "57c0d854",
   "metadata": {},
   "outputs": [],
   "source": [
    "import yfinance as yf\n",
    "import numpy as np\n",
    "import scipy as sp\n",
    "import statsmodels.tsa.api as smt\n",
    "import statsmodels.api as sm\n",
    "import scipy.stats as scs\n",
    "from statsmodels.tsa.arima_process import ArmaProcess\n",
    "from statsmodels.graphics.tsaplots import plot_acf, plot_pacf\n",
    "\n",
    "from statsmodels.tsa.stattools import adfuller, kpss, acf, acovf, pacf\n",
    "\n",
    "\n",
    "from statsmodels.stats.diagnostic import acorr_ljungbox, het_arch\n",
    "from statsmodels.tools.eval_measures import rmse, meanabs\n",
    "\n",
    "import seaborn as sns\n",
    "from statsmodels.stats.diagnostic import het_arch\n",
    "from sklearn.metrics import mean_squared_error, mean_absolute_error\n",
    "import pandas as pd\n",
    "import datetime as dt\n",
    "import matplotlib.pyplot as plt\n",
    "from statsmodels.graphics.tsaplots import plot_acf\n",
    "from statsmodels.graphics.tsaplots import plot_pacf"
   ]
  },
  {
   "cell_type": "markdown",
   "id": "ce8cef43",
   "metadata": {},
   "source": [
    "<span style='line-height:1.5;font-size: 17px;font-family:\"Times New Roman\"'>\n",
    "\n",
    "## Importation des données"
   ]
  },
  {
   "cell_type": "code",
   "execution_count": 2,
   "id": "e50cac78",
   "metadata": {},
   "outputs": [
    {
     "name": "stdout",
     "output_type": "stream",
     "text": [
      "YF.download() has changed argument auto_adjust default to True\n"
     ]
    },
    {
     "name": "stderr",
     "output_type": "stream",
     "text": [
      "[*********************100%***********************]  2 of 2 completed\n",
      "[*********************100%***********************]  2 of 2 completed\n"
     ]
    },
    {
     "ename": "KeyError",
     "evalue": "'Adj Close'",
     "output_type": "error",
     "traceback": [
      "\u001b[1;31m---------------------------------------------------------------------------\u001b[0m",
      "\u001b[1;31mKeyError\u001b[0m                                  Traceback (most recent call last)",
      "File \u001b[1;32mC:\\ProgramData\\anaconda3\\Lib\\site-packages\\pandas\\core\\indexes\\base.py:3805\u001b[0m, in \u001b[0;36mIndex.get_loc\u001b[1;34m(self, key)\u001b[0m\n\u001b[0;32m   3804\u001b[0m \u001b[38;5;28;01mtry\u001b[39;00m:\n\u001b[1;32m-> 3805\u001b[0m     \u001b[38;5;28;01mreturn\u001b[39;00m \u001b[38;5;28mself\u001b[39m\u001b[38;5;241m.\u001b[39m_engine\u001b[38;5;241m.\u001b[39mget_loc(casted_key)\n\u001b[0;32m   3806\u001b[0m \u001b[38;5;28;01mexcept\u001b[39;00m \u001b[38;5;167;01mKeyError\u001b[39;00m \u001b[38;5;28;01mas\u001b[39;00m err:\n",
      "File \u001b[1;32mindex.pyx:167\u001b[0m, in \u001b[0;36mpandas._libs.index.IndexEngine.get_loc\u001b[1;34m()\u001b[0m\n",
      "File \u001b[1;32mindex.pyx:196\u001b[0m, in \u001b[0;36mpandas._libs.index.IndexEngine.get_loc\u001b[1;34m()\u001b[0m\n",
      "File \u001b[1;32mpandas\\\\_libs\\\\hashtable_class_helper.pxi:7081\u001b[0m, in \u001b[0;36mpandas._libs.hashtable.PyObjectHashTable.get_item\u001b[1;34m()\u001b[0m\n",
      "File \u001b[1;32mpandas\\\\_libs\\\\hashtable_class_helper.pxi:7089\u001b[0m, in \u001b[0;36mpandas._libs.hashtable.PyObjectHashTable.get_item\u001b[1;34m()\u001b[0m\n",
      "\u001b[1;31mKeyError\u001b[0m: 'Adj Close'",
      "\nThe above exception was the direct cause of the following exception:\n",
      "\u001b[1;31mKeyError\u001b[0m                                  Traceback (most recent call last)",
      "Cell \u001b[1;32mIn[2], line 6\u001b[0m\n\u001b[0;32m      2\u001b[0m data \u001b[38;5;241m=\u001b[39m yf\u001b[38;5;241m.\u001b[39mdownload(tickers, start\u001b[38;5;241m=\u001b[39m\u001b[38;5;124m\"\u001b[39m\u001b[38;5;124m2024-01-01\u001b[39m\u001b[38;5;124m\"\u001b[39m, end\u001b[38;5;241m=\u001b[39m\u001b[38;5;124m\"\u001b[39m\u001b[38;5;124m2024-11-27\u001b[39m\u001b[38;5;124m\"\u001b[39m) \n\u001b[0;32m      4\u001b[0m     \u001b[38;5;66;03m# Cette instruction permet d'avoir les dates en index plutot que le simple numéro d'observation\u001b[39;00m\n\u001b[1;32m----> 6\u001b[0m data \u001b[38;5;241m=\u001b[39m yf\u001b[38;5;241m.\u001b[39mdownload(tickers, start\u001b[38;5;241m=\u001b[39m\u001b[38;5;124m\"\u001b[39m\u001b[38;5;124m2023-01-01\u001b[39m\u001b[38;5;124m\"\u001b[39m, end\u001b[38;5;241m=\u001b[39m\u001b[38;5;124m\"\u001b[39m\u001b[38;5;124m2023-12-31\u001b[39m\u001b[38;5;124m\"\u001b[39m)[\u001b[38;5;124m\"\u001b[39m\u001b[38;5;124mAdj Close\u001b[39m\u001b[38;5;124m\"\u001b[39m]\n\u001b[0;32m      8\u001b[0m \u001b[38;5;66;03m# Renommer les colonnes\u001b[39;00m\n\u001b[0;32m      9\u001b[0m \u001b[38;5;66;03m# nouveaux_noms = {\"AAPL\": \"Apple\", \"MSFT\": \"Microsoft\", \"GOOG\": \"Alphabet\"}\u001b[39;00m\n\u001b[0;32m     10\u001b[0m \u001b[38;5;66;03m# data.rename(columns=nouveaux_noms, inplace=True)\u001b[39;00m\n\u001b[0;32m     12\u001b[0m nouveaux_noms \u001b[38;5;241m=\u001b[39m {\u001b[38;5;124m\"\u001b[39m\u001b[38;5;124mNVDA\u001b[39m\u001b[38;5;124m\"\u001b[39m: \u001b[38;5;124m\"\u001b[39m\u001b[38;5;124mNvidia\u001b[39m\u001b[38;5;124m\"\u001b[39m,\u001b[38;5;124m\"\u001b[39m\u001b[38;5;124mAAPL\u001b[39m\u001b[38;5;124m\"\u001b[39m: \u001b[38;5;124m\"\u001b[39m\u001b[38;5;124mApple\u001b[39m\u001b[38;5;124m\"\u001b[39m}\n",
      "File \u001b[1;32mC:\\ProgramData\\anaconda3\\Lib\\site-packages\\pandas\\core\\frame.py:4101\u001b[0m, in \u001b[0;36mDataFrame.__getitem__\u001b[1;34m(self, key)\u001b[0m\n\u001b[0;32m   4099\u001b[0m \u001b[38;5;28;01mif\u001b[39;00m is_single_key:\n\u001b[0;32m   4100\u001b[0m     \u001b[38;5;28;01mif\u001b[39;00m \u001b[38;5;28mself\u001b[39m\u001b[38;5;241m.\u001b[39mcolumns\u001b[38;5;241m.\u001b[39mnlevels \u001b[38;5;241m>\u001b[39m \u001b[38;5;241m1\u001b[39m:\n\u001b[1;32m-> 4101\u001b[0m         \u001b[38;5;28;01mreturn\u001b[39;00m \u001b[38;5;28mself\u001b[39m\u001b[38;5;241m.\u001b[39m_getitem_multilevel(key)\n\u001b[0;32m   4102\u001b[0m     indexer \u001b[38;5;241m=\u001b[39m \u001b[38;5;28mself\u001b[39m\u001b[38;5;241m.\u001b[39mcolumns\u001b[38;5;241m.\u001b[39mget_loc(key)\n\u001b[0;32m   4103\u001b[0m     \u001b[38;5;28;01mif\u001b[39;00m is_integer(indexer):\n",
      "File \u001b[1;32mC:\\ProgramData\\anaconda3\\Lib\\site-packages\\pandas\\core\\frame.py:4159\u001b[0m, in \u001b[0;36mDataFrame._getitem_multilevel\u001b[1;34m(self, key)\u001b[0m\n\u001b[0;32m   4157\u001b[0m \u001b[38;5;28;01mdef\u001b[39;00m \u001b[38;5;21m_getitem_multilevel\u001b[39m(\u001b[38;5;28mself\u001b[39m, key):\n\u001b[0;32m   4158\u001b[0m     \u001b[38;5;66;03m# self.columns is a MultiIndex\u001b[39;00m\n\u001b[1;32m-> 4159\u001b[0m     loc \u001b[38;5;241m=\u001b[39m \u001b[38;5;28mself\u001b[39m\u001b[38;5;241m.\u001b[39mcolumns\u001b[38;5;241m.\u001b[39mget_loc(key)\n\u001b[0;32m   4160\u001b[0m     \u001b[38;5;28;01mif\u001b[39;00m \u001b[38;5;28misinstance\u001b[39m(loc, (\u001b[38;5;28mslice\u001b[39m, np\u001b[38;5;241m.\u001b[39mndarray)):\n\u001b[0;32m   4161\u001b[0m         new_columns \u001b[38;5;241m=\u001b[39m \u001b[38;5;28mself\u001b[39m\u001b[38;5;241m.\u001b[39mcolumns[loc]\n",
      "File \u001b[1;32mC:\\ProgramData\\anaconda3\\Lib\\site-packages\\pandas\\core\\indexes\\multi.py:3040\u001b[0m, in \u001b[0;36mMultiIndex.get_loc\u001b[1;34m(self, key)\u001b[0m\n\u001b[0;32m   3037\u001b[0m     \u001b[38;5;28;01mreturn\u001b[39;00m mask\n\u001b[0;32m   3039\u001b[0m \u001b[38;5;28;01mif\u001b[39;00m \u001b[38;5;129;01mnot\u001b[39;00m \u001b[38;5;28misinstance\u001b[39m(key, \u001b[38;5;28mtuple\u001b[39m):\n\u001b[1;32m-> 3040\u001b[0m     loc \u001b[38;5;241m=\u001b[39m \u001b[38;5;28mself\u001b[39m\u001b[38;5;241m.\u001b[39m_get_level_indexer(key, level\u001b[38;5;241m=\u001b[39m\u001b[38;5;241m0\u001b[39m)\n\u001b[0;32m   3041\u001b[0m     \u001b[38;5;28;01mreturn\u001b[39;00m _maybe_to_slice(loc)\n\u001b[0;32m   3043\u001b[0m keylen \u001b[38;5;241m=\u001b[39m \u001b[38;5;28mlen\u001b[39m(key)\n",
      "File \u001b[1;32mC:\\ProgramData\\anaconda3\\Lib\\site-packages\\pandas\\core\\indexes\\multi.py:3391\u001b[0m, in \u001b[0;36mMultiIndex._get_level_indexer\u001b[1;34m(self, key, level, indexer)\u001b[0m\n\u001b[0;32m   3388\u001b[0m         \u001b[38;5;28;01mreturn\u001b[39;00m \u001b[38;5;28mslice\u001b[39m(i, j, step)\n\u001b[0;32m   3390\u001b[0m \u001b[38;5;28;01melse\u001b[39;00m:\n\u001b[1;32m-> 3391\u001b[0m     idx \u001b[38;5;241m=\u001b[39m \u001b[38;5;28mself\u001b[39m\u001b[38;5;241m.\u001b[39m_get_loc_single_level_index(level_index, key)\n\u001b[0;32m   3393\u001b[0m     \u001b[38;5;28;01mif\u001b[39;00m level \u001b[38;5;241m>\u001b[39m \u001b[38;5;241m0\u001b[39m \u001b[38;5;129;01mor\u001b[39;00m \u001b[38;5;28mself\u001b[39m\u001b[38;5;241m.\u001b[39m_lexsort_depth \u001b[38;5;241m==\u001b[39m \u001b[38;5;241m0\u001b[39m:\n\u001b[0;32m   3394\u001b[0m         \u001b[38;5;66;03m# Desired level is not sorted\u001b[39;00m\n\u001b[0;32m   3395\u001b[0m         \u001b[38;5;28;01mif\u001b[39;00m \u001b[38;5;28misinstance\u001b[39m(idx, \u001b[38;5;28mslice\u001b[39m):\n\u001b[0;32m   3396\u001b[0m             \u001b[38;5;66;03m# test_get_loc_partial_timestamp_multiindex\u001b[39;00m\n",
      "File \u001b[1;32mC:\\ProgramData\\anaconda3\\Lib\\site-packages\\pandas\\core\\indexes\\multi.py:2980\u001b[0m, in \u001b[0;36mMultiIndex._get_loc_single_level_index\u001b[1;34m(self, level_index, key)\u001b[0m\n\u001b[0;32m   2978\u001b[0m     \u001b[38;5;28;01mreturn\u001b[39;00m \u001b[38;5;241m-\u001b[39m\u001b[38;5;241m1\u001b[39m\n\u001b[0;32m   2979\u001b[0m \u001b[38;5;28;01melse\u001b[39;00m:\n\u001b[1;32m-> 2980\u001b[0m     \u001b[38;5;28;01mreturn\u001b[39;00m level_index\u001b[38;5;241m.\u001b[39mget_loc(key)\n",
      "File \u001b[1;32mC:\\ProgramData\\anaconda3\\Lib\\site-packages\\pandas\\core\\indexes\\base.py:3812\u001b[0m, in \u001b[0;36mIndex.get_loc\u001b[1;34m(self, key)\u001b[0m\n\u001b[0;32m   3807\u001b[0m     \u001b[38;5;28;01mif\u001b[39;00m \u001b[38;5;28misinstance\u001b[39m(casted_key, \u001b[38;5;28mslice\u001b[39m) \u001b[38;5;129;01mor\u001b[39;00m (\n\u001b[0;32m   3808\u001b[0m         \u001b[38;5;28misinstance\u001b[39m(casted_key, abc\u001b[38;5;241m.\u001b[39mIterable)\n\u001b[0;32m   3809\u001b[0m         \u001b[38;5;129;01mand\u001b[39;00m \u001b[38;5;28many\u001b[39m(\u001b[38;5;28misinstance\u001b[39m(x, \u001b[38;5;28mslice\u001b[39m) \u001b[38;5;28;01mfor\u001b[39;00m x \u001b[38;5;129;01min\u001b[39;00m casted_key)\n\u001b[0;32m   3810\u001b[0m     ):\n\u001b[0;32m   3811\u001b[0m         \u001b[38;5;28;01mraise\u001b[39;00m InvalidIndexError(key)\n\u001b[1;32m-> 3812\u001b[0m     \u001b[38;5;28;01mraise\u001b[39;00m \u001b[38;5;167;01mKeyError\u001b[39;00m(key) \u001b[38;5;28;01mfrom\u001b[39;00m \u001b[38;5;21;01merr\u001b[39;00m\n\u001b[0;32m   3813\u001b[0m \u001b[38;5;28;01mexcept\u001b[39;00m \u001b[38;5;167;01mTypeError\u001b[39;00m:\n\u001b[0;32m   3814\u001b[0m     \u001b[38;5;66;03m# If we have a listlike key, _check_indexing_error will raise\u001b[39;00m\n\u001b[0;32m   3815\u001b[0m     \u001b[38;5;66;03m#  InvalidIndexError. Otherwise we fall through and re-raise\u001b[39;00m\n\u001b[0;32m   3816\u001b[0m     \u001b[38;5;66;03m#  the TypeError.\u001b[39;00m\n\u001b[0;32m   3817\u001b[0m     \u001b[38;5;28mself\u001b[39m\u001b[38;5;241m.\u001b[39m_check_indexing_error(key)\n",
      "\u001b[1;31mKeyError\u001b[0m: 'Adj Close'"
     ]
    }
   ],
   "source": [
    "tickers = ['NVDA','AAPL']\n",
    "data = yf.download(tickers, start=\"2024-01-01\", end=\"2024-11-27\") \n",
    "\n",
    "    # Cette instruction permet d'avoir les dates en index plutot que le simple numéro d'observation\n",
    "    \n",
    "data = yf.download(tickers, start=\"2023-01-01\", end=\"2023-12-31\")[\"Adj Close\"]\n",
    "\n",
    "# Renommer les colonnes\n",
    "# nouveaux_noms = {\"AAPL\": \"Apple\", \"MSFT\": \"Microsoft\", \"GOOG\": \"Alphabet\"}\n",
    "# data.rename(columns=nouveaux_noms, inplace=True)\n",
    "\n",
    "nouveaux_noms = {\"NVDA\": \"Nvidia\",\"AAPL\": \"Apple\"}\n",
    "data.rename(columns= nouveaux_noms, inplace = True)\n",
    "\n",
    "data.index = pd.to_datetime(data.index)"
   ]
  },
  {
   "cell_type": "raw",
   "id": "ddfa3228",
   "metadata": {},
   "source": [
    "## Création de dummy\n",
    "\n",
    "l_crisis = []\n",
    "date_crisis = [\"2007-07-01\",\"2007-08-01\",\"2007-09-01\",\"2007-10-01\",\"2007-11-01\",\"2007-12-01\"]\n",
    "for i in df.date : \n",
    "    if i in date_crisis :\n",
    "        l_crisis.append(1)\n",
    "    else : \n",
    "        l_crisis.append(0)\n",
    "\n",
    "        \n",
    "        \n",
    "l_covid = []\n",
    "date_covid = [\"2020-01-01\",\"2020-02-01\",\"2020-03-01\",\"2020-04-01\",\"2020-05-01\",\"2020-06-01\"]\n",
    "for i in df.date : \n",
    "    if i in date_covid :\n",
    "        l_covid.append(1)\n",
    "    else : \n",
    "        l_covid.append(0) \n",
    "        \n",
    "df[\"d_crisis\"] = l_crisis\n",
    "df[\"d_covid\"] = l_covid"
   ]
  },
  {
   "cell_type": "code",
   "execution_count": null,
   "id": "0e0b34db",
   "metadata": {
    "scrolled": true
   },
   "outputs": [],
   "source": [
    "    # Histoire de visualiser la base\n",
    "\n",
    "print(data.head())\n",
    "\n",
    "    # Histoire de savoir les noms des différentes colonnes\n",
    "    \n",
    "print(data.columns)\n"
   ]
  },
  {
   "cell_type": "code",
   "execution_count": null,
   "id": "680c527d",
   "metadata": {
    "scrolled": true
   },
   "outputs": [],
   "source": [
    "    # Création d'une série avec juste les close ajustés sur lesquels on va travailler\n",
    "douns = data[['Apple']]\n",
    "\n",
    "    # Histoire de visualiser la base\n",
    "    \n",
    "print(douns.head())\n",
    "\n",
    "    # Histoire de savoir le nombre d'observation\n",
    "\n",
    "print(douns.shape)"
   ]
  },
  {
   "cell_type": "code",
   "execution_count": null,
   "id": "fc6d3a81",
   "metadata": {},
   "outputs": [],
   "source": [
    "    # Histoire de savoir les noms des différentes colonnes\n",
    "print(douns.columns)"
   ]
  },
  {
   "cell_type": "markdown",
   "id": "be34b7d7",
   "metadata": {},
   "source": [
    "<span style='line-height:1.5;font-size: 17px;font-family:\"Times New Roman\"'>\n",
    "\n",
    "## Graphiques"
   ]
  },
  {
   "cell_type": "code",
   "execution_count": null,
   "id": "0fb9690a",
   "metadata": {
    "scrolled": true
   },
   "outputs": [],
   "source": [
    "# graphique 1\n",
    "plt.rcParams['figure.figsize'] = (20,10)\n",
    "douns.plot()\n",
    "plt.show()"
   ]
  },
  {
   "cell_type": "markdown",
   "id": "ef352249",
   "metadata": {},
   "source": [
    "<span style='line-height:1.5;font-size: 17px;font-family:\"Times New Roman\"'>\n",
    "\n",
    "Graphique d'évolution du NIVEAU de prix de l'actif Nvidia. On constate que la série ne semble pas stationnaire : plusieurs tendances locales, la variance et la moyenne ne semblent pas constante dans le temps, une structure visibelement autocorrélée, on peut pensé à  une marche aléatoire."
   ]
  },
  {
   "cell_type": "code",
   "execution_count": null,
   "id": "86763416",
   "metadata": {},
   "outputs": [],
   "source": [
    "    # Création d'un dataframe douns_2 a partir des close ajustée de douns \n",
    "\n",
    "douns_2 = douns[[('Adj Close')]]\n",
    "\n",
    "    # Histoire de visualiser la base\n",
    "\n",
    "douns_2.head()"
   ]
  },
  {
   "cell_type": "code",
   "execution_count": null,
   "id": "d67b0301",
   "metadata": {
    "scrolled": true
   },
   "outputs": [],
   "source": [
    "    # Graphique du corrélogramme\n",
    "    # Choix de la taille du graphique, généralement on touche pas trop\n",
    "\n",
    "plt.rcParams['figure.figsize'] = (20,10)\n",
    "\n",
    "    # Dans lags on  met chiffre de sorte a le moment où l'autocorrelation s'annule\n",
    "\n",
    "plot_acf(douns_2[('Adj Close')], lags=30)\n",
    "\n",
    "    # Affichage du graphique\n",
    "\n",
    "plt.show()"
   ]
  },
  {
   "cell_type": "markdown",
   "id": "4eb92667",
   "metadata": {},
   "source": [
    "<span style='line-height:1.5;font-size: 17px;font-family:\"Times New Roman\"'>\n",
    "\n",
    "Autocorrélogramme : permet de voir la structure autorégressive (de long terme) des séries   \n",
    "    \n",
    "On soupçonne de la grosse autocorrélation. Ici on peut voir (à peu près) un processus autoregressif d'ordre 18 ce qui signifie que ce qui se passe aujourd'hui est influencer par les 18 périodes antérieur, ici on travaille sur une action donc 18 jours"
   ]
  },
  {
   "cell_type": "code",
   "execution_count": null,
   "id": "334c3d0d",
   "metadata": {},
   "outputs": [],
   "source": [
    "    # Pareil pour le graphique d'autocorrélation partielle\n",
    "\n",
    "plt.rcParams['figure.figsize'] = (20,10)\n",
    "\n",
    "plot_pacf(douns_2[('Adj Close')], lags=30)\n",
    "plt.show()"
   ]
  },
  {
   "cell_type": "markdown",
   "id": "2ff863d2",
   "metadata": {},
   "source": [
    "<span style='line-height:1.5;font-size: 17px;font-family:\"Times New Roman\"'>\n",
    "Autocorrélations partielles : permet de voir l'autocorrélation entre deux périodes après avoir purgé l'effet des autres périodes\n",
    "    \n",
    "Il mesure le degré d'autocorrélation. On ne prend jamais en compte le premier point qui représente le processus autoregressif d'ordre 0. Cela confirme l'idée de marche aléatoire puisque lorsque l'on retire l'effet des autres périodes, la seule autocorrélation partielle significative est celle à l'ordre 1. "
   ]
  },
  {
   "cell_type": "code",
   "execution_count": null,
   "id": "365fb188",
   "metadata": {},
   "outputs": [],
   "source": [
    "    # Importation du package nécessaire pour faire un test ADF \n",
    "\n",
    "from statsmodels.tsa.stattools import adfuller"
   ]
  },
  {
   "cell_type": "markdown",
   "id": "42e1b27b",
   "metadata": {},
   "source": [
    "<span style='line-height:1.5;font-size: 17px;font-family:\"Times New Roman\"'>\n",
    "\n",
    "## Procédure du Test ADF\n",
    "    \n",
    "   - $H_0$ : la série est non-stationnaire, c a d qu'elle contient au moins une racine unitaire\n",
    "   - $H_1$ : la série est stationnaire, c a d qu'elle ne comporte pas de racine unitaire\n",
    "\n",
    "Ainsi, contrairement aux règles de décisions habituelles pour les tests bilatéraux, la règle est inversée :\n",
    "\n",
    "   - $stat_{test} < stat_{table}$ on ne rejette pas $H_0$ : la tendance/constante n'est pas significativement différente de 0 (non-stationnaire)\n",
    "    \n",
    "   - $stat_{test} > stat_{table}$ on rejette $H_0$: la tendance/constante est pas significativement différente de 0 (stationnaire)"
   ]
  },
  {
   "cell_type": "markdown",
   "id": "e0894c49",
   "metadata": {},
   "source": [
    "<span style='line-height:1.5;font-size: 17px;font-family:\"Times New Roman\"'>\n",
    "\n",
    "\n",
    "\n",
    "- Valeurs critiques de la constante et de la tendance dans le test de Dickey-Fuller\n",
    "\n",
    "<table>\n",
    "    <col width=\"50\">\n",
    "    <col width=\"70\">\n",
    "    <col width=\"70\">\n",
    "    <col width=\"70\">\n",
    "    <col width=\"70\">\n",
    "    <col width=\"70\">\n",
    "    <col width=\"70\">\n",
    "    <col width=\"70\">\n",
    "    <col width=\"70\">\n",
    "    <col width=\"70\">\n",
    "    <tr>\n",
    "        <td colspan=\"1\" style=\"text-align: center;border-right: 2px solid black\"></td>\n",
    "        <td colspan=\"3\" style=\"text-align: center;border-right: 2px solid black\"><i>Modèle [2]</i></td>\n",
    "        <td colspan=\"6\" style=\"text-align: center;border-right: 2px solid black\"><i>Modèle [3]</i></td>\n",
    "    </tr>\n",
    "    <tr>\n",
    "        <td colspan=\"1\" style=\"text-align: center;border-right: 2px solid black\"></td>\n",
    "        <td colspan=\"3\" style=\"text-align: center;border-right: 2px solid black\">Constante</td>\n",
    "        <td colspan=\"3\" style=\"text-align: center;border-right: 2px solid black\">Constante</td>\n",
    "        <td colspan=\"3\" style=\"text-align: center;border-right: 2px solid black\">Trend</td>\n",
    "    </tr>\n",
    "    <tr style=\"text-align: center;border-bottom: 2px solid black\">\n",
    "        <td style=\"text-align: center;border-right: 2px solid black\">T</td>\n",
    "        <td style=\"text-align: center;border-right: 2px dotted black\">1%</td>\n",
    "        <td style=\"text-align: center;border-right: 2px dotted black\">5%</td>\n",
    "        <td style=\"text-align: center;border-right: 2px solid black\">10%</td>\n",
    "        <td style=\"text-align: center;border-right: 2px dotted black\">1%</td>\n",
    "        <td style=\"text-align: center;border-right: 2px dotted black\">5%</td>\n",
    "        <td style=\"text-align: center;border-right: 2px solid black\">10%</td>\n",
    "        <td style=\"text-align: center;border-right: 2px dotted black\">1%</td>\n",
    "        <td style=\"text-align: center;border-right: 2px dotted black\">5%</td>\n",
    "        <td style=\"text-align: center;border-right: 2px solid black\">10%</td>\n",
    "    </tr>\n",
    "    <tr>\n",
    "        <td style=\"text-align: center;border-right: 2px solid black\">100</td>\n",
    "        <td style=\"text-align: center;border-right: 2px dotted black\">3.22</td>\n",
    "        <td style=\"text-align: center;border-right: 2px dotted black\">2.54</td>\n",
    "        <td style=\"text-align: center;border-right: 2px solid black\">2.17</td>\n",
    "        <td style=\"text-align: center;border-right: 2px dotted black\">3.78</td>\n",
    "        <td style=\"text-align: center;border-right: 2px dotted black\">3.11</td>\n",
    "        <td style=\"text-align: center;border-right: 2px solid black\">2.73</td>\n",
    "        <td style=\"text-align: center;border-right: 2px dotted black\">3.53</td>\n",
    "        <td style=\"text-align: center;border-right: 2px dotted black\">2.79</td>\n",
    "        <td style=\"text-align: center;border-right: 2px solid black\">2.38</td>\n",
    "    </tr>\n",
    "    <tr>\n",
    "        <td style=\"text-align: center;border-right: 2px solid black\">250</td>\n",
    "        <td style=\"text-align: center;border-right: 2px dotted black\">3.19</td>\n",
    "        <td style=\"text-align: center;border-right: 2px dotted black\">2.53</td>\n",
    "        <td style=\"text-align: center;border-right: 2px solid black\">2.16</td>\n",
    "        <td style=\"text-align: center;border-right: 2px dotted black\">3.74</td>\n",
    "        <td style=\"text-align: center;border-right: 2px dotted black\">3.09</td>\n",
    "        <td style=\"text-align: center;border-right: 2px solid black\">2.73</td>\n",
    "        <td style=\"text-align: center;border-right: 2px dotted black\">3.49</td>\n",
    "        <td style=\"text-align: center;border-right: 2px dotted black\">2.79</td>\n",
    "        <td style=\"text-align: center;border-right: 2px solid black\">2.38</td>\n",
    "    </tr>\n",
    "    <tr>\n",
    "        <td style=\"text-align: center;border-right: 2px solid black\">500</td>\n",
    "        <td style=\"text-align: center;border-right: 2px dotted black\">3.18</td>\n",
    "        <td style=\"text-align: center;border-right: 2px dotted black\">2.52</td>\n",
    "        <td style=\"text-align: center;border-right: 2px solid black\">2.16</td>\n",
    "        <td style=\"text-align: center;border-right: 2px dotted black\">3.72</td>\n",
    "        <td style=\"text-align: center;border-right: 2px dotted black\">3.08</td>\n",
    "        <td style=\"text-align: center;border-right: 2px solid black\">2.72</td>\n",
    "        <td style=\"text-align: center;border-right: 2px dotted black\">3.48</td>\n",
    "        <td style=\"text-align: center;border-right: 2px dotted black\">2.78</td>\n",
    "        <td style=\"text-align: center;border-right: 2px solid black\">2.38</td>\n",
    "    </tr>\n",
    "    <tr>\n",
    "        <td style=\"text-align: center;border-right: 2px solid black\">$\\infty$</td>\n",
    "        <td style=\"text-align: center;border-right: 2px dotted black\">3.18</td>\n",
    "        <td style=\"text-align: center;border-right: 2px dotted black\">2.52</td>\n",
    "        <td style=\"text-align: center;border-right: 2px solid black\">2.16</td>\n",
    "        <td style=\"text-align: center;border-right: 2px dotted black\">3.71</td>\n",
    "        <td style=\"text-align: center;border-right: 2px dotted black\">3.08</td>\n",
    "        <td style=\"text-align: center;border-right: 2px solid black\">2.72</td>\n",
    "        <td style=\"text-align: center;border-right: 2px dotted black\">3.46</td>\n",
    "        <td style=\"text-align: center;border-right: 2px dotted black\">2.78</td>\n",
    "        <td style=\"text-align: center;border-right: 2px solid black\">2.38</td>\n",
    "    </tr>\n",
    "</table>\n",
    "</span>"
   ]
  },
  {
   "cell_type": "code",
   "execution_count": null,
   "id": "2883f301",
   "metadata": {},
   "outputs": [],
   "source": [
    "    # Modèle constante & tendance 'ct'\n",
    "\n",
    "adf1 = adfuller(douns_2[('Adj Close')], regression='ct', autolag='AIC', regresults=True)\n",
    "\n",
    "    # Affichage des résultats\n",
    "    \n",
    "adf1[3].resols.summary()"
   ]
  },
  {
   "cell_type": "markdown",
   "id": "8baf5d82",
   "metadata": {},
   "source": [
    "<span style='line-height:1.5;font-size: 17px;font-family:\"Times New Roman\"'>\n",
    "$stat_{test} = 2.183 < stat_{table}=2.79$ on ne rejette pas $H_0$ : la tendance n'est pas significativement différente de 0 (non-stationnaire)"
   ]
  },
  {
   "cell_type": "code",
   "execution_count": null,
   "id": "e7c3ee24",
   "metadata": {},
   "outputs": [],
   "source": [
    "    # Modèle constante 'c'\n",
    "    \n",
    "adf1 = adfuller(douns_2[('Adj Close')], regression='c', autolag='AIC', regresults=True)\n",
    "\n",
    "    # Affichage des résultats\n",
    "\n",
    "adf1[3].resols.summary()"
   ]
  },
  {
   "cell_type": "markdown",
   "id": "b6fd16cf",
   "metadata": {},
   "source": [
    "<span style='line-height:1.5;font-size: 17px;font-family:\"Times New Roman\"'>\n",
    "$stat_{test} = 2.225 < stat_{table}=2.53$ on ne rejette pas $H_0$ : la constante n'est pas significativement différente de 0 (non-stationnaire)"
   ]
  },
  {
   "cell_type": "code",
   "execution_count": null,
   "id": "b48b18da",
   "metadata": {},
   "outputs": [],
   "source": [
    "    # Modèle sans constante ni tendance 'n'\n",
    "\n",
    "adf1 = adfuller(douns_2[('Adj Close')], regression='n', autolag='AIC', regresults=True)\n",
    "\n",
    "    # Affichage des résultats\n",
    "\n",
    "adf1"
   ]
  },
  {
   "cell_type": "markdown",
   "id": "72e0e039",
   "metadata": {},
   "source": [
    "<span style='line-height:1.5;font-size: 17px;font-family:\"Times New Roman\"'>\n",
    "$stat_{test_1chiffre} = 1.322 > stat_{table}=-1.942$ on ne rejette pas $H_0$ la série est non stationnaire de type stochastique"
   ]
  },
  {
   "cell_type": "markdown",
   "id": "9e68b31f",
   "metadata": {},
   "source": [
    "<span style='line-height:1.5;font-size: 17px;font-family:\"Times New Roman\"'>\n",
    "\n",
    "## Transformation de la variable et vérification de stationnarité"
   ]
  },
  {
   "cell_type": "code",
   "execution_count": null,
   "id": "900a7276",
   "metadata": {
    "scrolled": true
   },
   "outputs": [],
   "source": [
    "    # taux de croissance de NVDA\n",
    "\n",
    "douns_2[\"rNVDA\"] = 100 * ( douns_2[('Adj Close')]/douns_2[('Adj Close')].shift(1) - 1 )\n",
    "\n",
    "    # on enlève les NA\n",
    "douns_2 = douns_2.dropna()\n",
    "\n",
    "    # Affichage de la base \n",
    "\n",
    "print(douns_2.head())\n",
    "\n",
    "    # Histoire de connaitre les nom des colonnes \n",
    "    \n",
    "print(douns_2.columns)"
   ]
  },
  {
   "cell_type": "code",
   "execution_count": null,
   "id": "13c9aed2",
   "metadata": {
    "scrolled": true
   },
   "outputs": [],
   "source": [
    "    # Modèle constante & tendance 'ct'\n",
    "\n",
    "adf1 = adfuller(douns_2[('rNVDA')], regression='ct', autolag='AIC', regresults=True)\n",
    "\n",
    "    # Affichage des résultats\n",
    "\n",
    "adf1[3].resols.summary()"
   ]
  },
  {
   "cell_type": "markdown",
   "id": "bd1e2667",
   "metadata": {},
   "source": [
    "<span style='line-height:1.5;font-size: 17px;font-family:\"Times New Roman\"'>\n",
    "$stat_{test} = -1.184 < stat_{table}=2.79$ on ne rejette pas $H_0$ : la tendance n'est pas significativement différente de 0 (non-stationnaire)"
   ]
  },
  {
   "cell_type": "code",
   "execution_count": null,
   "id": "89d219b5",
   "metadata": {},
   "outputs": [],
   "source": [
    "    # Modèle constante 'c'\n",
    "\n",
    "adf1 = adfuller(douns_2[('rNVDA')], regression='c', autolag='AIC', regresults=True)\n",
    "\n",
    "    # Affichage des résultats\n",
    "\n",
    "adf1[3].resols.summary()"
   ]
  },
  {
   "cell_type": "markdown",
   "id": "d379a362",
   "metadata": {},
   "source": [
    "<span style='line-height:1.5;font-size: 17px;font-family:\"Times New Roman\"'>\n",
    "$stat_{test} = 2.088 < stat_{table}=2.53$ on ne rejette pas $H_0$ : la tendance n'est pas significativement différente de 0 (non-stationnaire)"
   ]
  },
  {
   "cell_type": "code",
   "execution_count": null,
   "id": "fc641ceb",
   "metadata": {},
   "outputs": [],
   "source": [
    "adf1 = adfuller(douns_2[('rNVDA')], regression='n', autolag='AIC', regresults=True)\n",
    "adf1"
   ]
  },
  {
   "cell_type": "markdown",
   "id": "22b0d2cb",
   "metadata": {},
   "source": [
    "<span style='line-height:1.5;font-size: 17px;font-family:\"Times New Roman\"'>\n",
    "$stat_{test_1chiffre} = -16.036 < stat_{table}=-1.942$ on rejette  $H_0$ : la tendance est significativement différente de 0 (stationnaire). La série est non stationnaire, elle est intégré d'ordre 1"
   ]
  },
  {
   "cell_type": "code",
   "execution_count": null,
   "id": "4a98edad",
   "metadata": {},
   "outputs": [],
   "source": [
    "plt.rcParams['figure.figsize'] = (20,10)\n",
    "douns_2[['rNVDA']].plot()\n",
    "plt.show()\n",
    "douns_2.head()"
   ]
  },
  {
   "cell_type": "markdown",
   "id": "89e6e14c",
   "metadata": {},
   "source": [
    "# ---------------------------ON S'ARRETE LA POUR LE CC2----------------------------------"
   ]
  },
  {
   "cell_type": "code",
   "execution_count": null,
   "id": "84f7889b",
   "metadata": {},
   "outputs": [],
   "source": [
    "douns"
   ]
  },
  {
   "cell_type": "code",
   "execution_count": null,
   "id": "093fbbe6",
   "metadata": {},
   "outputs": [],
   "source": [
    "rNVDA = douns_2[['rNVDA']]\n",
    "rNVDA.head()"
   ]
  },
  {
   "cell_type": "code",
   "execution_count": null,
   "id": "04863201",
   "metadata": {},
   "outputs": [],
   "source": [
    "adf_stat, pvaleur, crit, regres = adfuller(rNVDA, regression=\"n\", regresults=True) # maxlag\n",
    "pvaleur # => série stationnaire"
   ]
  },
  {
   "cell_type": "code",
   "execution_count": null,
   "id": "aeae6fa5",
   "metadata": {},
   "outputs": [],
   "source": [
    "plot_acf(rNVDA,  alpha=.05)\n",
    "plt.show()"
   ]
  },
  {
   "cell_type": "code",
   "execution_count": null,
   "id": "d3d621a5",
   "metadata": {
    "scrolled": true
   },
   "outputs": [],
   "source": [
    "coef_ac, confid_int = acf(rNVDA, nlags=10, alpha=.05)\n",
    "coef_ac"
   ]
  },
  {
   "cell_type": "code",
   "execution_count": null,
   "id": "e613d1e1",
   "metadata": {},
   "outputs": [],
   "source": [
    "confid_int"
   ]
  },
  {
   "cell_type": "markdown",
   "id": "2fe5496e",
   "metadata": {},
   "source": [
    " donc AR1"
   ]
  },
  {
   "cell_type": "code",
   "execution_count": null,
   "id": "f08c4eba",
   "metadata": {},
   "outputs": [],
   "source": [
    "for q, element in enumerate(coef_ac):\n",
    "    if confid_int[q, 0] <= 0 <= confid_int[q, 1]:\n",
    "        print(q-1)\n",
    "        break"
   ]
  },
  {
   "cell_type": "code",
   "execution_count": null,
   "id": "d586edac",
   "metadata": {
    "scrolled": true
   },
   "outputs": [],
   "source": [
    "plot_pacf(rNVDA,  alpha=.05)\n",
    "plt.show()"
   ]
  },
  {
   "cell_type": "code",
   "execution_count": null,
   "id": "0e562175",
   "metadata": {
    "scrolled": true
   },
   "outputs": [],
   "source": [
    "coef_pac, confid_int_pac = pacf(rNVDA, nlags=10, alpha=.05)\n",
    "\n",
    "for p, element in enumerate(coef_pac):\n",
    "    if confid_int_pac[p, 0] <= 0 <= confid_int_pac[p, 1]:\n",
    "        print(p-1)\n",
    "        break"
   ]
  },
  {
   "cell_type": "markdown",
   "id": "3d4cdca8",
   "metadata": {},
   "source": [
    "Donc q = 1 et p = 1. On doit estimer les modèles suivant\n",
    "\n",
    "- MA(1)\n",
    "- AR(1)\n",
    "- ARMA(1,1)"
   ]
  },
  {
   "cell_type": "code",
   "execution_count": null,
   "id": "5f812df8",
   "metadata": {},
   "outputs": [],
   "source": [
    "from statsmodels.tsa.arima.model import ARIMA"
   ]
  },
  {
   "cell_type": "code",
   "execution_count": null,
   "id": "96406c2d",
   "metadata": {},
   "outputs": [],
   "source": [
    "# Convertir la colonne de date et définir l'index\n",
    "douns_2['date_column'] = pd.to_datetime(douns_2['date_column'])\n",
    "douns_2.set_index('date_column', inplace=True)\n",
    "douns_2 = douns_2.asfreq('D')  # Définir la fréquence"
   ]
  },
  {
   "cell_type": "code",
   "execution_count": null,
   "id": "0805d11f",
   "metadata": {},
   "outputs": [],
   "source": [
    "print(douns_2.columns)"
   ]
  },
  {
   "cell_type": "code",
   "execution_count": null,
   "id": "db7179e4",
   "metadata": {},
   "outputs": [],
   "source": [
    "douns_2[['rNVDA']] = rNVDA\n",
    "result_dict = {}\n",
    "for p in [0,1]:\n",
    "    for q in [0,1]:\n",
    "        if (p != 0 or q != 0):\n",
    "            arma_mod = ARIMA(endog=douns_2[['rNVDA']].dropna(), order=(p,0, q))\n",
    "            fitx = arma_mod.fit()\n",
    "            result_dict[\"ARMA_%s%s\" % (p, q)] = fitx"
   ]
  },
  {
   "cell_type": "code",
   "execution_count": null,
   "id": "1987b5fc",
   "metadata": {},
   "outputs": [],
   "source": [
    "result_dict"
   ]
  },
  {
   "cell_type": "code",
   "execution_count": null,
   "id": "f111f9ca",
   "metadata": {},
   "outputs": [],
   "source": [
    "result_dict['ARMA_01'].summary()"
   ]
  },
  {
   "cell_type": "code",
   "execution_count": null,
   "id": "843d90fa",
   "metadata": {},
   "outputs": [],
   "source": [
    "result_dict['ARMA_11'].summary()"
   ]
  },
  {
   "cell_type": "code",
   "execution_count": null,
   "id": "0c794998",
   "metadata": {},
   "outputs": [],
   "source": [
    "result_dict['ARMA_10'].summary()"
   ]
  },
  {
   "cell_type": "code",
   "execution_count": null,
   "id": "de0b615c",
   "metadata": {},
   "outputs": [],
   "source": [
    "pvs = result_dict['ARMA_01'].pvalues\n",
    "pvs"
   ]
  },
  {
   "cell_type": "code",
   "execution_count": null,
   "id": "80780c3a",
   "metadata": {},
   "outputs": [],
   "source": [
    "pvs = result_dict['ARMA_10'].pvalues\n",
    "pvs"
   ]
  },
  {
   "cell_type": "code",
   "execution_count": null,
   "id": "38e1fc5e",
   "metadata": {
    "scrolled": true
   },
   "outputs": [],
   "source": [
    "pvs = result_dict['ARMA_11'].pvalues\n",
    "pvs"
   ]
  },
  {
   "cell_type": "code",
   "execution_count": null,
   "id": "1b98b2ea",
   "metadata": {
    "scrolled": true
   },
   "outputs": [],
   "source": [
    "def all_params_sign(pvs, seuil):\n",
    "    for i, pv in enumerate(pvs):\n",
    "        if pv > seuil:\n",
    "            return False\n",
    "    return True"
   ]
  },
  {
   "cell_type": "code",
   "execution_count": null,
   "id": "03116cd5",
   "metadata": {
    "scrolled": true
   },
   "outputs": [],
   "source": [
    "all_params_sign(pvs, 0.05)"
   ]
  },
  {
   "cell_type": "code",
   "execution_count": null,
   "id": "651d5e1f",
   "metadata": {},
   "outputs": [],
   "source": [
    "def which_is_unsign(pvs, seuil):\n",
    "    res = []\n",
    "    for i, pv in enumerate(pvs):\n",
    "        if pv > seuil:\n",
    "            res.append(pvs.index[i])\n",
    "    return res"
   ]
  },
  {
   "cell_type": "code",
   "execution_count": null,
   "id": "8b9d3a67",
   "metadata": {
    "scrolled": true
   },
   "outputs": [],
   "source": [
    "which_is_unsign(pvs, 0.001)"
   ]
  },
  {
   "cell_type": "code",
   "execution_count": null,
   "id": "e4e09b66",
   "metadata": {
    "scrolled": true
   },
   "outputs": [],
   "source": [
    "# probleme de significativité des coefficients\n",
    "for k in result_dict.keys():\n",
    "    pvs = result_dict[k].pvalues\n",
    "    if not all_params_sign(pvs, 0.05):\n",
    "        print(k, \" => \", which_is_unsign(pvs, 0.05))"
   ]
  },
  {
   "cell_type": "markdown",
   "id": "75415958",
   "metadata": {},
   "source": [
    "On retire de la liste le modèle suivant ARMA(1,1)"
   ]
  },
  {
   "cell_type": "code",
   "execution_count": null,
   "id": "015a143a",
   "metadata": {},
   "outputs": [],
   "source": [
    "result_dict.pop('ARMA_11', None)"
   ]
  },
  {
   "cell_type": "code",
   "execution_count": null,
   "id": "b6b598bf",
   "metadata": {
    "scrolled": true
   },
   "outputs": [],
   "source": [
    "result_dict"
   ]
  },
  {
   "cell_type": "code",
   "execution_count": null,
   "id": "a7d6f65d",
   "metadata": {},
   "outputs": [],
   "source": [
    "douns_2 = douns_2['rNVDA']"
   ]
  },
  {
   "cell_type": "code",
   "execution_count": null,
   "id": "74c66e29",
   "metadata": {},
   "outputs": [],
   "source": [
    "def mape(y_estim, y):\n",
    "    T = len(y)\n",
    "    pct = (y - y_estim) / y\n",
    "    return 100*(1/T)*sum(pct)"
   ]
  },
  {
   "cell_type": "code",
   "execution_count": null,
   "id": "0cda1756",
   "metadata": {
    "scrolled": true
   },
   "outputs": [],
   "source": [
    "for k in result_dict.keys():\n",
    "    result = result_dict[k]\n",
    "    # ddof\n",
    "    ddof = len(result.params)\n",
    "    residuals = result.resid\n",
    "    acorr = acorr_ljungbox(residuals, model_df=ddof, lags=10, return_df=False) \n",
    "    het = het_arch(residuals, nlags=10, ddof=ddof)\n",
    "    \n",
    "    aic = result.aic\n",
    "    bic = result.bic\n",
    "    \n",
    "    rmsex = rmse(result.fittedvalues, douns_2)\n",
    "    maex  = meanabs(result.fittedvalues, douns_2)\n",
    "    mapex = mape(result.fittedvalues, douns_2)\n",
    "    print(\"%s --- pval_ljung: %.4f      --- pval_arch: %.4f\" %(k, acorr.iloc[-1,1], het[1]))\n",
    "    print(\"        --- AIC:       %.4f   --- BIC:      %.4f\" % (aic, bic))\n",
    "    print(\"        --- RMSE:       %.6f    --- MAE:       %.6f      --- MAPE: %.6f\" % (rmsex, maex, mapex))\n",
    "    print(\"-------------------------------------------------------------------------------------------\")\n"
   ]
  },
  {
   "cell_type": "code",
   "execution_count": null,
   "id": "055a1477",
   "metadata": {},
   "outputs": [],
   "source": [
    "result_dict[\"ARMA_10\"].forecast(steps=1, alpha=.05)"
   ]
  },
  {
   "cell_type": "code",
   "execution_count": null,
   "id": "03cce373",
   "metadata": {},
   "outputs": [],
   "source": [
    "resultat = result_dict[\"ARMA_10\"]\n",
    "resultat.summary()"
   ]
  },
  {
   "cell_type": "code",
   "execution_count": null,
   "id": "63245139",
   "metadata": {
    "scrolled": true
   },
   "outputs": [],
   "source": [
    "from statsmodels.graphics.tsaplots import plot_predict\n",
    "fig, ax = plt.subplots()\n",
    "ax = douns_2.iloc[-1000:].plot(ax=ax)\n",
    "fig = plot_predict(resultat,\"9-2024\", \"11-2024\", dynamic=True, ax=ax,\n",
    "                        plot_insample=False)\n",
    "fig, ax = plt.subplots()\n",
    "ax = douns_2.iloc[-100:].plot(ax=ax)\n",
    "fig = plot_predict(resultat,\"9-2024\", \"11-2024\", dynamic=True, ax=ax,\n",
    "                        plot_insample=False)\n",
    "\n",
    "fig, ax = plt.subplots()\n",
    "ax = douns_2.iloc[-50:].plot(ax=ax)\n",
    "fig = plot_predict(resultat,\"9-2024\", \"11-2024\", dynamic=True, ax=ax,\n",
    "                        plot_insample=False)"
   ]
  },
  {
   "cell_type": "code",
   "execution_count": null,
   "id": "e32ca62b",
   "metadata": {},
   "outputs": [],
   "source": []
  }
 ],
 "metadata": {
  "kernelspec": {
   "display_name": "Python 3 (ipykernel)",
   "language": "python",
   "name": "python3"
  },
  "language_info": {
   "codemirror_mode": {
    "name": "ipython",
    "version": 3
   },
   "file_extension": ".py",
   "mimetype": "text/x-python",
   "name": "python",
   "nbconvert_exporter": "python",
   "pygments_lexer": "ipython3",
   "version": "3.12.7"
  }
 },
 "nbformat": 4,
 "nbformat_minor": 5
}
