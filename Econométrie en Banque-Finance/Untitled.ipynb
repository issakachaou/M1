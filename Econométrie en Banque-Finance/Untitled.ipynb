{
 "cells": [
  {
   "cell_type": "markdown",
   "id": "3f9f4b47",
   "metadata": {},
   "source": [
    "# Séance 3 : Modèle de pricing \n",
    "## $\\mathbb{E}(R_i)-r = \\beta \\cdot \\left(\\mathbb{E}(R_m)-r\\right)$"
   ]
  },
  {
   "cell_type": "code",
   "execution_count": 2,
   "id": "cbd19435",
   "metadata": {},
   "outputs": [],
   "source": [
    "import pandas as pd "
   ]
  },
  {
   "cell_type": "code",
   "execution_count": 8,
   "id": "f112fee4",
   "metadata": {
    "scrolled": true
   },
   "outputs": [
    {
     "data": {
      "text/html": [
       "<div>\n",
       "<style scoped>\n",
       "    .dataframe tbody tr th:only-of-type {\n",
       "        vertical-align: middle;\n",
       "    }\n",
       "\n",
       "    .dataframe tbody tr th {\n",
       "        vertical-align: top;\n",
       "    }\n",
       "\n",
       "    .dataframe thead th {\n",
       "        text-align: right;\n",
       "    }\n",
       "</style>\n",
       "<table border=\"1\" class=\"dataframe\">\n",
       "  <thead>\n",
       "    <tr style=\"text-align: right;\">\n",
       "      <th></th>\n",
       "      <th>date</th>\n",
       "      <th>year</th>\n",
       "      <th>ford</th>\n",
       "      <th>sandp</th>\n",
       "      <th>ustb3m</th>\n",
       "    </tr>\n",
       "  </thead>\n",
       "  <tbody>\n",
       "    <tr>\n",
       "      <th>0</th>\n",
       "      <td>2000-06-01</td>\n",
       "      <td>2000</td>\n",
       "      <td>13.186012</td>\n",
       "      <td>1454.599976</td>\n",
       "      <td>5.700</td>\n",
       "    </tr>\n",
       "    <tr>\n",
       "      <th>1</th>\n",
       "      <td>2000-07-01</td>\n",
       "      <td>2000</td>\n",
       "      <td>14.278451</td>\n",
       "      <td>1430.829956</td>\n",
       "      <td>6.020</td>\n",
       "    </tr>\n",
       "    <tr>\n",
       "      <th>2</th>\n",
       "      <td>2000-08-01</td>\n",
       "      <td>2000</td>\n",
       "      <td>13.104752</td>\n",
       "      <td>1517.680054</td>\n",
       "      <td>6.110</td>\n",
       "    </tr>\n",
       "    <tr>\n",
       "      <th>3</th>\n",
       "      <td>2000-09-01</td>\n",
       "      <td>2000</td>\n",
       "      <td>13.815863</td>\n",
       "      <td>1436.510010</td>\n",
       "      <td>6.030</td>\n",
       "    </tr>\n",
       "    <tr>\n",
       "      <th>4</th>\n",
       "      <td>2000-10-01</td>\n",
       "      <td>2000</td>\n",
       "      <td>14.154490</td>\n",
       "      <td>1429.400024</td>\n",
       "      <td>6.150</td>\n",
       "    </tr>\n",
       "    <tr>\n",
       "      <th>...</th>\n",
       "      <td>...</td>\n",
       "      <td>...</td>\n",
       "      <td>...</td>\n",
       "      <td>...</td>\n",
       "      <td>...</td>\n",
       "    </tr>\n",
       "    <tr>\n",
       "      <th>247</th>\n",
       "      <td>2021-01-01</td>\n",
       "      <td>2021</td>\n",
       "      <td>10.530000</td>\n",
       "      <td>3714.239990</td>\n",
       "      <td>0.048</td>\n",
       "    </tr>\n",
       "    <tr>\n",
       "      <th>248</th>\n",
       "      <td>2021-02-01</td>\n",
       "      <td>2021</td>\n",
       "      <td>11.700000</td>\n",
       "      <td>3811.149902</td>\n",
       "      <td>0.035</td>\n",
       "    </tr>\n",
       "    <tr>\n",
       "      <th>249</th>\n",
       "      <td>2021-03-01</td>\n",
       "      <td>2021</td>\n",
       "      <td>12.250000</td>\n",
       "      <td>3972.889893</td>\n",
       "      <td>0.013</td>\n",
       "    </tr>\n",
       "    <tr>\n",
       "      <th>250</th>\n",
       "      <td>2021-04-01</td>\n",
       "      <td>2021</td>\n",
       "      <td>11.540000</td>\n",
       "      <td>4181.169922</td>\n",
       "      <td>0.003</td>\n",
       "    </tr>\n",
       "    <tr>\n",
       "      <th>251</th>\n",
       "      <td>2021-05-01</td>\n",
       "      <td>2021</td>\n",
       "      <td>14.530000</td>\n",
       "      <td>4204.109863</td>\n",
       "      <td>0.008</td>\n",
       "    </tr>\n",
       "  </tbody>\n",
       "</table>\n",
       "<p>252 rows × 5 columns</p>\n",
       "</div>"
      ],
      "text/plain": [
       "           date  year       ford        sandp  ustb3m\n",
       "0    2000-06-01  2000  13.186012  1454.599976   5.700\n",
       "1    2000-07-01  2000  14.278451  1430.829956   6.020\n",
       "2    2000-08-01  2000  13.104752  1517.680054   6.110\n",
       "3    2000-09-01  2000  13.815863  1436.510010   6.030\n",
       "4    2000-10-01  2000  14.154490  1429.400024   6.150\n",
       "..          ...   ...        ...          ...     ...\n",
       "247  2021-01-01  2021  10.530000  3714.239990   0.048\n",
       "248  2021-02-01  2021  11.700000  3811.149902   0.035\n",
       "249  2021-03-01  2021  12.250000  3972.889893   0.013\n",
       "250  2021-04-01  2021  11.540000  4181.169922   0.003\n",
       "251  2021-05-01  2021  14.530000  4204.109863   0.008\n",
       "\n",
       "[252 rows x 5 columns]"
      ]
     },
     "execution_count": 8,
     "metadata": {},
     "output_type": "execute_result"
    }
   ],
   "source": [
    "df = pd.read_csv(\"C:\\\\Users\\\\issak\\\\Documents\\\\M1\\\\Econométrie en Banque-Finance\\\\data(1)\\\\capm.txt\", sep = ';')\n",
    "df"
   ]
  },
  {
   "cell_type": "code",
   "execution_count": 19,
   "id": "278444e4",
   "metadata": {
    "scrolled": false
   },
   "outputs": [
    {
     "data": {
      "text/html": [
       "<div>\n",
       "<style scoped>\n",
       "    .dataframe tbody tr th:only-of-type {\n",
       "        vertical-align: middle;\n",
       "    }\n",
       "\n",
       "    .dataframe tbody tr th {\n",
       "        vertical-align: top;\n",
       "    }\n",
       "\n",
       "    .dataframe thead th {\n",
       "        text-align: right;\n",
       "    }\n",
       "</style>\n",
       "<table border=\"1\" class=\"dataframe\">\n",
       "  <thead>\n",
       "    <tr style=\"text-align: right;\">\n",
       "      <th></th>\n",
       "      <th>date</th>\n",
       "      <th>year</th>\n",
       "      <th>ford</th>\n",
       "      <th>sandp</th>\n",
       "      <th>ustb3m</th>\n",
       "      <th>rsandp</th>\n",
       "      <th>rford</th>\n",
       "      <th>ersandp</th>\n",
       "      <th>erd</th>\n",
       "    </tr>\n",
       "  </thead>\n",
       "  <tbody>\n",
       "    <tr>\n",
       "      <th>0</th>\n",
       "      <td>2000-06-01</td>\n",
       "      <td>2000</td>\n",
       "      <td>13.186012</td>\n",
       "      <td>1454.599976</td>\n",
       "      <td>5.70</td>\n",
       "      <td>NaN</td>\n",
       "      <td>NaN</td>\n",
       "      <td>NaN</td>\n",
       "      <td>NaN</td>\n",
       "    </tr>\n",
       "    <tr>\n",
       "      <th>1</th>\n",
       "      <td>2000-07-01</td>\n",
       "      <td>2000</td>\n",
       "      <td>14.278451</td>\n",
       "      <td>1430.829956</td>\n",
       "      <td>6.02</td>\n",
       "      <td>-1.634128</td>\n",
       "      <td>8.284832</td>\n",
       "      <td>NaN</td>\n",
       "      <td>8.284832</td>\n",
       "    </tr>\n",
       "    <tr>\n",
       "      <th>2</th>\n",
       "      <td>2000-08-01</td>\n",
       "      <td>2000</td>\n",
       "      <td>13.104752</td>\n",
       "      <td>1517.680054</td>\n",
       "      <td>6.11</td>\n",
       "      <td>6.069911</td>\n",
       "      <td>-8.220072</td>\n",
       "      <td>-471.446540</td>\n",
       "      <td>-8.220072</td>\n",
       "    </tr>\n",
       "    <tr>\n",
       "      <th>3</th>\n",
       "      <td>2000-09-01</td>\n",
       "      <td>2000</td>\n",
       "      <td>13.815863</td>\n",
       "      <td>1436.510010</td>\n",
       "      <td>6.03</td>\n",
       "      <td>-5.348297</td>\n",
       "      <td>5.426360</td>\n",
       "      <td>-188.111636</td>\n",
       "      <td>5.426360</td>\n",
       "    </tr>\n",
       "    <tr>\n",
       "      <th>4</th>\n",
       "      <td>2000-10-01</td>\n",
       "      <td>2000</td>\n",
       "      <td>14.154490</td>\n",
       "      <td>1429.400024</td>\n",
       "      <td>6.15</td>\n",
       "      <td>-0.494949</td>\n",
       "      <td>2.451001</td>\n",
       "      <td>-90.745680</td>\n",
       "      <td>2.451001</td>\n",
       "    </tr>\n",
       "  </tbody>\n",
       "</table>\n",
       "</div>"
      ],
      "text/plain": [
       "         date  year       ford        sandp  ustb3m    rsandp     rford  \\\n",
       "0  2000-06-01  2000  13.186012  1454.599976    5.70       NaN       NaN   \n",
       "1  2000-07-01  2000  14.278451  1430.829956    6.02 -1.634128  8.284832   \n",
       "2  2000-08-01  2000  13.104752  1517.680054    6.11  6.069911 -8.220072   \n",
       "3  2000-09-01  2000  13.815863  1436.510010    6.03 -5.348297  5.426360   \n",
       "4  2000-10-01  2000  14.154490  1429.400024    6.15 -0.494949  2.451001   \n",
       "\n",
       "      ersandp       erd  \n",
       "0         NaN       NaN  \n",
       "1         NaN  8.284832  \n",
       "2 -471.446540 -8.220072  \n",
       "3 -188.111636  5.426360  \n",
       "4  -90.745680  2.451001  "
      ]
     },
     "execution_count": 19,
     "metadata": {},
     "output_type": "execute_result"
    }
   ],
   "source": [
    "df.head()"
   ]
  },
  {
   "cell_type": "code",
   "execution_count": 31,
   "id": "815fc04b",
   "metadata": {},
   "outputs": [],
   "source": [
    "df['rsandp']=(df['sandp']/df['sandp'].shift(1)-1)*100\n",
    "df['erd']=(df['ford']/df['ford'].shift(1)-1)*100\n",
    "df['ersandp']=(df['rsandp']/df['rsandp'].shift(1)-1)*100\n",
    "df['erford']=(df['rford']/df['rford'].shift(1)-1)*100"
   ]
  },
  {
   "cell_type": "code",
   "execution_count": 20,
   "id": "8cd0364f",
   "metadata": {
    "scrolled": true
   },
   "outputs": [
    {
     "data": {
      "text/html": [
       "<div>\n",
       "<style scoped>\n",
       "    .dataframe tbody tr th:only-of-type {\n",
       "        vertical-align: middle;\n",
       "    }\n",
       "\n",
       "    .dataframe tbody tr th {\n",
       "        vertical-align: top;\n",
       "    }\n",
       "\n",
       "    .dataframe thead th {\n",
       "        text-align: right;\n",
       "    }\n",
       "</style>\n",
       "<table border=\"1\" class=\"dataframe\">\n",
       "  <thead>\n",
       "    <tr style=\"text-align: right;\">\n",
       "      <th></th>\n",
       "      <th>year</th>\n",
       "      <th>ford</th>\n",
       "      <th>sandp</th>\n",
       "      <th>ustb3m</th>\n",
       "      <th>rsandp</th>\n",
       "      <th>rford</th>\n",
       "      <th>ersandp</th>\n",
       "      <th>erd</th>\n",
       "    </tr>\n",
       "  </thead>\n",
       "  <tbody>\n",
       "    <tr>\n",
       "      <th>count</th>\n",
       "      <td>252.000000</td>\n",
       "      <td>252.000000</td>\n",
       "      <td>252.000000</td>\n",
       "      <td>252.000000</td>\n",
       "      <td>251.000000</td>\n",
       "      <td>251.000000</td>\n",
       "      <td>250.000000</td>\n",
       "      <td>251.000000</td>\n",
       "    </tr>\n",
       "    <tr>\n",
       "      <th>mean</th>\n",
       "      <td>2010.416667</td>\n",
       "      <td>8.421564</td>\n",
       "      <td>1706.542101</td>\n",
       "      <td>1.437000</td>\n",
       "      <td>0.519013</td>\n",
       "      <td>0.899483</td>\n",
       "      <td>-1.119143</td>\n",
       "      <td>0.899483</td>\n",
       "    </tr>\n",
       "    <tr>\n",
       "      <th>std</th>\n",
       "      <td>6.087427</td>\n",
       "      <td>2.841822</td>\n",
       "      <td>750.987293</td>\n",
       "      <td>1.665868</td>\n",
       "      <td>4.341680</td>\n",
       "      <td>13.980257</td>\n",
       "      <td>2994.416310</td>\n",
       "      <td>13.980257</td>\n",
       "    </tr>\n",
       "    <tr>\n",
       "      <th>min</th>\n",
       "      <td>2000.000000</td>\n",
       "      <td>1.267625</td>\n",
       "      <td>735.090027</td>\n",
       "      <td>0.003000</td>\n",
       "      <td>-16.942452</td>\n",
       "      <td>-57.884619</td>\n",
       "      <td>-25303.014626</td>\n",
       "      <td>-57.884619</td>\n",
       "    </tr>\n",
       "    <tr>\n",
       "      <th>25%</th>\n",
       "      <td>2005.000000</td>\n",
       "      <td>6.370631</td>\n",
       "      <td>1159.459961</td>\n",
       "      <td>0.084500</td>\n",
       "      <td>-1.719986</td>\n",
       "      <td>-5.719272</td>\n",
       "      <td>-178.986570</td>\n",
       "      <td>-5.719272</td>\n",
       "    </tr>\n",
       "    <tr>\n",
       "      <th>50%</th>\n",
       "      <td>2010.000000</td>\n",
       "      <td>8.760482</td>\n",
       "      <td>1400.505005</td>\n",
       "      <td>0.927000</td>\n",
       "      <td>1.049138</td>\n",
       "      <td>-0.207908</td>\n",
       "      <td>-80.681750</td>\n",
       "      <td>-0.207908</td>\n",
       "    </tr>\n",
       "    <tr>\n",
       "      <th>75%</th>\n",
       "      <td>2016.000000</td>\n",
       "      <td>10.251287</td>\n",
       "      <td>2097.427490</td>\n",
       "      <td>2.078750</td>\n",
       "      <td>3.142016</td>\n",
       "      <td>5.385097</td>\n",
       "      <td>17.083660</td>\n",
       "      <td>5.385097</td>\n",
       "    </tr>\n",
       "    <tr>\n",
       "      <th>max</th>\n",
       "      <td>2021.000000</td>\n",
       "      <td>16.336540</td>\n",
       "      <td>4204.109863</td>\n",
       "      <td>6.150000</td>\n",
       "      <td>12.684404</td>\n",
       "      <td>127.376460</td>\n",
       "      <td>37760.920531</td>\n",
       "      <td>127.376460</td>\n",
       "    </tr>\n",
       "  </tbody>\n",
       "</table>\n",
       "</div>"
      ],
      "text/plain": [
       "              year        ford        sandp      ustb3m      rsandp  \\\n",
       "count   252.000000  252.000000   252.000000  252.000000  251.000000   \n",
       "mean   2010.416667    8.421564  1706.542101    1.437000    0.519013   \n",
       "std       6.087427    2.841822   750.987293    1.665868    4.341680   \n",
       "min    2000.000000    1.267625   735.090027    0.003000  -16.942452   \n",
       "25%    2005.000000    6.370631  1159.459961    0.084500   -1.719986   \n",
       "50%    2010.000000    8.760482  1400.505005    0.927000    1.049138   \n",
       "75%    2016.000000   10.251287  2097.427490    2.078750    3.142016   \n",
       "max    2021.000000   16.336540  4204.109863    6.150000   12.684404   \n",
       "\n",
       "            rford       ersandp         erd  \n",
       "count  251.000000    250.000000  251.000000  \n",
       "mean     0.899483     -1.119143    0.899483  \n",
       "std     13.980257   2994.416310   13.980257  \n",
       "min    -57.884619 -25303.014626  -57.884619  \n",
       "25%     -5.719272   -178.986570   -5.719272  \n",
       "50%     -0.207908    -80.681750   -0.207908  \n",
       "75%      5.385097     17.083660    5.385097  \n",
       "max    127.376460  37760.920531  127.376460  "
      ]
     },
     "execution_count": 20,
     "metadata": {},
     "output_type": "execute_result"
    }
   ],
   "source": [
    "df.describe()"
   ]
  },
  {
   "cell_type": "code",
   "execution_count": 26,
   "id": "72b1a70f",
   "metadata": {
    "scrolled": true
   },
   "outputs": [
    {
     "data": {
      "text/plain": [
       "<Axes: title={'center': 'Evolution des rendements des actions de Ford'}, xlabel='date'>"
      ]
     },
     "execution_count": 26,
     "metadata": {},
     "output_type": "execute_result"
    },
    {
     "data": {
      "image/png": "[encoded data removed]",
      "text/plain": [
       "<Figure size 640x480 with 1 Axes>"
      ]
     },
     "metadata": {},
     "output_type": "display_data"
    }
   ],
   "source": [
    "df.plot(x = \"date\", y = \"rford\", title = \"Evolution des rendements des actions de Ford\", legend = True)"
   ]
  },
  {
   "cell_type": "code",
   "execution_count": 34,
   "id": "5db92180",
   "metadata": {},
   "outputs": [
    {
     "data": {
      "text/plain": [
       "<Axes: xlabel='rsandp', ylabel='rford'>"
      ]
     },
     "execution_count": 34,
     "metadata": {},
     "output_type": "execute_result"
    },
    {
     "data": {
      "image/png": "[encoded data removed]",
      "text/plain": [
       "<Figure size 640x480 with 1 Axes>"
      ]
     },
     "metadata": {},
     "output_type": "display_data"
    }
   ],
   "source": [
    "df.plot.scatter(x='rsandp',y=\"rford\")"
   ]
  },
  {
   "cell_type": "code",
   "execution_count": 38,
   "id": "2207c157",
   "metadata": {
    "scrolled": true
   },
   "outputs": [
    {
     "data": {
      "text/html": [
       "<div>\n",
       "<style scoped>\n",
       "    .dataframe tbody tr th:only-of-type {\n",
       "        vertical-align: middle;\n",
       "    }\n",
       "\n",
       "    .dataframe tbody tr th {\n",
       "        vertical-align: top;\n",
       "    }\n",
       "\n",
       "    .dataframe thead th {\n",
       "        text-align: right;\n",
       "    }\n",
       "</style>\n",
       "<table border=\"1\" class=\"dataframe\">\n",
       "  <thead>\n",
       "    <tr style=\"text-align: right;\">\n",
       "      <th></th>\n",
       "      <th>rford</th>\n",
       "      <th>rsandp</th>\n",
       "    </tr>\n",
       "  </thead>\n",
       "  <tbody>\n",
       "    <tr>\n",
       "      <th>rford</th>\n",
       "      <td>1.000000</td>\n",
       "      <td>0.513119</td>\n",
       "    </tr>\n",
       "    <tr>\n",
       "      <th>rsandp</th>\n",
       "      <td>0.513119</td>\n",
       "      <td>1.000000</td>\n",
       "    </tr>\n",
       "  </tbody>\n",
       "</table>\n",
       "</div>"
      ],
      "text/plain": [
       "           rford    rsandp\n",
       "rford   1.000000  0.513119\n",
       "rsandp  0.513119  1.000000"
      ]
     },
     "execution_count": 38,
     "metadata": {},
     "output_type": "execute_result"
    }
   ],
   "source": [
    "df[['rford','rsandp']].corr()"
   ]
  },
  {
   "cell_type": "code",
   "execution_count": 40,
   "id": "dcd6db9c",
   "metadata": {},
   "outputs": [],
   "source": [
    "import statsmodels.api as sm\n"
   ]
  }
 ],
 "metadata": {
  "kernelspec": {
   "display_name": "Python 3 (ipykernel)",
   "language": "python",
   "name": "python3"
  },
  "language_info": {
   "codemirror_mode": {
    "name": "ipython",
    "version": 3
   },
   "file_extension": ".py",
   "mimetype": "text/x-python",
   "name": "python",
   "nbconvert_exporter": "python",
   "pygments_lexer": "ipython3",
   "version": "3.11.4"
  }
 },
 "nbformat": 4,
 "nbformat_minor": 5
}
