{
 "cells": [
  {
   "cell_type": "markdown",
   "id": "bd8e0b29",
   "metadata": {},
   "source": [
    "1. Coder une fonction\n",
    "2. Pas le droit aux IA\n",
    "3. Internet Ok mais pas de réponse toute faite\n",
    "4. Structure de travail (cellule markdown)\n",
    "5. Laisser votre brouillon\n",
    "6. Citer les sources d'internet "
   ]
  },
  {
   "cell_type": "markdown",
   "id": "ef4c0cf2",
   "metadata": {},
   "source": [
    "### 1. Installation of the RomanPy package"
   ]
  },
  {
   "cell_type": "code",
   "execution_count": 4,
   "id": "84124c44",
   "metadata": {
    "scrolled": true
   },
   "outputs": [
    {
     "name": "stdout",
     "output_type": "stream",
     "text": [
      "Collecting RomanPy\n",
      "  Obtaining dependency information for RomanPy from https://files.pythonhosted.org/packages/d2/b6/0b61f16f2309dc37c283cc131b13034f3e2cff072e888c2cb2716be30f3a/RomanPy-1.0.0-py3-none-any.whl.metadata\n",
      "  Downloading RomanPy-1.0.0-py3-none-any.whl.metadata (2.8 kB)\n",
      "Downloading RomanPy-1.0.0-py3-none-any.whl (15 kB)\n",
      "Installing collected packages: RomanPy\n",
      "Successfully installed RomanPy-1.0.0\n",
      "Note: you may need to restart the kernel to use updated packages.\n"
     ]
    }
   ],
   "source": [
    "pip install RomanPy "
   ]
  },
  {
   "cell_type": "code",
   "execution_count": 8,
   "id": "1ffcfa18",
   "metadata": {},
   "outputs": [],
   "source": [
    "from roman import roman "
   ]
  },
  {
   "cell_type": "markdown",
   "id": "007823b6",
   "metadata": {},
   "source": [
    "In the package RomanPy they have already a function to convert a indo-arabical number in roman number "
   ]
  },
  {
   "cell_type": "code",
   "execution_count": 10,
   "id": "96056af6",
   "metadata": {},
   "outputs": [],
   "source": [
    "def Asterix(i):\n",
    "    return (roman(i))"
   ]
  },
  {
   "cell_type": "code",
   "execution_count": 11,
   "id": "f62b5e31",
   "metadata": {
    "scrolled": true
   },
   "outputs": [
    {
     "data": {
      "text/plain": [
       "MDII"
      ]
     },
     "execution_count": 11,
     "metadata": {},
     "output_type": "execute_result"
    }
   ],
   "source": [
    "Asterix(1502)"
   ]
  },
  {
   "cell_type": "markdown",
   "id": "f52b806a",
   "metadata": {},
   "source": [
    "c'était cool mais c'était de la triche, on recommence"
   ]
  },
  {
   "cell_type": "markdown",
   "id": "3d4eef56",
   "metadata": {},
   "source": [
    "## 1. Intuition de base "
   ]
  },
  {
   "cell_type": "markdown",
   "id": "e1879b03",
   "metadata": {},
   "source": [
    "Quand on lit un chiffre romain notre cerveau lit le nombre de gauche a droite et symbole par symbole. On commence a lire un symbole un part un mais selon la combinaison de ceux-ci il se peut que nous devons en lire deux à la fois. \n",
    "\n",
    "### Exemple\n",
    "\n",
    "$$ MMIXX = 1000 + 1000 + 1 + 10 + 10 $$\n",
    "\n",
    "Or le terme $I$ qui représente \"1\" est devant un \"X\" qui est un terme d'une valeur plus grande, par conséquent on fait l'opération suivante\n",
    "\n",
    "$$ MMIXX = 1000 + 1000 + 1 - 10 + 10 = 2019 $$"
   ]
  },
  {
   "cell_type": "markdown",
   "id": "af458f68",
   "metadata": {},
   "source": [
    "## 2. Création d'un dictionnaire de chiffre de romain"
   ]
  },
  {
   "cell_type": "code",
   "execution_count": 18,
   "id": "a9b6a9bf",
   "metadata": {
    "scrolled": true
   },
   "outputs": [],
   "source": [
    "romans = {\"I\":1,\"V\":5,\"X\":10,\"L\":50,\"C\":100,\"D\":500,\"M\":1000}"
   ]
  },
  {
   "cell_type": "markdown",
   "id": "cd031e50",
   "metadata": {},
   "source": [
    "## 3. Création d'un exemple "
   ]
  },
  {
   "cell_type": "code",
   "execution_count": 47,
   "id": "0f610bc5",
   "metadata": {},
   "outputs": [],
   "source": [
    "r = \"XX\""
   ]
  },
  {
   "cell_type": "markdown",
   "id": "333d093b",
   "metadata": {},
   "source": [
    "## 4. Création d'une fonction qui fait la somme"
   ]
  },
  {
   "cell_type": "code",
   "execution_count": 48,
   "id": "3e677ada",
   "metadata": {},
   "outputs": [
    {
     "name": "stdout",
     "output_type": "stream",
     "text": [
      "20\n"
     ]
    }
   ],
   "source": [
    "# création d'un compteur de la somme des valeurs des chiffres romain \n",
    "\n",
    "c = 0 \n",
    "\n",
    "# Création d'une boucle for permettant de parcourir s a travers cr pour chiffre romain \n",
    "\n",
    "for cr in r :\n",
    "    c += romans[cr]\n",
    "    \n",
    "print(c)\n",
    "# pour avoir une valeur romans[\"X\"]\n",
    "    \n",
    "\n",
    "        "
   ]
  },
  {
   "cell_type": "code",
   "execution_count": 62,
   "id": "e443d86e",
   "metadata": {},
   "outputs": [],
   "source": [
    "def obelix(r):\n",
    "    # Objectif : traduire un chiffre romain en chiffre indo-arabe\n",
    "    # r : str, correspond au chiffre romain a traduire\n",
    "    # création d'un compteur de la somme des valeurs des chiffres romain \n",
    "\n",
    "    c = 0 \n",
    "\n",
    "    # Création d'une boucle for permettant de parcourir s a travers cr pour chiffre romain \n",
    "\n",
    "    for cr in r :\n",
    "        c += romans[cr]\n",
    "        \n",
    "    return(c)\n",
    "    # pour avoir une valeur romans[\"X\"]"
   ]
  },
  {
   "cell_type": "code",
   "execution_count": 68,
   "id": "5211111c",
   "metadata": {},
   "outputs": [
    {
     "name": "stdout",
     "output_type": "stream",
     "text": [
      "11\n",
      "16\n",
      "1060\n"
     ]
    }
   ],
   "source": [
    "x = \"XI\" # 11\n",
    "y = \"XVI\" # 16\n",
    "z = \"MLX\" #1060\n",
    "print(obelix(x))\n",
    "print(obelix(y))\n",
    "print(obelix(z))"
   ]
  },
  {
   "cell_type": "code",
   "execution_count": 69,
   "id": "01522adb",
   "metadata": {
    "scrolled": true
   },
   "outputs": [
    {
     "data": {
      "text/plain": [
       "2100"
      ]
     },
     "execution_count": 69,
     "metadata": {},
     "output_type": "execute_result"
    }
   ],
   "source": [
    "# fonctionnne pas sur des cas complex\n",
    "e = \"MCM\"\n",
    "\n",
    "obelix(e)"
   ]
  },
  {
   "cell_type": "markdown",
   "id": "779a2734",
   "metadata": {},
   "source": [
    "## Conclusion\n",
    "\n",
    "- j'ai fait ça \n",
    "- j'ai rencontré tel problème\n",
    "- resolution du cas simple\n",
    "\n",
    "## Avec plus de temps, quelle logique pour résoudre le cas complexe"
   ]
  },
  {
   "cell_type": "markdown",
   "id": "265bd868",
   "metadata": {},
   "source": [
    " Si j'ai un élément qui est inférieur à son suivant alors il sont associé \n",
    " \n",
    " pas de plus de deux qui se suivent\n",
    " \n",
    " Sinon procédure classique : somme de deux \n",
    " \n",
    " il faut arriver a regarder deux éléments en même temps et les comparer\n",
    " \n",
    "s = MCMXC\n",
    "\n",
    "M > C donc procédure classique\n",
    "\n",
    "M > X donc procédure classique\n",
    "\n"
   ]
  }
 ],
 "metadata": {
  "kernelspec": {
   "display_name": "Python 3 (ipykernel)",
   "language": "python",
   "name": "python3"
  },
  "language_info": {
   "codemirror_mode": {
    "name": "ipython",
    "version": 3
   },
   "file_extension": ".py",
   "mimetype": "text/x-python",
   "name": "python",
   "nbconvert_exporter": "python",
   "pygments_lexer": "ipython3",
   "version": "3.11.4"
  }
 },
 "nbformat": 4,
 "nbformat_minor": 5
}
