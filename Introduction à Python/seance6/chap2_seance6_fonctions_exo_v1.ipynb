{
 "cells": [
  {
   "cell_type": "markdown",
   "id": "93aff62a",
   "metadata": {},
   "source": [
    "<span style='line-height:1.5;font-size: 17px;font-family:\"Times New Roman\"'>\n",
    "\n",
    "\n",
    "<b><center><font size=\"6\">Introduction à python - Séance 6</font></center></b>\n",
    "\n",
    "<b><center><font size=\"6\">Coder des fonctions sous python - exercices</font></center></b>\n",
    "    \n",
    "<g><h7><center> CM - P. Durand  - pierre.durand@u-pec.fr </center></h7></g>\n",
    "\n",
    "\n",
    "\n",
    "<b><center><font size=\"5\">M1 - 2022-2023</font></center></b> \n",
    "\n",
    "\n",
    "\n",
    "</span>"
   ]
  },
  {
   "cell_type": "markdown",
   "id": "5d9f3c9b",
   "metadata": {},
   "source": [
    "<span style='line-height:1.5;font-size: 17px;font-family:\"Times New Roman\"'>\n",
    "\n",
    "\n",
    "\n",
    "<hr style=\" border: 2.5px solid black;\">\n",
    "<br>\n",
    "\n",
    "__Plan du cours__\n",
    "<br>\n",
    "\n",
    "- Partie I : introduction et appréhension du langage python \n",
    "    - Séance 1 - variables et syntaxe de base\n",
    "    - Séance 2 - boucles et structure conditionnelle - exercices d'application\n",
    "    - Séance 3 - exercices d'application : utilisation et combinaison des outils acquis\n",
    "    - Séance 4 - exercices d'application : prise d'autonomie sur la recherche d'information\n",
    "    \n",
    "- Partie II : apprendre à coder\n",
    "    - Séance 5 - fonctions sous python - exercices d'application\n",
    "    - <b>Séance 6 - exercices d'application : coder des fonctions simples</b>\n",
    "    - Séance 7 - bases de données et manipulation des données sous python - exercices d'application\n",
    "    - Séance 8 - exercices d'application : manipulation de bases de données\n",
    "    - Séance 9 - exercices d'application : restitution des connaissances de l'ensemble du cours\n",
    "    \n",
    "- Partie III : prise de recul sur un code python\n",
    "    - Séance 10 - commenter un code et utiliser ChatGPT "
   ]
  },
  {
   "cell_type": "markdown",
   "id": "e607d5a7",
   "metadata": {},
   "source": [
    "<span style='line-height:1.5;font-size: 17px;font-family:\"Times New Roman\"'>\n",
    "\n",
    "<hr style=\" border: 2.5px solid black;\">\n",
    "<br>\n",
    "\n",
    "# Exercices\n",
    "\n",
    "\n",
    "__Exercice 1 - fonction polynome__\n",
    "\n",
    "Ecrire une fonction dont le paramètre sera `x`. La fonction doit permettre de calculer la fonction suivante : \n",
    "    \n",
    "$$ x^2 + 3 \\times x + 1 $$\n",
    "    \n",
    "Vous pourrez tester votre fonction sur plusieurs valeurs de `x` :\n",
    "    \n",
    "- pour `x=1`, la fonction doit renvoyer `5`\n",
    "- pour `x=2`, la fonction doit renvoyer `11`\n",
    "- pour `x=-1`, la fonction doit renvoyer `-1`"
   ]
  },
  {
   "cell_type": "code",
   "execution_count": 1,
   "id": "a7d7aaa9",
   "metadata": {},
   "outputs": [],
   "source": [
    "def polynome(x):\n",
    "    y = x**2+3*x+1\n",
    "    return y"
   ]
  },
  {
   "cell_type": "code",
   "execution_count": 4,
   "id": "995c1a14",
   "metadata": {},
   "outputs": [
    {
     "name": "stdout",
     "output_type": "stream",
     "text": [
      "5\n",
      "11\n",
      "-1\n"
     ]
    }
   ],
   "source": [
    "print(polynome(1))\n",
    "print(polynome(2))\n",
    "print(polynome(-1))"
   ]
  },
  {
   "cell_type": "markdown",
   "id": "04f6454e",
   "metadata": {},
   "source": [
    "<span style='line-height:1.5;font-size: 17px;font-family:\"Times New Roman\"'>\n",
    "\n",
    "__Exercice 2 - fonction de comptage__\n",
    "\n",
    "Ecrire une fonction prenant une liste `l` comme paramètre. On suppose que cette liste sera nécessairement composée d'entier (`int`). \n",
    "    \n",
    "Votre fonction devra compter le nombre de paires présents dans la liste `l`.\n",
    "    \n",
    "Par exemple :\n",
    "    \n",
    "- pour `l = [1,2,3,4]` votre fonction doit renvoyer `2`\n",
    "- pour `une_liste = [2,2,2,2,1]`, votre fonction doit renvoyer `4`\n",
    "- etc..."
   ]
  },
  {
   "cell_type": "code",
   "execution_count": 31,
   "id": "4902a91b",
   "metadata": {},
   "outputs": [
    {
     "name": "stdout",
     "output_type": "stream",
     "text": [
      "2\n"
     ]
    }
   ],
   "source": [
    "l =[1,2,3,4]\n",
    "compteur = 0\n",
    "for i in l :\n",
    "    if i%2 == 0 :\n",
    "        compteur +=1\n",
    "print(compteur)\n"
   ]
  },
  {
   "cell_type": "code",
   "execution_count": 41,
   "id": "47c83b1f",
   "metadata": {},
   "outputs": [],
   "source": [
    "def list(l):\n",
    "    compteur = 0\n",
    "    for i in l :\n",
    "        if i%2 == 0 :\n",
    "            compteur +=1\n",
    "            return compteur"
   ]
  },
  {
   "cell_type": "code",
   "execution_count": 42,
   "id": "a473bf29",
   "metadata": {},
   "outputs": [
    {
     "data": {
      "text/plain": [
       "1"
      ]
     },
     "execution_count": 42,
     "metadata": {},
     "output_type": "execute_result"
    }
   ],
   "source": [
    "list(l)"
   ]
  },
  {
   "cell_type": "markdown",
   "id": "eb9e07ed",
   "metadata": {},
   "source": [
    "<span style='line-height:1.5;font-size: 17px;font-family:\"Times New Roman\"'>\n",
    "\n",
    "__Exercice 3 - majuscules vers MINUSCULES (et VICE versa)__\n",
    "\n",
    "Ecrire une fonction donc le paramètre sera une chaine de caractère `s`. Si cette chaîne de caractères ne contient que des majuscules, votre fonction doit renvoyer le même texte avec uniquement de minuscules. Sinon, elle doit renvoyer le texte entièrement en majuscules. \n",
    "    \n",
    "Par exemple :\n",
    "- pour `s = bonjour`, votre fonction renvoie `BONJOUR`\n",
    "- pour `un_texte = salut TOUT le monde`, votre fonction renvoie `SALUT TOUT LE MONDE`\n",
    "- pour `str1 = TRANQUILOU BILOU`, votre fonction renvoie `tranquilou bilou`\n",
    "- etc..."
   ]
  },
  {
   "cell_type": "code",
   "execution_count": null,
   "id": "3ce405f6",
   "metadata": {},
   "outputs": [],
   "source": []
  },
  {
   "cell_type": "code",
   "execution_count": null,
   "id": "2ac6e9ff",
   "metadata": {},
   "outputs": [],
   "source": []
  },
  {
   "cell_type": "code",
   "execution_count": null,
   "id": "d618647c",
   "metadata": {},
   "outputs": [],
   "source": []
  },
  {
   "cell_type": "markdown",
   "id": "db6007e3",
   "metadata": {},
   "source": [
    "<span style='line-height:1.5;font-size: 17px;font-family:\"Times New Roman\"'>\n",
    "\n",
    "\n",
    "__Exercice 4 - séquence inversée__\n",
    "    \n",
    "Ecrire une fonction dont le paramètre sera un entier `n`. Votre fonction doit renvoyer la liste de entier de `0` à `n` dans l'ordre décroissant.\n",
    "    \n",
    "Par exemple :\n",
    "    \n",
    "- pour `n = 3` votre fonction doit renvoyer `[3,2,1]`\n",
    "- pour `un_entier = 5`, votre fonction doit renvoyer `[5,4,3,2,1]`\n",
    "- etc...\n",
    "\n"
   ]
  },
  {
   "cell_type": "code",
   "execution_count": null,
   "id": "d066de9f",
   "metadata": {},
   "outputs": [],
   "source": []
  },
  {
   "cell_type": "code",
   "execution_count": null,
   "id": "83efd58e",
   "metadata": {},
   "outputs": [],
   "source": []
  },
  {
   "cell_type": "code",
   "execution_count": null,
   "id": "80f51052",
   "metadata": {},
   "outputs": [],
   "source": []
  }
 ],
 "metadata": {
  "kernelspec": {
   "display_name": "Python 3 (ipykernel)",
   "language": "python",
   "name": "python3"
  },
  "language_info": {
   "codemirror_mode": {
    "name": "ipython",
    "version": 3
   },
   "file_extension": ".py",
   "mimetype": "text/x-python",
   "name": "python",
   "nbconvert_exporter": "python",
   "pygments_lexer": "ipython3",
   "version": "3.11.4"
  },
  "toc": {
   "base_numbering": 1,
   "nav_menu": {},
   "number_sections": true,
   "sideBar": true,
   "skip_h1_title": false,
   "title_cell": "Table of Contents",
   "title_sidebar": "Contents",
   "toc_cell": false,
   "toc_position": {},
   "toc_section_display": true,
   "toc_window_display": false
  },
  "varInspector": {
   "cols": {
    "lenName": 16,
    "lenType": 16,
    "lenVar": 40
   },
   "kernels_config": {
    "python": {
     "delete_cmd_postfix": "",
     "delete_cmd_prefix": "del ",
     "library": "var_list.py",
     "varRefreshCmd": "print(var_dic_list())"
    },
    "r": {
     "delete_cmd_postfix": ") ",
     "delete_cmd_prefix": "rm(",
     "library": "var_list.r",
     "varRefreshCmd": "cat(var_dic_list()) "
    }
   },
   "types_to_exclude": [
    "module",
    "function",
    "builtin_function_or_method",
    "instance",
    "_Feature"
   ],
   "window_display": false
  }
 },
 "nbformat": 4,
 "nbformat_minor": 5
}
