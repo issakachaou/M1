{
 "cells": [
  {
   "cell_type": "markdown",
   "id": "93aff62a",
   "metadata": {},
   "source": [
    "<span style='line-height:1.5;font-size: 17px;font-family:\"Times New Roman\"'>\n",
    "\n",
    "\n",
    "<b><center><font size=\"6\">Introduction à python - Séance 5</font></center></b>\n",
    "\n",
    "<b><center><font size=\"6\">Coder des fonctions sous python - exercices</font></center></b>\n",
    "    \n",
    "<g><h7><center> CM - P. Durand  - pierre.durand@u-pec.fr </center></h7></g>\n",
    "\n",
    "\n",
    "\n",
    "<b><center><font size=\"5\">M1 - 2022-2023</font></center></b> \n",
    "\n",
    "\n",
    "\n",
    "</span>"
   ]
  },
  {
   "cell_type": "markdown",
   "id": "b041a961",
   "metadata": {},
   "source": [
    "<span style='line-height:1.5;font-size: 17px;font-family:\"Times New Roman\"'>\n",
    "\n",
    "\n",
    "\n",
    "<hr style=\" border: 2.5px solid black;\">\n",
    "<br>\n",
    "\n",
    "__Plan du cours__\n",
    "<br>\n",
    "\n",
    "- Partie I : introduction et appréhension du langage python \n",
    "    - Séance 1 - variables et syntaxe de base\n",
    "    - Séance 2 - boucles et structure conditionnelle - exercices d'application\n",
    "    - Séance 3 - exercices d'application : utilisation et combinaison des outils acquis\n",
    "    - Séance 4 - exercices d'application : prise d'autonomie sur la recherche d'information\n",
    "    \n",
    "- Partie II : apprendre à coder\n",
    "    - <b>Séance 5 - fonctions sous python - exercices d'application</b>\n",
    "    - Séance 6 - exercices d'application : coder des fonctions simples\n",
    "    - Séance 7 - bases de données et manipulation des données sous python - exercices d'application\n",
    "    - Séance 8 - exercices d'application : manipulation de bases de données\n",
    "    - Séance 9 - exercices d'application : restitution des connaissances de l'ensemble du cours\n",
    "    \n",
    "- Partie III : prise de recul sur un code python\n",
    "    - Séance 10 - commenter un code et utiliser ChatGPT "
   ]
  },
  {
   "cell_type": "markdown",
   "id": "e607d5a7",
   "metadata": {},
   "source": [
    "<span style='line-height:1.5;font-size: 17px;font-family:\"Times New Roman\"'>\n",
    "\n",
    "<hr style=\" border: 2.5px solid black;\">\n",
    "<br>\n",
    "\n",
    "# Exercices\n",
    "\n",
    "\n",
    "__Exercice 1 - fonction simple__\n",
    "\n",
    "Ecrire une fonction prenant en argument une liste et renvoyant la longueur de la liste."
   ]
  },
  {
   "cell_type": "code",
   "execution_count": 6,
   "id": "41a6824b",
   "metadata": {
    "ExecuteTime": {
     "end_time": "2024-10-17T10:12:40.262053Z",
     "start_time": "2024-10-17T10:12:40.252889Z"
    }
   },
   "outputs": [
    {
     "data": {
      "text/plain": [
       "3"
      ]
     },
     "execution_count": 6,
     "metadata": {},
     "output_type": "execute_result"
    }
   ],
   "source": [
    "l = [1,2,3]\n",
    "len(l)"
   ]
  },
  {
   "cell_type": "code",
   "execution_count": 7,
   "id": "f95b5241",
   "metadata": {
    "ExecuteTime": {
     "end_time": "2024-10-17T10:14:46.810869Z",
     "start_time": "2024-10-17T10:14:46.795152Z"
    }
   },
   "outputs": [],
   "source": [
    "def length( l ) : \n",
    "    resultat = len(l)\n",
    "    return resultat"
   ]
  },
  {
   "cell_type": "code",
   "execution_count": 8,
   "id": "b42621cc",
   "metadata": {
    "ExecuteTime": {
     "end_time": "2024-10-17T10:15:11.102140Z",
     "start_time": "2024-10-17T10:15:11.088840Z"
    }
   },
   "outputs": [
    {
     "data": {
      "text/plain": [
       "2"
      ]
     },
     "execution_count": 8,
     "metadata": {},
     "output_type": "execute_result"
    }
   ],
   "source": [
    "une_liste = [\"a\",'b']\n",
    "length(une_liste)"
   ]
  },
  {
   "cell_type": "markdown",
   "id": "04f6454e",
   "metadata": {},
   "source": [
    "<span style='line-height:1.5;font-size: 17px;font-family:\"Times New Roman\"'>\n",
    "\n",
    "__Exercice 2 - fonction simple__\n",
    "\n",
    "Ecrire une fonction permettant de trouver le plus petit entier dans une liste"
   ]
  },
  {
   "cell_type": "code",
   "execution_count": 62,
   "id": "4bebe57c",
   "metadata": {
    "ExecuteTime": {
     "end_time": "2024-10-24T09:10:57.836706Z",
     "start_time": "2024-10-24T09:10:57.821460Z"
    }
   },
   "outputs": [],
   "source": [
    "l = [1,2,3,4]\n",
    "\n",
    "def minimum(l):\n",
    "    return min(l)\n",
    "\n",
    "l = [2,3,4,5]"
   ]
  },
  {
   "cell_type": "code",
   "execution_count": 61,
   "id": "d0f1cae9",
   "metadata": {
    "ExecuteTime": {
     "end_time": "2024-10-24T09:05:28.828698Z",
     "start_time": "2024-10-24T09:05:28.813348Z"
    }
   },
   "outputs": [
    {
     "data": {
      "text/plain": [
       "-2"
      ]
     },
     "execution_count": 61,
     "metadata": {},
     "output_type": "execute_result"
    }
   ],
   "source": [
    "une_liste = [4,3,-2,10]\n",
    "minimum(une_liste)"
   ]
  },
  {
   "cell_type": "code",
   "execution_count": 63,
   "id": "b448a028",
   "metadata": {
    "ExecuteTime": {
     "end_time": "2024-10-24T09:11:51.430653Z",
     "start_time": "2024-10-24T09:11:51.419326Z"
    }
   },
   "outputs": [
    {
     "data": {
      "text/plain": [
       "2"
      ]
     },
     "execution_count": 63,
     "metadata": {},
     "output_type": "execute_result"
    }
   ],
   "source": [
    "minimum(l)"
   ]
  },
  {
   "cell_type": "code",
   "execution_count": 66,
   "id": "04c5161c",
   "metadata": {
    "ExecuteTime": {
     "end_time": "2024-10-24T09:14:03.015699Z",
     "start_time": "2024-10-24T09:14:03.000557Z"
    }
   },
   "outputs": [
    {
     "data": {
      "text/plain": [
       "1"
      ]
     },
     "execution_count": 66,
     "metadata": {},
     "output_type": "execute_result"
    }
   ],
   "source": [
    "l = [2,1,4,5]\n",
    "sorted(l)[0]"
   ]
  },
  {
   "cell_type": "code",
   "execution_count": 67,
   "id": "a6945fd6",
   "metadata": {
    "ExecuteTime": {
     "end_time": "2024-10-24T09:14:24.381400Z",
     "start_time": "2024-10-24T09:14:24.367697Z"
    }
   },
   "outputs": [],
   "source": [
    "def smallest(une_l):\n",
    "    return sorted(une_l)[0]"
   ]
  },
  {
   "cell_type": "code",
   "execution_count": 68,
   "id": "b25720a5",
   "metadata": {
    "ExecuteTime": {
     "end_time": "2024-10-24T09:14:55.543410Z",
     "start_time": "2024-10-24T09:14:55.534932Z"
    }
   },
   "outputs": [
    {
     "data": {
      "text/plain": [
       "1"
      ]
     },
     "execution_count": 68,
     "metadata": {},
     "output_type": "execute_result"
    }
   ],
   "source": [
    "smallest(l)"
   ]
  },
  {
   "cell_type": "code",
   "execution_count": 70,
   "id": "0865080b",
   "metadata": {
    "ExecuteTime": {
     "end_time": "2024-10-24T09:20:39.256454Z",
     "start_time": "2024-10-24T09:20:39.248564Z"
    }
   },
   "outputs": [
    {
     "name": "stdout",
     "output_type": "stream",
     "text": [
      "-2\n"
     ]
    }
   ],
   "source": [
    "l = [2,1,4,5,-2]\n",
    "\n",
    "\n",
    "plus_petit = l[0]\n",
    "\n",
    "for i in l :\n",
    "    if i < plus_petit :\n",
    "        plus_petit = i\n",
    "\n",
    "print(plus_petit)"
   ]
  },
  {
   "cell_type": "code",
   "execution_count": null,
   "id": "b81a7a6c",
   "metadata": {},
   "outputs": [],
   "source": [
    "def minimum(l):\n",
    "\n",
    "    plus_petit = l[0]\n",
    "\n",
    "    for i in l :\n",
    "        if i < plus_petit :\n",
    "            plus_petit = i\n",
    "\n",
    "    return plus_petit"
   ]
  },
  {
   "cell_type": "markdown",
   "id": "eb9e07ed",
   "metadata": {},
   "source": [
    "<span style='line-height:1.5;font-size: 17px;font-family:\"Times New Roman\"'>\n",
    "\n",
    "__Exercice 3 - notes et élèves__\n",
    "\n",
    "1- On nous donne en argument un dictionnaire de noms. Les noms sont les clefs et leur attribut est une note. Ecrire une fonction retournant la liste des élèves ayant au moins 10.\n",
    "\n",
    "<br> \n",
    "2- Ecrire une autre fonction retournant la moyenne de la classe et la liste des élèves ayant eu au dessus de la moyenne."
   ]
  },
  {
   "cell_type": "code",
   "execution_count": 76,
   "id": "2ac6e9ff",
   "metadata": {
    "ExecuteTime": {
     "end_time": "2024-10-24T09:58:25.625282Z",
     "start_time": "2024-10-24T09:58:25.610158Z"
    }
   },
   "outputs": [
    {
     "data": {
      "text/plain": [
       "dict_items([('Durand', 5.6), ('Teuf', 12.01), ('Morvillier', 15.5), ('Einstein', 9.75), ('Newton', 17), ('Bohr', 8.4), ('Tesla', 11)])"
      ]
     },
     "execution_count": 76,
     "metadata": {},
     "output_type": "execute_result"
    }
   ],
   "source": [
    "#Tester avec : \n",
    "dico = {'Durand':5.6, 'Teuf':12.01, 'Morvillier':15.5, 'Einstein':9.75, 'Newton':17, 'Bohr':8.4, 'Tesla':11}\n",
    "dico.items()"
   ]
  },
  {
   "cell_type": "code",
   "execution_count": 74,
   "id": "de61f6f5",
   "metadata": {
    "ExecuteTime": {
     "end_time": "2024-10-24T09:53:48.910733Z",
     "start_time": "2024-10-24T09:53:48.899986Z"
    }
   },
   "outputs": [
    {
     "data": {
      "text/plain": [
       "dict_keys(['Durand', 'Teuf'])"
      ]
     },
     "execution_count": 74,
     "metadata": {},
     "output_type": "execute_result"
    }
   ],
   "source": [
    "d = {'Durand':5.6, 'Teuf':12.01}\n",
    "d.keys()"
   ]
  },
  {
   "cell_type": "code",
   "execution_count": null,
   "id": "02269285",
   "metadata": {},
   "outputs": [],
   "source": []
  },
  {
   "cell_type": "code",
   "execution_count": 75,
   "id": "72af6c3b",
   "metadata": {
    "ExecuteTime": {
     "end_time": "2024-10-24T09:56:33.859049Z",
     "start_time": "2024-10-24T09:56:33.842789Z"
    }
   },
   "outputs": [
    {
     "data": {
      "text/plain": [
       "['Durand']"
      ]
     },
     "execution_count": 75,
     "metadata": {},
     "output_type": "execute_result"
    }
   ],
   "source": [
    "d = {'Durand':5.6, 'Teuf':12.01}\n",
    "\n",
    "res = []\n",
    "for key in d.keys():\n",
    "    if d[key] < 10 :\n",
    "        res.append(key)\n",
    "res"
   ]
  },
  {
   "cell_type": "code",
   "execution_count": 77,
   "id": "92cc5985",
   "metadata": {
    "ExecuteTime": {
     "end_time": "2024-10-24T09:58:44.921760Z",
     "start_time": "2024-10-24T09:58:44.911489Z"
    }
   },
   "outputs": [
    {
     "data": {
      "text/plain": [
       "['Durand', 'Einstein', 'Bohr']"
      ]
     },
     "execution_count": 77,
     "metadata": {},
     "output_type": "execute_result"
    }
   ],
   "source": [
    "res = []\n",
    "for key in dico.keys():\n",
    "    if dico[key] < 10 :\n",
    "        res.append(key)\n",
    "res"
   ]
  },
  {
   "cell_type": "code",
   "execution_count": null,
   "id": "da266a8e",
   "metadata": {},
   "outputs": [],
   "source": [
    "def note_inf_10(d) : \n",
    "    res = []\n",
    "    for key in d.keys():\n",
    "        if d[key] < 10 :\n",
    "            res.append(key)\n",
    "    return res"
   ]
  },
  {
   "cell_type": "markdown",
   "id": "6645a841",
   "metadata": {},
   "source": [
    "\n",
    "<span style='line-height:1.5;font-size: 17px;font-family:\"Times New Roman\"'>\n",
    "\n",
    "__Exercice 4 - évlolution d'un population__\n",
    "\n",
    "Une population _p0_ augmente chaque année de $x$ \\%  (_percent_). Chaque année également, il y a un certain nombre fixe de départs (_leave_). On souhaite savoir en combien d'année.s la population atteindra un certain seuil (_target_). Ecrire la fonction prenant en paramètres _p0, percent, leave, target_ et qui renvoie le nombre d'années que met la population à atteindre ce seuil."
   ]
  },
  {
   "cell_type": "code",
   "execution_count": null,
   "id": "169c2cf1",
   "metadata": {},
   "outputs": [],
   "source": []
  },
  {
   "cell_type": "code",
   "execution_count": null,
   "id": "490a9cb8",
   "metadata": {},
   "outputs": [],
   "source": []
  },
  {
   "cell_type": "code",
   "execution_count": null,
   "id": "54113fbb",
   "metadata": {},
   "outputs": [],
   "source": []
  },
  {
   "cell_type": "code",
   "execution_count": null,
   "id": "9b5054d2",
   "metadata": {},
   "outputs": [],
   "source": []
  },
  {
   "cell_type": "code",
   "execution_count": null,
   "id": "28ecb295",
   "metadata": {},
   "outputs": [],
   "source": [
    "# Test : \n",
    "a,b,c,d = 1500, 5, 50, 5000 # réponse : 43\n",
    "e,f,g,h = 1500000, 2.5, 10000, 2000000 #réponse 16\n",
    "i,j,k,l = 1500000, 0.25, 1000, 2000000 #réponse  151\n"
   ]
  },
  {
   "cell_type": "code",
   "execution_count": null,
   "id": "342d5e87",
   "metadata": {},
   "outputs": [],
   "source": []
  },
  {
   "cell_type": "code",
   "execution_count": null,
   "id": "87fde7b4",
   "metadata": {},
   "outputs": [],
   "source": []
  },
  {
   "cell_type": "markdown",
   "id": "db6007e3",
   "metadata": {},
   "source": [
    "<span style='line-height:1.5;font-size: 17px;font-family:\"Times New Roman\"'>\n",
    "\n",
    "\n",
    "__Exercice 5 - fonction avec paramètre par défaut__\n",
    "\n",
    "Ecrire une fonction ayant pour paramètre une liste et permettant de renvoyer une autre liste dont les éléments sont les carrés de la première. Ajouter une option de sorte que l'on puisse choisir de renvoyer cette liste de façon inversée. Procéder ainsi :\n",
    "- Ecrire une fonction permettant de stocker au sein d'une liste les carrés des éléments de la liste mise en paramètre\n",
    "- Ajouter une option dans les paramètres (c a d, un paramètre dont la valeur est fixée par défaut). Par exemple un booléen (vrai, faux) \n",
    "- Ajouter dans le corps de la fonction une structure conditionnelle de sorte que si l'option n'est pas vérifiée, la fonction renvoie la liste des carrés, inversée"
   ]
  },
  {
   "cell_type": "code",
   "execution_count": null,
   "id": "d066de9f",
   "metadata": {},
   "outputs": [],
   "source": []
  },
  {
   "cell_type": "code",
   "execution_count": null,
   "id": "83efd58e",
   "metadata": {},
   "outputs": [],
   "source": []
  },
  {
   "cell_type": "code",
   "execution_count": null,
   "id": "64037ca7",
   "metadata": {},
   "outputs": [],
   "source": [
    "# 1. trouver un moyen d'inverser une liste\n",
    "# 2. poser une option (dans les paramètres) égale à False\n",
    "# 3. si l'option est vraie, alors on retournera la liste \"resultat\" inversée"
   ]
  },
  {
   "cell_type": "code",
   "execution_count": null,
   "id": "4673163d",
   "metadata": {},
   "outputs": [],
   "source": [
    "# Tester avec les deux options : op=False et op=True\n",
    "l1 = [1,2,3]\n",
    "print(square(l1, False))\n",
    "print(square(l1, True))"
   ]
  },
  {
   "cell_type": "code",
   "execution_count": null,
   "id": "845fc41e",
   "metadata": {},
   "outputs": [],
   "source": []
  },
  {
   "cell_type": "code",
   "execution_count": null,
   "id": "09967870",
   "metadata": {},
   "outputs": [],
   "source": []
  },
  {
   "cell_type": "markdown",
   "id": "ba7f8dfb",
   "metadata": {},
   "source": [
    "<span style='line-height:1.5;font-size: 17px;font-family:\"Times New Roman\"'>\n",
    "\n",
    "\n",
    "__Exercice 6 - ça ressemble à un exo de la séance 4...__\n",
    "    \n",
    "    \n",
    "Nous avons à disposition une base de données contenant des adresses mails (`mails.txt`). Importez ces données sous python (utilisez le moyen que vous souhaitez). \n",
    "    \n",
    "<br>\n",
    "    \n",
    "L'objectif est de créer une base de données avec trois colonnes : \n",
    "    \n",
    "- colonne1 : contient les prénoms (avec majuscules) \n",
    "    \n",
    "- colonne2 : nom\n",
    "    \n",
    "- colonne3 : adresse mail\n",
    "    \n",
    "<br>\n",
    "    \n",
    "Maintenant que vous savez le faire pour une base de données, écrivez une fonction permettant de généraliser ce code à toute nouvelle liste de mail. \n",
    "\n"
   ]
  },
  {
   "cell_type": "code",
   "execution_count": null,
   "id": "aaa17e0f",
   "metadata": {},
   "outputs": [],
   "source": []
  },
  {
   "cell_type": "code",
   "execution_count": null,
   "id": "54bb0742",
   "metadata": {},
   "outputs": [],
   "source": []
  },
  {
   "cell_type": "code",
   "execution_count": null,
   "id": "31486d34",
   "metadata": {},
   "outputs": [],
   "source": []
  },
  {
   "cell_type": "code",
   "execution_count": null,
   "id": "80f51052",
   "metadata": {},
   "outputs": [],
   "source": []
  }
 ],
 "metadata": {
  "kernelspec": {
   "display_name": "Python 3 (ipykernel)",
   "language": "python",
   "name": "python3"
  },
  "language_info": {
   "codemirror_mode": {
    "name": "ipython",
    "version": 3
   },
   "file_extension": ".py",
   "mimetype": "text/x-python",
   "name": "python",
   "nbconvert_exporter": "python",
   "pygments_lexer": "ipython3",
   "version": "3.9.7"
  },
  "toc": {
   "base_numbering": 1,
   "nav_menu": {},
   "number_sections": true,
   "sideBar": true,
   "skip_h1_title": false,
   "title_cell": "Table of Contents",
   "title_sidebar": "Contents",
   "toc_cell": false,
   "toc_position": {},
   "toc_section_display": true,
   "toc_window_display": false
  },
  "varInspector": {
   "cols": {
    "lenName": 16,
    "lenType": 16,
    "lenVar": 40
   },
   "kernels_config": {
    "python": {
     "delete_cmd_postfix": "",
     "delete_cmd_prefix": "del ",
     "library": "var_list.py",
     "varRefreshCmd": "print(var_dic_list())"
    },
    "r": {
     "delete_cmd_postfix": ") ",
     "delete_cmd_prefix": "rm(",
     "library": "var_list.r",
     "varRefreshCmd": "cat(var_dic_list()) "
    }
   },
   "types_to_exclude": [
    "module",
    "function",
    "builtin_function_or_method",
    "instance",
    "_Feature"
   ],
   "window_display": false
  }
 },
 "nbformat": 4,
 "nbformat_minor": 5
}
