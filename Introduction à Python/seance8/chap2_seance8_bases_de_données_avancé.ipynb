{
 "cells": [
  {
   "cell_type": "markdown",
   "metadata": {},
   "source": [
    "<span style='line-height:1.5;font-size: 17px;font-family:\"Times New Roman\"'>\n",
    "\n",
    "\n",
    "<b><center><font size=\"6\">Introduction à python - Séance 8</font></center></b>\n",
    "\n",
    "<b><center><font size=\"6\">Gestion de base de données sous python</font></center></b>\n",
    "    \n",
    "<g><h7><center> CM - P. Durand  - pierre.durand@u-pec.fr </center></h7></g>\n",
    "\n",
    "\n",
    "\n",
    "<b><center><font size=\"5\">M1 - 2024-2025</font></center></b> \n",
    "\n",
    "\n",
    "\n",
    "</span>"
   ]
  },
  {
   "cell_type": "markdown",
   "metadata": {},
   "source": [
    "<span style='line-height:1.5;font-size: 17px;font-family:\"Times New Roman\"'>\n",
    "\n",
    "\n",
    "\n",
    "<hr style=\" border: 2.5px solid black;\">\n",
    "<br>\n",
    "\n",
    "__Plan du cours__\n",
    "<br>\n",
    "\n",
    "- Partie I : introduction et appréhension du langage python \n",
    "    - Séance 1 - variables et syntaxe de base\n",
    "    - Séance 2 - boucles et structure conditionnelle - exercices d'application\n",
    "    - Séance 3 - exercices d'application : utilisation et combinaison des outils acquis\n",
    "    - Séance 4 - exercices d'application : prise d'autonomie sur la recherche d'information\n",
    "    \n",
    "- Partie II : apprendre à coder\n",
    "    - Séance 5 - fonctions sous python - exercices d'application\n",
    "    - Séance 6 - exercices d'application : coder des fonctions simples\n",
    "    - Séance 7 - bases de données et manipulation des données sous python - exercices d'application\n",
    "    - <b>Séance 8 - exercices d'application : manipulation de bases de données</b>\n",
    "    - Séance 9 - exercices d'application : restitution des connaissances de l'ensemble du cours\n",
    "    \n",
    "- Partie III : prise de recul sur un code python\n",
    "    - Séance 10 - commenter un code et utiliser ChatGPT "
   ]
  },
  {
   "cell_type": "markdown",
   "metadata": {},
   "source": [
    "<span style='line-height:1.5;font-size: 17px;font-family:\"Times New Roman\"'>\n",
    "\n",
    "<hr style=\" border: 2.5px solid black;\">\n",
    "<br>\n",
    "\n",
    "<b>Objectif du chapitre !</b>\n",
    "\n",
    "<p style=\"text-align: justify;\">Nous avons, jusque-là, passé du temps à manipuler les différents outils vus en chapitre introductif (les variables et leurs types, indexation, boucles, structures conditionnelles, fonctions et packages) ! Nous allons à présent nous intéresser de plus prêt à une librairie centrale la manipulation de bases de données : <b>pandas</b>. </p> \n",
    "\n",
    "<br>\n",
    "<p style=\"text-align: justify;\"> Ce package permet en effet la lecture et la manipulation de données. Il permet d'éffectuer aisément manipulations, sélections, calculs, statistiques descriptives etc... sur vos données. Nous allons, dans ce chapitre, passer en revue les fonctions & méthodes de base proposées par Pandas. </p>\n",
    "\n",
    "\n",
    "\n",
    "<b>Organisation du chapitre</b>\n",
    "\n",
    "<p style=\"text-align: justify;\"> Ce chapitre est construit sur deux parties : la première partie a pour objectif de vous faire manipuler les commandes de bases en pandas (importation et sauvegarde des données, utilisation des fonctions d'affichage, conditionnement sur les variables, et quelques statistiques descriptives de base) ; et la seconde partie a l'objectif d'aller plus loin dans la manipulation et transformation des données. </p>\n",
    "\n",
    "<br> Les concepts (fonctions, méthodes) sont présentés dans des points de cours volontairement brefs, toujours acompagnés d'exercices d'application.\n",
    "\n",
    "    \n"
   ]
  },
  {
   "cell_type": "markdown",
   "metadata": {},
   "source": [
    "<span style='line-height:1.5;font-size: 17px;font-family:\"Times New Roman\"'>\n",
    "\n",
    "<hr style=\" border: 2.5px solid black;\">\n",
    "<br>\n",
    "\n",
    "# Bases de pandas <font color='blue' size=\"1.5\"><i>[Plan du cours](#plan)</i></font><a id='p1'></a>\n",
    "\n",
    "<br> __Note__ : Si vous avez suivi la partie 3 du premier chaptitre, cette partie peut être relue rapidement car n'introduit pas de nouveautés.\n",
    "\n",
    "<br>\n",
    "\n",
    "__Préambule__ :\n",
    "<br> Cela va sans dire, avant d'utiliser quelconque fonction de pandas, il faut importer pandas... :"
   ]
  },
  {
   "cell_type": "code",
   "execution_count": 6,
   "metadata": {
    "ExecuteTime": {
     "end_time": "2023-11-16T12:14:26.588239Z",
     "start_time": "2023-11-16T12:14:26.581993Z"
    }
   },
   "outputs": [],
   "source": [
    "# Importer pandas sous le label \"pd\"\n",
    "import pandas as pd"
   ]
  },
  {
   "cell_type": "markdown",
   "metadata": {},
   "source": [
    "<span style='line-height:1.5;font-size: 17px;font-family:\"Times New Roman\"'>\n",
    "\n",
    "## Importer et sauvegarder les données : différents formats possibles <font color='blue' size=\"1.5\"><i>[Plan du cours](#plan)</i></font><a id='p11'></a>\n",
    "\n",
    "\n",
    "\n",
    "<br>\n",
    "<p style=\"text-align: justify;\"> Nous l'avons dit, pandas est une librairie permettant d'importer et de manipuler des données. La première étape est donc de savoir comment créer ou importer des données. Le type de variable correspondant à une base de données Pandas sous python est le type <b><i>DataFrame</i></b>.  </p>\n",
    "\n",
    "<br> Voici <b>l'une des façons</b> de créer et afficher le contenu d'un dataframe : "
   ]
  },
  {
   "cell_type": "code",
   "execution_count": 7,
   "metadata": {},
   "outputs": [
    {
     "ename": "NameError",
     "evalue": "name 'nom_du_package' is not defined",
     "output_type": "error",
     "traceback": [
      "\u001b[1;31m---------------------------------------------------------------------------\u001b[0m",
      "\u001b[1;31mNameError\u001b[0m                                 Traceback (most recent call last)",
      "Cell \u001b[1;32mIn[7], line 1\u001b[0m\n\u001b[1;32m----> 1\u001b[0m nom_du_package\u001b[38;5;241m.\u001b[39mnom_fonction( paramtres )\n",
      "\u001b[1;31mNameError\u001b[0m: name 'nom_du_package' is not defined"
     ]
    }
   ],
   "source": [
    "nom_du_package.nom_fonction( paramtres )"
   ]
  },
  {
   "cell_type": "code",
   "execution_count": null,
   "metadata": {
    "ExecuteTime": {
     "end_time": "2023-11-16T12:25:48.201410Z",
     "start_time": "2023-11-16T12:25:48.189177Z"
    }
   },
   "outputs": [],
   "source": [
    "# On importe numpy pour générer des variables aléatoires dans le dataframe\n",
    "import numpy as np\n",
    "\n",
    "# Création d'un petit dataframe pour les exemples\n",
    "df_exemple = pd.DataFrame({'A': ['foo', 'bar', 'foo', 'bar',\n",
    "                         'foo', 'bar', 'foo', 'foo']  ,\n",
    "                       'B': ['one', 'one', 'two', 'three',\n",
    "                             'two', 'two', 'one', 'three']   ,\n",
    "                       'C': np.random.randn(8)  , # génère des nombres aléatoires\n",
    "                       'D': np.random.randn(8)})\n",
    "\n",
    "# Afficher les première lignes du dataframe\n",
    "df_exemple.head(4)"
   ]
  },
  {
   "cell_type": "code",
   "execution_count": null,
   "metadata": {},
   "outputs": [],
   "source": [
    "# chemin relatif\n",
    "\n",
    "# pour partir du dossier où on est et avance dans un nouveau dossier : './'\n",
    "# pour reculer on utiliser le \"../\""
   ]
  },
  {
   "cell_type": "markdown",
   "metadata": {},
   "source": [
    "<span style='line-height:1.5;font-size: 17px;font-family:\"Times New Roman\"'>\n",
    "\n",
    "<p style=\"text-align: justify;\"> On remarque donc qu'un dataframe : \n",
    "\n",
    "- n'est rien d'autre qu'une base de données composée de colonnes et de lignes : la première ligne donne le nom des colonnes, la première colonne est créée automatiquement et sert d'indice\n",
    "- peut être créé à partir d'un dictionnaire (les nom de variables sont représentés par les clefs et les données le sont par les valeurs)\n",
    "\n",
    "<br> Il est rare que nous ayons nous même à créer nos propres données/dataframes. En effet, la plupart du temps, nos données sont enregistrées aux formats <b><i>.xlsx</i></b>, <b><i>.csv</i></b>, <b><i>.txt</i></b> ou encore <b><i>.pkl</i></b>. Nous allons donc voir comment importer ces fichiers dans un <b>dataframe</b>. \n",
    "\n",
    "<br> Commençons par le format que vous avez le plus l'habitude de rencontrer : le format excel <b><i>.xlsx</i></b> (ou <b><i>.xls</i></b>). \n",
    "</p>\n",
    "\n",
    "__Exercice 1 - Importation 1 :__\n",
    "- Importer la base de données \"croissance_chomage_france.xlsx\" dans un <b>dataframe</b>\n",
    "    - enregistrer la base de données dans un fichier dont vous connaissez le chemin d'accès.\n",
    "    - créer une variable \"chemin\" ou \"path\" prenant comme valeur la chaîne de caractères correspondant au chemin d'accès vers la base de données. <b>Attention</b> : il faut remplacer les \"\\\\\" par des \"/\" (ou par \"\\\\\\\\\") dans le chemin d'accès.\n",
    "    - à l'aide de la fonction appropriée de pandas, stocker les données dans une variable appelée <b><i>df</i></b>\n",
    "- Afficher les 5 premières lignes du dataframe\n",
    "\n",
    "_Note_ : pandas ayant été importé plus haut, pas besoin de la réimporter ici."
   ]
  },
  {
   "cell_type": "code",
   "execution_count": 11,
   "metadata": {
    "ExecuteTime": {
     "end_time": "2023-11-16T12:53:48.511722Z",
     "start_time": "2023-11-16T12:53:48.480404Z"
    }
   },
   "outputs": [
    {
     "data": {
      "text/html": [
       "<div>\n",
       "<style scoped>\n",
       "    .dataframe tbody tr th:only-of-type {\n",
       "        vertical-align: middle;\n",
       "    }\n",
       "\n",
       "    .dataframe tbody tr th {\n",
       "        vertical-align: top;\n",
       "    }\n",
       "\n",
       "    .dataframe thead th {\n",
       "        text-align: right;\n",
       "    }\n",
       "</style>\n",
       "<table border=\"1\" class=\"dataframe\">\n",
       "  <thead>\n",
       "    <tr style=\"text-align: right;\">\n",
       "      <th></th>\n",
       "      <th>Annee</th>\n",
       "      <th>Chomage</th>\n",
       "      <th>Croissance</th>\n",
       "    </tr>\n",
       "  </thead>\n",
       "  <tbody>\n",
       "    <tr>\n",
       "      <th>0</th>\n",
       "      <td>1975</td>\n",
       "      <td>2.9</td>\n",
       "      <td>-0.959867</td>\n",
       "    </tr>\n",
       "    <tr>\n",
       "      <th>1</th>\n",
       "      <td>1976</td>\n",
       "      <td>3.6</td>\n",
       "      <td>4.356756</td>\n",
       "    </tr>\n",
       "    <tr>\n",
       "      <th>2</th>\n",
       "      <td>1977</td>\n",
       "      <td>3.8</td>\n",
       "      <td>3.464292</td>\n",
       "    </tr>\n",
       "    <tr>\n",
       "      <th>3</th>\n",
       "      <td>1978</td>\n",
       "      <td>4.0</td>\n",
       "      <td>3.978549</td>\n",
       "    </tr>\n",
       "    <tr>\n",
       "      <th>4</th>\n",
       "      <td>1979</td>\n",
       "      <td>4.6</td>\n",
       "      <td>3.550000</td>\n",
       "    </tr>\n",
       "  </tbody>\n",
       "</table>\n",
       "</div>"
      ],
      "text/plain": [
       "   Annee  Chomage  Croissance\n",
       "0   1975      2.9   -0.959867\n",
       "1   1976      3.6    4.356756\n",
       "2   1977      3.8    3.464292\n",
       "3   1978      4.0    3.978549\n",
       "4   1979      4.6    3.550000"
      ]
     },
     "execution_count": 11,
     "metadata": {},
     "output_type": "execute_result"
    }
   ],
   "source": [
    "path = \"C:\\\\Users\\\\issak\\\\Documents\\\\M1\\\\Econométrie en Banque-Finance\\\\data_2\\\\\"\n",
    "\n",
    "df = pd.read_excel( path + \"croissance_chomage_france.xlsx\")\n",
    "\n",
    "df.head()"
   ]
  },
  {
   "cell_type": "markdown",
   "metadata": {},
   "source": [
    "<span style='line-height:1.5;font-size: 17px;font-family:\"Times New Roman\"'>\n",
    "\n",
    "<p style=\"text-align: justify;\">Le format excel peut être lourd et peser sur la mémoire de votre ordinateur (plus que de simples fichier <b><i>.txt</i></b> ou assimilés). Par ailleurs, si vous êtes amenés à manipuler des fichiers de taille importante, python mettra du temps à les importer avec pandas, si ces fichiers sont enregistrés au format <b><i>.xlsx</i></b>. Il est donc souvent préférable d'enregistrer les fichiers au format <b><i>.csv</i></b> ou .txt (ce qui correspond en fait, à la même chose).</p> \n",
    "\n",
    "<br> __Exercice 2 - Importation 2 :__ \n",
    "- En utilisant les fonctions appropriées, télécharger les bases de données <b>bigdata.xlsx</b> (df1) puis <b>bigdata.csv</b> (df2).\n",
    "    - Comparer le temps d'exécution des deux importations en utilisant le code suivant :\n",
    "    \n",
    "            start = time.time()\n",
    "            # mettez ici votre code pour importer les données\n",
    "            end = time.time()\n",
    "            print(end - start)\n",
    "     - Le séparateur pour le fichier <b><i>.csv</i></b> est le point-virgule (\";\")\n",
    "- Afficher la dimension des dataframes importés."
   ]
  },
  {
   "cell_type": "code",
   "execution_count": 8,
   "metadata": {
    "ExecuteTime": {
     "end_time": "2023-11-16T13:09:28.828089Z",
     "start_time": "2023-11-16T13:09:28.819460Z"
    }
   },
   "outputs": [],
   "source": [
    "# package permettant d'obtenir le temps de calcul \n",
    "import time"
   ]
  },
  {
   "cell_type": "code",
   "execution_count": 9,
   "metadata": {
    "ExecuteTime": {
     "end_time": "2023-11-16T13:26:11.808028Z",
     "start_time": "2023-11-16T13:26:11.787520Z"
    }
   },
   "outputs": [
    {
     "ename": "NameError",
     "evalue": "name 'path' is not defined",
     "output_type": "error",
     "traceback": [
      "\u001b[1;31m---------------------------------------------------------------------------\u001b[0m",
      "\u001b[1;31mNameError\u001b[0m                                 Traceback (most recent call last)",
      "Cell \u001b[1;32mIn[9], line 4\u001b[0m\n\u001b[0;32m      1\u001b[0m \u001b[38;5;66;03m# Importez \"bigdata.xlsx\"\u001b[39;00m\n\u001b[0;32m      3\u001b[0m start \u001b[38;5;241m=\u001b[39m time\u001b[38;5;241m.\u001b[39mtime()\n\u001b[1;32m----> 4\u001b[0m df1 \u001b[38;5;241m=\u001b[39m pd\u001b[38;5;241m.\u001b[39mread_excel(path \u001b[38;5;241m+\u001b[39m \u001b[38;5;124m\"\u001b[39m\u001b[38;5;124mbigdata.xlsx\u001b[39m\u001b[38;5;124m\"\u001b[39m)\n\u001b[0;32m      5\u001b[0m end \u001b[38;5;241m=\u001b[39m time\u001b[38;5;241m.\u001b[39mtime()\n\u001b[0;32m      6\u001b[0m \u001b[38;5;28mprint\u001b[39m(end \u001b[38;5;241m-\u001b[39m start)\n",
      "\u001b[1;31mNameError\u001b[0m: name 'path' is not defined"
     ]
    }
   ],
   "source": [
    "# Importez \"bigdata.xlsx\"\n",
    "\n",
    "start = time.time()\n",
    "df1 = pd.read_excel(path + \"bigdata.xlsx\")\n",
    "end = time.time()\n",
    "print(end - start)\n"
   ]
  },
  {
   "cell_type": "code",
   "execution_count": null,
   "metadata": {
    "ExecuteTime": {
     "end_time": "2023-11-16T13:26:08.845660Z",
     "start_time": "2023-11-16T13:26:08.815372Z"
    }
   },
   "outputs": [],
   "source": [
    "# Importez \"bigdata.csv\"\n",
    "\n",
    "start = time.time()\n",
    "df2 = pd.read_csv(path + \"bigdata.csv\" , sep = \";\")\n",
    "end = time.time()\n",
    "print(end - start)\n",
    "\n"
   ]
  },
  {
   "cell_type": "markdown",
   "metadata": {},
   "source": [
    "<span style='line-height:1.5;font-size: 17px;font-family:\"Times New Roman\"'>\n",
    "\n",
    "<p style=\"text-align: justify;\">On remarque donc que les fichiers <b>.csv</b> se lisent beaucoup plus vite que les fichiers <b>.xlsx</b>, tout en prenant plus de place. L'alternative à l'utilisation d'un fichier au format <b>.csv</b> est d'utiliser des fichiers au format <b>.txt</b>, qui sont de simples fichiers texte : ils se lisent aussi rapidement que les csv et prennent moins de place que les xlsx.</p> \n",
    "\n",
    "<br>__Exercice 3 - Importation 3__ :\n",
    "<br> En utilisant exactement le même code que pour importer le fichier \"bigdata.<b>csv</b>\", importez le fichier \"bigdata.<b>txt</b>\" (df3)."
   ]
  },
  {
   "cell_type": "code",
   "execution_count": 12,
   "metadata": {
    "ExecuteTime": {
     "end_time": "2023-11-16T13:26:05.528761Z",
     "start_time": "2023-11-16T13:26:05.495213Z"
    }
   },
   "outputs": [],
   "source": [
    "# Importez \"bigdata.txt\"\n",
    "\n",
    "df3 = pd.read_csv(path + \"bigdata.txt\" , sep = \";\")\n"
   ]
  },
  {
   "cell_type": "markdown",
   "metadata": {},
   "source": [
    "<span style='line-height:1.5;font-size: 17px;font-family:\"Times New Roman\"'>\n",
    "\n",
    "<p style=\"text-align: justify;\">Maintenant que vous savez importer les données, il est utile de savoir les enregistrer. En effet, après avoir effectué des manipulations ou calculs sur vos données, vous ne voulez pas avoir à les refaire à chaque nouvelle importation de vos données. Autant enregistrer sous un nouveau nom vos données. Voici comment procéder : </p>"
   ]
  },
  {
   "cell_type": "code",
   "execution_count": null,
   "metadata": {},
   "outputs": [],
   "source": [
    "# Pour un fichier .xlsx : il faut donner le chemin vers le dossier dans lequel on souhaite enregistrer les données\n",
    "    # L'option \"index=Flase\" permet de ne pas enregistrer la colonne des indices du dataframe\n",
    "df1.to_excel(path + \"bigdata.xlsx\", index=False)\n",
    "\n",
    "\n",
    "# Pour un fichier .csv : même chose sauf que l'on précise en plus le séparateur \n",
    "df2.to_csv(path + \"bigdata.csv\", index=False, sep=\";\")\n",
    "\n",
    "\n",
    "# Enfin pour enregistrer au format .txt, il faut passer par numpy :\n",
    "import numpy as np\n",
    "np.savetxt(path + \"bigdata.txt\", df3.values, delimiter=\";\", header=\";\".join(list(df2)))\n",
    "\n",
    "\n",
    "# ou avec la fonction to_csv comme pour les csv (attention à changer l'extension du fichier)\n",
    "df2.to_csv(path + \"bigdata.txt\", index=False, sep=\";\")"
   ]
  },
  {
   "cell_type": "code",
   "execution_count": 61,
   "metadata": {
    "ExecuteTime": {
     "end_time": "2023-11-16T13:24:31.544260Z",
     "start_time": "2023-11-16T13:24:21.840735Z"
    }
   },
   "outputs": [],
   "source": [
    "# Pour un fichier .xlsx : il faut donner le chemin vers le dossier dans lequel on souhaite enregistrer les données\n",
    "    # L'option \"index=Flase\" permet de ne pas enregistrer la colonne des indices du dataframe\n",
    "chemin2 = \"C:/Users/204363/Dropbox/cours/créteil/2023_2024/s1/m1_mbfa/intro_python/new_version/test/\"\n",
    "    \n",
    "df1.to_excel(chemin + \"bigdata_trans.xlsx\" )"
   ]
  },
  {
   "cell_type": "markdown",
   "metadata": {},
   "source": [
    "<span style='line-height:1.5;font-size: 17px;font-family:\"Times New Roman\"'>\n",
    "\n",
    "__Note :__ si aucune modification n'a été effectuée sur vos données, inutile de les réenregistrer.\n",
    "\n",
    "<hr style=\" border: 2.5px solid black;\">\n",
    "\n",
    "## Selections, création et suppression de variables <font color='blue' size=\"1.5\"><i>[Plan du cours](#plan)</i></font><a id='p12'></a>\n",
    "\n",
    "Pour sélectionner des variables, il faut mettre entre crochets la liste des variables souhaitée.\n",
    "\n",
    "<br> __Exercice 4 - Sélection 1 :__ \n",
    "- Affichez la variable \"Croissance\" du premier dataframe que nous avons importé (df).\n",
    "- Remarquez que ce qui en ressort est un dataframe (il est simplement contraint à n'afficher qu'une variable). Ainsi les fonctions applicables aux dataframe s'appliquent à celui-ci. Essayez en appliquant la fonction .head(5)"
   ]
  },
  {
   "cell_type": "code",
   "execution_count": 29,
   "metadata": {},
   "outputs": [
    {
     "data": {
      "text/html": [
       "<div>\n",
       "<style scoped>\n",
       "    .dataframe tbody tr th:only-of-type {\n",
       "        vertical-align: middle;\n",
       "    }\n",
       "\n",
       "    .dataframe tbody tr th {\n",
       "        vertical-align: top;\n",
       "    }\n",
       "\n",
       "    .dataframe thead th {\n",
       "        text-align: right;\n",
       "    }\n",
       "</style>\n",
       "<table border=\"1\" class=\"dataframe\">\n",
       "  <thead>\n",
       "    <tr style=\"text-align: right;\">\n",
       "      <th></th>\n",
       "      <th>Croissance</th>\n",
       "    </tr>\n",
       "  </thead>\n",
       "  <tbody>\n",
       "    <tr>\n",
       "      <th>0</th>\n",
       "      <td>-0.959867</td>\n",
       "    </tr>\n",
       "    <tr>\n",
       "      <th>1</th>\n",
       "      <td>4.356756</td>\n",
       "    </tr>\n",
       "    <tr>\n",
       "      <th>2</th>\n",
       "      <td>3.464292</td>\n",
       "    </tr>\n",
       "    <tr>\n",
       "      <th>3</th>\n",
       "      <td>3.978549</td>\n",
       "    </tr>\n",
       "    <tr>\n",
       "      <th>4</th>\n",
       "      <td>3.550000</td>\n",
       "    </tr>\n",
       "    <tr>\n",
       "      <th>5</th>\n",
       "      <td>1.578801</td>\n",
       "    </tr>\n",
       "    <tr>\n",
       "      <th>6</th>\n",
       "      <td>1.069013</td>\n",
       "    </tr>\n",
       "    <tr>\n",
       "      <th>7</th>\n",
       "      <td>2.505361</td>\n",
       "    </tr>\n",
       "    <tr>\n",
       "      <th>8</th>\n",
       "      <td>1.240853</td>\n",
       "    </tr>\n",
       "    <tr>\n",
       "      <th>9</th>\n",
       "      <td>1.513708</td>\n",
       "    </tr>\n",
       "    <tr>\n",
       "      <th>10</th>\n",
       "      <td>1.622822</td>\n",
       "    </tr>\n",
       "    <tr>\n",
       "      <th>11</th>\n",
       "      <td>2.337236</td>\n",
       "    </tr>\n",
       "    <tr>\n",
       "      <th>12</th>\n",
       "      <td>2.561909</td>\n",
       "    </tr>\n",
       "    <tr>\n",
       "      <th>13</th>\n",
       "      <td>4.743185</td>\n",
       "    </tr>\n",
       "    <tr>\n",
       "      <th>14</th>\n",
       "      <td>4.343820</td>\n",
       "    </tr>\n",
       "    <tr>\n",
       "      <th>15</th>\n",
       "      <td>2.923952</td>\n",
       "    </tr>\n",
       "    <tr>\n",
       "      <th>16</th>\n",
       "      <td>1.048180</td>\n",
       "    </tr>\n",
       "    <tr>\n",
       "      <th>17</th>\n",
       "      <td>1.599346</td>\n",
       "    </tr>\n",
       "    <tr>\n",
       "      <th>18</th>\n",
       "      <td>-0.628659</td>\n",
       "    </tr>\n",
       "    <tr>\n",
       "      <th>19</th>\n",
       "      <td>2.358372</td>\n",
       "    </tr>\n",
       "    <tr>\n",
       "      <th>20</th>\n",
       "      <td>2.106651</td>\n",
       "    </tr>\n",
       "    <tr>\n",
       "      <th>21</th>\n",
       "      <td>1.412996</td>\n",
       "    </tr>\n",
       "    <tr>\n",
       "      <th>22</th>\n",
       "      <td>2.336329</td>\n",
       "    </tr>\n",
       "    <tr>\n",
       "      <th>23</th>\n",
       "      <td>3.588629</td>\n",
       "    </tr>\n",
       "    <tr>\n",
       "      <th>24</th>\n",
       "      <td>3.421352</td>\n",
       "    </tr>\n",
       "    <tr>\n",
       "      <th>25</th>\n",
       "      <td>3.923712</td>\n",
       "    </tr>\n",
       "    <tr>\n",
       "      <th>26</th>\n",
       "      <td>1.983712</td>\n",
       "    </tr>\n",
       "    <tr>\n",
       "      <th>27</th>\n",
       "      <td>1.135542</td>\n",
       "    </tr>\n",
       "    <tr>\n",
       "      <th>28</th>\n",
       "      <td>0.823123</td>\n",
       "    </tr>\n",
       "    <tr>\n",
       "      <th>29</th>\n",
       "      <td>2.829797</td>\n",
       "    </tr>\n",
       "    <tr>\n",
       "      <th>30</th>\n",
       "      <td>1.663182</td>\n",
       "    </tr>\n",
       "    <tr>\n",
       "      <th>31</th>\n",
       "      <td>2.449345</td>\n",
       "    </tr>\n",
       "    <tr>\n",
       "      <th>32</th>\n",
       "      <td>2.424740</td>\n",
       "    </tr>\n",
       "    <tr>\n",
       "      <th>33</th>\n",
       "      <td>0.254937</td>\n",
       "    </tr>\n",
       "    <tr>\n",
       "      <th>34</th>\n",
       "      <td>-2.873325</td>\n",
       "    </tr>\n",
       "    <tr>\n",
       "      <th>35</th>\n",
       "      <td>1.949459</td>\n",
       "    </tr>\n",
       "    <tr>\n",
       "      <th>36</th>\n",
       "      <td>2.192680</td>\n",
       "    </tr>\n",
       "    <tr>\n",
       "      <th>37</th>\n",
       "      <td>0.313164</td>\n",
       "    </tr>\n",
       "    <tr>\n",
       "      <th>38</th>\n",
       "      <td>0.576324</td>\n",
       "    </tr>\n",
       "    <tr>\n",
       "      <th>39</th>\n",
       "      <td>0.956169</td>\n",
       "    </tr>\n",
       "    <tr>\n",
       "      <th>40</th>\n",
       "      <td>1.112912</td>\n",
       "    </tr>\n",
       "    <tr>\n",
       "      <th>41</th>\n",
       "      <td>1.095463</td>\n",
       "    </tr>\n",
       "    <tr>\n",
       "      <th>42</th>\n",
       "      <td>2.291408</td>\n",
       "    </tr>\n",
       "    <tr>\n",
       "      <th>43</th>\n",
       "      <td>1.792889</td>\n",
       "    </tr>\n",
       "    <tr>\n",
       "      <th>44</th>\n",
       "      <td>1.508584</td>\n",
       "    </tr>\n",
       "  </tbody>\n",
       "</table>\n",
       "</div>"
      ],
      "text/plain": [
       "    Croissance\n",
       "0    -0.959867\n",
       "1     4.356756\n",
       "2     3.464292\n",
       "3     3.978549\n",
       "4     3.550000\n",
       "5     1.578801\n",
       "6     1.069013\n",
       "7     2.505361\n",
       "8     1.240853\n",
       "9     1.513708\n",
       "10    1.622822\n",
       "11    2.337236\n",
       "12    2.561909\n",
       "13    4.743185\n",
       "14    4.343820\n",
       "15    2.923952\n",
       "16    1.048180\n",
       "17    1.599346\n",
       "18   -0.628659\n",
       "19    2.358372\n",
       "20    2.106651\n",
       "21    1.412996\n",
       "22    2.336329\n",
       "23    3.588629\n",
       "24    3.421352\n",
       "25    3.923712\n",
       "26    1.983712\n",
       "27    1.135542\n",
       "28    0.823123\n",
       "29    2.829797\n",
       "30    1.663182\n",
       "31    2.449345\n",
       "32    2.424740\n",
       "33    0.254937\n",
       "34   -2.873325\n",
       "35    1.949459\n",
       "36    2.192680\n",
       "37    0.313164\n",
       "38    0.576324\n",
       "39    0.956169\n",
       "40    1.112912\n",
       "41    1.095463\n",
       "42    2.291408\n",
       "43    1.792889\n",
       "44    1.508584"
      ]
     },
     "execution_count": 29,
     "metadata": {},
     "output_type": "execute_result"
    }
   ],
   "source": [
    "df[[\"Croissance\"]]"
   ]
  },
  {
   "cell_type": "markdown",
   "metadata": {},
   "source": [
    "<span style='line-height:1.5;font-size: 17px;font-family:\"Times New Roman\"'>\n",
    "\n",
    "__Exercice 5 - Sélection 2 :__\n",
    "- Importez la base de données \"performance.<b>txt</b>\" (df_perf).\n",
    "- Afficher les 5 premières lignes des 2 dernières colonnes de ce dataframe."
   ]
  },
  {
   "cell_type": "code",
   "execution_count": 21,
   "metadata": {
    "ExecuteTime": {
     "end_time": "2023-11-16T13:49:27.514982Z",
     "start_time": "2023-11-16T13:49:27.496560Z"
    }
   },
   "outputs": [],
   "source": [
    "df_perf = pd.read_csv(path + \"performance.txt\", sep=\"\\t\")"
   ]
  },
  {
   "cell_type": "code",
   "execution_count": 14,
   "metadata": {
    "ExecuteTime": {
     "end_time": "2023-11-16T13:49:32.474577Z",
     "start_time": "2023-11-16T13:49:32.451762Z"
    }
   },
   "outputs": [
    {
     "data": {
      "text/html": [
       "<div>\n",
       "<style scoped>\n",
       "    .dataframe tbody tr th:only-of-type {\n",
       "        vertical-align: middle;\n",
       "    }\n",
       "\n",
       "    .dataframe tbody tr th {\n",
       "        vertical-align: top;\n",
       "    }\n",
       "\n",
       "    .dataframe thead th {\n",
       "        text-align: right;\n",
       "    }\n",
       "</style>\n",
       "<table border=\"1\" class=\"dataframe\">\n",
       "  <thead>\n",
       "    <tr style=\"text-align: right;\">\n",
       "      <th></th>\n",
       "      <th>ident</th>\n",
       "      <th>perf</th>\n",
       "      <th>subv</th>\n",
       "      <th>etrg</th>\n",
       "      <th>nouveau</th>\n",
       "      <th>titu</th>\n",
       "      <th>nbr</th>\n",
       "    </tr>\n",
       "  </thead>\n",
       "  <tbody>\n",
       "    <tr>\n",
       "      <th>0</th>\n",
       "      <td>906</td>\n",
       "      <td>693</td>\n",
       "      <td>67</td>\n",
       "      <td>9</td>\n",
       "      <td>11</td>\n",
       "      <td>76</td>\n",
       "      <td>247</td>\n",
       "    </tr>\n",
       "    <tr>\n",
       "      <th>1</th>\n",
       "      <td>889</td>\n",
       "      <td>570</td>\n",
       "      <td>92</td>\n",
       "      <td>21</td>\n",
       "      <td>33</td>\n",
       "      <td>79</td>\n",
       "      <td>463</td>\n",
       "    </tr>\n",
       "    <tr>\n",
       "      <th>2</th>\n",
       "      <td>887</td>\n",
       "      <td>546</td>\n",
       "      <td>97</td>\n",
       "      <td>29</td>\n",
       "      <td>36</td>\n",
       "      <td>68</td>\n",
       "      <td>395</td>\n",
       "    </tr>\n",
       "    <tr>\n",
       "      <th>3</th>\n",
       "      <td>876</td>\n",
       "      <td>571</td>\n",
       "      <td>90</td>\n",
       "      <td>27</td>\n",
       "      <td>27</td>\n",
       "      <td>87</td>\n",
       "      <td>418</td>\n",
       "    </tr>\n",
       "    <tr>\n",
       "      <th>4</th>\n",
       "      <td>888</td>\n",
       "      <td>478</td>\n",
       "      <td>89</td>\n",
       "      <td>30</td>\n",
       "      <td>44</td>\n",
       "      <td>87</td>\n",
       "      <td>520</td>\n",
       "    </tr>\n",
       "  </tbody>\n",
       "</table>\n",
       "</div>"
      ],
      "text/plain": [
       "   ident  perf  subv  etrg  nouveau  titu  nbr\n",
       "0    906   693    67     9       11    76  247\n",
       "1    889   570    92    21       33    79  463\n",
       "2    887   546    97    29       36    68  395\n",
       "3    876   571    90    27       27    87  418\n",
       "4    888   478    89    30       44    87  520"
      ]
     },
     "execution_count": 14,
     "metadata": {},
     "output_type": "execute_result"
    }
   ],
   "source": [
    "df_perf.head()"
   ]
  },
  {
   "cell_type": "code",
   "execution_count": 31,
   "metadata": {
    "ExecuteTime": {
     "end_time": "2023-11-16T13:50:39.413918Z",
     "start_time": "2023-11-16T13:50:39.389288Z"
    }
   },
   "outputs": [
    {
     "data": {
      "text/html": [
       "<div>\n",
       "<style scoped>\n",
       "    .dataframe tbody tr th:only-of-type {\n",
       "        vertical-align: middle;\n",
       "    }\n",
       "\n",
       "    .dataframe tbody tr th {\n",
       "        vertical-align: top;\n",
       "    }\n",
       "\n",
       "    .dataframe thead th {\n",
       "        text-align: right;\n",
       "    }\n",
       "</style>\n",
       "<table border=\"1\" class=\"dataframe\">\n",
       "  <thead>\n",
       "    <tr style=\"text-align: right;\">\n",
       "      <th></th>\n",
       "      <th>titu</th>\n",
       "      <th>nbr</th>\n",
       "    </tr>\n",
       "  </thead>\n",
       "  <tbody>\n",
       "    <tr>\n",
       "      <th>0</th>\n",
       "      <td>76</td>\n",
       "      <td>247</td>\n",
       "    </tr>\n",
       "    <tr>\n",
       "      <th>1</th>\n",
       "      <td>79</td>\n",
       "      <td>463</td>\n",
       "    </tr>\n",
       "    <tr>\n",
       "      <th>2</th>\n",
       "      <td>68</td>\n",
       "      <td>395</td>\n",
       "    </tr>\n",
       "    <tr>\n",
       "      <th>3</th>\n",
       "      <td>87</td>\n",
       "      <td>418</td>\n",
       "    </tr>\n",
       "    <tr>\n",
       "      <th>4</th>\n",
       "      <td>87</td>\n",
       "      <td>520</td>\n",
       "    </tr>\n",
       "  </tbody>\n",
       "</table>\n",
       "</div>"
      ],
      "text/plain": [
       "   titu  nbr\n",
       "0    76  247\n",
       "1    79  463\n",
       "2    68  395\n",
       "3    87  418\n",
       "4    87  520"
      ]
     },
     "execution_count": 31,
     "metadata": {},
     "output_type": "execute_result"
    }
   ],
   "source": [
    "df_perf[[\"titu\",\"nbr\"]].head()\n",
    "\n",
    "# ou \n",
    "\n",
    "df_perf[df_perf.columns[-2:]].head()"
   ]
  },
  {
   "cell_type": "code",
   "execution_count": 16,
   "metadata": {
    "ExecuteTime": {
     "end_time": "2023-11-16T13:51:28.065489Z",
     "start_time": "2023-11-16T13:51:28.037724Z"
    }
   },
   "outputs": [
    {
     "data": {
      "text/plain": [
       "['titu', 'nbr']"
      ]
     },
     "execution_count": 16,
     "metadata": {},
     "output_type": "execute_result"
    }
   ],
   "source": [
    "list(df_perf)[-2:]"
   ]
  },
  {
   "cell_type": "code",
   "execution_count": 17,
   "metadata": {
    "ExecuteTime": {
     "end_time": "2023-11-16T13:53:05.217338Z",
     "start_time": "2023-11-16T13:53:05.192740Z"
    }
   },
   "outputs": [
    {
     "data": {
      "text/html": [
       "<div>\n",
       "<style scoped>\n",
       "    .dataframe tbody tr th:only-of-type {\n",
       "        vertical-align: middle;\n",
       "    }\n",
       "\n",
       "    .dataframe tbody tr th {\n",
       "        vertical-align: top;\n",
       "    }\n",
       "\n",
       "    .dataframe thead th {\n",
       "        text-align: right;\n",
       "    }\n",
       "</style>\n",
       "<table border=\"1\" class=\"dataframe\">\n",
       "  <thead>\n",
       "    <tr style=\"text-align: right;\">\n",
       "      <th></th>\n",
       "      <th>titu</th>\n",
       "      <th>nbr</th>\n",
       "    </tr>\n",
       "  </thead>\n",
       "  <tbody>\n",
       "    <tr>\n",
       "      <th>0</th>\n",
       "      <td>76</td>\n",
       "      <td>247</td>\n",
       "    </tr>\n",
       "    <tr>\n",
       "      <th>1</th>\n",
       "      <td>79</td>\n",
       "      <td>463</td>\n",
       "    </tr>\n",
       "    <tr>\n",
       "      <th>2</th>\n",
       "      <td>68</td>\n",
       "      <td>395</td>\n",
       "    </tr>\n",
       "    <tr>\n",
       "      <th>3</th>\n",
       "      <td>87</td>\n",
       "      <td>418</td>\n",
       "    </tr>\n",
       "    <tr>\n",
       "      <th>4</th>\n",
       "      <td>87</td>\n",
       "      <td>520</td>\n",
       "    </tr>\n",
       "  </tbody>\n",
       "</table>\n",
       "</div>"
      ],
      "text/plain": [
       "   titu  nbr\n",
       "0    76  247\n",
       "1    79  463\n",
       "2    68  395\n",
       "3    87  418\n",
       "4    87  520"
      ]
     },
     "execution_count": 17,
     "metadata": {},
     "output_type": "execute_result"
    }
   ],
   "source": [
    "l_2der_colonnes =  list(df_perf)[-2:] \n",
    "\n",
    "df_perf[  l_2der_colonnes  ].head()"
   ]
  },
  {
   "cell_type": "markdown",
   "metadata": {},
   "source": [
    "<span style='line-height:1.5;font-size: 17px;font-family:\"Times New Roman\"'>\n",
    "\n",
    "Il est possible de poser une contrainte sur les valeurs\n",
    "\n",
    "<br> __Exercice 6 - Contraintes :__\n",
    "\n",
    "- Affichez le dataframe df pour des niveaux de croissance supérieur à 3%\n",
    "- Affichez le dataframe df pour des niveaux de croissance supérieur à 3% et des niveaux de chômage inférieur à 4%\n",
    "- Affichez le dataframe df pour les années 2000 à 2003"
   ]
  },
  {
   "cell_type": "code",
   "execution_count": 36,
   "metadata": {
    "scrolled": true
   },
   "outputs": [
    {
     "data": {
      "text/plain": [
       "9"
      ]
     },
     "execution_count": 36,
     "metadata": {},
     "output_type": "execute_result"
    }
   ],
   "source": [
    "df[df[\"Croissance\"] >3 ].shape[0]"
   ]
  },
  {
   "cell_type": "code",
   "execution_count": 40,
   "metadata": {
    "scrolled": true
   },
   "outputs": [
    {
     "data": {
      "text/html": [
       "<div>\n",
       "<style scoped>\n",
       "    .dataframe tbody tr th:only-of-type {\n",
       "        vertical-align: middle;\n",
       "    }\n",
       "\n",
       "    .dataframe tbody tr th {\n",
       "        vertical-align: top;\n",
       "    }\n",
       "\n",
       "    .dataframe thead th {\n",
       "        text-align: right;\n",
       "    }\n",
       "</style>\n",
       "<table border=\"1\" class=\"dataframe\">\n",
       "  <thead>\n",
       "    <tr style=\"text-align: right;\">\n",
       "      <th></th>\n",
       "      <th>Annee</th>\n",
       "      <th>Chomage</th>\n",
       "      <th>Croissance</th>\n",
       "    </tr>\n",
       "  </thead>\n",
       "  <tbody>\n",
       "    <tr>\n",
       "      <th>1</th>\n",
       "      <td>1976</td>\n",
       "      <td>3.6</td>\n",
       "      <td>4.356756</td>\n",
       "    </tr>\n",
       "    <tr>\n",
       "      <th>2</th>\n",
       "      <td>1977</td>\n",
       "      <td>3.8</td>\n",
       "      <td>3.464292</td>\n",
       "    </tr>\n",
       "  </tbody>\n",
       "</table>\n",
       "</div>"
      ],
      "text/plain": [
       "   Annee  Chomage  Croissance\n",
       "1   1976      3.6    4.356756\n",
       "2   1977      3.8    3.464292"
      ]
     },
     "execution_count": 40,
     "metadata": {},
     "output_type": "execute_result"
    }
   ],
   "source": [
    "df[(df[\"Croissance\"] >3) & (df[\"Chomage\"]<4)]"
   ]
  },
  {
   "cell_type": "code",
   "execution_count": 39,
   "metadata": {},
   "outputs": [
    {
     "data": {
      "text/html": [
       "<div>\n",
       "<style scoped>\n",
       "    .dataframe tbody tr th:only-of-type {\n",
       "        vertical-align: middle;\n",
       "    }\n",
       "\n",
       "    .dataframe tbody tr th {\n",
       "        vertical-align: top;\n",
       "    }\n",
       "\n",
       "    .dataframe thead th {\n",
       "        text-align: right;\n",
       "    }\n",
       "</style>\n",
       "<table border=\"1\" class=\"dataframe\">\n",
       "  <thead>\n",
       "    <tr style=\"text-align: right;\">\n",
       "      <th></th>\n",
       "      <th>Annee</th>\n",
       "      <th>Chomage</th>\n",
       "      <th>Croissance</th>\n",
       "    </tr>\n",
       "  </thead>\n",
       "  <tbody>\n",
       "    <tr>\n",
       "      <th>25</th>\n",
       "      <td>2000</td>\n",
       "      <td>8.7</td>\n",
       "      <td>3.923712</td>\n",
       "    </tr>\n",
       "    <tr>\n",
       "      <th>26</th>\n",
       "      <td>2001</td>\n",
       "      <td>7.4</td>\n",
       "      <td>1.983712</td>\n",
       "    </tr>\n",
       "    <tr>\n",
       "      <th>27</th>\n",
       "      <td>2002</td>\n",
       "      <td>7.5</td>\n",
       "      <td>1.135542</td>\n",
       "    </tr>\n",
       "    <tr>\n",
       "      <th>28</th>\n",
       "      <td>2003</td>\n",
       "      <td>8.0</td>\n",
       "      <td>0.823123</td>\n",
       "    </tr>\n",
       "  </tbody>\n",
       "</table>\n",
       "</div>"
      ],
      "text/plain": [
       "    Annee  Chomage  Croissance\n",
       "25   2000      8.7    3.923712\n",
       "26   2001      7.4    1.983712\n",
       "27   2002      7.5    1.135542\n",
       "28   2003      8.0    0.823123"
      ]
     },
     "execution_count": 39,
     "metadata": {},
     "output_type": "execute_result"
    }
   ],
   "source": [
    "df[(df[\"Annee\"] >=2000) & (df[\"Annee\"] <=2003)]"
   ]
  },
  {
   "cell_type": "markdown",
   "metadata": {},
   "source": [
    "<span style='line-height:1.5;font-size: 17px;font-family:\"Times New Roman\"'>\n",
    "\n",
    "__Exercice 7 - Création, suppression de variables :__\n",
    "\n",
    "- Créez une variables appelée 'diff' égale aux taux de croissance moins le taux de chômage\n",
    "- En quelle(s) année(s) le taux de croissance est-il supérieur au taux de chômage ? \n",
    "- Supprimez la variable 'diff'"
   ]
  },
  {
   "cell_type": "code",
   "execution_count": 43,
   "metadata": {},
   "outputs": [],
   "source": [
    "df[\"diff\"]= df[\"Croissance\"]-df[\"Chomage\"]\n",
    "df[df[\"diff\"]>0]\n",
    "\n",
    "df = df.drop('diff', axis = 1)"
   ]
  },
  {
   "cell_type": "markdown",
   "metadata": {},
   "source": [
    "<span style='line-height:1.5;font-size: 17px;font-family:\"Times New Roman\"'>\n",
    "\n",
    "<hr style=\" border: 2.5px solid black;\">\n",
    "\n",
    "## Statistiques descriptives : séries temporelles, nuage de points et histogramme<font color='blue' size=\"1.5\"><i>[Plan du cours](#plan)</i></font><a id='p13'></a>\n",
    "\n",
    "<p style=\"text-align: justify;\">Lorsque l'on a des données en séries temporelles, il est possible de facilement afficher l'évolution des variables en fonction du temps. Attention, ces graphiques ne sont possibles qu'en séries temporelles. Lorsque l'on s'intéresse à des données en coupe instantanée, on aura plus souvent recourt à une représentation des variables sous forme de nuage de points ou d'histograme. </p>\n",
    "\n",
    "<br>__Exercice 8 - Graphiques :__\n",
    "\n",
    "- Faites les graphiques des évolutions des taux de croissance et de chômage sur toute la période, puis de 2000 à 2019.\n",
    "- Représentez graphiquement le taux de chômage en fonction du taux de croissance.\n",
    "- Utilisez un histogramme pour représenter la densité de répartition du taux de chômage. "
   ]
  },
  {
   "cell_type": "code",
   "execution_count": null,
   "metadata": {},
   "outputs": [],
   "source": []
  },
  {
   "cell_type": "markdown",
   "metadata": {},
   "source": [
    "<span style='line-height:1.5;font-size: 17px;font-family:\"Times New Roman\"'>\n",
    "\n",
    "__Exercice 9 - Statistiques descriptives :__\n",
    "\n",
    "- Affichez les principales statistiques descriptives du dataframe df\n",
    "- Affichez la table de corrélation de cette même base de données"
   ]
  },
  {
   "cell_type": "code",
   "execution_count": null,
   "metadata": {},
   "outputs": [],
   "source": []
  },
  {
   "cell_type": "markdown",
   "metadata": {},
   "source": [
    "<span style='line-height:1.5;font-size: 17px;font-family:\"Times New Roman\"'>\n",
    "\n",
    "<b>Exercice - Bonus</b>\n",
    "\n",
    "- Sur le site de l'INSEE, importez les données \"Nombre de défaillances d'entreprises par date de jugement - Données brutes - France - Industrie\". \n",
    "\n",
    "- Importez ces données sous python.\n",
    "\n",
    "- Faites le graphique de l'évolution de ces variables dans le temps\n",
    "\n",
    "- Enregistrez ce graphique dans un dossier. "
   ]
  },
  {
   "cell_type": "code",
   "execution_count": null,
   "metadata": {},
   "outputs": [],
   "source": []
  },
  {
   "cell_type": "markdown",
   "metadata": {},
   "source": [
    "<span style='line-height:1.5;font-size: 17px;font-family:\"Times New Roman\"'>\n",
    "\n",
    "__Note :__ pour avoir plus de détails et d'options sur la manière dont on peut réaliser des graphiques plus complexes, consulter la partie 4. du chapitre 1, ou la documentation en ligne (voir les packages matplotlib et seaborn notamment).\n",
    "\n",
    "\n",
    "<hr style=\" border: 2.5px solid black;\">    \n",
    "<br>\n",
    "\n",
    "\n",
    "# Manipulation des données sous pandas <font color='blue' size=\"1.5\"><i>[Plan du cours](#plan)</i></font><a id='p2'></a>\n",
    "\n",
    "## Groupby (split, apply, combine) <font color='blue' size=\"1.5\"><i>[Plan du cours](#plan)</i></font><a id='p12'></a>\n",
    "\n",
    "<p style=\"text-align: justify;\"> Les utilisations de la fonction groupby sont très nombreuses et pourraient faire l'objet d'une à deux séances. L'objectif ici est donc simplement d'en comprendre le principe, d'être en mesure d'utiliser cette fonction de façon ponctuelle et éventuellement de revenir sur la documentation en cas de besoin plus important (voir la <a href=\"https://pandas.pydata.org/pandas-docs/stable/user_guide/groupby.html\"> documentation</a>). </p>\n",
    "\n",
    " \n",
    "__Groupby__ : utilisé généralement dans une procédure en trois étapes,\n",
    "- Splitting : on divise le dataframe en groupes (par individus, par années, par classe d'actif, niveau d'une variable etc...)\n",
    "- Applying : on applique une fonction aux groupes (par exemple un taux de croissance)\n",
    "- Combining : on réagrège les groupes pour reformer un dataframe avec les modifications prises en compte\n",
    "\n",
    "<br> \n",
    "    \n",
    "__Exercice 10 - apperçu de groupby__\n",
    "- Importez le fichier \"chomage_panel.txt\" sous le nom df_ch, et afficher la liste des variables\n",
    "- Utilisez la procédure groupby pour connaître le nombre de pays présent dans l'échantillon (pensez à la fonction len() ) ainsi que le nombre d'années\n",
    "- Ecrire la ligne de code permettant de grouper le dataframe par pays, tout en contraignant le dataframe à ne contenir que la colonne correspondant au taux de chômage."
   ]
  },
  {
   "cell_type": "code",
   "execution_count": null,
   "metadata": {},
   "outputs": [],
   "source": []
  },
  {
   "cell_type": "markdown",
   "metadata": {},
   "source": [
    "<span style='line-height:1.5;font-size: 17px;font-family:\"Times New Roman\"'>\n",
    "\n",
    "__Exercice 11 - apply pour centrer-réduire une variable :__\n",
    "- Ecrire une fonction prenant un dataframe d'une variable (group) en argument et renvoyant un dataframe contenant cette même variable centrée-réduite (moins la moyenne, le tout sur l'écart type).\n",
    "- Appliquez cette fonction sur le dataframe groupé par pays et restreint à la variable du taux de chômage (cf. Exercice 10). "
   ]
  },
  {
   "cell_type": "code",
   "execution_count": null,
   "metadata": {},
   "outputs": [],
   "source": []
  },
  {
   "cell_type": "markdown",
   "metadata": {},
   "source": [
    "<span style='line-height:1.5;font-size: 17px;font-family:\"Times New Roman\"'>\n",
    "\n",
    "__Exercice 12 - taux de croissance par pays__\n",
    "\n",
    "- Utilisez les fonctions groupby et .pct_change() pour créer une nouvelle variables \"Unemployement_growth_rate\" égale au taux de croissance du chômage pour chaque pays. "
   ]
  },
  {
   "cell_type": "code",
   "execution_count": null,
   "metadata": {},
   "outputs": [],
   "source": []
  },
  {
   "cell_type": "markdown",
   "metadata": {},
   "source": [
    "<span style='line-height:1.5;font-size: 17px;font-family:\"Times New Roman\"'>\n",
    "\n",
    "<p style=\"text-align: justify;\">Tout ça vous a parru compliqué ? Non ? Tant mieux !! Si ? Eh bien rassurez-vous, ces procédures sont principalement utiles dans le cadre des données de panel. En effet, il n'y a que dans ce cas où l'on a nécessairement besoin de grouper par pays (ou par date) les sous-échantillon pour leur appliquer des fonctions. Nous ne ferons pas de panel dans ce cours et ces procédures ne sont donc pas à connaitre. Cela étant, vous serez amener à mener des analyses en données de panel, maîtriser l'utilisation de ces fonctions ne peut donc qu'être un atoût ! A termes, que vous fassiez de la recherche, ou que vous partiez en travailler en entreprise, vous serez très probablement confrontés à de la manipulation de données (et bien souvent, ces data auront une structure en panel). </p>\n",
    "\n",
    "$\\Rightarrow$ Le plus vous apprendrez à manipuler les données avec outils maintenant, le plus vous vous faciliterez la tâche plus tard !\n",
    "\n",
    "<hr style=\" border: 2.5px solid black;\">\n",
    "<br>\n",
    "\n",
    "## Concat et merge <font color='blue' size=\"1.5\"><i>[Plan du cours](#plan)</i></font><a id='p12'></a>\n",
    "\n",
    "<p style=\"text-align: justify;\"> Bien souvent, lorsque l'on télécharge des données pour construire une base et conduire une étude dessus, on se retrouve avec plusieurs fichiers (parfois de sources différentes, à des formats différents, un fichier par pays etc...). Fini les copier-coller infinis sur excel !! En quelques ligne de commandes sur python, vous pourrez joindre vos différents fichiers de données. Une fois joints sur python, il ne vous restera plus qu'à enregistrer votre dataframe au format qui vous convient le mieux (économisez de la place et enregistrez vos fichier au format .txt).</p>\n",
    "\n",
    "__Exercice 13 - concatener différents fichiers de données :__\n",
    "\n",
    "- Rappel : nous avons importé deux fichiers sous deux dataframes, df (contenant notamment le chômage pour la France de 1975 à 2019) et df_ch (contenant notamment le taux de chômage des USA de 1955 à 2018). L'objectif de cet exercice est de créer un dataframe contenant, pour la France et les USA :\n",
    "    - Une variable \"Country\" (France, USA)\n",
    "    - Une variable \"Years\" (1975 à 2018)\n",
    "    - Une variable \"Unemployement\"\n",
    "\n",
    "<br>    \n",
    "    \n",
    "- Créez deux dataframes df_france et df_usa contenant les trois variables mentionnées ci-dessus pour les deux pays\n",
    "    - Commencez par créer les dataframes en faisant attention à respecter la bonne période (1975-2018). \n",
    "    - Ajoutez une variable \"Country\" pour la France (df_france). Utilisez la liste suivante : \n",
    "            \n",
    "            [\"France\" for i in range(1975,2019)]\n",
    "            \n",
    "    - Vérifiez que les deux dataframes ont les même dimensions.\n",
    "    - Changez ensuite les noms de variables.\n",
    "\n",
    "<br> \n",
    "    \n",
    "- Utilisez ensuite la fonction pour fusionner les deux bases sous un nouveau dataframe nommé df_fr_usa. \n",
    "- Vérifiez la dimension du nouveau dataframe.\n",
    "- Enregistrez le nouveau dataframe au format texte."
   ]
  },
  {
   "cell_type": "code",
   "execution_count": null,
   "metadata": {},
   "outputs": [],
   "source": []
  },
  {
   "cell_type": "markdown",
   "metadata": {},
   "source": [
    "<span style='line-height:1.5;font-size: 17px;font-family:\"Times New Roman\"'>\n",
    "\n",
    "Cet exercice offre un apperçu global des étapes à suivre pour joindre des données stockées dans différents fichiers. Se référer au chapitre 1 pour d'autres utilisation de .concat et merge.\n",
    "\n",
    "<hr style=\" border: 2.5px solid black;\">\n",
    "<br>\n",
    "\n",
    "## Statistiques descriptives avancées <font color='blue' size=\"1.5\"><i>[Plan du cours](#plan)</i></font><a id='p12'></a>\n",
    "\n",
    "Les statistiques descriptives visuelles sont assez vite limitées si l'on se contente de pandas uniquement. Pour rafiner l'esthétique de vos graphiques, de multiples packages existes, parmis lesquelles matplotlib et seaborn. Nous présentons ici quelques exemples commentés :"
   ]
  },
  {
   "cell_type": "markdown",
   "metadata": {},
   "source": [
    "<span style='line-height:1.5;font-size: 17px;font-family:\"Times New Roman\"'>\n",
    "\n",
    "__Graphique de série temporelle avec événements marquants__"
   ]
  },
  {
   "cell_type": "code",
   "execution_count": 4,
   "metadata": {},
   "outputs": [],
   "source": [
    "import matplotlib.pyplot as plt\n",
    "from matplotlib.ticker import MaxNLocator   #Pour la conversion en entier des abscisses\n",
    "\n",
    "import seaborn as sns"
   ]
  },
  {
   "cell_type": "code",
   "execution_count": null,
   "metadata": {},
   "outputs": [],
   "source": [
    "df = pd.read_excel(path + \"croissance_chomage_france.xlsx\")"
   ]
  },
  {
   "cell_type": "code",
   "execution_count": 12,
   "metadata": {},
   "outputs": [
    {
     "data": {
      "image/png": "[encoded data removed]",
      "text/plain": [
       "<Figure size 720x360 with 1 Axes>"
      ]
     },
     "metadata": {},
     "output_type": "display_data"
    }
   ],
   "source": [
    "#Définir un style de graphique avec seaborn\n",
    "sns.set_style(\"darkgrid\")\n",
    "\n",
    "#Optionnel : pour convertir les années en abscisse\n",
    "ax = plt.figure().gca()\n",
    "ax.xaxis.set_major_locator(MaxNLocator(integer=True))\n",
    "\n",
    "#Définir la taille du graphique (utile surtout pour la sauvegarde)\n",
    "plt.rcParams['figure.figsize'] = (10,5)\n",
    "\n",
    "#Titre (fontsize est une option spécifiant la taille)\n",
    "plt.title('Evolution de la croissance en France',fontsize=24)\n",
    "\n",
    "#polter les variables (X,Y) : variables de dataframes, listes, array etc... \n",
    "plt.plot(df['Annee'],df['Croissance'])\n",
    "\n",
    "#Ligne verticale rouge pour la crise\n",
    "plt.axvline(x=1979,c='red') # 2eme choc pétrolier\n",
    "plt.axvline(x=1988,c='red') # récession début 1990s\n",
    "plt.axvline(x=2008,c='red') # crise des subprimes\n",
    "\n",
    "\n",
    "#Spécifier les légendes sur les axes\n",
    "plt.ylabel('Croissance du PIB',fontsize=20)\n",
    "plt.xlabel('Années',fontsize=18)\n",
    "\n",
    "#Régler la taille des légendes d'axes\n",
    "plt.xticks(fontsize=16)\n",
    "plt.yticks(fontsize=16)\n",
    "\n",
    "\n",
    "\n",
    "#Sauvegarder la figure : plt.savefig(path + 'Nom_De_La_Figure.png')\n",
    "\n",
    "#Optionnel : pour un affichage propre\n",
    "plt.show()"
   ]
  },
  {
   "cell_type": "markdown",
   "metadata": {},
   "source": [
    "<span style='line-height:1.5;font-size: 17px;font-family:\"Times New Roman\"'>\n",
    "\n",
    "__Répartition et densité des variables__"
   ]
  },
  {
   "cell_type": "code",
   "execution_count": 16,
   "metadata": {},
   "outputs": [],
   "source": [
    "df_ch = pd.read_csv(path + 'chomage_panel.txt', sep = \",\")"
   ]
  },
  {
   "cell_type": "code",
   "execution_count": 17,
   "metadata": {},
   "outputs": [
    {
     "data": {
      "image/png": "[encoded data removed]",
      "text/plain": [
       "<Figure size 720x360 with 2 Axes>"
      ]
     },
     "metadata": {},
     "output_type": "display_data"
    }
   ],
   "source": [
    "#Avec deux échelles : changer le style des graphiques (sinon, supperposition de deux grilles)\n",
    "sns.set_style(\"dark\")\n",
    "\n",
    "fig, ax1 = plt.subplots()\n",
    "\n",
    "ax1.set_xlabel('Values', fontsize=15)\n",
    "\n",
    "ax1.set_ylabel('Histogramme', fontsize=15)\n",
    "plt.hist(df_ch['Unemployement'], 50, facecolor='g', alpha=0.50) \n",
    "\n",
    "\n",
    "ax2 = ax1.twinx()  # Pour faire partager le même axe des abscisses aux deux graphiques\n",
    "\n",
    "ax2.set_ylabel('Densité', fontsize=15)  \n",
    "sns.kdeplot(df_ch['Unemployement'], shade=True, color=\"r\")\n",
    "\n",
    "\n",
    "fig.tight_layout()  # Ajustement des axes\n",
    "plt.show()"
   ]
  },
  {
   "cell_type": "markdown",
   "metadata": {},
   "source": [
    "<span style='line-height:1.5;font-size: 17px;font-family:\"Times New Roman\"'>\n",
    "\n",
    "__Droite de régression des MCO__"
   ]
  },
  {
   "cell_type": "code",
   "execution_count": 37,
   "metadata": {},
   "outputs": [],
   "source": [
    "import statsmodels.api as sm\n",
    "import numpy as np"
   ]
  },
  {
   "cell_type": "code",
   "execution_count": 36,
   "metadata": {},
   "outputs": [],
   "source": [
    "# Estimation par les MCO de la relation entre chomage et croissance\n",
    "    # Ajout d'une contante\n",
    "df['Constante'] = [1 for i in range(1975,2020)]\n",
    "    # Ecriture du modèle\n",
    "mod = sm.OLS(df['Chomage'], df[['Constante','Croissance']])\n",
    "    # Estimation du modèle\n",
    "res = mod.fit()"
   ]
  },
  {
   "cell_type": "code",
   "execution_count": 39,
   "metadata": {},
   "outputs": [
    {
     "data": {
      "image/png": "[encoded data removed]",
      "text/plain": [
       "<Figure size 720x360 with 1 Axes>"
      ]
     },
     "metadata": {},
     "output_type": "display_data"
    }
   ],
   "source": [
    "# Nuage de points entre croissance et chomage\n",
    "df.plot.scatter(y = 'Chomage',x = 'Croissance')\n",
    "\n",
    "# Récupération des paramètre pour la droite de régression\n",
    "constante = res.params[0]\n",
    "beta = res.params[1]\n",
    "\n",
    "# Ecriture de l'équation de la droite\n",
    "x = np.linspace(min(df['Croissance']),max(df['Croissance']), 100)\n",
    "y = constante + beta*x\n",
    "\n",
    "# Graphique de la droite de régression\n",
    "plt.plot(x, y, '-r')\n",
    "plt.show()"
   ]
  }
 ],
 "metadata": {
  "kernelspec": {
   "display_name": "Python 3 (ipykernel)",
   "language": "python",
   "name": "python3"
  },
  "language_info": {
   "codemirror_mode": {
    "name": "ipython",
    "version": 3
   },
   "file_extension": ".py",
   "mimetype": "text/x-python",
   "name": "python",
   "nbconvert_exporter": "python",
   "pygments_lexer": "ipython3",
   "version": "3.11.4"
  },
  "toc": {
   "base_numbering": 1,
   "nav_menu": {},
   "number_sections": true,
   "sideBar": true,
   "skip_h1_title": false,
   "title_cell": "Table of Contents",
   "title_sidebar": "Contents",
   "toc_cell": false,
   "toc_position": {},
   "toc_section_display": true,
   "toc_window_display": false
  },
  "varInspector": {
   "cols": {
    "lenName": 16,
    "lenType": 16,
    "lenVar": 40
   },
   "kernels_config": {
    "python": {
     "delete_cmd_postfix": "",
     "delete_cmd_prefix": "del ",
     "library": "var_list.py",
     "varRefreshCmd": "print(var_dic_list())"
    },
    "r": {
     "delete_cmd_postfix": ") ",
     "delete_cmd_prefix": "rm(",
     "library": "var_list.r",
     "varRefreshCmd": "cat(var_dic_list()) "
    }
   },
   "types_to_exclude": [
    "module",
    "function",
    "builtin_function_or_method",
    "instance",
    "_Feature"
   ],
   "window_display": false
  }
 },
 "nbformat": 4,
 "nbformat_minor": 2
}
