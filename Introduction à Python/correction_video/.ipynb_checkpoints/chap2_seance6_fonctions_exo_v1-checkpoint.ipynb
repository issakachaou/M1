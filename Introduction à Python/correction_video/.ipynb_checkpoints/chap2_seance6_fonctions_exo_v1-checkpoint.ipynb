{
 "cells": [
  {
   "cell_type": "markdown",
   "id": "93aff62a",
   "metadata": {},
   "source": [
    "<span style='line-height:1.5;font-size: 17px;font-family:\"Times New Roman\"'>\n",
    "\n",
    "\n",
    "<b><center><font size=\"6\">Introduction à python - Séance 6</font></center></b>\n",
    "\n",
    "<b><center><font size=\"6\">Coder des fonctions sous python - exercices</font></center></b>\n",
    "    \n",
    "<g><h7><center> CM - P. Durand  - pierre.durand@u-pec.fr </center></h7></g>\n",
    "\n",
    "\n",
    "\n",
    "<b><center><font size=\"5\">M1 - 2024-2025</font></center></b> \n",
    "\n",
    "\n",
    "\n",
    "</span>"
   ]
  },
  {
   "cell_type": "markdown",
   "id": "5d9f3c9b",
   "metadata": {},
   "source": [
    "<span style='line-height:1.5;font-size: 17px;font-family:\"Times New Roman\"'>\n",
    "\n",
    "\n",
    "\n",
    "<hr style=\" border: 2.5px solid black;\">\n",
    "<br>\n",
    "\n",
    "__Plan du cours__\n",
    "<br>\n",
    "\n",
    "- Partie I : introduction et appréhension du langage python \n",
    "    - Séance 1 - variables et syntaxe de base\n",
    "    - Séance 2 - boucles et structure conditionnelle - exercices d'application\n",
    "    - Séance 3 - exercices d'application : utilisation et combinaison des outils acquis\n",
    "    - Séance 4 - exercices d'application : prise d'autonomie sur la recherche d'information\n",
    "    \n",
    "- Partie II : apprendre à coder\n",
    "    - Séance 5 - fonctions sous python - exercices d'application\n",
    "    - <b>Séance 6 - exercices d'application : coder des fonctions simples</b>\n",
    "    - Séance 7 - bases de données et manipulation des données sous python - exercices d'application\n",
    "    - Séance 8 - exercices d'application : manipulation de bases de données\n",
    "    - Séance 9 - exercices d'application : restitution des connaissances de l'ensemble du cours\n",
    "    \n",
    "- Partie III : prise de recul sur un code python\n",
    "    - Séance 10 - commenter un code et utiliser ChatGPT "
   ]
  },
  {
   "cell_type": "markdown",
   "id": "e607d5a7",
   "metadata": {},
   "source": [
    "<span style='line-height:1.5;font-size: 17px;font-family:\"Times New Roman\"'>\n",
    "\n",
    "<hr style=\" border: 2.5px solid black;\">\n",
    "<br>\n",
    "\n",
    "# Exercices\n",
    "\n",
    "\n",
    "__Exercice 1 - fonction polynome__\n",
    "\n",
    "Ecrire une fonction dont le paramètre sera `x`. La fonction doit permettre de calculer la fonction suivante : \n",
    "    \n",
    "$$ x^2 + 3 \\times x + 1 $$\n",
    "    \n",
    "Vous pourrez tester votre fonction sur plusieurs valeurs de `x` :\n",
    "    \n",
    "- pour `x=1`, la fonction doit renvoyer `5`\n",
    "- pour `x=2`, la fonction doit renvoyer `11`\n",
    "- pour `x=-1`, la fonction doit renvoyer `-1`"
   ]
  },
  {
   "cell_type": "code",
   "execution_count": 1,
   "id": "a7d7aaa9",
   "metadata": {
    "ExecuteTime": {
     "end_time": "2024-12-04T09:33:42.589175Z",
     "start_time": "2024-12-04T09:33:42.584191Z"
    }
   },
   "outputs": [
    {
     "name": "stdout",
     "output_type": "stream",
     "text": [
      "5\n"
     ]
    }
   ],
   "source": [
    "x = 1\n",
    "\n",
    "res = x ** 2 + 3 * x + 1\n",
    "print(res)"
   ]
  },
  {
   "cell_type": "code",
   "execution_count": 2,
   "id": "995c1a14",
   "metadata": {
    "ExecuteTime": {
     "end_time": "2024-12-04T09:35:06.664609Z",
     "start_time": "2024-12-04T09:35:06.646670Z"
    }
   },
   "outputs": [],
   "source": [
    "def polynome(x) :\n",
    "    res = x ** 2 + 3 * x + 1\n",
    "    return res"
   ]
  },
  {
   "cell_type": "code",
   "execution_count": 4,
   "id": "4297c5b8",
   "metadata": {
    "ExecuteTime": {
     "end_time": "2024-12-04T09:35:52.388298Z",
     "start_time": "2024-12-04T09:35:52.375342Z"
    }
   },
   "outputs": [
    {
     "name": "stdout",
     "output_type": "stream",
     "text": [
      "5\n",
      "11\n",
      "-1\n",
      "41\n"
     ]
    }
   ],
   "source": [
    "print(polynome(1))\n",
    "print(polynome(2))\n",
    "print(polynome(-1))\n",
    "print(polynome(5))"
   ]
  },
  {
   "cell_type": "markdown",
   "id": "04f6454e",
   "metadata": {},
   "source": [
    "<span style='line-height:1.5;font-size: 17px;font-family:\"Times New Roman\"'>\n",
    "\n",
    "__Exercice 2 - fonction de comptage__\n",
    "\n",
    "Ecrire une fonction prenant une liste `l` comme paramètre. On suppose que cette liste sera nécessairement composée d'entier (`int`). \n",
    "    \n",
    "Votre fonction devra compter le nombre de paires présents dans la liste `l`.\n",
    "    \n",
    "Par exemple :\n",
    "    \n",
    "- pour `l = [1,2,3,4]` votre fonction doit renvoyer `2`\n",
    "- pour `une_liste = [2,2,2,2,1]`, votre fonction doit renvoyer `4`\n",
    "- etc..."
   ]
  },
  {
   "cell_type": "code",
   "execution_count": 5,
   "id": "4902a91b",
   "metadata": {
    "ExecuteTime": {
     "end_time": "2024-12-04T09:39:20.985877Z",
     "start_time": "2024-12-04T09:39:20.967275Z"
    }
   },
   "outputs": [
    {
     "name": "stdout",
     "output_type": "stream",
     "text": [
      "2\n"
     ]
    }
   ],
   "source": [
    "l = [1,2,3,4]\n",
    "\n",
    "c = 0\n",
    "for i in l :\n",
    "    if i%2 == 0 :\n",
    "        c += 1\n",
    "print(c)"
   ]
  },
  {
   "cell_type": "code",
   "execution_count": 6,
   "id": "47c83b1f",
   "metadata": {
    "ExecuteTime": {
     "end_time": "2024-12-04T09:42:01.852937Z",
     "start_time": "2024-12-04T09:42:01.846957Z"
    }
   },
   "outputs": [],
   "source": [
    "def count_even(l):\n",
    "    c = 0\n",
    "    for i in l :\n",
    "        if i%2 == 0 :\n",
    "            c += 1\n",
    "    return c  "
   ]
  },
  {
   "cell_type": "code",
   "execution_count": 7,
   "id": "a473bf29",
   "metadata": {
    "ExecuteTime": {
     "end_time": "2024-12-04T09:42:18.510358Z",
     "start_time": "2024-12-04T09:42:18.502384Z"
    }
   },
   "outputs": [
    {
     "data": {
      "text/plain": [
       "4"
      ]
     },
     "execution_count": 7,
     "metadata": {},
     "output_type": "execute_result"
    }
   ],
   "source": [
    "une_liste = [2,2,2,2,1]\n",
    "count_even(une_liste)"
   ]
  },
  {
   "cell_type": "markdown",
   "id": "eb9e07ed",
   "metadata": {},
   "source": [
    "<span style='line-height:1.5;font-size: 17px;font-family:\"Times New Roman\"'>\n",
    "\n",
    "__Exercice 3 - majuscules vers MINUSCULES (et VICE versa)__\n",
    "\n",
    "Ecrire une fonction dont le paramètre sera une chaine de caractère `s`. Si cette chaîne de caractères ne contient que des majuscules, votre fonction doit renvoyer le même texte avec uniquement des minuscules. Sinon, elle doit renvoyer le texte entièrement en majuscules. \n",
    "    \n",
    "Par exemple :\n",
    "- pour `s = bonjour`, votre fonction renvoie `BONJOUR`\n",
    "- pour `un_texte = salut TOUT le monde`, votre fonction renvoie `SALUT TOUT LE MONDE`\n",
    "- pour `str1 = TRANQUILOU BILOU`, votre fonction renvoie `tranquilou bilou`\n",
    "- etc..."
   ]
  },
  {
   "cell_type": "code",
   "execution_count": 10,
   "id": "3ce405f6",
   "metadata": {
    "ExecuteTime": {
     "end_time": "2024-12-04T10:16:44.822191Z",
     "start_time": "2024-12-04T10:16:44.807241Z"
    }
   },
   "outputs": [
    {
     "data": {
      "text/plain": [
       "False"
      ]
     },
     "execution_count": 10,
     "metadata": {},
     "output_type": "execute_result"
    }
   ],
   "source": [
    "s = \"Bonjour\"\n",
    "s.isupper()"
   ]
  },
  {
   "cell_type": "code",
   "execution_count": 13,
   "id": "2ac6e9ff",
   "metadata": {
    "ExecuteTime": {
     "end_time": "2024-12-04T10:17:52.576419Z",
     "start_time": "2024-12-04T10:17:52.567449Z"
    }
   },
   "outputs": [
    {
     "name": "stdout",
     "output_type": "stream",
     "text": [
      "bonjour\n"
     ]
    }
   ],
   "source": [
    "s = \"Bonjour\"\n",
    "if s.isupper() == True :\n",
    "    print(s)\n",
    "else : \n",
    "    print(s.lower())"
   ]
  },
  {
   "cell_type": "code",
   "execution_count": 14,
   "id": "d618647c",
   "metadata": {
    "ExecuteTime": {
     "end_time": "2024-12-04T10:19:32.346540Z",
     "start_time": "2024-12-04T10:19:32.335576Z"
    }
   },
   "outputs": [],
   "source": [
    "def min_maj(s) : \n",
    "    if s.isupper() == True :\n",
    "        return s\n",
    "    else : \n",
    "        return s.lower()"
   ]
  },
  {
   "cell_type": "code",
   "execution_count": 15,
   "id": "c2d042a6",
   "metadata": {
    "ExecuteTime": {
     "end_time": "2024-12-04T10:20:03.476230Z",
     "start_time": "2024-12-04T10:20:03.462958Z"
    }
   },
   "outputs": [
    {
     "name": "stdout",
     "output_type": "stream",
     "text": [
      "bonjour\n",
      "BONJOUR\n",
      "bonjour\n"
     ]
    }
   ],
   "source": [
    "print(min_maj(\"Bonjour\"))\n",
    "print(min_maj(\"BONJOUR\"))\n",
    "print(min_maj(\"bonjour\"))"
   ]
  },
  {
   "cell_type": "markdown",
   "id": "db6007e3",
   "metadata": {},
   "source": [
    "<span style='line-height:1.5;font-size: 17px;font-family:\"Times New Roman\"'>\n",
    "\n",
    "\n",
    "__Exercice 4 - séquence inversée__\n",
    "    \n",
    "Ecrire une fonction dont le paramètre sera un entier `n`. Votre fonction doit renvoyer la liste des entier de `1` à `n` dans l'ordre décroissant.\n",
    "    \n",
    "Par exemple :\n",
    "    \n",
    "- pour `n = 3` votre fonction doit renvoyer `[3,2,1]`\n",
    "- pour `un_entier = 5`, votre fonction doit renvoyer `[5,4,3,2,1]`\n",
    "- etc...\n",
    "\n"
   ]
  },
  {
   "cell_type": "code",
   "execution_count": 16,
   "id": "83efd58e",
   "metadata": {
    "ExecuteTime": {
     "end_time": "2024-12-04T15:19:41.486521Z",
     "start_time": "2024-12-04T15:19:41.471600Z"
    }
   },
   "outputs": [],
   "source": [
    "# premiere etape : creation d'une liste avec les entiers de 1 à n\n",
    "# deuxieme etape : inversion de la liste"
   ]
  },
  {
   "cell_type": "code",
   "execution_count": 17,
   "id": "80f51052",
   "metadata": {
    "ExecuteTime": {
     "end_time": "2024-12-04T15:21:10.265559Z",
     "start_time": "2024-12-04T15:21:10.256589Z"
    }
   },
   "outputs": [
    {
     "name": "stdout",
     "output_type": "stream",
     "text": [
      "[1, 2, 3, 4, 5, 6]\n"
     ]
    }
   ],
   "source": [
    "n = 6\n",
    "\n",
    "res = []\n",
    "for i in range(1,n+1) :\n",
    "    res.append(i)\n",
    "print(res)"
   ]
  },
  {
   "cell_type": "code",
   "execution_count": 18,
   "id": "ec05339a",
   "metadata": {
    "ExecuteTime": {
     "end_time": "2024-12-04T15:21:25.057594Z",
     "start_time": "2024-12-04T15:21:25.047627Z"
    }
   },
   "outputs": [
    {
     "name": "stdout",
     "output_type": "stream",
     "text": [
      "[6, 5, 4, 3, 2, 1]\n"
     ]
    }
   ],
   "source": [
    "res.sort(reverse=True)\n",
    "print(res)"
   ]
  },
  {
   "cell_type": "code",
   "execution_count": 19,
   "id": "e6836d4e",
   "metadata": {
    "ExecuteTime": {
     "end_time": "2024-12-04T15:23:08.487409Z",
     "start_time": "2024-12-04T15:23:08.471463Z"
    }
   },
   "outputs": [],
   "source": [
    "def rev_n_integers(n) :\n",
    "    res = []\n",
    "    for i in range(1,n+1) :\n",
    "        res.append(i)  \n",
    "\n",
    "    res.sort(reverse=True)\n",
    "\n",
    "    return res"
   ]
  },
  {
   "cell_type": "code",
   "execution_count": 20,
   "id": "45afa8ab",
   "metadata": {
    "ExecuteTime": {
     "end_time": "2024-12-04T15:23:39.649512Z",
     "start_time": "2024-12-04T15:23:39.630608Z"
    }
   },
   "outputs": [
    {
     "data": {
      "text/plain": [
       "[10, 9, 8, 7, 6, 5, 4, 3, 2, 1]"
      ]
     },
     "execution_count": 20,
     "metadata": {},
     "output_type": "execute_result"
    }
   ],
   "source": [
    "rev_n_integers(10)"
   ]
  },
  {
   "cell_type": "code",
   "execution_count": 21,
   "id": "7712d922",
   "metadata": {
    "ExecuteTime": {
     "end_time": "2024-12-04T15:23:48.972613Z",
     "start_time": "2024-12-04T15:23:48.967629Z"
    },
    "scrolled": true
   },
   "outputs": [
    {
     "data": {
      "text/plain": [
       "[51,\n",
       " 50,\n",
       " 49,\n",
       " 48,\n",
       " 47,\n",
       " 46,\n",
       " 45,\n",
       " 44,\n",
       " 43,\n",
       " 42,\n",
       " 41,\n",
       " 40,\n",
       " 39,\n",
       " 38,\n",
       " 37,\n",
       " 36,\n",
       " 35,\n",
       " 34,\n",
       " 33,\n",
       " 32,\n",
       " 31,\n",
       " 30,\n",
       " 29,\n",
       " 28,\n",
       " 27,\n",
       " 26,\n",
       " 25,\n",
       " 24,\n",
       " 23,\n",
       " 22,\n",
       " 21,\n",
       " 20,\n",
       " 19,\n",
       " 18,\n",
       " 17,\n",
       " 16,\n",
       " 15,\n",
       " 14,\n",
       " 13,\n",
       " 12,\n",
       " 11,\n",
       " 10,\n",
       " 9,\n",
       " 8,\n",
       " 7,\n",
       " 6,\n",
       " 5,\n",
       " 4,\n",
       " 3,\n",
       " 2,\n",
       " 1]"
      ]
     },
     "execution_count": 21,
     "metadata": {},
     "output_type": "execute_result"
    }
   ],
   "source": [
    "rev_n_integers(51)"
   ]
  },
  {
   "cell_type": "code",
   "execution_count": null,
   "id": "d901ee96",
   "metadata": {},
   "outputs": [],
   "source": []
  }
 ],
 "metadata": {
  "kernelspec": {
   "display_name": "Python 3 (ipykernel)",
   "language": "python",
   "name": "python3"
  },
  "language_info": {
   "codemirror_mode": {
    "name": "ipython",
    "version": 3
   },
   "file_extension": ".py",
   "mimetype": "text/x-python",
   "name": "python",
   "nbconvert_exporter": "python",
   "pygments_lexer": "ipython3",
   "version": "3.9.13"
  },
  "toc": {
   "base_numbering": 1,
   "nav_menu": {},
   "number_sections": true,
   "sideBar": true,
   "skip_h1_title": false,
   "title_cell": "Table of Contents",
   "title_sidebar": "Contents",
   "toc_cell": false,
   "toc_position": {},
   "toc_section_display": true,
   "toc_window_display": false
  },
  "varInspector": {
   "cols": {
    "lenName": 16,
    "lenType": 16,
    "lenVar": 40
   },
   "kernels_config": {
    "python": {
     "delete_cmd_postfix": "",
     "delete_cmd_prefix": "del ",
     "library": "var_list.py",
     "varRefreshCmd": "print(var_dic_list())"
    },
    "r": {
     "delete_cmd_postfix": ") ",
     "delete_cmd_prefix": "rm(",
     "library": "var_list.r",
     "varRefreshCmd": "cat(var_dic_list()) "
    }
   },
   "types_to_exclude": [
    "module",
    "function",
    "builtin_function_or_method",
    "instance",
    "_Feature"
   ],
   "window_display": false
  }
 },
 "nbformat": 4,
 "nbformat_minor": 5
}
