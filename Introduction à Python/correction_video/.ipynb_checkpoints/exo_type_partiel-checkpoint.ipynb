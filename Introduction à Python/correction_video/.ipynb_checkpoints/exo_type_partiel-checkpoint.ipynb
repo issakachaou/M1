{
 "cells": [
  {
   "cell_type": "markdown",
   "id": "4bd0ae93",
   "metadata": {},
   "source": [
    "<span style='line-height:1.5;font-size: 17px;font-family:\"Times New Roman\"'>\n",
    "\n",
    "\n",
    "<b><center><font size=\"6\">Exercice type partiel</font></center></b>\n",
    "\n",
    "    \n",
    "<g><h7><center> CM - P. Durand  - pierre.alexis.durand@hotmail.fr </center></h7></g>\n",
    "\n",
    "\n",
    "\n",
    "<b><center><font size=\"5\">M1 - 2024-2025</font></center></b> \n",
    "\n",
    "\n",
    "\n",
    "</span>"
   ]
  },
  {
   "cell_type": "markdown",
   "id": "f332abf4",
   "metadata": {},
   "source": [
    "<span style='line-height:1.5;font-size: 17px;font-family:\"Times New Roman\"'>\n",
    "\n",
    "<hr style=\" border: .5px solid black;\">\n",
    "\n",
    "<b>Objectif</b> : coder une fonction prenant une chaine de caractères en paramètre (<i>string</i> correspondant à un chiffre romain), et renvoyant le chiffre arabe correspondant. \n",
    "    \n",
    "<br>\n",
    "    \n",
    "<b>Exemple</b> : si votre fonction s'appelle `f`\n",
    "    \n",
    "```python\n",
    "s = \"MCMXC\" \n",
    "f(s)\n",
    "    \n",
    "```\n",
    "    \n",
    "renvoie\n",
    "    \n",
    "```python\n",
    "out : 1990\n",
    "```\n",
    "    \n",
    "   \n",
    "<b>Consignes</b> : \n",
    "\n",
    "- coder une fonction\n",
    "- Interdiction aux IA et aux réponses toutes faites (sur des forums par exemple)\n",
    "- Internet autorisé : uniquement pour se renseigner sur une fonction particulière ou retrouver un outil déjà vu\n",
    "- Structurer le code avec : \n",
    "    - des commentaires à l'intérieur des cellules de code (pour guider la lecture)\n",
    "    - des cellules markdown pour faire des parties (éventuellement) et expliquer le déroulement de votre travail/pensée\n",
    "- Laisser le brouillon apparent\n",
    "- Citer les sources (liste des sites internet consultés)\n",
    "\n",
    "\n",
    "\n",
    "<br>"
   ]
  },
  {
   "cell_type": "code",
   "execution_count": null,
   "id": "e1146817",
   "metadata": {},
   "outputs": [],
   "source": []
  },
  {
   "cell_type": "markdown",
   "id": "1aca12c5",
   "metadata": {},
   "source": [
    "# Résolution \n",
    "\n",
    "## Remarques \n",
    "\n",
    "- lecture de gauche à droite (boucle \"for\")\n",
    "- pour chaque élément de mon chiffre romain, on associe une valeur\n",
    "- enfin, on fait la somme de ces valeurs\n",
    "\n",
    "- problème : il existe des cas dans lesquels on doit associer deux éléments en même temps (quand il y a une lettre plus \"grande\" que celle qui la précède, on doit procéder à une soustraction).\n",
    "\n",
    "\n",
    "cas complexe : quand il y a des associations dans le chiffre romain\n",
    "\n",
    "cas simple : pas d'association\n",
    "\n"
   ]
  },
  {
   "cell_type": "markdown",
   "id": "8312b2da",
   "metadata": {},
   "source": [
    "## Résolution d'un exemple\n",
    "\n",
    "- prenons un exemple / cas particulier pour le résoudre, puis généraliser la résolution à tous les chiffres romains possibles\n",
    "\n",
    "- première étape : résolution du problème pour le cas simple \n",
    "\n",
    "\n",
    "### Le cas simple\n",
    "\n",
    "On commence par créer un dictionnaire permettant d'identifier chaque lettre / chiffre élémentaire à son correspondant en chiffre arabe. "
   ]
  },
  {
   "cell_type": "code",
   "execution_count": 16,
   "id": "7305593e",
   "metadata": {
    "ExecuteTime": {
     "end_time": "2024-11-21T10:28:12.606612Z",
     "start_time": "2024-11-21T10:28:12.598921Z"
    }
   },
   "outputs": [],
   "source": [
    "d = {\"I\":1, \"V\":5, \"X\":10, \"L\":50, \"C\":100, \"D\":500, \"M\":1000}"
   ]
  },
  {
   "cell_type": "markdown",
   "id": "fd968f6c",
   "metadata": {},
   "source": [
    "Pour résoudre le cas simple : \n",
    "- parcourir la chaine de caractères (boucle for)\n",
    "- pour chaque caractère : trouver la valeur associée (dictionnaire d)\n",
    "- ajouter chaque valeur à un compteur"
   ]
  },
  {
   "cell_type": "code",
   "execution_count": 21,
   "id": "c463c924",
   "metadata": {
    "ExecuteTime": {
     "end_time": "2024-11-21T10:34:47.948942Z",
     "start_time": "2024-11-21T10:34:47.924916Z"
    }
   },
   "outputs": [
    {
     "name": "stdout",
     "output_type": "stream",
     "text": [
      "16\n"
     ]
    }
   ],
   "source": [
    "# exemple simple\n",
    "s = \"XVI\"\n",
    "\n",
    "# création d'un compteur (pour stocker la somme)\n",
    "c = 0\n",
    "# boucle pour parcourir s\n",
    "for lettre in s : \n",
    "    c+=d[lettre]  \n",
    "    \n",
    "print(c)"
   ]
  },
  {
   "cell_type": "markdown",
   "id": "4618e0cb",
   "metadata": {},
   "source": [
    "Nous avons résolu le cas simple.\n",
    "Nous allons désormais généraliser cette solution dans une fonction :"
   ]
  },
  {
   "cell_type": "code",
   "execution_count": 30,
   "id": "abb34dfc",
   "metadata": {
    "ExecuteTime": {
     "end_time": "2024-11-21T11:02:48.038118Z",
     "start_time": "2024-11-21T11:02:48.026269Z"
    }
   },
   "outputs": [],
   "source": [
    "def traducteur(s):\n",
    "    # objectif de la fonction : traduire s (un chiffre romain) en un chiffre arabe\n",
    "    # s : str, chiffre romain à traduire\n",
    "    \n",
    "    \n",
    "    d = {\"I\":1, \"V\":5, \"X\":10, \"L\":50, \"C\":100, \"D\":500, \"M\":1000}\n",
    "    # création d'un compteur (pour stocker la somme)\n",
    "    c = 0\n",
    "    # boucle pour parcourir s\n",
    "    for lettre in s : \n",
    "        c+=d[lettre]  \n",
    "\n",
    "    return c   \n"
   ]
  },
  {
   "cell_type": "code",
   "execution_count": 31,
   "id": "17a837e6",
   "metadata": {
    "ExecuteTime": {
     "end_time": "2024-11-21T11:02:56.720938Z",
     "start_time": "2024-11-21T11:02:56.701616Z"
    }
   },
   "outputs": [
    {
     "name": "stdout",
     "output_type": "stream",
     "text": [
      "20\n",
      "8\n",
      "56\n"
     ]
    }
   ],
   "source": [
    "s1 = \"XX\" # 20\n",
    "s2 = \"VIII\" # 8\n",
    "s3 = \"LVI\" #56\n",
    "\n",
    "print(traducteur(s1))\n",
    "print(traducteur(s2))\n",
    "print(traducteur(s3))"
   ]
  },
  {
   "cell_type": "markdown",
   "id": "5d69dfaf",
   "metadata": {},
   "source": [
    "# conclusion\n",
    "\n",
    "- etat des lieux sur ce que j'ai fait : \n",
    "- resolution du cas complexe : si j'avais eu plus de temps, voici comment je procèderais :\n",
    "    - il faut parfois associer deux lettres\n",
    "    - quand la première lettre est plus petite que la deuxième (condition)\n",
    "    - implique de regarder deux lettres en même temps\n",
    "- on aura jamais une association de plus de deux lettres\n",
    "\n",
    "\n",
    "\n",
    "- on compare les lettres deux à deux. Deux cas possibles :\n",
    "    - soit la première est plus petite que la seconde : seconde - première\n",
    "    - sinon : cas standard, on ajoute la valeur au compteur"
   ]
  }
 ],
 "metadata": {
  "kernelspec": {
   "display_name": "Python 3 (ipykernel)",
   "language": "python",
   "name": "python3"
  },
  "language_info": {
   "codemirror_mode": {
    "name": "ipython",
    "version": 3
   },
   "file_extension": ".py",
   "mimetype": "text/x-python",
   "name": "python",
   "nbconvert_exporter": "python",
   "pygments_lexer": "ipython3",
   "version": "3.11.4"
  },
  "toc": {
   "base_numbering": 1,
   "nav_menu": {},
   "number_sections": true,
   "sideBar": true,
   "skip_h1_title": false,
   "title_cell": "Table of Contents",
   "title_sidebar": "Contents",
   "toc_cell": false,
   "toc_position": {},
   "toc_section_display": true,
   "toc_window_display": false
  },
  "varInspector": {
   "cols": {
    "lenName": 16,
    "lenType": 16,
    "lenVar": 40
   },
   "kernels_config": {
    "python": {
     "delete_cmd_postfix": "",
     "delete_cmd_prefix": "del ",
     "library": "var_list.py",
     "varRefreshCmd": "print(var_dic_list())"
    },
    "r": {
     "delete_cmd_postfix": ") ",
     "delete_cmd_prefix": "rm(",
     "library": "var_list.r",
     "varRefreshCmd": "cat(var_dic_list()) "
    }
   },
   "types_to_exclude": [
    "module",
    "function",
    "builtin_function_or_method",
    "instance",
    "_Feature"
   ],
   "window_display": false
  }
 },
 "nbformat": 4,
 "nbformat_minor": 5
}
