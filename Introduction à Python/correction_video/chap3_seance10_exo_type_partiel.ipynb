{
 "cells": [
  {
   "cell_type": "markdown",
   "id": "4bd0ae93",
   "metadata": {},
   "source": [
    "<span style='line-height:1.5;font-size: 17px;font-family:\"Times New Roman\"'>\n",
    "\n",
    "\n",
    "<b><center><font size=\"6\">Chap 3 - Exercice type partiel 2</font></center></b>\n",
    "\n",
    "    \n",
    "<g><h7><center> CM - P. Durand  - pierre.alexis.durand@hotmail.fr </center></h7></g>\n",
    "\n",
    "\n",
    "\n",
    "<b><center><font size=\"5\">M1 - 2024-2025</font></center></b> \n",
    "\n",
    "\n",
    "\n",
    "</span>"
   ]
  },
  {
   "cell_type": "markdown",
   "id": "755be410",
   "metadata": {},
   "source": [
    "<span style='line-height:1.5;font-size: 17px;font-family:\"Times New Roman\"'>\n",
    "\n",
    "<hr style=\" border: .5px solid black;\">\n",
    "\n",
    "   \n",
    "<b>Consignes</b> : \n",
    "    \n",
    "- Interdiction aux IA et aux réponses toutes faites (sur des forums par exemple)\n",
    "- Internet autorisé : uniquement pour se renseigner sur une fonction particulière ou retrouver un outil déjà vu\n",
    "- Structurer le code avec : \n",
    "    - des commentaires à l'intérieur des cellules de code (pour guider la lecture)\n",
    "    - des cellules markdown pour faire des parties (éventuellement) et expliquer le déroulement de votre travail/pensée\n",
    "- Laisser le brouillon apparent\n",
    "- Citer les sources (liste des sites internet consultés)\n",
    "    \n",
    "    \n",
    "<b>N.B.</b> : vous serez notés sur votre raisonnement et la logique avec laquelle vous abordez le problème posé. N'hésitez pas à développer votre cheminement de pensée.\n",
    "\n",
    "<hr style=\" border: .5px solid black;\">\n",
    "\n",
    "<br>"
   ]
  },
  {
   "cell_type": "markdown",
   "id": "d5c31aeb",
   "metadata": {},
   "source": [
    "<span style='line-height:1.5;font-size: 17px;font-family:\"Times New Roman\"'>\n",
    "    \n",
    "# Echauffement\n",
    "    \n",
    "<br>\n",
    "    \n",
    "1- A l'aide de ce qui a été vu en cours et d'une boucle `for`, proposez un code permettant de compter le nombre de caractères présents dans la chaine de caractères suivante :\n",
    "    \n",
    "<br>"
   ]
  },
  {
   "cell_type": "code",
   "execution_count": 1,
   "id": "cc3ccd9c",
   "metadata": {
    "ExecuteTime": {
     "end_time": "2024-11-28T10:16:48.777537Z",
     "start_time": "2024-11-28T10:16:48.745832Z"
    }
   },
   "outputs": [
    {
     "name": "stdout",
     "output_type": "stream",
     "text": [
      "120\n"
     ]
    }
   ],
   "source": [
    "s = \"Il y a quelque chose, quand même, chez les gens qui sont pas comme les autres... ils font plus que les autres. A. Astier\"\n",
    "c = 0\n",
    "for i in s :\n",
    "    c += 1\n",
    "print(c) "
   ]
  },
  {
   "cell_type": "markdown",
   "id": "e5bd0b0e",
   "metadata": {},
   "source": [
    "<span style='line-height:1.5;font-size: 17px;font-family:\"Times New Roman\"'>\n",
    "    \n",
    "<br>\n",
    "    \n",
    "2- En vous aidant de la réponse à la question précédente, codez une fonction permettant de compter le nombre de caractères présent dans n'importe quel chaîne de caractères. \n",
    "    \n",
    "    \n",
    "<br>"
   ]
  },
  {
   "cell_type": "code",
   "execution_count": 2,
   "id": "ebf6459d",
   "metadata": {
    "ExecuteTime": {
     "end_time": "2024-11-28T10:25:22.156088Z",
     "start_time": "2024-11-28T10:25:22.149352Z"
    }
   },
   "outputs": [],
   "source": [
    "def compteur(s) :\n",
    "    c = 0\n",
    "    for i in s :\n",
    "        c += 1    \n",
    "    return c"
   ]
  },
  {
   "cell_type": "code",
   "execution_count": 4,
   "id": "37a3ab97",
   "metadata": {
    "ExecuteTime": {
     "end_time": "2024-11-28T10:26:24.627321Z",
     "start_time": "2024-11-28T10:26:24.619453Z"
    }
   },
   "outputs": [
    {
     "data": {
      "text/plain": [
       "82"
      ]
     },
     "execution_count": 4,
     "metadata": {},
     "output_type": "execute_result"
    }
   ],
   "source": [
    "b = \"une phrase très très longue, et encore des mots, toujours des mots et tout et tout\"\n",
    "compteur(b)"
   ]
  },
  {
   "cell_type": "code",
   "execution_count": 6,
   "id": "8272f863",
   "metadata": {
    "ExecuteTime": {
     "end_time": "2024-11-28T10:27:07.998508Z",
     "start_time": "2024-11-28T10:27:07.979137Z"
    }
   },
   "outputs": [
    {
     "data": {
      "text/plain": [
       "True"
      ]
     },
     "execution_count": 6,
     "metadata": {},
     "output_type": "execute_result"
    }
   ],
   "source": [
    "len(b) == compteur(b)"
   ]
  },
  {
   "cell_type": "markdown",
   "id": "f22dab24",
   "metadata": {},
   "source": [
    "<span style='line-height:1.5;font-size: 17px;font-family:\"Times New Roman\"'>\n",
    "    \n",
    "<br>\n",
    "    \n",
    "3- En vous aidant du premier exemple donné par le lien ci-dessous, ajoutez à votre fonction un message d'erreur lorsque le paramètre donné est de type `list`.\n",
    "    \n",
    "Lien : https://www.w3schools.com/python/gloss_python_raise.asp\n",
    "    \n",
    "    \n",
    "<br>"
   ]
  },
  {
   "cell_type": "code",
   "execution_count": 7,
   "id": "8f359336",
   "metadata": {
    "ExecuteTime": {
     "end_time": "2024-11-28T10:30:47.088474Z",
     "start_time": "2024-11-28T10:30:47.080604Z"
    }
   },
   "outputs": [],
   "source": [
    "def compteur(s) :\n",
    "    if type(s) == list :\n",
    "        raise Exception(\"le paramètre est une liste \")\n",
    "     \n",
    "    \n",
    "    for i in s :\n",
    "        c += 1    \n",
    "    return c"
   ]
  },
  {
   "cell_type": "code",
   "execution_count": 8,
   "id": "67a12c84",
   "metadata": {
    "ExecuteTime": {
     "end_time": "2024-11-28T10:32:14.020034Z",
     "start_time": "2024-11-28T10:32:13.905364Z"
    }
   },
   "outputs": [
    {
     "ename": "Exception",
     "evalue": "le paramètre est une liste ",
     "output_type": "error",
     "traceback": [
      "\u001b[1;31m---------------------------------------------------------------------------\u001b[0m",
      "\u001b[1;31mException\u001b[0m                                 Traceback (most recent call last)",
      "\u001b[1;32m~\\AppData\\Local\\Temp/ipykernel_2384/818948206.py\u001b[0m in \u001b[0;36m<module>\u001b[1;34m\u001b[0m\n\u001b[0;32m      1\u001b[0m \u001b[0ml\u001b[0m \u001b[1;33m=\u001b[0m \u001b[1;33m[\u001b[0m\u001b[1;36m2\u001b[0m\u001b[1;33m,\u001b[0m\u001b[1;34m\"fg\"\u001b[0m\u001b[1;33m]\u001b[0m\u001b[1;33m\u001b[0m\u001b[1;33m\u001b[0m\u001b[0m\n\u001b[1;32m----> 2\u001b[1;33m \u001b[0mcompteur\u001b[0m\u001b[1;33m(\u001b[0m\u001b[0ml\u001b[0m\u001b[1;33m)\u001b[0m\u001b[1;33m\u001b[0m\u001b[1;33m\u001b[0m\u001b[0m\n\u001b[0m",
      "\u001b[1;32m~\\AppData\\Local\\Temp/ipykernel_2384/1418768736.py\u001b[0m in \u001b[0;36mcompteur\u001b[1;34m(s)\u001b[0m\n\u001b[0;32m      1\u001b[0m \u001b[1;32mdef\u001b[0m \u001b[0mcompteur\u001b[0m\u001b[1;33m(\u001b[0m\u001b[0ms\u001b[0m\u001b[1;33m)\u001b[0m \u001b[1;33m:\u001b[0m\u001b[1;33m\u001b[0m\u001b[1;33m\u001b[0m\u001b[0m\n\u001b[0;32m      2\u001b[0m     \u001b[1;32mif\u001b[0m \u001b[0mtype\u001b[0m\u001b[1;33m(\u001b[0m\u001b[0ms\u001b[0m\u001b[1;33m)\u001b[0m \u001b[1;33m==\u001b[0m \u001b[0mlist\u001b[0m \u001b[1;33m:\u001b[0m\u001b[1;33m\u001b[0m\u001b[1;33m\u001b[0m\u001b[0m\n\u001b[1;32m----> 3\u001b[1;33m         \u001b[1;32mraise\u001b[0m \u001b[0mException\u001b[0m\u001b[1;33m(\u001b[0m\u001b[1;34m\"le paramètre est une liste \"\u001b[0m\u001b[1;33m)\u001b[0m\u001b[1;33m\u001b[0m\u001b[1;33m\u001b[0m\u001b[0m\n\u001b[0m\u001b[0;32m      4\u001b[0m \u001b[1;33m\u001b[0m\u001b[0m\n\u001b[0;32m      5\u001b[0m     \u001b[0mc\u001b[0m \u001b[1;33m=\u001b[0m \u001b[1;36m0\u001b[0m\u001b[1;33m\u001b[0m\u001b[1;33m\u001b[0m\u001b[0m\n",
      "\u001b[1;31mException\u001b[0m: le paramètre est une liste "
     ]
    }
   ],
   "source": [
    "l = [2,\"fg\"]\n",
    "compteur(l) "
   ]
  },
  {
   "cell_type": "markdown",
   "id": "f332abf4",
   "metadata": {},
   "source": [
    "<span style='line-height:1.5;font-size: 17px;font-family:\"Times New Roman\"'>\n",
    "\n",
    "<hr style=\" border: .5px solid black;\">\n",
    "\n",
    "<span style='line-height:1.5;font-size: 17px;font-family:\"Times New Roman\"'>\n",
    "    \n",
    "# Exercice thématique\n",
    "    \n",
    "<br>\n",
    "    \n",
    "<b>Objectif </b>:  coder une fonction permettant de ranger des adresses URL dans un ordre alphabetique. Plus précisément, à partir d'une liste d'adresses URL, votre fonction doit retourner une liste de ces adresses triées par ordre alphabétique selon leur nom de domaine (\".com\", \".org\", \".gouv\", etc...). \n",
    "    \n",
    "<br>\n",
    "    \n",
    "<b>Exemple 1</b> :\n",
    "    \n",
    "```python\n",
    "addresses = [\"http//www.google.com/?x=jwxz\", \"www.baleup.aorg\"]    \n",
    "```\n",
    "deviendra :\n",
    "```python\n",
    "addresses = [\"www.baleup.aorg\", \"http//www.google.com/?x=jwxz\"]  \n",
    "```\n",
    " \n",
    "\n",
    "    \n",
    "<b>Exemple 2</b> :\n",
    "    \n",
    "```python\n",
    "addresses = [\"http//www.google.com/?x=jwxz\", \"http//www.slalums.la.cluza.fr/!z=pmly\", \"http//www.google.map.de/pm25\", \"www.baleup.aorg\"]    \n",
    "```\n",
    "deviendra :\n",
    "```python\n",
    "addresses = [\"www.baleup.aorg\", \"http//www.google.com/?x=jwxz\",  \"http//www.google.map.de/pm25\", \"http//www.slalums.la.cluza.fr/!z=pmly\" ]    \n",
    "```\n",
    "<br>\n",
    "    \n",
    "\n",
    "<b>Indice </b>: le nom de domaine sera toujours donné après le dernier `.` de l'URL.\n",
    "\n",
    "<br>\n",
    "    \n",
    "    \n",
    "<hr style=\" border: .5px solid black;\">\n",
    "    \n",
    "Bon courage !!\n",
    "    \n",
    "<hr style=\" border: .5px solid black;\">"
   ]
  },
  {
   "cell_type": "markdown",
   "id": "fd4788f0",
   "metadata": {},
   "source": [
    "# Remarques\n",
    "\n",
    "Quel est l'objectif ?\n",
    "- on a une liste composée d'URL (strings)\n",
    "- on doit trier cette liste par ordre alphabétique\n",
    "- ordre alphabétique des nom de domaine\n",
    "    => nom de domaine vient juste après le dernier \".\" des URL\n",
    "    \n",
    "<br>\n",
    "\n",
    "Comment répondre à la question ? Pistes de réflexion \n",
    "- pour une adresse : casser la chaine de caractères en fonction des \".\"\n",
    "- une fois la cassure, j'aimerais récupérer le dernier élément de la cassure\n",
    "- stocker ces derniers éléments (dans une liste vide l_domaines)\n",
    "- enfin, on va chercher à trier l_domaines"
   ]
  },
  {
   "cell_type": "markdown",
   "id": "7eb72c97",
   "metadata": {},
   "source": [
    "# Cas particulier / un exemple"
   ]
  },
  {
   "cell_type": "code",
   "execution_count": 18,
   "id": "25eafd1e",
   "metadata": {
    "ExecuteTime": {
     "end_time": "2024-12-04T16:28:28.592537Z",
     "start_time": "2024-12-04T16:28:28.575593Z"
    }
   },
   "outputs": [],
   "source": [
    "addresses = [\"http//www.google.com/?x=jwxz\", \"http//www.slalums.la.cluza.fr/!z=pmly\", \"http//www.google.map.de/pm25\", \"www.baleup.aorg\"] "
   ]
  },
  {
   "cell_type": "code",
   "execution_count": 19,
   "id": "eacb9f4e",
   "metadata": {
    "ExecuteTime": {
     "end_time": "2024-12-04T16:28:28.827341Z",
     "start_time": "2024-12-04T16:28:28.814838Z"
    }
   },
   "outputs": [
    {
     "data": {
      "text/plain": [
       "'d'"
      ]
     },
     "execution_count": 19,
     "metadata": {},
     "output_type": "execute_result"
    }
   ],
   "source": [
    "# brouillon : récupération du dernier élément d'une liste\n",
    "l = [\"a\",\"b\",\"c\",\"d\"]\n",
    "l[-1]"
   ]
  },
  {
   "cell_type": "code",
   "execution_count": 20,
   "id": "fa6cfa46",
   "metadata": {
    "ExecuteTime": {
     "end_time": "2024-12-04T16:28:29.029088Z",
     "start_time": "2024-12-04T16:28:29.023108Z"
    }
   },
   "outputs": [],
   "source": [
    "url = \"http//www.google.com/?x=jwxz\"\n",
    "domaine = url.split(\".\")[-1]"
   ]
  },
  {
   "cell_type": "code",
   "execution_count": 21,
   "id": "b9fe1a51",
   "metadata": {
    "ExecuteTime": {
     "end_time": "2024-12-04T16:28:29.265338Z",
     "start_time": "2024-12-04T16:28:29.255406Z"
    }
   },
   "outputs": [
    {
     "data": {
      "text/plain": [
       "['com/?x=jwxz', 'fr/!z=pmly', 'de/pm25', 'aorg']"
      ]
     },
     "execution_count": 21,
     "metadata": {},
     "output_type": "execute_result"
    }
   ],
   "source": [
    "l_domaines = []\n",
    "for url in addresses : \n",
    "    domaine = url.split(\".\")[-1]\n",
    "    l_domaines.append(domaine)\n",
    "l_domaines"
   ]
  },
  {
   "cell_type": "code",
   "execution_count": 22,
   "id": "a8c47dfa",
   "metadata": {
    "ExecuteTime": {
     "end_time": "2024-12-04T16:28:30.476662Z",
     "start_time": "2024-12-04T16:28:30.463705Z"
    }
   },
   "outputs": [
    {
     "name": "stdout",
     "output_type": "stream",
     "text": [
      "['aorg', 'com/?x=jwxz', 'de/pm25', 'fr/!z=pmly']\n"
     ]
    }
   ],
   "source": [
    "# trie des nom de domaine par ordre alphabétique\n",
    "l_domaines.sort()\n",
    "print(l_domaines)"
   ]
  },
  {
   "cell_type": "code",
   "execution_count": 25,
   "id": "85409d0f",
   "metadata": {
    "ExecuteTime": {
     "end_time": "2024-12-04T16:31:28.610802Z",
     "start_time": "2024-12-04T16:31:28.591865Z"
    }
   },
   "outputs": [
    {
     "data": {
      "text/plain": [
       "['www.baleup.aorg',\n",
       " 'http//www.google.com/?x=jwxz',\n",
       " 'http//www.google.map.de/pm25',\n",
       " 'http//www.slalums.la.cluza.fr/!z=pmly']"
      ]
     },
     "execution_count": 25,
     "metadata": {},
     "output_type": "execute_result"
    }
   ],
   "source": [
    "# resolution pour la liste des url : récupération les url en fonction de l_domaine\n",
    "\n",
    "# initialisation avec une lise vide\n",
    "res = []\n",
    "\n",
    "# boucle qui va chercher les noms de domaines triés par ordre alphabétique\n",
    "for domaine in l_domaines :\n",
    "    # boucle pour aller chercher les addresses url\n",
    "    for url in addresses :\n",
    "        # si le nom de domaine est présent dans l'url, on stock l'url dans la liste de résultat \"res\"\n",
    "        if domaine in url :\n",
    "            res.append(url)\n",
    "res"
   ]
  },
  {
   "cell_type": "markdown",
   "id": "22250b06",
   "metadata": {},
   "source": [
    "# Passage à la fonction "
   ]
  },
  {
   "cell_type": "code",
   "execution_count": 28,
   "id": "b384b8ab",
   "metadata": {
    "ExecuteTime": {
     "end_time": "2024-12-04T16:39:34.390737Z",
     "start_time": "2024-12-04T16:39:34.375949Z"
    }
   },
   "outputs": [],
   "source": [
    "def classement_url(l_addresses) :\n",
    "    \"\"\"\n",
    "    classement_url : classe les url d'une liste dans l'ordre alphabétique selon les noms de domaines\n",
    "    \n",
    "    addresses : list, contient les url sous forme de str\n",
    "    \"\"\"\n",
    "    \n",
    "    # initialisation : liste vide\n",
    "    l_domaines = []\n",
    "    # boucle à travers les url\n",
    "    for url in l_addresses : \n",
    "        # récupération des noms de domaine\n",
    "        domaine = url.split(\".\")[-1]\n",
    "        l_domaines.append(domaine)\n",
    "\n",
    "    # trie des nom de domaine par ordre alphabétique\n",
    "    l_domaines.sort()\n",
    "    \n",
    "    # suppression du print :\n",
    "    # print(l_domaines)  \n",
    "    \n",
    "    # initialisation avec une lise vide\n",
    "    res = []\n",
    "\n",
    "    # boucle qui va chercher les noms de domaines triés par ordre alphabétique\n",
    "    for domaine in l_domaines :\n",
    "        # boucle pour aller chercher les addresses url\n",
    "        for url in l_addresses :\n",
    "            # si le nom de domaine est présent dans l'url, on stock l'url dans la liste de résultat \"res\"\n",
    "            if domaine in url :\n",
    "                res.append(url)\n",
    "    return res   "
   ]
  },
  {
   "cell_type": "markdown",
   "id": "93fc5d99",
   "metadata": {},
   "source": [
    "## Test de la fonction "
   ]
  },
  {
   "cell_type": "code",
   "execution_count": 29,
   "id": "6fe4fe51",
   "metadata": {
    "ExecuteTime": {
     "end_time": "2024-12-04T16:39:35.640724Z",
     "start_time": "2024-12-04T16:39:35.622817Z"
    }
   },
   "outputs": [
    {
     "data": {
      "text/plain": [
       "['www.baleup.aorg',\n",
       " 'http//www.google.com/?x=jwxz',\n",
       " 'http//www.google.map.de/pm25',\n",
       " 'http//www.slalums.la.cluza.fr/!z=pmly']"
      ]
     },
     "execution_count": 29,
     "metadata": {},
     "output_type": "execute_result"
    }
   ],
   "source": [
    "addresses = [\"http//www.google.com/?x=jwxz\", \"http//www.slalums.la.cluza.fr/!z=pmly\", \"http//www.google.map.de/pm25\", \"www.baleup.aorg\"] \n",
    "classement_url(addresses)"
   ]
  },
  {
   "cell_type": "code",
   "execution_count": 30,
   "id": "fa82f271",
   "metadata": {
    "ExecuteTime": {
     "end_time": "2024-12-04T16:40:02.345241Z",
     "start_time": "2024-12-04T16:40:02.336271Z"
    }
   },
   "outputs": [
    {
     "data": {
      "text/plain": [
       "['www.baleup.aorg', 'http//www.google.com/?x=jwxz']"
      ]
     },
     "execution_count": 30,
     "metadata": {},
     "output_type": "execute_result"
    }
   ],
   "source": [
    "addresses2 = [\"http//www.google.com/?x=jwxz\", \"www.baleup.aorg\"]  \n",
    "classement_url(addresses2)"
   ]
  },
  {
   "cell_type": "markdown",
   "id": "e6be956b",
   "metadata": {},
   "source": [
    "# Ressources :\n",
    "\n",
    "- fonction split : https://www.w3schools.com/python/ref_string_split.asp"
   ]
  }
 ],
 "metadata": {
  "kernelspec": {
   "display_name": "Python 3 (ipykernel)",
   "language": "python",
   "name": "python3"
  },
  "language_info": {
   "codemirror_mode": {
    "name": "ipython",
    "version": 3
   },
   "file_extension": ".py",
   "mimetype": "text/x-python",
   "name": "python",
   "nbconvert_exporter": "python",
   "pygments_lexer": "ipython3",
   "version": "3.9.13"
  },
  "toc": {
   "base_numbering": 1,
   "nav_menu": {},
   "number_sections": true,
   "sideBar": true,
   "skip_h1_title": false,
   "title_cell": "Table of Contents",
   "title_sidebar": "Contents",
   "toc_cell": false,
   "toc_position": {},
   "toc_section_display": true,
   "toc_window_display": false
  },
  "varInspector": {
   "cols": {
    "lenName": 16,
    "lenType": 16,
    "lenVar": 40
   },
   "kernels_config": {
    "python": {
     "delete_cmd_postfix": "",
     "delete_cmd_prefix": "del ",
     "library": "var_list.py",
     "varRefreshCmd": "print(var_dic_list())"
    },
    "r": {
     "delete_cmd_postfix": ") ",
     "delete_cmd_prefix": "rm(",
     "library": "var_list.r",
     "varRefreshCmd": "cat(var_dic_list()) "
    }
   },
   "types_to_exclude": [
    "module",
    "function",
    "builtin_function_or_method",
    "instance",
    "_Feature"
   ],
   "window_display": false
  }
 },
 "nbformat": 4,
 "nbformat_minor": 5
}
