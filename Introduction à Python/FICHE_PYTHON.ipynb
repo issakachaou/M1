{
 "cells": [
  {
   "cell_type": "markdown",
   "id": "6fef35be",
   "metadata": {},
   "source": [
    "# Fiche de révision : Introduction à Python"
   ]
  },
  {
   "cell_type": "markdown",
   "id": "e87b6a1b",
   "metadata": {},
   "source": [
    "## La fonction `print()`"
   ]
  },
  {
   "cell_type": "markdown",
   "id": "2d45798c",
   "metadata": {},
   "source": [
    "La fonction `print` en Python affiche à l'écran le texte ou les données spécifiées entre ses parenthèses, permettant de les visualiser dans la console."
   ]
  },
  {
   "cell_type": "code",
   "execution_count": 1,
   "id": "b19c0b1e",
   "metadata": {
    "scrolled": false
   },
   "outputs": [
    {
     "name": "stdout",
     "output_type": "stream",
     "text": [
      "Pierre Durand\n"
     ]
    }
   ],
   "source": [
    "print(\"Pierre Durand\")"
   ]
  },
  {
   "cell_type": "markdown",
   "id": "49dd0cc6",
   "metadata": {},
   "source": [
    "## Création d'une variable chaine de caractère (`string`)"
   ]
  },
  {
   "cell_type": "markdown",
   "id": "8b2c0fb2",
   "metadata": {},
   "source": [
    "Pour créer une variable en Python, il suffit de lui donner un nom et de lui attribuer une valeur à l'aide du signe `=`."
   ]
  },
  {
   "cell_type": "code",
   "execution_count": 2,
   "id": "306a8203",
   "metadata": {
    "scrolled": true
   },
   "outputs": [
    {
     "name": "stdout",
     "output_type": "stream",
     "text": [
      "coucou\n"
     ]
    }
   ],
   "source": [
    "ma_variable = \"coucou\"\n",
    "print(ma_variable)"
   ]
  },
  {
   "cell_type": "markdown",
   "id": "0aaa598b",
   "metadata": {},
   "source": [
    "## Création d'un entier (`int`)"
   ]
  },
  {
   "cell_type": "markdown",
   "id": "044f763e",
   "metadata": {},
   "source": [
    "Représente un nombre entier (positif, négatif ou nul)"
   ]
  },
  {
   "cell_type": "code",
   "execution_count": 8,
   "id": "2139ba0c",
   "metadata": {},
   "outputs": [
    {
     "name": "stdout",
     "output_type": "stream",
     "text": [
      "10\n"
     ]
    }
   ],
   "source": [
    "x = 10\n",
    "print(x)"
   ]
  },
  {
   "cell_type": "markdown",
   "id": "e8259f93",
   "metadata": {},
   "source": [
    "## Création d'un nombre décimal (`float`)"
   ]
  },
  {
   "cell_type": "markdown",
   "id": "5ab0c26a",
   "metadata": {},
   "source": [
    "Représente un nombre à virgule flottante "
   ]
  },
  {
   "cell_type": "code",
   "execution_count": 9,
   "id": "cbc38343",
   "metadata": {},
   "outputs": [
    {
     "name": "stdout",
     "output_type": "stream",
     "text": [
      "4.5\n"
     ]
    }
   ],
   "source": [
    "y = 4.5\n",
    "print(y)"
   ]
  },
  {
   "cell_type": "markdown",
   "id": "de1f35fc",
   "metadata": {},
   "source": [
    "## Création d'un nombre complexe (`complex`)"
   ]
  },
  {
   "cell_type": "markdown",
   "id": "bfac3a7a",
   "metadata": {},
   "source": [
    "Représente un nombre complexe avec une partie réelle et une partie imaginaire :"
   ]
  },
  {
   "cell_type": "code",
   "execution_count": 10,
   "id": "16192c41",
   "metadata": {},
   "outputs": [
    {
     "name": "stdout",
     "output_type": "stream",
     "text": [
      "(2+3j)\n"
     ]
    }
   ],
   "source": [
    "c = 2 + 3j\n",
    "print(c)"
   ]
  },
  {
   "cell_type": "markdown",
   "id": "f647aba0",
   "metadata": {},
   "source": [
    "## Création d'un booléen"
   ]
  },
  {
   "cell_type": "markdown",
   "id": "a685923a",
   "metadata": {},
   "source": [
    "Même si techniquement ce n'est pas un type numérique, il est souvent utilisé avec des chiffres. Les booléens prennent les valeurs `True` ou `False` "
   ]
  },
  {
   "cell_type": "code",
   "execution_count": 11,
   "id": "4dbc2b57",
   "metadata": {},
   "outputs": [
    {
     "name": "stdout",
     "output_type": "stream",
     "text": [
      "True\n"
     ]
    }
   ],
   "source": [
    "mon_booleen = True\n",
    "print(mon_booleen)"
   ]
  },
  {
   "cell_type": "markdown",
   "id": "244c123a",
   "metadata": {},
   "source": [
    "## Création d'une liste "
   ]
  },
  {
   "cell_type": "markdown",
   "id": "bef87ad1",
   "metadata": {},
   "source": [
    "Une liste est une collection ordonnée et modifiable d'éléments "
   ]
  },
  {
   "cell_type": "code",
   "execution_count": 3,
   "id": "afae4383",
   "metadata": {},
   "outputs": [
    {
     "name": "stdout",
     "output_type": "stream",
     "text": [
      "[1, 2, 3, 'texte', True]\n"
     ]
    }
   ],
   "source": [
    "ma_liste = [1, 2, 3, \"texte\", True]\n",
    "print(ma_liste)"
   ]
  },
  {
   "cell_type": "markdown",
   "id": "8ab67961",
   "metadata": {},
   "source": [
    "## Création d'un tuple "
   ]
  },
  {
   "cell_type": "markdown",
   "id": "6becc413",
   "metadata": {},
   "source": [
    "Un tuple est une collection ordonnée mais immuable (non modifiable après sa création) :"
   ]
  },
  {
   "cell_type": "code",
   "execution_count": 4,
   "id": "5549db08",
   "metadata": {},
   "outputs": [
    {
     "name": "stdout",
     "output_type": "stream",
     "text": [
      "(1, 2, 3, 'texte', True)\n"
     ]
    }
   ],
   "source": [
    "mon_tuple = (1, 2, 3, \"texte\", True)\n",
    "print(mon_tuple)"
   ]
  },
  {
   "cell_type": "markdown",
   "id": "d8d5ef3d",
   "metadata": {},
   "source": [
    "## Création d'un dictionnaire "
   ]
  },
  {
   "cell_type": "markdown",
   "id": "133b5ce2",
   "metadata": {},
   "source": [
    "Un dictionnaire est une collection non ordonnée de paires clé-valeur :"
   ]
  },
  {
   "cell_type": "code",
   "execution_count": 7,
   "id": "caa8d5af",
   "metadata": {},
   "outputs": [
    {
     "name": "stdout",
     "output_type": "stream",
     "text": [
      "{'nom': 'Alice', 'âge': 25, 'actif': True}\n"
     ]
    }
   ],
   "source": [
    "mon_dictionnaire = {\"nom\": \"Alice\", \"âge\": 25, \"actif\": True}\n",
    "print(mon_dictionnaire)"
   ]
  },
  {
   "cell_type": "markdown",
   "id": "1c8e842a",
   "metadata": {},
   "source": [
    "## La fonction `len()`"
   ]
  },
  {
   "cell_type": "markdown",
   "id": "3271a8cf",
   "metadata": {},
   "source": [
    "La fonction `len` permet de connaître la longueur (nombre d'éléments) d'une collection comme une liste, une chaîne de caractères, un tuple, etc."
   ]
  },
  {
   "cell_type": "code",
   "execution_count": 12,
   "id": "40edcc7b",
   "metadata": {},
   "outputs": [
    {
     "name": "stdout",
     "output_type": "stream",
     "text": [
      "4\n"
     ]
    }
   ],
   "source": [
    "ma_liste = [1, 2, 3, 4]\n",
    "longueur_liste = len(ma_liste)  \n",
    "print(longueur_liste)"
   ]
  },
  {
   "cell_type": "code",
   "execution_count": 13,
   "id": "d1814616",
   "metadata": {},
   "outputs": [
    {
     "name": "stdout",
     "output_type": "stream",
     "text": [
      "7\n"
     ]
    }
   ],
   "source": [
    "mon_texte = \"Bonjour\"\n",
    "longueur_texte = len(mon_texte)\n",
    "print(longueur_texte)"
   ]
  },
  {
   "cell_type": "markdown",
   "id": "49553d13",
   "metadata": {},
   "source": [
    "## Les ensembles (`set`)"
   ]
  },
  {
   "cell_type": "markdown",
   "id": "822b3c4c",
   "metadata": {},
   "source": [
    "Un ensemble en Python est une collection non ordonnée d'éléments uniques. Cela signifie qu'il n'y a pas de doublons dans un ensemble. Les ensembles sont très utiles lorsque vous voulez éliminer les valeurs redondantes dans une liste ou effectuer des opérations comme l'union, l'intersection ou la différence."
   ]
  },
  {
   "cell_type": "code",
   "execution_count": 2,
   "id": "16e4a54b",
   "metadata": {
    "scrolled": true
   },
   "outputs": [
    {
     "name": "stdout",
     "output_type": "stream",
     "text": [
      "Liste d'origine : [1, 1, 2, 2, 2, 3, 4, 5]\n",
      "Ensemble (sans doublons) : {1, 2, 3, 4, 5}\n",
      "Type de la variable : <class 'set'>\n"
     ]
    }
   ],
   "source": [
    "ma_liste = [1, 1, 2, 2, 2, 3, 4, 5]\n",
    "mon_set = set(ma_liste)\n",
    "\n",
    "print(\"Liste d'origine :\", ma_liste)  # Affiche la liste initiale\n",
    "print(\"Ensemble (sans doublons) :\", mon_set)  # Affiche l'ensemble unique\n",
    "print(\"Type de la variable :\", type(mon_set))  # Affiche <class 'set'>"
   ]
  },
  {
   "cell_type": "markdown",
   "id": "0babf650",
   "metadata": {},
   "source": [
    "## Les opérateurs arithmétiques"
   ]
  },
  {
   "cell_type": "code",
   "execution_count": 3,
   "id": "065d00dd",
   "metadata": {
    "scrolled": true
   },
   "outputs": [
    {
     "name": "stdout",
     "output_type": "stream",
     "text": [
      "Addition (a + b) : 35\n",
      "Soustraction (a - b) : 15\n",
      "Multiplication (a * b) : 250\n",
      "Division (a / b) : 2.5\n",
      "Modulus (a % b) : 5\n",
      "Puissance (a ** b) : 95367431640625\n",
      "Division entière (a // b) : 2\n"
     ]
    }
   ],
   "source": [
    "# Déclaration des variables\n",
    "a, b = 25, 10\n",
    "\n",
    "# Addition\n",
    "c = a + b\n",
    "print(\"Addition (a + b) :\", c)  # Résultat : 35\n",
    "\n",
    "# Soustraction\n",
    "c = a - b\n",
    "print(\"Soustraction (a - b) :\", c)  # Résultat : 15\n",
    "\n",
    "# Multiplication\n",
    "c = a * b\n",
    "print(\"Multiplication (a * b) :\", c)  # Résultat : 250\n",
    "\n",
    "# Division\n",
    "c = a / b\n",
    "print(\"Division (a / b) :\", c)  # Résultat : 2.5\n",
    "\n",
    "# Modulus (reste de la division)\n",
    "c = a % b\n",
    "print(\"Modulus (a % b) :\", c)  # Résultat : 5\n",
    "\n",
    "# Puissance\n",
    "c = a ** b\n",
    "print(\"Puissance (a ** b) :\", c)  # Résultat : 95367431640625\n",
    "\n",
    "# Division entière\n",
    "c = a // b\n",
    "print(\"Division entière (a // b) :\", c)  # Résultat : 2"
   ]
  },
  {
   "cell_type": "markdown",
   "id": "3123d1a6",
   "metadata": {},
   "source": [
    "## Les opérateurs de comparaison"
   ]
  },
  {
   "cell_type": "code",
   "execution_count": 4,
   "id": "9196a954",
   "metadata": {
    "scrolled": true
   },
   "outputs": [
    {
     "name": "stdout",
     "output_type": "stream",
     "text": [
      "a == b : False\n",
      "a != b : True\n",
      "a > b : True\n",
      "a < b : False\n",
      "a >= b : True\n",
      "a <= b : False\n"
     ]
    }
   ],
   "source": [
    "# Déclaration des variables\n",
    "a, b = 25, 10\n",
    "\n",
    "# Comparaison d'égalité\n",
    "print(\"a == b :\", a == b)  # Résultat : False\n",
    "\n",
    "# Différent de\n",
    "print(\"a != b :\", a != b)  # Résultat : True\n",
    "\n",
    "# Supérieur à\n",
    "print(\"a > b :\", a > b)  # Résultat : True\n",
    "\n",
    "# Inférieur à\n",
    "print(\"a < b :\", a < b)  # Résultat : False\n",
    "\n",
    "# Supérieur ou égal\n",
    "print(\"a >= b :\", a >= b)  # Résultat : True\n",
    "\n",
    "# Inférieur ou égal\n",
    "print(\"a <= b :\", a <= b)  # Résultat : False"
   ]
  },
  {
   "cell_type": "markdown",
   "id": "5081a964",
   "metadata": {},
   "source": [
    "## Les opérateurs d'assignations"
   ]
  },
  {
   "cell_type": "code",
   "execution_count": 5,
   "id": "3a6cd5a9",
   "metadata": {},
   "outputs": [
    {
     "name": "stdout",
     "output_type": "stream",
     "text": [
      "21\n",
      "15\n",
      "90\n",
      "15.0\n",
      "3.0\n",
      "729.0\n",
      "121.0\n"
     ]
    }
   ],
   "source": [
    "b = 15     # Attribuer une valeur à une variable\n",
    "\n",
    "b+=6       # Ajoute 6 à la variable b, equivalent à    b = b + 6 \n",
    "print(b)   \n",
    "b -= 6     # Soustrait 6 à la variable b\n",
    "print(b)\n",
    "b *= 6     # Multiplie b par 6\n",
    "print(b)\n",
    "b /= 6     # Divise b par 6\n",
    "print(b)\n",
    "b %= 6     # Renvoie la partie décimale (reste) du quotient b/6\n",
    "print(b)\n",
    "b **= 6    # Renvoie b puissance 6\n",
    "print(b)\n",
    "b //= 6    # Renvoi la partie entiere de la division b / 6\n",
    "print(b)"
   ]
  },
  {
   "cell_type": "markdown",
   "id": "85b14d56",
   "metadata": {},
   "source": [
    "## Les opérateurs logiques"
   ]
  },
  {
   "cell_type": "code",
   "execution_count": 6,
   "id": "f1782f22",
   "metadata": {},
   "outputs": [
    {
     "name": "stdout",
     "output_type": "stream",
     "text": [
      "False\n",
      "True\n",
      "True\n"
     ]
    }
   ],
   "source": [
    "a, b = True, False\n",
    "print(a and b)    # revoie False\n",
    "print(a or b)     # revoie True\n",
    "print(not(a and b)) # revoie True"
   ]
  },
  {
   "cell_type": "markdown",
   "id": "fcd8cc77",
   "metadata": {},
   "source": [
    "## Les opérateurs d'adhésions"
   ]
  },
  {
   "cell_type": "code",
   "execution_count": 7,
   "id": "a19cdda5",
   "metadata": {},
   "outputs": [
    {
     "name": "stdout",
     "output_type": "stream",
     "text": [
      "True\n",
      "False\n",
      "False\n"
     ]
    }
   ],
   "source": [
    "a = [1, 2, 3, 4, 5]\n",
    "print(1 in a)  # renvoi True\n",
    "print(6 in a)  # renvoi False\n",
    "print(5 not in a) # renvoi False"
   ]
  },
  {
   "cell_type": "markdown",
   "id": "af112d34",
   "metadata": {},
   "source": [
    "## Opérateurs d'identités"
   ]
  },
  {
   "cell_type": "code",
   "execution_count": 15,
   "id": "93e37818",
   "metadata": {},
   "outputs": [
    {
     "name": "stderr",
     "output_type": "stream",
     "text": [
      "<>:1: SyntaxWarning: \"is\" with a literal. Did you mean \"==\"?\n",
      "<>:2: SyntaxWarning: \"is not\" with a literal. Did you mean \"!=\"?\n",
      "<>:1: SyntaxWarning: \"is\" with a literal. Did you mean \"==\"?\n",
      "<>:2: SyntaxWarning: \"is not\" with a literal. Did you mean \"!=\"?\n",
      "C:\\Users\\issak\\AppData\\Local\\Temp\\ipykernel_4180\\3298070880.py:1: SyntaxWarning: \"is\" with a literal. Did you mean \"==\"?\n",
      "  5 is 1       # revoie faux\n",
      "C:\\Users\\issak\\AppData\\Local\\Temp\\ipykernel_4180\\3298070880.py:2: SyntaxWarning: \"is not\" with a literal. Did you mean \"!=\"?\n",
      "  4 is not 4   # revoie faux\n"
     ]
    },
    {
     "data": {
      "text/plain": [
       "False"
      ]
     },
     "execution_count": 15,
     "metadata": {},
     "output_type": "execute_result"
    }
   ],
   "source": [
    "5 is 1       # revoie faux\n",
    "4 is not 4   # revoie faux"
   ]
  },
  {
   "cell_type": "code",
   "execution_count": null,
   "id": "ddc23e76",
   "metadata": {},
   "outputs": [],
   "source": []
  },
  {
   "cell_type": "code",
   "execution_count": null,
   "id": "6bbdffed",
   "metadata": {},
   "outputs": [],
   "source": []
  },
  {
   "cell_type": "code",
   "execution_count": null,
   "id": "317c51a7",
   "metadata": {},
   "outputs": [],
   "source": []
  },
  {
   "cell_type": "code",
   "execution_count": null,
   "id": "d910eb0e",
   "metadata": {},
   "outputs": [],
   "source": []
  },
  {
   "cell_type": "code",
   "execution_count": null,
   "id": "028bce6f",
   "metadata": {},
   "outputs": [],
   "source": []
  }
 ],
 "metadata": {
  "kernelspec": {
   "display_name": "Python 3 (ipykernel)",
   "language": "python",
   "name": "python3"
  },
  "language_info": {
   "codemirror_mode": {
    "name": "ipython",
    "version": 3
   },
   "file_extension": ".py",
   "mimetype": "text/x-python",
   "name": "python",
   "nbconvert_exporter": "python",
   "pygments_lexer": "ipython3",
   "version": "3.11.4"
  },
  "toc": {
   "base_numbering": 1,
   "nav_menu": {},
   "number_sections": true,
   "sideBar": true,
   "skip_h1_title": false,
   "title_cell": "Table of Contents",
   "title_sidebar": "Contents",
   "toc_cell": false,
   "toc_position": {},
   "toc_section_display": true,
   "toc_window_display": false
  }
 },
 "nbformat": 4,
 "nbformat_minor": 5
}
