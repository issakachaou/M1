{
 "cells": [
  {
   "cell_type": "markdown",
   "id": "6fef35be",
   "metadata": {},
   "source": [
    "# Fiche de révision : Introduction à Python"
   ]
  },
  {
   "cell_type": "markdown",
   "id": "e87b6a1b",
   "metadata": {},
   "source": [
    "## La fonction `print()`"
   ]
  },
  {
   "cell_type": "markdown",
   "id": "2d45798c",
   "metadata": {},
   "source": [
    "La fonction `print` en Python affiche à l'écran le texte ou les données spécifiées entre ses parenthèses, permettant de les visualiser dans la console."
   ]
  },
  {
   "cell_type": "code",
   "execution_count": 1,
   "id": "b19c0b1e",
   "metadata": {
    "scrolled": false
   },
   "outputs": [
    {
     "name": "stdout",
     "output_type": "stream",
     "text": [
      "Pierre Durand\n"
     ]
    }
   ],
   "source": [
    "print(\"Pierre Durand\")"
   ]
  },
  {
   "cell_type": "markdown",
   "id": "49dd0cc6",
   "metadata": {},
   "source": [
    "## Création d'une variable chaine de caractère (`string`)"
   ]
  },
  {
   "cell_type": "markdown",
   "id": "8b2c0fb2",
   "metadata": {},
   "source": [
    "Pour créer une variable en Python, il suffit de lui donner un nom et de lui attribuer une valeur à l'aide du signe `=`."
   ]
  },
  {
   "cell_type": "code",
   "execution_count": 2,
   "id": "306a8203",
   "metadata": {
    "scrolled": true
   },
   "outputs": [
    {
     "name": "stdout",
     "output_type": "stream",
     "text": [
      "coucou\n"
     ]
    }
   ],
   "source": [
    "ma_variable = \"coucou\"\n",
    "print(ma_variable)"
   ]
  },
  {
   "cell_type": "markdown",
   "id": "0aaa598b",
   "metadata": {},
   "source": [
    "## Création d'un entier (`int`)"
   ]
  },
  {
   "cell_type": "markdown",
   "id": "044f763e",
   "metadata": {},
   "source": [
    "Représente un nombre entier (positif, négatif ou nul)"
   ]
  },
  {
   "cell_type": "code",
   "execution_count": 8,
   "id": "2139ba0c",
   "metadata": {},
   "outputs": [
    {
     "name": "stdout",
     "output_type": "stream",
     "text": [
      "10\n"
     ]
    }
   ],
   "source": [
    "x = 10\n",
    "print(x)"
   ]
  },
  {
   "cell_type": "markdown",
   "id": "e8259f93",
   "metadata": {},
   "source": [
    "## Création d'un nombre décimal (`float`)"
   ]
  },
  {
   "cell_type": "markdown",
   "id": "5ab0c26a",
   "metadata": {},
   "source": [
    "Représente un nombre à virgule flottante "
   ]
  },
  {
   "cell_type": "code",
   "execution_count": 9,
   "id": "cbc38343",
   "metadata": {},
   "outputs": [
    {
     "name": "stdout",
     "output_type": "stream",
     "text": [
      "4.5\n"
     ]
    }
   ],
   "source": [
    "y = 4.5\n",
    "print(y)"
   ]
  },
  {
   "cell_type": "markdown",
   "id": "de1f35fc",
   "metadata": {},
   "source": [
    "## Création d'un nombre complexe (`complex`)"
   ]
  },
  {
   "cell_type": "markdown",
   "id": "bfac3a7a",
   "metadata": {},
   "source": [
    "Représente un nombre complexe avec une partie réelle et une partie imaginaire :"
   ]
  },
  {
   "cell_type": "code",
   "execution_count": 10,
   "id": "16192c41",
   "metadata": {},
   "outputs": [
    {
     "name": "stdout",
     "output_type": "stream",
     "text": [
      "(2+3j)\n"
     ]
    }
   ],
   "source": [
    "c = 2 + 3j\n",
    "print(c)"
   ]
  },
  {
   "cell_type": "markdown",
   "id": "f647aba0",
   "metadata": {},
   "source": [
    "## Création d'un booléen"
   ]
  },
  {
   "cell_type": "markdown",
   "id": "a685923a",
   "metadata": {},
   "source": [
    "Même si techniquement ce n'est pas un type numérique, il est souvent utilisé avec des chiffres. Les booléens prennent les valeurs `True` ou `False` "
   ]
  },
  {
   "cell_type": "code",
   "execution_count": 11,
   "id": "4dbc2b57",
   "metadata": {},
   "outputs": [
    {
     "name": "stdout",
     "output_type": "stream",
     "text": [
      "True\n"
     ]
    }
   ],
   "source": [
    "mon_booleen = True\n",
    "print(mon_booleen)"
   ]
  },
  {
   "cell_type": "markdown",
   "id": "244c123a",
   "metadata": {},
   "source": [
    "## Création d'une liste "
   ]
  },
  {
   "cell_type": "markdown",
   "id": "bef87ad1",
   "metadata": {},
   "source": [
    "Une liste est une collection ordonnée et modifiable d'éléments "
   ]
  },
  {
   "cell_type": "code",
   "execution_count": 3,
   "id": "afae4383",
   "metadata": {},
   "outputs": [
    {
     "name": "stdout",
     "output_type": "stream",
     "text": [
      "[1, 2, 3, 'texte', True]\n"
     ]
    }
   ],
   "source": [
    "ma_liste = [1, 2, 3, \"texte\", True]\n",
    "print(ma_liste)"
   ]
  },
  {
   "cell_type": "markdown",
   "id": "8ab67961",
   "metadata": {},
   "source": [
    "## Création d'un tuple "
   ]
  },
  {
   "cell_type": "markdown",
   "id": "6becc413",
   "metadata": {},
   "source": [
    "Un tuple est une collection ordonnée mais immuable (non modifiable après sa création) :"
   ]
  },
  {
   "cell_type": "code",
   "execution_count": 4,
   "id": "5549db08",
   "metadata": {},
   "outputs": [
    {
     "name": "stdout",
     "output_type": "stream",
     "text": [
      "(1, 2, 3, 'texte', True)\n"
     ]
    }
   ],
   "source": [
    "mon_tuple = (1, 2, 3, \"texte\", True)\n",
    "print(mon_tuple)"
   ]
  },
  {
   "cell_type": "markdown",
   "id": "d8d5ef3d",
   "metadata": {},
   "source": [
    "## Création d'un dictionnaire "
   ]
  },
  {
   "cell_type": "markdown",
   "id": "133b5ce2",
   "metadata": {},
   "source": [
    "Un dictionnaire est une collection non ordonnée de paires clé-valeur :"
   ]
  },
  {
   "cell_type": "code",
   "execution_count": 7,
   "id": "caa8d5af",
   "metadata": {},
   "outputs": [
    {
     "name": "stdout",
     "output_type": "stream",
     "text": [
      "{'nom': 'Alice', 'âge': 25, 'actif': True}\n"
     ]
    }
   ],
   "source": [
    "mon_dictionnaire = {\"nom\": \"Alice\", \"âge\": 25, \"actif\": True}\n",
    "print(mon_dictionnaire)"
   ]
  },
  {
   "cell_type": "markdown",
   "id": "1c8e842a",
   "metadata": {},
   "source": [
    "## La fonction `len()`"
   ]
  },
  {
   "cell_type": "markdown",
   "id": "3271a8cf",
   "metadata": {},
   "source": [
    "La fonction `len` permet de connaître la longueur (nombre d'éléments) d'une collection comme une liste, une chaîne de caractères, un tuple, etc."
   ]
  },
  {
   "cell_type": "code",
   "execution_count": 12,
   "id": "40edcc7b",
   "metadata": {},
   "outputs": [
    {
     "name": "stdout",
     "output_type": "stream",
     "text": [
      "4\n"
     ]
    }
   ],
   "source": [
    "ma_liste = [1, 2, 3, 4]\n",
    "longueur_liste = len(ma_liste)  \n",
    "print(longueur_liste)"
   ]
  },
  {
   "cell_type": "code",
   "execution_count": 13,
   "id": "d1814616",
   "metadata": {},
   "outputs": [
    {
     "name": "stdout",
     "output_type": "stream",
     "text": [
      "7\n"
     ]
    }
   ],
   "source": [
    "mon_texte = \"Bonjour\"\n",
    "longueur_texte = len(mon_texte)\n",
    "print(longueur_texte)"
   ]
  },
  {
   "cell_type": "code",
   "execution_count": null,
   "id": "0c0bca50",
   "metadata": {},
   "outputs": [],
   "source": []
  }
 ],
 "metadata": {
  "kernelspec": {
   "display_name": "Python 3 (ipykernel)",
   "language": "python",
   "name": "python3"
  },
  "language_info": {
   "codemirror_mode": {
    "name": "ipython",
    "version": 3
   },
   "file_extension": ".py",
   "mimetype": "text/x-python",
   "name": "python",
   "nbconvert_exporter": "python",
   "pygments_lexer": "ipython3",
   "version": "3.11.4"
  },
  "toc": {
   "base_numbering": 1,
   "nav_menu": {},
   "number_sections": true,
   "sideBar": true,
   "skip_h1_title": false,
   "title_cell": "Table of Contents",
   "title_sidebar": "Contents",
   "toc_cell": false,
   "toc_position": {},
   "toc_section_display": true,
   "toc_window_display": false
  }
 },
 "nbformat": 4,
 "nbformat_minor": 5
}
