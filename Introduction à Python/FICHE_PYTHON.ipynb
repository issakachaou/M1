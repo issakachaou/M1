{
 "cells": [
  {
   "cell_type": "markdown",
   "id": "6fef35be",
   "metadata": {},
   "source": [
    "# Fiche de révision : Introduction à Python"
   ]
  },
  {
   "cell_type": "markdown",
   "id": "e87b6a1b",
   "metadata": {},
   "source": [
    "## La fonction `print()`"
   ]
  },
  {
   "cell_type": "markdown",
   "id": "2d45798c",
   "metadata": {},
   "source": [
    "La fonction `print` en Python affiche à l'écran le texte ou les données spécifiées entre ses parenthèses, permettant de les visualiser dans la console."
   ]
  },
  {
   "cell_type": "code",
   "execution_count": 1,
   "id": "b19c0b1e",
   "metadata": {
    "scrolled": false
   },
   "outputs": [
    {
     "name": "stdout",
     "output_type": "stream",
     "text": [
      "Pierre Durand\n"
     ]
    }
   ],
   "source": [
    "print(\"Pierre Durand\")"
   ]
  },
  {
   "cell_type": "markdown",
   "id": "49dd0cc6",
   "metadata": {},
   "source": [
    "## Création d'une variable chaine de caractère (`string`)"
   ]
  },
  {
   "cell_type": "markdown",
   "id": "8b2c0fb2",
   "metadata": {},
   "source": [
    "Pour créer une variable en Python, il suffit de lui donner un nom et de lui attribuer une valeur à l'aide du signe `=`."
   ]
  },
  {
   "cell_type": "code",
   "execution_count": 2,
   "id": "306a8203",
   "metadata": {
    "scrolled": true
   },
   "outputs": [
    {
     "name": "stdout",
     "output_type": "stream",
     "text": [
      "coucou\n"
     ]
    }
   ],
   "source": [
    "ma_variable = \"coucou\"\n",
    "print(ma_variable)"
   ]
  },
  {
   "cell_type": "markdown",
   "id": "0aaa598b",
   "metadata": {},
   "source": [
    "## Création d'un entier (`int`)"
   ]
  },
  {
   "cell_type": "markdown",
   "id": "044f763e",
   "metadata": {},
   "source": [
    "Représente un nombre entier (positif, négatif ou nul)"
   ]
  },
  {
   "cell_type": "code",
   "execution_count": 8,
   "id": "2139ba0c",
   "metadata": {},
   "outputs": [
    {
     "name": "stdout",
     "output_type": "stream",
     "text": [
      "10\n"
     ]
    }
   ],
   "source": [
    "x = 10\n",
    "print(x)"
   ]
  },
  {
   "cell_type": "markdown",
   "id": "e8259f93",
   "metadata": {},
   "source": [
    "## Création d'un nombre décimal (`float`)"
   ]
  },
  {
   "cell_type": "markdown",
   "id": "5ab0c26a",
   "metadata": {},
   "source": [
    "Représente un nombre à virgule flottante "
   ]
  },
  {
   "cell_type": "code",
   "execution_count": 9,
   "id": "cbc38343",
   "metadata": {},
   "outputs": [
    {
     "name": "stdout",
     "output_type": "stream",
     "text": [
      "4.5\n"
     ]
    }
   ],
   "source": [
    "y = 4.5\n",
    "print(y)"
   ]
  },
  {
   "cell_type": "markdown",
   "id": "de1f35fc",
   "metadata": {},
   "source": [
    "## Création d'un nombre complexe (`complex`)"
   ]
  },
  {
   "cell_type": "markdown",
   "id": "bfac3a7a",
   "metadata": {},
   "source": [
    "Représente un nombre complexe avec une partie réelle et une partie imaginaire :"
   ]
  },
  {
   "cell_type": "code",
   "execution_count": 10,
   "id": "16192c41",
   "metadata": {},
   "outputs": [
    {
     "name": "stdout",
     "output_type": "stream",
     "text": [
      "(2+3j)\n"
     ]
    }
   ],
   "source": [
    "c = 2 + 3j\n",
    "print(c)"
   ]
  },
  {
   "cell_type": "markdown",
   "id": "f647aba0",
   "metadata": {},
   "source": [
    "## Création d'un booléen"
   ]
  },
  {
   "cell_type": "markdown",
   "id": "a685923a",
   "metadata": {},
   "source": [
    "Même si techniquement ce n'est pas un type numérique, il est souvent utilisé avec des chiffres. Les booléens prennent les valeurs `True` ou `False` "
   ]
  },
  {
   "cell_type": "code",
   "execution_count": 11,
   "id": "4dbc2b57",
   "metadata": {},
   "outputs": [
    {
     "name": "stdout",
     "output_type": "stream",
     "text": [
      "True\n"
     ]
    }
   ],
   "source": [
    "mon_booleen = True\n",
    "print(mon_booleen)"
   ]
  },
  {
   "cell_type": "markdown",
   "id": "244c123a",
   "metadata": {},
   "source": [
    "## Création d'une liste "
   ]
  },
  {
   "cell_type": "markdown",
   "id": "bef87ad1",
   "metadata": {},
   "source": [
    "Une liste est une collection ordonnée et modifiable d'éléments "
   ]
  },
  {
   "cell_type": "code",
   "execution_count": 3,
   "id": "afae4383",
   "metadata": {},
   "outputs": [
    {
     "name": "stdout",
     "output_type": "stream",
     "text": [
      "[1, 2, 3, 'texte', True]\n"
     ]
    }
   ],
   "source": [
    "ma_liste = [1, 2, 3, \"texte\", True]\n",
    "print(ma_liste)"
   ]
  },
  {
   "cell_type": "markdown",
   "id": "1ed7ab9a",
   "metadata": {},
   "source": [
    "### Manipulation des listes en Python"
   ]
  },
  {
   "cell_type": "code",
   "execution_count": 4,
   "id": "e7278b4b",
   "metadata": {
    "scrolled": true
   },
   "outputs": [
    {
     "name": "stdout",
     "output_type": "stream",
     "text": [
      "['abcd', 786, 2.23, 'john', 70.2]\n",
      "[1000, 786, 2.23, 'john', 70.2]\n",
      "['check1', 3.25, 2.23, 'john', 70.2]\n"
     ]
    }
   ],
   "source": [
    "ma_liste = ['abcd', 786, 2.23, 'john', 70.2]\n",
    "\n",
    "print(ma_liste)  # Affiche la liste complète\n",
    "# Résultat : ['abcd', 786, 2.23, 'john', 70.2]\n",
    "\n",
    "ma_liste[0] = 1000  # Modifie le premier élément de la liste\n",
    "print(ma_liste)\n",
    "# Résultat : [1000, 786, 2.23, 'john', 70.2]\n",
    "\n",
    "ma_liste[0:2] = ['check1', 3.25]  # Remplace les deux premiers éléments par de nouveaux éléments\n",
    "print(ma_liste)\n",
    "# Résultat : ['check1', 3.25, 2.23, 'john', 70.2]"
   ]
  },
  {
   "cell_type": "code",
   "execution_count": 5,
   "id": "988a6a0b",
   "metadata": {},
   "outputs": [
    {
     "name": "stdout",
     "output_type": "stream",
     "text": [
      "[10, 20, 30, 40, 50, 60]\n",
      "[10, 20, 25, 30, 40, 50, 60]\n",
      "[10, 20, 25, 40, 50, 60]\n",
      "[10, 20, 25, 50, 60]\n",
      "Élément supprimé : 40\n",
      "Indice de 50 : 3\n",
      "[10, 20, 25, 50, 60]\n",
      "[60, 50, 25, 20, 10]\n"
     ]
    }
   ],
   "source": [
    "ma_liste = [10, 20, 30, 40, 50]\n",
    "\n",
    "# Ajouter un élément à la fin\n",
    "ma_liste.append(60)\n",
    "print(ma_liste)\n",
    "# Résultat : [10, 20, 30, 40, 50, 60]\n",
    "\n",
    "# Insérer un élément à une position spécifique\n",
    "ma_liste.insert(2, 25)  # Insère 25 à l'indice 2\n",
    "print(ma_liste)\n",
    "# Résultat : [10, 20, 25, 30, 40, 50, 60]\n",
    "\n",
    "# Supprimer un élément par sa valeur\n",
    "ma_liste.remove(30)  # Supprime le premier 30 trouvé dans la liste\n",
    "print(ma_liste)\n",
    "# Résultat : [10, 20, 25, 40, 50, 60]\n",
    "\n",
    "# Supprimer un élément par son indice\n",
    "element_supprime = ma_liste.pop(3)  # Supprime l'élément à l'indice 3 et le retourne\n",
    "print(ma_liste)\n",
    "print(\"Élément supprimé :\", element_supprime)\n",
    "# Résultat : [10, 20, 25, 50, 60]\n",
    "# Élément supprimé : 40\n",
    "\n",
    "# Trouver l'indice d'un élément\n",
    "index = ma_liste.index(50)\n",
    "print(\"Indice de 50 :\", index)\n",
    "# Résultat : Indice de 50 : 3\n",
    "\n",
    "# Trier la liste\n",
    "ma_liste.sort()\n",
    "print(ma_liste)\n",
    "# Résultat : [10, 20, 25, 50, 60]\n",
    "\n",
    "# Inverser l'ordre des éléments\n",
    "ma_liste.reverse()\n",
    "print(ma_liste)\n",
    "# Résultat : [60, 50, 25, 20, 10]\n"
   ]
  },
  {
   "cell_type": "markdown",
   "id": "8ab67961",
   "metadata": {},
   "source": [
    "## Création d'un tuple "
   ]
  },
  {
   "cell_type": "markdown",
   "id": "6becc413",
   "metadata": {},
   "source": [
    "Un tuple est une collection ordonnée mais immuable (non modifiable après sa création) :"
   ]
  },
  {
   "cell_type": "code",
   "execution_count": 4,
   "id": "5549db08",
   "metadata": {
    "scrolled": true
   },
   "outputs": [
    {
     "name": "stdout",
     "output_type": "stream",
     "text": [
      "(1, 2, 3, 'texte', True)\n"
     ]
    }
   ],
   "source": [
    "mon_tuple = (1, 2, 3, \"texte\", True)\n",
    "print(mon_tuple)"
   ]
  },
  {
   "cell_type": "markdown",
   "id": "31558e25",
   "metadata": {},
   "source": [
    "### Manipulation de tuple en Python"
   ]
  },
  {
   "cell_type": "code",
   "execution_count": 6,
   "id": "163c637e",
   "metadata": {},
   "outputs": [
    {
     "name": "stdout",
     "output_type": "stream",
     "text": [
      "('abcd', 786, 2.23, 'john', 70.2)\n",
      "abcd\n",
      "(786, 2.23)\n",
      "(2.23, 'john', 70.2)\n",
      "(123, 'john', 123, 'john')\n",
      "('abcd', 786, 2.23, 'john', 70.2, 123, 'john')\n"
     ]
    }
   ],
   "source": [
    "mon_tuple = ('abcd', 786, 2.23, 'john', 70.2)\n",
    "petit_tuple = (123, 'john')\n",
    "\n",
    "print(mon_tuple)                # Affiche le tuple complet\n",
    "# Résultat : ('abcd', 786, 2.23, 'john', 70.2)\n",
    "\n",
    "print(mon_tuple[0])             # Affiche le premier élément du tuple\n",
    "# Résultat : 'abcd'\n",
    "\n",
    "print(mon_tuple[1:3])           # Affiche les éléments de la 2ème à la 3ème position\n",
    "# Résultat : (786, 2.23)\n",
    "\n",
    "print(mon_tuple[2:])            # Affiche les éléments à partir de la 3ème position\n",
    "# Résultat : (2.23, 'john', 70.2)\n",
    "\n",
    "print(petit_tuple * 2)          # Répète le tuple deux fois\n",
    "# Résultat : (123, 'john', 123, 'john')\n",
    "\n",
    "print(mon_tuple + petit_tuple)  # Concatène deux tuples\n",
    "# Résultat : ('abcd', 786, 2.23, 'john', 70.2, 123, 'john')\n"
   ]
  },
  {
   "cell_type": "markdown",
   "id": "d8d5ef3d",
   "metadata": {},
   "source": [
    "## Création d'un dictionnaire "
   ]
  },
  {
   "cell_type": "markdown",
   "id": "133b5ce2",
   "metadata": {},
   "source": [
    "Un dictionnaire est une collection non ordonnée de paires clé-valeur :"
   ]
  },
  {
   "cell_type": "code",
   "execution_count": 7,
   "id": "caa8d5af",
   "metadata": {
    "scrolled": true
   },
   "outputs": [
    {
     "name": "stdout",
     "output_type": "stream",
     "text": [
      "{'nom': 'Alice', 'âge': 25, 'actif': True}\n"
     ]
    }
   ],
   "source": [
    "mon_dictionnaire = {\"nom\": \"Alice\", \"âge\": 25, \"actif\": True}\n",
    "print(mon_dictionnaire)"
   ]
  },
  {
   "cell_type": "markdown",
   "id": "0d0b3f7b",
   "metadata": {},
   "source": [
    "### Manipulation de dictionnaire en Python"
   ]
  },
  {
   "cell_type": "code",
   "execution_count": 7,
   "id": "d39afda8",
   "metadata": {},
   "outputs": [
    {
     "name": "stdout",
     "output_type": "stream",
     "text": [
      "{'one': 'This is one', 2: 'This is two', 'une_liste': [1, 2, 3, 54, 88], 5: {88: 88, 66: 99}}\n",
      "This is one\n",
      "This is two\n",
      "{'name': 'john', 'code': 6734, 'dept': 'sales'}\n",
      "dict_keys(['name', 'code', 'dept'])\n",
      "dict_values(['john', 6734, 'sales'])\n",
      "<class 'dict_values'>\n",
      "['john', 6734, 'sales']\n"
     ]
    }
   ],
   "source": [
    "# Création et initialisation\n",
    "dico = {}  # Initialise un dictionnaire vide\n",
    "dico['one'] = \"This is one\"  # Ajoute une clé 'one' avec sa valeur\n",
    "dico[2] = \"This is two\"  # Ajoute une clé numérique 2 avec une valeur\n",
    "dico['une_liste'] = [1, 2, 3, 54, 88]  # Une liste comme valeur\n",
    "dico[5] = {88: 88, 66: 99}  # Un dictionnaire imbriqué comme valeur\n",
    "\n",
    "print(dico)  # Affiche le dictionnaire complet\n",
    "# Résultat : {'one': 'This is one', 2: 'This is two', 'une_liste': [1, 2, 3, 54, 88], 5: {88: 88, 66: 99}}\n",
    "\n",
    "# Accès aux valeurs via les clés\n",
    "print(dico['one'])  # Affiche la valeur associée à la clé 'one'\n",
    "# Résultat : \"This is one\"\n",
    "\n",
    "print(dico[2])  # Affiche la valeur associée à la clé 2\n",
    "# Résultat : \"This is two\"\n",
    "\n",
    "# Création d'un dictionnaire avec des données\n",
    "dico2 = {'name': 'john',  # Remplissage direct avec des paires clé-valeur\n",
    "         'code': 6734, \n",
    "         'dept': 'sales'}\n",
    "\n",
    "print(dico2)  # Affiche le dictionnaire complet\n",
    "# Résultat : {'name': 'john', 'code': 6734, 'dept': 'sales'}\n",
    "\n",
    "# Affichage des clés, valeurs et leur transformation\n",
    "print(dico2.keys())  # Affiche toutes les clés du dictionnaire\n",
    "# Résultat : dict_keys(['name', 'code', 'dept'])\n",
    "\n",
    "print(dico2.values())  # Affiche toutes les valeurs du dictionnaire\n",
    "# Résultat : dict_values(['john', 6734, 'sales'])\n",
    "\n",
    "print(type(dico2.values()))  # Vérifie le type de retour\n",
    "# Résultat : <class 'dict_values'>\n",
    "\n",
    "print(list(dico2.values()))  # Transforme les valeurs en liste\n",
    "# Résultat : ['john', 6734, 'sales']\n"
   ]
  },
  {
   "cell_type": "markdown",
   "id": "1c8e842a",
   "metadata": {},
   "source": [
    "## La fonction `len()`"
   ]
  },
  {
   "cell_type": "markdown",
   "id": "3271a8cf",
   "metadata": {},
   "source": [
    "La fonction `len` permet de connaître la longueur (nombre d'éléments) d'une collection comme une liste, une chaîne de caractères, un tuple, etc."
   ]
  },
  {
   "cell_type": "code",
   "execution_count": 12,
   "id": "40edcc7b",
   "metadata": {},
   "outputs": [
    {
     "name": "stdout",
     "output_type": "stream",
     "text": [
      "4\n"
     ]
    }
   ],
   "source": [
    "ma_liste = [1, 2, 3, 4]\n",
    "longueur_liste = len(ma_liste)  \n",
    "print(longueur_liste)"
   ]
  },
  {
   "cell_type": "code",
   "execution_count": 13,
   "id": "d1814616",
   "metadata": {},
   "outputs": [
    {
     "name": "stdout",
     "output_type": "stream",
     "text": [
      "7\n"
     ]
    }
   ],
   "source": [
    "mon_texte = \"Bonjour\"\n",
    "longueur_texte = len(mon_texte)\n",
    "print(longueur_texte)"
   ]
  },
  {
   "cell_type": "markdown",
   "id": "49553d13",
   "metadata": {},
   "source": [
    "## Les ensembles (`set`)"
   ]
  },
  {
   "cell_type": "markdown",
   "id": "822b3c4c",
   "metadata": {},
   "source": [
    "Un ensemble en Python est une collection non ordonnée d'éléments uniques. Cela signifie qu'il n'y a pas de doublons dans un ensemble. Les ensembles sont très utiles lorsque vous voulez éliminer les valeurs redondantes dans une liste ou effectuer des opérations comme l'union, l'intersection ou la différence."
   ]
  },
  {
   "cell_type": "code",
   "execution_count": 2,
   "id": "16e4a54b",
   "metadata": {
    "scrolled": true
   },
   "outputs": [
    {
     "name": "stdout",
     "output_type": "stream",
     "text": [
      "Liste d'origine : [1, 1, 2, 2, 2, 3, 4, 5]\n",
      "Ensemble (sans doublons) : {1, 2, 3, 4, 5}\n",
      "Type de la variable : <class 'set'>\n"
     ]
    }
   ],
   "source": [
    "ma_liste = [1, 1, 2, 2, 2, 3, 4, 5]\n",
    "mon_set = set(ma_liste)\n",
    "\n",
    "print(\"Liste d'origine :\", ma_liste)  # Affiche la liste initiale\n",
    "print(\"Ensemble (sans doublons) :\", mon_set)  # Affiche l'ensemble unique\n",
    "print(\"Type de la variable :\", type(mon_set))  # Affiche <class 'set'>"
   ]
  },
  {
   "cell_type": "markdown",
   "id": "0babf650",
   "metadata": {},
   "source": [
    "## Les opérateurs arithmétiques"
   ]
  },
  {
   "cell_type": "code",
   "execution_count": 3,
   "id": "065d00dd",
   "metadata": {
    "scrolled": true
   },
   "outputs": [
    {
     "name": "stdout",
     "output_type": "stream",
     "text": [
      "Addition (a + b) : 35\n",
      "Soustraction (a - b) : 15\n",
      "Multiplication (a * b) : 250\n",
      "Division (a / b) : 2.5\n",
      "Modulus (a % b) : 5\n",
      "Puissance (a ** b) : 95367431640625\n",
      "Division entière (a // b) : 2\n"
     ]
    }
   ],
   "source": [
    "# Déclaration des variables\n",
    "a, b = 25, 10\n",
    "\n",
    "# Addition\n",
    "c = a + b\n",
    "print(\"Addition (a + b) :\", c)  # Résultat : 35\n",
    "\n",
    "# Soustraction\n",
    "c = a - b\n",
    "print(\"Soustraction (a - b) :\", c)  # Résultat : 15\n",
    "\n",
    "# Multiplication\n",
    "c = a * b\n",
    "print(\"Multiplication (a * b) :\", c)  # Résultat : 250\n",
    "\n",
    "# Division\n",
    "c = a / b\n",
    "print(\"Division (a / b) :\", c)  # Résultat : 2.5\n",
    "\n",
    "# Modulus (reste de la division)\n",
    "c = a % b\n",
    "print(\"Modulus (a % b) :\", c)  # Résultat : 5\n",
    "\n",
    "# Puissance\n",
    "c = a ** b\n",
    "print(\"Puissance (a ** b) :\", c)  # Résultat : 95367431640625\n",
    "\n",
    "# Division entière\n",
    "c = a // b\n",
    "print(\"Division entière (a // b) :\", c)  # Résultat : 2"
   ]
  },
  {
   "cell_type": "markdown",
   "id": "3123d1a6",
   "metadata": {},
   "source": [
    "## Les opérateurs de comparaison"
   ]
  },
  {
   "cell_type": "code",
   "execution_count": 4,
   "id": "9196a954",
   "metadata": {
    "scrolled": true
   },
   "outputs": [
    {
     "name": "stdout",
     "output_type": "stream",
     "text": [
      "a == b : False\n",
      "a != b : True\n",
      "a > b : True\n",
      "a < b : False\n",
      "a >= b : True\n",
      "a <= b : False\n"
     ]
    }
   ],
   "source": [
    "# Déclaration des variables\n",
    "a, b = 25, 10\n",
    "\n",
    "# Comparaison d'égalité\n",
    "print(\"a == b :\", a == b)  # Résultat : False\n",
    "\n",
    "# Différent de\n",
    "print(\"a != b :\", a != b)  # Résultat : True\n",
    "\n",
    "# Supérieur à\n",
    "print(\"a > b :\", a > b)  # Résultat : True\n",
    "\n",
    "# Inférieur à\n",
    "print(\"a < b :\", a < b)  # Résultat : False\n",
    "\n",
    "# Supérieur ou égal\n",
    "print(\"a >= b :\", a >= b)  # Résultat : True\n",
    "\n",
    "# Inférieur ou égal\n",
    "print(\"a <= b :\", a <= b)  # Résultat : False"
   ]
  },
  {
   "cell_type": "markdown",
   "id": "5081a964",
   "metadata": {},
   "source": [
    "## Les opérateurs d'assignations"
   ]
  },
  {
   "cell_type": "code",
   "execution_count": 5,
   "id": "3a6cd5a9",
   "metadata": {},
   "outputs": [
    {
     "name": "stdout",
     "output_type": "stream",
     "text": [
      "21\n",
      "15\n",
      "90\n",
      "15.0\n",
      "3.0\n",
      "729.0\n",
      "121.0\n"
     ]
    }
   ],
   "source": [
    "b = 15     # Attribuer une valeur à une variable\n",
    "\n",
    "b+=6       # Ajoute 6 à la variable b, equivalent à    b = b + 6 \n",
    "print(b)   \n",
    "b -= 6     # Soustrait 6 à la variable b\n",
    "print(b)\n",
    "b *= 6     # Multiplie b par 6\n",
    "print(b)\n",
    "b /= 6     # Divise b par 6\n",
    "print(b)\n",
    "b %= 6     # Renvoie la partie décimale (reste) du quotient b/6\n",
    "print(b)\n",
    "b **= 6    # Renvoie b puissance 6\n",
    "print(b)\n",
    "b //= 6    # Renvoi la partie entiere de la division b / 6\n",
    "print(b)"
   ]
  },
  {
   "cell_type": "markdown",
   "id": "85b14d56",
   "metadata": {},
   "source": [
    "## Les opérateurs logiques"
   ]
  },
  {
   "cell_type": "code",
   "execution_count": 6,
   "id": "f1782f22",
   "metadata": {},
   "outputs": [
    {
     "name": "stdout",
     "output_type": "stream",
     "text": [
      "False\n",
      "True\n",
      "True\n"
     ]
    }
   ],
   "source": [
    "a, b = True, False\n",
    "print(a and b)    # revoie False\n",
    "print(a or b)     # revoie True\n",
    "print(not(a and b)) # revoie True"
   ]
  },
  {
   "cell_type": "markdown",
   "id": "fcd8cc77",
   "metadata": {},
   "source": [
    "## Les opérateurs d'adhésions"
   ]
  },
  {
   "cell_type": "code",
   "execution_count": 7,
   "id": "a19cdda5",
   "metadata": {},
   "outputs": [
    {
     "name": "stdout",
     "output_type": "stream",
     "text": [
      "True\n",
      "False\n",
      "False\n"
     ]
    }
   ],
   "source": [
    "a = [1, 2, 3, 4, 5]\n",
    "print(1 in a)  # renvoi True\n",
    "print(6 in a)  # renvoi False\n",
    "print(5 not in a) # renvoi False"
   ]
  },
  {
   "cell_type": "markdown",
   "id": "af112d34",
   "metadata": {},
   "source": [
    "## Opérateurs d'identités"
   ]
  },
  {
   "cell_type": "code",
   "execution_count": 15,
   "id": "93e37818",
   "metadata": {},
   "outputs": [
    {
     "name": "stderr",
     "output_type": "stream",
     "text": [
      "<>:1: SyntaxWarning: \"is\" with a literal. Did you mean \"==\"?\n",
      "<>:2: SyntaxWarning: \"is not\" with a literal. Did you mean \"!=\"?\n",
      "<>:1: SyntaxWarning: \"is\" with a literal. Did you mean \"==\"?\n",
      "<>:2: SyntaxWarning: \"is not\" with a literal. Did you mean \"!=\"?\n",
      "C:\\Users\\issak\\AppData\\Local\\Temp\\ipykernel_4180\\3298070880.py:1: SyntaxWarning: \"is\" with a literal. Did you mean \"==\"?\n",
      "  5 is 1       # revoie faux\n",
      "C:\\Users\\issak\\AppData\\Local\\Temp\\ipykernel_4180\\3298070880.py:2: SyntaxWarning: \"is not\" with a literal. Did you mean \"!=\"?\n",
      "  4 is not 4   # revoie faux\n"
     ]
    },
    {
     "data": {
      "text/plain": [
       "False"
      ]
     },
     "execution_count": 15,
     "metadata": {},
     "output_type": "execute_result"
    }
   ],
   "source": [
    "5 is 1       # revoie faux\n",
    "4 is not 4   # revoie faux"
   ]
  },
  {
   "cell_type": "markdown",
   "id": "183882e3",
   "metadata": {},
   "source": [
    "## Boucles"
   ]
  },
  {
   "cell_type": "code",
   "execution_count": 1,
   "id": "6bbdffed",
   "metadata": {},
   "outputs": [
    {
     "name": "stdout",
     "output_type": "stream",
     "text": [
      "3\n",
      "à\n",
      "1\n",
      "pour la France\n"
     ]
    }
   ],
   "source": [
    "ma_liste = [3, \"à\", 1, \"pour la France\"]\n",
    "\n",
    "for element in ma_liste: # affiche 1 à 1 tous les élements de la liste \n",
    "    print(element)       # La variable \"element\" est créer dans le contexte de la boucle"
   ]
  },
  {
   "cell_type": "code",
   "execution_count": 2,
   "id": "317c51a7",
   "metadata": {},
   "outputs": [
    {
     "name": "stdout",
     "output_type": "stream",
     "text": [
      "1 A\n",
      "1 B\n",
      "1 C\n",
      "2 A\n",
      "2 B\n",
      "2 C\n",
      "3 A\n",
      "3 B\n",
      "3 C\n"
     ]
    }
   ],
   "source": [
    "l_chap = [1,2,3]\n",
    "l_sc = ['A','B','C']\n",
    "for chap in l_chap :\n",
    "    for sc in l_sc :\n",
    "        print(chap,sc)"
   ]
  },
  {
   "cell_type": "markdown",
   "id": "aee3ecf0",
   "metadata": {},
   "source": [
    "\n",
    "\n",
    "On peut également interompre l'éxécution d'une boucle grace au mot clé \"Break\":\n"
   ]
  },
  {
   "cell_type": "code",
   "execution_count": 5,
   "id": "d910eb0e",
   "metadata": {},
   "outputs": [
    {
     "name": "stdout",
     "output_type": "stream",
     "text": [
      "0\n"
     ]
    }
   ],
   "source": [
    "afor i in range(0,8,1):\n",
    "    print(i)\n",
    "    break"
   ]
  },
  {
   "cell_type": "markdown",
   "id": "c037cd77",
   "metadata": {},
   "source": [
    "## Le mot-clé `continue`\n",
    "Le mot-clé `continue` est utilisé dans les boucles pour sauter le reste des instructions de l'itération en cours et passer directement à l'itération suivante. Cela signifie que lorsque Python rencontre un `continue`, il ignore tout le code situé après ce mot-clé dans la boucle pour cette itération spécifique.\n",
    "\n",
    "Exemple 1 : Utilisation de `continue`"
   ]
  },
  {
   "cell_type": "code",
   "execution_count": 6,
   "id": "d8831d54",
   "metadata": {},
   "outputs": [
    {
     "name": "stdout",
     "output_type": "stream",
     "text": [
      "Current Letter : P\n",
      "Current Letter : y\n",
      "Current Letter : t\n",
      "Current Letter : o\n",
      "Current Letter : n\n"
     ]
    }
   ],
   "source": [
    "for letter in 'Python':  # Premier exemple\n",
    "    if letter == 'h':\n",
    "        continue\n",
    "    print('Current Letter :', letter)"
   ]
  },
  {
   "cell_type": "markdown",
   "id": "338d8148",
   "metadata": {},
   "source": [
    "Explication :\n",
    "\n",
    "- La boucle parcourt chaque lettre de la chaîne 'Python'.\n",
    "- Lorsqu'elle rencontre la lettre 'h', l'instruction continue est exécutée.\n",
    "- Cela entraîne le saut de l'instruction print('Current Letter :', letter) pour cette itération. La lettre 'h' n'est donc pas affichée.\n",
    "- Les autres lettres sont imprimées normalement."
   ]
  },
  {
   "cell_type": "markdown",
   "id": "48cd2aba",
   "metadata": {},
   "source": [
    "## Le mot-clé `pass`\n",
    "Le mot-clé `pass` est une opération nulle en Python. Il ne fait rien. Il est souvent utilisé comme un placeholder (espace réservé) dans des blocs de code où des instructions doivent être ajoutées ultérieurement.\n",
    "\n",
    "Exemple 2 : Utilisation de `pass`"
   ]
  },
  {
   "cell_type": "code",
   "execution_count": 7,
   "id": "4dab9c71",
   "metadata": {},
   "outputs": [
    {
     "name": "stdout",
     "output_type": "stream",
     "text": [
      "Current Letter : P\n",
      "Current Letter : y\n",
      "Current Letter : t\n",
      "This is pass block\n",
      "Current Letter : h\n",
      "Current Letter : o\n",
      "Current Letter : n\n",
      "Good bye!\n"
     ]
    }
   ],
   "source": [
    "for letter in 'Python': \n",
    "    if letter == 'h':\n",
    "        print('This is pass block')\n",
    "    else:\n",
    "        pass\n",
    "    print('Current Letter :', letter)\n",
    "\n",
    "print(\"Good bye!\")"
   ]
  },
  {
   "cell_type": "markdown",
   "id": "8ccfaf28",
   "metadata": {},
   "source": [
    "Explication :\n",
    "\n",
    "- La boucle parcourt chaque lettre de 'Python'.\n",
    "- Lorsqu'elle rencontre 'h', l'instruction print('This is pass block') est exécutée.\n",
    "- Dans les autres cas (les lettres qui ne sont pas 'h'), l'instruction pass est exécutée. Cependant, comme pass ne fait rien, il n'y a aucun effet observable.\n",
    "- Toutes les lettres, y compris 'h', sont imprimées grâce à print('Current Letter :', letter)."
   ]
  },
  {
   "cell_type": "markdown",
   "id": "7f5f833f",
   "metadata": {},
   "source": [
    "## La structure de la condition `if` en Python"
   ]
  },
  {
   "cell_type": "markdown",
   "id": "c32779ac",
   "metadata": {},
   "source": [
    "La condition `if` est une structure de contrôle fondamentale en programmation, permettant d'exécuter du code uniquement si une condition donnée est vraie. C'est un moyen d'ajouter de la logique dans un programme, en fonction de certains critères."
   ]
  },
  {
   "cell_type": "code",
   "execution_count": null,
   "id": "2a0e71f7",
   "metadata": {},
   "outputs": [],
   "source": [
    "if condition1: # Si\n",
    "    # Code exécuté si condition1 est vraie\n",
    "elif condition2: # Sinon si\n",
    "    # Code exécuté si condition1 est fausse et condition2 est vraie\n",
    "else: # Sinon\n",
    "    # Code exécuté si aucune des conditions n'est vraie"
   ]
  },
  {
   "cell_type": "markdown",
   "id": "9d11e1fd",
   "metadata": {},
   "source": [
    "Exemple simple"
   ]
  },
  {
   "cell_type": "code",
   "execution_count": 8,
   "id": "f7481aa9",
   "metadata": {},
   "outputs": [
    {
     "name": "stdout",
     "output_type": "stream",
     "text": [
      "Vous avez tout juste 18 ans.\n"
     ]
    }
   ],
   "source": [
    "age = 18\n",
    "\n",
    "if age < 18:\n",
    "    print(\"Vous êtes mineur.\")\n",
    "elif age == 18:\n",
    "    print(\"Vous avez tout juste 18 ans.\")\n",
    "else:\n",
    "    print(\"Vous êtes majeur.\")"
   ]
  },
  {
   "cell_type": "markdown",
   "id": "6ba812cf",
   "metadata": {},
   "source": [
    "## La boucle WHILE"
   ]
  },
  {
   "cell_type": "markdown",
   "id": "edf1de5d",
   "metadata": {},
   "source": [
    "La boucle `while` permet de répéter un bloc d'instructions tant qu'une condition est vraie. Elle est particulièrement utile lorsque le nombre d'itérations n'est pas connu à l'avance.\n",
    "\n",
    "Syntaxe générale :"
   ]
  },
  {
   "cell_type": "code",
   "execution_count": null,
   "id": "0360fe82",
   "metadata": {},
   "outputs": [],
   "source": [
    "while condition:\n",
    "    # instructions à exécuter"
   ]
  },
  {
   "cell_type": "markdown",
   "id": "d0f195d5",
   "metadata": {},
   "source": [
    "- condition : Une expression logique (True ou False).\n",
    "- Les instructions dans le bloc de la boucle s'exécutent tant que la condition est évaluée à True.\n",
    "- Si la condition est False, la boucle s'arrête.\n",
    "\n",
    "Exemple illustratif :"
   ]
  },
  {
   "cell_type": "code",
   "execution_count": 2,
   "id": "e8bb6ed6",
   "metadata": {},
   "outputs": [
    {
     "name": "stdout",
     "output_type": "stream",
     "text": [
      "Itération numéro : 1\n",
      "Itération numéro : 2\n",
      "Itération numéro : 3\n",
      "Itération numéro : 4\n",
      "Itération numéro : 5\n",
      "Fin de la boucle.\n"
     ]
    }
   ],
   "source": [
    "compteur = 1\n",
    "while compteur <= 5:  # Tant que le compteur est inférieur ou égal à 5\n",
    "    print(\"Itération numéro :\", compteur)  # Affiche le numéro de l'itération\n",
    "    compteur += 1  # Incrémente la valeur du compteur\n",
    "\n",
    "print(\"Fin de la boucle.\")  # S'exécute une fois que la boucle est terminée"
   ]
  },
  {
   "cell_type": "markdown",
   "id": "8cd47aa7",
   "metadata": {},
   "source": [
    "## Manipulation de chaînes de caractères en Python\n",
    "Cet exemple montre différentes opérations que l'on peut effectuer sur une chaîne de caractères en Python."
   ]
  },
  {
   "cell_type": "code",
   "execution_count": 3,
   "id": "2590d64d",
   "metadata": {
    "scrolled": true
   },
   "outputs": [
    {
     "name": "stdout",
     "output_type": "stream",
     "text": [
      "Hello World!\n",
      "Hello World!\n",
      "H\n",
      "Hello\n",
      "llo\n",
      "llo World!\n",
      "!\n",
      "ld!\n",
      "!dlroW olleH\n",
      "Hello World!Hello World!\n",
      "Hello World! TEST\n"
     ]
    }
   ],
   "source": [
    "strx = 'Hello World!'\n",
    "\n",
    "print(strx)            # Affiche la chaîne de caractères complète\n",
    "print(strx[:])         # Affiche la chaîne complète (équivalent à strx)\n",
    "print(strx[0])         # Affiche la première lettre : 'H'\n",
    "print(strx[0:5])       # Affiche un sous-ensemble de la 1ère lettre à la 5ème : 'Hello'\n",
    "print(strx[2:5])       # Affiche un sous-ensemble de la 3ème lettre à la 5ème : 'llo'\n",
    "print(strx[2:])        # Affiche un sous-ensemble à partir de la 3ème lettre : 'llo World!'\n",
    "print(strx[-1])        # Affiche le dernier caractère : '!'\n",
    "print(strx[-3:])       # Affiche les 3 derniers caractères : 'ld!'\n",
    "print(strx[::-1])      # Inverse la chaîne de caractères : '!dlroW olleH'\n",
    "print(strx * 2)        # Répète la chaîne deux fois : 'Hello World!Hello World!'\n",
    "print(strx + \" TEST\")  # Concatène deux chaînes de caractères : 'Hello World! TEST'"
   ]
  },
  {
   "cell_type": "markdown",
   "id": "c22b844b",
   "metadata": {},
   "source": [
    "## Les fonctions en Python"
   ]
  },
  {
   "cell_type": "markdown",
   "id": "2dbad824",
   "metadata": {},
   "source": [
    "m"
   ]
  }
 ],
 "metadata": {
  "celltoolbar": "Aucun(e)",
  "kernelspec": {
   "display_name": "Python 3 (ipykernel)",
   "language": "python",
   "name": "python3"
  },
  "language_info": {
   "codemirror_mode": {
    "name": "ipython",
    "version": 3
   },
   "file_extension": ".py",
   "mimetype": "text/x-python",
   "name": "python",
   "nbconvert_exporter": "python",
   "pygments_lexer": "ipython3",
   "version": "3.11.4"
  },
  "toc": {
   "base_numbering": "1",
   "nav_menu": {},
   "number_sections": true,
   "sideBar": true,
   "skip_h1_title": false,
   "title_cell": "Table of Contents",
   "title_sidebar": "Contents",
   "toc_cell": true,
   "toc_position": {
    "height": "calc(100% - 180px)",
    "left": "10px",
    "top": "150px",
    "width": "627.6px"
   },
   "toc_section_display": true,
   "toc_window_display": true
  }
 },
 "nbformat": 4,
 "nbformat_minor": 5
}
