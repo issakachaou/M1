{
 "cells": [
  {
   "cell_type": "markdown",
   "id": "8bbe3441",
   "metadata": {},
   "source": [
    "# Exercice 2"
   ]
  },
  {
   "cell_type": "code",
   "execution_count": 12,
   "id": "6776e9af",
   "metadata": {
    "scrolled": true
   },
   "outputs": [
    {
     "name": "stdout",
     "output_type": "stream",
     "text": [
      "6\n"
     ]
    }
   ],
   "source": [
    "s = \"Je suis relativement célèbre et né le 14 mars 1879 à Ulm. Qui suis-je ?\"\n",
    "\n",
    "compteur = 0\n",
    "\n",
    "for i in s :\n",
    "    if i.isdigit() == True :\n",
    "        compteur = compteur + 1\n",
    "print(compteur)"
   ]
  },
  {
   "cell_type": "markdown",
   "id": "97fccfee",
   "metadata": {},
   "source": [
    "# Exercice 3"
   ]
  },
  {
   "cell_type": "markdown",
   "id": "a7690e7f",
   "metadata": {},
   "source": [
    "Comment créer une variable python contenant toute les lettres de l'alphabet "
   ]
  },
  {
   "cell_type": "markdown",
   "id": "e5dbb952",
   "metadata": {},
   "source": [
    "# Exercice 1"
   ]
  },
  {
   "cell_type": "code",
   "execution_count": 19,
   "id": "c9ab0c54",
   "metadata": {},
   "outputs": [
    {
     "data": {
      "text/plain": [
       "[range(0, 20)]"
      ]
     },
     "execution_count": 19,
     "metadata": {},
     "output_type": "execute_result"
    }
   ],
   "source": [
    "l= [range(0,20,1)]\n",
    "l"
   ]
  }
 ],
 "metadata": {
  "kernelspec": {
   "display_name": "Python 3 (ipykernel)",
   "language": "python",
   "name": "python3"
  },
  "language_info": {
   "codemirror_mode": {
    "name": "ipython",
    "version": 3
   },
   "file_extension": ".py",
   "mimetype": "text/x-python",
   "name": "python",
   "nbconvert_exporter": "python",
   "pygments_lexer": "ipython3",
   "version": "3.11.4"
  }
 },
 "nbformat": 4,
 "nbformat_minor": 5
}
