{
 "cells": [
  {
   "cell_type": "code",
   "execution_count": 2,
   "id": "230b886a",
   "metadata": {
    "scrolled": true
   },
   "outputs": [
    {
     "name": "stdout",
     "output_type": "stream",
     "text": [
      "I\n",
      "s\n",
      "s\n",
      "a\n"
     ]
    }
   ],
   "source": [
    "x ='Issa'\n",
    "for i in x : \n",
    "    print(i)"
   ]
  },
  {
   "cell_type": "code",
   "execution_count": 5,
   "id": "8a408655",
   "metadata": {},
   "outputs": [
    {
     "name": "stdout",
     "output_type": "stream",
     "text": [
      "18\n"
     ]
    }
   ],
   "source": [
    "s = \"Derrière toute personne un petit peu anticonformiste, il y a quelqu'un de riche, mais il y a quelqu'un d'isolé aussi. Donc je m'attendris deux fois pour ces gens-là. A. Astier\"\n",
    "y = 0\n",
    "for i in s : \n",
    "    if i == 'e' :\n",
    "        y = y+1\n",
    "\n",
    "print(y)"
   ]
  }
 ],
 "metadata": {
  "kernelspec": {
   "display_name": "Python 3 (ipykernel)",
   "language": "python",
   "name": "python3"
  },
  "language_info": {
   "codemirror_mode": {
    "name": "ipython",
    "version": 3
   },
   "file_extension": ".py",
   "mimetype": "text/x-python",
   "name": "python",
   "nbconvert_exporter": "python",
   "pygments_lexer": "ipython3",
   "version": "3.11.4"
  }
 },
 "nbformat": 4,
 "nbformat_minor": 5
}
