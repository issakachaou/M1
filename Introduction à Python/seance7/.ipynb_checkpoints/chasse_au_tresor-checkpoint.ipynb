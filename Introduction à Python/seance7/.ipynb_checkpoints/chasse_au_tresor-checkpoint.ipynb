{
 "cells": [
  {
   "cell_type": "markdown",
   "id": "727665c9",
   "metadata": {},
   "source": [
    "<span style='line-height:1.5;font-size: 17px;font-family:\"Times New Roman\"'>\n",
    "\n",
    "\n",
    "<b><center><font size=\"6\">Introduction à python - Séance 7</font></center></b>\n",
    "\n",
    "<b><center><font size=\"6\">Coder des fonctions sous python - exercices</font></center></b>\n",
    "    \n",
    "<g><h7><center> CM - P. Durand  - pierre.durand@u-pec.fr </center></h7></g>\n",
    "\n",
    "\n",
    "\n",
    "<b><center><font size=\"5\">M1 - 2022-2023</font></center></b> \n",
    "\n",
    "\n",
    "\n",
    "</span>"
   ]
  },
  {
   "cell_type": "markdown",
   "id": "54f2a8c4",
   "metadata": {
    "ExecuteTime": {
     "end_time": "2022-10-14T14:31:53.966293Z",
     "start_time": "2022-10-14T14:31:53.951343Z"
    }
   },
   "source": [
    "<span style='line-height:1.5;font-size: 17px;font-family:\"Times New Roman\"'>\n",
    "    \n",
    "<b><center><font size=\"5\">Chasse au trésor...</font></center></b> \n",
    "    \n",
    "Le principe de cette séance est de résoudre un certain nombre d'exercices de façon séquentielle (les uns après les autres). La résolution d'un exercice permet de débloquer une clef. Cette clef permet quant à elle de connaitre l'énnoncé de l'exercice suivant.\n",
    "    \n",
    "Un fois le dernier exercice résolu, vous obtiendrez un mot de passe. Cela signifie que vous avez gagné !!  Il s'agit en effet d'une course donc ne perdez pas de temps !!! \n",
    "    \n",
    "    \n",
    "<b>N.B</b> : les exercices doivent être résolus à l'aide de python !!"
   ]
  },
  {
   "cell_type": "markdown",
   "id": "ad442c26",
   "metadata": {
    "ExecuteTime": {
     "end_time": "2022-10-14T14:31:20.730892Z",
     "start_time": "2022-10-14T14:31:20.720596Z"
    }
   },
   "source": [
    "<span style='line-height:1.5;font-size: 17px;font-family:\"Times New Roman\"'>\n",
    "\n",
    "__Première étape__    \n",
    "    \n",
    "La clef pour débloquer le prochain exercice est donnée par le carré du nombre de mots présents dans la phrase que vous êtes en train de lire, donc, en remplacant `clef1` par ce nombre dans le code ci-dessous vous ferez apparaitre les consignes du prochain exercice."
   ]
  },
  {
   "cell_type": "code",
   "execution_count": 4,
   "id": "32376ea0",
   "metadata": {},
   "outputs": [
    {
     "ename": "NameError",
     "evalue": "name 'split' is not defined",
     "output_type": "error",
     "traceback": [
      "\u001b[1;31m---------------------------------------------------------------------------\u001b[0m",
      "\u001b[1;31mNameError\u001b[0m                                 Traceback (most recent call last)",
      "Cell \u001b[1;32mIn[4], line 5\u001b[0m\n\u001b[0;32m      3\u001b[0m txt \u001b[38;5;241m=\u001b[39m \u001b[38;5;28mopen\u001b[39m(\u001b[38;5;124m'\u001b[39m\u001b[38;5;124mreadme.txt\u001b[39m\u001b[38;5;124m'\u001b[39m, \u001b[38;5;124m'\u001b[39m\u001b[38;5;124mr\u001b[39m\u001b[38;5;124m'\u001b[39m)\u001b[38;5;241m.\u001b[39mread()\n\u001b[0;32m      4\u001b[0m txt[clef1:clef1\u001b[38;5;241m+\u001b[39m\u001b[38;5;28mint\u001b[39m(clef1\u001b[38;5;241m*\u001b[39m\u001b[38;5;241m*\u001b[39m\u001b[38;5;241m0.5\u001b[39m \u001b[38;5;241m+\u001b[39m clef1\u001b[38;5;241m*\u001b[39m\u001b[38;5;241m*\u001b[39m\u001b[38;5;241m0.5\u001b[39m\u001b[38;5;241m/\u001b[39m\u001b[38;5;241m2\u001b[39m)]\n\u001b[1;32m----> 5\u001b[0m \u001b[38;5;28mprint\u001b[39m(split\u001b[38;5;241m.\u001b[39mtxt)\n",
      "\u001b[1;31mNameError\u001b[0m: name 'split' is not defined"
     ]
    }
   ],
   "source": [
    "clef1 = 2116#ecrivez ici la valeur de la clef1\n",
    "\n",
    "txt = open('readme.txt', 'r').read()\n",
    "txt[clef1:clef1+int(clef1**0.5 + clef1**0.5/2)]"
   ]
  },
  {
   "cell_type": "markdown",
   "id": "f5bd6bde",
   "metadata": {},
   "source": [
    "<span style='line-height:1.5;font-size: 17px;font-family:\"Times New Roman\"'>\n",
    "\n",
    "__Troisème étape__    \n",
    "    \n",
    "Rentrez la `clef2` que vous avez trouvé à la deuxième étape, dans le code suivant pour faire apparaître l'énnoncé du prochain exercice. "
   ]
  },
  {
   "cell_type": "code",
   "execution_count": 3,
   "id": "8365e522",
   "metadata": {
    "ExecuteTime": {
     "end_time": "2024-03-14T10:26:53.001743Z",
     "start_time": "2024-03-14T10:26:52.990586Z"
    }
   },
   "outputs": [],
   "source": [
    "clef2 = #ecrivez ici la vlaeur de la clef2"
   ]
  },
  {
   "cell_type": "code",
   "execution_count": null,
   "id": "09651cb2",
   "metadata": {},
   "outputs": [],
   "source": [
    "l1 = [11.2,11.4,11.1,9.9,10.4,9.7,10.5,11.0,10.1,3.2,9.9,10.8,10.1,10.2,3.2,6.1,3.2,10.0,23.3,11.6,10.1,11.4,10.9,\n",
    "      10.5,11.0,9.7,11.0,11.6,3.2,10.0,10.1,3.2,6.5]\n",
    "\n",
    "\"\".join([chr(int(i*clef2)) for i in l1])"
   ]
  },
  {
   "cell_type": "markdown",
   "id": "04ac1327",
   "metadata": {},
   "source": [
    "<span style='line-height:1.5;font-size: 17px;font-family:\"Times New Roman\"'>\n",
    "\n",
    "    \n",
    "Un fois l'énnoncé de la prochaine étape trouvé, vous pourrez utiliser les éléments suivants :\n",
    "    \n",
    "\n",
    "    \n",
    "$$A = \n",
    "\\begin{pmatrix}\n",
    "60 & -1 \\\\\n",
    "1 & 10 \\\\\n",
    "\\end{pmatrix}\n",
    "$$\n",
    "    \n",
    "    \n",
    "    \n",
    "$$B = \n",
    "\\begin{pmatrix}\n",
    "-19 & 10 \\\\\n",
    "-81 & 11 \\\\\n",
    "\\end{pmatrix}\n",
    "$$"
   ]
  },
  {
   "cell_type": "markdown",
   "id": "06be11a8",
   "metadata": {},
   "source": [
    "<span style='line-height:1.5;font-size: 17px;font-family:\"Times New Roman\"'>\n",
    "\n",
    "__Quatrième étape__    \n",
    "    \n",
    "Vous venez de trouver la `clef3`. Attribuez cette valeur à la variable `clef3` du code ci-dessous. Les consignes de la prochaine étape s'afficheront !!"
   ]
  },
  {
   "cell_type": "code",
   "execution_count": null,
   "id": "dbf85e66",
   "metadata": {
    "ExecuteTime": {
     "end_time": "2024-03-14T10:28:29.264254Z",
     "start_time": "2024-03-14T10:28:29.226422Z"
    }
   },
   "outputs": [],
   "source": [
    "clef3 = #ecrivez ici la valeur de la clef3\n",
    "\n",
    "l2=[674,710,713,712,715,717,702,723,633,709,698,633,699,698,716,702,633,701,702,633,701,712,711,711,834,702,716,633,\n",
    "    717,705,702,696,703,706,711,698,709,696,699,698,716,702,647,721,709,716,721,633,713,715,834,716,702,711,717,702,\n",
    "    633,701,698,711,716,633,709,702,633,701,712,716,716,706,702,715,633,701,698,717,698,633,701,702,633,709,698,633,\n",
    "    716,834,698,711,700,702,633,653,647,633,702,717,633,703,698,706,715,702,633,718,711,702,633,711,718,698,704,702,\n",
    "    633,701,702,633,713,712,706,711,717,716,633,698,719,702,700,633,709,702,716,633,719,698,715,706,698,699,709,702,\n",
    "    716,633,721,650,633,702,717,633,721,651,647,633,670,711,633,718,717,706,709,706,716,698,711,717,633,709,698,633,\n",
    "    700,712,710,710,698,711,701,702,633,713,709,717,647,703,706,704,718,715,702,641,703,706,704,716,706,723,702,662,\n",
    "    641,650,645,650,642,642,645,633,710,712,701,706,703,706,702,723,633,709,702,716,633,701,706,710,702,711,716,706,\n",
    "    712,711,716,633,701,718,633,704,715,698,713,705,706,714,718,702,633,713,712,718,715,633,698,703,706,700,705,702,\n",
    "    715,633,709,702,633,710,702,716,716,698,704,702,633,700,698,700,705,834,647]\n",
    "\n",
    "\"\".join([chr(int(i-clef3)) for i in l2])"
   ]
  },
  {
   "cell_type": "markdown",
   "id": "be12ac03",
   "metadata": {},
   "source": [
    "<span style='line-height:1.5;font-size: 17px;font-family:\"Times New Roman\"'>\n",
    "\n",
    "__Sprint final !!!__    \n",
    "    \n",
    "La clef4 que vous venez de trouver à l'étape 3, ou plutôt sa taille, devrait vous aider à trouver le message caché du code ci-dessous.\n",
    "    \n",
    "Une fois trouvé, c'est gagné !!! "
   ]
  },
  {
   "cell_type": "code",
   "execution_count": null,
   "id": "5b6a2f78",
   "metadata": {},
   "outputs": [],
   "source": [
    "clef4 = #ecrivez ici la valeur de la clef4\n",
    "\n",
    "s = 'Iussktz&kyz&|uzxk&hrgtw{kzzk&E'\n",
    "\n",
    "\"\".join([chr(ord(i)-clef4) for i in s])"
   ]
  }
 ],
 "metadata": {
  "kernelspec": {
   "display_name": "Python 3 (ipykernel)",
   "language": "python",
   "name": "python3"
  },
  "language_info": {
   "codemirror_mode": {
    "name": "ipython",
    "version": 3
   },
   "file_extension": ".py",
   "mimetype": "text/x-python",
   "name": "python",
   "nbconvert_exporter": "python",
   "pygments_lexer": "ipython3",
   "version": "3.11.4"
  },
  "toc": {
   "base_numbering": 1,
   "nav_menu": {},
   "number_sections": true,
   "sideBar": true,
   "skip_h1_title": false,
   "title_cell": "Table of Contents",
   "title_sidebar": "Contents",
   "toc_cell": false,
   "toc_position": {},
   "toc_section_display": true,
   "toc_window_display": false
  },
  "varInspector": {
   "cols": {
    "lenName": 16,
    "lenType": 16,
    "lenVar": 40
   },
   "kernels_config": {
    "python": {
     "delete_cmd_postfix": "",
     "delete_cmd_prefix": "del ",
     "library": "var_list.py",
     "varRefreshCmd": "print(var_dic_list())"
    },
    "r": {
     "delete_cmd_postfix": ") ",
     "delete_cmd_prefix": "rm(",
     "library": "var_list.r",
     "varRefreshCmd": "cat(var_dic_list()) "
    }
   },
   "types_to_exclude": [
    "module",
    "function",
    "builtin_function_or_method",
    "instance",
    "_Feature"
   ],
   "window_display": false
  }
 },
 "nbformat": 4,
 "nbformat_minor": 5
}
