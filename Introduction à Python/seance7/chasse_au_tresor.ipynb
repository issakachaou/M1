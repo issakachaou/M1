{
 "cells": [
  {
   "cell_type": "markdown",
   "id": "727665c9",
   "metadata": {},
   "source": [
    "<span style='line-height:1.5;font-size: 17px;font-family:\"Times New Roman\"'>\n",
    "\n",
    "\n",
    "<b><center><font size=\"6\">Introduction à python - Séance 7</font></center></b>\n",
    "\n",
    "<b><center><font size=\"6\">Coder des fonctions sous python - exercices</font></center></b>\n",
    "    \n",
    "<g><h7><center> CM - P. Durand  - pierre.durand@u-pec.fr </center></h7></g>\n",
    "\n",
    "\n",
    "\n",
    "<b><center><font size=\"5\">M1 - 2022-2023</font></center></b> \n",
    "\n",
    "\n",
    "\n",
    "</span>"
   ]
  },
  {
   "cell_type": "markdown",
   "id": "54f2a8c4",
   "metadata": {
    "ExecuteTime": {
     "end_time": "2022-10-14T14:31:53.966293Z",
     "start_time": "2022-10-14T14:31:53.951343Z"
    }
   },
   "source": [
    "<span style='line-height:1.5;font-size: 17px;font-family:\"Times New Roman\"'>\n",
    "    \n",
    "<b><center><font size=\"5\">Chasse au trésor...</font></center></b> \n",
    "    \n",
    "Le principe de cette séance est de résoudre un certain nombre d'exercices de façon séquentielle (les uns après les autres). La résolution d'un exercice permet de débloquer une clef. Cette clef permet quant à elle de connaitre l'énnoncé de l'exercice suivant.\n",
    "    \n",
    "Un fois le dernier exercice résolu, vous obtiendrez un mot de passe. Cela signifie que vous avez gagné !!  Il s'agit en effet d'une course donc ne perdez pas de temps !!! \n",
    "    \n",
    "    \n",
    "<b>N.B</b> : les exercices doivent être résolus à l'aide de python !!"
   ]
  },
  {
   "cell_type": "markdown",
   "id": "ad442c26",
   "metadata": {
    "ExecuteTime": {
     "end_time": "2022-10-14T14:31:20.730892Z",
     "start_time": "2022-10-14T14:31:20.720596Z"
    }
   },
   "source": [
    "<span style='line-height:1.5;font-size: 17px;font-family:\"Times New Roman\"'>\n",
    "\n",
    "__Première étape__    \n",
    "    \n",
    "La clef pour débloquer le prochain exercice est donnée par le carré du nombre de mots présents dans la phrase que vous êtes en train de lire, donc, en remplacant `clef1` par ce nombre dans le code ci-dessous vous ferez apparaitre les consignes du prochain exercice."
   ]
  },
  {
   "cell_type": "code",
   "execution_count": 83,
   "id": "32376ea0",
   "metadata": {},
   "outputs": [
    {
     "data": {
      "text/plain": [
       "\"Voir exercice2.ipynb dans le dossier seance1 du cours d'économétrie !\""
      ]
     },
     "execution_count": 83,
     "metadata": {},
     "output_type": "execute_result"
    }
   ],
   "source": [
    "clef1 = 2116 #ecrivez ici la valeur de la clef1\n",
    "\n",
    "txt = open('readme.txt', 'r').read()\n",
    "txt[clef1:clef1+int(clef1**0.5 + clef1**0.5/2)]"
   ]
  },
  {
   "cell_type": "code",
   "execution_count": 82,
   "id": "3b7eaff1",
   "metadata": {},
   "outputs": [
    {
     "name": "stdout",
     "output_type": "stream",
     "text": [
      "['La', 'clef', 'pour', 'débloquer', 'le', 'prochain', 'exercice', 'est', 'donnée', 'par', 'le', 'carré', 'du', 'nombre', 'de', 'mots', 'présents', 'dans', 'la', 'phrase', 'que', 'vous', 'êtes', 'en', 'train', 'de', 'lire,', 'donc,', 'en', 'remplacant', 'clef1', 'par', 'ce', 'nombre', 'dans', 'le', 'code', 'ci-dessous', 'vous', 'ferez', 'apparaitre', 'les', 'consignes', 'du', 'prochain', 'exercice.'] 2116\n"
     ]
    }
   ],
   "source": [
    "t = \"La clef pour débloquer le prochain exercice est donnée par le carré du nombre de mots présents dans la phrase que vous êtes en train de lire, donc, en remplacant clef1 par ce nombre dans le code ci-dessous vous ferez apparaitre les consignes du prochain exercice.\"\n",
    "\n",
    "x = t.split(\" \")\n",
    "y = len(x)\n",
    "y = y**2\n",
    "\n",
    "print(x,y)"
   ]
  },
  {
   "cell_type": "markdown",
   "id": "f5bd6bde",
   "metadata": {},
   "source": [
    "<span style='line-height:1.5;font-size: 17px;font-family:\"Times New Roman\"'>\n",
    "\n",
    "__Troisème étape__    \n",
    "    \n",
    "Rentrez la `clef2` que vous avez trouvé à la deuxième étape, dans le code suivant pour faire apparaître l'énnoncé du prochain exercice. "
   ]
  },
  {
   "cell_type": "code",
   "execution_count": 84,
   "id": "8365e522",
   "metadata": {
    "ExecuteTime": {
     "end_time": "2024-03-14T10:26:53.001743Z",
     "start_time": "2024-03-14T10:26:52.990586Z"
    }
   },
   "outputs": [],
   "source": [
    "clef2 = 10 #ecrivez ici la vlaeur de la clef2"
   ]
  },
  {
   "cell_type": "code",
   "execution_count": 85,
   "id": "09651cb2",
   "metadata": {},
   "outputs": [
    {
     "data": {
      "text/plain": [
       "'prochaine clef = déterminant de A'"
      ]
     },
     "execution_count": 85,
     "metadata": {},
     "output_type": "execute_result"
    }
   ],
   "source": [
    "l1 = [11.2,11.4,11.1,9.9,10.4,9.7,10.5,11.0,10.1,3.2,9.9,10.8,10.1,10.2,3.2,6.1,3.2,10.0,23.3,11.6,10.1,11.4,10.9,\n",
    "      10.5,11.0,9.7,11.0,11.6,3.2,10.0,10.1,3.2,6.5]\n",
    "\n",
    "\"\".join([chr(int(i*clef2)) for i in l1])"
   ]
  },
  {
   "cell_type": "code",
   "execution_count": 87,
   "id": "e4a51138",
   "metadata": {},
   "outputs": [],
   "source": [
    "import numpy as np"
   ]
  },
  {
   "cell_type": "code",
   "execution_count": 92,
   "id": "1a2ba765",
   "metadata": {},
   "outputs": [
    {
     "data": {
      "text/plain": [
       "601.0"
      ]
     },
     "execution_count": 92,
     "metadata": {},
     "output_type": "execute_result"
    }
   ],
   "source": [
    "A = np.array([[60, -1], [1, 10]])\n",
    "\n",
    "det = np.linalg.det(A)\n",
    "det"
   ]
  },
  {
   "cell_type": "markdown",
   "id": "04ac1327",
   "metadata": {},
   "source": [
    "<span style='line-height:1.5;font-size: 17px;font-family:\"Times New Roman\"'>\n",
    "\n",
    "    \n",
    "Un fois l'énnoncé de la prochaine étape trouvé, vous pourrez utiliser les éléments suivants :\n",
    "    \n",
    "\n",
    "    \n",
    "$$A = \n",
    "\\begin{pmatrix}\n",
    "60 & -1 \\\\\n",
    "1 & 10 \\\\\n",
    "\\end{pmatrix}\n",
    "$$\n",
    "    \n",
    "    \n",
    "    \n",
    "$$B = \n",
    "\\begin{pmatrix}\n",
    "-19 & 10 \\\\\n",
    "-81 & 11 \\\\\n",
    "\\end{pmatrix}\n",
    "$$"
   ]
  },
  {
   "cell_type": "markdown",
   "id": "06be11a8",
   "metadata": {},
   "source": [
    "<span style='line-height:1.5;font-size: 17px;font-family:\"Times New Roman\"'>\n",
    "\n",
    "__Quatrième étape__    \n",
    "    \n",
    "Vous venez de trouver la `clef3`. Attribuez cette valeur à la variable `clef3` du code ci-dessous. Les consignes de la prochaine étape s'afficheront !!"
   ]
  },
  {
   "cell_type": "code",
   "execution_count": 93,
   "id": "dbf85e66",
   "metadata": {
    "ExecuteTime": {
     "end_time": "2024-03-14T10:28:29.264254Z",
     "start_time": "2024-03-14T10:28:29.226422Z"
    },
    "scrolled": true
   },
   "outputs": [
    {
     "data": {
      "text/plain": [
       "'Importez la base de données the_final_base.xlsx présente dans le dossier data de la séance 4. et faire une nuage de points avec les variables x1 et x2. En utilisant la commande plt.figure(figsize=(1,1)), modifiez les dimensions du graphique pour aficher le message caché.'"
      ]
     },
     "execution_count": 93,
     "metadata": {},
     "output_type": "execute_result"
    }
   ],
   "source": [
    "clef3 = 601.0 #ecrivez ici la valeur de la clef3\n",
    "\n",
    "l2=[674,710,713,712,715,717,702,723,633,709,698,633,699,698,716,702,633,701,702,633,701,712,711,711,834,702,716,633,\n",
    "    717,705,702,696,703,706,711,698,709,696,699,698,716,702,647,721,709,716,721,633,713,715,834,716,702,711,717,702,\n",
    "    633,701,698,711,716,633,709,702,633,701,712,716,716,706,702,715,633,701,698,717,698,633,701,702,633,709,698,633,\n",
    "    716,834,698,711,700,702,633,653,647,633,702,717,633,703,698,706,715,702,633,718,711,702,633,711,718,698,704,702,\n",
    "    633,701,702,633,713,712,706,711,717,716,633,698,719,702,700,633,709,702,716,633,719,698,715,706,698,699,709,702,\n",
    "    716,633,721,650,633,702,717,633,721,651,647,633,670,711,633,718,717,706,709,706,716,698,711,717,633,709,698,633,\n",
    "    700,712,710,710,698,711,701,702,633,713,709,717,647,703,706,704,718,715,702,641,703,706,704,716,706,723,702,662,\n",
    "    641,650,645,650,642,642,645,633,710,712,701,706,703,706,702,723,633,709,702,716,633,701,706,710,702,711,716,706,\n",
    "    712,711,716,633,701,718,633,704,715,698,713,705,706,714,718,702,633,713,712,718,715,633,698,703,706,700,705,702,\n",
    "    715,633,709,702,633,710,702,716,716,698,704,702,633,700,698,700,705,834,647]\n",
    "\n",
    "\"\".join([chr(int(i-clef3)) for i in l2])"
   ]
  },
  {
   "cell_type": "code",
   "execution_count": 94,
   "id": "592e4364",
   "metadata": {},
   "outputs": [],
   "source": [
    "import pandas as pd "
   ]
  },
  {
   "cell_type": "code",
   "execution_count": 96,
   "id": "9f3cfe25",
   "metadata": {
    "scrolled": true
   },
   "outputs": [
    {
     "data": {
      "text/html": [
       "<div>\n",
       "<style scoped>\n",
       "    .dataframe tbody tr th:only-of-type {\n",
       "        vertical-align: middle;\n",
       "    }\n",
       "\n",
       "    .dataframe tbody tr th {\n",
       "        vertical-align: top;\n",
       "    }\n",
       "\n",
       "    .dataframe thead th {\n",
       "        text-align: right;\n",
       "    }\n",
       "</style>\n",
       "<table border=\"1\" class=\"dataframe\">\n",
       "  <thead>\n",
       "    <tr style=\"text-align: right;\">\n",
       "      <th></th>\n",
       "      <th>x1</th>\n",
       "      <th>x2</th>\n",
       "    </tr>\n",
       "  </thead>\n",
       "  <tbody>\n",
       "    <tr>\n",
       "      <th>0</th>\n",
       "      <td>1.0</td>\n",
       "      <td>1.0</td>\n",
       "    </tr>\n",
       "    <tr>\n",
       "      <th>1</th>\n",
       "      <td>1.0</td>\n",
       "      <td>2.0</td>\n",
       "    </tr>\n",
       "    <tr>\n",
       "      <th>2</th>\n",
       "      <td>1.0</td>\n",
       "      <td>3.0</td>\n",
       "    </tr>\n",
       "    <tr>\n",
       "      <th>3</th>\n",
       "      <td>1.0</td>\n",
       "      <td>4.0</td>\n",
       "    </tr>\n",
       "    <tr>\n",
       "      <th>4</th>\n",
       "      <td>2.0</td>\n",
       "      <td>2.0</td>\n",
       "    </tr>\n",
       "    <tr>\n",
       "      <th>5</th>\n",
       "      <td>2.0</td>\n",
       "      <td>4.0</td>\n",
       "    </tr>\n",
       "    <tr>\n",
       "      <th>6</th>\n",
       "      <td>3.0</td>\n",
       "      <td>2.0</td>\n",
       "    </tr>\n",
       "    <tr>\n",
       "      <th>7</th>\n",
       "      <td>3.0</td>\n",
       "      <td>3.0</td>\n",
       "    </tr>\n",
       "    <tr>\n",
       "      <th>8</th>\n",
       "      <td>3.0</td>\n",
       "      <td>4.0</td>\n",
       "    </tr>\n",
       "    <tr>\n",
       "      <th>9</th>\n",
       "      <td>5.0</td>\n",
       "      <td>4.0</td>\n",
       "    </tr>\n",
       "    <tr>\n",
       "      <th>10</th>\n",
       "      <td>6.0</td>\n",
       "      <td>1.0</td>\n",
       "    </tr>\n",
       "    <tr>\n",
       "      <th>11</th>\n",
       "      <td>6.0</td>\n",
       "      <td>2.0</td>\n",
       "    </tr>\n",
       "    <tr>\n",
       "      <th>12</th>\n",
       "      <td>6.0</td>\n",
       "      <td>3.0</td>\n",
       "    </tr>\n",
       "    <tr>\n",
       "      <th>13</th>\n",
       "      <td>7.0</td>\n",
       "      <td>4.0</td>\n",
       "    </tr>\n",
       "    <tr>\n",
       "      <th>14</th>\n",
       "      <td>9.0</td>\n",
       "      <td>4.0</td>\n",
       "    </tr>\n",
       "    <tr>\n",
       "      <th>15</th>\n",
       "      <td>10.0</td>\n",
       "      <td>1.0</td>\n",
       "    </tr>\n",
       "    <tr>\n",
       "      <th>16</th>\n",
       "      <td>10.0</td>\n",
       "      <td>2.0</td>\n",
       "    </tr>\n",
       "    <tr>\n",
       "      <th>17</th>\n",
       "      <td>10.0</td>\n",
       "      <td>3.0</td>\n",
       "    </tr>\n",
       "    <tr>\n",
       "      <th>18</th>\n",
       "      <td>10.0</td>\n",
       "      <td>4.0</td>\n",
       "    </tr>\n",
       "    <tr>\n",
       "      <th>19</th>\n",
       "      <td>11.0</td>\n",
       "      <td>4.0</td>\n",
       "    </tr>\n",
       "    <tr>\n",
       "      <th>20</th>\n",
       "      <td>13.0</td>\n",
       "      <td>1.0</td>\n",
       "    </tr>\n",
       "    <tr>\n",
       "      <th>21</th>\n",
       "      <td>13.0</td>\n",
       "      <td>2.0</td>\n",
       "    </tr>\n",
       "    <tr>\n",
       "      <th>22</th>\n",
       "      <td>13.0</td>\n",
       "      <td>2.5</td>\n",
       "    </tr>\n",
       "    <tr>\n",
       "      <th>23</th>\n",
       "      <td>13.0</td>\n",
       "      <td>3.0</td>\n",
       "    </tr>\n",
       "    <tr>\n",
       "      <th>24</th>\n",
       "      <td>13.0</td>\n",
       "      <td>4.0</td>\n",
       "    </tr>\n",
       "    <tr>\n",
       "      <th>25</th>\n",
       "      <td>13.2</td>\n",
       "      <td>2.5</td>\n",
       "    </tr>\n",
       "    <tr>\n",
       "      <th>26</th>\n",
       "      <td>13.5</td>\n",
       "      <td>2.5</td>\n",
       "    </tr>\n",
       "    <tr>\n",
       "      <th>27</th>\n",
       "      <td>13.7</td>\n",
       "      <td>2.5</td>\n",
       "    </tr>\n",
       "    <tr>\n",
       "      <th>28</th>\n",
       "      <td>14.0</td>\n",
       "      <td>1.0</td>\n",
       "    </tr>\n",
       "    <tr>\n",
       "      <th>29</th>\n",
       "      <td>14.0</td>\n",
       "      <td>2.0</td>\n",
       "    </tr>\n",
       "    <tr>\n",
       "      <th>30</th>\n",
       "      <td>14.0</td>\n",
       "      <td>2.5</td>\n",
       "    </tr>\n",
       "    <tr>\n",
       "      <th>31</th>\n",
       "      <td>14.0</td>\n",
       "      <td>3.0</td>\n",
       "    </tr>\n",
       "    <tr>\n",
       "      <th>32</th>\n",
       "      <td>14.0</td>\n",
       "      <td>4.0</td>\n",
       "    </tr>\n",
       "    <tr>\n",
       "      <th>33</th>\n",
       "      <td>16.0</td>\n",
       "      <td>1.0</td>\n",
       "    </tr>\n",
       "    <tr>\n",
       "      <th>34</th>\n",
       "      <td>16.0</td>\n",
       "      <td>2.0</td>\n",
       "    </tr>\n",
       "    <tr>\n",
       "      <th>35</th>\n",
       "      <td>16.0</td>\n",
       "      <td>3.0</td>\n",
       "    </tr>\n",
       "    <tr>\n",
       "      <th>36</th>\n",
       "      <td>16.0</td>\n",
       "      <td>4.0</td>\n",
       "    </tr>\n",
       "    <tr>\n",
       "      <th>37</th>\n",
       "      <td>17.0</td>\n",
       "      <td>1.0</td>\n",
       "    </tr>\n",
       "    <tr>\n",
       "      <th>38</th>\n",
       "      <td>17.0</td>\n",
       "      <td>4.0</td>\n",
       "    </tr>\n",
       "    <tr>\n",
       "      <th>39</th>\n",
       "      <td>18.0</td>\n",
       "      <td>1.0</td>\n",
       "    </tr>\n",
       "    <tr>\n",
       "      <th>40</th>\n",
       "      <td>18.0</td>\n",
       "      <td>2.0</td>\n",
       "    </tr>\n",
       "    <tr>\n",
       "      <th>41</th>\n",
       "      <td>18.0</td>\n",
       "      <td>3.0</td>\n",
       "    </tr>\n",
       "    <tr>\n",
       "      <th>42</th>\n",
       "      <td>18.0</td>\n",
       "      <td>4.0</td>\n",
       "    </tr>\n",
       "    <tr>\n",
       "      <th>43</th>\n",
       "      <td>20.0</td>\n",
       "      <td>1.0</td>\n",
       "    </tr>\n",
       "    <tr>\n",
       "      <th>44</th>\n",
       "      <td>20.0</td>\n",
       "      <td>2.0</td>\n",
       "    </tr>\n",
       "    <tr>\n",
       "      <th>45</th>\n",
       "      <td>20.0</td>\n",
       "      <td>3.0</td>\n",
       "    </tr>\n",
       "    <tr>\n",
       "      <th>46</th>\n",
       "      <td>20.0</td>\n",
       "      <td>4.0</td>\n",
       "    </tr>\n",
       "    <tr>\n",
       "      <th>47</th>\n",
       "      <td>21.0</td>\n",
       "      <td>3.0</td>\n",
       "    </tr>\n",
       "    <tr>\n",
       "      <th>48</th>\n",
       "      <td>22.0</td>\n",
       "      <td>2.0</td>\n",
       "    </tr>\n",
       "    <tr>\n",
       "      <th>49</th>\n",
       "      <td>23.0</td>\n",
       "      <td>1.0</td>\n",
       "    </tr>\n",
       "    <tr>\n",
       "      <th>50</th>\n",
       "      <td>23.0</td>\n",
       "      <td>2.0</td>\n",
       "    </tr>\n",
       "    <tr>\n",
       "      <th>51</th>\n",
       "      <td>23.0</td>\n",
       "      <td>3.0</td>\n",
       "    </tr>\n",
       "    <tr>\n",
       "      <th>52</th>\n",
       "      <td>23.0</td>\n",
       "      <td>4.0</td>\n",
       "    </tr>\n",
       "  </tbody>\n",
       "</table>\n",
       "</div>"
      ],
      "text/plain": [
       "      x1   x2\n",
       "0    1.0  1.0\n",
       "1    1.0  2.0\n",
       "2    1.0  3.0\n",
       "3    1.0  4.0\n",
       "4    2.0  2.0\n",
       "5    2.0  4.0\n",
       "6    3.0  2.0\n",
       "7    3.0  3.0\n",
       "8    3.0  4.0\n",
       "9    5.0  4.0\n",
       "10   6.0  1.0\n",
       "11   6.0  2.0\n",
       "12   6.0  3.0\n",
       "13   7.0  4.0\n",
       "14   9.0  4.0\n",
       "15  10.0  1.0\n",
       "16  10.0  2.0\n",
       "17  10.0  3.0\n",
       "18  10.0  4.0\n",
       "19  11.0  4.0\n",
       "20  13.0  1.0\n",
       "21  13.0  2.0\n",
       "22  13.0  2.5\n",
       "23  13.0  3.0\n",
       "24  13.0  4.0\n",
       "25  13.2  2.5\n",
       "26  13.5  2.5\n",
       "27  13.7  2.5\n",
       "28  14.0  1.0\n",
       "29  14.0  2.0\n",
       "30  14.0  2.5\n",
       "31  14.0  3.0\n",
       "32  14.0  4.0\n",
       "33  16.0  1.0\n",
       "34  16.0  2.0\n",
       "35  16.0  3.0\n",
       "36  16.0  4.0\n",
       "37  17.0  1.0\n",
       "38  17.0  4.0\n",
       "39  18.0  1.0\n",
       "40  18.0  2.0\n",
       "41  18.0  3.0\n",
       "42  18.0  4.0\n",
       "43  20.0  1.0\n",
       "44  20.0  2.0\n",
       "45  20.0  3.0\n",
       "46  20.0  4.0\n",
       "47  21.0  3.0\n",
       "48  22.0  2.0\n",
       "49  23.0  1.0\n",
       "50  23.0  2.0\n",
       "51  23.0  3.0\n",
       "52  23.0  4.0"
      ]
     },
     "execution_count": 96,
     "metadata": {},
     "output_type": "execute_result"
    }
   ],
   "source": [
    "df = pd.read_csv(\"the_final_base.csv\")\n",
    "df"
   ]
  },
  {
   "cell_type": "code",
   "execution_count": 97,
   "id": "472acd20",
   "metadata": {},
   "outputs": [],
   "source": [
    "import matplotlib.pyplot as plt"
   ]
  },
  {
   "cell_type": "code",
   "execution_count": 101,
   "id": "5982eb2c",
   "metadata": {},
   "outputs": [
    {
     "data": {
      "image/png": "[encoded data removed]",
      "text/plain": [
       "<Figure size 1000x100 with 1 Axes>"
      ]
     },
     "metadata": {},
     "output_type": "display_data"
    }
   ],
   "source": [
    "plt.figure(figsize=(10,1))\n",
    "\n",
    "plt.scatter(df[\"x1\"],df[\"x2\"])\n",
    "\n",
    "plt.show()"
   ]
  },
  {
   "cell_type": "markdown",
   "id": "be12ac03",
   "metadata": {},
   "source": [
    "<span style='line-height:1.5;font-size: 17px;font-family:\"Times New Roman\"'>\n",
    "\n",
    "__Sprint final !!!__    \n",
    "    \n",
    "La clef4 que vous venez de trouver à l'étape 3, ou plutôt sa taille, devrait vous aider à trouver le message caché du code ci-dessous.\n",
    "    \n",
    "Une fois trouvé, c'est gagné !!! "
   ]
  },
  {
   "cell_type": "code",
   "execution_count": 103,
   "id": "5b6a2f78",
   "metadata": {},
   "outputs": [
    {
     "data": {
      "text/plain": [
       "'Comment est votre blanquette ?'"
      ]
     },
     "execution_count": 103,
     "metadata": {},
     "output_type": "execute_result"
    }
   ],
   "source": [
    "clef4 = 6 #ecrivez ici la valeur de la clef4\n",
    "\n",
    "s = 'Iussktz&kyz&|uzxk&hrgtw{kzzk&E'\n",
    "\n",
    "\"\".join([chr(ord(i)-clef4) for i in s])"
   ]
  }
 ],
 "metadata": {
  "kernelspec": {
   "display_name": "Python 3 (ipykernel)",
   "language": "python",
   "name": "python3"
  },
  "language_info": {
   "codemirror_mode": {
    "name": "ipython",
    "version": 3
   },
   "file_extension": ".py",
   "mimetype": "text/x-python",
   "name": "python",
   "nbconvert_exporter": "python",
   "pygments_lexer": "ipython3",
   "version": "3.11.4"
  },
  "toc": {
   "base_numbering": 1,
   "nav_menu": {},
   "number_sections": true,
   "sideBar": true,
   "skip_h1_title": false,
   "title_cell": "Table of Contents",
   "title_sidebar": "Contents",
   "toc_cell": false,
   "toc_position": {},
   "toc_section_display": true,
   "toc_window_display": false
  },
  "varInspector": {
   "cols": {
    "lenName": 16,
    "lenType": 16,
    "lenVar": 40
   },
   "kernels_config": {
    "python": {
     "delete_cmd_postfix": "",
     "delete_cmd_prefix": "del ",
     "library": "var_list.py",
     "varRefreshCmd": "print(var_dic_list())"
    },
    "r": {
     "delete_cmd_postfix": ") ",
     "delete_cmd_prefix": "rm(",
     "library": "var_list.r",
     "varRefreshCmd": "cat(var_dic_list()) "
    }
   },
   "types_to_exclude": [
    "module",
    "function",
    "builtin_function_or_method",
    "instance",
    "_Feature"
   ],
   "window_display": false
  }
 },
 "nbformat": 4,
 "nbformat_minor": 5
}
