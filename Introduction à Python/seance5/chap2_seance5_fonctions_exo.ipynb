{
 "cells": [
  {
   "cell_type": "markdown",
   "id": "93aff62a",
   "metadata": {},
   "source": [
    "<span style='line-height:1.5;font-size: 17px;font-family:\"Times New Roman\"'>\n",
    "\n",
    "\n",
    "<b><center><font size=\"6\">Introduction à python - Séance 5</font></center></b>\n",
    "\n",
    "<b><center><font size=\"6\">Coder des fonctions sous python - exercices</font></center></b>\n",
    "    \n",
    "<g><h7><center> CM - P. Durand  - pierre.durand@u-pec.fr </center></h7></g>\n",
    "\n",
    "\n",
    "\n",
    "<b><center><font size=\"5\">M1 - 2022-2023</font></center></b> \n",
    "\n",
    "\n",
    "\n",
    "</span>"
   ]
  },
  {
   "cell_type": "markdown",
   "id": "b041a961",
   "metadata": {},
   "source": [
    "<span style='line-height:1.5;font-size: 17px;font-family:\"Times New Roman\"'>\n",
    "\n",
    "\n",
    "\n",
    "<hr style=\" border: 2.5px solid black;\">\n",
    "<br>\n",
    "\n",
    "__Plan du cours__\n",
    "<br>\n",
    "\n",
    "- Partie I : introduction et appréhension du langage python \n",
    "    - Séance 1 - variables et syntaxe de base\n",
    "    - Séance 2 - boucles et structure conditionnelle - exercices d'application\n",
    "    - Séance 3 - exercices d'application : utilisation et combinaison des outils acquis\n",
    "    - Séance 4 - exercices d'application : prise d'autonomie sur la recherche d'information\n",
    "    \n",
    "- Partie II : apprendre à coder\n",
    "    - <b>Séance 5 - fonctions sous python - exercices d'application</b>\n",
    "    - Séance 6 - exercices d'application : coder des fonctions simples\n",
    "    - Séance 7 - bases de données et manipulation des données sous python - exercices d'application\n",
    "    - Séance 8 - exercices d'application : manipulation de bases de données\n",
    "    - Séance 9 - exercices d'application : restitution des connaissances de l'ensemble du cours\n",
    "    \n",
    "- Partie III : prise de recul sur un code python\n",
    "    - Séance 10 - commenter un code et utiliser ChatGPT "
   ]
  },
  {
   "cell_type": "markdown",
   "id": "e607d5a7",
   "metadata": {},
   "source": [
    "<span style='line-height:1.5;font-size: 17px;font-family:\"Times New Roman\"'>\n",
    "\n",
    "<hr style=\" border: 2.5px solid black;\">\n",
    "<br>\n",
    "\n",
    "# Exercices\n",
    "\n",
    "\n",
    "__Exercice 1 - fonction simple__\n",
    "\n",
    "Ecrire une fonction prenant en argument une liste et renvoyant la longueur de la liste."
   ]
  },
  {
   "cell_type": "code",
   "execution_count": 4,
   "id": "95fab437",
   "metadata": {},
   "outputs": [],
   "source": [
    "def length(l) :\n",
    "    return len(l)"
   ]
  },
  {
   "cell_type": "code",
   "execution_count": 5,
   "id": "2dddf82d",
   "metadata": {},
   "outputs": [
    {
     "data": {
      "text/plain": [
       "4"
      ]
     },
     "execution_count": 5,
     "metadata": {},
     "output_type": "execute_result"
    }
   ],
   "source": [
    "a=[1,2,2,5]\n",
    "length(a)"
   ]
  },
  {
   "cell_type": "markdown",
   "id": "04f6454e",
   "metadata": {},
   "source": [
    "<span style='line-height:1.5;font-size: 17px;font-family:\"Times New Roman\"'>\n",
    "\n",
    "__Exercice 2 - fonction simple__\n",
    "\n",
    "Ecrire une fonction permettant de trouver le plus petit entier dans une liste"
   ]
  },
  {
   "cell_type": "code",
   "execution_count": 27,
   "id": "7746cafe",
   "metadata": {},
   "outputs": [],
   "source": [
    "def small(l) :\n",
    "    l is list\n",
    "    return min(l)"
   ]
  },
  {
   "cell_type": "code",
   "execution_count": 30,
   "id": "c7251562",
   "metadata": {},
   "outputs": [
    {
     "data": {
      "text/plain": [
       "0"
      ]
     },
     "execution_count": 30,
     "metadata": {},
     "output_type": "execute_result"
    }
   ],
   "source": [
    "b = [0,2,8]\n",
    "\n",
    "small(b)"
   ]
  },
  {
   "cell_type": "markdown",
   "id": "eb9e07ed",
   "metadata": {},
   "source": [
    "<span style='line-height:1.5;font-size: 17px;font-family:\"Times New Roman\"'>\n",
    "\n",
    "__Exercice 3 - notes et élèves__\n",
    "\n",
    "1- On nous donne en argument un dictionnaire de noms. Les noms sont les clefs et leur attribut est une note. Ecrire une fonction retournant la liste des élèves ayant au moins 10.\n",
    "\n",
    "<br> \n",
    "2- Ecrire une autre fonction retournant la moyenne de la classe et la liste des élèves ayant eu au dessus de la moyenne."
   ]
  },
  {
   "cell_type": "code",
   "execution_count": 32,
   "id": "2ac6e9ff",
   "metadata": {
    "ExecuteTime": {
     "end_time": "2023-10-26T11:56:47.177088Z",
     "start_time": "2023-10-26T11:56:47.156954Z"
    }
   },
   "outputs": [
    {
     "data": {
      "text/plain": [
       "dict_items([('Durand', 5.6), ('Teuf', 12.01), ('Morvillier', 15.5), ('Einstein', 9.75), ('Newton', 17), ('Bohr', 8.4), ('Tesla', 11)])"
      ]
     },
     "execution_count": 32,
     "metadata": {},
     "output_type": "execute_result"
    }
   ],
   "source": [
    "#Tester avec : \n",
    "dico = {'Durand':5.6, 'Teuf':12.01, 'Morvillier':15.5, 'Einstein':9.75, 'Newton':17, 'Bohr':8.4, 'Tesla':11}\n",
    "dico.items()"
   ]
  },
  {
   "cell_type": "code",
   "execution_count": 35,
   "id": "1677070c",
   "metadata": {},
   "outputs": [],
   "source": [
    "def note (dico) : \n",
    "    for float in dico : \n",
    "        if float > 5 :\n",
    "            return float"
   ]
  },
  {
   "cell_type": "code",
   "execution_count": 37,
   "id": "22215d3c",
   "metadata": {},
   "outputs": [
    {
     "ename": "TypeError",
     "evalue": "'>' not supported between instances of 'str' and 'int'",
     "output_type": "error",
     "traceback": [
      "\u001b[1;31m---------------------------------------------------------------------------\u001b[0m",
      "\u001b[1;31mTypeError\u001b[0m                                 Traceback (most recent call last)",
      "Cell \u001b[1;32mIn[37], line 1\u001b[0m\n\u001b[1;32m----> 1\u001b[0m note(dico)\n",
      "Cell \u001b[1;32mIn[35], line 3\u001b[0m, in \u001b[0;36mnote\u001b[1;34m(dico)\u001b[0m\n\u001b[0;32m      1\u001b[0m \u001b[38;5;28;01mdef\u001b[39;00m \u001b[38;5;21mnote\u001b[39m (dico) : \n\u001b[0;32m      2\u001b[0m     \u001b[38;5;28;01mfor\u001b[39;00m \u001b[38;5;28mfloat\u001b[39m \u001b[38;5;129;01min\u001b[39;00m dico : \n\u001b[1;32m----> 3\u001b[0m         \u001b[38;5;28;01mif\u001b[39;00m \u001b[38;5;28mfloat\u001b[39m \u001b[38;5;241m>\u001b[39m \u001b[38;5;241m5\u001b[39m :\n\u001b[0;32m      4\u001b[0m             \u001b[38;5;28;01mreturn\u001b[39;00m \u001b[38;5;28mfloat\u001b[39m\n",
      "\u001b[1;31mTypeError\u001b[0m: '>' not supported between instances of 'str' and 'int'"
     ]
    }
   ],
   "source": [
    "note(dico)"
   ]
  },
  {
   "cell_type": "markdown",
   "id": "6645a841",
   "metadata": {},
   "source": [
    "\n",
    "<span style='line-height:1.5;font-size: 17px;font-family:\"Times New Roman\"'>\n",
    "\n",
    "__Exercice 4 - évlolution d'un population__\n",
    "\n",
    "Une population _p0_ augmente chaque année de $x$ \\%  (_percent_). Chaque année également, il y a un certain nombre fixe de départs (_leave_). On souhaite savoir en combien d'année.s la population atteindra un certain seuil (_target_). Ecrire la fonction prenant en paramètres _p0, percent, leave, target_ et qui renvoie le nombre d'années que met la population à atteindre ce seuil."
   ]
  },
  {
   "cell_type": "code",
   "execution_count": null,
   "id": "9b5054d2",
   "metadata": {},
   "outputs": [],
   "source": []
  },
  {
   "cell_type": "code",
   "execution_count": null,
   "id": "28ecb295",
   "metadata": {},
   "outputs": [],
   "source": [
    "# Test : \n",
    "a,b,c,d = 1500, 5, 50, 5000 # réponse : 43\n",
    "e,f,g,h = 1500000, 2.5, 10000, 2000000 #réponse 16\n",
    "i,j,k,l = 1500000, 0.25, 1000, 2000000 #réponse  151\n"
   ]
  },
  {
   "cell_type": "code",
   "execution_count": null,
   "id": "342d5e87",
   "metadata": {},
   "outputs": [],
   "source": []
  },
  {
   "cell_type": "code",
   "execution_count": null,
   "id": "87fde7b4",
   "metadata": {},
   "outputs": [],
   "source": []
  },
  {
   "cell_type": "markdown",
   "id": "db6007e3",
   "metadata": {},
   "source": [
    "<span style='line-height:1.5;font-size: 17px;font-family:\"Times New Roman\"'>\n",
    "\n",
    "\n",
    "__Exercice 5 - fonction avec paramètre par défaut__\n",
    "\n",
    "Ecrire une fonction ayant pour paramètre une liste et permettant de renvoyer une autre liste dont les éléments sont les carrés de la première. Ajouter une option de sorte que l'on puisse choisir de renvoyer cette liste de façon inversée. Procéder ainsi :\n",
    "- Ecrire une fonction permettant de stocker au sein d'une liste les carrés des éléments de la liste mise en paramètre\n",
    "- Ajouter une option dans les paramètres (c a d, un paramètre dont la valeur est fixée par défaut). Par exemple un booléen (vrai, faux) \n",
    "- Ajouter dans le corps de la fonction une structure conditionnelle de sorte que si l'option n'est pas vérifiée, la fonction renvoie la liste des carrés, inversée"
   ]
  },
  {
   "cell_type": "code",
   "execution_count": null,
   "id": "d066de9f",
   "metadata": {},
   "outputs": [],
   "source": []
  },
  {
   "cell_type": "code",
   "execution_count": null,
   "id": "83efd58e",
   "metadata": {},
   "outputs": [],
   "source": []
  },
  {
   "cell_type": "code",
   "execution_count": null,
   "id": "64037ca7",
   "metadata": {},
   "outputs": [],
   "source": [
    "# 1. trouver un moyen d'inverser une liste\n",
    "# 2. poser une option (dans les paramètres) égale à False\n",
    "# 3. si l'option est vraie, alors on retournera la liste \"resultat\" inversée"
   ]
  },
  {
   "cell_type": "code",
   "execution_count": null,
   "id": "4673163d",
   "metadata": {},
   "outputs": [],
   "source": [
    "# Tester avec les deux options : op=False et op=True\n",
    "l1 = [1,2,3]\n",
    "print(square(l1, False))\n",
    "print(square(l1, True))"
   ]
  },
  {
   "cell_type": "code",
   "execution_count": null,
   "id": "845fc41e",
   "metadata": {},
   "outputs": [],
   "source": []
  },
  {
   "cell_type": "code",
   "execution_count": null,
   "id": "09967870",
   "metadata": {},
   "outputs": [],
   "source": []
  },
  {
   "cell_type": "markdown",
   "id": "ba7f8dfb",
   "metadata": {},
   "source": [
    "<span style='line-height:1.5;font-size: 17px;font-family:\"Times New Roman\"'>\n",
    "\n",
    "\n",
    "__Exercice 6 - ça ressemble à un exo de la séance 4...__\n",
    "    \n",
    "    \n",
    "Nous avons à disposition une base de données contenant des adresses mails (`mails.txt`). Importez ces données sous python (utilisez le moyen que vous souhaitez). \n",
    "    \n",
    "<br>\n",
    "    \n",
    "L'objectif est de créer une base de données avec trois colonnes : \n",
    "    \n",
    "- colonne1 : contient les prénoms (avec majuscules) \n",
    "    \n",
    "- colonne2 : nom\n",
    "    \n",
    "- colonne3 : adresse mail\n",
    "    \n",
    "<br>\n",
    "    \n",
    "Maintenant que vous savez le faire pour une base de données, écrivez une fonction permettant de généraliser ce code à toute nouvelle liste de mail. \n",
    "\n"
   ]
  },
  {
   "cell_type": "code",
   "execution_count": null,
   "id": "97b79f26",
   "metadata": {},
   "outputs": [],
   "source": []
  },
  {
   "cell_type": "code",
   "execution_count": null,
   "id": "c2702ea1",
   "metadata": {},
   "outputs": [],
   "source": []
  },
  {
   "cell_type": "code",
   "execution_count": null,
   "id": "92b6bac8",
   "metadata": {},
   "outputs": [],
   "source": []
  },
  {
   "cell_type": "code",
   "execution_count": null,
   "id": "80f51052",
   "metadata": {},
   "outputs": [],
   "source": []
  }
 ],
 "metadata": {
  "kernelspec": {
   "display_name": "Python 3 (ipykernel)",
   "language": "python",
   "name": "python3"
  },
  "language_info": {
   "codemirror_mode": {
    "name": "ipython",
    "version": 3
   },
   "file_extension": ".py",
   "mimetype": "text/x-python",
   "name": "python",
   "nbconvert_exporter": "python",
   "pygments_lexer": "ipython3",
   "version": "3.11.4"
  },
  "toc": {
   "base_numbering": 1,
   "nav_menu": {},
   "number_sections": true,
   "sideBar": true,
   "skip_h1_title": false,
   "title_cell": "Table of Contents",
   "title_sidebar": "Contents",
   "toc_cell": false,
   "toc_position": {},
   "toc_section_display": true,
   "toc_window_display": false
  },
  "varInspector": {
   "cols": {
    "lenName": 16,
    "lenType": 16,
    "lenVar": 40
   },
   "kernels_config": {
    "python": {
     "delete_cmd_postfix": "",
     "delete_cmd_prefix": "del ",
     "library": "var_list.py",
     "varRefreshCmd": "print(var_dic_list())"
    },
    "r": {
     "delete_cmd_postfix": ") ",
     "delete_cmd_prefix": "rm(",
     "library": "var_list.r",
     "varRefreshCmd": "cat(var_dic_list()) "
    }
   },
   "types_to_exclude": [
    "module",
    "function",
    "builtin_function_or_method",
    "instance",
    "_Feature"
   ],
   "window_display": false
  }
 },
 "nbformat": 4,
 "nbformat_minor": 5
}
