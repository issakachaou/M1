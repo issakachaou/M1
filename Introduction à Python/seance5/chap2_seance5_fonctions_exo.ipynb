{
 "cells": [
  {
   "cell_type": "markdown",
   "id": "93aff62a",
   "metadata": {},
   "source": [
    "<span style='line-height:1.5;font-size: 17px;font-family:\"Times New Roman\"'>\n",
    "\n",
    "\n",
    "<b><center><font size=\"6\">Introduction à python - Séance 5</font></center></b>\n",
    "\n",
    "<b><center><font size=\"6\">Coder des fonctions sous python - exercices</font></center></b>\n",
    "    \n",
    "<g><h7><center> CM - P. Durand  - pierre.durand@u-pec.fr </center></h7></g>\n",
    "\n",
    "\n",
    "\n",
    "<b><center><font size=\"5\">M1 - 2022-2023</font></center></b> \n",
    "\n",
    "\n",
    "\n",
    "</span>"
   ]
  },
  {
   "cell_type": "markdown",
   "id": "b041a961",
   "metadata": {},
   "source": [
    "<span style='line-height:1.5;font-size: 17px;font-family:\"Times New Roman\"'>\n",
    "\n",
    "\n",
    "\n",
    "<hr style=\" border: 2.5px solid black;\">\n",
    "<br>\n",
    "\n",
    "__Plan du cours__\n",
    "<br>\n",
    "\n",
    "- Partie I : introduction et appréhension du langage python \n",
    "    - Séance 1 - variables et syntaxe de base\n",
    "    - Séance 2 - boucles et structure conditionnelle - exercices d'application\n",
    "    - Séance 3 - exercices d'application : utilisation et combinaison des outils acquis\n",
    "    - Séance 4 - exercices d'application : prise d'autonomie sur la recherche d'information\n",
    "    \n",
    "- Partie II : apprendre à coder\n",
    "    - <b>Séance 5 - fonctions sous python - exercices d'application</b>\n",
    "    - Séance 6 - exercices d'application : coder des fonctions simples\n",
    "    - Séance 7 - bases de données et manipulation des données sous python - exercices d'application\n",
    "    - Séance 8 - exercices d'application : manipulation de bases de données\n",
    "    - Séance 9 - exercices d'application : restitution des connaissances de l'ensemble du cours\n",
    "    \n",
    "- Partie III : prise de recul sur un code python\n",
    "    - Séance 10 - commenter un code et utiliser ChatGPT "
   ]
  },
  {
   "cell_type": "markdown",
   "id": "e607d5a7",
   "metadata": {},
   "source": [
    "<span style='line-height:1.5;font-size: 17px;font-family:\"Times New Roman\"'>\n",
    "\n",
    "<hr style=\" border: 2.5px solid black;\">\n",
    "<br>\n",
    "\n",
    "# Exercices\n",
    "\n",
    "\n",
    "__Exercice 1 - fonction simple__\n",
    "\n",
    "Ecrire une fonction prenant en argument une liste et renvoyant la longueur de la liste."
   ]
  },
  {
   "cell_type": "code",
   "execution_count": 4,
   "id": "95fab437",
   "metadata": {},
   "outputs": [],
   "source": [
    "def length(l) :\n",
    "    return len(l)"
   ]
  },
  {
   "cell_type": "code",
   "execution_count": 5,
   "id": "2dddf82d",
   "metadata": {},
   "outputs": [
    {
     "data": {
      "text/plain": [
       "4"
      ]
     },
     "execution_count": 5,
     "metadata": {},
     "output_type": "execute_result"
    }
   ],
   "source": [
    "a=[1,2,2,5]\n",
    "length(a)"
   ]
  },
  {
   "cell_type": "markdown",
   "id": "04f6454e",
   "metadata": {},
   "source": [
    "<span style='line-height:1.5;font-size: 17px;font-family:\"Times New Roman\"'>\n",
    "\n",
    "__Exercice 2 - fonction simple__\n",
    "\n",
    "Ecrire une fonction permettant de trouver le plus petit entier dans une liste"
   ]
  },
  {
   "cell_type": "code",
   "execution_count": 27,
   "id": "7746cafe",
   "metadata": {},
   "outputs": [],
   "source": [
    "def small(l) :\n",
    "    l is list\n",
    "    return min(l)"
   ]
  },
  {
   "cell_type": "code",
   "execution_count": 30,
   "id": "c7251562",
   "metadata": {},
   "outputs": [
    {
     "data": {
      "text/plain": [
       "0"
      ]
     },
     "execution_count": 30,
     "metadata": {},
     "output_type": "execute_result"
    }
   ],
   "source": [
    "b = [0,2,8]\n",
    "\n",
    "small(b)"
   ]
  },
  {
   "cell_type": "markdown",
   "id": "eb9e07ed",
   "metadata": {},
   "source": [
    "<span style='line-height:1.5;font-size: 17px;font-family:\"Times New Roman\"'>\n",
    "\n",
    "__Exercice 3 - notes et élèves__\n",
    "\n",
    "1- On nous donne en argument un dictionnaire de noms. Les noms sont les clefs et leur attribut est une note. Ecrire une fonction retournant la liste des élèves ayant au moins 10.\n",
    "\n",
    "<br> \n",
    "2- Ecrire une autre fonction retournant la moyenne de la classe et la liste des élèves ayant eu au dessus de la moyenne."
   ]
  },
  {
   "cell_type": "code",
   "execution_count": 3,
   "id": "2ac6e9ff",
   "metadata": {
    "ExecuteTime": {
     "end_time": "2023-10-26T11:56:47.177088Z",
     "start_time": "2023-10-26T11:56:47.156954Z"
    }
   },
   "outputs": [
    {
     "data": {
      "text/plain": [
       "dict_items([('Durand', 5.6), ('Teuf', 12.01), ('Morvillier', 15.5), ('Einstein', 9.75), ('Newton', 17), ('Bohr', 8.4), ('Tesla', 11)])"
      ]
     },
     "execution_count": 3,
     "metadata": {},
     "output_type": "execute_result"
    }
   ],
   "source": [
    "#Tester avec : \n",
    "dico = {'Durand':5.6, 'Teuf':12.01, 'Morvillier':15.5, 'Einstein':9.75, 'Newton':17, 'Bohr':8.4, 'Tesla':11}\n",
    "dico.items()"
   ]
  },
  {
   "cell_type": "code",
   "execution_count": 42,
   "id": "d87e8da6",
   "metadata": {},
   "outputs": [
    {
     "name": "stdout",
     "output_type": "stream",
     "text": [
      "['Teuf', 'Morvillier', 'Newton', 'Tesla']\n"
     ]
    }
   ],
   "source": [
    "plus_10 = []\n",
    "\n",
    "for nom in dico.keys() :\n",
    "    if dico[nom] >= 10 :\n",
    "        plus_10.append(nom)\n",
    "print(plus_10)"
   ]
  },
  {
   "cell_type": "code",
   "execution_count": 52,
   "id": "1677070c",
   "metadata": {},
   "outputs": [],
   "source": [
    "def note_sup_10 (dico):\n",
    "    plus_10 = []\n",
    "\n",
    "    for nom in dico.keys() :\n",
    "        if dico[nom] >= 10 :\n",
    "            plus_10.append(nom)\n",
    "    return plus_10"
   ]
  },
  {
   "cell_type": "code",
   "execution_count": 56,
   "id": "fed193e1",
   "metadata": {},
   "outputs": [
    {
     "data": {
      "text/plain": [
       "['Teuf', 'Morvillier', 'Newton', 'Tesla']"
      ]
     },
     "execution_count": 56,
     "metadata": {},
     "output_type": "execute_result"
    }
   ],
   "source": [
    "note_sup_10(dico)"
   ]
  },
  {
   "cell_type": "markdown",
   "id": "6645a841",
   "metadata": {},
   "source": [
    "\n",
    "<span style='line-height:1.5;font-size: 17px;font-family:\"Times New Roman\"'>\n",
    "\n",
    "__Exercice 4 - évlolution d'un population__\n",
    "\n",
    "Une population _p0_ augmente chaque année de $x$ \\%  (_percent_). Chaque année également, il y a un certain nombre fixe de départs (_leave_). On souhaite savoir en combien d'année.s la population atteindra un certain seuil (_target_). Ecrire la fonction prenant en paramètres _p0, percent, leave, target_ et qui renvoie le nombre d'années que met la population à atteindre ce seuil."
   ]
  },
  {
   "cell_type": "code",
   "execution_count": 2,
   "id": "9b5054d2",
   "metadata": {},
   "outputs": [],
   "source": [
    "def years_to_reach_target(p0, percent, leave, target):\n",
    "    population = p0\n",
    "    \n",
    "    max_years = 1000  \n",
    "\n",
    "    for years in range(max_years):\n",
    "        if population >= target:\n",
    "            return years  \n",
    "        population += population * (percent / 100)  \n",
    "        population -= leave  \n",
    "        population = max(population, 0) \n",
    "\n",
    "    return None"
   ]
  },
  {
   "cell_type": "code",
   "execution_count": 5,
   "id": "fe50c2bc",
   "metadata": {},
   "outputs": [
    {
     "name": "stdout",
     "output_type": "stream",
     "text": [
      "43\n"
     ]
    }
   ],
   "source": [
    "p0,x,leave,target = 1500, 5, 50, 5000 # réponse : 43\n",
    "\n",
    "count = 0\n",
    "while p0 <= target :\n",
    "    p0 = p0*(1+x/100)-leave\n",
    "    count += 1\n",
    "print(count)"
   ]
  },
  {
   "cell_type": "code",
   "execution_count": 9,
   "id": "d17a51cd",
   "metadata": {},
   "outputs": [],
   "source": [
    "def evol_pop(p0,x,leave,target):\n",
    "    count = 0\n",
    "    while p0 <= target :\n",
    "        p0 = p0*(1+x/100)-leave\n",
    "        count += 1\n",
    "    return count"
   ]
  },
  {
   "cell_type": "code",
   "execution_count": 14,
   "id": "da85f19b",
   "metadata": {},
   "outputs": [
    {
     "name": "stdout",
     "output_type": "stream",
     "text": [
      "43\n"
     ]
    }
   ],
   "source": [
    "print(evol_pop(a,b,c,d))"
   ]
  },
  {
   "cell_type": "code",
   "execution_count": 12,
   "id": "28ecb295",
   "metadata": {},
   "outputs": [],
   "source": [
    "# Test : \n",
    "a,b,c,d = 1500, 5, 50, 5000 # réponse : 43\n",
    "e,f,g,h = 1500000, 2.5, 10000, 2000000 #réponse 16\n",
    "i,j,k,l = 1500000, 0.25, 1000, 2000000 #réponse  151\n"
   ]
  },
  {
   "cell_type": "code",
   "execution_count": 9,
   "id": "342d5e87",
   "metadata": {},
   "outputs": [
    {
     "name": "stdout",
     "output_type": "stream",
     "text": [
      "43\n",
      "16\n",
      "151\n"
     ]
    }
   ],
   "source": [
    "print(years_to_reach_target(a,b,c,d))\n",
    "print(years_to_reach_target(e,f,g,h))\n",
    "print(years_to_reach_target(i,j,k,l))"
   ]
  },
  {
   "cell_type": "code",
   "execution_count": 1,
   "id": "87fde7b4",
   "metadata": {},
   "outputs": [],
   "source": []
  },
  {
   "cell_type": "markdown",
   "id": "db6007e3",
   "metadata": {},
   "source": [
    "<span style='line-height:1.5;font-size: 17px;font-family:\"Times New Roman\"'>\n",
    "\n",
    "\n",
    "__Exercice 5 - fonction avec paramètre par défaut__\n",
    "\n",
    "Ecrire une fonction ayant pour paramètre une liste et permettant de renvoyer une autre liste dont les éléments sont les carrés de la première. Ajouter une option de sorte que l'on puisse choisir de renvoyer cette liste de façon inversée. Procéder ainsi :\n",
    "- Ecrire une fonction permettant de stocker au sein d'une liste les carrés des éléments de la liste mise en paramètre\n",
    "- Ajouter une option dans les paramètres (c a d, un paramètre dont la valeur est fixée par défaut). Par exemple un booléen (vrai, faux) \n",
    "- Ajouter dans le corps de la fonction une structure conditionnelle de sorte que si l'option n'est pas vérifiée, la fonction renvoie la liste des carrés, inversée"
   ]
  },
  {
   "cell_type": "code",
   "execution_count": 10,
   "id": "d066de9f",
   "metadata": {},
   "outputs": [],
   "source": [
    "def square(numbers, reverse=False):\n",
    "    # Calcul des carrés des éléments de la liste\n",
    "    squared_numbers = [x ** 2 for x in numbers]\n",
    "    \n",
    "    # Vérification de l'option reverse\n",
    "    if reverse:\n",
    "        return squared_numbers\n",
    "    else:\n",
    "        return squared_numbers[::-1]"
   ]
  },
  {
   "cell_type": "code",
   "execution_count": null,
   "id": "83efd58e",
   "metadata": {},
   "outputs": [],
   "source": []
  },
  {
   "cell_type": "code",
   "execution_count": null,
   "id": "64037ca7",
   "metadata": {},
   "outputs": [],
   "source": [
    "# 1. trouver un moyen d'inverser une liste\n",
    "# 2. poser une option (dans les paramètres) égale à False\n",
    "# 3. si l'option est vraie, alors on retournera la liste \"resultat\" inversée"
   ]
  },
  {
   "cell_type": "code",
   "execution_count": 11,
   "id": "4673163d",
   "metadata": {},
   "outputs": [
    {
     "name": "stdout",
     "output_type": "stream",
     "text": [
      "[9, 4, 1]\n",
      "[1, 4, 9]\n"
     ]
    }
   ],
   "source": [
    "# Tester avec les deux options : op=False et op=True\n",
    "l1 = [1,2,3]\n",
    "print(square(l1, False))\n",
    "print(square(l1, True))"
   ]
  },
  {
   "cell_type": "code",
   "execution_count": null,
   "id": "845fc41e",
   "metadata": {},
   "outputs": [],
   "source": []
  },
  {
   "cell_type": "code",
   "execution_count": null,
   "id": "09967870",
   "metadata": {},
   "outputs": [],
   "source": []
  },
  {
   "cell_type": "markdown",
   "id": "ba7f8dfb",
   "metadata": {},
   "source": [
    "<span style='line-height:1.5;font-size: 17px;font-family:\"Times New Roman\"'>\n",
    "\n",
    "\n",
    "__Exercice 6 - ça ressemble à un exo de la séance 4...__\n",
    "    \n",
    "    \n",
    "Nous avons à disposition une base de données contenant des adresses mails (`mails.txt`). Importez ces données sous python (utilisez le moyen que vous souhaitez). \n",
    "    \n",
    "<br>\n",
    "    \n",
    "L'objectif est de créer une base de données avec trois colonnes : \n",
    "    \n",
    "- colonne1 : contient les prénoms (avec majuscules) \n",
    "    \n",
    "- colonne2 : nom\n",
    "    \n",
    "- colonne3 : adresse mail\n",
    "    \n",
    "<br>\n",
    "    \n",
    "Maintenant que vous savez le faire pour une base de données, écrivez une fonction permettant de généraliser ce code à toute nouvelle liste de mail. \n",
    "\n"
   ]
  },
  {
   "cell_type": "code",
   "execution_count": 20,
   "id": "97b79f26",
   "metadata": {},
   "outputs": [
    {
     "data": {
      "text/html": [
       "<div>\n",
       "<style scoped>\n",
       "    .dataframe tbody tr th:only-of-type {\n",
       "        vertical-align: middle;\n",
       "    }\n",
       "\n",
       "    .dataframe tbody tr th {\n",
       "        vertical-align: top;\n",
       "    }\n",
       "\n",
       "    .dataframe thead th {\n",
       "        text-align: right;\n",
       "    }\n",
       "</style>\n",
       "<table border=\"1\" class=\"dataframe\">\n",
       "  <thead>\n",
       "    <tr style=\"text-align: right;\">\n",
       "      <th></th>\n",
       "      <th>mails</th>\n",
       "    </tr>\n",
       "  </thead>\n",
       "  <tbody>\n",
       "    <tr>\n",
       "      <th>durand.aaliyah</th>\n",
       "      <td>hotmail.fr</td>\n",
       "    </tr>\n",
       "    <tr>\n",
       "      <th>senecat.aapeli</th>\n",
       "      <td>gouv.fr</td>\n",
       "    </tr>\n",
       "    <tr>\n",
       "      <th>djeda.aapo</th>\n",
       "      <td>wanadoo.com</td>\n",
       "    </tr>\n",
       "    <tr>\n",
       "      <th>elsine.aaren</th>\n",
       "      <td>geeknet.ue</td>\n",
       "    </tr>\n",
       "    <tr>\n",
       "      <th>vazou.aarne</th>\n",
       "      <td>deep_blue.ru</td>\n",
       "    </tr>\n",
       "    <tr>\n",
       "      <th>...</th>\n",
       "      <td>...</td>\n",
       "    </tr>\n",
       "    <tr>\n",
       "      <th>smith.zsuzsi</th>\n",
       "      <td>yahoo.fr</td>\n",
       "    </tr>\n",
       "    <tr>\n",
       "      <th>anderson.zuberi</th>\n",
       "      <td>yoopix.bo</td>\n",
       "    </tr>\n",
       "    <tr>\n",
       "      <th>monti.zubin</th>\n",
       "      <td>plusdidee.fr</td>\n",
       "    </tr>\n",
       "    <tr>\n",
       "      <th>keynes.zula</th>\n",
       "      <td>tjpp.pl</td>\n",
       "    </tr>\n",
       "    <tr>\n",
       "      <th>mouchkine.zuleika</th>\n",
       "      <td>ipynb.com</td>\n",
       "    </tr>\n",
       "  </tbody>\n",
       "</table>\n",
       "<p>11616 rows × 1 columns</p>\n",
       "</div>"
      ],
      "text/plain": [
       "                          mails\n",
       "durand.aaliyah       hotmail.fr\n",
       "senecat.aapeli          gouv.fr\n",
       "djeda.aapo          wanadoo.com\n",
       "elsine.aaren         geeknet.ue\n",
       "vazou.aarne        deep_blue.ru\n",
       "...                         ...\n",
       "smith.zsuzsi           yahoo.fr\n",
       "anderson.zuberi       yoopix.bo\n",
       "monti.zubin        plusdidee.fr\n",
       "keynes.zula             tjpp.pl\n",
       "mouchkine.zuleika     ipynb.com\n",
       "\n",
       "[11616 rows x 1 columns]"
      ]
     },
     "execution_count": 20,
     "metadata": {},
     "output_type": "execute_result"
    }
   ],
   "source": [
    "import pandas as pd \n",
    "\n",
    "path = \"C:\\\\Users\\\\issak\\\\Documents\\\\M1\\\\Econométrie en Banque-Finance\\\\data_2\\\\\"\n",
    "\n",
    "df = pd.read_csv(path+\"mails.txt\", sep='@')\n",
    "\n"
   ]
  },
  {
   "cell_type": "code",
   "execution_count": null,
   "id": "c2702ea1",
   "metadata": {},
   "outputs": [],
   "source": []
  },
  {
   "cell_type": "code",
   "execution_count": null,
   "id": "92b6bac8",
   "metadata": {},
   "outputs": [],
   "source": []
  },
  {
   "cell_type": "code",
   "execution_count": null,
   "id": "80f51052",
   "metadata": {},
   "outputs": [],
   "source": []
  }
 ],
 "metadata": {
  "kernelspec": {
   "display_name": "Python 3 (ipykernel)",
   "language": "python",
   "name": "python3"
  },
  "language_info": {
   "codemirror_mode": {
    "name": "ipython",
    "version": 3
   },
   "file_extension": ".py",
   "mimetype": "text/x-python",
   "name": "python",
   "nbconvert_exporter": "python",
   "pygments_lexer": "ipython3",
   "version": "3.11.4"
  },
  "toc": {
   "base_numbering": 1,
   "nav_menu": {},
   "number_sections": true,
   "sideBar": true,
   "skip_h1_title": false,
   "title_cell": "Table of Contents",
   "title_sidebar": "Contents",
   "toc_cell": false,
   "toc_position": {},
   "toc_section_display": true,
   "toc_window_display": false
  },
  "varInspector": {
   "cols": {
    "lenName": 16,
    "lenType": 16,
    "lenVar": 40
   },
   "kernels_config": {
    "python": {
     "delete_cmd_postfix": "",
     "delete_cmd_prefix": "del ",
     "library": "var_list.py",
     "varRefreshCmd": "print(var_dic_list())"
    },
    "r": {
     "delete_cmd_postfix": ") ",
     "delete_cmd_prefix": "rm(",
     "library": "var_list.r",
     "varRefreshCmd": "cat(var_dic_list()) "
    }
   },
   "types_to_exclude": [
    "module",
    "function",
    "builtin_function_or_method",
    "instance",
    "_Feature"
   ],
   "window_display": false
  }
 },
 "nbformat": 4,
 "nbformat_minor": 5
}
