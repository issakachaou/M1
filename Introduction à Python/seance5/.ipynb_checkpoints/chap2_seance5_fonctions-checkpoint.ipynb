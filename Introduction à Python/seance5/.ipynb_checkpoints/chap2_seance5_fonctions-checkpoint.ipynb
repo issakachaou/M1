{
 "cells": [
  {
   "cell_type": "markdown",
   "metadata": {
    "hideCode": true,
    "hidePrompt": true
   },
   "source": [
    "<span style='line-height:1.5;font-size: 17px;font-family:\"Times New Roman\"'>\n",
    "\n",
    "\n",
    "<b><center><font size=\"6\">Introduction à python - Séance 5</font></center></b>\n",
    "\n",
    "<b><center><font size=\"6\">Coder des fonctions sous python</font></center></b>\n",
    "    \n",
    "<g><h7><center> CM - P. Durand  - pierre.durand@u-pec.fr </center></h7></g>\n",
    "\n",
    "\n",
    "\n",
    "<b><center><font size=\"5\">M1 - 2022-2023</font></center></b> \n",
    "\n",
    "\n",
    "\n",
    "</span>"
   ]
  },
  {
   "cell_type": "markdown",
   "metadata": {},
   "source": [
    "<span style='line-height:1.5;font-size: 17px;font-family:\"Times New Roman\"'>\n",
    "\n",
    "\n",
    "\n",
    "<hr style=\" border: 2.5px solid black;\">\n",
    "<br>\n",
    "\n",
    "__Plan du cours__\n",
    "<br>\n",
    "\n",
    "- Partie I : introduction et appréhension du langage python \n",
    "    - Séance 1 - variables et syntaxe de base\n",
    "    - Séance 2 - boucles et structure conditionnelle - exercices d'application\n",
    "    - Séance 3 - exercices d'application : utilisation et combinaison des outils acquis\n",
    "    - Séance 4 - exercices d'application : prise d'autonomie sur la recherche d'information\n",
    "    \n",
    "- Partie II : apprendre à coder\n",
    "    - <b>Séance 5 - fonctions sous python - exercices d'application</b>\n",
    "    - Séance 6 - exercices d'application : coder des fonctions simples\n",
    "    - Séance 7 - bases de données et manipulation des données sous python - exercices d'application\n",
    "    - Séance 8 - exercices d'application : manipulation de bases de données\n",
    "    - Séance 9 - exercices d'application : restitution des connaissances de l'ensemble du cours\n",
    "    \n",
    "- Partie III : prise de recul sur un code python\n",
    "    - Séance 10 - commenter un code et utiliser ChatGPT "
   ]
  },
  {
   "cell_type": "markdown",
   "metadata": {
    "hideCode": true,
    "hidePrompt": true
   },
   "source": [
    "<span style='line-height:1.5;font-size: 17px;font-family:\"Times New Roman\"'>\n",
    "\n",
    "<hr style=\" border: 2.5px solid black;\">\n",
    "<br>\n",
    "\n",
    "__Objectif du chapitre__\n",
    "\n",
    "<p style=\"text-align: justify;\">Avant d'utiliser python comme outils d'analyse statistique et économétrique, nous allons chercher à maîtriser au mieux le langage. Cela implique d'être capablde d'utiliser un certain nombre de fonctions <i>built-in</i> de python, de coder soi-même des fonctions, de mettre en application les notions de mathématiques que l'on connait, ou encore de maîtriser quelques packages basiques. </p> \n",
    "\n",
    "</b> C'est justement l'objectif de ce chapitre. Ce dernier est organisé en trois points : \n",
    "- Apprendre à coder une fonction\n",
    "- Un peu d'algorithmie\n",
    "- Utilisation de pandas\n",
    "\n",
    "Au cours de ces trois points, nous serons amené à utiliser des packages tels que numpy ou matplotlib. Le dernier est spécifiquement consacré à un package de manipulation de données : pandas. \n",
    "\n",
    "<br>\n",
    "\n",
    "\n",
    "\n",
    "\n",
    "__Plan de la séance__\n",
    "\n",
    "- Rappels et définitions : bref retour sur les quelques fonctions _buit-in_ vue en introduction, structure d'une fonction sous python\n",
    "- Aller plus loin : quelques précisions sur les fonctions et les classes\n",
    "- Exercices : application\n",
    "\n"
   ]
  },
  {
   "cell_type": "markdown",
   "metadata": {},
   "source": [
    "<span style='line-height:1.5;font-size: 17px;font-family:\"Times New Roman\"'>\n",
    "\n",
    "<hr style=\" border: 2.5px solid black;\">\n",
    "<br>\n",
    "    \n",
    "Une fonction... c'est quoi ? \n",
    "    \n",
    "$1+2$, $a+b$ et $f(a,b)$...\n",
    "    \n",
    "<br>"
   ]
  },
  {
   "cell_type": "markdown",
   "metadata": {},
   "source": [
    "<span style='line-height:1.5;font-size: 17px;font-family:\"Times New Roman\"'>\n",
    "\n",
    "<hr style=\" border: 2.5px solid black;\">\n",
    "<br>\n",
    "\n",
    "# Rappels et définitions\n",
    "\n",
    "## Introduction\n",
    "\n",
    "Une fonction est construite de la manière suivante :"
   ]
  },
  {
   "cell_type": "code",
   "execution_count": null,
   "metadata": {},
   "outputs": [],
   "source": [
    "def ma_fonction('liste des paramètres options') : \n",
    "    'liste des instruction'\n",
    "    return 'résultats'"
   ]
  },
  {
   "cell_type": "markdown",
   "metadata": {},
   "source": [
    "<span style='line-height:1.5;font-size: 17px;font-family:\"Times New Roman\"'>\n",
    "\n",
    "On note donc plusieurs aspects importants :\n",
    "- Ecrire une fonction commence toujours par l'instruction __<font color='green'>def</font>__\n",
    "- S'en suit le nom de la fonction : ici <font color='blue'>ma_fonction </font>\n",
    "    - On peut mettre n'importe quel nom \n",
    "    - Eviter les noms de fonctions déjà existantes \n",
    "    - Mettre un \"\\_\" pour les noms en plusieurs mots\n",
    "- Entre parenthèses figurent les paramètres et options\n",
    "- Cette première ligne doit toujours finir par \" : \"\n",
    "- En revenant à la ligne, une indentation est faite : tout le code écrit au niveau (et après) de cette indentation concernce la fonction\n",
    "- Enfin, la fonction se termine (généralement) par __<font color='green'>return</font>__ qui permet de renvoyer le résultat\n",
    "\n",
    "</br> Nous pouvons par exemple écrire une fonction simple permettant de caculer la somme (aucun intérêt en l'état puisqu'elle est déjà incluse dans python) :"
   ]
  },
  {
   "cell_type": "code",
   "execution_count": 18,
   "metadata": {
    "ExecuteTime": {
     "end_time": "2023-10-12T12:39:29.161012Z",
     "start_time": "2023-10-12T12:39:29.145987Z"
    }
   },
   "outputs": [],
   "source": [
    "def somme(a,b) : \n",
    "    return a + b "
   ]
  },
  {
   "cell_type": "markdown",
   "metadata": {},
   "source": [
    "<span style='line-height:1.5;font-size: 17px;font-family:\"Times New Roman\"'>\n",
    "\n",
    "Nous pouvons tester notre fonction en l'appelant et en lui donnant deux termes à sommer. Par exemple, 8 et 5 :"
   ]
  },
  {
   "cell_type": "code",
   "execution_count": 19,
   "metadata": {
    "ExecuteTime": {
     "end_time": "2023-10-12T12:39:35.138228Z",
     "start_time": "2023-10-12T12:39:35.126784Z"
    }
   },
   "outputs": [
    {
     "data": {
      "text/plain": [
       "13"
      ]
     },
     "execution_count": 19,
     "metadata": {},
     "output_type": "execute_result"
    }
   ],
   "source": [
    "somme(8,5)"
   ]
  },
  {
   "cell_type": "markdown",
   "metadata": {},
   "source": [
    "<span style='line-height:1.5;font-size: 17px;font-family:\"Times New Roman\"'>\n",
    "\n",
    "## Définitions\n",
    "\n",
    "<p style=\"text-align: justify;\"> La fonction permet d'appeler une suite d'instructions préalablement enregistrées sous un même nom. En outre, lorsque nous devons répéter un même ensemble de commandes plusieurs fois dans un même code, il est intéressant de ne les écrire qu'une seule fois pour ne pas alourdir le code. \n",
    "</p>\n",
    "\n",
    "\n",
    "</br>Court exemple :"
   ]
  },
  {
   "cell_type": "code",
   "execution_count": 7,
   "metadata": {
    "ExecuteTime": {
     "end_time": "2023-10-12T09:47:53.775444Z",
     "start_time": "2023-10-12T09:47:53.765190Z"
    }
   },
   "outputs": [
    {
     "name": "stdout",
     "output_type": "stream",
     "text": [
      "89\n",
      "7970\n"
     ]
    }
   ],
   "source": [
    "# Définitions des fonctions utilisées dans la suite du code\n",
    "def somme_des_carres(k,l) : \n",
    "    return k**2+l**2\n",
    "\n",
    "# Corps du code \n",
    "\n",
    "a = somme_des_carres(8,5)\n",
    "print(a)\n",
    "\n",
    "b = 7\n",
    "\n",
    "print(somme_des_carres(a,b))"
   ]
  },
  {
   "cell_type": "code",
   "execution_count": 14,
   "metadata": {},
   "outputs": [
    {
     "data": {
      "text/plain": [
       "113"
      ]
     },
     "execution_count": 14,
     "metadata": {},
     "output_type": "execute_result"
    }
   ],
   "source": [
    "somme_des_carres(8,7)"
   ]
  },
  {
   "cell_type": "markdown",
   "metadata": {},
   "source": [
    "<span style='line-height:1.5;font-size: 17px;font-family:\"Times New Roman\"'>\n",
    "\n",
    "\n",
    "</br> <p style=\"text-align: justify;\">Dans l'exemple précédent, on voit bien qu'en ayant écrit une seule fois les instructions donnant la somme des carrés, nous gagnons en place et en clareté lorsque cette fonction est appelée plusieurs fois. C'est d'autant plus vrai lorsque le code fait plusieurs dizaines, voir centaines de lignes, et que la fonction, rien qu'à elle en prend déjà plusieurs dizaines.\n",
    "</p>\n",
    "\n",
    "## Paramètres\n",
    "\n",
    "</br> <p style=\"text-align: justify;\"> Les paramètres d'une fonction permettent de rendre moins spécifique le programme que l'on cherche à mettre en place : ils offrent de la variabilité à l'algorithme. Autrement dit, ils permettent de généraliser une instruction. C'est ce point qui peut être parfois un peu technique : il faut arriver à généraliser ce que l'on cherche à faire et donc comprendre le code au delà du cas particulier.\n",
    "</p>\n",
    "\n",
    "</br> Prenons l'exemple d'une somme d'entiers :"
   ]
  },
  {
   "cell_type": "code",
   "execution_count": 23,
   "metadata": {
    "ExecuteTime": {
     "end_time": "2023-10-12T12:44:52.117317Z",
     "start_time": "2023-10-12T12:44:52.101323Z"
    }
   },
   "outputs": [
    {
     "name": "stdout",
     "output_type": "stream",
     "text": [
      "55\n"
     ]
    }
   ],
   "source": [
    "# Cas particulier : somme des entiers de 1 à 10\n",
    "somme = 0\n",
    "for k in range(1,11,1):\n",
    "    somme = somme + k\n",
    "\n",
    "print(somme)    "
   ]
  },
  {
   "cell_type": "markdown",
   "metadata": {},
   "source": [
    "<span style='line-height:1.5;font-size: 17px;font-family:\"Times New Roman\"'>\n",
    "\n",
    "Essayons désormais de généraliser cette somme pour que l'on puisse régler les bornes à notre guise. Dans le cas où les bornes sont 1 et 10, on a :\n",
    "\n",
    "$$\\sum_{k=1}^{10} k = 55 $$"
   ]
  },
  {
   "cell_type": "code",
   "execution_count": 10,
   "metadata": {
    "ExecuteTime": {
     "end_time": "2023-10-12T09:52:41.223311Z",
     "start_time": "2023-10-12T09:52:41.206222Z"
    }
   },
   "outputs": [
    {
     "name": "stdout",
     "output_type": "stream",
     "text": [
      "55\n",
      "65\n",
      "126\n"
     ]
    }
   ],
   "source": [
    "# Cas général : somme des entier de borne_départ à borne_arrivée\n",
    "def somme_entiers(borne_depart  ,  borne_arrivee):\n",
    "    somme = 0\n",
    "    for k in range(borne_depart,borne_arrivee+1):\n",
    "        somme += k\n",
    "    return somme \n",
    "    \n",
    "# Vérifions avec le cas borne_départ = 1 et borne_arrivée = 10 \n",
    "print(somme_entiers(1,10))\n",
    "\n",
    "# Et dans un autre cas\n",
    "print(somme_entiers(2,11))\n",
    "\n",
    "# Ou encore un autre\n",
    "print(somme_entiers(15,21))    \n"
   ]
  },
  {
   "cell_type": "markdown",
   "metadata": {},
   "source": [
    "<span style='line-height:1.5;font-size: 17px;font-family:\"Times New Roman\"'>\n",
    "\n",
    "Ecrire la boucle et imprimer le résultat prend 4 lignes. Si nous avions à utiliser cette somme plusieurs fois dans un même code, il devient rentable de l'écrire sous forme de fonction à partir de deux utilisations (4 + 2 lignes = 6 lignes contre 8 lignes si nous avions dû écrire deux fois la boucle).\n",
    "\n",
    "</br> Nous pouvons utiliser une variable définie par ailleurs comme paramètre dans la fonction. Il suffit de s'assurer que la variable que l'on utilise comme paramètre dans la fonction est bien du même type que le paramètre exigé par la fonction."
   ]
  },
  {
   "cell_type": "code",
   "execution_count": 11,
   "metadata": {
    "ExecuteTime": {
     "end_time": "2023-10-12T09:54:15.975715Z",
     "start_time": "2023-10-12T09:54:15.958277Z"
    },
    "scrolled": true
   },
   "outputs": [
    {
     "name": "stdout",
     "output_type": "stream",
     "text": [
      "55\n"
     ]
    },
    {
     "ename": "TypeError",
     "evalue": "can only concatenate str (not \"int\") to str",
     "output_type": "error",
     "traceback": [
      "\u001b[1;31m---------------------------------------------------------------------------\u001b[0m",
      "\u001b[1;31mTypeError\u001b[0m                                 Traceback (most recent call last)",
      "\u001b[1;32m~\\AppData\\Local\\Temp/ipykernel_8516/4246842764.py\u001b[0m in \u001b[0;36m<module>\u001b[1;34m\u001b[0m\n\u001b[0;32m      3\u001b[0m \u001b[1;33m\u001b[0m\u001b[0m\n\u001b[0;32m      4\u001b[0m \u001b[0mc\u001b[0m \u001b[1;33m=\u001b[0m \u001b[1;34m'bonjour'\u001b[0m\u001b[1;33m\u001b[0m\u001b[1;33m\u001b[0m\u001b[0m\n\u001b[1;32m----> 5\u001b[1;33m \u001b[0mprint\u001b[0m\u001b[1;33m(\u001b[0m\u001b[0msomme_entiers\u001b[0m\u001b[1;33m(\u001b[0m\u001b[0ma\u001b[0m\u001b[1;33m,\u001b[0m\u001b[0mc\u001b[0m\u001b[1;33m)\u001b[0m\u001b[1;33m)\u001b[0m\u001b[1;33m\u001b[0m\u001b[1;33m\u001b[0m\u001b[0m\n\u001b[0m",
      "\u001b[1;32m~\\AppData\\Local\\Temp/ipykernel_8516/206531702.py\u001b[0m in \u001b[0;36msomme_entiers\u001b[1;34m(borne_depart, borne_arrivee)\u001b[0m\n\u001b[0;32m      5\u001b[0m     \u001b[0msomme\u001b[0m \u001b[1;33m=\u001b[0m \u001b[1;36m0\u001b[0m\u001b[1;33m\u001b[0m\u001b[1;33m\u001b[0m\u001b[0m\n\u001b[0;32m      6\u001b[0m \u001b[1;33m\u001b[0m\u001b[0m\n\u001b[1;32m----> 7\u001b[1;33m     \u001b[1;32mfor\u001b[0m \u001b[0mk\u001b[0m \u001b[1;32min\u001b[0m \u001b[0mrange\u001b[0m\u001b[1;33m(\u001b[0m\u001b[0mborne_depart\u001b[0m\u001b[1;33m,\u001b[0m\u001b[0mborne_arrivee\u001b[0m\u001b[1;33m+\u001b[0m\u001b[1;36m1\u001b[0m\u001b[1;33m)\u001b[0m\u001b[1;33m:\u001b[0m\u001b[1;33m\u001b[0m\u001b[1;33m\u001b[0m\u001b[0m\n\u001b[0m\u001b[0;32m      8\u001b[0m         \u001b[0msomme\u001b[0m \u001b[1;33m+=\u001b[0m \u001b[0mk\u001b[0m\u001b[1;33m\u001b[0m\u001b[1;33m\u001b[0m\u001b[0m\n\u001b[0;32m      9\u001b[0m \u001b[1;33m\u001b[0m\u001b[0m\n",
      "\u001b[1;31mTypeError\u001b[0m: can only concatenate str (not \"int\") to str"
     ]
    }
   ],
   "source": [
    "a, b = 1, 10\n",
    "print(somme_entiers(a,b))\n",
    "\n",
    "c = 'bonjour'\n",
    "print(somme_entiers(a,c))"
   ]
  },
  {
   "cell_type": "code",
   "execution_count": 12,
   "metadata": {
    "ExecuteTime": {
     "end_time": "2023-10-12T09:55:33.422333Z",
     "start_time": "2023-10-12T09:55:33.409288Z"
    }
   },
   "outputs": [
    {
     "ename": "TypeError",
     "evalue": "'float' object cannot be interpreted as an integer",
     "output_type": "error",
     "traceback": [
      "\u001b[1;31m---------------------------------------------------------------------------\u001b[0m",
      "\u001b[1;31mTypeError\u001b[0m                                 Traceback (most recent call last)",
      "\u001b[1;32m~\\AppData\\Local\\Temp/ipykernel_8516/3495974739.py\u001b[0m in \u001b[0;36m<module>\u001b[1;34m\u001b[0m\n\u001b[1;32m----> 1\u001b[1;33m \u001b[1;32mfor\u001b[0m \u001b[0mi\u001b[0m \u001b[1;32min\u001b[0m \u001b[0mrange\u001b[0m\u001b[1;33m(\u001b[0m\u001b[1;36m1\u001b[0m\u001b[1;33m,\u001b[0m\u001b[1;36m11.5\u001b[0m\u001b[1;33m)\u001b[0m\u001b[1;33m:\u001b[0m\u001b[1;33m\u001b[0m\u001b[1;33m\u001b[0m\u001b[0m\n\u001b[0m\u001b[0;32m      2\u001b[0m     \u001b[0mprint\u001b[0m\u001b[1;33m(\u001b[0m\u001b[0mi\u001b[0m\u001b[1;33m)\u001b[0m\u001b[1;33m\u001b[0m\u001b[1;33m\u001b[0m\u001b[0m\n",
      "\u001b[1;31mTypeError\u001b[0m: 'float' object cannot be interpreted as an integer"
     ]
    }
   ],
   "source": [
    "for i in range(1,11.5):\n",
    "    print(i)"
   ]
  },
  {
   "cell_type": "code",
   "execution_count": 23,
   "metadata": {},
   "outputs": [
    {
     "name": "stdout",
     "output_type": "stream",
     "text": [
      "55\n"
     ]
    },
    {
     "ename": "TypeError",
     "evalue": "'float' object cannot be interpreted as an integer",
     "output_type": "error",
     "traceback": [
      "\u001b[1;31m---------------------------------------------------------------------------\u001b[0m",
      "\u001b[1;31mTypeError\u001b[0m                                 Traceback (most recent call last)",
      "\u001b[1;32m<ipython-input-23-dcecdb9d1379>\u001b[0m in \u001b[0;36m<module>\u001b[1;34m\u001b[0m\n\u001b[0;32m      3\u001b[0m \u001b[1;33m\u001b[0m\u001b[0m\n\u001b[0;32m      4\u001b[0m \u001b[0mc\u001b[0m \u001b[1;33m=\u001b[0m \u001b[1;36m12.5\u001b[0m\u001b[1;33m\u001b[0m\u001b[1;33m\u001b[0m\u001b[0m\n\u001b[1;32m----> 5\u001b[1;33m \u001b[0mprint\u001b[0m\u001b[1;33m(\u001b[0m\u001b[0msomme_entiers\u001b[0m\u001b[1;33m(\u001b[0m\u001b[0ma\u001b[0m\u001b[1;33m,\u001b[0m\u001b[0mc\u001b[0m\u001b[1;33m)\u001b[0m\u001b[1;33m)\u001b[0m\u001b[1;33m\u001b[0m\u001b[1;33m\u001b[0m\u001b[0m\n\u001b[0m",
      "\u001b[1;32m<ipython-input-21-3824aa985428>\u001b[0m in \u001b[0;36msomme_entiers\u001b[1;34m(borne_depart, borne_arrivee)\u001b[0m\n\u001b[0;32m      2\u001b[0m \u001b[1;32mdef\u001b[0m \u001b[0msomme_entiers\u001b[0m\u001b[1;33m(\u001b[0m\u001b[0mborne_depart\u001b[0m\u001b[1;33m,\u001b[0m\u001b[0mborne_arrivee\u001b[0m\u001b[1;33m)\u001b[0m\u001b[1;33m:\u001b[0m\u001b[1;33m\u001b[0m\u001b[1;33m\u001b[0m\u001b[0m\n\u001b[0;32m      3\u001b[0m     \u001b[0msomme\u001b[0m \u001b[1;33m=\u001b[0m \u001b[1;36m0\u001b[0m\u001b[1;33m\u001b[0m\u001b[1;33m\u001b[0m\u001b[0m\n\u001b[1;32m----> 4\u001b[1;33m     \u001b[1;32mfor\u001b[0m \u001b[0mk\u001b[0m \u001b[1;32min\u001b[0m \u001b[0mrange\u001b[0m\u001b[1;33m(\u001b[0m\u001b[0mborne_depart\u001b[0m\u001b[1;33m,\u001b[0m\u001b[0mborne_arrivee\u001b[0m\u001b[1;33m+\u001b[0m\u001b[1;36m1\u001b[0m\u001b[1;33m)\u001b[0m\u001b[1;33m:\u001b[0m\u001b[1;33m\u001b[0m\u001b[1;33m\u001b[0m\u001b[0m\n\u001b[0m\u001b[0;32m      5\u001b[0m         \u001b[0msomme\u001b[0m \u001b[1;33m+=\u001b[0m \u001b[0mk\u001b[0m\u001b[1;33m\u001b[0m\u001b[1;33m\u001b[0m\u001b[0m\n\u001b[0;32m      6\u001b[0m     \u001b[1;32mreturn\u001b[0m \u001b[0msomme\u001b[0m\u001b[1;33m\u001b[0m\u001b[1;33m\u001b[0m\u001b[0m\n",
      "\u001b[1;31mTypeError\u001b[0m: 'float' object cannot be interpreted as an integer"
     ]
    }
   ],
   "source": [
    "a, b = 1, 10\n",
    "print(somme_entiers(a,b))\n",
    "\n",
    "c = 12.5\n",
    "print(somme_entiers(a,c))"
   ]
  },
  {
   "cell_type": "markdown",
   "metadata": {},
   "source": [
    "<span style='line-height:1.5;font-size: 17px;font-family:\"Times New Roman\"'>\n",
    "\n",
    "Une erreur apparait et on s'apperçoit au passage que python nous renvoie une erreur à la ligne de notre code, puis à la ligne de la fonction d'où provient l'erreur.\n",
    "\n",
    "## Variables locales et variables globales\n",
    "\n",
    "</br> <p style=\"text-align: justify;\">Lorsque des variables sont créées sur python, un espace leur ait donné. On distinguera l'espace de définition local de l'espace global. Le premier correspond aux variables qui sont définies et utilisées au sein d'une fonction. Le second renvoie aux variables qui sont définies et utilisées dans le corps principal du code. Ainsi dans notre exemple, nous avons : </p>\n",
    "- a, b, c : variables globales. Définies en dehors de toute fonction, on peut les appeler dans tous les corps du code.\n",
    "- borne_depart, borne_arrivee, k : variables locales. Définies au sein de la fonction somme_entiers et qui ne peuvent être appelées qu'au sein de la fonction.\n",
    "\n",
    "\n",
    "<hr style=\" border: 2.5px solid black;\">\n",
    "<br>\n",
    "\n",
    "# Aller plus loin\n",
    "\n",
    "## Appeler une fonction dans une autre fonction\n",
    "\n",
    "</br> <p style=\"text-align: justify;\">Une fois qu'une fonction est définie, nous pouvons l'appeler dans une autre fonction. Sans que vous vous en apperceviez, c'est ce que l'on a fait en utilisant la fonction <font color='green'>range</font>() dans la définition de la fonction <font color='blue'>somme_entiers</font>. En effet, la fonction <font color='green'>range</font>() est une fonction prédéfinie de python. Dés lors qu'une fonction est connue par le langage, elle peut être réutilisée par ailleurs. C'est valable pour des fonction que nous définisson nous même.\n",
    "</p>\n",
    "\n",
    "</br> Par exemple, calculons la somme de somme suivante :\n",
    "\n",
    "$$ \\sum_n^N \\sum_n^{n+9} n $$\n",
    "\n",
    "Note : On met $n+9$ dans la deuxième somme pour que si $n$ égale $1$ et $N$ égale $1$, nous retombions sur l'exemple pris au début :\n",
    "\n",
    "$$ \\sum_1^1 \\sum_1^{1+9} n = \\sum_{k=1}^{10} k = 55$$\n",
    "\n",
    "On appellera $n$ la borne_depart et $N$ la borne_arrivee."
   ]
  },
  {
   "cell_type": "code",
   "execution_count": 16,
   "metadata": {},
   "outputs": [
    {
     "data": {
      "text/plain": [
       "55"
      ]
     },
     "execution_count": 16,
     "metadata": {},
     "output_type": "execute_result"
    }
   ],
   "source": [
    "def somme_somme_entiers(borne_depart, borne_arrivee):\n",
    "    resultat = 0\n",
    "    for i in range(borne_depart, borne_arrivee+1) :\n",
    "        resultat += somme_entiers(i,i+9)\n",
    "    return resultat\n",
    "\n",
    "# Testons avec n = 1 et N = 1 pour vérifier que nous optenons bien le même résultat que précedemment\n",
    "somme_somme_entiers(1,1)"
   ]
  },
  {
   "cell_type": "markdown",
   "metadata": {},
   "source": [
    "<span style='line-height:1.5;font-size: 17px;font-family:\"Times New Roman\"'>\n",
    "\n",
    "## Fonction en une ligne\n",
    "\n",
    "Il est possible, pour gagner en place, de coder une fonction en une ligne. Si l'on reprend notre fonction somme définie plus haut, cela donne :"
   ]
  },
  {
   "cell_type": "code",
   "execution_count": 17,
   "metadata": {},
   "outputs": [
    {
     "data": {
      "text/plain": [
       "3"
      ]
     },
     "execution_count": 17,
     "metadata": {},
     "output_type": "execute_result"
    }
   ],
   "source": [
    "somme_bis = lambda a,b : a+b\n",
    "\n",
    "somme_bis(1,2)"
   ]
  },
  {
   "cell_type": "markdown",
   "metadata": {},
   "source": [
    "<span style='line-height:1.5;font-size: 17px;font-family:\"Times New Roman\"'>\n",
    "\n",
    "__Cette méthode n'est pas recommandée__ : en effet, l'écriture d'une fonction sous cette forme peut prêter à confusion et/ou rendre beaucoup plus complexe la structure de la fonction. Vous pouvez utiliser cette écriture pour des fonction très basiques. \n",
    "\n",
    "## Paramètres par défaut\n",
    "    \n",
    "\n",
    "Les paramètres par défaut sont des paramètres dont la valeur est prédéfinie. Dans ce cas, si rien n'est précisé au moment où l'on utilise cette fonction, de plus que les paramètres essentiels, alors la fonction prendra la valeur par défaut. \n",
    "\n",
    "<br> Vous l'avez déjà rencontré avec la fonction <font color='green'>range</font>() : le pas est défini par défaut et vaut $1$. Vous pouvez altérer cette valeur en spécifiant celle que vous souhaitez. \n",
    "\n",
    "<br> Autre exemple : nous écrivons la fonction permettant de compter le nombre d'un certain caractère dans un string. Comme paramètre nécessaire nous mettons le string. Comme option nous mettons le caractères dont on souhaite connaître la quantité. Par défaut, nous mettons <font color='red'>\\\"a\\\"</font>."
   ]
  },
  {
   "cell_type": "code",
   "execution_count": 3,
   "metadata": {
    "ExecuteTime": {
     "end_time": "2022-10-06T12:23:06.373611Z",
     "start_time": "2022-10-06T12:23:06.357974Z"
    }
   },
   "outputs": [],
   "source": [
    "def compte_carac(string, lettre = \"a\") :\n",
    "    return string.count(lettre)"
   ]
  },
  {
   "cell_type": "code",
   "execution_count": 4,
   "metadata": {
    "ExecuteTime": {
     "end_time": "2022-10-06T12:23:06.517314Z",
     "start_time": "2022-10-06T12:23:06.507985Z"
    }
   },
   "outputs": [
    {
     "name": "stdout",
     "output_type": "stream",
     "text": [
      "0\n",
      "2\n"
     ]
    }
   ],
   "source": [
    "print(compte_carac(\"Je suis ton père\"))\n",
    "print(compte_carac(\"Je suis ton père\", lettre = \"e\"))"
   ]
  },
  {
   "cell_type": "code",
   "execution_count": 12,
   "metadata": {
    "ExecuteTime": {
     "end_time": "2022-10-06T08:35:25.485154Z",
     "start_time": "2022-10-06T08:35:25.469712Z"
    }
   },
   "outputs": [
    {
     "name": "stdout",
     "output_type": "stream",
     "text": [
      "0\n"
     ]
    }
   ],
   "source": [
    "s = \"Je suis ton père\"\n",
    "\n",
    "print(compte_carac(s , \"b\"))"
   ]
  },
  {
   "cell_type": "code",
   "execution_count": null,
   "metadata": {},
   "outputs": [],
   "source": []
  }
 ],
 "metadata": {
  "hide_code_all_hidden": true,
  "kernelspec": {
   "display_name": "Python 3 (ipykernel)",
   "language": "python",
   "name": "python3"
  },
  "language_info": {
   "codemirror_mode": {
    "name": "ipython",
    "version": 3
   },
   "file_extension": ".py",
   "mimetype": "text/x-python",
   "name": "python",
   "nbconvert_exporter": "python",
   "pygments_lexer": "ipython3",
   "version": "3.11.4"
  },
  "toc": {
   "base_numbering": 1,
   "nav_menu": {},
   "number_sections": true,
   "sideBar": true,
   "skip_h1_title": false,
   "title_cell": "Table of Contents",
   "title_sidebar": "Contents",
   "toc_cell": false,
   "toc_position": {},
   "toc_section_display": true,
   "toc_window_display": false
  },
  "varInspector": {
   "cols": {
    "lenName": 16,
    "lenType": 16,
    "lenVar": 40
   },
   "kernels_config": {
    "python": {
     "delete_cmd_postfix": "",
     "delete_cmd_prefix": "del ",
     "library": "var_list.py",
     "varRefreshCmd": "print(var_dic_list())"
    },
    "r": {
     "delete_cmd_postfix": ") ",
     "delete_cmd_prefix": "rm(",
     "library": "var_list.r",
     "varRefreshCmd": "cat(var_dic_list()) "
    }
   },
   "types_to_exclude": [
    "module",
    "function",
    "builtin_function_or_method",
    "instance",
    "_Feature"
   ],
   "window_display": false
  }
 },
 "nbformat": 4,
 "nbformat_minor": 2
}
