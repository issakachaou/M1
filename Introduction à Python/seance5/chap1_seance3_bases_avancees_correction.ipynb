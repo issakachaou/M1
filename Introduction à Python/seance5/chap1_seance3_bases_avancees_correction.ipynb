{
 "cells": [
  {
   "cell_type": "markdown",
   "metadata": {},
   "source": [
    "<span style='line-height:1.5;font-size: 17px;font-family:\"Times New Roman\"'>\n",
    "\n",
    "\n",
    "<b><center><font size=\"6\">Introduction à python - Séance 3</font></center></b>\n",
    "\n",
    "<b><center><font size=\"6\">Exercices</font></center></b>\n",
    "    \n",
    "<g><h7><center> CM - P. Durand  - pierre.alexis.durand@hotmail.fr </center></h7></g>\n",
    "\n",
    "\n",
    "\n",
    "<b><center><font size=\"5\">M1 - 2024-2025</font></center></b> \n",
    "\n",
    "\n",
    "\n",
    "</span>"
   ]
  },
  {
   "cell_type": "markdown",
   "metadata": {},
   "source": [
    "<span style='line-height:1.5;font-size: 17px;font-family:\"Times New Roman\"'>\n",
    "\n",
    "<hr style=\" border: 2.5px solid black;\">\n",
    "<br>\n",
    "\n",
    "#### Plan du cours\n",
    "<br>\n",
    "\n",
    "- Partie I : introduction et appréhension du langage python \n",
    "    - Séance 1 - variables et syntaxe de base\n",
    "    - Séance 2 - boucles et structure conditionnelle - exercices d'application\n",
    "    - <b>Séance 3 - exercices d'application : utilisation et combinaison des outils acquis</b>\n",
    "    - Séance 4 - exercices d'application : prise d'autonomie sur la recherche d'information \n",
    "    \n",
    "- Partie II : apprendre à coder\n",
    "    - Séance 5 - fonctions sous python - exercices d'application\n",
    "    - Séance 6 - exercices d'application : coder des fonctions simples\n",
    "    - Séance 7 - bases de données et manipulation des données sous python - exercices d'application\n",
    "    - Séance 8 - exercices d'application : manipulation de bases de données\n",
    "    - Séance 9 - exercices d'application : restitution des connaissances de l'ensemble du cours\n",
    "    \n",
    "- Partie III : prise de recul sur un code python\n",
    "    - Séance 10 - commenter un code et utiliser ChatGPT \n",
    "\n",
    "<br>\n",
    "\n",
    "\n",
    "\n",
    "\n",
    "<hr style=\" border: .5px solid black;\">\n",
    "<br>"
   ]
  },
  {
   "cell_type": "markdown",
   "metadata": {},
   "source": [
    "<span style='line-height:1.5;font-size: 17px;font-family:\"Times New Roman\"'>\n",
    "\n",
    "\n",
    "\n",
    "__Exercice 1 - Compteur__ \n",
    "\n",
    "A l'aide d'une boucle `for`, écrivez un code permettant de compter le nombre de caractères présent dans le string défini ci-dessous."
   ]
  },
  {
   "cell_type": "code",
   "execution_count": 5,
   "metadata": {
    "ExecuteTime": {
     "end_time": "2024-10-10T06:49:45.615812Z",
     "start_time": "2024-10-10T06:49:45.603280Z"
    }
   },
   "outputs": [
    {
     "name": "stdout",
     "output_type": "stream",
     "text": [
      "95\n"
     ]
    }
   ],
   "source": [
    "str1 = \"Je pense à ceux qui doivent trouver en eux quelque chose après le désenchantement. H. de Balzac\"\n",
    "c = 0\n",
    "for lettre in str1 :\n",
    "    c +=1\n",
    "    \n",
    "print(c)"
   ]
  },
  {
   "cell_type": "markdown",
   "metadata": {},
   "source": [
    "<span style='line-height:1.5;font-size: 17px;font-family:\"Times New Roman\"'>\n",
    "\n",
    "\n",
    "Même question avec une boucle `while`."
   ]
  },
  {
   "cell_type": "code",
   "execution_count": 4,
   "metadata": {
    "ExecuteTime": {
     "end_time": "2024-10-10T06:48:44.953718Z",
     "start_time": "2024-10-10T06:48:44.949652Z"
    }
   },
   "outputs": [
    {
     "name": "stdout",
     "output_type": "stream",
     "text": [
      "95\n"
     ]
    }
   ],
   "source": [
    "c = 0\n",
    "while c < len(str1) :\n",
    "    c += 1\n",
    "print(c)"
   ]
  },
  {
   "cell_type": "markdown",
   "metadata": {},
   "source": [
    "<span style='line-height:1.5;font-size: 17px;font-family:\"Times New Roman\"'>\n",
    "\n",
    "__Exercice 2 - Rappel sur la fonction d'ajout d'éléments à une liste__\n",
    "\n",
    "Pour rappel, il existe une fonction permettant d'ajouter un élément à la fin d'une liste. \n",
    "    \n",
    "Après avoir retrouvé de quelle fonction il s'agit :\n",
    "\n",
    "- créez une variable contenant liste vide\n",
    "- à l'aide d'une boucle `for`, remplissez cette liste des nombres entiers de 10 à 51.\n"
   ]
  },
  {
   "cell_type": "code",
   "execution_count": 2,
   "metadata": {
    "ExecuteTime": {
     "end_time": "2024-10-10T06:44:54.123907Z",
     "start_time": "2024-10-10T06:44:54.107181Z"
    },
    "scrolled": true
   },
   "outputs": [
    {
     "data": {
      "text/plain": [
       "[10,\n",
       " 11,\n",
       " 12,\n",
       " 13,\n",
       " 14,\n",
       " 15,\n",
       " 16,\n",
       " 17,\n",
       " 18,\n",
       " 19,\n",
       " 20,\n",
       " 21,\n",
       " 22,\n",
       " 23,\n",
       " 24,\n",
       " 25,\n",
       " 26,\n",
       " 27,\n",
       " 28,\n",
       " 29,\n",
       " 30,\n",
       " 31,\n",
       " 32,\n",
       " 33,\n",
       " 34,\n",
       " 35,\n",
       " 36,\n",
       " 37,\n",
       " 38,\n",
       " 39,\n",
       " 40,\n",
       " 41,\n",
       " 42,\n",
       " 43,\n",
       " 44,\n",
       " 45,\n",
       " 46,\n",
       " 47,\n",
       " 48,\n",
       " 49,\n",
       " 50,\n",
       " 51]"
      ]
     },
     "execution_count": 2,
     "metadata": {},
     "output_type": "execute_result"
    }
   ],
   "source": [
    "l = []\n",
    "\n",
    "for i in range(10,52) :\n",
    "    l.append(i)\n",
    "l"
   ]
  },
  {
   "cell_type": "markdown",
   "metadata": {},
   "source": [
    "<span style='line-height:1.5;font-size: 17px;font-family:\"Times New Roman\"'>\n",
    "\n",
    "__Exercice 3 - Boucle et condition__\n",
    "\n",
    "Nous avons une liste `l` contenant des entiers et une chaine de caractères `s`. \n",
    "    \n",
    "- créez une variable `res` contenant une liste vide\n",
    "- à l'aide d'une boucle `for`, parcourez la liste\n",
    "- à l'aide d'une condition, ajoutez à `res` l'élément d'indice i de la chaine de caractères lorsque i est pair\n",
    "- exécutez enfin la troisième cellule (un message caché devrait apparaître)"
   ]
  },
  {
   "cell_type": "code",
   "execution_count": 7,
   "metadata": {
    "ExecuteTime": {
     "end_time": "2024-10-10T07:05:00.463209Z",
     "start_time": "2024-10-10T07:05:00.445884Z"
    }
   },
   "outputs": [],
   "source": [
    "l = [51,1,3,10,9,18,31,2,0,99,16,6,8]\n",
    "s = \"u!o ZpéI!0Tzc^znv/r/pzc\""
   ]
  },
  {
   "cell_type": "code",
   "execution_count": 10,
   "metadata": {
    "ExecuteTime": {
     "end_time": "2024-10-10T07:05:24.118870Z",
     "start_time": "2024-10-10T07:05:24.101013Z"
    }
   },
   "outputs": [],
   "source": [
    "res = []\n",
    "for i in l :\n",
    "    if i%2 == 0 :\n",
    "        res.append(s[i])"
   ]
  },
  {
   "cell_type": "code",
   "execution_count": 11,
   "metadata": {
    "ExecuteTime": {
     "end_time": "2024-10-10T07:05:24.445223Z",
     "start_time": "2024-10-10T07:05:24.426158Z"
    }
   },
   "outputs": [
    {
     "name": "stdout",
     "output_type": "stream",
     "text": [
      "Trouvé!\n"
     ]
    }
   ],
   "source": [
    "print(\"\".join(res))"
   ]
  },
  {
   "cell_type": "markdown",
   "metadata": {},
   "source": [
    "<span style='line-height:1.5;font-size: 17px;font-family:\"Times New Roman\"'>\n",
    "\n",
    "__Exercice 4 - Erratum__\n",
    "    \n",
    "Une ou plusieurs erreurs se sont glissées dans le code suivant. Corrigez les en regardant bien le message d'erreur.\n",
    "    "
   ]
  },
  {
   "cell_type": "code",
   "execution_count": 17,
   "metadata": {
    "ExecuteTime": {
     "end_time": "2024-10-10T07:25:40.787015Z",
     "start_time": "2024-10-10T07:25:40.775744Z"
    }
   },
   "outputs": [
    {
     "data": {
      "text/plain": [
       "'Encore trouvé !'"
      ]
     },
     "execution_count": 17,
     "metadata": {},
     "output_type": "execute_result"
    }
   ],
   "source": [
    "liste_de_listes = [ [\"b\",1,2,3,\"E\"] , [(\"a\",(\"b\"))] , [\"n\"] , [\"!!!\",\"cor\"] , [\"hello\",1,2,3,\"e tr\"] ,\n",
    "                   [\"ouv\"], [1,2,\"3\",\"é !\"], [1,2,3]]\n",
    "\n",
    "resultat = []\n",
    "\n",
    "for sous_liste in liste_de_listes :\n",
    "    for el in sous_liste :\n",
    "        # alinéa et les \":\"\n",
    "        if type(el)==str : \n",
    "            # alinéa\n",
    "            resultat.append(sous_liste[-1])\n",
    "            break\n",
    "\n",
    "\n",
    "\"\".join(resultat)"
   ]
  },
  {
   "cell_type": "markdown",
   "metadata": {},
   "source": [
    "<span style='line-height:1.5;font-size: 17px;font-family:\"Times New Roman\"'>\n",
    "\n",
    "__Exercice 5 - Boucle et condition (... encore)__\n",
    "\n",
    "Une liste est définie ci-dessous nommée `liste_mixte` avec des strings, des entiers et des floats. Créez un code permettant de créer deux listes différentes : \n",
    "    \n",
    "- l'une contient les strings de la `liste_mixte`\n",
    "- l'autre contient les entiers et les floats de la `liste_mixte`"
   ]
  },
  {
   "cell_type": "code",
   "execution_count": 19,
   "metadata": {
    "ExecuteTime": {
     "end_time": "2024-10-10T07:37:31.496349Z",
     "start_time": "2024-10-10T07:37:31.480695Z"
    }
   },
   "outputs": [
    {
     "name": "stdout",
     "output_type": "stream",
     "text": [
      "['bonjour', 'hello', 'salute !', '...']\n",
      "[1, 2, 857, 7.5, 0.0]\n"
     ]
    }
   ],
   "source": [
    "l = [1,2,\"bonjour\",857,\"hello\",7.5,\"salute !\",0.0,\"...\",[\"rer\",\"D\"]]\n",
    "l_str = []\n",
    "l_int = []\n",
    "\n",
    "for i in l :\n",
    "    if type(i)==str:\n",
    "        l_str.append(i)\n",
    "    elif type(i) is int :\n",
    "        l_int.append(i)\n",
    "    elif type(i) is float : \n",
    "        l_int.append(i)\n",
    "print(l_str)\n",
    "print(l_int)"
   ]
  },
  {
   "cell_type": "code",
   "execution_count": 21,
   "metadata": {
    "ExecuteTime": {
     "end_time": "2024-10-10T07:39:12.264675Z",
     "start_time": "2024-10-10T07:39:12.252362Z"
    }
   },
   "outputs": [
    {
     "name": "stdout",
     "output_type": "stream",
     "text": [
      "['bonjour', 'hello', 'salute !', '...']\n",
      "[1, 2, 857, 7.5, 0.0]\n"
     ]
    }
   ],
   "source": [
    "l = [1,2,\"bonjour\",857,\"hello\",7.5,\"salute !\",0.0,\"...\",[\"rer\",\"D\"]]\n",
    "l_str = []\n",
    "l_int = []\n",
    "\n",
    "for i in l :\n",
    "    if type(i)==str:\n",
    "        l_str.append(i)\n",
    "    elif type(i) is int or type(i) is float :\n",
    "    # elif type(i) in [int, float]\n",
    "        l_int.append(i)\n",
    "\n",
    "print(l_str)\n",
    "print(l_int)"
   ]
  },
  {
   "cell_type": "markdown",
   "metadata": {},
   "source": [
    "<span style='line-height:1.5;font-size: 17px;font-family:\"Times New Roman\"'>\n",
    "\n",
    "__Exercice 6 - Adresses mail__\n",
    "\n",
    "On vous donne une liste d'adresses mails qui sont toutes conçues de la même façon : \n",
    "`prénom.nom@le_mail.nom_de_domaine`\n",
    "\n",
    "Nous aimerions avoir une liste des noms et prénoms des personnes présentent dans cette liste de mails. Egalement, nous souhaitons que les noms et prénoms soient dans une même variable (chaîne de caractères), avec des majuscules.\n",
    "    \n",
    "_Exemple :_\n",
    "\n",
    "```python\n",
    "l_mails = [\"pierre.durand@hotmail.fr\", \"antoine.dupont@gmail.com\"]\n",
    "```\n",
    "\n",
    "Nous souhaitons donc obtenir :\n",
    "    \n",
    "```python\n",
    "resultat : [\"Pierre Durand\", \"Antoine Dupont\"]\n",
    "```\n",
    "    \n",
    "Pour vous aider, voici la liste des outils dont vous aurez probablement besoin :\n",
    "    \n",
    "- boucle\n",
    "- la fonction `.split()`\n",
    "- la fonction `.join()`\n",
    "- la fonction `.capitalize()`\n",
    "    \n",
    "_Petit conseil :_\n",
    "    \n",
    "Essayez déjà de transformer une adresse mail seule."
   ]
  },
  {
   "cell_type": "code",
   "execution_count": 34,
   "metadata": {
    "ExecuteTime": {
     "end_time": "2024-10-10T08:10:10.874827Z",
     "start_time": "2024-10-10T08:10:10.861570Z"
    }
   },
   "outputs": [
    {
     "data": {
      "text/plain": [
       "'Antoine Dupont'"
      ]
     },
     "execution_count": 34,
     "metadata": {},
     "output_type": "execute_result"
    }
   ],
   "source": [
    "s = \"antoine.dupont@gmail.com\"\n",
    "\n",
    "variable = s.split(\"@\")\n",
    "prenom_nom = variable[0] \n",
    "l_p_n = prenom_nom.split(\".\")\n",
    "res = l_p_n[0].capitalize() + \" \" + l_p_n[1].capitalize()\n",
    "res\n",
    "# \"Antoine Dupont\""
   ]
  },
  {
   "cell_type": "code",
   "execution_count": 32,
   "metadata": {
    "ExecuteTime": {
     "end_time": "2024-10-10T08:08:27.165997Z",
     "start_time": "2024-10-10T08:08:27.156797Z"
    }
   },
   "outputs": [
    {
     "data": {
      "text/plain": [
       "'Antoine Dupont'"
      ]
     },
     "execution_count": 32,
     "metadata": {},
     "output_type": "execute_result"
    }
   ],
   "source": [
    "l_p_n[0].capitalize() + \" \" + l_p_n[1].capitalize()"
   ]
  },
  {
   "cell_type": "code",
   "execution_count": 33,
   "metadata": {
    "ExecuteTime": {
     "end_time": "2024-10-10T08:09:23.311674Z",
     "start_time": "2024-10-10T08:09:23.302836Z"
    }
   },
   "outputs": [
    {
     "data": {
      "text/plain": [
       "'Antoine Dupont'"
      ]
     },
     "execution_count": 33,
     "metadata": {},
     "output_type": "execute_result"
    }
   ],
   "source": [
    "\" \".join([l_p_n[0].capitalize(), l_p_n[1].capitalize()])"
   ]
  },
  {
   "cell_type": "code",
   "execution_count": 35,
   "metadata": {
    "ExecuteTime": {
     "end_time": "2024-10-10T08:11:59.601071Z",
     "start_time": "2024-10-10T08:11:59.581003Z"
    }
   },
   "outputs": [
    {
     "data": {
      "text/plain": [
       "['Antoine Dupont',\n",
       " 'Romain Ntamack',\n",
       " 'Charles Olivon',\n",
       " 'Mohamed Haouas',\n",
       " 'Julien Marchand']"
      ]
     },
     "execution_count": 35,
     "metadata": {},
     "output_type": "execute_result"
    }
   ],
   "source": [
    "l_mails = [\"antoine.dupont@gmail.com\", \"romain.ntamack@u-pec.fr\", \"charles.olivon@parisnanterre.com\",\n",
    "          \"mohamed.haouas@hotmail.ru\", \"julien.marchand@toulouse.fr\"]\n",
    "\n",
    "l_resultat = []\n",
    "for s in l_mails :\n",
    "    variable = s.split(\"@\")\n",
    "    prenom_nom = variable[0] \n",
    "    l_p_n = prenom_nom.split(\".\")\n",
    "    res = l_p_n[0].capitalize() + \" \" + l_p_n[1].capitalize()\n",
    "    l_resultat.append(res)\n",
    "    \n",
    "l_resultat"
   ]
  },
  {
   "cell_type": "markdown",
   "metadata": {},
   "source": [
    "<span style='line-height:1.5;font-size: 17px;font-family:\"Times New Roman\"'>\n",
    "\n",
    "__Exercice 7 - Compteur plus avancé__\n",
    "\n",
    "On vous donne une chaîne de caractères. \n",
    "    \n",
    "* créez une variable égale à une lettre\n",
    "    \n",
    "* écrivez ensuite un code permettant de compter le nombre de fois que cette lettre apparait dans le texte qui vous ait donné"
   ]
  },
  {
   "cell_type": "code",
   "execution_count": null,
   "metadata": {},
   "outputs": [],
   "source": [
    "texte = \"\"\"Pour moi, réaliser un film équivaut à peindre un tableau, à 200 m de la toile avec \n",
    "un talkie-walkie et 80 personnes qui tiennent des pinceaux. D. Fincher\"\"\"\n",
    "\n"
   ]
  },
  {
   "cell_type": "markdown",
   "metadata": {},
   "source": [
    "<span style='line-height:1.5;font-size: 17px;font-family:\"Times New Roman\"'>\n",
    "\n",
    "__Exercice 8 -Compteur encooore plus avancé__\n",
    "\n",
    "La variable `l_alphabet` créée ci-dessous correspond à une liste contenant toutes les lettres de l'alphabet.\n",
    "    \n",
    "L'objectif de cet exercice est de créer un dictionnaire contenant toutes les lettres de l'alphabet en clefs et le nombre de fois que chaque lettre apparait dans un texte. \n",
    "    \n",
    "_Exemple :_\n",
    "    \n",
    " \n",
    "```pyhton\n",
    "texte = \"un texte\"\n",
    "``` \n",
    "\n",
    "Le résultat sera :\n",
    "    \n",
    "    \n",
    "```pyhton\n",
    "dico : {\"a\":0 , \"b\":0 , \"c\":0 , \"d\":0 , \"e\":2, .... , \"m\":0, \"n\":1, ...}\n",
    "``` \n",
    "    \n",
    "    \n",
    "_Rappel :_\n",
    "    \n",
    "Un dictionnaire est une variable définie par des accolades `{` et `}`. Les éléments sont séparés par des virgules. Chaque élément du dictionnaire est composé d'une clef (généralement sous la forme d'un string) et d'une valeur pour chaque clef (n'import quel type de variable). \n",
    "    \n",
    "Ainsi, un dictionnaire simple : \n",
    "    \n",
    "```pyhton\n",
    "d : {\"clef1\":0 , \"clef2\":\"un mot\"}\n",
    "``` \n",
    "    \n",
    "Pour créer une nouvelle clef avec des valeurs associées à cette clef, ça ressemble à la définition d'une variable : \n",
    "    \n",
    "```pyhton\n",
    "d[\"clef3\"] =  15\n",
    "``` \n",
    "    \n",
    "Le nouveau dictionnaire est alors :\n",
    "    \n",
    "    \n",
    "```pyhton\n",
    "d : {\"clef1\":0 , \"clef2\":\"un mot\", \"clef3\":15}\n",
    "``` \n",
    "    \n",
    "_Pour vous aider :_\n",
    "    \n",
    "- boucle\n",
    "- condition\n",
    "- la liste des lettres de l'alphabet\n",
    "- la fonction `.lower()` qui permet de transformer toutes les lettres en majuscules, en lettres minuscules"
   ]
  },
  {
   "cell_type": "code",
   "execution_count": 2,
   "metadata": {
    "ExecuteTime": {
     "end_time": "2023-10-04T21:53:27.728852Z",
     "start_time": "2023-10-04T21:53:27.720873Z"
    }
   },
   "outputs": [
    {
     "name": "stdout",
     "output_type": "stream",
     "text": [
      "des majuscules et minuscules\n"
     ]
    }
   ],
   "source": [
    "# exemple d'utilisation de la fonction lower()\n",
    "un_str = \"Des MAJUSCULEs et minuscules\"\n",
    "print(un_str.lower())"
   ]
  },
  {
   "cell_type": "code",
   "execution_count": 3,
   "metadata": {
    "ExecuteTime": {
     "end_time": "2023-10-04T21:53:31.793485Z",
     "start_time": "2023-10-04T21:53:31.774536Z"
    }
   },
   "outputs": [],
   "source": [
    "l_alphabet = list(map(chr, range(97, 123)))\n",
    "\n",
    "texte = \"\"\"Pour moi, réaliser un film équivaut à peindre un tableau, à 200 m de la toile avec \n",
    "un talkie-walkie et 80 personnes qui tiennent des pinceaux. D. Fincher\"\"\"\n",
    "\n"
   ]
  },
  {
   "cell_type": "code",
   "execution_count": null,
   "metadata": {},
   "outputs": [],
   "source": []
  }
 ],
 "metadata": {
  "kernelspec": {
   "display_name": "Python 3 (ipykernel)",
   "language": "python",
   "name": "python3"
  },
  "language_info": {
   "codemirror_mode": {
    "name": "ipython",
    "version": 3
   },
   "file_extension": ".py",
   "mimetype": "text/x-python",
   "name": "python",
   "nbconvert_exporter": "python",
   "pygments_lexer": "ipython3",
   "version": "3.9.7"
  },
  "toc": {
   "base_numbering": 1,
   "nav_menu": {},
   "number_sections": true,
   "sideBar": true,
   "skip_h1_title": false,
   "title_cell": "Table of Contents",
   "title_sidebar": "Contents",
   "toc_cell": false,
   "toc_position": {},
   "toc_section_display": true,
   "toc_window_display": false
  },
  "varInspector": {
   "cols": {
    "lenName": 16,
    "lenType": 16,
    "lenVar": 40
   },
   "kernels_config": {
    "python": {
     "delete_cmd_postfix": "",
     "delete_cmd_prefix": "del ",
     "library": "var_list.py",
     "varRefreshCmd": "print(var_dic_list())"
    },
    "r": {
     "delete_cmd_postfix": ") ",
     "delete_cmd_prefix": "rm(",
     "library": "var_list.r",
     "varRefreshCmd": "cat(var_dic_list()) "
    }
   },
   "types_to_exclude": [
    "module",
    "function",
    "builtin_function_or_method",
    "instance",
    "_Feature"
   ],
   "window_display": false
  }
 },
 "nbformat": 4,
 "nbformat_minor": 2
}
