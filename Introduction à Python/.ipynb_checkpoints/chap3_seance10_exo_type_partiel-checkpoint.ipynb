{
 "cells": [
  {
   "cell_type": "markdown",
   "id": "4bd0ae93",
   "metadata": {},
   "source": [
    "<span style='line-height:1.5;font-size: 17px;font-family:\"Times New Roman\"'>\n",
    "\n",
    "\n",
    "<b><center><font size=\"6\">Chap 3 - Exercice type partiel 2</font></center></b>\n",
    "\n",
    "    \n",
    "<g><h7><center> CM - P. Durand  - pierre.alexis.durand@hotmail.fr </center></h7></g>\n",
    "\n",
    "\n",
    "\n",
    "<b><center><font size=\"5\">M1 - 2024-2025</font></center></b> \n",
    "\n",
    "\n",
    "\n",
    "</span>"
   ]
  },
  {
   "cell_type": "markdown",
   "id": "755be410",
   "metadata": {},
   "source": [
    "<span style='line-height:1.5;font-size: 17px;font-family:\"Times New Roman\"'>\n",
    "\n",
    "<hr style=\" border: .5px solid black;\">\n",
    "\n",
    "   \n",
    "<b>Consignes</b> : \n",
    "    \n",
    "- Interdiction aux IA et aux réponses toutes faites (sur des forums par exemple)\n",
    "- Internet autorisé : uniquement pour se renseigner sur une fonction particulière ou retrouver un outil déjà vu\n",
    "- Structurer le code avec : \n",
    "    - des commentaires à l'intérieur des cellules de code (pour guider la lecture)\n",
    "    - des cellules markdown pour faire des parties (éventuellement) et expliquer le déroulement de votre travail/pensée\n",
    "- Laisser le brouillon apparent\n",
    "- Citer les sources (liste des sites internet consultés)\n",
    "    \n",
    "    \n",
    "<b>N.B.</b> : vous serez notés sur votre raisonnement et la logique avec laquelle vous abordez le problème posé. N'hésitez pas à développer votre cheminement de pensée.\n",
    "\n",
    "<hr style=\" border: .5px solid black;\">\n",
    "\n",
    "<br>"
   ]
  },
  {
   "cell_type": "markdown",
   "id": "d5c31aeb",
   "metadata": {},
   "source": [
    "<span style='line-height:1.5;font-size: 17px;font-family:\"Times New Roman\"'>\n",
    "    \n",
    "# Echauffement\n",
    "    \n",
    "<br>\n",
    "    \n",
    "1- A l'aide de ce qui a été vu en cours et d'une boucle `for`, proposez un code permettant de compter le nombre de caractères présents dans la chaine de caractères suivante :\n",
    "    \n",
    "<br>"
   ]
  },
  {
   "cell_type": "code",
   "execution_count": 2,
   "id": "cc3ccd9c",
   "metadata": {},
   "outputs": [
    {
     "data": {
      "text/plain": [
       "120"
      ]
     },
     "execution_count": 2,
     "metadata": {},
     "output_type": "execute_result"
    }
   ],
   "source": [
    "s = \"Il y a quelque chose, quand même, chez les gens qui sont pas comme les autres... ils font plus que les autres. A. Astier\"\n",
    "\n",
    "len(s)"
   ]
  },
  {
   "cell_type": "markdown",
   "id": "e5bd0b0e",
   "metadata": {},
   "source": [
    "<span style='line-height:1.5;font-size: 17px;font-family:\"Times New Roman\"'>\n",
    "    \n",
    "<br>\n",
    "    \n",
    "2- En vous aidant de la réponse à la question précédente, codez une fonction permettant de compter le nombre de caractères présent dans n'importe quel chaîne de caractères. \n",
    "    \n",
    "    \n",
    "<br>"
   ]
  },
  {
   "cell_type": "code",
   "execution_count": null,
   "id": "ebf6459d",
   "metadata": {},
   "outputs": [],
   "source": []
  },
  {
   "cell_type": "markdown",
   "id": "f22dab24",
   "metadata": {},
   "source": [
    "<span style='line-height:1.5;font-size: 17px;font-family:\"Times New Roman\"'>\n",
    "    \n",
    "<br>\n",
    "    \n",
    "3- En vous aidant du premier exemple donné par le lien ci-dessous, ajoutez à votre fonction un message d'erreur lorsque le paramètre donné est de type `list`.\n",
    "    \n",
    "Lien : https://www.w3schools.com/python/gloss_python_raise.asp\n",
    "    \n",
    "    \n",
    "<br>"
   ]
  },
  {
   "cell_type": "code",
   "execution_count": null,
   "id": "8f359336",
   "metadata": {},
   "outputs": [],
   "source": []
  },
  {
   "cell_type": "markdown",
   "id": "f332abf4",
   "metadata": {},
   "source": [
    "<span style='line-height:1.5;font-size: 17px;font-family:\"Times New Roman\"'>\n",
    "\n",
    "<hr style=\" border: .5px solid black;\">\n",
    "\n",
    "<span style='line-height:1.5;font-size: 17px;font-family:\"Times New Roman\"'>\n",
    "    \n",
    "# Exercice thématique\n",
    "    \n",
    "<br>\n",
    "    \n",
    "<b>Objectif </b>:  coder une fonction permettant de ranger des adresses URL dans un ordre alphabetique. Plus précisément, à partir d'une liste d'adresses URL, votre fonction doit retourner une liste de ces adresses triées par ordre alphabétique selon leur nom de domaine (\".com\", \".org\", \".gouv\", etc...). \n",
    "    \n",
    "<br>\n",
    "    \n",
    "<b>Exemple 1</b> :\n",
    "    \n",
    "```python\n",
    "addresses = [\"http//www.google.com/?x=jwxz\", \"www.baleup.aorg\"]    \n",
    "```\n",
    "deviendra :\n",
    "```python\n",
    "addresses = [\"www.baleup.aorg\", \"http//www.google.com/?x=jwxz\"]  \n",
    "```\n",
    " \n",
    "\n",
    "    \n",
    "<b>Exemple 2</b> :\n",
    "    \n",
    "```python\n",
    "addresses = [\"http//www.google.com/?x=jwxz\", \"http//www.slalums.la.cluza.fr/!z=pmly\", \"http//www.google.map.de/pm25\", \"www.baleup.aorg\"]    \n",
    "```\n",
    "deviendra :\n",
    "```python\n",
    "addresses = [\"www.baleup.aorg\", \"http//www.google.com/?x=jwxz\",  \"http//www.google.map.de/pm25\", \"http//www.slalums.la.cluza.fr/!z=pmly\" ]    \n",
    "```\n",
    "<br>\n",
    "    \n",
    "\n",
    "<b>Indice </b>: le nom de domaine sera toujours donné après le dernier `.` de l'URL.\n",
    "\n",
    "<br>\n",
    "    \n",
    "    \n",
    "<hr style=\" border: .5px solid black;\">\n",
    "    \n",
    "Bon courage !!\n",
    "    \n",
    "<hr style=\" border: .5px solid black;\">"
   ]
  }
 ],
 "metadata": {
  "kernelspec": {
   "display_name": "Python 3 (ipykernel)",
   "language": "python",
   "name": "python3"
  },
  "language_info": {
   "codemirror_mode": {
    "name": "ipython",
    "version": 3
   },
   "file_extension": ".py",
   "mimetype": "text/x-python",
   "name": "python",
   "nbconvert_exporter": "python",
   "pygments_lexer": "ipython3",
   "version": "3.11.4"
  },
  "toc": {
   "base_numbering": 1,
   "nav_menu": {},
   "number_sections": true,
   "sideBar": true,
   "skip_h1_title": false,
   "title_cell": "Table of Contents",
   "title_sidebar": "Contents",
   "toc_cell": false,
   "toc_position": {},
   "toc_section_display": true,
   "toc_window_display": false
  },
  "varInspector": {
   "cols": {
    "lenName": 16,
    "lenType": 16,
    "lenVar": 40
   },
   "kernels_config": {
    "python": {
     "delete_cmd_postfix": "",
     "delete_cmd_prefix": "del ",
     "library": "var_list.py",
     "varRefreshCmd": "print(var_dic_list())"
    },
    "r": {
     "delete_cmd_postfix": ") ",
     "delete_cmd_prefix": "rm(",
     "library": "var_list.r",
     "varRefreshCmd": "cat(var_dic_list()) "
    }
   },
   "types_to_exclude": [
    "module",
    "function",
    "builtin_function_or_method",
    "instance",
    "_Feature"
   ],
   "window_display": false
  }
 },
 "nbformat": 4,
 "nbformat_minor": 5
}
