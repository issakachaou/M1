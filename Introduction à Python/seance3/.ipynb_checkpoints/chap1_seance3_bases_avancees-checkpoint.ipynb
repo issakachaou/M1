{
 "cells": [
  {
   "cell_type": "markdown",
   "metadata": {},
   "source": [
    "<span style='line-height:1.5;font-size: 17px;font-family:\"Times New Roman\"'>\n",
    "\n",
    "\n",
    "<b><center><font size=\"6\">Introduction à python - Séance 3</font></center></b>\n",
    "\n",
    "<b><center><font size=\"6\">Exercices</font></center></b>\n",
    "    \n",
    "<g><h7><center> CM - P. Durand  - pierre.alexis.durand@hotmail.fr </center></h7></g>\n",
    "\n",
    "\n",
    "\n",
    "<b><center><font size=\"5\">M1 - 2022-2023</font></center></b> \n",
    "\n",
    "\n",
    "\n",
    "</span>"
   ]
  },
  {
   "cell_type": "markdown",
   "metadata": {},
   "source": [
    "<span style='line-height:1.5;font-size: 17px;font-family:\"Times New Roman\"'>\n",
    "\n",
    "<hr style=\" border: 2.5px solid black;\">\n",
    "<br>\n",
    "\n",
    "#### Plan du cours\n",
    "<br>\n",
    "\n",
    "- Partie I : introduction et appréhension du langage python \n",
    "    - Séance 1 - variables et syntaxe de base\n",
    "    - Séance 2 - boucles et structure conditionnelle - exercices d'application\n",
    "    - <b>Séance 3 - exercices d'application : utilisation et combinaison des outils acquis</b>\n",
    "    - Séance 4 - exercices d'application : prise d'autonomie sur la recherche d'information \n",
    "    \n",
    "- Partie II : apprendre à coder\n",
    "    - Séance 5 - fonctions sous python - exercices d'application\n",
    "    - Séance 6 - exercices d'application : coder des fonctions simples\n",
    "    - Séance 7 - bases de données et manipulation des données sous python - exercices d'application\n",
    "    - Séance 8 - exercices d'application : manipulation de bases de données\n",
    "    - Séance 9 - exercices d'application : restitution des connaissances de l'ensemble du cours\n",
    "    \n",
    "- Partie III : prise de recul sur un code python\n",
    "    - Séance 10 - commenter un code et utiliser ChatGPT \n",
    "\n",
    "<br>\n",
    "\n",
    "\n",
    "\n",
    "\n",
    "<hr style=\" border: .5px solid black;\">\n",
    "<br>"
   ]
  },
  {
   "cell_type": "markdown",
   "metadata": {},
   "source": [
    "<span style='line-height:1.5;font-size: 17px;font-family:\"Times New Roman\"'>\n",
    "\n",
    "\n",
    "\n",
    "__Exercice 1 - Compteur__ \n",
    "\n",
    "A l'aide d'une boucle `for`, écrivez un code permettant de compter le nombre de caractères présent dans le string défini ci-dessous."
   ]
  },
  {
   "cell_type": "code",
   "execution_count": 3,
   "metadata": {
    "ExecuteTime": {
     "end_time": "2023-10-05T11:28:45.176504Z",
     "start_time": "2023-10-05T11:28:45.170442Z"
    }
   },
   "outputs": [
    {
     "name": "stdout",
     "output_type": "stream",
     "text": [
      "95\n"
     ]
    }
   ],
   "source": [
    "str1 = \"Je pense à ceux qui doivent trouver en eux quelque chose après le désenchantement. H. de Balzac\"\n",
    "\n",
    "compteur = 0\n",
    "\n",
    "for i in str1 :\n",
    "    compteur = compteur +1\n",
    "    \n",
    "print(compteur)"
   ]
  },
  {
   "cell_type": "markdown",
   "metadata": {},
   "source": [
    "<span style='line-height:1.5;font-size: 17px;font-family:\"Times New Roman\"'>\n",
    "\n",
    "\n",
    "Même question avec une boucle `while`."
   ]
  },
  {
   "cell_type": "code",
   "execution_count": null,
   "metadata": {},
   "outputs": [],
   "source": [
    "while st"
   ]
  },
  {
   "cell_type": "markdown",
   "metadata": {},
   "source": [
    "<span style='line-height:1.5;font-size: 17px;font-family:\"Times New Roman\"'>\n",
    "\n",
    "__Exercice 2 - Rappel sur la fonction d'ajout d'éléments à une liste__\n",
    "\n",
    "Pour rappel, il existe une fonction permettant d'ajouter un élément à la fin d'une liste. \n",
    "    \n",
    "Après avoir retrouvé de quelle fonction il s'agit :\n",
    "\n",
    "- créez une variable contenant liste vide\n",
    "- à l'aide d'une boucle `for`, remplissez cette liste des nombres entiers de 10 à 51.\n"
   ]
  },
  {
   "cell_type": "code",
   "execution_count": null,
   "metadata": {},
   "outputs": [],
   "source": []
  },
  {
   "cell_type": "markdown",
   "metadata": {},
   "source": [
    "<span style='line-height:1.5;font-size: 17px;font-family:\"Times New Roman\"'>\n",
    "\n",
    "__Exercice 3 - Boucle et condition__\n",
    "\n",
    "Nous avons une liste `l` contenant des entiers et une chaine de caractères `s`. \n",
    "    \n",
    "- créez une variable `res` contenant une liste vide\n",
    "- à l'aide d'une boucle `for`, parcourez la liste\n",
    "- à l'aide d'une condition, ajoutez à `res` le i-ème élément de la chaine de caractères lorsque i est pair\n",
    "- exécutez enfin la troisième cellule (un message caché devrait apparaître)"
   ]
  },
  {
   "cell_type": "code",
   "execution_count": 1,
   "metadata": {
    "ExecuteTime": {
     "end_time": "2024-10-02T08:20:14.851346Z",
     "start_time": "2024-10-02T08:20:14.846243Z"
    }
   },
   "outputs": [],
   "source": [
    "l = [51,1,3,10,9,18,31,2,0,99,16,6,8]\n",
    "s = \"u!o ZpéI!0Tzc^znv/r/pzc\""
   ]
  },
  {
   "cell_type": "code",
   "execution_count": null,
   "metadata": {
    "ExecuteTime": {
     "end_time": "2024-10-02T08:20:56.130711Z",
     "start_time": "2024-10-02T08:20:56.117527Z"
    }
   },
   "outputs": [],
   "source": []
  },
  {
   "cell_type": "code",
   "execution_count": null,
   "metadata": {
    "ExecuteTime": {
     "end_time": "2024-10-02T08:20:56.378550Z",
     "start_time": "2024-10-02T08:20:56.363734Z"
    }
   },
   "outputs": [],
   "source": [
    "print(\"\".join(res))"
   ]
  },
  {
   "cell_type": "markdown",
   "metadata": {},
   "source": [
    "<span style='line-height:1.5;font-size: 17px;font-family:\"Times New Roman\"'>\n",
    "\n",
    "__Exercice 4 - Erratum__\n",
    "    \n",
    "Une ou plusieurs erreurs se sont glissées dans le code suivant. Corrigez les en regardant bien le message d'erreur.\n",
    "    "
   ]
  },
  {
   "cell_type": "code",
   "execution_count": 6,
   "metadata": {
    "ExecuteTime": {
     "end_time": "2024-10-02T08:24:35.128786Z",
     "start_time": "2024-10-02T08:24:35.109167Z"
    }
   },
   "outputs": [
    {
     "ename": "IndentationError",
     "evalue": "expected an indented block (1646818362.py, line 8)",
     "output_type": "error",
     "traceback": [
      "\u001b[1;36m  Input \u001b[1;32mIn [6]\u001b[1;36m\u001b[0m\n\u001b[1;33m    if type(el)==str\u001b[0m\n\u001b[1;37m    ^\u001b[0m\n\u001b[1;31mIndentationError\u001b[0m\u001b[1;31m:\u001b[0m expected an indented block\n"
     ]
    }
   ],
   "source": [
    "liste_de_listes = [ [\"b\",1,2,3,\"E\"] , [(\"a\",(\"b\"))] , [\"n\"] , [\"!!!\",\"cor\"] , [\"hello\",1,2,3,\"e tr\"] ,\n",
    "                   [\"ouv\"], [1,2,\"3\",\"é !\"], [1,2,3]]\n",
    "\n",
    "resultat = []\n",
    "\n",
    "for sous_liste in liste_de_listes :\n",
    "    for el in sous_liste :\n",
    "    if type(el)==str\n",
    "        resultat.append(sous_liste[-1])\n",
    "            break\n",
    "\n",
    "\n",
    "\"\".join(resultat)"
   ]
  },
  {
   "cell_type": "markdown",
   "metadata": {},
   "source": [
    "<span style='line-height:1.5;font-size: 17px;font-family:\"Times New Roman\"'>\n",
    "\n",
    "__Exercice 5 - Boucle et condition (... encore)__\n",
    "\n",
    "Une liste est difinie ci-dessous nommée `liste_mixte` avec des strings, des entiers et des floats. Créez un code permettant de créer deux listes différentes : \n",
    "    \n",
    "- l'une contient les strings de la `liste_mixte`\n",
    "- l'autre contient les entiers et les floats de la `liste_mixte`"
   ]
  },
  {
   "cell_type": "code",
   "execution_count": 39,
   "metadata": {
    "ExecuteTime": {
     "end_time": "2023-10-05T12:15:49.136187Z",
     "start_time": "2023-10-05T12:15:49.119617Z"
    }
   },
   "outputs": [],
   "source": [
    "l = [1,2,\"bonjour\",857,\"hello\",7.5,\"salute !\",0.0,\"...\",[\"rer\",\"D\"]]\n",
    "\n"
   ]
  },
  {
   "cell_type": "markdown",
   "metadata": {},
   "source": [
    "<span style='line-height:1.5;font-size: 17px;font-family:\"Times New Roman\"'>\n",
    "\n",
    "__Exercice 6 - Adresses mail__\n",
    "\n",
    "On vous donne une liste d'adresses mails qui sont toutes conçues de la même façon : \n",
    "`prénom.nom@le_mail.nom_de_domaine`\n",
    "\n",
    "Nous aimerions avoir une liste des noms et prénoms des personnes présentent dans cette liste de mails. Egalement, nous souhaitons que les noms et prénoms soient dans une même variable (chaîne de caractères), avec des majuscules.\n",
    "    \n",
    "_Exemple :_\n",
    "\n",
    "```python\n",
    "l_mails = [\"pierre.durand@hotmail.fr\", \"antoine.dupont@gmail.com\"]\n",
    "```\n",
    "\n",
    "Nous souhaitons donc obtenir :\n",
    "    \n",
    "```python\n",
    "resultat : [\"Pierre Durand\", \"Antoine Dupont\"]\n",
    "```\n",
    "    \n",
    "Pour vous aider, voici la liste des outils dont vous aurez probablement besoin :\n",
    "    \n",
    "- boucle\n",
    "- la fonction `.split()`\n",
    "- la fonction `.join()`\n",
    "- la fonction `.capitalize()`\n",
    "    \n",
    "_Petit conseil :_\n",
    "    \n",
    "Essayez déjà de transformer une adresse mail seule."
   ]
  },
  {
   "cell_type": "code",
   "execution_count": 59,
   "metadata": {
    "ExecuteTime": {
     "end_time": "2023-10-05T12:50:32.452102Z",
     "start_time": "2023-10-05T12:50:32.437275Z"
    }
   },
   "outputs": [],
   "source": [
    "l_mails = [\"antoine.dupont@gmail.com\", \"romain.ntamack@u-pec.fr\", \"charles.olivon@parisnanterre.com\",\n",
    "          \"mohamed.haouas@hotmail.ru\", \"julien.marchand@toulouse.fr\"]\n"
   ]
  },
  {
   "cell_type": "markdown",
   "metadata": {},
   "source": [
    "<span style='line-height:1.5;font-size: 17px;font-family:\"Times New Roman\"'>\n",
    "\n",
    "__Exercice 7 - Compteur plus avancé__\n",
    "\n",
    "On vous donne une chaîne de caractères. \n",
    "    \n",
    "* créez une variable égale à une lettre\n",
    "    \n",
    "* écrivez ensuite un code permettant de compter le nombre de fois que cette lettre apparait dans le texte qui vous ait donné"
   ]
  },
  {
   "cell_type": "code",
   "execution_count": null,
   "metadata": {},
   "outputs": [],
   "source": [
    "texte = \"\"\"Pour moi, réaliser un film équivaut à peindre un tableau, à 200 m de la toile avec \n",
    "un talkie-walkie et 80 personnes qui tiennent des pinceaux. D. Fincher\"\"\"\n",
    "\n"
   ]
  },
  {
   "cell_type": "markdown",
   "metadata": {},
   "source": [
    "<span style='line-height:1.5;font-size: 17px;font-family:\"Times New Roman\"'>\n",
    "\n",
    "__Exercice 8 -Compteur encooore plus avancé__\n",
    "\n",
    "La variable `l_alphabet` créée ci-dessous correspond à une liste contenant toutes les lettres de l'alphabet.\n",
    "    \n",
    "L'objectif de cet exercice est de créer un dictionnaire contenant toutes les lettres de l'alphabet en clefs et le nombre de fois que chaque lettre apparait dans un texte. \n",
    "    \n",
    "_Exemple :_\n",
    "    \n",
    " \n",
    "```pyhton\n",
    "texte = \"un texte\"\n",
    "``` \n",
    "\n",
    "Le résultat sera :\n",
    "    \n",
    "    \n",
    "```pyhton\n",
    "dico : {\"a\":0 , \"b\":0 , \"c\":0 , \"d\":0 , \"e\":2, .... , \"m\":0, \"n\":1, ...}\n",
    "``` \n",
    "    \n",
    "    \n",
    "_Rappel :_\n",
    "    \n",
    "Un dictionnaire est une variable définie par des accolades `{` et `}`. Les éléments sont séparés par des virgules. Chaque élément du dictionnaire est composé d'une clef (généralement sous la forme d'un string) et d'une valeur pour chaque clef (n'import quel type de variable). \n",
    "    \n",
    "Ainsi, un dictionnaire simple : \n",
    "    \n",
    "```pyhton\n",
    "d : {\"clef1\":0 , \"clef2\":\"un mot\"}\n",
    "``` \n",
    "    \n",
    "Pour créer une nouvelle clef avec des valeurs associées à cette clef, ça ressemble à la définition d'une variable : \n",
    "    \n",
    "```pyhton\n",
    "d[\"clef3\"] =  15\n",
    "``` \n",
    "    \n",
    "Le nouveau dictionnaire est alors :\n",
    "    \n",
    "    \n",
    "```pyhton\n",
    "d : {\"clef1\":0 , \"clef2\":\"un mot\", \"clef3\":15}\n",
    "``` \n",
    "    \n",
    "_Pour vous aider :_\n",
    "    \n",
    "- boucle\n",
    "- condition\n",
    "- la liste des lettres de l'alphabet\n",
    "- la fonction `.lower()` qui permet de transformer toutes les lettres en majuscules, en lettres minuscules"
   ]
  },
  {
   "cell_type": "code",
   "execution_count": 2,
   "metadata": {
    "ExecuteTime": {
     "end_time": "2023-10-04T21:53:27.728852Z",
     "start_time": "2023-10-04T21:53:27.720873Z"
    }
   },
   "outputs": [
    {
     "name": "stdout",
     "output_type": "stream",
     "text": [
      "des majuscules et minuscules\n"
     ]
    }
   ],
   "source": [
    "# exemple d'utilisation de la fonction lower()\n",
    "un_str = \"Des MAJUSCULEs et minuscules\"\n",
    "print(un_str.lower())"
   ]
  },
  {
   "cell_type": "code",
   "execution_count": 3,
   "metadata": {
    "ExecuteTime": {
     "end_time": "2023-10-04T21:53:31.793485Z",
     "start_time": "2023-10-04T21:53:31.774536Z"
    }
   },
   "outputs": [],
   "source": [
    "l_alphabet = list(map(chr, range(97, 123)))\n",
    "\n",
    "texte = \"\"\"Pour moi, réaliser un film équivaut à peindre un tableau, à 200 m de la toile avec \n",
    "un talkie-walkie et 80 personnes qui tiennent des pinceaux. D. Fincher\"\"\"\n",
    "\n"
   ]
  },
  {
   "cell_type": "code",
   "execution_count": null,
   "metadata": {},
   "outputs": [],
   "source": []
  }
 ],
 "metadata": {
  "kernelspec": {
   "display_name": "Python 3 (ipykernel)",
   "language": "python",
   "name": "python3"
  },
  "language_info": {
   "codemirror_mode": {
    "name": "ipython",
    "version": 3
   },
   "file_extension": ".py",
   "mimetype": "text/x-python",
   "name": "python",
   "nbconvert_exporter": "python",
   "pygments_lexer": "ipython3",
   "version": "3.11.4"
  },
  "toc": {
   "base_numbering": 1,
   "nav_menu": {},
   "number_sections": true,
   "sideBar": true,
   "skip_h1_title": false,
   "title_cell": "Table of Contents",
   "title_sidebar": "Contents",
   "toc_cell": false,
   "toc_position": {},
   "toc_section_display": true,
   "toc_window_display": false
  },
  "varInspector": {
   "cols": {
    "lenName": 16,
    "lenType": 16,
    "lenVar": 40
   },
   "kernels_config": {
    "python": {
     "delete_cmd_postfix": "",
     "delete_cmd_prefix": "del ",
     "library": "var_list.py",
     "varRefreshCmd": "print(var_dic_list())"
    },
    "r": {
     "delete_cmd_postfix": ") ",
     "delete_cmd_prefix": "rm(",
     "library": "var_list.r",
     "varRefreshCmd": "cat(var_dic_list()) "
    }
   },
   "types_to_exclude": [
    "module",
    "function",
    "builtin_function_or_method",
    "instance",
    "_Feature"
   ],
   "window_display": false
  }
 },
 "nbformat": 4,
 "nbformat_minor": 2
}
