{
 "cells": [
  {
   "cell_type": "markdown",
   "id": "e2289834",
   "metadata": {},
   "source": [
    "<span style='line-height:1.5;font-size: 17px;font-family:\"Times New Roman\"'>\n",
    "\n",
    "\n",
    "<b><center><font size=\"6\">Introduction à python - Séance 4</font></center></b>\n",
    "\n",
    "<b><center><font size=\"6\">Exercices sur la gestion des packages</font></center></b>\n",
    "    \n",
    "<g><h7><center> CM - P. Durand  - pierre.durand@u-pec.fr </center></h7></g>\n",
    "\n",
    "\n",
    "\n",
    "<b><center><font size=\"5\">M1 - 2022-2023</font></center></b> \n",
    "\n",
    "\n",
    "\n",
    "</span>"
   ]
  },
  {
   "cell_type": "markdown",
   "id": "0c35df63",
   "metadata": {},
   "source": [
    "<span style='line-height:1.5;font-size: 17px;font-family:\"Times New Roman\"'>\n",
    "\n",
    "\n",
    "\n",
    "<hr style=\" border: 2.5px solid black;\">\n",
    "<br>\n",
    "\n",
    "__Plan du cours__\n",
    "<br>\n",
    "\n",
    "- Partie I : introduction et appréhension du langage python \n",
    "    - Séance 1 - variables et syntaxe de base\n",
    "    - Séance 2 - boucles et structure conditionnelle - exercices d'application\n",
    "    - Séance 3 - exercices d'application : utilisation et combinaison des outils acquis\n",
    "    - <b>Séance 4 - exercices d'application : prise d'autonomie sur la recherche d'information</b>\n",
    "    \n",
    "- Partie II : apprendre à coder\n",
    "    - Séance 5 - fonctions sous python - exercices d'application\n",
    "    - Séance 6 - exercices d'application : coder des fonctions simples\n",
    "    - Séance 7 - bases de données et manipulation des données sous python - exercices d'application\n",
    "    - Séance 8 - exercices d'application : manipulation de bases de données\n",
    "    - Séance 9 - exercices d'application : restitution des connaissances de l'ensemble du cours\n",
    "    \n",
    "- Partie III : prise de recul sur un code python\n",
    "    - Séance 10 - commenter un code et utiliser ChatGPT \n",
    "    \n",
    "    \n",
    "    \n",
    "    \n",
    "<hr style=\" border: 2.5px solid black;\">\n",
    "<br>\n",
    "    \n",
    "    \n",
    "#  Qu'est-ce qu'un package ? \n",
    "\n",
    "Un package (ou un module, ou encore une librairie) est un fichier .py dans lequel réside une/plusieurs fonctions et/ou classes que nous souhaitons utiliser dans notre travail.\n",
    "\n",
    "Dans notre cours, nous utiliserons quelques packages utiles pour la gestion de données et pour la modélisation économétrique (voir plus bas). De plus, Python vient avec un certains nombres de modules de bases appellés modules \"built-in\". En voici la liste : https://docs.python.org/3/library/\n",
    "\n",
    "\n",
    "Le mot clé réservé pour importer un module est <b>\"import\"</b>. Il est une bonne pratique d'importer tout les modules en début de fichier dans une même cellule. \n",
    "\n",
    "Exemple : "
   ]
  },
  {
   "cell_type": "code",
   "execution_count": 2,
   "id": "5ae157dd",
   "metadata": {
    "ExecuteTime": {
     "end_time": "2023-10-05T09:58:09.739617Z",
     "start_time": "2023-10-05T09:58:09.723359Z"
    }
   },
   "outputs": [],
   "source": [
    "import numpy "
   ]
  },
  {
   "cell_type": "code",
   "execution_count": 3,
   "id": "bc860320",
   "metadata": {
    "ExecuteTime": {
     "end_time": "2023-10-05T09:58:10.027968Z",
     "start_time": "2023-10-05T09:58:10.003977Z"
    }
   },
   "outputs": [
    {
     "data": {
      "text/plain": [
       "2.0"
      ]
     },
     "execution_count": 3,
     "metadata": {},
     "output_type": "execute_result"
    }
   ],
   "source": [
    "numpy.floor(2.6)"
   ]
  },
  {
   "cell_type": "code",
   "execution_count": 4,
   "id": "d1556fde",
   "metadata": {
    "ExecuteTime": {
     "end_time": "2023-10-05T09:58:10.524168Z",
     "start_time": "2023-10-05T09:58:10.504088Z"
    }
   },
   "outputs": [
    {
     "name": "stdout",
     "output_type": "stream",
     "text": [
      "2.0\n"
     ]
    }
   ],
   "source": [
    "a = numpy.floor(2.6)\n",
    "\n",
    "print(a)"
   ]
  },
  {
   "cell_type": "code",
   "execution_count": 5,
   "id": "d7788a90",
   "metadata": {
    "ExecuteTime": {
     "end_time": "2023-10-05T09:58:11.071157Z",
     "start_time": "2023-10-05T09:58:11.061889Z"
    }
   },
   "outputs": [
    {
     "data": {
      "text/plain": [
       "2.0"
      ]
     },
     "execution_count": 5,
     "metadata": {},
     "output_type": "execute_result"
    }
   ],
   "source": [
    "numpy.floor(2.654684)"
   ]
  },
  {
   "cell_type": "code",
   "execution_count": 6,
   "id": "ac32b9e8",
   "metadata": {},
   "outputs": [],
   "source": [
    "import numpy as np"
   ]
  },
  {
   "cell_type": "code",
   "execution_count": 7,
   "id": "78feecfb",
   "metadata": {
    "ExecuteTime": {
     "end_time": "2023-10-05T09:58:13.573771Z",
     "start_time": "2023-10-05T09:58:13.552649Z"
    }
   },
   "outputs": [
    {
     "name": "stdout",
     "output_type": "stream",
     "text": [
      "2.0\n"
     ]
    }
   ],
   "source": [
    "a = np.floor(2.6)\n",
    "\n",
    "print(a)"
   ]
  },
  {
   "cell_type": "code",
   "execution_count": 8,
   "id": "a83d7ef9",
   "metadata": {
    "ExecuteTime": {
     "end_time": "2022-09-29T12:13:02.601147Z",
     "start_time": "2022-09-29T12:13:02.586011Z"
    }
   },
   "outputs": [],
   "source": [
    "from numpy import floor "
   ]
  },
  {
   "cell_type": "code",
   "execution_count": 9,
   "id": "acc72aaa",
   "metadata": {
    "ExecuteTime": {
     "end_time": "2022-09-29T12:13:10.269025Z",
     "start_time": "2022-09-29T12:13:10.253294Z"
    }
   },
   "outputs": [
    {
     "name": "stdout",
     "output_type": "stream",
     "text": [
      "2.0\n"
     ]
    }
   ],
   "source": [
    "a = floor(2.6)\n",
    "\n",
    "print(a)"
   ]
  },
  {
   "cell_type": "code",
   "execution_count": 10,
   "id": "4e91e365",
   "metadata": {
    "ExecuteTime": {
     "end_time": "2022-09-29T12:22:49.809101Z",
     "start_time": "2022-09-29T12:22:49.765573Z"
    }
   },
   "outputs": [
    {
     "data": {
      "text/plain": [
       "array([-2., -2., -1.,  0.,  1.,  1.,  2.])"
      ]
     },
     "execution_count": 10,
     "metadata": {},
     "output_type": "execute_result"
    }
   ],
   "source": [
    "a = np.array([-1.7, -1.5, -0.2, 0.2, 1.5, 1.7, 2.0])\n",
    "\n",
    "np.floor(a)\n"
   ]
  },
  {
   "cell_type": "code",
   "execution_count": 11,
   "id": "1176c0d9",
   "metadata": {},
   "outputs": [
    {
     "ename": "SyntaxError",
     "evalue": "invalid syntax (1606728033.py, line 2)",
     "output_type": "error",
     "traceback": [
      "\u001b[1;36m  Cell \u001b[1;32mIn[11], line 2\u001b[1;36m\u001b[0m\n\u001b[1;33m    from numpy import\u001b[0m\n\u001b[1;37m                      ^\u001b[0m\n\u001b[1;31mSyntaxError\u001b[0m\u001b[1;31m:\u001b[0m invalid syntax\n"
     ]
    }
   ],
   "source": [
    "# pour toutes les fonctions\n",
    "from numpy import "
   ]
  },
  {
   "cell_type": "markdown",
   "id": "a1745dde",
   "metadata": {},
   "source": [
    "<span style='line-height:1.5;font-size: 17px;font-family:\"Times New Roman\"'>\n",
    "\n",
    "Les principaux packages utilisés tout au long de ce cours sont les suivants : \n",
    "\n",
    "    \n",
    "Pour la manipulation algébrique et de base de données :    \n",
    "- Numpy\n",
    "- Pandas\n",
    "    \n",
    "Pour la modélisation :\n",
    "- StatsModels\n",
    "- ScikitLearn\n",
    "    \n",
    "Pour la visualisation et les statistiques descriptives :     \n",
    "- Seaborn\n",
    "- matplolitb\n",
    "    \n",
    "    \n",
    "    \n",
    "## Quelques exemples "
   ]
  },
  {
   "cell_type": "code",
   "execution_count": 12,
   "id": "56780746",
   "metadata": {
    "ExecuteTime": {
     "end_time": "2022-09-20T08:54:50.601459Z",
     "start_time": "2022-09-20T08:54:49.859319Z"
    }
   },
   "outputs": [],
   "source": [
    "import pandas as pd\n",
    "\n",
    "from numpy import random as rn "
   ]
  },
  {
   "cell_type": "code",
   "execution_count": 13,
   "id": "b6e2b64b",
   "metadata": {
    "ExecuteTime": {
     "end_time": "2022-09-20T08:54:50.638230Z",
     "start_time": "2022-09-20T08:54:50.616982Z"
    }
   },
   "outputs": [],
   "source": [
    "df = pd.DataFrame(data = {\"année\" : [i for i in range(1930,2020)],\n",
    "                         \"col1\":rn.normal(0,1,90),\n",
    "                         \"col2\":rn.normal(10,2.6,90)}) "
   ]
  },
  {
   "cell_type": "code",
   "execution_count": 14,
   "id": "0ca112dc",
   "metadata": {
    "ExecuteTime": {
     "end_time": "2022-09-19T21:08:33.932271Z",
     "start_time": "2022-09-19T21:08:33.922236Z"
    }
   },
   "outputs": [
    {
     "data": {
      "text/html": [
       "<div>\n",
       "<style scoped>\n",
       "    .dataframe tbody tr th:only-of-type {\n",
       "        vertical-align: middle;\n",
       "    }\n",
       "\n",
       "    .dataframe tbody tr th {\n",
       "        vertical-align: top;\n",
       "    }\n",
       "\n",
       "    .dataframe thead th {\n",
       "        text-align: right;\n",
       "    }\n",
       "</style>\n",
       "<table border=\"1\" class=\"dataframe\">\n",
       "  <thead>\n",
       "    <tr style=\"text-align: right;\">\n",
       "      <th></th>\n",
       "      <th>année</th>\n",
       "      <th>col1</th>\n",
       "      <th>col2</th>\n",
       "    </tr>\n",
       "  </thead>\n",
       "  <tbody>\n",
       "    <tr>\n",
       "      <th>0</th>\n",
       "      <td>1930</td>\n",
       "      <td>0.734951</td>\n",
       "      <td>7.453628</td>\n",
       "    </tr>\n",
       "    <tr>\n",
       "      <th>1</th>\n",
       "      <td>1931</td>\n",
       "      <td>0.103169</td>\n",
       "      <td>9.633553</td>\n",
       "    </tr>\n",
       "    <tr>\n",
       "      <th>2</th>\n",
       "      <td>1932</td>\n",
       "      <td>-0.093920</td>\n",
       "      <td>9.313762</td>\n",
       "    </tr>\n",
       "    <tr>\n",
       "      <th>3</th>\n",
       "      <td>1933</td>\n",
       "      <td>0.806786</td>\n",
       "      <td>12.635562</td>\n",
       "    </tr>\n",
       "    <tr>\n",
       "      <th>4</th>\n",
       "      <td>1934</td>\n",
       "      <td>0.821549</td>\n",
       "      <td>11.404322</td>\n",
       "    </tr>\n",
       "  </tbody>\n",
       "</table>\n",
       "</div>"
      ],
      "text/plain": [
       "   année      col1       col2\n",
       "0   1930  0.734951   7.453628\n",
       "1   1931  0.103169   9.633553\n",
       "2   1932 -0.093920   9.313762\n",
       "3   1933  0.806786  12.635562\n",
       "4   1934  0.821549  11.404322"
      ]
     },
     "execution_count": 14,
     "metadata": {},
     "output_type": "execute_result"
    }
   ],
   "source": [
    "df.head()"
   ]
  },
  {
   "cell_type": "code",
   "execution_count": 15,
   "id": "238776b8",
   "metadata": {
    "ExecuteTime": {
     "end_time": "2022-09-19T21:08:34.759672Z",
     "start_time": "2022-09-19T21:08:34.692270Z"
    }
   },
   "outputs": [
    {
     "data": {
      "text/plain": [
       "<Axes: >"
      ]
     },
     "execution_count": 15,
     "metadata": {},
     "output_type": "execute_result"
    },
    {
     "data": {
      "image/png": "[encoded data removed]",
      "text/plain": [
       "<Figure size 640x480 with 1 Axes>"
      ]
     },
     "metadata": {},
     "output_type": "display_data"
    }
   ],
   "source": [
    "df[[\"col1\"]].plot()"
   ]
  },
  {
   "cell_type": "code",
   "execution_count": 16,
   "id": "a59a28b9",
   "metadata": {
    "ExecuteTime": {
     "end_time": "2022-09-19T21:08:37.233332Z",
     "start_time": "2022-09-19T21:08:37.227330Z"
    }
   },
   "outputs": [],
   "source": [
    "import matplotlib.pyplot as plt\n",
    "import seaborn as sns "
   ]
  },
  {
   "cell_type": "code",
   "execution_count": 17,
   "id": "b165452a",
   "metadata": {
    "ExecuteTime": {
     "end_time": "2022-09-19T21:11:38.339138Z",
     "start_time": "2022-09-19T21:11:38.258835Z"
    }
   },
   "outputs": [
    {
     "data": {
      "image/png": "[encoded data removed]",
      "text/plain": [
       "<Figure size 640x480 with 1 Axes>"
      ]
     },
     "metadata": {},
     "output_type": "display_data"
    }
   ],
   "source": [
    "plt.scatter(df[\"col1\"], df[\"col2\"])\n",
    "plt.show()"
   ]
  },
  {
   "cell_type": "code",
   "execution_count": 18,
   "id": "3a9efed4",
   "metadata": {
    "ExecuteTime": {
     "end_time": "2022-09-19T21:09:37.596991Z",
     "start_time": "2022-09-19T21:09:37.531865Z"
    }
   },
   "outputs": [
    {
     "name": "stderr",
     "output_type": "stream",
     "text": [
      "C:\\Users\\issak\\AppData\\Local\\Temp\\ipykernel_5708\\3202532645.py:3: FutureWarning: \n",
      "\n",
      "`shade` is now deprecated in favor of `fill`; setting `fill=True`.\n",
      "This will become an error in seaborn v0.14.0; please update your code.\n",
      "\n",
      "  sns.kdeplot(x, shade=True, color=\"r\")\n"
     ]
    },
    {
     "data": {
      "image/png": "[encoded data removed]",
      "text/plain": [
       "<Figure size 640x480 with 1 Axes>"
      ]
     },
     "metadata": {},
     "output_type": "display_data"
    }
   ],
   "source": [
    "x = rn.normal(0,1,100)\n",
    "\n",
    "sns.kdeplot(x, shade=True, color=\"r\")\n",
    "\n",
    "\n",
    "plt.xlabel('Values',fontsize=12)\n",
    "plt.ylabel('Probability', fontsize=12)\n",
    "plt.title('Histogram of 100 observations of a normal', fontsize=15)\n",
    "\n",
    "plt.show()"
   ]
  },
  {
   "cell_type": "code",
   "execution_count": 19,
   "id": "33a41c83",
   "metadata": {
    "ExecuteTime": {
     "end_time": "2022-09-19T21:09:42.657812Z",
     "start_time": "2022-09-19T21:09:42.580343Z"
    }
   },
   "outputs": [
    {
     "name": "stderr",
     "output_type": "stream",
     "text": [
      "C:\\Users\\issak\\AppData\\Local\\Temp\\ipykernel_5708\\899575767.py:3: FutureWarning: \n",
      "\n",
      "`shade` is now deprecated in favor of `fill`; setting `fill=True`.\n",
      "This will become an error in seaborn v0.14.0; please update your code.\n",
      "\n",
      "  sns.kdeplot(x, shade=True, color=\"r\")\n"
     ]
    },
    {
     "data": {
      "image/png": "[encoded data removed]",
      "text/plain": [
       "<Figure size 640x480 with 1 Axes>"
      ]
     },
     "metadata": {},
     "output_type": "display_data"
    }
   ],
   "source": [
    "x = rn.normal(0,1,1000)\n",
    "\n",
    "sns.kdeplot(x, shade=True, color=\"r\")\n",
    "\n",
    "\n",
    "plt.xlabel('Values',fontsize=12)\n",
    "plt.ylabel('Probability', fontsize=12)\n",
    "plt.title('Histogram of 1000 observations of a normal', fontsize=15)\n",
    "\n",
    "plt.show()"
   ]
  },
  {
   "cell_type": "markdown",
   "id": "7b505bd1",
   "metadata": {},
   "source": [
    "<span style='line-height:1.5;font-size: 17px;font-family:\"Times New Roman\"'>\n",
    "\n",
    "<hr style=\" border: 2.5px solid black;\">\n",
    "<br>\n",
    "    \n",
    "## Petits conseils pratiques   \n",
    "\n",
    "Comment se renseigner ? \n",
    "    \n",
    "L'un des avantages les plus important dans le recours à un langage open source est qu'il est open source. Autrement dit, l'intégralité de la documentation à laquelle nous devons nous référer est présente sur internet. \n",
    "    \n",
    "Cela étant, deux trois petites choses à savoir :\n",
    "    \n",
    "- faire ses recherches en anglais (cela aide véritablement !!), ce qui implique d'utiliser les bons mots clefs et de se donner pour lire la documentation en anglais.\n",
    "- se référer à la documentation officielle des packages : sauf rares exception, les packages utilisés sont très standars, utilisés par de nombreuses personnes (parfois créés à l'initiative d'entreprises privées) et donc très bien documentés.\n",
    "- pour des questions précises, poser la question à internet et consulter les forums (Stockoverflow dans beaucoup de cas).\n",
    "    \n",
    "\n",
    "Se rappeler que l'apprentissage de l'informatique passe plus par la pratique que par du par coeur. Par conséquent, quand on est face à un problème, prendre le temps de rélféchir à ce qu'on a déjà rencontré et que l'on pourrait réutiliser."
   ]
  },
  {
   "cell_type": "markdown",
   "id": "e6edb32a",
   "metadata": {},
   "source": [
    "<span style='line-height:1.5;font-size: 17px;font-family:\"Times New Roman\"'>\n",
    "\n",
    "<hr style=\" border: 2.5px solid black;\">\n",
    "<br>\n",
    "    \n",
    "# Quelques exercices    \n",
    "\n",
    "\n",
    "<hr style=\" border: .5px solid black;\">\n",
    "<br>  \n",
    "    \n",
    "__Exercice 1 - Package numpy__ \n",
    "\n",
    "    \n",
    " - A l'aide du package numpy, trouvez un moyen de définir les matrices $2\\times2$ suivantes :\n",
    "    \n",
    "$$A = \n",
    "\\begin{pmatrix}\n",
    "1 & 2 \\\\\n",
    "3 & 4 \\\\\n",
    "\\end{pmatrix}\n",
    "$$\n",
    "    \n",
    "$$B = \n",
    "\\begin{pmatrix}\n",
    "-2 & 1 \\\\\n",
    "1.5 & -0.5 \\\\\n",
    "\\end{pmatrix}\n",
    "$$\n",
    "    \n",
    "    \n",
    "- Faites le produit des deux matrices (attention, ce ne sera pas avec l'opérateur `*`). Que remarque-t-on ?\n",
    "    \n",
    "- Trouvez la fonction permettant de calculer l'inverse d'une matrice. Calculez l'inverse de la matrice B.\n",
    "    \n",
    "- Trouvez la fonction de numpy permattant de claculer la transposée d'un matrice. Calculer la transposée de la matrice A.\n",
    "    \n"
   ]
  },
  {
   "cell_type": "code",
   "execution_count": 61,
   "id": "1a941c46",
   "metadata": {},
   "outputs": [
    {
     "name": "stdout",
     "output_type": "stream",
     "text": [
      "[[1 2]\n",
      " [3 4]]\n",
      "[[-2.   1. ]\n",
      " [ 1.5 -0.5]]\n"
     ]
    }
   ],
   "source": [
    "A = np.array([[1,2],[3,4]])\n",
    "B = np.array([[-2,1],[1.5,-0.5]])\n",
    "\n",
    "print(A)\n",
    "print(B)"
   ]
  },
  {
   "cell_type": "code",
   "execution_count": 62,
   "id": "d3960da1",
   "metadata": {},
   "outputs": [
    {
     "name": "stdout",
     "output_type": "stream",
     "text": [
      "[[1. 0.]\n",
      " [0. 1.]]\n"
     ]
    }
   ],
   "source": [
    "np.matmul(A,B)\n",
    "# OU\n",
    "C = A@B\n",
    "print(C)\n",
    "# B est l'inverse de la matrice A "
   ]
  },
  {
   "cell_type": "code",
   "execution_count": 63,
   "id": "dc8f2fd5",
   "metadata": {
    "scrolled": true
   },
   "outputs": [
    {
     "data": {
      "text/plain": [
       "array([[1., 2.],\n",
       "       [3., 4.]])"
      ]
     },
     "execution_count": 63,
     "metadata": {},
     "output_type": "execute_result"
    }
   ],
   "source": [
    "np.linalg.inv(B)"
   ]
  },
  {
   "cell_type": "code",
   "execution_count": 64,
   "id": "f5865f8a",
   "metadata": {},
   "outputs": [
    {
     "data": {
      "text/plain": [
       "array([[1, 3],\n",
       "       [2, 4]])"
      ]
     },
     "execution_count": 64,
     "metadata": {},
     "output_type": "execute_result"
    }
   ],
   "source": [
    "A.transpose()"
   ]
  },
  {
   "cell_type": "markdown",
   "id": "70d74a7d",
   "metadata": {},
   "source": [
    "<span style='line-height:1.5;font-size: 17px;font-family:\"Times New Roman\"'>\n",
    "<hr style=\" border: .5px solid black;\">\n",
    "<br>  \n",
    "    \n",
    "\n",
    "__Exercice 2 - importation de données avec pandas__ \n",
    "\n",
    "- A l'aide du package pandas, importez les trois bases de données du dossier \"data\":\n",
    "    - fred_okun_multivar.csv\n",
    "    - fred_okun_multivar.txt\n",
    "    - fred_okun_multivar.xlsx\n",
    "    \n"
   ]
  },
  {
   "cell_type": "code",
   "execution_count": 25,
   "id": "2de28d28",
   "metadata": {},
   "outputs": [
    {
     "data": {
      "text/html": [
       "<div>\n",
       "<style scoped>\n",
       "    .dataframe tbody tr th:only-of-type {\n",
       "        vertical-align: middle;\n",
       "    }\n",
       "\n",
       "    .dataframe tbody tr th {\n",
       "        vertical-align: top;\n",
       "    }\n",
       "\n",
       "    .dataframe thead th {\n",
       "        text-align: right;\n",
       "    }\n",
       "</style>\n",
       "<table border=\"1\" class=\"dataframe\">\n",
       "  <thead>\n",
       "    <tr style=\"text-align: right;\">\n",
       "      <th></th>\n",
       "      <th>dates</th>\n",
       "      <th>CBOGDPgap</th>\n",
       "      <th>U3gapCBO</th>\n",
       "      <th>GDPpoReal2012CBO</th>\n",
       "      <th>NaturalRateUn</th>\n",
       "      <th>realGDP2012</th>\n",
       "      <th>unemployementRate</th>\n",
       "      <th>investment</th>\n",
       "    </tr>\n",
       "  </thead>\n",
       "  <tbody>\n",
       "    <tr>\n",
       "      <th>0</th>\n",
       "      <td>15/02/1955</td>\n",
       "      <td>1.637963</td>\n",
       "      <td>1.293333</td>\n",
       "      <td>2762</td>\n",
       "      <td>5.381</td>\n",
       "      <td>2813.212</td>\n",
       "      <td>4.6</td>\n",
       "      <td>312.337</td>\n",
       "    </tr>\n",
       "    <tr>\n",
       "      <th>1</th>\n",
       "      <td>15/05/1955</td>\n",
       "      <td>2.630620</td>\n",
       "      <td>1.960000</td>\n",
       "      <td>2779</td>\n",
       "      <td>5.383</td>\n",
       "      <td>2858.988</td>\n",
       "      <td>4.2</td>\n",
       "      <td>331.333</td>\n",
       "    </tr>\n",
       "    <tr>\n",
       "      <th>2</th>\n",
       "      <td>15/08/1955</td>\n",
       "      <td>3.366125</td>\n",
       "      <td>2.580000</td>\n",
       "      <td>2796</td>\n",
       "      <td>5.386</td>\n",
       "      <td>2897.598</td>\n",
       "      <td>4.1</td>\n",
       "      <td>336.418</td>\n",
       "    </tr>\n",
       "    <tr>\n",
       "      <th>3</th>\n",
       "      <td>15/11/1955</td>\n",
       "      <td>3.314704</td>\n",
       "      <td>2.313333</td>\n",
       "      <td>2813</td>\n",
       "      <td>5.388</td>\n",
       "      <td>2914.993</td>\n",
       "      <td>4.2</td>\n",
       "      <td>344.218</td>\n",
       "    </tr>\n",
       "    <tr>\n",
       "      <th>4</th>\n",
       "      <td>15/02/1956</td>\n",
       "      <td>2.241855</td>\n",
       "      <td>2.713333</td>\n",
       "      <td>2831</td>\n",
       "      <td>5.390</td>\n",
       "      <td>2903.671</td>\n",
       "      <td>4.2</td>\n",
       "      <td>334.390</td>\n",
       "    </tr>\n",
       "    <tr>\n",
       "      <th>...</th>\n",
       "      <td>...</td>\n",
       "      <td>...</td>\n",
       "      <td>...</td>\n",
       "      <td>...</td>\n",
       "      <td>...</td>\n",
       "      <td>...</td>\n",
       "      <td>...</td>\n",
       "      <td>...</td>\n",
       "    </tr>\n",
       "    <tr>\n",
       "      <th>247</th>\n",
       "      <td>15/11/2016</td>\n",
       "      <td>-1.150581</td>\n",
       "      <td>-0.453333</td>\n",
       "      <td>18006</td>\n",
       "      <td>4.621</td>\n",
       "      <td>17876.179</td>\n",
       "      <td>4.7</td>\n",
       "      <td>3147.576</td>\n",
       "    </tr>\n",
       "    <tr>\n",
       "      <th>248</th>\n",
       "      <td>15/02/2017</td>\n",
       "      <td>-0.983594</td>\n",
       "      <td>-0.053333</td>\n",
       "      <td>18081</td>\n",
       "      <td>4.616</td>\n",
       "      <td>17977.299</td>\n",
       "      <td>4.4</td>\n",
       "      <td>3137.735</td>\n",
       "    </tr>\n",
       "    <tr>\n",
       "      <th>249</th>\n",
       "      <td>15/05/2017</td>\n",
       "      <td>-0.959766</td>\n",
       "      <td>0.260000</td>\n",
       "      <td>18158</td>\n",
       "      <td>4.611</td>\n",
       "      <td>18054.052</td>\n",
       "      <td>4.3</td>\n",
       "      <td>3192.776</td>\n",
       "    </tr>\n",
       "    <tr>\n",
       "      <th>250</th>\n",
       "      <td>15/08/2017</td>\n",
       "      <td>-0.651224</td>\n",
       "      <td>0.440000</td>\n",
       "      <td>18236</td>\n",
       "      <td>4.607</td>\n",
       "      <td>18185.636</td>\n",
       "      <td>4.2</td>\n",
       "      <td>3240.998</td>\n",
       "    </tr>\n",
       "    <tr>\n",
       "      <th>251</th>\n",
       "      <td>15/11/2017</td>\n",
       "      <td>-0.127548</td>\n",
       "      <td>0.753333</td>\n",
       "      <td>18316</td>\n",
       "      <td>4.602</td>\n",
       "      <td>18359.432</td>\n",
       "      <td>4.1</td>\n",
       "      <td>3278.391</td>\n",
       "    </tr>\n",
       "  </tbody>\n",
       "</table>\n",
       "<p>252 rows × 8 columns</p>\n",
       "</div>"
      ],
      "text/plain": [
       "          dates  CBOGDPgap  U3gapCBO  GDPpoReal2012CBO  NaturalRateUn  \\\n",
       "0    15/02/1955   1.637963  1.293333              2762          5.381   \n",
       "1    15/05/1955   2.630620  1.960000              2779          5.383   \n",
       "2    15/08/1955   3.366125  2.580000              2796          5.386   \n",
       "3    15/11/1955   3.314704  2.313333              2813          5.388   \n",
       "4    15/02/1956   2.241855  2.713333              2831          5.390   \n",
       "..          ...        ...       ...               ...            ...   \n",
       "247  15/11/2016  -1.150581 -0.453333             18006          4.621   \n",
       "248  15/02/2017  -0.983594 -0.053333             18081          4.616   \n",
       "249  15/05/2017  -0.959766  0.260000             18158          4.611   \n",
       "250  15/08/2017  -0.651224  0.440000             18236          4.607   \n",
       "251  15/11/2017  -0.127548  0.753333             18316          4.602   \n",
       "\n",
       "     realGDP2012  unemployementRate  investment  \n",
       "0       2813.212                4.6     312.337  \n",
       "1       2858.988                4.2     331.333  \n",
       "2       2897.598                4.1     336.418  \n",
       "3       2914.993                4.2     344.218  \n",
       "4       2903.671                4.2     334.390  \n",
       "..           ...                ...         ...  \n",
       "247    17876.179                4.7    3147.576  \n",
       "248    17977.299                4.4    3137.735  \n",
       "249    18054.052                4.3    3192.776  \n",
       "250    18185.636                4.2    3240.998  \n",
       "251    18359.432                4.1    3278.391  \n",
       "\n",
       "[252 rows x 8 columns]"
      ]
     },
     "execution_count": 25,
     "metadata": {},
     "output_type": "execute_result"
    }
   ],
   "source": [
    "path = \"C:\\\\Users\\issak\\\\Documents\\\\M1\\\\Econométrie en Banque-Finance\\\\data_2\\\\\"\n",
    "\n",
    "df_1 = pd.read_csv(path + \"fred_okun_multivar.csv\", sep = \";\")\n",
    "\n",
    "df_2 = pd.read_csv(path + \"fred_okun_multivar.txt\", sep = \";\")\n",
    "\n",
    "df_3 = pd.read_excel(path + \"fred_okun_multivar.xlsx\")\n",
    "\n",
    "df_3"
   ]
  },
  {
   "cell_type": "code",
   "execution_count": null,
   "id": "4ffae983",
   "metadata": {},
   "outputs": [],
   "source": []
  },
  {
   "cell_type": "markdown",
   "id": "36d436ae",
   "metadata": {},
   "source": [
    "<span style='line-height:1.5;font-size: 17px;font-family:\"Times New Roman\"'>\n",
    "<hr style=\" border: .5px solid black;\">\n",
    "<br>  \n",
    "    \n",
    "\n",
    "__Exercice 3 - Statiques descriptives__ \n",
    "\n",
    "Avec la base de données que vous avez importé :     \n",
    "    \n",
    "- Proposez un graphique de la variable `investment`.\n",
    "    \n",
    "- Proposez un graphique histogramme de la variable `unemployement`\n",
    "    \n",
    "- Trouvez une fonction permettant de calculer les corrélations entre toutes les variables.\n",
    "    \n"
   ]
  },
  {
   "cell_type": "code",
   "execution_count": 29,
   "id": "bcfe72df",
   "metadata": {},
   "outputs": [
    {
     "data": {
      "text/plain": [
       "<Axes: >"
      ]
     },
     "execution_count": 29,
     "metadata": {},
     "output_type": "execute_result"
    },
    {
     "data": {
      "image/png": "[encoded data removed]",
      "text/plain": [
       "<Figure size 640x480 with 1 Axes>"
      ]
     },
     "metadata": {},
     "output_type": "display_data"
    }
   ],
   "source": [
    "df_3[[\"investment\", \"dates\"]].plot()"
   ]
  },
  {
   "cell_type": "code",
   "execution_count": 60,
   "id": "2ead546d",
   "metadata": {},
   "outputs": [
    {
     "name": "stderr",
     "output_type": "stream",
     "text": [
      "C:\\Users\\issak\\AppData\\Local\\Temp\\ipykernel_5708\\3695029336.py:2: FutureWarning: The default value of numeric_only in DataFrame.corr is deprecated. In a future version, it will default to False. Select only valid columns or specify the value of numeric_only to silence this warning.\n",
      "  df_3.corr()\n"
     ]
    },
    {
     "data": {
      "text/html": [
       "<div>\n",
       "<style scoped>\n",
       "    .dataframe tbody tr th:only-of-type {\n",
       "        vertical-align: middle;\n",
       "    }\n",
       "\n",
       "    .dataframe tbody tr th {\n",
       "        vertical-align: top;\n",
       "    }\n",
       "\n",
       "    .dataframe thead th {\n",
       "        text-align: right;\n",
       "    }\n",
       "</style>\n",
       "<table border=\"1\" class=\"dataframe\">\n",
       "  <thead>\n",
       "    <tr style=\"text-align: right;\">\n",
       "      <th></th>\n",
       "      <th>CBOGDPgap</th>\n",
       "      <th>U3gapCBO</th>\n",
       "      <th>GDPpoReal2012CBO</th>\n",
       "      <th>NaturalRateUn</th>\n",
       "      <th>realGDP2012</th>\n",
       "      <th>unemployementRate</th>\n",
       "      <th>investment</th>\n",
       "      <th>r_investment</th>\n",
       "      <th>r_realGDP2012</th>\n",
       "      <th>r_unemployementRate</th>\n",
       "    </tr>\n",
       "  </thead>\n",
       "  <tbody>\n",
       "    <tr>\n",
       "      <th>CBOGDPgap</th>\n",
       "      <td>1.000000</td>\n",
       "      <td>0.897106</td>\n",
       "      <td>-0.377396</td>\n",
       "      <td>-0.045075</td>\n",
       "      <td>-0.342559</td>\n",
       "      <td>-0.870698</td>\n",
       "      <td>0.141164</td>\n",
       "      <td>0.078574</td>\n",
       "      <td>0.304677</td>\n",
       "      <td>-0.222395</td>\n",
       "    </tr>\n",
       "    <tr>\n",
       "      <th>U3gapCBO</th>\n",
       "      <td>0.897106</td>\n",
       "      <td>1.000000</td>\n",
       "      <td>-0.398298</td>\n",
       "      <td>-0.092331</td>\n",
       "      <td>-0.363484</td>\n",
       "      <td>-0.944006</td>\n",
       "      <td>-0.041786</td>\n",
       "      <td>0.032854</td>\n",
       "      <td>0.106611</td>\n",
       "      <td>-0.030408</td>\n",
       "    </tr>\n",
       "    <tr>\n",
       "      <th>GDPpoReal2012CBO</th>\n",
       "      <td>-0.377396</td>\n",
       "      <td>-0.398298</td>\n",
       "      <td>1.000000</td>\n",
       "      <td>-0.625685</td>\n",
       "      <td>0.999087</td>\n",
       "      <td>0.154021</td>\n",
       "      <td>-0.040537</td>\n",
       "      <td>-0.006792</td>\n",
       "      <td>-0.167346</td>\n",
       "      <td>-0.066717</td>\n",
       "    </tr>\n",
       "    <tr>\n",
       "      <th>NaturalRateUn</th>\n",
       "      <td>-0.045075</td>\n",
       "      <td>-0.092331</td>\n",
       "      <td>-0.625685</td>\n",
       "      <td>1.000000</td>\n",
       "      <td>-0.637706</td>\n",
       "      <td>0.382122</td>\n",
       "      <td>0.054865</td>\n",
       "      <td>-0.001046</td>\n",
       "      <td>0.079942</td>\n",
       "      <td>0.048119</td>\n",
       "    </tr>\n",
       "    <tr>\n",
       "      <th>realGDP2012</th>\n",
       "      <td>-0.342559</td>\n",
       "      <td>-0.363484</td>\n",
       "      <td>0.999087</td>\n",
       "      <td>-0.637706</td>\n",
       "      <td>1.000000</td>\n",
       "      <td>0.117919</td>\n",
       "      <td>-0.035904</td>\n",
       "      <td>-0.003217</td>\n",
       "      <td>-0.157206</td>\n",
       "      <td>-0.075891</td>\n",
       "    </tr>\n",
       "    <tr>\n",
       "      <th>unemployementRate</th>\n",
       "      <td>-0.870698</td>\n",
       "      <td>-0.944006</td>\n",
       "      <td>0.154021</td>\n",
       "      <td>0.382122</td>\n",
       "      <td>0.117919</td>\n",
       "      <td>1.000000</td>\n",
       "      <td>0.010114</td>\n",
       "      <td>-0.038010</td>\n",
       "      <td>-0.112914</td>\n",
       "      <td>0.124876</td>\n",
       "    </tr>\n",
       "    <tr>\n",
       "      <th>investment</th>\n",
       "      <td>0.141164</td>\n",
       "      <td>-0.041786</td>\n",
       "      <td>-0.040537</td>\n",
       "      <td>0.054865</td>\n",
       "      <td>-0.035904</td>\n",
       "      <td>0.010114</td>\n",
       "      <td>1.000000</td>\n",
       "      <td>-0.007248</td>\n",
       "      <td>0.815186</td>\n",
       "      <td>-0.571620</td>\n",
       "    </tr>\n",
       "    <tr>\n",
       "      <th>r_investment</th>\n",
       "      <td>0.078574</td>\n",
       "      <td>0.032854</td>\n",
       "      <td>-0.006792</td>\n",
       "      <td>-0.001046</td>\n",
       "      <td>-0.003217</td>\n",
       "      <td>-0.038010</td>\n",
       "      <td>-0.007248</td>\n",
       "      <td>1.000000</td>\n",
       "      <td>0.024762</td>\n",
       "      <td>-0.003305</td>\n",
       "    </tr>\n",
       "    <tr>\n",
       "      <th>r_realGDP2012</th>\n",
       "      <td>0.304677</td>\n",
       "      <td>0.106611</td>\n",
       "      <td>-0.167346</td>\n",
       "      <td>0.079942</td>\n",
       "      <td>-0.157206</td>\n",
       "      <td>-0.112914</td>\n",
       "      <td>0.815186</td>\n",
       "      <td>0.024762</td>\n",
       "      <td>1.000000</td>\n",
       "      <td>-0.643205</td>\n",
       "    </tr>\n",
       "    <tr>\n",
       "      <th>r_unemployementRate</th>\n",
       "      <td>-0.222395</td>\n",
       "      <td>-0.030408</td>\n",
       "      <td>-0.066717</td>\n",
       "      <td>0.048119</td>\n",
       "      <td>-0.075891</td>\n",
       "      <td>0.124876</td>\n",
       "      <td>-0.571620</td>\n",
       "      <td>-0.003305</td>\n",
       "      <td>-0.643205</td>\n",
       "      <td>1.000000</td>\n",
       "    </tr>\n",
       "  </tbody>\n",
       "</table>\n",
       "</div>"
      ],
      "text/plain": [
       "                     CBOGDPgap  U3gapCBO  GDPpoReal2012CBO  NaturalRateUn  \\\n",
       "CBOGDPgap             1.000000  0.897106         -0.377396      -0.045075   \n",
       "U3gapCBO              0.897106  1.000000         -0.398298      -0.092331   \n",
       "GDPpoReal2012CBO     -0.377396 -0.398298          1.000000      -0.625685   \n",
       "NaturalRateUn        -0.045075 -0.092331         -0.625685       1.000000   \n",
       "realGDP2012          -0.342559 -0.363484          0.999087      -0.637706   \n",
       "unemployementRate    -0.870698 -0.944006          0.154021       0.382122   \n",
       "investment            0.141164 -0.041786         -0.040537       0.054865   \n",
       "r_investment          0.078574  0.032854         -0.006792      -0.001046   \n",
       "r_realGDP2012         0.304677  0.106611         -0.167346       0.079942   \n",
       "r_unemployementRate  -0.222395 -0.030408         -0.066717       0.048119   \n",
       "\n",
       "                     realGDP2012  unemployementRate  investment  r_investment  \\\n",
       "CBOGDPgap              -0.342559          -0.870698    0.141164      0.078574   \n",
       "U3gapCBO               -0.363484          -0.944006   -0.041786      0.032854   \n",
       "GDPpoReal2012CBO        0.999087           0.154021   -0.040537     -0.006792   \n",
       "NaturalRateUn          -0.637706           0.382122    0.054865     -0.001046   \n",
       "realGDP2012             1.000000           0.117919   -0.035904     -0.003217   \n",
       "unemployementRate       0.117919           1.000000    0.010114     -0.038010   \n",
       "investment             -0.035904           0.010114    1.000000     -0.007248   \n",
       "r_investment           -0.003217          -0.038010   -0.007248      1.000000   \n",
       "r_realGDP2012          -0.157206          -0.112914    0.815186      0.024762   \n",
       "r_unemployementRate    -0.075891           0.124876   -0.571620     -0.003305   \n",
       "\n",
       "                     r_realGDP2012  r_unemployementRate  \n",
       "CBOGDPgap                 0.304677            -0.222395  \n",
       "U3gapCBO                  0.106611            -0.030408  \n",
       "GDPpoReal2012CBO         -0.167346            -0.066717  \n",
       "NaturalRateUn             0.079942             0.048119  \n",
       "realGDP2012              -0.157206            -0.075891  \n",
       "unemployementRate        -0.112914             0.124876  \n",
       "investment                0.815186            -0.571620  \n",
       "r_investment              0.024762            -0.003305  \n",
       "r_realGDP2012             1.000000            -0.643205  \n",
       "r_unemployementRate      -0.643205             1.000000  "
      ]
     },
     "execution_count": 60,
     "metadata": {},
     "output_type": "execute_result"
    },
    {
     "data": {
      "image/png": "[encoded data removed]",
      "text/plain": [
       "<Figure size 640x480 with 1 Axes>"
      ]
     },
     "metadata": {},
     "output_type": "display_data"
    }
   ],
   "source": [
    "df_3.hist('unemployementRate')\n",
    "df_3.corr()"
   ]
  },
  {
   "cell_type": "code",
   "execution_count": null,
   "id": "453063b3",
   "metadata": {},
   "outputs": [],
   "source": []
  },
  {
   "cell_type": "markdown",
   "id": "897ebd7b",
   "metadata": {},
   "source": [
    "<span style='line-height:1.5;font-size: 17px;font-family:\"Times New Roman\"'>\n",
    "<hr style=\" border: .5px solid black;\">\n",
    "<br>  \n",
    "    \n",
    "\n",
    "__Exercice 4 - Manipulation de données__ \n",
    "\n",
    "- Créez un nouveau dataframe ne contenant que les lignes pour lesquelles le PIB réel est supérieur à 2700.\n",
    "    \n",
    "- Créez un nouveau dataframe ne contenant que les lignes pour lesquelles le taux de chômage est supérieur à 5%.    \n",
    "    \n",
    "- Calculez le taux de croissance des variables `investment`, `realGDP2012`, et `unemployementRate` et enregistrez ces nouvelles variables dans des colonnes\n",
    "    \n",
    "- Créez une colonne (nommée la `cste`) ne contenant que des `1`\n",
    "    \n",
    "- Enregistrez le dataframe avec le taux de croissance au format `.txt`\n",
    "    \n",
    "- A partir du dataframe, créez une matrice (`numpy`) appelée `X` et contenant les taux de croissance de `investment` et `realGDP2012`.\n",
    "    \n",
    "- De même créez un matrice appelée `y` ne contenant que la variable `unemployementRate`"
   ]
  },
  {
   "cell_type": "code",
   "execution_count": 57,
   "id": "ff5c8962",
   "metadata": {},
   "outputs": [
    {
     "ename": "ValueError",
     "evalue": "Length of values (1) does not match length of index (252)",
     "output_type": "error",
     "traceback": [
      "\u001b[1;31m---------------------------------------------------------------------------\u001b[0m",
      "\u001b[1;31mValueError\u001b[0m                                Traceback (most recent call last)",
      "Cell \u001b[1;32mIn[57], line 16\u001b[0m\n\u001b[0;32m     14\u001b[0m     \u001b[38;5;28;01mif\u001b[39;00m i \u001b[38;5;241m!=\u001b[39m \u001b[38;5;241m0\u001b[39m :\n\u001b[0;32m     15\u001b[0m         cste\u001b[38;5;241m.\u001b[39mappend(\u001b[38;5;241m1\u001b[39m)\n\u001b[1;32m---> 16\u001b[0m         df_3[\u001b[38;5;124m\"\u001b[39m\u001b[38;5;124mcste\u001b[39m\u001b[38;5;124m\"\u001b[39m] \u001b[38;5;241m=\u001b[39m cste\n\u001b[0;32m     18\u001b[0m \u001b[38;5;28mprint\u001b[39m(df_3)\n",
      "File \u001b[1;32m~\\anaconda3\\Lib\\site-packages\\pandas\\core\\frame.py:3980\u001b[0m, in \u001b[0;36mDataFrame.__setitem__\u001b[1;34m(self, key, value)\u001b[0m\n\u001b[0;32m   3977\u001b[0m     \u001b[38;5;28mself\u001b[39m\u001b[38;5;241m.\u001b[39m_setitem_array([key], value)\n\u001b[0;32m   3978\u001b[0m \u001b[38;5;28;01melse\u001b[39;00m:\n\u001b[0;32m   3979\u001b[0m     \u001b[38;5;66;03m# set column\u001b[39;00m\n\u001b[1;32m-> 3980\u001b[0m     \u001b[38;5;28mself\u001b[39m\u001b[38;5;241m.\u001b[39m_set_item(key, value)\n",
      "File \u001b[1;32m~\\anaconda3\\Lib\\site-packages\\pandas\\core\\frame.py:4174\u001b[0m, in \u001b[0;36mDataFrame._set_item\u001b[1;34m(self, key, value)\u001b[0m\n\u001b[0;32m   4164\u001b[0m \u001b[38;5;28;01mdef\u001b[39;00m \u001b[38;5;21m_set_item\u001b[39m(\u001b[38;5;28mself\u001b[39m, key, value) \u001b[38;5;241m-\u001b[39m\u001b[38;5;241m>\u001b[39m \u001b[38;5;28;01mNone\u001b[39;00m:\n\u001b[0;32m   4165\u001b[0m \u001b[38;5;250m    \u001b[39m\u001b[38;5;124;03m\"\"\"\u001b[39;00m\n\u001b[0;32m   4166\u001b[0m \u001b[38;5;124;03m    Add series to DataFrame in specified column.\u001b[39;00m\n\u001b[0;32m   4167\u001b[0m \n\u001b[1;32m   (...)\u001b[0m\n\u001b[0;32m   4172\u001b[0m \u001b[38;5;124;03m    ensure homogeneity.\u001b[39;00m\n\u001b[0;32m   4173\u001b[0m \u001b[38;5;124;03m    \"\"\"\u001b[39;00m\n\u001b[1;32m-> 4174\u001b[0m     value \u001b[38;5;241m=\u001b[39m \u001b[38;5;28mself\u001b[39m\u001b[38;5;241m.\u001b[39m_sanitize_column(value)\n\u001b[0;32m   4176\u001b[0m     \u001b[38;5;28;01mif\u001b[39;00m (\n\u001b[0;32m   4177\u001b[0m         key \u001b[38;5;129;01min\u001b[39;00m \u001b[38;5;28mself\u001b[39m\u001b[38;5;241m.\u001b[39mcolumns\n\u001b[0;32m   4178\u001b[0m         \u001b[38;5;129;01mand\u001b[39;00m value\u001b[38;5;241m.\u001b[39mndim \u001b[38;5;241m==\u001b[39m \u001b[38;5;241m1\u001b[39m\n\u001b[0;32m   4179\u001b[0m         \u001b[38;5;129;01mand\u001b[39;00m \u001b[38;5;129;01mnot\u001b[39;00m is_extension_array_dtype(value)\n\u001b[0;32m   4180\u001b[0m     ):\n\u001b[0;32m   4181\u001b[0m         \u001b[38;5;66;03m# broadcast across multiple columns if necessary\u001b[39;00m\n\u001b[0;32m   4182\u001b[0m         \u001b[38;5;28;01mif\u001b[39;00m \u001b[38;5;129;01mnot\u001b[39;00m \u001b[38;5;28mself\u001b[39m\u001b[38;5;241m.\u001b[39mcolumns\u001b[38;5;241m.\u001b[39mis_unique \u001b[38;5;129;01mor\u001b[39;00m \u001b[38;5;28misinstance\u001b[39m(\u001b[38;5;28mself\u001b[39m\u001b[38;5;241m.\u001b[39mcolumns, MultiIndex):\n",
      "File \u001b[1;32m~\\anaconda3\\Lib\\site-packages\\pandas\\core\\frame.py:4915\u001b[0m, in \u001b[0;36mDataFrame._sanitize_column\u001b[1;34m(self, value)\u001b[0m\n\u001b[0;32m   4912\u001b[0m     \u001b[38;5;28;01mreturn\u001b[39;00m _reindex_for_setitem(Series(value), \u001b[38;5;28mself\u001b[39m\u001b[38;5;241m.\u001b[39mindex)\n\u001b[0;32m   4914\u001b[0m \u001b[38;5;28;01mif\u001b[39;00m is_list_like(value):\n\u001b[1;32m-> 4915\u001b[0m     com\u001b[38;5;241m.\u001b[39mrequire_length_match(value, \u001b[38;5;28mself\u001b[39m\u001b[38;5;241m.\u001b[39mindex)\n\u001b[0;32m   4916\u001b[0m \u001b[38;5;28;01mreturn\u001b[39;00m sanitize_array(value, \u001b[38;5;28mself\u001b[39m\u001b[38;5;241m.\u001b[39mindex, copy\u001b[38;5;241m=\u001b[39m\u001b[38;5;28;01mTrue\u001b[39;00m, allow_2d\u001b[38;5;241m=\u001b[39m\u001b[38;5;28;01mTrue\u001b[39;00m)\n",
      "File \u001b[1;32m~\\anaconda3\\Lib\\site-packages\\pandas\\core\\common.py:571\u001b[0m, in \u001b[0;36mrequire_length_match\u001b[1;34m(data, index)\u001b[0m\n\u001b[0;32m    567\u001b[0m \u001b[38;5;250m\u001b[39m\u001b[38;5;124;03m\"\"\"\u001b[39;00m\n\u001b[0;32m    568\u001b[0m \u001b[38;5;124;03mCheck the length of data matches the length of the index.\u001b[39;00m\n\u001b[0;32m    569\u001b[0m \u001b[38;5;124;03m\"\"\"\u001b[39;00m\n\u001b[0;32m    570\u001b[0m \u001b[38;5;28;01mif\u001b[39;00m \u001b[38;5;28mlen\u001b[39m(data) \u001b[38;5;241m!=\u001b[39m \u001b[38;5;28mlen\u001b[39m(index):\n\u001b[1;32m--> 571\u001b[0m     \u001b[38;5;28;01mraise\u001b[39;00m \u001b[38;5;167;01mValueError\u001b[39;00m(\n\u001b[0;32m    572\u001b[0m         \u001b[38;5;124m\"\u001b[39m\u001b[38;5;124mLength of values \u001b[39m\u001b[38;5;124m\"\u001b[39m\n\u001b[0;32m    573\u001b[0m         \u001b[38;5;124mf\u001b[39m\u001b[38;5;124m\"\u001b[39m\u001b[38;5;124m(\u001b[39m\u001b[38;5;132;01m{\u001b[39;00m\u001b[38;5;28mlen\u001b[39m(data)\u001b[38;5;132;01m}\u001b[39;00m\u001b[38;5;124m) \u001b[39m\u001b[38;5;124m\"\u001b[39m\n\u001b[0;32m    574\u001b[0m         \u001b[38;5;124m\"\u001b[39m\u001b[38;5;124mdoes not match length of index \u001b[39m\u001b[38;5;124m\"\u001b[39m\n\u001b[0;32m    575\u001b[0m         \u001b[38;5;124mf\u001b[39m\u001b[38;5;124m\"\u001b[39m\u001b[38;5;124m(\u001b[39m\u001b[38;5;132;01m{\u001b[39;00m\u001b[38;5;28mlen\u001b[39m(index)\u001b[38;5;132;01m}\u001b[39;00m\u001b[38;5;124m)\u001b[39m\u001b[38;5;124m\"\u001b[39m\n\u001b[0;32m    576\u001b[0m     )\n",
      "\u001b[1;31mValueError\u001b[0m: Length of values (1) does not match length of index (252)"
     ]
    }
   ],
   "source": [
    "df_4 = df_3[df_3['realGDP2012']>2700]\n",
    "\n",
    "df_5 = df_3[df_3['unemployementRate']>5]\n",
    "\n",
    "df_3['r_investment'] = 100 * ( df_3['investment']/df_3['investment'].shift(1) - 1 )\n",
    "\n",
    "df_3['r_realGDP2012'] = 100 * ( df_3['realGDP2012']/df_3['realGDP2012'].shift(1) - 1 )\n",
    "\n",
    "df_3['r_unemployementRate'] = 100 * ( df_3['unemployementRate']/df_3['unemployementRate'].shift(1) - 1 )\n",
    "\n",
    "cste = []\n",
    "\n",
    "for i in df_3 :\n",
    "    if i != 0 :\n",
    "        cste.append(1)\n",
    "\n",
    "df_3[\"cste\"] = cste\n",
    "\n",
    "print(df_3)\n",
    "\n",
    "\n"
   ]
  },
  {
   "cell_type": "code",
   "execution_count": null,
   "id": "5d28dc47",
   "metadata": {},
   "outputs": [],
   "source": []
  },
  {
   "cell_type": "code",
   "execution_count": null,
   "id": "79ab4f79",
   "metadata": {},
   "outputs": [],
   "source": []
  },
  {
   "cell_type": "markdown",
   "id": "f15cf3ca",
   "metadata": {},
   "source": [
    "<span style='line-height:1.5;font-size: 17px;font-family:\"Times New Roman\"'>\n",
    "<hr style=\" border: .5px solid black;\">\n",
    "<br>  \n",
    "    \n",
    "\n",
    "__Exercice 5 - Estimation sous statsmodels__ \n",
    "\n",
    "A l'aide du package statsmodels, utilisez la méthode des moindres carrés ordinaires pour estimer le modèle suivant :\n",
    "    \n",
    "$$ y_t = \\beta X_t + \\epsilon_t$$"
   ]
  },
  {
   "cell_type": "code",
   "execution_count": null,
   "id": "dfc9b652",
   "metadata": {},
   "outputs": [],
   "source": []
  }
 ],
 "metadata": {
  "kernelspec": {
   "display_name": "Python 3 (ipykernel)",
   "language": "python",
   "name": "python3"
  },
  "language_info": {
   "codemirror_mode": {
    "name": "ipython",
    "version": 3
   },
   "file_extension": ".py",
   "mimetype": "text/x-python",
   "name": "python",
   "nbconvert_exporter": "python",
   "pygments_lexer": "ipython3",
   "version": "3.11.4"
  },
  "toc": {
   "base_numbering": 1,
   "nav_menu": {},
   "number_sections": true,
   "sideBar": true,
   "skip_h1_title": false,
   "title_cell": "Table of Contents",
   "title_sidebar": "Contents",
   "toc_cell": false,
   "toc_position": {},
   "toc_section_display": true,
   "toc_window_display": false
  },
  "varInspector": {
   "cols": {
    "lenName": 16,
    "lenType": 16,
    "lenVar": 40
   },
   "kernels_config": {
    "python": {
     "delete_cmd_postfix": "",
     "delete_cmd_prefix": "del ",
     "library": "var_list.py",
     "varRefreshCmd": "print(var_dic_list())"
    },
    "r": {
     "delete_cmd_postfix": ") ",
     "delete_cmd_prefix": "rm(",
     "library": "var_list.r",
     "varRefreshCmd": "cat(var_dic_list()) "
    }
   },
   "types_to_exclude": [
    "module",
    "function",
    "builtin_function_or_method",
    "instance",
    "_Feature"
   ],
   "window_display": false
  }
 },
 "nbformat": 4,
 "nbformat_minor": 5
}
