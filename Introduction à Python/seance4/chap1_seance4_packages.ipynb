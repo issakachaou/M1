{
 "cells": [
  {
   "cell_type": "markdown",
   "id": "e2289834",
   "metadata": {},
   "source": [
    "<span style='line-height:1.5;font-size: 17px;font-family:\"Times New Roman\"'>\n",
    "\n",
    "\n",
    "<b><center><font size=\"6\">Introduction à python - Séance 4</font></center></b>\n",
    "\n",
    "<b><center><font size=\"6\">Exercices sur la gestion des packages</font></center></b>\n",
    "    \n",
    "<g><h7><center> CM - P. Durand  - pierre.durand@u-pec.fr </center></h7></g>\n",
    "\n",
    "\n",
    "\n",
    "<b><center><font size=\"5\">M1 - 2022-2023</font></center></b> \n",
    "\n",
    "\n",
    "\n",
    "</span>"
   ]
  },
  {
   "cell_type": "markdown",
   "id": "0c35df63",
   "metadata": {},
   "source": [
    "<span style='line-height:1.5;font-size: 17px;font-family:\"Times New Roman\"'>\n",
    "\n",
    "\n",
    "\n",
    "<hr style=\" border: 2.5px solid black;\">\n",
    "<br>\n",
    "\n",
    "__Plan du cours__\n",
    "<br>\n",
    "\n",
    "- Partie I : introduction et appréhension du langage python \n",
    "    - Séance 1 - variables et syntaxe de base\n",
    "    - Séance 2 - boucles et structure conditionnelle - exercices d'application\n",
    "    - Séance 3 - exercices d'application : utilisation et combinaison des outils acquis\n",
    "    - <b>Séance 4 - exercices d'application : prise d'autonomie sur la recherche d'information</b>\n",
    "    \n",
    "- Partie II : apprendre à coder\n",
    "    - Séance 5 - fonctions sous python - exercices d'application\n",
    "    - Séance 6 - exercices d'application : coder des fonctions simples\n",
    "    - Séance 7 - bases de données et manipulation des données sous python - exercices d'application\n",
    "    - Séance 8 - exercices d'application : manipulation de bases de données\n",
    "    - Séance 9 - exercices d'application : restitution des connaissances de l'ensemble du cours\n",
    "    \n",
    "- Partie III : prise de recul sur un code python\n",
    "    - Séance 10 - commenter un code et utiliser ChatGPT \n",
    "    \n",
    "    \n",
    "    \n",
    "    \n",
    "<hr style=\" border: 2.5px solid black;\">\n",
    "<br>\n",
    "    \n",
    "    \n",
    "#  Qu'est-ce qu'un package ? \n",
    "\n",
    "Un package (ou un module, ou encore une librairie) est un fichier .py dans lequel réside une/plusieurs fonctions et/ou classes que nous souhaitons utiliser dans notre travail.\n",
    "\n",
    "Dans notre cours, nous utiliserons quelques packages utiles pour la gestion de données et pour la modélisation économétrique (voir plus bas). De plus, Python vient avec un certains nombres de modules de bases appellés modules \"built-in\". En voici la liste : https://docs.python.org/3/library/\n",
    "\n",
    "\n",
    "Le mot clé réservé pour importer un module est <b>\"import\"</b>. Il est une bonne pratique d'importer tout les modules en début de fichier dans une même cellule. \n",
    "\n",
    "Exemple : "
   ]
  },
  {
   "cell_type": "code",
   "execution_count": 10,
   "id": "5ae157dd",
   "metadata": {
    "ExecuteTime": {
     "end_time": "2023-10-05T09:58:09.739617Z",
     "start_time": "2023-10-05T09:58:09.723359Z"
    }
   },
   "outputs": [],
   "source": [
    "import numpy "
   ]
  },
  {
   "cell_type": "code",
   "execution_count": 11,
   "id": "bc860320",
   "metadata": {
    "ExecuteTime": {
     "end_time": "2023-10-05T09:58:10.027968Z",
     "start_time": "2023-10-05T09:58:10.003977Z"
    }
   },
   "outputs": [
    {
     "data": {
      "text/plain": [
       "2.0"
      ]
     },
     "execution_count": 11,
     "metadata": {},
     "output_type": "execute_result"
    }
   ],
   "source": [
    "numpy.floor(2.6)"
   ]
  },
  {
   "cell_type": "code",
   "execution_count": 12,
   "id": "d1556fde",
   "metadata": {
    "ExecuteTime": {
     "end_time": "2023-10-05T09:58:10.524168Z",
     "start_time": "2023-10-05T09:58:10.504088Z"
    }
   },
   "outputs": [
    {
     "name": "stdout",
     "output_type": "stream",
     "text": [
      "2.0\n"
     ]
    }
   ],
   "source": [
    "a = numpy.floor(2.6)\n",
    "\n",
    "print(a)"
   ]
  },
  {
   "cell_type": "code",
   "execution_count": 13,
   "id": "d7788a90",
   "metadata": {
    "ExecuteTime": {
     "end_time": "2023-10-05T09:58:11.071157Z",
     "start_time": "2023-10-05T09:58:11.061889Z"
    }
   },
   "outputs": [
    {
     "data": {
      "text/plain": [
       "2.0"
      ]
     },
     "execution_count": 13,
     "metadata": {},
     "output_type": "execute_result"
    }
   ],
   "source": [
    "numpy.floor(2.654684)"
   ]
  },
  {
   "cell_type": "code",
   "execution_count": 3,
   "id": "ac32b9e8",
   "metadata": {},
   "outputs": [],
   "source": [
    "import numpy as np"
   ]
  },
  {
   "cell_type": "code",
   "execution_count": 14,
   "id": "78feecfb",
   "metadata": {
    "ExecuteTime": {
     "end_time": "2023-10-05T09:58:13.573771Z",
     "start_time": "2023-10-05T09:58:13.552649Z"
    }
   },
   "outputs": [
    {
     "name": "stdout",
     "output_type": "stream",
     "text": [
      "2.0\n"
     ]
    }
   ],
   "source": [
    "a = np.floor(2.6)\n",
    "\n",
    "print(a)"
   ]
  },
  {
   "cell_type": "code",
   "execution_count": 9,
   "id": "a83d7ef9",
   "metadata": {
    "ExecuteTime": {
     "end_time": "2022-09-29T12:13:02.601147Z",
     "start_time": "2022-09-29T12:13:02.586011Z"
    }
   },
   "outputs": [],
   "source": [
    "from numpy import floor "
   ]
  },
  {
   "cell_type": "code",
   "execution_count": 10,
   "id": "acc72aaa",
   "metadata": {
    "ExecuteTime": {
     "end_time": "2022-09-29T12:13:10.269025Z",
     "start_time": "2022-09-29T12:13:10.253294Z"
    }
   },
   "outputs": [
    {
     "name": "stdout",
     "output_type": "stream",
     "text": [
      "2.0\n"
     ]
    }
   ],
   "source": [
    "a = floor(2.6)\n",
    "\n",
    "print(a)"
   ]
  },
  {
   "cell_type": "code",
   "execution_count": 11,
   "id": "4e91e365",
   "metadata": {
    "ExecuteTime": {
     "end_time": "2022-09-29T12:22:49.809101Z",
     "start_time": "2022-09-29T12:22:49.765573Z"
    }
   },
   "outputs": [
    {
     "data": {
      "text/plain": [
       "array([-2., -2., -1.,  0.,  1.,  1.,  2.])"
      ]
     },
     "execution_count": 11,
     "metadata": {},
     "output_type": "execute_result"
    }
   ],
   "source": [
    "a = np.array([-1.7, -1.5, -0.2, 0.2, 1.5, 1.7, 2.0])\n",
    "\n",
    "np.floor(a)\n"
   ]
  },
  {
   "cell_type": "code",
   "execution_count": null,
   "id": "1176c0d9",
   "metadata": {},
   "outputs": [],
   "source": [
    "# pour toutes les fonctions\n",
    "from numpy import *"
   ]
  },
  {
   "cell_type": "markdown",
   "id": "a1745dde",
   "metadata": {},
   "source": [
    "<span style='line-height:1.5;font-size: 17px;font-family:\"Times New Roman\"'>\n",
    "\n",
    "Les principaux packages utilisés tout au long de ce cours sont les suivants : \n",
    "\n",
    "    \n",
    "Pour la manipulation algébrique et de base de données :    \n",
    "- Numpy\n",
    "- Pandas\n",
    "    \n",
    "Pour la modélisation :\n",
    "- StatsModels\n",
    "- ScikitLearn\n",
    "    \n",
    "Pour la visualisation et les statistiques descriptives :     \n",
    "- Seaborn\n",
    "- matplolitb\n",
    "    \n",
    "    \n",
    "    \n",
    "## Quelques exemples "
   ]
  },
  {
   "cell_type": "code",
   "execution_count": 2,
   "id": "56780746",
   "metadata": {
    "ExecuteTime": {
     "end_time": "2022-09-20T08:54:50.601459Z",
     "start_time": "2022-09-20T08:54:49.859319Z"
    }
   },
   "outputs": [],
   "source": [
    "import pandas as pd\n",
    "\n",
    "from numpy import random as rn "
   ]
  },
  {
   "cell_type": "code",
   "execution_count": 3,
   "id": "b6e2b64b",
   "metadata": {
    "ExecuteTime": {
     "end_time": "2022-09-20T08:54:50.638230Z",
     "start_time": "2022-09-20T08:54:50.616982Z"
    }
   },
   "outputs": [],
   "source": [
    "df = pd.DataFrame(data = {\"année\" : [i for i in range(1930,2020)],\n",
    "                         \"col1\":rn.normal(0,1,90),\n",
    "                         \"col2\":rn.normal(10,2.6,90)}) "
   ]
  },
  {
   "cell_type": "code",
   "execution_count": 16,
   "id": "0ca112dc",
   "metadata": {
    "ExecuteTime": {
     "end_time": "2022-09-19T21:08:33.932271Z",
     "start_time": "2022-09-19T21:08:33.922236Z"
    }
   },
   "outputs": [
    {
     "data": {
      "text/html": [
       "<div>\n",
       "<style scoped>\n",
       "    .dataframe tbody tr th:only-of-type {\n",
       "        vertical-align: middle;\n",
       "    }\n",
       "\n",
       "    .dataframe tbody tr th {\n",
       "        vertical-align: top;\n",
       "    }\n",
       "\n",
       "    .dataframe thead th {\n",
       "        text-align: right;\n",
       "    }\n",
       "</style>\n",
       "<table border=\"1\" class=\"dataframe\">\n",
       "  <thead>\n",
       "    <tr style=\"text-align: right;\">\n",
       "      <th></th>\n",
       "      <th>année</th>\n",
       "      <th>col1</th>\n",
       "      <th>col2</th>\n",
       "    </tr>\n",
       "  </thead>\n",
       "  <tbody>\n",
       "    <tr>\n",
       "      <th>0</th>\n",
       "      <td>1930</td>\n",
       "      <td>-1.471817</td>\n",
       "      <td>9.752052</td>\n",
       "    </tr>\n",
       "    <tr>\n",
       "      <th>1</th>\n",
       "      <td>1931</td>\n",
       "      <td>0.281857</td>\n",
       "      <td>9.469026</td>\n",
       "    </tr>\n",
       "    <tr>\n",
       "      <th>2</th>\n",
       "      <td>1932</td>\n",
       "      <td>-0.202365</td>\n",
       "      <td>6.510674</td>\n",
       "    </tr>\n",
       "    <tr>\n",
       "      <th>3</th>\n",
       "      <td>1933</td>\n",
       "      <td>1.416950</td>\n",
       "      <td>7.945964</td>\n",
       "    </tr>\n",
       "    <tr>\n",
       "      <th>4</th>\n",
       "      <td>1934</td>\n",
       "      <td>0.362555</td>\n",
       "      <td>11.525777</td>\n",
       "    </tr>\n",
       "  </tbody>\n",
       "</table>\n",
       "</div>"
      ],
      "text/plain": [
       "   année      col1       col2\n",
       "0   1930 -1.471817   9.752052\n",
       "1   1931  0.281857   9.469026\n",
       "2   1932 -0.202365   6.510674\n",
       "3   1933  1.416950   7.945964\n",
       "4   1934  0.362555  11.525777"
      ]
     },
     "execution_count": 16,
     "metadata": {},
     "output_type": "execute_result"
    }
   ],
   "source": [
    "df.head()"
   ]
  },
  {
   "cell_type": "code",
   "execution_count": 17,
   "id": "238776b8",
   "metadata": {
    "ExecuteTime": {
     "end_time": "2022-09-19T21:08:34.759672Z",
     "start_time": "2022-09-19T21:08:34.692270Z"
    }
   },
   "outputs": [
    {
     "data": {
      "text/plain": [
       "<AxesSubplot:>"
      ]
     },
     "execution_count": 17,
     "metadata": {},
     "output_type": "execute_result"
    },
    {
     "data": {
      "image/png": "[encoded data removed]",
      "text/plain": [
       "<Figure size 432x288 with 1 Axes>"
      ]
     },
     "metadata": {
      "needs_background": "light"
     },
     "output_type": "display_data"
    }
   ],
   "source": [
    "df[[\"col1\"]].plot()"
   ]
  },
  {
   "cell_type": "code",
   "execution_count": 18,
   "id": "a59a28b9",
   "metadata": {
    "ExecuteTime": {
     "end_time": "2022-09-19T21:08:37.233332Z",
     "start_time": "2022-09-19T21:08:37.227330Z"
    }
   },
   "outputs": [],
   "source": [
    "import matplotlib.pyplot as plt\n",
    "import seaborn as sns "
   ]
  },
  {
   "cell_type": "code",
   "execution_count": 26,
   "id": "b165452a",
   "metadata": {
    "ExecuteTime": {
     "end_time": "2022-09-19T21:11:38.339138Z",
     "start_time": "2022-09-19T21:11:38.258835Z"
    }
   },
   "outputs": [
    {
     "data": {
      "image/png": "[encoded data removed]",
      "text/plain": [
       "<Figure size 432x288 with 1 Axes>"
      ]
     },
     "metadata": {
      "needs_background": "light"
     },
     "output_type": "display_data"
    }
   ],
   "source": [
    "plt.scatter(df[\"col1\"], df[\"col2\"])\n",
    "plt.show()"
   ]
  },
  {
   "cell_type": "code",
   "execution_count": 22,
   "id": "3a9efed4",
   "metadata": {
    "ExecuteTime": {
     "end_time": "2022-09-19T21:09:37.596991Z",
     "start_time": "2022-09-19T21:09:37.531865Z"
    }
   },
   "outputs": [
    {
     "data": {
      "image/png": "[encoded data removed]",
      "text/plain": [
       "<Figure size 432x288 with 1 Axes>"
      ]
     },
     "metadata": {
      "needs_background": "light"
     },
     "output_type": "display_data"
    }
   ],
   "source": [
    "x = rn.normal(0,1,100)\n",
    "\n",
    "sns.kdeplot(x, shade=True, color=\"r\")\n",
    "\n",
    "\n",
    "plt.xlabel('Values',fontsize=12)\n",
    "plt.ylabel('Probability', fontsize=12)\n",
    "plt.title('Histogram of 100 observations of a normal', fontsize=15)\n",
    "\n",
    "plt.show()"
   ]
  },
  {
   "cell_type": "code",
   "execution_count": 23,
   "id": "33a41c83",
   "metadata": {
    "ExecuteTime": {
     "end_time": "2022-09-19T21:09:42.657812Z",
     "start_time": "2022-09-19T21:09:42.580343Z"
    }
   },
   "outputs": [
    {
     "data": {
      "image/png": "[encoded data removed]",
      "text/plain": [
       "<Figure size 432x288 with 1 Axes>"
      ]
     },
     "metadata": {
      "needs_background": "light"
     },
     "output_type": "display_data"
    }
   ],
   "source": [
    "x = rn.normal(0,1,1000)\n",
    "\n",
    "sns.kdeplot(x, shade=True, color=\"r\")\n",
    "\n",
    "\n",
    "plt.xlabel('Values',fontsize=12)\n",
    "plt.ylabel('Probability', fontsize=12)\n",
    "plt.title('Histogram of 1000 observations of a normal', fontsize=15)\n",
    "\n",
    "plt.show()"
   ]
  },
  {
   "cell_type": "markdown",
   "id": "7b505bd1",
   "metadata": {},
   "source": [
    "<span style='line-height:1.5;font-size: 17px;font-family:\"Times New Roman\"'>\n",
    "\n",
    "<hr style=\" border: 2.5px solid black;\">\n",
    "<br>\n",
    "    \n",
    "## Petits conseils pratiques   \n",
    "\n",
    "Comment se renseigner ? \n",
    "    \n",
    "L'un des avantages les plus important dans le recours à un langage open source est qu'il est open source. Autrement dit, l'intégralité de la documentation à laquelle nous devons nous référer est présente sur internet. \n",
    "    \n",
    "Cela étant, deux trois petites choses à savoir :\n",
    "    \n",
    "- faire ses recherches en anglais (cela aide véritablement !!), ce qui implique d'utiliser les bons mots clefs et de se donner pour lire la documentation en anglais.\n",
    "- se référer à la documentation officielle des packages : sauf rares exception, les packages utilisés sont très standars, utilisés par de nombreuses personnes (parfois créés à l'initiative d'entreprises privées) et donc très bien documentés.\n",
    "- pour des questions précises, poser la question à internet et consulter les forums (Stockoverflow dans beaucoup de cas).\n",
    "    \n",
    "\n",
    "Se rappeler que l'apprentissage de l'informatique passe plus par la pratique que par du par coeur. Par conséquent, quand on est face à un problème, prendre le temps de rélféchir à ce qu'on a déjà rencontré et que l'on pourrait réutiliser."
   ]
  },
  {
   "cell_type": "markdown",
   "id": "e6edb32a",
   "metadata": {},
   "source": [
    "<span style='line-height:1.5;font-size: 17px;font-family:\"Times New Roman\"'>\n",
    "\n",
    "<hr style=\" border: 2.5px solid black;\">\n",
    "<br>\n",
    "    \n",
    "# Quelques exercices    \n",
    "\n",
    "\n",
    "<hr style=\" border: .5px solid black;\">\n",
    "<br>  \n",
    "    \n",
    "__Exercice 1 - Package numpy__ \n",
    "\n",
    "    \n",
    " - A l'aide du package numpy, trouvez un moyen de définir les matrices $2\\times2$ suivantes :\n",
    "    \n",
    "$$A = \n",
    "\\begin{pmatrix}\n",
    "1 & 2 \\\\\n",
    "3 & 4 \\\\\n",
    "\\end{pmatrix}\n",
    "$$\n",
    "    \n",
    "$$B = \n",
    "\\begin{pmatrix}\n",
    "-2 & 1 \\\\\n",
    "1.5 & -0.5 \\\\\n",
    "\\end{pmatrix}\n",
    "$$\n",
    "    \n",
    "    \n",
    "- Faites le produit des deux matrices (attention, ce ne sera pas avec l'opérateur `*`). Que remarque-t-on ?\n",
    "    \n",
    "- Trouvez la fonction permettant de calculer l'inverse d'une matrice. Calculez l'inverse de la matrice B.\n",
    "    \n",
    "- Trouvez la fonction de numpy permattant de claculer la transposée d'un matrice. Calculer la transposée de la matrice A.\n",
    "    \n"
   ]
  },
  {
   "cell_type": "code",
   "execution_count": 13,
   "id": "1a941c46",
   "metadata": {},
   "outputs": [
    {
     "name": "stdout",
     "output_type": "stream",
     "text": [
      "[[1 2]\n",
      " [3 4]]\n",
      "[[-2.   1. ]\n",
      " [ 1.5 -0.5]]\n"
     ]
    }
   ],
   "source": [
    "A = np.matrix([[1,2],[3,4]])\n",
    "B = np.matrix([[-2,1],[1.5,-0.5]])\n",
    "\n",
    "print(A)\n",
    "print(B)"
   ]
  },
  {
   "cell_type": "code",
   "execution_count": 23,
   "id": "d3960da1",
   "metadata": {},
   "outputs": [
    {
     "name": "stdout",
     "output_type": "stream",
     "text": [
      "[[1. 0.]\n",
      " [0. 1.]]\n"
     ]
    }
   ],
   "source": [
    "np.matmul(A,B)\n",
    "# OU\n",
    "C = A@B\n",
    "print(C)\n",
    "# B est l'inverse de la matrice A "
   ]
  },
  {
   "cell_type": "code",
   "execution_count": 24,
   "id": "dc8f2fd5",
   "metadata": {
    "scrolled": true
   },
   "outputs": [
    {
     "data": {
      "text/plain": [
       "matrix([[1., 2.],\n",
       "        [3., 4.]])"
      ]
     },
     "execution_count": 24,
     "metadata": {},
     "output_type": "execute_result"
    }
   ],
   "source": [
    "np.linalg.inv(B)"
   ]
  },
  {
   "cell_type": "code",
   "execution_count": 25,
   "id": "f5865f8a",
   "metadata": {},
   "outputs": [
    {
     "data": {
      "text/plain": [
       "matrix([[1, 3],\n",
       "        [2, 4]])"
      ]
     },
     "execution_count": 25,
     "metadata": {},
     "output_type": "execute_result"
    }
   ],
   "source": [
    "A.transpose()"
   ]
  },
  {
   "cell_type": "markdown",
   "id": "70d74a7d",
   "metadata": {},
   "source": [
    "<span style='line-height:1.5;font-size: 17px;font-family:\"Times New Roman\"'>\n",
    "<hr style=\" border: .5px solid black;\">\n",
    "<br>  \n",
    "    \n",
    "\n",
    "__Exercice 2 - importation de données avec pandas__ \n",
    "\n",
    "- A l'aide du package pandas, importez les trois bases de données du dossier \"data\":\n",
    "    - fred_okun_multivar.csv\n",
    "    - fred_okun_multivar.txt\n",
    "    - fred_okun_multivar.xlsx\n",
    "    \n"
   ]
  },
  {
   "cell_type": "code",
   "execution_count": null,
   "id": "2de28d28",
   "metadata": {},
   "outputs": [],
   "source": []
  },
  {
   "cell_type": "code",
   "execution_count": null,
   "id": "4ffae983",
   "metadata": {},
   "outputs": [],
   "source": []
  },
  {
   "cell_type": "markdown",
   "id": "36d436ae",
   "metadata": {},
   "source": [
    "<span style='line-height:1.5;font-size: 17px;font-family:\"Times New Roman\"'>\n",
    "<hr style=\" border: .5px solid black;\">\n",
    "<br>  \n",
    "    \n",
    "\n",
    "__Exercice 3 - Statiques descriptives__ \n",
    "\n",
    "Avec la base de données que vous avez importé :     \n",
    "    \n",
    "- Proposez un graphique de la variable `investment`.\n",
    "    \n",
    "- Proposez un graphique histogramme de la variable `unemployement`\n",
    "    \n",
    "- Trouvez une fonction permettant de calculer les corrélations entre toutes les variables.\n",
    "    \n"
   ]
  },
  {
   "cell_type": "code",
   "execution_count": null,
   "id": "bcfe72df",
   "metadata": {},
   "outputs": [],
   "source": []
  },
  {
   "cell_type": "code",
   "execution_count": null,
   "id": "2ead546d",
   "metadata": {},
   "outputs": [],
   "source": []
  },
  {
   "cell_type": "code",
   "execution_count": null,
   "id": "453063b3",
   "metadata": {},
   "outputs": [],
   "source": []
  },
  {
   "cell_type": "markdown",
   "id": "897ebd7b",
   "metadata": {},
   "source": [
    "<span style='line-height:1.5;font-size: 17px;font-family:\"Times New Roman\"'>\n",
    "<hr style=\" border: .5px solid black;\">\n",
    "<br>  \n",
    "    \n",
    "\n",
    "__Exercice 4 - Manipulation de données__ \n",
    "\n",
    "- Créez un nouveau dataframe ne contenant que les lignes pour lesquelles le PIB réel est supérieur à 2700.\n",
    "    \n",
    "- Créez un nouveau dataframe ne contenant que les lignes pour lesquelles le taux de chômage est supérieur à 5%.    \n",
    "    \n",
    "- Calculez le taux de croissance des variables `investment`, `realGDP2012`, et `unemployementRate` et enregistrez ces nouvelles variables dans des colonnes\n",
    "    \n",
    "- Créez une colonne (nommée la `cste`) ne contenant que des `1`\n",
    "    \n",
    "- Enregistrez le dataframe avec le taux de croissance au format `.txt`\n",
    "    \n",
    "- A partir du dataframe, créez une matrice (`numpy`) appelée `X` et contenant les taux de croissance de `investment` et `realGDP2012`.\n",
    "    \n",
    "- De même créez un matrice appelée `y` ne contenant que la variable `unemployementRate`"
   ]
  },
  {
   "cell_type": "code",
   "execution_count": null,
   "id": "ff5c8962",
   "metadata": {},
   "outputs": [],
   "source": []
  },
  {
   "cell_type": "code",
   "execution_count": null,
   "id": "5d28dc47",
   "metadata": {},
   "outputs": [],
   "source": []
  },
  {
   "cell_type": "code",
   "execution_count": null,
   "id": "79ab4f79",
   "metadata": {},
   "outputs": [],
   "source": []
  },
  {
   "cell_type": "markdown",
   "id": "f15cf3ca",
   "metadata": {},
   "source": [
    "<span style='line-height:1.5;font-size: 17px;font-family:\"Times New Roman\"'>\n",
    "<hr style=\" border: .5px solid black;\">\n",
    "<br>  \n",
    "    \n",
    "\n",
    "__Exercice 5 - Estimation sous statsmodels__ \n",
    "\n",
    "A l'aide du package statsmodels, utilisez la méthode des moindres carrés ordinaires pour estimer le modèle suivant :\n",
    "    \n",
    "$$ y_t = \\beta X_t + \\epsilon_t$$"
   ]
  },
  {
   "cell_type": "code",
   "execution_count": null,
   "id": "dfc9b652",
   "metadata": {},
   "outputs": [],
   "source": []
  }
 ],
 "metadata": {
  "kernelspec": {
   "display_name": "Python 3 (ipykernel)",
   "language": "python",
   "name": "python3"
  },
  "language_info": {
   "codemirror_mode": {
    "name": "ipython",
    "version": 3
   },
   "file_extension": ".py",
   "mimetype": "text/x-python",
   "name": "python",
   "nbconvert_exporter": "python",
   "pygments_lexer": "ipython3",
   "version": "3.11.4"
  },
  "toc": {
   "base_numbering": 1,
   "nav_menu": {},
   "number_sections": true,
   "sideBar": true,
   "skip_h1_title": false,
   "title_cell": "Table of Contents",
   "title_sidebar": "Contents",
   "toc_cell": false,
   "toc_position": {},
   "toc_section_display": true,
   "toc_window_display": false
  },
  "varInspector": {
   "cols": {
    "lenName": 16,
    "lenType": 16,
    "lenVar": 40
   },
   "kernels_config": {
    "python": {
     "delete_cmd_postfix": "",
     "delete_cmd_prefix": "del ",
     "library": "var_list.py",
     "varRefreshCmd": "print(var_dic_list())"
    },
    "r": {
     "delete_cmd_postfix": ") ",
     "delete_cmd_prefix": "rm(",
     "library": "var_list.r",
     "varRefreshCmd": "cat(var_dic_list()) "
    }
   },
   "types_to_exclude": [
    "module",
    "function",
    "builtin_function_or_method",
    "instance",
    "_Feature"
   ],
   "window_display": false
  }
 },
 "nbformat": 4,
 "nbformat_minor": 5
}
