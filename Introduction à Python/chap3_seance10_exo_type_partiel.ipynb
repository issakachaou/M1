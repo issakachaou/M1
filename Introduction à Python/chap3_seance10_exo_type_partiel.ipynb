{
 "cells": [
  {
   "cell_type": "markdown",
   "id": "4bd0ae93",
   "metadata": {},
   "source": [
    "<span style='line-height:1.5;font-size: 17px;font-family:\"Times New Roman\"'>\n",
    "\n",
    "\n",
    "<b><center><font size=\"6\">Chap 3 - Exercice type partiel 2</font></center></b>\n",
    "\n",
    "    \n",
    "<g><h7><center> CM - P. Durand  - pierre.alexis.durand@hotmail.fr </center></h7></g>\n",
    "\n",
    "\n",
    "\n",
    "<b><center><font size=\"5\">M1 - 2024-2025</font></center></b> \n",
    "\n",
    "\n",
    "\n",
    "</span>"
   ]
  },
  {
   "cell_type": "markdown",
   "id": "755be410",
   "metadata": {},
   "source": [
    "<span style='line-height:1.5;font-size: 17px;font-family:\"Times New Roman\"'>\n",
    "\n",
    "<hr style=\" border: .5px solid black;\">\n",
    "\n",
    "   \n",
    "<b>Consignes</b> : \n",
    "    \n",
    "- Interdiction aux IA et aux réponses toutes faites (sur des forums par exemple)\n",
    "- Internet autorisé : uniquement pour se renseigner sur une fonction particulière ou retrouver un outil déjà vu\n",
    "- Structurer le code avec : \n",
    "    - des commentaires à l'intérieur des cellules de code (pour guider la lecture)\n",
    "    - des cellules markdown pour faire des parties (éventuellement) et expliquer le déroulement de votre travail/pensée\n",
    "- Laisser le brouillon apparent\n",
    "- Citer les sources (liste des sites internet consultés)\n",
    "    \n",
    "    \n",
    "<b>N.B.</b> : vous serez notés sur votre raisonnement et la logique avec laquelle vous abordez le problème posé. N'hésitez pas à développer votre cheminement de pensée.\n",
    "\n",
    "<hr style=\" border: .5px solid black;\">\n",
    "\n",
    "<br>"
   ]
  },
  {
   "cell_type": "markdown",
   "id": "d5c31aeb",
   "metadata": {},
   "source": [
    "<span style='line-height:1.5;font-size: 17px;font-family:\"Times New Roman\"'>\n",
    "    \n",
    "# Echauffement\n",
    "    \n",
    "<br>\n",
    "    \n",
    "1- A l'aide de ce qui a été vu en cours et d'une boucle `for`, proposez un code permettant de compter le nombre de caractères présents dans la chaine de caractères suivante :\n",
    "    \n",
    "<br>"
   ]
  },
  {
   "cell_type": "code",
   "execution_count": 3,
   "id": "cc3ccd9c",
   "metadata": {},
   "outputs": [
    {
     "name": "stdout",
     "output_type": "stream",
     "text": [
      "120\n"
     ]
    },
    {
     "data": {
      "text/plain": [
       "120"
      ]
     },
     "execution_count": 3,
     "metadata": {},
     "output_type": "execute_result"
    }
   ],
   "source": [
    "s = \"Il y a quelque chose, quand même, chez les gens qui sont pas comme les autres... ils font plus que les autres. A. Astier\"\n",
    "\n",
    "compteur = 0\n",
    "\n",
    "for i in s:\n",
    "    compteur +=1\n",
    "\n",
    "print(compteur)\n",
    "\n",
    "len(s)"
   ]
  },
  {
   "cell_type": "markdown",
   "id": "e5bd0b0e",
   "metadata": {},
   "source": [
    "<span style='line-height:1.5;font-size: 17px;font-family:\"Times New Roman\"'>\n",
    "    \n",
    "<br>\n",
    "    \n",
    "2- En vous aidant de la réponse à la question précédente, codez une fonction permettant de compter le nombre de caractères présent dans n'importe quel chaîne de caractères. \n",
    "    \n",
    "    \n",
    "<br>"
   ]
  },
  {
   "cell_type": "code",
   "execution_count": 20,
   "id": "ebf6459d",
   "metadata": {},
   "outputs": [],
   "source": [
    "def car(s):\n",
    "    compteur = 0\n",
    "    for i in s:\n",
    "        compteur +=1\n",
    "    return(compteur)"
   ]
  },
  {
   "cell_type": "code",
   "execution_count": 21,
   "id": "67e73411",
   "metadata": {},
   "outputs": [
    {
     "data": {
      "text/plain": [
       "120"
      ]
     },
     "execution_count": 21,
     "metadata": {},
     "output_type": "execute_result"
    }
   ],
   "source": [
    "car(s)"
   ]
  },
  {
   "cell_type": "markdown",
   "id": "f22dab24",
   "metadata": {},
   "source": [
    "<span style='line-height:1.5;font-size: 17px;font-family:\"Times New Roman\"'>\n",
    "    \n",
    "<br>\n",
    "    \n",
    "3- En vous aidant du premier exemple donné par le lien ci-dessous, ajoutez à votre fonction un message d'erreur lorsque le paramètre donné est de type `list`.\n",
    "    \n",
    "Lien : https://www.w3schools.com/python/gloss_python_raise.asp\n",
    "    \n",
    "    \n",
    "<br>"
   ]
  },
  {
   "cell_type": "code",
   "execution_count": 32,
   "id": "8f359336",
   "metadata": {},
   "outputs": [],
   "source": [
    "def car(s):\n",
    "    if type(s) is list :\n",
    "        raise Exception(\"DOUNS\")\n",
    "    compteur = 0\n",
    "    for i in s:\n",
    "        compteur +=1\n",
    "    return(compteur)"
   ]
  },
  {
   "cell_type": "code",
   "execution_count": 33,
   "id": "a7c7c323",
   "metadata": {},
   "outputs": [
    {
     "ename": "Exception",
     "evalue": "DOUNS",
     "output_type": "error",
     "traceback": [
      "\u001b[1;31m---------------------------------------------------------------------------\u001b[0m",
      "\u001b[1;31mException\u001b[0m                                 Traceback (most recent call last)",
      "Cell \u001b[1;32mIn[33], line 2\u001b[0m\n\u001b[0;32m      1\u001b[0m c\u001b[38;5;241m=\u001b[39m[\u001b[38;5;241m1\u001b[39m,\u001b[38;5;241m2\u001b[39m,\u001b[38;5;241m3\u001b[39m,\u001b[38;5;241m5\u001b[39m,\u001b[38;5;241m5\u001b[39m]\n\u001b[1;32m----> 2\u001b[0m car(c)\n",
      "Cell \u001b[1;32mIn[32], line 3\u001b[0m, in \u001b[0;36mcar\u001b[1;34m(s)\u001b[0m\n\u001b[0;32m      1\u001b[0m \u001b[38;5;28;01mdef\u001b[39;00m \u001b[38;5;21mcar\u001b[39m(s):\n\u001b[0;32m      2\u001b[0m     \u001b[38;5;28;01mif\u001b[39;00m \u001b[38;5;28mtype\u001b[39m(s) \u001b[38;5;129;01mis\u001b[39;00m \u001b[38;5;28mlist\u001b[39m :\n\u001b[1;32m----> 3\u001b[0m         \u001b[38;5;28;01mraise\u001b[39;00m \u001b[38;5;167;01mException\u001b[39;00m(\u001b[38;5;124m\"\u001b[39m\u001b[38;5;124mDOUNS\u001b[39m\u001b[38;5;124m\"\u001b[39m)\n\u001b[0;32m      4\u001b[0m     compteur \u001b[38;5;241m=\u001b[39m \u001b[38;5;241m0\u001b[39m\n\u001b[0;32m      5\u001b[0m     \u001b[38;5;28;01mfor\u001b[39;00m i \u001b[38;5;129;01min\u001b[39;00m s:\n",
      "\u001b[1;31mException\u001b[0m: DOUNS"
     ]
    }
   ],
   "source": [
    "c=[1,2,3,5,5]\n",
    "car(c)"
   ]
  },
  {
   "cell_type": "markdown",
   "id": "f332abf4",
   "metadata": {},
   "source": [
    "<span style='line-height:1.5;font-size: 17px;font-family:\"Times New Roman\"'>\n",
    "\n",
    "<hr style=\" border: .5px solid black;\">\n",
    "\n",
    "<span style='line-height:1.5;font-size: 17px;font-family:\"Times New Roman\"'>\n",
    "    \n",
    "# Exercice thématique\n",
    "    \n",
    "<br>\n",
    "    \n",
    "<b>Objectif </b>:  coder une fonction permettant de ranger des adresses URL dans un ordre alphabetique. Plus précisément, à partir d'une liste d'adresses URL, votre fonction doit retourner une liste de ces adresses triées par ordre alphabétique selon leur nom de domaine (\".com\", \".org\", \".gouv\", etc...). \n",
    "    \n",
    "<br>\n",
    "    \n",
    "<b>Exemple 1</b> :\n",
    "    \n",
    "```python\n",
    "addresses = [\"http//www.google.com/?x=jwxz\", \"www.baleup.aorg\"]    \n",
    "```\n",
    "deviendra :\n",
    "```python\n",
    "addresses = [\"www.baleup.aorg\", \"http//www.google.com/?x=jwxz\"]  \n",
    "```\n",
    " \n",
    "\n",
    "    \n",
    "<b>Exemple 2</b> :\n",
    "    \n",
    "```python\n",
    "addresses = [\"http//www.google.com/?x=jwxz\", \"http//www.slalums.la.cluza.fr/!z=pmly\", \"http//www.google.map.de/pm25\", \"www.baleup.aorg\"]    \n",
    "```\n",
    "deviendra :\n",
    "```python\n",
    "addresses = [\"www.baleup.aorg\", \"http//www.google.com/?x=jwxz\",  \"http//www.google.map.de/pm25\", \"http//www.slalums.la.cluza.fr/!z=pmly\" ]    \n",
    "```\n",
    "<br>\n",
    "    \n",
    "\n",
    "<b>Indice </b>: le nom de domaine sera toujours donné après le dernier `.` de l'URL.\n",
    "\n",
    "<br>\n",
    "    \n",
    "    \n",
    "<hr style=\" border: .5px solid black;\">\n",
    "    \n",
    "Bon courage !!\n",
    "    \n",
    "<hr style=\" border: .5px solid black;\">"
   ]
  },
  {
   "cell_type": "markdown",
   "id": "995377d8",
   "metadata": {},
   "source": [
    "# Remarques\n",
    "\n",
    "- Liste des choses que j'ai remarqué\n",
    "- On a des URL qui sont des strings et qui sont rangé dans une liste\n",
    "- On veut classer par ordre alphabétique ces URL en fontion du nom de domaine\n",
    "- Le \n"
   ]
  },
  {
   "cell_type": "markdown",
   "id": "b749c4f3",
   "metadata": {},
   "source": [
    "# Résolution d'un cas particulier (Brouillon)\n",
    "\n",
    "Essayons d'utiliser une méthode de liste pour nous aider "
   ]
  },
  {
   "cell_type": "code",
   "execution_count": 74,
   "id": "b981a36d",
   "metadata": {},
   "outputs": [],
   "source": [
    "    # Création de l'exemple\n",
    "addresses = [\"http//www.google.com/?x=jwxz\", \"http//www.slalums.la.cluza.fr/!z=pmly\", \"http//www.google.map.de/pm25\", \"www.baleup.aorg\"]   \n",
    "\n",
    "x = \"http//www.google.com/?x=jwxz\"\n",
    "\n",
    "x = x.split('.')\n",
    "\n",
    "domain = x[-1]"
   ]
  },
  {
   "cell_type": "code",
   "execution_count": 79,
   "id": "9369299c",
   "metadata": {},
   "outputs": [
    {
     "name": "stdout",
     "output_type": "stream",
     "text": [
      "['aorg', 'com/?x=jwxz', 'de/pm25', 'fr/!z=pmly']\n"
     ]
    }
   ],
   "source": [
    "l_url = []\n",
    "for x in addresses :\n",
    "    x = x.split('.')\n",
    "    x = x[-1]\n",
    "    l_url.append(x)\n",
    "l_url.sort()\n",
    "print(l_url)\n"
   ]
  },
  {
   "cell_type": "code",
   "execution_count": null,
   "id": "4011cbb7",
   "metadata": {},
   "outputs": [],
   "source": []
  }
 ],
 "metadata": {
  "kernelspec": {
   "display_name": "Python 3 (ipykernel)",
   "language": "python",
   "name": "python3"
  },
  "language_info": {
   "codemirror_mode": {
    "name": "ipython",
    "version": 3
   },
   "file_extension": ".py",
   "mimetype": "text/x-python",
   "name": "python",
   "nbconvert_exporter": "python",
   "pygments_lexer": "ipython3",
   "version": "3.11.4"
  },
  "toc": {
   "base_numbering": 1,
   "nav_menu": {},
   "number_sections": true,
   "sideBar": true,
   "skip_h1_title": false,
   "title_cell": "Table of Contents",
   "title_sidebar": "Contents",
   "toc_cell": false,
   "toc_position": {},
   "toc_section_display": true,
   "toc_window_display": false
  },
  "varInspector": {
   "cols": {
    "lenName": 16,
    "lenType": 16,
    "lenVar": 40
   },
   "kernels_config": {
    "python": {
     "delete_cmd_postfix": "",
     "delete_cmd_prefix": "del ",
     "library": "var_list.py",
     "varRefreshCmd": "print(var_dic_list())"
    },
    "r": {
     "delete_cmd_postfix": ") ",
     "delete_cmd_prefix": "rm(",
     "library": "var_list.r",
     "varRefreshCmd": "cat(var_dic_list()) "
    }
   },
   "types_to_exclude": [
    "module",
    "function",
    "builtin_function_or_method",
    "instance",
    "_Feature"
   ],
   "window_display": false
  }
 },
 "nbformat": 4,
 "nbformat_minor": 5
}
