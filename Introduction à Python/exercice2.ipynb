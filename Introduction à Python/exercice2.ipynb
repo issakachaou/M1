{
 "cells": [
  {
   "cell_type": "markdown",
   "id": "0600da3c",
   "metadata": {},
   "source": [
    "<span style='line-height:1.5;font-size: 17px;font-family:\"Times New Roman\"'>\n",
    "    \n",
    "<b><center><font size=\"5\">Chasse au trésor...</font></center></b> \n",
    "    \n",
    "<b>Deuxième partie</b>"
   ]
  },
  {
   "cell_type": "markdown",
   "id": "8b8d079b",
   "metadata": {},
   "source": [
    "<span style='line-height:1.5;font-size: 17px;font-family:\"Times New Roman\"'>\n",
    "\n",
    "Bravo !! Vous avez trouvé la première clef et vous avez su arriver jusque là !\n",
    "    \n",
    "Pour trouver la prochaine clef (`clef2`) qui vous permettra de débloquer la troisième partie, vous devrez résoudre l'exercice suivant : \n",
    "    \n",
    "- Importez la base de données `df_exo2.txt` avec pandas\n",
    "- Créez une nouvelle colonne dans laquelle vous aurez calculé le taux de croissance de la colonne `col5`\n",
    "- Isolez la ligne où le taux de croissance est supérieur à $1000000$... "
   ]
  },
  {
   "cell_type": "code",
   "execution_count": 1,
   "id": "24c84fee",
   "metadata": {},
   "outputs": [],
   "source": [
    "import pandas as pd"
   ]
  },
  {
   "cell_type": "code",
   "execution_count": 7,
   "id": "fa2a97e2",
   "metadata": {},
   "outputs": [
    {
     "data": {
      "text/html": [
       "<div>\n",
       "<style scoped>\n",
       "    .dataframe tbody tr th:only-of-type {\n",
       "        vertical-align: middle;\n",
       "    }\n",
       "\n",
       "    .dataframe tbody tr th {\n",
       "        vertical-align: top;\n",
       "    }\n",
       "\n",
       "    .dataframe thead th {\n",
       "        text-align: right;\n",
       "    }\n",
       "</style>\n",
       "<table border=\"1\" class=\"dataframe\">\n",
       "  <thead>\n",
       "    <tr style=\"text-align: right;\">\n",
       "      <th></th>\n",
       "      <th>col1</th>\n",
       "      <th>col2</th>\n",
       "      <th>col3</th>\n",
       "      <th>col4</th>\n",
       "      <th>col5</th>\n",
       "      <th>col6</th>\n",
       "    </tr>\n",
       "  </thead>\n",
       "  <tbody>\n",
       "    <tr>\n",
       "      <th>0</th>\n",
       "      <td>1024701</td>\n",
       "      <td>0.62</td>\n",
       "      <td>6.26</td>\n",
       "      <td>7.408046</td>\n",
       "      <td>65.08</td>\n",
       "      <td>durand.aaliyah@hotmail.fr</td>\n",
       "    </tr>\n",
       "    <tr>\n",
       "      <th>1</th>\n",
       "      <td>1003167</td>\n",
       "      <td>1.45</td>\n",
       "      <td>11.38</td>\n",
       "      <td>17.342588</td>\n",
       "      <td>23.21</td>\n",
       "      <td>senecat.aapeli@gouv.fr</td>\n",
       "    </tr>\n",
       "    <tr>\n",
       "      <th>2</th>\n",
       "      <td>1006220</td>\n",
       "      <td>1.08</td>\n",
       "      <td>9.93</td>\n",
       "      <td>7.384876</td>\n",
       "      <td>83.48</td>\n",
       "      <td>djeda.aapo@wanadoo.com</td>\n",
       "    </tr>\n",
       "    <tr>\n",
       "      <th>3</th>\n",
       "      <td>1003918</td>\n",
       "      <td>2.05</td>\n",
       "      <td>9.48</td>\n",
       "      <td>5.514464</td>\n",
       "      <td>73.06</td>\n",
       "      <td>elsine.aaren@geeknet.ue</td>\n",
       "    </tr>\n",
       "    <tr>\n",
       "      <th>4</th>\n",
       "      <td>105357</td>\n",
       "      <td>1.11</td>\n",
       "      <td>10.20</td>\n",
       "      <td>12.825685</td>\n",
       "      <td>63.18</td>\n",
       "      <td>vazou.aarne@deep_blue.ru</td>\n",
       "    </tr>\n",
       "    <tr>\n",
       "      <th>...</th>\n",
       "      <td>...</td>\n",
       "      <td>...</td>\n",
       "      <td>...</td>\n",
       "      <td>...</td>\n",
       "      <td>...</td>\n",
       "      <td>...</td>\n",
       "    </tr>\n",
       "    <tr>\n",
       "      <th>116295</th>\n",
       "      <td>1206824</td>\n",
       "      <td>1.73</td>\n",
       "      <td>12.24</td>\n",
       "      <td>5.335162</td>\n",
       "      <td>75.19</td>\n",
       "      <td>kurylenko.aella@cia.ch</td>\n",
       "    </tr>\n",
       "    <tr>\n",
       "      <th>116296</th>\n",
       "      <td>142042</td>\n",
       "      <td>1.36</td>\n",
       "      <td>10.68</td>\n",
       "      <td>94.530877</td>\n",
       "      <td>4.39</td>\n",
       "      <td>pitt.ælred@carrouf.pc</td>\n",
       "    </tr>\n",
       "    <tr>\n",
       "      <th>116297</th>\n",
       "      <td>1202625</td>\n",
       "      <td>1.70</td>\n",
       "      <td>9.51</td>\n",
       "      <td>7.213107</td>\n",
       "      <td>82.38</td>\n",
       "      <td>clooney.aemilia@corsaire.ma</td>\n",
       "    </tr>\n",
       "    <tr>\n",
       "      <th>116298</th>\n",
       "      <td>1012744</td>\n",
       "      <td>1.45</td>\n",
       "      <td>10.66</td>\n",
       "      <td>4.806854</td>\n",
       "      <td>78.25</td>\n",
       "      <td>dupont.aeneas@monte_cristo.vil</td>\n",
       "    </tr>\n",
       "    <tr>\n",
       "      <th>116299</th>\n",
       "      <td>100529</td>\n",
       "      <td>1.51</td>\n",
       "      <td>11.52</td>\n",
       "      <td>3.012260</td>\n",
       "      <td>67.05</td>\n",
       "      <td>smith.aengus@yahoo.fr</td>\n",
       "    </tr>\n",
       "  </tbody>\n",
       "</table>\n",
       "<p>116300 rows × 6 columns</p>\n",
       "</div>"
      ],
      "text/plain": [
       "           col1  col2   col3       col4   col5                            col6\n",
       "0       1024701  0.62   6.26   7.408046  65.08       durand.aaliyah@hotmail.fr\n",
       "1       1003167  1.45  11.38  17.342588  23.21          senecat.aapeli@gouv.fr\n",
       "2       1006220  1.08   9.93   7.384876  83.48          djeda.aapo@wanadoo.com\n",
       "3       1003918  2.05   9.48   5.514464  73.06         elsine.aaren@geeknet.ue\n",
       "4        105357  1.11  10.20  12.825685  63.18        vazou.aarne@deep_blue.ru\n",
       "...         ...   ...    ...        ...    ...                             ...\n",
       "116295  1206824  1.73  12.24   5.335162  75.19          kurylenko.aella@cia.ch\n",
       "116296   142042  1.36  10.68  94.530877   4.39           pitt.ælred@carrouf.pc\n",
       "116297  1202625  1.70   9.51   7.213107  82.38     clooney.aemilia@corsaire.ma\n",
       "116298  1012744  1.45  10.66   4.806854  78.25  dupont.aeneas@monte_cristo.vil\n",
       "116299   100529  1.51  11.52   3.012260  67.05           smith.aengus@yahoo.fr\n",
       "\n",
       "[116300 rows x 6 columns]"
      ]
     },
     "execution_count": 7,
     "metadata": {},
     "output_type": "execute_result"
    }
   ],
   "source": [
    "path = \"C:\\\\Users\\\\issak\\\\Documents\\\\M1\\\\Introduction à Python\\\\\"\n",
    "df = pd.read_csv(path+\"df_exo2.txt\", sep=\";\")\n",
    "df"
   ]
  },
  {
   "cell_type": "code",
   "execution_count": 13,
   "id": "10b90d98",
   "metadata": {},
   "outputs": [
    {
     "data": {
      "text/html": [
       "<div>\n",
       "<style scoped>\n",
       "    .dataframe tbody tr th:only-of-type {\n",
       "        vertical-align: middle;\n",
       "    }\n",
       "\n",
       "    .dataframe tbody tr th {\n",
       "        vertical-align: top;\n",
       "    }\n",
       "\n",
       "    .dataframe thead th {\n",
       "        text-align: right;\n",
       "    }\n",
       "</style>\n",
       "<table border=\"1\" class=\"dataframe\">\n",
       "  <thead>\n",
       "    <tr style=\"text-align: right;\">\n",
       "      <th></th>\n",
       "      <th>col1</th>\n",
       "      <th>col2</th>\n",
       "      <th>col3</th>\n",
       "      <th>col4</th>\n",
       "      <th>col5</th>\n",
       "      <th>col6</th>\n",
       "      <th>col5_growth</th>\n",
       "    </tr>\n",
       "  </thead>\n",
       "  <tbody>\n",
       "    <tr>\n",
       "      <th>61219</th>\n",
       "      <td>1005188</td>\n",
       "      <td>-0.39</td>\n",
       "      <td>14.96</td>\n",
       "      <td>10.348383</td>\n",
       "      <td>10000000.0</td>\n",
       "      <td>la_clef2_est_10@solution.com</td>\n",
       "      <td>999999900.0</td>\n",
       "    </tr>\n",
       "  </tbody>\n",
       "</table>\n",
       "</div>"
      ],
      "text/plain": [
       "          col1  col2   col3       col4        col5  \\\n",
       "61219  1005188 -0.39  14.96  10.348383  10000000.0   \n",
       "\n",
       "                               col6  col5_growth  \n",
       "61219  la_clef2_est_10@solution.com  999999900.0  "
      ]
     },
     "execution_count": 13,
     "metadata": {},
     "output_type": "execute_result"
    }
   ],
   "source": [
    "df[\"col5_growth\"] =  ((df[\"col5\"] / df[\"col5\"].shift(1)) - 1)*100\n",
    "df[df['col5_growth']>1000000]"
   ]
  },
  {
   "cell_type": "code",
   "execution_count": null,
   "id": "f7710a21",
   "metadata": {},
   "outputs": [],
   "source": []
  },
  {
   "cell_type": "code",
   "execution_count": null,
   "id": "622495f4",
   "metadata": {},
   "outputs": [],
   "source": []
  },
  {
   "cell_type": "code",
   "execution_count": null,
   "id": "7c358516",
   "metadata": {},
   "outputs": [],
   "source": []
  },
  {
   "cell_type": "code",
   "execution_count": null,
   "id": "553f7295",
   "metadata": {},
   "outputs": [],
   "source": []
  },
  {
   "cell_type": "code",
   "execution_count": null,
   "id": "d5b8c00d",
   "metadata": {},
   "outputs": [],
   "source": []
  }
 ],
 "metadata": {
  "kernelspec": {
   "display_name": "Python 3 (ipykernel)",
   "language": "python",
   "name": "python3"
  },
  "language_info": {
   "codemirror_mode": {
    "name": "ipython",
    "version": 3
   },
   "file_extension": ".py",
   "mimetype": "text/x-python",
   "name": "python",
   "nbconvert_exporter": "python",
   "pygments_lexer": "ipython3",
   "version": "3.11.4"
  },
  "toc": {
   "base_numbering": 1,
   "nav_menu": {},
   "number_sections": true,
   "sideBar": true,
   "skip_h1_title": false,
   "title_cell": "Table of Contents",
   "title_sidebar": "Contents",
   "toc_cell": false,
   "toc_position": {},
   "toc_section_display": true,
   "toc_window_display": false
  },
  "varInspector": {
   "cols": {
    "lenName": 16,
    "lenType": 16,
    "lenVar": 40
   },
   "kernels_config": {
    "python": {
     "delete_cmd_postfix": "",
     "delete_cmd_prefix": "del ",
     "library": "var_list.py",
     "varRefreshCmd": "print(var_dic_list())"
    },
    "r": {
     "delete_cmd_postfix": ") ",
     "delete_cmd_prefix": "rm(",
     "library": "var_list.r",
     "varRefreshCmd": "cat(var_dic_list()) "
    }
   },
   "types_to_exclude": [
    "module",
    "function",
    "builtin_function_or_method",
    "instance",
    "_Feature"
   ],
   "window_display": false
  }
 },
 "nbformat": 4,
 "nbformat_minor": 5
}
