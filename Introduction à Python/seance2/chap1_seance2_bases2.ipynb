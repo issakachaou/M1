{
 "cells": [
  {
   "cell_type": "markdown",
   "metadata": {},
   "source": [
    "<span style='line-height:1.5;font-size: 17px;font-family:\"Times New Roman\"'>\n",
    "\n",
    "\n",
    "<b><center><font size=\"6\">Introduction à python - Séance 2</font></center></b>\n",
    "\n",
    "<b><center><font size=\"6\">Exercices</font></center></b>\n",
    "    \n",
    "<g><h7><center> CM - P. Durand  - pierre.alexis.durand@hotmail.fr </center></h7></g>\n",
    "\n",
    "\n",
    "\n",
    "<b><center><font size=\"5\">M1 - 2024-2025</font></center></b> \n",
    "\n",
    "\n",
    "\n",
    "</span>"
   ]
  },
  {
   "cell_type": "markdown",
   "metadata": {},
   "source": [
    "<span style='line-height:1.5;font-size: 17px;font-family:\"Times New Roman\"'>\n",
    "\n",
    "<hr style=\" border: 2.5px solid black;\">\n",
    "<br>\n",
    "\n",
    "#### Plan du cours\n",
    "<br>\n",
    "\n",
    "- Partie I : introduction et appréhension du langage python \n",
    "    - Séance 1 - variables et syntaxe de base\n",
    "    - <b>Séance 2 - boucles et structure conditionnelle - exercices d'application</b>\n",
    "    - Séance 3 - exercices d'application : utilisation et combinaison des outils acquis\n",
    "    - Séance 4 - exercices d'application : prise d'autonomie sur la recherche d'information \n",
    "    \n",
    "- Partie II : apprendre à coder\n",
    "    - Séance 5 - fonctions sous python - exercices d'application\n",
    "    - Séance 6 - exercices d'application : coder des fonctions simples\n",
    "    - Séance 7 - bases de données et manipulation des données sous python - exercices d'application\n",
    "    - Séance 8 - exercices d'application : manipulation de bases de données\n",
    "    - Séance 9 - exercices d'application : restitution des connaissances de l'ensemble du cours\n",
    "    \n",
    "- Partie III : prise de recul sur un code python\n",
    "    - Séance 10 - commenter un code et utiliser ChatGPT \n",
    "\n",
    "<br>\n",
    "\n",
    "\n",
    "\n",
    "<hr style=\" border: 2.5px solid black;\">\n",
    "<br>\n",
    "\n",
    "<br>"
   ]
  },
  {
   "cell_type": "markdown",
   "metadata": {},
   "source": [
    "<span style='line-height:1.5;font-size: 17px;font-family:\"Times New Roman\"'>\n",
    "\n",
    "__Exercice 1 - Opérateurs logiques__ \n",
    "\n",
    "On défini deux listes (_lst1_ et _lst2_) dans le code suivant. Complétez-le pour afficher si oui ou non :\n",
    "- ces listes sont strictement égales\n",
    "- la longueur de la première liste est supérieure à celle de la seconde"
   ]
  },
  {
   "cell_type": "code",
   "execution_count": 19,
   "metadata": {
    "ExecuteTime": {
     "end_time": "2023-09-28T11:35:19.207351Z",
     "start_time": "2023-09-28T11:35:19.195230Z"
    }
   },
   "outputs": [
    {
     "name": "stdout",
     "output_type": "stream",
     "text": [
      "lst1 et lst2 sont strictement égales\n",
      "la longueur de la première liste est strictement égal à celle de la seconde\n"
     ]
    }
   ],
   "source": [
    "# Les deux listes sont données par :\n",
    "lst1 = [i for i in range(20,10,-1)]\n",
    "lst2 = [k for k in range(11,21)][::-1]\n",
    "\n",
    "# Complétez la suite du code comme demandé dans l'énnoncé \n",
    "if lst1 == lst2 :\n",
    "    print(\"lst1 et lst2 sont strictement égales\")\n",
    "\n",
    "else  : \n",
    "    print(\"lst1 et lst2 ne sont pas strictement égales\") \n",
    "\n",
    "if len(lst1) > len(lst2) :\n",
    "    print(\"la longueur de la première liste est supérieure à celle de la seconde\")\n",
    "elif len(lst1) < len(lst2) :\n",
    "    print(\"la longueur de la première liste est inférieur à celle de la seconde\")\n",
    "elif len(lst1) == len(lst2) :\n",
    "    print(\"la longueur de la première liste est strictement égal à celle de la seconde\")"
   ]
  },
  {
   "cell_type": "code",
   "execution_count": 20,
   "metadata": {
    "scrolled": true
   },
   "outputs": [
    {
     "name": "stdout",
     "output_type": "stream",
     "text": [
      "True\n"
     ]
    }
   ],
   "source": [
    "print(lst1 == lst2)"
   ]
  },
  {
   "cell_type": "code",
   "execution_count": 21,
   "metadata": {},
   "outputs": [
    {
     "name": "stdout",
     "output_type": "stream",
     "text": [
      "False\n"
     ]
    }
   ],
   "source": [
    "print(len(lst1)>len(lst2))"
   ]
  },
  {
   "cell_type": "markdown",
   "metadata": {},
   "source": [
    "<span style='line-height:1.5;font-size: 17px;font-family:\"Times New Roman\"'>\n",
    "\n",
    "__Exercice 2 - Erratum__\n",
    "\n",
    "Une erreur s'est glissée dans le code suivant! Repéres la et modifier le code pour qu'il fonctionne correctement."
   ]
  },
  {
   "cell_type": "code",
   "execution_count": 1,
   "metadata": {
    "ExecuteTime": {
     "end_time": "2024-09-17T14:31:10.483569Z",
     "start_time": "2024-09-17T14:31:10.253559Z"
    }
   },
   "outputs": [
    {
     "name": "stdout",
     "output_type": "stream",
     "text": [
      "159\n",
      "157\n",
      "c\n",
      "Python\n"
     ]
    }
   ],
   "source": [
    "int1, int2, str1, a, b = 157, 2, \"Python\", \"c\", (56,601)\n",
    "\n",
    "print(int1 + int2)\n",
    "\n",
    "print(int1)\n",
    "\n",
    "print(a)\n",
    "\n",
    "print(str1)"
   ]
  },
  {
   "cell_type": "markdown",
   "metadata": {},
   "source": [
    "<span style='line-height:1.5;font-size: 17px;font-family:\"Times New Roman\"'>\n",
    "\n",
    "__Exercice 3 - Adhésion__\n",
    "\n",
    "Créez une liste (appelez la comme vous le souhaitez) avec les entiers pairs de 0 à 10. Vérifiez ensuite que 5 n'est pas dans cette liste."
   ]
  },
  {
   "cell_type": "code",
   "execution_count": 23,
   "metadata": {},
   "outputs": [
    {
     "name": "stdout",
     "output_type": "stream",
     "text": [
      "[0, 2, 4, 6, 8, 10]\n",
      "False\n"
     ]
    }
   ],
   "source": [
    "list3=[i for i in range(0,11,2)]\n",
    "print(list3)\n",
    "print(5 in list3)"
   ]
  },
  {
   "cell_type": "code",
   "execution_count": 26,
   "metadata": {},
   "outputs": [
    {
     "name": "stdout",
     "output_type": "stream",
     "text": [
      "[1, 2]\n",
      "[1, 2, 'a']\n"
     ]
    }
   ],
   "source": [
    "une_l = [1,2]\n",
    "print(une_l)\n",
    "une_l.append('a')\n",
    "print(une_l)"
   ]
  },
  {
   "cell_type": "markdown",
   "metadata": {},
   "source": [
    "## Exercice intérmédiaire\n",
    "Avec une boucle créer une liste avec les entier de 1 à 10\n",
    "\n",
    "Avec une boucle et une condition, créez une liste avec les entier pair de 1 à 10\n",
    "\n",
    "utiliser la fonction range\n",
    "\n",
    "créer une liste vide"
   ]
  },
  {
   "cell_type": "code",
   "execution_count": 31,
   "metadata": {},
   "outputs": [
    {
     "name": "stdout",
     "output_type": "stream",
     "text": [
      "[2, 4, 6, 8, 10]\n"
     ]
    }
   ],
   "source": [
    "list4=[i for i in range(1,11,1)]\n",
    "\n",
    "list_pair = []\n",
    "\n",
    "for i in list4 :\n",
    "    if i%2==0 :\n",
    "        list_pair.append(i)\n",
    "\n",
    "print(list_pair)          "
   ]
  },
  {
   "cell_type": "markdown",
   "metadata": {},
   "source": [
    "<span style='line-height:1.5;font-size: 17px;font-family:\"Times New Roman\"'>\n",
    "\n",
    "__Exercice 4 - Boucle simple__\n",
    "\n",
    "Ecrivez une boucle permettant d'afficher les entiers de 0 à 10."
   ]
  },
  {
   "cell_type": "code",
   "execution_count": 11,
   "metadata": {
    "ExecuteTime": {
     "end_time": "2023-09-28T11:54:09.642639Z",
     "start_time": "2023-09-28T11:54:09.638112Z"
    }
   },
   "outputs": [
    {
     "name": "stdout",
     "output_type": "stream",
     "text": [
      "0\n",
      "1\n",
      "2\n",
      "3\n",
      "4\n",
      "5\n",
      "6\n",
      "7\n",
      "8\n",
      "9\n",
      "10\n"
     ]
    }
   ],
   "source": [
    "for i in list3 :\n",
    "    print(i)"
   ]
  },
  {
   "cell_type": "markdown",
   "metadata": {},
   "source": [
    "<span style='line-height:1.5;font-size: 17px;font-family:\"Times New Roman\"'>\n",
    "\n",
    "__Exercice 5 - Erratum dans une boucle__\n",
    "\n",
    "Une erreur est présente dans le code suivant! Corrigez là pour que le code fonctionne normalement. Vous pouvez lire la partie du chapitre 1 sur les structures conditionnelles pour vous aider."
   ]
  },
  {
   "cell_type": "code",
   "execution_count": 12,
   "metadata": {
    "ExecuteTime": {
     "end_time": "2023-09-28T12:02:25.078884Z",
     "start_time": "2023-09-28T12:02:25.064715Z"
    }
   },
   "outputs": [
    {
     "name": "stdout",
     "output_type": "stream",
     "text": [
      "Bien joué!\n"
     ]
    }
   ],
   "source": [
    "l = ['B','zr','i','rf','e','dfg','n',' ','j','roui','o','df','u','qsd','é','!']\n",
    "\n",
    "res = []\n",
    "\n",
    "for lettre in l :\n",
    "    if len(lettre) == 1 :\n",
    "        res.append(lettre)\n",
    "    \n",
    "print(\"\".join(res))"
   ]
  },
  {
   "cell_type": "markdown",
   "metadata": {},
   "source": [
    "<span style='line-height:1.5;font-size: 17px;font-family:\"Times New Roman\"'>\n",
    "\n",
    "__Exercice 6 - Boucle moins simple__\n",
    "\n",
    "Nous créons une liste contenant les entiers pairs de 0 à 20. Ecrivez une boucle permettant de vérifier qu'aucun impair n'est dans la liste."
   ]
  },
  {
   "cell_type": "code",
   "execution_count": 35,
   "metadata": {
    "ExecuteTime": {
     "end_time": "2023-09-28T12:21:25.784876Z",
     "start_time": "2023-09-28T12:21:25.769963Z"
    }
   },
   "outputs": [],
   "source": [
    "liste_pairs = [i for i in range(0,21,2)]\n",
    "\n",
    "for i in liste_pairs :\n",
    "    if i%2!=0 :\n",
    "        print(i,\"est impaire\")"
   ]
  },
  {
   "cell_type": "markdown",
   "metadata": {},
   "source": [
    "<span style='line-height:1.5;font-size: 17px;font-family:\"Times New Roman\"'>\n",
    "\n",
    "__Exercice 7 - Boucle d'ajout d'éléments à une liste.__\n",
    "\n",
    "Initialisation : créez une variable (appelez la comme vous le souhaitez) contenant une liste vide.\n",
    "    \n",
    "Itération : à l'aide d'une boucle allant de 1 à 30, ajoutez au fur et à mesure de la boucle, les entiers divisibles par 3."
   ]
  },
  {
   "cell_type": "code",
   "execution_count": 37,
   "metadata": {
    "ExecuteTime": {
     "end_time": "2023-09-28T12:36:12.529684Z",
     "start_time": "2023-09-28T12:36:12.513639Z"
    }
   },
   "outputs": [
    {
     "name": "stdout",
     "output_type": "stream",
     "text": [
      "[3, 6, 9, 12, 15, 18, 21, 24, 27]\n"
     ]
    }
   ],
   "source": [
    "list6 = []\n",
    "for i in range(1,30,1):\n",
    "    if i%3==0 :\n",
    "        list6.append(i)\n",
    "print(list6)"
   ]
  },
  {
   "cell_type": "markdown",
   "metadata": {},
   "source": [
    "<span style='line-height:1.5;font-size: 17px;font-family:\"Times New Roman\"'>\n",
    "\n",
    "__Exercice 8 - Comptage dans une chaîne de caractères__\n",
    "\n",
    "En vous aidant de la fonction `split` utilisée ci-dessous, trouvez un moyen de compter le nombre de mots présents dans le long texte proposé ci-après."
   ]
  },
  {
   "cell_type": "code",
   "execution_count": 3,
   "metadata": {
    "ExecuteTime": {
     "end_time": "2022-09-14T16:05:10.569271Z",
     "start_time": "2022-09-14T16:05:10.552783Z"
    }
   },
   "outputs": [
    {
     "name": "stdout",
     "output_type": "stream",
     "text": [
      "['b', 'nj', 'ur à t', 'us, c', 'mment allez-v', 'us ?']\n",
      "['bonjour à tous', ' comment allez-vous ?']\n"
     ]
    }
   ],
   "source": [
    "un_texte = \"bonjour à tous, comment allez-vous ?\"\n",
    "\n",
    "resultat1 = un_texte.split(\"o\")\n",
    "resultat2 = un_texte.split(\",\")\n",
    "\n",
    "print(resultat1)\n",
    "print(resultat2)"
   ]
  },
  {
   "cell_type": "code",
   "execution_count": 38,
   "metadata": {
    "ExecuteTime": {
     "end_time": "2023-09-28T12:45:04.509278Z",
     "start_time": "2023-09-28T12:45:04.494643Z"
    }
   },
   "outputs": [],
   "source": [
    "long_texte = \"Lorem ipsum dolor sit amet, consectetur adipiscing elit, sed do eiusmod tempor incididunt ut labore et dolore magna aliqua. Ut enim ad minim veniam, quis nostrud exercitation ullamco laboris nisi ut aliquip ex ea commodo consequat. Duis aute irure dolor in reprehenderit in voluptate velit esse cillum dolore eu fugiat nulla pariatur. Excepteur sint occaecat cupidatat non proident, sunt in culpa qui officia deserunt mollit anim id est laborum.\""
   ]
  },
  {
   "cell_type": "code",
   "execution_count": 41,
   "metadata": {},
   "outputs": [
    {
     "name": "stdout",
     "output_type": "stream",
     "text": [
      "69\n"
     ]
    }
   ],
   "source": [
    "resultat3 = long_texte.split(' ')\n",
    "print(len(resultat3))"
   ]
  },
  {
   "cell_type": "code",
   "execution_count": null,
   "metadata": {},
   "outputs": [],
   "source": []
  },
  {
   "cell_type": "code",
   "execution_count": null,
   "metadata": {},
   "outputs": [],
   "source": []
  }
 ],
 "metadata": {
  "kernelspec": {
   "display_name": "Python 3 (ipykernel)",
   "language": "python",
   "name": "python3"
  },
  "language_info": {
   "codemirror_mode": {
    "name": "ipython",
    "version": 3
   },
   "file_extension": ".py",
   "mimetype": "text/x-python",
   "name": "python",
   "nbconvert_exporter": "python",
   "pygments_lexer": "ipython3",
   "version": "3.11.4"
  },
  "toc": {
   "base_numbering": 1,
   "nav_menu": {},
   "number_sections": true,
   "sideBar": true,
   "skip_h1_title": false,
   "title_cell": "Table of Contents",
   "title_sidebar": "Contents",
   "toc_cell": false,
   "toc_position": {},
   "toc_section_display": true,
   "toc_window_display": false
  },
  "varInspector": {
   "cols": {
    "lenName": 16,
    "lenType": 16,
    "lenVar": 40
   },
   "kernels_config": {
    "python": {
     "delete_cmd_postfix": "",
     "delete_cmd_prefix": "del ",
     "library": "var_list.py",
     "varRefreshCmd": "print(var_dic_list())"
    },
    "r": {
     "delete_cmd_postfix": ") ",
     "delete_cmd_prefix": "rm(",
     "library": "var_list.r",
     "varRefreshCmd": "cat(var_dic_list()) "
    }
   },
   "types_to_exclude": [
    "module",
    "function",
    "builtin_function_or_method",
    "instance",
    "_Feature"
   ],
   "window_display": false
  }
 },
 "nbformat": 4,
 "nbformat_minor": 2
}
