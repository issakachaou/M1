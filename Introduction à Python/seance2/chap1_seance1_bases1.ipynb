{
 "cells": [
  {
   "cell_type": "markdown",
   "metadata": {},
   "source": [
    "<span style='line-height:1.5;font-size: 17px;font-family:\"Times New Roman\"'>\n",
    "\n",
    "\n",
    "<b><center><font size=\"6\">Introduction à python - Séance 1 </font></center></b>\n",
    "\n",
    "<b><center><font size=\"6\">Exercices</font></center></b>\n",
    "    \n",
    "<g><h7><center> CM - P. Durand  - pierre.alexis.durand@hotmail.fr </center></h7></g>\n",
    "\n",
    "\n",
    "\n",
    "<b><center><font size=\"5\">M1 - 2024-2025</font></center></b> \n",
    "\n",
    "\n",
    "\n",
    "</span>"
   ]
  },
  {
   "cell_type": "markdown",
   "metadata": {},
   "source": [
    "<span style='line-height:1.5;font-size: 17px;font-family:\"Times New Roman\"'>\n",
    "\n",
    "<hr style=\" border: 2.5px solid black;\">\n",
    "<br>\n",
    "\n",
    "#### Plan du cours\n",
    "<br>\n",
    "\n",
    "- Partie I : introduction et appréhension du langage python \n",
    "    - <b>Séance 1 - variables et syntaxe de base</b>\n",
    "    - Séance 2 - boucles et structure conditionnelle - exercices d'application\n",
    "    - Séance 3 - exercices d'application : utilisation et combinaison des outils acquis\n",
    "    - Séance 4 - exercices d'application : prise d'autonomie sur la recherche d'information \n",
    "    \n",
    "- Partie II : apprendre à coder\n",
    "    - Séance 5 - fonctions sous python - exercices d'application\n",
    "    - Séance 6 - exercices d'application : coder des fonctions simples\n",
    "    - Séance 7 - bases de données et manipulation des données sous python - exercices d'application\n",
    "    - Séance 8 - exercices d'application : manipulation de bases de données\n",
    "    - Séance 9 - exercices d'application : restitution des connaissances de l'ensemble du cours\n",
    "    \n",
    "- Partie III : prise de recul sur un code python\n",
    "    - Séance 10 - commenter un code et utiliser ChatGPT \n",
    "\n",
    "<br>\n",
    "\n",
    "\n",
    "\n",
    "\n",
    "\n",
    "<br>"
   ]
  },
  {
   "cell_type": "markdown",
   "metadata": {},
   "source": [
    "<span style='line-height:1.5;font-size: 17px;font-family:\"Times New Roman\"'>\n",
    "\n",
    "<hr style=\" border: 2.5px solid black;\">\n",
    "<br>\n",
    "\n",
    "__Exercice 1 - Création de variable et affichage__ \n",
    "\n",
    "Définissez trois variables :\n",
    "- Une variable appelée <i>mon_int1</i> qui prend la valeur 30\n",
    "- Une variable appelée <i>mon_str1</i> qui prend la valeur \"Hello world!\"\n",
    "- Une variable appelée <i>ma_liste</i> qui prend la valeur [1,2,3,4]\n",
    "\n",
    "\n",
    "Afficher ensuite le type de chacune de ces variables (il faudra utiliser deux fonctions intégrées de python vues au premier chapitre)."
   ]
  },
  {
   "cell_type": "code",
   "execution_count": 1,
   "metadata": {},
   "outputs": [
    {
     "name": "stdout",
     "output_type": "stream",
     "text": [
      "<class 'int'>\n",
      "<class 'str'>\n",
      "<class 'list'>\n"
     ]
    }
   ],
   "source": [
    "mon_int1 = 30\n",
    "mon_str1 = \"Hello world!\"\n",
    "ma_liste = [1,2,3,4]\n",
    "print(type(mon_int1))\n",
    "print(type(mon_str1))\n",
    "print(type(ma_liste))"
   ]
  },
  {
   "cell_type": "code",
   "execution_count": 1,
   "metadata": {},
   "outputs": [
    {
     "ename": "SyntaxError",
     "evalue": "invalid syntax (2898947216.py, line 1)",
     "output_type": "error",
     "traceback": [
      "\u001b[1;36m  Cell \u001b[1;32mIn[1], line 1\u001b[1;36m\u001b[0m\n\u001b[1;33m    jupyter nbextension enable hinterland\u001b[0m\n\u001b[1;37m            ^\u001b[0m\n\u001b[1;31mSyntaxError\u001b[0m\u001b[1;31m:\u001b[0m invalid syntax\n"
     ]
    }
   ],
   "source": [
    "jupyter nbextension enable hinterland"
   ]
  },
  {
   "cell_type": "markdown",
   "metadata": {},
   "source": [
    "<span style='line-height:1.5;font-size: 17px;font-family:\"Times New Roman\"'>\n",
    "\n",
    "__Exercice 2 - Longueur d'une liste__\n",
    "\n",
    "On défini une liste dans le code suivant. Complétez le code pour afficher la longueur de cette liste."
   ]
  },
  {
   "cell_type": "code",
   "execution_count": 2,
   "metadata": {
    "ExecuteTime": {
     "end_time": "2023-09-21T11:35:53.415663Z",
     "start_time": "2023-09-21T11:35:53.395815Z"
    }
   },
   "outputs": [
    {
     "name": "stdout",
     "output_type": "stream",
     "text": [
      "25\n"
     ]
    }
   ],
   "source": [
    "l = [i for i in range(44,118,3)]\n",
    "print(len(l))"
   ]
  },
  {
   "cell_type": "markdown",
   "metadata": {},
   "source": [
    "<span style='line-height:1.5;font-size: 17px;font-family:\"Times New Roman\"'>\n",
    "\n",
    "__Exercice 3 - Chaines de caractères, longueur et opérateurs__\n",
    "\n",
    "Créez sur une même ligne, deux variables : \n",
    "- Une variable appelée _str1_ prenant comme valeur \"Je m'appelle Albert Einstein.\"\n",
    "- Une variable appelée _str2_ prenant comme valeur \"Oui, et moi je suis le pape !\"\n",
    "\n",
    "Affichez :\n",
    "- La longeur de chacune des variables\n",
    "- La somme et le produit des longueurs de ces variables"
   ]
  },
  {
   "cell_type": "code",
   "execution_count": 5,
   "metadata": {},
   "outputs": [
    {
     "name": "stdout",
     "output_type": "stream",
     "text": [
      "29\n",
      "29\n",
      "58\n",
      "841\n"
     ]
    }
   ],
   "source": [
    "str1 = \"Je m'appelle Albert Einstein.\"\n",
    "str2 = \"Oui, et moi je suis le pape !\"\n",
    "x=len(str1)\n",
    "y=len(str2)\n",
    "print(x)\n",
    "print(y)\n",
    "print(x+y)\n",
    "print(x*y)"
   ]
  }
 ],
 "metadata": {
  "kernelspec": {
   "display_name": "Python 3 (ipykernel)",
   "language": "python",
   "name": "python3"
  },
  "language_info": {
   "codemirror_mode": {
    "name": "ipython",
    "version": 3
   },
   "file_extension": ".py",
   "mimetype": "text/x-python",
   "name": "python",
   "nbconvert_exporter": "python",
   "pygments_lexer": "ipython3",
   "version": "3.11.4"
  },
  "toc": {
   "base_numbering": 1,
   "nav_menu": {},
   "number_sections": true,
   "sideBar": true,
   "skip_h1_title": false,
   "title_cell": "Table of Contents",
   "title_sidebar": "Contents",
   "toc_cell": false,
   "toc_position": {
    "height": "calc(100% - 180px)",
    "left": "10px",
    "top": "150px",
    "width": "165px"
   },
   "toc_section_display": true,
   "toc_window_display": false
  },
  "varInspector": {
   "cols": {
    "lenName": 16,
    "lenType": 16,
    "lenVar": 40
   },
   "kernels_config": {
    "python": {
     "delete_cmd_postfix": "",
     "delete_cmd_prefix": "del ",
     "library": "var_list.py",
     "varRefreshCmd": "print(var_dic_list())"
    },
    "r": {
     "delete_cmd_postfix": ") ",
     "delete_cmd_prefix": "rm(",
     "library": "var_list.r",
     "varRefreshCmd": "cat(var_dic_list()) "
    }
   },
   "types_to_exclude": [
    "module",
    "function",
    "builtin_function_or_method",
    "instance",
    "_Feature"
   ],
   "window_display": false
  }
 },
 "nbformat": 4,
 "nbformat_minor": 2
}
