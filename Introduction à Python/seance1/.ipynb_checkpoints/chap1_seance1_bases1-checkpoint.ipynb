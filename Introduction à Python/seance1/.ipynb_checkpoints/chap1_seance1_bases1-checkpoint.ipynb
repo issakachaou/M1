{
 "cells": [
  {
   "cell_type": "markdown",
   "metadata": {},
   "source": [
    "<span style='line-height:1.5;font-size: 17px;font-family:\"Times New Roman\"'>\n",
    "\n",
    "\n",
    "<b><center><font size=\"6\">Introduction à python - Séance 1 </font></center></b>\n",
    "\n",
    "<b><center><font size=\"6\">Exercices</font></center></b>\n",
    "    \n",
    "<g><h7><center> CM - P. Durand  - pierre.alexis.durand@hotmail.fr </center></h7></g>\n",
    "\n",
    "\n",
    "\n",
    "<b><center><font size=\"5\">M1 - 2024-2025</font></center></b> \n",
    "\n",
    "\n",
    "\n",
    "</span>"
   ]
  },
  {
   "cell_type": "markdown",
   "metadata": {},
   "source": [
    "<span style='line-height:1.5;font-size: 17px;font-family:\"Times New Roman\"'>\n",
    "\n",
    "<hr style=\" border: 2.5px solid black;\">\n",
    "<br>\n",
    "\n",
    "#### Plan du cours\n",
    "<br>\n",
    "\n",
    "- Partie I : introduction et appréhension du langage python \n",
    "    - <b>Séance 1 - variables et syntaxe de base</b>\n",
    "    - Séance 2 - boucles et structure conditionnelle - exercices d'application\n",
    "    - Séance 3 - exercices d'application : utilisation et combinaison des outils acquis\n",
    "    - Séance 4 - exercices d'application : prise d'autonomie sur la recherche d'information \n",
    "    \n",
    "- Partie II : apprendre à coder\n",
    "    - Séance 5 - fonctions sous python - exercices d'application\n",
    "    - Séance 6 - exercices d'application : coder des fonctions simples\n",
    "    - Séance 7 - bases de données et manipulation des données sous python - exercices d'application\n",
    "    - Séance 8 - exercices d'application : manipulation de bases de données\n",
    "    - Séance 9 - exercices d'application : restitution des connaissances de l'ensemble du cours\n",
    "    \n",
    "- Partie III : prise de recul sur un code python\n",
    "    - Séance 10 - commenter un code et utiliser ChatGPT \n",
    "\n",
    "<br>\n",
    "\n",
    "\n",
    "\n",
    "\n",
    "\n",
    "<br>"
   ]
  },
  {
   "cell_type": "markdown",
   "metadata": {},
   "source": [
    "<span style='line-height:1.5;font-size: 17px;font-family:\"Times New Roman\"'>\n",
    "\n",
    "<hr style=\" border: 2.5px solid black;\">\n",
    "<br>\n",
    "\n",
    "__Exercice 1 - Création de variable et affichage__ \n",
    "\n",
    "Définissez trois variables :\n",
    "- Une variable appelée <i>mon_int1</i> qui prend la valeur 30\n",
    "- Une variable appelée <i>mon_str1</i> qui prend la valeur \"Hello world!\"\n",
    "- Une variable appelée <i>ma_liste</i> qui prend la valeur [1,2,3,4]\n",
    "\n",
    "\n",
    "Afficher ensuite le type de chacune de ces variables (il faudra utiliser deux fonctions intégrées de python vues au premier chapitre)."
   ]
  },
  {
   "cell_type": "code",
   "execution_count": 2,
   "metadata": {
    "ExecuteTime": {
     "end_time": "2023-09-21T11:26:31.283613Z",
     "start_time": "2023-09-21T11:26:31.264747Z"
    },
    "scrolled": true
   },
   "outputs": [
    {
     "name": "stdout",
     "output_type": "stream",
     "text": [
      "<class 'int'>\n",
      "<class 'str'>\n",
      "<class 'list'>\n"
     ]
    }
   ],
   "source": [
    "mon_int1 = 30\n",
    "mon_str1 = \"Hello wolrd!\"\n",
    "ma_liste = [1,2,3,4]\n",
    "print(type(mon_int1))\n",
    "print(type(mon_str1))\n",
    "print(type(ma_liste))"
   ]
  },
  {
   "cell_type": "markdown",
   "metadata": {},
   "source": [
    "<span style='line-height:1.5;font-size: 17px;font-family:\"Times New Roman\"'>\n",
    "\n",
    "__Exercice 2 - Longueur d'une liste__\n",
    "\n",
    "On défini une liste dans le code suivant. Complétez le code pour afficher la longueur de cette liste."
   ]
  },
  {
   "cell_type": "code",
   "execution_count": 6,
   "metadata": {
    "ExecuteTime": {
     "end_time": "2023-09-21T11:35:53.415663Z",
     "start_time": "2023-09-21T11:35:53.395815Z"
    }
   },
   "outputs": [
    {
     "name": "stdout",
     "output_type": "stream",
     "text": [
      "[44, 47, 50, 53, 56, 59, 62, 65, 68, 71, 74, 77, 80, 83, 86, 89, 92, 95, 98, 101, 104, 107, 110, 113, 116]\n",
      "25\n",
      "25\n"
     ]
    }
   ],
   "source": [
    "l = [i for i in range(44,118,3)]\n",
    "print(l)\n",
    "print(len(l))\n",
    "long = len(l)\n",
    "print(long)"
   ]
  },
  {
   "cell_type": "code",
   "execution_count": null,
   "metadata": {},
   "outputs": [],
   "source": []
  },
  {
   "cell_type": "markdown",
   "metadata": {},
   "source": [
    "<span style='line-height:1.5;font-size: 17px;font-family:\"Times New Roman\"'>\n",
    "\n",
    "__Exercice 3 - Chaines de caractères, longueur et opérateurs__\n",
    "\n",
    "Créez sur une même ligne, deux variables : \n",
    "- Une variable appelée _str1_ prenant comme valeur \"Je m'appelle Albert Einstein.\"\n",
    "- Une variable appelée _str2_ prenant comme valeur \"Oui, et moi je suis le pape !\"\n",
    "\n",
    "Affichez :\n",
    "- La longeur de chacune des variables\n",
    "- La somme et le produit des longueurs de ces variables"
   ]
  },
  {
   "cell_type": "code",
   "execution_count": 4,
   "metadata": {},
   "outputs": [
    {
     "name": "stdout",
     "output_type": "stream",
     "text": [
      "La première chaine de caractère à pour longueur 22 caratères\n",
      "La deuxième chaine de caractère à pour longueur 26 caratères\n",
      "La somme des deux longueurs est donc 48\n",
      "Le produit des deux longueurs est donc 572\n"
     ]
    }
   ],
   "source": [
    "str1 = \"- Allo, c'est Bassem ?\"\n",
    "str2 = \"- Non ! C'est Benoit XVI !\"\n",
    "len_str1 = len(str1)\n",
    "len_str2 = len(str2)\n",
    "print('La première chaine de caractère à pour longueur', len_str1, 'caratères')\n",
    "print('La deuxième chaine de caractère à pour longueur', len_str2, 'caratères')\n",
    "print('La somme des deux longueurs est donc', len_str1 + len_str2 )\n",
    "print('Le produit des deux longueurs est donc', len_str1 * len_str2 )"
   ]
  }
 ],
 "metadata": {
  "kernelspec": {
   "display_name": "Python 3 (ipykernel)",
   "language": "python",
   "name": "python3"
  },
  "language_info": {
   "codemirror_mode": {
    "name": "ipython",
    "version": 3
   },
   "file_extension": ".py",
   "mimetype": "text/x-python",
   "name": "python",
   "nbconvert_exporter": "python",
   "pygments_lexer": "ipython3",
   "version": "3.11.4"
  },
  "toc": {
   "base_numbering": 1,
   "nav_menu": {},
   "number_sections": true,
   "sideBar": true,
   "skip_h1_title": false,
   "title_cell": "Table of Contents",
   "title_sidebar": "Contents",
   "toc_cell": false,
   "toc_position": {
    "height": "calc(100% - 180px)",
    "left": "10px",
    "top": "150px",
    "width": "165px"
   },
   "toc_section_display": true,
   "toc_window_display": false
  },
  "varInspector": {
   "cols": {
    "lenName": 16,
    "lenType": 16,
    "lenVar": 40
   },
   "kernels_config": {
    "python": {
     "delete_cmd_postfix": "",
     "delete_cmd_prefix": "del ",
     "library": "var_list.py",
     "varRefreshCmd": "print(var_dic_list())"
    },
    "r": {
     "delete_cmd_postfix": ") ",
     "delete_cmd_prefix": "rm(",
     "library": "var_list.r",
     "varRefreshCmd": "cat(var_dic_list()) "
    }
   },
   "types_to_exclude": [
    "module",
    "function",
    "builtin_function_or_method",
    "instance",
    "_Feature"
   ],
   "window_display": false
  }
 },
 "nbformat": 4,
 "nbformat_minor": 2
}
