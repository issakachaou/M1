{
 "cells": [
  {
   "cell_type": "markdown",
   "metadata": {},
   "source": [
    "<span style='line-height:1.5;font-size: 17px;font-family:\"Times New Roman\"'>\n",
    "\n",
    "\n",
    "<b><center><font size=\"6\">Introduction à python - Séance 1 & 2 </font></center></b>\n",
    "\n",
    "<b><center><font size=\"6\">Premiers pas sous python</font></center></b>\n",
    "    \n",
    "<g><h7><center> CM - P. Durand  - pierre.alexis.durand@hotmail.fr </center></h7></g>\n",
    "\n",
    "\n",
    "\n",
    "<b><center><font size=\"5\">M1 - 2024-2025</font></center></b> \n",
    "\n",
    "\n",
    "\n",
    "</span>"
   ]
  },
  {
   "cell_type": "markdown",
   "metadata": {},
   "source": [
    "<span style='line-height:1.5;font-size: 17px;font-family:\"Times New Roman\"'>\n",
    "\n",
    "<hr style=\" border: 2.5px solid black;\">\n",
    "<br>\n",
    "\n",
    "<a id='plan'></a>\n",
    "Plan \n",
    "\n",
    "\n",
    "- [Notes introductives](#p0)\n",
    "- [1. Eléments de base](#p1)\n",
    "    - [1.1 Syntaxe de base & Variables](#p11)\n",
    "        - [1.1.1 Variables](#p111)\n",
    "        - [1.1.2 Afficher les variables](#p112)\n",
    "        - [1.1.3 Commentaires](#p113)\n",
    "        - [1.1.4 Quelques tips !](#p114)\n",
    "    - [1.2 Opérateur basiques](#p12)\n",
    "        - [1.2.1 Opérateur arithmétiques](#p121)\n",
    "        - [1.2.2 Opérateur de comparaisons](#p122)\n",
    "        - [1.2.3 Opérateur d'assignations](#p123)\n",
    "        - [1.2.4 Opérateur logiques](#p124)\n",
    "        - [1.2.5 Opérateur d'adhésions](#p125)\n",
    "        - [1.2.6 Opérateur d'identités](#p126)\n",
    "    - [1.3 Boucles](#p13)\n",
    "        - [1.3.1 Boucle For](#p131)\n",
    "        - [1.3.2 Boucle While](#p132)\n",
    "    - [1.4 Structures conditionelles](#p14)\n",
    "    - [1.5 Chaines de caractères](#p15)\n",
    "    - [1.6 Liste, tuple et dictionnaire](#p16)\n",
    "        - [1.6.1 Liste](#p161)\n",
    "        - [1.6.2 Tuple](#p162)\n",
    "        - [1.6.3 Dictionnaire](#p163)\n",
    "    - [1.7 Les fonctions](#p17)\n",
    "    - [1.8 File I/O (Input/output)](#p18)\n",
    "        - [1.8.1 Input()](#p181)\n",
    "        - [1.8.2 Open()](#p182)\n",
    "- [2. Notion de Package ](#p2)\n",
    "    - [2.1 Qu'est-ce qu'un package ?](#p21)\n",
    "    - [2.2 Utiliser la documentation !](#p23)\n",
    "    - [2.3 Les packages qui nous interessent !](#p24)\n",
    "        - [2.3.1 Numpy](#p241)\n",
    "        - [2.3.2 Pandas](#p242)\n",
    "        - [2.3.3 Statsmodels](#p243)\n",
    "        - [2.3.4 Scikit-learn](#p244)\n",
    "        - [2.3.5 Seaborn](#p245)\n",
    "\n",
    "- [3. Pandas et base de données](#p3)\n",
    "    - [3.1 Pandas - les bases](#p31)\n",
    "    - [3.2 Gestion des données](#p32)\n",
    "        - [3.2.1 Conditionnement sur les données](#p321)\n",
    "        - [3.2.2 Créer et supprimer des variables](#p322)\n",
    "        - [3.2.3 Les fonctions de gestions de données](#p323)\n",
    "        - [3.2.4 Quelques statistiques descriptives avec pandas](#p324)\n",
    "- [4. Statistiques descriptives et matplotlib](#p4)\n",
    "    - [4.1 Statistiques descriptives](#p41)\n",
    "    - [4.2 Visualisation des données](#p42)\n",
    "        - [4.2.1 Graphique - courbes](#p421)\n",
    "        - [4.2.2 Histogramme et densité](#p422)\n",
    "        - [4.2.3 Nuage de points](#p423)\n",
    "        - [4.2.4 Hitmap](#p424)\n",
    "- [5. Comment se documenter ?](#p5)\n",
    "    - [5.1 StackOverFlow](#p51)\n",
    "    - [5.2 GitHub & assimilés](#52)"
   ]
  },
  {
   "cell_type": "markdown",
   "metadata": {},
   "source": [
    "<span style='line-height:1.5;font-size: 17px;font-family:\"Times New Roman\"'>\n",
    "\n",
    "<hr style=\" border: 2.5px solid black;\">\n",
    "<br>\n",
    "\n",
    "# Notes Introductives <font color='blue' size=\"1.5\"><i>[Plan du cours](#plan)</i></font>\n",
    "<a id='p0'></a>\n",
    "\n",
    "\n",
    "Ce chapitre est largement inspiré du tutorial du site <i>Tutorial Points</i> ( https://www.tutorialspoint.com/python3/python_modules.htm ). Cette introduction n'a pas pour objectif l'exhaustivité, mais de renseigner simplement sur les bases du language Python. Plutôt que de longues explications inutiles, cette section est fournie d'un grand nombre d'exemples. \n",
    "\n",
    "Ces exemples, vous l'aurez compris, sont modifiables ! Dans cette version de l'introduction, des exercices vous sont proposés, mais n'hésitez pas à modifier, créer, ou ajuster le code déjà présent ! \n",
    "\n",
    "Vous pouvez aussi insérer une cellule en cliquant sur le numéro d'une cellule déjà présente (le contour de la cellule devient bleu) puis en tapant 'a' pour insérer une cellule au dessus de celle selectionnée, ou en tapant 'b' pour insérer une cellule en dessous. Ou en utilisant le menu (bien plus long!) _insert_...\n",
    "\n",
    "Il existe deux types de cellules : les cellules de codes (bien évidemment) et les cellules dites _Markdown_ (comme celle-ci!) servant à écrire du texte. \n",
    "\n",
    "<b>NOTE 0</b> :  \n",
    " - <b>Ctrl + Entrée</b>, exécute une cellule et reste dans cette cellule\n",
    " - <b>Shift + Entrée</b>, exécute une cellule et passe à la suivante\n",
    "\n",
    "\n",
    "<b>NOTE 1</b> : si vous inspectez une cellule de texte, vous trouverez souvent des balises : p, a etc (entre les bornes < et >), il s'agit de code HTML permettant une navigation plus agréable dans le cours.\n",
    "\n",
    "<b>NOTE 2</b> : les cellules de codes \"communiquent\" entre elles. Une variable, une fonction, un résultat généré dans une cellule est disponible pour les autres cellules.\n",
    "\n",
    "<b>IMPORTANT</b> : Tout au long du cours, des explications sont présentes dans les celulles de texte mais également dans les celulles de codes en commentaire !"
   ]
  },
  {
   "cell_type": "markdown",
   "metadata": {},
   "source": [
    "<span style='line-height:1.5;font-size: 17px;font-family:\"Times New Roman\"'>\n",
    "\n",
    "<hr style=\" border: 2.5px solid black;\">\n",
    "<br>\n",
    "\n",
    "# Éléments de base <font color='blue' size=\"1.5\"><i>[Plan du cours](#plan)</i></font>\n",
    "<a id='p1'></a>"
   ]
  },
  {
   "cell_type": "markdown",
   "metadata": {},
   "source": [
    "<span style='line-height:1.5;font-size: 17px;font-family:\"Times New Roman\"'>\n",
    "\n",
    "## Synthaxe de base et variables <font color='blue' size=\"1.5\"><i>[Plan du cours](#plan)</i></font>\n",
    "<a id='p11'></a>\n",
    "La tradition impose l'exécution du code suivant : "
   ]
  },
  {
   "cell_type": "code",
   "execution_count": 2,
   "metadata": {},
   "outputs": [
    {
     "name": "stdout",
     "output_type": "stream",
     "text": [
      "Hello World!\n"
     ]
    }
   ],
   "source": [
    "print (\"Hello World!\")"
   ]
  },
  {
   "cell_type": "markdown",
   "metadata": {},
   "source": [
    "<span style='line-height:1.5;font-size: 17px;font-family:\"Times New Roman\"'>\n",
    "\n",
    "La fonction \"print()\" est une fonction intégrée de Python (en anglais \"Built-in\"). Vous l'utiliserez souvent pour afficher le contenu d'une variable !<br>\n",
    "\n",
    "<i>Note : Vous l'aurez peut-être remarqué, sur la gauche de chaque cellule de code, un compteur est présent \"In [4]\", par exemple. Il énumère le nombre d'exécutions de la cellule ! </i>\n",
    "\n",
    "__Exercice__ : dans la cellule vide suivante, écrire une ligne de code pour afficher \"Mon premier bout de code\""
   ]
  },
  {
   "cell_type": "code",
   "execution_count": null,
   "metadata": {},
   "outputs": [],
   "source": []
  },
  {
   "cell_type": "markdown",
   "metadata": {},
   "source": [
    "<span style='line-height:1.5;font-size: 17px;font-family:\"Times New Roman\"'>\n",
    "\n",
    "### Variables <font color='blue' size=\"1.5\"><i>[Plan du cours](#plan)</i></font>\n",
    "<a id='p111'></a>"
   ]
  },
  {
   "cell_type": "code",
   "execution_count": 4,
   "metadata": {},
   "outputs": [
    {
     "name": "stdout",
     "output_type": "stream",
     "text": [
      "Hello, Python 3\n"
     ]
    }
   ],
   "source": [
    "ma_variable = \"Hello, Python 3\"\n",
    "print(ma_variable)"
   ]
  },
  {
   "cell_type": "markdown",
   "metadata": {},
   "source": [
    "<span style='line-height:1.5;font-size: 17px;font-family:\"Times New Roman\"'>\n",
    "\n",
    "Pour les variables contenant du texte, Python accepte les guillemets simple (''), double (\"\") et triple (\"\"\" \"\"\"). <br>\n",
    "Le code ci-dessous est un exemple d'assignation de valeur à une variable. Une variable peut contenir des éléments de type différents. Exemples : "
   ]
  },
  {
   "cell_type": "code",
   "execution_count": null,
   "metadata": {},
   "outputs": [],
   "source": [
    "mon_dico = {'Chomage': [1,2.5,3.6] , \n",
    "            'PIB': [5,4.2,6.3]} "
   ]
  },
  {
   "cell_type": "code",
   "execution_count": 4,
   "metadata": {},
   "outputs": [
    {
     "name": "stdout",
     "output_type": "stream",
     "text": [
      "[1, 4, 48, 9, 7]\n",
      "('économétrie', 14.5, [2, 8, 10, 15])\n",
      "{'clé1': 'valeur1', 'clé2': 'valeur2'}\n"
     ]
    }
   ],
   "source": [
    "compteur = 100          # Un entier (\"Integer\")\n",
    "kms   = 10000.0         # Un décimal (\"Float\")\n",
    "nom    = \"économétrie\"      # Une chaine de caractère (\"String\")\n",
    "\n",
    "ma_liste = [1, 4, 48, 9, 7] # Une liste (\"List\")\n",
    "mon_tuple = ('économétrie', 14.5, [2, 8, 10, 15])\n",
    "mon_dico = {'clé1': 'valeur1' , 'clé2': 'valeur2'}\n",
    "\n",
    "print(ma_liste)\n",
    "print(mon_tuple)\n",
    "print(mon_dico)"
   ]
  },
  {
   "cell_type": "markdown",
   "metadata": {},
   "source": [
    "<span style='line-height:1.5;font-size: 17px;font-family:\"Times New Roman\"'>\n",
    "\n",
    "__Exercice__ : dans la cellule vide ci-dessous, créer une variable nommée un_nom_long_pour_une_liste, et lui assigner une liste de 3 tuples contenant chacun 2 éléments (une chaîne de caractères - donc entre guillemets - et un integer)\n"
   ]
  },
  {
   "cell_type": "code",
   "execution_count": 1,
   "metadata": {},
   "outputs": [
    {
     "name": "stdout",
     "output_type": "stream",
     "text": [
      "[('économétrie', 14), ('théorie des jeux', 17), ('maths', 10)]\n",
      "{'a': 1, 'b': 2, 'c': [1, 2, 3, 8, 6, 4, 7, 9]}\n"
     ]
    }
   ],
   "source": [
    "un_nom_long_pour_une_liste = [('économétrie',14),('théorie des jeux',17),('maths', 10)]\n",
    "print(un_nom_long_pour_une_liste)\n",
    "x=[1,2,3,8,6,4,7,9]\n",
    "data={'a':1 ,'b':2 , 'c':x}\n",
    "print(data)"
   ]
  },
  {
   "cell_type": "markdown",
   "metadata": {},
   "source": [
    "<span style='line-height:1.5;font-size: 17px;font-family:\"Times New Roman\"'>\n",
    "\n",
    "Nous nous attarderons sur les listes, tuples et dictionnaires plus tard.<br>\n",
    "L'assignation de valeurs aux variables peut aussi s'éffectuer comme suit : "
   ]
  },
  {
   "cell_type": "code",
   "execution_count": 3,
   "metadata": {},
   "outputs": [
    {
     "name": "stdout",
     "output_type": "stream",
     "text": [
      "100 10000.0 économétrie\n",
      "1 1 1\n"
     ]
    }
   ],
   "source": [
    "compteur, kms, nom = 100, 10000.0, \"économétrie\"\n",
    "print(compteur, kms, nom)\n",
    "\n",
    "a = b = c = 1\n",
    "print(a, b, c)"
   ]
  },
  {
   "cell_type": "markdown",
   "metadata": {},
   "source": [
    "<span style='line-height:1.5;font-size: 17px;font-family:\"Times New Roman\"'>\n",
    "\n",
    "Quelques fonctions \"built-in\" utiles pour décrire les variables :"
   ]
  },
  {
   "cell_type": "code",
   "execution_count": 4,
   "metadata": {},
   "outputs": [
    {
     "name": "stdout",
     "output_type": "stream",
     "text": [
      "Le nombre de caractères dans Choubi est :  6\n",
      "5\n",
      "3\n",
      "<class 'str'>\n",
      "<class 'list'>\n"
     ]
    }
   ],
   "source": [
    "#### La fonction len() ####\n",
    "\n",
    "nbcar = len(\"Choubi\") # len() Permet de compter de nombre de caractères \n",
    "print('Le nombre de caractères dans Choubi est : ',nbcar)\n",
    "\n",
    "nbelem = len([1, 4, 48, 9, 7]) # len() Permet aussi de compter le nombre d'éléments dans une liste, tuple, dicos\n",
    "print(nbelem)\n",
    "\n",
    "# Ne fonctionne pas directement pour les nombres, il faut d'abord les convertirs en String grace a str()\n",
    "my_num = len(str(157))\n",
    "print(my_num)\n",
    "\n",
    "#### La fonction type() ####\n",
    "\n",
    "# Utile pour connaitre (ou se rappeler) du type d'une variable :\n",
    "type1 = type(\"économétrie\")\n",
    "type2 = type([1, 4, 48, 9, 7])\n",
    "print(type1)\n",
    "print(type2)"
   ]
  },
  {
   "cell_type": "markdown",
   "metadata": {},
   "source": [
    "<span style='line-height:1.5;font-size: 17px;font-family:\"Times New Roman\"'>\n",
    "\n",
    "__Exercice__ : dans la cellule ci-dessous, \n",
    "- créer un dictionnaire (appelé le comme bon vous semble) avec deux clefs ('Nom' et 'Age') et en valeurs associées à chacune des clef votre nom et âge\n",
    "- créez ensuite une variable appelée taille_du_dictionnaire à laquelle vous assignez la longueur (len) du dictionnaire\n",
    "- enfin, affichez succintement le type associé à ces deux variables "
   ]
  },
  {
   "cell_type": "code",
   "execution_count": 7,
   "metadata": {},
   "outputs": [
    {
     "name": "stdout",
     "output_type": "stream",
     "text": [
      "{'nom': 'Issa', 'âge': 23}\n",
      "2\n",
      "<class 'dict'>\n",
      "<class 'int'>\n"
     ]
    }
   ],
   "source": [
    "dico = {'nom':'Issa', 'âge':23}\n",
    "print(dico)\n",
    "taille_du_dictionnaire = len(dico)\n",
    "print(taille_du_dictionnaire)\n",
    "print(type(dico))\n",
    "print(type(taille_du_dictionnaire))"
   ]
  },
  {
   "cell_type": "markdown",
   "metadata": {},
   "source": [
    "<span style='line-height:1.5;font-size: 17px;font-family:\"Times New Roman\"'>\n",
    "    \n",
    "### Afficher les variables <font color='blue' size=\"1.5\"><i>[Plan du cours](#plan)</i></font>\n",
    "<a id='p112'></a>\n",
    "\n",
    "Référence :\n",
    "https://python-reference.readthedocs.io/en/latest/docs/str/formatting.html"
   ]
  },
  {
   "cell_type": "code",
   "execution_count": 6,
   "metadata": {},
   "outputs": [
    {
     "name": "stdout",
     "output_type": "stream",
     "text": [
      "9.5236\n",
      "9.5236\n",
      "9\n",
      "9.524\n",
      "9.52\n",
      "9.5\n"
     ]
    }
   ],
   "source": [
    "ma_var = 9.5236\n",
    "\n",
    "print(ma_var)\n",
    "print(\"%s\" % ma_var)   # Permet l'affichage au format string\n",
    "print(\"%d\" % ma_var)   # Permet l'affichage de la partie entière de ma_var\n",
    "print(\"%.3f\" % ma_var) # Permet l'affichage avec 3 décimale de ma_var\n",
    "print(\"%.2f\" % ma_var) # Permet l'affichage avec 2 décimale de ma_var\n",
    "print(\"%.1f\" % ma_var) # Permet l'affichage avec 1 décimale de ma_var\n",
    "\n",
    "### .... voir la référence pour plus d'options."
   ]
  },
  {
   "cell_type": "markdown",
   "metadata": {},
   "source": [
    "<span style='line-height:1.5;font-size: 17px;font-family:\"Times New Roman\"'>\n",
    "\n",
    "### Les commentaires <font color='blue' size=\"1.5\"><i>[Plan du cours](#plan)</i></font>\n",
    "<a id='p113'></a>\n",
    "\n",
    "La rédaction de commentaires est très utile pour la clarté de votre code, elle constitue une bonne pratique à adopter.\n",
    "\n",
    "Faites en sorte de rendre agréable la lecture de votre code pour un lecteur externe. Normalement, avec une bonne pratique, peu de commentaires sont nécessaires pour détecter d'un coup d'oeil ce que votre code effectue. Néanmoins, dans une phase d'élaboration, des commentaires pour vous même sont toujours utiles."
   ]
  },
  {
   "cell_type": "code",
   "execution_count": 13,
   "metadata": {},
   "outputs": [
    {
     "data": {
      "text/plain": [
       "'\\nCeci est un commentaire\\nsur plusieurs \\nlignes.\\n'"
      ]
     },
     "execution_count": 13,
     "metadata": {},
     "output_type": "execute_result"
    }
   ],
   "source": [
    "# Ceci est un commentaire sur une seule ligne. \n",
    "'''\n",
    "Ceci est un commentaire\n",
    "sur plusieurs \n",
    "lignes.\n",
    "'''"
   ]
  },
  {
   "cell_type": "markdown",
   "metadata": {},
   "source": [
    "<span style='line-height:1.5;font-size: 17px;font-family:\"Times New Roman\"'>\n",
    "\n",
    "###  Quelques tips <font color='blue' size=\"1.5\"><i>[Plan du cours](#plan)</i></font>\n",
    "<a id='p114'></a>\n",
    "\n",
    "Nous avons vu qu'il existait principalement 5 types de variables (qui représentent celles les plus utilisées) en Python : \n",
    "- les chaines de caractères\n",
    "- les nombres\n",
    "- les listes\n",
    "- les tuples\n",
    "- les dictionnaires\n",
    "\n",
    "Il en existe d'autres, dépendant de packages ou non. Par exemple le type \"Array\" dépendant du package Numpy que nous introduirons par la suite. Un autre exemple le type \"set\" ou encore \"bin\":"
   ]
  },
  {
   "cell_type": "code",
   "execution_count": 8,
   "metadata": {},
   "outputs": [
    {
     "name": "stdout",
     "output_type": "stream",
     "text": [
      "[1, 1, 2, 2, 2, 3, 4, 5]\n",
      "{1, 2, 3, 4, 5}\n",
      "<class 'set'>\n",
      "45\n",
      "0b101101\n"
     ]
    }
   ],
   "source": [
    "ma_liste = [ 1, 1 , 2, 2, 2, 3, 4, 5]\n",
    "mon_set = set(ma_liste)\n",
    "print(ma_liste)\n",
    "print(mon_set)       # supprime les doublons, conserve les éléments uniques d'un ensemble\n",
    "print(type(mon_set)) # de type set\n",
    "\n",
    "\n",
    "num = 45\n",
    "binx = bin(num) # transformation en binaire.\n",
    "print(num)\n",
    "print(binx) "
   ]
  },
  {
   "cell_type": "markdown",
   "metadata": {},
   "source": [
    "<span style='line-height:1.5;font-size: 17px;font-family:\"Times New Roman\"'>\n",
    "\n",
    "## Opérateurs basiques <font color='blue' size=\"1.5\"><i>[Plan du cours](#plan)</i></font>\n",
    "<a id='p12'></a>\n",
    "\n",
    "Il existe 5 grandes familles d'opérateurs en python :\n",
    "- Opérateurs arithmétiques \n",
    "- Opérateurs de comparaisons\n",
    "- Opérateurs d'assignations\n",
    "- Opérateurs logiques\n",
    "- Opérateurs d'adhésions\n",
    "- Opérateurs d'identités\n",
    "- (Opérateurs au niveau du bit)"
   ]
  },
  {
   "cell_type": "markdown",
   "metadata": {},
   "source": [
    "<span style='line-height:1.5;font-size: 17px;font-family:\"Times New Roman\"'>\n",
    "\n",
    "### Opérateurs Arithmétiques  <font color='blue' size=\"1.5\"><i>[Plan du cours](#plan)</i></font>\n",
    "<a id='p121'></a>"
   ]
  },
  {
   "cell_type": "code",
   "execution_count": 12,
   "metadata": {},
   "outputs": [],
   "source": [
    "a, b = 25, 10\n",
    "\n",
    "c = a + b  # addition\n",
    "c = a - b  # soustraction\n",
    "c = a * b  # multiplication\n",
    "c = a / b  # division\n",
    "c = a % b  # modulus ; affiche le reste d'une division non-entière\n",
    "c = a ** b # puissance\n",
    "c = a // b # floor division, retourne 2 ; 2 de l'operation 2*10 + 5\n"
   ]
  },
  {
   "cell_type": "markdown",
   "metadata": {},
   "source": [
    "<span style='line-height:1.5;font-size: 17px;font-family:\"Times New Roman\"'>\n",
    "\n",
    "### Opérateurs de Comparaisons <font color='blue' size=\"1.5\"><i>[Plan du cours](#plan)</i></font>\n",
    "<a id='p122'></a>"
   ]
  },
  {
   "cell_type": "code",
   "execution_count": 11,
   "metadata": {},
   "outputs": [
    {
     "name": "stdout",
     "output_type": "stream",
     "text": [
      "False\n",
      "True\n",
      "True\n",
      "False\n",
      "True\n",
      "False\n"
     ]
    }
   ],
   "source": [
    "a, b = 25, 10\n",
    "\n",
    "print(a == b) # et non pas simplement a = b (qui sert à une assignation)\n",
    "print(a != b) # différent de \n",
    "print(a > b)\n",
    "print(a < b)\n",
    "print(a >= b)\n",
    "print(a <= b)"
   ]
  },
  {
   "cell_type": "markdown",
   "metadata": {},
   "source": [
    "<span style='line-height:1.5;font-size: 17px;font-family:\"Times New Roman\"'>\n",
    "\n",
    "### Opérateurs d'assignations <font color='blue' size=\"1.5\"><i>[Plan du cours](#plan)</i></font>\n",
    "<a id='p123'></a>"
   ]
  },
  {
   "cell_type": "code",
   "execution_count": 84,
   "metadata": {},
   "outputs": [
    {
     "name": "stdout",
     "output_type": "stream",
     "text": [
      "21\n",
      "15\n",
      "90\n",
      "15.0\n",
      "3.0\n",
      "729.0\n",
      "121.0\n"
     ]
    }
   ],
   "source": [
    "b = 15     # Attribuer une valeur à une variable\n",
    "\n",
    "b+=6       # Ajoute 6 à la variable b, equivalent à    b = b + 6 \n",
    "print(b)   \n",
    "b -= 6     # Soustrait 6 à la variable b\n",
    "print(b)\n",
    "b *= 6     # Multiplie b par 6\n",
    "print(b)\n",
    "b /= 6     # Divise b par 6\n",
    "print(b)\n",
    "b %= 6     # Renvoie la partie décimale (reste) du quotient b/6\n",
    "print(b)\n",
    "b **= 6    # Renvoie b puissance 6\n",
    "print(b)\n",
    "b //= 6    # Renvoi la partie entiere de la division b / 6\n",
    "print(b)"
   ]
  },
  {
   "cell_type": "markdown",
   "metadata": {},
   "source": [
    "<span style='line-height:1.5;font-size: 17px;font-family:\"Times New Roman\"'>\n",
    "\n",
    "### Opérateurs logiques <font color='blue' size=\"1.5\"><i>[Plan du cours](#plan)</i></font>\n",
    "<a id='p124'></a>"
   ]
  },
  {
   "cell_type": "code",
   "execution_count": 8,
   "metadata": {},
   "outputs": [
    {
     "name": "stdout",
     "output_type": "stream",
     "text": [
      "False\n",
      "True\n",
      "True\n"
     ]
    }
   ],
   "source": [
    "a, b = True, False\n",
    "print(a and b)    # revoie False\n",
    "print(a or b)     # revoie True\n",
    "print(not(a and b)) # revoie True"
   ]
  },
  {
   "cell_type": "markdown",
   "metadata": {},
   "source": [
    "<span style='line-height:1.5;font-size: 17px;font-family:\"Times New Roman\"'>\n",
    "\n",
    "### Opérateurs d'adhésions <font color='blue' size=\"1.5\"><i>[Plan du cours](#plan)</i></font>\n",
    "<a id='p125'></a>"
   ]
  },
  {
   "cell_type": "code",
   "execution_count": 9,
   "metadata": {},
   "outputs": [
    {
     "name": "stdout",
     "output_type": "stream",
     "text": [
      "True\n",
      "False\n",
      "False\n"
     ]
    }
   ],
   "source": [
    "a = [1, 2, 3, 4, 5]\n",
    "print(1 in a)  # renvoi True\n",
    "print(6 in a)  # renvoi False\n",
    "print(5 not in a) # renvoi False"
   ]
  },
  {
   "cell_type": "markdown",
   "metadata": {},
   "source": [
    "<span style='line-height:1.5;font-size: 17px;font-family:\"Times New Roman\"'>\n",
    "\n",
    "### Opérateurs d'identités <font color='blue' size=\"1.5\"><i>[Plan du cours](#plan)</i></font>\n",
    "<a id='p126'></a>\n",
    "\n",
    "On l'utilisera dans le contexte des boucles et des structures conditionnelles. "
   ]
  },
  {
   "cell_type": "code",
   "execution_count": 14,
   "metadata": {},
   "outputs": [
    {
     "data": {
      "text/plain": [
       "False"
      ]
     },
     "execution_count": 14,
     "metadata": {},
     "output_type": "execute_result"
    }
   ],
   "source": [
    "5 is 1       # revoie faux\n",
    "4 is not 4   # revoie faux"
   ]
  },
  {
   "cell_type": "markdown",
   "metadata": {},
   "source": [
    "<span style='line-height:1.5;font-size: 17px;font-family:\"Times New Roman\"'>\n",
    "\n",
    "## Boucles <font color='blue' size=\"1.5\"><i>[Plan du cours](#plan)</i></font>\n",
    "<a id='p13'></a>\n",
    "\n",
    "Deux type de boucles existent : la boucle FOR et la boucle WHILE. <br>\n",
    "C'est l'occasion de présenter le concept d'identation, central en Python ! Autrement votre code vous retournera des erreurs !!"
   ]
  },
  {
   "cell_type": "markdown",
   "metadata": {},
   "source": [
    "<span style='line-height:1.5;font-size: 17px;font-family:\"Times New Roman\"'>\n",
    "\n",
    "### La boucle For <font color='blue' size=\"1.5\"><i>[Plan du cours](#plan)</i></font>\n",
    "<a id='p131'></a>\n",
    "\n",
    "La boucle For permet d'itérer à travers une variable le permettant (des \"itérables\") : str, list, tuple, dict.\n",
    "\n",
    "<b>IMPORTANT</b> : Vous l'aurez remarqué, une tabulation sépare \"print(element)\" du bord gauche de la cellule. C'est cette tabulation qui permet au code de fonctionner (et par là de le rendre lisible)."
   ]
  },
  {
   "cell_type": "code",
   "execution_count": 1,
   "metadata": {},
   "outputs": [
    {
     "name": "stdout",
     "output_type": "stream",
     "text": [
      "3\n",
      "à\n",
      "1\n",
      "pour la France\n"
     ]
    }
   ],
   "source": [
    "ma_liste = [3, \"à\", 1, \"pour la France\"]\n",
    "\n",
    "for element in ma_liste: # affiche 1 à 1 tous les élements de la liste \n",
    "    print(element)       # La variable \"element\" est créer dans le contexte de la boucle"
   ]
  },
  {
   "cell_type": "code",
   "execution_count": 126,
   "metadata": {},
   "outputs": [
    {
     "name": "stdout",
     "output_type": "stream",
     "text": [
      "é\n",
      "c\n",
      "o\n",
      "n\n",
      "o\n",
      "m\n",
      "é\n",
      "t\n",
      "r\n",
      "i\n",
      "e\n"
     ]
    }
   ],
   "source": [
    "mot = \"économétrie\"\n",
    "for lettre in mot: # affiche 1 à 1 tout les lettres de la liste\n",
    "    print(lettre)   "
   ]
  },
  {
   "cell_type": "code",
   "execution_count": 10,
   "metadata": {},
   "outputs": [
    {
     "name": "stdout",
     "output_type": "stream",
     "text": [
      "0\n",
      "1\n",
      "2\n",
      "3\n",
      "4\n",
      "5\n",
      "6\n",
      "7\n",
      "8\n",
      "9\n"
     ]
    }
   ],
   "source": [
    "pas = 1\n",
    "start = 0\n",
    "end = 10\n",
    "\n",
    "for i in range(start, end, pas): # range(0, 7, 2) est un fonction built-in permettant de créer un séquence de nombre de 0 à 6 avec un pas de 2\n",
    "    print(i)"
   ]
  },
  {
   "cell_type": "markdown",
   "metadata": {},
   "source": [
    "<span style='line-height:1.5;font-size: 17px;font-family:\"Times New Roman\"'>\n",
    "\n",
    "On peut également imbriquer des boucles : "
   ]
  },
  {
   "cell_type": "code",
   "execution_count": 21,
   "metadata": {},
   "outputs": [
    {
     "name": "stdout",
     "output_type": "stream",
     "text": [
      "1 A\n",
      "1 B\n",
      "1 C\n",
      "2 A\n",
      "2 B\n",
      "2 C\n",
      "3 A\n",
      "3 B\n",
      "3 C\n"
     ]
    }
   ],
   "source": [
    "l_chap = [1,2,3]\n",
    "l_sc = ['A','B','C']\n",
    "for chap in l_chap :\n",
    "    for sc in l_sc :\n",
    "        print(chap,sc)"
   ]
  },
  {
   "cell_type": "code",
   "execution_count": 122,
   "metadata": {},
   "outputs": [
    {
     "name": "stdout",
     "output_type": "stream",
     "text": [
      "0 12\n",
      "1 12\n",
      "0 afzafa\n",
      "1 afzafa\n",
      "0 2\n",
      "1 2\n",
      "0 85\n",
      "1 85\n",
      "0 fzg\n",
      "1 fzg\n"
     ]
    }
   ],
   "source": [
    "ma_liste = [12, 'afzafa', 2, 85, 'fzg']\n",
    " \n",
    "for element in ma_liste: \n",
    "    for i in range(0, 2): #Le pas n'est pas précisé dans range() : il sera alors égal à 1 par défaut\n",
    "        print(i, element)     "
   ]
  },
  {
   "cell_type": "markdown",
   "metadata": {},
   "source": [
    "<span style='line-height:1.5;font-size: 17px;font-family:\"Times New Roman\"'>\n",
    "\n",
    "On peut également interompre l'éxécution d'une boucle grace au mot clé \"Break\":\n"
   ]
  },
  {
   "cell_type": "code",
   "execution_count": null,
   "metadata": {},
   "outputs": [],
   "source": [
    "for i in range(0,8,1):\n",
    "    print(i)\n",
    "    break"
   ]
  },
  {
   "cell_type": "markdown",
   "metadata": {},
   "source": [
    "<span style='line-height:1.5;font-size: 17px;font-family:\"Times New Roman\"'>\n",
    "\n",
    "Les mots clés \"continue\" et \"pass\" servent à\n"
   ]
  },
  {
   "cell_type": "code",
   "execution_count": 129,
   "metadata": {},
   "outputs": [
    {
     "name": "stdout",
     "output_type": "stream",
     "text": [
      "Current Letter : P\n",
      "Current Letter : y\n",
      "Current Letter : t\n",
      "Current Letter : o\n",
      "Current Letter : n\n"
     ]
    }
   ],
   "source": [
    "for letter in 'Python':     # First Example\n",
    "    if letter == 'h':\n",
    "        continue\n",
    "        \n",
    "    print ('Current Letter :', letter)"
   ]
  },
  {
   "cell_type": "code",
   "execution_count": 22,
   "metadata": {},
   "outputs": [
    {
     "name": "stdout",
     "output_type": "stream",
     "text": [
      "Current Letter : P\n",
      "Current Letter : y\n",
      "Current Letter : t\n",
      "This is pass block\n",
      "Current Letter : h\n",
      "Current Letter : o\n",
      "Current Letter : n\n",
      "Good bye!\n"
     ]
    }
   ],
   "source": [
    "for letter in 'Python': \n",
    "    if letter == 'h':\n",
    "        print ('This is pass block')\n",
    "    else :\n",
    "        pass\n",
    "    print ('Current Letter :', letter)\n",
    "\n",
    "print (\"Good bye!\")"
   ]
  },
  {
   "cell_type": "markdown",
   "metadata": {},
   "source": [
    "<span style='line-height:1.5;font-size: 17px;font-family:\"Times New Roman\"'>\n",
    "\n",
    "__Exercice__ : écrire une boucle premettant de créer un compteur.\n",
    "- intitialiser la boucle en créant le compteur c égal à 0\n",
    "- écrire la boucle (allant de 1 à 10 par exemple) dans laquelle c augmente de 1 à chaque itération\n",
    "- imprimez c à la fin et vérifier qu'il vaut bien 10"
   ]
  },
  {
   "cell_type": "code",
   "execution_count": null,
   "metadata": {},
   "outputs": [],
   "source": []
  },
  {
   "cell_type": "markdown",
   "metadata": {},
   "source": [
    "<span style='line-height:1.5;font-size: 17px;font-family:\"Times New Roman\"'>\n",
    "\n",
    "__Exercice__ : On utilise maintenant le compteur ! Ecrire une boucle qui compte le nombre de \"n\" dans un mot (prenez par exemple 'anaconda') :\n",
    "- initialisation : créer une variable à laquelle on assigne une chaîne de caractères/string, puis créer un compteur égal à 0 (appelez ces deux variables comme bon vous semble)\n",
    "- écrire une boucle qui parcours la variable string que vous avez créé\n",
    "- introduire une condition : si la lettre est un \"n\", alors on ajoute 1 au compteur\n",
    "- afficher c"
   ]
  },
  {
   "cell_type": "code",
   "execution_count": null,
   "metadata": {},
   "outputs": [],
   "source": []
  },
  {
   "cell_type": "code",
   "execution_count": 15,
   "metadata": {},
   "outputs": [
    {
     "name": "stdout",
     "output_type": "stream",
     "text": [
      "2\n",
      "5\n"
     ]
    }
   ],
   "source": [
    "# Il existe en fait une fonction qui reproduit la boucle que vous venez de coder :\n",
    "print('anaconda'.count('n'))\n",
    "# Qui fonctionne aussi avec des listes\n",
    "print([1,2,2,2,2,2].count(2))"
   ]
  },
  {
   "cell_type": "markdown",
   "metadata": {},
   "source": [
    "<span style='line-height:1.5;font-size: 17px;font-family:\"Times New Roman\"'>\n",
    "\n",
    "### La boucle WHILE <font color='blue' size=\"1.5\"><i>[Plan du cours](#plan)</i></font>\n",
    "<a id='p132'></a>"
   ]
  },
  {
   "cell_type": "markdown",
   "metadata": {},
   "source": [
    "<span style='line-height:1.5;font-size: 17px;font-family:\"Times New Roman\"'>\n",
    "\n",
    "Attention a la boucle infinie ! C'est un boucle qui ne rencontre jamais la condition imposée après le mot clé While !"
   ]
  },
  {
   "cell_type": "code",
   "execution_count": 135,
   "metadata": {},
   "outputs": [
    {
     "name": "stdout",
     "output_type": "stream",
     "text": [
      "Le comptage est: 0\n",
      "Le comptage est: 1\n",
      "Le comptage est: 2\n",
      "Le comptage est: 3\n",
      "Le comptage est: 4\n",
      "Le comptage est: 5\n",
      "Le comptage est: 6\n",
      "Le comptage est: 7\n",
      "Le comptage est: 8\n",
      "Good bye!\n"
     ]
    }
   ],
   "source": [
    "count = 0\n",
    "while (count < 9):  # tant que la variable count < 9, exécute les lignes suivantes !\n",
    "    print('Le comptage est:', count)\n",
    "    count = count + 1\n",
    "\n",
    "print (\"Good bye!\")"
   ]
  },
  {
   "cell_type": "markdown",
   "metadata": {},
   "source": [
    "<span style='line-height:1.5;font-size: 17px;font-family:\"Times New Roman\"'>\n",
    "\n",
    "_Note_ : __attention avec les boucles while, si la condition d'arrêt de la boucle n'est jamais atteint, le code tournera indéfiniment.__ \n",
    "\n",
    "Par exemple"
   ]
  },
  {
   "cell_type": "code",
   "execution_count": 30,
   "metadata": {},
   "outputs": [],
   "source": [
    "count = 1\n",
    "while (count>0): # count est dés le départ supérieur à 0\n",
    "    count= count + 1     # on rajoute 1 a chaque passage, donc la boucle ne pourra jamais s'arrêter\n",
    "    if count == 10: # cette conditions sert à ce que votre code ne tourne justement pas indéfiniment\n",
    "        break"
   ]
  },
  {
   "cell_type": "markdown",
   "metadata": {},
   "source": [
    "<span style='line-height:1.5;font-size: 17px;font-family:\"Times New Roman\"'>\n",
    "\n",
    "## Structure conditionnelles <font color='blue' size=\"1.5\"><i>[Plan du cours](#plan)</i></font>\n",
    "<a id='p14'></a>"
   ]
  },
  {
   "cell_type": "markdown",
   "metadata": {},
   "source": [
    "La structure ci-après teste les conditions les unes après les autres et s'arrête lorsque la condition est rencontrée."
   ]
  },
  {
   "cell_type": "code",
   "execution_count": 139,
   "metadata": {},
   "outputs": [
    {
     "name": "stdout",
     "output_type": "stream",
     "text": [
      "a est égal à b\n"
     ]
    }
   ],
   "source": [
    "# Modifiez les valeurs de a et b pour voir comment réagit la fonction.\n",
    "a, b = 1, 1\n",
    "if a == b :\n",
    "    print('a est égal à b')\n",
    "elif a > b:\n",
    "    print('a est supérieur à b')\n",
    "else:\n",
    "    print('a est inférieur à b')"
   ]
  },
  {
   "cell_type": "markdown",
   "metadata": {},
   "source": [
    "La structure ci-après teste toutes les conditions \"if\" même une fois que la condition correcte est rencontrée. Autrement, dit il y a trois structures conditionnelles différentes, comparé a la cellule précédente ou il n'y en a qu'une."
   ]
  },
  {
   "cell_type": "code",
   "execution_count": 140,
   "metadata": {},
   "outputs": [
    {
     "name": "stdout",
     "output_type": "stream",
     "text": [
      "a est supérieur à b\n"
     ]
    }
   ],
   "source": [
    "# Modifiez les valeurs de a et b pour voir comment réagit la fonction.\n",
    "a, b = 2, 1\n",
    "if a == b:\n",
    "    print('a est égal à b')\n",
    "    \n",
    "if a > b:\n",
    "    print('a est supérieur à b')\n",
    "    \n",
    "if a < b:\n",
    "    print('a est inférieur à b')"
   ]
  },
  {
   "cell_type": "markdown",
   "metadata": {},
   "source": [
    "<span style='line-height:1.5;font-size: 17px;font-family:\"Times New Roman\"'>\n",
    "\n",
    "## Nombres et chaines de caractères <font color='blue' size=\"1.5\"><i>[Plan du cours](#plan)</i></font>\n",
    "<a id='p15'></a>"
   ]
  },
  {
   "cell_type": "markdown",
   "metadata": {},
   "source": [
    "<span style='line-height:1.5;font-size: 17px;font-family:\"Times New Roman\"'>\n",
    "\n",
    "On peut créer des sous-ensemble de chaines de caractères grace à l'opérateur \"[]\".<br> \n",
    "<i>Note : le comptage débute à 0 en python !</i><br> \n",
    "Exemples : "
   ]
  },
  {
   "cell_type": "code",
   "execution_count": 174,
   "metadata": {},
   "outputs": [
    {
     "name": "stdout",
     "output_type": "stream",
     "text": [
      "Hello World!\n",
      "Hello World!\n",
      "H\n",
      "Hello\n",
      "llo\n",
      "llo World!\n",
      "!\n",
      "ld!\n",
      "!dlroW olleH\n",
      "Hello World!Hello World!\n",
      "Hello World! TEST\n"
     ]
    }
   ],
   "source": [
    "strx = 'Hello World!'\n",
    "\n",
    "print(strx)            # Affiche la chaine de caractère complete\n",
    "print(strx[:])         # Affiche la chaine de caractère complete\n",
    "print(strx[0])         # Affiche la première lettre\n",
    "print(strx[0:5])       # Affiche un sous-ensemble de la 1ère lettre à la 5ème\n",
    "print(strx[2:5])       # Affiche un sous-ensemble de la 3ème lettre à la 5ème\n",
    "print(strx[2:])        # Affiche un sous-ensemble à partir de la 3ème lettre \n",
    "print(strx[-1])        # Affiche le dernière caractere\n",
    "print(strx[-3:])       # Affiche les 3 derniers carractères\n",
    "print(strx[::-1])      # Inverse la chaine de caractère\n",
    "print(strx * 2)        # Affiche 2x la chaine de caractère\n",
    "print (strx + \" TEST\") # Concatene deux chaines de caractères"
   ]
  },
  {
   "cell_type": "markdown",
   "metadata": {},
   "source": [
    "<span style='line-height:1.5;font-size: 17px;font-family:\"Times New Roman\"'>\n",
    "\n",
    "Beaucoup d'opérations sont possibles avec les chaines de caractères. Voir https://www.programiz.com/python-programming/methods/string \n",
    "\n",
    "Quelques exemples ci-dessous :"
   ]
  },
  {
   "cell_type": "code",
   "execution_count": 10,
   "metadata": {},
   "outputs": [
    {
     "name": "stdout",
     "output_type": "stream",
     "text": [
      "['hello', 'world', '!']\n",
      "Hello world !\n",
      "2\n"
     ]
    }
   ],
   "source": [
    "# Splitter une chaine de caractère : renvoie une liste.\n",
    "strx = 'hello world !'\n",
    "\n",
    "une_liste = strx.split(' ')\n",
    "print(une_liste)\n",
    "\n",
    "# Mettre en majuscule la première lettre :\n",
    "strx_maj = strx.capitalize()\n",
    "print(strx_maj)\n",
    "\n",
    "# Trouver la position d'une lettre dans la chaine : \n",
    "pos = strx.find('l') # renvoi seulement la position de la premiere occurence !\n",
    "print(pos)"
   ]
  },
  {
   "cell_type": "markdown",
   "metadata": {},
   "source": [
    "<span style='line-height:1.5;font-size: 17px;font-family:\"Times New Roman\"'>\n",
    "\n",
    "## Listes, tuples et dictionnaires <font color='blue' size=\"1.5\"><i>[Plan du cours](#plan)</i></font>\n",
    "<a id='p16'></a>"
   ]
  },
  {
   "cell_type": "markdown",
   "metadata": {},
   "source": [
    "<span style='line-height:1.5;font-size: 17px;font-family:\"Times New Roman\"'>\n",
    "\n",
    "###  Revenons sur les listes !  <font color='blue' size=\"1.5\"><i>[Plan du cours](#plan)</i></font>\n",
    "<a id='p161'></a>"
   ]
  },
  {
   "cell_type": "code",
   "execution_count": 47,
   "metadata": {},
   "outputs": [
    {
     "name": "stdout",
     "output_type": "stream",
     "text": [
      "['abcd', 786, 2.23, 'john', 70.2]\n",
      "abcd\n",
      "[786, 2.23]\n",
      "[2.23, 'john', 70.2]\n",
      "[123, 'john', 123, 'john']\n",
      "['abcd', 786, 2.23, 'john', 70.2, 123, 'john']\n"
     ]
    }
   ],
   "source": [
    "ma_liste = [ 'abcd', 786 , 2.23, 'john', 70.2 ]\n",
    "petite_liste = [123, 'john']\n",
    "\n",
    "print (ma_liste)                # Affiche la liste complete\n",
    "print (ma_liste[0])             # Affiche le premier élément de la liste\n",
    "print (ma_liste[1:3])           # Affiche les éléments de la 2ème à la 3ème ; le \":3\" est non compris.\n",
    "print (ma_liste[2:])            # Affiche les éléments à partir de la 3ème valeurs\n",
    "print (petite_liste * 2)        # Affiche une liste composé de deux fois la petite liste\n",
    "print (ma_liste + petite_liste) # Concatene les deux listes"
   ]
  },
  {
   "cell_type": "markdown",
   "metadata": {},
   "source": [
    "<span style='line-height:1.5;font-size: 17px;font-family:\"Times New Roman\"'>\n",
    "\n",
    "On peut également modifier les valeurs d'une liste !"
   ]
  },
  {
   "cell_type": "code",
   "execution_count": 51,
   "metadata": {},
   "outputs": [
    {
     "name": "stdout",
     "output_type": "stream",
     "text": [
      "['abcd', 786, 2.23, 'john', 70.2]\n",
      "[1000, 786, 2.23, 'john', 70.2]\n",
      "['check1', 3.25, 2.23, 'john', 70.2]\n"
     ]
    }
   ],
   "source": [
    "ma_liste = [ 'abcd', 786 , 2.23, 'john', 70.2 ]\n",
    "print(ma_liste)\n",
    "ma_liste[0] = 1000\n",
    "print(ma_liste)\n",
    "ma_liste[0:2] = ['check1', 3.25]\n",
    "print(ma_liste)"
   ]
  },
  {
   "cell_type": "markdown",
   "metadata": {},
   "source": [
    "<span style='line-height:1.5;font-size: 17px;font-family:\"Times New Roman\"'>\n",
    "\n",
    "D'autre méthodes existent : https://www.programiz.com/python-programming/methods/list ! <br>\n",
    "\n",
    "Avant de vous lancer dans la réalisation d'une fonction, vérifier que ce que vous souhaitez faire n'existe pas déjà ! <br>\n",
    "\n",
    "Quelques exemples : "
   ]
  },
  {
   "cell_type": "code",
   "execution_count": 191,
   "metadata": {},
   "outputs": [
    {
     "name": "stdout",
     "output_type": "stream",
     "text": [
      "['abcd', '786', '2.23', 'john', '70.2', '123']\n",
      "abcd;786;2.23;john;70.2;123\n"
     ]
    }
   ],
   "source": [
    "ma_liste = ['abcd', '786' , '2.23', 'john', '70.2' ]\n",
    "\n",
    "\n",
    "# Ajouter un élément a la fin d'un liste:\n",
    "ma_liste.append('123')\n",
    "print(ma_liste)\n",
    "\n",
    "# joindre les éléments d'une liste (possible qu'avec une liste de string)\n",
    "print(';'.join(ma_liste))\n",
    "# si tout les éléments de la liste ne sont pas des strings, il faut les convertir au préalable.\n",
    "\n"
   ]
  },
  {
   "cell_type": "markdown",
   "metadata": {},
   "source": [
    "<span style='line-height:1.5;font-size: 17px;font-family:\"Times New Roman\"'>\n",
    "\n",
    "### Revenons sur les tuples !  <font color='blue' size=\"1.5\"><i>[Plan du cours](#plan)</i></font>\n",
    "<a id='p162'></a>\n",
    "\n",
    "La principale différence entre les listes et les tuples est la suivante : les listes sont entre crochets ([]]) et leurs éléments et tailles peuvent être modifiés, tandis que les tuples sont entre parenthèses () ) et ne peuvent être mis à jour. Les tuples peuvent être considérés comme des listes en lecture seule."
   ]
  },
  {
   "cell_type": "code",
   "execution_count": 43,
   "metadata": {},
   "outputs": [
    {
     "name": "stdout",
     "output_type": "stream",
     "text": [
      "('abcd', 786, 2.23, 'john', 70.2)\n",
      "abcd\n",
      "(786, 2.23)\n",
      "(2.23, 'john', 70.2)\n",
      "(123, 'john', 123, 'john')\n",
      "('abcd', 786, 2.23, 'john', 70.2, 123, 'john')\n"
     ]
    }
   ],
   "source": [
    "mon_tuple = ( 'abcd', 786 , 2.23, 'john', 70.2  )\n",
    "petit_tuple = (123, 'john')\n",
    "\n",
    "print (mon_tuple)               # Affiche le tuple complet\n",
    "print (mon_tuple[0])            # Affiche le premier élément d'un tuple\n",
    "print (mon_tuple[1:3])          # Affiche les éléments de la 2ème à la 4ème\n",
    "print (mon_tuple[2:])           # Affiche les éléments à partir de la 3ème valeurs\n",
    "print (petit_tuple * 2)         # Affiche une liste composé de deux fois la petite tuple\n",
    "print (mon_tuple + petit_tuple) # Concatene les deux tuples"
   ]
  },
  {
   "cell_type": "markdown",
   "metadata": {},
   "source": [
    "<span style='line-height:1.5;font-size: 17px;font-family:\"Times New Roman\"'>\n",
    "\n",
    "On ne peut donc pas modifier un tuple. Le code suivant génère une erreur \"'tuple' object does not support item assignment\""
   ]
  },
  {
   "cell_type": "code",
   "execution_count": 52,
   "metadata": {},
   "outputs": [
    {
     "ename": "TypeError",
     "evalue": "'tuple' object does not support item assignment",
     "output_type": "error",
     "traceback": [
      "\u001b[1;31m---------------------------------------------------------------------------\u001b[0m",
      "\u001b[1;31mTypeError\u001b[0m                                 Traceback (most recent call last)",
      "\u001b[1;32m<ipython-input-52-4bf4c4c1bf97>\u001b[0m in \u001b[0;36m<module>\u001b[1;34m\u001b[0m\n\u001b[0;32m      1\u001b[0m \u001b[0mmon_tuple\u001b[0m \u001b[1;33m=\u001b[0m \u001b[1;33m(\u001b[0m \u001b[1;34m'abcd'\u001b[0m\u001b[1;33m,\u001b[0m \u001b[1;36m786\u001b[0m \u001b[1;33m,\u001b[0m \u001b[1;36m2.23\u001b[0m\u001b[1;33m,\u001b[0m \u001b[1;34m'john'\u001b[0m\u001b[1;33m,\u001b[0m \u001b[1;36m70.2\u001b[0m  \u001b[1;33m)\u001b[0m\u001b[1;33m\u001b[0m\u001b[1;33m\u001b[0m\u001b[0m\n\u001b[1;32m----> 2\u001b[1;33m \u001b[0mmon_tuple\u001b[0m\u001b[1;33m[\u001b[0m\u001b[1;36m0\u001b[0m\u001b[1;33m]\u001b[0m \u001b[1;33m=\u001b[0m \u001b[1;34m\"fee\"\u001b[0m\u001b[1;33m\u001b[0m\u001b[1;33m\u001b[0m\u001b[0m\n\u001b[0m",
      "\u001b[1;31mTypeError\u001b[0m: 'tuple' object does not support item assignment"
     ]
    }
   ],
   "source": [
    "mon_tuple = ( 'abcd', 786 , 2.23, 'john', 70.2  )\n",
    "mon_tuple[0] = \"fee\""
   ]
  },
  {
   "cell_type": "markdown",
   "metadata": {},
   "source": [
    "<span style='line-height:1.5;font-size: 17px;font-family:\"Times New Roman\"'>\n",
    "\n",
    "### Revenons sur les dictionnaires ! <font color='blue' size=\"1.5\"><i>[Plan du cours](#plan)</i></font>\n",
    "<a id='p163'></a>\n",
    " \n",
    "Les dictionnaire fonctionnent avec un système de clé:valeur ! Et sont instantiés avec des accolades. Un dictionnaire peut contenir n'importe quel type de variable comme valeur. <br>\n",
    "\n",
    "Exemple :"
   ]
  },
  {
   "cell_type": "code",
   "execution_count": 9,
   "metadata": {},
   "outputs": [
    {
     "name": "stdout",
     "output_type": "stream",
     "text": [
      "{'one': 'This is one', 2: 'This is two', 'une_liste': [1, 2, 3, 54, 88], 5: {88: 88, 66: 99}}\n",
      "This is one\n",
      "This is two\n",
      "{'name': 'john', 'code': 6734, 'dept': 'sales'}\n",
      "dict_keys(['name', 'code', 'dept'])\n",
      "dict_values(['john', 6734, 'sales'])\n",
      "<class 'dict_values'>\n",
      "['john', 6734, 'sales']\n"
     ]
    }
   ],
   "source": [
    "dico = {}                 # Initialise un dictionnaire\n",
    "dico['one'] = \"This is one\"\n",
    "dico[2]     = \"This is two\"\n",
    "dico['une_liste'] = [1, 2, 3, 54, 88]\n",
    "dico[5] = {88:88, 66:99}\n",
    "\n",
    "print(dico)\n",
    "\n",
    "print(dico['one'])       # Affiche la valeur de la clé 'One' : \"this is one\"\n",
    "print(dico[2])           # Affiche la valeur de la clé  2 : \"this is two\"\n",
    "\n",
    "dico2 = {'name': 'john',   # dictionnaire rempli directement\n",
    "         'code': 6734, \n",
    "         'dept': 'sales'}\n",
    "\n",
    "print(dico2)           # Affiche le dictionnaire complet\n",
    "print(dico2.keys())    # Affiche toutes les clés du dictionnaire\n",
    "print(dico2.values())  # Affiche toutes les valeurs du dictionnaire, \n",
    "print(type(dico2.values())) # le type renvoyé est dict_values \n",
    "print(list(dico2.values())) # pour le transformer en liste utiliser la fonction built-in list() \n",
    "                            #; même si le type dict_values est un type itérable, \n",
    "                            # nous verrons a quoi cela correspond plus loin."
   ]
  },
  {
   "cell_type": "markdown",
   "metadata": {},
   "source": [
    "<span style='line-height:1.5;font-size: 17px;font-family:\"Times New Roman\"'>\n",
    "\n",
    "__Exercice__ :  à l'aide d'une boucle _for_, itérer dans une liste de tuples, pour créer une liste contenant les premiers éléments de ces tuples, en fonction d'une condition sur les deuxièmes éléments de ces tuples,\n",
    "- créer une liste (l_result) vide pour lui ajouter les éléments à chaque itération de la boucle\n",
    "- écrire une boucle itérant dans la liste de tuples\n",
    "- écrire une condition : \n",
    "    - si le deuxième (ou dernier) élément du tuple est inférieur à 5, ajouter le premier élément du tuple à la liste l_result\n",
    "    - sinon, continuer\n",
    "- afficher les éléments de la liste l_result en les joignant par des guillemets (sans espaces)"
   ]
  },
  {
   "cell_type": "code",
   "execution_count": 1,
   "metadata": {
    "ExecuteTime": {
     "end_time": "2022-09-14T15:45:08.829369Z",
     "start_time": "2022-09-14T15:45:08.804161Z"
    }
   },
   "outputs": [],
   "source": [
    "liste_tuples = [('T',2),('k',10),('u as',1),('ww r',15),\n",
    "                ('ioio',6),(' tr',4),('ouvé',0),(' ?? ', 80),(' !',-2)]\n",
    "\n"
   ]
  },
  {
   "cell_type": "code",
   "execution_count": null,
   "metadata": {},
   "outputs": [],
   "source": []
  },
  {
   "cell_type": "markdown",
   "metadata": {},
   "source": [
    "<span style='line-height:1.5;font-size: 17px;font-family:\"Times New Roman\"'>\n",
    "\n",
    "## Les fonctions <font color='blue' size=\"1.5\"><i>[Plan du cours](#plan)</i></font>\n",
    "<a id='p17'></a>"
   ]
  },
  {
   "cell_type": "markdown",
   "metadata": {},
   "source": [
    "<span style='line-height:1.5;font-size: 17px;font-family:\"Times New Roman\"'>\n",
    "\n",
    "Les fonctions commencent par le mot-clé __def__ suivi du nom de la fonction et de parenthèses (). A l'intérieur des parenthèses seront passés les arguments de la fonction. De la même façon, __x__ est un argument de le fonction f() si on a f(x).<br>\n",
    "\n",
    "Ci-après, on créé une fonction appellée \"affiche2fois\" prenant comme argument \"mon_texte\" qui affiche deux fois \"mon_texte\".<br> On appelle ensuite la fonction à l'aide de \"affiche2fois(\"Test ! \")\" ! <br>\n",
    "Même si ici la fonction ne \"renvoie\" rien on met tout de même le mot-clé \"return\" à la fin, par convention.<br>\n",
    "<i> Note : par convention les noms de fonctions commencent par une minuscule !</i>"
   ]
  },
  {
   "cell_type": "code",
   "execution_count": 12,
   "metadata": {},
   "outputs": [
    {
     "name": "stdout",
     "output_type": "stream",
     "text": [
      "Test ! Test ! \n"
     ]
    }
   ],
   "source": [
    "def affiche2fois(mon_texte):\n",
    "    print(mon_texte*2)\n",
    "    return \n",
    "\n",
    "affiche2fois(\"Test ! \")"
   ]
  },
  {
   "cell_type": "markdown",
   "metadata": {},
   "source": [
    "<span style='line-height:1.5;font-size: 17px;font-family:\"Times New Roman\"'>\n",
    "\n",
    "La fonction \"multiPar2\" multiplie tout les éléments de la liste \"ma_liste\" en argument. Elle revoie ensuite comme résultat \"x\" (par \"return x\"). \n",
    "\n",
    "La fonction renvoie un élément que l'on peut assigner à une variable. Ici, par exemple, nous assignons le résultat de la fonction multiPar2 à une variable que nous appelons ma_liste_x2. "
   ]
  },
  {
   "cell_type": "code",
   "execution_count": 14,
   "metadata": {},
   "outputs": [
    {
     "name": "stdout",
     "output_type": "stream",
     "text": [
      "[2, 4, 6, 10, 12, 14, 16, 18]\n"
     ]
    }
   ],
   "source": [
    "# fonction qui multi par 2 tout les éléments de la listes et renvoi une liste de ces éléments.\n",
    "def multiPar2(ma_liste):\n",
    "    x = []                         # liste ou seront stockés les résultats\n",
    "    for element in ma_liste:\n",
    "        x.append(element*2)        # Append permet d'ajouter un element a la fin d'une liste\n",
    "    return x\n",
    "\n",
    "ma_liste = [1, 2, 3, 5, 6, 7, 8, 9]\n",
    "ma_liste_x2 = multiPar2(ma_liste)\n",
    "print(ma_liste_x2)"
   ]
  },
  {
   "cell_type": "markdown",
   "metadata": {},
   "source": [
    "<span style='line-height:1.5;font-size: 17px;font-family:\"Times New Roman\"'>\n",
    "\n",
    "Une fonction peut renvoyer plusieurs résultats :"
   ]
  },
  {
   "cell_type": "code",
   "execution_count": 28,
   "metadata": {},
   "outputs": [
    {
     "name": "stdout",
     "output_type": "stream",
     "text": [
      "[2, 4, 6, 10, 12, 14, 16, 18]\n",
      "[3, 6, 9, 15, 18, 21, 24, 27]\n"
     ]
    }
   ],
   "source": [
    "def multiPar2et3(ma_liste):\n",
    "    x, y = [], []                         # liste ou seront stockés les résultats\n",
    "    for element in ma_liste:\n",
    "        x.append(element*2)\n",
    "        y.append(element*3)\n",
    "    return x, y\n",
    "\n",
    "un_nom_de_liste = [1, 2, 3, 5, 6, 7, 8, 9]\n",
    "ma_liste_x, ma_liste_y = multiPar2et3(un_nom_de_liste)\n",
    "print(ma_liste_x)\n",
    "print(ma_liste_y)"
   ]
  },
  {
   "cell_type": "markdown",
   "metadata": {},
   "source": [
    "<span style='line-height:1.5;font-size: 17px;font-family:\"Times New Roman\"'>\n",
    "\n",
    "<i> Note : x et y sont définies dans la fonction, elles ont donc une portée locale (utilisable dans la fonction seulement). un_nom_de_liste est une variable a portée globale (peut donc etre utilisée dans la fonction directement, sans la passer en argument, mais ce n'est pas une bonne pratique)."
   ]
  },
  {
   "cell_type": "markdown",
   "metadata": {},
   "source": [
    "<span style='line-height:1.5;font-size: 17px;font-family:\"Times New Roman\"'>\n",
    "\n",
    "On omet ici volontairement l'introduction des keywords et optionnal arguments. Pour plus de détails : https://www.tutorialspoint.com/python3/python_functions.htm"
   ]
  },
  {
   "cell_type": "markdown",
   "metadata": {},
   "source": [
    "<span style='line-height:1.5;font-size: 17px;font-family:\"Times New Roman\"'>\n",
    "\n",
    "__Exercice__ : écrire une fonction prenant un entier comme input et retournant le factoriel de cet entier. Ajouter une instruction conditionnelle retournant un message d'erreur si l'input n'est pas un entier.\n",
    "\n",
    "__Attention à ne pas tester votre fonction avec des entier trop grand, les factoriels augmentent de façon exponentielle__"
   ]
  },
  {
   "cell_type": "code",
   "execution_count": null,
   "metadata": {},
   "outputs": [],
   "source": []
  },
  {
   "cell_type": "markdown",
   "metadata": {},
   "source": [
    "<span style='line-height:1.5;font-size: 17px;font-family:\"Times New Roman\"'>\n",
    "\n",
    "__Exercice__ : écrire une fonction prenant un string comme input et qui retourne une liste dans laquelle chaque élément correspond aux éléments de l'input.\n",
    "\n",
    "_Note_ : on remarquera ici que l'output n'est pas nécessairement du même type que l'input (ici on va de string vers liste)."
   ]
  },
  {
   "cell_type": "code",
   "execution_count": null,
   "metadata": {},
   "outputs": [],
   "source": []
  },
  {
   "cell_type": "markdown",
   "metadata": {},
   "source": [
    "<span style='line-height:1.5;font-size: 17px;font-family:\"Times New Roman\"'>\n",
    "\n",
    "## Système input / output <font color='blue' size=\"1.5\"><i>[(Plan du cours)](#plan)</i></font>\n",
    "<a id='p18'></a>\n"
   ]
  },
  {
   "cell_type": "markdown",
   "metadata": {},
   "source": [
    "<span style='line-height:1.5;font-size: 17px;font-family:\"Times New Roman\"'>\n",
    "\n",
    "Il est important de pouvoir importer des données dans l'environnement python afin de pouvoir travailler avec. Nos données seront la plupart du temps au format '.txt', '.csv' ou '.xls'. Il est également tout aussi important de pouvoir sauvegarder les données générées par le code. Nous ajouterons un format interessant, le format '.pickle'.\n"
   ]
  },
  {
   "cell_type": "markdown",
   "metadata": {},
   "source": [
    "#### 1.8.1 La fonction Input() <font color='blue' size=\"1.5\"><i>[(Plan du cours)](#plan)</i></font>\n",
    "<a id='p181'></a>\n"
   ]
  },
  {
   "cell_type": "code",
   "execution_count": 22,
   "metadata": {},
   "outputs": [
    {
     "name": "stdout",
     "output_type": "stream",
     "text": [
      "Enter your input: coucou\n",
      "1 - Received input is: coucou\n",
      "2 - Received input is: coucou\n"
     ]
    }
   ],
   "source": [
    "strx = input(\"Enter your input: \")\n",
    "print(\"1 - Received input is: \" + strx)\n",
    "# ou \n",
    "print(\"2 - Received input is: %s\" % strx)"
   ]
  },
  {
   "cell_type": "markdown",
   "metadata": {},
   "source": [
    "<span style='line-height:1.5;font-size: 17px;font-family:\"Times New Roman\"'>\n",
    "\n",
    "### La fonction Open() <font color='blue' size=\"1.5\"><i>[(Plan du cours)](#plan)</i></font>\n",
    "<a id='p182'></a>\n"
   ]
  },
  {
   "cell_type": "markdown",
   "metadata": {},
   "source": [
    "<span style='line-height:1.5;font-size: 17px;font-family:\"Times New Roman\"'>\n",
    "\n",
    "<p style=\"text-align: justify;\">Pour atteindre un fichier quelqu'il soit, il est nécessaire de créer une connection avec ce dernier. C'est le rôle de la fonction Open(). Les deux arguments essentiels de cette fonction son le chemin du fichier (ou \"path\" en anglais) et le mode de lecture de ce fichier (lire, écrire, modifier, etc). Une fois la connection établie, pour effectivement lire, écrire ou modifier, il faut utiliser les méthodes correspondantes (read, write, append).</p>\n",
    "\n",
    "<p style=\"text-align: justify;\"><u><i>Note</i></u> : les éléments du chemin sont soit séparés par un Slash (\"/\") ou par deux BackSlash (\"\\\\\"). L'utilisation d'un seul BackSlash (\"\\\"), la norme sous Windows, provoque des erreurs dûes au fait que des caractères unicode tel que \\n ou \\t ont une signification : il s'agit pour le premier d'une codification pour le retour à la ligne et pour le second d'une tabulation.</p>"
   ]
  },
  {
   "cell_type": "code",
   "execution_count": 23,
   "metadata": {},
   "outputs": [],
   "source": [
    "mon_chemin = \"C:/Users/charl/Desktop/standalone_file_process.txt\"\n",
    "mon_fichier = open(mon_chemin, 'r') # 'r' pour read, sinon 'w' pour write & 'a' pour append."
   ]
  },
  {
   "cell_type": "markdown",
   "metadata": {},
   "source": [
    "<hr style=\" border: 2.5px solid black;\">\n",
    "<br>\n",
    "<span style='line-height:1.5;font-size: 17px;font-family:\"Times New Roman\"'>\n",
    "\n",
    "\n",
    "# Notion de package  <font color='blue' size=\"1.5\"><i>[Plan du cours](#plan)</i></font>\n",
    "<a id='p2'></a>"
   ]
  },
  {
   "cell_type": "markdown",
   "metadata": {},
   "source": [
    "<span style='line-height:1.5;font-size: 17px;font-family:\"Times New Roman\"'>\n",
    "\n",
    "##  Qu'est-ce qu'un package ? <font color='blue' size=\"1.5\"><i>[Plan du cours](#plan)</i></font>\n",
    "<a id='p21'></a>\n",
    "\n",
    "Un package (ou un module, ou encore une librairie) est un fichier .py dans lequel réside une/plusieurs fonctions et/ou classes que nous souhaitons utiliser dans notre travail.\n",
    "\n",
    "Dans notre cours, nous utiliserons quelques packages utiles pour la gestion de données et pour la modélisation économétrique (voir plus bas). De plus, Python vient avec un certains nombres de modules de bases appellés modules \"built-in\". En voici la liste : https://docs.python.org/3/library/\n",
    "\n",
    "\n",
    "Le mot clé réservé pour importer un module est <b>\"import\"</b>. Il est une bonne pratique d'importer tout les modules en début de fichier dans une même cellule. \n",
    "\n",
    "Exemple : "
   ]
  },
  {
   "cell_type": "code",
   "execution_count": 7,
   "metadata": {},
   "outputs": [
    {
     "name": "stdout",
     "output_type": "stream",
     "text": [
      "2\n"
     ]
    }
   ],
   "source": [
    "import math\n",
    "\n",
    "a = math.floor(2.35) # fonction retournant l'entier le plus proche en dessous de 2.35\n",
    "print(a)"
   ]
  },
  {
   "cell_type": "markdown",
   "metadata": {},
   "source": [
    "<span style='line-height:1.5;font-size: 17px;font-family:\"Times New Roman\"'>\n",
    "\n",
    "En important le module \"math\" comme ci-dessus, on est obligé de respécifier le module math pour appeler la fonction \"floor\" : <b>\"math.floor\"</b>.\n",
    "\n",
    "Pour eviter cela, on utilise la formulation suivante :"
   ]
  },
  {
   "cell_type": "code",
   "execution_count": 10,
   "metadata": {},
   "outputs": [
    {
     "name": "stdout",
     "output_type": "stream",
     "text": [
      "2\n"
     ]
    }
   ],
   "source": [
    "from math import floor\n",
    "\n",
    "a = floor(2.35)\n",
    "print(a)"
   ]
  },
  {
   "cell_type": "markdown",
   "metadata": {},
   "source": [
    "<span style='line-height:1.5;font-size: 17px;font-family:\"Times New Roman\"'>\n",
    "\n",
    "Si l'on souhaite charger toutes les fonctions du module \"math\", on utile l'étoile \"*\" (all)."
   ]
  },
  {
   "cell_type": "code",
   "execution_count": 12,
   "metadata": {},
   "outputs": [
    {
     "name": "stdout",
     "output_type": "stream",
     "text": [
      "2\n",
      "3\n"
     ]
    }
   ],
   "source": [
    "from math import *\n",
    "\n",
    "a = floor(2.35)\n",
    "print(a)\n",
    "\n",
    "b = ceil(2.35) # fonction retournant l'entier le plus proche en dessus de 2.35\n",
    "print(b)"
   ]
  },
  {
   "cell_type": "markdown",
   "metadata": {},
   "source": [
    "<span style='line-height:1.5;font-size: 17px;font-family:\"Times New Roman\"'>\n",
    "\n",
    "Parfois, plusieurs packages différents contiennent des fonctions qui portent le même nom. Si on importe deux packages qui ont la même fonction <i><b>my_func()</b></i> en utilisant les méthodes précédentes, alors comment les distinguer ? Suis-je en train d'utiliser la fonction <i><b>my_func()</b></i> du premier package ou du second ?\n",
    "\n",
    "Pour éviter cette confusion, on défini un label grâce au mot-clé <i><b>as</b></i>. Le label utilisé doit être court (2,3 lettres) pour éviter d'avoir à réécrire le nom du module complet :"
   ]
  },
  {
   "cell_type": "code",
   "execution_count": 16,
   "metadata": {},
   "outputs": [
    {
     "name": "stdout",
     "output_type": "stream",
     "text": [
      "2.0\n",
      "2\n"
     ]
    }
   ],
   "source": [
    "\"\"\" Les packages numpy et math ont tous les deux une fonction floor.\n",
    "Ici la fonction produit le même résultat (au type près), donc ce n'est pas très grave. \n",
    "Mais deux fonctions portant le meme nom peuvent avoir un contenu différent et donc des résultats différents.\n",
    "\"\"\"\n",
    "import numpy as np\n",
    "import math as ma\n",
    "\n",
    "print(np.floor(2.356))   #On utilise ici la fonction floor de numpy (np)\n",
    "print(ma.floor(2.356))   #Et ici on fait appelle à celle de math (ma)"
   ]
  },
  {
   "cell_type": "markdown",
   "metadata": {},
   "source": [
    "<span style='line-height:1.5;font-size: 17px;font-family:\"Times New Roman\"'>\n",
    "\n",
    "## Les packages qui nous interessent ! <font color='blue' size=\"1.5\"><i>[Plan du cours](#plan)</i></font>\n",
    "<a id='p24'></a>"
   ]
  },
  {
   "cell_type": "markdown",
   "metadata": {},
   "source": [
    "<span style='line-height:1.5;font-size: 17px;font-family:\"Times New Roman\"'>\n",
    "\n",
    "Les principaux packages utilisés tout au long de ce cours sont les suivants : \n",
    "\n",
    "- Numpy\n",
    "- Pandas\n",
    "- StatsModels\n",
    "- ScikitLearn\n",
    "- Seaborn\n",
    "- Arch"
   ]
  },
  {
   "cell_type": "markdown",
   "metadata": {},
   "source": [
    "<span style='line-height:1.5;font-size: 17px;font-family:\"Times New Roman\"'>\n",
    "\n",
    "### Le package Numpy <font color='blue' size=\"1.5\"><i>[Plan du cours](#plan)</i></font>\n",
    "<a id='p241'></a>"
   ]
  },
  {
   "cell_type": "markdown",
   "metadata": {},
   "source": [
    "<span style='line-height:1.5;font-size: 17px;font-family:\"Times New Roman\"'>\n",
    "\n",
    "Le package Numpy (\"Numerical Array\") permet une utilisation aisée de tableaux multidimensionels. Un grand nombre de méthodes sont implémentées pour des opérations sur ces tableaux.\n",
    "\n",
    "\n",
    "L'exemple ci-dessous transforme la variable <b><i>data</i></b> de type <b><i>list</i></b> en une matrice (tableau de dimension 2) de type <b><i>numpy.array</i></b> appellée <b><i>x</i></b>."
   ]
  },
  {
   "cell_type": "code",
   "execution_count": 3,
   "metadata": {},
   "outputs": [
    {
     "name": "stdout",
     "output_type": "stream",
     "text": [
      "[[1, 2, 3], [4, 5, 6], [7, 8, 9]]\n",
      "<class 'list'>\n",
      "[[1 2 3]\n",
      " [4 5 6]\n",
      " [7 8 9]]\n",
      "<class 'numpy.ndarray'>\n",
      "(3, 3)\n"
     ]
    }
   ],
   "source": [
    "import numpy as np\n",
    "\n",
    "data = [[1,2,3],[4,5,6], [7,8,9]] # une liste de listes\n",
    "print(data)\n",
    "print(type(data))\n",
    "x = np.array(data)\n",
    "print(x)\n",
    "print(type(x))\n",
    "print(x.shape) # renvoie les dimensions de la matrice dans un tuple"
   ]
  },
  {
   "cell_type": "markdown",
   "metadata": {},
   "source": [
    "<span style='line-height:1.5;font-size: 17px;font-family:\"Times New Roman\"'>\n",
    "\n",
    "La difference tient au fait que la variable <b>x</b> a maintenant un certain nombre de méthodes liées a son type.\n",
    "\n",
    "Voici quelques operations qu'il aurait été impossible de faire sur la liste <b>data</b> directement."
   ]
  },
  {
   "cell_type": "code",
   "execution_count": 25,
   "metadata": {},
   "outputs": [
    {
     "name": "stdout",
     "output_type": "stream",
     "text": [
      "[[1 4 7]\n",
      " [2 5 8]\n",
      " [3 6 9]]\n",
      "[1 5 9]\n"
     ]
    }
   ],
   "source": [
    "x_transpose = x.transpose()\n",
    "print(x_transpose)\n",
    "\n",
    "x_diag = x.diagonal()\n",
    "print(x_diag)"
   ]
  },
  {
   "cell_type": "markdown",
   "metadata": {},
   "source": [
    "<span style='line-height:1.5;font-size: 17px;font-family:\"Times New Roman\"'>\n",
    "\n",
    "De façon équivalente, on peut effectuer ces opérations en passant la matrice en Argument : "
   ]
  },
  {
   "cell_type": "code",
   "execution_count": 27,
   "metadata": {},
   "outputs": [
    {
     "name": "stdout",
     "output_type": "stream",
     "text": [
      "[[1 4 7]\n",
      " [2 5 8]\n",
      " [3 6 9]]\n",
      "[1 5 9]\n"
     ]
    }
   ],
   "source": [
    "x_transpose = np.transpose(x)\n",
    "print(x_transpose)\n",
    "x_diag = np.diagonal(x)\n",
    "print(x_diag)"
   ]
  },
  {
   "cell_type": "markdown",
   "metadata": {},
   "source": [
    "<span style='line-height:1.5;font-size: 17px;font-family:\"Times New Roman\"'>\n",
    "\n",
    "Le package Numpy est extrêmement complet. Tout (ou presque) ce que vous pouvez imaginer dans le traitement de vos tableaux et matrices, existe déjà ! \n",
    "\n",
    "Nous décrirons (en commentaire) les fonctions numpy nouvellement introduites en avançant dans le cours. Pour approfondir, vous pouvez vous référer à : https://www.tutorialspoint.com/numpy/index.htm et bien sûr à la documentation officielle jonchée de descriptions et d'exemples : https://docs.scipy.org/doc/numpy/user/index.html"
   ]
  },
  {
   "cell_type": "markdown",
   "metadata": {},
   "source": [
    "<span style='line-height:1.5;font-size: 17px;font-family:\"Times New Roman\"'>\n",
    "\n",
    "###  Le package Pandas <font color='blue' size=\"1.5\"><i>[Plan du cours](#plan)</i></font>\n",
    "<a id='p242'></a>"
   ]
  },
  {
   "cell_type": "markdown",
   "metadata": {},
   "source": [
    "<span style='line-height:1.5;font-size: 17px;font-family:\"Times New Roman\"'>\n",
    "\n",
    "<b><i>Pandas</i></b> est LE package central. La plupart du temps dans notre cours et dans vos projets vous l'utiliserez pour le chargement de vos données et pour la production de statistiques descriptives en passant par le réarangement de vos données. Pandas est centré sur l'organisation et les opérations sur des matrices (tableaux de dimensions 2), appellés dataframes."
   ]
  },
  {
   "cell_type": "code",
   "execution_count": 44,
   "metadata": {},
   "outputs": [
    {
     "name": "stdout",
     "output_type": "stream",
     "text": [
      "               EU_S     UK_S    CAN_S    DAN_S    NOR_S      SWE     EU_F  \\\n",
      "Date                                                                        \n",
      "26/05/2014  1.36515  1.68460  0.92090  0.18280  0.16786  0.15105  1.36445   \n",
      "27/05/2014  1.36145  1.68025  0.92123  0.18270  0.16796  0.15095  1.36342   \n",
      "28/05/2014  1.35975  1.67060  0.91963  0.18210  0.16735  0.15055  1.35935   \n",
      "29/05/2014  1.36155  1.67160  0.92281  0.18225  0.16764  0.15045  1.36022   \n",
      "30/05/2014  1.36455  1.67735  0.92225  0.18270  0.16744  0.14950  1.36316   \n",
      "\n",
      "               UK_F    CAN_F    DAN_F    NOR_F    SWE_F  \n",
      "Date                                                     \n",
      "26/05/2014  1.68394  0.92011  0.18285  0.16760  0.15093  \n",
      "27/05/2014  1.68069  0.92012  0.18274  0.16783  0.15095  \n",
      "28/05/2014  1.67077  0.91867  0.18216  0.16727  0.15047  \n",
      "29/05/2014  1.67142  0.92210  0.18231  0.16745  0.15040  \n",
      "30/05/2014  1.67557  0.92141  0.18266  0.16729  0.14942  \n"
     ]
    }
   ],
   "source": [
    "import pandas as pd\n",
    "\n",
    "df = pd.read_csv(\"data/fxdata.txt\", delimiter=\"\\t\", header=[0], index_col=[0])\n",
    "print(df.tail())"
   ]
  },
  {
   "cell_type": "markdown",
   "metadata": {},
   "source": [
    "<span style='line-height:1.5;font-size: 17px;font-family:\"Times New Roman\"'>\n",
    "\n",
    "Comparé à Numpy, Pandas se concentre sur la gestion et la visualisation des données. Il constitue un package de plus \"haut-niveau\" (user-friendly) que Numpy. On peut établir une correspondance rapide entre un dataframe et un array : df.values = array.\n",
    "\n",
    "Quelques exemples d'utilisation pour la production de statistiques descriptives et de visualisations seront présentés plus bas. Evidement d'autres utilisations seront présentées pendant le cours.\n",
    "\n",
    "Documentation officielle : https://pandas.pydata.org/pandas-docs/stable/"
   ]
  },
  {
   "cell_type": "markdown",
   "metadata": {},
   "source": [
    "<span style='line-height:1.5;font-size: 17px;font-family:\"Times New Roman\"'>\n",
    "\n",
    "### Le package StatsModels <font color='blue' size=\"1.5\"><i>[Plan du cours](#plan)</i></font>\n",
    "<a id='p243'></a>"
   ]
  },
  {
   "cell_type": "markdown",
   "metadata": {},
   "source": [
    "<span style='line-height:1.5;font-size: 17px;font-family:\"Times New Roman\"'>\n",
    "\n",
    "StatsModels est le package principal que nous utilisons pour produire des résultats économétriques. Simple d'utilisation, il permet une prise en main rapide des différentes notions de cours théoriques : définition des modèles, estimations, tests, prédictions ... et permet un affichage des résultats dans des tableaux \"propres\", dans le style de ceux d'Eviews.\n",
    "\n",
    "Doucmentation officielle : https://www.statsmodels.org/dev/examples/index.html"
   ]
  },
  {
   "cell_type": "markdown",
   "metadata": {},
   "source": [
    "<span style='line-height:1.5;font-size: 17px;font-family:\"Times New Roman\"'>\n",
    "\n",
    "### Le package ScikitLearn <font color='blue' size=\"1.5\"><i>[Plan du cours](#plan)</i></font>\n",
    "<a id='p244'></a>"
   ]
  },
  {
   "cell_type": "markdown",
   "metadata": {},
   "source": [
    "<span style='line-height:1.5;font-size: 17px;font-family:\"Times New Roman\"'>\n",
    "\n",
    "Le package ScikitLearn est voué au \"machine-Learning\" au sens large, et contient donc une classe permettant d'effectuer des regressions. \n",
    "\n",
    "Documentation officielle : https://scikit-learn.org/stable/"
   ]
  },
  {
   "cell_type": "markdown",
   "metadata": {},
   "source": [
    "<span style='line-height:1.5;font-size: 17px;font-family:\"Times New Roman\"'>\n",
    "\n",
    "###  Le package Seaborn <font color='blue' size=\"1.5\"><i>[Plan du cours](#plan)</i></font>\n",
    "<a id='p245'></a>"
   ]
  },
  {
   "cell_type": "markdown",
   "metadata": {},
   "source": [
    "<span style='line-height:1.5;font-size: 17px;font-family:\"Times New Roman\"'>\n",
    "\n",
    "Seaborn est un package de data-visualisation ; les graphiques statistiques : densité, boites à moustaches ... sont aisements obtenus à partir des ses fonctions. \n",
    "\n",
    "Documentation officielle : https://seaborn.pydata.org/index.html"
   ]
  },
  {
   "cell_type": "markdown",
   "metadata": {},
   "source": [
    "<span style='line-height:1.5;font-size: 17px;font-family:\"Times New Roman\"'>\n",
    "<hr style=\" border: 2.5px solid black;\">\n",
    "<br>\n",
    "\n",
    "# Pandas et base de données<font color='blue' size=\"1.5\"><i>[Plan du cours](#plan)</i></font>\n",
    "<a id='p3'></a>"
   ]
  },
  {
   "cell_type": "markdown",
   "metadata": {},
   "source": [
    "## Pandas - les bases <font color='blue' size=\"1.5\"><i>[Plan du cours](#plan)</i></font>\n",
    "<a id='p31'></a>\n",
    "\n",
    "Pandas est donc une librairie très largement utilisée pour la gestion de données. Ce package offre de très nombreuses possibilités de manipulation de données : création de variables, classement, visualisation de certaine statistiques descriptives, etc...\n",
    "\n",
    "Un certain nombres de packages de modélisation (pour l'économétrie, le machine learning,...) font appels aux dataframes de pandas.\n",
    "\n",
    "Nous présentons ici quelques utilisations de base liées à pandas, mais il est impératif de se documenter (en demandant simplement à google !!) pour chercher les réponses à vos questions.\n",
    "\n",
    "Regardons dans un premier temps comment importer et afficher les données avant de les manipuler :"
   ]
  },
  {
   "cell_type": "code",
   "execution_count": 1,
   "metadata": {},
   "outputs": [],
   "source": [
    "#Importation du package\n",
    "import pandas as pd"
   ]
  },
  {
   "cell_type": "code",
   "execution_count": 2,
   "metadata": {},
   "outputs": [],
   "source": [
    "\"\"\" Télécharger une base de données\n",
    "    On commence par spécifier un chemin\n",
    "    Attention à ce qu'il y ait bien des slash et non back-slash dans votre chemin d'accès\"\"\"\n",
    "\n",
    "path = 'C:/Users/Pierre/Desktop/TD/2019-2020-ATER/Atelier_Econometrie_M1/Cours-Python-Projet/data/'"
   ]
  },
  {
   "cell_type": "code",
   "execution_count": 3,
   "metadata": {},
   "outputs": [
    {
     "data": {
      "text/plain": [
       "'C:/Users/Pierre/Desktop/TD/2019-2020-ATER/Atelier_Econometrie_M1/Cours-Python-Projet/data/performance.xlsx'"
      ]
     },
     "execution_count": 3,
     "metadata": {},
     "output_type": "execute_result"
    }
   ],
   "source": [
    "path + 'performance.xlsx'"
   ]
  },
  {
   "cell_type": "code",
   "execution_count": 4,
   "metadata": {},
   "outputs": [],
   "source": [
    "#On créé un dataframe (appelé df) qui va prendre les données de la BDD 'performance.xlsx' située dans\n",
    "    #le dossier du chemin spécifié\n",
    "    #Attention à ne pas se tromper dans l'extension : .csv, .xsl, .xlsx...\n",
    "df = pd.read_excel(path + \"performance.xlsx\")"
   ]
  },
  {
   "cell_type": "markdown",
   "metadata": {},
   "source": [
    "<span style='line-height:1.5;font-size: 17px;font-family:\"Times New Roman\"'>\n",
    "\n",
    "On peut désormais afficher les données contenues dans 'df'"
   ]
  },
  {
   "cell_type": "code",
   "execution_count": 5,
   "metadata": {},
   "outputs": [
    {
     "data": {
      "text/html": [
       "<div>\n",
       "<style scoped>\n",
       "    .dataframe tbody tr th:only-of-type {\n",
       "        vertical-align: middle;\n",
       "    }\n",
       "\n",
       "    .dataframe tbody tr th {\n",
       "        vertical-align: top;\n",
       "    }\n",
       "\n",
       "    .dataframe thead th {\n",
       "        text-align: right;\n",
       "    }\n",
       "</style>\n",
       "<table border=\"1\" class=\"dataframe\">\n",
       "  <thead>\n",
       "    <tr style=\"text-align: right;\">\n",
       "      <th></th>\n",
       "      <th>ident</th>\n",
       "      <th>perf</th>\n",
       "      <th>subv</th>\n",
       "      <th>etrg</th>\n",
       "      <th>nouveau</th>\n",
       "      <th>titu</th>\n",
       "      <th>nbr</th>\n",
       "    </tr>\n",
       "  </thead>\n",
       "  <tbody>\n",
       "    <tr>\n",
       "      <th>0</th>\n",
       "      <td>906</td>\n",
       "      <td>693</td>\n",
       "      <td>67</td>\n",
       "      <td>9</td>\n",
       "      <td>11</td>\n",
       "      <td>76</td>\n",
       "      <td>247</td>\n",
       "    </tr>\n",
       "    <tr>\n",
       "      <th>1</th>\n",
       "      <td>889</td>\n",
       "      <td>570</td>\n",
       "      <td>92</td>\n",
       "      <td>21</td>\n",
       "      <td>33</td>\n",
       "      <td>79</td>\n",
       "      <td>463</td>\n",
       "    </tr>\n",
       "    <tr>\n",
       "      <th>2</th>\n",
       "      <td>887</td>\n",
       "      <td>546</td>\n",
       "      <td>97</td>\n",
       "      <td>29</td>\n",
       "      <td>36</td>\n",
       "      <td>68</td>\n",
       "      <td>395</td>\n",
       "    </tr>\n",
       "    <tr>\n",
       "      <th>3</th>\n",
       "      <td>876</td>\n",
       "      <td>571</td>\n",
       "      <td>90</td>\n",
       "      <td>27</td>\n",
       "      <td>27</td>\n",
       "      <td>87</td>\n",
       "      <td>418</td>\n",
       "    </tr>\n",
       "    <tr>\n",
       "      <th>4</th>\n",
       "      <td>888</td>\n",
       "      <td>478</td>\n",
       "      <td>89</td>\n",
       "      <td>30</td>\n",
       "      <td>44</td>\n",
       "      <td>87</td>\n",
       "      <td>520</td>\n",
       "    </tr>\n",
       "  </tbody>\n",
       "</table>\n",
       "</div>"
      ],
      "text/plain": [
       "   ident  perf  subv  etrg  nouveau  titu  nbr\n",
       "0    906   693    67     9       11    76  247\n",
       "1    889   570    92    21       33    79  463\n",
       "2    887   546    97    29       36    68  395\n",
       "3    876   571    90    27       27    87  418\n",
       "4    888   478    89    30       44    87  520"
      ]
     },
     "execution_count": 5,
     "metadata": {},
     "output_type": "execute_result"
    }
   ],
   "source": [
    "#Affichons les 5 premières lignes du dataframe\n",
    "    #Rmq : les indices dans la colonne tout à gauche sont générés automatiquement\n",
    "df.head(5)"
   ]
  },
  {
   "cell_type": "code",
   "execution_count": 7,
   "metadata": {},
   "outputs": [
    {
     "data": {
      "text/plain": [
       "Index(['ident', 'perf', 'subv', 'etrg', 'nouveau', 'titu', 'nbr'], dtype='object')"
      ]
     },
     "execution_count": 7,
     "metadata": {},
     "output_type": "execute_result"
    }
   ],
   "source": [
    "#Affichons la liste des variables présentes dans df (très pratique pour itérer dedans)\n",
    "df.columns"
   ]
  },
  {
   "cell_type": "code",
   "execution_count": 55,
   "metadata": {},
   "outputs": [
    {
     "data": {
      "text/plain": [
       "['ident', 'perf', 'subv', 'etrg', 'nouveau', 'titu', 'nbr']"
      ]
     },
     "execution_count": 55,
     "metadata": {},
     "output_type": "execute_result"
    }
   ],
   "source": [
    "#Ou alors, on peut aussi retrouver cette liste en procédant ainsi :\n",
    "list(df)"
   ]
  },
  {
   "cell_type": "code",
   "execution_count": 56,
   "metadata": {},
   "outputs": [
    {
     "data": {
      "text/plain": [
       "(399, 7)"
      ]
     },
     "execution_count": 56,
     "metadata": {},
     "output_type": "execute_result"
    }
   ],
   "source": [
    "#Quelles sont les dimensions du dataframe?\n",
    "df.shape\n",
    "    # Note : df.shape donne un tuple aux dimensions de la BDD"
   ]
  },
  {
   "cell_type": "code",
   "execution_count": 10,
   "metadata": {
    "scrolled": true
   },
   "outputs": [
    {
     "data": {
      "text/html": [
       "<div>\n",
       "<style scoped>\n",
       "    .dataframe tbody tr th:only-of-type {\n",
       "        vertical-align: middle;\n",
       "    }\n",
       "\n",
       "    .dataframe tbody tr th {\n",
       "        vertical-align: top;\n",
       "    }\n",
       "\n",
       "    .dataframe thead th {\n",
       "        text-align: right;\n",
       "    }\n",
       "</style>\n",
       "<table border=\"1\" class=\"dataframe\">\n",
       "  <thead>\n",
       "    <tr style=\"text-align: right;\">\n",
       "      <th></th>\n",
       "      <th>subv</th>\n",
       "    </tr>\n",
       "  </thead>\n",
       "  <tbody>\n",
       "    <tr>\n",
       "      <th>0</th>\n",
       "      <td>67</td>\n",
       "    </tr>\n",
       "    <tr>\n",
       "      <th>1</th>\n",
       "      <td>92</td>\n",
       "    </tr>\n",
       "    <tr>\n",
       "      <th>2</th>\n",
       "      <td>97</td>\n",
       "    </tr>\n",
       "    <tr>\n",
       "      <th>3</th>\n",
       "      <td>90</td>\n",
       "    </tr>\n",
       "    <tr>\n",
       "      <th>4</th>\n",
       "      <td>89</td>\n",
       "    </tr>\n",
       "    <tr>\n",
       "      <th>5</th>\n",
       "      <td>10</td>\n",
       "    </tr>\n",
       "    <tr>\n",
       "      <th>6</th>\n",
       "      <td>5</td>\n",
       "    </tr>\n",
       "    <tr>\n",
       "      <th>7</th>\n",
       "      <td>2</td>\n",
       "    </tr>\n",
       "    <tr>\n",
       "      <th>8</th>\n",
       "      <td>5</td>\n",
       "    </tr>\n",
       "    <tr>\n",
       "      <th>9</th>\n",
       "      <td>29</td>\n",
       "    </tr>\n",
       "    <tr>\n",
       "      <th>10</th>\n",
       "      <td>1</td>\n",
       "    </tr>\n",
       "    <tr>\n",
       "      <th>11</th>\n",
       "      <td>71</td>\n",
       "    </tr>\n",
       "    <tr>\n",
       "      <th>12</th>\n",
       "      <td>3</td>\n",
       "    </tr>\n",
       "    <tr>\n",
       "      <th>13</th>\n",
       "      <td>13</td>\n",
       "    </tr>\n",
       "    <tr>\n",
       "      <th>14</th>\n",
       "      <td>7</td>\n",
       "    </tr>\n",
       "    <tr>\n",
       "      <th>15</th>\n",
       "      <td>22</td>\n",
       "    </tr>\n",
       "    <tr>\n",
       "      <th>16</th>\n",
       "      <td>7</td>\n",
       "    </tr>\n",
       "    <tr>\n",
       "      <th>17</th>\n",
       "      <td>40</td>\n",
       "    </tr>\n",
       "    <tr>\n",
       "      <th>18</th>\n",
       "      <td>10</td>\n",
       "    </tr>\n",
       "    <tr>\n",
       "      <th>19</th>\n",
       "      <td>37</td>\n",
       "    </tr>\n",
       "    <tr>\n",
       "      <th>20</th>\n",
       "      <td>57</td>\n",
       "    </tr>\n",
       "    <tr>\n",
       "      <th>21</th>\n",
       "      <td>29</td>\n",
       "    </tr>\n",
       "    <tr>\n",
       "      <th>22</th>\n",
       "      <td>57</td>\n",
       "    </tr>\n",
       "    <tr>\n",
       "      <th>23</th>\n",
       "      <td>69</td>\n",
       "    </tr>\n",
       "    <tr>\n",
       "      <th>24</th>\n",
       "      <td>65</td>\n",
       "    </tr>\n",
       "    <tr>\n",
       "      <th>25</th>\n",
       "      <td>74</td>\n",
       "    </tr>\n",
       "    <tr>\n",
       "      <th>26</th>\n",
       "      <td>74</td>\n",
       "    </tr>\n",
       "    <tr>\n",
       "      <th>27</th>\n",
       "      <td>18</td>\n",
       "    </tr>\n",
       "    <tr>\n",
       "      <th>28</th>\n",
       "      <td>75</td>\n",
       "    </tr>\n",
       "    <tr>\n",
       "      <th>29</th>\n",
       "      <td>18</td>\n",
       "    </tr>\n",
       "    <tr>\n",
       "      <th>...</th>\n",
       "      <td>...</td>\n",
       "    </tr>\n",
       "    <tr>\n",
       "      <th>369</th>\n",
       "      <td>91</td>\n",
       "    </tr>\n",
       "    <tr>\n",
       "      <th>370</th>\n",
       "      <td>45</td>\n",
       "    </tr>\n",
       "    <tr>\n",
       "      <th>371</th>\n",
       "      <td>5</td>\n",
       "    </tr>\n",
       "    <tr>\n",
       "      <th>372</th>\n",
       "      <td>45</td>\n",
       "    </tr>\n",
       "    <tr>\n",
       "      <th>373</th>\n",
       "      <td>11</td>\n",
       "    </tr>\n",
       "    <tr>\n",
       "      <th>374</th>\n",
       "      <td>21</td>\n",
       "    </tr>\n",
       "    <tr>\n",
       "      <th>375</th>\n",
       "      <td>18</td>\n",
       "    </tr>\n",
       "    <tr>\n",
       "      <th>376</th>\n",
       "      <td>83</td>\n",
       "    </tr>\n",
       "    <tr>\n",
       "      <th>377</th>\n",
       "      <td>84</td>\n",
       "    </tr>\n",
       "    <tr>\n",
       "      <th>378</th>\n",
       "      <td>90</td>\n",
       "    </tr>\n",
       "    <tr>\n",
       "      <th>379</th>\n",
       "      <td>80</td>\n",
       "    </tr>\n",
       "    <tr>\n",
       "      <th>380</th>\n",
       "      <td>86</td>\n",
       "    </tr>\n",
       "    <tr>\n",
       "      <th>381</th>\n",
       "      <td>59</td>\n",
       "    </tr>\n",
       "    <tr>\n",
       "      <th>382</th>\n",
       "      <td>100</td>\n",
       "    </tr>\n",
       "    <tr>\n",
       "      <th>383</th>\n",
       "      <td>86</td>\n",
       "    </tr>\n",
       "    <tr>\n",
       "      <th>384</th>\n",
       "      <td>84</td>\n",
       "    </tr>\n",
       "    <tr>\n",
       "      <th>385</th>\n",
       "      <td>100</td>\n",
       "    </tr>\n",
       "    <tr>\n",
       "      <th>386</th>\n",
       "      <td>90</td>\n",
       "    </tr>\n",
       "    <tr>\n",
       "      <th>387</th>\n",
       "      <td>48</td>\n",
       "    </tr>\n",
       "    <tr>\n",
       "      <th>388</th>\n",
       "      <td>42</td>\n",
       "    </tr>\n",
       "    <tr>\n",
       "      <th>389</th>\n",
       "      <td>68</td>\n",
       "    </tr>\n",
       "    <tr>\n",
       "      <th>390</th>\n",
       "      <td>91</td>\n",
       "    </tr>\n",
       "    <tr>\n",
       "      <th>391</th>\n",
       "      <td>91</td>\n",
       "    </tr>\n",
       "    <tr>\n",
       "      <th>392</th>\n",
       "      <td>82</td>\n",
       "    </tr>\n",
       "    <tr>\n",
       "      <th>393</th>\n",
       "      <td>31</td>\n",
       "    </tr>\n",
       "    <tr>\n",
       "      <th>394</th>\n",
       "      <td>27</td>\n",
       "    </tr>\n",
       "    <tr>\n",
       "      <th>395</th>\n",
       "      <td>34</td>\n",
       "    </tr>\n",
       "    <tr>\n",
       "      <th>396</th>\n",
       "      <td>26</td>\n",
       "    </tr>\n",
       "    <tr>\n",
       "      <th>397</th>\n",
       "      <td>98</td>\n",
       "    </tr>\n",
       "    <tr>\n",
       "      <th>398</th>\n",
       "      <td>98</td>\n",
       "    </tr>\n",
       "  </tbody>\n",
       "</table>\n",
       "<p>399 rows × 1 columns</p>\n",
       "</div>"
      ],
      "text/plain": [
       "     subv\n",
       "0      67\n",
       "1      92\n",
       "2      97\n",
       "3      90\n",
       "4      89\n",
       "5      10\n",
       "6       5\n",
       "7       2\n",
       "8       5\n",
       "9      29\n",
       "10      1\n",
       "11     71\n",
       "12      3\n",
       "13     13\n",
       "14      7\n",
       "15     22\n",
       "16      7\n",
       "17     40\n",
       "18     10\n",
       "19     37\n",
       "20     57\n",
       "21     29\n",
       "22     57\n",
       "23     69\n",
       "24     65\n",
       "25     74\n",
       "26     74\n",
       "27     18\n",
       "28     75\n",
       "29     18\n",
       "..    ...\n",
       "369    91\n",
       "370    45\n",
       "371     5\n",
       "372    45\n",
       "373    11\n",
       "374    21\n",
       "375    18\n",
       "376    83\n",
       "377    84\n",
       "378    90\n",
       "379    80\n",
       "380    86\n",
       "381    59\n",
       "382   100\n",
       "383    86\n",
       "384    84\n",
       "385   100\n",
       "386    90\n",
       "387    48\n",
       "388    42\n",
       "389    68\n",
       "390    91\n",
       "391    91\n",
       "392    82\n",
       "393    31\n",
       "394    27\n",
       "395    34\n",
       "396    26\n",
       "397    98\n",
       "398    98\n",
       "\n",
       "[399 rows x 1 columns]"
      ]
     },
     "execution_count": 10,
     "metadata": {},
     "output_type": "execute_result"
    }
   ],
   "source": [
    "#Il est aussi possible de n'afficher que la variable 'perf'\n",
    "df[['subv']]"
   ]
  },
  {
   "cell_type": "code",
   "execution_count": 5,
   "metadata": {
    "scrolled": true
   },
   "outputs": [
    {
     "data": {
      "text/html": [
       "<div>\n",
       "<style scoped>\n",
       "    .dataframe tbody tr th:only-of-type {\n",
       "        vertical-align: middle;\n",
       "    }\n",
       "\n",
       "    .dataframe tbody tr th {\n",
       "        vertical-align: top;\n",
       "    }\n",
       "\n",
       "    .dataframe thead th {\n",
       "        text-align: right;\n",
       "    }\n",
       "</style>\n",
       "<table border=\"1\" class=\"dataframe\">\n",
       "  <thead>\n",
       "    <tr style=\"text-align: right;\">\n",
       "      <th></th>\n",
       "      <th>titu</th>\n",
       "      <th>nbr</th>\n",
       "    </tr>\n",
       "  </thead>\n",
       "  <tbody>\n",
       "    <tr>\n",
       "      <th>0</th>\n",
       "      <td>76</td>\n",
       "      <td>247</td>\n",
       "    </tr>\n",
       "    <tr>\n",
       "      <th>1</th>\n",
       "      <td>79</td>\n",
       "      <td>463</td>\n",
       "    </tr>\n",
       "    <tr>\n",
       "      <th>2</th>\n",
       "      <td>68</td>\n",
       "      <td>395</td>\n",
       "    </tr>\n",
       "    <tr>\n",
       "      <th>3</th>\n",
       "      <td>87</td>\n",
       "      <td>418</td>\n",
       "    </tr>\n",
       "    <tr>\n",
       "      <th>4</th>\n",
       "      <td>87</td>\n",
       "      <td>520</td>\n",
       "    </tr>\n",
       "    <tr>\n",
       "      <th>5</th>\n",
       "      <td>100</td>\n",
       "      <td>343</td>\n",
       "    </tr>\n",
       "    <tr>\n",
       "      <th>6</th>\n",
       "      <td>100</td>\n",
       "      <td>303</td>\n",
       "    </tr>\n",
       "    <tr>\n",
       "      <th>7</th>\n",
       "      <td>96</td>\n",
       "      <td>1513</td>\n",
       "    </tr>\n",
       "    <tr>\n",
       "      <th>8</th>\n",
       "      <td>100</td>\n",
       "      <td>660</td>\n",
       "    </tr>\n",
       "    <tr>\n",
       "      <th>9</th>\n",
       "      <td>96</td>\n",
       "      <td>362</td>\n",
       "    </tr>\n",
       "    <tr>\n",
       "      <th>10</th>\n",
       "      <td>100</td>\n",
       "      <td>768</td>\n",
       "    </tr>\n",
       "    <tr>\n",
       "      <th>11</th>\n",
       "      <td>100</td>\n",
       "      <td>404</td>\n",
       "    </tr>\n",
       "    <tr>\n",
       "      <th>12</th>\n",
       "      <td>97</td>\n",
       "      <td>586</td>\n",
       "    </tr>\n",
       "    <tr>\n",
       "      <th>13</th>\n",
       "      <td>98</td>\n",
       "      <td>633</td>\n",
       "    </tr>\n",
       "    <tr>\n",
       "      <th>14</th>\n",
       "      <td>89</td>\n",
       "      <td>379</td>\n",
       "    </tr>\n",
       "    <tr>\n",
       "      <th>15</th>\n",
       "      <td>100</td>\n",
       "      <td>417</td>\n",
       "    </tr>\n",
       "    <tr>\n",
       "      <th>16</th>\n",
       "      <td>100</td>\n",
       "      <td>670</td>\n",
       "    </tr>\n",
       "    <tr>\n",
       "      <th>17</th>\n",
       "      <td>85</td>\n",
       "      <td>589</td>\n",
       "    </tr>\n",
       "    <tr>\n",
       "      <th>18</th>\n",
       "      <td>93</td>\n",
       "      <td>770</td>\n",
       "    </tr>\n",
       "    <tr>\n",
       "      <th>19</th>\n",
       "      <td>83</td>\n",
       "      <td>694</td>\n",
       "    </tr>\n",
       "    <tr>\n",
       "      <th>20</th>\n",
       "      <td>75</td>\n",
       "      <td>611</td>\n",
       "    </tr>\n",
       "    <tr>\n",
       "      <th>21</th>\n",
       "      <td>80</td>\n",
       "      <td>594</td>\n",
       "    </tr>\n",
       "    <tr>\n",
       "      <th>22</th>\n",
       "      <td>69</td>\n",
       "      <td>564</td>\n",
       "    </tr>\n",
       "    <tr>\n",
       "      <th>23</th>\n",
       "      <td>71</td>\n",
       "      <td>645</td>\n",
       "    </tr>\n",
       "    <tr>\n",
       "      <th>24</th>\n",
       "      <td>100</td>\n",
       "      <td>414</td>\n",
       "    </tr>\n",
       "    <tr>\n",
       "      <th>25</th>\n",
       "      <td>87</td>\n",
       "      <td>631</td>\n",
       "    </tr>\n",
       "    <tr>\n",
       "      <th>26</th>\n",
       "      <td>94</td>\n",
       "      <td>343</td>\n",
       "    </tr>\n",
       "    <tr>\n",
       "      <th>27</th>\n",
       "      <td>96</td>\n",
       "      <td>404</td>\n",
       "    </tr>\n",
       "    <tr>\n",
       "      <th>28</th>\n",
       "      <td>94</td>\n",
       "      <td>504</td>\n",
       "    </tr>\n",
       "    <tr>\n",
       "      <th>29</th>\n",
       "      <td>100</td>\n",
       "      <td>512</td>\n",
       "    </tr>\n",
       "    <tr>\n",
       "      <th>...</th>\n",
       "      <td>...</td>\n",
       "      <td>...</td>\n",
       "    </tr>\n",
       "    <tr>\n",
       "      <th>369</th>\n",
       "      <td>70</td>\n",
       "      <td>593</td>\n",
       "    </tr>\n",
       "    <tr>\n",
       "      <th>370</th>\n",
       "      <td>96</td>\n",
       "      <td>368</td>\n",
       "    </tr>\n",
       "    <tr>\n",
       "      <th>371</th>\n",
       "      <td>100</td>\n",
       "      <td>451</td>\n",
       "    </tr>\n",
       "    <tr>\n",
       "      <th>372</th>\n",
       "      <td>100</td>\n",
       "      <td>657</td>\n",
       "    </tr>\n",
       "    <tr>\n",
       "      <th>373</th>\n",
       "      <td>96</td>\n",
       "      <td>374</td>\n",
       "    </tr>\n",
       "    <tr>\n",
       "      <th>374</th>\n",
       "      <td>100</td>\n",
       "      <td>397</td>\n",
       "    </tr>\n",
       "    <tr>\n",
       "      <th>375</th>\n",
       "      <td>97</td>\n",
       "      <td>392</td>\n",
       "    </tr>\n",
       "    <tr>\n",
       "      <th>376</th>\n",
       "      <td>80</td>\n",
       "      <td>352</td>\n",
       "    </tr>\n",
       "    <tr>\n",
       "      <th>377</th>\n",
       "      <td>83</td>\n",
       "      <td>535</td>\n",
       "    </tr>\n",
       "    <tr>\n",
       "      <th>378</th>\n",
       "      <td>83</td>\n",
       "      <td>657</td>\n",
       "    </tr>\n",
       "    <tr>\n",
       "      <th>379</th>\n",
       "      <td>92</td>\n",
       "      <td>532</td>\n",
       "    </tr>\n",
       "    <tr>\n",
       "      <th>380</th>\n",
       "      <td>80</td>\n",
       "      <td>612</td>\n",
       "    </tr>\n",
       "    <tr>\n",
       "      <th>381</th>\n",
       "      <td>93</td>\n",
       "      <td>559</td>\n",
       "    </tr>\n",
       "    <tr>\n",
       "      <th>382</th>\n",
       "      <td>80</td>\n",
       "      <td>363</td>\n",
       "    </tr>\n",
       "    <tr>\n",
       "      <th>383</th>\n",
       "      <td>80</td>\n",
       "      <td>300</td>\n",
       "    </tr>\n",
       "    <tr>\n",
       "      <th>384</th>\n",
       "      <td>82</td>\n",
       "      <td>331</td>\n",
       "    </tr>\n",
       "    <tr>\n",
       "      <th>385</th>\n",
       "      <td>72</td>\n",
       "      <td>704</td>\n",
       "    </tr>\n",
       "    <tr>\n",
       "      <th>386</th>\n",
       "      <td>74</td>\n",
       "      <td>466</td>\n",
       "    </tr>\n",
       "    <tr>\n",
       "      <th>387</th>\n",
       "      <td>100</td>\n",
       "      <td>364</td>\n",
       "    </tr>\n",
       "    <tr>\n",
       "      <th>388</th>\n",
       "      <td>100</td>\n",
       "      <td>360</td>\n",
       "    </tr>\n",
       "    <tr>\n",
       "      <th>389</th>\n",
       "      <td>96</td>\n",
       "      <td>657</td>\n",
       "    </tr>\n",
       "    <tr>\n",
       "      <th>390</th>\n",
       "      <td>100</td>\n",
       "      <td>391</td>\n",
       "    </tr>\n",
       "    <tr>\n",
       "      <th>391</th>\n",
       "      <td>88</td>\n",
       "      <td>218</td>\n",
       "    </tr>\n",
       "    <tr>\n",
       "      <th>392</th>\n",
       "      <td>80</td>\n",
       "      <td>400</td>\n",
       "    </tr>\n",
       "    <tr>\n",
       "      <th>393</th>\n",
       "      <td>96</td>\n",
       "      <td>317</td>\n",
       "    </tr>\n",
       "    <tr>\n",
       "      <th>394</th>\n",
       "      <td>95</td>\n",
       "      <td>266</td>\n",
       "    </tr>\n",
       "    <tr>\n",
       "      <th>395</th>\n",
       "      <td>85</td>\n",
       "      <td>461</td>\n",
       "    </tr>\n",
       "    <tr>\n",
       "      <th>396</th>\n",
       "      <td>91</td>\n",
       "      <td>360</td>\n",
       "    </tr>\n",
       "    <tr>\n",
       "      <th>397</th>\n",
       "      <td>93</td>\n",
       "      <td>301</td>\n",
       "    </tr>\n",
       "    <tr>\n",
       "      <th>398</th>\n",
       "      <td>83</td>\n",
       "      <td>269</td>\n",
       "    </tr>\n",
       "  </tbody>\n",
       "</table>\n",
       "<p>399 rows × 2 columns</p>\n",
       "</div>"
      ],
      "text/plain": [
       "     titu   nbr\n",
       "0      76   247\n",
       "1      79   463\n",
       "2      68   395\n",
       "3      87   418\n",
       "4      87   520\n",
       "5     100   343\n",
       "6     100   303\n",
       "7      96  1513\n",
       "8     100   660\n",
       "9      96   362\n",
       "10    100   768\n",
       "11    100   404\n",
       "12     97   586\n",
       "13     98   633\n",
       "14     89   379\n",
       "15    100   417\n",
       "16    100   670\n",
       "17     85   589\n",
       "18     93   770\n",
       "19     83   694\n",
       "20     75   611\n",
       "21     80   594\n",
       "22     69   564\n",
       "23     71   645\n",
       "24    100   414\n",
       "25     87   631\n",
       "26     94   343\n",
       "27     96   404\n",
       "28     94   504\n",
       "29    100   512\n",
       "..    ...   ...\n",
       "369    70   593\n",
       "370    96   368\n",
       "371   100   451\n",
       "372   100   657\n",
       "373    96   374\n",
       "374   100   397\n",
       "375    97   392\n",
       "376    80   352\n",
       "377    83   535\n",
       "378    83   657\n",
       "379    92   532\n",
       "380    80   612\n",
       "381    93   559\n",
       "382    80   363\n",
       "383    80   300\n",
       "384    82   331\n",
       "385    72   704\n",
       "386    74   466\n",
       "387   100   364\n",
       "388   100   360\n",
       "389    96   657\n",
       "390   100   391\n",
       "391    88   218\n",
       "392    80   400\n",
       "393    96   317\n",
       "394    95   266\n",
       "395    85   461\n",
       "396    91   360\n",
       "397    93   301\n",
       "398    83   269\n",
       "\n",
       "[399 rows x 2 columns]"
      ]
     },
     "execution_count": 5,
     "metadata": {},
     "output_type": "execute_result"
    }
   ],
   "source": [
    "#Nous souhaitons n'afficher que les deux dernières variables\n",
    "df[df.columns[-2:]]\n",
    "\n",
    "    # On peut utiliser list(df) comme vu plus haut"
   ]
  },
  {
   "cell_type": "code",
   "execution_count": null,
   "metadata": {},
   "outputs": [],
   "source": [
    "# Sauvegarder un dataframe sous excel :\n",
    "    #Après avoir manipulé vos données sous pandas, vous pouvez les enregistrer :\n",
    "df.to_excel(path + 'Mon_Nom_De_Dataframe.xlsx', index=False)"
   ]
  },
  {
   "cell_type": "markdown",
   "metadata": {},
   "source": [
    "<span style='line-height:1.5;font-size: 17px;font-family:\"Times New Roman\"'>\n",
    "\n",
    "Il existe de nombreuses options pour cette commmande (spécifier le nom de la feuille excel dans laquelle on souhaite sauvegarder les données, etc...). Consulter la doc au besoin : https://pandas.pydata.org/pandas-docs/stable/reference/api/pandas.DataFrame.to_excel.html\n",
    "\n",
    "De manière générale, la plupart des fonctions utilisées ici comprennent des options que vous trouverez sur les documentations associées aux packages ou aux fonctions, et sur les forums.\n",
    "\n",
    "\n",
    "## Gestion des données <font color='blue' size=\"1.5\"><i>[Plan du cours](#plan)</i></font>\n",
    "<a id='p32'></a>\n",
    "\n",
    "Nous avons vu comment importer et manipuler le dataframe dans son ensemble. Il nous faut maintenant voir comment gérer plus en profondeur les données et mener des opérations dessus. \n",
    "\n",
    "### Conditionnement sur les données <font color='blue' size=\"1.5\"><i>[Plan du cours](#plan)</i></font>\n",
    "<a id='p321'></a>\n",
    "\n",
    "On cherche ici à restreindre le dataframe pour n'afficher que certaines données. Par exemple, affichons le df pour lequel la variable perf est supérieure à 800"
   ]
  },
  {
   "cell_type": "code",
   "execution_count": 13,
   "metadata": {
    "scrolled": true
   },
   "outputs": [
    {
     "data": {
      "text/html": [
       "<div>\n",
       "<style scoped>\n",
       "    .dataframe tbody tr th:only-of-type {\n",
       "        vertical-align: middle;\n",
       "    }\n",
       "\n",
       "    .dataframe tbody tr th {\n",
       "        vertical-align: top;\n",
       "    }\n",
       "\n",
       "    .dataframe thead th {\n",
       "        text-align: right;\n",
       "    }\n",
       "</style>\n",
       "<table border=\"1\" class=\"dataframe\">\n",
       "  <thead>\n",
       "    <tr style=\"text-align: right;\">\n",
       "      <th></th>\n",
       "      <th>ident</th>\n",
       "      <th>perf</th>\n",
       "      <th>subv</th>\n",
       "      <th>etrg</th>\n",
       "      <th>nouveau</th>\n",
       "      <th>titu</th>\n",
       "      <th>nbr</th>\n",
       "    </tr>\n",
       "  </thead>\n",
       "  <tbody>\n",
       "    <tr>\n",
       "      <th>5</th>\n",
       "      <td>4284</td>\n",
       "      <td>858</td>\n",
       "      <td>10</td>\n",
       "      <td>3</td>\n",
       "      <td>10</td>\n",
       "      <td>100</td>\n",
       "      <td>343</td>\n",
       "    </tr>\n",
       "    <tr>\n",
       "      <th>6</th>\n",
       "      <td>4271</td>\n",
       "      <td>918</td>\n",
       "      <td>5</td>\n",
       "      <td>2</td>\n",
       "      <td>16</td>\n",
       "      <td>100</td>\n",
       "      <td>303</td>\n",
       "    </tr>\n",
       "    <tr>\n",
       "      <th>7</th>\n",
       "      <td>2910</td>\n",
       "      <td>831</td>\n",
       "      <td>2</td>\n",
       "      <td>3</td>\n",
       "      <td>44</td>\n",
       "      <td>96</td>\n",
       "      <td>1513</td>\n",
       "    </tr>\n",
       "    <tr>\n",
       "      <th>8</th>\n",
       "      <td>2899</td>\n",
       "      <td>860</td>\n",
       "      <td>5</td>\n",
       "      <td>6</td>\n",
       "      <td>10</td>\n",
       "      <td>100</td>\n",
       "      <td>660</td>\n",
       "    </tr>\n",
       "    <tr>\n",
       "      <th>10</th>\n",
       "      <td>2911</td>\n",
       "      <td>851</td>\n",
       "      <td>1</td>\n",
       "      <td>2</td>\n",
       "      <td>16</td>\n",
       "      <td>100</td>\n",
       "      <td>768</td>\n",
       "    </tr>\n",
       "    <tr>\n",
       "      <th>12</th>\n",
       "      <td>2907</td>\n",
       "      <td>847</td>\n",
       "      <td>3</td>\n",
       "      <td>2</td>\n",
       "      <td>11</td>\n",
       "      <td>97</td>\n",
       "      <td>586</td>\n",
       "    </tr>\n",
       "    <tr>\n",
       "      <th>14</th>\n",
       "      <td>2895</td>\n",
       "      <td>809</td>\n",
       "      <td>7</td>\n",
       "      <td>8</td>\n",
       "      <td>16</td>\n",
       "      <td>89</td>\n",
       "      <td>379</td>\n",
       "    </tr>\n",
       "    <tr>\n",
       "      <th>15</th>\n",
       "      <td>2880</td>\n",
       "      <td>813</td>\n",
       "      <td>22</td>\n",
       "      <td>11</td>\n",
       "      <td>12</td>\n",
       "      <td>100</td>\n",
       "      <td>417</td>\n",
       "    </tr>\n",
       "    <tr>\n",
       "      <th>16</th>\n",
       "      <td>2890</td>\n",
       "      <td>856</td>\n",
       "      <td>7</td>\n",
       "      <td>6</td>\n",
       "      <td>13</td>\n",
       "      <td>100</td>\n",
       "      <td>670</td>\n",
       "    </tr>\n",
       "    <tr>\n",
       "      <th>18</th>\n",
       "      <td>3956</td>\n",
       "      <td>805</td>\n",
       "      <td>10</td>\n",
       "      <td>1</td>\n",
       "      <td>26</td>\n",
       "      <td>93</td>\n",
       "      <td>770</td>\n",
       "    </tr>\n",
       "    <tr>\n",
       "      <th>37</th>\n",
       "      <td>600</td>\n",
       "      <td>843</td>\n",
       "      <td>25</td>\n",
       "      <td>6</td>\n",
       "      <td>17</td>\n",
       "      <td>91</td>\n",
       "      <td>465</td>\n",
       "    </tr>\n",
       "    <tr>\n",
       "      <th>39</th>\n",
       "      <td>611</td>\n",
       "      <td>857</td>\n",
       "      <td>13</td>\n",
       "      <td>4</td>\n",
       "      <td>12</td>\n",
       "      <td>100</td>\n",
       "      <td>432</td>\n",
       "    </tr>\n",
       "    <tr>\n",
       "      <th>41</th>\n",
       "      <td>592</td>\n",
       "      <td>804</td>\n",
       "      <td>38</td>\n",
       "      <td>8</td>\n",
       "      <td>33</td>\n",
       "      <td>97</td>\n",
       "      <td>427</td>\n",
       "    </tr>\n",
       "    <tr>\n",
       "      <th>42</th>\n",
       "      <td>602</td>\n",
       "      <td>864</td>\n",
       "      <td>24</td>\n",
       "      <td>5</td>\n",
       "      <td>35</td>\n",
       "      <td>100</td>\n",
       "      <td>562</td>\n",
       "    </tr>\n",
       "    <tr>\n",
       "      <th>43</th>\n",
       "      <td>5222</td>\n",
       "      <td>940</td>\n",
       "      <td>0</td>\n",
       "      <td>2</td>\n",
       "      <td>3</td>\n",
       "      <td>90</td>\n",
       "      <td>305</td>\n",
       "    </tr>\n",
       "    <tr>\n",
       "      <th>45</th>\n",
       "      <td>5217</td>\n",
       "      <td>887</td>\n",
       "      <td>3</td>\n",
       "      <td>5</td>\n",
       "      <td>14</td>\n",
       "      <td>93</td>\n",
       "      <td>520</td>\n",
       "    </tr>\n",
       "    <tr>\n",
       "      <th>47</th>\n",
       "      <td>3643</td>\n",
       "      <td>822</td>\n",
       "      <td>16</td>\n",
       "      <td>10</td>\n",
       "      <td>47</td>\n",
       "      <td>95</td>\n",
       "      <td>830</td>\n",
       "    </tr>\n",
       "    <tr>\n",
       "      <th>48</th>\n",
       "      <td>3624</td>\n",
       "      <td>806</td>\n",
       "      <td>21</td>\n",
       "      <td>6</td>\n",
       "      <td>25</td>\n",
       "      <td>90</td>\n",
       "      <td>487</td>\n",
       "    </tr>\n",
       "    <tr>\n",
       "      <th>49</th>\n",
       "      <td>3623</td>\n",
       "      <td>816</td>\n",
       "      <td>16</td>\n",
       "      <td>6</td>\n",
       "      <td>18</td>\n",
       "      <td>100</td>\n",
       "      <td>307</td>\n",
       "    </tr>\n",
       "    <tr>\n",
       "      <th>53</th>\n",
       "      <td>58</td>\n",
       "      <td>801</td>\n",
       "      <td>20</td>\n",
       "      <td>12</td>\n",
       "      <td>18</td>\n",
       "      <td>89</td>\n",
       "      <td>416</td>\n",
       "    </tr>\n",
       "    <tr>\n",
       "      <th>55</th>\n",
       "      <td>65</td>\n",
       "      <td>903</td>\n",
       "      <td>7</td>\n",
       "      <td>8</td>\n",
       "      <td>21</td>\n",
       "      <td>77</td>\n",
       "      <td>488</td>\n",
       "    </tr>\n",
       "    <tr>\n",
       "      <th>76</th>\n",
       "      <td>3004</td>\n",
       "      <td>822</td>\n",
       "      <td>8</td>\n",
       "      <td>4</td>\n",
       "      <td>10</td>\n",
       "      <td>87</td>\n",
       "      <td>313</td>\n",
       "    </tr>\n",
       "    <tr>\n",
       "      <th>80</th>\n",
       "      <td>2459</td>\n",
       "      <td>871</td>\n",
       "      <td>14</td>\n",
       "      <td>15</td>\n",
       "      <td>15</td>\n",
       "      <td>83</td>\n",
       "      <td>404</td>\n",
       "    </tr>\n",
       "    <tr>\n",
       "      <th>85</th>\n",
       "      <td>3236</td>\n",
       "      <td>912</td>\n",
       "      <td>6</td>\n",
       "      <td>7</td>\n",
       "      <td>22</td>\n",
       "      <td>97</td>\n",
       "      <td>611</td>\n",
       "    </tr>\n",
       "    <tr>\n",
       "      <th>86</th>\n",
       "      <td>3240</td>\n",
       "      <td>883</td>\n",
       "      <td>7</td>\n",
       "      <td>20</td>\n",
       "      <td>35</td>\n",
       "      <td>100</td>\n",
       "      <td>440</td>\n",
       "    </tr>\n",
       "    <tr>\n",
       "      <th>87</th>\n",
       "      <td>3241</td>\n",
       "      <td>844</td>\n",
       "      <td>12</td>\n",
       "      <td>14</td>\n",
       "      <td>21</td>\n",
       "      <td>100</td>\n",
       "      <td>381</td>\n",
       "    </tr>\n",
       "    <tr>\n",
       "      <th>88</th>\n",
       "      <td>3256</td>\n",
       "      <td>880</td>\n",
       "      <td>11</td>\n",
       "      <td>7</td>\n",
       "      <td>11</td>\n",
       "      <td>90</td>\n",
       "      <td>503</td>\n",
       "    </tr>\n",
       "    <tr>\n",
       "      <th>89</th>\n",
       "      <td>3250</td>\n",
       "      <td>894</td>\n",
       "      <td>4</td>\n",
       "      <td>4</td>\n",
       "      <td>13</td>\n",
       "      <td>97</td>\n",
       "      <td>466</td>\n",
       "    </tr>\n",
       "    <tr>\n",
       "      <th>90</th>\n",
       "      <td>3247</td>\n",
       "      <td>858</td>\n",
       "      <td>4</td>\n",
       "      <td>8</td>\n",
       "      <td>17</td>\n",
       "      <td>95</td>\n",
       "      <td>357</td>\n",
       "    </tr>\n",
       "    <tr>\n",
       "      <th>91</th>\n",
       "      <td>3258</td>\n",
       "      <td>847</td>\n",
       "      <td>7</td>\n",
       "      <td>7</td>\n",
       "      <td>17</td>\n",
       "      <td>100</td>\n",
       "      <td>388</td>\n",
       "    </tr>\n",
       "    <tr>\n",
       "      <th>...</th>\n",
       "      <td>...</td>\n",
       "      <td>...</td>\n",
       "      <td>...</td>\n",
       "      <td>...</td>\n",
       "      <td>...</td>\n",
       "      <td>...</td>\n",
       "      <td>...</td>\n",
       "    </tr>\n",
       "    <tr>\n",
       "      <th>243</th>\n",
       "      <td>4449</td>\n",
       "      <td>844</td>\n",
       "      <td>3</td>\n",
       "      <td>13</td>\n",
       "      <td>15</td>\n",
       "      <td>100</td>\n",
       "      <td>462</td>\n",
       "    </tr>\n",
       "    <tr>\n",
       "      <th>244</th>\n",
       "      <td>4431</td>\n",
       "      <td>858</td>\n",
       "      <td>6</td>\n",
       "      <td>5</td>\n",
       "      <td>21</td>\n",
       "      <td>100</td>\n",
       "      <td>672</td>\n",
       "    </tr>\n",
       "    <tr>\n",
       "      <th>245</th>\n",
       "      <td>4427</td>\n",
       "      <td>802</td>\n",
       "      <td>21</td>\n",
       "      <td>11</td>\n",
       "      <td>11</td>\n",
       "      <td>100</td>\n",
       "      <td>541</td>\n",
       "    </tr>\n",
       "    <tr>\n",
       "      <th>246</th>\n",
       "      <td>4443</td>\n",
       "      <td>875</td>\n",
       "      <td>4</td>\n",
       "      <td>9</td>\n",
       "      <td>9</td>\n",
       "      <td>100</td>\n",
       "      <td>606</td>\n",
       "    </tr>\n",
       "    <tr>\n",
       "      <th>269</th>\n",
       "      <td>3772</td>\n",
       "      <td>829</td>\n",
       "      <td>22</td>\n",
       "      <td>7</td>\n",
       "      <td>14</td>\n",
       "      <td>100</td>\n",
       "      <td>329</td>\n",
       "    </tr>\n",
       "    <tr>\n",
       "      <th>274</th>\n",
       "      <td>3784</td>\n",
       "      <td>859</td>\n",
       "      <td>18</td>\n",
       "      <td>1</td>\n",
       "      <td>9</td>\n",
       "      <td>100</td>\n",
       "      <td>406</td>\n",
       "    </tr>\n",
       "    <tr>\n",
       "      <th>277</th>\n",
       "      <td>3203</td>\n",
       "      <td>845</td>\n",
       "      <td>14</td>\n",
       "      <td>4</td>\n",
       "      <td>12</td>\n",
       "      <td>97</td>\n",
       "      <td>410</td>\n",
       "    </tr>\n",
       "    <tr>\n",
       "      <th>278</th>\n",
       "      <td>3200</td>\n",
       "      <td>854</td>\n",
       "      <td>6</td>\n",
       "      <td>1</td>\n",
       "      <td>13</td>\n",
       "      <td>97</td>\n",
       "      <td>586</td>\n",
       "    </tr>\n",
       "    <tr>\n",
       "      <th>280</th>\n",
       "      <td>3202</td>\n",
       "      <td>839</td>\n",
       "      <td>12</td>\n",
       "      <td>3</td>\n",
       "      <td>17</td>\n",
       "      <td>100</td>\n",
       "      <td>203</td>\n",
       "    </tr>\n",
       "    <tr>\n",
       "      <th>282</th>\n",
       "      <td>3193</td>\n",
       "      <td>841</td>\n",
       "      <td>6</td>\n",
       "      <td>5</td>\n",
       "      <td>17</td>\n",
       "      <td>97</td>\n",
       "      <td>510</td>\n",
       "    </tr>\n",
       "    <tr>\n",
       "      <th>293</th>\n",
       "      <td>4576</td>\n",
       "      <td>801</td>\n",
       "      <td>32</td>\n",
       "      <td>18</td>\n",
       "      <td>14</td>\n",
       "      <td>98</td>\n",
       "      <td>548</td>\n",
       "    </tr>\n",
       "    <tr>\n",
       "      <th>295</th>\n",
       "      <td>4554</td>\n",
       "      <td>836</td>\n",
       "      <td>29</td>\n",
       "      <td>27</td>\n",
       "      <td>17</td>\n",
       "      <td>100</td>\n",
       "      <td>231</td>\n",
       "    </tr>\n",
       "    <tr>\n",
       "      <th>299</th>\n",
       "      <td>4585</td>\n",
       "      <td>845</td>\n",
       "      <td>31</td>\n",
       "      <td>24</td>\n",
       "      <td>25</td>\n",
       "      <td>100</td>\n",
       "      <td>469</td>\n",
       "    </tr>\n",
       "    <tr>\n",
       "      <th>305</th>\n",
       "      <td>4583</td>\n",
       "      <td>865</td>\n",
       "      <td>40</td>\n",
       "      <td>8</td>\n",
       "      <td>17</td>\n",
       "      <td>100</td>\n",
       "      <td>344</td>\n",
       "    </tr>\n",
       "    <tr>\n",
       "      <th>312</th>\n",
       "      <td>4596</td>\n",
       "      <td>883</td>\n",
       "      <td>4</td>\n",
       "      <td>3</td>\n",
       "      <td>9</td>\n",
       "      <td>97</td>\n",
       "      <td>556</td>\n",
       "    </tr>\n",
       "    <tr>\n",
       "      <th>314</th>\n",
       "      <td>4519</td>\n",
       "      <td>887</td>\n",
       "      <td>19</td>\n",
       "      <td>8</td>\n",
       "      <td>10</td>\n",
       "      <td>100</td>\n",
       "      <td>256</td>\n",
       "    </tr>\n",
       "    <tr>\n",
       "      <th>321</th>\n",
       "      <td>4547</td>\n",
       "      <td>803</td>\n",
       "      <td>48</td>\n",
       "      <td>18</td>\n",
       "      <td>17</td>\n",
       "      <td>100</td>\n",
       "      <td>266</td>\n",
       "    </tr>\n",
       "    <tr>\n",
       "      <th>325</th>\n",
       "      <td>4737</td>\n",
       "      <td>808</td>\n",
       "      <td>61</td>\n",
       "      <td>26</td>\n",
       "      <td>7</td>\n",
       "      <td>81</td>\n",
       "      <td>329</td>\n",
       "    </tr>\n",
       "    <tr>\n",
       "      <th>330</th>\n",
       "      <td>4775</td>\n",
       "      <td>808</td>\n",
       "      <td>14</td>\n",
       "      <td>5</td>\n",
       "      <td>3</td>\n",
       "      <td>87</td>\n",
       "      <td>448</td>\n",
       "    </tr>\n",
       "    <tr>\n",
       "      <th>337</th>\n",
       "      <td>5387</td>\n",
       "      <td>892</td>\n",
       "      <td>2</td>\n",
       "      <td>3</td>\n",
       "      <td>13</td>\n",
       "      <td>78</td>\n",
       "      <td>602</td>\n",
       "    </tr>\n",
       "    <tr>\n",
       "      <th>338</th>\n",
       "      <td>5386</td>\n",
       "      <td>876</td>\n",
       "      <td>9</td>\n",
       "      <td>3</td>\n",
       "      <td>14</td>\n",
       "      <td>96</td>\n",
       "      <td>387</td>\n",
       "    </tr>\n",
       "    <tr>\n",
       "      <th>346</th>\n",
       "      <td>3848</td>\n",
       "      <td>801</td>\n",
       "      <td>27</td>\n",
       "      <td>1</td>\n",
       "      <td>19</td>\n",
       "      <td>95</td>\n",
       "      <td>317</td>\n",
       "    </tr>\n",
       "    <tr>\n",
       "      <th>350</th>\n",
       "      <td>3839</td>\n",
       "      <td>863</td>\n",
       "      <td>14</td>\n",
       "      <td>1</td>\n",
       "      <td>18</td>\n",
       "      <td>100</td>\n",
       "      <td>355</td>\n",
       "    </tr>\n",
       "    <tr>\n",
       "      <th>352</th>\n",
       "      <td>3854</td>\n",
       "      <td>883</td>\n",
       "      <td>20</td>\n",
       "      <td>1</td>\n",
       "      <td>24</td>\n",
       "      <td>96</td>\n",
       "      <td>394</td>\n",
       "    </tr>\n",
       "    <tr>\n",
       "      <th>358</th>\n",
       "      <td>3826</td>\n",
       "      <td>831</td>\n",
       "      <td>11</td>\n",
       "      <td>2</td>\n",
       "      <td>9</td>\n",
       "      <td>88</td>\n",
       "      <td>318</td>\n",
       "    </tr>\n",
       "    <tr>\n",
       "      <th>359</th>\n",
       "      <td>3824</td>\n",
       "      <td>876</td>\n",
       "      <td>23</td>\n",
       "      <td>1</td>\n",
       "      <td>21</td>\n",
       "      <td>95</td>\n",
       "      <td>399</td>\n",
       "    </tr>\n",
       "    <tr>\n",
       "      <th>361</th>\n",
       "      <td>3865</td>\n",
       "      <td>847</td>\n",
       "      <td>9</td>\n",
       "      <td>0</td>\n",
       "      <td>8</td>\n",
       "      <td>95</td>\n",
       "      <td>312</td>\n",
       "    </tr>\n",
       "    <tr>\n",
       "      <th>367</th>\n",
       "      <td>3145</td>\n",
       "      <td>806</td>\n",
       "      <td>32</td>\n",
       "      <td>14</td>\n",
       "      <td>20</td>\n",
       "      <td>91</td>\n",
       "      <td>695</td>\n",
       "    </tr>\n",
       "    <tr>\n",
       "      <th>371</th>\n",
       "      <td>6072</td>\n",
       "      <td>865</td>\n",
       "      <td>5</td>\n",
       "      <td>0</td>\n",
       "      <td>4</td>\n",
       "      <td>100</td>\n",
       "      <td>451</td>\n",
       "    </tr>\n",
       "    <tr>\n",
       "      <th>396</th>\n",
       "      <td>504</td>\n",
       "      <td>802</td>\n",
       "      <td>26</td>\n",
       "      <td>10</td>\n",
       "      <td>21</td>\n",
       "      <td>91</td>\n",
       "      <td>360</td>\n",
       "    </tr>\n",
       "  </tbody>\n",
       "</table>\n",
       "<p>77 rows × 7 columns</p>\n",
       "</div>"
      ],
      "text/plain": [
       "     ident  perf  subv  etrg  nouveau  titu   nbr\n",
       "5     4284   858    10     3       10   100   343\n",
       "6     4271   918     5     2       16   100   303\n",
       "7     2910   831     2     3       44    96  1513\n",
       "8     2899   860     5     6       10   100   660\n",
       "10    2911   851     1     2       16   100   768\n",
       "12    2907   847     3     2       11    97   586\n",
       "14    2895   809     7     8       16    89   379\n",
       "15    2880   813    22    11       12   100   417\n",
       "16    2890   856     7     6       13   100   670\n",
       "18    3956   805    10     1       26    93   770\n",
       "37     600   843    25     6       17    91   465\n",
       "39     611   857    13     4       12   100   432\n",
       "41     592   804    38     8       33    97   427\n",
       "42     602   864    24     5       35   100   562\n",
       "43    5222   940     0     2        3    90   305\n",
       "45    5217   887     3     5       14    93   520\n",
       "47    3643   822    16    10       47    95   830\n",
       "48    3624   806    21     6       25    90   487\n",
       "49    3623   816    16     6       18   100   307\n",
       "53      58   801    20    12       18    89   416\n",
       "55      65   903     7     8       21    77   488\n",
       "76    3004   822     8     4       10    87   313\n",
       "80    2459   871    14    15       15    83   404\n",
       "85    3236   912     6     7       22    97   611\n",
       "86    3240   883     7    20       35   100   440\n",
       "87    3241   844    12    14       21   100   381\n",
       "88    3256   880    11     7       11    90   503\n",
       "89    3250   894     4     4       13    97   466\n",
       "90    3247   858     4     8       17    95   357\n",
       "91    3258   847     7     7       17   100   388\n",
       "..     ...   ...   ...   ...      ...   ...   ...\n",
       "243   4449   844     3    13       15   100   462\n",
       "244   4431   858     6     5       21   100   672\n",
       "245   4427   802    21    11       11   100   541\n",
       "246   4443   875     4     9        9   100   606\n",
       "269   3772   829    22     7       14   100   329\n",
       "274   3784   859    18     1        9   100   406\n",
       "277   3203   845    14     4       12    97   410\n",
       "278   3200   854     6     1       13    97   586\n",
       "280   3202   839    12     3       17   100   203\n",
       "282   3193   841     6     5       17    97   510\n",
       "293   4576   801    32    18       14    98   548\n",
       "295   4554   836    29    27       17   100   231\n",
       "299   4585   845    31    24       25   100   469\n",
       "305   4583   865    40     8       17   100   344\n",
       "312   4596   883     4     3        9    97   556\n",
       "314   4519   887    19     8       10   100   256\n",
       "321   4547   803    48    18       17   100   266\n",
       "325   4737   808    61    26        7    81   329\n",
       "330   4775   808    14     5        3    87   448\n",
       "337   5387   892     2     3       13    78   602\n",
       "338   5386   876     9     3       14    96   387\n",
       "346   3848   801    27     1       19    95   317\n",
       "350   3839   863    14     1       18   100   355\n",
       "352   3854   883    20     1       24    96   394\n",
       "358   3826   831    11     2        9    88   318\n",
       "359   3824   876    23     1       21    95   399\n",
       "361   3865   847     9     0        8    95   312\n",
       "367   3145   806    32    14       20    91   695\n",
       "371   6072   865     5     0        4   100   451\n",
       "396    504   802    26    10       21    91   360\n",
       "\n",
       "[77 rows x 7 columns]"
      ]
     },
     "execution_count": 13,
     "metadata": {},
     "output_type": "execute_result"
    }
   ],
   "source": [
    "df[df['perf']>800]"
   ]
  },
  {
   "cell_type": "code",
   "execution_count": 11,
   "metadata": {
    "scrolled": true
   },
   "outputs": [
    {
     "data": {
      "text/html": [
       "<div>\n",
       "<style scoped>\n",
       "    .dataframe tbody tr th:only-of-type {\n",
       "        vertical-align: middle;\n",
       "    }\n",
       "\n",
       "    .dataframe tbody tr th {\n",
       "        vertical-align: top;\n",
       "    }\n",
       "\n",
       "    .dataframe thead th {\n",
       "        text-align: right;\n",
       "    }\n",
       "</style>\n",
       "<table border=\"1\" class=\"dataframe\">\n",
       "  <thead>\n",
       "    <tr style=\"text-align: right;\">\n",
       "      <th></th>\n",
       "      <th>perf</th>\n",
       "    </tr>\n",
       "  </thead>\n",
       "  <tbody>\n",
       "    <tr>\n",
       "      <th>5</th>\n",
       "      <td>858</td>\n",
       "    </tr>\n",
       "    <tr>\n",
       "      <th>6</th>\n",
       "      <td>918</td>\n",
       "    </tr>\n",
       "    <tr>\n",
       "      <th>7</th>\n",
       "      <td>831</td>\n",
       "    </tr>\n",
       "    <tr>\n",
       "      <th>8</th>\n",
       "      <td>860</td>\n",
       "    </tr>\n",
       "    <tr>\n",
       "      <th>10</th>\n",
       "      <td>851</td>\n",
       "    </tr>\n",
       "    <tr>\n",
       "      <th>12</th>\n",
       "      <td>847</td>\n",
       "    </tr>\n",
       "    <tr>\n",
       "      <th>14</th>\n",
       "      <td>809</td>\n",
       "    </tr>\n",
       "    <tr>\n",
       "      <th>15</th>\n",
       "      <td>813</td>\n",
       "    </tr>\n",
       "    <tr>\n",
       "      <th>16</th>\n",
       "      <td>856</td>\n",
       "    </tr>\n",
       "    <tr>\n",
       "      <th>18</th>\n",
       "      <td>805</td>\n",
       "    </tr>\n",
       "    <tr>\n",
       "      <th>37</th>\n",
       "      <td>843</td>\n",
       "    </tr>\n",
       "    <tr>\n",
       "      <th>39</th>\n",
       "      <td>857</td>\n",
       "    </tr>\n",
       "    <tr>\n",
       "      <th>41</th>\n",
       "      <td>804</td>\n",
       "    </tr>\n",
       "    <tr>\n",
       "      <th>42</th>\n",
       "      <td>864</td>\n",
       "    </tr>\n",
       "    <tr>\n",
       "      <th>43</th>\n",
       "      <td>940</td>\n",
       "    </tr>\n",
       "    <tr>\n",
       "      <th>45</th>\n",
       "      <td>887</td>\n",
       "    </tr>\n",
       "    <tr>\n",
       "      <th>47</th>\n",
       "      <td>822</td>\n",
       "    </tr>\n",
       "    <tr>\n",
       "      <th>48</th>\n",
       "      <td>806</td>\n",
       "    </tr>\n",
       "    <tr>\n",
       "      <th>49</th>\n",
       "      <td>816</td>\n",
       "    </tr>\n",
       "    <tr>\n",
       "      <th>53</th>\n",
       "      <td>801</td>\n",
       "    </tr>\n",
       "    <tr>\n",
       "      <th>55</th>\n",
       "      <td>903</td>\n",
       "    </tr>\n",
       "    <tr>\n",
       "      <th>76</th>\n",
       "      <td>822</td>\n",
       "    </tr>\n",
       "    <tr>\n",
       "      <th>80</th>\n",
       "      <td>871</td>\n",
       "    </tr>\n",
       "    <tr>\n",
       "      <th>85</th>\n",
       "      <td>912</td>\n",
       "    </tr>\n",
       "    <tr>\n",
       "      <th>86</th>\n",
       "      <td>883</td>\n",
       "    </tr>\n",
       "    <tr>\n",
       "      <th>87</th>\n",
       "      <td>844</td>\n",
       "    </tr>\n",
       "    <tr>\n",
       "      <th>88</th>\n",
       "      <td>880</td>\n",
       "    </tr>\n",
       "    <tr>\n",
       "      <th>89</th>\n",
       "      <td>894</td>\n",
       "    </tr>\n",
       "    <tr>\n",
       "      <th>90</th>\n",
       "      <td>858</td>\n",
       "    </tr>\n",
       "    <tr>\n",
       "      <th>91</th>\n",
       "      <td>847</td>\n",
       "    </tr>\n",
       "    <tr>\n",
       "      <th>...</th>\n",
       "      <td>...</td>\n",
       "    </tr>\n",
       "    <tr>\n",
       "      <th>243</th>\n",
       "      <td>844</td>\n",
       "    </tr>\n",
       "    <tr>\n",
       "      <th>244</th>\n",
       "      <td>858</td>\n",
       "    </tr>\n",
       "    <tr>\n",
       "      <th>245</th>\n",
       "      <td>802</td>\n",
       "    </tr>\n",
       "    <tr>\n",
       "      <th>246</th>\n",
       "      <td>875</td>\n",
       "    </tr>\n",
       "    <tr>\n",
       "      <th>269</th>\n",
       "      <td>829</td>\n",
       "    </tr>\n",
       "    <tr>\n",
       "      <th>274</th>\n",
       "      <td>859</td>\n",
       "    </tr>\n",
       "    <tr>\n",
       "      <th>277</th>\n",
       "      <td>845</td>\n",
       "    </tr>\n",
       "    <tr>\n",
       "      <th>278</th>\n",
       "      <td>854</td>\n",
       "    </tr>\n",
       "    <tr>\n",
       "      <th>280</th>\n",
       "      <td>839</td>\n",
       "    </tr>\n",
       "    <tr>\n",
       "      <th>282</th>\n",
       "      <td>841</td>\n",
       "    </tr>\n",
       "    <tr>\n",
       "      <th>293</th>\n",
       "      <td>801</td>\n",
       "    </tr>\n",
       "    <tr>\n",
       "      <th>295</th>\n",
       "      <td>836</td>\n",
       "    </tr>\n",
       "    <tr>\n",
       "      <th>299</th>\n",
       "      <td>845</td>\n",
       "    </tr>\n",
       "    <tr>\n",
       "      <th>305</th>\n",
       "      <td>865</td>\n",
       "    </tr>\n",
       "    <tr>\n",
       "      <th>312</th>\n",
       "      <td>883</td>\n",
       "    </tr>\n",
       "    <tr>\n",
       "      <th>314</th>\n",
       "      <td>887</td>\n",
       "    </tr>\n",
       "    <tr>\n",
       "      <th>321</th>\n",
       "      <td>803</td>\n",
       "    </tr>\n",
       "    <tr>\n",
       "      <th>325</th>\n",
       "      <td>808</td>\n",
       "    </tr>\n",
       "    <tr>\n",
       "      <th>330</th>\n",
       "      <td>808</td>\n",
       "    </tr>\n",
       "    <tr>\n",
       "      <th>337</th>\n",
       "      <td>892</td>\n",
       "    </tr>\n",
       "    <tr>\n",
       "      <th>338</th>\n",
       "      <td>876</td>\n",
       "    </tr>\n",
       "    <tr>\n",
       "      <th>346</th>\n",
       "      <td>801</td>\n",
       "    </tr>\n",
       "    <tr>\n",
       "      <th>350</th>\n",
       "      <td>863</td>\n",
       "    </tr>\n",
       "    <tr>\n",
       "      <th>352</th>\n",
       "      <td>883</td>\n",
       "    </tr>\n",
       "    <tr>\n",
       "      <th>358</th>\n",
       "      <td>831</td>\n",
       "    </tr>\n",
       "    <tr>\n",
       "      <th>359</th>\n",
       "      <td>876</td>\n",
       "    </tr>\n",
       "    <tr>\n",
       "      <th>361</th>\n",
       "      <td>847</td>\n",
       "    </tr>\n",
       "    <tr>\n",
       "      <th>367</th>\n",
       "      <td>806</td>\n",
       "    </tr>\n",
       "    <tr>\n",
       "      <th>371</th>\n",
       "      <td>865</td>\n",
       "    </tr>\n",
       "    <tr>\n",
       "      <th>396</th>\n",
       "      <td>802</td>\n",
       "    </tr>\n",
       "  </tbody>\n",
       "</table>\n",
       "<p>77 rows × 1 columns</p>\n",
       "</div>"
      ],
      "text/plain": [
       "     perf\n",
       "5     858\n",
       "6     918\n",
       "7     831\n",
       "8     860\n",
       "10    851\n",
       "12    847\n",
       "14    809\n",
       "15    813\n",
       "16    856\n",
       "18    805\n",
       "37    843\n",
       "39    857\n",
       "41    804\n",
       "42    864\n",
       "43    940\n",
       "45    887\n",
       "47    822\n",
       "48    806\n",
       "49    816\n",
       "53    801\n",
       "55    903\n",
       "76    822\n",
       "80    871\n",
       "85    912\n",
       "86    883\n",
       "87    844\n",
       "88    880\n",
       "89    894\n",
       "90    858\n",
       "91    847\n",
       "..    ...\n",
       "243   844\n",
       "244   858\n",
       "245   802\n",
       "246   875\n",
       "269   829\n",
       "274   859\n",
       "277   845\n",
       "278   854\n",
       "280   839\n",
       "282   841\n",
       "293   801\n",
       "295   836\n",
       "299   845\n",
       "305   865\n",
       "312   883\n",
       "314   887\n",
       "321   803\n",
       "325   808\n",
       "330   808\n",
       "337   892\n",
       "338   876\n",
       "346   801\n",
       "350   863\n",
       "352   883\n",
       "358   831\n",
       "359   876\n",
       "361   847\n",
       "367   806\n",
       "371   865\n",
       "396   802\n",
       "\n",
       "[77 rows x 1 columns]"
      ]
     },
     "execution_count": 11,
     "metadata": {},
     "output_type": "execute_result"
    }
   ],
   "source": [
    "#On peut aussi afficher une variable du dataframe contraint\n",
    "df[df['perf']>800][['perf']]"
   ]
  },
  {
   "cell_type": "code",
   "execution_count": 12,
   "metadata": {},
   "outputs": [
    {
     "data": {
      "text/html": [
       "<div>\n",
       "<style scoped>\n",
       "    .dataframe tbody tr th:only-of-type {\n",
       "        vertical-align: middle;\n",
       "    }\n",
       "\n",
       "    .dataframe tbody tr th {\n",
       "        vertical-align: top;\n",
       "    }\n",
       "\n",
       "    .dataframe thead th {\n",
       "        text-align: right;\n",
       "    }\n",
       "</style>\n",
       "<table border=\"1\" class=\"dataframe\">\n",
       "  <thead>\n",
       "    <tr style=\"text-align: right;\">\n",
       "      <th></th>\n",
       "      <th>ident</th>\n",
       "      <th>perf</th>\n",
       "      <th>subv</th>\n",
       "      <th>etrg</th>\n",
       "      <th>nouveau</th>\n",
       "      <th>titu</th>\n",
       "      <th>nbr</th>\n",
       "    </tr>\n",
       "  </thead>\n",
       "  <tbody>\n",
       "    <tr>\n",
       "      <th>5</th>\n",
       "      <td>4284</td>\n",
       "      <td>858</td>\n",
       "      <td>10</td>\n",
       "      <td>3</td>\n",
       "      <td>10</td>\n",
       "      <td>100</td>\n",
       "      <td>343</td>\n",
       "    </tr>\n",
       "  </tbody>\n",
       "</table>\n",
       "</div>"
      ],
      "text/plain": [
       "   ident  perf  subv  etrg  nouveau  titu  nbr\n",
       "5   4284   858    10     3       10   100  343"
      ]
     },
     "execution_count": 12,
     "metadata": {},
     "output_type": "execute_result"
    }
   ],
   "source": [
    "    #On peut également poser plusieurs conditions\n",
    "    df[(df['perf']>800)&(df['ident']==4284)]"
   ]
  },
  {
   "cell_type": "code",
   "execution_count": 6,
   "metadata": {
    "scrolled": true
   },
   "outputs": [
    {
     "data": {
      "text/html": [
       "<div>\n",
       "<style scoped>\n",
       "    .dataframe tbody tr th:only-of-type {\n",
       "        vertical-align: middle;\n",
       "    }\n",
       "\n",
       "    .dataframe tbody tr th {\n",
       "        vertical-align: top;\n",
       "    }\n",
       "\n",
       "    .dataframe thead th {\n",
       "        text-align: right;\n",
       "    }\n",
       "</style>\n",
       "<table border=\"1\" class=\"dataframe\">\n",
       "  <thead>\n",
       "    <tr style=\"text-align: right;\">\n",
       "      <th></th>\n",
       "      <th>ident</th>\n",
       "      <th>perf</th>\n",
       "      <th>subv</th>\n",
       "      <th>etrg</th>\n",
       "      <th>nouveau</th>\n",
       "      <th>titu</th>\n",
       "      <th>nbr</th>\n",
       "    </tr>\n",
       "  </thead>\n",
       "  <tbody>\n",
       "    <tr>\n",
       "      <th>5</th>\n",
       "      <td>4284</td>\n",
       "      <td>858</td>\n",
       "      <td>10</td>\n",
       "      <td>3</td>\n",
       "      <td>10</td>\n",
       "      <td>100</td>\n",
       "      <td>343</td>\n",
       "    </tr>\n",
       "    <tr>\n",
       "      <th>6</th>\n",
       "      <td>4271</td>\n",
       "      <td>918</td>\n",
       "      <td>5</td>\n",
       "      <td>2</td>\n",
       "      <td>16</td>\n",
       "      <td>100</td>\n",
       "      <td>303</td>\n",
       "    </tr>\n",
       "    <tr>\n",
       "      <th>7</th>\n",
       "      <td>2910</td>\n",
       "      <td>831</td>\n",
       "      <td>2</td>\n",
       "      <td>3</td>\n",
       "      <td>44</td>\n",
       "      <td>96</td>\n",
       "      <td>1513</td>\n",
       "    </tr>\n",
       "    <tr>\n",
       "      <th>10</th>\n",
       "      <td>2911</td>\n",
       "      <td>851</td>\n",
       "      <td>1</td>\n",
       "      <td>2</td>\n",
       "      <td>16</td>\n",
       "      <td>100</td>\n",
       "      <td>768</td>\n",
       "    </tr>\n",
       "    <tr>\n",
       "      <th>12</th>\n",
       "      <td>2907</td>\n",
       "      <td>847</td>\n",
       "      <td>3</td>\n",
       "      <td>2</td>\n",
       "      <td>11</td>\n",
       "      <td>97</td>\n",
       "      <td>586</td>\n",
       "    </tr>\n",
       "    <tr>\n",
       "      <th>43</th>\n",
       "      <td>5222</td>\n",
       "      <td>940</td>\n",
       "      <td>0</td>\n",
       "      <td>2</td>\n",
       "      <td>3</td>\n",
       "      <td>90</td>\n",
       "      <td>305</td>\n",
       "    </tr>\n",
       "    <tr>\n",
       "      <th>44</th>\n",
       "      <td>5210</td>\n",
       "      <td>792</td>\n",
       "      <td>9</td>\n",
       "      <td>3</td>\n",
       "      <td>19</td>\n",
       "      <td>84</td>\n",
       "      <td>467</td>\n",
       "    </tr>\n",
       "    <tr>\n",
       "      <th>83</th>\n",
       "      <td>93</td>\n",
       "      <td>761</td>\n",
       "      <td>15</td>\n",
       "      <td>3</td>\n",
       "      <td>21</td>\n",
       "      <td>86</td>\n",
       "      <td>267</td>\n",
       "    </tr>\n",
       "    <tr>\n",
       "      <th>127</th>\n",
       "      <td>1682</td>\n",
       "      <td>755</td>\n",
       "      <td>27</td>\n",
       "      <td>2</td>\n",
       "      <td>10</td>\n",
       "      <td>84</td>\n",
       "      <td>283</td>\n",
       "    </tr>\n",
       "    <tr>\n",
       "      <th>147</th>\n",
       "      <td>1812</td>\n",
       "      <td>917</td>\n",
       "      <td>6</td>\n",
       "      <td>3</td>\n",
       "      <td>8</td>\n",
       "      <td>95</td>\n",
       "      <td>436</td>\n",
       "    </tr>\n",
       "    <tr>\n",
       "      <th>165</th>\n",
       "      <td>1680</td>\n",
       "      <td>744</td>\n",
       "      <td>31</td>\n",
       "      <td>2</td>\n",
       "      <td>22</td>\n",
       "      <td>81</td>\n",
       "      <td>326</td>\n",
       "    </tr>\n",
       "    <tr>\n",
       "      <th>215</th>\n",
       "      <td>430</td>\n",
       "      <td>745</td>\n",
       "      <td>17</td>\n",
       "      <td>3</td>\n",
       "      <td>17</td>\n",
       "      <td>89</td>\n",
       "      <td>240</td>\n",
       "    </tr>\n",
       "    <tr>\n",
       "      <th>228</th>\n",
       "      <td>203</td>\n",
       "      <td>844</td>\n",
       "      <td>11</td>\n",
       "      <td>2</td>\n",
       "      <td>6</td>\n",
       "      <td>100</td>\n",
       "      <td>179</td>\n",
       "    </tr>\n",
       "    <tr>\n",
       "      <th>234</th>\n",
       "      <td>181</td>\n",
       "      <td>724</td>\n",
       "      <td>15</td>\n",
       "      <td>3</td>\n",
       "      <td>18</td>\n",
       "      <td>93</td>\n",
       "      <td>196</td>\n",
       "    </tr>\n",
       "    <tr>\n",
       "      <th>235</th>\n",
       "      <td>198</td>\n",
       "      <td>894</td>\n",
       "      <td>9</td>\n",
       "      <td>2</td>\n",
       "      <td>7</td>\n",
       "      <td>95</td>\n",
       "      <td>213</td>\n",
       "    </tr>\n",
       "    <tr>\n",
       "      <th>280</th>\n",
       "      <td>3202</td>\n",
       "      <td>839</td>\n",
       "      <td>12</td>\n",
       "      <td>3</td>\n",
       "      <td>17</td>\n",
       "      <td>100</td>\n",
       "      <td>203</td>\n",
       "    </tr>\n",
       "    <tr>\n",
       "      <th>301</th>\n",
       "      <td>4581</td>\n",
       "      <td>708</td>\n",
       "      <td>74</td>\n",
       "      <td>2</td>\n",
       "      <td>24</td>\n",
       "      <td>98</td>\n",
       "      <td>603</td>\n",
       "    </tr>\n",
       "    <tr>\n",
       "      <th>311</th>\n",
       "      <td>4580</td>\n",
       "      <td>740</td>\n",
       "      <td>66</td>\n",
       "      <td>2</td>\n",
       "      <td>19</td>\n",
       "      <td>100</td>\n",
       "      <td>543</td>\n",
       "    </tr>\n",
       "    <tr>\n",
       "      <th>312</th>\n",
       "      <td>4596</td>\n",
       "      <td>883</td>\n",
       "      <td>4</td>\n",
       "      <td>3</td>\n",
       "      <td>9</td>\n",
       "      <td>97</td>\n",
       "      <td>556</td>\n",
       "    </tr>\n",
       "    <tr>\n",
       "      <th>337</th>\n",
       "      <td>5387</td>\n",
       "      <td>892</td>\n",
       "      <td>2</td>\n",
       "      <td>3</td>\n",
       "      <td>13</td>\n",
       "      <td>78</td>\n",
       "      <td>602</td>\n",
       "    </tr>\n",
       "    <tr>\n",
       "      <th>338</th>\n",
       "      <td>5386</td>\n",
       "      <td>876</td>\n",
       "      <td>9</td>\n",
       "      <td>3</td>\n",
       "      <td>14</td>\n",
       "      <td>96</td>\n",
       "      <td>387</td>\n",
       "    </tr>\n",
       "    <tr>\n",
       "      <th>351</th>\n",
       "      <td>3843</td>\n",
       "      <td>709</td>\n",
       "      <td>52</td>\n",
       "      <td>3</td>\n",
       "      <td>24</td>\n",
       "      <td>100</td>\n",
       "      <td>339</td>\n",
       "    </tr>\n",
       "    <tr>\n",
       "      <th>353</th>\n",
       "      <td>3845</td>\n",
       "      <td>763</td>\n",
       "      <td>40</td>\n",
       "      <td>2</td>\n",
       "      <td>24</td>\n",
       "      <td>80</td>\n",
       "      <td>300</td>\n",
       "    </tr>\n",
       "    <tr>\n",
       "      <th>356</th>\n",
       "      <td>3853</td>\n",
       "      <td>743</td>\n",
       "      <td>48</td>\n",
       "      <td>2</td>\n",
       "      <td>27</td>\n",
       "      <td>92</td>\n",
       "      <td>367</td>\n",
       "    </tr>\n",
       "    <tr>\n",
       "      <th>358</th>\n",
       "      <td>3826</td>\n",
       "      <td>831</td>\n",
       "      <td>11</td>\n",
       "      <td>2</td>\n",
       "      <td>9</td>\n",
       "      <td>88</td>\n",
       "      <td>318</td>\n",
       "    </tr>\n",
       "    <tr>\n",
       "      <th>373</th>\n",
       "      <td>6065</td>\n",
       "      <td>772</td>\n",
       "      <td>11</td>\n",
       "      <td>2</td>\n",
       "      <td>16</td>\n",
       "      <td>96</td>\n",
       "      <td>374</td>\n",
       "    </tr>\n",
       "    <tr>\n",
       "      <th>375</th>\n",
       "      <td>6060</td>\n",
       "      <td>738</td>\n",
       "      <td>18</td>\n",
       "      <td>2</td>\n",
       "      <td>13</td>\n",
       "      <td>97</td>\n",
       "      <td>392</td>\n",
       "    </tr>\n",
       "  </tbody>\n",
       "</table>\n",
       "</div>"
      ],
      "text/plain": [
       "     ident  perf  subv  etrg  nouveau  titu   nbr\n",
       "5     4284   858    10     3       10   100   343\n",
       "6     4271   918     5     2       16   100   303\n",
       "7     2910   831     2     3       44    96  1513\n",
       "10    2911   851     1     2       16   100   768\n",
       "12    2907   847     3     2       11    97   586\n",
       "43    5222   940     0     2        3    90   305\n",
       "44    5210   792     9     3       19    84   467\n",
       "83      93   761    15     3       21    86   267\n",
       "127   1682   755    27     2       10    84   283\n",
       "147   1812   917     6     3        8    95   436\n",
       "165   1680   744    31     2       22    81   326\n",
       "215    430   745    17     3       17    89   240\n",
       "228    203   844    11     2        6   100   179\n",
       "234    181   724    15     3       18    93   196\n",
       "235    198   894     9     2        7    95   213\n",
       "280   3202   839    12     3       17   100   203\n",
       "301   4581   708    74     2       24    98   603\n",
       "311   4580   740    66     2       19   100   543\n",
       "312   4596   883     4     3        9    97   556\n",
       "337   5387   892     2     3       13    78   602\n",
       "338   5386   876     9     3       14    96   387\n",
       "351   3843   709    52     3       24   100   339\n",
       "353   3845   763    40     2       24    80   300\n",
       "356   3853   743    48     2       27    92   367\n",
       "358   3826   831    11     2        9    88   318\n",
       "373   6065   772    11     2       16    96   374\n",
       "375   6060   738    18     2       13    97   392"
      ]
     },
     "execution_count": 6,
     "metadata": {},
     "output_type": "execute_result"
    }
   ],
   "source": [
    "#D'autres types de conditions utiles : .isin() .notin()\n",
    "df[df['etrg'].isin([2,3])]"
   ]
  },
  {
   "cell_type": "code",
   "execution_count": 1,
   "metadata": {
    "scrolled": true
   },
   "outputs": [
    {
     "ename": "NameError",
     "evalue": "name 'df' is not defined",
     "output_type": "error",
     "traceback": [
      "\u001b[1;31m---------------------------------------------------------------------------\u001b[0m",
      "\u001b[1;31mNameError\u001b[0m                                 Traceback (most recent call last)",
      "Cell \u001b[1;32mIn[1], line 2\u001b[0m\n\u001b[0;32m      1\u001b[0m \u001b[38;5;66;03m#Afficher les valeurs nulles du dataframe (True si nul, False sinon)\u001b[39;00m\n\u001b[1;32m----> 2\u001b[0m df\u001b[38;5;241m.\u001b[39misnull()\n",
      "\u001b[1;31mNameError\u001b[0m: name 'df' is not defined"
     ]
    }
   ],
   "source": [
    "#Afficher les valeurs nulles du dataframe (True si nul, False sinon)\n",
    "df.isnull()"
   ]
  },
  {
   "cell_type": "markdown",
   "metadata": {},
   "source": [
    "<span style='line-height:1.5;font-size: 17px;font-family:\"Times New Roman\"'>\n",
    "\n",
    "### Créer et supprimer des variables <font color='blue' size=\"1.5\"><i>[Plan du cours](#plan)</i></font>\n",
    "<a id='p322'></a>\n",
    "\n",
    "Il peut parfois être utile de créer ou supprimer des variables/colonnes, voir des lignes. Par exemple, il peut être intéressant de savoir se débarasser des lignes avec des données manquantes (pour cylindrer une base de données)."
   ]
  },
  {
   "cell_type": "code",
   "execution_count": 15,
   "metadata": {},
   "outputs": [],
   "source": [
    "#On commence par créer une colonne nommée 'constante' égale à 1 pour tous les individus\n",
    "df['constante'] = [1 for i in range(df.shape[0])]\n",
    "df.tail()"
   ]
  },
  {
   "cell_type": "code",
   "execution_count": 20,
   "metadata": {
    "scrolled": true
   },
   "outputs": [
    {
     "name": "stdout",
     "output_type": "stream",
     "text": [
      "     ident  perf  subv  etrg  nouveau  titu   nbr\n",
      "0      906   693    67     9       11    76   247\n",
      "1      889   570    92    21       33    79   463\n",
      "2      887   546    97    29       36    68   395\n",
      "3      876   571    90    27       27    87   418\n",
      "4      888   478    89    30       44    87   520\n",
      "5     4284   858    10     3       10   100   343\n",
      "6     4271   918     5     2       16   100   303\n",
      "7     2910   831     2     3       44    96  1513\n",
      "8     2899   860     5     6       10   100   660\n",
      "9     2887   737    29    15       17    96   362\n",
      "10    2911   851     1     2       16   100   768\n",
      "11    2882   536    71    69        8   100   404\n",
      "12    2907   847     3     2       11    97   586\n",
      "13    2908   765    13     8       19    98   633\n",
      "14    2895   809     7     8       16    89   379\n",
      "15    2880   813    22    11       12   100   417\n",
      "16    2890   856     7     6       13   100   670\n",
      "17    3948   712    40    12       19    85   589\n",
      "18    3956   805    10     1       26    93   770\n",
      "19    3947   678    37    16       16    83   694\n",
      "20    3952   619    57    25       24    75   611\n",
      "21    3954   713    29    14       14    80   594\n",
      "22    3943   704    57    19       22    69   564\n",
      "23    3945   523    69    43       31    71   645\n",
      "24    4293   655    65    44       21   100   414\n",
      "25    4299   523    74    52       23    87   631\n",
      "26    4318   521    74    63       15    94   343\n",
      "27    4319   709    18    16       20    96   404\n",
      "28    4296   505    75    59       27    94   504\n",
      "29    4317   762    18    16       15   100   512\n",
      "..     ...   ...   ...   ...      ...   ...   ...\n",
      "369   3151   444    91    88       14    70   593\n",
      "370   6068   714    45    21       13    96   368\n",
      "371   6072   865     5     0        4   100   451\n",
      "372   6057   641    45    17       13   100   657\n",
      "373   6065   772    11     2       16    96   374\n",
      "374   6062   750    21     4       15   100   397\n",
      "375   6060   738    18     2       13    97   392\n",
      "376   4879   529    83    28       16    80   352\n",
      "377   4871   554    84    24       23    83   535\n",
      "378   4875   504    90    46       19    83   657\n",
      "379   4859   592    80    33       22    92   532\n",
      "380   4877   627    86    35       16    80   612\n",
      "381   4880   625    59     8       19    93   559\n",
      "382   4881   436   100    49       19    80   363\n",
      "383   4876   487    86    26       26    80   300\n",
      "384   4868   610    84    34       27    82   331\n",
      "385   4862   516   100    35       33    72   704\n",
      "386   4878   465    90    27       21    74   466\n",
      "387   5920   654    48    15       16   100   364\n",
      "388   5917   735    42     4       16   100   360\n",
      "389   5927   576    68    26       21    96   657\n",
      "390   5926   469    91    54       17   100   391\n",
      "391   5933   515    91    28       32    88   218\n",
      "392    469   543    82    25       23    80   400\n",
      "393    468   783    31     6       15    96   317\n",
      "394    482   745    27    12       11    95   266\n",
      "395    489   720    34     8       20    85   461\n",
      "396    504   802    26    10       21    91   360\n",
      "397    488   539    98    12       18    93   301\n",
      "398    479   512    98    34       31    83   269\n",
      "\n",
      "[399 rows x 7 columns]\n"
     ]
    }
   ],
   "source": [
    "#On peut maintenant suppprimer cette variable\n",
    "print(df.drop(['constante'], axis=1))\n",
    "    #Rmq : cette commande affiche df sans 'constante'\n",
    "    #Pour que cette suppréssion soit permanente il faut écrire\n",
    "df_bis = df.drop(['constante'], axis=1)\n",
    "    #Le nouveau df df_bis prend alors toutes les valeurs de df sans la constante"
   ]
  },
  {
   "cell_type": "code",
   "execution_count": 23,
   "metadata": {
    "scrolled": true
   },
   "outputs": [
    {
     "data": {
      "text/html": [
       "<div>\n",
       "<style scoped>\n",
       "    .dataframe tbody tr th:only-of-type {\n",
       "        vertical-align: middle;\n",
       "    }\n",
       "\n",
       "    .dataframe tbody tr th {\n",
       "        vertical-align: top;\n",
       "    }\n",
       "\n",
       "    .dataframe thead th {\n",
       "        text-align: right;\n",
       "    }\n",
       "</style>\n",
       "<table border=\"1\" class=\"dataframe\">\n",
       "  <thead>\n",
       "    <tr style=\"text-align: right;\">\n",
       "      <th></th>\n",
       "      <th>ident</th>\n",
       "      <th>perf</th>\n",
       "      <th>subv</th>\n",
       "      <th>etrg</th>\n",
       "      <th>nouveau</th>\n",
       "      <th>titu</th>\n",
       "      <th>nbr</th>\n",
       "      <th>constante</th>\n",
       "    </tr>\n",
       "  </thead>\n",
       "  <tbody>\n",
       "    <tr>\n",
       "      <th>0</th>\n",
       "      <td>906</td>\n",
       "      <td>693</td>\n",
       "      <td>67</td>\n",
       "      <td>9</td>\n",
       "      <td>11</td>\n",
       "      <td>76</td>\n",
       "      <td>247</td>\n",
       "      <td>1</td>\n",
       "    </tr>\n",
       "    <tr>\n",
       "      <th>1</th>\n",
       "      <td>889</td>\n",
       "      <td>570</td>\n",
       "      <td>92</td>\n",
       "      <td>21</td>\n",
       "      <td>33</td>\n",
       "      <td>79</td>\n",
       "      <td>463</td>\n",
       "      <td>1</td>\n",
       "    </tr>\n",
       "    <tr>\n",
       "      <th>2</th>\n",
       "      <td>887</td>\n",
       "      <td>546</td>\n",
       "      <td>97</td>\n",
       "      <td>29</td>\n",
       "      <td>36</td>\n",
       "      <td>68</td>\n",
       "      <td>395</td>\n",
       "      <td>1</td>\n",
       "    </tr>\n",
       "    <tr>\n",
       "      <th>3</th>\n",
       "      <td>876</td>\n",
       "      <td>571</td>\n",
       "      <td>90</td>\n",
       "      <td>27</td>\n",
       "      <td>27</td>\n",
       "      <td>87</td>\n",
       "      <td>418</td>\n",
       "      <td>1</td>\n",
       "    </tr>\n",
       "    <tr>\n",
       "      <th>4</th>\n",
       "      <td>888</td>\n",
       "      <td>478</td>\n",
       "      <td>89</td>\n",
       "      <td>30</td>\n",
       "      <td>44</td>\n",
       "      <td>87</td>\n",
       "      <td>520</td>\n",
       "      <td>1</td>\n",
       "    </tr>\n",
       "    <tr>\n",
       "      <th>5</th>\n",
       "      <td>4284</td>\n",
       "      <td>858</td>\n",
       "      <td>10</td>\n",
       "      <td>3</td>\n",
       "      <td>10</td>\n",
       "      <td>100</td>\n",
       "      <td>343</td>\n",
       "      <td>1</td>\n",
       "    </tr>\n",
       "    <tr>\n",
       "      <th>6</th>\n",
       "      <td>4271</td>\n",
       "      <td>918</td>\n",
       "      <td>5</td>\n",
       "      <td>2</td>\n",
       "      <td>16</td>\n",
       "      <td>100</td>\n",
       "      <td>303</td>\n",
       "      <td>1</td>\n",
       "    </tr>\n",
       "    <tr>\n",
       "      <th>7</th>\n",
       "      <td>2910</td>\n",
       "      <td>831</td>\n",
       "      <td>2</td>\n",
       "      <td>3</td>\n",
       "      <td>44</td>\n",
       "      <td>96</td>\n",
       "      <td>1513</td>\n",
       "      <td>1</td>\n",
       "    </tr>\n",
       "    <tr>\n",
       "      <th>8</th>\n",
       "      <td>2899</td>\n",
       "      <td>860</td>\n",
       "      <td>5</td>\n",
       "      <td>6</td>\n",
       "      <td>10</td>\n",
       "      <td>100</td>\n",
       "      <td>660</td>\n",
       "      <td>1</td>\n",
       "    </tr>\n",
       "    <tr>\n",
       "      <th>9</th>\n",
       "      <td>2887</td>\n",
       "      <td>737</td>\n",
       "      <td>29</td>\n",
       "      <td>15</td>\n",
       "      <td>17</td>\n",
       "      <td>96</td>\n",
       "      <td>362</td>\n",
       "      <td>1</td>\n",
       "    </tr>\n",
       "    <tr>\n",
       "      <th>10</th>\n",
       "      <td>2911</td>\n",
       "      <td>851</td>\n",
       "      <td>1</td>\n",
       "      <td>2</td>\n",
       "      <td>16</td>\n",
       "      <td>100</td>\n",
       "      <td>768</td>\n",
       "      <td>1</td>\n",
       "    </tr>\n",
       "    <tr>\n",
       "      <th>11</th>\n",
       "      <td>2882</td>\n",
       "      <td>536</td>\n",
       "      <td>71</td>\n",
       "      <td>69</td>\n",
       "      <td>8</td>\n",
       "      <td>100</td>\n",
       "      <td>404</td>\n",
       "      <td>1</td>\n",
       "    </tr>\n",
       "    <tr>\n",
       "      <th>12</th>\n",
       "      <td>2907</td>\n",
       "      <td>847</td>\n",
       "      <td>3</td>\n",
       "      <td>2</td>\n",
       "      <td>11</td>\n",
       "      <td>97</td>\n",
       "      <td>586</td>\n",
       "      <td>1</td>\n",
       "    </tr>\n",
       "    <tr>\n",
       "      <th>13</th>\n",
       "      <td>2908</td>\n",
       "      <td>765</td>\n",
       "      <td>13</td>\n",
       "      <td>8</td>\n",
       "      <td>19</td>\n",
       "      <td>98</td>\n",
       "      <td>633</td>\n",
       "      <td>1</td>\n",
       "    </tr>\n",
       "    <tr>\n",
       "      <th>14</th>\n",
       "      <td>2895</td>\n",
       "      <td>809</td>\n",
       "      <td>7</td>\n",
       "      <td>8</td>\n",
       "      <td>16</td>\n",
       "      <td>89</td>\n",
       "      <td>379</td>\n",
       "      <td>1</td>\n",
       "    </tr>\n",
       "    <tr>\n",
       "      <th>15</th>\n",
       "      <td>2880</td>\n",
       "      <td>813</td>\n",
       "      <td>22</td>\n",
       "      <td>11</td>\n",
       "      <td>12</td>\n",
       "      <td>100</td>\n",
       "      <td>417</td>\n",
       "      <td>1</td>\n",
       "    </tr>\n",
       "    <tr>\n",
       "      <th>16</th>\n",
       "      <td>2890</td>\n",
       "      <td>856</td>\n",
       "      <td>7</td>\n",
       "      <td>6</td>\n",
       "      <td>13</td>\n",
       "      <td>100</td>\n",
       "      <td>670</td>\n",
       "      <td>1</td>\n",
       "    </tr>\n",
       "    <tr>\n",
       "      <th>17</th>\n",
       "      <td>3948</td>\n",
       "      <td>712</td>\n",
       "      <td>40</td>\n",
       "      <td>12</td>\n",
       "      <td>19</td>\n",
       "      <td>85</td>\n",
       "      <td>589</td>\n",
       "      <td>1</td>\n",
       "    </tr>\n",
       "    <tr>\n",
       "      <th>18</th>\n",
       "      <td>3956</td>\n",
       "      <td>805</td>\n",
       "      <td>10</td>\n",
       "      <td>1</td>\n",
       "      <td>26</td>\n",
       "      <td>93</td>\n",
       "      <td>770</td>\n",
       "      <td>1</td>\n",
       "    </tr>\n",
       "    <tr>\n",
       "      <th>19</th>\n",
       "      <td>3947</td>\n",
       "      <td>678</td>\n",
       "      <td>37</td>\n",
       "      <td>16</td>\n",
       "      <td>16</td>\n",
       "      <td>83</td>\n",
       "      <td>694</td>\n",
       "      <td>1</td>\n",
       "    </tr>\n",
       "    <tr>\n",
       "      <th>20</th>\n",
       "      <td>3952</td>\n",
       "      <td>619</td>\n",
       "      <td>57</td>\n",
       "      <td>25</td>\n",
       "      <td>24</td>\n",
       "      <td>75</td>\n",
       "      <td>611</td>\n",
       "      <td>1</td>\n",
       "    </tr>\n",
       "    <tr>\n",
       "      <th>21</th>\n",
       "      <td>3954</td>\n",
       "      <td>713</td>\n",
       "      <td>29</td>\n",
       "      <td>14</td>\n",
       "      <td>14</td>\n",
       "      <td>80</td>\n",
       "      <td>594</td>\n",
       "      <td>1</td>\n",
       "    </tr>\n",
       "    <tr>\n",
       "      <th>22</th>\n",
       "      <td>3943</td>\n",
       "      <td>704</td>\n",
       "      <td>57</td>\n",
       "      <td>19</td>\n",
       "      <td>22</td>\n",
       "      <td>69</td>\n",
       "      <td>564</td>\n",
       "      <td>1</td>\n",
       "    </tr>\n",
       "    <tr>\n",
       "      <th>23</th>\n",
       "      <td>3945</td>\n",
       "      <td>523</td>\n",
       "      <td>69</td>\n",
       "      <td>43</td>\n",
       "      <td>31</td>\n",
       "      <td>71</td>\n",
       "      <td>645</td>\n",
       "      <td>1</td>\n",
       "    </tr>\n",
       "    <tr>\n",
       "      <th>24</th>\n",
       "      <td>4293</td>\n",
       "      <td>655</td>\n",
       "      <td>65</td>\n",
       "      <td>44</td>\n",
       "      <td>21</td>\n",
       "      <td>100</td>\n",
       "      <td>414</td>\n",
       "      <td>1</td>\n",
       "    </tr>\n",
       "    <tr>\n",
       "      <th>25</th>\n",
       "      <td>4299</td>\n",
       "      <td>523</td>\n",
       "      <td>74</td>\n",
       "      <td>52</td>\n",
       "      <td>23</td>\n",
       "      <td>87</td>\n",
       "      <td>631</td>\n",
       "      <td>1</td>\n",
       "    </tr>\n",
       "    <tr>\n",
       "      <th>26</th>\n",
       "      <td>4318</td>\n",
       "      <td>521</td>\n",
       "      <td>74</td>\n",
       "      <td>63</td>\n",
       "      <td>15</td>\n",
       "      <td>94</td>\n",
       "      <td>343</td>\n",
       "      <td>1</td>\n",
       "    </tr>\n",
       "    <tr>\n",
       "      <th>27</th>\n",
       "      <td>4319</td>\n",
       "      <td>709</td>\n",
       "      <td>18</td>\n",
       "      <td>16</td>\n",
       "      <td>20</td>\n",
       "      <td>96</td>\n",
       "      <td>404</td>\n",
       "      <td>1</td>\n",
       "    </tr>\n",
       "    <tr>\n",
       "      <th>28</th>\n",
       "      <td>4296</td>\n",
       "      <td>505</td>\n",
       "      <td>75</td>\n",
       "      <td>59</td>\n",
       "      <td>27</td>\n",
       "      <td>94</td>\n",
       "      <td>504</td>\n",
       "      <td>1</td>\n",
       "    </tr>\n",
       "    <tr>\n",
       "      <th>29</th>\n",
       "      <td>4317</td>\n",
       "      <td>762</td>\n",
       "      <td>18</td>\n",
       "      <td>16</td>\n",
       "      <td>15</td>\n",
       "      <td>100</td>\n",
       "      <td>512</td>\n",
       "      <td>1</td>\n",
       "    </tr>\n",
       "    <tr>\n",
       "      <th>...</th>\n",
       "      <td>...</td>\n",
       "      <td>...</td>\n",
       "      <td>...</td>\n",
       "      <td>...</td>\n",
       "      <td>...</td>\n",
       "      <td>...</td>\n",
       "      <td>...</td>\n",
       "      <td>...</td>\n",
       "    </tr>\n",
       "    <tr>\n",
       "      <th>369</th>\n",
       "      <td>3151</td>\n",
       "      <td>444</td>\n",
       "      <td>91</td>\n",
       "      <td>88</td>\n",
       "      <td>14</td>\n",
       "      <td>70</td>\n",
       "      <td>593</td>\n",
       "      <td>1</td>\n",
       "    </tr>\n",
       "    <tr>\n",
       "      <th>370</th>\n",
       "      <td>6068</td>\n",
       "      <td>714</td>\n",
       "      <td>45</td>\n",
       "      <td>21</td>\n",
       "      <td>13</td>\n",
       "      <td>96</td>\n",
       "      <td>368</td>\n",
       "      <td>1</td>\n",
       "    </tr>\n",
       "    <tr>\n",
       "      <th>371</th>\n",
       "      <td>6072</td>\n",
       "      <td>865</td>\n",
       "      <td>5</td>\n",
       "      <td>0</td>\n",
       "      <td>4</td>\n",
       "      <td>100</td>\n",
       "      <td>451</td>\n",
       "      <td>1</td>\n",
       "    </tr>\n",
       "    <tr>\n",
       "      <th>372</th>\n",
       "      <td>6057</td>\n",
       "      <td>641</td>\n",
       "      <td>45</td>\n",
       "      <td>17</td>\n",
       "      <td>13</td>\n",
       "      <td>100</td>\n",
       "      <td>657</td>\n",
       "      <td>1</td>\n",
       "    </tr>\n",
       "    <tr>\n",
       "      <th>373</th>\n",
       "      <td>6065</td>\n",
       "      <td>772</td>\n",
       "      <td>11</td>\n",
       "      <td>2</td>\n",
       "      <td>16</td>\n",
       "      <td>96</td>\n",
       "      <td>374</td>\n",
       "      <td>1</td>\n",
       "    </tr>\n",
       "    <tr>\n",
       "      <th>374</th>\n",
       "      <td>6062</td>\n",
       "      <td>750</td>\n",
       "      <td>21</td>\n",
       "      <td>4</td>\n",
       "      <td>15</td>\n",
       "      <td>100</td>\n",
       "      <td>397</td>\n",
       "      <td>1</td>\n",
       "    </tr>\n",
       "    <tr>\n",
       "      <th>375</th>\n",
       "      <td>6060</td>\n",
       "      <td>738</td>\n",
       "      <td>18</td>\n",
       "      <td>2</td>\n",
       "      <td>13</td>\n",
       "      <td>97</td>\n",
       "      <td>392</td>\n",
       "      <td>1</td>\n",
       "    </tr>\n",
       "    <tr>\n",
       "      <th>376</th>\n",
       "      <td>4879</td>\n",
       "      <td>529</td>\n",
       "      <td>83</td>\n",
       "      <td>28</td>\n",
       "      <td>16</td>\n",
       "      <td>80</td>\n",
       "      <td>352</td>\n",
       "      <td>1</td>\n",
       "    </tr>\n",
       "    <tr>\n",
       "      <th>377</th>\n",
       "      <td>4871</td>\n",
       "      <td>554</td>\n",
       "      <td>84</td>\n",
       "      <td>24</td>\n",
       "      <td>23</td>\n",
       "      <td>83</td>\n",
       "      <td>535</td>\n",
       "      <td>1</td>\n",
       "    </tr>\n",
       "    <tr>\n",
       "      <th>378</th>\n",
       "      <td>4875</td>\n",
       "      <td>504</td>\n",
       "      <td>90</td>\n",
       "      <td>46</td>\n",
       "      <td>19</td>\n",
       "      <td>83</td>\n",
       "      <td>657</td>\n",
       "      <td>1</td>\n",
       "    </tr>\n",
       "    <tr>\n",
       "      <th>379</th>\n",
       "      <td>4859</td>\n",
       "      <td>592</td>\n",
       "      <td>80</td>\n",
       "      <td>33</td>\n",
       "      <td>22</td>\n",
       "      <td>92</td>\n",
       "      <td>532</td>\n",
       "      <td>1</td>\n",
       "    </tr>\n",
       "    <tr>\n",
       "      <th>380</th>\n",
       "      <td>4877</td>\n",
       "      <td>627</td>\n",
       "      <td>86</td>\n",
       "      <td>35</td>\n",
       "      <td>16</td>\n",
       "      <td>80</td>\n",
       "      <td>612</td>\n",
       "      <td>1</td>\n",
       "    </tr>\n",
       "    <tr>\n",
       "      <th>381</th>\n",
       "      <td>4880</td>\n",
       "      <td>625</td>\n",
       "      <td>59</td>\n",
       "      <td>8</td>\n",
       "      <td>19</td>\n",
       "      <td>93</td>\n",
       "      <td>559</td>\n",
       "      <td>1</td>\n",
       "    </tr>\n",
       "    <tr>\n",
       "      <th>382</th>\n",
       "      <td>4881</td>\n",
       "      <td>436</td>\n",
       "      <td>100</td>\n",
       "      <td>49</td>\n",
       "      <td>19</td>\n",
       "      <td>80</td>\n",
       "      <td>363</td>\n",
       "      <td>1</td>\n",
       "    </tr>\n",
       "    <tr>\n",
       "      <th>383</th>\n",
       "      <td>4876</td>\n",
       "      <td>487</td>\n",
       "      <td>86</td>\n",
       "      <td>26</td>\n",
       "      <td>26</td>\n",
       "      <td>80</td>\n",
       "      <td>300</td>\n",
       "      <td>1</td>\n",
       "    </tr>\n",
       "    <tr>\n",
       "      <th>384</th>\n",
       "      <td>4868</td>\n",
       "      <td>610</td>\n",
       "      <td>84</td>\n",
       "      <td>34</td>\n",
       "      <td>27</td>\n",
       "      <td>82</td>\n",
       "      <td>331</td>\n",
       "      <td>1</td>\n",
       "    </tr>\n",
       "    <tr>\n",
       "      <th>385</th>\n",
       "      <td>4862</td>\n",
       "      <td>516</td>\n",
       "      <td>100</td>\n",
       "      <td>35</td>\n",
       "      <td>33</td>\n",
       "      <td>72</td>\n",
       "      <td>704</td>\n",
       "      <td>1</td>\n",
       "    </tr>\n",
       "    <tr>\n",
       "      <th>386</th>\n",
       "      <td>4878</td>\n",
       "      <td>465</td>\n",
       "      <td>90</td>\n",
       "      <td>27</td>\n",
       "      <td>21</td>\n",
       "      <td>74</td>\n",
       "      <td>466</td>\n",
       "      <td>1</td>\n",
       "    </tr>\n",
       "    <tr>\n",
       "      <th>387</th>\n",
       "      <td>5920</td>\n",
       "      <td>654</td>\n",
       "      <td>48</td>\n",
       "      <td>15</td>\n",
       "      <td>16</td>\n",
       "      <td>100</td>\n",
       "      <td>364</td>\n",
       "      <td>1</td>\n",
       "    </tr>\n",
       "    <tr>\n",
       "      <th>388</th>\n",
       "      <td>5917</td>\n",
       "      <td>735</td>\n",
       "      <td>42</td>\n",
       "      <td>4</td>\n",
       "      <td>16</td>\n",
       "      <td>100</td>\n",
       "      <td>360</td>\n",
       "      <td>1</td>\n",
       "    </tr>\n",
       "    <tr>\n",
       "      <th>389</th>\n",
       "      <td>5927</td>\n",
       "      <td>576</td>\n",
       "      <td>68</td>\n",
       "      <td>26</td>\n",
       "      <td>21</td>\n",
       "      <td>96</td>\n",
       "      <td>657</td>\n",
       "      <td>1</td>\n",
       "    </tr>\n",
       "    <tr>\n",
       "      <th>390</th>\n",
       "      <td>5926</td>\n",
       "      <td>469</td>\n",
       "      <td>91</td>\n",
       "      <td>54</td>\n",
       "      <td>17</td>\n",
       "      <td>100</td>\n",
       "      <td>391</td>\n",
       "      <td>1</td>\n",
       "    </tr>\n",
       "    <tr>\n",
       "      <th>391</th>\n",
       "      <td>5933</td>\n",
       "      <td>515</td>\n",
       "      <td>91</td>\n",
       "      <td>28</td>\n",
       "      <td>32</td>\n",
       "      <td>88</td>\n",
       "      <td>218</td>\n",
       "      <td>1</td>\n",
       "    </tr>\n",
       "    <tr>\n",
       "      <th>392</th>\n",
       "      <td>469</td>\n",
       "      <td>543</td>\n",
       "      <td>82</td>\n",
       "      <td>25</td>\n",
       "      <td>23</td>\n",
       "      <td>80</td>\n",
       "      <td>400</td>\n",
       "      <td>1</td>\n",
       "    </tr>\n",
       "    <tr>\n",
       "      <th>393</th>\n",
       "      <td>468</td>\n",
       "      <td>783</td>\n",
       "      <td>31</td>\n",
       "      <td>6</td>\n",
       "      <td>15</td>\n",
       "      <td>96</td>\n",
       "      <td>317</td>\n",
       "      <td>1</td>\n",
       "    </tr>\n",
       "    <tr>\n",
       "      <th>394</th>\n",
       "      <td>482</td>\n",
       "      <td>745</td>\n",
       "      <td>27</td>\n",
       "      <td>12</td>\n",
       "      <td>11</td>\n",
       "      <td>95</td>\n",
       "      <td>266</td>\n",
       "      <td>1</td>\n",
       "    </tr>\n",
       "    <tr>\n",
       "      <th>395</th>\n",
       "      <td>489</td>\n",
       "      <td>720</td>\n",
       "      <td>34</td>\n",
       "      <td>8</td>\n",
       "      <td>20</td>\n",
       "      <td>85</td>\n",
       "      <td>461</td>\n",
       "      <td>1</td>\n",
       "    </tr>\n",
       "    <tr>\n",
       "      <th>396</th>\n",
       "      <td>504</td>\n",
       "      <td>802</td>\n",
       "      <td>26</td>\n",
       "      <td>10</td>\n",
       "      <td>21</td>\n",
       "      <td>91</td>\n",
       "      <td>360</td>\n",
       "      <td>1</td>\n",
       "    </tr>\n",
       "    <tr>\n",
       "      <th>397</th>\n",
       "      <td>488</td>\n",
       "      <td>539</td>\n",
       "      <td>98</td>\n",
       "      <td>12</td>\n",
       "      <td>18</td>\n",
       "      <td>93</td>\n",
       "      <td>301</td>\n",
       "      <td>1</td>\n",
       "    </tr>\n",
       "    <tr>\n",
       "      <th>398</th>\n",
       "      <td>479</td>\n",
       "      <td>512</td>\n",
       "      <td>98</td>\n",
       "      <td>34</td>\n",
       "      <td>31</td>\n",
       "      <td>83</td>\n",
       "      <td>269</td>\n",
       "      <td>1</td>\n",
       "    </tr>\n",
       "  </tbody>\n",
       "</table>\n",
       "<p>399 rows × 8 columns</p>\n",
       "</div>"
      ],
      "text/plain": [
       "     ident  perf  subv  etrg  nouveau  titu   nbr  constante\n",
       "0      906   693    67     9       11    76   247          1\n",
       "1      889   570    92    21       33    79   463          1\n",
       "2      887   546    97    29       36    68   395          1\n",
       "3      876   571    90    27       27    87   418          1\n",
       "4      888   478    89    30       44    87   520          1\n",
       "5     4284   858    10     3       10   100   343          1\n",
       "6     4271   918     5     2       16   100   303          1\n",
       "7     2910   831     2     3       44    96  1513          1\n",
       "8     2899   860     5     6       10   100   660          1\n",
       "9     2887   737    29    15       17    96   362          1\n",
       "10    2911   851     1     2       16   100   768          1\n",
       "11    2882   536    71    69        8   100   404          1\n",
       "12    2907   847     3     2       11    97   586          1\n",
       "13    2908   765    13     8       19    98   633          1\n",
       "14    2895   809     7     8       16    89   379          1\n",
       "15    2880   813    22    11       12   100   417          1\n",
       "16    2890   856     7     6       13   100   670          1\n",
       "17    3948   712    40    12       19    85   589          1\n",
       "18    3956   805    10     1       26    93   770          1\n",
       "19    3947   678    37    16       16    83   694          1\n",
       "20    3952   619    57    25       24    75   611          1\n",
       "21    3954   713    29    14       14    80   594          1\n",
       "22    3943   704    57    19       22    69   564          1\n",
       "23    3945   523    69    43       31    71   645          1\n",
       "24    4293   655    65    44       21   100   414          1\n",
       "25    4299   523    74    52       23    87   631          1\n",
       "26    4318   521    74    63       15    94   343          1\n",
       "27    4319   709    18    16       20    96   404          1\n",
       "28    4296   505    75    59       27    94   504          1\n",
       "29    4317   762    18    16       15   100   512          1\n",
       "..     ...   ...   ...   ...      ...   ...   ...        ...\n",
       "369   3151   444    91    88       14    70   593          1\n",
       "370   6068   714    45    21       13    96   368          1\n",
       "371   6072   865     5     0        4   100   451          1\n",
       "372   6057   641    45    17       13   100   657          1\n",
       "373   6065   772    11     2       16    96   374          1\n",
       "374   6062   750    21     4       15   100   397          1\n",
       "375   6060   738    18     2       13    97   392          1\n",
       "376   4879   529    83    28       16    80   352          1\n",
       "377   4871   554    84    24       23    83   535          1\n",
       "378   4875   504    90    46       19    83   657          1\n",
       "379   4859   592    80    33       22    92   532          1\n",
       "380   4877   627    86    35       16    80   612          1\n",
       "381   4880   625    59     8       19    93   559          1\n",
       "382   4881   436   100    49       19    80   363          1\n",
       "383   4876   487    86    26       26    80   300          1\n",
       "384   4868   610    84    34       27    82   331          1\n",
       "385   4862   516   100    35       33    72   704          1\n",
       "386   4878   465    90    27       21    74   466          1\n",
       "387   5920   654    48    15       16   100   364          1\n",
       "388   5917   735    42     4       16   100   360          1\n",
       "389   5927   576    68    26       21    96   657          1\n",
       "390   5926   469    91    54       17   100   391          1\n",
       "391   5933   515    91    28       32    88   218          1\n",
       "392    469   543    82    25       23    80   400          1\n",
       "393    468   783    31     6       15    96   317          1\n",
       "394    482   745    27    12       11    95   266          1\n",
       "395    489   720    34     8       20    85   461          1\n",
       "396    504   802    26    10       21    91   360          1\n",
       "397    488   539    98    12       18    93   301          1\n",
       "398    479   512    98    34       31    83   269          1\n",
       "\n",
       "[399 rows x 8 columns]"
      ]
     },
     "execution_count": 23,
     "metadata": {},
     "output_type": "execute_result"
    }
   ],
   "source": [
    "#Voici comment afficher un dataframe ne contenant aucune valeur manquante\n",
    "df.dropna()"
   ]
  },
  {
   "cell_type": "markdown",
   "metadata": {},
   "source": [
    "<span style='line-height:1.5;font-size: 17px;font-family:\"Times New Roman\"'>\n",
    "\n",
    "### Les fonctions de gestions de données <font color='blue' size=\"1.5\"><i>[Plan du cours](#plan)</i></font>\n",
    "<a id='p323'></a>\n",
    "__goupby (split, apply, combine), concat, merge__\n",
    "\n",
    "Nous présentons ici brievement ces différentes fonctions propres aux dataframes. Pour plus de renseignements, se référer directement à la documentaiton en ligne : https://pandas.pydata.org/pandas-docs/stable/user_guide/groupby.html (les exemples ci-dessous sont tirés de cette documentation).\n",
    " \n",
    "__Groupby__ : procède en trois étapes,\n",
    "- Splitting : on divise le dataframe en groupes (par individus, par années, par classe d'actif, niveau d'une variable... par exemple)\n",
    "- Applying : on applique une fonction aux groupe (par exemple un taux de croissance)\n",
    "- Combining : on réagrège les groupes pour reformer un dataframe avec les modifications prise en compte\n",
    "\n",
    "\n",
    "_Fonctionnement de .groupby_"
   ]
  },
  {
   "cell_type": "code",
   "execution_count": 4,
   "metadata": {},
   "outputs": [
    {
     "data": {
      "text/html": [
       "<div>\n",
       "<style scoped>\n",
       "    .dataframe tbody tr th:only-of-type {\n",
       "        vertical-align: middle;\n",
       "    }\n",
       "\n",
       "    .dataframe tbody tr th {\n",
       "        vertical-align: top;\n",
       "    }\n",
       "\n",
       "    .dataframe thead th {\n",
       "        text-align: right;\n",
       "    }\n",
       "</style>\n",
       "<table border=\"1\" class=\"dataframe\">\n",
       "  <thead>\n",
       "    <tr style=\"text-align: right;\">\n",
       "      <th></th>\n",
       "      <th>A</th>\n",
       "      <th>B</th>\n",
       "      <th>C</th>\n",
       "      <th>D</th>\n",
       "    </tr>\n",
       "  </thead>\n",
       "  <tbody>\n",
       "    <tr>\n",
       "      <th>0</th>\n",
       "      <td>foo</td>\n",
       "      <td>one</td>\n",
       "      <td>-0.639811</td>\n",
       "      <td>-0.540521</td>\n",
       "    </tr>\n",
       "    <tr>\n",
       "      <th>1</th>\n",
       "      <td>bar</td>\n",
       "      <td>one</td>\n",
       "      <td>0.939426</td>\n",
       "      <td>-0.150996</td>\n",
       "    </tr>\n",
       "    <tr>\n",
       "      <th>2</th>\n",
       "      <td>foo</td>\n",
       "      <td>two</td>\n",
       "      <td>-0.296666</td>\n",
       "      <td>0.027193</td>\n",
       "    </tr>\n",
       "    <tr>\n",
       "      <th>3</th>\n",
       "      <td>bar</td>\n",
       "      <td>three</td>\n",
       "      <td>-2.345113</td>\n",
       "      <td>-0.819488</td>\n",
       "    </tr>\n",
       "    <tr>\n",
       "      <th>4</th>\n",
       "      <td>foo</td>\n",
       "      <td>two</td>\n",
       "      <td>0.923588</td>\n",
       "      <td>0.528717</td>\n",
       "    </tr>\n",
       "  </tbody>\n",
       "</table>\n",
       "</div>"
      ],
      "text/plain": [
       "     A      B         C         D\n",
       "0  foo    one -0.639811 -0.540521\n",
       "1  bar    one  0.939426 -0.150996\n",
       "2  foo    two -0.296666  0.027193\n",
       "3  bar  three -2.345113 -0.819488\n",
       "4  foo    two  0.923588  0.528717"
      ]
     },
     "execution_count": 4,
     "metadata": {},
     "output_type": "execute_result"
    }
   ],
   "source": [
    "import numpy as np\n",
    "import pandas as pd\n",
    "# Création d'un petit dataframe pour les exemples\n",
    "df = pd.DataFrame({'A': ['foo', 'bar', 'foo', 'bar',\n",
    "                         'foo', 'bar', 'foo', 'foo'],\n",
    "                       'B': ['one', 'one', 'two', 'three',\n",
    "                             'two', 'two', 'one', 'three'],\n",
    "                       'C': np.random.randn(8), # génère des nombres aléatoires\n",
    "                       'D': np.random.randn(8)})\n",
    "\n",
    "df.head()"
   ]
  },
  {
   "cell_type": "code",
   "execution_count": 32,
   "metadata": {},
   "outputs": [
    {
     "name": "stdout",
     "output_type": "stream",
     "text": [
      "('bar',      A      B         C         D\n",
      "1  bar    one -0.063323  1.074265\n",
      "3  bar  three -1.138419  0.368082\n",
      "5  bar    two -2.056714  0.061541)\n",
      "('foo',      A      B         C         D\n",
      "0  foo    one -0.946674 -2.379149\n",
      "2  foo    two  0.711931  0.832992\n",
      "4  foo    two -1.745986  0.888049\n",
      "6  foo    one  1.107428  1.313618\n",
      "7  foo  three  1.152544 -1.712261)\n"
     ]
    }
   ],
   "source": [
    "#En prenant un dataframe assez petit, on peut afficher ce que produit le groupby :\n",
    "for i in df.groupby('A'):\n",
    "    print(i)"
   ]
  },
  {
   "cell_type": "code",
   "execution_count": 35,
   "metadata": {},
   "outputs": [
    {
     "name": "stdout",
     "output_type": "stream",
     "text": [
      "(('bar', 'one'),      A    B         C         D\n",
      "1  bar  one -0.063323  1.074265)\n",
      "(('bar', 'three'),      A      B         C         D\n",
      "3  bar  three -1.138419  0.368082)\n",
      "(('bar', 'two'),      A    B         C         D\n",
      "5  bar  two -2.056714  0.061541)\n",
      "(('foo', 'one'),      A    B         C         D\n",
      "0  foo  one -0.946674 -2.379149\n",
      "6  foo  one  1.107428  1.313618)\n",
      "(('foo', 'three'),      A      B         C         D\n",
      "7  foo  three  1.152544 -1.712261)\n",
      "(('foo', 'two'),      A    B         C         D\n",
      "2  foo  two  0.711931  0.832992\n",
      "4  foo  two -1.745986  0.888049)\n"
     ]
    }
   ],
   "source": [
    "#On peut également groupby sur plusieurs variables \n",
    "    # Attention à bien mettre les noms de variables dans une liste\n",
    "for i in df.groupby(['A','B']):\n",
    "    print(i)"
   ]
  },
  {
   "cell_type": "code",
   "execution_count": 37,
   "metadata": {},
   "outputs": [
    {
     "data": {
      "text/plain": [
       "{('bar', 'one'): Int64Index([1], dtype='int64'),\n",
       " ('bar', 'three'): Int64Index([3], dtype='int64'),\n",
       " ('bar', 'two'): Int64Index([5], dtype='int64'),\n",
       " ('foo', 'one'): Int64Index([0, 6], dtype='int64'),\n",
       " ('foo', 'three'): Int64Index([7], dtype='int64'),\n",
       " ('foo', 'two'): Int64Index([2, 4], dtype='int64')}"
      ]
     },
     "execution_count": 37,
     "metadata": {},
     "output_type": "execute_result"
    }
   ],
   "source": [
    "# Afficher les groupes créés en fonction de la (ou des) variables selectionnées\n",
    "df.groupby(['A','B']).groups"
   ]
  },
  {
   "cell_type": "code",
   "execution_count": 38,
   "metadata": {},
   "outputs": [
    {
     "data": {
      "text/plain": [
       "6"
      ]
     },
     "execution_count": 38,
     "metadata": {},
     "output_type": "execute_result"
    }
   ],
   "source": [
    "# Et du coup on peut savoir le nombre de groupes créés grâce à len()\n",
    "len(df.groupby(['A','B']).groups) "
   ]
  },
  {
   "cell_type": "code",
   "execution_count": 39,
   "metadata": {},
   "outputs": [
    {
     "data": {
      "text/html": [
       "<div>\n",
       "<style scoped>\n",
       "    .dataframe tbody tr th:only-of-type {\n",
       "        vertical-align: middle;\n",
       "    }\n",
       "\n",
       "    .dataframe tbody tr th {\n",
       "        vertical-align: top;\n",
       "    }\n",
       "\n",
       "    .dataframe thead th {\n",
       "        text-align: right;\n",
       "    }\n",
       "</style>\n",
       "<table border=\"1\" class=\"dataframe\">\n",
       "  <thead>\n",
       "    <tr style=\"text-align: right;\">\n",
       "      <th></th>\n",
       "      <th>C</th>\n",
       "      <th>D</th>\n",
       "    </tr>\n",
       "    <tr>\n",
       "      <th>A</th>\n",
       "      <th></th>\n",
       "      <th></th>\n",
       "    </tr>\n",
       "  </thead>\n",
       "  <tbody>\n",
       "    <tr>\n",
       "      <th>bar</th>\n",
       "      <td>-3.258456</td>\n",
       "      <td>1.503888</td>\n",
       "    </tr>\n",
       "    <tr>\n",
       "      <th>foo</th>\n",
       "      <td>0.279242</td>\n",
       "      <td>-1.056751</td>\n",
       "    </tr>\n",
       "  </tbody>\n",
       "</table>\n",
       "</div>"
      ],
      "text/plain": [
       "            C         D\n",
       "A                      \n",
       "bar -3.258456  1.503888\n",
       "foo  0.279242 -1.056751"
      ]
     },
     "execution_count": 39,
     "metadata": {},
     "output_type": "execute_result"
    }
   ],
   "source": [
    "# Un grand nombre de fonctions existent associées à groupby (voir la doc au besoin). Exemple :\n",
    "df.groupby('A').aggregate(np.sum)"
   ]
  },
  {
   "cell_type": "code",
   "execution_count": 43,
   "metadata": {},
   "outputs": [
    {
     "data": {
      "text/html": [
       "<div>\n",
       "<style scoped>\n",
       "    .dataframe tbody tr th:only-of-type {\n",
       "        vertical-align: middle;\n",
       "    }\n",
       "\n",
       "    .dataframe tbody tr th {\n",
       "        vertical-align: top;\n",
       "    }\n",
       "\n",
       "    .dataframe thead th {\n",
       "        text-align: right;\n",
       "    }\n",
       "</style>\n",
       "<table border=\"1\" class=\"dataframe\">\n",
       "  <thead>\n",
       "    <tr style=\"text-align: right;\">\n",
       "      <th></th>\n",
       "      <th>C</th>\n",
       "    </tr>\n",
       "  </thead>\n",
       "  <tbody>\n",
       "    <tr>\n",
       "      <th>0</th>\n",
       "      <td>-0.946674</td>\n",
       "    </tr>\n",
       "    <tr>\n",
       "      <th>2</th>\n",
       "      <td>0.711931</td>\n",
       "    </tr>\n",
       "    <tr>\n",
       "      <th>4</th>\n",
       "      <td>-1.745986</td>\n",
       "    </tr>\n",
       "    <tr>\n",
       "      <th>6</th>\n",
       "      <td>1.107428</td>\n",
       "    </tr>\n",
       "    <tr>\n",
       "      <th>7</th>\n",
       "      <td>1.152544</td>\n",
       "    </tr>\n",
       "  </tbody>\n",
       "</table>\n",
       "</div>"
      ],
      "text/plain": [
       "          C\n",
       "0 -0.946674\n",
       "2  0.711931\n",
       "4 -1.745986\n",
       "6  1.107428\n",
       "7  1.152544"
      ]
     },
     "execution_count": 43,
     "metadata": {},
     "output_type": "execute_result"
    }
   ],
   "source": [
    "# Un autre exemple\n",
    "df.groupby('A')[['C']].filter(lambda x: x.sum() > 0)"
   ]
  },
  {
   "cell_type": "markdown",
   "metadata": {},
   "source": [
    "_Utiliser .apply_\n",
    "\n",
    "On peut utiliser .apply pour appliquer de fonctions aux groupes créés :"
   ]
  },
  {
   "cell_type": "code",
   "execution_count": 58,
   "metadata": {},
   "outputs": [],
   "source": [
    "# On défini ici une fonction qui retourne un dataframe contenant la variable d'origine \n",
    "    #et la variable centrée\n",
    "def f(group):\n",
    "    return pd.DataFrame({'original': group,\n",
    "                          'demeaned': group - group.mean()})"
   ]
  },
  {
   "cell_type": "code",
   "execution_count": 56,
   "metadata": {},
   "outputs": [
    {
     "data": {
      "text/html": [
       "<div>\n",
       "<style scoped>\n",
       "    .dataframe tbody tr th:only-of-type {\n",
       "        vertical-align: middle;\n",
       "    }\n",
       "\n",
       "    .dataframe tbody tr th {\n",
       "        vertical-align: top;\n",
       "    }\n",
       "\n",
       "    .dataframe thead th {\n",
       "        text-align: right;\n",
       "    }\n",
       "</style>\n",
       "<table border=\"1\" class=\"dataframe\">\n",
       "  <thead>\n",
       "    <tr style=\"text-align: right;\">\n",
       "      <th></th>\n",
       "      <th>A</th>\n",
       "      <th>B</th>\n",
       "      <th>C</th>\n",
       "      <th>D</th>\n",
       "    </tr>\n",
       "  </thead>\n",
       "  <tbody>\n",
       "    <tr>\n",
       "      <th>0</th>\n",
       "      <td>foo</td>\n",
       "      <td>one</td>\n",
       "      <td>0.191865</td>\n",
       "      <td>0.442897</td>\n",
       "    </tr>\n",
       "    <tr>\n",
       "      <th>1</th>\n",
       "      <td>bar</td>\n",
       "      <td>one</td>\n",
       "      <td>-0.348891</td>\n",
       "      <td>-1.124662</td>\n",
       "    </tr>\n",
       "    <tr>\n",
       "      <th>2</th>\n",
       "      <td>foo</td>\n",
       "      <td>two</td>\n",
       "      <td>-0.277579</td>\n",
       "      <td>-0.810426</td>\n",
       "    </tr>\n",
       "    <tr>\n",
       "      <th>3</th>\n",
       "      <td>bar</td>\n",
       "      <td>three</td>\n",
       "      <td>-0.124654</td>\n",
       "      <td>-0.220299</td>\n",
       "    </tr>\n",
       "    <tr>\n",
       "      <th>4</th>\n",
       "      <td>foo</td>\n",
       "      <td>two</td>\n",
       "      <td>-0.902131</td>\n",
       "      <td>-0.049125</td>\n",
       "    </tr>\n",
       "    <tr>\n",
       "      <th>5</th>\n",
       "      <td>bar</td>\n",
       "      <td>two</td>\n",
       "      <td>-1.286718</td>\n",
       "      <td>-1.058681</td>\n",
       "    </tr>\n",
       "    <tr>\n",
       "      <th>6</th>\n",
       "      <td>foo</td>\n",
       "      <td>one</td>\n",
       "      <td>0.804489</td>\n",
       "      <td>0.278719</td>\n",
       "    </tr>\n",
       "    <tr>\n",
       "      <th>7</th>\n",
       "      <td>foo</td>\n",
       "      <td>three</td>\n",
       "      <td>-0.459315</td>\n",
       "      <td>0.653055</td>\n",
       "    </tr>\n",
       "  </tbody>\n",
       "</table>\n",
       "</div>"
      ],
      "text/plain": [
       "     A      B         C         D\n",
       "0  foo    one  0.191865  0.442897\n",
       "1  bar    one -0.348891 -1.124662\n",
       "2  foo    two -0.277579 -0.810426\n",
       "3  bar  three -0.124654 -0.220299\n",
       "4  foo    two -0.902131 -0.049125\n",
       "5  bar    two -1.286718 -1.058681\n",
       "6  foo    one  0.804489  0.278719\n",
       "7  foo  three -0.459315  0.653055"
      ]
     },
     "execution_count": 56,
     "metadata": {},
     "output_type": "execute_result"
    }
   ],
   "source": [
    "df"
   ]
  },
  {
   "cell_type": "code",
   "execution_count": 62,
   "metadata": {},
   "outputs": [
    {
     "data": {
      "text/html": [
       "<div>\n",
       "<style scoped>\n",
       "    .dataframe tbody tr th:only-of-type {\n",
       "        vertical-align: middle;\n",
       "    }\n",
       "\n",
       "    .dataframe tbody tr th {\n",
       "        vertical-align: top;\n",
       "    }\n",
       "\n",
       "    .dataframe thead th {\n",
       "        text-align: right;\n",
       "    }\n",
       "</style>\n",
       "<table border=\"1\" class=\"dataframe\">\n",
       "  <thead>\n",
       "    <tr style=\"text-align: right;\">\n",
       "      <th></th>\n",
       "      <th>original</th>\n",
       "      <th>demeaned</th>\n",
       "    </tr>\n",
       "  </thead>\n",
       "  <tbody>\n",
       "    <tr>\n",
       "      <th>0</th>\n",
       "      <td>0.191865</td>\n",
       "      <td>0.320399</td>\n",
       "    </tr>\n",
       "    <tr>\n",
       "      <th>1</th>\n",
       "      <td>-0.348891</td>\n",
       "      <td>0.237864</td>\n",
       "    </tr>\n",
       "    <tr>\n",
       "      <th>2</th>\n",
       "      <td>-0.277579</td>\n",
       "      <td>-0.149045</td>\n",
       "    </tr>\n",
       "    <tr>\n",
       "      <th>3</th>\n",
       "      <td>-0.124654</td>\n",
       "      <td>0.462100</td>\n",
       "    </tr>\n",
       "    <tr>\n",
       "      <th>4</th>\n",
       "      <td>-0.902131</td>\n",
       "      <td>-0.773597</td>\n",
       "    </tr>\n",
       "    <tr>\n",
       "      <th>5</th>\n",
       "      <td>-1.286718</td>\n",
       "      <td>-0.699964</td>\n",
       "    </tr>\n",
       "    <tr>\n",
       "      <th>6</th>\n",
       "      <td>0.804489</td>\n",
       "      <td>0.933023</td>\n",
       "    </tr>\n",
       "    <tr>\n",
       "      <th>7</th>\n",
       "      <td>-0.459315</td>\n",
       "      <td>-0.330781</td>\n",
       "    </tr>\n",
       "  </tbody>\n",
       "</table>\n",
       "</div>"
      ],
      "text/plain": [
       "   original  demeaned\n",
       "0  0.191865  0.320399\n",
       "1 -0.348891  0.237864\n",
       "2 -0.277579 -0.149045\n",
       "3 -0.124654  0.462100\n",
       "4 -0.902131 -0.773597\n",
       "5 -1.286718 -0.699964\n",
       "6  0.804489  0.933023\n",
       "7 -0.459315 -0.330781"
      ]
     },
     "execution_count": 62,
     "metadata": {},
     "output_type": "execute_result"
    }
   ],
   "source": [
    "# Puis on applique cette fonction à un groupement de dataframe \n",
    "    # On a effectué un groupement par la variable 'A' et on n'en a gardé que la variable 'C'\n",
    "df.groupby('A')['C'].apply(f)"
   ]
  },
  {
   "cell_type": "markdown",
   "metadata": {},
   "source": [
    "<span style='line-height:1.5;font-size: 17px;font-family:\"Times New Roman\"'>\n",
    "\n",
    "_Combine_\n",
    "\n",
    "On utilise .combine pour concatener deux dataframes ayant les mêmes noms de variables, en appliquant une fonction (https://pandas.pydata.org/pandas-docs/stable/reference/api/pandas.DataFrame.combine.html) "
   ]
  },
  {
   "cell_type": "code",
   "execution_count": 66,
   "metadata": {},
   "outputs": [
    {
     "data": {
      "text/html": [
       "<div>\n",
       "<style scoped>\n",
       "    .dataframe tbody tr th:only-of-type {\n",
       "        vertical-align: middle;\n",
       "    }\n",
       "\n",
       "    .dataframe tbody tr th {\n",
       "        vertical-align: top;\n",
       "    }\n",
       "\n",
       "    .dataframe thead th {\n",
       "        text-align: right;\n",
       "    }\n",
       "</style>\n",
       "<table border=\"1\" class=\"dataframe\">\n",
       "  <thead>\n",
       "    <tr style=\"text-align: right;\">\n",
       "      <th></th>\n",
       "      <th>A</th>\n",
       "      <th>B</th>\n",
       "    </tr>\n",
       "  </thead>\n",
       "  <tbody>\n",
       "    <tr>\n",
       "      <th>0</th>\n",
       "      <td>1</td>\n",
       "      <td>2</td>\n",
       "    </tr>\n",
       "    <tr>\n",
       "      <th>1</th>\n",
       "      <td>0</td>\n",
       "      <td>3</td>\n",
       "    </tr>\n",
       "  </tbody>\n",
       "</table>\n",
       "</div>"
      ],
      "text/plain": [
       "   A  B\n",
       "0  1  2\n",
       "1  0  3"
      ]
     },
     "execution_count": 66,
     "metadata": {},
     "output_type": "execute_result"
    }
   ],
   "source": [
    "# Exemple : 2 df que l'on rassemble en ne gardant que les plus petites valeurs\n",
    "df1 = pd.DataFrame({'A': [5, 0], 'B': [2, 4]})\n",
    "df2 = pd.DataFrame({'A': [1, 1], 'B': [3, 3]})\n",
    "df1.combine(df2, np.minimum)"
   ]
  },
  {
   "cell_type": "markdown",
   "metadata": {},
   "source": [
    "<span style='line-height:1.5;font-size: 17px;font-family:\"Times New Roman\"'>\n",
    "\n",
    "_Concat et merge_\n",
    "\n",
    "On peut utilier les fonctions .concat et .merge pour rassembler plusieurs dataframes n'ayant que quelques variables en commun, ou pour les empiler etc..."
   ]
  },
  {
   "cell_type": "code",
   "execution_count": 68,
   "metadata": {},
   "outputs": [
    {
     "data": {
      "text/html": [
       "<div>\n",
       "<style scoped>\n",
       "    .dataframe tbody tr th:only-of-type {\n",
       "        vertical-align: middle;\n",
       "    }\n",
       "\n",
       "    .dataframe tbody tr th {\n",
       "        vertical-align: top;\n",
       "    }\n",
       "\n",
       "    .dataframe thead th {\n",
       "        text-align: right;\n",
       "    }\n",
       "</style>\n",
       "<table border=\"1\" class=\"dataframe\">\n",
       "  <thead>\n",
       "    <tr style=\"text-align: right;\">\n",
       "      <th></th>\n",
       "      <th>index</th>\n",
       "      <th>A</th>\n",
       "      <th>B</th>\n",
       "      <th>C</th>\n",
       "      <th>D</th>\n",
       "    </tr>\n",
       "  </thead>\n",
       "  <tbody>\n",
       "    <tr>\n",
       "      <th>0</th>\n",
       "      <td>0</td>\n",
       "      <td>5</td>\n",
       "      <td>2</td>\n",
       "      <td>1.0</td>\n",
       "      <td>NaN</td>\n",
       "    </tr>\n",
       "    <tr>\n",
       "      <th>1</th>\n",
       "      <td>1</td>\n",
       "      <td>0</td>\n",
       "      <td>4</td>\n",
       "      <td>2.0</td>\n",
       "      <td>NaN</td>\n",
       "    </tr>\n",
       "    <tr>\n",
       "      <th>2</th>\n",
       "      <td>0</td>\n",
       "      <td>1</td>\n",
       "      <td>3</td>\n",
       "      <td>NaN</td>\n",
       "      <td>1.0</td>\n",
       "    </tr>\n",
       "    <tr>\n",
       "      <th>3</th>\n",
       "      <td>1</td>\n",
       "      <td>1</td>\n",
       "      <td>3</td>\n",
       "      <td>NaN</td>\n",
       "      <td>2.0</td>\n",
       "    </tr>\n",
       "  </tbody>\n",
       "</table>\n",
       "</div>"
      ],
      "text/plain": [
       "   index  A  B    C    D\n",
       "0      0  5  2  1.0  NaN\n",
       "1      1  0  4  2.0  NaN\n",
       "2      0  1  3  NaN  1.0\n",
       "3      1  1  3  NaN  2.0"
      ]
     },
     "execution_count": 68,
     "metadata": {},
     "output_type": "execute_result"
    }
   ],
   "source": [
    "df1 = pd.DataFrame({'A': [5, 0], 'B': [2, 4], 'C': [1,2]})\n",
    "df2 = pd.DataFrame({'A': [1, 1], 'B': [3, 3], 'D': [1,2]})\n",
    "df1.combine(df2, np.minimum)\n",
    "\n",
    "#Liste de dataframes\n",
    "frames = [df1, df2]\n",
    "\n",
    "#On les rassemble \n",
    "result = pd.concat(frames, sort=False)\n",
    "\n",
    "#On réinitialise les indice\n",
    "    # Note : pour supprimer les anciens indices, mettre en option drop=True\n",
    "result.reset_index()"
   ]
  },
  {
   "cell_type": "code",
   "execution_count": 70,
   "metadata": {},
   "outputs": [
    {
     "data": {
      "text/html": [
       "<div>\n",
       "<style scoped>\n",
       "    .dataframe tbody tr th:only-of-type {\n",
       "        vertical-align: middle;\n",
       "    }\n",
       "\n",
       "    .dataframe tbody tr th {\n",
       "        vertical-align: top;\n",
       "    }\n",
       "\n",
       "    .dataframe thead th {\n",
       "        text-align: right;\n",
       "    }\n",
       "</style>\n",
       "<table border=\"1\" class=\"dataframe\">\n",
       "  <thead>\n",
       "    <tr style=\"text-align: right;\">\n",
       "      <th></th>\n",
       "      <th>A</th>\n",
       "      <th>B</th>\n",
       "      <th>C</th>\n",
       "      <th>D</th>\n",
       "    </tr>\n",
       "  </thead>\n",
       "  <tbody>\n",
       "    <tr>\n",
       "      <th>0</th>\n",
       "      <td>1</td>\n",
       "      <td>3</td>\n",
       "      <td>NaN</td>\n",
       "      <td>1.0</td>\n",
       "    </tr>\n",
       "    <tr>\n",
       "      <th>1</th>\n",
       "      <td>1</td>\n",
       "      <td>3</td>\n",
       "      <td>NaN</td>\n",
       "      <td>2.0</td>\n",
       "    </tr>\n",
       "    <tr>\n",
       "      <th>0</th>\n",
       "      <td>5</td>\n",
       "      <td>2</td>\n",
       "      <td>1.0</td>\n",
       "      <td>NaN</td>\n",
       "    </tr>\n",
       "    <tr>\n",
       "      <th>1</th>\n",
       "      <td>0</td>\n",
       "      <td>4</td>\n",
       "      <td>2.0</td>\n",
       "      <td>NaN</td>\n",
       "    </tr>\n",
       "  </tbody>\n",
       "</table>\n",
       "</div>"
      ],
      "text/plain": [
       "   A  B    C    D\n",
       "0  1  3  NaN  1.0\n",
       "1  1  3  NaN  2.0\n",
       "0  5  2  1.0  NaN\n",
       "1  0  4  2.0  NaN"
      ]
     },
     "execution_count": 70,
     "metadata": {},
     "output_type": "execute_result"
    }
   ],
   "source": [
    "#Fonctionne aussi avec .append\n",
    "    # L'option sort sert à trier ou non les colonnes par ordre alphabétique\n",
    "df2.append(df1, sort=True)"
   ]
  },
  {
   "cell_type": "markdown",
   "metadata": {},
   "source": [
    "<span style='line-height:1.5;font-size: 17px;font-family:\"Times New Roman\"'>\n",
    "\n",
    "Merge fonctionne sensiblement de la même manière. L'avantage de merge est que l'on peut spécifier la varaible clef autour de laquelle on souhaite rassembler les données (les individus etc...). Cette fonctionnalité concerne principalement la concatenation de dataframes ayant une variable commune (la clef) et plusieurs variables différentes."
   ]
  },
  {
   "cell_type": "code",
   "execution_count": 76,
   "metadata": {},
   "outputs": [
    {
     "data": {
      "text/html": [
       "<div>\n",
       "<style scoped>\n",
       "    .dataframe tbody tr th:only-of-type {\n",
       "        vertical-align: middle;\n",
       "    }\n",
       "\n",
       "    .dataframe tbody tr th {\n",
       "        vertical-align: top;\n",
       "    }\n",
       "\n",
       "    .dataframe thead th {\n",
       "        text-align: right;\n",
       "    }\n",
       "</style>\n",
       "<table border=\"1\" class=\"dataframe\">\n",
       "  <thead>\n",
       "    <tr style=\"text-align: right;\">\n",
       "      <th></th>\n",
       "      <th>A</th>\n",
       "      <th>B</th>\n",
       "      <th>C</th>\n",
       "      <th>D</th>\n",
       "      <th>E</th>\n",
       "    </tr>\n",
       "  </thead>\n",
       "  <tbody>\n",
       "    <tr>\n",
       "      <th>0</th>\n",
       "      <td>0</td>\n",
       "      <td>2</td>\n",
       "      <td>1</td>\n",
       "      <td>3</td>\n",
       "      <td>1</td>\n",
       "    </tr>\n",
       "    <tr>\n",
       "      <th>1</th>\n",
       "      <td>1</td>\n",
       "      <td>4</td>\n",
       "      <td>2</td>\n",
       "      <td>3</td>\n",
       "      <td>2</td>\n",
       "    </tr>\n",
       "  </tbody>\n",
       "</table>\n",
       "</div>"
      ],
      "text/plain": [
       "   A  B  C  D  E\n",
       "0  0  2  1  3  1\n",
       "1  1  4  2  3  2"
      ]
     },
     "execution_count": 76,
     "metadata": {},
     "output_type": "execute_result"
    }
   ],
   "source": [
    "df1 = pd.DataFrame({'A': [0, 1], 'B': [2, 4], 'C': [1,2]})\n",
    "df2 = pd.DataFrame({'A': [0, 1], 'D': [3, 3], 'E': [1,2]})\n",
    "\n",
    "result = pd.merge(df1, df2, on='A')\n",
    "result"
   ]
  },
  {
   "cell_type": "markdown",
   "metadata": {},
   "source": [
    "<span style='line-height:1.5;font-size: 17px;font-family:\"Times New Roman\"'>\n",
    "\n",
    "### Quelques statistiques descriptives avec pandas <font color='blue' size=\"1.5\"><i>[Plan du cours](#plan)</i></font>\n",
    "<a id='p324'></a>\n",
    "\n",
    "La librairie pandas seule permet de mener quelques visualisations de données."
   ]
  },
  {
   "cell_type": "code",
   "execution_count": 70,
   "metadata": {},
   "outputs": [
    {
     "data": {
      "text/html": [
       "<div>\n",
       "<style scoped>\n",
       "    .dataframe tbody tr th:only-of-type {\n",
       "        vertical-align: middle;\n",
       "    }\n",
       "\n",
       "    .dataframe tbody tr th {\n",
       "        vertical-align: top;\n",
       "    }\n",
       "\n",
       "    .dataframe thead th {\n",
       "        text-align: right;\n",
       "    }\n",
       "</style>\n",
       "<table border=\"1\" class=\"dataframe\">\n",
       "  <thead>\n",
       "    <tr style=\"text-align: right;\">\n",
       "      <th></th>\n",
       "      <th>C</th>\n",
       "      <th>D</th>\n",
       "    </tr>\n",
       "  </thead>\n",
       "  <tbody>\n",
       "    <tr>\n",
       "      <th>count</th>\n",
       "      <td>8.000000</td>\n",
       "      <td>8.000000</td>\n",
       "    </tr>\n",
       "    <tr>\n",
       "      <th>mean</th>\n",
       "      <td>-0.372402</td>\n",
       "      <td>0.055892</td>\n",
       "    </tr>\n",
       "    <tr>\n",
       "      <th>std</th>\n",
       "      <td>1.277658</td>\n",
       "      <td>1.366362</td>\n",
       "    </tr>\n",
       "    <tr>\n",
       "      <th>min</th>\n",
       "      <td>-2.056714</td>\n",
       "      <td>-2.379149</td>\n",
       "    </tr>\n",
       "    <tr>\n",
       "      <th>25%</th>\n",
       "      <td>-1.290311</td>\n",
       "      <td>-0.381910</td>\n",
       "    </tr>\n",
       "    <tr>\n",
       "      <th>50%</th>\n",
       "      <td>-0.504999</td>\n",
       "      <td>0.600537</td>\n",
       "    </tr>\n",
       "    <tr>\n",
       "      <th>75%</th>\n",
       "      <td>0.810805</td>\n",
       "      <td>0.934603</td>\n",
       "    </tr>\n",
       "    <tr>\n",
       "      <th>max</th>\n",
       "      <td>1.152544</td>\n",
       "      <td>1.313618</td>\n",
       "    </tr>\n",
       "  </tbody>\n",
       "</table>\n",
       "</div>"
      ],
      "text/plain": [
       "              C         D\n",
       "count  8.000000  8.000000\n",
       "mean  -0.372402  0.055892\n",
       "std    1.277658  1.366362\n",
       "min   -2.056714 -2.379149\n",
       "25%   -1.290311 -0.381910\n",
       "50%   -0.504999  0.600537\n",
       "75%    0.810805  0.934603\n",
       "max    1.152544  1.313618"
      ]
     },
     "execution_count": 70,
     "metadata": {},
     "output_type": "execute_result"
    }
   ],
   "source": [
    "# Les statistiques descriptives basiques\n",
    "df.describe()"
   ]
  },
  {
   "cell_type": "code",
   "execution_count": 75,
   "metadata": {},
   "outputs": [
    {
     "data": {
      "text/html": [
       "<div>\n",
       "<style scoped>\n",
       "    .dataframe tbody tr th:only-of-type {\n",
       "        vertical-align: middle;\n",
       "    }\n",
       "\n",
       "    .dataframe tbody tr th {\n",
       "        vertical-align: top;\n",
       "    }\n",
       "\n",
       "    .dataframe thead th {\n",
       "        text-align: right;\n",
       "    }\n",
       "</style>\n",
       "<table border=\"1\" class=\"dataframe\">\n",
       "  <thead>\n",
       "    <tr style=\"text-align: right;\">\n",
       "      <th></th>\n",
       "      <th>C</th>\n",
       "      <th>D</th>\n",
       "    </tr>\n",
       "  </thead>\n",
       "  <tbody>\n",
       "    <tr>\n",
       "      <th>C</th>\n",
       "      <td>1.000000</td>\n",
       "      <td>0.026919</td>\n",
       "    </tr>\n",
       "    <tr>\n",
       "      <th>D</th>\n",
       "      <td>0.026919</td>\n",
       "      <td>1.000000</td>\n",
       "    </tr>\n",
       "  </tbody>\n",
       "</table>\n",
       "</div>"
      ],
      "text/plain": [
       "          C         D\n",
       "C  1.000000  0.026919\n",
       "D  0.026919  1.000000"
      ]
     },
     "execution_count": 75,
     "metadata": {},
     "output_type": "execute_result"
    }
   ],
   "source": [
    "# La table des corrélations\n",
    "df.corr()"
   ]
  },
  {
   "cell_type": "code",
   "execution_count": 74,
   "metadata": {},
   "outputs": [
    {
     "data": {
      "text/plain": [
       "<matplotlib.axes._subplots.AxesSubplot at 0x1c8fd7d8d30>"
      ]
     },
     "execution_count": 74,
     "metadata": {},
     "output_type": "execute_result"
    },
    {
     "data": {
      "image/png": "[encoded data removed]",
      "text/plain": [
       "<Figure size 432x288 with 1 Axes>"
      ]
     },
     "metadata": {
      "needs_background": "light"
     },
     "output_type": "display_data"
    }
   ],
   "source": [
    "# On peut également faire le graphique d'une variable depuis pandas directement\n",
    "df['C'].plot()"
   ]
  },
  {
   "cell_type": "markdown",
   "metadata": {},
   "source": [
    "<hr style=\" border: 2.5px solid black;\">\n",
    "<br>\n",
    "<span style='line-height:1.5;font-size: 17px;font-family:\"Times New Roman\"'>\n",
    "\n",
    "#  Statistiques descriptives, seaborn et matplotlib  <font color='blue' size=\"1.5\"><i>[Plan du cours](#plan)</i></font>\n",
    "<a id='p4'></a>\n",
    "\n",
    "La statistique descriptive EST le point de départ de toute analyse économétrique. Nous présentons ici quelques éléments de base."
   ]
  },
  {
   "cell_type": "markdown",
   "metadata": {},
   "source": [
    "<span style='line-height:1.5;font-size: 17px;font-family:\"Times New Roman\"'>\n",
    "\n",
    "## Statistiques descriptives <font color='blue' size=\"1.5\"><i>[Plan du cours](#plan)</i></font>\n",
    "<a id='p41'></a>"
   ]
  },
  {
   "cell_type": "code",
   "execution_count": 49,
   "metadata": {},
   "outputs": [],
   "source": [
    "df = pd.DataFrame({'Année': [2000, 2001, 2002, 2003, 2004, 2005, 2006, 2007, 2008, 2009, 2010, 2011,\n",
    "                            2012, 2013, 2014, 2015, 2016, 2017, 2018, 2019], \n",
    "                    'Var1': np.random.normal(0,1,20), \n",
    "                    'Var2': np.random.uniform(0,100,20)})"
   ]
  },
  {
   "cell_type": "markdown",
   "metadata": {},
   "source": [
    "<span style='line-height:1.5;font-size: 17px;font-family:\"Times New Roman\"'>\n",
    "\n",
    "Quelques statistiques descritpives basiques"
   ]
  },
  {
   "cell_type": "code",
   "execution_count": 50,
   "metadata": {},
   "outputs": [
    {
     "name": "stdout",
     "output_type": "stream",
     "text": [
      "0.010353409454396879\n",
      "1.5\n"
     ]
    }
   ],
   "source": [
    "#Moyenne sur dataframe\n",
    "print(df['Var1'].mean())\n",
    "#Ou sur liste avec numpy\n",
    "print(np.mean([1,2]))"
   ]
  },
  {
   "cell_type": "markdown",
   "metadata": {},
   "source": [
    "<span style='line-height:1.5;font-size: 17px;font-family:\"Times New Roman\"'>\n",
    "\n",
    "__Exercice__ : reproduire les deux lignes de codes de la cellule précédente mais pour afficher l'écart type"
   ]
  },
  {
   "cell_type": "code",
   "execution_count": null,
   "metadata": {},
   "outputs": [],
   "source": []
  },
  {
   "cell_type": "code",
   "execution_count": 51,
   "metadata": {},
   "outputs": [
    {
     "name": "stdout",
     "output_type": "stream",
     "text": [
      "[[ 1. -1.]\n",
      " [-1.  1.]]\n",
      "[[ 1.         -0.23654643]\n",
      " [-0.23654643  1.        ]]\n"
     ]
    }
   ],
   "source": [
    "# On a vu comment afficher les corrélations avec pandas. On peut aussi passer par numpy\n",
    "    # L'output est un array\n",
    "print(np.corrcoef([1,2],[2,1]))\n",
    "\n",
    "#On peut bien entendu l'appliquer à des variables de dataframe (même si ce n'est pas le plus pratique)\n",
    "print(np.corrcoef(df['Var1'],df['Var2']))"
   ]
  },
  {
   "cell_type": "markdown",
   "metadata": {},
   "source": [
    "<span style='line-height:1.5;font-size: 17px;font-family:\"Times New Roman\"'>\n",
    "\n",
    "Pour l'affichage des statistiques descriptives de base, se référer aux outils de Pandas (corrélations, moyenne, écart type, etc...). \n",
    "\n",
    "__Attention__ : cette partie reste néanmoins très importante, il ne faut pas hésiter à consulter la documentation de pandas pour trouver les commandes qui vous intéressent.\n",
    "\n",
    "Ce qui va nous intéresser principalement ici, est la visualisation des données."
   ]
  },
  {
   "cell_type": "markdown",
   "metadata": {},
   "source": [
    "<span style='line-height:1.5;font-size: 17px;font-family:\"Times New Roman\"'>\n",
    "\n",
    "##  Visualisation des données <font color='blue' size=\"1.5\"><i>[Plan du cours](#plan)</i></font>\n",
    "<a id='p42'></a>\n",
    "\n",
    "Pour la visualisation des données nous utiliserons principalement deux librairies : matplotlib et seaborn"
   ]
  },
  {
   "cell_type": "code",
   "execution_count": 2,
   "metadata": {},
   "outputs": [],
   "source": [
    "import matplotlib.pyplot as plt\n",
    "import seaborn as sns"
   ]
  },
  {
   "cell_type": "markdown",
   "metadata": {},
   "source": [
    "<span style='line-height:1.5;font-size: 17px;font-family:\"Times New Roman\"'>\n",
    "\n",
    "### Graphique - courbes <font color='blue' size=\"1.5\"><i>[Plan du cours](#plan)</i></font>\n",
    "<a id='p421'></a>\n",
    "\n",
    "Il est très souvent intéressant de représenter l'évolution d'une série, particulièrement en série temporelle. Voici ci-dessous un exemple de courbe.\n",
    "\n",
    "Encore une fois, il existe de nombreuses façons de réaliser des représentations graphiques. Il faut donc impérativement consulter les documentations et forums pour trouver la représentation la plus pertinente."
   ]
  },
  {
   "cell_type": "code",
   "execution_count": 30,
   "metadata": {},
   "outputs": [],
   "source": [
    "#Définir un style de graphique avec seaborn\n",
    "sns.set_style(\"darkgrid\")"
   ]
  },
  {
   "cell_type": "code",
   "execution_count": 29,
   "metadata": {},
   "outputs": [
    {
     "data": {
      "image/png": "[encoded data removed]",
      "text/plain": [
       "<Figure size 720x360 with 1 Axes>"
      ]
     },
     "metadata": {},
     "output_type": "display_data"
    }
   ],
   "source": [
    "#Définir la taille du graphique (utile surtout pour la sauvegarde)\n",
    "plt.rcParams['figure.figsize'] = (10,5)\n",
    "\n",
    "#Titre (fontsize est une option spécifiant la taille)\n",
    "plt.title('Number of banks by year',fontsize=24)\n",
    "\n",
    "#Ploter les variables (X,Y) : variables de dataframes, listes, array etc... \n",
    "plt.plot(df['Année'],df['Var1'])\n",
    "\n",
    "#Spécifier les légendes sur les axes\n",
    "plt.ylabel('Variable aléatoire uniforme',fontsize=20)\n",
    "plt.xlabel('Années',fontsize=18)\n",
    "\n",
    "#Régler la taille des marqueurs (\"tickers\")\n",
    "plt.xticks(fontsize=16)\n",
    "plt.yticks(fontsize=16)\n",
    "\n",
    "#Sauvegarder la figure : plt.savefig(path + 'Nom_De_La_Figure.png')\n",
    "\n",
    "#Optionnel : pour un affichage propre\n",
    "plt.show()"
   ]
  },
  {
   "cell_type": "code",
   "execution_count": 42,
   "metadata": {},
   "outputs": [
    {
     "data": {
      "image/png": "[encoded data removed]",
      "text/plain": [
       "<Figure size 720x360 with 1 Axes>"
      ]
     },
     "metadata": {},
     "output_type": "display_data"
    }
   ],
   "source": [
    "#Même code, on ajoute simplement deux éléments :\n",
    "    #Un argument optionnel pour convertir les années en entier dans l'axe des abscisses\n",
    "    #Une ligne verticale rouge pour marquer 2008, la crise\n",
    "    \n",
    "from matplotlib.ticker import MaxNLocator      #Pour la conversion en entier des abscisses\n",
    "\n",
    "#Optionnel : pour convertir les années en abscisse\n",
    "ax = plt.figure().gca()\n",
    "ax.xaxis.set_major_locator(MaxNLocator(integer=True))\n",
    "\n",
    "#Définir la taille du graphique (utile surtout pour la sauvegarde)\n",
    "plt.rcParams['figure.figsize'] = (10,5)\n",
    "\n",
    "#Titre (fontsize est une option spécifiant la taille)\n",
    "plt.title('Number of banks by year',fontsize=24)\n",
    "\n",
    "#polter les variables (X,Y) : variables de dataframes, listes, array etc... \n",
    "plt.plot(df['Année'],df['Var1'])\n",
    "\n",
    "#Ligne verticale rouge pour la crise\n",
    "plt.axvline(x=2008,c='red')\n",
    "\n",
    "\n",
    "#Spécifier les légendes sur les axes\n",
    "plt.ylabel('Variable aléatoire uniforme',fontsize=20)\n",
    "plt.xlabel('Années',fontsize=18)\n",
    "\n",
    "#Régler la taille des légendes d'axes\n",
    "plt.xticks(fontsize=16)\n",
    "plt.yticks(fontsize=16)\n",
    "\n",
    "\n",
    "\n",
    "#Sauvegarder la figure : plt.savefig(path + 'Nom_De_La_Figure.png')\n",
    "\n",
    "#Optionnel : pour un affichage propre\n",
    "plt.show()"
   ]
  },
  {
   "cell_type": "markdown",
   "metadata": {},
   "source": [
    "<span style='line-height:1.5;font-size: 17px;font-family:\"Times New Roman\"'>\n",
    "\n",
    "### Histogramme et densité <font color='blue' size=\"1.5\"><i>[Plan du cours](#plan)</i></font>\n",
    "<a id='p422'></a>"
   ]
  },
  {
   "cell_type": "code",
   "execution_count": 77,
   "metadata": {},
   "outputs": [
    {
     "data": {
      "image/png": "[encoded data removed]",
      "text/plain": [
       "<Figure size 720x360 with 1 Axes>"
      ]
     },
     "metadata": {},
     "output_type": "display_data"
    }
   ],
   "source": [
    "#Histogramme\n",
    "x = np.random.normal(0,1,1000)\n",
    "\n",
    "plt.hist(x, 50, facecolor='g', alpha=0.75)\n",
    "\n",
    "plt.xlabel('Values',fontsize=12)\n",
    "plt.ylabel('Number of observations', fontsize=12)\n",
    "plt.title('Histogram of 1000 observations of a normal', fontsize=15)\n",
    "\n",
    "plt.show()"
   ]
  },
  {
   "cell_type": "code",
   "execution_count": 82,
   "metadata": {},
   "outputs": [
    {
     "data": {
      "image/png": "[encoded data removed]",
      "text/plain": [
       "<Figure size 720x360 with 1 Axes>"
      ]
     },
     "metadata": {},
     "output_type": "display_data"
    }
   ],
   "source": [
    "#Densité\n",
    "sns.kdeplot(x, shade=True, color=\"r\")\n",
    "\n",
    "\n",
    "plt.xlabel('Values',fontsize=12)\n",
    "plt.ylabel('Probability', fontsize=12)\n",
    "plt.title('Histogram of 1000 observations of a normal', fontsize=15)\n",
    "\n",
    "plt.show()"
   ]
  },
  {
   "cell_type": "code",
   "execution_count": 100,
   "metadata": {},
   "outputs": [
    {
     "data": {
      "image/png": "[encoded data removed]",
      "text/plain": [
       "<Figure size 720x360 with 2 Axes>"
      ]
     },
     "metadata": {},
     "output_type": "display_data"
    }
   ],
   "source": [
    "#Avec deux échelles : changer le style des graphiques (sinon, supperposition de deux grilles)\n",
    "sns.set_style(\"dark\")\n",
    "\n",
    "fig, ax1 = plt.subplots()\n",
    "\n",
    "ax1.set_xlabel('Values', fontsize=15)\n",
    "\n",
    "ax1.set_ylabel('Histogramme', fontsize=15)\n",
    "plt.hist(x, 50, facecolor='g', alpha=0.50) \n",
    "\n",
    "\n",
    "ax2 = ax1.twinx()  # Pour faire partager le même axe des abscisses aux deux graphiques\n",
    "\n",
    "ax2.set_ylabel('Densité', fontsize=15)  \n",
    "sns.kdeplot(x, shade=True, color=\"r\")\n",
    "\n",
    "\n",
    "fig.tight_layout()  # Ajustement des axes\n",
    "plt.show()"
   ]
  },
  {
   "cell_type": "markdown",
   "metadata": {},
   "source": [
    "<span style='line-height:1.5;font-size: 17px;font-family:\"Times New Roman\"'>\n",
    "\n",
    "### Nuage de points <font color='blue' size=\"1.5\"><i>[Plan du cours](#plan)</i></font>\n",
    "<a id='p423'></a>\n",
    "\n",
    "Nous présentons ici le nuage de point le plus basic. Pour plus de détails et d'options, voir la documentation : https://matplotlib.org/3.1.1/api/_as_gen/matplotlib.pyplot.scatter.html"
   ]
  },
  {
   "cell_type": "code",
   "execution_count": 104,
   "metadata": {},
   "outputs": [],
   "source": [
    "#Génération des données à partir d'une loi normale\n",
    "x = np.random.normal(0,1,1000)\n",
    "y = np.random.normal(0,1,1000)"
   ]
  },
  {
   "cell_type": "code",
   "execution_count": 105,
   "metadata": {},
   "outputs": [
    {
     "data": {
      "image/png": "[encoded data removed]",
      "text/plain": [
       "<Figure size 720x360 with 1 Axes>"
      ]
     },
     "metadata": {},
     "output_type": "display_data"
    }
   ],
   "source": [
    "plt.scatter(x, y)\n",
    "plt.show()"
   ]
  },
  {
   "cell_type": "markdown",
   "metadata": {},
   "source": [
    "### Hitmap <font color='blue' size=\"1.5\"><i>[Plan du cours](#plan)</i></font>\n",
    "<a id='p424'></a>"
   ]
  },
  {
   "cell_type": "code",
   "execution_count": 111,
   "metadata": {},
   "outputs": [],
   "source": [
    "x,y,z,k,l,m = np.random.normal(0,1,1000),np.random.normal(0,1,1000),np.random.normal(0,1,1000),np.random.normal(0,1,1000),np.random.normal(0,1,1000),np.random.normal(0,1,1000),\n",
    "df = pd.DataFrame({'x':x,'y':y,'z':z,'k':k,'l':l,'m':m})"
   ]
  },
  {
   "cell_type": "code",
   "execution_count": 113,
   "metadata": {},
   "outputs": [],
   "source": [
    "# fonction de matplotlib à importer pour la définition des couleurs de la hitmap\n",
    "from matplotlib import cm "
   ]
  },
  {
   "cell_type": "code",
   "execution_count": 115,
   "metadata": {},
   "outputs": [
    {
     "data": {
      "image/png": "[encoded data removed]",
      "text/plain": [
       "<Figure size 1440x720 with 2 Axes>"
      ]
     },
     "metadata": {},
     "output_type": "display_data"
    }
   ],
   "source": [
    "plt.rcParams['figure.figsize'] = (20,10)\n",
    "\n",
    "#Les données que l'on souhaite étudier (ici la table de corrélation des variables du dataframe df)\n",
    "corr = df.corr()\n",
    "\n",
    "#Définition des tailles\n",
    "f,ax = plt.subplots(figsize=(20, 10))\n",
    "f.subplots_adjust(top = 0.95, bottom = 0.35,hspace=0.4, right=1, left=0)\n",
    "\n",
    "#Définition des couleurs de la hitmap\n",
    "cmap = cm.seismic\n",
    "\n",
    "#Création de l'objet \n",
    "sns.heatmap(corr, cmap=cmap, center=0,\n",
    "            square=True, vmin=-1, linewidths=.5)\n",
    "\n",
    "plt.show()"
   ]
  },
  {
   "cell_type": "markdown",
   "metadata": {},
   "source": [
    "<hr style=\" border: 2.5px solid black;\">\n",
    "<br>\n",
    "\n",
    "<span style='line-height:1.5;font-size: 17px;font-family:\"Times New Roman\"'>\n",
    "\n",
    "# Comment se documenter ? <font color='blue' size=\"1.5\"><i>[Plan du cours](#plan)</i></font>\n",
    "<a id='p5'></a>"
   ]
  },
  {
   "cell_type": "markdown",
   "metadata": {},
   "source": [
    "<span style='line-height:1.5;font-size: 17px;font-family:\"Times New Roman\"'>\n",
    "\n",
    "Si vous êtes bloqués face a un bout de code, n'hésitez pas a le decomposer : repérez les fonctions, les arguments, les types pour comprendre !\n",
    "\n",
    "A l'inverse si vous souhaitez implémenter une idée, vous pouvez questionner google. Ou l'implémenter vous même, pour l'exercice, et rechercher si une solution plus simple et efficace existe !\n",
    "\n",
    "Si vous utilisez un package en particulier, essayez, avant toutes autre recherches, de regarder la documentation du package. C'est souvent le meilleur moyen de comprendre les erreurs communes."
   ]
  },
  {
   "cell_type": "markdown",
   "metadata": {},
   "source": [
    "<span style='line-height:1.5;font-size: 17px;font-family:\"Times New Roman\"'>\n",
    "\n",
    "## StackOverFlow <font color='blue' size=\"1.5\"><i>[Plan du cours](#plan)</i></font>\n",
    "<a id='p51'></a>"
   ]
  },
  {
   "cell_type": "markdown",
   "metadata": {},
   "source": [
    "<span style='line-height:1.5;font-size: 17px;font-family:\"Times New Roman\"'>\n",
    "\n",
    "Les résultats de vos recherches vous amèneront très souvent sur des forums. Le plus connu et utilisé est StackOverFlow (si vous faites votre recherche en anglais, recommandé !).\n",
    "\n",
    "Si vous avez besoin d'aide sur un sujet spécifique il ne faut pas hésiter à poser des questions sur les forums.\n",
    "Attention néanmoins, les utilisateurs du forums ne seront pas sympas avec vous si vous n'avez pas effectué une recherche suffisament approfondie avant de poser votre question !\n",
    "\n",
    "99% du temps votre question aura déjà été posée par un autre membre de la communauté.\n",
    "\n",
    "https://stackoverflow.com/\n",
    "\n"
   ]
  },
  {
   "cell_type": "markdown",
   "metadata": {},
   "source": [
    "<span style='line-height:1.5;font-size: 17px;font-family:\"Times New Roman\"'>\n",
    "\n",
    "## GitHub & assimilés <font color='blue' size=\"1.5\"><i>[Plan du cours](#plan)</i></font>\n",
    "<a id='p52'></a>\n",
    "\n",
    "Vous tomberez souvent sur Github ou BitBucket lors de vos recherches ; il s'agit de sites web permettant aux développeurs (pas seulement en Python) d'héberger leurs projets et codes. Quand les projets sont d'une certaine taille et sont collaboratifs, il est nécessaire d'avoir un gestionnaire de version. Pour github ce service de gestion de version est assuré par son outil \"git\".\n",
    "\n",
    "La plupart des modules Python (packages) sont hébergés sur GitHub. Cela permet également aux membres de la communauté et utilisateurs de ces packages de communiquer sur d'éventuelles améliorations ou erreurs détectées.\n",
    "\n",
    "Exemple : \n",
    "\n",
    "Numpy : https://github.com/numpy/numpy\n",
    "Pandas : https://github.com/pandas-dev/pandas\n",
    "\n",
    "Ce cours à une version sur github : https://github.com/BrahmsEcoX/Cours-Python-Projet"
   ]
  }
 ],
 "metadata": {
  "kernelspec": {
   "display_name": "Python 3 (ipykernel)",
   "language": "python",
   "name": "python3"
  },
  "language_info": {
   "codemirror_mode": {
    "name": "ipython",
    "version": 3
   },
   "file_extension": ".py",
   "mimetype": "text/x-python",
   "name": "python",
   "nbconvert_exporter": "python",
   "pygments_lexer": "ipython3",
   "version": "3.11.4"
  },
  "toc": {
   "base_numbering": 1,
   "nav_menu": {},
   "number_sections": true,
   "sideBar": true,
   "skip_h1_title": false,
   "title_cell": "Table of Contents",
   "title_sidebar": "Contents",
   "toc_cell": false,
   "toc_position": {},
   "toc_section_display": true,
   "toc_window_display": true
  },
  "varInspector": {
   "cols": {
    "lenName": 16,
    "lenType": 16,
    "lenVar": 40
   },
   "kernels_config": {
    "python": {
     "delete_cmd_postfix": "",
     "delete_cmd_prefix": "del ",
     "library": "var_list.py",
     "varRefreshCmd": "print(var_dic_list())"
    },
    "r": {
     "delete_cmd_postfix": ") ",
     "delete_cmd_prefix": "rm(",
     "library": "var_list.r",
     "varRefreshCmd": "cat(var_dic_list()) "
    }
   },
   "types_to_exclude": [
    "module",
    "function",
    "builtin_function_or_method",
    "instance",
    "_Feature"
   ],
   "window_display": false
  }
 },
 "nbformat": 4,
 "nbformat_minor": 2
}
