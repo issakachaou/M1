{
 "cells": [
  {
   "cell_type": "markdown",
   "metadata": {},
   "source": [
    "<span style='line-height:1.5;font-size: 17px;font-family:\"Times New Roman\"'>\n",
    "\n",
    "\n",
    "<b><center><font size=\"6\">Introduction à python - Séance 1</font></center></b>\n",
    "\n",
    "<b><center><font size=\"6\">Introduction générale</font></center></b>\n",
    "    \n",
    "<g><h7><center> CM - P. Durand  - pierre.alexis.durand@hotmail.fr </center></h7></g>\n",
    "\n",
    "\n",
    "\n",
    "<b><center><font size=\"5\">M1 - 2024-2025</font></center></b> \n",
    "\n",
    "\n",
    "\n",
    "</span>"
   ]
  },
  {
   "cell_type": "markdown",
   "metadata": {},
   "source": [
    "<span style='line-height:1.5;font-size: 17px;font-family:\"Times New Roman\"'>\n",
    "\n",
    "<hr style=\" border: 2.5px solid black;\">\n",
    "<br>\n",
    "\n",
    "#### Obcjectif du cours !\n",
    "Le présent cours-TD a pour double objectif:\n",
    "\n",
    "- Proposer une première approche du language python via l'interface Jupyter Notebook (Vous y êtes !) \n",
    "- Utiliser Python pour traiter les données et mettre en application les notions d'économétrie vues en Licence.\n",
    "<br>\n",
    "\n",
    "    \n",
    "#### Logique de fonctionnement du cours\n",
    "    \n",
    "- Coder, coder, coder\n"
   ]
  },
  {
   "cell_type": "markdown",
   "metadata": {},
   "source": [
    "<span style='line-height:1.5;font-size: 17px;font-family:\"Times New Roman\"'>\n",
    "\n",
    "<hr style=\" border: 2.5px solid black;\">\n",
    "<br>\n",
    "\n",
    "#### Pourquoi Python ? \n",
    "Python est LE language du moment ! Pour énumérer les quelques raisons à son succès :\n",
    "- Complètement Open-Source\n",
    "- Multi-Plateforme (Disponible gratuitement sur Windows, Mac, Linux, IOS, Android ...)\n",
    "- Multi-tâche (AI, ML, Automation, Traitement de données, Statistiques, Modélisation, Scrapping, Création de Site Web, de jeux videos, ...)\n",
    "- Gestionnaire de Package mature (nous reviendrons plus loin à la notion de package)\n",
    "- Moins de lignes de code pour un même résultat (comparativement à d'autres langages)\n",
    "- Documentation très fournie, communauté très active\n",
    "- Très simple à apprendre !\n",
    "- ...\n",
    "\n",
    "Quelques liens à ce propos : \n",
    "\n",
    "https://hackernoon.com/8-top-programming-languages-frameworks-of-2019-2f08d2d21a1\n",
    "https://jaxenter.com/stack-overflow-dev-survey-2019-157815.html\n",
    "\n",
    "#### Portée générale de ce cours\n",
    "<p style=\"text-align: justify;\">L'intérêt ici, nous semble t-il, est de fournir à l'étudiant les outils lui permettant de se saisir d'autres languages de programmation. Un langage suffisament simple comme Python permet de comprendre les bases de l'algorithmique très rapidement, et ainsi d'aborder un champ disciplinaire tout aussi rapidement (pour nous l'économétrie).</p>\n",
    "\n",
    "<p style=\"text-align: justify;\">L'apprentissage de Python doit être considéré plus comme une langue étrangère que comme celui d'un outil hautement spécialisé.</p>\n",
    "<p style=\"text-align: justify;\">C'est une compétence générale qui est très appréciée en entreprise : ce language intéragit simplement avec les bases de données et les sacro-saints fichiers excel. Il est même possible de créer des fonctions python utilisables directement dans excel, à la place du VBA. </p> <a href=https://www.xlwings.org> https://www.xlwings.org</a>"
   ]
  },
  {
   "cell_type": "markdown",
   "metadata": {},
   "source": [
    "<span style='line-height:1.5;font-size: 17px;font-family:\"Times New Roman\"'>\n",
    "\n",
    "<hr style=\" border: 2.5px solid black;\">\n",
    "<br>\n",
    "\n",
    "#### D'autres language existent ? \n",
    "Il existe d'autres languages se prétant parfaitement aux travaux d'économistes/statisticiens.\n",
    "Parmi les plus connus : R, Matlab, Stata, Sas, Eviews...\n",
    "\n",
    "Parmi ces languages, certains sont propriétaires (Matlab, Stata, SAS, Eviews) et spécialisés (Stata, Eviews). \n",
    "Pour notre usage en économétrie, R est d'une très grande qualité, mais ici notre parti pris est de vous présenter un langage réellement généraliste."
   ]
  },
  {
   "cell_type": "markdown",
   "metadata": {},
   "source": [
    "<span style='line-height:1.5;font-size: 17px;font-family:\"Times New Roman\"'>\n",
    "\n",
    "<hr style=\" border: 2.5px solid black;\">\n",
    "<br>\n",
    "\n",
    "#### Organisation du cours \n",
    "Ce cours aura lieu en salle informatique en 10 séances.\n",
    "\n",
    "<p style=\"text-align: justify;\">Nous utiliserons Python 3.6.X.X. </p>\n",
    "\n",
    "Lien pour aide a l'installation : https://mrmint.fr/installer-environnement-python-machine-learning-anaconda\n",
    "\n",
    "Le cours et les exercices seront disponibles au format 'IpythonNotebook', .ipynb (présenté plus bas).\n"
   ]
  },
  {
   "cell_type": "markdown",
   "metadata": {},
   "source": [
    "<span style='line-height:1.5;font-size: 17px;font-family:\"Times New Roman\"'>\n",
    "\n",
    "<hr style=\" border: 2.5px solid black;\">\n",
    "<br>\n",
    "\n",
    "#### Plan du cours\n",
    "<br>\n",
    "\n",
    "- Partie I : introduction et appréhension du langage python (3 à 4 séances)\n",
    "    - Présentation de \"Premiers pas sous python\"\n",
    "    - Présentation de concepts en python\n",
    "    - Exercices pratiques\n",
    "    \n",
    "- Partie II : apprendre à coder (5 à 6 séances)\n",
    "    - Fonctions\n",
    "    - Algorithmie et mathématiques \n",
    "    - Bases de données avancé\n",
    "    - $\\Rightarrow$ présentation théorique puis exercices pratiques\n",
    "    \n",
    "- Partie III : projets sous python (1 à 2 séances)\n",
    "    - $\\Rightarrow$ en cours de modification\n",
    "    - coder en python avec ChatGPT\n",
    "    - évaluer un projet sous python\n",
    "\n",
    "<br>\n",
    "\n",
    "\n",
    "\n",
    "\n"
   ]
  },
  {
   "cell_type": "markdown",
   "metadata": {},
   "source": [
    "<span style='line-height:1.5;font-size: 17px;font-family:\"Times New Roman\"'>\n",
    "\n",
    "<hr style=\" border: 2.5px solid black;\">\n",
    "<br>\n",
    "\n",
    "Pratiquer avec code wars : https://www.codewars.com/dashboard\n",
    "\n",
    "\n",
    "<br>\n",
    "\n",
    "\n"
   ]
  }
 ],
 "metadata": {
  "celltoolbar": "Format de la Cellule Texte Brut",
  "kernelspec": {
   "display_name": "Python 3 (ipykernel)",
   "language": "python",
   "name": "python3"
  },
  "language_info": {
   "codemirror_mode": {
    "name": "ipython",
    "version": 3
   },
   "file_extension": ".py",
   "mimetype": "text/x-python",
   "name": "python",
   "nbconvert_exporter": "python",
   "pygments_lexer": "ipython3",
   "version": "3.11.4"
  },
  "stem_cell": {
   "cell_type": "raw",
   "metadata": {
    "pycharm": {
     "metadata": false
    }
   },
   "source": ""
  },
  "toc": {
   "base_numbering": 1,
   "nav_menu": {},
   "number_sections": true,
   "sideBar": true,
   "skip_h1_title": false,
   "title_cell": "Table of Contents",
   "title_sidebar": "Contents",
   "toc_cell": false,
   "toc_position": {},
   "toc_section_display": true,
   "toc_window_display": false
  },
  "varInspector": {
   "cols": {
    "lenName": 16,
    "lenType": 16,
    "lenVar": 40
   },
   "kernels_config": {
    "python": {
     "delete_cmd_postfix": "",
     "delete_cmd_prefix": "del ",
     "library": "var_list.py",
     "varRefreshCmd": "print(var_dic_list())"
    },
    "r": {
     "delete_cmd_postfix": ") ",
     "delete_cmd_prefix": "rm(",
     "library": "var_list.r",
     "varRefreshCmd": "cat(var_dic_list()) "
    }
   },
   "types_to_exclude": [
    "module",
    "function",
    "builtin_function_or_method",
    "instance",
    "_Feature"
   ],
   "window_display": false
  }
 },
 "nbformat": 4,
 "nbformat_minor": 1
}
