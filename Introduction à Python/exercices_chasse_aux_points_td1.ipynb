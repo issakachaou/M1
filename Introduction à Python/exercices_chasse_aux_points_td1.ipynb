{
 "cells": [
  {
   "cell_type": "markdown",
   "id": "4bd0ae93",
   "metadata": {},
   "source": [
    "<span style='line-height:1.5;font-size: 17px;font-family:\"Times New Roman\"'>\n",
    "\n",
    "\n",
    "<b><center><font size=\"6\">La chasse aux points</font></center></b>\n",
    "\n",
    "<b><center><font size=\"6\">Exercices de fin de séance</font></center></b>\n",
    "    \n",
    "<g><h7><center> CM - P. Durand  - pierre.alexis.durand@hotmail.fr </center></h7></g>\n",
    "\n",
    "\n",
    "\n",
    "<b><center><font size=\"5\">M1 - 2024-2025</font></center></b> \n",
    "\n",
    "\n",
    "\n",
    "</span>"
   ]
  },
  {
   "cell_type": "markdown",
   "id": "f332abf4",
   "metadata": {},
   "source": [
    "<span style='line-height:1.5;font-size: 17px;font-family:\"Times New Roman\"'>\n",
    "\n",
    "<hr style=\" border: .5px solid black;\">\n",
    "\n",
    "<b>Consignes</b> : \n",
    "- résoudre les exercices\n",
    "- une fois terminés, appeler le prof\n",
    "\n",
    "    \n",
    "\n",
    "<hr style=\" border: .5px solid black;\">\n",
    "\n",
    "# Série 2\n",
    "    \n",
    "## TD1\n",
    "    \n",
    "<hr style=\" border: .5px solid black;\">\n",
    "    \n",
    "<br>\n",
    "\n",
    "<b>Exercice 1</b> : proposer un code permettant de compter le nombre de phrases dans un texte.\n",
    "\n",
    "<br>\n",
    "\n",
    "<b>Exercice 2</b> : dans une liste contenant des integer et des strings, proposer un code permettant de faire la somme des integer.\n",
    "    \n",
    "<br>"
   ]
  },
  {
   "cell_type": "markdown",
   "id": "80100859",
   "metadata": {},
   "source": [
    "<span style='line-height:1.5;font-size: 17px;font-family:\"Times New Roman\"'>\n",
    "\n",
    "\n",
    "    \n",
    "\n",
    "<hr style=\" border: .5px solid black;\">\n",
    "\n",
    "# Série 3\n",
    "    \n",
    "## TD1\n",
    "    \n",
    "<hr style=\" border: .5px solid black;\">\n",
    "    \n",
    "<br>\n",
    "\n",
    "<b>Exercice 1</b> : Coder une fonction prenant deux np.array (`X` et `y`) et renvoyant les paramètres estimés $\\hat{\\beta}_{MCO}$.\n",
    "\n",
    "<br>\n",
    "\n",
    "<b>Exercice 2</b> : Coder une fonction renvoyant la sommes des entiers présents dans une liste composée uniquement d'entiers.\n",
    "    \n",
    "<br>\n",
    "\n",
    "<b>Exercice 3</b> : Coder une fonction permettant de calculer la somme des entiers de `i` à `N`.\n",
    "    \n",
    "<br>"
   ]
  },
  {
   "cell_type": "code",
   "execution_count": 4,
   "id": "58158b84",
   "metadata": {},
   "outputs": [],
   "source": [
    "import numpy as np\n",
    "\n",
    "def beta_mco(X,y):\n",
    "    # X et y doivent être de np\n",
    "    x_t=X.T\n",
    "    xtx_1= np.linalg.inv(x_t @ X)\n",
    "    beta_hat= xtx_1 @ x_t @ y\n",
    "    return beta_hat"
   ]
  },
  {
   "cell_type": "code",
   "execution_count": 5,
   "id": "3bba794a",
   "metadata": {},
   "outputs": [],
   "source": [
    "def somme_list(l):\n",
    "    return sum(l)"
   ]
  },
  {
   "cell_type": "code",
   "execution_count": 6,
   "id": "e584eec4",
   "metadata": {},
   "outputs": [],
   "source": [
    "def somme_entier(i,N):\n",
    "    somme=0\n",
    "    for i in range(i,N+1):\n",
    "        somme+=i\n",
    "        return somme       "
   ]
  }
 ],
 "metadata": {
  "kernelspec": {
   "display_name": "Python 3 (ipykernel)",
   "language": "python",
   "name": "python3"
  },
  "language_info": {
   "codemirror_mode": {
    "name": "ipython",
    "version": 3
   },
   "file_extension": ".py",
   "mimetype": "text/x-python",
   "name": "python",
   "nbconvert_exporter": "python",
   "pygments_lexer": "ipython3",
   "version": "3.11.4"
  },
  "toc": {
   "base_numbering": 1,
   "nav_menu": {},
   "number_sections": true,
   "sideBar": true,
   "skip_h1_title": false,
   "title_cell": "Table of Contents",
   "title_sidebar": "Contents",
   "toc_cell": false,
   "toc_position": {},
   "toc_section_display": true,
   "toc_window_display": true
  },
  "varInspector": {
   "cols": {
    "lenName": 16,
    "lenType": 16,
    "lenVar": 40
   },
   "kernels_config": {
    "python": {
     "delete_cmd_postfix": "",
     "delete_cmd_prefix": "del ",
     "library": "var_list.py",
     "varRefreshCmd": "print(var_dic_list())"
    },
    "r": {
     "delete_cmd_postfix": ") ",
     "delete_cmd_prefix": "rm(",
     "library": "var_list.r",
     "varRefreshCmd": "cat(var_dic_list()) "
    }
   },
   "types_to_exclude": [
    "module",
    "function",
    "builtin_function_or_method",
    "instance",
    "_Feature"
   ],
   "window_display": false
  }
 },
 "nbformat": 4,
 "nbformat_minor": 5
}
