{
 "cells": [
  {
   "cell_type": "markdown",
   "id": "4bd0ae93",
   "metadata": {},
   "source": [
    "<span style='line-height:1.5;font-size: 17px;font-family:\"Times New Roman\"'>\n",
    "\n",
    "\n",
    "<b><center><font size=\"6\">La chasse aux points</font></center></b>\n",
    "\n",
    "<b><center><font size=\"6\">Exercices de fin de séance</font></center></b>\n",
    "    \n",
    "<g><h7><center> CM - P. Durand  - pierre.alexis.durand@hotmail.fr </center></h7></g>\n",
    "\n",
    "\n",
    "\n",
    "<b><center><font size=\"5\">M1 - 2024-2025</font></center></b> \n",
    "\n",
    "\n",
    "\n",
    "</span>"
   ]
  },
  {
   "cell_type": "markdown",
   "id": "f332abf4",
   "metadata": {},
   "source": [
    "<span style='line-height:1.5;font-size: 17px;font-family:\"Times New Roman\"'>\n",
    "\n",
    "<hr style=\" border: .5px solid black;\">\n",
    "\n",
    "<b>Consignes</b> : \n",
    "- résoudre les exercices\n",
    "- une fois terminés, appeler le prof\n",
    "\n",
    "    \n",
    "\n",
    "<hr style=\" border: .5px solid black;\">\n",
    "\n",
    "# Série 2\n",
    "    \n",
    "## TD1\n",
    "    \n",
    "<hr style=\" border: .5px solid black;\">\n",
    "    \n",
    "<br>\n",
    "\n",
    "<b>Exercice 1</b> : proposer un code permettant de compter le nombre de phrases dans un texte.\n",
    "\n",
    "<br>\n",
    "\n",
    "<b>Exercice 2</b> : dans une liste contenant des integer et des strings, proposer un code permettant de faire la somme des integer.\n",
    "    \n",
    "<br>"
   ]
  },
  {
   "cell_type": "markdown",
   "id": "80100859",
   "metadata": {},
   "source": [
    "<span style='line-height:1.5;font-size: 17px;font-family:\"Times New Roman\"'>\n",
    "\n",
    "\n",
    "    \n",
    "\n",
    "<hr style=\" border: .5px solid black;\">\n",
    "\n",
    "# Série 3\n",
    "    \n",
    "## TD1\n",
    "    \n",
    "<hr style=\" border: .5px solid black;\">\n",
    "    \n",
    "<br>\n",
    "\n",
    "<b>Exercice 1</b> : Coder une fonction prenant deux np.array (`X` et `y`) et renvoyant les paramètres estimés $\\hat{\\beta}_{MCO}$.\n",
    "\n",
    "<br>\n",
    "\n",
    "<b>Exercice 2</b> : Coder une fonction renvoyant la sommes des entiers présents dans une liste composée uniquement d'entiers.\n",
    "    \n",
    "<br>\n",
    "\n",
    "<b>Exercice 3</b> : Coder une fonction permettant de calculer la somme des entiers de `i` à `N`.\n",
    "    \n",
    "<br>"
   ]
  },
  {
   "cell_type": "markdown",
   "id": "77d86ddc",
   "metadata": {},
   "source": [
    "<span style='line-height:1.5;font-size: 17px;font-family:\"Times New Roman\"'>\n",
    "\n",
    "\n",
    "    \n",
    "\n",
    "<hr style=\" border: .5px solid black;\">\n",
    "\n",
    "# Série 4\n",
    "    \n",
    "## TD1\n",
    "    \n",
    "<hr style=\" border: .5px solid black;\">\n",
    "    \n",
    "<br>\n",
    "\n",
    "<b>Exercice 1</b> : Coder une fonction permettant de changer le format d'un numéro de téléphone (`str`). Exemple : \"01-64-10-15-25\" deviendra \"+331-6410-1525\". Les formats des numéros de départ et d'arrivée seront toujours les mêmes.\n",
    "\n",
    "<br>\n",
    "\n",
    "<b>Exercice 2</b> : Coder une fonction prenant un dataframe et un numero de colonne. La fonction devra renvoyer le dataframe avec une nouvelle variable : le taux de croissance de la colonne donnée en paramètre (numero). Le dataframe retourné ne devra contenir aucune valeur manquante. \n",
    "    \n",
    "<br>"
   ]
  },
  {
   "cell_type": "code",
   "execution_count": 42,
   "id": "978d5acb",
   "metadata": {},
   "outputs": [
    {
     "name": "stdout",
     "output_type": "stream",
     "text": [
      "['1', '64', '10', '15', '25']\n",
      "164101525\n"
     ]
    },
    {
     "data": {
      "text/plain": [
       "'+331-64-10-15-25'"
      ]
     },
     "execution_count": 42,
     "metadata": {},
     "output_type": "execute_result"
    }
   ],
   "source": [
    "n = \"01-64-10-15-25\"\n",
    "\n",
    "n = n[1:] #drop 0\n",
    "\n",
    "n = n.split('-') # drop le \"-\"\n",
    "print(n)\n",
    "\n",
    "x = \"\".join(n) # rejoint les chiffres\n",
    "\n",
    "print(x)\n",
    "\n",
    "for i in x :\n",
    "    if i < 4\n",
    "    \n",
    "\n",
    "#nb = \"+33\" + n\n",
    "nb"
   ]
  }
 ],
 "metadata": {
  "kernelspec": {
   "display_name": "Python 3 (ipykernel)",
   "language": "python",
   "name": "python3"
  },
  "language_info": {
   "codemirror_mode": {
    "name": "ipython",
    "version": 3
   },
   "file_extension": ".py",
   "mimetype": "text/x-python",
   "name": "python",
   "nbconvert_exporter": "python",
   "pygments_lexer": "ipython3",
   "version": "3.11.4"
  },
  "toc": {
   "base_numbering": 1,
   "nav_menu": {},
   "number_sections": true,
   "sideBar": true,
   "skip_h1_title": false,
   "title_cell": "Table of Contents",
   "title_sidebar": "Contents",
   "toc_cell": false,
   "toc_position": {},
   "toc_section_display": true,
   "toc_window_display": true
  },
  "varInspector": {
   "cols": {
    "lenName": 16,
    "lenType": 16,
    "lenVar": 40
   },
   "kernels_config": {
    "python": {
     "delete_cmd_postfix": "",
     "delete_cmd_prefix": "del ",
     "library": "var_list.py",
     "varRefreshCmd": "print(var_dic_list())"
    },
    "r": {
     "delete_cmd_postfix": ") ",
     "delete_cmd_prefix": "rm(",
     "library": "var_list.r",
     "varRefreshCmd": "cat(var_dic_list()) "
    }
   },
   "types_to_exclude": [
    "module",
    "function",
    "builtin_function_or_method",
    "instance",
    "_Feature"
   ],
   "window_display": false
  }
 },
 "nbformat": 4,
 "nbformat_minor": 5
}
